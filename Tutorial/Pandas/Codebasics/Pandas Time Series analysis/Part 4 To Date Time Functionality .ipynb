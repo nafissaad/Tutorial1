{
 "cells": [
  {
   "cell_type": "code",
   "execution_count": 1,
   "id": "5787a9dc",
   "metadata": {},
   "outputs": [
    {
     "data": {
      "text/plain": [
       "DatetimeIndex(['2017-01-05', '2017-01-05', '2017-01-05', '2017-01-05',\n",
       "               '2017-01-05'],\n",
       "              dtype='datetime64[ns]', freq=None)"
      ]
     },
     "execution_count": 1,
     "metadata": {},
     "output_type": "execute_result"
    }
   ],
   "source": [
    "import pandas as pd\n",
    "\n",
    "dates=['2017-01-05','jan 5,2017','2017.01.05','2017/01/05','20170105']\n",
    "pd.to_datetime(dates)"
   ]
  },
  {
   "cell_type": "code",
   "execution_count": 2,
   "id": "78d6cfbb",
   "metadata": {},
   "outputs": [
    {
     "data": {
      "text/plain": [
       "Timestamp('2017-01-05 00:00:00')"
      ]
     },
     "execution_count": 2,
     "metadata": {},
     "output_type": "execute_result"
    }
   ],
   "source": [
    "pd.to_datetime('5/1/2017',dayfirst=True)"
   ]
  },
  {
   "cell_type": "code",
   "execution_count": 3,
   "id": "81b3430f",
   "metadata": {},
   "outputs": [
    {
     "data": {
      "text/plain": [
       "Timestamp('2017-01-05 00:00:00')"
      ]
     },
     "execution_count": 3,
     "metadata": {},
     "output_type": "execute_result"
    }
   ],
   "source": [
    "pd.to_datetime('5$1$2017',format='%d$%m$%Y')"
   ]
  },
  {
   "cell_type": "code",
   "execution_count": 4,
   "id": "ab88a855",
   "metadata": {},
   "outputs": [
    {
     "data": {
      "text/plain": [
       "Index(['2017-01-05', 'jan 5,2017', '2017.01.05', '2017/01/05', '20170105',\n",
       "       'abc'],\n",
       "      dtype='object')"
      ]
     },
     "execution_count": 4,
     "metadata": {},
     "output_type": "execute_result"
    }
   ],
   "source": [
    "dates=['2017-01-05','jan 5,2017','2017.01.05','2017/01/05','20170105','abc']\n",
    "pd.to_datetime(dates,errors='ignore')"
   ]
  },
  {
   "cell_type": "code",
   "execution_count": 5,
   "id": "cb223adc",
   "metadata": {},
   "outputs": [
    {
     "data": {
      "text/plain": [
       "DatetimeIndex(['2017-01-05', '2017-01-05', '2017-01-05', '2017-01-05',\n",
       "               '2017-01-05', 'NaT'],\n",
       "              dtype='datetime64[ns]', freq=None)"
      ]
     },
     "execution_count": 5,
     "metadata": {},
     "output_type": "execute_result"
    }
   ],
   "source": [
    "dates=['2017-01-05','jan 5,2017','2017.01.05','2017/01/05','20170105','abc']\n",
    "pd.to_datetime(dates,errors='coerce')"
   ]
  },
  {
   "cell_type": "code",
   "execution_count": 6,
   "id": "9a8eb9ec",
   "metadata": {},
   "outputs": [
    {
     "data": {
      "text/plain": [
       "Timestamp('1970-01-01 00:00:01.501356749')"
      ]
     },
     "execution_count": 6,
     "metadata": {},
     "output_type": "execute_result"
    }
   ],
   "source": [
    "t=1501356749\n",
    "pd.to_datetime(t)"
   ]
  },
  {
   "cell_type": "code",
   "execution_count": 7,
   "id": "f00c6420",
   "metadata": {},
   "outputs": [
    {
     "data": {
      "text/plain": [
       "Timestamp('2017-07-29 19:32:29')"
      ]
     },
     "execution_count": 7,
     "metadata": {},
     "output_type": "execute_result"
    }
   ],
   "source": [
    "pd.to_datetime(t,unit='s')"
   ]
  },
  {
   "cell_type": "code",
   "execution_count": 8,
   "id": "1318fd7a",
   "metadata": {},
   "outputs": [
    {
     "data": {
      "text/plain": [
       "DatetimeIndex(['2017-07-29 19:32:29'], dtype='datetime64[ns]', freq=None)"
      ]
     },
     "execution_count": 8,
     "metadata": {},
     "output_type": "execute_result"
    }
   ],
   "source": [
    "pd.to_datetime([t],unit='s')"
   ]
  },
  {
   "cell_type": "code",
   "execution_count": 9,
   "id": "28160d16",
   "metadata": {},
   "outputs": [
    {
     "data": {
      "text/plain": [
       "array([1501356749000000000], dtype=int64)"
      ]
     },
     "execution_count": 9,
     "metadata": {},
     "output_type": "execute_result"
    }
   ],
   "source": [
    "dt=pd.to_datetime([t],unit='s')\n",
    "dt.view('int64')"
   ]
  },
  {
   "cell_type": "code",
   "execution_count": null,
   "id": "1de239cc",
   "metadata": {},
   "outputs": [],
   "source": []
  }
 ],
 "metadata": {
  "kernelspec": {
   "display_name": "Python 3 (ipykernel)",
   "language": "python",
   "name": "python3"
  },
  "language_info": {
   "codemirror_mode": {
    "name": "ipython",
    "version": 3
   },
   "file_extension": ".py",
   "mimetype": "text/x-python",
   "name": "python",
   "nbconvert_exporter": "python",
   "pygments_lexer": "ipython3",
   "version": "3.7.3"
  }
 },
 "nbformat": 4,
 "nbformat_minor": 5
}

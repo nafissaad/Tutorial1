{
 "cells": [
  {
   "cell_type": "code",
   "execution_count": 1,
   "id": "5caf67d7",
   "metadata": {},
   "outputs": [],
   "source": [
    "# Find the average of the numbers in given list."
   ]
  },
  {
   "cell_type": "code",
   "execution_count": 2,
   "id": "5ca1080d",
   "metadata": {},
   "outputs": [],
   "source": [
    "list1=[12,34,67,78]"
   ]
  },
  {
   "cell_type": "code",
   "execution_count": 3,
   "id": "fc364bae",
   "metadata": {},
   "outputs": [
    {
     "data": {
      "text/plain": [
       "[12, 34, 67, 78]"
      ]
     },
     "execution_count": 3,
     "metadata": {},
     "output_type": "execute_result"
    }
   ],
   "source": [
    "list1"
   ]
  },
  {
   "cell_type": "code",
   "execution_count": 4,
   "id": "b0627353",
   "metadata": {},
   "outputs": [
    {
     "data": {
      "text/plain": [
       "191"
      ]
     },
     "execution_count": 4,
     "metadata": {},
     "output_type": "execute_result"
    }
   ],
   "source": [
    "sum_of_list=sum(list1)\n",
    "sum_of_list"
   ]
  },
  {
   "cell_type": "code",
   "execution_count": 5,
   "id": "dbb809a0",
   "metadata": {},
   "outputs": [
    {
     "data": {
      "text/plain": [
       "4"
      ]
     },
     "execution_count": 5,
     "metadata": {},
     "output_type": "execute_result"
    }
   ],
   "source": [
    "no_of_elements=len(list1)\n",
    "no_of_elements"
   ]
  },
  {
   "cell_type": "code",
   "execution_count": 6,
   "id": "352f8116",
   "metadata": {},
   "outputs": [
    {
     "data": {
      "text/plain": [
       "47.75"
      ]
     },
     "execution_count": 6,
     "metadata": {},
     "output_type": "execute_result"
    }
   ],
   "source": [
    "avr=sum_of_list/no_of_elements\n",
    "avr"
   ]
  }
 ],
 "metadata": {
  "kernelspec": {
   "display_name": "Python 3 (ipykernel)",
   "language": "python",
   "name": "python3"
  },
  "language_info": {
   "codemirror_mode": {
    "name": "ipython",
    "version": 3
   },
   "file_extension": ".py",
   "mimetype": "text/x-python",
   "name": "python",
   "nbconvert_exporter": "python",
   "pygments_lexer": "ipython3",
   "version": "3.7.3"
  }
 },
 "nbformat": 4,
 "nbformat_minor": 5
}

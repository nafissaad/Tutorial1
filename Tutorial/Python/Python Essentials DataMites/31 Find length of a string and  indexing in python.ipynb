{
 "cells": [
  {
   "cell_type": "code",
   "execution_count": 1,
   "id": "6eb03269",
   "metadata": {},
   "outputs": [],
   "source": [
    "#Determine the Length of the string s.\n",
    "#How does the length of a string relate to its indexing?\n",
    "strl='Python is an open_source language.'"
   ]
  },
  {
   "cell_type": "code",
   "execution_count": 3,
   "id": "3678dfc6",
   "metadata": {},
   "outputs": [
    {
     "name": "stdout",
     "output_type": "stream",
     "text": [
      "Python is an open_source language.\n"
     ]
    }
   ],
   "source": [
    "print(strl)"
   ]
  },
  {
   "cell_type": "code",
   "execution_count": 4,
   "id": "5505a3e0",
   "metadata": {},
   "outputs": [
    {
     "data": {
      "text/plain": [
       "34"
      ]
     },
     "execution_count": 4,
     "metadata": {},
     "output_type": "execute_result"
    }
   ],
   "source": [
    "len(strl)"
   ]
  },
  {
   "cell_type": "code",
   "execution_count": 5,
   "id": "bcb13838",
   "metadata": {},
   "outputs": [
    {
     "data": {
      "text/plain": [
       "'.'"
      ]
     },
     "execution_count": 5,
     "metadata": {},
     "output_type": "execute_result"
    }
   ],
   "source": [
    "strl[len(strl)-1]"
   ]
  },
  {
   "cell_type": "code",
   "execution_count": 6,
   "id": "e0151a52",
   "metadata": {},
   "outputs": [
    {
     "data": {
      "text/plain": [
       "'P'"
      ]
     },
     "execution_count": 6,
     "metadata": {},
     "output_type": "execute_result"
    }
   ],
   "source": [
    "strl[len(strl)*-1]"
   ]
  },
  {
   "cell_type": "code",
   "execution_count": 7,
   "id": "38a3531f",
   "metadata": {},
   "outputs": [
    {
     "data": {
      "text/plain": [
       "'Python'"
      ]
     },
     "execution_count": 7,
     "metadata": {},
     "output_type": "execute_result"
    }
   ],
   "source": [
    "strl[:(len(strl)-6)*-1]"
   ]
  }
 ],
 "metadata": {
  "kernelspec": {
   "display_name": "Python 3 (ipykernel)",
   "language": "python",
   "name": "python3"
  },
  "language_info": {
   "codemirror_mode": {
    "name": "ipython",
    "version": 3
   },
   "file_extension": ".py",
   "mimetype": "text/x-python",
   "name": "python",
   "nbconvert_exporter": "python",
   "pygments_lexer": "ipython3",
   "version": "3.7.3"
  }
 },
 "nbformat": 4,
 "nbformat_minor": 5
}

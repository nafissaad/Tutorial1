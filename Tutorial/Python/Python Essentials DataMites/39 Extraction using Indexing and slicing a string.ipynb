{
 "cells": [
  {
   "cell_type": "code",
   "execution_count": 1,
   "id": "1a3f89d0",
   "metadata": {},
   "outputs": [],
   "source": [
    "#From the set of strings available ,use indexing and slicing to\n",
    "# create a list of the condidates hired\n",
    "str1='jack Wayne hired Tony.'\n",
    "str2='Dell hired Abraham.'\n",
    "str3='Intel hired Mohan'\n",
    "str4='Walsh Group hired Mohan.'\n",
    "str5='John Deere hired Isha.'"
   ]
  },
  {
   "cell_type": "code",
   "execution_count": 2,
   "id": "00114cb9",
   "metadata": {},
   "outputs": [],
   "source": [
    "s1=str1.rstrip('.')\n",
    "s2=str2.rstrip('.')\n",
    "s3=str3.rstrip('.')\n",
    "s4=str4.rstrip('.')\n",
    "s5=str5.rstrip('.')"
   ]
  },
  {
   "cell_type": "code",
   "execution_count": 3,
   "id": "b97133e8",
   "metadata": {},
   "outputs": [
    {
     "data": {
      "text/plain": [
       "'jack Wayne hired Tony'"
      ]
     },
     "execution_count": 3,
     "metadata": {},
     "output_type": "execute_result"
    }
   ],
   "source": [
    "s1"
   ]
  },
  {
   "cell_type": "code",
   "execution_count": 4,
   "id": "649ec63f",
   "metadata": {},
   "outputs": [
    {
     "data": {
      "text/plain": [
       "11"
      ]
     },
     "execution_count": 4,
     "metadata": {},
     "output_type": "execute_result"
    }
   ],
   "source": [
    "s1.index('hired')"
   ]
  },
  {
   "cell_type": "code",
   "execution_count": 5,
   "id": "3fdc3036",
   "metadata": {},
   "outputs": [
    {
     "data": {
      "text/plain": [
       "17"
      ]
     },
     "execution_count": 5,
     "metadata": {},
     "output_type": "execute_result"
    }
   ],
   "source": [
    "ind_s1=s1.index('hired')+len('hired')+1\n",
    "ind_s1"
   ]
  },
  {
   "cell_type": "code",
   "execution_count": 6,
   "id": "8005ce93",
   "metadata": {},
   "outputs": [
    {
     "data": {
      "text/plain": [
       "'Tony'"
      ]
     },
     "execution_count": 6,
     "metadata": {},
     "output_type": "execute_result"
    }
   ],
   "source": [
    "s1[ind_s1:]"
   ]
  },
  {
   "cell_type": "code",
   "execution_count": 7,
   "id": "ece414ed",
   "metadata": {},
   "outputs": [
    {
     "data": {
      "text/plain": [
       "'h'"
      ]
     },
     "execution_count": 7,
     "metadata": {},
     "output_type": "execute_result"
    }
   ],
   "source": [
    "s1[11]"
   ]
  },
  {
   "cell_type": "code",
   "execution_count": 8,
   "id": "022e4f6f",
   "metadata": {},
   "outputs": [],
   "source": [
    "ind_s1=s1.index('hired')+len('hired')+1\n",
    "ind_s2=s2.index('hired')+len('hired')+1\n",
    "ind_s3=s3.index('hired')+len('hired')+1\n",
    "ind_s4=s4.index('hired')+len('hired')+1\n",
    "ind_s5=s5.index('hired')+len('hired')+1\n",
    "ind_s5=s5.index('hired')+len('hired')+1"
   ]
  },
  {
   "cell_type": "code",
   "execution_count": 9,
   "id": "94090738",
   "metadata": {},
   "outputs": [],
   "source": [
    "s1,s2,s3,s4,s5=s1[ind_s1:],s2[ind_s2:],s3[ind_s3:],s4[ind_s4:],s5[ind_s5:]"
   ]
  },
  {
   "cell_type": "code",
   "execution_count": 10,
   "id": "fa61c594",
   "metadata": {},
   "outputs": [],
   "source": [
    "list_names=[s1,s2,s3,s5]"
   ]
  },
  {
   "cell_type": "code",
   "execution_count": 11,
   "id": "c7901236",
   "metadata": {},
   "outputs": [
    {
     "data": {
      "text/plain": [
       "['Tony', 'Abraham', 'Mohan', 'Isha']"
      ]
     },
     "execution_count": 11,
     "metadata": {},
     "output_type": "execute_result"
    }
   ],
   "source": [
    "list_names"
   ]
  }
 ],
 "metadata": {
  "kernelspec": {
   "display_name": "Python 3 (ipykernel)",
   "language": "python",
   "name": "python3"
  },
  "language_info": {
   "codemirror_mode": {
    "name": "ipython",
    "version": 3
   },
   "file_extension": ".py",
   "mimetype": "text/x-python",
   "name": "python",
   "nbconvert_exporter": "python",
   "pygments_lexer": "ipython3",
   "version": "3.7.3"
  }
 },
 "nbformat": 4,
 "nbformat_minor": 5
}

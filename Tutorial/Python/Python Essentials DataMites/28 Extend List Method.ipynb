{
 "cells": [
  {
   "cell_type": "code",
   "execution_count": 1,
   "id": "f9014f6a",
   "metadata": {},
   "outputs": [],
   "source": [
    "mult_list=[]\n",
    "for i in range(10):\n",
    "    p=3*i\n",
    "    mult_list.append(p)"
   ]
  },
  {
   "cell_type": "code",
   "execution_count": 2,
   "id": "31e6a6f1",
   "metadata": {},
   "outputs": [
    {
     "name": "stdout",
     "output_type": "stream",
     "text": [
      "[0, 3, 6, 9, 12, 15, 18, 21, 24, 27]\n"
     ]
    }
   ],
   "source": [
    "print(mult_list)"
   ]
  },
  {
   "cell_type": "code",
   "execution_count": 3,
   "id": "e06a5e88",
   "metadata": {},
   "outputs": [
    {
     "data": {
      "text/plain": [
       "[0, 3, 6, 9, 12, 15, 18, 21, 24, 27, 30, 33, 36, 39, 42]"
      ]
     },
     "execution_count": 3,
     "metadata": {},
     "output_type": "execute_result"
    }
   ],
   "source": [
    "mult_list.extend([30,33,36,39,42])\n",
    "mult_list"
   ]
  },
  {
   "cell_type": "code",
   "execution_count": 4,
   "id": "a3e1eebb",
   "metadata": {},
   "outputs": [
    {
     "data": {
      "text/plain": [
       "[0, 3, 6, 9, 12, 15, 18, 21, 24, 27, 30, 33, 36, 39, 42, 30, 33, 36, 39, 42]"
      ]
     },
     "execution_count": 4,
     "metadata": {},
     "output_type": "execute_result"
    }
   ],
   "source": [
    "new_mult=[30,33,36,39,42]\n",
    "mult_list.extend(new_mult)\n",
    "mult_list"
   ]
  }
 ],
 "metadata": {
  "kernelspec": {
   "display_name": "Python 3 (ipykernel)",
   "language": "python",
   "name": "python3"
  },
  "language_info": {
   "codemirror_mode": {
    "name": "ipython",
    "version": 3
   },
   "file_extension": ".py",
   "mimetype": "text/x-python",
   "name": "python",
   "nbconvert_exporter": "python",
   "pygments_lexer": "ipython3",
   "version": "3.7.3"
  }
 },
 "nbformat": 4,
 "nbformat_minor": 5
}

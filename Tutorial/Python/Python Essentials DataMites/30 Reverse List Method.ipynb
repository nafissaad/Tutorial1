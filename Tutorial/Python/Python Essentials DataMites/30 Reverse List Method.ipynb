{
 "cells": [
  {
   "cell_type": "code",
   "execution_count": 1,
   "id": "49bb6ea0",
   "metadata": {},
   "outputs": [],
   "source": [
    "#Reverse the order of elements for the given list\n",
    "list=['The','plan',4.5,7,16,'data',8.32]"
   ]
  },
  {
   "cell_type": "code",
   "execution_count": 2,
   "id": "651deb5e",
   "metadata": {},
   "outputs": [
    {
     "name": "stdout",
     "output_type": "stream",
     "text": [
      "[8.32, 'data', 16, 7, 4.5, 'plan', 'The']\n"
     ]
    }
   ],
   "source": [
    "list2=list.copy()\n",
    "list2.reverse()\n",
    "print(list2)"
   ]
  },
  {
   "cell_type": "code",
   "execution_count": 3,
   "id": "156c8acd",
   "metadata": {},
   "outputs": [
    {
     "data": {
      "text/plain": [
       "[8.32, 'data', 16, 7, 4.5, 'plan', 'The']"
      ]
     },
     "execution_count": 3,
     "metadata": {},
     "output_type": "execute_result"
    }
   ],
   "source": [
    "list[::-1]"
   ]
  }
 ],
 "metadata": {
  "kernelspec": {
   "display_name": "Python 3 (ipykernel)",
   "language": "python",
   "name": "python3"
  },
  "language_info": {
   "codemirror_mode": {
    "name": "ipython",
    "version": 3
   },
   "file_extension": ".py",
   "mimetype": "text/x-python",
   "name": "python",
   "nbconvert_exporter": "python",
   "pygments_lexer": "ipython3",
   "version": "3.7.3"
  }
 },
 "nbformat": 4,
 "nbformat_minor": 5
}

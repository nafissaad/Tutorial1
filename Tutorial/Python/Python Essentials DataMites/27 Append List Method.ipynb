{
 "cells": [
  {
   "cell_type": "code",
   "execution_count": 2,
   "id": "f90630c3",
   "metadata": {},
   "outputs": [],
   "source": [
    "powerlist=[]\n",
    "for i in range(11):\n",
    "    p=2**i\n",
    "    powerlist.append(p)"
   ]
  },
  {
   "cell_type": "code",
   "execution_count": 3,
   "id": "073c9803",
   "metadata": {},
   "outputs": [
    {
     "data": {
      "text/plain": [
       "[1, 2, 4, 8, 16, 32, 64, 128, 256, 512, 1024]"
      ]
     },
     "execution_count": 3,
     "metadata": {},
     "output_type": "execute_result"
    }
   ],
   "source": [
    "powerlist"
   ]
  },
  {
   "cell_type": "code",
   "execution_count": null,
   "id": "70364022",
   "metadata": {},
   "outputs": [],
   "source": []
  }
 ],
 "metadata": {
  "kernelspec": {
   "display_name": "Python 3 (ipykernel)",
   "language": "python",
   "name": "python3"
  },
  "language_info": {
   "codemirror_mode": {
    "name": "ipython",
    "version": 3
   },
   "file_extension": ".py",
   "mimetype": "text/x-python",
   "name": "python",
   "nbconvert_exporter": "python",
   "pygments_lexer": "ipython3",
   "version": "3.7.3"
  }
 },
 "nbformat": 4,
 "nbformat_minor": 5
}

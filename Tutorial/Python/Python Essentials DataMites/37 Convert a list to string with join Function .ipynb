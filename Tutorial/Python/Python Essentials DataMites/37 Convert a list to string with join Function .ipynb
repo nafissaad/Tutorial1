{
 "cells": [
  {
   "cell_type": "code",
   "execution_count": 1,
   "id": "a84b302e",
   "metadata": {},
   "outputs": [],
   "source": [
    "#write a program to convert a list into  a string"
   ]
  },
  {
   "cell_type": "code",
   "execution_count": 2,
   "id": "ece29811",
   "metadata": {},
   "outputs": [],
   "source": [
    "list1=['apple','banana','mango']"
   ]
  },
  {
   "cell_type": "code",
   "execution_count": 3,
   "id": "8a022ee4",
   "metadata": {},
   "outputs": [
    {
     "data": {
      "text/plain": [
       "['apple', 'banana', 'mango']"
      ]
     },
     "execution_count": 3,
     "metadata": {},
     "output_type": "execute_result"
    }
   ],
   "source": [
    "list1"
   ]
  },
  {
   "cell_type": "code",
   "execution_count": 4,
   "id": "c63acb8b",
   "metadata": {},
   "outputs": [
    {
     "data": {
      "text/plain": [
       "list"
      ]
     },
     "execution_count": 4,
     "metadata": {},
     "output_type": "execute_result"
    }
   ],
   "source": [
    "type(list1)"
   ]
  },
  {
   "cell_type": "code",
   "execution_count": 6,
   "id": "b4d092a7",
   "metadata": {},
   "outputs": [
    {
     "data": {
      "text/plain": [
       "'apple banana mango'"
      ]
     },
     "execution_count": 6,
     "metadata": {},
     "output_type": "execute_result"
    }
   ],
   "source": [
    "#join()\n",
    "str1=' '.join(list1)\n",
    "str1"
   ]
  },
  {
   "cell_type": "code",
   "execution_count": 7,
   "id": "c3ad4d68",
   "metadata": {},
   "outputs": [
    {
     "data": {
      "text/plain": [
       "str"
      ]
     },
     "execution_count": 7,
     "metadata": {},
     "output_type": "execute_result"
    }
   ],
   "source": [
    "type(str1)"
   ]
  },
  {
   "cell_type": "code",
   "execution_count": 9,
   "id": "5ecf815a",
   "metadata": {},
   "outputs": [],
   "source": [
    "list2=[2,3,4]"
   ]
  },
  {
   "cell_type": "code",
   "execution_count": 11,
   "id": "2cf8458e",
   "metadata": {},
   "outputs": [
    {
     "data": {
      "text/plain": [
       "'2   3   4'"
      ]
     },
     "execution_count": 11,
     "metadata": {},
     "output_type": "execute_result"
    }
   ],
   "source": [
    "list2=' '.join(str(ele) for ele in list2)\n",
    "list2"
   ]
  },
  {
   "cell_type": "code",
   "execution_count": null,
   "id": "1b3a65d7",
   "metadata": {},
   "outputs": [],
   "source": []
  }
 ],
 "metadata": {
  "kernelspec": {
   "display_name": "Python 3 (ipykernel)",
   "language": "python",
   "name": "python3"
  },
  "language_info": {
   "codemirror_mode": {
    "name": "ipython",
    "version": 3
   },
   "file_extension": ".py",
   "mimetype": "text/x-python",
   "name": "python",
   "nbconvert_exporter": "python",
   "pygments_lexer": "ipython3",
   "version": "3.7.3"
  }
 },
 "nbformat": 4,
 "nbformat_minor": 5
}

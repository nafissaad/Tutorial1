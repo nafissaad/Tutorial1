{
 "cells": [
  {
   "cell_type": "code",
   "execution_count": 1,
   "id": "d8629542",
   "metadata": {},
   "outputs": [],
   "source": [
    "number='1923347655123'"
   ]
  },
  {
   "cell_type": "code",
   "execution_count": 2,
   "id": "d5a56673",
   "metadata": {},
   "outputs": [
    {
     "name": "stdout",
     "output_type": "stream",
     "text": [
      "13\n"
     ]
    }
   ],
   "source": [
    "digit_amount=len(str(number))\n",
    "print(digit_amount)"
   ]
  },
  {
   "cell_type": "code",
   "execution_count": 3,
   "id": "42ea29c7",
   "metadata": {},
   "outputs": [],
   "source": [
    "import math"
   ]
  },
  {
   "cell_type": "code",
   "execution_count": 4,
   "id": "7de4ed1d",
   "metadata": {},
   "outputs": [],
   "source": [
    "number=1923347655123"
   ]
  },
  {
   "cell_type": "code",
   "execution_count": 5,
   "id": "dbfea930",
   "metadata": {},
   "outputs": [
    {
     "name": "stdout",
     "output_type": "stream",
     "text": [
      "12.284057792327438\n"
     ]
    }
   ],
   "source": [
    "print(math.log10(number))"
   ]
  },
  {
   "cell_type": "code",
   "execution_count": 6,
   "id": "bb8c6020",
   "metadata": {},
   "outputs": [
    {
     "name": "stdout",
     "output_type": "stream",
     "text": [
      "13\n"
     ]
    }
   ],
   "source": [
    "print(int(math.log10(number))+1)"
   ]
  },
  {
   "cell_type": "code",
   "execution_count": 7,
   "id": "60c79af8",
   "metadata": {},
   "outputs": [
    {
     "name": "stdout",
     "output_type": "stream",
     "text": [
      "5\n"
     ]
    }
   ],
   "source": [
    "number=-2857\n",
    "if number>0:\n",
    "    print(int(math.log10(number))+1)\n",
    "elif number < 0:\n",
    "    print(int(math.log10(-number))+2)\n",
    "else:\n",
    "    print(1)"
   ]
  },
  {
   "cell_type": "code",
   "execution_count": 8,
   "id": "c1dbd8ad",
   "metadata": {},
   "outputs": [
    {
     "name": "stdout",
     "output_type": "stream",
     "text": [
      "17\n"
     ]
    }
   ],
   "source": [
    "number=9999999999999997\n",
    "if number>0:\n",
    "    print(int(math.log10(number))+1)\n",
    "elif number < 0:\n",
    "    print(int(math.log10(-number))+2)\n",
    "else:\n",
    "    print(1)"
   ]
  },
  {
   "cell_type": "code",
   "execution_count": 9,
   "id": "3043b477",
   "metadata": {},
   "outputs": [
    {
     "name": "stdout",
     "output_type": "stream",
     "text": [
      "16\n"
     ]
    }
   ],
   "source": [
    "print(len(str(number)))"
   ]
  },
  {
   "cell_type": "code",
   "execution_count": 10,
   "id": "3c5f3ecf",
   "metadata": {},
   "outputs": [
    {
     "name": "stdout",
     "output_type": "stream",
     "text": [
      "16\n"
     ]
    }
   ],
   "source": [
    "counter=1\n",
    "while abs(number)>=(10**counter):\n",
    "    counter += 1\n",
    "print(counter)"
   ]
  },
  {
   "cell_type": "code",
   "execution_count": 11,
   "id": "5cfe3e80",
   "metadata": {},
   "outputs": [
    {
     "name": "stdout",
     "output_type": "stream",
     "text": [
      "4\n"
     ]
    }
   ],
   "source": [
    "number=-1111\n",
    "counter=1\n",
    "while abs(number)>=(10**counter):\n",
    "    counter += 1\n",
    "print(counter)"
   ]
  },
  {
   "cell_type": "code",
   "execution_count": null,
   "id": "fdbcb601",
   "metadata": {},
   "outputs": [],
   "source": []
  }
 ],
 "metadata": {
  "kernelspec": {
   "display_name": "Python 3 (ipykernel)",
   "language": "python",
   "name": "python3"
  },
  "language_info": {
   "codemirror_mode": {
    "name": "ipython",
    "version": 3
   },
   "file_extension": ".py",
   "mimetype": "text/x-python",
   "name": "python",
   "nbconvert_exporter": "python",
   "pygments_lexer": "ipython3",
   "version": "3.7.3"
  }
 },
 "nbformat": 4,
 "nbformat_minor": 5
}

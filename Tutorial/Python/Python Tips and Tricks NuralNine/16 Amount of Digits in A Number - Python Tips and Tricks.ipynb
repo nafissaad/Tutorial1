{
 "cells": [
  {
   "cell_type": "code",
   "execution_count": 1,
   "id": "1f3a5cd4",
   "metadata": {},
   "outputs": [],
   "source": [
    "number='1923347655123'"
   ]
  },
  {
   "cell_type": "code",
   "execution_count": 2,
   "id": "02fb317b",
   "metadata": {},
   "outputs": [
    {
     "name": "stdout",
     "output_type": "stream",
     "text": [
      "13\n"
     ]
    }
   ],
   "source": [
    "digit_amount=len(str(number))\n",
    "print(digit_amount)"
   ]
  },
  {
   "cell_type": "code",
   "execution_count": 3,
   "id": "dbd70e8f",
   "metadata": {},
   "outputs": [],
   "source": [
    "import math"
   ]
  },
  {
   "cell_type": "code",
   "execution_count": 4,
   "id": "d77de141",
   "metadata": {},
   "outputs": [],
   "source": [
    "number=1923347655123"
   ]
  },
  {
   "cell_type": "code",
   "execution_count": 5,
   "id": "1e51c955",
   "metadata": {},
   "outputs": [
    {
     "name": "stdout",
     "output_type": "stream",
     "text": [
      "12.284057792327438\n"
     ]
    }
   ],
   "source": [
    "print(math.log10(number))"
   ]
  },
  {
   "cell_type": "code",
   "execution_count": 6,
   "id": "4ea3dfde",
   "metadata": {},
   "outputs": [
    {
     "name": "stdout",
     "output_type": "stream",
     "text": [
      "13\n"
     ]
    }
   ],
   "source": [
    "print(int(math.log10(number))+1)"
   ]
  },
  {
   "cell_type": "code",
   "execution_count": 7,
   "id": "b744e0ff",
   "metadata": {},
   "outputs": [
    {
     "name": "stdout",
     "output_type": "stream",
     "text": [
      "5\n"
     ]
    }
   ],
   "source": [
    "number=-2857\n",
    "if number>0:\n",
    "    print(int(math.log10(number))+1)\n",
    "elif number < 0:\n",
    "    print(int(math.log10(-number))+2)\n",
    "else:\n",
    "    print(1)"
   ]
  },
  {
   "cell_type": "code",
   "execution_count": 8,
   "id": "728f3fbc",
   "metadata": {},
   "outputs": [
    {
     "name": "stdout",
     "output_type": "stream",
     "text": [
      "17\n"
     ]
    }
   ],
   "source": [
    "number=9999999999999997\n",
    "if number>0:\n",
    "    print(int(math.log10(number))+1)\n",
    "elif number < 0:\n",
    "    print(int(math.log10(-number))+2)\n",
    "else:\n",
    "    print(1)"
   ]
  },
  {
   "cell_type": "code",
   "execution_count": 9,
   "id": "19afdb9f",
   "metadata": {},
   "outputs": [
    {
     "name": "stdout",
     "output_type": "stream",
     "text": [
      "16\n"
     ]
    }
   ],
   "source": [
    "print(len(str(number)))"
   ]
  },
  {
   "cell_type": "code",
   "execution_count": 10,
   "id": "12838219",
   "metadata": {},
   "outputs": [
    {
     "name": "stdout",
     "output_type": "stream",
     "text": [
      "16\n"
     ]
    }
   ],
   "source": [
    "counter=1\n",
    "while abs(number)>=(10**counter):\n",
    "    counter += 1\n",
    "print(counter)"
   ]
  },
  {
   "cell_type": "code",
   "execution_count": 11,
   "id": "498ffd3b",
   "metadata": {},
   "outputs": [
    {
     "name": "stdout",
     "output_type": "stream",
     "text": [
      "4\n"
     ]
    }
   ],
   "source": [
    "number=-1111\n",
    "counter=1\n",
    "while abs(number)>=(10**counter):\n",
    "    counter += 1\n",
    "print(counter)"
   ]
  },
  {
   "cell_type": "code",
   "execution_count": null,
   "id": "ecf97302",
   "metadata": {},
   "outputs": [],
   "source": []
  }
 ],
 "metadata": {
  "kernelspec": {
   "display_name": "Python 3 (ipykernel)",
   "language": "python",
   "name": "python3"
  },
  "language_info": {
   "codemirror_mode": {
    "name": "ipython",
    "version": 3
   },
   "file_extension": ".py",
   "mimetype": "text/x-python",
   "name": "python",
   "nbconvert_exporter": "python",
   "pygments_lexer": "ipython3",
   "version": "3.7.3"
  }
 },
 "nbformat": 4,
 "nbformat_minor": 5
}

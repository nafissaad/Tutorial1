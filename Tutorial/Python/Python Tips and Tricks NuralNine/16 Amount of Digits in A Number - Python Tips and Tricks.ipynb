{
 "cells": [
  {
   "cell_type": "code",
   "execution_count": 1,
   "id": "13aa353c",
   "metadata": {},
   "outputs": [],
   "source": [
    "number='1923347655123'"
   ]
  },
  {
   "cell_type": "code",
   "execution_count": 2,
   "id": "b9d86bdd",
   "metadata": {},
   "outputs": [
    {
     "name": "stdout",
     "output_type": "stream",
     "text": [
      "13\n"
     ]
    }
   ],
   "source": [
    "digit_amount=len(str(number))\n",
    "print(digit_amount)"
   ]
  },
  {
   "cell_type": "code",
   "execution_count": 3,
   "id": "44a09c29",
   "metadata": {},
   "outputs": [],
   "source": [
    "import math"
   ]
  },
  {
   "cell_type": "code",
   "execution_count": 4,
   "id": "55555941",
   "metadata": {},
   "outputs": [],
   "source": [
    "number=1923347655123"
   ]
  },
  {
   "cell_type": "code",
   "execution_count": 5,
   "id": "31cb005d",
   "metadata": {},
   "outputs": [
    {
     "name": "stdout",
     "output_type": "stream",
     "text": [
      "12.284057792327438\n"
     ]
    }
   ],
   "source": [
    "print(math.log10(number))"
   ]
  },
  {
   "cell_type": "code",
   "execution_count": 6,
   "id": "df5ed8ca",
   "metadata": {},
   "outputs": [
    {
     "name": "stdout",
     "output_type": "stream",
     "text": [
      "13\n"
     ]
    }
   ],
   "source": [
    "print(int(math.log10(number))+1)"
   ]
  },
  {
   "cell_type": "code",
   "execution_count": 7,
   "id": "21e1944a",
   "metadata": {},
   "outputs": [
    {
     "name": "stdout",
     "output_type": "stream",
     "text": [
      "5\n"
     ]
    }
   ],
   "source": [
    "number=-2857\n",
    "if number>0:\n",
    "    print(int(math.log10(number))+1)\n",
    "elif number < 0:\n",
    "    print(int(math.log10(-number))+2)\n",
    "else:\n",
    "    print(1)"
   ]
  },
  {
   "cell_type": "code",
   "execution_count": 8,
   "id": "26ffc272",
   "metadata": {},
   "outputs": [
    {
     "name": "stdout",
     "output_type": "stream",
     "text": [
      "17\n"
     ]
    }
   ],
   "source": [
    "number=9999999999999997\n",
    "if number>0:\n",
    "    print(int(math.log10(number))+1)\n",
    "elif number < 0:\n",
    "    print(int(math.log10(-number))+2)\n",
    "else:\n",
    "    print(1)"
   ]
  },
  {
   "cell_type": "code",
   "execution_count": 9,
   "id": "1969c900",
   "metadata": {},
   "outputs": [
    {
     "name": "stdout",
     "output_type": "stream",
     "text": [
      "16\n"
     ]
    }
   ],
   "source": [
    "print(len(str(number)))"
   ]
  },
  {
   "cell_type": "code",
   "execution_count": 10,
   "id": "0fde1545",
   "metadata": {},
   "outputs": [
    {
     "name": "stdout",
     "output_type": "stream",
     "text": [
      "16\n"
     ]
    }
   ],
   "source": [
    "counter=1\n",
    "while abs(number)>=(10**counter):\n",
    "    counter += 1\n",
    "print(counter)"
   ]
  },
  {
   "cell_type": "code",
   "execution_count": 11,
   "id": "c961378f",
   "metadata": {},
   "outputs": [
    {
     "name": "stdout",
     "output_type": "stream",
     "text": [
      "4\n"
     ]
    }
   ],
   "source": [
    "number=-1111\n",
    "counter=1\n",
    "while abs(number)>=(10**counter):\n",
    "    counter += 1\n",
    "print(counter)"
   ]
  },
  {
   "cell_type": "code",
   "execution_count": null,
   "id": "c7761d32",
   "metadata": {},
   "outputs": [],
   "source": []
  }
 ],
 "metadata": {
  "kernelspec": {
   "display_name": "Python 3 (ipykernel)",
   "language": "python",
   "name": "python3"
  },
  "language_info": {
   "codemirror_mode": {
    "name": "ipython",
    "version": 3
   },
   "file_extension": ".py",
   "mimetype": "text/x-python",
   "name": "python",
   "nbconvert_exporter": "python",
   "pygments_lexer": "ipython3",
   "version": "3.7.3"
  }
 },
 "nbformat": 4,
 "nbformat_minor": 5
}

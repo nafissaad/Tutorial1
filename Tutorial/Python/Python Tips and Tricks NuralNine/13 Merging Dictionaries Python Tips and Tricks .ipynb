{
 "cells": [
  {
   "cell_type": "code",
   "execution_count": 1,
   "id": "1f11f07a",
   "metadata": {},
   "outputs": [],
   "source": [
    "dict1={'a':1,'b':7}\n",
    "dict2={'b':4,'c':8}"
   ]
  },
  {
   "cell_type": "code",
   "execution_count": 2,
   "id": "72624c07",
   "metadata": {},
   "outputs": [],
   "source": [
    "dict1.update(dict2)"
   ]
  },
  {
   "cell_type": "code",
   "execution_count": 3,
   "id": "1c2d35bc",
   "metadata": {},
   "outputs": [
    {
     "name": "stdout",
     "output_type": "stream",
     "text": [
      "{'a': 1, 'b': 4, 'c': 8}\n"
     ]
    }
   ],
   "source": [
    "print(dict1)"
   ]
  },
  {
   "cell_type": "code",
   "execution_count": 4,
   "id": "b81f5474",
   "metadata": {},
   "outputs": [],
   "source": [
    "dict3={**dict1,**dict2}"
   ]
  },
  {
   "cell_type": "code",
   "execution_count": 5,
   "id": "c4ddfc25",
   "metadata": {},
   "outputs": [
    {
     "name": "stdout",
     "output_type": "stream",
     "text": [
      "{'a': 1, 'b': 4, 'c': 8}\n"
     ]
    }
   ],
   "source": [
    "print(dict3)"
   ]
  },
  {
   "cell_type": "code",
   "execution_count": 6,
   "id": "81b26933",
   "metadata": {},
   "outputs": [
    {
     "name": "stdout",
     "output_type": "stream",
     "text": [
      "{'b': 4, 'a': 1, 'c': 8}\n"
     ]
    }
   ],
   "source": [
    "dict3=dict(dict1.items()|dict2.items())\n",
    "print(dict3)"
   ]
  },
  {
   "cell_type": "code",
   "execution_count": null,
   "id": "9235aad0",
   "metadata": {},
   "outputs": [],
   "source": []
  }
 ],
 "metadata": {
  "kernelspec": {
   "display_name": "Python 3 (ipykernel)",
   "language": "python",
   "name": "python3"
  },
  "language_info": {
   "codemirror_mode": {
    "name": "ipython",
    "version": 3
   },
   "file_extension": ".py",
   "mimetype": "text/x-python",
   "name": "python",
   "nbconvert_exporter": "python",
   "pygments_lexer": "ipython3",
   "version": "3.7.3"
  }
 },
 "nbformat": 4,
 "nbformat_minor": 5
}

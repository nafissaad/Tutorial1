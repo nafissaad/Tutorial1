{
 "cells": [
  {
   "cell_type": "code",
   "execution_count": 1,
   "id": "8182a052",
   "metadata": {},
   "outputs": [],
   "source": [
    "mynames=['john','Mike','Anna','Bob','Sara',]"
   ]
  },
  {
   "cell_type": "code",
   "execution_count": 2,
   "id": "3b9bfc1a",
   "metadata": {},
   "outputs": [
    {
     "name": "stdout",
     "output_type": "stream",
     "text": [
      "0:john\n",
      "1:Mike\n",
      "2:Anna\n",
      "3:Bob\n",
      "4:Sara\n"
     ]
    }
   ],
   "source": [
    "counter=0\n",
    "for name in mynames:\n",
    "    print(f'{counter}:{name}')\n",
    "    counter +=1"
   ]
  },
  {
   "cell_type": "code",
   "execution_count": 3,
   "id": "f2464156",
   "metadata": {},
   "outputs": [
    {
     "name": "stdout",
     "output_type": "stream",
     "text": [
      "0:john\n",
      "1:Mike\n",
      "2:Anna\n",
      "3:Bob\n",
      "4:Sara\n"
     ]
    }
   ],
   "source": [
    "for index,name in enumerate(mynames):\n",
    "    print(f'{index}:{name}')"
   ]
  },
  {
   "cell_type": "code",
   "execution_count": 4,
   "id": "a3c5993b",
   "metadata": {},
   "outputs": [
    {
     "name": "stdout",
     "output_type": "stream",
     "text": [
      "[(0, 'john'), (1, 'Mike'), (2, 'Anna'), (3, 'Bob'), (4, 'Sara')]\n"
     ]
    }
   ],
   "source": [
    "print(list(enumerate(mynames)))#tuples"
   ]
  },
  {
   "cell_type": "code",
   "execution_count": 5,
   "id": "3e97c36a",
   "metadata": {},
   "outputs": [
    {
     "name": "stdout",
     "output_type": "stream",
     "text": [
      "{0: 'john', 1: 'Mike', 2: 'Anna', 3: 'Bob', 4: 'Sara'}\n"
     ]
    }
   ],
   "source": [
    "print(dict(enumerate(mynames)))#dictionary "
   ]
  },
  {
   "cell_type": "code",
   "execution_count": null,
   "id": "133fd0dd",
   "metadata": {},
   "outputs": [],
   "source": []
  }
 ],
 "metadata": {
  "kernelspec": {
   "display_name": "Python 3 (ipykernel)",
   "language": "python",
   "name": "python3"
  },
  "language_info": {
   "codemirror_mode": {
    "name": "ipython",
    "version": 3
   },
   "file_extension": ".py",
   "mimetype": "text/x-python",
   "name": "python",
   "nbconvert_exporter": "python",
   "pygments_lexer": "ipython3",
   "version": "3.7.3"
  }
 },
 "nbformat": 4,
 "nbformat_minor": 5
}

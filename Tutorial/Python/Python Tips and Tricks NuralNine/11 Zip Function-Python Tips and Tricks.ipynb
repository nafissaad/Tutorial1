{
 "cells": [
  {
   "cell_type": "code",
   "execution_count": 1,
   "id": "0852c06e",
   "metadata": {},
   "outputs": [
    {
     "name": "stdout",
     "output_type": "stream",
     "text": [
      "Name :Anna,age:17\n",
      "Name :John,age:22\n",
      "Name :Bob,age:88\n",
      "Name :Mike,age:34\n",
      "Name :July,age:53\n"
     ]
    }
   ],
   "source": [
    "Names=['Anna','John','Bob','Mike','July']\n",
    "age=[17,22,88,34,53]\n",
    "collage=['NIC','DIC','BAF','DC','VNC']\n",
    "for i in range(len(Names)):\n",
    "    print(f'Name :{Names[i]},age:{age[i]}')"
   ]
  },
  {
   "cell_type": "code",
   "execution_count": 2,
   "id": "bb127d46",
   "metadata": {},
   "outputs": [
    {
     "name": "stdout",
     "output_type": "stream",
     "text": [
      "[('Anna', 17), ('John', 22), ('Bob', 88), ('Mike', 34), ('July', 53)]\n"
     ]
    }
   ],
   "source": [
    "print(list(zip(Names,age)))"
   ]
  },
  {
   "cell_type": "code",
   "execution_count": 3,
   "id": "d898e630",
   "metadata": {},
   "outputs": [
    {
     "name": "stdout",
     "output_type": "stream",
     "text": [
      "Name:Anna,Age:17\n",
      "Name:John,Age:22\n",
      "Name:Bob,Age:88\n",
      "Name:Mike,Age:34\n",
      "Name:July,Age:53\n"
     ]
    }
   ],
   "source": [
    "for name,ages in zip(Names,age):\n",
    "    print(f\"Name:{name},Age:{ages}\")\n",
    "    "
   ]
  },
  {
   "cell_type": "code",
   "execution_count": 4,
   "id": "e4f841f1",
   "metadata": {},
   "outputs": [
    {
     "name": "stdout",
     "output_type": "stream",
     "text": [
      "Name:Anna,Age:17,Collage: NIC\n",
      "Name:John,Age:22,Collage: DIC\n",
      "Name:Bob,Age:88,Collage: BAF\n",
      "Name:Mike,Age:34,Collage: DC\n",
      "Name:July,Age:53,Collage: VNC\n"
     ]
    }
   ],
   "source": [
    "for name,ages,clg in zip(Names,age,collage):\n",
    "    print(f\"Name:{name},Age:{ages},Collage: {clg}\")\n",
    "    "
   ]
  },
  {
   "cell_type": "code",
   "execution_count": 5,
   "id": "db02e0a6",
   "metadata": {},
   "outputs": [
    {
     "name": "stdout",
     "output_type": "stream",
     "text": [
      "('Anna', 'John', 'Bob', 'Mike', 'July')\n",
      "(17, 22, 88, 34, 53)\n"
     ]
    }
   ],
   "source": [
    "zipped=[('Anna', 17), ('John', 22), ('Bob', 88), ('Mike', 34), ('July', 53)]\n",
    "names,ages=zip(*zipped)#unzipped\n",
    "print(names)\n",
    "print(ages)"
   ]
  },
  {
   "cell_type": "code",
   "execution_count": 6,
   "id": "30a28ff1",
   "metadata": {},
   "outputs": [
    {
     "name": "stdout",
     "output_type": "stream",
     "text": [
      "['Anna', 'John', 'Bob', 'Mike', 'July']\n"
     ]
    }
   ],
   "source": [
    "print(list(names))"
   ]
  },
  {
   "cell_type": "code",
   "execution_count": 7,
   "id": "e0c6056f",
   "metadata": {},
   "outputs": [
    {
     "name": "stdout",
     "output_type": "stream",
     "text": [
      "['Anna', 'John', 'Bob', 'Mike', 'July']\n",
      "['NIC', 'DIC', 'BAF', 'DC', 'VNC']\n"
     ]
    }
   ],
   "source": [
    "data=sorted(zip(Names,collage))\n",
    "print(Names)\n",
    "print(collage)"
   ]
  },
  {
   "cell_type": "code",
   "execution_count": null,
   "id": "9215e738",
   "metadata": {},
   "outputs": [],
   "source": []
  }
 ],
 "metadata": {
  "kernelspec": {
   "display_name": "Python 3 (ipykernel)",
   "language": "python",
   "name": "python3"
  },
  "language_info": {
   "codemirror_mode": {
    "name": "ipython",
    "version": 3
   },
   "file_extension": ".py",
   "mimetype": "text/x-python",
   "name": "python",
   "nbconvert_exporter": "python",
   "pygments_lexer": "ipython3",
   "version": "3.7.3"
  }
 },
 "nbformat": 4,
 "nbformat_minor": 5
}

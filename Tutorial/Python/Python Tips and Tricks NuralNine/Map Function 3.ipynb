{
 "cells": [
  {
   "cell_type": "code",
   "execution_count": 1,
   "id": "a8414b82",
   "metadata": {},
   "outputs": [],
   "source": [
    "numbers = [14,23,8,12,2,5,90]"
   ]
  },
  {
   "cell_type": "code",
   "execution_count": 2,
   "id": "3ea48411",
   "metadata": {},
   "outputs": [
    {
     "data": {
      "text/plain": [
       "[196, 529, 64, 144, 4, 25, 8100]"
      ]
     },
     "execution_count": 2,
     "metadata": {},
     "output_type": "execute_result"
    }
   ],
   "source": [
    "def upgrade(X):\n",
    "    new_list=[]\n",
    "    def square(x):\n",
    "        return x*x\n",
    "    for i in X:\n",
    "        new_list.append(square(i))\n",
    "    return new_list\n",
    "upgrade(numbers)"
   ]
  },
  {
   "cell_type": "code",
   "execution_count": 3,
   "id": "e777f756",
   "metadata": {},
   "outputs": [
    {
     "data": {
      "text/plain": [
       "[196, 529, 64, 144, 4, 25, 8100]"
      ]
     },
     "execution_count": 3,
     "metadata": {},
     "output_type": "execute_result"
    }
   ],
   "source": [
    "#Tricks for the whole process\n",
    "new_list=[i*i for i in numbers]\n",
    "new_list"
   ]
  },
  {
   "cell_type": "code",
   "execution_count": 4,
   "id": "5a508cc0",
   "metadata": {},
   "outputs": [
    {
     "data": {
      "text/plain": [
       "[196, 529, 64, 144, 4, 25, 8100]"
      ]
     },
     "execution_count": 4,
     "metadata": {},
     "output_type": "execute_result"
    }
   ],
   "source": [
    "def square(x):\n",
    "    return x*x\n",
    "new_list=map(square,numbers)\n",
    "list(new_list)"
   ]
  },
  {
   "cell_type": "code",
   "execution_count": 5,
   "id": "cabaa2b6",
   "metadata": {},
   "outputs": [
    {
     "data": {
      "text/plain": [
       "['14', '23', '8', '12', '2', '5', '90']"
      ]
     },
     "execution_count": 5,
     "metadata": {},
     "output_type": "execute_result"
    }
   ],
   "source": [
    "new_list=map(str,numbers)\n",
    "list(new_list)"
   ]
  },
  {
   "cell_type": "code",
   "execution_count": null,
   "id": "c52b685e",
   "metadata": {},
   "outputs": [],
   "source": []
  }
 ],
 "metadata": {
  "kernelspec": {
   "display_name": "Python 3 (ipykernel)",
   "language": "python",
   "name": "python3"
  },
  "language_info": {
   "codemirror_mode": {
    "name": "ipython",
    "version": 3
   },
   "file_extension": ".py",
   "mimetype": "text/x-python",
   "name": "python",
   "nbconvert_exporter": "python",
   "pygments_lexer": "ipython3",
   "version": "3.7.3"
  }
 },
 "nbformat": 4,
 "nbformat_minor": 5
}

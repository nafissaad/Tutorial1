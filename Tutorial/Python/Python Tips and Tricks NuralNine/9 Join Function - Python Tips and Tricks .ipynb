{
 "cells": [
  {
   "cell_type": "code",
   "execution_count": 2,
   "id": "7b1dfe87",
   "metadata": {},
   "outputs": [
    {
     "name": "stdout",
     "output_type": "stream",
     "text": [
      "Hey! Subscribe to NeuralNime \n"
     ]
    }
   ],
   "source": [
    "words=['Hey!','Subscribe','to','NeuralNime']\n",
    "sentence=''\n",
    "for word in words:\n",
    "    sentence += word +\" \"\n",
    "print(sentence)"
   ]
  },
  {
   "cell_type": "code",
   "execution_count": 3,
   "id": "43711cba",
   "metadata": {},
   "outputs": [
    {
     "name": "stdout",
     "output_type": "stream",
     "text": [
      "Hey!<BLANK>Subscribe<BLANK>to<BLANK>NeuralNime\n"
     ]
    }
   ],
   "source": [
    "words=['Hey!','Subscribe','to','NeuralNime']\n",
    "sentence='<BLANK>'.join(words)\n",
    "print(sentence)"
   ]
  }
 ],
 "metadata": {
  "kernelspec": {
   "display_name": "Python 3 (ipykernel)",
   "language": "python",
   "name": "python3"
  },
  "language_info": {
   "codemirror_mode": {
    "name": "ipython",
    "version": 3
   },
   "file_extension": ".py",
   "mimetype": "text/x-python",
   "name": "python",
   "nbconvert_exporter": "python",
   "pygments_lexer": "ipython3",
   "version": "3.7.3"
  }
 },
 "nbformat": 4,
 "nbformat_minor": 5
}

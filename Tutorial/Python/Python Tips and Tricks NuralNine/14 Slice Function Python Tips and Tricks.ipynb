{
 "cells": [
  {
   "cell_type": "code",
   "execution_count": 1,
   "id": "084c8105",
   "metadata": {},
   "outputs": [],
   "source": [
    "numbers=[10,90,20,55,65,70,5,15,85]"
   ]
  },
  {
   "cell_type": "code",
   "execution_count": 2,
   "id": "b99d4143",
   "metadata": {},
   "outputs": [
    {
     "name": "stdout",
     "output_type": "stream",
     "text": [
      "[10, 90, 20, 55, 65, 70, 5]\n"
     ]
    }
   ],
   "source": [
    "print(numbers[:-2])"
   ]
  },
  {
   "cell_type": "code",
   "execution_count": 3,
   "id": "a4f16200",
   "metadata": {},
   "outputs": [
    {
     "name": "stdout",
     "output_type": "stream",
     "text": [
      "[70, 5, 15, 85]\n"
     ]
    }
   ],
   "source": [
    "LastFOUR=slice(-4,None)\n",
    "print(numbers[LastFOUR])"
   ]
  },
  {
   "cell_type": "code",
   "execution_count": 4,
   "id": "5bba448f",
   "metadata": {},
   "outputs": [
    {
     "name": "stdout",
     "output_type": "stream",
     "text": [
      "[65, 70, 5, 15, 85]\n"
     ]
    }
   ],
   "source": [
    "FIRSTFOUR=slice(4,None)\n",
    "print(numbers[FIRSTFOUR])"
   ]
  },
  {
   "cell_type": "code",
   "execution_count": 5,
   "id": "5a726c63",
   "metadata": {},
   "outputs": [],
   "source": [
    "EVERY_OTHER=slice(0,None,2)"
   ]
  },
  {
   "cell_type": "code",
   "execution_count": 6,
   "id": "3b96eeb9",
   "metadata": {},
   "outputs": [
    {
     "name": "stdout",
     "output_type": "stream",
     "text": [
      "[10, 20, 65, 5, 85]\n"
     ]
    }
   ],
   "source": [
    "print(numbers[EVERY_OTHER])"
   ]
  },
  {
   "cell_type": "code",
   "execution_count": 7,
   "id": "81a1acec",
   "metadata": {},
   "outputs": [
    {
     "name": "stdout",
     "output_type": "stream",
     "text": [
      "['Hello', 'How', 'you?']\n"
     ]
    }
   ],
   "source": [
    "mytext=['Hello','World!','How','are' ,'you?']\n",
    "print(mytext[EVERY_OTHER])"
   ]
  },
  {
   "cell_type": "code",
   "execution_count": null,
   "id": "e5b703fd",
   "metadata": {},
   "outputs": [],
   "source": []
  }
 ],
 "metadata": {
  "kernelspec": {
   "display_name": "Python 3 (ipykernel)",
   "language": "python",
   "name": "python3"
  },
  "language_info": {
   "codemirror_mode": {
    "name": "ipython",
    "version": 3
   },
   "file_extension": ".py",
   "mimetype": "text/x-python",
   "name": "python",
   "nbconvert_exporter": "python",
   "pygments_lexer": "ipython3",
   "version": "3.7.3"
  }
 },
 "nbformat": 4,
 "nbformat_minor": 5
}

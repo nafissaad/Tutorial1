{
 "cells": [
  {
   "cell_type": "code",
   "execution_count": 1,
   "id": "16b532c6",
   "metadata": {},
   "outputs": [
    {
     "name": "stdout",
     "output_type": "stream",
     "text": [
      "You aren't an Adult!\n"
     ]
    }
   ],
   "source": [
    "age=17\n",
    "if age >=18:\n",
    "    adult=True\n",
    "else:\n",
    "    adult=False\n",
    "if adult:\n",
    "    print('You are an adult!')\n",
    "else:\n",
    "    print(\"You aren't an Adult!\")"
   ]
  },
  {
   "cell_type": "code",
   "execution_count": 2,
   "id": "6377f4f3",
   "metadata": {},
   "outputs": [
    {
     "name": "stdout",
     "output_type": "stream",
     "text": [
      "You are an adult!\n"
     ]
    }
   ],
   "source": [
    "age=20\n",
    "adult=True if age>=18 else False\n",
    "print('You are an adult!' if adult else \"You aren't an Adult!\")"
   ]
  },
  {
   "cell_type": "code",
   "execution_count": 3,
   "id": "6965fd74",
   "metadata": {},
   "outputs": [
    {
     "name": "stdout",
     "output_type": "stream",
     "text": [
      "This number is quite large!\n"
     ]
    }
   ],
   "source": [
    "number=267\n",
    "print('This number is very very large!' if number >1000 else \"This number is quite large!\"if number >100 else\"This number is small but still positive\" if number>0 else \"This number is't positive\")"
   ]
  },
  {
   "cell_type": "code",
   "execution_count": null,
   "id": "c632c235",
   "metadata": {},
   "outputs": [],
   "source": []
  }
 ],
 "metadata": {
  "kernelspec": {
   "display_name": "Python 3 (ipykernel)",
   "language": "python",
   "name": "python3"
  },
  "language_info": {
   "codemirror_mode": {
    "name": "ipython",
    "version": 3
   },
   "file_extension": ".py",
   "mimetype": "text/x-python",
   "name": "python",
   "nbconvert_exporter": "python",
   "pygments_lexer": "ipython3",
   "version": "3.7.3"
  }
 },
 "nbformat": 4,
 "nbformat_minor": 5
}

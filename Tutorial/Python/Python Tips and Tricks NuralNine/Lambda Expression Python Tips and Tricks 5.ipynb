{
 "cells": [
  {
   "cell_type": "code",
   "execution_count": 1,
   "id": "2d7d2593",
   "metadata": {},
   "outputs": [
    {
     "name": "stdout",
     "output_type": "stream",
     "text": [
      "25\n"
     ]
    }
   ],
   "source": [
    "mysquare=lambda x: x*x\n",
    "print(mysquare(5))"
   ]
  },
  {
   "cell_type": "code",
   "execution_count": 2,
   "id": "592be255",
   "metadata": {},
   "outputs": [
    {
     "name": "stdout",
     "output_type": "stream",
     "text": [
      "15\n"
     ]
    }
   ],
   "source": [
    "mysum=lambda x,y: x+y\n",
    "print(mysum(5,10))"
   ]
  },
  {
   "cell_type": "code",
   "execution_count": 3,
   "id": "b26e78ac",
   "metadata": {},
   "outputs": [
    {
     "name": "stdout",
     "output_type": "stream",
     "text": [
      "60\n"
     ]
    }
   ],
   "source": [
    "mysum=lambda *args:sum(args)\n",
    "print(mysum(10,20,30))"
   ]
  },
  {
   "cell_type": "code",
   "execution_count": 4,
   "id": "5c90d8db",
   "metadata": {},
   "outputs": [
    {
     "name": "stdout",
     "output_type": "stream",
     "text": [
      "125\n"
     ]
    }
   ],
   "source": [
    "print((lambda x: x**3)(5))"
   ]
  },
  {
   "cell_type": "code",
   "execution_count": 5,
   "id": "26eaa2c4",
   "metadata": {},
   "outputs": [
    {
     "data": {
      "text/plain": [
       "125"
      ]
     },
     "execution_count": 5,
     "metadata": {},
     "output_type": "execute_result"
    }
   ],
   "source": [
    "5*5*5"
   ]
  },
  {
   "cell_type": "code",
   "execution_count": 6,
   "id": "3db598d2",
   "metadata": {},
   "outputs": [],
   "source": [
    "numbers=[8,66,12,14,15,7,99,109,88,76]"
   ]
  },
  {
   "cell_type": "code",
   "execution_count": 7,
   "id": "4d8338e7",
   "metadata": {},
   "outputs": [
    {
     "data": {
      "text/plain": [
       "[8, 66, 12, 14, 88, 76]"
      ]
     },
     "execution_count": 7,
     "metadata": {},
     "output_type": "execute_result"
    }
   ],
   "source": [
    "even_number=list(filter(lambda x: x%2==0,numbers))\n",
    "even_number"
   ]
  },
  {
   "cell_type": "code",
   "execution_count": 8,
   "id": "5c442448",
   "metadata": {},
   "outputs": [
    {
     "name": "stdout",
     "output_type": "stream",
     "text": [
      "[64, 4356, 144, 196, 225, 49, 9801, 11881, 7744, 5776]\n"
     ]
    }
   ],
   "source": [
    "squared_number=list(map(lambda x:x**2,numbers))\n",
    "print(squared_number)"
   ]
  },
  {
   "cell_type": "code",
   "execution_count": 9,
   "id": "ab55bb34",
   "metadata": {},
   "outputs": [
    {
     "name": "stdout",
     "output_type": "stream",
     "text": [
      "540\n"
     ]
    }
   ],
   "source": [
    "def myfunction(num):\n",
    "    return lambda x: x*num\n",
    "ten_multiplier=myfunction(10)\n",
    "print(ten_multiplier(54))"
   ]
  },
  {
   "cell_type": "code",
   "execution_count": null,
   "id": "9f9cacab",
   "metadata": {},
   "outputs": [],
   "source": []
  }
 ],
 "metadata": {
  "kernelspec": {
   "display_name": "Python 3 (ipykernel)",
   "language": "python",
   "name": "python3"
  },
  "language_info": {
   "codemirror_mode": {
    "name": "ipython",
    "version": 3
   },
   "file_extension": ".py",
   "mimetype": "text/x-python",
   "name": "python",
   "nbconvert_exporter": "python",
   "pygments_lexer": "ipython3",
   "version": "3.7.3"
  }
 },
 "nbformat": 4,
 "nbformat_minor": 5
}

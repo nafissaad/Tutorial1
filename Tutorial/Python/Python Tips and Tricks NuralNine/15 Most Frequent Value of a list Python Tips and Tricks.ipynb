{
 "cells": [
  {
   "cell_type": "code",
   "execution_count": 1,
   "id": "de264c84",
   "metadata": {},
   "outputs": [],
   "source": [
    "mylist=[1,2,3,4,1,2,1,1,2,3,2,2,4,2,3,2,1,2,2,2,11,3,4]"
   ]
  },
  {
   "cell_type": "code",
   "execution_count": 2,
   "id": "394e81db",
   "metadata": {},
   "outputs": [],
   "source": [
    "current_max=0\n",
    "current_val=None\n",
    "for x in mylist:\n",
    "    if mylist.count(x)>current_max:\n",
    "        current_max=mylist.count(x)\n",
    "        current_val=x"
   ]
  },
  {
   "cell_type": "code",
   "execution_count": 5,
   "id": "d2817f7a",
   "metadata": {},
   "outputs": [
    {
     "name": "stdout",
     "output_type": "stream",
     "text": [
      "Value: 2,Occurences: 10\n"
     ]
    }
   ],
   "source": [
    "print(F'Value: {current_val},Occurences: {current_max}')"
   ]
  },
  {
   "cell_type": "code",
   "execution_count": 12,
   "id": "9358f127",
   "metadata": {},
   "outputs": [
    {
     "data": {
      "text/plain": [
       "[(2, 10), (1, 5), (3, 4), (4, 3), (11, 1)]"
      ]
     },
     "execution_count": 12,
     "metadata": {},
     "output_type": "execute_result"
    }
   ],
   "source": [
    "from collections import Counter\n",
    "counter=Counter(mylist)\n",
    "counter.most_common()"
   ]
  },
  {
   "cell_type": "code",
   "execution_count": 13,
   "id": "03437d2c",
   "metadata": {},
   "outputs": [
    {
     "data": {
      "text/plain": [
       "[(2, 10)]"
      ]
     },
     "execution_count": 13,
     "metadata": {},
     "output_type": "execute_result"
    }
   ],
   "source": [
    "counter.most_common(1)"
   ]
  },
  {
   "cell_type": "code",
   "execution_count": 17,
   "id": "407698be",
   "metadata": {},
   "outputs": [
    {
     "data": {
      "text/plain": [
       "10"
      ]
     },
     "execution_count": 17,
     "metadata": {},
     "output_type": "execute_result"
    }
   ],
   "source": [
    "counter.most_common(1)[0][1]"
   ]
  },
  {
   "cell_type": "code",
   "execution_count": 20,
   "id": "1d223fcd",
   "metadata": {},
   "outputs": [
    {
     "name": "stdout",
     "output_type": "stream",
     "text": [
      "2 10\n"
     ]
    }
   ],
   "source": [
    "most_frequent=max(set(mylist),key=mylist.count)\n",
    "frequency=mylist.count(most_frequent)\n",
    "print(most_frequent,frequency)"
   ]
  },
  {
   "cell_type": "code",
   "execution_count": null,
   "id": "3319c065",
   "metadata": {},
   "outputs": [],
   "source": []
  }
 ],
 "metadata": {
  "kernelspec": {
   "display_name": "Python 3 (ipykernel)",
   "language": "python",
   "name": "python3"
  },
  "language_info": {
   "codemirror_mode": {
    "name": "ipython",
    "version": 3
   },
   "file_extension": ".py",
   "mimetype": "text/x-python",
   "name": "python",
   "nbconvert_exporter": "python",
   "pygments_lexer": "ipython3",
   "version": "3.7.3"
  }
 },
 "nbformat": 4,
 "nbformat_minor": 5
}

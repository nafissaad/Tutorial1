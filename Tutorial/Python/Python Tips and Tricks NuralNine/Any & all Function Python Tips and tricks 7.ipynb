{
 "cells": [
  {
   "cell_type": "code",
   "execution_count": 1,
   "id": "e1c3b600",
   "metadata": {},
   "outputs": [],
   "source": [
    "x=[True,True,False,False]"
   ]
  },
  {
   "cell_type": "code",
   "execution_count": 2,
   "id": "81420b50",
   "metadata": {},
   "outputs": [
    {
     "name": "stdout",
     "output_type": "stream",
     "text": [
      "True\n"
     ]
    }
   ],
   "source": [
    "print(any(x))#it is true because any values is true"
   ]
  },
  {
   "cell_type": "code",
   "execution_count": 3,
   "id": "4b95e5c9",
   "metadata": {},
   "outputs": [
    {
     "name": "stdout",
     "output_type": "stream",
     "text": [
      "False\n"
     ]
    }
   ],
   "source": [
    "print(all(x))#False becasue all valuse as re not true "
   ]
  },
  {
   "cell_type": "code",
   "execution_count": 4,
   "id": "52487d61",
   "metadata": {},
   "outputs": [],
   "source": [
    "numbers=[11,12,76,55,9,88,10]\n",
    "even=lambda x: x % 2==0\n"
   ]
  },
  {
   "cell_type": "code",
   "execution_count": 5,
   "id": "0d1ae8b9",
   "metadata": {},
   "outputs": [
    {
     "data": {
      "text/plain": [
       "[False, True, True, False, False, True, True]"
      ]
     },
     "execution_count": 5,
     "metadata": {},
     "output_type": "execute_result"
    }
   ],
   "source": [
    "result=[even(number) for number in numbers]\n",
    "result"
   ]
  },
  {
   "cell_type": "code",
   "execution_count": 6,
   "id": "71ca0ff0",
   "metadata": {},
   "outputs": [
    {
     "name": "stdout",
     "output_type": "stream",
     "text": [
      "At least one number is even\n"
     ]
    }
   ],
   "source": [
    "if any(result):\n",
    "    print('At least one number is even')\n",
    "else:\n",
    "    print('No Number is even')"
   ]
  },
  {
   "cell_type": "code",
   "execution_count": 7,
   "id": "047e6bdc",
   "metadata": {},
   "outputs": [
    {
     "name": "stdout",
     "output_type": "stream",
     "text": [
      "No Number is even\n"
     ]
    }
   ],
   "source": [
    "if all(result):\n",
    "    print('At least one number is even')\n",
    "else:\n",
    "    print('No Number is even')"
   ]
  },
  {
   "cell_type": "code",
   "execution_count": null,
   "id": "eeed1263",
   "metadata": {},
   "outputs": [],
   "source": []
  }
 ],
 "metadata": {
  "kernelspec": {
   "display_name": "Python 3 (ipykernel)",
   "language": "python",
   "name": "python3"
  },
  "language_info": {
   "codemirror_mode": {
    "name": "ipython",
    "version": 3
   },
   "file_extension": ".py",
   "mimetype": "text/x-python",
   "name": "python",
   "nbconvert_exporter": "python",
   "pygments_lexer": "ipython3",
   "version": "3.7.3"
  }
 },
 "nbformat": 4,
 "nbformat_minor": 5
}

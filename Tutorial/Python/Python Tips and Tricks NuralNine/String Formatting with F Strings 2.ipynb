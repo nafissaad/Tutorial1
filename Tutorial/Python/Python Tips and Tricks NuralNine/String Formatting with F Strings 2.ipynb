{
 "cells": [
  {
   "cell_type": "code",
   "execution_count": 1,
   "id": "14b8cb88",
   "metadata": {},
   "outputs": [],
   "source": [
    "name='Mike'\n",
    "age=25"
   ]
  },
  {
   "cell_type": "code",
   "execution_count": 2,
   "id": "c8c18c59",
   "metadata": {},
   "outputs": [
    {
     "name": "stdout",
     "output_type": "stream",
     "text": [
      "Hello my name is Mike and i am 25 years old\n"
     ]
    }
   ],
   "source": [
    "print('Hello my name is '+name+' and i am '+str(age)+' years old')"
   ]
  },
  {
   "cell_type": "code",
   "execution_count": 3,
   "id": "3ffe5383",
   "metadata": {},
   "outputs": [
    {
     "name": "stdout",
     "output_type": "stream",
     "text": [
      "Hello my name is Mike and i am 25 years old\n"
     ]
    }
   ],
   "source": [
    "print(\"Hello my name is {} and i am {} years old\".format(name,age))"
   ]
  },
  {
   "cell_type": "code",
   "execution_count": 4,
   "id": "20402bc9",
   "metadata": {},
   "outputs": [
    {
     "name": "stdout",
     "output_type": "stream",
     "text": [
      "Hello my name is Mike and i am 25 years old\n"
     ]
    }
   ],
   "source": [
    "print(\"Hello my name is %s and i am %d years old\"% (name,age))"
   ]
  },
  {
   "cell_type": "code",
   "execution_count": 5,
   "id": "690e2435",
   "metadata": {},
   "outputs": [
    {
     "name": "stdout",
     "output_type": "stream",
     "text": [
      "Hello my name is Mike and i am 25 years old\n"
     ]
    }
   ],
   "source": [
    "print(f\"Hello my name is {name} and i am {age} years old\")"
   ]
  },
  {
   "cell_type": "code",
   "execution_count": 6,
   "id": "b173f2ab",
   "metadata": {},
   "outputs": [
    {
     "name": "stdout",
     "output_type": "stream",
     "text": [
      "Hello my name is Mike and i am 7 years old\n"
     ]
    }
   ],
   "source": [
    "print(f\"Hello my name is {name} and i am {age if age % 2==0 else 7} years old\")"
   ]
  },
  {
   "cell_type": "code",
   "execution_count": null,
   "id": "68ab055a",
   "metadata": {},
   "outputs": [],
   "source": []
  }
 ],
 "metadata": {
  "kernelspec": {
   "display_name": "Python 3 (ipykernel)",
   "language": "python",
   "name": "python3"
  },
  "language_info": {
   "codemirror_mode": {
    "name": "ipython",
    "version": 3
   },
   "file_extension": ".py",
   "mimetype": "text/x-python",
   "name": "python",
   "nbconvert_exporter": "python",
   "pygments_lexer": "ipython3",
   "version": "3.7.3"
  }
 },
 "nbformat": 4,
 "nbformat_minor": 5
}

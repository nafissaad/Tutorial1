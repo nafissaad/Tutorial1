{
 "cells": [
  {
   "cell_type": "code",
   "execution_count": 1,
   "id": "73730dfc",
   "metadata": {},
   "outputs": [],
   "source": [
    "numbers=[18,16,22,99,23,11,54]"
   ]
  },
  {
   "cell_type": "code",
   "execution_count": 2,
   "id": "d065c29b",
   "metadata": {},
   "outputs": [],
   "source": [
    "new_list = []\n",
    "for number in numbers:\n",
    "    if number % 2==0:\n",
    "        new_list.append(number)"
   ]
  },
  {
   "cell_type": "code",
   "execution_count": 3,
   "id": "d006fb83",
   "metadata": {},
   "outputs": [
    {
     "name": "stdout",
     "output_type": "stream",
     "text": [
      "[18, 16, 22, 54]\n"
     ]
    }
   ],
   "source": [
    "print(new_list)"
   ]
  },
  {
   "cell_type": "code",
   "execution_count": 4,
   "id": "63760da6",
   "metadata": {},
   "outputs": [],
   "source": [
    "#Tricks for the whole process\n",
    "new_list=[number for number in numbers if number % 2 ==0]#"
   ]
  },
  {
   "cell_type": "code",
   "execution_count": 5,
   "id": "53bd66ce",
   "metadata": {},
   "outputs": [
    {
     "data": {
      "text/plain": [
       "[18, 16, 22, 54]"
      ]
     },
     "execution_count": 5,
     "metadata": {},
     "output_type": "execute_result"
    }
   ],
   "source": [
    "new_list"
   ]
  },
  {
   "cell_type": "code",
   "execution_count": 6,
   "id": "753d4c91",
   "metadata": {},
   "outputs": [],
   "source": [
    "#Trick 2\n",
    "numbers=[1,2,3,4,5,6,7]"
   ]
  },
  {
   "cell_type": "code",
   "execution_count": 7,
   "id": "77baabe2",
   "metadata": {},
   "outputs": [],
   "source": [
    "powers_of_two =[2**number for number in numbers]"
   ]
  },
  {
   "cell_type": "code",
   "execution_count": 8,
   "id": "923d9370",
   "metadata": {},
   "outputs": [
    {
     "data": {
      "text/plain": [
       "[2, 4, 8, 16, 32, 64, 128]"
      ]
     },
     "execution_count": 8,
     "metadata": {},
     "output_type": "execute_result"
    }
   ],
   "source": [
    "powers_of_two"
   ]
  },
  {
   "cell_type": "code",
   "execution_count": 11,
   "id": "46fd4858",
   "metadata": {},
   "outputs": [],
   "source": [
    "words=['automobile','car','anger','fox','anchor']"
   ]
  },
  {
   "cell_type": "code",
   "execution_count": 10,
   "id": "7328e503",
   "metadata": {},
   "outputs": [
    {
     "data": {
      "text/plain": [
       "['AUTOMOBILE', 'car', 'ANGER', 'fox', 'ANCHOR']"
      ]
     },
     "execution_count": 10,
     "metadata": {},
     "output_type": "execute_result"
    }
   ],
   "source": [
    "words=[word.upper() if word.startswith('a') else word for word in words]\n",
    "words"
   ]
  },
  {
   "cell_type": "code",
   "execution_count": 12,
   "id": "46485d7a",
   "metadata": {},
   "outputs": [
    {
     "data": {
      "text/plain": [
       "['AUTOMOBILE', 'ANGER', 'ANCHOR']"
      ]
     },
     "execution_count": 12,
     "metadata": {},
     "output_type": "execute_result"
    }
   ],
   "source": [
    "words=[word.upper() for word in words if word.startswith('a')]\n",
    "words"
   ]
  },
  {
   "cell_type": "code",
   "execution_count": null,
   "id": "79eae276",
   "metadata": {},
   "outputs": [],
   "source": []
  }
 ],
 "metadata": {
  "kernelspec": {
   "display_name": "Python 3 (ipykernel)",
   "language": "python",
   "name": "python3"
  },
  "language_info": {
   "codemirror_mode": {
    "name": "ipython",
    "version": 3
   },
   "file_extension": ".py",
   "mimetype": "text/x-python",
   "name": "python",
   "nbconvert_exporter": "python",
   "pygments_lexer": "ipython3",
   "version": "3.7.3"
  }
 },
 "nbformat": 4,
 "nbformat_minor": 5
}

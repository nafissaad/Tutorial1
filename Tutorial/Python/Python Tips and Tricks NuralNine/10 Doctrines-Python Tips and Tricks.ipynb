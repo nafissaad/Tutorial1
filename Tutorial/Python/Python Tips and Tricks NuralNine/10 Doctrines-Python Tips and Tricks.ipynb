{
 "cells": [
  {
   "cell_type": "code",
   "execution_count": 1,
   "id": "84a4b7f6",
   "metadata": {},
   "outputs": [
    {
     "name": "stdout",
     "output_type": "stream",
     "text": [
      "64\n"
     ]
    }
   ],
   "source": [
    "def myexpo(num1,num2):\n",
    "    '''This Function takes one number to the power of another number and returns the result!\n",
    "    :params num1: This is base\n",
    "    :params num2: this is the exp\n",
    "    '''\n",
    "    return num1**num2\n",
    "print(myexpo(8,2))"
   ]
  },
  {
   "cell_type": "code",
   "execution_count": 2,
   "id": "0b0153b6",
   "metadata": {},
   "outputs": [
    {
     "name": "stdout",
     "output_type": "stream",
     "text": [
      "Help on function myexpo in module __main__:\n",
      "\n",
      "myexpo(num1, num2)\n",
      "    This Function takes one number to the power of another number and returns the result!\n",
      "    :params num1: This is base\n",
      "    :params num2: this is the exp\n",
      "\n",
      "None\n"
     ]
    }
   ],
   "source": [
    "print(help(myexpo))"
   ]
  },
  {
   "cell_type": "code",
   "execution_count": null,
   "id": "ecd24df8",
   "metadata": {},
   "outputs": [],
   "source": []
  }
 ],
 "metadata": {
  "kernelspec": {
   "display_name": "Python 3 (ipykernel)",
   "language": "python",
   "name": "python3"
  },
  "language_info": {
   "codemirror_mode": {
    "name": "ipython",
    "version": 3
   },
   "file_extension": ".py",
   "mimetype": "text/x-python",
   "name": "python",
   "nbconvert_exporter": "python",
   "pygments_lexer": "ipython3",
   "version": "3.7.3"
  }
 },
 "nbformat": 4,
 "nbformat_minor": 5
}

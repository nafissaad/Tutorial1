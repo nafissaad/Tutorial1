{
 "cells": [
  {
   "cell_type": "code",
   "execution_count": 1,
   "id": "1eff3cc9",
   "metadata": {},
   "outputs": [],
   "source": [
    "tom_exp_list=[2100,3400,3500]\n",
    "joe_exp_list_list =[200,500,700]"
   ]
  },
  {
   "cell_type": "code",
   "execution_count": 2,
   "id": "b33e8e15",
   "metadata": {},
   "outputs": [
    {
     "name": "stdout",
     "output_type": "stream",
     "text": [
      "Toms's Total Expenses:  9000\n"
     ]
    }
   ],
   "source": [
    "total=0\n",
    "for item in tom_exp_list:\n",
    "    total=total+item\n",
    "print(\"Toms's Total Expenses: \",total)"
   ]
  },
  {
   "cell_type": "code",
   "execution_count": 3,
   "id": "6febb47e",
   "metadata": {},
   "outputs": [
    {
     "name": "stdout",
     "output_type": "stream",
     "text": [
      "Joe's Total Expenses:  1400\n"
     ]
    }
   ],
   "source": [
    "total=0\n",
    "for item in joe_exp_list_list:\n",
    "    total=total+item\n",
    "print(\"Joe's Total Expenses: \",total)"
   ]
  },
  {
   "cell_type": "code",
   "execution_count": 4,
   "id": "88b23fa2",
   "metadata": {},
   "outputs": [],
   "source": [
    "def exp(exp=tom_exp_list,name='tom'):\n",
    "    print(name)\n",
    "    print(exp)\n",
    "    total=0\n",
    "    for item in exp:\n",
    "        total=total+item\n",
    "    return print(name+\"'s Total Expenses: \",total)"
   ]
  },
  {
   "cell_type": "code",
   "execution_count": 5,
   "id": "5b8f3ef3",
   "metadata": {},
   "outputs": [
    {
     "name": "stdout",
     "output_type": "stream",
     "text": [
      "tom\n",
      "[2100, 3400, 3500]\n",
      "tom's Total Expenses:  9000\n"
     ]
    }
   ],
   "source": [
    "exp(tom_exp_list,'tom')"
   ]
  },
  {
   "cell_type": "code",
   "execution_count": 6,
   "id": "0c01ca0b",
   "metadata": {},
   "outputs": [
    {
     "name": "stdout",
     "output_type": "stream",
     "text": [
      "joe\n",
      "[200, 500, 700]\n",
      "joe's Total Expenses:  1400\n"
     ]
    }
   ],
   "source": [
    "exp(joe_exp_list_list,'joe')"
   ]
  },
  {
   "cell_type": "code",
   "execution_count": 7,
   "id": "182aabb0",
   "metadata": {},
   "outputs": [
    {
     "name": "stdout",
     "output_type": "stream",
     "text": [
      "tom\n",
      "[2100, 3400, 3500]\n",
      "tom's Total Expenses:  9000\n"
     ]
    }
   ],
   "source": [
    "exp(tom_exp_list)"
   ]
  }
 ],
 "metadata": {
  "kernelspec": {
   "display_name": "Python 3 (ipykernel)",
   "language": "python",
   "name": "python3"
  },
  "language_info": {
   "codemirror_mode": {
    "name": "ipython",
    "version": 3
   },
   "file_extension": ".py",
   "mimetype": "text/x-python",
   "name": "python",
   "nbconvert_exporter": "python",
   "pygments_lexer": "ipython3",
   "version": "3.7.3"
  }
 },
 "nbformat": 4,
 "nbformat_minor": 5
}

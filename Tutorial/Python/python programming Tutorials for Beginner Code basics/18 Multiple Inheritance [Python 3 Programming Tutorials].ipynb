{
 "cells": [
  {
   "cell_type": "code",
   "execution_count": 5,
   "id": "bd05d7ed",
   "metadata": {},
   "outputs": [],
   "source": [
    "class Father():\n",
    "    def gardening(self):\n",
    "        print('I Enjoy Gardening')\n",
    "class Mother():\n",
    "    def cooking(self):\n",
    "        print('I Love Cooking')\n",
    "class Child(Father,Mother):\n",
    "    def Sports(self):\n",
    "        print('I Enjoy Sports')"
   ]
  },
  {
   "cell_type": "code",
   "execution_count": 6,
   "id": "72b028b0",
   "metadata": {},
   "outputs": [
    {
     "name": "stdout",
     "output_type": "stream",
     "text": [
      "I Enjoy Gardening\n",
      "I Love Cooking\n",
      "I Enjoy Sports\n"
     ]
    }
   ],
   "source": [
    "c=Child()\n",
    "c.gardening()\n",
    "c.cooking()\n",
    "c.Sports()"
   ]
  },
  {
   "cell_type": "code",
   "execution_count": 7,
   "id": "61ab65de",
   "metadata": {},
   "outputs": [],
   "source": [
    "class Father():\n",
    "    def skill(self):\n",
    "        print('Programming,Gardening')\n",
    "class Mother():\n",
    "    def skill(self):\n",
    "        print('Cooking,Art')\n",
    "class Child(Father,Mother):\n",
    "        def skill(self):\n",
    "            Father.skill(self)\n",
    "            Mother.skill(self)\n",
    "            print('Sports')"
   ]
  },
  {
   "cell_type": "code",
   "execution_count": 8,
   "id": "39dd730c",
   "metadata": {},
   "outputs": [
    {
     "name": "stdout",
     "output_type": "stream",
     "text": [
      "Programming,Gardening\n",
      "Cooking,Art\n",
      "Sports\n"
     ]
    }
   ],
   "source": [
    "c=Child()\n",
    "c.skill()\n",
    "#Now this child is multitalented,he has all the traits from father and mother both"
   ]
  },
  {
   "cell_type": "code",
   "execution_count": null,
   "id": "e5fdb12c",
   "metadata": {},
   "outputs": [],
   "source": []
  }
 ],
 "metadata": {
  "kernelspec": {
   "display_name": "Python 3 (ipykernel)",
   "language": "python",
   "name": "python3"
  },
  "language_info": {
   "codemirror_mode": {
    "name": "ipython",
    "version": 3
   },
   "file_extension": ".py",
   "mimetype": "text/x-python",
   "name": "python",
   "nbconvert_exporter": "python",
   "pygments_lexer": "ipython3",
   "version": "3.7.3"
  }
 },
 "nbformat": 4,
 "nbformat_minor": 5
}

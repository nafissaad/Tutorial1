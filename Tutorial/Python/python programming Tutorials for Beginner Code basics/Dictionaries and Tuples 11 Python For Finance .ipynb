{
 "cells": [
  {
   "cell_type": "code",
   "execution_count": 1,
   "id": "36976784",
   "metadata": {},
   "outputs": [
    {
     "data": {
      "text/plain": [
       "{'Tom': 7326, 'Rob': 732, 'Joe': 889}"
      ]
     },
     "execution_count": 1,
     "metadata": {},
     "output_type": "execute_result"
    }
   ],
   "source": [
    "d={'Tom': 7326,'Rob':732,'Joe':889}\n",
    "d"
   ]
  },
  {
   "cell_type": "code",
   "execution_count": 2,
   "id": "7ddeee33",
   "metadata": {},
   "outputs": [
    {
     "data": {
      "text/plain": [
       "7326"
      ]
     },
     "execution_count": 2,
     "metadata": {},
     "output_type": "execute_result"
    }
   ],
   "source": [
    "d['Tom']"
   ]
  },
  {
   "cell_type": "code",
   "execution_count": 3,
   "id": "e7fbe9a0",
   "metadata": {},
   "outputs": [
    {
     "data": {
      "text/plain": [
       "{'Tom': 7326, 'Rob': 732, 'Joe': 889, 'sam': 999}"
      ]
     },
     "execution_count": 3,
     "metadata": {},
     "output_type": "execute_result"
    }
   ],
   "source": [
    "d['sam']=999\n",
    "d"
   ]
  },
  {
   "cell_type": "code",
   "execution_count": 4,
   "id": "4054203e",
   "metadata": {},
   "outputs": [
    {
     "data": {
      "text/plain": [
       "{'Tom': 7326, 'Rob': 732, 'Joe': 889}"
      ]
     },
     "execution_count": 4,
     "metadata": {},
     "output_type": "execute_result"
    }
   ],
   "source": [
    "del d['sam']\n",
    "d"
   ]
  },
  {
   "cell_type": "code",
   "execution_count": 5,
   "id": "3c62f471",
   "metadata": {},
   "outputs": [
    {
     "name": "stdout",
     "output_type": "stream",
     "text": [
      "Name: Tom ID: 7326\n",
      "Name: Rob ID: 732\n",
      "Name: Joe ID: 889\n"
     ]
    }
   ],
   "source": [
    "for key in d:\n",
    "    print('Name:',key,'ID:',d[key])"
   ]
  },
  {
   "cell_type": "code",
   "execution_count": 6,
   "id": "33ef2e4a",
   "metadata": {},
   "outputs": [
    {
     "name": "stdout",
     "output_type": "stream",
     "text": [
      "Name: Tom ID: 7326\n",
      "Name: Rob ID: 732\n",
      "Name: Joe ID: 889\n"
     ]
    }
   ],
   "source": [
    "for k,v in d.items():\n",
    "    print('Name:',k,'ID:',v)"
   ]
  },
  {
   "cell_type": "code",
   "execution_count": 7,
   "id": "5e822bfa",
   "metadata": {},
   "outputs": [
    {
     "data": {
      "text/plain": [
       "True"
      ]
     },
     "execution_count": 7,
     "metadata": {},
     "output_type": "execute_result"
    }
   ],
   "source": [
    "'Tom' in d"
   ]
  },
  {
   "cell_type": "code",
   "execution_count": 8,
   "id": "35915cef",
   "metadata": {},
   "outputs": [
    {
     "data": {
      "text/plain": [
       "False"
      ]
     },
     "execution_count": 8,
     "metadata": {},
     "output_type": "execute_result"
    }
   ],
   "source": [
    "'Samir' in d"
   ]
  },
  {
   "cell_type": "code",
   "execution_count": 9,
   "id": "0664cd37",
   "metadata": {},
   "outputs": [
    {
     "data": {
      "text/plain": [
       "{}"
      ]
     },
     "execution_count": 9,
     "metadata": {},
     "output_type": "execute_result"
    }
   ],
   "source": [
    "d.clear()\n",
    "d"
   ]
  },
  {
   "cell_type": "code",
   "execution_count": null,
   "id": "52045c37",
   "metadata": {},
   "outputs": [],
   "source": []
  }
 ],
 "metadata": {
  "kernelspec": {
   "display_name": "Python 3 (ipykernel)",
   "language": "python",
   "name": "python3"
  },
  "language_info": {
   "codemirror_mode": {
    "name": "ipython",
    "version": 3
   },
   "file_extension": ".py",
   "mimetype": "text/x-python",
   "name": "python",
   "nbconvert_exporter": "python",
   "pygments_lexer": "ipython3",
   "version": "3.7.3"
  }
 },
 "nbformat": 4,
 "nbformat_minor": 5
}

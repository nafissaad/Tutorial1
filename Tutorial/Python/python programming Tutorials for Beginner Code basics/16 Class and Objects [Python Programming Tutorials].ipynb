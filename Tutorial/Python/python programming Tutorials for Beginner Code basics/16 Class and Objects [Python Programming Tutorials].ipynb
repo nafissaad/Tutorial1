{
 "cells": [
  {
   "cell_type": "code",
   "execution_count": 1,
   "id": "e6370015",
   "metadata": {},
   "outputs": [],
   "source": [
    "class Human:\n",
    "\n",
    "    def __init__(self, name,occupation):\n",
    "        self.id = id\n",
    "        self.name = name\n",
    "        self.occupation= occupation\n",
    "    def do__work(self):\n",
    "        if self.occupation=='Tennis Player':\n",
    "            print(self.name,'plays tennis')\n",
    "        if self.occupation=='Actor':\n",
    "            print(self.name,'Shoots a film')\n",
    "            \n",
    "    def speaks(self):\n",
    "        print(self.name,'Says how are you?')\n"
   ]
  },
  {
   "cell_type": "code",
   "execution_count": 2,
   "id": "4234ae2b",
   "metadata": {},
   "outputs": [
    {
     "name": "stdout",
     "output_type": "stream",
     "text": [
      "tom Cruise Shoots a film\n"
     ]
    }
   ],
   "source": [
    "tom=Human('tom Cruise','Actor')\n",
    "tom.do__work()"
   ]
  },
  {
   "cell_type": "code",
   "execution_count": 3,
   "id": "3a7e865d",
   "metadata": {},
   "outputs": [
    {
     "name": "stdout",
     "output_type": "stream",
     "text": [
      "tom Cruise Says how are you?\n"
     ]
    }
   ],
   "source": [
    "tom.speaks()"
   ]
  },
  {
   "cell_type": "code",
   "execution_count": 4,
   "id": "0adc5591",
   "metadata": {},
   "outputs": [
    {
     "name": "stdout",
     "output_type": "stream",
     "text": [
      "maria sharapova plays tennis\n"
     ]
    }
   ],
   "source": [
    "tom=Human('maria sharapova','Tennis Player')\n",
    "tom.do__work()"
   ]
  },
  {
   "cell_type": "code",
   "execution_count": 5,
   "id": "84e308cb",
   "metadata": {},
   "outputs": [
    {
     "name": "stdout",
     "output_type": "stream",
     "text": [
      "maria sharapova Says how are you?\n"
     ]
    }
   ],
   "source": [
    "tom.speaks()"
   ]
  },
  {
   "cell_type": "code",
   "execution_count": null,
   "id": "5dc1f01d",
   "metadata": {},
   "outputs": [],
   "source": []
  }
 ],
 "metadata": {
  "kernelspec": {
   "display_name": "Python 3 (ipykernel)",
   "language": "python",
   "name": "python3"
  },
  "language_info": {
   "codemirror_mode": {
    "name": "ipython",
    "version": 3
   },
   "file_extension": ".py",
   "mimetype": "text/x-python",
   "name": "python",
   "nbconvert_exporter": "python",
   "pygments_lexer": "ipython3",
   "version": "3.7.3"
  }
 },
 "nbformat": 4,
 "nbformat_minor": 5
}

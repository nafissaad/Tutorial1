{
 "cells": [
  {
   "cell_type": "code",
   "execution_count": 1,
   "id": "2b4b5ce2",
   "metadata": {},
   "outputs": [
    {
     "name": "stdout",
     "output_type": "stream",
     "text": [
      "Enter a number: 5\n",
      "number is odd\n"
     ]
    }
   ],
   "source": [
    "num=input('Enter a number: ')\n",
    "num=int(num)\n",
    "if num%2==0:\n",
    "    print('number is even')\n",
    "else:\n",
    "    print('number is odd')"
   ]
  },
  {
   "cell_type": "code",
   "execution_count": 2,
   "id": "ef4792ef",
   "metadata": {},
   "outputs": [
    {
     "name": "stdout",
     "output_type": "stream",
     "text": [
      "Enter a dish name: samosa\n",
      "Indian\n"
     ]
    }
   ],
   "source": [
    "indian=['samosa','daal','naan']\n",
    "chinese=['egg role','pot sticker','fried rice']\n",
    "italian=['pizza','pasta','risotto']\n",
    "\n",
    "dish=input('Enter a dish name: ')\n",
    "if dish in indian:\n",
    "    print('Indian')\n",
    "elif dish in chinese:\n",
    "    print('Chinese')\n",
    "elif dish in italian:\n",
    "    print('Italian')\n",
    "else:\n",
    "    print('Not in out list')"
   ]
  },
  {
   "cell_type": "code",
   "execution_count": null,
   "id": "871d3bdd",
   "metadata": {},
   "outputs": [],
   "source": []
  }
 ],
 "metadata": {
  "kernelspec": {
   "display_name": "Python 3 (ipykernel)",
   "language": "python",
   "name": "python3"
  },
  "language_info": {
   "codemirror_mode": {
    "name": "ipython",
    "version": 3
   },
   "file_extension": ".py",
   "mimetype": "text/x-python",
   "name": "python",
   "nbconvert_exporter": "python",
   "pygments_lexer": "ipython3",
   "version": "3.7.3"
  }
 },
 "nbformat": 4,
 "nbformat_minor": 5
}

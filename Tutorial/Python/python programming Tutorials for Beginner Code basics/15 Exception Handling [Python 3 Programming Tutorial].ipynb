{
 "cells": [
  {
   "cell_type": "code",
   "execution_count": 1,
   "id": "79657b3d",
   "metadata": {},
   "outputs": [
    {
     "name": "stdout",
     "output_type": "stream",
     "text": [
      "Enter Number1: 4\n",
      "Enter Number2: 2\n",
      "Dvision is :  2.0\n"
     ]
    }
   ],
   "source": [
    "x=input('Enter Number1: ')\n",
    "y=input('Enter Number2: ')\n",
    "z=int(x)/int(y)\n",
    "print('Dvision is : ',z)"
   ]
  },
  {
   "cell_type": "code",
   "execution_count": 2,
   "id": "31ae4f1e",
   "metadata": {},
   "outputs": [
    {
     "name": "stdout",
     "output_type": "stream",
     "text": [
      "Enter Number1: 1\n",
      "Enter Number2: 0\n"
     ]
    },
    {
     "ename": "ZeroDivisionError",
     "evalue": "division by zero",
     "output_type": "error",
     "traceback": [
      "\u001b[1;31m---------------------------------------------------------------------------\u001b[0m",
      "\u001b[1;31mZeroDivisionError\u001b[0m                         Traceback (most recent call last)",
      "\u001b[1;32mC:\\Users\\NAFISS~1\\AppData\\Local\\Temp/ipykernel_2604/2531954987.py\u001b[0m in \u001b[0;36m<module>\u001b[1;34m\u001b[0m\n\u001b[0;32m      1\u001b[0m \u001b[0mx\u001b[0m\u001b[1;33m=\u001b[0m\u001b[0minput\u001b[0m\u001b[1;33m(\u001b[0m\u001b[1;34m'Enter Number1: '\u001b[0m\u001b[1;33m)\u001b[0m\u001b[1;33m\u001b[0m\u001b[1;33m\u001b[0m\u001b[0m\n\u001b[0;32m      2\u001b[0m \u001b[0my\u001b[0m\u001b[1;33m=\u001b[0m\u001b[0minput\u001b[0m\u001b[1;33m(\u001b[0m\u001b[1;34m'Enter Number2: '\u001b[0m\u001b[1;33m)\u001b[0m\u001b[1;33m\u001b[0m\u001b[1;33m\u001b[0m\u001b[0m\n\u001b[1;32m----> 3\u001b[1;33m \u001b[0mz\u001b[0m\u001b[1;33m=\u001b[0m\u001b[0mint\u001b[0m\u001b[1;33m(\u001b[0m\u001b[0mx\u001b[0m\u001b[1;33m)\u001b[0m\u001b[1;33m/\u001b[0m\u001b[0mint\u001b[0m\u001b[1;33m(\u001b[0m\u001b[0my\u001b[0m\u001b[1;33m)\u001b[0m\u001b[1;33m\u001b[0m\u001b[1;33m\u001b[0m\u001b[0m\n\u001b[0m\u001b[0;32m      4\u001b[0m \u001b[0mprint\u001b[0m\u001b[1;33m(\u001b[0m\u001b[1;34m'Dvision is : '\u001b[0m\u001b[1;33m,\u001b[0m\u001b[0mz\u001b[0m\u001b[1;33m)\u001b[0m\u001b[1;33m\u001b[0m\u001b[1;33m\u001b[0m\u001b[0m\n",
      "\u001b[1;31mZeroDivisionError\u001b[0m: division by zero"
     ]
    }
   ],
   "source": [
    "x=input('Enter Number1: ')\n",
    "y=input('Enter Number2: ')\n",
    "z=int(x)/int(y)\n",
    "print('Dvision is : ',z)"
   ]
  },
  {
   "cell_type": "code",
   "execution_count": 3,
   "id": "8abaccc5",
   "metadata": {},
   "outputs": [
    {
     "name": "stdout",
     "output_type": "stream",
     "text": [
      "Enter Number1: 1\n",
      "Enter Number2: 0\n",
      "exception occure division by zero\n",
      "Division is: None\n"
     ]
    }
   ],
   "source": [
    "x=input('Enter Number1: ')\n",
    "y=input('Enter Number2: ')\n",
    "try:\n",
    "    z=int(x)/int(y)\n",
    "except Exception as e:\n",
    "    print('exception occure',e)\n",
    "    z=None\n",
    "print('Division is:',z)"
   ]
  },
  {
   "cell_type": "code",
   "execution_count": 4,
   "id": "d3ded0fe",
   "metadata": {},
   "outputs": [
    {
     "name": "stdout",
     "output_type": "stream",
     "text": [
      "Enter Number1: 4\n",
      "Enter Number2: 4\n",
      "exception occure: 0 TypeError\n",
      "Division is: None\n"
     ]
    }
   ],
   "source": [
    "x=input('Enter Number1: ')\n",
    "y=input('Enter Number2: ')\n",
    "try:\n",
    "    z=x/int(y)\n",
    "except Exception as e:\n",
    "    print('exception occure: 0',type(e).__name__)#to find exception type\n",
    "    z=None\n",
    "print('Division is:',z)"
   ]
  },
  {
   "cell_type": "code",
   "execution_count": null,
   "id": "3b0440bd",
   "metadata": {},
   "outputs": [],
   "source": []
  }
 ],
 "metadata": {
  "kernelspec": {
   "display_name": "Python 3 (ipykernel)",
   "language": "python",
   "name": "python3"
  },
  "language_info": {
   "codemirror_mode": {
    "name": "ipython",
    "version": 3
   },
   "file_extension": ".py",
   "mimetype": "text/x-python",
   "name": "python",
   "nbconvert_exporter": "python",
   "pygments_lexer": "ipython3",
   "version": "3.7.3"
  }
 },
 "nbformat": 4,
 "nbformat_minor": 5
}

{
 "cells": [
  {
   "cell_type": "code",
   "execution_count": 1,
   "id": "90c86ea4",
   "metadata": {},
   "outputs": [
    {
     "name": "stdout",
     "output_type": "stream",
     "text": [
      "13020\n"
     ]
    }
   ],
   "source": [
    "exp=[2340,2500,2100,3100,2980]\n",
    "total=0\n",
    "for item in exp:\n",
    "    total=total+item\n",
    "print(total)"
   ]
  },
  {
   "cell_type": "code",
   "execution_count": 2,
   "id": "95d60bcd",
   "metadata": {},
   "outputs": [
    {
     "name": "stdout",
     "output_type": "stream",
     "text": [
      "Mont:  1 Expenses:  2340\n",
      "Mont:  2 Expenses:  2500\n",
      "Mont:  3 Expenses:  2100\n",
      "Mont:  4 Expenses:  3100\n",
      "Mont:  5 Expenses:  2980\n",
      "Total expense is:  13020\n"
     ]
    }
   ],
   "source": [
    "for i in range(len(exp)):\n",
    "    print('Mont: ',(i+1),'Expenses: ',exp[i])\n",
    "print('Total expense is: ',total)"
   ]
  },
  {
   "cell_type": "code",
   "execution_count": 3,
   "id": "077132c8",
   "metadata": {},
   "outputs": [
    {
     "name": "stdout",
     "output_type": "stream",
     "text": [
      "key is not found in Garage\n",
      "key is not found in Living Romm\n",
      "key is found in Chair\n"
     ]
    }
   ],
   "source": [
    "key_location ='Chair'\n",
    "locations=['Garage','Living Romm','Chair','Closet']\n",
    "for i in locations:\n",
    "    if i==key_location:\n",
    "        print('key is found in',i)\n",
    "        break\n",
    "    else:\n",
    "        print('key is not found in',i)"
   ]
  },
  {
   "cell_type": "code",
   "execution_count": 4,
   "id": "a5e46252",
   "metadata": {},
   "outputs": [
    {
     "name": "stdout",
     "output_type": "stream",
     "text": [
      "1\n",
      "9\n",
      "25\n"
     ]
    }
   ],
   "source": [
    "for i in range(1,6):\n",
    "    if i%2==0:\n",
    "        continue\n",
    "    print(i*i)"
   ]
  },
  {
   "cell_type": "code",
   "execution_count": 5,
   "id": "c82375c3",
   "metadata": {},
   "outputs": [
    {
     "name": "stdout",
     "output_type": "stream",
     "text": [
      "0\n",
      "1\n",
      "2\n",
      "3\n",
      "4\n",
      "5\n"
     ]
    }
   ],
   "source": [
    "i=0\n",
    "while i<=5:\n",
    "    print(i)\n",
    "    i=i+1"
   ]
  },
  {
   "cell_type": "code",
   "execution_count": null,
   "id": "76c2f740",
   "metadata": {},
   "outputs": [],
   "source": []
  }
 ],
 "metadata": {
  "kernelspec": {
   "display_name": "Python 3 (ipykernel)",
   "language": "python",
   "name": "python3"
  },
  "language_info": {
   "codemirror_mode": {
    "name": "ipython",
    "version": 3
   },
   "file_extension": ".py",
   "mimetype": "text/x-python",
   "name": "python",
   "nbconvert_exporter": "python",
   "pygments_lexer": "ipython3",
   "version": "3.7.3"
  }
 },
 "nbformat": 4,
 "nbformat_minor": 5
}

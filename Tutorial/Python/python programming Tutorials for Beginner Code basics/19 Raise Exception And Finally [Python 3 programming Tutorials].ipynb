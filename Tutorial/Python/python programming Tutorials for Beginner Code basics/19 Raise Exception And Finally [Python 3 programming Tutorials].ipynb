{
 "cells": [
  {
   "cell_type": "code",
   "execution_count": 1,
   "id": "10978155",
   "metadata": {},
   "outputs": [],
   "source": [
    "class Accident(Exception):\n",
    "    def __init__(self,msg):\n",
    "        self.msg=msg\n",
    "    def print_exception(self):\n",
    "        print('User defined exception',self.msg)"
   ]
  },
  {
   "cell_type": "code",
   "execution_count": 2,
   "id": "4bd8dfde",
   "metadata": {},
   "outputs": [
    {
     "name": "stdout",
     "output_type": "stream",
     "text": [
      "User defined exception Crash between two cars\n"
     ]
    }
   ],
   "source": [
    "try:\n",
    "    raise Accident('Crash between two cars')\n",
    "except Accident as e:\n",
    "    e.print_exception()"
   ]
  },
  {
   "cell_type": "code",
   "execution_count": 3,
   "id": "a0121264",
   "metadata": {},
   "outputs": [],
   "source": [
    "class Accident(Exception):\n",
    "    def __init__(self,msg):\n",
    "        self.msg=msg\n",
    "    def handle(self):\n",
    "        print('accident occured, take detour')"
   ]
  },
  {
   "cell_type": "code",
   "execution_count": 4,
   "id": "344082d9",
   "metadata": {},
   "outputs": [
    {
     "name": "stdout",
     "output_type": "stream",
     "text": [
      "accident occured, take detour\n"
     ]
    }
   ],
   "source": [
    "try:\n",
    "    raise Accident('Crash between two cars')\n",
    "except Accident as e:\n",
    "    e.handle()"
   ]
  },
  {
   "cell_type": "code",
   "execution_count": null,
   "id": "95a1ff72",
   "metadata": {},
   "outputs": [],
   "source": []
  }
 ],
 "metadata": {
  "kernelspec": {
   "display_name": "Python 3 (ipykernel)",
   "language": "python",
   "name": "python3"
  },
  "language_info": {
   "codemirror_mode": {
    "name": "ipython",
    "version": 3
   },
   "file_extension": ".py",
   "mimetype": "text/x-python",
   "name": "python",
   "nbconvert_exporter": "python",
   "pygments_lexer": "ipython3",
   "version": "3.7.3"
  }
 },
 "nbformat": 4,
 "nbformat_minor": 5
}

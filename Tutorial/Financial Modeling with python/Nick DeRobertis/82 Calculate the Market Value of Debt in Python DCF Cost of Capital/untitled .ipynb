{
 "cells": [
  {
   "cell_type": "code",
   "execution_count": 1,
   "id": "12492eda",
   "metadata": {},
   "outputs": [],
   "source": [
    "total_book_debt=1000000\n",
    "interest_expense=60000\n",
    "cost_of_debt=0.08"
   ]
  },
  {
   "cell_type": "code",
   "execution_count": 2,
   "id": "b931150b",
   "metadata": {},
   "outputs": [
    {
     "data": {
      "text/plain": [
       "1000000"
      ]
     },
     "execution_count": 2,
     "metadata": {},
     "output_type": "execute_result"
    }
   ],
   "source": [
    "mv_debt=total_book_debt\n",
    "mv_debt"
   ]
  },
  {
   "cell_type": "code",
   "execution_count": 3,
   "id": "12db036d",
   "metadata": {},
   "outputs": [],
   "source": [
    "average_maturity=5"
   ]
  },
  {
   "cell_type": "code",
   "execution_count": 4,
   "id": "6b913c91",
   "metadata": {},
   "outputs": [
    {
     "data": {
      "text/plain": [
       "0.06"
      ]
     },
     "execution_count": 4,
     "metadata": {},
     "output_type": "execute_result"
    }
   ],
   "source": [
    "#Determin the Coupon Payment on the Hypothetical Bond\n",
    "coupon_rate=interest_expense/total_book_debt\n",
    "coupon_rate"
   ]
  },
  {
   "cell_type": "code",
   "execution_count": 5,
   "id": "e70f6558",
   "metadata": {},
   "outputs": [
    {
     "data": {
      "text/plain": [
       "[60000.0, 60000.0, 60000.0, 60000.0, 1060000.0]"
      ]
     },
     "execution_count": 5,
     "metadata": {},
     "output_type": "execute_result"
    }
   ],
   "source": [
    "principal=total_book_debt\n",
    "coupon_payment=coupon_rate*principal\n",
    "cash_flows=[coupon_rate*principal for i in range(average_maturity-1)]+[(1+coupon_rate)*principal]\n",
    "cash_flows"
   ]
  },
  {
   "cell_type": "code",
   "execution_count": 6,
   "id": "163c268d",
   "metadata": {},
   "outputs": [
    {
     "data": {
      "text/plain": [
       "[60000.0, 60000.0, 60000.0, 60000.0]"
      ]
     },
     "execution_count": 6,
     "metadata": {},
     "output_type": "execute_result"
    }
   ],
   "source": [
    "[coupon_rate*principal for i in range(average_maturity-1)]#Coupon payment last 4 year"
   ]
  },
  {
   "cell_type": "code",
   "execution_count": 7,
   "id": "6aa52db6",
   "metadata": {},
   "outputs": [
    {
     "data": {
      "text/plain": [
       "[1060000.0]"
      ]
     },
     "execution_count": 7,
     "metadata": {},
     "output_type": "execute_result"
    }
   ],
   "source": [
    "[(1+coupon_rate)*principal]#Coupon payment in last year plust principal ammount "
   ]
  },
  {
   "cell_type": "code",
   "execution_count": 8,
   "id": "e58d52e2",
   "metadata": {},
   "outputs": [
    {
     "data": {
      "text/plain": [
       "920145.7992584379"
      ]
     },
     "execution_count": 8,
     "metadata": {},
     "output_type": "execute_result"
    }
   ],
   "source": [
    "import numpy_financial as npf\n",
    "#Calculate Value of Hypothetical Bond as Mv of Debt\n",
    "mv_debt=npf.npv(cost_of_debt,[0]+cash_flows)\n",
    "mv_debt"
   ]
  },
  {
   "cell_type": "code",
   "execution_count": 9,
   "id": "333e48a5",
   "metadata": {},
   "outputs": [
    {
     "data": {
      "text/plain": [
       "[0, 60000.0, 60000.0, 60000.0, 60000.0, 1060000.0]"
      ]
     },
     "execution_count": 9,
     "metadata": {},
     "output_type": "execute_result"
    }
   ],
   "source": [
    "[0]+cash_flows"
   ]
  },
  {
   "cell_type": "code",
   "execution_count": 10,
   "id": "c6934949",
   "metadata": {},
   "outputs": [
    {
     "data": {
      "text/plain": [
       "[60000.0, 60000.0, 60000.0, 60000.0, 1060000.0]"
      ]
     },
     "execution_count": 10,
     "metadata": {},
     "output_type": "execute_result"
    }
   ],
   "source": [
    "cash_flows"
   ]
  },
  {
   "cell_type": "code",
   "execution_count": 11,
   "id": "9ec5a60d",
   "metadata": {},
   "outputs": [
    {
     "data": {
      "text/plain": [
       "920145.7992584382"
      ]
     },
     "execution_count": 11,
     "metadata": {},
     "output_type": "execute_result"
    }
   ],
   "source": [
    "mv_debt=coupon_payment*((1-(1+cost_of_debt)**(-average_maturity))/cost_of_debt)+principal/(1+cost_of_debt)**average_maturity\n",
    "mv_debt"
   ]
  },
  {
   "cell_type": "code",
   "execution_count": 12,
   "id": "62ad8c77",
   "metadata": {},
   "outputs": [
    {
     "data": {
      "text/plain": [
       "913722.8716722389"
      ]
     },
     "execution_count": 12,
     "metadata": {},
     "output_type": "execute_result"
    }
   ],
   "source": [
    "# we can wrap this all up in a function\n",
    "def mv_debt_by_average_maturity(average_maturity,cost_of_debt,total_book_debt,interest_expense):\n",
    "    '''Calculate the market value of debt based off financial statement data, cost of debt, and average maturity'''\n",
    "    coupon_rate=interest_expense/total_book_debt\n",
    "    principal=total_book_debt\n",
    "    coupon_payment=coupon_rate*principal\n",
    "    return coupon_payment*((1-(1+cost_of_debt)**(-average_maturity))/cost_of_debt)+principal/(1+cost_of_debt)**average_maturity\n",
    "mv_debt_by_average_maturity(5.5,cost_of_debt,total_book_debt,interest_expense)"
   ]
  },
  {
   "cell_type": "code",
   "execution_count": 13,
   "id": "df79d84e",
   "metadata": {},
   "outputs": [
    {
     "data": {
      "text/html": [
       "<div>\n",
       "<style scoped>\n",
       "    .dataframe tbody tr th:only-of-type {\n",
       "        vertical-align: middle;\n",
       "    }\n",
       "\n",
       "    .dataframe tbody tr th {\n",
       "        vertical-align: top;\n",
       "    }\n",
       "\n",
       "    .dataframe thead th {\n",
       "        text-align: right;\n",
       "    }\n",
       "</style>\n",
       "<table border=\"1\" class=\"dataframe\">\n",
       "  <thead>\n",
       "    <tr style=\"text-align: right;\">\n",
       "      <th></th>\n",
       "      <th>Principal</th>\n",
       "      <th>Coupon Rate</th>\n",
       "      <th>Maturity (years)</th>\n",
       "      <th>Maturity (Date)</th>\n",
       "    </tr>\n",
       "  </thead>\n",
       "  <tbody>\n",
       "    <tr>\n",
       "      <th>0</th>\n",
       "      <td>300000</td>\n",
       "      <td>0.07</td>\n",
       "      <td>2</td>\n",
       "      <td>2021-11-06</td>\n",
       "    </tr>\n",
       "    <tr>\n",
       "      <th>1</th>\n",
       "      <td>500000</td>\n",
       "      <td>0.05</td>\n",
       "      <td>3</td>\n",
       "      <td>2022-11-06</td>\n",
       "    </tr>\n",
       "    <tr>\n",
       "      <th>2</th>\n",
       "      <td>200000</td>\n",
       "      <td>0.06</td>\n",
       "      <td>4</td>\n",
       "      <td>2023-11-06</td>\n",
       "    </tr>\n",
       "  </tbody>\n",
       "</table>\n",
       "</div>"
      ],
      "text/plain": [
       "   Principal  Coupon Rate  Maturity (years) Maturity (Date)\n",
       "0     300000         0.07                 2      2021-11-06\n",
       "1     500000         0.05                 3      2022-11-06\n",
       "2     200000         0.06                 4      2023-11-06"
      ]
     },
     "execution_count": 13,
     "metadata": {},
     "output_type": "execute_result"
    }
   ],
   "source": [
    "import pandas as pd\n",
    "df=pd.read_excel('debt data.xlsx')\n",
    "df"
   ]
  },
  {
   "cell_type": "code",
   "execution_count": 14,
   "id": "dcf16c69",
   "metadata": {},
   "outputs": [
    {
     "data": {
      "text/plain": [
       "1000000"
      ]
     },
     "execution_count": 14,
     "metadata": {},
     "output_type": "execute_result"
    }
   ],
   "source": [
    "df['Principal'].sum()"
   ]
  },
  {
   "cell_type": "code",
   "execution_count": 15,
   "id": "5b3346ab",
   "metadata": {},
   "outputs": [
    {
     "data": {
      "text/plain": [
       "1000000"
      ]
     },
     "execution_count": 15,
     "metadata": {},
     "output_type": "execute_result"
    }
   ],
   "source": [
    "total_book_debt"
   ]
  },
  {
   "cell_type": "code",
   "execution_count": 16,
   "id": "ecef55f2",
   "metadata": {},
   "outputs": [
    {
     "data": {
      "text/plain": [
       "[21000.000000000004, 321000.0]"
      ]
     },
     "execution_count": 16,
     "metadata": {},
     "output_type": "execute_result"
    }
   ],
   "source": [
    "#Calculate the Value of Debt Instrument\n",
    "principal=300000\n",
    "coupon_rate=0.07\n",
    "maturity=2\n",
    "\n",
    "coupon_payment=coupon_rate*principal\n",
    "cash_flows=[coupon_rate*principal for i in range(maturity-1)]+[(1+coupon_rate)*principal]\n",
    "cash_flows"
   ]
  },
  {
   "cell_type": "code",
   "execution_count": 17,
   "id": "bf6a3ea8",
   "metadata": {},
   "outputs": [
    {
     "data": {
      "text/plain": [
       "294650.2057613168"
      ]
     },
     "execution_count": 17,
     "metadata": {},
     "output_type": "execute_result"
    }
   ],
   "source": [
    "my_debt=npf.npv(cost_of_debt,[0]+cash_flows)\n",
    "my_debt"
   ]
  },
  {
   "cell_type": "code",
   "execution_count": 18,
   "id": "2ae31b31",
   "metadata": {},
   "outputs": [
    {
     "data": {
      "text/plain": [
       "294650.2057613168"
      ]
     },
     "execution_count": 18,
     "metadata": {},
     "output_type": "execute_result"
    }
   ],
   "source": [
    "def mv_bond(principal,coupon_rate,maturity,cost_of_debt):\n",
    "    '''\n",
    "    Calculate the market value of bond\n",
    "    '''\n",
    "    coupon_payment=coupon_rate*principal\n",
    "    cash_flows=[coupon_rate*principal for i in range(maturity-1)]+[coupon_payment+principal]\n",
    "    return npf.npv(cost_of_debt,[0]+cash_flows)\n",
    "mv_bond(principal,coupon_rate,maturity,cost_of_debt)"
   ]
  },
  {
   "cell_type": "code",
   "execution_count": 19,
   "id": "e8cb7496",
   "metadata": {},
   "outputs": [],
   "source": [
    "def understand_apply(series):\n",
    "    '''\n",
    "    For demonstration purpose to understand DataFrame.apply\n",
    "    '''\n",
    "    print('Calling understand_apply')\n",
    "    print(f'Got values:\\n{series}\\n')\n",
    "    print(f'Values have type{type(series)}')\n",
    "    principal=series['Principal']\n",
    "    print(f'Value pf principal in the series:{principal}')\n",
    "    principal=series['Principal']\n",
    "    print(f'Value pf principal in the series:{principal}')\n",
    "    print('\\n\\n\\n')#separate output"
   ]
  },
  {
   "cell_type": "code",
   "execution_count": 20,
   "id": "f7746cab",
   "metadata": {},
   "outputs": [
    {
     "name": "stdout",
     "output_type": "stream",
     "text": [
      "Calling understand_apply\n",
      "Got values:\n",
      "Principal                        300000\n",
      "Coupon Rate                        0.07\n",
      "Maturity (years)                      2\n",
      "Maturity (Date)     2021-11-06 00:00:00\n",
      "Name: 0, dtype: object\n",
      "\n",
      "Values have type<class 'pandas.core.series.Series'>\n",
      "Value pf principal in the series:300000\n",
      "Value pf principal in the series:300000\n",
      "\n",
      "\n",
      "\n",
      "\n",
      "Calling understand_apply\n",
      "Got values:\n",
      "Principal                        500000\n",
      "Coupon Rate                        0.05\n",
      "Maturity (years)                      3\n",
      "Maturity (Date)     2022-11-06 00:00:00\n",
      "Name: 1, dtype: object\n",
      "\n",
      "Values have type<class 'pandas.core.series.Series'>\n",
      "Value pf principal in the series:500000\n",
      "Value pf principal in the series:500000\n",
      "\n",
      "\n",
      "\n",
      "\n",
      "Calling understand_apply\n",
      "Got values:\n",
      "Principal                        200000\n",
      "Coupon Rate                        0.06\n",
      "Maturity (years)                      4\n",
      "Maturity (Date)     2023-11-06 00:00:00\n",
      "Name: 2, dtype: object\n",
      "\n",
      "Values have type<class 'pandas.core.series.Series'>\n",
      "Value pf principal in the series:200000\n",
      "Value pf principal in the series:200000\n",
      "\n",
      "\n",
      "\n",
      "\n"
     ]
    },
    {
     "data": {
      "text/plain": [
       "0    None\n",
       "1    None\n",
       "2    None\n",
       "dtype: object"
      ]
     },
     "execution_count": 20,
     "metadata": {},
     "output_type": "execute_result"
    }
   ],
   "source": [
    "df.apply(understand_apply,axis=1)"
   ]
  },
  {
   "cell_type": "code",
   "execution_count": 21,
   "id": "fd6dc0e3",
   "metadata": {},
   "outputs": [
    {
     "data": {
      "text/plain": [
       "0    294650.205761\n",
       "1    461343.545191\n",
       "2    186751.492640\n",
       "dtype: float64"
      ]
     },
     "execution_count": 21,
     "metadata": {},
     "output_type": "execute_result"
    }
   ],
   "source": [
    "def mv_bond_for_apply(series,cost_of_debt):\n",
    "    '''\n",
    "    For demonstration purpose to understand DataFrame.apply\n",
    "    '''\n",
    "    principal=series['Principal']\n",
    "    coupon_rate=series['Coupon Rate']\n",
    "    maturity=series['Maturity (years)']\n",
    "    return mv_bond(principal,coupon_rate,maturity,cost_of_debt)\n",
    "df.apply(mv_bond_for_apply,axis=1,cost_of_debt=cost_of_debt)"
   ]
  },
  {
   "cell_type": "code",
   "execution_count": 22,
   "id": "915fd8d0",
   "metadata": {},
   "outputs": [],
   "source": [
    "df['Value']=df.apply(mv_bond_for_apply,axis=1,cost_of_debt=cost_of_debt)"
   ]
  },
  {
   "cell_type": "code",
   "execution_count": 23,
   "id": "98a28088",
   "metadata": {},
   "outputs": [
    {
     "data": {
      "text/html": [
       "<div>\n",
       "<style scoped>\n",
       "    .dataframe tbody tr th:only-of-type {\n",
       "        vertical-align: middle;\n",
       "    }\n",
       "\n",
       "    .dataframe tbody tr th {\n",
       "        vertical-align: top;\n",
       "    }\n",
       "\n",
       "    .dataframe thead th {\n",
       "        text-align: right;\n",
       "    }\n",
       "</style>\n",
       "<table border=\"1\" class=\"dataframe\">\n",
       "  <thead>\n",
       "    <tr style=\"text-align: right;\">\n",
       "      <th></th>\n",
       "      <th>Principal</th>\n",
       "      <th>Coupon Rate</th>\n",
       "      <th>Maturity (years)</th>\n",
       "      <th>Maturity (Date)</th>\n",
       "      <th>Value</th>\n",
       "    </tr>\n",
       "  </thead>\n",
       "  <tbody>\n",
       "    <tr>\n",
       "      <th>0</th>\n",
       "      <td>300000</td>\n",
       "      <td>0.07</td>\n",
       "      <td>2</td>\n",
       "      <td>2021-11-06</td>\n",
       "      <td>294650.205761</td>\n",
       "    </tr>\n",
       "    <tr>\n",
       "      <th>1</th>\n",
       "      <td>500000</td>\n",
       "      <td>0.05</td>\n",
       "      <td>3</td>\n",
       "      <td>2022-11-06</td>\n",
       "      <td>461343.545191</td>\n",
       "    </tr>\n",
       "    <tr>\n",
       "      <th>2</th>\n",
       "      <td>200000</td>\n",
       "      <td>0.06</td>\n",
       "      <td>4</td>\n",
       "      <td>2023-11-06</td>\n",
       "      <td>186751.492640</td>\n",
       "    </tr>\n",
       "  </tbody>\n",
       "</table>\n",
       "</div>"
      ],
      "text/plain": [
       "   Principal  Coupon Rate  Maturity (years) Maturity (Date)          Value\n",
       "0     300000         0.07                 2      2021-11-06  294650.205761\n",
       "1     500000         0.05                 3      2022-11-06  461343.545191\n",
       "2     200000         0.06                 4      2023-11-06  186751.492640"
      ]
     },
     "execution_count": 23,
     "metadata": {},
     "output_type": "execute_result"
    }
   ],
   "source": [
    "df"
   ]
  },
  {
   "cell_type": "code",
   "execution_count": 24,
   "id": "35d3ed7d",
   "metadata": {},
   "outputs": [
    {
     "data": {
      "text/plain": [
       "942745.2435924213"
      ]
     },
     "execution_count": 24,
     "metadata": {},
     "output_type": "execute_result"
    }
   ],
   "source": [
    "my_debt=df['Value'].sum()\n",
    "my_debt"
   ]
  },
  {
   "cell_type": "code",
   "execution_count": 25,
   "id": "52599ccc",
   "metadata": {},
   "outputs": [
    {
     "data": {
      "text/plain": [
       "0    294650.205761\n",
       "1    461343.545191\n",
       "2    186751.492640\n",
       "dtype: float64"
      ]
     },
     "execution_count": 25,
     "metadata": {},
     "output_type": "execute_result"
    }
   ],
   "source": [
    "def mv_bond_annuity_approach(principal, coupon_rate, maturity, cost_of_debt):\n",
    "    \"\"\"\n",
    "    Calculate the market value of bond with non-integer maturity\n",
    "    \"\"\"\n",
    "    coupon_payment = coupon_rate * principal\n",
    "    return coupon_payment * ((1 - (1 + cost_of_debt)**(-maturity))/cost_of_debt) + principal/(1 + cost_of_debt)**maturity\n",
    "\n",
    "\n",
    "def mv_bond_annuity_approach_for_apply(series, cost_of_debt):\n",
    "    \"\"\"\n",
    "    Calculate market value of a bond with non-integer maturity. This version to be used with DataFrame.apply\n",
    "    \"\"\"\n",
    "    principal = series['Principal']\n",
    "    coupon_rate = series['Coupon Rate']\n",
    "    maturity = series['Maturity (years)']\n",
    "    return mv_bond_annuity_approach(principal, coupon_rate, maturity, cost_of_debt)\n",
    "\n",
    "df.apply(mv_bond_annuity_approach_for_apply, axis=1, cost_of_debt=cost_of_debt)"
   ]
  },
  {
   "cell_type": "code",
   "execution_count": 26,
   "id": "2e1e2435",
   "metadata": {},
   "outputs": [
    {
     "data": {
      "text/html": [
       "<div>\n",
       "<style scoped>\n",
       "    .dataframe tbody tr th:only-of-type {\n",
       "        vertical-align: middle;\n",
       "    }\n",
       "\n",
       "    .dataframe tbody tr th {\n",
       "        vertical-align: top;\n",
       "    }\n",
       "\n",
       "    .dataframe thead th {\n",
       "        text-align: right;\n",
       "    }\n",
       "</style>\n",
       "<table border=\"1\" class=\"dataframe\">\n",
       "  <thead>\n",
       "    <tr style=\"text-align: right;\">\n",
       "      <th></th>\n",
       "      <th>Principal</th>\n",
       "      <th>Coupon Rate</th>\n",
       "      <th>Maturity (years)</th>\n",
       "      <th>Maturity (Date)</th>\n",
       "      <th>Value</th>\n",
       "    </tr>\n",
       "  </thead>\n",
       "  <tbody>\n",
       "    <tr>\n",
       "      <th>0</th>\n",
       "      <td>300000</td>\n",
       "      <td>0.07</td>\n",
       "      <td>2</td>\n",
       "      <td>2021-11-06</td>\n",
       "      <td>294650.205761</td>\n",
       "    </tr>\n",
       "    <tr>\n",
       "      <th>1</th>\n",
       "      <td>500000</td>\n",
       "      <td>0.05</td>\n",
       "      <td>3</td>\n",
       "      <td>2022-11-06</td>\n",
       "      <td>461343.545191</td>\n",
       "    </tr>\n",
       "    <tr>\n",
       "      <th>2</th>\n",
       "      <td>200000</td>\n",
       "      <td>0.06</td>\n",
       "      <td>4</td>\n",
       "      <td>2023-11-06</td>\n",
       "      <td>186751.492640</td>\n",
       "    </tr>\n",
       "  </tbody>\n",
       "</table>\n",
       "</div>"
      ],
      "text/plain": [
       "   Principal  Coupon Rate  Maturity (years) Maturity (Date)          Value\n",
       "0     300000         0.07                 2      2021-11-06  294650.205761\n",
       "1     500000         0.05                 3      2022-11-06  461343.545191\n",
       "2     200000         0.06                 4      2023-11-06  186751.492640"
      ]
     },
     "execution_count": 26,
     "metadata": {},
     "output_type": "execute_result"
    }
   ],
   "source": [
    "df"
   ]
  },
  {
   "cell_type": "code",
   "execution_count": 27,
   "id": "6e3acada",
   "metadata": {},
   "outputs": [
    {
     "data": {
      "text/html": [
       "<div>\n",
       "<style scoped>\n",
       "    .dataframe tbody tr th:only-of-type {\n",
       "        vertical-align: middle;\n",
       "    }\n",
       "\n",
       "    .dataframe tbody tr th {\n",
       "        vertical-align: top;\n",
       "    }\n",
       "\n",
       "    .dataframe thead th {\n",
       "        text-align: right;\n",
       "    }\n",
       "</style>\n",
       "<table border=\"1\" class=\"dataframe\">\n",
       "  <thead>\n",
       "    <tr style=\"text-align: right;\">\n",
       "      <th></th>\n",
       "      <th>Principal</th>\n",
       "      <th>Coupon Rate</th>\n",
       "      <th>Maturity (Date)</th>\n",
       "    </tr>\n",
       "  </thead>\n",
       "  <tbody>\n",
       "    <tr>\n",
       "      <th>0</th>\n",
       "      <td>300000</td>\n",
       "      <td>0.07</td>\n",
       "      <td>2021-11-06</td>\n",
       "    </tr>\n",
       "    <tr>\n",
       "      <th>1</th>\n",
       "      <td>500000</td>\n",
       "      <td>0.05</td>\n",
       "      <td>2022-11-06</td>\n",
       "    </tr>\n",
       "    <tr>\n",
       "      <th>2</th>\n",
       "      <td>200000</td>\n",
       "      <td>0.06</td>\n",
       "      <td>2023-11-06</td>\n",
       "    </tr>\n",
       "  </tbody>\n",
       "</table>\n",
       "</div>"
      ],
      "text/plain": [
       "   Principal  Coupon Rate Maturity (Date)\n",
       "0     300000         0.07      2021-11-06\n",
       "1     500000         0.05      2022-11-06\n",
       "2     200000         0.06      2023-11-06"
      ]
     },
     "execution_count": 27,
     "metadata": {},
     "output_type": "execute_result"
    }
   ],
   "source": [
    "df = df.drop(['Maturity (years)', 'Value'], axis=1)  # axis=1 here means column, the command can also be used to drop rows with axis=0\n",
    "df"
   ]
  },
  {
   "cell_type": "code",
   "execution_count": 28,
   "id": "7cd8dded",
   "metadata": {},
   "outputs": [
    {
     "data": {
      "text/plain": [
       "Principal                   int64\n",
       "Coupon Rate               float64\n",
       "Maturity (Date)    datetime64[ns]\n",
       "dtype: object"
      ]
     },
     "execution_count": 28,
     "metadata": {},
     "output_type": "execute_result"
    }
   ],
   "source": [
    "df.dtypes"
   ]
  },
  {
   "cell_type": "code",
   "execution_count": 29,
   "id": "1b0977a4",
   "metadata": {},
   "outputs": [],
   "source": [
    "df['Maturity (Date)']=pd.to_datetime(df['Maturity (Date)'])"
   ]
  },
  {
   "cell_type": "code",
   "execution_count": 30,
   "id": "0bdec22d",
   "metadata": {},
   "outputs": [
    {
     "data": {
      "text/html": [
       "<div>\n",
       "<style scoped>\n",
       "    .dataframe tbody tr th:only-of-type {\n",
       "        vertical-align: middle;\n",
       "    }\n",
       "\n",
       "    .dataframe tbody tr th {\n",
       "        vertical-align: top;\n",
       "    }\n",
       "\n",
       "    .dataframe thead th {\n",
       "        text-align: right;\n",
       "    }\n",
       "</style>\n",
       "<table border=\"1\" class=\"dataframe\">\n",
       "  <thead>\n",
       "    <tr style=\"text-align: right;\">\n",
       "      <th></th>\n",
       "      <th>Principal</th>\n",
       "      <th>Coupon Rate</th>\n",
       "      <th>Maturity (Date)</th>\n",
       "    </tr>\n",
       "  </thead>\n",
       "  <tbody>\n",
       "    <tr>\n",
       "      <th>0</th>\n",
       "      <td>300000</td>\n",
       "      <td>0.07</td>\n",
       "      <td>2021-11-06</td>\n",
       "    </tr>\n",
       "    <tr>\n",
       "      <th>1</th>\n",
       "      <td>500000</td>\n",
       "      <td>0.05</td>\n",
       "      <td>2022-11-06</td>\n",
       "    </tr>\n",
       "    <tr>\n",
       "      <th>2</th>\n",
       "      <td>200000</td>\n",
       "      <td>0.06</td>\n",
       "      <td>2023-11-06</td>\n",
       "    </tr>\n",
       "  </tbody>\n",
       "</table>\n",
       "</div>"
      ],
      "text/plain": [
       "   Principal  Coupon Rate Maturity (Date)\n",
       "0     300000         0.07      2021-11-06\n",
       "1     500000         0.05      2022-11-06\n",
       "2     200000         0.06      2023-11-06"
      ]
     },
     "execution_count": 30,
     "metadata": {},
     "output_type": "execute_result"
    }
   ],
   "source": [
    "df"
   ]
  },
  {
   "cell_type": "code",
   "execution_count": 31,
   "id": "45e1fcad",
   "metadata": {},
   "outputs": [
    {
     "data": {
      "text/plain": [
       "Principal                   int64\n",
       "Coupon Rate               float64\n",
       "Maturity (Date)    datetime64[ns]\n",
       "dtype: object"
      ]
     },
     "execution_count": 31,
     "metadata": {},
     "output_type": "execute_result"
    }
   ],
   "source": [
    "df.dtypes"
   ]
  },
  {
   "cell_type": "code",
   "execution_count": 32,
   "id": "428a03a4",
   "metadata": {},
   "outputs": [
    {
     "data": {
      "text/plain": [
       "Timestamp('2021-11-06 00:00:00')"
      ]
     },
     "execution_count": 32,
     "metadata": {},
     "output_type": "execute_result"
    }
   ],
   "source": [
    "#calculate the difference between the maturity date and today\n",
    "date=df.loc[0,'Maturity (Date)']#get the first row(0-index) value from Maturity (Date) column\n",
    "date"
   ]
  },
  {
   "cell_type": "code",
   "execution_count": 33,
   "id": "ea98a4a1",
   "metadata": {},
   "outputs": [
    {
     "data": {
      "text/plain": [
       "datetime.datetime(2022, 12, 1, 22, 14, 13, 979439)"
      ]
     },
     "execution_count": 33,
     "metadata": {},
     "output_type": "execute_result"
    }
   ],
   "source": [
    "import datetime\n",
    "today=datetime.datetime.today()\n",
    "today"
   ]
  },
  {
   "cell_type": "code",
   "execution_count": 34,
   "id": "802ac84a",
   "metadata": {},
   "outputs": [
    {
     "data": {
      "text/plain": [
       "Timedelta('-391 days +01:45:46.020561')"
      ]
     },
     "execution_count": 34,
     "metadata": {},
     "output_type": "execute_result"
    }
   ],
   "source": [
    "diff=date-today\n",
    "diff"
   ]
  },
  {
   "cell_type": "code",
   "execution_count": 35,
   "id": "93fd09a2",
   "metadata": {},
   "outputs": [
    {
     "data": {
      "text/plain": [
       "-33776053.979439"
      ]
     },
     "execution_count": 35,
     "metadata": {},
     "output_type": "execute_result"
    }
   ],
   "source": [
    "#converts those days int seconds\n",
    "seconds=diff.total_seconds()\n",
    "seconds#converting floating point number"
   ]
  },
  {
   "cell_type": "code",
   "execution_count": 36,
   "id": "059fc516",
   "metadata": {},
   "outputs": [
    {
     "data": {
      "text/plain": [
       "31536000"
      ]
     },
     "execution_count": 36,
     "metadata": {},
     "output_type": "execute_result"
    }
   ],
   "source": [
    "seconds_per_year=60*60*24*365\n",
    "seconds_per_year"
   ]
  },
  {
   "cell_type": "code",
   "execution_count": 37,
   "id": "3cb7f6d8",
   "metadata": {},
   "outputs": [
    {
     "data": {
      "text/plain": [
       "-1.0710316457204148"
      ]
     },
     "execution_count": 37,
     "metadata": {},
     "output_type": "execute_result"
    }
   ],
   "source": [
    "years_elapsed=seconds/seconds_per_year\n",
    "years_elapsed"
   ]
  },
  {
   "cell_type": "code",
   "execution_count": 38,
   "id": "c46bc5d7",
   "metadata": {},
   "outputs": [
    {
     "data": {
      "text/plain": [
       "-1.0710316643637747"
      ]
     },
     "execution_count": 38,
     "metadata": {},
     "output_type": "execute_result"
    }
   ],
   "source": [
    "def years_until_from_date(date):\n",
    "    \"\"\"\n",
    "    Calculate the number of years until a date, starting from today.\n",
    "    \"\"\"\n",
    "    today = datetime.datetime.today()\n",
    "    diff = date - today\n",
    "    seconds = diff.total_seconds()\n",
    "    seconds_per_year = 60 * 60 * 24 * 365\n",
    "    years_elapsed = seconds / seconds_per_year\n",
    "    return years_elapsed\n",
    "\n",
    "years_until_from_date(date)"
   ]
  },
  {
   "cell_type": "code",
   "execution_count": 39,
   "id": "35f27d89",
   "metadata": {},
   "outputs": [
    {
     "data": {
      "text/plain": [
       "0   -1.071032\n",
       "1   -0.071032\n",
       "2    0.928968\n",
       "dtype: float64"
      ]
     },
     "execution_count": 39,
     "metadata": {},
     "output_type": "execute_result"
    }
   ],
   "source": [
    "def years_until_from_date_for_apply(series, date_col='Maturity (Date)'):\n",
    "    date = series[date_col]\n",
    "    return years_until_from_date(date)\n",
    "\n",
    "df.apply(years_until_from_date_for_apply, axis=1)"
   ]
  },
  {
   "cell_type": "code",
   "execution_count": 40,
   "id": "5744d6a7",
   "metadata": {},
   "outputs": [
    {
     "data": {
      "text/html": [
       "<div>\n",
       "<style scoped>\n",
       "    .dataframe tbody tr th:only-of-type {\n",
       "        vertical-align: middle;\n",
       "    }\n",
       "\n",
       "    .dataframe tbody tr th {\n",
       "        vertical-align: top;\n",
       "    }\n",
       "\n",
       "    .dataframe thead th {\n",
       "        text-align: right;\n",
       "    }\n",
       "</style>\n",
       "<table border=\"1\" class=\"dataframe\">\n",
       "  <thead>\n",
       "    <tr style=\"text-align: right;\">\n",
       "      <th></th>\n",
       "      <th>Principal</th>\n",
       "      <th>Coupon Rate</th>\n",
       "      <th>Maturity (Date)</th>\n",
       "      <th>Maturity (years)</th>\n",
       "    </tr>\n",
       "  </thead>\n",
       "  <tbody>\n",
       "    <tr>\n",
       "      <th>0</th>\n",
       "      <td>300000</td>\n",
       "      <td>0.07</td>\n",
       "      <td>2021-11-06</td>\n",
       "      <td>-1.071032</td>\n",
       "    </tr>\n",
       "    <tr>\n",
       "      <th>1</th>\n",
       "      <td>500000</td>\n",
       "      <td>0.05</td>\n",
       "      <td>2022-11-06</td>\n",
       "      <td>-0.071032</td>\n",
       "    </tr>\n",
       "    <tr>\n",
       "      <th>2</th>\n",
       "      <td>200000</td>\n",
       "      <td>0.06</td>\n",
       "      <td>2023-11-06</td>\n",
       "      <td>0.928968</td>\n",
       "    </tr>\n",
       "  </tbody>\n",
       "</table>\n",
       "</div>"
      ],
      "text/plain": [
       "   Principal  Coupon Rate Maturity (Date)  Maturity (years)\n",
       "0     300000         0.07      2021-11-06         -1.071032\n",
       "1     500000         0.05      2022-11-06         -0.071032\n",
       "2     200000         0.06      2023-11-06          0.928968"
      ]
     },
     "execution_count": 40,
     "metadata": {},
     "output_type": "execute_result"
    }
   ],
   "source": [
    "df['Maturity (years)'] = df.apply(years_until_from_date_for_apply, axis=1)\n",
    "df"
   ]
  },
  {
   "cell_type": "code",
   "execution_count": 41,
   "id": "948226e7",
   "metadata": {},
   "outputs": [
    {
     "data": {
      "text/html": [
       "<div>\n",
       "<style scoped>\n",
       "    .dataframe tbody tr th:only-of-type {\n",
       "        vertical-align: middle;\n",
       "    }\n",
       "\n",
       "    .dataframe tbody tr th {\n",
       "        vertical-align: top;\n",
       "    }\n",
       "\n",
       "    .dataframe thead th {\n",
       "        text-align: right;\n",
       "    }\n",
       "</style>\n",
       "<table border=\"1\" class=\"dataframe\">\n",
       "  <thead>\n",
       "    <tr style=\"text-align: right;\">\n",
       "      <th></th>\n",
       "      <th>Principal</th>\n",
       "      <th>Coupon Rate</th>\n",
       "      <th>Maturity (Date)</th>\n",
       "      <th>Maturity (years)</th>\n",
       "      <th>Value</th>\n",
       "    </tr>\n",
       "  </thead>\n",
       "  <tbody>\n",
       "    <tr>\n",
       "      <th>0</th>\n",
       "      <td>300000</td>\n",
       "      <td>0.07</td>\n",
       "      <td>2021-11-06</td>\n",
       "      <td>-1.071032</td>\n",
       "      <td>303222.006453</td>\n",
       "    </tr>\n",
       "    <tr>\n",
       "      <th>1</th>\n",
       "      <td>500000</td>\n",
       "      <td>0.05</td>\n",
       "      <td>2022-11-06</td>\n",
       "      <td>-0.071032</td>\n",
       "      <td>501027.807654</td>\n",
       "    </tr>\n",
       "    <tr>\n",
       "      <th>2</th>\n",
       "      <td>200000</td>\n",
       "      <td>0.06</td>\n",
       "      <td>2023-11-06</td>\n",
       "      <td>0.928968</td>\n",
       "      <td>196550.075964</td>\n",
       "    </tr>\n",
       "  </tbody>\n",
       "</table>\n",
       "</div>"
      ],
      "text/plain": [
       "   Principal  Coupon Rate Maturity (Date)  Maturity (years)          Value\n",
       "0     300000         0.07      2021-11-06         -1.071032  303222.006453\n",
       "1     500000         0.05      2022-11-06         -0.071032  501027.807654\n",
       "2     200000         0.06      2023-11-06          0.928968  196550.075964"
      ]
     },
     "execution_count": 41,
     "metadata": {},
     "output_type": "execute_result"
    }
   ],
   "source": [
    "df['Value'] = df.apply(mv_bond_annuity_approach_for_apply, axis=1, cost_of_debt=cost_of_debt)\n",
    "df"
   ]
  },
  {
   "cell_type": "code",
   "execution_count": 42,
   "id": "140956f6",
   "metadata": {},
   "outputs": [
    {
     "data": {
      "text/plain": [
       "1000799.890071762"
      ]
     },
     "execution_count": 42,
     "metadata": {},
     "output_type": "execute_result"
    }
   ],
   "source": [
    "mv_debt = df['Value'].sum()\n",
    "mv_debt"
   ]
  },
  {
   "cell_type": "code",
   "execution_count": null,
   "id": "f68765e5",
   "metadata": {},
   "outputs": [],
   "source": []
  }
 ],
 "metadata": {
  "kernelspec": {
   "display_name": "Python 3 (ipykernel)",
   "language": "python",
   "name": "python3"
  },
  "language_info": {
   "codemirror_mode": {
    "name": "ipython",
    "version": 3
   },
   "file_extension": ".py",
   "mimetype": "text/x-python",
   "name": "python",
   "nbconvert_exporter": "python",
   "pygments_lexer": "ipython3",
   "version": "3.7.3"
  }
 },
 "nbformat": 4,
 "nbformat_minor": 5
}

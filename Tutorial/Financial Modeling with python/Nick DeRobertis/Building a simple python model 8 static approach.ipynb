{
 "cells": [
  {
   "cell_type": "code",
   "execution_count": 1,
   "id": "534f50f4",
   "metadata": {},
   "outputs": [],
   "source": [
    "#8\n",
    "#Inputs\n",
    "salary =60000\n",
    "savings_rate=0.25\n",
    "investment_rate=0.05\n",
    "desired_cash=1500000"
   ]
  },
  {
   "cell_type": "code",
   "execution_count": 2,
   "id": "41df871d",
   "metadata": {},
   "outputs": [],
   "source": [
    "#Determining Cash Saved\n",
    "Annual_cash=salary*savings_rate"
   ]
  },
  {
   "cell_type": "code",
   "execution_count": 3,
   "id": "f3461311",
   "metadata": {},
   "outputs": [
    {
     "name": "stdout",
     "output_type": "stream",
     "text": [
      "15000.0\n"
     ]
    }
   ],
   "source": [
    "print(Annual_cash)"
   ]
  },
  {
   "cell_type": "code",
   "execution_count": 4,
   "id": "f973f789",
   "metadata": {},
   "outputs": [
    {
     "name": "stdout",
     "output_type": "stream",
     "text": [
      "Martha has 36.7 years to retirement.\n"
     ]
    }
   ],
   "source": [
    "#years to Retirement\n",
    "import numpy_financial as np\n",
    "years_to_retirement=np.nper(investment_rate,-Annual_cash,0,desired_cash)#nper to find number of period to raise desired cash ammount, initial balace was 0\n",
    "print(f'Martha has {years_to_retirement:.1f} years to retirement.')"
   ]
  },
  {
   "cell_type": "code",
   "execution_count": null,
   "id": "b77cdcb7",
   "metadata": {},
   "outputs": [],
   "source": []
  }
 ],
 "metadata": {
  "kernelspec": {
   "display_name": "Python 3 (ipykernel)",
   "language": "python",
   "name": "python3"
  },
  "language_info": {
   "codemirror_mode": {
    "name": "ipython",
    "version": 3
   },
   "file_extension": ".py",
   "mimetype": "text/x-python",
   "name": "python",
   "nbconvert_exporter": "python",
   "pygments_lexer": "ipython3",
   "version": "3.7.3"
  }
 },
 "nbformat": 4,
 "nbformat_minor": 5
}

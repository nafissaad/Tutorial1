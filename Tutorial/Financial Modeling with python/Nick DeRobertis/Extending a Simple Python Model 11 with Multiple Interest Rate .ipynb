{
 "cells": [
  {
   "cell_type": "code",
   "execution_count": 21,
   "id": "a772ce02",
   "metadata": {},
   "outputs": [],
   "source": [
    "import numpy_financial as np"
   ]
  },
  {
   "cell_type": "code",
   "execution_count": 15,
   "id": "3e65fa5a",
   "metadata": {},
   "outputs": [],
   "source": [
    "salary=40000\n",
    "savings_rate =0.25\n",
    "investment_rate = 0.05\n",
    "desired_cash =1500000"
   ]
  },
  {
   "cell_type": "code",
   "execution_count": 16,
   "id": "64392940",
   "metadata": {},
   "outputs": [
    {
     "data": {
      "text/plain": [
       "10000.0"
      ]
     },
     "execution_count": 16,
     "metadata": {},
     "output_type": "execute_result"
    }
   ],
   "source": [
    "Annual_cash = salary *savings_rate\n",
    "Annual_cash"
   ]
  },
  {
   "cell_type": "code",
   "execution_count": 19,
   "id": "484717f8",
   "metadata": {},
   "outputs": [
    {
     "name": "stdout",
     "output_type": "stream",
     "text": [
      "Martha has 43.9 years to retirement if she earns a 5% returns\n",
      "Martha has 39.5 years to retirement if she earns a 6% returns\n",
      "Martha has 36.1 years to retirement if she earns a 7% returns\n"
     ]
    }
   ],
   "source": [
    "investment_rates=[0.05,0.06,0.07]\n",
    "\n",
    "for i_rates in investment_rates:\n",
    "    years_to_retirement=np.nper(i_rates,-Annual_cash,0,desired_cash)\n",
    "    print(f'Martha has {years_to_retirement:.1f} years to retirement if she earns a {i_rates:.0%} returns')"
   ]
  },
  {
   "cell_type": "code",
   "execution_count": null,
   "id": "2623db24",
   "metadata": {},
   "outputs": [],
   "source": []
  }
 ],
 "metadata": {
  "kernelspec": {
   "display_name": "Python 3 (ipykernel)",
   "language": "python",
   "name": "python3"
  },
  "language_info": {
   "codemirror_mode": {
    "name": "ipython",
    "version": 3
   },
   "file_extension": ".py",
   "mimetype": "text/x-python",
   "name": "python",
   "nbconvert_exporter": "python",
   "pygments_lexer": "ipython3",
   "version": "3.7.3"
  }
 },
 "nbformat": 4,
 "nbformat_minor": 5
}

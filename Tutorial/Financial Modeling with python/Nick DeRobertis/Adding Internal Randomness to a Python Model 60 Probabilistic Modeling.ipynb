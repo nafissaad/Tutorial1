{
 "cells": [
  {
   "cell_type": "code",
   "execution_count": 1,
   "id": "7a512867",
   "metadata": {},
   "outputs": [],
   "source": [
    "from dataclasses import dataclass\n",
    "import pandas as pd\n",
    "import random\n",
    "%matplotlib inline\n",
    "from sensitivity import SensitivityAnalyzer"
   ]
  },
  {
   "cell_type": "code",
   "execution_count": 2,
   "id": "243fc208",
   "metadata": {},
   "outputs": [
    {
     "data": {
      "text/plain": [
       "ModelInputs(starting_salary=(40000, 60000, 70000), promos_every_n_years=(8, 5, 4), cost_of_living_raised=(0.01, 0.02, 0.03), promo_raise=(0.07, 0.15, 0.2), savings_rate=(0.15, 0.25, 0.35), interest_rate=(0.03, 0.05, 0.06), desired_cash=1500000, recession_prob=0.2, expansion_prob=0.3, case_names=('Recession', 'Normal', 'Expansion'), n_iter=1000)"
      ]
     },
     "execution_count": 2,
     "metadata": {},
     "output_type": "execute_result"
    }
   ],
   "source": [
    "#Internal Randomness\n",
    "@dataclass\n",
    "class ModelInputs:\n",
    "    starting_salary: tuple = (40000,60000,70000)\n",
    "    promos_every_n_years: tuple = (8,5,4)\n",
    "    cost_of_living_raised: tuple = (0.01,0.02,0.03)\n",
    "    promo_raise: tuple =(0.07,0.15,0.2)\n",
    "    savings_rate: tuple =(0.15,0.25,0.35)\n",
    "    interest_rate: tuple =(0.03,0.05,0.06)\n",
    "    desired_cash: int = 1500000\n",
    "    recession_prob: float =0.2\n",
    "    expansion_prob: float =0.3\n",
    "    case_names: tuple=('Recession','Normal','Expansion')\n",
    "    n_iter: int=1000\n",
    "model_data = ModelInputs()\n",
    "model_data"
   ]
  },
  {
   "cell_type": "code",
   "execution_count": 3,
   "id": "91fadff6",
   "metadata": {},
   "outputs": [
    {
     "data": {
      "text/plain": [
       "1"
      ]
     },
     "execution_count": 3,
     "metadata": {},
     "output_type": "execute_result"
    }
   ],
   "source": [
    "def get_economy_case_number(data):\n",
    "    normal_probability=1-model_data.recession_prob-model_data.expansion_prob\n",
    "    case_num=random.choices([0,1,2],weights=[model_data.recession_prob,normal_probability,model_data.expansion_prob])[0]\n",
    "    return case_num\n",
    "get_economy_case_number(model_data)"
   ]
  },
  {
   "cell_type": "code",
   "execution_count": 4,
   "id": "44d31b6e",
   "metadata": {},
   "outputs": [
    {
     "data": {
      "text/plain": [
       "2"
      ]
     },
     "execution_count": 4,
     "metadata": {},
     "output_type": "execute_result"
    }
   ],
   "source": [
    "case=get_economy_case_number(model_data)\n",
    "case"
   ]
  },
  {
   "cell_type": "code",
   "execution_count": 5,
   "id": "12b6143a",
   "metadata": {},
   "outputs": [
    {
     "name": "stdout",
     "output_type": "stream",
     "text": [
      " The Salary at year 1 is $72,100.\n",
      " The Salary at year 2 is $74,263.\n",
      " The Salary at year 3 is $76,491.\n",
      " The Salary at year 4 is $94,543.\n",
      " The Salary at year 5 is $97,379.\n",
      " The Salary at year 6 is $100,300.\n"
     ]
    }
   ],
   "source": [
    "for i in range(6):\n",
    "    year=i+1\n",
    "    num_promos = int(year / model_data.promos_every_n_years[case])\n",
    "    salary_t = model_data.starting_salary[case] * (1 + model_data.cost_of_living_raised[case]) ** year * (1 + model_data.promo_raise[case]) ** num_promos\n",
    "    print(f' The Salary at year {year} is ${salary_t:,.0f}.')"
   ]
  },
  {
   "cell_type": "code",
   "execution_count": 6,
   "id": "5ab33021",
   "metadata": {},
   "outputs": [],
   "source": [
    "def salary_at_year(modelInputs,year,case):\n",
    "    num_promos = int(year / modelInputs.promos_every_n_years[case])\n",
    "    salary_t = modelInputs.starting_salary[case] * (1 + modelInputs.cost_of_living_raised[case]) ** year * (1 + modelInputs.promo_raise[case]) ** num_promos\n",
    "    return salary_t"
   ]
  },
  {
   "cell_type": "code",
   "execution_count": 7,
   "id": "673abeec",
   "metadata": {},
   "outputs": [
    {
     "data": {
      "text/plain": [
       "314592.7895216818"
      ]
     },
     "execution_count": 7,
     "metadata": {},
     "output_type": "execute_result"
    }
   ],
   "source": [
    "salary_at_year(model_data,20,2)"
   ]
  },
  {
   "cell_type": "code",
   "execution_count": 8,
   "id": "fe061c5c",
   "metadata": {},
   "outputs": [],
   "source": [
    "def cash_saved_during_year(model_data,year,case):\n",
    "        salary= salary_at_year(model_data,year,case)\n",
    "        cash_saved=salary*model_data.savings_rate[case]\n",
    "        return cash_saved"
   ]
  },
  {
   "cell_type": "code",
   "execution_count": 9,
   "id": "b8be9371",
   "metadata": {},
   "outputs": [],
   "source": [
    "def wealth_at_year(model_data,year,prior_wealth,case):\n",
    "        cash_saved = cash_saved_during_year(model_data,year,case)\n",
    "        wealth = prior_wealth*(1 + model_data.interest_rate[case]) + cash_saved\n",
    "        return wealth"
   ]
  },
  {
   "cell_type": "code",
   "execution_count": 10,
   "id": "d9da2fb1",
   "metadata": {},
   "outputs": [
    {
     "data": {
      "text/plain": [
       "152507.47633258862"
      ]
     },
     "execution_count": 10,
     "metadata": {},
     "output_type": "execute_result"
    }
   ],
   "source": [
    "wealth_at_year(model_data,20,40000,2)"
   ]
  },
  {
   "cell_type": "code",
   "execution_count": 11,
   "id": "2820843a",
   "metadata": {},
   "outputs": [
    {
     "name": "stdout",
     "output_type": "stream",
     "text": [
      "Wealths over time:\n",
      "The wealth at year 1 (Recession economy) is $6,060.\n",
      "The wealth at year 2 (Recession economy) is $12,362.\n",
      "The wealth at year 3 (Expansion economy) is $39,876.\n",
      "The wealth at year 4 (Normal economy) is $58,106.\n",
      "The wealth at year 5 (Expansion economy) is $95,675.\n",
      "The wealth at year 6 (Normal economy) is $119,885.\n",
      "The wealth at year 7 (Recession economy) is $129,915.\n",
      "The wealth at year 8 (Normal economy) is $156,622.\n",
      "The wealth at year 9 (Normal economy) is $185,068.\n",
      "The wealth at year 10 (Expansion economy) is $243,585.\n",
      "The wealth at year 11 (Recession economy) is $258,056.\n",
      "The wealth at year 12 (Recession economy) is $273,031.\n",
      "The wealth at year 13 (Expansion economy) is $351,585.\n",
      "The wealth at year 14 (Expansion economy) is $436,717.\n",
      "The wealth at year 15 (Recession economy) is $457,272.\n",
      "The wealth at year 16 (Expansion economy) is $566,233.\n",
      "The wealth at year 17 (Expansion economy) is $684,177.\n",
      "The wealth at year 18 (Recession economy) is $712,919.\n",
      "The wealth at year 19 (Expansion economy) is $844,778.\n",
      "The wealth at year 20 (Normal economy) is $926,001.\n",
      "The wealth at year 21 (Recession economy) is $962,246.\n",
      "The wealth at year 22 (Normal economy) is $1,050,918.\n",
      "The wealth at year 23 (Normal economy) is $1,144,834.\n",
      "The wealth at year 24 (Normal economy) is $1,244,273.\n",
      "The wealth at year 25 (Normal economy) is $1,355,984.\n",
      "The wealth at year 26 (Normal economy) is $1,474,271.\n",
      "The wealth at year 27 (Normal economy) is $1,599,482.\n",
      "\n",
      "Retirement:\n",
      "It will take 27 years to retire.\n"
     ]
    }
   ],
   "source": [
    "def years_to_retirement(model_data: ModelInputs,print_output=False):\n",
    "    \n",
    "    # starting with no cash saved\n",
    "    prior_wealth = 0  \n",
    "    wealth = 0\n",
    "    \n",
    "    year = 0  # will become 1 on first loop\n",
    "    \n",
    "    def salary_at_year(modelInputs,year,case):\n",
    "        num_promos = int(year / modelInputs.promos_every_n_years[case])\n",
    "        salary_t = modelInputs.starting_salary[case] * (1 + modelInputs.cost_of_living_raised[case]) ** year * (1 + modelInputs.promo_raise[case]) ** num_promos\n",
    "        return salary_t\n",
    "    \n",
    "    def cash_saved_during_year(model_data,year,case):\n",
    "        salary= salary_at_year(model_data,year,case)\n",
    "        cash_saved=salary*model_data.savings_rate[case]\n",
    "        return cash_saved\n",
    "    \n",
    "    def wealth_at_year(model_data,year,prior_wealth,case):\n",
    "        cash_saved = cash_saved_during_year(model_data,year,case)\n",
    "        wealth = prior_wealth*(1 + model_data.interest_rate[case]) + cash_saved\n",
    "        return wealth\n",
    "\n",
    "\n",
    "    if print_output:\n",
    "        print('Wealths over time:') # \\n makes a blank line in the output.\n",
    "    while wealth < model_data.desired_cash:\n",
    "        year = year + 1\n",
    "        case=get_economy_case_number(model_data)\n",
    "        case_type=model_data.case_names[case]\n",
    "        wealth = wealth_at_year(model_data, year, prior_wealth,case)\n",
    "        if print_output:\n",
    "            print(f'The wealth at year {year} ({case_type} economy) is ${wealth:,.0f}.')\n",
    "        # Set next year's prior wealth to this year's wealth\n",
    "        prior_wealth = wealth\n",
    "        \n",
    "    # Now we have exited the while loop, so wealth must be >= desired_cash. Whatever last year was set\n",
    "    # is the years to retirement.\n",
    "    if print_output:\n",
    "        print(f'\\nRetirement:\\nIt will take {year} years to retire.')  # \\n makes a blank line in the output.\n",
    "    return year\n",
    "years = years_to_retirement(model_data,print_output=True)"
   ]
  },
  {
   "cell_type": "code",
   "execution_count": 12,
   "id": "9a717461",
   "metadata": {},
   "outputs": [],
   "source": [
    "data=ModelInputs(n_iter=1000)\n",
    "all_ytrs=[]\n",
    "for i in range(data.n_iter):\n",
    "    ytr=years_to_retirement(data,print_output=False)\n",
    "    all_ytrs.append(ytr)\n",
    "df=pd.DataFrame()\n",
    "df['Years to Retirement']=all_ytrs"
   ]
  },
  {
   "cell_type": "code",
   "execution_count": 13,
   "id": "b1bb8a4d",
   "metadata": {},
   "outputs": [
    {
     "data": {
      "text/html": [
       "<div>\n",
       "<style scoped>\n",
       "    .dataframe tbody tr th:only-of-type {\n",
       "        vertical-align: middle;\n",
       "    }\n",
       "\n",
       "    .dataframe tbody tr th {\n",
       "        vertical-align: top;\n",
       "    }\n",
       "\n",
       "    .dataframe thead th {\n",
       "        text-align: right;\n",
       "    }\n",
       "</style>\n",
       "<table border=\"1\" class=\"dataframe\">\n",
       "  <thead>\n",
       "    <tr style=\"text-align: right;\">\n",
       "      <th></th>\n",
       "      <th>Years to Retirement</th>\n",
       "    </tr>\n",
       "  </thead>\n",
       "  <tbody>\n",
       "    <tr>\n",
       "      <th>0</th>\n",
       "      <td>28</td>\n",
       "    </tr>\n",
       "    <tr>\n",
       "      <th>1</th>\n",
       "      <td>29</td>\n",
       "    </tr>\n",
       "    <tr>\n",
       "      <th>2</th>\n",
       "      <td>25</td>\n",
       "    </tr>\n",
       "    <tr>\n",
       "      <th>3</th>\n",
       "      <td>24</td>\n",
       "    </tr>\n",
       "    <tr>\n",
       "      <th>4</th>\n",
       "      <td>25</td>\n",
       "    </tr>\n",
       "    <tr>\n",
       "      <th>...</th>\n",
       "      <td>...</td>\n",
       "    </tr>\n",
       "    <tr>\n",
       "      <th>995</th>\n",
       "      <td>24</td>\n",
       "    </tr>\n",
       "    <tr>\n",
       "      <th>996</th>\n",
       "      <td>27</td>\n",
       "    </tr>\n",
       "    <tr>\n",
       "      <th>997</th>\n",
       "      <td>25</td>\n",
       "    </tr>\n",
       "    <tr>\n",
       "      <th>998</th>\n",
       "      <td>27</td>\n",
       "    </tr>\n",
       "    <tr>\n",
       "      <th>999</th>\n",
       "      <td>25</td>\n",
       "    </tr>\n",
       "  </tbody>\n",
       "</table>\n",
       "<p>1000 rows × 1 columns</p>\n",
       "</div>"
      ],
      "text/plain": [
       "     Years to Retirement\n",
       "0                     28\n",
       "1                     29\n",
       "2                     25\n",
       "3                     24\n",
       "4                     25\n",
       "..                   ...\n",
       "995                   24\n",
       "996                   27\n",
       "997                   25\n",
       "998                   27\n",
       "999                   25\n",
       "\n",
       "[1000 rows x 1 columns]"
      ]
     },
     "execution_count": 13,
     "metadata": {},
     "output_type": "execute_result"
    }
   ],
   "source": [
    "df"
   ]
  },
  {
   "cell_type": "code",
   "execution_count": 14,
   "id": "f1b9e8e1",
   "metadata": {},
   "outputs": [],
   "source": [
    "def sumarize_ytr_df(ModelInputs,desired_cash):\n",
    "    data=ModelInputs(n_iter=1000,desired_cash=desired_cash)\n",
    "    for i in range(data.n_iter):\n",
    "        ytr=years_to_retirement(data,print_output=False)\n",
    "        all_ytrs.append(ytr)\n",
    "        \n",
    "    df=pd.DataFrame()\n",
    "    df['Years to Retirement']=all_ytrs\n",
    "    avg_ytr=df['Years to Retirement'].mean()\n",
    "    std_ytr=df['Years to Retirement'].std()\n",
    "    max_ytr=df['Years to Retirement'].max()\n",
    "    min_ytr=df['Years to Retirement'].min()\n",
    "    print(f'It will take {avg_ytr:.0f} years to retire on average, with standard deviation'\n",
    "          f' of {std_ytr:.1f},max of {max_ytr:.0f}, and min of {min_ytr:.0f}'\n",
    "         )\n"
   ]
  },
  {
   "cell_type": "code",
   "execution_count": 15,
   "id": "00d44743",
   "metadata": {},
   "outputs": [
    {
     "name": "stdout",
     "output_type": "stream",
     "text": [
      "It will take 43 years to retire on average, with standard deviation of 17.1,max of 67, and min of 22\n"
     ]
    }
   ],
   "source": [
    "sumarize_ytr_df(ModelInputs,desired_cash=25000000)"
   ]
  },
  {
   "cell_type": "code",
   "execution_count": null,
   "id": "10552f88",
   "metadata": {},
   "outputs": [],
   "source": []
  }
 ],
 "metadata": {
  "kernelspec": {
   "display_name": "Python 3 (ipykernel)",
   "language": "python",
   "name": "python3"
  },
  "language_info": {
   "codemirror_mode": {
    "name": "ipython",
    "version": 3
   },
   "file_extension": ".py",
   "mimetype": "text/x-python",
   "name": "python",
   "nbconvert_exporter": "python",
   "pygments_lexer": "ipython3",
   "version": "3.7.3"
  }
 },
 "nbformat": 4,
 "nbformat_minor": 5
}

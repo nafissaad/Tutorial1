{
 "cells": [
  {
   "cell_type": "code",
   "execution_count": 37,
   "id": "8d9dda06",
   "metadata": {},
   "outputs": [
    {
     "data": {
      "text/html": [
       "<div>\n",
       "<style scoped>\n",
       "    .dataframe tbody tr th:only-of-type {\n",
       "        vertical-align: middle;\n",
       "    }\n",
       "\n",
       "    .dataframe tbody tr th {\n",
       "        vertical-align: top;\n",
       "    }\n",
       "\n",
       "    .dataframe thead th {\n",
       "        text-align: right;\n",
       "    }\n",
       "</style>\n",
       "<table border=\"1\" class=\"dataframe\">\n",
       "  <thead>\n",
       "    <tr style=\"text-align: right;\">\n",
       "      <th></th>\n",
       "      <th>Unnamed: 0</th>\n",
       "      <th>2017-12-31 00:00:00</th>\n",
       "      <th>2018-12-31 00:00:00</th>\n",
       "      <th>2019-12-31 00:00:00</th>\n",
       "    </tr>\n",
       "  </thead>\n",
       "  <tbody>\n",
       "    <tr>\n",
       "      <th>0</th>\n",
       "      <td>Sales</td>\n",
       "      <td>1000</td>\n",
       "      <td>1200</td>\n",
       "      <td>1100</td>\n",
       "    </tr>\n",
       "    <tr>\n",
       "      <th>1</th>\n",
       "      <td>Cost of Goods Sold</td>\n",
       "      <td>620</td>\n",
       "      <td>700</td>\n",
       "      <td>650</td>\n",
       "    </tr>\n",
       "  </tbody>\n",
       "</table>\n",
       "</div>"
      ],
      "text/plain": [
       "           Unnamed: 0  2017-12-31 00:00:00  2018-12-31 00:00:00  \\\n",
       "0               Sales                 1000                 1200   \n",
       "1  Cost of Goods Sold                  620                  700   \n",
       "\n",
       "   2019-12-31 00:00:00  \n",
       "0                 1100  \n",
       "1                  650  "
      ]
     },
     "execution_count": 37,
     "metadata": {},
     "output_type": "execute_result"
    }
   ],
   "source": [
    "import pandas as pd\n",
    "df=pd.read_excel('Sales CoGS.xlsx')\n",
    "df"
   ]
  },
  {
   "cell_type": "code",
   "execution_count": 38,
   "id": "7cb4c8cb",
   "metadata": {},
   "outputs": [
    {
     "data": {
      "text/html": [
       "<div>\n",
       "<style scoped>\n",
       "    .dataframe tbody tr th:only-of-type {\n",
       "        vertical-align: middle;\n",
       "    }\n",
       "\n",
       "    .dataframe tbody tr th {\n",
       "        vertical-align: top;\n",
       "    }\n",
       "\n",
       "    .dataframe thead th {\n",
       "        text-align: right;\n",
       "    }\n",
       "</style>\n",
       "<table border=\"1\" class=\"dataframe\">\n",
       "  <thead>\n",
       "    <tr style=\"text-align: right;\">\n",
       "      <th></th>\n",
       "      <th>2017-12-31</th>\n",
       "      <th>2018-12-31</th>\n",
       "      <th>2019-12-31</th>\n",
       "    </tr>\n",
       "  </thead>\n",
       "  <tbody>\n",
       "    <tr>\n",
       "      <th>Sales</th>\n",
       "      <td>1000</td>\n",
       "      <td>1200</td>\n",
       "      <td>1100</td>\n",
       "    </tr>\n",
       "    <tr>\n",
       "      <th>Cost of Goods Sold</th>\n",
       "      <td>620</td>\n",
       "      <td>700</td>\n",
       "      <td>650</td>\n",
       "    </tr>\n",
       "  </tbody>\n",
       "</table>\n",
       "</div>"
      ],
      "text/plain": [
       "                    2017-12-31  2018-12-31  2019-12-31\n",
       "Sales                     1000        1200        1100\n",
       "Cost of Goods Sold         620         700         650"
      ]
     },
     "execution_count": 38,
     "metadata": {},
     "output_type": "execute_result"
    }
   ],
   "source": [
    "df=pd.read_excel('Sales CoGS.xlsx',index_col=0)\n",
    "df.head()"
   ]
  },
  {
   "cell_type": "code",
   "execution_count": 39,
   "id": "cc0c185b",
   "metadata": {},
   "outputs": [
    {
     "data": {
      "text/html": [
       "<div>\n",
       "<style scoped>\n",
       "    .dataframe tbody tr th:only-of-type {\n",
       "        vertical-align: middle;\n",
       "    }\n",
       "\n",
       "    .dataframe tbody tr th {\n",
       "        vertical-align: top;\n",
       "    }\n",
       "\n",
       "    .dataframe thead th {\n",
       "        text-align: right;\n",
       "    }\n",
       "</style>\n",
       "<table border=\"1\" class=\"dataframe\">\n",
       "  <thead>\n",
       "    <tr style=\"text-align: right;\">\n",
       "      <th></th>\n",
       "      <th>Sales</th>\n",
       "      <th>Cost of Goods Sold</th>\n",
       "    </tr>\n",
       "  </thead>\n",
       "  <tbody>\n",
       "    <tr>\n",
       "      <th>2017-12-31</th>\n",
       "      <td>1000</td>\n",
       "      <td>620</td>\n",
       "    </tr>\n",
       "    <tr>\n",
       "      <th>2018-12-31</th>\n",
       "      <td>1200</td>\n",
       "      <td>700</td>\n",
       "    </tr>\n",
       "    <tr>\n",
       "      <th>2019-12-31</th>\n",
       "      <td>1100</td>\n",
       "      <td>650</td>\n",
       "    </tr>\n",
       "  </tbody>\n",
       "</table>\n",
       "</div>"
      ],
      "text/plain": [
       "            Sales  Cost of Goods Sold\n",
       "2017-12-31   1000                 620\n",
       "2018-12-31   1200                 700\n",
       "2019-12-31   1100                 650"
      ]
     },
     "execution_count": 39,
     "metadata": {},
     "output_type": "execute_result"
    }
   ],
   "source": [
    "df.T"
   ]
  },
  {
   "cell_type": "code",
   "execution_count": 40,
   "id": "1811ab41",
   "metadata": {},
   "outputs": [
    {
     "data": {
      "text/plain": [
       "<matplotlib.axes._subplots.AxesSubplot at 0x1cbcd2046a0>"
      ]
     },
     "execution_count": 40,
     "metadata": {},
     "output_type": "execute_result"
    },
    {
     "data": {
      "image/png": "[encoded data removed]",
      "text/plain": [
       "<Figure size 432x288 with 1 Axes>"
      ]
     },
     "metadata": {
      "needs_background": "light"
     },
     "output_type": "display_data"
    }
   ],
   "source": [
    "%matplotlib inline\n",
    "df.T.plot.line()"
   ]
  },
  {
   "cell_type": "code",
   "execution_count": 41,
   "id": "efa9e462",
   "metadata": {},
   "outputs": [
    {
     "data": {
      "text/plain": [
       "Timestamp('2019-12-31 00:00:00')"
      ]
     },
     "execution_count": 41,
     "metadata": {},
     "output_type": "execute_result"
    }
   ],
   "source": [
    "last_date=df.columns.max()\n",
    "last_date"
   ]
  },
  {
   "cell_type": "code",
   "execution_count": 42,
   "id": "2d5fb751",
   "metadata": {},
   "outputs": [
    {
     "name": "stdout",
     "output_type": "stream",
     "text": [
      "The forecasted value for sales is $1,100 and for COGS is $650\n"
     ]
    }
   ],
   "source": [
    "fcst_sales=df.loc['Sales'][last_date]\n",
    "fcst_cogs=df.loc['Cost of Goods Sold'][last_date]\n",
    "print(f'The forecasted value for sales is ${fcst_sales:,.0f} and for COGS is ${fcst_cogs:,.0f}')"
   ]
  },
  {
   "cell_type": "code",
   "execution_count": 43,
   "id": "8972f954",
   "metadata": {},
   "outputs": [
    {
     "data": {
      "text/html": [
       "<div>\n",
       "<style scoped>\n",
       "    .dataframe tbody tr th:only-of-type {\n",
       "        vertical-align: middle;\n",
       "    }\n",
       "\n",
       "    .dataframe tbody tr th {\n",
       "        vertical-align: top;\n",
       "    }\n",
       "\n",
       "    .dataframe thead th {\n",
       "        text-align: right;\n",
       "    }\n",
       "</style>\n",
       "<table border=\"1\" class=\"dataframe\">\n",
       "  <thead>\n",
       "    <tr style=\"text-align: right;\">\n",
       "      <th></th>\n",
       "      <th>Sales</th>\n",
       "    </tr>\n",
       "  </thead>\n",
       "  <tbody>\n",
       "    <tr>\n",
       "      <th>2017-12-31</th>\n",
       "      <td>1000</td>\n",
       "    </tr>\n",
       "    <tr>\n",
       "      <th>2018-12-31</th>\n",
       "      <td>1200</td>\n",
       "    </tr>\n",
       "    <tr>\n",
       "      <th>2019-12-31</th>\n",
       "      <td>1100</td>\n",
       "    </tr>\n",
       "  </tbody>\n",
       "</table>\n",
       "</div>"
      ],
      "text/plain": [
       "            Sales\n",
       "2017-12-31   1000\n",
       "2018-12-31   1200\n",
       "2019-12-31   1100"
      ]
     },
     "execution_count": 43,
     "metadata": {},
     "output_type": "execute_result"
    }
   ],
   "source": [
    "#Forecast Using Trend\n",
    "#Trend Method1:By Regression\n",
    "for_fcst_df=pd.DataFrame(df.loc['Sales'])\n",
    "for_fcst_df"
   ]
  },
  {
   "cell_type": "code",
   "execution_count": 44,
   "id": "30bcb987",
   "metadata": {},
   "outputs": [
    {
     "data": {
      "text/html": [
       "<div>\n",
       "<style scoped>\n",
       "    .dataframe tbody tr th:only-of-type {\n",
       "        vertical-align: middle;\n",
       "    }\n",
       "\n",
       "    .dataframe tbody tr th {\n",
       "        vertical-align: top;\n",
       "    }\n",
       "\n",
       "    .dataframe thead th {\n",
       "        text-align: right;\n",
       "    }\n",
       "</style>\n",
       "<table border=\"1\" class=\"dataframe\">\n",
       "  <thead>\n",
       "    <tr style=\"text-align: right;\">\n",
       "      <th></th>\n",
       "      <th>Sales</th>\n",
       "    </tr>\n",
       "  </thead>\n",
       "  <tbody>\n",
       "    <tr>\n",
       "      <th>0</th>\n",
       "      <td>1000</td>\n",
       "    </tr>\n",
       "    <tr>\n",
       "      <th>1</th>\n",
       "      <td>1200</td>\n",
       "    </tr>\n",
       "    <tr>\n",
       "      <th>2</th>\n",
       "      <td>1100</td>\n",
       "    </tr>\n",
       "  </tbody>\n",
       "</table>\n",
       "</div>"
      ],
      "text/plain": [
       "   Sales\n",
       "0   1000\n",
       "1   1200\n",
       "2   1100"
      ]
     },
     "execution_count": 44,
     "metadata": {},
     "output_type": "execute_result"
    }
   ],
   "source": [
    "for_fcst_df=for_fcst_df.reset_index(drop=True)\n",
    "for_fcst_df"
   ]
  },
  {
   "cell_type": "code",
   "execution_count": 45,
   "id": "deab1878",
   "metadata": {},
   "outputs": [
    {
     "data": {
      "text/html": [
       "<div>\n",
       "<style scoped>\n",
       "    .dataframe tbody tr th:only-of-type {\n",
       "        vertical-align: middle;\n",
       "    }\n",
       "\n",
       "    .dataframe tbody tr th {\n",
       "        vertical-align: top;\n",
       "    }\n",
       "\n",
       "    .dataframe thead th {\n",
       "        text-align: right;\n",
       "    }\n",
       "</style>\n",
       "<table border=\"1\" class=\"dataframe\">\n",
       "  <thead>\n",
       "    <tr style=\"text-align: right;\">\n",
       "      <th></th>\n",
       "      <th>Sales</th>\n",
       "    </tr>\n",
       "  </thead>\n",
       "  <tbody>\n",
       "    <tr>\n",
       "      <th>0</th>\n",
       "      <td>1000</td>\n",
       "    </tr>\n",
       "    <tr>\n",
       "      <th>1</th>\n",
       "      <td>1200</td>\n",
       "    </tr>\n",
       "    <tr>\n",
       "      <th>2</th>\n",
       "      <td>1100</td>\n",
       "    </tr>\n",
       "  </tbody>\n",
       "</table>\n",
       "</div>"
      ],
      "text/plain": [
       "   Sales\n",
       "0   1000\n",
       "1   1200\n",
       "2   1100"
      ]
     },
     "execution_count": 45,
     "metadata": {},
     "output_type": "execute_result"
    }
   ],
   "source": [
    "for_fcst_df=for_fcst_df.reset_index(drop=True)\n",
    "for_fcst_df"
   ]
  },
  {
   "cell_type": "code",
   "execution_count": 46,
   "id": "75e11f18",
   "metadata": {},
   "outputs": [
    {
     "data": {
      "text/html": [
       "<div>\n",
       "<style scoped>\n",
       "    .dataframe tbody tr th:only-of-type {\n",
       "        vertical-align: middle;\n",
       "    }\n",
       "\n",
       "    .dataframe tbody tr th {\n",
       "        vertical-align: top;\n",
       "    }\n",
       "\n",
       "    .dataframe thead th {\n",
       "        text-align: right;\n",
       "    }\n",
       "</style>\n",
       "<table border=\"1\" class=\"dataframe\">\n",
       "  <thead>\n",
       "    <tr style=\"text-align: right;\">\n",
       "      <th></th>\n",
       "      <th>index</th>\n",
       "      <th>Sales</th>\n",
       "    </tr>\n",
       "  </thead>\n",
       "  <tbody>\n",
       "    <tr>\n",
       "      <th>0</th>\n",
       "      <td>0</td>\n",
       "      <td>1000</td>\n",
       "    </tr>\n",
       "    <tr>\n",
       "      <th>1</th>\n",
       "      <td>1</td>\n",
       "      <td>1200</td>\n",
       "    </tr>\n",
       "    <tr>\n",
       "      <th>2</th>\n",
       "      <td>2</td>\n",
       "      <td>1100</td>\n",
       "    </tr>\n",
       "  </tbody>\n",
       "</table>\n",
       "</div>"
      ],
      "text/plain": [
       "   index  Sales\n",
       "0      0   1000\n",
       "1      1   1200\n",
       "2      2   1100"
      ]
     },
     "execution_count": 46,
     "metadata": {},
     "output_type": "execute_result"
    }
   ],
   "source": [
    "for_fcst_df=for_fcst_df.reset_index()\n",
    "for_fcst_df"
   ]
  },
  {
   "cell_type": "code",
   "execution_count": 47,
   "id": "c80d0e2a",
   "metadata": {},
   "outputs": [
    {
     "data": {
      "text/html": [
       "<div>\n",
       "<style scoped>\n",
       "    .dataframe tbody tr th:only-of-type {\n",
       "        vertical-align: middle;\n",
       "    }\n",
       "\n",
       "    .dataframe tbody tr th {\n",
       "        vertical-align: top;\n",
       "    }\n",
       "\n",
       "    .dataframe thead th {\n",
       "        text-align: right;\n",
       "    }\n",
       "</style>\n",
       "<table border=\"1\" class=\"dataframe\">\n",
       "  <thead>\n",
       "    <tr style=\"text-align: right;\">\n",
       "      <th></th>\n",
       "      <th>t</th>\n",
       "      <th>Sales</th>\n",
       "    </tr>\n",
       "  </thead>\n",
       "  <tbody>\n",
       "    <tr>\n",
       "      <th>0</th>\n",
       "      <td>0</td>\n",
       "      <td>1000</td>\n",
       "    </tr>\n",
       "    <tr>\n",
       "      <th>1</th>\n",
       "      <td>1</td>\n",
       "      <td>1200</td>\n",
       "    </tr>\n",
       "    <tr>\n",
       "      <th>2</th>\n",
       "      <td>2</td>\n",
       "      <td>1100</td>\n",
       "    </tr>\n",
       "  </tbody>\n",
       "</table>\n",
       "</div>"
      ],
      "text/plain": [
       "   t  Sales\n",
       "0  0   1000\n",
       "1  1   1200\n",
       "2  2   1100"
      ]
     },
     "execution_count": 47,
     "metadata": {},
     "output_type": "execute_result"
    }
   ],
   "source": [
    "for_fcst_df=for_fcst_df.rename(columns={'index': 't'})\n",
    "for_fcst_df"
   ]
  },
  {
   "cell_type": "code",
   "execution_count": 48,
   "id": "7bebf0d3",
   "metadata": {},
   "outputs": [
    {
     "data": {
      "text/html": [
       "<div>\n",
       "<style scoped>\n",
       "    .dataframe tbody tr th:only-of-type {\n",
       "        vertical-align: middle;\n",
       "    }\n",
       "\n",
       "    .dataframe tbody tr th {\n",
       "        vertical-align: top;\n",
       "    }\n",
       "\n",
       "    .dataframe thead th {\n",
       "        text-align: right;\n",
       "    }\n",
       "</style>\n",
       "<table border=\"1\" class=\"dataframe\">\n",
       "  <thead>\n",
       "    <tr style=\"text-align: right;\">\n",
       "      <th></th>\n",
       "      <th>t</th>\n",
       "      <th>Cost of Goods Sold</th>\n",
       "    </tr>\n",
       "  </thead>\n",
       "  <tbody>\n",
       "    <tr>\n",
       "      <th>0</th>\n",
       "      <td>0</td>\n",
       "      <td>620</td>\n",
       "    </tr>\n",
       "    <tr>\n",
       "      <th>1</th>\n",
       "      <td>1</td>\n",
       "      <td>700</td>\n",
       "    </tr>\n",
       "    <tr>\n",
       "      <th>2</th>\n",
       "      <td>2</td>\n",
       "      <td>650</td>\n",
       "    </tr>\n",
       "  </tbody>\n",
       "</table>\n",
       "</div>"
      ],
      "text/plain": [
       "   t  Cost of Goods Sold\n",
       "0  0                 620\n",
       "1  1                 700\n",
       "2  2                 650"
      ]
     },
     "execution_count": 48,
     "metadata": {},
     "output_type": "execute_result"
    }
   ],
   "source": [
    "def for_forecast_df_from_org_df(orig_df,series_name):\n",
    "    \"\"\"\n",
    "    From a DataFrame where index in name of series to be forecasted and columns are time periods,create a\n",
    "    DataFrame with two columns,t in periods and the value to be forecasted, and rows are time periods.\n",
    "    \"\"\"\n",
    "    for_fcst_df=pd.DataFrame(orig_df.loc[series_name])\n",
    "    for_fcst_df=for_fcst_df.reset_index(drop=True).reset_index()\n",
    "    for_fcst_df=for_fcst_df.rename(columns={'index': 't'})\n",
    "    return for_fcst_df\n",
    "for_forecast_df_from_org_df(df,'Cost of Goods Sold')"
   ]
  },
  {
   "cell_type": "code",
   "execution_count": 49,
   "id": "88305f0f",
   "metadata": {},
   "outputs": [
    {
     "name": "stderr",
     "output_type": "stream",
     "text": [
      "C:\\Users\\nafissaad\\AppData\\Local\\Programs\\Python\\Python37\\lib\\site-packages\\statsmodels\\stats\\stattools.py:75: ValueWarning: omni_normtest is not valid with less than 8 observations; 3 samples were given.\n",
      "  \"samples were given.\" % int(n), ValueWarning)\n"
     ]
    },
    {
     "data": {
      "text/html": [
       "<table class=\"simpletable\">\n",
       "<caption>OLS Regression Results</caption>\n",
       "<tr>\n",
       "  <th>Dep. Variable:</th>          <td>Sales</td>      <th>  R-squared:         </th> <td>   0.250</td>\n",
       "</tr>\n",
       "<tr>\n",
       "  <th>Model:</th>                   <td>OLS</td>       <th>  Adj. R-squared:    </th> <td>  -0.500</td>\n",
       "</tr>\n",
       "<tr>\n",
       "  <th>Method:</th>             <td>Least Squares</td>  <th>  F-statistic:       </th> <td>  0.3333</td>\n",
       "</tr>\n",
       "<tr>\n",
       "  <th>Date:</th>             <td>Sat, 14 Jan 2023</td> <th>  Prob (F-statistic):</th>  <td> 0.667</td> \n",
       "</tr>\n",
       "<tr>\n",
       "  <th>Time:</th>                 <td>15:27:31</td>     <th>  Log-Likelihood:    </th> <td> -17.033</td>\n",
       "</tr>\n",
       "<tr>\n",
       "  <th>No. Observations:</th>      <td>     3</td>      <th>  AIC:               </th> <td>   38.07</td>\n",
       "</tr>\n",
       "<tr>\n",
       "  <th>Df Residuals:</th>          <td>     1</td>      <th>  BIC:               </th> <td>   36.26</td>\n",
       "</tr>\n",
       "<tr>\n",
       "  <th>Df Model:</th>              <td>     1</td>      <th>                     </th>     <td> </td>   \n",
       "</tr>\n",
       "<tr>\n",
       "  <th>Covariance Type:</th>      <td>nonrobust</td>    <th>                     </th>     <td> </td>   \n",
       "</tr>\n",
       "</table>\n",
       "<table class=\"simpletable\">\n",
       "<tr>\n",
       "    <td></td>       <th>coef</th>     <th>std err</th>      <th>t</th>      <th>P>|t|</th>  <th>[0.025</th>    <th>0.975]</th>  \n",
       "</tr>\n",
       "<tr>\n",
       "  <th>const</th> <td> 1050.0000</td> <td>  111.803</td> <td>    9.391</td> <td> 0.068</td> <td> -370.597</td> <td> 2470.597</td>\n",
       "</tr>\n",
       "<tr>\n",
       "  <th>t</th>     <td>   50.0000</td> <td>   86.603</td> <td>    0.577</td> <td> 0.667</td> <td>-1050.390</td> <td> 1150.390</td>\n",
       "</tr>\n",
       "</table>\n",
       "<table class=\"simpletable\">\n",
       "<tr>\n",
       "  <th>Omnibus:</th>       <td>   nan</td> <th>  Durbin-Watson:     </th> <td>   3.000</td>\n",
       "</tr>\n",
       "<tr>\n",
       "  <th>Prob(Omnibus):</th> <td>   nan</td> <th>  Jarque-Bera (JB):  </th> <td>   0.531</td>\n",
       "</tr>\n",
       "<tr>\n",
       "  <th>Skew:</th>          <td> 0.707</td> <th>  Prob(JB):          </th> <td>   0.767</td>\n",
       "</tr>\n",
       "<tr>\n",
       "  <th>Kurtosis:</th>      <td> 1.500</td> <th>  Cond. No.          </th> <td>    2.92</td>\n",
       "</tr>\n",
       "</table><br/><br/>Notes:<br/>[1] Standard Errors assume that the covariance matrix of the errors is correctly specified."
      ],
      "text/plain": [
       "<class 'statsmodels.iolib.summary.Summary'>\n",
       "\"\"\"\n",
       "                            OLS Regression Results                            \n",
       "==============================================================================\n",
       "Dep. Variable:                  Sales   R-squared:                       0.250\n",
       "Model:                            OLS   Adj. R-squared:                 -0.500\n",
       "Method:                 Least Squares   F-statistic:                    0.3333\n",
       "Date:                Sat, 14 Jan 2023   Prob (F-statistic):              0.667\n",
       "Time:                        15:27:31   Log-Likelihood:                -17.033\n",
       "No. Observations:                   3   AIC:                             38.07\n",
       "Df Residuals:                       1   BIC:                             36.26\n",
       "Df Model:                           1                                         \n",
       "Covariance Type:            nonrobust                                         \n",
       "==============================================================================\n",
       "                 coef    std err          t      P>|t|      [0.025      0.975]\n",
       "------------------------------------------------------------------------------\n",
       "const       1050.0000    111.803      9.391      0.068    -370.597    2470.597\n",
       "t             50.0000     86.603      0.577      0.667   -1050.390    1150.390\n",
       "==============================================================================\n",
       "Omnibus:                          nan   Durbin-Watson:                   3.000\n",
       "Prob(Omnibus):                    nan   Jarque-Bera (JB):                0.531\n",
       "Skew:                           0.707   Prob(JB):                        0.767\n",
       "Kurtosis:                       1.500   Cond. No.                         2.92\n",
       "==============================================================================\n",
       "\n",
       "Notes:\n",
       "[1] Standard Errors assume that the covariance matrix of the errors is correctly specified.\n",
       "\"\"\""
      ]
     },
     "execution_count": 49,
     "metadata": {},
     "output_type": "execute_result"
    }
   ],
   "source": [
    "import statsmodels.api as sm\n",
    "model=sm.OLS(for_fcst_df['Sales'],sm.add_constant(for_fcst_df['t']),hasconst=True)\n",
    "results=model.fit()\n",
    "results.summary()"
   ]
  },
  {
   "cell_type": "code",
   "execution_count": 50,
   "id": "ad394d1c",
   "metadata": {},
   "outputs": [],
   "source": [
    "intercept=results.params['const']\n",
    "beta=results.params['t']"
   ]
  },
  {
   "cell_type": "code",
   "execution_count": 51,
   "id": "4638de9d",
   "metadata": {},
   "outputs": [
    {
     "data": {
      "text/plain": [
       "1050.0"
      ]
     },
     "execution_count": 51,
     "metadata": {},
     "output_type": "execute_result"
    }
   ],
   "source": [
    "intercept"
   ]
  },
  {
   "cell_type": "code",
   "execution_count": 52,
   "id": "b72f190c",
   "metadata": {},
   "outputs": [
    {
     "data": {
      "text/plain": [
       "49.99999999999982"
      ]
     },
     "execution_count": 52,
     "metadata": {},
     "output_type": "execute_result"
    }
   ],
   "source": [
    "beta"
   ]
  },
  {
   "cell_type": "code",
   "execution_count": 53,
   "id": "11c43002",
   "metadata": {},
   "outputs": [],
   "source": [
    "#Now Predict from Regression Results\n",
    "fcst_sales=intercept+beta*3"
   ]
  },
  {
   "cell_type": "code",
   "execution_count": 54,
   "id": "b32fc276",
   "metadata": {},
   "outputs": [
    {
     "data": {
      "text/plain": [
       "1199.9999999999995"
      ]
     },
     "execution_count": 54,
     "metadata": {},
     "output_type": "execute_result"
    }
   ],
   "source": [
    "fcst_sales"
   ]
  },
  {
   "cell_type": "code",
   "execution_count": 55,
   "id": "9c31b751",
   "metadata": {},
   "outputs": [
    {
     "data": {
      "text/plain": [
       "1199.9999999999995"
      ]
     },
     "execution_count": 55,
     "metadata": {},
     "output_type": "execute_result"
    }
   ],
   "source": [
    "def intercept_and_beta_from_for_forecast_df(for_fcst_df,series_name):\n",
    "    \"\"\"\n",
    "    Calculates intercept and beta of time periods from DataFrame set up for forecasting\n",
    "    \"\"\"\n",
    "    model=sm.OLS(for_fcst_df[series_name],sm.add_constant(for_fcst_df['t']),hasconst=True)\n",
    "    results=model.fit()\n",
    "    intercept=results.params['const']\n",
    "    beta=results.params['t']\n",
    "    return intercept,beta\n",
    "def predict_from_intercept_beta_and_t(intercept,beta,t):\n",
    "    \"\"\"\n",
    "    Predict value in period t based off regression intercept and beta\n",
    "    \"\"\"\n",
    "    return intercept+beta*t\n",
    "intercept,beta=intercept_and_beta_from_for_forecast_df(for_fcst_df,'Sales')\n",
    "fcst_sales=predict_from_intercept_beta_and_t(intercept,beta,3)\n",
    "fcst_sales"
   ]
  },
  {
   "cell_type": "code",
   "execution_count": 56,
   "id": "cb34d373",
   "metadata": {},
   "outputs": [
    {
     "name": "stdout",
     "output_type": "stream",
     "text": [
      "The forecasted value for sales is $1,200 and for COGS is $687\n"
     ]
    }
   ],
   "source": [
    "def forecast_trend_reg(df,series_name,t):\n",
    "    \"\"\"\n",
    "    Full workflow of forecasting trend via regression\n",
    "    \"\"\"\n",
    "    for_fcst_df=for_forecast_df_from_org_df(df,series_name)\n",
    "    intercept,beta=intercept_and_beta_from_for_forecast_df(for_fcst_df,series_name)\n",
    "    fcst=predict_from_intercept_beta_and_t(intercept,beta,t)\n",
    "    return fcst\n",
    "fcst_sales=forecast_trend_reg(df,'Sales',3)\n",
    "fcst_cogs=forecast_trend_reg(df,'Cost of Goods Sold',3)\n",
    "print(f'The forecasted value for sales is ${fcst_sales:,.0f} and for COGS is ${fcst_cogs:,.0f}')"
   ]
  },
  {
   "cell_type": "code",
   "execution_count": 57,
   "id": "29f2a2b3",
   "metadata": {},
   "outputs": [
    {
     "data": {
      "text/html": [
       "<div>\n",
       "<style scoped>\n",
       "    .dataframe tbody tr th:only-of-type {\n",
       "        vertical-align: middle;\n",
       "    }\n",
       "\n",
       "    .dataframe tbody tr th {\n",
       "        vertical-align: top;\n",
       "    }\n",
       "\n",
       "    .dataframe thead th {\n",
       "        text-align: right;\n",
       "    }\n",
       "</style>\n",
       "<table border=\"1\" class=\"dataframe\">\n",
       "  <thead>\n",
       "    <tr style=\"text-align: right;\">\n",
       "      <th></th>\n",
       "      <th>t</th>\n",
       "      <th>Sales</th>\n",
       "    </tr>\n",
       "  </thead>\n",
       "  <tbody>\n",
       "    <tr>\n",
       "      <th>0</th>\n",
       "      <td>0</td>\n",
       "      <td>1000</td>\n",
       "    </tr>\n",
       "    <tr>\n",
       "      <th>1</th>\n",
       "      <td>1</td>\n",
       "      <td>1200</td>\n",
       "    </tr>\n",
       "    <tr>\n",
       "      <th>2</th>\n",
       "      <td>2</td>\n",
       "      <td>1100</td>\n",
       "    </tr>\n",
       "  </tbody>\n",
       "</table>\n",
       "</div>"
      ],
      "text/plain": [
       "   t  Sales\n",
       "0  0   1000\n",
       "1  1   1200\n",
       "2  2   1100"
      ]
     },
     "execution_count": 57,
     "metadata": {},
     "output_type": "execute_result"
    }
   ],
   "source": [
    "for_fcst_df=for_forecast_df_from_org_df(df,'Sales')\n",
    "for_fcst_df"
   ]
  },
  {
   "cell_type": "code",
   "execution_count": 58,
   "id": "00a5692b",
   "metadata": {},
   "outputs": [
    {
     "data": {
      "text/plain": [
       "1000"
      ]
     },
     "execution_count": 58,
     "metadata": {},
     "output_type": "execute_result"
    }
   ],
   "source": [
    "y_0=for_fcst_df['Sales'].iloc[0]\n",
    "y_0"
   ]
  },
  {
   "cell_type": "code",
   "execution_count": 59,
   "id": "5c934a33",
   "metadata": {},
   "outputs": [
    {
     "data": {
      "text/plain": [
       "1100"
      ]
     },
     "execution_count": 59,
     "metadata": {},
     "output_type": "execute_result"
    }
   ],
   "source": [
    "y_T=for_fcst_df['Sales'].iloc[-1]\n",
    "y_T"
   ]
  },
  {
   "cell_type": "code",
   "execution_count": 60,
   "id": "b1eedf87",
   "metadata": {},
   "outputs": [
    {
     "data": {
      "text/plain": [
       "2"
      ]
     },
     "execution_count": 60,
     "metadata": {},
     "output_type": "execute_result"
    }
   ],
   "source": [
    "n=for_fcst_df['t'].iloc[-1] - for_fcst_df['t'].iloc[0]\n",
    "n"
   ]
  },
  {
   "cell_type": "code",
   "execution_count": 61,
   "id": "b98b25bd",
   "metadata": {},
   "outputs": [
    {
     "data": {
      "text/plain": [
       "0.04880884817015163"
      ]
     },
     "execution_count": 61,
     "metadata": {},
     "output_type": "execute_result"
    }
   ],
   "source": [
    "#Compounded anual groth rate model CAGR\n",
    "cagr=(y_T/y_0)**(1/n)-1\n",
    "cagr"
   ]
  },
  {
   "cell_type": "code",
   "execution_count": 62,
   "id": "9f5df8e8",
   "metadata": {},
   "outputs": [
    {
     "data": {
      "text/plain": [
       "1153.6897329871667"
      ]
     },
     "execution_count": 62,
     "metadata": {},
     "output_type": "execute_result"
    }
   ],
   "source": [
    "#prediction=prior value(p_T)*(1+cagr)^number of the period you want to calculate\n",
    "def cagr_from_for_forecasted_df(for_fcst_df,series_name):\n",
    "    '''\n",
    "    Calcualte CAGR from DataFrame set up for forecasing\n",
    "    '''\n",
    "    y_0=for_fcst_df[series_name].iloc[0]\n",
    "    y_t=for_fcst_df[series_name].iloc[-1]\n",
    "    n=for_fcst_df[series_name].iloc[-1]-for_fcst_df['t'].iloc[0]\n",
    "    return cagr\n",
    "\n",
    "def predict_from_for_forecast_df_and_cagr(for_fcst_df,series_name,cagr,t):\n",
    "    '''\n",
    "    Forecast value from DataFrame setup for forecasting and Calculated CAGR\n",
    "    '''\n",
    "    y_T=for_fcst_df[series_name].iloc[-1]\n",
    "    n=for_fcst_df['t'].iloc[-1]-for_fcst_df['t'].iloc[0]\n",
    "    future_nper=t-n\n",
    "    fcst=y_T*(1+cagr)**future_nper\n",
    "    return fcst\n",
    "cagr=cagr_from_for_forecasted_df(for_fcst_df,'Sales')\n",
    "fcst_sales=predict_from_for_forecast_df_and_cagr(for_fcst_df,'Sales',cagr,3)\n",
    "fcst_sales"
   ]
  },
  {
   "cell_type": "code",
   "execution_count": 63,
   "id": "91aeab35",
   "metadata": {},
   "outputs": [
    {
     "name": "stdout",
     "output_type": "stream",
     "text": [
      "The forecasted value for sales is $1,154 and for COGS is $682\n"
     ]
    }
   ],
   "source": [
    "def forecast_trend_cagr(df, series_name, t):\n",
    "    \"\"\"\n",
    "    Full workflow of forecasting trend via CAGR\n",
    "    \"\"\"\n",
    "    for_fcst_df = for_forecast_df_from_org_df(df, series_name)\n",
    "    cagr = cagr_from_for_forecasted_df(for_fcst_df, series_name)\n",
    "    fcst = predict_from_for_forecast_df_and_cagr(for_fcst_df, series_name, cagr, t)\n",
    "    return fcst\n",
    "\n",
    "fcst_sales = forecast_trend_cagr(df, 'Sales', 3)\n",
    "fcst_cogs = forecast_trend_cagr(df, 'Cost of Goods Sold', 3)\n",
    "print(f'The forecasted value for sales is ${fcst_sales:,.0f} and for COGS is ${fcst_cogs:,.0f}')"
   ]
  },
  {
   "cell_type": "code",
   "execution_count": 64,
   "id": "f968590d",
   "metadata": {},
   "outputs": [
    {
     "data": {
      "text/html": [
       "<div>\n",
       "<style scoped>\n",
       "    .dataframe tbody tr th:only-of-type {\n",
       "        vertical-align: middle;\n",
       "    }\n",
       "\n",
       "    .dataframe tbody tr th {\n",
       "        vertical-align: top;\n",
       "    }\n",
       "\n",
       "    .dataframe thead th {\n",
       "        text-align: right;\n",
       "    }\n",
       "</style>\n",
       "<table border=\"1\" class=\"dataframe\">\n",
       "  <thead>\n",
       "    <tr style=\"text-align: right;\">\n",
       "      <th></th>\n",
       "      <th>2017-12-31</th>\n",
       "      <th>2018-12-31</th>\n",
       "      <th>2019-12-31</th>\n",
       "    </tr>\n",
       "  </thead>\n",
       "  <tbody>\n",
       "    <tr>\n",
       "      <th>Sales</th>\n",
       "      <td>1000.00</td>\n",
       "      <td>1200.000000</td>\n",
       "      <td>1100.000000</td>\n",
       "    </tr>\n",
       "    <tr>\n",
       "      <th>Cost of Goods Sold</th>\n",
       "      <td>620.00</td>\n",
       "      <td>700.000000</td>\n",
       "      <td>650.000000</td>\n",
       "    </tr>\n",
       "    <tr>\n",
       "      <th>COGS % Sales</th>\n",
       "      <td>0.62</td>\n",
       "      <td>0.583333</td>\n",
       "      <td>0.590909</td>\n",
       "    </tr>\n",
       "  </tbody>\n",
       "</table>\n",
       "</div>"
      ],
      "text/plain": [
       "                    2017-12-31   2018-12-31   2019-12-31\n",
       "Sales                  1000.00  1200.000000  1100.000000\n",
       "Cost of Goods Sold      620.00   700.000000   650.000000\n",
       "COGS % Sales              0.62     0.583333     0.590909"
      ]
     },
     "execution_count": 64,
     "metadata": {},
     "output_type": "execute_result"
    }
   ],
   "source": [
    "df.loc['COGS % Sales']=df.loc['Cost of Goods Sold']/df.loc['Sales']\n",
    "df"
   ]
  },
  {
   "cell_type": "code",
   "execution_count": 65,
   "id": "bcfeb48e",
   "metadata": {},
   "outputs": [
    {
     "data": {
      "text/plain": [
       "0.5689898989898988"
      ]
     },
     "execution_count": 65,
     "metadata": {},
     "output_type": "execute_result"
    }
   ],
   "source": [
    "fcst_cogs_pct_sales=forecast_trend_reg(df,'COGS % Sales',3)\n",
    "fcst_cogs_pct_sales"
   ]
  },
  {
   "cell_type": "code",
   "execution_count": 66,
   "id": "1e3d3085",
   "metadata": {},
   "outputs": [
    {
     "name": "stdout",
     "output_type": "stream",
     "text": [
      "The forecasted value for sales is $1,154 and COGS is $656\n"
     ]
    }
   ],
   "source": [
    "fcst_cogs=fcst_sales*fcst_cogs_pct_sales\n",
    "print(f'The forecasted value for sales is ${fcst_sales:,.0f} and COGS is ${fcst_cogs:,.0f}')"
   ]
  },
  {
   "cell_type": "code",
   "execution_count": 67,
   "id": "dda0757f",
   "metadata": {
    "scrolled": true
   },
   "outputs": [
    {
     "name": "stdout",
     "output_type": "stream",
     "text": [
      "The forecasted value for sales (average) is $1,100 and for COGS (average) is $657\n",
      "The forecasted value for sales (average) is $1,100 and for COGS % of Sales, (average) is $658\n",
      "The forecasted value for sales (average) is $1,100 and for COGS (recent) is $650\n",
      "The forecasted value for sales (average) is $1,100 and for COGS % of Sales, (recent) is $650\n",
      "The forecasted value for sales (average) is $1,100 and for COGS (trend reg) is $687\n",
      "The forecasted value for sales (average) is $1,100 and for COGS % of Sales, (trend reg) is $626\n",
      "The forecasted value for sales (average) is $1,100 and for COGS (trend cagr) is $687\n",
      "The forecasted value for sales (average) is $1,100 and for COGS % of Sales, (trend cagr) is $626\n",
      "The forecasted value for sales (recent) is $1,100 and for COGS (average) is $657\n",
      "The forecasted value for sales (recent) is $1,100 and for COGS % of Sales, (average) is $658\n",
      "The forecasted value for sales (recent) is $1,100 and for COGS (recent) is $650\n",
      "The forecasted value for sales (recent) is $1,100 and for COGS % of Sales, (recent) is $650\n",
      "The forecasted value for sales (recent) is $1,100 and for COGS (trend reg) is $687\n",
      "The forecasted value for sales (recent) is $1,100 and for COGS % of Sales, (trend reg) is $626\n",
      "The forecasted value for sales (recent) is $1,100 and for COGS (trend cagr) is $687\n",
      "The forecasted value for sales (recent) is $1,100 and for COGS % of Sales, (trend cagr) is $626\n",
      "The forecasted value for sales (trend reg) is $1,200 and for COGS (average) is $657\n",
      "The forecasted value for sales (trend reg) is $1,200 and for COGS % of Sales, (average) is $718\n",
      "The forecasted value for sales (trend reg) is $1,200 and for COGS (recent) is $650\n",
      "The forecasted value for sales (trend reg) is $1,200 and for COGS % of Sales, (recent) is $709\n",
      "The forecasted value for sales (trend reg) is $1,200 and for COGS (trend reg) is $687\n",
      "The forecasted value for sales (trend reg) is $1,200 and for COGS % of Sales, (trend reg) is $683\n",
      "The forecasted value for sales (trend reg) is $1,200 and for COGS (trend cagr) is $687\n",
      "The forecasted value for sales (trend reg) is $1,200 and for COGS % of Sales, (trend cagr) is $683\n",
      "The forecasted value for sales (trend cagr) is $1,200 and for COGS (average) is $657\n",
      "The forecasted value for sales (trend cagr) is $1,200 and for COGS % of Sales, (average) is $718\n",
      "The forecasted value for sales (trend cagr) is $1,200 and for COGS (recent) is $650\n",
      "The forecasted value for sales (trend cagr) is $1,200 and for COGS % of Sales, (recent) is $709\n",
      "The forecasted value for sales (trend cagr) is $1,200 and for COGS (trend reg) is $687\n",
      "The forecasted value for sales (trend cagr) is $1,200 and for COGS % of Sales, (trend reg) is $683\n",
      "The forecasted value for sales (trend cagr) is $1,200 and for COGS (trend cagr) is $687\n",
      "The forecasted value for sales (trend cagr) is $1,200 and for COGS % of Sales, (trend cagr) is $683\n"
     ]
    }
   ],
   "source": [
    "def forecast_by_method(df, series_name, method, t):\n",
    "    if method == 'average':\n",
    "        return df.loc[series_name].mean()\n",
    "    elif method == 'recent':\n",
    "        last_date = df.columns.max()\n",
    "        return df.loc[series_name][last_date]\n",
    "    elif method == 'trend reg':\n",
    "        return forecast_trend_reg(df, series_name, t)\n",
    "    elif method == 'trend cagr':\n",
    "        return forecast_trend_reg(df, series_name, t)\n",
    "\n",
    "methods = [\n",
    "    'average',\n",
    "    'recent',\n",
    "    'trend reg',\n",
    "    'trend cagr'\n",
    "]\n",
    "\n",
    "t = 3\n",
    "\n",
    "cogs_forecasts = []\n",
    "for sales_method in methods:\n",
    "    fcst_sales = forecast_by_method(df, 'Sales', sales_method, t)\n",
    "    for cogs_method in methods:\n",
    "        # Handle levels for COGS\n",
    "        fcst_cogs = forecast_by_method(df, 'Cost of Goods Sold', cogs_method, t)\n",
    "        cogs_forecasts.append(fcst_cogs)\n",
    "        print(f'The forecasted value for sales ({sales_method}) is ${fcst_sales:,.0f} and for COGS ({cogs_method}) is ${fcst_cogs:,.0f}')\n",
    "        # Handle % of sales for COGS\n",
    "        fcst_cogs_pct = forecast_by_method(df, 'COGS % Sales', cogs_method, t)\n",
    "        fcst_cogs = fcst_cogs_pct * fcst_sales\n",
    "        cogs_forecasts.append(fcst_cogs)\n",
    "        print(f'The forecasted value for sales ({sales_method}) is ${fcst_sales:,.0f} and for COGS % of Sales, ({cogs_method}) is ${fcst_cogs:,.0f}')"
   ]
  },
  {
   "cell_type": "code",
   "execution_count": 68,
   "id": "5cd9123d",
   "metadata": {},
   "outputs": [
    {
     "data": {
      "text/plain": [
       "<matplotlib.axes._subplots.AxesSubplot at 0x1cbcd142f98>"
      ]
     },
     "execution_count": 68,
     "metadata": {},
     "output_type": "execute_result"
    },
    {
     "data": {
      "image/png": "[encoded data removed]",
      "text/plain": [
       "<Figure size 432x288 with 1 Axes>"
      ]
     },
     "metadata": {
      "needs_background": "light"
     },
     "output_type": "display_data"
    }
   ],
   "source": [
    "pd.DataFrame(cogs_forecasts).plot.box()"
   ]
  },
  {
   "cell_type": "code",
   "execution_count": 69,
   "id": "de121584",
   "metadata": {},
   "outputs": [
    {
     "data": {
      "text/plain": [
       "[656.6666666666666,\n",
       " 657.8888888888889,\n",
       " 650.0,\n",
       " 650.0,\n",
       " 686.6666666666665,\n",
       " 625.8888888888887,\n",
       " 686.6666666666665,\n",
       " 625.8888888888887,\n",
       " 656.6666666666666,\n",
       " 657.8888888888889,\n",
       " 650.0,\n",
       " 650.0,\n",
       " 686.6666666666665,\n",
       " 625.8888888888887,\n",
       " 686.6666666666665,\n",
       " 625.8888888888887,\n",
       " 656.6666666666666,\n",
       " 717.6969696969694,\n",
       " 650.0,\n",
       " 709.0909090909089,\n",
       " 686.6666666666665,\n",
       " 682.7878787878783,\n",
       " 686.6666666666665,\n",
       " 682.7878787878783,\n",
       " 656.6666666666666,\n",
       " 717.6969696969694,\n",
       " 650.0,\n",
       " 709.0909090909089,\n",
       " 686.6666666666665,\n",
       " 682.7878787878783,\n",
       " 686.6666666666665,\n",
       " 682.7878787878783]"
      ]
     },
     "execution_count": 69,
     "metadata": {},
     "output_type": "execute_result"
    }
   ],
   "source": [
    "cogs_forecasts"
   ]
  },
  {
   "cell_type": "code",
   "execution_count": 70,
   "id": "bae6954a",
   "metadata": {},
   "outputs": [
    {
     "data": {
      "text/plain": [
       "2017-12-31    1000.0\n",
       "2018-12-31    1200.0\n",
       "2019-12-31    1100.0\n",
       "Name: Sales, dtype: float64"
      ]
     },
     "execution_count": 70,
     "metadata": {},
     "output_type": "execute_result"
    }
   ],
   "source": [
    "df.loc['Sales']"
   ]
  },
  {
   "cell_type": "code",
   "execution_count": 71,
   "id": "1480063c",
   "metadata": {},
   "outputs": [
    {
     "data": {
      "text/plain": [
       "1100.0"
      ]
     },
     "execution_count": 71,
     "metadata": {},
     "output_type": "execute_result"
    }
   ],
   "source": [
    "df.loc['Sales'][last_date]"
   ]
  },
  {
   "cell_type": "code",
   "execution_count": 72,
   "id": "e2a3b034",
   "metadata": {},
   "outputs": [
    {
     "data": {
      "text/plain": [
       "Timestamp('2019-12-31 00:00:00')"
      ]
     },
     "execution_count": 72,
     "metadata": {},
     "output_type": "execute_result"
    }
   ],
   "source": [
    "last_date"
   ]
  },
  {
   "cell_type": "code",
   "execution_count": null,
   "id": "402a2d18",
   "metadata": {},
   "outputs": [],
   "source": []
  }
 ],
 "metadata": {
  "kernelspec": {
   "display_name": "Python 3 (ipykernel)",
   "language": "python",
   "name": "python3"
  },
  "language_info": {
   "codemirror_mode": {
    "name": "ipython",
    "version": 3
   },
   "file_extension": ".py",
   "mimetype": "text/x-python",
   "name": "python",
   "nbconvert_exporter": "python",
   "pygments_lexer": "ipython3",
   "version": "3.7.3"
  }
 },
 "nbformat": 4,
 "nbformat_minor": 5
}

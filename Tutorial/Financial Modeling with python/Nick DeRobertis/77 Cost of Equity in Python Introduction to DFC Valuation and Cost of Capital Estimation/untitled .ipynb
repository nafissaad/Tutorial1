{
 "cells": [
  {
   "cell_type": "code",
   "execution_count": 2,
   "id": "8a246d31",
   "metadata": {},
   "outputs": [],
   "source": [
    "import pandas as pd\n",
    "df=pd.read_excel('price data.xlsx')"
   ]
  },
  {
   "cell_type": "code",
   "execution_count": 3,
   "id": "159246a4",
   "metadata": {},
   "outputs": [
    {
     "data": {
      "text/html": [
       "<div>\n",
       "<style scoped>\n",
       "    .dataframe tbody tr th:only-of-type {\n",
       "        vertical-align: middle;\n",
       "    }\n",
       "\n",
       "    .dataframe tbody tr th {\n",
       "        vertical-align: top;\n",
       "    }\n",
       "\n",
       "    .dataframe thead th {\n",
       "        text-align: right;\n",
       "    }\n",
       "</style>\n",
       "<table border=\"1\" class=\"dataframe\">\n",
       "  <thead>\n",
       "    <tr style=\"text-align: right;\">\n",
       "      <th></th>\n",
       "      <th>Market Portfolio</th>\n",
       "      <th>Asset Price</th>\n",
       "    </tr>\n",
       "  </thead>\n",
       "  <tbody>\n",
       "    <tr>\n",
       "      <th>0</th>\n",
       "      <td>1.000000e+03</td>\n",
       "      <td>100.000000</td>\n",
       "    </tr>\n",
       "    <tr>\n",
       "      <th>1</th>\n",
       "      <td>1.178861e+03</td>\n",
       "      <td>88.056952</td>\n",
       "    </tr>\n",
       "    <tr>\n",
       "      <th>2</th>\n",
       "      <td>1.400554e+03</td>\n",
       "      <td>71.554169</td>\n",
       "    </tr>\n",
       "    <tr>\n",
       "      <th>3</th>\n",
       "      <td>1.476669e+03</td>\n",
       "      <td>57.621757</td>\n",
       "    </tr>\n",
       "    <tr>\n",
       "      <th>4</th>\n",
       "      <td>1.536614e+03</td>\n",
       "      <td>47.839685</td>\n",
       "    </tr>\n",
       "    <tr>\n",
       "      <th>...</th>\n",
       "      <td>...</td>\n",
       "      <td>...</td>\n",
       "    </tr>\n",
       "    <tr>\n",
       "      <th>96</th>\n",
       "      <td>2.454551e+06</td>\n",
       "      <td>23148.498853</td>\n",
       "    </tr>\n",
       "    <tr>\n",
       "      <th>97</th>\n",
       "      <td>2.413149e+06</td>\n",
       "      <td>19580.732898</td>\n",
       "    </tr>\n",
       "    <tr>\n",
       "      <th>98</th>\n",
       "      <td>2.904958e+06</td>\n",
       "      <td>26815.922014</td>\n",
       "    </tr>\n",
       "    <tr>\n",
       "      <th>99</th>\n",
       "      <td>3.560505e+06</td>\n",
       "      <td>27573.115245</td>\n",
       "    </tr>\n",
       "    <tr>\n",
       "      <th>100</th>\n",
       "      <td>3.752190e+06</td>\n",
       "      <td>25190.508535</td>\n",
       "    </tr>\n",
       "  </tbody>\n",
       "</table>\n",
       "<p>101 rows × 2 columns</p>\n",
       "</div>"
      ],
      "text/plain": [
       "     Market Portfolio   Asset Price\n",
       "0        1.000000e+03    100.000000\n",
       "1        1.178861e+03     88.056952\n",
       "2        1.400554e+03     71.554169\n",
       "3        1.476669e+03     57.621757\n",
       "4        1.536614e+03     47.839685\n",
       "..                ...           ...\n",
       "96       2.454551e+06  23148.498853\n",
       "97       2.413149e+06  19580.732898\n",
       "98       2.904958e+06  26815.922014\n",
       "99       3.560505e+06  27573.115245\n",
       "100      3.752190e+06  25190.508535\n",
       "\n",
       "[101 rows x 2 columns]"
      ]
     },
     "execution_count": 3,
     "metadata": {},
     "output_type": "execute_result"
    }
   ],
   "source": [
    "df"
   ]
  },
  {
   "cell_type": "code",
   "execution_count": 4,
   "id": "f600d02e",
   "metadata": {},
   "outputs": [
    {
     "data": {
      "text/plain": [
       "101"
      ]
     },
     "execution_count": 4,
     "metadata": {},
     "output_type": "execute_result"
    }
   ],
   "source": [
    "len(df)"
   ]
  },
  {
   "cell_type": "code",
   "execution_count": 5,
   "id": "024e58ff",
   "metadata": {},
   "outputs": [
    {
     "data": {
      "text/html": [
       "<div>\n",
       "<style scoped>\n",
       "    .dataframe tbody tr th:only-of-type {\n",
       "        vertical-align: middle;\n",
       "    }\n",
       "\n",
       "    .dataframe tbody tr th {\n",
       "        vertical-align: top;\n",
       "    }\n",
       "\n",
       "    .dataframe thead th {\n",
       "        text-align: right;\n",
       "    }\n",
       "</style>\n",
       "<table border=\"1\" class=\"dataframe\">\n",
       "  <thead>\n",
       "    <tr style=\"text-align: right;\">\n",
       "      <th></th>\n",
       "      <th>Market Portfolio</th>\n",
       "      <th>Asset Price</th>\n",
       "    </tr>\n",
       "  </thead>\n",
       "  <tbody>\n",
       "    <tr>\n",
       "      <th>0</th>\n",
       "      <td>NaN</td>\n",
       "      <td>NaN</td>\n",
       "    </tr>\n",
       "    <tr>\n",
       "      <th>1</th>\n",
       "      <td>0.178861</td>\n",
       "      <td>-0.119430</td>\n",
       "    </tr>\n",
       "    <tr>\n",
       "      <th>2</th>\n",
       "      <td>0.188057</td>\n",
       "      <td>-0.187410</td>\n",
       "    </tr>\n",
       "    <tr>\n",
       "      <th>3</th>\n",
       "      <td>0.054347</td>\n",
       "      <td>-0.194711</td>\n",
       "    </tr>\n",
       "    <tr>\n",
       "      <th>4</th>\n",
       "      <td>0.040594</td>\n",
       "      <td>-0.169764</td>\n",
       "    </tr>\n",
       "  </tbody>\n",
       "</table>\n",
       "</div>"
      ],
      "text/plain": [
       "   Market Portfolio  Asset Price\n",
       "0               NaN          NaN\n",
       "1          0.178861    -0.119430\n",
       "2          0.188057    -0.187410\n",
       "3          0.054347    -0.194711\n",
       "4          0.040594    -0.169764"
      ]
     },
     "execution_count": 5,
     "metadata": {},
     "output_type": "execute_result"
    }
   ],
   "source": [
    "returns=df.pct_change()\n",
    "returns.head()"
   ]
  },
  {
   "cell_type": "code",
   "execution_count": 6,
   "id": "2b84b5e3",
   "metadata": {},
   "outputs": [
    {
     "data": {
      "text/html": [
       "<div>\n",
       "<style scoped>\n",
       "    .dataframe tbody tr th:only-of-type {\n",
       "        vertical-align: middle;\n",
       "    }\n",
       "\n",
       "    .dataframe tbody tr th {\n",
       "        vertical-align: top;\n",
       "    }\n",
       "\n",
       "    .dataframe thead th {\n",
       "        text-align: right;\n",
       "    }\n",
       "</style>\n",
       "<table border=\"1\" class=\"dataframe\">\n",
       "  <thead>\n",
       "    <tr style=\"text-align: right;\">\n",
       "      <th></th>\n",
       "      <th>Market Portfolio</th>\n",
       "      <th>Asset Price</th>\n",
       "    </tr>\n",
       "  </thead>\n",
       "  <tbody>\n",
       "    <tr>\n",
       "      <th>96</th>\n",
       "      <td>0.097515</td>\n",
       "      <td>0.411711</td>\n",
       "    </tr>\n",
       "    <tr>\n",
       "      <th>97</th>\n",
       "      <td>-0.016867</td>\n",
       "      <td>-0.154125</td>\n",
       "    </tr>\n",
       "    <tr>\n",
       "      <th>98</th>\n",
       "      <td>0.203804</td>\n",
       "      <td>0.369506</td>\n",
       "    </tr>\n",
       "    <tr>\n",
       "      <th>99</th>\n",
       "      <td>0.225665</td>\n",
       "      <td>0.028237</td>\n",
       "    </tr>\n",
       "    <tr>\n",
       "      <th>100</th>\n",
       "      <td>0.053837</td>\n",
       "      <td>-0.086411</td>\n",
       "    </tr>\n",
       "  </tbody>\n",
       "</table>\n",
       "</div>"
      ],
      "text/plain": [
       "     Market Portfolio  Asset Price\n",
       "96           0.097515     0.411711\n",
       "97          -0.016867    -0.154125\n",
       "98           0.203804     0.369506\n",
       "99           0.225665     0.028237\n",
       "100          0.053837    -0.086411"
      ]
     },
     "execution_count": 6,
     "metadata": {},
     "output_type": "execute_result"
    }
   ],
   "source": [
    "returns.tail()"
   ]
  },
  {
   "cell_type": "code",
   "execution_count": 8,
   "id": "8d826b2c",
   "metadata": {},
   "outputs": [
    {
     "data": {
      "text/html": [
       "<div>\n",
       "<style scoped>\n",
       "    .dataframe tbody tr th:only-of-type {\n",
       "        vertical-align: middle;\n",
       "    }\n",
       "\n",
       "    .dataframe tbody tr th {\n",
       "        vertical-align: top;\n",
       "    }\n",
       "\n",
       "    .dataframe thead th {\n",
       "        text-align: right;\n",
       "    }\n",
       "</style>\n",
       "<table border=\"1\" class=\"dataframe\">\n",
       "  <thead>\n",
       "    <tr style=\"text-align: right;\">\n",
       "      <th></th>\n",
       "      <th>Market Portfolio</th>\n",
       "      <th>Asset Price</th>\n",
       "      <th>MRP</th>\n",
       "    </tr>\n",
       "  </thead>\n",
       "  <tbody>\n",
       "    <tr>\n",
       "      <th>0</th>\n",
       "      <td>NaN</td>\n",
       "      <td>NaN</td>\n",
       "      <td>NaN</td>\n",
       "    </tr>\n",
       "    <tr>\n",
       "      <th>1</th>\n",
       "      <td>0.178861</td>\n",
       "      <td>-0.119430</td>\n",
       "      <td>0.148861</td>\n",
       "    </tr>\n",
       "    <tr>\n",
       "      <th>2</th>\n",
       "      <td>0.188057</td>\n",
       "      <td>-0.187410</td>\n",
       "      <td>0.158057</td>\n",
       "    </tr>\n",
       "    <tr>\n",
       "      <th>3</th>\n",
       "      <td>0.054347</td>\n",
       "      <td>-0.194711</td>\n",
       "      <td>0.024347</td>\n",
       "    </tr>\n",
       "    <tr>\n",
       "      <th>4</th>\n",
       "      <td>0.040594</td>\n",
       "      <td>-0.169764</td>\n",
       "      <td>0.010594</td>\n",
       "    </tr>\n",
       "  </tbody>\n",
       "</table>\n",
       "</div>"
      ],
      "text/plain": [
       "   Market Portfolio  Asset Price       MRP\n",
       "0               NaN          NaN       NaN\n",
       "1          0.178861    -0.119430  0.148861\n",
       "2          0.188057    -0.187410  0.158057\n",
       "3          0.054347    -0.194711  0.024347\n",
       "4          0.040594    -0.169764  0.010594"
      ]
     },
     "execution_count": 8,
     "metadata": {},
     "output_type": "execute_result"
    }
   ],
   "source": [
    "risk_free=0.03\n",
    "returns['MRP']=returns['Market Portfolio']-risk_free\n",
    "returns.head()"
   ]
  },
  {
   "cell_type": "code",
   "execution_count": 11,
   "id": "320e2a71",
   "metadata": {},
   "outputs": [
    {
     "data": {
      "text/html": [
       "<div>\n",
       "<style scoped>\n",
       "    .dataframe tbody tr th:only-of-type {\n",
       "        vertical-align: middle;\n",
       "    }\n",
       "\n",
       "    .dataframe tbody tr th {\n",
       "        vertical-align: top;\n",
       "    }\n",
       "\n",
       "    .dataframe thead th {\n",
       "        text-align: right;\n",
       "    }\n",
       "</style>\n",
       "<table border=\"1\" class=\"dataframe\">\n",
       "  <thead>\n",
       "    <tr style=\"text-align: right;\">\n",
       "      <th></th>\n",
       "      <th>Market Portfolio</th>\n",
       "      <th>Asset Price</th>\n",
       "      <th>MRP</th>\n",
       "    </tr>\n",
       "  </thead>\n",
       "  <tbody>\n",
       "    <tr>\n",
       "      <th>1</th>\n",
       "      <td>0.178861</td>\n",
       "      <td>-0.119430</td>\n",
       "      <td>0.148861</td>\n",
       "    </tr>\n",
       "    <tr>\n",
       "      <th>2</th>\n",
       "      <td>0.188057</td>\n",
       "      <td>-0.187410</td>\n",
       "      <td>0.158057</td>\n",
       "    </tr>\n",
       "    <tr>\n",
       "      <th>3</th>\n",
       "      <td>0.054347</td>\n",
       "      <td>-0.194711</td>\n",
       "      <td>0.024347</td>\n",
       "    </tr>\n",
       "    <tr>\n",
       "      <th>4</th>\n",
       "      <td>0.040594</td>\n",
       "      <td>-0.169764</td>\n",
       "      <td>0.010594</td>\n",
       "    </tr>\n",
       "    <tr>\n",
       "      <th>5</th>\n",
       "      <td>0.076758</td>\n",
       "      <td>0.227258</td>\n",
       "      <td>0.046758</td>\n",
       "    </tr>\n",
       "  </tbody>\n",
       "</table>\n",
       "</div>"
      ],
      "text/plain": [
       "   Market Portfolio  Asset Price       MRP\n",
       "1          0.178861    -0.119430  0.148861\n",
       "2          0.188057    -0.187410  0.158057\n",
       "3          0.054347    -0.194711  0.024347\n",
       "4          0.040594    -0.169764  0.010594\n",
       "5          0.076758     0.227258  0.046758"
      ]
     },
     "execution_count": 11,
     "metadata": {},
     "output_type": "execute_result"
    }
   ],
   "source": [
    "returns=returns.dropna()\n",
    "returns.head()"
   ]
  },
  {
   "cell_type": "code",
   "execution_count": 13,
   "id": "30393130",
   "metadata": {},
   "outputs": [
    {
     "data": {
      "text/html": [
       "<table class=\"simpletable\">\n",
       "<caption>OLS Regression Results</caption>\n",
       "<tr>\n",
       "  <th>Dep. Variable:</th>       <td>Asset Price</td>   <th>  R-squared:         </th> <td>   0.225</td>\n",
       "</tr>\n",
       "<tr>\n",
       "  <th>Model:</th>                   <td>OLS</td>       <th>  Adj. R-squared:    </th> <td>   0.218</td>\n",
       "</tr>\n",
       "<tr>\n",
       "  <th>Method:</th>             <td>Least Squares</td>  <th>  F-statistic:       </th> <td>   28.53</td>\n",
       "</tr>\n",
       "<tr>\n",
       "  <th>Date:</th>             <td>Thu, 01 Dec 2022</td> <th>  Prob (F-statistic):</th> <td>5.99e-07</td>\n",
       "</tr>\n",
       "<tr>\n",
       "  <th>Time:</th>                 <td>20:09:38</td>     <th>  Log-Likelihood:    </th> <td>  13.883</td>\n",
       "</tr>\n",
       "<tr>\n",
       "  <th>No. Observations:</th>      <td>   100</td>      <th>  AIC:               </th> <td>  -23.77</td>\n",
       "</tr>\n",
       "<tr>\n",
       "  <th>Df Residuals:</th>          <td>    98</td>      <th>  BIC:               </th> <td>  -18.56</td>\n",
       "</tr>\n",
       "<tr>\n",
       "  <th>Df Model:</th>              <td>     1</td>      <th>                     </th>     <td> </td>   \n",
       "</tr>\n",
       "<tr>\n",
       "  <th>Covariance Type:</th>      <td>nonrobust</td>    <th>                     </th>     <td> </td>   \n",
       "</tr>\n",
       "</table>\n",
       "<table class=\"simpletable\">\n",
       "<tr>\n",
       "    <td></td>       <th>coef</th>     <th>std err</th>      <th>t</th>      <th>P>|t|</th>  <th>[0.025</th>    <th>0.975]</th>  \n",
       "</tr>\n",
       "<tr>\n",
       "  <th>const</th> <td>    0.0306</td> <td>    0.024</td> <td>    1.301</td> <td> 0.196</td> <td>   -0.016</td> <td>    0.077</td>\n",
       "</tr>\n",
       "<tr>\n",
       "  <th>MRP</th>   <td>    0.8338</td> <td>    0.156</td> <td>    5.341</td> <td> 0.000</td> <td>    0.524</td> <td>    1.144</td>\n",
       "</tr>\n",
       "</table>\n",
       "<table class=\"simpletable\">\n",
       "<tr>\n",
       "  <th>Omnibus:</th>       <td> 1.312</td> <th>  Durbin-Watson:     </th> <td>   2.049</td>\n",
       "</tr>\n",
       "<tr>\n",
       "  <th>Prob(Omnibus):</th> <td> 0.519</td> <th>  Jarque-Bera (JB):  </th> <td>   1.114</td>\n",
       "</tr>\n",
       "<tr>\n",
       "  <th>Skew:</th>          <td> 0.010</td> <th>  Prob(JB):          </th> <td>   0.573</td>\n",
       "</tr>\n",
       "<tr>\n",
       "  <th>Kurtosis:</th>      <td> 2.483</td> <th>  Cond. No.          </th> <td>    7.37</td>\n",
       "</tr>\n",
       "</table><br/><br/>Notes:<br/>[1] Standard Errors assume that the covariance matrix of the errors is correctly specified."
      ],
      "text/plain": [
       "<class 'statsmodels.iolib.summary.Summary'>\n",
       "\"\"\"\n",
       "                            OLS Regression Results                            \n",
       "==============================================================================\n",
       "Dep. Variable:            Asset Price   R-squared:                       0.225\n",
       "Model:                            OLS   Adj. R-squared:                  0.218\n",
       "Method:                 Least Squares   F-statistic:                     28.53\n",
       "Date:                Thu, 01 Dec 2022   Prob (F-statistic):           5.99e-07\n",
       "Time:                        20:09:38   Log-Likelihood:                 13.883\n",
       "No. Observations:                 100   AIC:                            -23.77\n",
       "Df Residuals:                      98   BIC:                            -18.56\n",
       "Df Model:                           1                                         \n",
       "Covariance Type:            nonrobust                                         \n",
       "==============================================================================\n",
       "                 coef    std err          t      P>|t|      [0.025      0.975]\n",
       "------------------------------------------------------------------------------\n",
       "const          0.0306      0.024      1.301      0.196      -0.016       0.077\n",
       "MRP            0.8338      0.156      5.341      0.000       0.524       1.144\n",
       "==============================================================================\n",
       "Omnibus:                        1.312   Durbin-Watson:                   2.049\n",
       "Prob(Omnibus):                  0.519   Jarque-Bera (JB):                1.114\n",
       "Skew:                           0.010   Prob(JB):                        0.573\n",
       "Kurtosis:                       2.483   Cond. No.                         7.37\n",
       "==============================================================================\n",
       "\n",
       "Notes:\n",
       "[1] Standard Errors assume that the covariance matrix of the errors is correctly specified.\n",
       "\"\"\""
      ]
     },
     "execution_count": 13,
     "metadata": {},
     "output_type": "execute_result"
    }
   ],
   "source": [
    "import statsmodels.api as sm\n",
    "x=sm.add_constant(returns['MRP'])\n",
    "y=returns['Asset Price']\n",
    "model=sm.OLS(y,x)\n",
    "results=model.fit()\n",
    "results.summary()"
   ]
  },
  {
   "cell_type": "code",
   "execution_count": 14,
   "id": "ef1153da",
   "metadata": {},
   "outputs": [
    {
     "data": {
      "text/plain": [
       "const    0.030628\n",
       "MRP      0.833783\n",
       "dtype: float64"
      ]
     },
     "execution_count": 14,
     "metadata": {},
     "output_type": "execute_result"
    }
   ],
   "source": [
    "results.params"
   ]
  },
  {
   "cell_type": "code",
   "execution_count": 16,
   "id": "975e93d0",
   "metadata": {},
   "outputs": [
    {
     "data": {
      "text/plain": [
       "0.8337833218355805"
      ]
     },
     "execution_count": 16,
     "metadata": {},
     "output_type": "execute_result"
    }
   ],
   "source": [
    "beta=results.params['MRP']\n",
    "beta"
   ]
  },
  {
   "cell_type": "code",
   "execution_count": 17,
   "id": "5af0c5b8",
   "metadata": {},
   "outputs": [
    {
     "data": {
      "text/plain": [
       "0.0944856620313094"
      ]
     },
     "execution_count": 17,
     "metadata": {},
     "output_type": "execute_result"
    }
   ],
   "source": [
    "market_return=returns['Market Portfolio'].mean()\n",
    "market_return"
   ]
  },
  {
   "cell_type": "code",
   "execution_count": 19,
   "id": "21043f36",
   "metadata": {},
   "outputs": [
    {
     "name": "stdout",
     "output_type": "stream",
     "text": [
      "The cost of equity is 8.38%.\n"
     ]
    }
   ],
   "source": [
    "#Estimating the Cost of Equity\n",
    "#ri=rf+B(rm-rf)+e\n",
    "cost_of_equity=risk_free+beta*(market_return - risk_free)\n",
    "print(f'The cost of equity is {cost_of_equity:0.2%}.')"
   ]
  },
  {
   "cell_type": "code",
   "execution_count": null,
   "id": "7616592f",
   "metadata": {},
   "outputs": [],
   "source": []
  }
 ],
 "metadata": {
  "kernelspec": {
   "display_name": "Python 3 (ipykernel)",
   "language": "python",
   "name": "python3"
  },
  "language_info": {
   "codemirror_mode": {
    "name": "ipython",
    "version": 3
   },
   "file_extension": ".py",
   "mimetype": "text/x-python",
   "name": "python",
   "nbconvert_exporter": "python",
   "pygments_lexer": "ipython3",
   "version": "3.7.3"
  }
 },
 "nbformat": 4,
 "nbformat_minor": 5
}

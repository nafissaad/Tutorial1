{
 "cells": [
  {
   "cell_type": "code",
   "execution_count": 2,
   "id": "54c78c50",
   "metadata": {},
   "outputs": [],
   "source": [
    "from dataclasses import dataclass"
   ]
  },
  {
   "cell_type": "code",
   "execution_count": 3,
   "id": "8441052b",
   "metadata": {},
   "outputs": [
    {
     "data": {
      "text/plain": [
       "ModelInputs(starting_salary=60000, promos_every_n_years=5, cost_of_living_raised=0.02, promo_raise=0.15, savings_rate=0.25, interest_rate=0.05, desired_cash=1500000)"
      ]
     },
     "execution_count": 3,
     "metadata": {},
     "output_type": "execute_result"
    }
   ],
   "source": [
    "@dataclass\n",
    "class ModelInputs:\n",
    "    starting_salary: int = 60000\n",
    "    promos_every_n_years: int = 5\n",
    "    cost_of_living_raised: float = 0.02\n",
    "    promo_raise: float =0.15\n",
    "    savings_rate: float =0.25\n",
    "    interest_rate: float =0.05\n",
    "    desired_cash: int = 1500000\n",
    "model_data = ModelInputs()\n",
    "model_data"
   ]
  },
  {
   "cell_type": "code",
   "execution_count": 4,
   "id": "484b7c5f",
   "metadata": {},
   "outputs": [
    {
     "data": {
      "text/plain": [
       "1500000"
      ]
     },
     "execution_count": 4,
     "metadata": {},
     "output_type": "execute_result"
    }
   ],
   "source": [
    "model_data.desired_cash"
   ]
  },
  {
   "cell_type": "code",
   "execution_count": 5,
   "id": "dbcd1c2f",
   "metadata": {},
   "outputs": [],
   "source": [
    "data=model_data"
   ]
  },
  {
   "cell_type": "code",
   "execution_count": 7,
   "id": "92145b12",
   "metadata": {},
   "outputs": [
    {
     "data": {
      "text/plain": [
       "0.15"
      ]
     },
     "execution_count": 7,
     "metadata": {},
     "output_type": "execute_result"
    }
   ],
   "source": [
    "data.promo_raise"
   ]
  },
  {
   "cell_type": "code",
   "execution_count": 12,
   "id": "9bf348e2",
   "metadata": {},
   "outputs": [
    {
     "data": {
      "text/plain": [
       "2"
      ]
     },
     "execution_count": 12,
     "metadata": {},
     "output_type": "execute_result"
    }
   ],
   "source": [
    "years=14\n",
    "int(years/data.promos_every_n_years)"
   ]
  },
  {
   "cell_type": "code",
   "execution_count": 19,
   "id": "ec82a2c0",
   "metadata": {},
   "outputs": [
    {
     "data": {
      "text/plain": [
       "76181.5754208"
      ]
     },
     "execution_count": 19,
     "metadata": {},
     "output_type": "execute_result"
    }
   ],
   "source": [
    "def salary_at_year(data,year):\n",
    "    num_promos = int(year/data.promos_every_n_years)\n",
    "    salary_t = data.starting_salary*(1+data.cost_of_living_raised)**year * (1+data.promo_raise)**num_promos\n",
    "    return salary_t\n",
    "salary_at_year(data,5)"
   ]
  },
  {
   "cell_type": "code",
   "execution_count": 20,
   "id": "06ae14c8",
   "metadata": {},
   "outputs": [
    {
     "name": "stdout",
     "output_type": "stream",
     "text": [
      "The salary at year 1 is $61,200\n",
      "The salary at year 2 is $62,424\n",
      "The salary at year 3 is $63,672\n",
      "The salary at year 4 is $64,946\n",
      "The salary at year 5 is $76,182\n",
      "The salary at year 6 is $77,705\n"
     ]
    }
   ],
   "source": [
    "for i in range(6):\n",
    "    year=i+1\n",
    "    salary=salary_at_year(model_data,year)\n",
    "    print(f'The salary at year {year} is ${salary:,.0f}')"
   ]
  }
 ],
 "metadata": {
  "kernelspec": {
   "display_name": "Python 3 (ipykernel)",
   "language": "python",
   "name": "python3"
  },
  "language_info": {
   "codemirror_mode": {
    "name": "ipython",
    "version": 3
   },
   "file_extension": ".py",
   "mimetype": "text/x-python",
   "name": "python",
   "nbconvert_exporter": "python",
   "pygments_lexer": "ipython3",
   "version": "3.7.3"
  }
 },
 "nbformat": 4,
 "nbformat_minor": 5
}

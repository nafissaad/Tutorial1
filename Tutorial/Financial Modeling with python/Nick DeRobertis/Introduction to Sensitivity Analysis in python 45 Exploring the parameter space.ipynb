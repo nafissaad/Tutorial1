{
 "cells": [
  {
   "cell_type": "code",
   "execution_count": 1,
   "id": "cb9fbfde",
   "metadata": {},
   "outputs": [],
   "source": [
    "import pandas as pd\n",
    "def my_model(x_1,x_2):\n",
    "    \"\"\"Represent f from above\"\"\"\n",
    "    return x_1**x_2"
   ]
  },
  {
   "cell_type": "code",
   "execution_count": 2,
   "id": "59095367",
   "metadata": {},
   "outputs": [
    {
     "data": {
      "text/plain": [
       "16"
      ]
     },
     "execution_count": 2,
     "metadata": {},
     "output_type": "execute_result"
    }
   ],
   "source": [
    "y=my_model(2,4)\n",
    "y"
   ]
  },
  {
   "cell_type": "code",
   "execution_count": 3,
   "id": "a24e3ee9",
   "metadata": {},
   "outputs": [],
   "source": [
    "x1_values=[10,20,30]\n",
    "x2_values=[1,2,3]"
   ]
  },
  {
   "cell_type": "code",
   "execution_count": 4,
   "id": "58dd3b6f",
   "metadata": {},
   "outputs": [
    {
     "name": "stdout",
     "output_type": "stream",
     "text": [
      "10 1\n",
      "10 2\n",
      "10 3\n",
      "20 1\n",
      "20 2\n",
      "20 3\n",
      "30 1\n",
      "30 2\n",
      "30 3\n"
     ]
    }
   ],
   "source": [
    "#nested loop\n",
    "for x1 in x1_values:\n",
    "    for x2 in x2_values:\n",
    "        print(x1,x2)"
   ]
  },
  {
   "cell_type": "code",
   "execution_count": 5,
   "id": "ad4a792a",
   "metadata": {},
   "outputs": [
    {
     "name": "stdout",
     "output_type": "stream",
     "text": [
      "10\n",
      "100\n",
      "1000\n",
      "20\n",
      "400\n",
      "8000\n",
      "30\n",
      "900\n",
      "27000\n"
     ]
    }
   ],
   "source": [
    "for x1 in x1_values:\n",
    "    for x2 in x2_values:\n",
    "        y_i=my_model(x1,x2)\n",
    "        print(y_i)"
   ]
  },
  {
   "cell_type": "code",
   "execution_count": 6,
   "id": "f1cf48dd",
   "metadata": {},
   "outputs": [
    {
     "data": {
      "text/plain": [
       "[(10, 1, 10),\n",
       " (10, 2, 100),\n",
       " (10, 3, 1000),\n",
       " (20, 1, 20),\n",
       " (20, 2, 400),\n",
       " (20, 3, 8000),\n",
       " (30, 1, 30),\n",
       " (30, 2, 900),\n",
       " (30, 3, 27000)]"
      ]
     },
     "execution_count": 6,
     "metadata": {},
     "output_type": "execute_result"
    }
   ],
   "source": [
    "outputs=[]\n",
    "for x1 in x1_values:\n",
    "    for x2 in x2_values:\n",
    "        y_i=my_model(x1,x2)\n",
    "        outputs.append((x1,x2,y_i))\n",
    "outputs"
   ]
  },
  {
   "cell_type": "code",
   "execution_count": 7,
   "id": "599ba308",
   "metadata": {},
   "outputs": [
    {
     "data": {
      "text/html": [
       "<div>\n",
       "<style scoped>\n",
       "    .dataframe tbody tr th:only-of-type {\n",
       "        vertical-align: middle;\n",
       "    }\n",
       "\n",
       "    .dataframe tbody tr th {\n",
       "        vertical-align: top;\n",
       "    }\n",
       "\n",
       "    .dataframe thead th {\n",
       "        text-align: right;\n",
       "    }\n",
       "</style>\n",
       "<table border=\"1\" class=\"dataframe\">\n",
       "  <thead>\n",
       "    <tr style=\"text-align: right;\">\n",
       "      <th></th>\n",
       "      <th>x_1</th>\n",
       "      <th>x_2</th>\n",
       "      <th>y</th>\n",
       "    </tr>\n",
       "  </thead>\n",
       "  <tbody>\n",
       "    <tr>\n",
       "      <th>0</th>\n",
       "      <td>10</td>\n",
       "      <td>1</td>\n",
       "      <td>10</td>\n",
       "    </tr>\n",
       "    <tr>\n",
       "      <th>1</th>\n",
       "      <td>10</td>\n",
       "      <td>2</td>\n",
       "      <td>100</td>\n",
       "    </tr>\n",
       "    <tr>\n",
       "      <th>2</th>\n",
       "      <td>10</td>\n",
       "      <td>3</td>\n",
       "      <td>1000</td>\n",
       "    </tr>\n",
       "    <tr>\n",
       "      <th>3</th>\n",
       "      <td>20</td>\n",
       "      <td>1</td>\n",
       "      <td>20</td>\n",
       "    </tr>\n",
       "    <tr>\n",
       "      <th>4</th>\n",
       "      <td>20</td>\n",
       "      <td>2</td>\n",
       "      <td>400</td>\n",
       "    </tr>\n",
       "    <tr>\n",
       "      <th>5</th>\n",
       "      <td>20</td>\n",
       "      <td>3</td>\n",
       "      <td>8000</td>\n",
       "    </tr>\n",
       "    <tr>\n",
       "      <th>6</th>\n",
       "      <td>30</td>\n",
       "      <td>1</td>\n",
       "      <td>30</td>\n",
       "    </tr>\n",
       "    <tr>\n",
       "      <th>7</th>\n",
       "      <td>30</td>\n",
       "      <td>2</td>\n",
       "      <td>900</td>\n",
       "    </tr>\n",
       "    <tr>\n",
       "      <th>8</th>\n",
       "      <td>30</td>\n",
       "      <td>3</td>\n",
       "      <td>27000</td>\n",
       "    </tr>\n",
       "  </tbody>\n",
       "</table>\n",
       "</div>"
      ],
      "text/plain": [
       "   x_1  x_2      y\n",
       "0   10    1     10\n",
       "1   10    2    100\n",
       "2   10    3   1000\n",
       "3   20    1     20\n",
       "4   20    2    400\n",
       "5   20    3   8000\n",
       "6   30    1     30\n",
       "7   30    2    900\n",
       "8   30    3  27000"
      ]
     },
     "execution_count": 7,
     "metadata": {},
     "output_type": "execute_result"
    }
   ],
   "source": [
    "df=pd.DataFrame(outputs,columns=['x_1','x_2','y'])\n",
    "df"
   ]
  },
  {
   "cell_type": "code",
   "execution_count": 8,
   "id": "01c6d48d",
   "metadata": {},
   "outputs": [
    {
     "data": {
      "text/html": [
       "<style type=\"text/css\">\n",
       "#T_60ba7_row0_col2, #T_60ba7_row1_col2, #T_60ba7_row3_col2, #T_60ba7_row6_col2 {\n",
       "  background-color: #a50026;\n",
       "  color: #f1f1f1;\n",
       "}\n",
       "#T_60ba7_row2_col2 {\n",
       "  background-color: #b71126;\n",
       "  color: #f1f1f1;\n",
       "}\n",
       "#T_60ba7_row4_col2 {\n",
       "  background-color: #ab0626;\n",
       "  color: #f1f1f1;\n",
       "}\n",
       "#T_60ba7_row5_col2 {\n",
       "  background-color: #fcaa5f;\n",
       "  color: #000000;\n",
       "}\n",
       "#T_60ba7_row7_col2 {\n",
       "  background-color: #b50f26;\n",
       "  color: #f1f1f1;\n",
       "}\n",
       "#T_60ba7_row8_col2 {\n",
       "  background-color: #006837;\n",
       "  color: #f1f1f1;\n",
       "}\n",
       "</style>\n",
       "<table id=\"T_60ba7_\">\n",
       "  <thead>\n",
       "    <tr>\n",
       "      <th class=\"blank level0\" >&nbsp;</th>\n",
       "      <th class=\"col_heading level0 col0\" >x_1</th>\n",
       "      <th class=\"col_heading level0 col1\" >x_2</th>\n",
       "      <th class=\"col_heading level0 col2\" >y</th>\n",
       "    </tr>\n",
       "  </thead>\n",
       "  <tbody>\n",
       "    <tr>\n",
       "      <th id=\"T_60ba7_level0_row0\" class=\"row_heading level0 row0\" >0</th>\n",
       "      <td id=\"T_60ba7_row0_col0\" class=\"data row0 col0\" >10</td>\n",
       "      <td id=\"T_60ba7_row0_col1\" class=\"data row0 col1\" >1</td>\n",
       "      <td id=\"T_60ba7_row0_col2\" class=\"data row0 col2\" >10</td>\n",
       "    </tr>\n",
       "    <tr>\n",
       "      <th id=\"T_60ba7_level0_row1\" class=\"row_heading level0 row1\" >1</th>\n",
       "      <td id=\"T_60ba7_row1_col0\" class=\"data row1 col0\" >10</td>\n",
       "      <td id=\"T_60ba7_row1_col1\" class=\"data row1 col1\" >2</td>\n",
       "      <td id=\"T_60ba7_row1_col2\" class=\"data row1 col2\" >100</td>\n",
       "    </tr>\n",
       "    <tr>\n",
       "      <th id=\"T_60ba7_level0_row2\" class=\"row_heading level0 row2\" >2</th>\n",
       "      <td id=\"T_60ba7_row2_col0\" class=\"data row2 col0\" >10</td>\n",
       "      <td id=\"T_60ba7_row2_col1\" class=\"data row2 col1\" >3</td>\n",
       "      <td id=\"T_60ba7_row2_col2\" class=\"data row2 col2\" >1000</td>\n",
       "    </tr>\n",
       "    <tr>\n",
       "      <th id=\"T_60ba7_level0_row3\" class=\"row_heading level0 row3\" >3</th>\n",
       "      <td id=\"T_60ba7_row3_col0\" class=\"data row3 col0\" >20</td>\n",
       "      <td id=\"T_60ba7_row3_col1\" class=\"data row3 col1\" >1</td>\n",
       "      <td id=\"T_60ba7_row3_col2\" class=\"data row3 col2\" >20</td>\n",
       "    </tr>\n",
       "    <tr>\n",
       "      <th id=\"T_60ba7_level0_row4\" class=\"row_heading level0 row4\" >4</th>\n",
       "      <td id=\"T_60ba7_row4_col0\" class=\"data row4 col0\" >20</td>\n",
       "      <td id=\"T_60ba7_row4_col1\" class=\"data row4 col1\" >2</td>\n",
       "      <td id=\"T_60ba7_row4_col2\" class=\"data row4 col2\" >400</td>\n",
       "    </tr>\n",
       "    <tr>\n",
       "      <th id=\"T_60ba7_level0_row5\" class=\"row_heading level0 row5\" >5</th>\n",
       "      <td id=\"T_60ba7_row5_col0\" class=\"data row5 col0\" >20</td>\n",
       "      <td id=\"T_60ba7_row5_col1\" class=\"data row5 col1\" >3</td>\n",
       "      <td id=\"T_60ba7_row5_col2\" class=\"data row5 col2\" >8000</td>\n",
       "    </tr>\n",
       "    <tr>\n",
       "      <th id=\"T_60ba7_level0_row6\" class=\"row_heading level0 row6\" >6</th>\n",
       "      <td id=\"T_60ba7_row6_col0\" class=\"data row6 col0\" >30</td>\n",
       "      <td id=\"T_60ba7_row6_col1\" class=\"data row6 col1\" >1</td>\n",
       "      <td id=\"T_60ba7_row6_col2\" class=\"data row6 col2\" >30</td>\n",
       "    </tr>\n",
       "    <tr>\n",
       "      <th id=\"T_60ba7_level0_row7\" class=\"row_heading level0 row7\" >7</th>\n",
       "      <td id=\"T_60ba7_row7_col0\" class=\"data row7 col0\" >30</td>\n",
       "      <td id=\"T_60ba7_row7_col1\" class=\"data row7 col1\" >2</td>\n",
       "      <td id=\"T_60ba7_row7_col2\" class=\"data row7 col2\" >900</td>\n",
       "    </tr>\n",
       "    <tr>\n",
       "      <th id=\"T_60ba7_level0_row8\" class=\"row_heading level0 row8\" >8</th>\n",
       "      <td id=\"T_60ba7_row8_col0\" class=\"data row8 col0\" >30</td>\n",
       "      <td id=\"T_60ba7_row8_col1\" class=\"data row8 col1\" >3</td>\n",
       "      <td id=\"T_60ba7_row8_col2\" class=\"data row8 col2\" >27000</td>\n",
       "    </tr>\n",
       "  </tbody>\n",
       "</table>\n"
      ],
      "text/plain": [
       "<pandas.io.formats.style.Styler at 0x19b022a0cc0>"
      ]
     },
     "execution_count": 8,
     "metadata": {},
     "output_type": "execute_result"
    }
   ],
   "source": [
    "df.style.background_gradient(subset='y',cmap='RdYlGn')"
   ]
  },
  {
   "cell_type": "code",
   "execution_count": 9,
   "id": "a73ac8f1",
   "metadata": {},
   "outputs": [
    {
     "data": {
      "text/plain": [
       "<matplotlib.axes._subplots.AxesSubplot at 0x19b02f95780>"
      ]
     },
     "execution_count": 9,
     "metadata": {},
     "output_type": "execute_result"
    },
    {
     "data": {
      "image/png": "[encoded data removed]",
      "text/plain": [
       "<Figure size 432x288 with 2 Axes>"
      ]
     },
     "metadata": {
      "needs_background": "light"
     },
     "output_type": "display_data"
    }
   ],
   "source": [
    "df.plot.hexbin(x='x_1',y='x_2',C='y', gridsize=3,cmap='RdYlGn',sharex=False)#gridsize=3 3 by 3 blocks"
   ]
  },
  {
   "cell_type": "code",
   "execution_count": 10,
   "id": "615316ad",
   "metadata": {},
   "outputs": [
    {
     "data": {
      "text/plain": [
       "<matplotlib.axes._subplots.AxesSubplot at 0x19b05078748>"
      ]
     },
     "execution_count": 10,
     "metadata": {},
     "output_type": "execute_result"
    },
    {
     "data": {
      "image/png": "[encoded data removed]",
      "text/plain": [
       "<Figure size 432x288 with 2 Axes>"
      ]
     },
     "metadata": {
      "needs_background": "light"
     },
     "output_type": "display_data"
    }
   ],
   "source": [
    "df.plot.hexbin(x='x_1',y='x_2',C='y', gridsize=3,cmap='RdYlGn_r',sharex=False)#Green represents early to retired"
   ]
  },
  {
   "cell_type": "code",
   "execution_count": 11,
   "id": "43d7932d",
   "metadata": {},
   "outputs": [
    {
     "name": "stderr",
     "output_type": "stream",
     "text": [
      "100%|███████████████████████████████████████████████████████████████████████████████████| 9/9 [00:00<00:00, 499.35it/s]\n"
     ]
    }
   ],
   "source": [
    "from sensitivity import SensitivityAnalyzer\n",
    "sensitivity_dict={\n",
    "    'x_1':[10,20,30],\n",
    "    'x_2':[1,2,3]\n",
    "}\n",
    "sa=SensitivityAnalyzer(sensitivity_dict,my_model)"
   ]
  },
  {
   "cell_type": "code",
   "execution_count": 12,
   "id": "06095dae",
   "metadata": {},
   "outputs": [
    {
     "data": {
      "text/html": [
       "<div>\n",
       "<style scoped>\n",
       "    .dataframe tbody tr th:only-of-type {\n",
       "        vertical-align: middle;\n",
       "    }\n",
       "\n",
       "    .dataframe tbody tr th {\n",
       "        vertical-align: top;\n",
       "    }\n",
       "\n",
       "    .dataframe thead th {\n",
       "        text-align: right;\n",
       "    }\n",
       "</style>\n",
       "<table border=\"1\" class=\"dataframe\">\n",
       "  <thead>\n",
       "    <tr style=\"text-align: right;\">\n",
       "      <th></th>\n",
       "      <th>x_1</th>\n",
       "      <th>x_2</th>\n",
       "      <th>Result</th>\n",
       "    </tr>\n",
       "  </thead>\n",
       "  <tbody>\n",
       "    <tr>\n",
       "      <th>0</th>\n",
       "      <td>10</td>\n",
       "      <td>1</td>\n",
       "      <td>10</td>\n",
       "    </tr>\n",
       "    <tr>\n",
       "      <th>1</th>\n",
       "      <td>10</td>\n",
       "      <td>2</td>\n",
       "      <td>100</td>\n",
       "    </tr>\n",
       "    <tr>\n",
       "      <th>2</th>\n",
       "      <td>10</td>\n",
       "      <td>3</td>\n",
       "      <td>1000</td>\n",
       "    </tr>\n",
       "    <tr>\n",
       "      <th>3</th>\n",
       "      <td>20</td>\n",
       "      <td>1</td>\n",
       "      <td>20</td>\n",
       "    </tr>\n",
       "    <tr>\n",
       "      <th>4</th>\n",
       "      <td>20</td>\n",
       "      <td>2</td>\n",
       "      <td>400</td>\n",
       "    </tr>\n",
       "    <tr>\n",
       "      <th>5</th>\n",
       "      <td>20</td>\n",
       "      <td>3</td>\n",
       "      <td>8000</td>\n",
       "    </tr>\n",
       "    <tr>\n",
       "      <th>6</th>\n",
       "      <td>30</td>\n",
       "      <td>1</td>\n",
       "      <td>30</td>\n",
       "    </tr>\n",
       "    <tr>\n",
       "      <th>7</th>\n",
       "      <td>30</td>\n",
       "      <td>2</td>\n",
       "      <td>900</td>\n",
       "    </tr>\n",
       "    <tr>\n",
       "      <th>8</th>\n",
       "      <td>30</td>\n",
       "      <td>3</td>\n",
       "      <td>27000</td>\n",
       "    </tr>\n",
       "  </tbody>\n",
       "</table>\n",
       "</div>"
      ],
      "text/plain": [
       "   x_1  x_2  Result\n",
       "0   10    1      10\n",
       "1   10    2     100\n",
       "2   10    3    1000\n",
       "3   20    1      20\n",
       "4   20    2     400\n",
       "5   20    3    8000\n",
       "6   30    1      30\n",
       "7   30    2     900\n",
       "8   30    3   27000"
      ]
     },
     "execution_count": 12,
     "metadata": {},
     "output_type": "execute_result"
    }
   ],
   "source": [
    "sa.df"
   ]
  },
  {
   "cell_type": "code",
   "execution_count": 13,
   "id": "b4e83b04",
   "metadata": {},
   "outputs": [
    {
     "data": {
      "image/png": "[encoded data removed]",
      "text/plain": [
       "<Figure size 1080x288 with 2 Axes>"
      ]
     },
     "metadata": {
      "needs_background": "light"
     },
     "output_type": "display_data"
    }
   ],
   "source": [
    "plot=sa.plot()"
   ]
  },
  {
   "cell_type": "code",
   "execution_count": 14,
   "id": "fa83550c",
   "metadata": {},
   "outputs": [
    {
     "data": {
      "text/html": [
       "<h2>Result by x_1 vs. x_2</h2>"
      ],
      "text/plain": [
       "<IPython.core.display.HTML object>"
      ]
     },
     "metadata": {},
     "output_type": "display_data"
    },
    {
     "data": {
      "text/html": [
       "<style type=\"text/css\">\n",
       "#T_032db_row0_col0, #T_032db_row0_col1, #T_032db_row1_col0, #T_032db_row2_col0 {\n",
       "  background-color: #a50026;\n",
       "  color: #f1f1f1;\n",
       "}\n",
       "#T_032db_row0_col2 {\n",
       "  background-color: #b71126;\n",
       "  color: #f1f1f1;\n",
       "}\n",
       "#T_032db_row1_col1 {\n",
       "  background-color: #ab0626;\n",
       "  color: #f1f1f1;\n",
       "}\n",
       "#T_032db_row1_col2 {\n",
       "  background-color: #fcaa5f;\n",
       "  color: #000000;\n",
       "}\n",
       "#T_032db_row2_col1 {\n",
       "  background-color: #b50f26;\n",
       "  color: #f1f1f1;\n",
       "}\n",
       "#T_032db_row2_col2 {\n",
       "  background-color: #006837;\n",
       "  color: #f1f1f1;\n",
       "}\n",
       "</style>\n",
       "<table id=\"T_032db_\">\n",
       "  <caption>Result - x_1 vs. x_2</caption>\n",
       "  <thead>\n",
       "    <tr>\n",
       "      <th class=\"blank level0\" >&nbsp;</th>\n",
       "      <th class=\"col_heading level0 col0\" >1</th>\n",
       "      <th class=\"col_heading level0 col1\" >2</th>\n",
       "      <th class=\"col_heading level0 col2\" >3</th>\n",
       "    </tr>\n",
       "    <tr>\n",
       "      <th class=\"index_name level0\" >x_1</th>\n",
       "      <th class=\"blank col0\" >&nbsp;</th>\n",
       "      <th class=\"blank col1\" >&nbsp;</th>\n",
       "      <th class=\"blank col2\" >&nbsp;</th>\n",
       "    </tr>\n",
       "  </thead>\n",
       "  <tbody>\n",
       "    <tr>\n",
       "      <th id=\"T_032db_level0_row0\" class=\"row_heading level0 row0\" >10</th>\n",
       "      <td id=\"T_032db_row0_col0\" class=\"data row0 col0\" >10.000000</td>\n",
       "      <td id=\"T_032db_row0_col1\" class=\"data row0 col1\" >100.000000</td>\n",
       "      <td id=\"T_032db_row0_col2\" class=\"data row0 col2\" >1000.000000</td>\n",
       "    </tr>\n",
       "    <tr>\n",
       "      <th id=\"T_032db_level0_row1\" class=\"row_heading level0 row1\" >20</th>\n",
       "      <td id=\"T_032db_row1_col0\" class=\"data row1 col0\" >20.000000</td>\n",
       "      <td id=\"T_032db_row1_col1\" class=\"data row1 col1\" >400.000000</td>\n",
       "      <td id=\"T_032db_row1_col2\" class=\"data row1 col2\" >8000.000000</td>\n",
       "    </tr>\n",
       "    <tr>\n",
       "      <th id=\"T_032db_level0_row2\" class=\"row_heading level0 row2\" >30</th>\n",
       "      <td id=\"T_032db_row2_col0\" class=\"data row2 col0\" >30.000000</td>\n",
       "      <td id=\"T_032db_row2_col1\" class=\"data row2 col1\" >900.000000</td>\n",
       "      <td id=\"T_032db_row2_col2\" class=\"data row2 col2\" >27000.000000</td>\n",
       "    </tr>\n",
       "  </tbody>\n",
       "</table>\n"
      ],
      "text/plain": [
       "<IPython.core.display.HTML object>"
      ]
     },
     "metadata": {},
     "output_type": "display_data"
    }
   ],
   "source": [
    "styled=sa.styled_dfs()"
   ]
  },
  {
   "cell_type": "code",
   "execution_count": 15,
   "id": "d86daa6a",
   "metadata": {},
   "outputs": [
    {
     "name": "stderr",
     "output_type": "stream",
     "text": [
      "100%|███████████████████████████████████████████████████████████████████████████████████| 9/9 [00:00<00:00, 561.94it/s]\n"
     ]
    },
    {
     "data": {
      "image/png": "[encoded data removed]",
      "text/plain": [
       "<Figure size 1080x288 with 2 Axes>"
      ]
     },
     "metadata": {
      "needs_background": "light"
     },
     "output_type": "display_data"
    }
   ],
   "source": [
    "labels={\n",
    "    'x_1':'First inputs',\n",
    "    'x_2':'Second inputs'\n",
    "}\n",
    "sa=SensitivityAnalyzer(\n",
    "    sensitivity_dict,my_model,grid_size=3,reverse_colors=True,color_map='coolwarm',labels=labels\n",
    ")\n",
    "plot=sa.plot()"
   ]
  },
  {
   "cell_type": "code",
   "execution_count": 16,
   "id": "361c7a5d",
   "metadata": {},
   "outputs": [
    {
     "name": "stderr",
     "output_type": "stream",
     "text": [
      "100%|█████████████████████████████████████████████████████████████████████████████████| 27/27 [00:00<00:00, 817.47it/s]\n"
     ]
    }
   ],
   "source": [
    "def my_model_2(x_1,x_2,x_3):\n",
    "    return x_1*x_2**x_3\n",
    "sensitivity_dict={\n",
    "    'x_1':[1,2,3],\n",
    "    'x_2':[4,5,6],\n",
    "    'x_3':[7,8,9]\n",
    "}\n",
    "sa=SensitivityAnalyzer(sensitivity_dict,my_model_2,grid_size=3)"
   ]
  },
  {
   "cell_type": "code",
   "execution_count": 17,
   "id": "abe42d04",
   "metadata": {},
   "outputs": [
    {
     "data": {
      "image/png": "[encoded data removed]",
      "text/plain": [
       "<Figure size 1080x288 with 6 Axes>"
      ]
     },
     "metadata": {
      "needs_background": "light"
     },
     "output_type": "display_data"
    }
   ],
   "source": [
    "plot=sa.plot()"
   ]
  },
  {
   "cell_type": "code",
   "execution_count": 18,
   "id": "b6f17191",
   "metadata": {},
   "outputs": [
    {
     "data": {
      "text/html": [
       "<h2>Result by x_1 vs. x_2</h2>"
      ],
      "text/plain": [
       "<IPython.core.display.HTML object>"
      ]
     },
     "metadata": {},
     "output_type": "display_data"
    },
    {
     "data": {
      "text/html": [
       "<style type=\"text/css\">\n",
       "#T_cbb8e_row0_col0 {\n",
       "  background-color: #a50026;\n",
       "  color: #f1f1f1;\n",
       "}\n",
       "#T_cbb8e_row0_col1 {\n",
       "  background-color: #c01a27;\n",
       "  color: #f1f1f1;\n",
       "}\n",
       "#T_cbb8e_row0_col2 {\n",
       "  background-color: #fdbb6c;\n",
       "  color: #000000;\n",
       "}\n",
       "#T_cbb8e_row1_col0 {\n",
       "  background-color: #a90426;\n",
       "  color: #f1f1f1;\n",
       "}\n",
       "#T_cbb8e_row1_col1 {\n",
       "  background-color: #de402e;\n",
       "  color: #f1f1f1;\n",
       "}\n",
       "#T_cbb8e_row1_col2 {\n",
       "  background-color: #b9e176;\n",
       "  color: #000000;\n",
       "}\n",
       "#T_cbb8e_row2_col0 {\n",
       "  background-color: #ad0826;\n",
       "  color: #f1f1f1;\n",
       "}\n",
       "#T_cbb8e_row2_col1 {\n",
       "  background-color: #f26841;\n",
       "  color: #f1f1f1;\n",
       "}\n",
       "#T_cbb8e_row2_col2 {\n",
       "  background-color: #006837;\n",
       "  color: #f1f1f1;\n",
       "}\n",
       "</style>\n",
       "<table id=\"T_cbb8e_\">\n",
       "  <caption>Result - x_1 vs. x_2</caption>\n",
       "  <thead>\n",
       "    <tr>\n",
       "      <th class=\"blank level0\" >&nbsp;</th>\n",
       "      <th class=\"col_heading level0 col0\" >4</th>\n",
       "      <th class=\"col_heading level0 col1\" >5</th>\n",
       "      <th class=\"col_heading level0 col2\" >6</th>\n",
       "    </tr>\n",
       "    <tr>\n",
       "      <th class=\"index_name level0\" >x_1</th>\n",
       "      <th class=\"blank col0\" >&nbsp;</th>\n",
       "      <th class=\"blank col1\" >&nbsp;</th>\n",
       "      <th class=\"blank col2\" >&nbsp;</th>\n",
       "    </tr>\n",
       "  </thead>\n",
       "  <tbody>\n",
       "    <tr>\n",
       "      <th id=\"T_cbb8e_level0_row0\" class=\"row_heading level0 row0\" >1</th>\n",
       "      <td id=\"T_cbb8e_row0_col0\" class=\"data row0 col0\" >114688.000000</td>\n",
       "      <td id=\"T_cbb8e_row0_col1\" class=\"data row0 col1\" >807291.666667</td>\n",
       "      <td id=\"T_cbb8e_row0_col2\" class=\"data row0 col2\" >4012416.000000</td>\n",
       "    </tr>\n",
       "    <tr>\n",
       "      <th id=\"T_cbb8e_level0_row1\" class=\"row_heading level0 row1\" >2</th>\n",
       "      <td id=\"T_cbb8e_row1_col0\" class=\"data row1 col0\" >229376.000000</td>\n",
       "      <td id=\"T_cbb8e_row1_col1\" class=\"data row1 col1\" >1614583.333333</td>\n",
       "      <td id=\"T_cbb8e_row1_col2\" class=\"data row1 col2\" >8024832.000000</td>\n",
       "    </tr>\n",
       "    <tr>\n",
       "      <th id=\"T_cbb8e_level0_row2\" class=\"row_heading level0 row2\" >3</th>\n",
       "      <td id=\"T_cbb8e_row2_col0\" class=\"data row2 col0\" >344064.000000</td>\n",
       "      <td id=\"T_cbb8e_row2_col1\" class=\"data row2 col1\" >2421875.000000</td>\n",
       "      <td id=\"T_cbb8e_row2_col2\" class=\"data row2 col2\" >12037248.000000</td>\n",
       "    </tr>\n",
       "  </tbody>\n",
       "</table>\n"
      ],
      "text/plain": [
       "<IPython.core.display.HTML object>"
      ]
     },
     "metadata": {},
     "output_type": "display_data"
    },
    {
     "data": {
      "text/html": [
       "<h2>Result by x_1 vs. x_3</h2>"
      ],
      "text/plain": [
       "<IPython.core.display.HTML object>"
      ]
     },
     "metadata": {},
     "output_type": "display_data"
    },
    {
     "data": {
      "text/html": [
       "<style type=\"text/css\">\n",
       "#T_f880f_row0_col0 {\n",
       "  background-color: #a50026;\n",
       "  color: #f1f1f1;\n",
       "}\n",
       "#T_f880f_row0_col1 {\n",
       "  background-color: #bd1726;\n",
       "  color: #f1f1f1;\n",
       "}\n",
       "#T_f880f_row0_col2 {\n",
       "  background-color: #fdbb6c;\n",
       "  color: #000000;\n",
       "}\n",
       "#T_f880f_row1_col0 {\n",
       "  background-color: #a90426;\n",
       "  color: #f1f1f1;\n",
       "}\n",
       "#T_f880f_row1_col1 {\n",
       "  background-color: #d93429;\n",
       "  color: #f1f1f1;\n",
       "}\n",
       "#T_f880f_row1_col2 {\n",
       "  background-color: #b9e176;\n",
       "  color: #000000;\n",
       "}\n",
       "#T_f880f_row2_col0 {\n",
       "  background-color: #af0926;\n",
       "  color: #f1f1f1;\n",
       "}\n",
       "#T_f880f_row2_col1 {\n",
       "  background-color: #ea5739;\n",
       "  color: #f1f1f1;\n",
       "}\n",
       "#T_f880f_row2_col2 {\n",
       "  background-color: #006837;\n",
       "  color: #f1f1f1;\n",
       "}\n",
       "</style>\n",
       "<table id=\"T_f880f_\">\n",
       "  <caption>Result - x_1 vs. x_3</caption>\n",
       "  <thead>\n",
       "    <tr>\n",
       "      <th class=\"blank level0\" >&nbsp;</th>\n",
       "      <th class=\"col_heading level0 col0\" >7</th>\n",
       "      <th class=\"col_heading level0 col1\" >8</th>\n",
       "      <th class=\"col_heading level0 col2\" >9</th>\n",
       "    </tr>\n",
       "    <tr>\n",
       "      <th class=\"index_name level0\" >x_1</th>\n",
       "      <th class=\"blank col0\" >&nbsp;</th>\n",
       "      <th class=\"blank col1\" >&nbsp;</th>\n",
       "      <th class=\"blank col2\" >&nbsp;</th>\n",
       "    </tr>\n",
       "  </thead>\n",
       "  <tbody>\n",
       "    <tr>\n",
       "      <th id=\"T_f880f_level0_row0\" class=\"row_heading level0 row0\" >1</th>\n",
       "      <td id=\"T_f880f_row0_col0\" class=\"data row0 col0\" >124815.000000</td>\n",
       "      <td id=\"T_f880f_row0_col1\" class=\"data row0 col1\" >711925.666667</td>\n",
       "      <td id=\"T_f880f_row0_col2\" class=\"data row0 col2\" >4097655.000000</td>\n",
       "    </tr>\n",
       "    <tr>\n",
       "      <th id=\"T_f880f_level0_row1\" class=\"row_heading level0 row1\" >2</th>\n",
       "      <td id=\"T_f880f_row1_col0\" class=\"data row1 col0\" >249630.000000</td>\n",
       "      <td id=\"T_f880f_row1_col1\" class=\"data row1 col1\" >1423851.333333</td>\n",
       "      <td id=\"T_f880f_row1_col2\" class=\"data row1 col2\" >8195310.000000</td>\n",
       "    </tr>\n",
       "    <tr>\n",
       "      <th id=\"T_f880f_level0_row2\" class=\"row_heading level0 row2\" >3</th>\n",
       "      <td id=\"T_f880f_row2_col0\" class=\"data row2 col0\" >374445.000000</td>\n",
       "      <td id=\"T_f880f_row2_col1\" class=\"data row2 col1\" >2135777.000000</td>\n",
       "      <td id=\"T_f880f_row2_col2\" class=\"data row2 col2\" >12292965.000000</td>\n",
       "    </tr>\n",
       "  </tbody>\n",
       "</table>\n"
      ],
      "text/plain": [
       "<IPython.core.display.HTML object>"
      ]
     },
     "metadata": {},
     "output_type": "display_data"
    },
    {
     "data": {
      "text/html": [
       "<h2>Result by x_2 vs. x_3</h2>"
      ],
      "text/plain": [
       "<IPython.core.display.HTML object>"
      ]
     },
     "metadata": {},
     "output_type": "display_data"
    },
    {
     "data": {
      "text/html": [
       "<style type=\"text/css\">\n",
       "#T_3107c_row0_col0 {\n",
       "  background-color: #a50026;\n",
       "  color: #f1f1f1;\n",
       "}\n",
       "#T_3107c_row0_col1, #T_3107c_row1_col0 {\n",
       "  background-color: #a70226;\n",
       "  color: #f1f1f1;\n",
       "}\n",
       "#T_3107c_row0_col2, #T_3107c_row2_col0 {\n",
       "  background-color: #b10b26;\n",
       "  color: #f1f1f1;\n",
       "}\n",
       "#T_3107c_row1_col1 {\n",
       "  background-color: #b71126;\n",
       "  color: #f1f1f1;\n",
       "}\n",
       "#T_3107c_row1_col2 {\n",
       "  background-color: #f26841;\n",
       "  color: #f1f1f1;\n",
       "}\n",
       "#T_3107c_row2_col1 {\n",
       "  background-color: #ea5739;\n",
       "  color: #f1f1f1;\n",
       "}\n",
       "#T_3107c_row2_col2 {\n",
       "  background-color: #006837;\n",
       "  color: #f1f1f1;\n",
       "}\n",
       "</style>\n",
       "<table id=\"T_3107c_\">\n",
       "  <caption>Result - x_2 vs. x_3</caption>\n",
       "  <thead>\n",
       "    <tr>\n",
       "      <th class=\"blank level0\" >&nbsp;</th>\n",
       "      <th class=\"col_heading level0 col0\" >7</th>\n",
       "      <th class=\"col_heading level0 col1\" >8</th>\n",
       "      <th class=\"col_heading level0 col2\" >9</th>\n",
       "    </tr>\n",
       "    <tr>\n",
       "      <th class=\"index_name level0\" >x_2</th>\n",
       "      <th class=\"blank col0\" >&nbsp;</th>\n",
       "      <th class=\"blank col1\" >&nbsp;</th>\n",
       "      <th class=\"blank col2\" >&nbsp;</th>\n",
       "    </tr>\n",
       "  </thead>\n",
       "  <tbody>\n",
       "    <tr>\n",
       "      <th id=\"T_3107c_level0_row0\" class=\"row_heading level0 row0\" >4</th>\n",
       "      <td id=\"T_3107c_row0_col0\" class=\"data row0 col0\" >32768.000000</td>\n",
       "      <td id=\"T_3107c_row0_col1\" class=\"data row0 col1\" >131072.000000</td>\n",
       "      <td id=\"T_3107c_row0_col2\" class=\"data row0 col2\" >524288.000000</td>\n",
       "    </tr>\n",
       "    <tr>\n",
       "      <th id=\"T_3107c_level0_row1\" class=\"row_heading level0 row1\" >5</th>\n",
       "      <td id=\"T_3107c_row1_col0\" class=\"data row1 col0\" >156250.000000</td>\n",
       "      <td id=\"T_3107c_row1_col1\" class=\"data row1 col1\" >781250.000000</td>\n",
       "      <td id=\"T_3107c_row1_col2\" class=\"data row1 col2\" >3906250.000000</td>\n",
       "    </tr>\n",
       "    <tr>\n",
       "      <th id=\"T_3107c_level0_row2\" class=\"row_heading level0 row2\" >6</th>\n",
       "      <td id=\"T_3107c_row2_col0\" class=\"data row2 col0\" >559872.000000</td>\n",
       "      <td id=\"T_3107c_row2_col1\" class=\"data row2 col1\" >3359232.000000</td>\n",
       "      <td id=\"T_3107c_row2_col2\" class=\"data row2 col2\" >20155392.000000</td>\n",
       "    </tr>\n",
       "  </tbody>\n",
       "</table>\n"
      ],
      "text/plain": [
       "<IPython.core.display.HTML object>"
      ]
     },
     "metadata": {},
     "output_type": "display_data"
    },
    {
     "data": {
      "text/plain": [
       "{('x_1', 'x_2'): <pandas.io.formats.style.Styler at 0x19b065f3c88>,\n",
       " ('x_1', 'x_3'): <pandas.io.formats.style.Styler at 0x19b06450b38>,\n",
       " ('x_2', 'x_3'): <pandas.io.formats.style.Styler at 0x19b063afa20>}"
      ]
     },
     "execution_count": 18,
     "metadata": {},
     "output_type": "execute_result"
    }
   ],
   "source": [
    "styled_dict=sa.styled_dfs()\n",
    "styled_dict"
   ]
  },
  {
   "cell_type": "code",
   "execution_count": 19,
   "id": "e87423f4",
   "metadata": {},
   "outputs": [
    {
     "data": {
      "text/html": [
       "<style type=\"text/css\">\n",
       "#T_cbb8e_row0_col0 {\n",
       "  background-color: #a50026;\n",
       "  color: #f1f1f1;\n",
       "}\n",
       "#T_cbb8e_row0_col1 {\n",
       "  background-color: #c01a27;\n",
       "  color: #f1f1f1;\n",
       "}\n",
       "#T_cbb8e_row0_col2 {\n",
       "  background-color: #fdbb6c;\n",
       "  color: #000000;\n",
       "}\n",
       "#T_cbb8e_row1_col0 {\n",
       "  background-color: #a90426;\n",
       "  color: #f1f1f1;\n",
       "}\n",
       "#T_cbb8e_row1_col1 {\n",
       "  background-color: #de402e;\n",
       "  color: #f1f1f1;\n",
       "}\n",
       "#T_cbb8e_row1_col2 {\n",
       "  background-color: #b9e176;\n",
       "  color: #000000;\n",
       "}\n",
       "#T_cbb8e_row2_col0 {\n",
       "  background-color: #ad0826;\n",
       "  color: #f1f1f1;\n",
       "}\n",
       "#T_cbb8e_row2_col1 {\n",
       "  background-color: #f26841;\n",
       "  color: #f1f1f1;\n",
       "}\n",
       "#T_cbb8e_row2_col2 {\n",
       "  background-color: #006837;\n",
       "  color: #f1f1f1;\n",
       "}\n",
       "</style>\n",
       "<table id=\"T_cbb8e_\">\n",
       "  <caption>Result - x_1 vs. x_2</caption>\n",
       "  <thead>\n",
       "    <tr>\n",
       "      <th class=\"blank level0\" >&nbsp;</th>\n",
       "      <th class=\"col_heading level0 col0\" >4</th>\n",
       "      <th class=\"col_heading level0 col1\" >5</th>\n",
       "      <th class=\"col_heading level0 col2\" >6</th>\n",
       "    </tr>\n",
       "    <tr>\n",
       "      <th class=\"index_name level0\" >x_1</th>\n",
       "      <th class=\"blank col0\" >&nbsp;</th>\n",
       "      <th class=\"blank col1\" >&nbsp;</th>\n",
       "      <th class=\"blank col2\" >&nbsp;</th>\n",
       "    </tr>\n",
       "  </thead>\n",
       "  <tbody>\n",
       "    <tr>\n",
       "      <th id=\"T_cbb8e_level0_row0\" class=\"row_heading level0 row0\" >1</th>\n",
       "      <td id=\"T_cbb8e_row0_col0\" class=\"data row0 col0\" >114688.000000</td>\n",
       "      <td id=\"T_cbb8e_row0_col1\" class=\"data row0 col1\" >807291.666667</td>\n",
       "      <td id=\"T_cbb8e_row0_col2\" class=\"data row0 col2\" >4012416.000000</td>\n",
       "    </tr>\n",
       "    <tr>\n",
       "      <th id=\"T_cbb8e_level0_row1\" class=\"row_heading level0 row1\" >2</th>\n",
       "      <td id=\"T_cbb8e_row1_col0\" class=\"data row1 col0\" >229376.000000</td>\n",
       "      <td id=\"T_cbb8e_row1_col1\" class=\"data row1 col1\" >1614583.333333</td>\n",
       "      <td id=\"T_cbb8e_row1_col2\" class=\"data row1 col2\" >8024832.000000</td>\n",
       "    </tr>\n",
       "    <tr>\n",
       "      <th id=\"T_cbb8e_level0_row2\" class=\"row_heading level0 row2\" >3</th>\n",
       "      <td id=\"T_cbb8e_row2_col0\" class=\"data row2 col0\" >344064.000000</td>\n",
       "      <td id=\"T_cbb8e_row2_col1\" class=\"data row2 col1\" >2421875.000000</td>\n",
       "      <td id=\"T_cbb8e_row2_col2\" class=\"data row2 col2\" >12037248.000000</td>\n",
       "    </tr>\n",
       "  </tbody>\n",
       "</table>\n"
      ],
      "text/plain": [
       "<pandas.io.formats.style.Styler at 0x19b065f3c88>"
      ]
     },
     "execution_count": 19,
     "metadata": {},
     "output_type": "execute_result"
    }
   ],
   "source": [
    "styled_dict[('x_1', 'x_2')]"
   ]
  },
  {
   "cell_type": "code",
   "execution_count": 20,
   "id": "53a0f2be",
   "metadata": {},
   "outputs": [
    {
     "data": {
      "text/html": [
       "<h2>Result by x_1 vs. x_2</h2>"
      ],
      "text/plain": [
       "<IPython.core.display.HTML object>"
      ]
     },
     "metadata": {},
     "output_type": "display_data"
    },
    {
     "data": {
      "text/html": [
       "<style type=\"text/css\">\n",
       "#T_0ff81_row0_col0 {\n",
       "  background-color: #a50026;\n",
       "  color: #f1f1f1;\n",
       "}\n",
       "#T_0ff81_row0_col1 {\n",
       "  background-color: #c01a27;\n",
       "  color: #f1f1f1;\n",
       "}\n",
       "#T_0ff81_row0_col2 {\n",
       "  background-color: #fdbb6c;\n",
       "  color: #000000;\n",
       "}\n",
       "#T_0ff81_row1_col0 {\n",
       "  background-color: #a90426;\n",
       "  color: #f1f1f1;\n",
       "}\n",
       "#T_0ff81_row1_col1 {\n",
       "  background-color: #de402e;\n",
       "  color: #f1f1f1;\n",
       "}\n",
       "#T_0ff81_row1_col2 {\n",
       "  background-color: #b9e176;\n",
       "  color: #000000;\n",
       "}\n",
       "#T_0ff81_row2_col0 {\n",
       "  background-color: #ad0826;\n",
       "  color: #f1f1f1;\n",
       "}\n",
       "#T_0ff81_row2_col1 {\n",
       "  background-color: #f26841;\n",
       "  color: #f1f1f1;\n",
       "}\n",
       "#T_0ff81_row2_col2 {\n",
       "  background-color: #006837;\n",
       "  color: #f1f1f1;\n",
       "}\n",
       "</style>\n",
       "<table id=\"T_0ff81_\">\n",
       "  <caption>Result - x_1 vs. x_2</caption>\n",
       "  <thead>\n",
       "    <tr>\n",
       "      <th class=\"blank level0\" >&nbsp;</th>\n",
       "      <th class=\"col_heading level0 col0\" >4</th>\n",
       "      <th class=\"col_heading level0 col1\" >5</th>\n",
       "      <th class=\"col_heading level0 col2\" >6</th>\n",
       "    </tr>\n",
       "    <tr>\n",
       "      <th class=\"index_name level0\" >x_1</th>\n",
       "      <th class=\"blank col0\" >&nbsp;</th>\n",
       "      <th class=\"blank col1\" >&nbsp;</th>\n",
       "      <th class=\"blank col2\" >&nbsp;</th>\n",
       "    </tr>\n",
       "  </thead>\n",
       "  <tbody>\n",
       "    <tr>\n",
       "      <th id=\"T_0ff81_level0_row0\" class=\"row_heading level0 row0\" >1</th>\n",
       "      <td id=\"T_0ff81_row0_col0\" class=\"data row0 col0\" >$114,688.0</td>\n",
       "      <td id=\"T_0ff81_row0_col1\" class=\"data row0 col1\" >$807,291.7</td>\n",
       "      <td id=\"T_0ff81_row0_col2\" class=\"data row0 col2\" >$4,012,416.0</td>\n",
       "    </tr>\n",
       "    <tr>\n",
       "      <th id=\"T_0ff81_level0_row1\" class=\"row_heading level0 row1\" >2</th>\n",
       "      <td id=\"T_0ff81_row1_col0\" class=\"data row1 col0\" >$229,376.0</td>\n",
       "      <td id=\"T_0ff81_row1_col1\" class=\"data row1 col1\" >$1,614,583.3</td>\n",
       "      <td id=\"T_0ff81_row1_col2\" class=\"data row1 col2\" >$8,024,832.0</td>\n",
       "    </tr>\n",
       "    <tr>\n",
       "      <th id=\"T_0ff81_level0_row2\" class=\"row_heading level0 row2\" >3</th>\n",
       "      <td id=\"T_0ff81_row2_col0\" class=\"data row2 col0\" >$344,064.0</td>\n",
       "      <td id=\"T_0ff81_row2_col1\" class=\"data row2 col1\" >$2,421,875.0</td>\n",
       "      <td id=\"T_0ff81_row2_col2\" class=\"data row2 col2\" >$12,037,248.0</td>\n",
       "    </tr>\n",
       "  </tbody>\n",
       "</table>\n"
      ],
      "text/plain": [
       "<IPython.core.display.HTML object>"
      ]
     },
     "metadata": {},
     "output_type": "display_data"
    },
    {
     "data": {
      "text/html": [
       "<h2>Result by x_1 vs. x_3</h2>"
      ],
      "text/plain": [
       "<IPython.core.display.HTML object>"
      ]
     },
     "metadata": {},
     "output_type": "display_data"
    },
    {
     "data": {
      "text/html": [
       "<style type=\"text/css\">\n",
       "#T_222ea_row0_col0 {\n",
       "  background-color: #a50026;\n",
       "  color: #f1f1f1;\n",
       "}\n",
       "#T_222ea_row0_col1 {\n",
       "  background-color: #bd1726;\n",
       "  color: #f1f1f1;\n",
       "}\n",
       "#T_222ea_row0_col2 {\n",
       "  background-color: #fdbb6c;\n",
       "  color: #000000;\n",
       "}\n",
       "#T_222ea_row1_col0 {\n",
       "  background-color: #a90426;\n",
       "  color: #f1f1f1;\n",
       "}\n",
       "#T_222ea_row1_col1 {\n",
       "  background-color: #d93429;\n",
       "  color: #f1f1f1;\n",
       "}\n",
       "#T_222ea_row1_col2 {\n",
       "  background-color: #b9e176;\n",
       "  color: #000000;\n",
       "}\n",
       "#T_222ea_row2_col0 {\n",
       "  background-color: #af0926;\n",
       "  color: #f1f1f1;\n",
       "}\n",
       "#T_222ea_row2_col1 {\n",
       "  background-color: #ea5739;\n",
       "  color: #f1f1f1;\n",
       "}\n",
       "#T_222ea_row2_col2 {\n",
       "  background-color: #006837;\n",
       "  color: #f1f1f1;\n",
       "}\n",
       "</style>\n",
       "<table id=\"T_222ea_\">\n",
       "  <caption>Result - x_1 vs. x_3</caption>\n",
       "  <thead>\n",
       "    <tr>\n",
       "      <th class=\"blank level0\" >&nbsp;</th>\n",
       "      <th class=\"col_heading level0 col0\" >7</th>\n",
       "      <th class=\"col_heading level0 col1\" >8</th>\n",
       "      <th class=\"col_heading level0 col2\" >9</th>\n",
       "    </tr>\n",
       "    <tr>\n",
       "      <th class=\"index_name level0\" >x_1</th>\n",
       "      <th class=\"blank col0\" >&nbsp;</th>\n",
       "      <th class=\"blank col1\" >&nbsp;</th>\n",
       "      <th class=\"blank col2\" >&nbsp;</th>\n",
       "    </tr>\n",
       "  </thead>\n",
       "  <tbody>\n",
       "    <tr>\n",
       "      <th id=\"T_222ea_level0_row0\" class=\"row_heading level0 row0\" >1</th>\n",
       "      <td id=\"T_222ea_row0_col0\" class=\"data row0 col0\" >$124,815.0</td>\n",
       "      <td id=\"T_222ea_row0_col1\" class=\"data row0 col1\" >$711,925.7</td>\n",
       "      <td id=\"T_222ea_row0_col2\" class=\"data row0 col2\" >$4,097,655.0</td>\n",
       "    </tr>\n",
       "    <tr>\n",
       "      <th id=\"T_222ea_level0_row1\" class=\"row_heading level0 row1\" >2</th>\n",
       "      <td id=\"T_222ea_row1_col0\" class=\"data row1 col0\" >$249,630.0</td>\n",
       "      <td id=\"T_222ea_row1_col1\" class=\"data row1 col1\" >$1,423,851.3</td>\n",
       "      <td id=\"T_222ea_row1_col2\" class=\"data row1 col2\" >$8,195,310.0</td>\n",
       "    </tr>\n",
       "    <tr>\n",
       "      <th id=\"T_222ea_level0_row2\" class=\"row_heading level0 row2\" >3</th>\n",
       "      <td id=\"T_222ea_row2_col0\" class=\"data row2 col0\" >$374,445.0</td>\n",
       "      <td id=\"T_222ea_row2_col1\" class=\"data row2 col1\" >$2,135,777.0</td>\n",
       "      <td id=\"T_222ea_row2_col2\" class=\"data row2 col2\" >$12,292,965.0</td>\n",
       "    </tr>\n",
       "  </tbody>\n",
       "</table>\n"
      ],
      "text/plain": [
       "<IPython.core.display.HTML object>"
      ]
     },
     "metadata": {},
     "output_type": "display_data"
    },
    {
     "data": {
      "text/html": [
       "<h2>Result by x_2 vs. x_3</h2>"
      ],
      "text/plain": [
       "<IPython.core.display.HTML object>"
      ]
     },
     "metadata": {},
     "output_type": "display_data"
    },
    {
     "data": {
      "text/html": [
       "<style type=\"text/css\">\n",
       "#T_78cde_row0_col0 {\n",
       "  background-color: #a50026;\n",
       "  color: #f1f1f1;\n",
       "}\n",
       "#T_78cde_row0_col1, #T_78cde_row1_col0 {\n",
       "  background-color: #a70226;\n",
       "  color: #f1f1f1;\n",
       "}\n",
       "#T_78cde_row0_col2, #T_78cde_row2_col0 {\n",
       "  background-color: #b10b26;\n",
       "  color: #f1f1f1;\n",
       "}\n",
       "#T_78cde_row1_col1 {\n",
       "  background-color: #b71126;\n",
       "  color: #f1f1f1;\n",
       "}\n",
       "#T_78cde_row1_col2 {\n",
       "  background-color: #f26841;\n",
       "  color: #f1f1f1;\n",
       "}\n",
       "#T_78cde_row2_col1 {\n",
       "  background-color: #ea5739;\n",
       "  color: #f1f1f1;\n",
       "}\n",
       "#T_78cde_row2_col2 {\n",
       "  background-color: #006837;\n",
       "  color: #f1f1f1;\n",
       "}\n",
       "</style>\n",
       "<table id=\"T_78cde_\">\n",
       "  <caption>Result - x_2 vs. x_3</caption>\n",
       "  <thead>\n",
       "    <tr>\n",
       "      <th class=\"blank level0\" >&nbsp;</th>\n",
       "      <th class=\"col_heading level0 col0\" >7</th>\n",
       "      <th class=\"col_heading level0 col1\" >8</th>\n",
       "      <th class=\"col_heading level0 col2\" >9</th>\n",
       "    </tr>\n",
       "    <tr>\n",
       "      <th class=\"index_name level0\" >x_2</th>\n",
       "      <th class=\"blank col0\" >&nbsp;</th>\n",
       "      <th class=\"blank col1\" >&nbsp;</th>\n",
       "      <th class=\"blank col2\" >&nbsp;</th>\n",
       "    </tr>\n",
       "  </thead>\n",
       "  <tbody>\n",
       "    <tr>\n",
       "      <th id=\"T_78cde_level0_row0\" class=\"row_heading level0 row0\" >4</th>\n",
       "      <td id=\"T_78cde_row0_col0\" class=\"data row0 col0\" >$32,768.0</td>\n",
       "      <td id=\"T_78cde_row0_col1\" class=\"data row0 col1\" >$131,072.0</td>\n",
       "      <td id=\"T_78cde_row0_col2\" class=\"data row0 col2\" >$524,288.0</td>\n",
       "    </tr>\n",
       "    <tr>\n",
       "      <th id=\"T_78cde_level0_row1\" class=\"row_heading level0 row1\" >5</th>\n",
       "      <td id=\"T_78cde_row1_col0\" class=\"data row1 col0\" >$156,250.0</td>\n",
       "      <td id=\"T_78cde_row1_col1\" class=\"data row1 col1\" >$781,250.0</td>\n",
       "      <td id=\"T_78cde_row1_col2\" class=\"data row1 col2\" >$3,906,250.0</td>\n",
       "    </tr>\n",
       "    <tr>\n",
       "      <th id=\"T_78cde_level0_row2\" class=\"row_heading level0 row2\" >6</th>\n",
       "      <td id=\"T_78cde_row2_col0\" class=\"data row2 col0\" >$559,872.0</td>\n",
       "      <td id=\"T_78cde_row2_col1\" class=\"data row2 col1\" >$3,359,232.0</td>\n",
       "      <td id=\"T_78cde_row2_col2\" class=\"data row2 col2\" >$20,155,392.0</td>\n",
       "    </tr>\n",
       "  </tbody>\n",
       "</table>\n"
      ],
      "text/plain": [
       "<IPython.core.display.HTML object>"
      ]
     },
     "metadata": {},
     "output_type": "display_data"
    }
   ],
   "source": [
    "styled_dict=sa.styled_dfs(num_fmt='${:,.1f}')"
   ]
  },
  {
   "cell_type": "code",
   "execution_count": null,
   "id": "7db394c5",
   "metadata": {},
   "outputs": [],
   "source": []
  }
 ],
 "metadata": {
  "kernelspec": {
   "display_name": "Python 3 (ipykernel)",
   "language": "python",
   "name": "python3"
  },
  "language_info": {
   "codemirror_mode": {
    "name": "ipython",
    "version": 3
   },
   "file_extension": ".py",
   "mimetype": "text/x-python",
   "name": "python",
   "nbconvert_exporter": "python",
   "pygments_lexer": "ipython3",
   "version": "3.7.3"
  }
 },
 "nbformat": 4,
 "nbformat_minor": 5
}

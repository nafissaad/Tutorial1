{
 "cells": [
  {
   "cell_type": "code",
   "execution_count": 1,
   "id": "be4e04b3",
   "metadata": {},
   "outputs": [],
   "source": [
    "import pandas as pd"
   ]
  },
  {
   "cell_type": "code",
   "execution_count": 2,
   "id": "2dca00a8",
   "metadata": {},
   "outputs": [
    {
     "data": {
      "text/html": [
       "<div>\n",
       "<style scoped>\n",
       "    .dataframe tbody tr th:only-of-type {\n",
       "        vertical-align: middle;\n",
       "    }\n",
       "\n",
       "    .dataframe tbody tr th {\n",
       "        vertical-align: top;\n",
       "    }\n",
       "\n",
       "    .dataframe thead th {\n",
       "        text-align: right;\n",
       "    }\n",
       "</style>\n",
       "<table border=\"1\" class=\"dataframe\">\n",
       "  <thead>\n",
       "    <tr style=\"text-align: right;\">\n",
       "      <th></th>\n",
       "      <th>Name</th>\n",
       "      <th>Weight</th>\n",
       "      <th>Reservation Price</th>\n",
       "      <th>Percentage Action</th>\n",
       "    </tr>\n",
       "  </thead>\n",
       "  <tbody>\n",
       "    <tr>\n",
       "      <th>0</th>\n",
       "      <td>Joe</td>\n",
       "      <td>150</td>\n",
       "      <td>10.12</td>\n",
       "      <td>0.6</td>\n",
       "    </tr>\n",
       "    <tr>\n",
       "      <th>1</th>\n",
       "      <td>Jim</td>\n",
       "      <td>200</td>\n",
       "      <td>15.17</td>\n",
       "      <td>0.4</td>\n",
       "    </tr>\n",
       "    <tr>\n",
       "      <th>2</th>\n",
       "      <td>Mary</td>\n",
       "      <td>130</td>\n",
       "      <td>13.25</td>\n",
       "      <td>0.7</td>\n",
       "    </tr>\n",
       "  </tbody>\n",
       "</table>\n",
       "</div>"
      ],
      "text/plain": [
       "   Name  Weight  Reservation Price  Percentage Action\n",
       "0   Joe     150              10.12                0.6\n",
       "1   Jim     200              15.17                0.4\n",
       "2  Mary     130              13.25                0.7"
      ]
     },
     "execution_count": 2,
     "metadata": {},
     "output_type": "execute_result"
    }
   ],
   "source": [
    "df=pd.DataFrame(\n",
    "    [\n",
    "    ('Joe',150,10.12,0.6),\n",
    "    ('Jim',200,15.17,0.4),\n",
    "    ('Mary',130,13.25,0.7)\n",
    "],\n",
    "    columns=['Name','Weight','Reservation Price','Percentage Action']\n",
    ")\n",
    "df"
   ]
  },
  {
   "cell_type": "code",
   "execution_count": 3,
   "id": "d82cd10b",
   "metadata": {},
   "outputs": [
    {
     "data": {
      "text/plain": [
       "'$10.12'"
      ]
     },
     "execution_count": 3,
     "metadata": {},
     "output_type": "execute_result"
    }
   ],
   "source": [
    "my_num =10.12\n",
    "f'${my_num:,.2f}'"
   ]
  },
  {
   "cell_type": "code",
   "execution_count": 4,
   "id": "d7f40fa1",
   "metadata": {},
   "outputs": [
    {
     "data": {
      "text/html": [
       "<style type=\"text/css\">\n",
       "</style>\n",
       "<table id=\"T_e4c18_\">\n",
       "  <thead>\n",
       "    <tr>\n",
       "      <th class=\"blank level0\" >&nbsp;</th>\n",
       "      <th class=\"col_heading level0 col0\" >Name</th>\n",
       "      <th class=\"col_heading level0 col1\" >Weight</th>\n",
       "      <th class=\"col_heading level0 col2\" >Reservation Price</th>\n",
       "      <th class=\"col_heading level0 col3\" >Percentage Action</th>\n",
       "    </tr>\n",
       "  </thead>\n",
       "  <tbody>\n",
       "    <tr>\n",
       "      <th id=\"T_e4c18_level0_row0\" class=\"row_heading level0 row0\" >0</th>\n",
       "      <td id=\"T_e4c18_row0_col0\" class=\"data row0 col0\" >Joe</td>\n",
       "      <td id=\"T_e4c18_row0_col1\" class=\"data row0 col1\" >150</td>\n",
       "      <td id=\"T_e4c18_row0_col2\" class=\"data row0 col2\" >$10.12</td>\n",
       "      <td id=\"T_e4c18_row0_col3\" class=\"data row0 col3\" >0.600000</td>\n",
       "    </tr>\n",
       "    <tr>\n",
       "      <th id=\"T_e4c18_level0_row1\" class=\"row_heading level0 row1\" >1</th>\n",
       "      <td id=\"T_e4c18_row1_col0\" class=\"data row1 col0\" >Jim</td>\n",
       "      <td id=\"T_e4c18_row1_col1\" class=\"data row1 col1\" >200</td>\n",
       "      <td id=\"T_e4c18_row1_col2\" class=\"data row1 col2\" >$15.17</td>\n",
       "      <td id=\"T_e4c18_row1_col3\" class=\"data row1 col3\" >0.400000</td>\n",
       "    </tr>\n",
       "    <tr>\n",
       "      <th id=\"T_e4c18_level0_row2\" class=\"row_heading level0 row2\" >2</th>\n",
       "      <td id=\"T_e4c18_row2_col0\" class=\"data row2 col0\" >Mary</td>\n",
       "      <td id=\"T_e4c18_row2_col1\" class=\"data row2 col1\" >130</td>\n",
       "      <td id=\"T_e4c18_row2_col2\" class=\"data row2 col2\" >$13.25</td>\n",
       "      <td id=\"T_e4c18_row2_col3\" class=\"data row2 col3\" >0.700000</td>\n",
       "    </tr>\n",
       "  </tbody>\n",
       "</table>\n"
      ],
      "text/plain": [
       "<pandas.io.formats.style.Styler at 0x1c7fed787f0>"
      ]
     },
     "execution_count": 4,
     "metadata": {},
     "output_type": "execute_result"
    }
   ],
   "source": [
    "s= df.style.format({\n",
    "    'Reservation Price':'${:,.2F}'\n",
    "})\n",
    "s"
   ]
  },
  {
   "cell_type": "code",
   "execution_count": 5,
   "id": "a8d69aea",
   "metadata": {},
   "outputs": [
    {
     "data": {
      "text/plain": [
       "pandas.io.formats.style.Styler"
      ]
     },
     "execution_count": 5,
     "metadata": {},
     "output_type": "execute_result"
    }
   ],
   "source": [
    "type(s)"
   ]
  },
  {
   "cell_type": "code",
   "execution_count": 6,
   "id": "2b5c1fa9",
   "metadata": {},
   "outputs": [
    {
     "data": {
      "text/html": [
       "<style type=\"text/css\">\n",
       "#T_7d972_row0_col0, #T_7d972_row0_col1, #T_7d972_row0_col2, #T_7d972_row0_col3, #T_7d972_row1_col0, #T_7d972_row1_col1, #T_7d972_row1_col2, #T_7d972_row1_col3, #T_7d972_row2_col0, #T_7d972_row2_col1, #T_7d972_row2_col2, #T_7d972_row2_col3 {\n",
       "  color: blue;\n",
       "}\n",
       "</style>\n",
       "<table id=\"T_7d972_\">\n",
       "  <thead>\n",
       "    <tr>\n",
       "      <th class=\"blank level0\" >&nbsp;</th>\n",
       "      <th class=\"col_heading level0 col0\" >Name</th>\n",
       "      <th class=\"col_heading level0 col1\" >Weight</th>\n",
       "      <th class=\"col_heading level0 col2\" >Reservation Price</th>\n",
       "      <th class=\"col_heading level0 col3\" >Percentage Action</th>\n",
       "    </tr>\n",
       "  </thead>\n",
       "  <tbody>\n",
       "    <tr>\n",
       "      <th id=\"T_7d972_level0_row0\" class=\"row_heading level0 row0\" >0</th>\n",
       "      <td id=\"T_7d972_row0_col0\" class=\"data row0 col0\" >Joe</td>\n",
       "      <td id=\"T_7d972_row0_col1\" class=\"data row0 col1\" >150</td>\n",
       "      <td id=\"T_7d972_row0_col2\" class=\"data row0 col2\" >10.120000</td>\n",
       "      <td id=\"T_7d972_row0_col3\" class=\"data row0 col3\" >0.600000</td>\n",
       "    </tr>\n",
       "    <tr>\n",
       "      <th id=\"T_7d972_level0_row1\" class=\"row_heading level0 row1\" >1</th>\n",
       "      <td id=\"T_7d972_row1_col0\" class=\"data row1 col0\" >Jim</td>\n",
       "      <td id=\"T_7d972_row1_col1\" class=\"data row1 col1\" >200</td>\n",
       "      <td id=\"T_7d972_row1_col2\" class=\"data row1 col2\" >15.170000</td>\n",
       "      <td id=\"T_7d972_row1_col3\" class=\"data row1 col3\" >0.400000</td>\n",
       "    </tr>\n",
       "    <tr>\n",
       "      <th id=\"T_7d972_level0_row2\" class=\"row_heading level0 row2\" >2</th>\n",
       "      <td id=\"T_7d972_row2_col0\" class=\"data row2 col0\" >Mary</td>\n",
       "      <td id=\"T_7d972_row2_col1\" class=\"data row2 col1\" >130</td>\n",
       "      <td id=\"T_7d972_row2_col2\" class=\"data row2 col2\" >13.250000</td>\n",
       "      <td id=\"T_7d972_row2_col3\" class=\"data row2 col3\" >0.700000</td>\n",
       "    </tr>\n",
       "  </tbody>\n",
       "</table>\n"
      ],
      "text/plain": [
       "<pandas.io.formats.style.Styler at 0x1c7ff9d97f0>"
      ]
     },
     "execution_count": 6,
     "metadata": {},
     "output_type": "execute_result"
    }
   ],
   "source": [
    "def set_color_to_blue(value):\n",
    "    return 'color: blue'\n",
    "df.style.applymap(set_color_to_blue)"
   ]
  },
  {
   "cell_type": "code",
   "execution_count": 7,
   "id": "c0f67fb7",
   "metadata": {},
   "outputs": [
    {
     "data": {
      "text/html": [
       "<style type=\"text/css\">\n",
       "#T_1ec92_row0_col0, #T_1ec92_row0_col1, #T_1ec92_row0_col2, #T_1ec92_row0_col3, #T_1ec92_row1_col0, #T_1ec92_row1_col1, #T_1ec92_row1_col2, #T_1ec92_row1_col3, #T_1ec92_row2_col0, #T_1ec92_row2_col1, #T_1ec92_row2_col2, #T_1ec92_row2_col3 {\n",
       "  background-color: lightgreen;\n",
       "}\n",
       "</style>\n",
       "<table id=\"T_1ec92_\">\n",
       "  <thead>\n",
       "    <tr>\n",
       "      <th class=\"blank level0\" >&nbsp;</th>\n",
       "      <th class=\"col_heading level0 col0\" >Name</th>\n",
       "      <th class=\"col_heading level0 col1\" >Weight</th>\n",
       "      <th class=\"col_heading level0 col2\" >Reservation Price</th>\n",
       "      <th class=\"col_heading level0 col3\" >Percentage Action</th>\n",
       "    </tr>\n",
       "  </thead>\n",
       "  <tbody>\n",
       "    <tr>\n",
       "      <th id=\"T_1ec92_level0_row0\" class=\"row_heading level0 row0\" >0</th>\n",
       "      <td id=\"T_1ec92_row0_col0\" class=\"data row0 col0\" >Joe</td>\n",
       "      <td id=\"T_1ec92_row0_col1\" class=\"data row0 col1\" >150</td>\n",
       "      <td id=\"T_1ec92_row0_col2\" class=\"data row0 col2\" >10.120000</td>\n",
       "      <td id=\"T_1ec92_row0_col3\" class=\"data row0 col3\" >0.600000</td>\n",
       "    </tr>\n",
       "    <tr>\n",
       "      <th id=\"T_1ec92_level0_row1\" class=\"row_heading level0 row1\" >1</th>\n",
       "      <td id=\"T_1ec92_row1_col0\" class=\"data row1 col0\" >Jim</td>\n",
       "      <td id=\"T_1ec92_row1_col1\" class=\"data row1 col1\" >200</td>\n",
       "      <td id=\"T_1ec92_row1_col2\" class=\"data row1 col2\" >15.170000</td>\n",
       "      <td id=\"T_1ec92_row1_col3\" class=\"data row1 col3\" >0.400000</td>\n",
       "    </tr>\n",
       "    <tr>\n",
       "      <th id=\"T_1ec92_level0_row2\" class=\"row_heading level0 row2\" >2</th>\n",
       "      <td id=\"T_1ec92_row2_col0\" class=\"data row2 col0\" >Mary</td>\n",
       "      <td id=\"T_1ec92_row2_col1\" class=\"data row2 col1\" >130</td>\n",
       "      <td id=\"T_1ec92_row2_col2\" class=\"data row2 col2\" >13.250000</td>\n",
       "      <td id=\"T_1ec92_row2_col3\" class=\"data row2 col3\" >0.700000</td>\n",
       "    </tr>\n",
       "  </tbody>\n",
       "</table>\n"
      ],
      "text/plain": [
       "<pandas.io.formats.style.Styler at 0x1c7ff9d9ef0>"
      ]
     },
     "execution_count": 7,
     "metadata": {},
     "output_type": "execute_result"
    }
   ],
   "source": [
    "def set_color_to_blue(value):\n",
    "    return 'background-color: lightgreen'\n",
    "df.style.applymap(set_color_to_blue)"
   ]
  },
  {
   "cell_type": "code",
   "execution_count": 8,
   "id": "0dc8c8d6",
   "metadata": {},
   "outputs": [
    {
     "data": {
      "text/html": [
       "<style type=\"text/css\">\n",
       "#T_57b16_row1_col3 {\n",
       "  background-color: pink;\n",
       "}\n",
       "</style>\n",
       "<table id=\"T_57b16_\">\n",
       "  <thead>\n",
       "    <tr>\n",
       "      <th class=\"blank level0\" >&nbsp;</th>\n",
       "      <th class=\"col_heading level0 col0\" >Name</th>\n",
       "      <th class=\"col_heading level0 col1\" >Weight</th>\n",
       "      <th class=\"col_heading level0 col2\" >Reservation Price</th>\n",
       "      <th class=\"col_heading level0 col3\" >Percentage Action</th>\n",
       "    </tr>\n",
       "  </thead>\n",
       "  <tbody>\n",
       "    <tr>\n",
       "      <th id=\"T_57b16_level0_row0\" class=\"row_heading level0 row0\" >0</th>\n",
       "      <td id=\"T_57b16_row0_col0\" class=\"data row0 col0\" >Joe</td>\n",
       "      <td id=\"T_57b16_row0_col1\" class=\"data row0 col1\" >150</td>\n",
       "      <td id=\"T_57b16_row0_col2\" class=\"data row0 col2\" >10.120000</td>\n",
       "      <td id=\"T_57b16_row0_col3\" class=\"data row0 col3\" >0.600000</td>\n",
       "    </tr>\n",
       "    <tr>\n",
       "      <th id=\"T_57b16_level0_row1\" class=\"row_heading level0 row1\" >1</th>\n",
       "      <td id=\"T_57b16_row1_col0\" class=\"data row1 col0\" >Jim</td>\n",
       "      <td id=\"T_57b16_row1_col1\" class=\"data row1 col1\" >200</td>\n",
       "      <td id=\"T_57b16_row1_col2\" class=\"data row1 col2\" >15.170000</td>\n",
       "      <td id=\"T_57b16_row1_col3\" class=\"data row1 col3\" >0.400000</td>\n",
       "    </tr>\n",
       "    <tr>\n",
       "      <th id=\"T_57b16_level0_row2\" class=\"row_heading level0 row2\" >2</th>\n",
       "      <td id=\"T_57b16_row2_col0\" class=\"data row2 col0\" >Mary</td>\n",
       "      <td id=\"T_57b16_row2_col1\" class=\"data row2 col1\" >130</td>\n",
       "      <td id=\"T_57b16_row2_col2\" class=\"data row2 col2\" >13.250000</td>\n",
       "      <td id=\"T_57b16_row2_col3\" class=\"data row2 col3\" >0.700000</td>\n",
       "    </tr>\n",
       "  </tbody>\n",
       "</table>\n"
      ],
      "text/plain": [
       "<pandas.io.formats.style.Styler at 0x1c7ffa29048>"
      ]
     },
     "execution_count": 8,
     "metadata": {},
     "output_type": "execute_result"
    }
   ],
   "source": [
    "def highlight_inactive(value):\n",
    "    #this section needed to handle Name column\n",
    "    if isinstance(value,str):\n",
    "        return ''\n",
    "    #Main logic\n",
    "    if value <0.5:\n",
    "        return 'background-color: pink'\n",
    "    return''\n",
    "df.style.applymap(highlight_inactive)"
   ]
  },
  {
   "cell_type": "code",
   "execution_count": 9,
   "id": "841c514b",
   "metadata": {},
   "outputs": [
    {
     "data": {
      "text/html": [
       "<div>\n",
       "<style scoped>\n",
       "    .dataframe tbody tr th:only-of-type {\n",
       "        vertical-align: middle;\n",
       "    }\n",
       "\n",
       "    .dataframe tbody tr th {\n",
       "        vertical-align: top;\n",
       "    }\n",
       "\n",
       "    .dataframe thead th {\n",
       "        text-align: right;\n",
       "    }\n",
       "</style>\n",
       "<table border=\"1\" class=\"dataframe\">\n",
       "  <thead>\n",
       "    <tr style=\"text-align: right;\">\n",
       "      <th></th>\n",
       "      <th>Name</th>\n",
       "      <th>Weight</th>\n",
       "      <th>Reservation Price</th>\n",
       "      <th>Percentage Action</th>\n",
       "    </tr>\n",
       "  </thead>\n",
       "  <tbody>\n",
       "    <tr>\n",
       "      <th>0</th>\n",
       "      <td></td>\n",
       "      <td></td>\n",
       "      <td></td>\n",
       "      <td></td>\n",
       "    </tr>\n",
       "    <tr>\n",
       "      <th>1</th>\n",
       "      <td></td>\n",
       "      <td></td>\n",
       "      <td></td>\n",
       "      <td>background-color: pink</td>\n",
       "    </tr>\n",
       "    <tr>\n",
       "      <th>2</th>\n",
       "      <td></td>\n",
       "      <td></td>\n",
       "      <td></td>\n",
       "      <td></td>\n",
       "    </tr>\n",
       "  </tbody>\n",
       "</table>\n",
       "</div>"
      ],
      "text/plain": [
       "  Name Weight Reservation Price       Percentage Action\n",
       "0                                                      \n",
       "1                                background-color: pink\n",
       "2                                                      "
      ]
     },
     "execution_count": 9,
     "metadata": {},
     "output_type": "execute_result"
    }
   ],
   "source": [
    "df.applymap(highlight_inactive)"
   ]
  },
  {
   "cell_type": "code",
   "execution_count": 10,
   "id": "04ee0901",
   "metadata": {},
   "outputs": [
    {
     "data": {
      "text/html": [
       "<style type=\"text/css\">\n",
       "</style>\n",
       "<table id=\"T_928c4_\">\n",
       "  <thead>\n",
       "    <tr>\n",
       "      <th class=\"blank level0\" >&nbsp;</th>\n",
       "      <th class=\"col_heading level0 col0\" >Name</th>\n",
       "      <th class=\"col_heading level0 col2\" >Reservation Price</th>\n",
       "      <th class=\"col_heading level0 col3\" >Percentage Action</th>\n",
       "    </tr>\n",
       "  </thead>\n",
       "  <tbody>\n",
       "    <tr>\n",
       "      <th id=\"T_928c4_level0_row0\" class=\"row_heading level0 row0\" >0</th>\n",
       "      <td id=\"T_928c4_row0_col0\" class=\"data row0 col0\" >Joe</td>\n",
       "      <td id=\"T_928c4_row0_col2\" class=\"data row0 col2\" >10.120000</td>\n",
       "      <td id=\"T_928c4_row0_col3\" class=\"data row0 col3\" >0.600000</td>\n",
       "    </tr>\n",
       "    <tr>\n",
       "      <th id=\"T_928c4_level0_row1\" class=\"row_heading level0 row1\" >1</th>\n",
       "      <td id=\"T_928c4_row1_col0\" class=\"data row1 col0\" >Jim</td>\n",
       "      <td id=\"T_928c4_row1_col2\" class=\"data row1 col2\" >15.170000</td>\n",
       "      <td id=\"T_928c4_row1_col3\" class=\"data row1 col3\" >0.400000</td>\n",
       "    </tr>\n",
       "    <tr>\n",
       "      <th id=\"T_928c4_level0_row2\" class=\"row_heading level0 row2\" >2</th>\n",
       "      <td id=\"T_928c4_row2_col0\" class=\"data row2 col0\" >Mary</td>\n",
       "      <td id=\"T_928c4_row2_col2\" class=\"data row2 col2\" >13.250000</td>\n",
       "      <td id=\"T_928c4_row2_col3\" class=\"data row2 col3\" >0.700000</td>\n",
       "    </tr>\n",
       "  </tbody>\n",
       "</table>\n"
      ],
      "text/plain": [
       "<pandas.io.formats.style.Styler at 0x1c7fed31240>"
      ]
     },
     "execution_count": 10,
     "metadata": {},
     "output_type": "execute_result"
    }
   ],
   "source": [
    "df.style.hide_columns(['Weight'])"
   ]
  },
  {
   "cell_type": "code",
   "execution_count": 11,
   "id": "892a9698",
   "metadata": {},
   "outputs": [
    {
     "data": {
      "text/html": [
       "<style type=\"text/css\">\n",
       "</style>\n",
       "<table id=\"T_fdc51_\">\n",
       "  <caption>My Table</caption>\n",
       "  <thead>\n",
       "    <tr>\n",
       "      <th class=\"blank level0\" >&nbsp;</th>\n",
       "      <th class=\"col_heading level0 col0\" >Name</th>\n",
       "      <th class=\"col_heading level0 col1\" >Weight</th>\n",
       "      <th class=\"col_heading level0 col2\" >Reservation Price</th>\n",
       "      <th class=\"col_heading level0 col3\" >Percentage Action</th>\n",
       "    </tr>\n",
       "  </thead>\n",
       "  <tbody>\n",
       "    <tr>\n",
       "      <th id=\"T_fdc51_level0_row0\" class=\"row_heading level0 row0\" >0</th>\n",
       "      <td id=\"T_fdc51_row0_col0\" class=\"data row0 col0\" >Joe</td>\n",
       "      <td id=\"T_fdc51_row0_col1\" class=\"data row0 col1\" >150</td>\n",
       "      <td id=\"T_fdc51_row0_col2\" class=\"data row0 col2\" >10.120000</td>\n",
       "      <td id=\"T_fdc51_row0_col3\" class=\"data row0 col3\" >0.600000</td>\n",
       "    </tr>\n",
       "    <tr>\n",
       "      <th id=\"T_fdc51_level0_row1\" class=\"row_heading level0 row1\" >1</th>\n",
       "      <td id=\"T_fdc51_row1_col0\" class=\"data row1 col0\" >Jim</td>\n",
       "      <td id=\"T_fdc51_row1_col1\" class=\"data row1 col1\" >200</td>\n",
       "      <td id=\"T_fdc51_row1_col2\" class=\"data row1 col2\" >15.170000</td>\n",
       "      <td id=\"T_fdc51_row1_col3\" class=\"data row1 col3\" >0.400000</td>\n",
       "    </tr>\n",
       "    <tr>\n",
       "      <th id=\"T_fdc51_level0_row2\" class=\"row_heading level0 row2\" >2</th>\n",
       "      <td id=\"T_fdc51_row2_col0\" class=\"data row2 col0\" >Mary</td>\n",
       "      <td id=\"T_fdc51_row2_col1\" class=\"data row2 col1\" >130</td>\n",
       "      <td id=\"T_fdc51_row2_col2\" class=\"data row2 col2\" >13.250000</td>\n",
       "      <td id=\"T_fdc51_row2_col3\" class=\"data row2 col3\" >0.700000</td>\n",
       "    </tr>\n",
       "  </tbody>\n",
       "</table>\n"
      ],
      "text/plain": [
       "<pandas.io.formats.style.Styler at 0x1c7ff9d9e10>"
      ]
     },
     "execution_count": 11,
     "metadata": {},
     "output_type": "execute_result"
    }
   ],
   "source": [
    "df.style.set_caption('My Table')"
   ]
  },
  {
   "cell_type": "code",
   "execution_count": 12,
   "id": "14a2d562",
   "metadata": {},
   "outputs": [
    {
     "data": {
      "text/html": [
       "<style type=\"text/css\">\n",
       "#T_3dd71_ tr:hover {\n",
       "  background-color: #ffff99;\n",
       "}\n",
       "#T_3dd71_ th {\n",
       "  font-size: 150%;\n",
       "  text-align: center;\n",
       "}\n",
       "#T_3dd71_ caption {\n",
       "  caption-side: bottom;\n",
       "}\n",
       "</style>\n",
       "<table id=\"T_3dd71_\">\n",
       "  <caption>Hover to highlight.</caption>\n",
       "  <thead>\n",
       "    <tr>\n",
       "      <th class=\"blank level0\" >&nbsp;</th>\n",
       "      <th class=\"col_heading level0 col0\" >Name</th>\n",
       "      <th class=\"col_heading level0 col1\" >Weight</th>\n",
       "      <th class=\"col_heading level0 col2\" >Reservation Price</th>\n",
       "      <th class=\"col_heading level0 col3\" >Percentage Action</th>\n",
       "    </tr>\n",
       "  </thead>\n",
       "  <tbody>\n",
       "    <tr>\n",
       "      <th id=\"T_3dd71_level0_row0\" class=\"row_heading level0 row0\" >0</th>\n",
       "      <td id=\"T_3dd71_row0_col0\" class=\"data row0 col0\" >Joe</td>\n",
       "      <td id=\"T_3dd71_row0_col1\" class=\"data row0 col1\" >150</td>\n",
       "      <td id=\"T_3dd71_row0_col2\" class=\"data row0 col2\" >10.120000</td>\n",
       "      <td id=\"T_3dd71_row0_col3\" class=\"data row0 col3\" >0.600000</td>\n",
       "    </tr>\n",
       "    <tr>\n",
       "      <th id=\"T_3dd71_level0_row1\" class=\"row_heading level0 row1\" >1</th>\n",
       "      <td id=\"T_3dd71_row1_col0\" class=\"data row1 col0\" >Jim</td>\n",
       "      <td id=\"T_3dd71_row1_col1\" class=\"data row1 col1\" >200</td>\n",
       "      <td id=\"T_3dd71_row1_col2\" class=\"data row1 col2\" >15.170000</td>\n",
       "      <td id=\"T_3dd71_row1_col3\" class=\"data row1 col3\" >0.400000</td>\n",
       "    </tr>\n",
       "    <tr>\n",
       "      <th id=\"T_3dd71_level0_row2\" class=\"row_heading level0 row2\" >2</th>\n",
       "      <td id=\"T_3dd71_row2_col0\" class=\"data row2 col0\" >Mary</td>\n",
       "      <td id=\"T_3dd71_row2_col1\" class=\"data row2 col1\" >130</td>\n",
       "      <td id=\"T_3dd71_row2_col2\" class=\"data row2 col2\" >13.250000</td>\n",
       "      <td id=\"T_3dd71_row2_col3\" class=\"data row2 col3\" >0.700000</td>\n",
       "    </tr>\n",
       "  </tbody>\n",
       "</table>\n"
      ],
      "text/plain": [
       "<pandas.io.formats.style.Styler at 0x1c7ffa29f98>"
      ]
     },
     "execution_count": 12,
     "metadata": {},
     "output_type": "execute_result"
    }
   ],
   "source": [
    "def hover(hover_color=\"#ffff99\"):\n",
    "    return dict(selector=\"tr:hover\",\n",
    "                props=[(\"background-color\", hover_color)])\n",
    "\n",
    "styles = [\n",
    "    hover(),\n",
    "    dict(selector=\"th\", props=[(\"font-size\", \"150%\"),\n",
    "                               (\"text-align\", \"center\")]),\n",
    "    dict(selector=\"caption\", props=[(\"caption-side\", \"bottom\")])\n",
    "]\n",
    "df.style.set_table_styles(styles).set_caption(\"Hover to highlight.\")"
   ]
  },
  {
   "cell_type": "code",
   "execution_count": 13,
   "id": "825cb94e",
   "metadata": {},
   "outputs": [
    {
     "data": {
      "text/html": [
       "<style type=\"text/css\">\n",
       "#T_aa2cb_row0_col1 {\n",
       "  width: 10em;\n",
       "  height: 80%;\n",
       "  background: linear-gradient(90deg,#d65f5f 28.6%, transparent 28.6%);\n",
       "}\n",
       "#T_aa2cb_row0_col2, #T_aa2cb_row1_col3, #T_aa2cb_row2_col1 {\n",
       "  width: 10em;\n",
       "  height: 80%;\n",
       "}\n",
       "#T_aa2cb_row0_col3 {\n",
       "  width: 10em;\n",
       "  height: 80%;\n",
       "  background: linear-gradient(90deg,#d65f5f 66.7%, transparent 66.7%);\n",
       "}\n",
       "#T_aa2cb_row1_col1, #T_aa2cb_row1_col2, #T_aa2cb_row2_col3 {\n",
       "  width: 10em;\n",
       "  height: 80%;\n",
       "  background: linear-gradient(90deg,#d65f5f 100.0%, transparent 100.0%);\n",
       "}\n",
       "#T_aa2cb_row2_col2 {\n",
       "  width: 10em;\n",
       "  height: 80%;\n",
       "  background: linear-gradient(90deg,#d65f5f 62.0%, transparent 62.0%);\n",
       "}\n",
       "</style>\n",
       "<table id=\"T_aa2cb_\">\n",
       "  <thead>\n",
       "    <tr>\n",
       "      <th class=\"blank level0\" >&nbsp;</th>\n",
       "      <th class=\"col_heading level0 col0\" >Name</th>\n",
       "      <th class=\"col_heading level0 col1\" >Weight</th>\n",
       "      <th class=\"col_heading level0 col2\" >Reservation Price</th>\n",
       "      <th class=\"col_heading level0 col3\" >Percentage Action</th>\n",
       "    </tr>\n",
       "  </thead>\n",
       "  <tbody>\n",
       "    <tr>\n",
       "      <th id=\"T_aa2cb_level0_row0\" class=\"row_heading level0 row0\" >0</th>\n",
       "      <td id=\"T_aa2cb_row0_col0\" class=\"data row0 col0\" >Joe</td>\n",
       "      <td id=\"T_aa2cb_row0_col1\" class=\"data row0 col1\" >150</td>\n",
       "      <td id=\"T_aa2cb_row0_col2\" class=\"data row0 col2\" >10.120000</td>\n",
       "      <td id=\"T_aa2cb_row0_col3\" class=\"data row0 col3\" >0.600000</td>\n",
       "    </tr>\n",
       "    <tr>\n",
       "      <th id=\"T_aa2cb_level0_row1\" class=\"row_heading level0 row1\" >1</th>\n",
       "      <td id=\"T_aa2cb_row1_col0\" class=\"data row1 col0\" >Jim</td>\n",
       "      <td id=\"T_aa2cb_row1_col1\" class=\"data row1 col1\" >200</td>\n",
       "      <td id=\"T_aa2cb_row1_col2\" class=\"data row1 col2\" >15.170000</td>\n",
       "      <td id=\"T_aa2cb_row1_col3\" class=\"data row1 col3\" >0.400000</td>\n",
       "    </tr>\n",
       "    <tr>\n",
       "      <th id=\"T_aa2cb_level0_row2\" class=\"row_heading level0 row2\" >2</th>\n",
       "      <td id=\"T_aa2cb_row2_col0\" class=\"data row2 col0\" >Mary</td>\n",
       "      <td id=\"T_aa2cb_row2_col1\" class=\"data row2 col1\" >130</td>\n",
       "      <td id=\"T_aa2cb_row2_col2\" class=\"data row2 col2\" >13.250000</td>\n",
       "      <td id=\"T_aa2cb_row2_col3\" class=\"data row2 col3\" >0.700000</td>\n",
       "    </tr>\n",
       "  </tbody>\n",
       "</table>\n"
      ],
      "text/plain": [
       "<pandas.io.formats.style.Styler at 0x1c7ffa29780>"
      ]
     },
     "execution_count": 13,
     "metadata": {},
     "output_type": "execute_result"
    }
   ],
   "source": [
    "df.style.bar()"
   ]
  },
  {
   "cell_type": "code",
   "execution_count": 14,
   "id": "386cbf28",
   "metadata": {},
   "outputs": [
    {
     "data": {
      "text/html": [
       "<style type=\"text/css\">\n",
       "#T_3ac1a_row0_col1 {\n",
       "  width: 10em;\n",
       "  height: 80%;\n",
       "  background: linear-gradient(90deg, transparent 50.0%, lightblue 50.0%, lightblue 87.5%, transparent 87.5%);\n",
       "}\n",
       "#T_3ac1a_row0_col2 {\n",
       "  width: 10em;\n",
       "  height: 80%;\n",
       "  background: linear-gradient(90deg, transparent 50.0%, lightblue 50.0%, lightblue 83.4%, transparent 83.4%);\n",
       "}\n",
       "#T_3ac1a_row0_col3 {\n",
       "  width: 10em;\n",
       "  height: 80%;\n",
       "  background: linear-gradient(90deg, transparent 50.0%, lightblue 50.0%, lightblue 92.9%, transparent 92.9%);\n",
       "}\n",
       "#T_3ac1a_row1_col1, #T_3ac1a_row1_col2, #T_3ac1a_row2_col3 {\n",
       "  width: 10em;\n",
       "  height: 80%;\n",
       "  background: linear-gradient(90deg, transparent 50.0%, lightblue 50.0%, lightblue 100.0%, transparent 100.0%);\n",
       "}\n",
       "#T_3ac1a_row1_col3 {\n",
       "  width: 10em;\n",
       "  height: 80%;\n",
       "  background: linear-gradient(90deg, transparent 50.0%, lightblue 50.0%, lightblue 78.6%, transparent 78.6%);\n",
       "}\n",
       "#T_3ac1a_row2_col1 {\n",
       "  width: 10em;\n",
       "  height: 80%;\n",
       "  background: linear-gradient(90deg, transparent 50.0%, lightblue 50.0%, lightblue 82.5%, transparent 82.5%);\n",
       "}\n",
       "#T_3ac1a_row2_col2 {\n",
       "  width: 10em;\n",
       "  height: 80%;\n",
       "  background: linear-gradient(90deg, transparent 50.0%, lightblue 50.0%, lightblue 93.7%, transparent 93.7%);\n",
       "}\n",
       "</style>\n",
       "<table id=\"T_3ac1a_\">\n",
       "  <thead>\n",
       "    <tr>\n",
       "      <th class=\"blank level0\" >&nbsp;</th>\n",
       "      <th class=\"col_heading level0 col0\" >Name</th>\n",
       "      <th class=\"col_heading level0 col1\" >Weight</th>\n",
       "      <th class=\"col_heading level0 col2\" >Reservation Price</th>\n",
       "      <th class=\"col_heading level0 col3\" >Percentage Action</th>\n",
       "    </tr>\n",
       "  </thead>\n",
       "  <tbody>\n",
       "    <tr>\n",
       "      <th id=\"T_3ac1a_level0_row0\" class=\"row_heading level0 row0\" >0</th>\n",
       "      <td id=\"T_3ac1a_row0_col0\" class=\"data row0 col0\" >Joe</td>\n",
       "      <td id=\"T_3ac1a_row0_col1\" class=\"data row0 col1\" >150</td>\n",
       "      <td id=\"T_3ac1a_row0_col2\" class=\"data row0 col2\" >10.120000</td>\n",
       "      <td id=\"T_3ac1a_row0_col3\" class=\"data row0 col3\" >0.600000</td>\n",
       "    </tr>\n",
       "    <tr>\n",
       "      <th id=\"T_3ac1a_level0_row1\" class=\"row_heading level0 row1\" >1</th>\n",
       "      <td id=\"T_3ac1a_row1_col0\" class=\"data row1 col0\" >Jim</td>\n",
       "      <td id=\"T_3ac1a_row1_col1\" class=\"data row1 col1\" >200</td>\n",
       "      <td id=\"T_3ac1a_row1_col2\" class=\"data row1 col2\" >15.170000</td>\n",
       "      <td id=\"T_3ac1a_row1_col3\" class=\"data row1 col3\" >0.400000</td>\n",
       "    </tr>\n",
       "    <tr>\n",
       "      <th id=\"T_3ac1a_level0_row2\" class=\"row_heading level0 row2\" >2</th>\n",
       "      <td id=\"T_3ac1a_row2_col0\" class=\"data row2 col0\" >Mary</td>\n",
       "      <td id=\"T_3ac1a_row2_col1\" class=\"data row2 col1\" >130</td>\n",
       "      <td id=\"T_3ac1a_row2_col2\" class=\"data row2 col2\" >13.250000</td>\n",
       "      <td id=\"T_3ac1a_row2_col3\" class=\"data row2 col3\" >0.700000</td>\n",
       "    </tr>\n",
       "  </tbody>\n",
       "</table>\n"
      ],
      "text/plain": [
       "<pandas.io.formats.style.Styler at 0x1c7ffa29a90>"
      ]
     },
     "execution_count": 14,
     "metadata": {},
     "output_type": "execute_result"
    }
   ],
   "source": [
    "df.style.bar(align='zero',color='lightblue')"
   ]
  },
  {
   "cell_type": "code",
   "execution_count": 15,
   "id": "6f8de4e2",
   "metadata": {},
   "outputs": [
    {
     "data": {
      "text/html": [
       "<style type=\"text/css\">\n",
       "#T_4e3c4_row0_col2 {\n",
       "  width: 10em;\n",
       "  height: 80%;\n",
       "  background: linear-gradient(90deg, transparent 50.0%, lightblue 50.0%, lightblue 83.4%, transparent 83.4%);\n",
       "}\n",
       "#T_4e3c4_row1_col2 {\n",
       "  width: 10em;\n",
       "  height: 80%;\n",
       "  background: linear-gradient(90deg, transparent 50.0%, lightblue 50.0%, lightblue 100.0%, transparent 100.0%);\n",
       "}\n",
       "#T_4e3c4_row2_col2 {\n",
       "  width: 10em;\n",
       "  height: 80%;\n",
       "  background: linear-gradient(90deg, transparent 50.0%, lightblue 50.0%, lightblue 93.7%, transparent 93.7%);\n",
       "}\n",
       "</style>\n",
       "<table id=\"T_4e3c4_\">\n",
       "  <thead>\n",
       "    <tr>\n",
       "      <th class=\"blank level0\" >&nbsp;</th>\n",
       "      <th class=\"col_heading level0 col0\" >Name</th>\n",
       "      <th class=\"col_heading level0 col1\" >Weight</th>\n",
       "      <th class=\"col_heading level0 col2\" >Reservation Price</th>\n",
       "      <th class=\"col_heading level0 col3\" >Percentage Action</th>\n",
       "    </tr>\n",
       "  </thead>\n",
       "  <tbody>\n",
       "    <tr>\n",
       "      <th id=\"T_4e3c4_level0_row0\" class=\"row_heading level0 row0\" >0</th>\n",
       "      <td id=\"T_4e3c4_row0_col0\" class=\"data row0 col0\" >Joe</td>\n",
       "      <td id=\"T_4e3c4_row0_col1\" class=\"data row0 col1\" >150</td>\n",
       "      <td id=\"T_4e3c4_row0_col2\" class=\"data row0 col2\" >10.120000</td>\n",
       "      <td id=\"T_4e3c4_row0_col3\" class=\"data row0 col3\" >0.600000</td>\n",
       "    </tr>\n",
       "    <tr>\n",
       "      <th id=\"T_4e3c4_level0_row1\" class=\"row_heading level0 row1\" >1</th>\n",
       "      <td id=\"T_4e3c4_row1_col0\" class=\"data row1 col0\" >Jim</td>\n",
       "      <td id=\"T_4e3c4_row1_col1\" class=\"data row1 col1\" >200</td>\n",
       "      <td id=\"T_4e3c4_row1_col2\" class=\"data row1 col2\" >15.170000</td>\n",
       "      <td id=\"T_4e3c4_row1_col3\" class=\"data row1 col3\" >0.400000</td>\n",
       "    </tr>\n",
       "    <tr>\n",
       "      <th id=\"T_4e3c4_level0_row2\" class=\"row_heading level0 row2\" >2</th>\n",
       "      <td id=\"T_4e3c4_row2_col0\" class=\"data row2 col0\" >Mary</td>\n",
       "      <td id=\"T_4e3c4_row2_col1\" class=\"data row2 col1\" >130</td>\n",
       "      <td id=\"T_4e3c4_row2_col2\" class=\"data row2 col2\" >13.250000</td>\n",
       "      <td id=\"T_4e3c4_row2_col3\" class=\"data row2 col3\" >0.700000</td>\n",
       "    </tr>\n",
       "  </tbody>\n",
       "</table>\n"
      ],
      "text/plain": [
       "<pandas.io.formats.style.Styler at 0x1c7ffa3d908>"
      ]
     },
     "execution_count": 15,
     "metadata": {},
     "output_type": "execute_result"
    }
   ],
   "source": [
    "df.style.bar(align='zero',color='lightblue',subset=['Reservation Price'])"
   ]
  },
  {
   "cell_type": "code",
   "execution_count": null,
   "id": "402ac198",
   "metadata": {},
   "outputs": [],
   "source": []
  }
 ],
 "metadata": {
  "kernelspec": {
   "display_name": "Python 3 (ipykernel)",
   "language": "python",
   "name": "python3"
  },
  "language_info": {
   "codemirror_mode": {
    "name": "ipython",
    "version": 3
   },
   "file_extension": ".py",
   "mimetype": "text/x-python",
   "name": "python",
   "nbconvert_exporter": "python",
   "pygments_lexer": "ipython3",
   "version": "3.7.3"
  }
 },
 "nbformat": 4,
 "nbformat_minor": 5
}

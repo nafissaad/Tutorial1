{
 "cells": [
  {
   "cell_type": "code",
   "execution_count": 21,
   "id": "54c78c50",
   "metadata": {},
   "outputs": [],
   "source": [
    "from dataclasses import dataclass"
   ]
  },
  {
   "cell_type": "code",
   "execution_count": 22,
   "id": "8441052b",
   "metadata": {},
   "outputs": [
    {
     "data": {
      "text/plain": [
       "ModelInputs(starting_salary=60000, promos_every_n_years=5, cost_of_living_raised=0.02, promo_raise=0.15, savings_rate=0.25, interest_rate=0.05, desired_cash=1500000)"
      ]
     },
     "execution_count": 22,
     "metadata": {},
     "output_type": "execute_result"
    }
   ],
   "source": [
    "@dataclass\n",
    "class ModelInputs:\n",
    "    starting_salary: int = 60000\n",
    "    promos_every_n_years: int = 5\n",
    "    cost_of_living_raised: float = 0.02\n",
    "    promo_raise: float =0.15\n",
    "    savings_rate: float =0.25\n",
    "    interest_rate: float =0.05\n",
    "    desired_cash: int = 1500000\n",
    "model_data = ModelInputs()\n",
    "model_data"
   ]
  },
  {
   "cell_type": "code",
   "execution_count": 23,
   "id": "484b7c5f",
   "metadata": {},
   "outputs": [
    {
     "data": {
      "text/plain": [
       "1500000"
      ]
     },
     "execution_count": 23,
     "metadata": {},
     "output_type": "execute_result"
    }
   ],
   "source": [
    "model_data.desired_cash"
   ]
  },
  {
   "cell_type": "code",
   "execution_count": 24,
   "id": "dbcd1c2f",
   "metadata": {},
   "outputs": [],
   "source": [
    "data=model_data"
   ]
  },
  {
   "cell_type": "code",
   "execution_count": 25,
   "id": "92145b12",
   "metadata": {},
   "outputs": [
    {
     "data": {
      "text/plain": [
       "0.15"
      ]
     },
     "execution_count": 25,
     "metadata": {},
     "output_type": "execute_result"
    }
   ],
   "source": [
    "data.promo_raise"
   ]
  },
  {
   "cell_type": "code",
   "execution_count": 26,
   "id": "9bf348e2",
   "metadata": {},
   "outputs": [
    {
     "data": {
      "text/plain": [
       "2"
      ]
     },
     "execution_count": 26,
     "metadata": {},
     "output_type": "execute_result"
    }
   ],
   "source": [
    "years=14\n",
    "int(years/data.promos_every_n_years)"
   ]
  },
  {
   "cell_type": "code",
   "execution_count": 27,
   "id": "ec82a2c0",
   "metadata": {},
   "outputs": [
    {
     "data": {
      "text/plain": [
       "76181.5754208"
      ]
     },
     "execution_count": 27,
     "metadata": {},
     "output_type": "execute_result"
    }
   ],
   "source": [
    "def salary_at_year(data,year):\n",
    "    num_promos = int(year/data.promos_every_n_years)\n",
    "    salary_t = data.starting_salary*(1+data.cost_of_living_raised)**year * (1+data.promo_raise)**num_promos\n",
    "    return salary_t\n",
    "salary_at_year(data,5)"
   ]
  },
  {
   "cell_type": "code",
   "execution_count": 28,
   "id": "06ae14c8",
   "metadata": {
    "scrolled": true
   },
   "outputs": [
    {
     "name": "stdout",
     "output_type": "stream",
     "text": [
      "The salary at year 1 is $61,200\n",
      "The salary at year 2 is $62,424\n",
      "The salary at year 3 is $63,672\n",
      "The salary at year 4 is $64,946\n",
      "The salary at year 5 is $76,182\n",
      "The salary at year 6 is $77,705\n"
     ]
    }
   ],
   "source": [
    "for i in range(6):\n",
    "    year=i+1\n",
    "    salary=salary_at_year(model_data,year)\n",
    "    print(f'The salary at year {year} is ${salary:,.0f}')"
   ]
  },
  {
   "cell_type": "code",
   "execution_count": 66,
   "id": "360f7404",
   "metadata": {},
   "outputs": [
    {
     "data": {
      "text/plain": [
       "19045.3938552"
      ]
     },
     "execution_count": 66,
     "metadata": {},
     "output_type": "execute_result"
    }
   ],
   "source": [
    "year=3\n",
    "def cash_saved_during_year(data,year):\n",
    "    salary= salary_at_year(data,year)\n",
    "    cash_saved=salary*data.savings_rate\n",
    "    return cash_saved\n",
    "cash_saved_during_year(data,5)"
   ]
  },
  {
   "cell_type": "code",
   "execution_count": 78,
   "id": "e66e248b",
   "metadata": {},
   "outputs": [],
   "source": [
    "def wealth_at_year(data,year,prior_wealth):\n",
    "    cash_saved = cash_saved_during_year(data,year)\n",
    "    wealth = prior_wealth*(1 + data.interest_rate) + cash_saved\n",
    "    return wealth"
   ]
  },
  {
   "cell_type": "code",
   "execution_count": 79,
   "id": "34222ea1",
   "metadata": {},
   "outputs": [
    {
     "name": "stdout",
     "output_type": "stream",
     "text": [
      "The wealth at year 1 is $15300.\n",
      "The wealth at year 2 is $31671.\n",
      "The wealth at year 3 is $49173.\n",
      "The wealth at year 4 is $67868.\n",
      "The wealth at year 5 is $90307.\n",
      "The wealth at year 6 is $114248.\n"
     ]
    }
   ],
   "source": [
    "prior_wealth = 0\n",
    "for i in range(6):\n",
    "    year = i+ 1\n",
    "    wealth = wealth_at_year(data,year,prior_wealth)\n",
    "    print(f'The wealth at year {year} is ${wealth:.0f}.')\n",
    "    \n",
    "    prior_wealth = wealth"
   ]
  },
  {
   "cell_type": "code",
   "execution_count": null,
   "id": "6e39a8e4",
   "metadata": {},
   "outputs": [],
   "source": []
  }
 ],
 "metadata": {
  "kernelspec": {
   "display_name": "Python 3 (ipykernel)",
   "language": "python",
   "name": "python3"
  },
  "language_info": {
   "codemirror_mode": {
    "name": "ipython",
    "version": 3
   },
   "file_extension": ".py",
   "mimetype": "text/x-python",
   "name": "python",
   "nbconvert_exporter": "python",
   "pygments_lexer": "ipython3",
   "version": "3.7.3"
  }
 },
 "nbformat": 4,
 "nbformat_minor": 5
}

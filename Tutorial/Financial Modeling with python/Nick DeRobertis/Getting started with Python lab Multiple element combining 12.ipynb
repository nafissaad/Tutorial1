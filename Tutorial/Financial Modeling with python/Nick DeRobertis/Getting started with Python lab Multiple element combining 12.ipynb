{
 "cells": [
  {
   "cell_type": "code",
   "execution_count": 1,
   "id": "d32fdb52",
   "metadata": {},
   "outputs": [],
   "source": [
    "import numpy_financial as np"
   ]
  },
  {
   "cell_type": "code",
   "execution_count": 2,
   "id": "6ac72975",
   "metadata": {},
   "outputs": [],
   "source": [
    "salary=40000\n",
    "savings_rate =0.25\n",
    "investment_rate = 0.05\n",
    "desired_cash =1500000"
   ]
  },
  {
   "cell_type": "code",
   "execution_count": 3,
   "id": "4e43051e",
   "metadata": {},
   "outputs": [
    {
     "data": {
      "text/plain": [
       "10000.0"
      ]
     },
     "execution_count": 3,
     "metadata": {},
     "output_type": "execute_result"
    }
   ],
   "source": [
    "Annual_cash = salary *savings_rate\n",
    "Annual_cash"
   ]
  },
  {
   "cell_type": "code",
   "execution_count": 4,
   "id": "2cff7fe3",
   "metadata": {},
   "outputs": [],
   "source": [
    "investment_rates = [0.05,0.06,0.07]"
   ]
  },
  {
   "cell_type": "code",
   "execution_count": 5,
   "id": "0e3b1958",
   "metadata": {},
   "outputs": [
    {
     "data": {
      "text/plain": [
       "[0.05, 0.06, 0.07]"
      ]
     },
     "execution_count": 5,
     "metadata": {},
     "output_type": "execute_result"
    }
   ],
   "source": [
    "investment_rates"
   ]
  },
  {
   "cell_type": "code",
   "execution_count": 8,
   "id": "9fc5b1c7",
   "metadata": {},
   "outputs": [
    {
     "name": "stdout",
     "output_type": "stream",
     "text": [
      "1 a\n",
      "1 b\n",
      "1 b\n",
      "2 a\n",
      "2 b\n",
      "2 b\n",
      "3 a\n",
      "3 b\n",
      "3 b\n"
     ]
    }
   ],
   "source": [
    "a=[1,2,3]\n",
    "b = ['a','b','b']\n",
    "for a_item in a:\n",
    "    for b_item in b:\n",
    "        print(a_item,b_item)"
   ]
  },
  {
   "cell_type": "code",
   "execution_count": null,
   "id": "b34ff409",
   "metadata": {},
   "outputs": [],
   "source": []
  }
 ],
 "metadata": {
  "kernelspec": {
   "display_name": "Python 3 (ipykernel)",
   "language": "python",
   "name": "python3"
  },
  "language_info": {
   "codemirror_mode": {
    "name": "ipython",
    "version": 3
   },
   "file_extension": ".py",
   "mimetype": "text/x-python",
   "name": "python",
   "nbconvert_exporter": "python",
   "pygments_lexer": "ipython3",
   "version": "3.7.3"
  }
 },
 "nbformat": 4,
 "nbformat_minor": 5
}

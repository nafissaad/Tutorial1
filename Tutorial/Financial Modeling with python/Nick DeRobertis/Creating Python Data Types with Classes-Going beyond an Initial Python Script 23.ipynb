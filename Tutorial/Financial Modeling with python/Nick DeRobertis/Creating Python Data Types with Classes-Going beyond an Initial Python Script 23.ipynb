{
 "cells": [
  {
   "cell_type": "code",
   "execution_count": 23,
   "id": "0c20900a",
   "metadata": {},
   "outputs": [],
   "source": [
    "from dataclasses import dataclass"
   ]
  },
  {
   "cell_type": "code",
   "execution_count": 24,
   "id": "1fc25462",
   "metadata": {},
   "outputs": [],
   "source": [
    "@dataclass\n",
    "class ModelInputs:\n",
    "    pmt: float = 1000\n",
    "    interest_rates: tuple =(0.05,0.06,0.07)"
   ]
  },
  {
   "cell_type": "code",
   "execution_count": 25,
   "id": "ef78c0b1",
   "metadata": {},
   "outputs": [
    {
     "data": {
      "text/plain": [
       "ModelInputs(pmt=1000, interest_rates=(0.05, 0.06, 0.07))"
      ]
     },
     "execution_count": 25,
     "metadata": {},
     "output_type": "execute_result"
    }
   ],
   "source": [
    "data = ModelInputs()\n",
    "data"
   ]
  },
  {
   "cell_type": "code",
   "execution_count": 26,
   "id": "25c43f5d",
   "metadata": {},
   "outputs": [
    {
     "data": {
      "text/plain": [
       "1000"
      ]
     },
     "execution_count": 26,
     "metadata": {},
     "output_type": "execute_result"
    }
   ],
   "source": [
    "data.pmt"
   ]
  },
  {
   "cell_type": "code",
   "execution_count": 27,
   "id": "a2e7c72a",
   "metadata": {},
   "outputs": [
    {
     "data": {
      "text/plain": [
       "(0.05, 0.06, 0.07)"
      ]
     },
     "execution_count": 27,
     "metadata": {},
     "output_type": "execute_result"
    }
   ],
   "source": [
    "data.interest_rates"
   ]
  },
  {
   "cell_type": "code",
   "execution_count": 34,
   "id": "5401cecf",
   "metadata": {},
   "outputs": [
    {
     "name": "stdout",
     "output_type": "stream",
     "text": [
      "The principal for the3% rate is $33,333.33\n",
      "The principal for the4% rate is $25,000.00\n"
     ]
    }
   ],
   "source": [
    "pmt =1000\n",
    "interest_rates =(0.03,0.04)\n",
    "\n",
    "def principals_from_pmt_and_rates(pmt,rates):\n",
    "    for rate in rates:\n",
    "        principal=pmt/rate\n",
    "        print(f'The principal for the{rate:.0%} rate is ${principal:,.2f}')\n",
    "        \n",
    "principals_from_pmt_and_rates(pmt,interest_rates)"
   ]
  },
  {
   "cell_type": "code",
   "execution_count": 35,
   "id": "5afbf988",
   "metadata": {},
   "outputs": [
    {
     "name": "stdout",
     "output_type": "stream",
     "text": [
      "The principal for the3% rate is $3,333.33\n",
      "The principal for the4% rate is $2,500.00\n"
     ]
    }
   ],
   "source": [
    "data = ModelInputs(\n",
    "    pmt=100,\n",
    "    interest_rates=(0.03,0.04)\n",
    ")\n",
    "def principals_from_pmt_and_rates(data):\n",
    "    for rate in data.interest_rates:\n",
    "        principal = data.pmt/rate\n",
    "        print(f'The principal for the{rate:.0%} rate is ${principal:,.2f}')\n",
    "principals_from_pmt_and_rates(data)        "
   ]
  },
  {
   "cell_type": "code",
   "execution_count": 2,
   "id": "c694002e",
   "metadata": {},
   "outputs": [
    {
     "data": {
      "text/plain": [
       "str"
      ]
     },
     "execution_count": 2,
     "metadata": {},
     "output_type": "execute_result"
    }
   ],
   "source": [
    "type(my_str)"
   ]
  },
  {
   "cell_type": "code",
   "execution_count": 3,
   "id": "2ff7ac49",
   "metadata": {},
   "outputs": [
    {
     "data": {
      "text/plain": [
       "'10'"
      ]
     },
     "execution_count": 3,
     "metadata": {},
     "output_type": "execute_result"
    }
   ],
   "source": [
    "my_str = str(10)\n",
    "my_str"
   ]
  },
  {
   "cell_type": "code",
   "execution_count": null,
   "id": "9b0967ff",
   "metadata": {},
   "outputs": [],
   "source": []
  }
 ],
 "metadata": {
  "kernelspec": {
   "display_name": "Python 3 (ipykernel)",
   "language": "python",
   "name": "python3"
  },
  "language_info": {
   "codemirror_mode": {
    "name": "ipython",
    "version": 3
   },
   "file_extension": ".py",
   "mimetype": "text/x-python",
   "name": "python",
   "nbconvert_exporter": "python",
   "pygments_lexer": "ipython3",
   "version": "3.7.3"
  }
 },
 "nbformat": 4,
 "nbformat_minor": 5
}

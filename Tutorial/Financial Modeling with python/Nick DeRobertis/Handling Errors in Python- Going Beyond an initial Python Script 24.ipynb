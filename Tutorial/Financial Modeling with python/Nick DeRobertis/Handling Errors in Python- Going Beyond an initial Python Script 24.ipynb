{
 "cells": [
  {
   "cell_type": "code",
   "execution_count": 66,
   "id": "68f17893",
   "metadata": {},
   "outputs": [
    {
     "name": "stdout",
     "output_type": "stream",
     "text": [
      "caught the error\n"
     ]
    }
   ],
   "source": [
    "my_list =['a','b']\n",
    "try:\n",
    "    my_value = my_list[10]\n",
    "except IndexError:\n",
    "    print('caught the error')"
   ]
  },
  {
   "cell_type": "code",
   "execution_count": 67,
   "id": "3369a0b5",
   "metadata": {},
   "outputs": [
    {
     "data": {
      "text/plain": [
       "[100, 100, 100, 100, 100]"
      ]
     },
     "execution_count": 67,
     "metadata": {},
     "output_type": "execute_result"
    }
   ],
   "source": [
    "annuity =[100]*5\n",
    "annuity"
   ]
  },
  {
   "cell_type": "code",
   "execution_count": 68,
   "id": "a39c10bb",
   "metadata": {},
   "outputs": [
    {
     "data": {
      "text/plain": [
       "[[100, 100, 100, 100, 100], [0, 0, 0, 100, 100, 100, 100, 100]]"
      ]
     },
     "execution_count": 68,
     "metadata": {},
     "output_type": "execute_result"
    }
   ],
   "source": [
    "annuities=[annuity,[0,0,0]+annuity]\n",
    "annuities"
   ]
  },
  {
   "cell_type": "code",
   "execution_count": 69,
   "id": "c060b5ba",
   "metadata": {},
   "outputs": [
    {
     "data": {
      "text/plain": [
       "[0, 0, 0, 0, 0, 0, 0, 0, 0, 0]"
      ]
     },
     "execution_count": 69,
     "metadata": {},
     "output_type": "execute_result"
    }
   ],
   "source": [
    "n_years=10\n",
    "output =[0]*n_years\n",
    "output"
   ]
  },
  {
   "cell_type": "code",
   "execution_count": 70,
   "id": "ffbcdc60",
   "metadata": {},
   "outputs": [
    {
     "name": "stdout",
     "output_type": "stream",
     "text": [
      "out [0, 0, 0, 0, 0, 0, 0, 0, 0, 0]\n",
      "out [100, 0, 0, 0, 0, 0, 0, 0, 0, 0]\n",
      "out [100, 100, 0, 0, 0, 0, 0, 0, 0, 0]\n",
      "out [100, 100, 100, 0, 0, 0, 0, 0, 0, 0]\n",
      "out [100, 100, 100, 200, 0, 0, 0, 0, 0, 0]\n",
      "out [100, 100, 100, 200, 200, 0, 0, 0, 0, 0]\n",
      "out [100, 100, 100, 200, 200, 100, 0, 0, 0, 0]\n",
      "out [100, 100, 100, 200, 200, 100, 100, 0, 0, 0]\n",
      "out [100, 100, 100, 200, 200, 100, 100, 100, 0, 0]\n",
      "out [100, 100, 100, 200, 200, 100, 100, 100, 0, 0]\n",
      "[100, 100, 100, 200, 200, 100, 100, 100, 0, 0]\n"
     ]
    }
   ],
   "source": [
    "for i in range(n_years):\n",
    "    print('out',output)\n",
    "    for ann in annuities:\n",
    "        try:\n",
    "            output[i]+=ann[i]\n",
    "        except IndexError:\n",
    "            pass\n",
    "print(output)"
   ]
  },
  {
   "cell_type": "code",
   "execution_count": 74,
   "id": "36bc7a0e",
   "metadata": {},
   "outputs": [],
   "source": [
    "#x=[[0,10,20][4,5,6]],x[0] is 0 and 4,x[2] is 10 and 5\n",
    "# in eiration output gets upgrate version\n",
    "#annutites[6] has index error because [100, 100, 100, 100, 100] has 5th index but our iteration is number of year"
   ]
  },
  {
   "cell_type": "code",
   "execution_count": null,
   "id": "b85291ee",
   "metadata": {},
   "outputs": [],
   "source": []
  }
 ],
 "metadata": {
  "kernelspec": {
   "display_name": "Python 3 (ipykernel)",
   "language": "python",
   "name": "python3"
  },
  "language_info": {
   "codemirror_mode": {
    "name": "ipython",
    "version": 3
   },
   "file_extension": ".py",
   "mimetype": "text/x-python",
   "name": "python",
   "nbconvert_exporter": "python",
   "pygments_lexer": "ipython3",
   "version": "3.7.3"
  }
 },
 "nbformat": 4,
 "nbformat_minor": 5
}

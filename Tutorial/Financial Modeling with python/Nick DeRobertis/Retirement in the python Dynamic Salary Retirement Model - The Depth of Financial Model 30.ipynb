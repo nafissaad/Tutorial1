{
 "cells": [
  {
   "cell_type": "code",
   "execution_count": 1,
   "id": "54c78c50",
   "metadata": {},
   "outputs": [],
   "source": [
    "from dataclasses import dataclass"
   ]
  },
  {
   "cell_type": "code",
   "execution_count": 2,
   "id": "8441052b",
   "metadata": {},
   "outputs": [
    {
     "data": {
      "text/plain": [
       "ModelInputs(starting_salary=60000, promos_every_n_years=5, cost_of_living_raised=0.02, promo_raise=0.15, savings_rate=0.25, interest_rate=0.05, desired_cash=1500000)"
      ]
     },
     "execution_count": 2,
     "metadata": {},
     "output_type": "execute_result"
    }
   ],
   "source": [
    "@dataclass\n",
    "class ModelInputs:\n",
    "    starting_salary: int = 60000\n",
    "    promos_every_n_years: int = 5\n",
    "    cost_of_living_raised: float = 0.02\n",
    "    promo_raise: float =0.15\n",
    "    savings_rate: float =0.25\n",
    "    interest_rate: float =0.05\n",
    "    desired_cash: int = 1500000\n",
    "model_data = ModelInputs()\n",
    "model_data"
   ]
  },
  {
   "cell_type": "code",
   "execution_count": 3,
   "id": "484b7c5f",
   "metadata": {},
   "outputs": [
    {
     "data": {
      "text/plain": [
       "1500000"
      ]
     },
     "execution_count": 3,
     "metadata": {},
     "output_type": "execute_result"
    }
   ],
   "source": [
    "model_data.desired_cash"
   ]
  },
  {
   "cell_type": "code",
   "execution_count": 4,
   "id": "dbcd1c2f",
   "metadata": {},
   "outputs": [],
   "source": [
    "data=model_data"
   ]
  },
  {
   "cell_type": "code",
   "execution_count": 5,
   "id": "92145b12",
   "metadata": {},
   "outputs": [
    {
     "data": {
      "text/plain": [
       "0.15"
      ]
     },
     "execution_count": 5,
     "metadata": {},
     "output_type": "execute_result"
    }
   ],
   "source": [
    "data.promo_raise"
   ]
  },
  {
   "cell_type": "code",
   "execution_count": 6,
   "id": "9bf348e2",
   "metadata": {},
   "outputs": [
    {
     "data": {
      "text/plain": [
       "2"
      ]
     },
     "execution_count": 6,
     "metadata": {},
     "output_type": "execute_result"
    }
   ],
   "source": [
    "years=14\n",
    "int(years/data.promos_every_n_years)"
   ]
  },
  {
   "cell_type": "code",
   "execution_count": 7,
   "id": "ec82a2c0",
   "metadata": {},
   "outputs": [
    {
     "data": {
      "text/plain": [
       "76181.5754208"
      ]
     },
     "execution_count": 7,
     "metadata": {},
     "output_type": "execute_result"
    }
   ],
   "source": [
    "def salary_at_year(data,year):\n",
    "    num_promos = int(year/data.promos_every_n_years)\n",
    "    salary_t = data.starting_salary*(1+data.cost_of_living_raised)**year * (1+data.promo_raise)**num_promos\n",
    "    return salary_t\n",
    "salary_at_year(data,5)"
   ]
  },
  {
   "cell_type": "code",
   "execution_count": 8,
   "id": "06ae14c8",
   "metadata": {
    "scrolled": true
   },
   "outputs": [
    {
     "name": "stdout",
     "output_type": "stream",
     "text": [
      "The salary at year 1 is $61,200\n",
      "The salary at year 2 is $62,424\n",
      "The salary at year 3 is $63,672\n",
      "The salary at year 4 is $64,946\n",
      "The salary at year 5 is $76,182\n",
      "The salary at year 6 is $77,705\n"
     ]
    }
   ],
   "source": [
    "for i in range(6):\n",
    "    year=i+1\n",
    "    salary=salary_at_year(model_data,year)\n",
    "    print(f'The salary at year {year} is ${salary:,.0f}')"
   ]
  },
  {
   "cell_type": "code",
   "execution_count": 9,
   "id": "b175b170",
   "metadata": {},
   "outputs": [
    {
     "data": {
      "text/plain": [
       "19045.3938552"
      ]
     },
     "execution_count": 9,
     "metadata": {},
     "output_type": "execute_result"
    }
   ],
   "source": [
    "year=3\n",
    "def cash_saved_during_year(data,year):\n",
    "    salary= salary_at_year(data,year)\n",
    "    cash_saved=salary*data.savings_rate\n",
    "    return cash_saved\n",
    "cash_saved_during_year(data,5)"
   ]
  },
  {
   "cell_type": "code",
   "execution_count": 10,
   "id": "e6e758c7",
   "metadata": {},
   "outputs": [],
   "source": [
    "def wealth_at_year(data,year,prior_wealth):\n",
    "    cash_saved = cash_saved_during_year(data,year)\n",
    "    wealth = prior_wealth*(1 + data.interest_rate) + cash_saved\n",
    "    return wealth"
   ]
  },
  {
   "cell_type": "code",
   "execution_count": 11,
   "id": "b28b2d12",
   "metadata": {},
   "outputs": [
    {
     "name": "stdout",
     "output_type": "stream",
     "text": [
      "The wealth at year 1 is $15300.\n",
      "The wealth at year 2 is $31671.\n",
      "The wealth at year 3 is $49173.\n",
      "The wealth at year 4 is $67868.\n",
      "The wealth at year 5 is $90307.\n",
      "The wealth at year 6 is $114248.\n"
     ]
    }
   ],
   "source": [
    "prior_wealth = 0\n",
    "for i in range(6):\n",
    "    year = i+1\n",
    "    wealth = wealth_at_year(data,year,prior_wealth)\n",
    "    print(f'The wealth at year {year} is ${wealth:.0f}.')\n",
    "    \n",
    "    prior_wealth = wealth"
   ]
  },
  {
   "cell_type": "code",
   "execution_count": 12,
   "id": "2d278d2c",
   "metadata": {},
   "outputs": [
    {
     "name": "stdout",
     "output_type": "stream",
     "text": [
      "The wealth at year 1 is $15300.\n",
      "The wealth at year 2 is $31671.\n",
      "The wealth at year 3 is $49173.\n",
      "The wealth at year 4 is $67868.\n",
      "The wealth at year 5 is $90307.\n",
      "The wealth at year 6 is $114248.\n",
      "The wealth at year 7 is $139775.\n",
      "The wealth at year 8 is $166975.\n",
      "The wealth at year 9 is $195939.\n",
      "The wealth at year 10 is $229918.\n",
      "The wealth at year 11 is $266080.\n",
      "The wealth at year 12 is $304542.\n",
      "The wealth at year 13 is $345431.\n",
      "The wealth at year 14 is $388878.\n",
      "The wealth at year 15 is $439025.\n",
      "The wealth at year 16 is $492294.\n",
      "The wealth at year 17 is $548853.\n",
      "The wealth at year 18 is $608878.\n",
      "The wealth at year 19 is $672557.\n",
      "The wealth at year 20 is $745168.\n",
      "The wealth at year 21 is $822190.\n",
      "The wealth at year 22 is $903859.\n",
      "The wealth at year 23 is $990422.\n",
      "The wealth at year 24 is $1082140.\n",
      "The wealth at year 25 is $1185745.\n",
      "The wealth at year 26 is $1295520.\n",
      "The wealth at year 27 is $1411793.\n",
      "The wealth at year 28 is $1534910.\n",
      "\n",
      "Retirement:\n",
      "It will take 28 years to retire.\n"
     ]
    },
    {
     "data": {
      "text/plain": [
       "28"
      ]
     },
     "execution_count": 12,
     "metadata": {},
     "output_type": "execute_result"
    }
   ],
   "source": [
    "prior_wealth = 0\n",
    "wealth =0\n",
    "year=0\n",
    "while wealth < data.desired_cash:\n",
    "    year = year + 1\n",
    "    wealth = wealth_at_year(data,year,prior_wealth)\n",
    "    print(f'The wealth at year {year} is ${wealth:.0f}.')\n",
    "    \n",
    "    prior_wealth = wealth\n",
    "print('\\nRetirement:')\n",
    "print(f'It will take {year} years to retire.')\n",
    "year"
   ]
  },
  {
   "cell_type": "code",
   "execution_count": null,
   "id": "1239c9f4",
   "metadata": {},
   "outputs": [],
   "source": []
  }
 ],
 "metadata": {
  "kernelspec": {
   "display_name": "Python 3 (ipykernel)",
   "language": "python",
   "name": "python3"
  },
  "language_info": {
   "codemirror_mode": {
    "name": "ipython",
    "version": 3
   },
   "file_extension": ".py",
   "mimetype": "text/x-python",
   "name": "python",
   "nbconvert_exporter": "python",
   "pygments_lexer": "ipython3",
   "version": "3.7.3"
  }
 },
 "nbformat": 4,
 "nbformat_minor": 5
}

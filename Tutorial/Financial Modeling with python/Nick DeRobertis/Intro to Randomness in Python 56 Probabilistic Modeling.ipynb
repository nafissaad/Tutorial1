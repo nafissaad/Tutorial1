{
 "cells": [
  {
   "cell_type": "code",
   "execution_count": 1,
   "id": "64f016d2",
   "metadata": {},
   "outputs": [
    {
     "data": {
      "text/plain": [
       "0.09680891339473238"
      ]
     },
     "execution_count": 1,
     "metadata": {},
     "output_type": "execute_result"
    }
   ],
   "source": [
    "import random\n",
    "mean =0.06\n",
    "std = 0.03\n",
    "random.normalvariate(mean,std)"
   ]
  },
  {
   "cell_type": "code",
   "execution_count": 2,
   "id": "2e1e22ec",
   "metadata": {},
   "outputs": [
    {
     "data": {
      "text/plain": [
       "0.114014498325303"
      ]
     },
     "execution_count": 2,
     "metadata": {},
     "output_type": "execute_result"
    }
   ],
   "source": [
    "import numpy as np\n",
    "random_arr=np.random.normal(mean,std)\n",
    "random_arr"
   ]
  },
  {
   "cell_type": "code",
   "execution_count": 3,
   "id": "7f10e7ff",
   "metadata": {},
   "outputs": [
    {
     "data": {
      "text/plain": [
       "[0.04633364632990858,\n",
       " 0.09609076948023565,\n",
       " 0.03791224434294544,\n",
       " 0.06650993229183351,\n",
       " 0.05569139176967648,\n",
       " 0.024111609231942298,\n",
       " 0.05069406237337828,\n",
       " 0.04239566756275076,\n",
       " 0.10043463110565018,\n",
       " 0.05418564107591653]"
      ]
     },
     "execution_count": 3,
     "metadata": {},
     "output_type": "execute_result"
    }
   ],
   "source": [
    "[np.random.normal(mean,std) for i in range(10)]"
   ]
  },
  {
   "cell_type": "code",
   "execution_count": 4,
   "id": "a9ee85e3",
   "metadata": {},
   "outputs": [
    {
     "data": {
      "text/plain": [
       "array([0.0733657 , 0.01507079, 0.06242545, 0.03846243, 0.06196683,\n",
       "       0.04131059, 0.03971116, 0.09455263, 0.05698119, 0.09922729])"
      ]
     },
     "execution_count": 4,
     "metadata": {},
     "output_type": "execute_result"
    }
   ],
   "source": [
    "random_arr=np.random.normal(mean,std,10)\n",
    "random_arr"
   ]
  },
  {
   "cell_type": "code",
   "execution_count": 5,
   "id": "231a9c8d",
   "metadata": {},
   "outputs": [
    {
     "name": "stdout",
     "output_type": "stream",
     "text": [
      "0.07336570149370755\n",
      "0.015070794084565006\n",
      "0.06242544887402764\n",
      "0.03846243302581616\n",
      "0.06196683154569877\n",
      "0.041310587334457374\n",
      "0.03971116487392648\n",
      "0.09455263055893709\n",
      "0.05698119298768088\n",
      "0.09922728868474656\n"
     ]
    }
   ],
   "source": [
    "for num in random_arr:\n",
    "    print(num)"
   ]
  },
  {
   "cell_type": "code",
   "execution_count": 6,
   "id": "714b9e49",
   "metadata": {},
   "outputs": [
    {
     "data": {
      "text/plain": [
       "[0.05762985959571724,\n",
       " 0.028272512739062686,\n",
       " 0.07872136407134646,\n",
       " 0.050918693144867216,\n",
       " 0.06758309556218219,\n",
       " 0.0709327524143961,\n",
       " 0.0007592542285174211,\n",
       " 0.045428230028312803,\n",
       " 0.07295967906037112,\n",
       " 0.03759914627010651]"
      ]
     },
     "execution_count": 6,
     "metadata": {},
     "output_type": "execute_result"
    }
   ],
   "source": [
    "random_arr=list(np.random.normal(mean,std,10))\n",
    "random_arr"
   ]
  },
  {
   "cell_type": "code",
   "execution_count": 7,
   "id": "53c97d95",
   "metadata": {},
   "outputs": [
    {
     "data": {
      "text/plain": [
       "list"
      ]
     },
     "execution_count": 7,
     "metadata": {},
     "output_type": "execute_result"
    }
   ],
   "source": [
    "type(random_arr)"
   ]
  },
  {
   "cell_type": "code",
   "execution_count": null,
   "id": "effab67e",
   "metadata": {},
   "outputs": [],
   "source": []
  }
 ],
 "metadata": {
  "kernelspec": {
   "display_name": "Python 3 (ipykernel)",
   "language": "python",
   "name": "python3"
  },
  "language_info": {
   "codemirror_mode": {
    "name": "ipython",
    "version": 3
   },
   "file_extension": ".py",
   "mimetype": "text/x-python",
   "name": "python",
   "nbconvert_exporter": "python",
   "pygments_lexer": "ipython3",
   "version": "3.7.3"
  }
 },
 "nbformat": 4,
 "nbformat_minor": 5
}

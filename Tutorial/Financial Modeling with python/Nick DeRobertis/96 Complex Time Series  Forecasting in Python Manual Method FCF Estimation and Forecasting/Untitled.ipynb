{
 "cells": [
  {
   "cell_type": "code",
   "execution_count": 1,
   "id": "b61ba049",
   "metadata": {},
   "outputs": [
    {
     "name": "stdout",
     "output_type": "stream",
     "text": [
      "INFO: Was not able to extract data from the following names: {'Net Debt', 'Investments', 'Other Assets', 'Other Liabilities'}\n",
      "INFO: Was not able to extract data from the following names: {'EPS Diluted', 'Net Income Com', 'Dividend per Share', 'EBIT Margin', 'Profit Margin', 'Preferred Dividends', 'Net Profit Margin', 'Shares (basic)', 'EBITDA Margin', 'Shares (weighted, diluted)', 'Free Cash Flow margin', 'EBITDA', 'Consolidated Income', 'Net Income - Non-Controlling int', 'Gross Margin', 'Net Income - Discontinued ops', 'Gross Profit', 'Shares (weighted)', 'Earnings Before Tax Margin', 'EPS', 'Revenue Growth'}\n"
     ]
    },
    {
     "name": "stderr",
     "output_type": "stream",
     "text": [
      "C:\\Users\\nafissaad\\AppData\\Local\\Programs\\Python\\Python37\\lib\\site-packages\\finstmt\\findata\\database.py:78: UserWarning: Previously had ebit extracted from \"Operating Income\". Replacing with value from \"EBIT\"\n",
      "  warnings.warn(f'Previously had {item_config.key} '\n"
     ]
    }
   ],
   "source": [
    "from finstmt import IncomeStatements,BalanceSheets,FinancialStatements\n",
    "import pandas as pd\n",
    "\n",
    "bs_df=pd.read_excel('WMT Balance Sheet.xlsx',index_col=0)\n",
    "inc_df=pd.read_excel('WMT Income Statement.xlsx',index_col=0)\n",
    "\n",
    "bs_data=BalanceSheets.from_df(bs_df)\n",
    "inc_data=IncomeStatements.from_df(inc_df)\n",
    "stmts=FinancialStatements(inc_data,bs_data)"
   ]
  },
  {
   "cell_type": "code",
   "execution_count": 2,
   "id": "3765d101",
   "metadata": {},
   "outputs": [
    {
     "data": {
      "text/plain": [
       "<matplotlib.axes._subplots.AxesSubplot at 0x292038088d0>"
      ]
     },
     "execution_count": 2,
     "metadata": {},
     "output_type": "execute_result"
    },
    {
     "data": {
      "image/png": "[encoded data removed]",
      "text/plain": [
       "<Figure size 432x288 with 1 Axes>"
      ]
     },
     "metadata": {
      "needs_background": "light"
     },
     "output_type": "display_data"
    }
   ],
   "source": [
    "#Simple or Complex Time_Series\n",
    "%matplotlib inline\n",
    "stmts.revenue.plot.line()"
   ]
  },
  {
   "cell_type": "code",
   "execution_count": 3,
   "id": "1f25725d",
   "metadata": {},
   "outputs": [
    {
     "data": {
      "text/plain": [
       "2010-01-31    1.136220e+11\n",
       "2010-04-30    9.981100e+10\n",
       "2010-07-31    1.037260e+11\n",
       "2010-10-31    1.019520e+11\n",
       "2011-01-31    1.163600e+11\n",
       "2011-04-30    1.041890e+11\n",
       "2011-07-31    1.093660e+11\n",
       "2011-10-31    1.102260e+11\n",
       "2012-01-31    1.227280e+11\n",
       "2012-04-30    1.130100e+11\n",
       "dtype: float64"
      ]
     },
     "execution_count": 3,
     "metadata": {},
     "output_type": "execute_result"
    }
   ],
   "source": [
    "stmts.revenue.head(10)"
   ]
  },
  {
   "cell_type": "code",
   "execution_count": 4,
   "id": "fb30ddb4",
   "metadata": {},
   "outputs": [
    {
     "data": {
      "text/html": [
       "<div>\n",
       "<style scoped>\n",
       "    .dataframe tbody tr th:only-of-type {\n",
       "        vertical-align: middle;\n",
       "    }\n",
       "\n",
       "    .dataframe tbody tr th {\n",
       "        vertical-align: top;\n",
       "    }\n",
       "\n",
       "    .dataframe thead th {\n",
       "        text-align: right;\n",
       "    }\n",
       "</style>\n",
       "<table border=\"1\" class=\"dataframe\">\n",
       "  <thead>\n",
       "    <tr style=\"text-align: right;\">\n",
       "      <th></th>\n",
       "      <th>Revenue</th>\n",
       "    </tr>\n",
       "  </thead>\n",
       "  <tbody>\n",
       "    <tr>\n",
       "      <th>2010-01-31</th>\n",
       "      <td>1.136220e+11</td>\n",
       "    </tr>\n",
       "    <tr>\n",
       "      <th>2010-04-30</th>\n",
       "      <td>9.981100e+10</td>\n",
       "    </tr>\n",
       "    <tr>\n",
       "      <th>2010-07-31</th>\n",
       "      <td>1.037260e+11</td>\n",
       "    </tr>\n",
       "    <tr>\n",
       "      <th>2010-10-31</th>\n",
       "      <td>1.019520e+11</td>\n",
       "    </tr>\n",
       "    <tr>\n",
       "      <th>2011-01-31</th>\n",
       "      <td>1.163600e+11</td>\n",
       "    </tr>\n",
       "  </tbody>\n",
       "</table>\n",
       "</div>"
      ],
      "text/plain": [
       "                 Revenue\n",
       "2010-01-31  1.136220e+11\n",
       "2010-04-30  9.981100e+10\n",
       "2010-07-31  1.037260e+11\n",
       "2010-10-31  1.019520e+11\n",
       "2011-01-31  1.163600e+11"
      ]
     },
     "execution_count": 4,
     "metadata": {},
     "output_type": "execute_result"
    }
   ],
   "source": [
    "rev_df=pd.DataFrame(stmts.revenue)\n",
    "rev_df.columns=['Revenue']\n",
    "rev_df.head()"
   ]
  },
  {
   "cell_type": "code",
   "execution_count": 5,
   "id": "05752590",
   "metadata": {},
   "outputs": [
    {
     "data": {
      "text/html": [
       "<div>\n",
       "<style scoped>\n",
       "    .dataframe tbody tr th:only-of-type {\n",
       "        vertical-align: middle;\n",
       "    }\n",
       "\n",
       "    .dataframe tbody tr th {\n",
       "        vertical-align: top;\n",
       "    }\n",
       "\n",
       "    .dataframe thead th {\n",
       "        text-align: right;\n",
       "    }\n",
       "</style>\n",
       "<table border=\"1\" class=\"dataframe\">\n",
       "  <thead>\n",
       "    <tr style=\"text-align: right;\">\n",
       "      <th></th>\n",
       "      <th>Revenue</th>\n",
       "      <th>t</th>\n",
       "    </tr>\n",
       "  </thead>\n",
       "  <tbody>\n",
       "    <tr>\n",
       "      <th>2010-01-31</th>\n",
       "      <td>1.136220e+11</td>\n",
       "      <td>0</td>\n",
       "    </tr>\n",
       "    <tr>\n",
       "      <th>2010-04-30</th>\n",
       "      <td>9.981100e+10</td>\n",
       "      <td>1</td>\n",
       "    </tr>\n",
       "    <tr>\n",
       "      <th>2010-07-31</th>\n",
       "      <td>1.037260e+11</td>\n",
       "      <td>2</td>\n",
       "    </tr>\n",
       "    <tr>\n",
       "      <th>2010-10-31</th>\n",
       "      <td>1.019520e+11</td>\n",
       "      <td>3</td>\n",
       "    </tr>\n",
       "    <tr>\n",
       "      <th>2011-01-31</th>\n",
       "      <td>1.163600e+11</td>\n",
       "      <td>4</td>\n",
       "    </tr>\n",
       "  </tbody>\n",
       "</table>\n",
       "</div>"
      ],
      "text/plain": [
       "                 Revenue  t\n",
       "2010-01-31  1.136220e+11  0\n",
       "2010-04-30  9.981100e+10  1\n",
       "2010-07-31  1.037260e+11  2\n",
       "2010-10-31  1.019520e+11  3\n",
       "2011-01-31  1.163600e+11  4"
      ]
     },
     "execution_count": 5,
     "metadata": {},
     "output_type": "execute_result"
    }
   ],
   "source": [
    "rev_df['t']=range(len(rev_df))\n",
    "rev_df.head()"
   ]
  },
  {
   "cell_type": "code",
   "execution_count": 6,
   "id": "249d49c0",
   "metadata": {},
   "outputs": [
    {
     "data": {
      "text/html": [
       "<div>\n",
       "<style scoped>\n",
       "    .dataframe tbody tr th:only-of-type {\n",
       "        vertical-align: middle;\n",
       "    }\n",
       "\n",
       "    .dataframe tbody tr th {\n",
       "        vertical-align: top;\n",
       "    }\n",
       "\n",
       "    .dataframe thead th {\n",
       "        text-align: right;\n",
       "    }\n",
       "</style>\n",
       "<table border=\"1\" class=\"dataframe\">\n",
       "  <thead>\n",
       "    <tr style=\"text-align: right;\">\n",
       "      <th></th>\n",
       "      <th>Revenue</th>\n",
       "      <th>t</th>\n",
       "    </tr>\n",
       "  </thead>\n",
       "  <tbody>\n",
       "    <tr>\n",
       "      <th>2018-07-31</th>\n",
       "      <td>1.280280e+11</td>\n",
       "      <td>34</td>\n",
       "    </tr>\n",
       "    <tr>\n",
       "      <th>2018-10-31</th>\n",
       "      <td>1.248940e+11</td>\n",
       "      <td>35</td>\n",
       "    </tr>\n",
       "    <tr>\n",
       "      <th>2019-01-31</th>\n",
       "      <td>1.387930e+11</td>\n",
       "      <td>36</td>\n",
       "    </tr>\n",
       "    <tr>\n",
       "      <th>2019-04-30</th>\n",
       "      <td>1.239250e+11</td>\n",
       "      <td>37</td>\n",
       "    </tr>\n",
       "    <tr>\n",
       "      <th>2019-07-31</th>\n",
       "      <td>1.303770e+11</td>\n",
       "      <td>38</td>\n",
       "    </tr>\n",
       "  </tbody>\n",
       "</table>\n",
       "</div>"
      ],
      "text/plain": [
       "                 Revenue   t\n",
       "2018-07-31  1.280280e+11  34\n",
       "2018-10-31  1.248940e+11  35\n",
       "2019-01-31  1.387930e+11  36\n",
       "2019-04-30  1.239250e+11  37\n",
       "2019-07-31  1.303770e+11  38"
      ]
     },
     "execution_count": 6,
     "metadata": {},
     "output_type": "execute_result"
    }
   ],
   "source": [
    "rev_df.tail()"
   ]
  },
  {
   "cell_type": "code",
   "execution_count": 7,
   "id": "a9183798",
   "metadata": {},
   "outputs": [
    {
     "data": {
      "text/html": [
       "<div>\n",
       "<style scoped>\n",
       "    .dataframe tbody tr th:only-of-type {\n",
       "        vertical-align: middle;\n",
       "    }\n",
       "\n",
       "    .dataframe tbody tr th {\n",
       "        vertical-align: top;\n",
       "    }\n",
       "\n",
       "    .dataframe thead th {\n",
       "        text-align: right;\n",
       "    }\n",
       "</style>\n",
       "<table border=\"1\" class=\"dataframe\">\n",
       "  <thead>\n",
       "    <tr style=\"text-align: right;\">\n",
       "      <th></th>\n",
       "      <th>Revenue</th>\n",
       "      <th>t</th>\n",
       "      <th>Month</th>\n",
       "    </tr>\n",
       "  </thead>\n",
       "  <tbody>\n",
       "    <tr>\n",
       "      <th>2010-01-31</th>\n",
       "      <td>1.136220e+11</td>\n",
       "      <td>0</td>\n",
       "      <td>1</td>\n",
       "    </tr>\n",
       "    <tr>\n",
       "      <th>2010-04-30</th>\n",
       "      <td>9.981100e+10</td>\n",
       "      <td>1</td>\n",
       "      <td>4</td>\n",
       "    </tr>\n",
       "    <tr>\n",
       "      <th>2010-07-31</th>\n",
       "      <td>1.037260e+11</td>\n",
       "      <td>2</td>\n",
       "      <td>7</td>\n",
       "    </tr>\n",
       "    <tr>\n",
       "      <th>2010-10-31</th>\n",
       "      <td>1.019520e+11</td>\n",
       "      <td>3</td>\n",
       "      <td>10</td>\n",
       "    </tr>\n",
       "    <tr>\n",
       "      <th>2011-01-31</th>\n",
       "      <td>1.163600e+11</td>\n",
       "      <td>4</td>\n",
       "      <td>1</td>\n",
       "    </tr>\n",
       "  </tbody>\n",
       "</table>\n",
       "</div>"
      ],
      "text/plain": [
       "                 Revenue  t  Month\n",
       "2010-01-31  1.136220e+11  0      1\n",
       "2010-04-30  9.981100e+10  1      4\n",
       "2010-07-31  1.037260e+11  2      7\n",
       "2010-10-31  1.019520e+11  3     10\n",
       "2011-01-31  1.163600e+11  4      1"
      ]
     },
     "execution_count": 7,
     "metadata": {},
     "output_type": "execute_result"
    }
   ],
   "source": [
    "rev_df['Month']=[date.month for date in rev_df.index]\n",
    "rev_df.head()"
   ]
  },
  {
   "cell_type": "code",
   "execution_count": 8,
   "id": "f34a6914",
   "metadata": {},
   "outputs": [
    {
     "data": {
      "text/html": [
       "<div>\n",
       "<style scoped>\n",
       "    .dataframe tbody tr th:only-of-type {\n",
       "        vertical-align: middle;\n",
       "    }\n",
       "\n",
       "    .dataframe tbody tr th {\n",
       "        vertical-align: top;\n",
       "    }\n",
       "\n",
       "    .dataframe thead th {\n",
       "        text-align: right;\n",
       "    }\n",
       "</style>\n",
       "<table border=\"1\" class=\"dataframe\">\n",
       "  <thead>\n",
       "    <tr style=\"text-align: right;\">\n",
       "      <th></th>\n",
       "      <th>Revenue</th>\n",
       "      <th>t</th>\n",
       "      <th>Month_1</th>\n",
       "      <th>Month_4</th>\n",
       "      <th>Month_7</th>\n",
       "      <th>Month_10</th>\n",
       "    </tr>\n",
       "  </thead>\n",
       "  <tbody>\n",
       "    <tr>\n",
       "      <th>2010-01-31</th>\n",
       "      <td>1.136220e+11</td>\n",
       "      <td>0</td>\n",
       "      <td>1</td>\n",
       "      <td>0</td>\n",
       "      <td>0</td>\n",
       "      <td>0</td>\n",
       "    </tr>\n",
       "    <tr>\n",
       "      <th>2010-04-30</th>\n",
       "      <td>9.981100e+10</td>\n",
       "      <td>1</td>\n",
       "      <td>0</td>\n",
       "      <td>1</td>\n",
       "      <td>0</td>\n",
       "      <td>0</td>\n",
       "    </tr>\n",
       "    <tr>\n",
       "      <th>2010-07-31</th>\n",
       "      <td>1.037260e+11</td>\n",
       "      <td>2</td>\n",
       "      <td>0</td>\n",
       "      <td>0</td>\n",
       "      <td>1</td>\n",
       "      <td>0</td>\n",
       "    </tr>\n",
       "    <tr>\n",
       "      <th>2010-10-31</th>\n",
       "      <td>1.019520e+11</td>\n",
       "      <td>3</td>\n",
       "      <td>0</td>\n",
       "      <td>0</td>\n",
       "      <td>0</td>\n",
       "      <td>1</td>\n",
       "    </tr>\n",
       "    <tr>\n",
       "      <th>2011-01-31</th>\n",
       "      <td>1.163600e+11</td>\n",
       "      <td>4</td>\n",
       "      <td>1</td>\n",
       "      <td>0</td>\n",
       "      <td>0</td>\n",
       "      <td>0</td>\n",
       "    </tr>\n",
       "    <tr>\n",
       "      <th>2011-04-30</th>\n",
       "      <td>1.041890e+11</td>\n",
       "      <td>5</td>\n",
       "      <td>0</td>\n",
       "      <td>1</td>\n",
       "      <td>0</td>\n",
       "      <td>0</td>\n",
       "    </tr>\n",
       "    <tr>\n",
       "      <th>2011-07-31</th>\n",
       "      <td>1.093660e+11</td>\n",
       "      <td>6</td>\n",
       "      <td>0</td>\n",
       "      <td>0</td>\n",
       "      <td>1</td>\n",
       "      <td>0</td>\n",
       "    </tr>\n",
       "    <tr>\n",
       "      <th>2011-10-31</th>\n",
       "      <td>1.102260e+11</td>\n",
       "      <td>7</td>\n",
       "      <td>0</td>\n",
       "      <td>0</td>\n",
       "      <td>0</td>\n",
       "      <td>1</td>\n",
       "    </tr>\n",
       "    <tr>\n",
       "      <th>2012-01-31</th>\n",
       "      <td>1.227280e+11</td>\n",
       "      <td>8</td>\n",
       "      <td>1</td>\n",
       "      <td>0</td>\n",
       "      <td>0</td>\n",
       "      <td>0</td>\n",
       "    </tr>\n",
       "    <tr>\n",
       "      <th>2012-04-30</th>\n",
       "      <td>1.130100e+11</td>\n",
       "      <td>9</td>\n",
       "      <td>0</td>\n",
       "      <td>1</td>\n",
       "      <td>0</td>\n",
       "      <td>0</td>\n",
       "    </tr>\n",
       "  </tbody>\n",
       "</table>\n",
       "</div>"
      ],
      "text/plain": [
       "                 Revenue  t  Month_1  Month_4  Month_7  Month_10\n",
       "2010-01-31  1.136220e+11  0        1        0        0         0\n",
       "2010-04-30  9.981100e+10  1        0        1        0         0\n",
       "2010-07-31  1.037260e+11  2        0        0        1         0\n",
       "2010-10-31  1.019520e+11  3        0        0        0         1\n",
       "2011-01-31  1.163600e+11  4        1        0        0         0\n",
       "2011-04-30  1.041890e+11  5        0        1        0         0\n",
       "2011-07-31  1.093660e+11  6        0        0        1         0\n",
       "2011-10-31  1.102260e+11  7        0        0        0         1\n",
       "2012-01-31  1.227280e+11  8        1        0        0         0\n",
       "2012-04-30  1.130100e+11  9        0        1        0         0"
      ]
     },
     "execution_count": 8,
     "metadata": {},
     "output_type": "execute_result"
    }
   ],
   "source": [
    "reg_df=pd.get_dummies(rev_df,columns=['Month'])\n",
    "reg_df.head(10)"
   ]
  },
  {
   "cell_type": "code",
   "execution_count": 9,
   "id": "292e3764",
   "metadata": {},
   "outputs": [
    {
     "data": {
      "text/html": [
       "<div>\n",
       "<style scoped>\n",
       "    .dataframe tbody tr th:only-of-type {\n",
       "        vertical-align: middle;\n",
       "    }\n",
       "\n",
       "    .dataframe tbody tr th {\n",
       "        vertical-align: top;\n",
       "    }\n",
       "\n",
       "    .dataframe thead th {\n",
       "        text-align: right;\n",
       "    }\n",
       "</style>\n",
       "<table border=\"1\" class=\"dataframe\">\n",
       "  <thead>\n",
       "    <tr style=\"text-align: right;\">\n",
       "      <th></th>\n",
       "      <th>Cash</th>\n",
       "      <th>t</th>\n",
       "      <th>Month_1</th>\n",
       "      <th>Month_4</th>\n",
       "      <th>Month_7</th>\n",
       "      <th>Month_10</th>\n",
       "    </tr>\n",
       "  </thead>\n",
       "  <tbody>\n",
       "    <tr>\n",
       "      <th>2010-01-31</th>\n",
       "      <td>7.907000e+09</td>\n",
       "      <td>0</td>\n",
       "      <td>1</td>\n",
       "      <td>0</td>\n",
       "      <td>0</td>\n",
       "      <td>0</td>\n",
       "    </tr>\n",
       "    <tr>\n",
       "      <th>2010-04-30</th>\n",
       "      <td>8.516000e+09</td>\n",
       "      <td>1</td>\n",
       "      <td>0</td>\n",
       "      <td>1</td>\n",
       "      <td>0</td>\n",
       "      <td>0</td>\n",
       "    </tr>\n",
       "    <tr>\n",
       "      <th>2010-07-31</th>\n",
       "      <td>1.019500e+10</td>\n",
       "      <td>2</td>\n",
       "      <td>0</td>\n",
       "      <td>0</td>\n",
       "      <td>1</td>\n",
       "      <td>0</td>\n",
       "    </tr>\n",
       "    <tr>\n",
       "      <th>2010-10-31</th>\n",
       "      <td>1.061600e+10</td>\n",
       "      <td>3</td>\n",
       "      <td>0</td>\n",
       "      <td>0</td>\n",
       "      <td>0</td>\n",
       "      <td>1</td>\n",
       "    </tr>\n",
       "    <tr>\n",
       "      <th>2011-01-31</th>\n",
       "      <td>7.395000e+09</td>\n",
       "      <td>4</td>\n",
       "      <td>1</td>\n",
       "      <td>0</td>\n",
       "      <td>0</td>\n",
       "      <td>0</td>\n",
       "    </tr>\n",
       "  </tbody>\n",
       "</table>\n",
       "</div>"
      ],
      "text/plain": [
       "                    Cash  t  Month_1  Month_4  Month_7  Month_10\n",
       "2010-01-31  7.907000e+09  0        1        0        0         0\n",
       "2010-04-30  8.516000e+09  1        0        1        0         0\n",
       "2010-07-31  1.019500e+10  2        0        0        1         0\n",
       "2010-10-31  1.061600e+10  3        0        0        0         1\n",
       "2011-01-31  7.395000e+09  4        1        0        0         0"
      ]
     },
     "execution_count": 9,
     "metadata": {},
     "output_type": "execute_result"
    }
   ],
   "source": [
    "def df_monthly_dummmies_from_by_date_series(series,column_name):\n",
    "    '''\n",
    "    Take a series which has dates as the index, and creates a DataFrame with dummy variables from month of those dates\n",
    "    '''\n",
    "    df=pd.DataFrame(series)\n",
    "    df.columns=[column_name]\n",
    "    df['t']=range(len(rev_df))\n",
    "    df['Month']=[date.month for date in df.index]\n",
    "    reg_df=pd.get_dummies(df,columns=['Month'])\n",
    "    return reg_df\n",
    "df_monthly_dummmies_from_by_date_series(stmts.cash,'Cash').head()"
   ]
  },
  {
   "cell_type": "code",
   "execution_count": 10,
   "id": "fccae92b",
   "metadata": {},
   "outputs": [
    {
     "data": {
      "text/plain": [
       "['Month_1', 'Month_4', 'Month_7', 'Month_10']"
      ]
     },
     "execution_count": 10,
     "metadata": {},
     "output_type": "execute_result"
    }
   ],
   "source": [
    "month_col=[col for col in reg_df.columns if 'Month' in col]\n",
    "month_col"
   ]
  },
  {
   "cell_type": "code",
   "execution_count": 11,
   "id": "d4dcf50a",
   "metadata": {},
   "outputs": [
    {
     "data": {
      "text/plain": [
       "['t', 'Month_1', 'Month_4', 'Month_7', 'Month_10']"
      ]
     },
     "execution_count": 11,
     "metadata": {},
     "output_type": "execute_result"
    }
   ],
   "source": [
    "x_cols=['t']+month_col\n",
    "x_cols"
   ]
  },
  {
   "cell_type": "code",
   "execution_count": 12,
   "id": "1dbcd928",
   "metadata": {},
   "outputs": [
    {
     "data": {
      "text/html": [
       "<table class=\"simpletable\">\n",
       "<caption>OLS Regression Results</caption>\n",
       "<tr>\n",
       "  <th>Dep. Variable:</th>         <td>Revenue</td>     <th>  R-squared:         </th> <td>   0.931</td>\n",
       "</tr>\n",
       "<tr>\n",
       "  <th>Model:</th>                   <td>OLS</td>       <th>  Adj. R-squared:    </th> <td>   0.923</td>\n",
       "</tr>\n",
       "<tr>\n",
       "  <th>Method:</th>             <td>Least Squares</td>  <th>  F-statistic:       </th> <td>   115.4</td>\n",
       "</tr>\n",
       "<tr>\n",
       "  <th>Date:</th>             <td>Sat, 21 Jan 2023</td> <th>  Prob (F-statistic):</th> <td>2.79e-19</td>\n",
       "</tr>\n",
       "<tr>\n",
       "  <th>Time:</th>                 <td>14:52:33</td>     <th>  Log-Likelihood:    </th> <td> -896.78</td>\n",
       "</tr>\n",
       "<tr>\n",
       "  <th>No. Observations:</th>      <td>    39</td>      <th>  AIC:               </th> <td>   1804.</td>\n",
       "</tr>\n",
       "<tr>\n",
       "  <th>Df Residuals:</th>          <td>    34</td>      <th>  BIC:               </th> <td>   1812.</td>\n",
       "</tr>\n",
       "<tr>\n",
       "  <th>Df Model:</th>              <td>     4</td>      <th>                     </th>     <td> </td>   \n",
       "</tr>\n",
       "<tr>\n",
       "  <th>Covariance Type:</th>      <td>nonrobust</td>    <th>                     </th>     <td> </td>   \n",
       "</tr>\n",
       "</table>\n",
       "<table class=\"simpletable\">\n",
       "<tr>\n",
       "      <td></td>        <th>coef</th>     <th>std err</th>      <th>t</th>      <th>P>|t|</th>  <th>[0.025</th>    <th>0.975]</th>  \n",
       "</tr>\n",
       "<tr>\n",
       "  <th>const</th>    <td> 8.605e+10</td> <td> 6.32e+08</td> <td>  136.083</td> <td> 0.000</td> <td> 8.48e+10</td> <td> 8.73e+10</td>\n",
       "</tr>\n",
       "<tr>\n",
       "  <th>t</th>        <td> 6.095e+08</td> <td> 3.58e+07</td> <td>   17.022</td> <td> 0.000</td> <td> 5.37e+08</td> <td> 6.82e+08</td>\n",
       "</tr>\n",
       "<tr>\n",
       "  <th>Month_1</th>  <td> 3.072e+10</td> <td> 7.02e+08</td> <td>   43.785</td> <td> 0.000</td> <td> 2.93e+10</td> <td> 3.21e+10</td>\n",
       "</tr>\n",
       "<tr>\n",
       "  <th>Month_4</th>  <td> 1.646e+10</td> <td> 7.08e+08</td> <td>   23.262</td> <td> 0.000</td> <td>  1.5e+10</td> <td> 1.79e+10</td>\n",
       "</tr>\n",
       "<tr>\n",
       "  <th>Month_7</th>  <td> 2.047e+10</td> <td> 7.15e+08</td> <td>   28.623</td> <td> 0.000</td> <td>  1.9e+10</td> <td> 2.19e+10</td>\n",
       "</tr>\n",
       "<tr>\n",
       "  <th>Month_10</th> <td>  1.84e+10</td> <td> 7.37e+08</td> <td>   24.981</td> <td> 0.000</td> <td> 1.69e+10</td> <td> 1.99e+10</td>\n",
       "</tr>\n",
       "</table>\n",
       "<table class=\"simpletable\">\n",
       "<tr>\n",
       "  <th>Omnibus:</th>       <td> 2.366</td> <th>  Durbin-Watson:     </th> <td>   0.338</td>\n",
       "</tr>\n",
       "<tr>\n",
       "  <th>Prob(Omnibus):</th> <td> 0.306</td> <th>  Jarque-Bera (JB):  </th> <td>   1.341</td>\n",
       "</tr>\n",
       "<tr>\n",
       "  <th>Skew:</th>          <td> 0.090</td> <th>  Prob(JB):          </th> <td>   0.512</td>\n",
       "</tr>\n",
       "<tr>\n",
       "  <th>Kurtosis:</th>      <td> 2.110</td> <th>  Cond. No.          </th> <td>9.48e+16</td>\n",
       "</tr>\n",
       "</table><br/><br/>Notes:<br/>[1] Standard Errors assume that the covariance matrix of the errors is correctly specified.<br/>[2] The smallest eigenvalue is 2.12e-30. This might indicate that there are<br/>strong multicollinearity problems or that the design matrix is singular."
      ],
      "text/plain": [
       "<class 'statsmodels.iolib.summary.Summary'>\n",
       "\"\"\"\n",
       "                            OLS Regression Results                            \n",
       "==============================================================================\n",
       "Dep. Variable:                Revenue   R-squared:                       0.931\n",
       "Model:                            OLS   Adj. R-squared:                  0.923\n",
       "Method:                 Least Squares   F-statistic:                     115.4\n",
       "Date:                Sat, 21 Jan 2023   Prob (F-statistic):           2.79e-19\n",
       "Time:                        14:52:33   Log-Likelihood:                -896.78\n",
       "No. Observations:                  39   AIC:                             1804.\n",
       "Df Residuals:                      34   BIC:                             1812.\n",
       "Df Model:                           4                                         \n",
       "Covariance Type:            nonrobust                                         \n",
       "==============================================================================\n",
       "                 coef    std err          t      P>|t|      [0.025      0.975]\n",
       "------------------------------------------------------------------------------\n",
       "const       8.605e+10   6.32e+08    136.083      0.000    8.48e+10    8.73e+10\n",
       "t           6.095e+08   3.58e+07     17.022      0.000    5.37e+08    6.82e+08\n",
       "Month_1     3.072e+10   7.02e+08     43.785      0.000    2.93e+10    3.21e+10\n",
       "Month_4     1.646e+10   7.08e+08     23.262      0.000     1.5e+10    1.79e+10\n",
       "Month_7     2.047e+10   7.15e+08     28.623      0.000     1.9e+10    2.19e+10\n",
       "Month_10     1.84e+10   7.37e+08     24.981      0.000    1.69e+10    1.99e+10\n",
       "==============================================================================\n",
       "Omnibus:                        2.366   Durbin-Watson:                   0.338\n",
       "Prob(Omnibus):                  0.306   Jarque-Bera (JB):                1.341\n",
       "Skew:                           0.090   Prob(JB):                        0.512\n",
       "Kurtosis:                       2.110   Cond. No.                     9.48e+16\n",
       "==============================================================================\n",
       "\n",
       "Notes:\n",
       "[1] Standard Errors assume that the covariance matrix of the errors is correctly specified.\n",
       "[2] The smallest eigenvalue is 2.12e-30. This might indicate that there are\n",
       "strong multicollinearity problems or that the design matrix is singular.\n",
       "\"\"\""
      ]
     },
     "execution_count": 12,
     "metadata": {},
     "output_type": "execute_result"
    }
   ],
   "source": [
    "import statsmodels.api as sm\n",
    "model=sm.OLS(reg_df['Revenue'],sm.add_constant(reg_df[x_cols]),hasconst=True)\n",
    "results=model.fit()\n",
    "results.summary()"
   ]
  },
  {
   "cell_type": "code",
   "execution_count": 13,
   "id": "fe4d9dfb",
   "metadata": {},
   "outputs": [
    {
     "data": {
      "text/plain": [
       "39"
      ]
     },
     "execution_count": 13,
     "metadata": {},
     "output_type": "execute_result"
    }
   ],
   "source": [
    "last_t=reg_df['t'].max()\n",
    "t=last_t + 1\n",
    "t"
   ]
  },
  {
   "cell_type": "code",
   "execution_count": 14,
   "id": "da925be2",
   "metadata": {},
   "outputs": [
    {
     "data": {
      "text/plain": [
       "Timestamp('2019-07-31 00:00:00')"
      ]
     },
     "execution_count": 14,
     "metadata": {},
     "output_type": "execute_result"
    }
   ],
   "source": [
    "last_q=reg_df.index.max()\n",
    "last_q"
   ]
  },
  {
   "cell_type": "code",
   "execution_count": 15,
   "id": "534baff2",
   "metadata": {},
   "outputs": [
    {
     "data": {
      "text/plain": [
       "128225479674.79669"
      ]
     },
     "execution_count": 15,
     "metadata": {},
     "output_type": "execute_result"
    }
   ],
   "source": [
    "fcst=results.params['const']+results.params['t']*t + results.params['Month_10']\n",
    "fcst"
   ]
  },
  {
   "cell_type": "code",
   "execution_count": 16,
   "id": "f9a2af61",
   "metadata": {},
   "outputs": [
    {
     "data": {
      "text/plain": [
       "DatetimeIndex(['2019-07-31', '2019-10-31', '2020-01-31', '2020-04-30',\n",
       "               '2020-07-31', '2020-10-31', '2021-01-31', '2021-04-30',\n",
       "               '2021-07-31', '2021-10-31', '2022-01-31', '2022-04-30'],\n",
       "              dtype='datetime64[ns]', freq='3M')"
      ]
     },
     "execution_count": 16,
     "metadata": {},
     "output_type": "execute_result"
    }
   ],
   "source": [
    "fcst_dates=pd.date_range(start=last_q,freq='3M',periods=12)\n",
    "fcst_dates"
   ]
  },
  {
   "cell_type": "code",
   "execution_count": 17,
   "id": "c0753ee7",
   "metadata": {},
   "outputs": [
    {
     "name": "stdout",
     "output_type": "stream",
     "text": [
      "0\n",
      "2019-07-31 00:00:00\n",
      "1\n",
      "2019-10-31 00:00:00\n",
      "2\n",
      "2020-01-31 00:00:00\n",
      "3\n",
      "2020-04-30 00:00:00\n",
      "4\n",
      "2020-07-31 00:00:00\n",
      "5\n",
      "2020-10-31 00:00:00\n",
      "6\n",
      "2021-01-31 00:00:00\n",
      "7\n",
      "2021-04-30 00:00:00\n",
      "8\n",
      "2021-07-31 00:00:00\n",
      "9\n",
      "2021-10-31 00:00:00\n",
      "10\n",
      "2022-01-31 00:00:00\n",
      "11\n",
      "2022-04-30 00:00:00\n"
     ]
    }
   ],
   "source": [
    "for i, date in enumerate(fcst_dates):\n",
    "    print(i)\n",
    "    print(date)"
   ]
  },
  {
   "cell_type": "code",
   "execution_count": 18,
   "id": "2f16674d",
   "metadata": {},
   "outputs": [
    {
     "data": {
      "text/plain": [
       "{Timestamp('2019-07-31 00:00:00', freq='3M'): 130296889024.39017,\n",
       " Timestamp('2019-10-31 00:00:00', freq='3M'): 128834936991.86984,\n",
       " Timestamp('2020-01-31 00:00:00', freq='3M'): 141759518292.68292,\n",
       " Timestamp('2020-04-30 00:00:00', freq='3M'): 128110218292.68286,\n",
       " Timestamp('2020-07-31 00:00:00', freq='3M'): 132734718292.68286,\n",
       " Timestamp('2020-10-31 00:00:00', freq='3M'): 131272766260.16254,\n",
       " Timestamp('2021-01-31 00:00:00', freq='3M'): 144197347560.9756,\n",
       " Timestamp('2021-04-30 00:00:00', freq='3M'): 130548047560.97552,\n",
       " Timestamp('2021-07-31 00:00:00', freq='3M'): 135172547560.97552,\n",
       " Timestamp('2021-10-31 00:00:00', freq='3M'): 133710595528.4552,\n",
       " Timestamp('2022-01-31 00:00:00', freq='3M'): 146635176829.26828,\n",
       " Timestamp('2022-04-30 00:00:00', freq='3M'): 132985876829.26822}"
      ]
     },
     "execution_count": 18,
     "metadata": {},
     "output_type": "execute_result"
    }
   ],
   "source": [
    "forecasts={}\n",
    "for i, date in enumerate(fcst_dates):\n",
    "    t_offset=i+1\n",
    "    t=last_t+t_offset\n",
    "    month=date.month\n",
    "    forecasts[date]=results.params['const']+results.params['t']*t + results.params[f'Month_{month}']\n",
    "forecasts"
   ]
  },
  {
   "cell_type": "code",
   "execution_count": 19,
   "id": "f1090adb",
   "metadata": {},
   "outputs": [
    {
     "data": {
      "text/plain": [
       "2019-07-31    1.302969e+11\n",
       "2019-10-31    1.288349e+11\n",
       "2020-01-31    1.417595e+11\n",
       "2020-04-30    1.281102e+11\n",
       "2020-07-31    1.327347e+11\n",
       "2020-10-31    1.312728e+11\n",
       "2021-01-31    1.441973e+11\n",
       "2021-04-30    1.305480e+11\n",
       "2021-07-31    1.351725e+11\n",
       "2021-10-31    1.337106e+11\n",
       "2022-01-31    1.466352e+11\n",
       "2022-04-30    1.329859e+11\n",
       "dtype: float64"
      ]
     },
     "execution_count": 19,
     "metadata": {},
     "output_type": "execute_result"
    }
   ],
   "source": [
    "fcst_series=pd.Series(forecasts)\n",
    "fcst_series"
   ]
  },
  {
   "cell_type": "code",
   "execution_count": 20,
   "id": "8cbdb0a1",
   "metadata": {},
   "outputs": [
    {
     "data": {
      "text/plain": [
       "<matplotlib.axes._subplots.AxesSubplot at 0x29203de2978>"
      ]
     },
     "execution_count": 20,
     "metadata": {},
     "output_type": "execute_result"
    },
    {
     "data": {
      "image/png": "[encoded data removed]",
      "text/plain": [
       "<Figure size 432x288 with 1 Axes>"
      ]
     },
     "metadata": {
      "needs_background": "light"
     },
     "output_type": "display_data"
    }
   ],
   "source": [
    "fcst_series.plot.line()"
   ]
  },
  {
   "cell_type": "code",
   "execution_count": 21,
   "id": "7a0d43b1",
   "metadata": {},
   "outputs": [
    {
     "data": {
      "text/plain": [
       "<matplotlib.axes._subplots.AxesSubplot at 0x29203a6d748>"
      ]
     },
     "execution_count": 21,
     "metadata": {},
     "output_type": "execute_result"
    },
    {
     "data": {
      "image/png": "[encoded data removed]",
      "text/plain": [
       "<Figure size 432x288 with 1 Axes>"
      ]
     },
     "metadata": {
      "needs_background": "light"
     },
     "output_type": "display_data"
    }
   ],
   "source": [
    "full_series=pd.concat([stmts.revenue,fcst_series])\n",
    "full_series.plot.line()"
   ]
  },
  {
   "cell_type": "code",
   "execution_count": 22,
   "id": "add708e1",
   "metadata": {},
   "outputs": [],
   "source": [
    "full_series=pd.DataFrame(full_series)"
   ]
  },
  {
   "cell_type": "code",
   "execution_count": 23,
   "id": "63776cb4",
   "metadata": {},
   "outputs": [
    {
     "data": {
      "text/html": [
       "<div>\n",
       "<style scoped>\n",
       "    .dataframe tbody tr th:only-of-type {\n",
       "        vertical-align: middle;\n",
       "    }\n",
       "\n",
       "    .dataframe tbody tr th {\n",
       "        vertical-align: top;\n",
       "    }\n",
       "\n",
       "    .dataframe thead th {\n",
       "        text-align: right;\n",
       "    }\n",
       "</style>\n",
       "<table border=\"1\" class=\"dataframe\">\n",
       "  <thead>\n",
       "    <tr style=\"text-align: right;\">\n",
       "      <th></th>\n",
       "      <th>Revenue</th>\n",
       "    </tr>\n",
       "  </thead>\n",
       "  <tbody>\n",
       "    <tr>\n",
       "      <th>2010-01-31</th>\n",
       "      <td>1.136220e+11</td>\n",
       "    </tr>\n",
       "    <tr>\n",
       "      <th>2010-04-30</th>\n",
       "      <td>9.981100e+10</td>\n",
       "    </tr>\n",
       "    <tr>\n",
       "      <th>2010-07-31</th>\n",
       "      <td>1.037260e+11</td>\n",
       "    </tr>\n",
       "    <tr>\n",
       "      <th>2010-10-31</th>\n",
       "      <td>1.019520e+11</td>\n",
       "    </tr>\n",
       "    <tr>\n",
       "      <th>2011-01-31</th>\n",
       "      <td>1.163600e+11</td>\n",
       "    </tr>\n",
       "    <tr>\n",
       "      <th>2011-04-30</th>\n",
       "      <td>1.041890e+11</td>\n",
       "    </tr>\n",
       "    <tr>\n",
       "      <th>2011-07-31</th>\n",
       "      <td>1.093660e+11</td>\n",
       "    </tr>\n",
       "    <tr>\n",
       "      <th>2011-10-31</th>\n",
       "      <td>1.102260e+11</td>\n",
       "    </tr>\n",
       "    <tr>\n",
       "      <th>2012-01-31</th>\n",
       "      <td>1.227280e+11</td>\n",
       "    </tr>\n",
       "    <tr>\n",
       "      <th>2012-04-30</th>\n",
       "      <td>1.130100e+11</td>\n",
       "    </tr>\n",
       "    <tr>\n",
       "      <th>2012-07-31</th>\n",
       "      <td>1.142820e+11</td>\n",
       "    </tr>\n",
       "    <tr>\n",
       "      <th>2012-10-31</th>\n",
       "      <td>1.138000e+11</td>\n",
       "    </tr>\n",
       "    <tr>\n",
       "      <th>2013-01-31</th>\n",
       "      <td>1.277760e+11</td>\n",
       "    </tr>\n",
       "    <tr>\n",
       "      <th>2013-04-30</th>\n",
       "      <td>1.140700e+11</td>\n",
       "    </tr>\n",
       "    <tr>\n",
       "      <th>2013-07-31</th>\n",
       "      <td>1.168300e+11</td>\n",
       "    </tr>\n",
       "    <tr>\n",
       "      <th>2013-10-31</th>\n",
       "      <td>1.156880e+11</td>\n",
       "    </tr>\n",
       "    <tr>\n",
       "      <th>2014-01-31</th>\n",
       "      <td>1.297060e+11</td>\n",
       "    </tr>\n",
       "    <tr>\n",
       "      <th>2014-04-30</th>\n",
       "      <td>1.149600e+11</td>\n",
       "    </tr>\n",
       "    <tr>\n",
       "      <th>2014-07-31</th>\n",
       "      <td>1.201250e+11</td>\n",
       "    </tr>\n",
       "    <tr>\n",
       "      <th>2014-10-31</th>\n",
       "      <td>1.190010e+11</td>\n",
       "    </tr>\n",
       "    <tr>\n",
       "      <th>2015-01-31</th>\n",
       "      <td>1.315650e+11</td>\n",
       "    </tr>\n",
       "    <tr>\n",
       "      <th>2015-04-30</th>\n",
       "      <td>1.148260e+11</td>\n",
       "    </tr>\n",
       "    <tr>\n",
       "      <th>2015-07-31</th>\n",
       "      <td>1.202290e+11</td>\n",
       "    </tr>\n",
       "    <tr>\n",
       "      <th>2015-10-31</th>\n",
       "      <td>1.174080e+11</td>\n",
       "    </tr>\n",
       "    <tr>\n",
       "      <th>2016-01-31</th>\n",
       "      <td>1.296670e+11</td>\n",
       "    </tr>\n",
       "    <tr>\n",
       "      <th>2016-04-30</th>\n",
       "      <td>1.159040e+11</td>\n",
       "    </tr>\n",
       "    <tr>\n",
       "      <th>2016-07-31</th>\n",
       "      <td>1.208540e+11</td>\n",
       "    </tr>\n",
       "    <tr>\n",
       "      <th>2016-10-31</th>\n",
       "      <td>1.181790e+11</td>\n",
       "    </tr>\n",
       "    <tr>\n",
       "      <th>2017-01-31</th>\n",
       "      <td>1.309360e+11</td>\n",
       "    </tr>\n",
       "    <tr>\n",
       "      <th>2017-04-30</th>\n",
       "      <td>1.175420e+11</td>\n",
       "    </tr>\n",
       "    <tr>\n",
       "      <th>2017-07-31</th>\n",
       "      <td>1.233550e+11</td>\n",
       "    </tr>\n",
       "    <tr>\n",
       "      <th>2017-10-31</th>\n",
       "      <td>1.231790e+11</td>\n",
       "    </tr>\n",
       "    <tr>\n",
       "      <th>2018-01-31</th>\n",
       "      <td>1.362670e+11</td>\n",
       "    </tr>\n",
       "    <tr>\n",
       "      <th>2018-04-30</th>\n",
       "      <td>1.226900e+11</td>\n",
       "    </tr>\n",
       "    <tr>\n",
       "      <th>2018-07-31</th>\n",
       "      <td>1.280280e+11</td>\n",
       "    </tr>\n",
       "    <tr>\n",
       "      <th>2018-10-31</th>\n",
       "      <td>1.248940e+11</td>\n",
       "    </tr>\n",
       "    <tr>\n",
       "      <th>2019-01-31</th>\n",
       "      <td>1.387930e+11</td>\n",
       "    </tr>\n",
       "    <tr>\n",
       "      <th>2019-04-30</th>\n",
       "      <td>1.239250e+11</td>\n",
       "    </tr>\n",
       "    <tr>\n",
       "      <th>2019-07-31</th>\n",
       "      <td>1.303770e+11</td>\n",
       "    </tr>\n",
       "    <tr>\n",
       "      <th>2019-07-31</th>\n",
       "      <td>1.302969e+11</td>\n",
       "    </tr>\n",
       "    <tr>\n",
       "      <th>2019-10-31</th>\n",
       "      <td>1.288349e+11</td>\n",
       "    </tr>\n",
       "    <tr>\n",
       "      <th>2020-01-31</th>\n",
       "      <td>1.417595e+11</td>\n",
       "    </tr>\n",
       "    <tr>\n",
       "      <th>2020-04-30</th>\n",
       "      <td>1.281102e+11</td>\n",
       "    </tr>\n",
       "    <tr>\n",
       "      <th>2020-07-31</th>\n",
       "      <td>1.327347e+11</td>\n",
       "    </tr>\n",
       "    <tr>\n",
       "      <th>2020-10-31</th>\n",
       "      <td>1.312728e+11</td>\n",
       "    </tr>\n",
       "    <tr>\n",
       "      <th>2021-01-31</th>\n",
       "      <td>1.441973e+11</td>\n",
       "    </tr>\n",
       "    <tr>\n",
       "      <th>2021-04-30</th>\n",
       "      <td>1.305480e+11</td>\n",
       "    </tr>\n",
       "    <tr>\n",
       "      <th>2021-07-31</th>\n",
       "      <td>1.351725e+11</td>\n",
       "    </tr>\n",
       "    <tr>\n",
       "      <th>2021-10-31</th>\n",
       "      <td>1.337106e+11</td>\n",
       "    </tr>\n",
       "    <tr>\n",
       "      <th>2022-01-31</th>\n",
       "      <td>1.466352e+11</td>\n",
       "    </tr>\n",
       "    <tr>\n",
       "      <th>2022-04-30</th>\n",
       "      <td>1.329859e+11</td>\n",
       "    </tr>\n",
       "  </tbody>\n",
       "</table>\n",
       "</div>"
      ],
      "text/plain": [
       "                 Revenue\n",
       "2010-01-31  1.136220e+11\n",
       "2010-04-30  9.981100e+10\n",
       "2010-07-31  1.037260e+11\n",
       "2010-10-31  1.019520e+11\n",
       "2011-01-31  1.163600e+11\n",
       "2011-04-30  1.041890e+11\n",
       "2011-07-31  1.093660e+11\n",
       "2011-10-31  1.102260e+11\n",
       "2012-01-31  1.227280e+11\n",
       "2012-04-30  1.130100e+11\n",
       "2012-07-31  1.142820e+11\n",
       "2012-10-31  1.138000e+11\n",
       "2013-01-31  1.277760e+11\n",
       "2013-04-30  1.140700e+11\n",
       "2013-07-31  1.168300e+11\n",
       "2013-10-31  1.156880e+11\n",
       "2014-01-31  1.297060e+11\n",
       "2014-04-30  1.149600e+11\n",
       "2014-07-31  1.201250e+11\n",
       "2014-10-31  1.190010e+11\n",
       "2015-01-31  1.315650e+11\n",
       "2015-04-30  1.148260e+11\n",
       "2015-07-31  1.202290e+11\n",
       "2015-10-31  1.174080e+11\n",
       "2016-01-31  1.296670e+11\n",
       "2016-04-30  1.159040e+11\n",
       "2016-07-31  1.208540e+11\n",
       "2016-10-31  1.181790e+11\n",
       "2017-01-31  1.309360e+11\n",
       "2017-04-30  1.175420e+11\n",
       "2017-07-31  1.233550e+11\n",
       "2017-10-31  1.231790e+11\n",
       "2018-01-31  1.362670e+11\n",
       "2018-04-30  1.226900e+11\n",
       "2018-07-31  1.280280e+11\n",
       "2018-10-31  1.248940e+11\n",
       "2019-01-31  1.387930e+11\n",
       "2019-04-30  1.239250e+11\n",
       "2019-07-31  1.303770e+11\n",
       "2019-07-31  1.302969e+11\n",
       "2019-10-31  1.288349e+11\n",
       "2020-01-31  1.417595e+11\n",
       "2020-04-30  1.281102e+11\n",
       "2020-07-31  1.327347e+11\n",
       "2020-10-31  1.312728e+11\n",
       "2021-01-31  1.441973e+11\n",
       "2021-04-30  1.305480e+11\n",
       "2021-07-31  1.351725e+11\n",
       "2021-10-31  1.337106e+11\n",
       "2022-01-31  1.466352e+11\n",
       "2022-04-30  1.329859e+11"
      ]
     },
     "execution_count": 23,
     "metadata": {},
     "output_type": "execute_result"
    }
   ],
   "source": [
    "full_series.rename(columns={0:'Revenue'},inplace = True)\n",
    "full_series"
   ]
  },
  {
   "cell_type": "code",
   "execution_count": 24,
   "id": "206e612a",
   "metadata": {},
   "outputs": [
    {
     "data": {
      "image/png": "[encoded data removed]",
      "text/plain": [
       "<Figure size 432x288 with 1 Axes>"
      ]
     },
     "metadata": {
      "needs_background": "light"
     },
     "output_type": "display_data"
    }
   ],
   "source": [
    "import matplotlib.pyplot as plt\n",
    "import numpy as np\n",
    "plt.plot(np.array(full_series.index),full_series.Revenue.values,label='Predicted')\n",
    "plt.plot(np.array(reg_df.index),reg_df.Revenue.values,label='Actual')\n",
    "plt.legend()\n",
    "plt.show()"
   ]
  }
 ],
 "metadata": {
  "kernelspec": {
   "display_name": "Python 3 (ipykernel)",
   "language": "python",
   "name": "python3"
  },
  "language_info": {
   "codemirror_mode": {
    "name": "ipython",
    "version": 3
   },
   "file_extension": ".py",
   "mimetype": "text/x-python",
   "name": "python",
   "nbconvert_exporter": "python",
   "pygments_lexer": "ipython3",
   "version": "3.7.3"
  }
 },
 "nbformat": 4,
 "nbformat_minor": 5
}

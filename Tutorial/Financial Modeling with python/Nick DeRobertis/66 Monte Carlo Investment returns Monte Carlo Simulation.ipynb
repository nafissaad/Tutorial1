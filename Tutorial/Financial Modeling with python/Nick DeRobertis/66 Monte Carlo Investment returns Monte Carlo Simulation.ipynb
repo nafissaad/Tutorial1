{
 "cells": [
  {
   "cell_type": "code",
   "execution_count": 7,
   "id": "c555a212",
   "metadata": {},
   "outputs": [
    {
     "data": {
      "text/plain": [
       "0.065"
      ]
     },
     "execution_count": 7,
     "metadata": {},
     "output_type": "execute_result"
    }
   ],
   "source": [
    "stock_ret=0.1\n",
    "rf=0.03\n",
    "stock_weight=0.5\n",
    "portfolio_ret=rf*(1-stock_weight)+stock_ret*stock_weight\n",
    "portfolio_ret"
   ]
  },
  {
   "cell_type": "code",
   "execution_count": 9,
   "id": "a01c81aa",
   "metadata": {},
   "outputs": [
    {
     "data": {
      "text/plain": [
       "1065.0"
      ]
     },
     "execution_count": 9,
     "metadata": {},
     "output_type": "execute_result"
    }
   ],
   "source": [
    "portfolio_initial_value=1000\n",
    "portfolio_end_values=portfolio_initial_value*(1+portfolio_ret)\n",
    "portfolio_end_values"
   ]
  },
  {
   "cell_type": "code",
   "execution_count": 12,
   "id": "eae791c2",
   "metadata": {},
   "outputs": [
    {
     "data": {
      "text/plain": [
       "106.5"
      ]
     },
     "execution_count": 12,
     "metadata": {},
     "output_type": "execute_result"
    }
   ],
   "source": [
    "def port_end_value(stock_ret=0.1,rf=0.03,stock_weight=0.5,portfolio_initial_value=100):\n",
    "    portfolio_ret=rf*(1-stock_weight)+stock_ret*stock_weight\n",
    "    portfolio_end_value=portfolio_initial_value*(1+portfolio_ret)\n",
    "    return portfolio_end_value\n",
    "port_end_value()"
   ]
  },
  {
   "cell_type": "code",
   "execution_count": 13,
   "id": "78d872c4",
   "metadata": {},
   "outputs": [
    {
     "data": {
      "text/plain": [
       "104.4"
      ]
     },
     "execution_count": 13,
     "metadata": {},
     "output_type": "execute_result"
    }
   ],
   "source": [
    "port_end_value(0.05,0.03,0.7)"
   ]
  },
  {
   "cell_type": "code",
   "execution_count": 24,
   "id": "cb8cd644",
   "metadata": {},
   "outputs": [
    {
     "data": {
      "text/plain": [
       "-0.029136257630903856"
      ]
     },
     "execution_count": 24,
     "metadata": {},
     "output_type": "execute_result"
    }
   ],
   "source": [
    "import random\n",
    "stock_mean=0.1\n",
    "stock_std=0.2\n",
    "random.normalvariate(stock_mean,stock_std)"
   ]
  },
  {
   "cell_type": "code",
   "execution_count": 30,
   "id": "cf07e54f",
   "metadata": {},
   "outputs": [
    {
     "name": "stdout",
     "output_type": "stream",
     "text": [
      "running with stock return  29.3%\n"
     ]
    },
    {
     "data": {
      "text/plain": [
       "116.16504145834865"
      ]
     },
     "execution_count": 30,
     "metadata": {},
     "output_type": "execute_result"
    }
   ],
   "source": [
    "stock_ret=random.normalvariate(stock_mean,stock_std)\n",
    "print(f'running with stock return {stock_ret: .1%}')\n",
    "port_end_value(stock_ret)"
   ]
  },
  {
   "cell_type": "code",
   "execution_count": 34,
   "id": "6b6ec09e",
   "metadata": {},
   "outputs": [
    {
     "data": {
      "text/plain": [
       "[100.58130161073512,\n",
       " 111.8402683377858,\n",
       " 93.38462798062915,\n",
       " 105.82729761865633,\n",
       " 108.47860384237704]"
      ]
     },
     "execution_count": 34,
     "metadata": {},
     "output_type": "execute_result"
    }
   ],
   "source": [
    "n_iter=5\n",
    "outputs=[]\n",
    "for i in range(n_iter):\n",
    "    stock_ret=random.normalvariate(stock_mean,stock_std)\n",
    "    result=port_end_value(stock_ret)\n",
    "    outputs.append(result)\n",
    "outputs"
   ]
  },
  {
   "cell_type": "code",
   "execution_count": 72,
   "id": "ba962284",
   "metadata": {},
   "outputs": [],
   "source": [
    "def port_end_value_simulations(stock_mean=0.1,stock_std=0.2,stock_weights=0.5,n_iter=1000):\n",
    "    outputs=[]\n",
    "    for i in range(n_iter):\n",
    "        stock_ret=random.normalvariate(stock_mean,stock_std)\n",
    "        result=port_end_value(stock_ret,stock_weight=stock_weight)\n",
    "        outputs.append(result)\n",
    "    return outputs"
   ]
  },
  {
   "cell_type": "code",
   "execution_count": 73,
   "id": "d18aec5c",
   "metadata": {},
   "outputs": [
    {
     "name": "stdout",
     "output_type": "stream",
     "text": [
      "There are 1000 results. First fivez:\n"
     ]
    },
    {
     "data": {
      "text/plain": [
       "[83.0600686648968,\n",
       " 107.94646234839229,\n",
       " 104.92249865376797,\n",
       " 114.9212970761821,\n",
       " 123.04277235425415]"
      ]
     },
     "execution_count": 73,
     "metadata": {},
     "output_type": "execute_result"
    }
   ],
   "source": [
    "results=port_end_value_simulations()\n",
    "print(f'There are {len(results)} results. First fivez:')\n",
    "results[:5]"
   ]
  },
  {
   "cell_type": "code",
   "execution_count": 74,
   "id": "c53f2853",
   "metadata": {},
   "outputs": [
    {
     "data": {
      "text/plain": [
       "<matplotlib.axes._subplots.AxesSubplot at 0x1f766e49f28>"
      ]
     },
     "execution_count": 74,
     "metadata": {},
     "output_type": "execute_result"
    },
    {
     "data": {
      "image/png": "[encoded data removed]",
      "text/plain": [
       "<Figure size 432x288 with 1 Axes>"
      ]
     },
     "metadata": {
      "needs_background": "light"
     },
     "output_type": "display_data"
    },
    {
     "data": {
      "image/png": "[encoded data removed]",
      "text/plain": [
       "<Figure size 432x288 with 1 Axes>"
      ]
     },
     "metadata": {
      "needs_background": "light"
     },
     "output_type": "display_data"
    }
   ],
   "source": [
    "%matplotlib inline\n",
    "import pandas as pd\n",
    "df=pd.DataFrame()\n",
    "df['Portfolio End Values']=results\n",
    "df.plot.hist(bins=100)\n",
    "df.plot.kde()"
   ]
  },
  {
   "cell_type": "code",
   "execution_count": 75,
   "id": "ac037c10",
   "metadata": {},
   "outputs": [
    {
     "data": {
      "text/plain": [
       "[0.05,\n",
       " 0.1,\n",
       " 0.15,\n",
       " 0.2,\n",
       " 0.25,\n",
       " 0.3,\n",
       " 0.35,\n",
       " 0.4,\n",
       " 0.45,\n",
       " 0.5,\n",
       " 0.55,\n",
       " 0.6,\n",
       " 0.65,\n",
       " 0.7,\n",
       " 0.75,\n",
       " 0.8,\n",
       " 0.85,\n",
       " 0.9,\n",
       " 0.95]"
      ]
     },
     "execution_count": 75,
     "metadata": {},
     "output_type": "execute_result"
    }
   ],
   "source": [
    "percentile=[i/20 for i in range(1,20)]\n",
    "percentile"
   ]
  },
  {
   "cell_type": "code",
   "execution_count": 76,
   "id": "b148e145",
   "metadata": {},
   "outputs": [
    {
     "data": {
      "text/plain": [
       "0.05     90.731478\n",
       "0.10     93.596364\n",
       "0.15     95.990648\n",
       "0.20     98.233850\n",
       "0.25     99.999755\n",
       "0.30    101.537507\n",
       "0.35    103.091036\n",
       "0.40    104.140342\n",
       "0.45    105.624422\n",
       "0.50    106.701185\n",
       "0.55    107.864053\n",
       "0.60    109.195607\n",
       "0.65    110.451609\n",
       "0.70    111.899635\n",
       "0.75    113.357166\n",
       "0.80    114.912313\n",
       "0.85    117.008877\n",
       "0.90    119.782874\n",
       "0.95    123.053550\n",
       "Name: Portfolio End Values, dtype: float64"
      ]
     },
     "execution_count": 76,
     "metadata": {},
     "output_type": "execute_result"
    }
   ],
   "source": [
    "df['Portfolio End Values'].quantile(percentile)"
   ]
  },
  {
   "cell_type": "code",
   "execution_count": 77,
   "id": "6882b92f",
   "metadata": {},
   "outputs": [
    {
     "data": {
      "text/html": [
       "<div>\n",
       "<style scoped>\n",
       "    .dataframe tbody tr th:only-of-type {\n",
       "        vertical-align: middle;\n",
       "    }\n",
       "\n",
       "    .dataframe tbody tr th {\n",
       "        vertical-align: top;\n",
       "    }\n",
       "\n",
       "    .dataframe thead th {\n",
       "        text-align: right;\n",
       "    }\n",
       "</style>\n",
       "<table border=\"1\" class=\"dataframe\">\n",
       "  <thead>\n",
       "    <tr style=\"text-align: right;\">\n",
       "      <th></th>\n",
       "      <th>Portfolio End Values</th>\n",
       "    </tr>\n",
       "  </thead>\n",
       "  <tbody>\n",
       "    <tr>\n",
       "      <th>0.05</th>\n",
       "      <td>90.731478</td>\n",
       "    </tr>\n",
       "    <tr>\n",
       "      <th>0.10</th>\n",
       "      <td>93.596364</td>\n",
       "    </tr>\n",
       "    <tr>\n",
       "      <th>0.15</th>\n",
       "      <td>95.990648</td>\n",
       "    </tr>\n",
       "    <tr>\n",
       "      <th>0.20</th>\n",
       "      <td>98.233850</td>\n",
       "    </tr>\n",
       "    <tr>\n",
       "      <th>0.25</th>\n",
       "      <td>99.999755</td>\n",
       "    </tr>\n",
       "    <tr>\n",
       "      <th>0.30</th>\n",
       "      <td>101.537507</td>\n",
       "    </tr>\n",
       "    <tr>\n",
       "      <th>0.35</th>\n",
       "      <td>103.091036</td>\n",
       "    </tr>\n",
       "    <tr>\n",
       "      <th>0.40</th>\n",
       "      <td>104.140342</td>\n",
       "    </tr>\n",
       "    <tr>\n",
       "      <th>0.45</th>\n",
       "      <td>105.624422</td>\n",
       "    </tr>\n",
       "    <tr>\n",
       "      <th>0.50</th>\n",
       "      <td>106.701185</td>\n",
       "    </tr>\n",
       "    <tr>\n",
       "      <th>0.55</th>\n",
       "      <td>107.864053</td>\n",
       "    </tr>\n",
       "    <tr>\n",
       "      <th>0.60</th>\n",
       "      <td>109.195607</td>\n",
       "    </tr>\n",
       "    <tr>\n",
       "      <th>0.65</th>\n",
       "      <td>110.451609</td>\n",
       "    </tr>\n",
       "    <tr>\n",
       "      <th>0.70</th>\n",
       "      <td>111.899635</td>\n",
       "    </tr>\n",
       "    <tr>\n",
       "      <th>0.75</th>\n",
       "      <td>113.357166</td>\n",
       "    </tr>\n",
       "    <tr>\n",
       "      <th>0.80</th>\n",
       "      <td>114.912313</td>\n",
       "    </tr>\n",
       "    <tr>\n",
       "      <th>0.85</th>\n",
       "      <td>117.008877</td>\n",
       "    </tr>\n",
       "    <tr>\n",
       "      <th>0.90</th>\n",
       "      <td>119.782874</td>\n",
       "    </tr>\n",
       "    <tr>\n",
       "      <th>0.95</th>\n",
       "      <td>123.053550</td>\n",
       "    </tr>\n",
       "  </tbody>\n",
       "</table>\n",
       "</div>"
      ],
      "text/plain": [
       "      Portfolio End Values\n",
       "0.05             90.731478\n",
       "0.10             93.596364\n",
       "0.15             95.990648\n",
       "0.20             98.233850\n",
       "0.25             99.999755\n",
       "0.30            101.537507\n",
       "0.35            103.091036\n",
       "0.40            104.140342\n",
       "0.45            105.624422\n",
       "0.50            106.701185\n",
       "0.55            107.864053\n",
       "0.60            109.195607\n",
       "0.65            110.451609\n",
       "0.70            111.899635\n",
       "0.75            113.357166\n",
       "0.80            114.912313\n",
       "0.85            117.008877\n",
       "0.90            119.782874\n",
       "0.95            123.053550"
      ]
     },
     "execution_count": 77,
     "metadata": {},
     "output_type": "execute_result"
    }
   ],
   "source": [
    "df.quantile(percentile)"
   ]
  },
  {
   "cell_type": "code",
   "execution_count": 78,
   "id": "4b72fd79",
   "metadata": {},
   "outputs": [
    {
     "data": {
      "text/plain": [
       "0      False\n",
       "1       True\n",
       "2      False\n",
       "3       True\n",
       "4       True\n",
       "       ...  \n",
       "995     True\n",
       "996    False\n",
       "997     True\n",
       "998     True\n",
       "999    False\n",
       "Name: Portfolio End Values, Length: 1000, dtype: bool"
      ]
     },
     "execution_count": 78,
     "metadata": {},
     "output_type": "execute_result"
    }
   ],
   "source": [
    "df['Portfolio End Values']>=105"
   ]
  },
  {
   "cell_type": "code",
   "execution_count": 79,
   "id": "7bdd0dd4",
   "metadata": {},
   "outputs": [
    {
     "data": {
      "text/plain": [
       "0      0\n",
       "1      1\n",
       "2      0\n",
       "3      1\n",
       "4      1\n",
       "      ..\n",
       "995    1\n",
       "996    0\n",
       "997    1\n",
       "998    1\n",
       "999    0\n",
       "Name: Portfolio End Values, Length: 1000, dtype: int32"
      ]
     },
     "execution_count": 79,
     "metadata": {},
     "output_type": "execute_result"
    }
   ],
   "source": [
    "(df['Portfolio End Values']>=105).astype(int)"
   ]
  },
  {
   "cell_type": "code",
   "execution_count": 80,
   "id": "49d3f063",
   "metadata": {},
   "outputs": [
    {
     "data": {
      "image/png": "[encoded data removed]",
      "text/plain": [
       "<Figure size 432x288 with 1 Axes>"
      ]
     },
     "metadata": {
      "needs_background": "light"
     },
     "output_type": "display_data"
    },
    {
     "name": "stdout",
     "output_type": "stream",
     "text": [
      "Probability Table\n",
      "0.05     $90.731478\n",
      "0.10     $93.596364\n",
      "0.15     $95.990648\n",
      "0.20     $98.233850\n",
      "0.25     $99.999755\n",
      "0.30    $101.537507\n",
      "0.35    $103.091036\n",
      "0.40    $104.140342\n",
      "0.45    $105.624422\n",
      "0.50    $106.701185\n",
      "0.55    $107.864053\n",
      "0.60    $109.195607\n",
      "0.65    $110.451609\n",
      "0.70    $111.899635\n",
      "0.75    $113.357166\n",
      "0.80    $114.912313\n",
      "0.85    $117.008877\n",
      "0.90    $119.782874\n",
      "0.95    $123.053550\n",
      "Name: Portfolio End Values, dtype: object\n",
      "\n",
      "Probability of getting $105 in cash:56.9%\n",
      "\n"
     ]
    }
   ],
   "source": [
    "import matplotlib.pyplot as plt\n",
    "\n",
    "def create_data_frame_from_results(results):\n",
    "    df=pd.DataFrame()\n",
    "    df['Portfolio End Values']=results\n",
    "    return df\n",
    "\n",
    "def visualize_results(df):\n",
    "    df.plot.hist(bins=100)\n",
    "    plt.show()\n",
    "\n",
    "def probability_table(df):\n",
    "    percentiles=[i/20 for i in range(1,20)]\n",
    "    return df['Portfolio End Values'].quantile(percentiles)\n",
    "\n",
    "def probability_of_objective(df,desired_cash=105):\n",
    "    return(df['Portfolio End Values']>=desired_cash).astype(int).mean()\n",
    "\n",
    "def model_outputs(results,desired_cash=105):\n",
    "    df=create_data_frame_from_results(results)\n",
    "    visualize_results(df)\n",
    "    prob_table=probability_table(df)\n",
    "    prob_objective=probability_of_objective(df,desired_cash=desired_cash)\n",
    "    return prob_table,prob_objective\n",
    "\n",
    "def display_model_summary(results,desired_cash=105):\n",
    "    prob_table,prob_objective=model_outputs(results,desired_cash=desired_cash)\n",
    "    print('Probability Table')\n",
    "    print(prob_table.apply(lambda x: f'${x:2f}'))\n",
    "    print('')\n",
    "    print(f'Probability of getting ${desired_cash:,.0f} in cash:{prob_objective:.1%}')\n",
    "    print('')\n",
    "    \n",
    "display_model_summary(results)"
   ]
  },
  {
   "cell_type": "code",
   "execution_count": 81,
   "id": "5f6236d7",
   "metadata": {},
   "outputs": [
    {
     "data": {
      "text/plain": [
       "[0.1, 0.2, 0.3, 0.4, 0.5, 0.6, 0.7, 0.8, 0.9]"
      ]
     },
     "execution_count": 81,
     "metadata": {},
     "output_type": "execute_result"
    }
   ],
   "source": [
    "weights=[i/10 for i in range(1,10)]\n",
    "weights"
   ]
  },
  {
   "cell_type": "code",
   "execution_count": 85,
   "id": "a62b5f9d",
   "metadata": {},
   "outputs": [
    {
     "name": "stdout",
     "output_type": "stream",
     "text": [
      "Results with 10% in the Stocks\n"
     ]
    },
    {
     "data": {
      "image/png": "[encoded data removed]",
      "text/plain": [
       "<Figure size 432x288 with 1 Axes>"
      ]
     },
     "metadata": {
      "needs_background": "light"
     },
     "output_type": "display_data"
    },
    {
     "name": "stdout",
     "output_type": "stream",
     "text": [
      "Probability Table\n",
      "0.05     $90.725017\n",
      "0.10     $94.228091\n",
      "0.15     $96.371254\n",
      "0.20     $98.259087\n",
      "0.25     $99.973226\n",
      "0.30    $101.467244\n",
      "0.35    $102.608307\n",
      "0.40    $104.099902\n",
      "0.45    $105.273878\n",
      "0.50    $106.376201\n",
      "0.55    $107.473765\n",
      "0.60    $108.555782\n",
      "0.65    $109.857784\n",
      "0.70    $111.064539\n",
      "0.75    $112.781637\n",
      "0.80    $114.663968\n",
      "0.85    $116.679803\n",
      "0.90    $118.961650\n",
      "0.95    $123.793012\n",
      "Name: Portfolio End Values, dtype: object\n",
      "\n",
      "Probability of getting $105 in cash:55.9%\n",
      "\n",
      "Results with 20% in the Stocks\n"
     ]
    },
    {
     "data": {
      "image/png": "[encoded data removed]",
      "text/plain": [
       "<Figure size 432x288 with 1 Axes>"
      ]
     },
     "metadata": {
      "needs_background": "light"
     },
     "output_type": "display_data"
    },
    {
     "name": "stdout",
     "output_type": "stream",
     "text": [
      "Probability Table\n",
      "0.05     $90.322997\n",
      "0.10     $93.538290\n",
      "0.15     $96.065981\n",
      "0.20     $97.994994\n",
      "0.25     $99.533094\n",
      "0.30    $101.221585\n",
      "0.35    $102.935371\n",
      "0.40    $103.936358\n",
      "0.45    $105.160188\n",
      "0.50    $106.254805\n",
      "0.55    $107.267750\n",
      "0.60    $108.548101\n",
      "0.65    $109.883357\n",
      "0.70    $111.370149\n",
      "0.75    $112.903614\n",
      "0.80    $114.688574\n",
      "0.85    $117.030493\n",
      "0.90    $119.669907\n",
      "0.95    $123.623967\n",
      "Name: Portfolio End Values, dtype: object\n",
      "\n",
      "Probability of getting $105 in cash:55.1%\n",
      "\n",
      "Results with 30% in the Stocks\n"
     ]
    },
    {
     "data": {
      "image/png": "[encoded data removed]",
      "text/plain": [
       "<Figure size 432x288 with 1 Axes>"
      ]
     },
     "metadata": {
      "needs_background": "light"
     },
     "output_type": "display_data"
    },
    {
     "name": "stdout",
     "output_type": "stream",
     "text": [
      "Probability Table\n",
      "0.05     $90.417690\n",
      "0.10     $93.043825\n",
      "0.15     $95.255146\n",
      "0.20     $97.489154\n",
      "0.25     $99.314103\n",
      "0.30    $100.622102\n",
      "0.35    $102.263064\n",
      "0.40    $103.798345\n",
      "0.45    $105.039841\n",
      "0.50    $106.329305\n",
      "0.55    $107.738586\n",
      "0.60    $108.885416\n",
      "0.65    $110.261726\n",
      "0.70    $111.413994\n",
      "0.75    $112.940483\n",
      "0.80    $115.359844\n",
      "0.85    $117.142064\n",
      "0.90    $119.993071\n",
      "0.95    $124.435651\n",
      "Name: Portfolio End Values, dtype: object\n",
      "\n",
      "Probability of getting $105 in cash:55.2%\n",
      "\n",
      "Results with 40% in the Stocks\n"
     ]
    },
    {
     "data": {
      "image/png": "[encoded data removed]",
      "text/plain": [
       "<Figure size 432x288 with 1 Axes>"
      ]
     },
     "metadata": {
      "needs_background": "light"
     },
     "output_type": "display_data"
    },
    {
     "name": "stdout",
     "output_type": "stream",
     "text": [
      "Probability Table\n",
      "0.05     $89.656142\n",
      "0.10     $93.508116\n",
      "0.15     $96.032820\n",
      "0.20     $98.027414\n",
      "0.25     $99.548990\n",
      "0.30    $101.382577\n",
      "0.35    $102.622249\n",
      "0.40    $103.982152\n",
      "0.45    $105.366728\n",
      "0.50    $106.456020\n",
      "0.55    $107.810153\n",
      "0.60    $109.202898\n",
      "0.65    $110.352097\n",
      "0.70    $111.542941\n",
      "0.75    $113.030121\n",
      "0.80    $115.208759\n",
      "0.85    $116.802723\n",
      "0.90    $119.031556\n",
      "0.95    $122.234839\n",
      "Name: Portfolio End Values, dtype: object\n",
      "\n",
      "Probability of getting $105 in cash:56.0%\n",
      "\n",
      "Results with 50% in the Stocks\n"
     ]
    },
    {
     "data": {
      "image/png": "[encoded data removed]",
      "text/plain": [
       "<Figure size 432x288 with 1 Axes>"
      ]
     },
     "metadata": {
      "needs_background": "light"
     },
     "output_type": "display_data"
    },
    {
     "name": "stdout",
     "output_type": "stream",
     "text": [
      "Probability Table\n",
      "0.05     $90.158962\n",
      "0.10     $94.270936\n",
      "0.15     $96.516439\n",
      "0.20     $98.582482\n",
      "0.25    $100.198435\n",
      "0.30    $101.886828\n",
      "0.35    $103.165157\n",
      "0.40    $104.449480\n",
      "0.45    $105.832210\n",
      "0.50    $106.986290\n",
      "0.55    $108.039420\n",
      "0.60    $109.193742\n",
      "0.65    $110.387496\n",
      "0.70    $112.028438\n",
      "0.75    $113.566265\n",
      "0.80    $114.913049\n",
      "0.85    $116.489764\n",
      "0.90    $118.339655\n",
      "0.95    $121.803143\n",
      "Name: Portfolio End Values, dtype: object\n",
      "\n",
      "Probability of getting $105 in cash:57.6%\n",
      "\n",
      "Results with 60% in the Stocks\n"
     ]
    },
    {
     "data": {
      "image/png": "[encoded data removed]",
      "text/plain": [
       "<Figure size 432x288 with 1 Axes>"
      ]
     },
     "metadata": {
      "needs_background": "light"
     },
     "output_type": "display_data"
    },
    {
     "name": "stdout",
     "output_type": "stream",
     "text": [
      "Probability Table\n",
      "0.05     $89.270712\n",
      "0.10     $92.933095\n",
      "0.15     $95.724394\n",
      "0.20     $98.114894\n",
      "0.25     $99.637336\n",
      "0.30    $101.065258\n",
      "0.35    $102.438105\n",
      "0.40    $103.702685\n",
      "0.45    $104.876263\n",
      "0.50    $106.295002\n",
      "0.55    $107.476166\n",
      "0.60    $108.896988\n",
      "0.65    $110.343007\n",
      "0.70    $111.585598\n",
      "0.75    $113.347545\n",
      "0.80    $115.298739\n",
      "0.85    $117.049772\n",
      "0.90    $119.191975\n",
      "0.95    $122.587206\n",
      "Name: Portfolio End Values, dtype: object\n",
      "\n",
      "Probability of getting $105 in cash:54.5%\n",
      "\n",
      "Results with 70% in the Stocks\n"
     ]
    },
    {
     "data": {
      "image/png": "[encoded data removed]",
      "text/plain": [
       "<Figure size 432x288 with 1 Axes>"
      ]
     },
     "metadata": {
      "needs_background": "light"
     },
     "output_type": "display_data"
    },
    {
     "name": "stdout",
     "output_type": "stream",
     "text": [
      "Probability Table\n",
      "0.05     $90.478876\n",
      "0.10     $93.310924\n",
      "0.15     $95.823520\n",
      "0.20     $98.109553\n",
      "0.25     $99.869772\n",
      "0.30    $101.717676\n",
      "0.35    $102.991397\n",
      "0.40    $104.215409\n",
      "0.45    $105.392253\n",
      "0.50    $106.377664\n",
      "0.55    $107.781612\n",
      "0.60    $109.183561\n",
      "0.65    $110.348790\n",
      "0.70    $111.768894\n",
      "0.75    $113.431122\n",
      "0.80    $114.571313\n",
      "0.85    $117.003724\n",
      "0.90    $119.132843\n",
      "0.95    $123.113899\n",
      "Name: Portfolio End Values, dtype: object\n",
      "\n",
      "Probability of getting $105 in cash:55.9%\n",
      "\n",
      "Results with 80% in the Stocks\n"
     ]
    },
    {
     "data": {
      "image/png": "[encoded data removed]",
      "text/plain": [
       "<Figure size 432x288 with 1 Axes>"
      ]
     },
     "metadata": {
      "needs_background": "light"
     },
     "output_type": "display_data"
    },
    {
     "name": "stdout",
     "output_type": "stream",
     "text": [
      "Probability Table\n",
      "0.05     $90.236945\n",
      "0.10     $93.821399\n",
      "0.15     $96.469426\n",
      "0.20     $98.608560\n",
      "0.25    $100.364235\n",
      "0.30    $101.827188\n",
      "0.35    $103.212410\n",
      "0.40    $104.518131\n",
      "0.45    $105.607498\n",
      "0.50    $106.688153\n",
      "0.55    $108.004174\n",
      "0.60    $109.408952\n",
      "0.65    $110.483327\n",
      "0.70    $111.963996\n",
      "0.75    $113.348878\n",
      "0.80    $115.036607\n",
      "0.85    $117.045423\n",
      "0.90    $119.249225\n",
      "0.95    $122.755513\n",
      "Name: Portfolio End Values, dtype: object\n",
      "\n",
      "Probability of getting $105 in cash:57.9%\n",
      "\n",
      "Results with 90% in the Stocks\n"
     ]
    },
    {
     "data": {
      "image/png": "[encoded data removed]",
      "text/plain": [
       "<Figure size 432x288 with 1 Axes>"
      ]
     },
     "metadata": {
      "needs_background": "light"
     },
     "output_type": "display_data"
    },
    {
     "name": "stdout",
     "output_type": "stream",
     "text": [
      "Probability Table\n",
      "0.05     $90.865511\n",
      "0.10     $94.639464\n",
      "0.15     $96.305809\n",
      "0.20     $98.178727\n",
      "0.25     $99.501054\n",
      "0.30    $100.756386\n",
      "0.35    $102.111063\n",
      "0.40    $103.403303\n",
      "0.45    $104.492396\n",
      "0.50    $105.642345\n",
      "0.55    $106.980366\n",
      "0.60    $108.463864\n",
      "0.65    $109.678045\n",
      "0.70    $111.034909\n",
      "0.75    $112.761502\n",
      "0.80    $114.633226\n",
      "0.85    $116.277247\n",
      "0.90    $119.080213\n",
      "0.95    $122.933406\n",
      "Name: Portfolio End Values, dtype: object\n",
      "\n",
      "Probability of getting $105 in cash:52.7%\n",
      "\n"
     ]
    }
   ],
   "source": [
    "for weight in weights:\n",
    "    print(f'Results with {weight:.0%} in the Stocks')\n",
    "    results=port_end_value_simulations(stock_weights=weight)\n",
    "    display_model_summary(results)"
   ]
  },
  {
   "cell_type": "code",
   "execution_count": null,
   "id": "edcd977d",
   "metadata": {},
   "outputs": [],
   "source": []
  }
 ],
 "metadata": {
  "kernelspec": {
   "display_name": "Python 3 (ipykernel)",
   "language": "python",
   "name": "python3"
  },
  "language_info": {
   "codemirror_mode": {
    "name": "ipython",
    "version": 3
   },
   "file_extension": ".py",
   "mimetype": "text/x-python",
   "name": "python",
   "nbconvert_exporter": "python",
   "pygments_lexer": "ipython3",
   "version": "3.7.3"
  }
 },
 "nbformat": 4,
 "nbformat_minor": 5
}

{
 "cells": [
  {
   "cell_type": "code",
   "execution_count": 1,
   "id": "61755b5b",
   "metadata": {},
   "outputs": [],
   "source": [
    "from dataclasses import dataclass\n",
    "import pandas as pd\n",
    "%matplotlib inline \n",
    "from sensitivity import SensitivityAnalyzer"
   ]
  },
  {
   "cell_type": "code",
   "execution_count": 2,
   "id": "8fb1d098",
   "metadata": {},
   "outputs": [
    {
     "data": {
      "text/plain": [
       "ModelInputs(starting_salary=60000, promos_every_n_years=5, cost_of_living_raised=0.02, promo_raise=0.15, savings_rate=0.25, interest_rate=0.05, desired_cash=1500000)"
      ]
     },
     "execution_count": 2,
     "metadata": {},
     "output_type": "execute_result"
    }
   ],
   "source": [
    "#Normal Economy\n",
    "@dataclass\n",
    "class ModelInputs:\n",
    "    starting_salary: int = 60000\n",
    "    promos_every_n_years: int = 5\n",
    "    cost_of_living_raised: float = 0.02\n",
    "    promo_raise: float =0.15\n",
    "    savings_rate: float =0.25\n",
    "    interest_rate: float =0.05\n",
    "    desired_cash: int = 1500000\n",
    "model_data = ModelInputs()\n",
    "model_data"
   ]
  },
  {
   "cell_type": "code",
   "execution_count": 3,
   "id": "83bc24c9",
   "metadata": {},
   "outputs": [],
   "source": [
    "#bad Economy\n",
    "bad_economy_data=ModelInputs(\n",
    "    starting_salary=40000,\n",
    "    promos_every_n_years=8,\n",
    "    cost_of_living_raised=0.01,\n",
    "    promo_raise=0.07,\n",
    "    savings_rate=0.15,\n",
    "    interest_rate=0.03\n",
    "    )"
   ]
  },
  {
   "cell_type": "code",
   "execution_count": 4,
   "id": "1a03c352",
   "metadata": {},
   "outputs": [],
   "source": [
    "#bad Economy\n",
    "good_economy_data=ModelInputs(\n",
    "    starting_salary=70000,\n",
    "    promos_every_n_years=4,\n",
    "    cost_of_living_raised=0.03,\n",
    "    promo_raise=0.02,\n",
    "    savings_rate=0.35,\n",
    "    interest_rate=0.06\n",
    "    )\n",
    "cases={\n",
    "    'Recession':bad_economy_data,\n",
    "    'Normal':model_data,\n",
    "    'Expansion':good_economy_data\n",
    "}"
   ]
  },
  {
   "cell_type": "code",
   "execution_count": 5,
   "id": "b09bf40e",
   "metadata": {},
   "outputs": [
    {
     "name": "stdout",
     "output_type": "stream",
     "text": [
      "Wealths over time:\n",
      "The wealth at year 1 is $15,300.\n",
      "The wealth at year 2 is $31,671.\n",
      "The wealth at year 3 is $49,173.\n",
      "The wealth at year 4 is $67,868.\n",
      "The wealth at year 5 is $90,307.\n",
      "The wealth at year 6 is $114,248.\n",
      "The wealth at year 7 is $139,775.\n",
      "The wealth at year 8 is $166,975.\n",
      "The wealth at year 9 is $195,939.\n",
      "The wealth at year 10 is $229,918.\n",
      "The wealth at year 11 is $266,080.\n",
      "The wealth at year 12 is $304,542.\n",
      "The wealth at year 13 is $345,431.\n",
      "The wealth at year 14 is $388,878.\n",
      "The wealth at year 15 is $439,025.\n",
      "The wealth at year 16 is $492,294.\n",
      "The wealth at year 17 is $548,853.\n",
      "The wealth at year 18 is $608,878.\n",
      "The wealth at year 19 is $672,557.\n",
      "The wealth at year 20 is $745,168.\n",
      "The wealth at year 21 is $822,190.\n",
      "The wealth at year 22 is $903,859.\n",
      "The wealth at year 23 is $990,422.\n",
      "The wealth at year 24 is $1,082,140.\n",
      "The wealth at year 25 is $1,185,745.\n",
      "The wealth at year 26 is $1,295,520.\n",
      "The wealth at year 27 is $1,411,793.\n",
      "The wealth at year 28 is $1,534,910.\n",
      "\n",
      "Retirement:\n",
      "It will take 28 years to retire.\n"
     ]
    }
   ],
   "source": [
    "def years_to_retirement(model_data: ModelInputs,print_output=False):\n",
    "    \n",
    "    # starting with no cash saved\n",
    "    data=model_data\n",
    "    prior_wealth = 0  \n",
    "    wealth = 0\n",
    "    \n",
    "    year = 0  # will become 1 on first loop\n",
    "    \n",
    "    def wealth_at_year(data,year,prior_wealth):\n",
    "        cash_saved = cash_saved_during_year(data,year)\n",
    "        wealth = prior_wealth*(1 + data.interest_rate) + cash_saved\n",
    "        return wealth\n",
    "    \n",
    "    def cash_saved_during_year(model_data,year):\n",
    "        salary= salary_at_year(model_data,year)\n",
    "        cash_saved=salary*model_data.savings_rate\n",
    "        return cash_saved\n",
    "    \n",
    "    def salary_at_year(data: ModelInputs, year):\n",
    "        # Every n years we have a promotion, so dividing the years and taking out the decimals gets the number of promotions\n",
    "        num_promos = int(year / data.promos_every_n_years)\n",
    "        \n",
    "        # This is the formula above implemented in Python\n",
    "        salary_t = data.starting_salary * (1 + data.cost_of_living_raised) ** year * (1 + data.promo_raise) ** num_promos\n",
    "        return salary_t\n",
    "\n",
    "    if print_output:\n",
    "        print('Wealths over time:') # \\n makes a blank line in the output.\n",
    "    while wealth < data.desired_cash:\n",
    "        year = year + 1\n",
    "        wealth = wealth_at_year(model_data, year, prior_wealth)\n",
    "        if print_output:\n",
    "            print(f'The wealth at year {year} is ${wealth:,.0f}.')\n",
    "        # Set next year's prior wealth to this year's wealth\n",
    "        prior_wealth = wealth\n",
    "        \n",
    "    # Now we have exited the while loop, so wealth must be >= desired_cash. Whatever last year was set\n",
    "    # is the years to retirement.\n",
    "    if print_output:\n",
    "        print(f'\\nRetirement:\\nIt will take {year} years to retire.')  # \\n makes a blank line in the output.\n",
    "    return year\n",
    "years = years_to_retirement(model_data,print_output=True)"
   ]
  },
  {
   "cell_type": "code",
   "execution_count": 6,
   "id": "fd7e1ded",
   "metadata": {},
   "outputs": [
    {
     "name": "stdout",
     "output_type": "stream",
     "text": [
      "ModelInputs(starting_salary=40000, promos_every_n_years=8, cost_of_living_raised=0.01, promo_raise=0.07, savings_rate=0.15, interest_rate=0.03, desired_cash=1500000)\n",
      "Recession\n",
      "ModelInputs(starting_salary=60000, promos_every_n_years=5, cost_of_living_raised=0.02, promo_raise=0.15, savings_rate=0.25, interest_rate=0.05, desired_cash=1500000)\n",
      "Normal\n",
      "ModelInputs(starting_salary=70000, promos_every_n_years=4, cost_of_living_raised=0.03, promo_raise=0.02, savings_rate=0.35, interest_rate=0.06, desired_cash=1500000)\n",
      "Expansion\n"
     ]
    }
   ],
   "source": [
    "for case_type,case_inputs in cases.items():\n",
    "    print(case_inputs)\n",
    "    print(case_type)"
   ]
  },
  {
   "cell_type": "code",
   "execution_count": 7,
   "id": "c9dea969",
   "metadata": {},
   "outputs": [
    {
     "name": "stdout",
     "output_type": "stream",
     "text": [
      "It would take 61 years to retire in a Recession Economy\n",
      "It would take 28 years to retire in a Normal Economy\n",
      "It would take 23 years to retire in a Expansion Economy\n"
     ]
    }
   ],
   "source": [
    "for case_type,case_inputs in cases.items():\n",
    "    ytr=years_to_retirement(case_inputs,print_output=False)\n",
    "    print(f'It would take {ytr} years to retire in a {case_type} Economy')"
   ]
  },
  {
   "cell_type": "code",
   "execution_count": 8,
   "id": "cb62b8b3",
   "metadata": {},
   "outputs": [
    {
     "name": "stdout",
     "output_type": "stream",
     "text": [
      "It would take 33 years to retire considering a 20% chance  of a recession and an 30% chance  of a expansionary economy\n"
     ]
    }
   ],
   "source": [
    "Case_probabilitires={\n",
    "    'Recession':0.2,\n",
    "    'Normal':0.5,\n",
    "    'Expansion':0.3\n",
    "}\n",
    "expected_ytr=0\n",
    "for case_type,case_inputs in cases.items():\n",
    "    ytr=years_to_retirement(case_inputs,print_output=False)\n",
    "    weighted_ytr=ytr*Case_probabilitires[case_type]\n",
    "    expected_ytr=expected_ytr+weighted_ytr\n",
    "print(\n",
    "    f'It would take { expected_ytr:.0f} years to retire considering'\n",
    "    f' a {Case_probabilitires[\"Recession\"]:.0%} chance  of a recession and'\n",
    "    f' an {Case_probabilitires[\"Expansion\"]:.0%} chance  of a expansionary economy'  \n",
    ")"
   ]
  },
  {
   "cell_type": "code",
   "execution_count": null,
   "id": "946cb55c",
   "metadata": {},
   "outputs": [],
   "source": []
  }
 ],
 "metadata": {
  "kernelspec": {
   "display_name": "Python 3 (ipykernel)",
   "language": "python",
   "name": "python3"
  },
  "language_info": {
   "codemirror_mode": {
    "name": "ipython",
    "version": 3
   },
   "file_extension": ".py",
   "mimetype": "text/x-python",
   "name": "python",
   "nbconvert_exporter": "python",
   "pygments_lexer": "ipython3",
   "version": "3.7.3"
  }
 },
 "nbformat": 4,
 "nbformat_minor": 5
}

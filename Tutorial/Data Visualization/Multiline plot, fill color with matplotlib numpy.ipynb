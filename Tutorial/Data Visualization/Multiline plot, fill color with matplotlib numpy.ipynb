{
 "cells": [
  {
   "cell_type": "code",
   "execution_count": 1,
   "id": "92adca9e",
   "metadata": {},
   "outputs": [],
   "source": [
    "import pandas as pd\n",
    "import matplotlib.pyplot as plt\n",
    "import numpy as np"
   ]
  },
  {
   "cell_type": "code",
   "execution_count": 2,
   "id": "1df256c8",
   "metadata": {},
   "outputs": [],
   "source": [
    "salaries=pd.DataFrame()\n",
    "salaries['Age']=[18,19,20,21,22,23]\n",
    "salaries['FullStack Dev']=[17893,18223,19224,20112,21356,22554]\n",
    "salaries['Python']=[18564,19554,19564,22654,23658,25457]"
   ]
  },
  {
   "cell_type": "code",
   "execution_count": 3,
   "id": "4c2e0a07",
   "metadata": {},
   "outputs": [
    {
     "data": {
      "text/html": [
       "<div>\n",
       "<style scoped>\n",
       "    .dataframe tbody tr th:only-of-type {\n",
       "        vertical-align: middle;\n",
       "    }\n",
       "\n",
       "    .dataframe tbody tr th {\n",
       "        vertical-align: top;\n",
       "    }\n",
       "\n",
       "    .dataframe thead th {\n",
       "        text-align: right;\n",
       "    }\n",
       "</style>\n",
       "<table border=\"1\" class=\"dataframe\">\n",
       "  <thead>\n",
       "    <tr style=\"text-align: right;\">\n",
       "      <th></th>\n",
       "      <th>Age</th>\n",
       "      <th>FullStack Dev</th>\n",
       "      <th>Python</th>\n",
       "    </tr>\n",
       "  </thead>\n",
       "  <tbody>\n",
       "    <tr>\n",
       "      <th>0</th>\n",
       "      <td>18</td>\n",
       "      <td>17893</td>\n",
       "      <td>18564</td>\n",
       "    </tr>\n",
       "    <tr>\n",
       "      <th>1</th>\n",
       "      <td>19</td>\n",
       "      <td>18223</td>\n",
       "      <td>19554</td>\n",
       "    </tr>\n",
       "    <tr>\n",
       "      <th>2</th>\n",
       "      <td>20</td>\n",
       "      <td>19224</td>\n",
       "      <td>19564</td>\n",
       "    </tr>\n",
       "    <tr>\n",
       "      <th>3</th>\n",
       "      <td>21</td>\n",
       "      <td>20112</td>\n",
       "      <td>22654</td>\n",
       "    </tr>\n",
       "    <tr>\n",
       "      <th>4</th>\n",
       "      <td>22</td>\n",
       "      <td>21356</td>\n",
       "      <td>23658</td>\n",
       "    </tr>\n",
       "    <tr>\n",
       "      <th>5</th>\n",
       "      <td>23</td>\n",
       "      <td>22554</td>\n",
       "      <td>25457</td>\n",
       "    </tr>\n",
       "  </tbody>\n",
       "</table>\n",
       "</div>"
      ],
      "text/plain": [
       "   Age  FullStack Dev  Python\n",
       "0   18          17893   18564\n",
       "1   19          18223   19554\n",
       "2   20          19224   19564\n",
       "3   21          20112   22654\n",
       "4   22          21356   23658\n",
       "5   23          22554   25457"
      ]
     },
     "execution_count": 3,
     "metadata": {},
     "output_type": "execute_result"
    }
   ],
   "source": [
    "salaries"
   ]
  },
  {
   "cell_type": "code",
   "execution_count": 4,
   "id": "23c77724",
   "metadata": {},
   "outputs": [
    {
     "data": {
      "image/png": "[encoded data removed]",
      "text/plain": [
       "<Figure size 432x288 with 1 Axes>"
      ]
     },
     "metadata": {
      "needs_background": "light"
     },
     "output_type": "display_data"
    }
   ],
   "source": [
    "ages=np.array(salaries['Age'])\n",
    "FullStack_Dev=np.array(salaries['FullStack Dev'])\n",
    "Python=np.array(salaries['Python'])\n",
    "plt.plot(ages,FullStack_Dev,\n",
    "            color='#04DE71',\n",
    "            linestyle='--',\n",
    "            label='Fullstack Developer'\n",
    "            )\n",
    "plt.plot(ages,Python,\n",
    "            color='#00F5EA',\n",
    "            linestyle='--',\n",
    "            label='Python'\n",
    "            )\n",
    "plt.show()"
   ]
  },
  {
   "cell_type": "code",
   "execution_count": 5,
   "id": "32ad1407",
   "metadata": {},
   "outputs": [
    {
     "data": {
      "text/plain": [
       "(array([17893, 18223, 19224, 20112, 21356, 22554], dtype=int64),\n",
       " array([18564, 19554, 19564, 22654, 23658, 25457], dtype=int64))"
      ]
     },
     "execution_count": 5,
     "metadata": {},
     "output_type": "execute_result"
    }
   ],
   "source": [
    "#Mean salary of both two\n",
    "FullStack_Dev,Python"
   ]
  },
  {
   "cell_type": "code",
   "execution_count": 6,
   "id": "e25926a8",
   "metadata": {
    "scrolled": true
   },
   "outputs": [
    {
     "data": {
      "text/plain": [
       "19838.0"
      ]
     },
     "execution_count": 6,
     "metadata": {},
     "output_type": "execute_result"
    }
   ],
   "source": [
    "median=np.median(np.concatenate([FullStack_Dev,Python]))\n",
    "median"
   ]
  },
  {
   "cell_type": "code",
   "execution_count": 7,
   "id": "c8368b68",
   "metadata": {},
   "outputs": [
    {
     "data": {
      "text/plain": [
       "array([1., 1., 1., 1., 1., 1.])"
      ]
     },
     "execution_count": 7,
     "metadata": {},
     "output_type": "execute_result"
    }
   ],
   "source": [
    "np.ones(len(ages))"
   ]
  },
  {
   "cell_type": "code",
   "execution_count": 8,
   "id": "dc689791",
   "metadata": {},
   "outputs": [
    {
     "data": {
      "text/plain": [
       "array([19838., 19838., 19838., 19838., 19838., 19838.])"
      ]
     },
     "execution_count": 8,
     "metadata": {},
     "output_type": "execute_result"
    }
   ],
   "source": [
    "medians=median*np.ones(len(ages))\n",
    "medians"
   ]
  },
  {
   "cell_type": "code",
   "execution_count": 9,
   "id": "9c2cab6b",
   "metadata": {},
   "outputs": [
    {
     "data": {
      "image/png": "[encoded data removed]",
      "text/plain": [
       "<Figure size 432x288 with 1 Axes>"
      ]
     },
     "metadata": {
      "needs_background": "light"
     },
     "output_type": "display_data"
    }
   ],
   "source": [
    "ages=np.array(salaries['Age'])\n",
    "FullStack_Dev=np.array(salaries['FullStack Dev'])\n",
    "Python=np.array(salaries['Python'])\n",
    "plt.plot(ages,FullStack_Dev,\n",
    "            color='#04DE71',\n",
    "            linestyle='--',\n",
    "            label='Fullstack Developer'\n",
    "            )\n",
    "plt.plot(ages,Python,\n",
    "            color='#00F5EA',\n",
    "            linestyle='--',\n",
    "            label='Python'\n",
    "            )\n",
    "plt.plot(ages,medians,\n",
    "            color='red',\n",
    "            linestyle='--',\n",
    "            label='Median= '+str(median)\n",
    "        )\n",
    "plt.fill_between(ages,\n",
    "                 FullStack_Dev,\n",
    "                 median,\n",
    "                where=(FullStack_Dev>=median),\n",
    "                alpha=0.5,\n",
    "                color='green',\n",
    "                interpolate=True)\n",
    "plt.fill_between(ages,\n",
    "                 FullStack_Dev,\n",
    "                 median,\n",
    "                where=(FullStack_Dev<=median),\n",
    "                alpha=0.5,\n",
    "                color='red',\n",
    "                interpolate=True)\n",
    "\n",
    "plt.fill_between(ages,\n",
    "                 FullStack_Dev,\n",
    "                 Python,\n",
    "                where=(Python>=median),\n",
    "                alpha=0.5,\n",
    "                color='Purple',\n",
    "                interpolate=True)\n",
    "\n",
    "plt.legend()\n",
    "plt.show()"
   ]
  },
  {
   "cell_type": "code",
   "execution_count": null,
   "id": "b9ab72e9",
   "metadata": {},
   "outputs": [],
   "source": []
  }
 ],
 "metadata": {
  "kernelspec": {
   "display_name": "Python 3 (ipykernel)",
   "language": "python",
   "name": "python3"
  },
  "language_info": {
   "codemirror_mode": {
    "name": "ipython",
    "version": 3
   },
   "file_extension": ".py",
   "mimetype": "text/x-python",
   "name": "python",
   "nbconvert_exporter": "python",
   "pygments_lexer": "ipython3",
   "version": "3.7.3"
  }
 },
 "nbformat": 4,
 "nbformat_minor": 5
}

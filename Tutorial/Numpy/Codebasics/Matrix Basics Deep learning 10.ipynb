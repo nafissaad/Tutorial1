{
 "cells": [
  {
   "cell_type": "code",
   "execution_count": 1,
   "id": "8b85b157",
   "metadata": {},
   "outputs": [],
   "source": [
    "import numpy as np\n",
    "import pandas as pd"
   ]
  },
  {
   "cell_type": "code",
   "execution_count": 2,
   "id": "90fc254b",
   "metadata": {},
   "outputs": [],
   "source": [
    "df=pd.DataFrame()\n",
    "df['Company']=['Iphone','IPad','Mac']\n",
    "df['2018']=[180,24,12]\n",
    "df['2019']=[200,36,18]\n",
    "df['2020']=[220,40,20]\n",
    "df.set_index('Company',inplace=True)"
   ]
  },
  {
   "cell_type": "code",
   "execution_count": 3,
   "id": "48ce00f5",
   "metadata": {},
   "outputs": [],
   "source": [
    "df1=pd.DataFrame()\n",
    "df1['Company']=['Iphone','IPad','Mac']\n",
    "df1['2018']=[80,10,8]\n",
    "df1['2019']=[90,16,10]\n",
    "df1['2020']=[100,20,10]\n",
    "df1.set_index('Company',inplace=True)"
   ]
  },
  {
   "cell_type": "code",
   "execution_count": 4,
   "id": "df487d05",
   "metadata": {},
   "outputs": [
    {
     "data": {
      "text/plain": [
       "(         2018  2019  2020\n",
       " Company                  \n",
       " Iphone    180   200   220\n",
       " IPad       24    36    40\n",
       " Mac        12    18    20,\n",
       "          2018  2019  2020\n",
       " Company                  \n",
       " Iphone     80    90   100\n",
       " IPad       10    16    20\n",
       " Mac         8    10    10)"
      ]
     },
     "execution_count": 4,
     "metadata": {},
     "output_type": "execute_result"
    }
   ],
   "source": [
    "df,df1"
   ]
  },
  {
   "cell_type": "code",
   "execution_count": 5,
   "id": "d6920f4b",
   "metadata": {},
   "outputs": [
    {
     "data": {
      "text/plain": [
       "array([[180, 200, 220],\n",
       "       [ 24,  36,  40],\n",
       "       [ 12,  18,  20]], dtype=int64)"
      ]
     },
     "execution_count": 5,
     "metadata": {},
     "output_type": "execute_result"
    }
   ],
   "source": [
    "revenue=np.array(df[['2018', '2019', '2020']].values)\n",
    "expense=np.array(df1.values)\n",
    "revenue"
   ]
  },
  {
   "cell_type": "code",
   "execution_count": 6,
   "id": "037c6c1c",
   "metadata": {},
   "outputs": [
    {
     "data": {
      "text/plain": [
       "array([[100, 110, 120],\n",
       "       [ 14,  20,  20],\n",
       "       [  4,   8,  10]], dtype=int64)"
      ]
     },
     "execution_count": 6,
     "metadata": {},
     "output_type": "execute_result"
    }
   ],
   "source": [
    "profit=revenue-expense\n",
    "profit"
   ]
  },
  {
   "cell_type": "code",
   "execution_count": 7,
   "id": "0f48f899",
   "metadata": {},
   "outputs": [
    {
     "data": {
      "text/html": [
       "<div>\n",
       "<style scoped>\n",
       "    .dataframe tbody tr th:only-of-type {\n",
       "        vertical-align: middle;\n",
       "    }\n",
       "\n",
       "    .dataframe tbody tr th {\n",
       "        vertical-align: top;\n",
       "    }\n",
       "\n",
       "    .dataframe thead th {\n",
       "        text-align: right;\n",
       "    }\n",
       "</style>\n",
       "<table border=\"1\" class=\"dataframe\">\n",
       "  <thead>\n",
       "    <tr style=\"text-align: right;\">\n",
       "      <th></th>\n",
       "      <th>2018</th>\n",
       "      <th>2019</th>\n",
       "      <th>2020</th>\n",
       "    </tr>\n",
       "    <tr>\n",
       "      <th>Company</th>\n",
       "      <th></th>\n",
       "      <th></th>\n",
       "      <th></th>\n",
       "    </tr>\n",
       "  </thead>\n",
       "  <tbody>\n",
       "    <tr>\n",
       "      <th>Iphone</th>\n",
       "      <td>100</td>\n",
       "      <td>110</td>\n",
       "      <td>120</td>\n",
       "    </tr>\n",
       "    <tr>\n",
       "      <th>IPad</th>\n",
       "      <td>14</td>\n",
       "      <td>20</td>\n",
       "      <td>20</td>\n",
       "    </tr>\n",
       "    <tr>\n",
       "      <th>Mac</th>\n",
       "      <td>4</td>\n",
       "      <td>8</td>\n",
       "      <td>10</td>\n",
       "    </tr>\n",
       "  </tbody>\n",
       "</table>\n",
       "</div>"
      ],
      "text/plain": [
       "         2018  2019  2020\n",
       "Company                  \n",
       "Iphone    100   110   120\n",
       "IPad       14    20    20\n",
       "Mac         4     8    10"
      ]
     },
     "execution_count": 7,
     "metadata": {},
     "output_type": "execute_result"
    }
   ],
   "source": [
    "profit= pd.DataFrame(profit,index=df.index,columns=['2018', '2019','2020'])\n",
    "profit"
   ]
  },
  {
   "cell_type": "code",
   "execution_count": 8,
   "id": "5edd7b61",
   "metadata": {},
   "outputs": [],
   "source": [
    "Units=pd.DataFrame()\n",
    "Units['Company']=['Iphone','IPad','Mac']\n",
    "Units['2018']=[30,5,2]\n",
    "Units['2019']=[40,10,5]\n",
    "Units['2020']=[50,15,7]\n",
    "Units.set_index('Company',inplace=True)"
   ]
  },
  {
   "cell_type": "code",
   "execution_count": 9,
   "id": "4510eeb4",
   "metadata": {},
   "outputs": [],
   "source": [
    "per_price=pd.DataFrame()\n",
    "per_price['Company']=['Iphone','IPad','Mac']\n",
    "per_price['Price Per Unit']=[1000,400,1200]\n",
    "per_price.set_index('Company',inplace=True)\n"
   ]
  },
  {
   "cell_type": "code",
   "execution_count": 10,
   "id": "c6a171aa",
   "metadata": {},
   "outputs": [
    {
     "data": {
      "text/plain": [
       "(array([[30, 40, 50],\n",
       "        [ 5, 10, 15],\n",
       "        [ 2,  5,  7]], dtype=int64),\n",
       " array([1000,  400, 1200], dtype=int64))"
      ]
     },
     "execution_count": 10,
     "metadata": {},
     "output_type": "execute_result"
    }
   ],
   "source": [
    "per_price=np.array(per_price['Price Per Unit'].values)\n",
    "Units=np.array(Units.values)\n",
    "Units,per_price"
   ]
  },
  {
   "cell_type": "code",
   "execution_count": 11,
   "id": "48e91281",
   "metadata": {},
   "outputs": [
    {
     "data": {
      "text/plain": [
       "array([[30000, 16000, 60000],\n",
       "       [ 5000,  4000, 18000],\n",
       "       [ 2000,  2000,  8400]], dtype=int64)"
      ]
     },
     "execution_count": 11,
     "metadata": {},
     "output_type": "execute_result"
    }
   ],
   "source": [
    "Units*per_price"
   ]
  },
  {
   "cell_type": "code",
   "execution_count": 12,
   "id": "8724227d",
   "metadata": {
    "scrolled": false
   },
   "outputs": [
    {
     "data": {
      "text/plain": [
       "array([34400, 50000, 64400], dtype=int64)"
      ]
     },
     "execution_count": 12,
     "metadata": {},
     "output_type": "execute_result"
    }
   ],
   "source": [
    "np.dot(per_price,Units)"
   ]
  },
  {
   "cell_type": "code",
   "execution_count": null,
   "id": "45168e46",
   "metadata": {},
   "outputs": [],
   "source": []
  }
 ],
 "metadata": {
  "kernelspec": {
   "display_name": "Python 3 (ipykernel)",
   "language": "python",
   "name": "python3"
  },
  "language_info": {
   "codemirror_mode": {
    "name": "ipython",
    "version": 3
   },
   "file_extension": ".py",
   "mimetype": "text/x-python",
   "name": "python",
   "nbconvert_exporter": "python",
   "pygments_lexer": "ipython3",
   "version": "3.7.3"
  }
 },
 "nbformat": 4,
 "nbformat_minor": 5
}

{
 "cells": [
  {
   "cell_type": "code",
   "execution_count": 1,
   "id": "1d5007f8",
   "metadata": {},
   "outputs": [],
   "source": [
    "#Random\n",
    "#Rand()"
   ]
  },
  {
   "cell_type": "code",
   "execution_count": 2,
   "id": "369b72a9",
   "metadata": {},
   "outputs": [
    {
     "name": "stdout",
     "output_type": "stream",
     "text": [
      "[0.18974923 0.98235025 0.88445542 0.4138264 ]\n"
     ]
    }
   ],
   "source": [
    "import numpy as np\n",
    "var=np.random.rand(4)\n",
    "print(var)"
   ]
  },
  {
   "cell_type": "code",
   "execution_count": 3,
   "id": "273df6d9",
   "metadata": {},
   "outputs": [
    {
     "name": "stdout",
     "output_type": "stream",
     "text": [
      "[[0.06652561 0.44917653 0.68957588 0.34762712 0.02065125]\n",
      " [0.1286974  0.42962956 0.99468341 0.20181088 0.11083715]]\n"
     ]
    }
   ],
   "source": [
    "var1=np.random.rand(2,5)\n",
    "print(var1)"
   ]
  },
  {
   "cell_type": "code",
   "execution_count": 4,
   "id": "6a629faf",
   "metadata": {},
   "outputs": [
    {
     "name": "stdout",
     "output_type": "stream",
     "text": [
      "[-0.79603291  0.37531073 -1.49345039  0.99478808  0.25001559]\n"
     ]
    }
   ],
   "source": [
    "#Randn()\n",
    "var2=np.random.randn(5)\n",
    "print(var2)"
   ]
  },
  {
   "cell_type": "code",
   "execution_count": 5,
   "id": "ffd30d51",
   "metadata": {},
   "outputs": [
    {
     "name": "stdout",
     "output_type": "stream",
     "text": [
      "[0.94323159 0.21588509 0.20720886 0.517738  ]\n"
     ]
    }
   ],
   "source": [
    "#Randf() 0 included and 1 excluded range function\n",
    "var3=np.random.ranf(4)\n",
    "print(var3)"
   ]
  },
  {
   "cell_type": "code",
   "execution_count": 6,
   "id": "5fe0f7b2",
   "metadata": {},
   "outputs": [
    {
     "name": "stdout",
     "output_type": "stream",
     "text": [
      "[19 12  9 17  5]\n"
     ]
    }
   ],
   "source": [
    "#radint()\n",
    "min_=5\n",
    "max_=20\n",
    "total_values=5\n",
    "var4=np.random.randint(min_,max_,total_values)\n",
    "print(var4)"
   ]
  },
  {
   "cell_type": "raw",
   "id": "a69b875e",
   "metadata": {},
   "source": []
  }
 ],
 "metadata": {
  "kernelspec": {
   "display_name": "Python 3 (ipykernel)",
   "language": "python",
   "name": "python3"
  },
  "language_info": {
   "codemirror_mode": {
    "name": "ipython",
    "version": 3
   },
   "file_extension": ".py",
   "mimetype": "text/x-python",
   "name": "python",
   "nbconvert_exporter": "python",
   "pygments_lexer": "ipython3",
   "version": "3.7.3"
  }
 },
 "nbformat": 4,
 "nbformat_minor": 5
}

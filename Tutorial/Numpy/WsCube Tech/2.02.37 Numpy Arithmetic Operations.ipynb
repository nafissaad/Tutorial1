{
 "cells": [
  {
   "cell_type": "code",
   "execution_count": 1,
   "id": "84dc6cd2",
   "metadata": {},
   "outputs": [],
   "source": [
    "import numpy as np"
   ]
  },
  {
   "cell_type": "code",
   "execution_count": 2,
   "id": "2d76b07f",
   "metadata": {},
   "outputs": [
    {
     "name": "stdout",
     "output_type": "stream",
     "text": [
      "[4 5 6 7]\n"
     ]
    }
   ],
   "source": [
    "var=np.array([1,2,3,4])\n",
    "varadd=var+3\n",
    "print(varadd)"
   ]
  },
  {
   "cell_type": "code",
   "execution_count": 3,
   "id": "21117c3c",
   "metadata": {},
   "outputs": [
    {
     "name": "stdout",
     "output_type": "stream",
     "text": [
      "[2 4 6 8]\n"
     ]
    }
   ],
   "source": [
    "var1=np.array([1,2,3,4])\n",
    "varadd=var+var1\n",
    "print(varadd)"
   ]
  },
  {
   "cell_type": "code",
   "execution_count": 4,
   "id": "873f5c26",
   "metadata": {},
   "outputs": [
    {
     "name": "stdout",
     "output_type": "stream",
     "text": [
      "[-2 -1  0  1]\n"
     ]
    }
   ],
   "source": [
    "var=np.array([1,2,3,4])\n",
    "varadd=var-3\n",
    "print(varadd)"
   ]
  },
  {
   "cell_type": "code",
   "execution_count": 5,
   "id": "32bca22d",
   "metadata": {
    "scrolled": true
   },
   "outputs": [
    {
     "name": "stdout",
     "output_type": "stream",
     "text": [
      "[0.33333333 0.66666667 1.         1.33333333]\n"
     ]
    }
   ],
   "source": [
    "var=np.array([1,2,3,4])\n",
    "varadd=var/3\n",
    "print(varadd)"
   ]
  },
  {
   "cell_type": "code",
   "execution_count": 6,
   "id": "6b510c3f",
   "metadata": {},
   "outputs": [
    {
     "name": "stdout",
     "output_type": "stream",
     "text": [
      "[ 3  6  9 12]\n"
     ]
    }
   ],
   "source": [
    "var=np.array([1,2,3,4])\n",
    "varadd=var*3\n",
    "print(varadd)"
   ]
  },
  {
   "cell_type": "code",
   "execution_count": 7,
   "id": "c43db4fe",
   "metadata": {},
   "outputs": [
    {
     "name": "stdout",
     "output_type": "stream",
     "text": [
      "[1 2 0 1]\n"
     ]
    }
   ],
   "source": [
    "var=np.array([1,2,3,4])\n",
    "varadd=var%3#moduler Remider of diving two number\n",
    "print(varadd)"
   ]
  },
  {
   "cell_type": "code",
   "execution_count": 8,
   "id": "07920423",
   "metadata": {},
   "outputs": [
    {
     "data": {
      "text/plain": [
       "array([4, 5, 6, 7])"
      ]
     },
     "execution_count": 8,
     "metadata": {},
     "output_type": "execute_result"
    }
   ],
   "source": [
    "np.add(var,3)"
   ]
  },
  {
   "cell_type": "code",
   "execution_count": 9,
   "id": "e5b6254b",
   "metadata": {},
   "outputs": [
    {
     "data": {
      "text/plain": [
       "array([-2, -1,  0,  1])"
      ]
     },
     "execution_count": 9,
     "metadata": {},
     "output_type": "execute_result"
    }
   ],
   "source": [
    "np.subtract(var,3)"
   ]
  },
  {
   "cell_type": "code",
   "execution_count": 10,
   "id": "40e36450",
   "metadata": {},
   "outputs": [
    {
     "data": {
      "text/plain": [
       "array([ 3,  6,  9, 12])"
      ]
     },
     "execution_count": 10,
     "metadata": {},
     "output_type": "execute_result"
    }
   ],
   "source": [
    "np.multiply(var,3)"
   ]
  },
  {
   "cell_type": "code",
   "execution_count": 11,
   "id": "ccac2b60",
   "metadata": {},
   "outputs": [
    {
     "data": {
      "text/plain": [
       "array([0.33333333, 0.66666667, 1.        , 1.33333333])"
      ]
     },
     "execution_count": 11,
     "metadata": {},
     "output_type": "execute_result"
    }
   ],
   "source": [
    "np.divide(var,3)"
   ]
  },
  {
   "cell_type": "code",
   "execution_count": 12,
   "id": "12d87d4d",
   "metadata": {},
   "outputs": [
    {
     "data": {
      "text/plain": [
       "array([  1,   4,  27, 256], dtype=int32)"
      ]
     },
     "execution_count": 12,
     "metadata": {},
     "output_type": "execute_result"
    }
   ],
   "source": [
    "np.power(var,var1)"
   ]
  },
  {
   "cell_type": "code",
   "execution_count": 13,
   "id": "4c395204",
   "metadata": {},
   "outputs": [
    {
     "data": {
      "text/plain": [
       "array([1, 0, 0, 0])"
      ]
     },
     "execution_count": 13,
     "metadata": {},
     "output_type": "execute_result"
    }
   ],
   "source": [
    "np.reciprocal(var,var1)"
   ]
  },
  {
   "cell_type": "code",
   "execution_count": 14,
   "id": "a77928ac",
   "metadata": {},
   "outputs": [
    {
     "name": "stdout",
     "output_type": "stream",
     "text": [
      "[[2 4 6 8]\n",
      " [2 4 6 8]]\n"
     ]
    }
   ],
   "source": [
    "#2D array\n",
    "var=np.array([[1,2,3,4],[1,2,3,4]])\n",
    "var1=np.array([[1,2,3,4],[1,2,3,4]])\n",
    "\n",
    "varadd=var+var1\n",
    "print(varadd)"
   ]
  },
  {
   "cell_type": "code",
   "execution_count": 15,
   "id": "d6395e74",
   "metadata": {},
   "outputs": [
    {
     "data": {
      "text/plain": [
       "array([[1, 0, 0, 0],\n",
       "       [1, 0, 0, 0]], dtype=int32)"
      ]
     },
     "execution_count": 15,
     "metadata": {},
     "output_type": "execute_result"
    }
   ],
   "source": [
    "np.reciprocal(var)"
   ]
  },
  {
   "cell_type": "code",
   "execution_count": 16,
   "id": "ba351b63",
   "metadata": {},
   "outputs": [
    {
     "name": "stdout",
     "output_type": "stream",
     "text": [
      "min : 1\n",
      "max : 5\n"
     ]
    }
   ],
   "source": [
    "var=np.array([1,2,3,4,5,3,2])\n",
    "print('min :',np.min(var))\n",
    "print('max :',np.max(var))"
   ]
  },
  {
   "cell_type": "code",
   "execution_count": 17,
   "id": "4dd451df",
   "metadata": {},
   "outputs": [
    {
     "name": "stdout",
     "output_type": "stream",
     "text": [
      "min : 1\n",
      "max : 6\n"
     ]
    }
   ],
   "source": [
    "var=np.array([[1,2,3,4],[1,2,3,6]])\n",
    "print('min :',np.min(var))\n",
    "print('max :',np.max(var))"
   ]
  },
  {
   "cell_type": "code",
   "execution_count": 18,
   "id": "1b6d6d85",
   "metadata": {},
   "outputs": [
    {
     "name": "stdout",
     "output_type": "stream",
     "text": [
      "min : 1 0\n",
      "max : 6 6\n"
     ]
    }
   ],
   "source": [
    "var=np.array([[1,2,3,4],[1,2,6,3]])\n",
    "print('min :',np.min(var),np.argmin(var))\n",
    "print('max :',np.max(var),np.argmax(var))"
   ]
  },
  {
   "cell_type": "code",
   "execution_count": 19,
   "id": "1d75bea3",
   "metadata": {},
   "outputs": [
    {
     "name": "stdout",
     "output_type": "stream",
     "text": [
      "min : [1 4]\n",
      "min : [1 2 3 4]\n",
      "Sqrt : [[1.         1.41421356 1.73205081 2.        ]\n",
      " [2.         2.82842712 2.44948974 3.        ]]\n"
     ]
    }
   ],
   "source": [
    "var=np.array([[1,2,3,4],[4,8,6,9]])\n",
    "print('min :',np.min(var,axis=1))#row wise\n",
    "print('min :',np.min(var,axis=0))#column wise\n",
    "print('Sqrt :',np.sqrt(var))#column wise"
   ]
  },
  {
   "cell_type": "code",
   "execution_count": 20,
   "id": "75845340",
   "metadata": {},
   "outputs": [
    {
     "name": "stdout",
     "output_type": "stream",
     "text": [
      "[ 0.84147098  0.90929743  0.14112001 -0.7568025  -0.95892427  0.14112001\n",
      "  0.90929743]\n",
      "[ 0.54030231 -0.41614684 -0.9899925  -0.65364362  0.28366219 -0.9899925\n",
      " -0.41614684]\n"
     ]
    }
   ],
   "source": [
    "var=np.array([1,2,3,4,5,3,2])\n",
    "print(np.sin(var))\n",
    "print(np.cos(var))"
   ]
  },
  {
   "cell_type": "code",
   "execution_count": 21,
   "id": "d64ae470",
   "metadata": {},
   "outputs": [
    {
     "data": {
      "text/plain": [
       "array([ 1,  3,  6, 10, 15, 18, 20], dtype=int32)"
      ]
     },
     "execution_count": 21,
     "metadata": {},
     "output_type": "execute_result"
    }
   ],
   "source": [
    "var=np.array([1,2,3,4,5,3,2])\n",
    "np.cumsum(var)"
   ]
  },
  {
   "cell_type": "code",
   "execution_count": null,
   "id": "ff33cbb1",
   "metadata": {},
   "outputs": [],
   "source": []
  }
 ],
 "metadata": {
  "kernelspec": {
   "display_name": "Python 3 (ipykernel)",
   "language": "python",
   "name": "python3"
  },
  "language_info": {
   "codemirror_mode": {
    "name": "ipython",
    "version": 3
   },
   "file_extension": ".py",
   "mimetype": "text/x-python",
   "name": "python",
   "nbconvert_exporter": "python",
   "pygments_lexer": "ipython3",
   "version": "3.7.3"
  }
 },
 "nbformat": 4,
 "nbformat_minor": 5
}

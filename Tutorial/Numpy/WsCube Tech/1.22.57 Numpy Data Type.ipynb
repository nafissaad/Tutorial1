{
 "cells": [
  {
   "cell_type": "code",
   "execution_count": 1,
   "id": "cb4cce91",
   "metadata": {},
   "outputs": [
    {
     "name": "stdout",
     "output_type": "stream",
     "text": [
      "Data Type : int32\n"
     ]
    }
   ],
   "source": [
    "#Data Type\n",
    "import numpy as np\n",
    "var=np.array([1,2,3,4])\n",
    "print(\"Data Type :\",var.dtype)"
   ]
  },
  {
   "cell_type": "code",
   "execution_count": 2,
   "id": "a44130b7",
   "metadata": {},
   "outputs": [
    {
     "name": "stdout",
     "output_type": "stream",
     "text": [
      "Data Type : int32\n"
     ]
    }
   ],
   "source": [
    "var=np.array([1,2,3,4,12,13,14,15])\n",
    "print(\"Data Type :\",var.dtype)"
   ]
  },
  {
   "cell_type": "code",
   "execution_count": 3,
   "id": "519c0231",
   "metadata": {},
   "outputs": [
    {
     "name": "stdout",
     "output_type": "stream",
     "text": [
      "Data Type : float64\n"
     ]
    }
   ],
   "source": [
    "var=np.array([1.0,1.2,1.3])\n",
    "print('Data Type :',var.dtype)"
   ]
  },
  {
   "cell_type": "code",
   "execution_count": 4,
   "id": "3c10e824",
   "metadata": {},
   "outputs": [
    {
     "name": "stdout",
     "output_type": "stream",
     "text": [
      "Data Type : <U1\n"
     ]
    }
   ],
   "source": [
    "var=np.array(['A','S','D'])\n",
    "print('Data Type :',var.dtype)#<U1 means String"
   ]
  },
  {
   "cell_type": "code",
   "execution_count": 5,
   "id": "300218ab",
   "metadata": {},
   "outputs": [
    {
     "name": "stdout",
     "output_type": "stream",
     "text": [
      "Data Type : <U11\n"
     ]
    }
   ],
   "source": [
    "var=np.array(['A','S','D',1,2,3,4])\n",
    "print('Data Type :',var.dtype)"
   ]
  },
  {
   "cell_type": "code",
   "execution_count": 9,
   "id": "590c5516",
   "metadata": {},
   "outputs": [
    {
     "name": "stdout",
     "output_type": "stream",
     "text": [
      "Data Type : int32\n"
     ]
    }
   ],
   "source": [
    "x=np.array([1,2,2,3,4])\n",
    "print('Data Type :',x.dtype)"
   ]
  },
  {
   "cell_type": "code",
   "execution_count": 10,
   "id": "2e8a0d47",
   "metadata": {},
   "outputs": [
    {
     "name": "stdout",
     "output_type": "stream",
     "text": [
      "Data Type : int8\n"
     ]
    }
   ],
   "source": [
    "x=np.array([1,2,2,3,4],dtype=np.int8)\n",
    "print('Data Type :',x.dtype)#converted data type "
   ]
  },
  {
   "cell_type": "code",
   "execution_count": 16,
   "id": "f8b0bd60",
   "metadata": {},
   "outputs": [
    {
     "name": "stdout",
     "output_type": "stream",
     "text": [
      "Data Type : float32\n",
      "[1. 2. 2. 3. 4.]\n"
     ]
    }
   ],
   "source": [
    "x=np.array([1,2,2,3,4],dtype='f')\n",
    "print('Data Type :',x.dtype)#converted data type \n",
    "print(x)"
   ]
  },
  {
   "cell_type": "code",
   "execution_count": 18,
   "id": "bbe7be3c",
   "metadata": {},
   "outputs": [
    {
     "name": "stdout",
     "output_type": "stream",
     "text": [
      "Data Type : int32\n"
     ]
    }
   ],
   "source": [
    "new=np.int32(x)\n",
    "print('Data Type :',new.dtype)"
   ]
  },
  {
   "cell_type": "code",
   "execution_count": 19,
   "id": "5162750b",
   "metadata": {},
   "outputs": [
    {
     "name": "stdout",
     "output_type": "stream",
     "text": [
      "Data Type : int32\n"
     ]
    }
   ],
   "source": [
    "x=new.astype(float)\n",
    "print('Data Type :',new.dtype)"
   ]
  },
  {
   "cell_type": "code",
   "execution_count": null,
   "id": "77f950f7",
   "metadata": {},
   "outputs": [],
   "source": []
  }
 ],
 "metadata": {
  "kernelspec": {
   "display_name": "Python 3 (ipykernel)",
   "language": "python",
   "name": "python3"
  },
  "language_info": {
   "codemirror_mode": {
    "name": "ipython",
    "version": 3
   },
   "file_extension": ".py",
   "mimetype": "text/x-python",
   "name": "python",
   "nbconvert_exporter": "python",
   "pygments_lexer": "ipython3",
   "version": "3.7.3"
  }
 },
 "nbformat": 4,
 "nbformat_minor": 5
}

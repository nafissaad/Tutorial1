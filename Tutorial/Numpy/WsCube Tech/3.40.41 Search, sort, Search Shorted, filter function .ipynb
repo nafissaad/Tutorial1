{
 "cells": [
  {
   "cell_type": "code",
   "execution_count": 1,
   "id": "36c05a22",
   "metadata": {},
   "outputs": [
    {
     "data": {
      "text/plain": [
       "(array([1, 4, 6], dtype=int64),)"
      ]
     },
     "execution_count": 1,
     "metadata": {},
     "output_type": "execute_result"
    }
   ],
   "source": [
    "import numpy as np\n",
    "var=np.array([1,2,3,4,2,5,2,5,6,7])\n",
    "#index        0,1,2,3,4,5,6,7,8,9\n",
    "\n",
    "#position index\n",
    "x=np.where(var==2)\n",
    "x"
   ]
  },
  {
   "cell_type": "code",
   "execution_count": 2,
   "id": "2b70c0a8",
   "metadata": {},
   "outputs": [
    {
     "data": {
      "text/plain": [
       "(array([3], dtype=int64),)"
      ]
     },
     "execution_count": 2,
     "metadata": {},
     "output_type": "execute_result"
    }
   ],
   "source": [
    "x=np.where(var/2==2)\n",
    "x"
   ]
  },
  {
   "cell_type": "code",
   "execution_count": 3,
   "id": "c859a452",
   "metadata": {},
   "outputs": [
    {
     "data": {
      "text/plain": [
       "(array([1, 3, 4, 6, 8], dtype=int64),)"
      ]
     },
     "execution_count": 3,
     "metadata": {},
     "output_type": "execute_result"
    }
   ],
   "source": [
    "x=np.where((var%2)==0)\n",
    "x"
   ]
  },
  {
   "cell_type": "code",
   "execution_count": 4,
   "id": "4783bcf3",
   "metadata": {},
   "outputs": [
    {
     "name": "stdout",
     "output_type": "stream",
     "text": [
      "5\n"
     ]
    }
   ],
   "source": [
    "#Search Shorted\n",
    "var1=np.array([1,2,3,4,5,6,7,8])\n",
    "#index         0,1,2,3,4,5,6,7\n",
    "\n",
    "x1=np.searchsorted(var1,5,side='right')\n",
    "print(x1)"
   ]
  },
  {
   "cell_type": "code",
   "execution_count": 5,
   "id": "e0847f30",
   "metadata": {},
   "outputs": [
    {
     "name": "stdout",
     "output_type": "stream",
     "text": [
      "[4 4 4]\n"
     ]
    }
   ],
   "source": [
    "#Replace\n",
    "var1=np.array([1,2,3,4,9,10])\n",
    "#index         0,1,2,3,4,5\n",
    "\n",
    "x1=np.searchsorted(var1,[5,6,7],side='right')\n",
    "print(x1)"
   ]
  },
  {
   "cell_type": "code",
   "execution_count": 6,
   "id": "96fc8a0b",
   "metadata": {},
   "outputs": [
    {
     "data": {
      "text/plain": [
       "array([ 1,  2,  3,  4,  9, 10])"
      ]
     },
     "execution_count": 6,
     "metadata": {},
     "output_type": "execute_result"
    }
   ],
   "source": [
    "var1"
   ]
  },
  {
   "cell_type": "code",
   "execution_count": 7,
   "id": "00a65d03",
   "metadata": {},
   "outputs": [
    {
     "name": "stdout",
     "output_type": "stream",
     "text": [
      "[ 1  2  3  4  5  6  7 12 22 52]\n"
     ]
    }
   ],
   "source": [
    "#sort\n",
    "var_1=np.array([4,2,3,1,12,5,22,52,6,7])\n",
    "\n",
    "print(np.sort(var_1))"
   ]
  },
  {
   "cell_type": "code",
   "execution_count": 8,
   "id": "aef87e9f",
   "metadata": {},
   "outputs": [
    {
     "name": "stdout",
     "output_type": "stream",
     "text": [
      "[[ 2  3  4]\n",
      " [ 1  5 12]\n",
      " [ 6 22 52]]\n"
     ]
    }
   ],
   "source": [
    "#sort\n",
    "var_1=np.array([[4,2,3],[1,12,5],[22,52,6]])\n",
    "\n",
    "print(np.sort(var_1))"
   ]
  },
  {
   "cell_type": "code",
   "execution_count": 9,
   "id": "3ed4eba3",
   "metadata": {},
   "outputs": [
    {
     "name": "stdout",
     "output_type": "stream",
     "text": [
      "['a' 'd' 'f' 's']\n"
     ]
    }
   ],
   "source": [
    "var_1=np.array(['a','s','d','f'])\n",
    "\n",
    "print(np.sort(var_1))"
   ]
  },
  {
   "cell_type": "code",
   "execution_count": 10,
   "id": "a6ec4dbc",
   "metadata": {},
   "outputs": [
    {
     "name": "stdout",
     "output_type": "stream",
     "text": [
      "['a' 'f']\n"
     ]
    }
   ],
   "source": [
    "var_1=np.array(['a','s','d','f'])\n",
    "f=[True,False,False,True]\n",
    "new_a=var_1[f]\n",
    "print(new_a)"
   ]
  },
  {
   "cell_type": "code",
   "execution_count": null,
   "id": "3c4ff38d",
   "metadata": {},
   "outputs": [],
   "source": []
  }
 ],
 "metadata": {
  "kernelspec": {
   "display_name": "Python 3 (ipykernel)",
   "language": "python",
   "name": "python3"
  },
  "language_info": {
   "codemirror_mode": {
    "name": "ipython",
    "version": 3
   },
   "file_extension": ".py",
   "mimetype": "text/x-python",
   "name": "python",
   "nbconvert_exporter": "python",
   "pygments_lexer": "ipython3",
   "version": "3.7.3"
  }
 },
 "nbformat": 4,
 "nbformat_minor": 5
}

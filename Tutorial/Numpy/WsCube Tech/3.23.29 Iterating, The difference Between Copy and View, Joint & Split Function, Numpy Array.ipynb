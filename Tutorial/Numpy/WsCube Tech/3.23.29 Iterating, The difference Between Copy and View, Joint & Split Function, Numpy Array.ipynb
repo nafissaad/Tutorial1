{
 "cells": [
  {
   "cell_type": "code",
   "execution_count": 1,
   "id": "a164abab",
   "metadata": {},
   "outputs": [
    {
     "name": "stdout",
     "output_type": "stream",
     "text": [
      "9\n",
      "8\n",
      "7\n",
      "6\n",
      "5\n",
      "4\n"
     ]
    }
   ],
   "source": [
    "import numpy as np\n",
    "var=np.array([9,8,7,6,5,4])\n",
    "for i in var:\n",
    "    print(i)"
   ]
  },
  {
   "cell_type": "code",
   "execution_count": 2,
   "id": "0da169f3",
   "metadata": {},
   "outputs": [
    {
     "name": "stdout",
     "output_type": "stream",
     "text": [
      "[[1 2 3 4]\n",
      " [1 2 3 4]]\n"
     ]
    }
   ],
   "source": [
    "var1=np.array([[1,2,3,4],[1,2,3,4]])\n",
    "print(var1)"
   ]
  },
  {
   "cell_type": "code",
   "execution_count": 3,
   "id": "4a4c4983",
   "metadata": {},
   "outputs": [
    {
     "name": "stdout",
     "output_type": "stream",
     "text": [
      "[1 2 3 4]\n",
      "[1 2 3 4]\n"
     ]
    }
   ],
   "source": [
    "for j in var1:\n",
    "    print(j)"
   ]
  },
  {
   "cell_type": "code",
   "execution_count": 4,
   "id": "822344b7",
   "metadata": {},
   "outputs": [
    {
     "name": "stdout",
     "output_type": "stream",
     "text": [
      "1\n",
      "2\n",
      "3\n",
      "4\n",
      "1\n",
      "2\n",
      "3\n",
      "4\n"
     ]
    }
   ],
   "source": [
    "for j in var1:\n",
    "    for k in j:\n",
    "        print(k)"
   ]
  },
  {
   "cell_type": "code",
   "execution_count": 5,
   "id": "7c2808b3",
   "metadata": {},
   "outputs": [
    {
     "name": "stdout",
     "output_type": "stream",
     "text": [
      "[[[1 2 3 4]\n",
      "  [1 2 3 4]]]\n"
     ]
    }
   ],
   "source": [
    "var3=np.array([[[1,2,3,4],[1,2,3,4]]])\n",
    "print(var3)"
   ]
  },
  {
   "cell_type": "code",
   "execution_count": 6,
   "id": "73e046ac",
   "metadata": {},
   "outputs": [
    {
     "name": "stdout",
     "output_type": "stream",
     "text": [
      "3\n"
     ]
    }
   ],
   "source": [
    "print(var3.ndim)"
   ]
  },
  {
   "cell_type": "code",
   "execution_count": 7,
   "id": "3481dc47",
   "metadata": {},
   "outputs": [
    {
     "name": "stdout",
     "output_type": "stream",
     "text": [
      "1\n",
      "2\n",
      "3\n",
      "4\n",
      "1\n",
      "2\n",
      "3\n",
      "4\n"
     ]
    }
   ],
   "source": [
    "for i in var3:\n",
    "    for j in i:\n",
    "        for k in j:\n",
    "            print(k)"
   ]
  },
  {
   "cell_type": "code",
   "execution_count": 8,
   "id": "e1073684",
   "metadata": {},
   "outputs": [
    {
     "name": "stdout",
     "output_type": "stream",
     "text": [
      "1\n",
      "2\n",
      "3\n",
      "4\n",
      "1\n",
      "2\n",
      "3\n",
      "4\n"
     ]
    }
   ],
   "source": [
    "for i in np.nditer(var3):\n",
    "    print(i)"
   ]
  },
  {
   "cell_type": "code",
   "execution_count": 9,
   "id": "ea399384",
   "metadata": {},
   "outputs": [
    {
     "name": "stdout",
     "output_type": "stream",
     "text": [
      "b'1'\n",
      "b'2'\n",
      "b'3'\n",
      "b'4'\n",
      "b'1'\n",
      "b'2'\n",
      "b'3'\n",
      "b'4'\n"
     ]
    }
   ],
   "source": [
    "for i in np.nditer(var3,flags=['buffered'],op_dtypes=['S']):\n",
    "    print(i)"
   ]
  },
  {
   "cell_type": "code",
   "execution_count": 10,
   "id": "e627f405",
   "metadata": {},
   "outputs": [
    {
     "name": "stdout",
     "output_type": "stream",
     "text": [
      "[[[9 8 7 6]\n",
      "  [1 2 3 4]]]\n",
      "3\n",
      "\n",
      "((0, 0, 0), 9)\n",
      "((0, 0, 1), 8)\n",
      "((0, 0, 2), 7)\n",
      "((0, 0, 3), 6)\n",
      "((0, 1, 0), 1)\n",
      "((0, 1, 1), 2)\n",
      "((0, 1, 2), 3)\n",
      "((0, 1, 3), 4)\n"
     ]
    }
   ],
   "source": [
    "var3=np.array([[[9,8,7,6],[1,2,3,4]]])\n",
    "print(var3)\n",
    "print(var3.ndim)\n",
    "print()\n",
    "\n",
    "for i in np.ndenumerate(var3):\n",
    "    print(i)"
   ]
  },
  {
   "cell_type": "code",
   "execution_count": 11,
   "id": "cb59f829",
   "metadata": {},
   "outputs": [
    {
     "name": "stdout",
     "output_type": "stream",
     "text": [
      "var : [1 2 3 4]\n",
      "copy  [1 2 3 4]\n"
     ]
    }
   ],
   "source": [
    "var=np.array([1,2,3,4])\n",
    "co=var.copy()\n",
    "print('var :',var)\n",
    "print('copy ',co)"
   ]
  },
  {
   "cell_type": "code",
   "execution_count": 12,
   "id": "0393b890",
   "metadata": {},
   "outputs": [
    {
     "name": "stdout",
     "output_type": "stream",
     "text": [
      "var : [1 2 3 4]\n",
      "view : [1 2 3 4]\n"
     ]
    }
   ],
   "source": [
    "vi=var.view()\n",
    "print('var :',var)\n",
    "print('view :',vi)"
   ]
  },
  {
   "cell_type": "code",
   "execution_count": 13,
   "id": "c07ba6ad",
   "metadata": {},
   "outputs": [
    {
     "name": "stdout",
     "output_type": "stream",
     "text": [
      "var : [1 2 3 4]\n",
      "var : [ 1 40  3  4]\n"
     ]
    }
   ],
   "source": [
    "co[1]=40\n",
    "print('var :',var)\n",
    "vi[1]=40\n",
    "print('var :',var)"
   ]
  },
  {
   "cell_type": "code",
   "execution_count": 14,
   "id": "e472056d",
   "metadata": {},
   "outputs": [
    {
     "name": "stdout",
     "output_type": "stream",
     "text": [
      "[1 2 3 4 9 8 7 6]\n"
     ]
    }
   ],
   "source": [
    "import numpy as np\n",
    "var=np.array([1,2,3,4])\n",
    "var1=np.array([9,8,7,6])\n",
    "ar=np.concatenate((var,var1))\n",
    "print(ar)"
   ]
  },
  {
   "cell_type": "code",
   "execution_count": 15,
   "id": "91de2020",
   "metadata": {},
   "outputs": [
    {
     "name": "stdout",
     "output_type": "stream",
     "text": [
      "[[1 2]\n",
      " [3 4]]\n",
      "\n",
      "[[9 8]\n",
      " [7 6]]\n",
      "[[1 2 9 8]\n",
      " [3 4 7 6]]\n"
     ]
    }
   ],
   "source": [
    "var=np.array([[1,2],[3,4]])\n",
    "var1=np.array([[9,8],[7,6]])\n",
    "ar=np.concatenate((var,var1),axis=1)\n",
    "print(var)\n",
    "print()\n",
    "print(var1)\n",
    "print(ar)"
   ]
  },
  {
   "cell_type": "code",
   "execution_count": 16,
   "id": "249a1315",
   "metadata": {},
   "outputs": [
    {
     "name": "stdout",
     "output_type": "stream",
     "text": [
      "[[1 2]\n",
      " [3 4]]\n",
      "\n",
      "[[9 8]\n",
      " [7 6]]\n",
      "[[1 2]\n",
      " [3 4]\n",
      " [9 8]\n",
      " [7 6]]\n"
     ]
    }
   ],
   "source": [
    "var=np.array([[1,2],[3,4]])\n",
    "var1=np.array([[9,8],[7,6]])\n",
    "ar=np.concatenate((var,var1),axis=0)\n",
    "print(var)\n",
    "print()\n",
    "print(var1)\n",
    "print(ar)"
   ]
  },
  {
   "cell_type": "code",
   "execution_count": 17,
   "id": "1cc57e0d",
   "metadata": {},
   "outputs": [
    {
     "name": "stdout",
     "output_type": "stream",
     "text": [
      "[[1 9]\n",
      " [2 8]\n",
      " [3 7]\n",
      " [4 6]]\n"
     ]
    }
   ],
   "source": [
    "var=np.array([1,2,3,4])\n",
    "var1=np.array([9,8,7,6])\n",
    "ar=np.stack((var,var1),axis=1)\n",
    "print(ar)"
   ]
  },
  {
   "cell_type": "code",
   "execution_count": 18,
   "id": "1836d02c",
   "metadata": {},
   "outputs": [
    {
     "name": "stdout",
     "output_type": "stream",
     "text": [
      "[[1 2 3 4]\n",
      " [9 8 7 6]]\n"
     ]
    }
   ],
   "source": [
    "var=np.array([1,2,3,4])\n",
    "var1=np.array([9,8,7,6])\n",
    "ar=np.stack((var,var1),axis=0)\n",
    "print(ar)"
   ]
  },
  {
   "cell_type": "code",
   "execution_count": 19,
   "id": "7602e4b5",
   "metadata": {},
   "outputs": [
    {
     "name": "stdout",
     "output_type": "stream",
     "text": [
      "[1 2 3 4 9 8 7 6]\n"
     ]
    }
   ],
   "source": [
    "var=np.array([1,2,3,4])\n",
    "var1=np.array([9,8,7,6])\n",
    "ar=np.hstack((var,var1))\n",
    "print(ar)"
   ]
  },
  {
   "cell_type": "code",
   "execution_count": 20,
   "id": "1a5517ff",
   "metadata": {},
   "outputs": [
    {
     "name": "stdout",
     "output_type": "stream",
     "text": [
      "[[1 2 3 4]\n",
      " [9 8 7 6]]\n"
     ]
    }
   ],
   "source": [
    "var=np.array([1,2,3,4])\n",
    "var1=np.array([9,8,7,6])\n",
    "ar=np.vstack((var,var1))\n",
    "print(ar)"
   ]
  },
  {
   "cell_type": "code",
   "execution_count": 21,
   "id": "b223f58a",
   "metadata": {},
   "outputs": [
    {
     "name": "stdout",
     "output_type": "stream",
     "text": [
      "[[[1 9]\n",
      "  [2 8]\n",
      "  [3 7]\n",
      "  [4 6]]]\n"
     ]
    }
   ],
   "source": [
    "var=np.array([1,2,3,4])\n",
    "var1=np.array([9,8,7,6])\n",
    "ar=np.dstack((var,var1))\n",
    "print(ar)"
   ]
  },
  {
   "cell_type": "code",
   "execution_count": 22,
   "id": "e519e7bc",
   "metadata": {},
   "outputs": [
    {
     "name": "stdout",
     "output_type": "stream",
     "text": [
      "[1 2 3 4 5 6]\n",
      "\n",
      "[array([1, 2]), array([3, 4]), array([5, 6])]\n",
      "[1 2]\n"
     ]
    }
   ],
   "source": [
    "var=np.array([1,2,3,4,5,6])\n",
    "print(var)\n",
    "ar=np.array_split(var,3)\n",
    "print()\n",
    "print(ar)\n",
    "print(ar[0])"
   ]
  },
  {
   "cell_type": "code",
   "execution_count": 23,
   "id": "accbd4a8",
   "metadata": {},
   "outputs": [
    {
     "name": "stdout",
     "output_type": "stream",
     "text": [
      "[[1 2]\n",
      " [3 4]\n",
      " [5 6]]\n",
      "\n",
      "[array([[1, 2]]), array([[3, 4]]), array([[5, 6]])]\n",
      "[[1 2]]\n"
     ]
    }
   ],
   "source": [
    "var=np.array([[1,2],[3,4],[5,6]])\n",
    "print(var)\n",
    "ar=np.array_split(var,3)\n",
    "print()\n",
    "print(ar)\n",
    "print(ar[0])"
   ]
  },
  {
   "cell_type": "code",
   "execution_count": 24,
   "id": "813a9c9f",
   "metadata": {},
   "outputs": [
    {
     "name": "stdout",
     "output_type": "stream",
     "text": [
      "[[1 2]\n",
      " [3 4]\n",
      " [5 6]]\n",
      "\n",
      "[array([[1],\n",
      "       [3],\n",
      "       [5]]), array([[2],\n",
      "       [4],\n",
      "       [6]])]\n",
      "[[1]\n",
      " [3]\n",
      " [5]]\n"
     ]
    }
   ],
   "source": [
    "var=np.array([[1,2],[3,4],[5,6]])\n",
    "print(var)\n",
    "ar=np.array_split(var,2,axis=1)\n",
    "print()\n",
    "print(ar)\n",
    "print(ar[0])"
   ]
  },
  {
   "cell_type": "code",
   "execution_count": 25,
   "id": "39743070",
   "metadata": {},
   "outputs": [
    {
     "name": "stdout",
     "output_type": "stream",
     "text": [
      "[[1 2]\n",
      " [3 4]\n",
      " [5 6]]\n",
      "\n",
      "[array([[1, 2]]), array([[3, 4]]), array([[5, 6]])]\n",
      "[[1 2]]\n"
     ]
    }
   ],
   "source": [
    "var=np.array([[1,2],[3,4],[5,6]])\n",
    "print(var)\n",
    "ar=np.array_split(var,3,axis=0)\n",
    "print()\n",
    "print(ar)\n",
    "print(ar[0])"
   ]
  },
  {
   "cell_type": "code",
   "execution_count": null,
   "id": "31f2aca9",
   "metadata": {},
   "outputs": [],
   "source": []
  }
 ],
 "metadata": {
  "kernelspec": {
   "display_name": "Python 3 (ipykernel)",
   "language": "python",
   "name": "python3"
  },
  "language_info": {
   "codemirror_mode": {
    "name": "ipython",
    "version": 3
   },
   "file_extension": ".py",
   "mimetype": "text/x-python",
   "name": "python",
   "nbconvert_exporter": "python",
   "pygments_lexer": "ipython3",
   "version": "3.7.3"
  }
 },
 "nbformat": 4,
 "nbformat_minor": 5
}

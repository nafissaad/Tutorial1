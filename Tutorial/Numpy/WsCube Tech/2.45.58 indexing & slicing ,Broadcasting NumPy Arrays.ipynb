{
 "cells": [
  {
   "cell_type": "code",
   "execution_count": 1,
   "id": "84dc6cd2",
   "metadata": {},
   "outputs": [
    {
     "name": "stdout",
     "output_type": "stream",
     "text": [
      "[2 4 6 8]\n"
     ]
    }
   ],
   "source": [
    "import numpy as np\n",
    "var1=np.array([1,2,3,4])\n",
    "var2=np.array([1,2,3,4])\n",
    "print( var1+var2 )"
   ]
  },
  {
   "cell_type": "code",
   "execution_count": 2,
   "id": "92fe95c7",
   "metadata": {},
   "outputs": [
    {
     "data": {
      "text/plain": [
       "(4,)"
      ]
     },
     "execution_count": 2,
     "metadata": {},
     "output_type": "execute_result"
    }
   ],
   "source": [
    "var1.shape"
   ]
  },
  {
   "cell_type": "code",
   "execution_count": 3,
   "id": "a3063370",
   "metadata": {},
   "outputs": [
    {
     "name": "stdout",
     "output_type": "stream",
     "text": [
      "[[1]\n",
      " [2]\n",
      " [3]\n",
      " [4]]\n"
     ]
    },
    {
     "data": {
      "text/plain": [
       "(4, 1)"
      ]
     },
     "execution_count": 3,
     "metadata": {},
     "output_type": "execute_result"
    }
   ],
   "source": [
    "var2=np.array([[1],[2],[3],[4]])\n",
    "print(var2)\n",
    "var2.shape"
   ]
  },
  {
   "cell_type": "code",
   "execution_count": 4,
   "id": "9ca6d10a",
   "metadata": {},
   "outputs": [
    {
     "name": "stdout",
     "output_type": "stream",
     "text": [
      "[[2 3 4 5]\n",
      " [3 4 5 6]\n",
      " [4 5 6 7]\n",
      " [5 6 7 8]]\n"
     ]
    }
   ],
   "source": [
    "print(var1+var2)"
   ]
  },
  {
   "cell_type": "code",
   "execution_count": 5,
   "id": "72019290",
   "metadata": {},
   "outputs": [
    {
     "name": "stdout",
     "output_type": "stream",
     "text": [
      "(2, 1)\n"
     ]
    }
   ],
   "source": [
    "x=np.array([[1],[2]])\n",
    "print(x.shape)"
   ]
  },
  {
   "cell_type": "code",
   "execution_count": 6,
   "id": "418bfc8b",
   "metadata": {},
   "outputs": [
    {
     "name": "stdout",
     "output_type": "stream",
     "text": [
      "(2, 3)\n"
     ]
    }
   ],
   "source": [
    "y=np.array([[1,2,3],[1,2,3]])\n",
    "print(y.shape)"
   ]
  },
  {
   "cell_type": "code",
   "execution_count": 7,
   "id": "0339e02e",
   "metadata": {},
   "outputs": [
    {
     "name": "stdout",
     "output_type": "stream",
     "text": [
      "[[2 3 4]\n",
      " [3 4 5]]\n"
     ]
    }
   ],
   "source": [
    "print(x+y)"
   ]
  },
  {
   "cell_type": "code",
   "execution_count": 8,
   "id": "afb5c2e9",
   "metadata": {},
   "outputs": [
    {
     "name": "stdout",
     "output_type": "stream",
     "text": [
      "8\n",
      "6\n"
     ]
    }
   ],
   "source": [
    "#indexing\n",
    "var=np.array([9,8,7,6])\n",
    "#             0,1,2,3\n",
    "#            -4,-3,-2,-1\n",
    "print(var[1])\n",
    "print(var[-1])"
   ]
  },
  {
   "cell_type": "code",
   "execution_count": 9,
   "id": "4ddc7e4d",
   "metadata": {},
   "outputs": [
    {
     "name": "stdout",
     "output_type": "stream",
     "text": [
      "[[9 8 7]\n",
      " [4 5 6]]\n",
      "2\n"
     ]
    }
   ],
   "source": [
    "var1=np.array([[9,8,7],[4,5,6]])\n",
    "print(var1)\n",
    "print(var1.ndim)"
   ]
  },
  {
   "cell_type": "code",
   "execution_count": 10,
   "id": "4beb5f41",
   "metadata": {},
   "outputs": [
    {
     "name": "stdout",
     "output_type": "stream",
     "text": [
      "4\n"
     ]
    }
   ],
   "source": [
    "print(var1[1,0])"
   ]
  },
  {
   "cell_type": "code",
   "execution_count": 11,
   "id": "a1b66cbc",
   "metadata": {},
   "outputs": [
    {
     "name": "stdout",
     "output_type": "stream",
     "text": [
      "[[[1 2 7]\n",
      "  [1 2 9]]\n",
      "\n",
      " [[4 5 8]\n",
      "  [4 6 9]]]\n"
     ]
    }
   ],
   "source": [
    "var2=np.array([[[1,2,7],[1,2,9]]\n",
    "              ,[[4,5,8],[4,6,9]]])\n",
    "print(var2)"
   ]
  },
  {
   "cell_type": "code",
   "execution_count": 12,
   "id": "d76c801f",
   "metadata": {},
   "outputs": [
    {
     "name": "stdout",
     "output_type": "stream",
     "text": [
      "6\n",
      "[[4 5 8]\n",
      " [4 6 9]]\n",
      "[5]\n"
     ]
    }
   ],
   "source": [
    "print(var2[1,1,1])\n",
    "print(var2[1,0:])\n",
    "print(var2[1,0,1:2])"
   ]
  },
  {
   "cell_type": "code",
   "execution_count": 13,
   "id": "2eac1c24",
   "metadata": {},
   "outputs": [
    {
     "name": "stdout",
     "output_type": "stream",
     "text": [
      "[1 2 3 4 5 6 7]\n"
     ]
    }
   ],
   "source": [
    "#Slicing\n",
    "var=np.array([1,2,3,4,5,6,7])\n",
    "print(var)"
   ]
  },
  {
   "cell_type": "code",
   "execution_count": 14,
   "id": "bd4965b3",
   "metadata": {},
   "outputs": [
    {
     "name": "stdout",
     "output_type": "stream",
     "text": [
      "2 to 5 : [2 3 4 5]\n",
      "2 to end : [2 3 4 5 6 7]\n",
      "start to 5 : [1 2 3 4 5]\n",
      "stop : [2 4 6]\n",
      "stop : [1 3 5 7]\n",
      "stop : [1 3 5]\n"
     ]
    }
   ],
   "source": [
    "print('2 to 5 :',var[1:5])\n",
    "print('2 to end :',var[1:])\n",
    "print('start to 5 :',var[:5])\n",
    "print('stop :',var[1:6:2])\n",
    "print('stop :',var[::2])\n",
    "print('stop :',var[0:6:2])"
   ]
  },
  {
   "cell_type": "code",
   "execution_count": null,
   "id": "461cc779",
   "metadata": {},
   "outputs": [],
   "source": []
  }
 ],
 "metadata": {
  "kernelspec": {
   "display_name": "Python 3 (ipykernel)",
   "language": "python",
   "name": "python3"
  },
  "language_info": {
   "codemirror_mode": {
    "name": "ipython",
    "version": 3
   },
   "file_extension": ".py",
   "mimetype": "text/x-python",
   "name": "python",
   "nbconvert_exporter": "python",
   "pygments_lexer": "ipython3",
   "version": "3.7.3"
  }
 },
 "nbformat": 4,
 "nbformat_minor": 5
}

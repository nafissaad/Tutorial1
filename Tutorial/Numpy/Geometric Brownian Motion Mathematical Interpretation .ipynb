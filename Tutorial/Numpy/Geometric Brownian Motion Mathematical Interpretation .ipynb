{
 "cells": [
  {
   "cell_type": "code",
   "execution_count": 1,
   "id": "8bd4c75f",
   "metadata": {},
   "outputs": [],
   "source": [
    "import numpy as np"
   ]
  },
  {
   "cell_type": "code",
   "execution_count": 2,
   "id": "44c8b595",
   "metadata": {},
   "outputs": [],
   "source": [
    "#drift coefficient\n",
    "mu=0.1\n",
    "#number of steps\n",
    "n=5\n",
    "#time in years\n",
    "T=1\n",
    "#number of simulation\n",
    "M=3\n",
    "#Initial Stock Price\n",
    "S0=100\n",
    "#volatilaity\n",
    "sigma=0.3"
   ]
  },
  {
   "cell_type": "code",
   "execution_count": 3,
   "id": "d0ebd08c",
   "metadata": {},
   "outputs": [
    {
     "data": {
      "text/plain": [
       "0.2"
      ]
     },
     "execution_count": 3,
     "metadata": {},
     "output_type": "execute_result"
    }
   ],
   "source": [
    "dt=T/n\n",
    "dt"
   ]
  },
  {
   "cell_type": "code",
   "execution_count": 4,
   "id": "a117361c",
   "metadata": {},
   "outputs": [
    {
     "data": {
      "text/plain": [
       "0.045"
      ]
     },
     "execution_count": 4,
     "metadata": {},
     "output_type": "execute_result"
    }
   ],
   "source": [
    "sigma**2/2"
   ]
  },
  {
   "cell_type": "code",
   "execution_count": 5,
   "id": "4620b0f5",
   "metadata": {},
   "outputs": [
    {
     "data": {
      "text/plain": [
       "0.045"
      ]
     },
     "execution_count": 5,
     "metadata": {},
     "output_type": "execute_result"
    }
   ],
   "source": [
    "(0.3**2)/2"
   ]
  },
  {
   "cell_type": "code",
   "execution_count": 6,
   "id": "e7ba1797",
   "metadata": {},
   "outputs": [
    {
     "data": {
      "text/plain": [
       "0.05500000000000001"
      ]
     },
     "execution_count": 6,
     "metadata": {},
     "output_type": "execute_result"
    }
   ],
   "source": [
    "mu-(0.3**2)/2"
   ]
  },
  {
   "cell_type": "code",
   "execution_count": 7,
   "id": "2ea20534",
   "metadata": {},
   "outputs": [
    {
     "data": {
      "text/plain": [
       "0.05500000000000001"
      ]
     },
     "execution_count": 7,
     "metadata": {},
     "output_type": "execute_result"
    }
   ],
   "source": [
    "(mu-(0.3**2/2))"
   ]
  },
  {
   "cell_type": "code",
   "execution_count": 8,
   "id": "f3c5149a",
   "metadata": {},
   "outputs": [
    {
     "data": {
      "text/plain": [
       "1.056534589627283"
      ]
     },
     "execution_count": 8,
     "metadata": {},
     "output_type": "execute_result"
    }
   ],
   "source": [
    "vealue_of_exponentail=2.718\n",
    "vealue_of_exponentail**0.05500000000000001"
   ]
  },
  {
   "cell_type": "code",
   "execution_count": 9,
   "id": "4f169f47",
   "metadata": {},
   "outputs": [
    {
     "data": {
      "text/plain": [
       "0.011000000000000003"
      ]
     },
     "execution_count": 9,
     "metadata": {},
     "output_type": "execute_result"
    }
   ],
   "source": [
    "f=(mu-(0.3**2/2))*dt\n",
    "f"
   ]
  },
  {
   "cell_type": "code",
   "execution_count": 10,
   "id": "c93881e4",
   "metadata": {},
   "outputs": [
    {
     "data": {
      "text/plain": [
       "0.4472135954999579"
      ]
     },
     "execution_count": 10,
     "metadata": {},
     "output_type": "execute_result"
    }
   ],
   "source": [
    "np.sqrt(dt)"
   ]
  },
  {
   "cell_type": "code",
   "execution_count": 11,
   "id": "b6f8b2ff",
   "metadata": {},
   "outputs": [
    {
     "data": {
      "text/plain": [
       "array([[ 0.26177372,  0.29683569, -0.12796878,  0.29747958, -0.13127095],\n",
       "       [-0.12136521, -0.06536133, -0.00248917, -0.46038191, -0.35559085],\n",
       "       [-0.21624816, -0.44790702,  0.48832992,  0.84082191, -0.14252349]])"
      ]
     },
     "execution_count": 11,
     "metadata": {},
     "output_type": "execute_result"
    }
   ],
   "source": [
    "k=np.random.normal(0, np.sqrt(dt), size=(M,n))#row=4,column=3\n",
    "k"
   ]
  },
  {
   "cell_type": "code",
   "execution_count": 12,
   "id": "c54ff1f5",
   "metadata": {},
   "outputs": [
    {
     "data": {
      "text/plain": [
       "array([[ 0.26177372, -0.12136521, -0.21624816],\n",
       "       [ 0.29683569, -0.06536133, -0.44790702],\n",
       "       [-0.12796878, -0.00248917,  0.48832992],\n",
       "       [ 0.29747958, -0.46038191,  0.84082191],\n",
       "       [-0.13127095, -0.35559085, -0.14252349]])"
      ]
     },
     "execution_count": 12,
     "metadata": {},
     "output_type": "execute_result"
    }
   ],
   "source": [
    "o=k.T#Row3,column=4\n",
    "o"
   ]
  },
  {
   "cell_type": "code",
   "execution_count": 13,
   "id": "a785d0f3",
   "metadata": {},
   "outputs": [
    {
     "data": {
      "text/plain": [
       "(array([[ 0.07853212, -0.03640956, -0.06487445],\n",
       "        [ 0.08905071, -0.0196084 , -0.13437211],\n",
       "        [-0.03839063, -0.00074675,  0.14649898],\n",
       "        [ 0.08924387, -0.13811457,  0.25224657],\n",
       "        [-0.03938128, -0.10667726, -0.04275705]]),\n",
       " 0.2077242)"
      ]
     },
     "execution_count": 13,
     "metadata": {},
     "output_type": "execute_result"
    }
   ],
   "source": [
    "two=sigma*o\n",
    "two,0.692414*sigma"
   ]
  },
  {
   "cell_type": "code",
   "execution_count": 14,
   "id": "64081880",
   "metadata": {},
   "outputs": [
    {
     "data": {
      "text/plain": [
       "(array([[ 0.08953212, -0.02540956, -0.05387445],\n",
       "        [ 0.10005071, -0.0086084 , -0.12337211],\n",
       "        [-0.02739063,  0.01025325,  0.15749898],\n",
       "        [ 0.10024387, -0.12711457,  0.26324657],\n",
       "        [-0.02838128, -0.09567726, -0.03175705]]),\n",
       " 0.2187242)"
      ]
     },
     "execution_count": 14,
     "metadata": {},
     "output_type": "execute_result"
    }
   ],
   "source": [
    "r=f+two\n",
    "r,0.011000000000000003+0.2077242"
   ]
  },
  {
   "cell_type": "code",
   "execution_count": 15,
   "id": "dea3a374",
   "metadata": {},
   "outputs": [
    {
     "data": {
      "text/plain": [
       "array([[1.09366246, 0.97491054, 0.94755107],\n",
       "       [1.10522696, 0.99142855, 0.88393468],\n",
       "       [0.97298109, 1.01030599, 1.17057956],\n",
       "       [1.10544047, 0.88063277, 1.30114751],\n",
       "       [0.97201768, 0.90875727, 0.96874191]])"
      ]
     },
     "execution_count": 15,
     "metadata": {},
     "output_type": "execute_result"
    }
   ],
   "source": [
    "np.exp(r)"
   ]
  },
  {
   "cell_type": "code",
   "execution_count": 16,
   "id": "6582d99a",
   "metadata": {},
   "outputs": [
    {
     "data": {
      "text/plain": [
       "1.2444879995615123"
      ]
     },
     "execution_count": 16,
     "metadata": {},
     "output_type": "execute_result"
    }
   ],
   "source": [
    "np.exp(0.2187242)"
   ]
  },
  {
   "cell_type": "code",
   "execution_count": 17,
   "id": "8a910d43",
   "metadata": {},
   "outputs": [
    {
     "data": {
      "text/plain": [
       "array([[1.09366246, 0.97491054, 0.94755107],\n",
       "       [1.10522696, 0.99142855, 0.88393468],\n",
       "       [0.97298109, 1.01030599, 1.17057956],\n",
       "       [1.10544047, 0.88063277, 1.30114751],\n",
       "       [0.97201768, 0.90875727, 0.96874191]])"
      ]
     },
     "execution_count": 17,
     "metadata": {},
     "output_type": "execute_result"
    }
   ],
   "source": [
    "St=np.exp((mu - sigma ** 2 / 2) * dt+ sigma *k.T)\n",
    "St"
   ]
  },
  {
   "cell_type": "code",
   "execution_count": 18,
   "id": "2054e54e",
   "metadata": {
    "scrolled": true
   },
   "outputs": [
    {
     "data": {
      "text/plain": [
       "array([[1.        , 1.        , 1.        ],\n",
       "       [1.09366246, 0.97491054, 0.94755107],\n",
       "       [1.10522696, 0.99142855, 0.88393468],\n",
       "       [0.97298109, 1.01030599, 1.17057956],\n",
       "       [1.10544047, 0.88063277, 1.30114751],\n",
       "       [0.97201768, 0.90875727, 0.96874191]])"
      ]
     },
     "execution_count": 18,
     "metadata": {},
     "output_type": "execute_result"
    }
   ],
   "source": [
    "st=np.vstack([np.ones(M),St])\n",
    "st"
   ]
  },
  {
   "cell_type": "code",
   "execution_count": 19,
   "id": "96dade1a",
   "metadata": {
    "scrolled": true
   },
   "outputs": [],
   "source": [
    "l=st.cumprod(axis=0)"
   ]
  },
  {
   "cell_type": "code",
   "execution_count": 20,
   "id": "e102401f",
   "metadata": {},
   "outputs": [
    {
     "data": {
      "text/plain": [
       "1.2087452322788308"
      ]
     },
     "execution_count": 20,
     "metadata": {},
     "output_type": "execute_result"
    }
   ],
   "source": [
    "st[1][0],st[2][0]\n",
    "st[1][0]*st[2][0]"
   ]
  },
  {
   "cell_type": "code",
   "execution_count": 21,
   "id": "c5e367b7",
   "metadata": {},
   "outputs": [
    {
     "data": {
      "text/plain": [
       "array([1, 2, 6], dtype=int32)"
      ]
     },
     "execution_count": 21,
     "metadata": {},
     "output_type": "execute_result"
    }
   ],
   "source": [
    "np.cumprod([1,2,3])"
   ]
  },
  {
   "cell_type": "code",
   "execution_count": 22,
   "id": "be0f786f",
   "metadata": {},
   "outputs": [],
   "source": [
    "st=100*l"
   ]
  },
  {
   "cell_type": "code",
   "execution_count": 23,
   "id": "63847c63",
   "metadata": {},
   "outputs": [
    {
     "data": {
      "text/plain": [
       "array([0. , 0.2, 0.4, 0.6, 0.8, 1. ])"
      ]
     },
     "execution_count": 23,
     "metadata": {},
     "output_type": "execute_result"
    }
   ],
   "source": [
    "time = np.linspace(0,T,n+1)\n",
    "time"
   ]
  },
  {
   "cell_type": "code",
   "execution_count": 24,
   "id": "c9c8fd70",
   "metadata": {},
   "outputs": [
    {
     "data": {
      "text/plain": [
       "(array([[0. , 0. , 0. ],\n",
       "        [0.2, 0.2, 0.2],\n",
       "        [0.4, 0.4, 0.4],\n",
       "        [0.6, 0.6, 0.6],\n",
       "        [0.8, 0.8, 0.8],\n",
       "        [1. , 1. , 1. ]]),\n",
       " array([[100.        , 100.        , 100.        ],\n",
       "        [109.36624564,  97.49105432,  94.75510666],\n",
       "        [120.87452323,  96.65541427,  83.7573252 ],\n",
       "        [117.60862526,  97.65154446,  98.04461279],\n",
       "        [130.0093345 ,  85.99515005, 127.57050359],\n",
       "        [126.37137187,  78.14871738, 123.58289347]]))"
      ]
     },
     "execution_count": 24,
     "metadata": {},
     "output_type": "execute_result"
    }
   ],
   "source": [
    "tt=np.full(shape=(M,n+1), fill_value=time).T\n",
    "tt,st"
   ]
  },
  {
   "cell_type": "code",
   "execution_count": 25,
   "id": "a644fcd9",
   "metadata": {},
   "outputs": [
    {
     "data": {
      "image/png": "[encoded data removed]",
      "text/plain": [
       "<Figure size 432x288 with 1 Axes>"
      ]
     },
     "metadata": {
      "needs_background": "light"
     },
     "output_type": "display_data"
    }
   ],
   "source": [
    "import matplotlib.pyplot as plt\n",
    "plt.plot(tt,st)\n",
    "plt.xlabel(\"Years (t)\")\n",
    "plt.ylabel(\"Stock Price (St)\")\n",
    "plt.title(\n",
    "    \"Realizations of Geometric Brownian Motion\\n dSt=μStdt+σStdWt\\n S0=0,μ=1,σ=2\".format(S0, mu, sigma)\n",
    ")\n",
    "plt.show()"
   ]
  },
  {
   "cell_type": "code",
   "execution_count": null,
   "id": "039678de",
   "metadata": {},
   "outputs": [],
   "source": []
  },
  {
   "cell_type": "code",
   "execution_count": null,
   "id": "bcd16712",
   "metadata": {},
   "outputs": [],
   "source": []
  }
 ],
 "metadata": {
  "kernelspec": {
   "display_name": "Python 3 (ipykernel)",
   "language": "python",
   "name": "python3"
  },
  "language_info": {
   "codemirror_mode": {
    "name": "ipython",
    "version": 3
   },
   "file_extension": ".py",
   "mimetype": "text/x-python",
   "name": "python",
   "nbconvert_exporter": "python",
   "pygments_lexer": "ipython3",
   "version": "3.7.3"
  }
 },
 "nbformat": 4,
 "nbformat_minor": 5
}

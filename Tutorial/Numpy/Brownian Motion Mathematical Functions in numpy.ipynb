{
 "cells": [
  {
   "cell_type": "code",
   "execution_count": 1,
   "id": "88c62092",
   "metadata": {},
   "outputs": [],
   "source": [
    "import numpy as np\n",
    "n=5\n",
    "d=2\n",
    "T=1."
   ]
  },
  {
   "cell_type": "code",
   "execution_count": 2,
   "id": "a9124c0c",
   "metadata": {},
   "outputs": [
    {
     "data": {
      "text/plain": [
       "array([0.  , 0.25, 0.5 , 0.75, 1.  ])"
      ]
     },
     "execution_count": 2,
     "metadata": {},
     "output_type": "execute_result"
    }
   ],
   "source": [
    "times=np.linspace(0.,T,n)\n",
    "times"
   ]
  },
  {
   "cell_type": "code",
   "execution_count": 3,
   "id": "2f308c6d",
   "metadata": {},
   "outputs": [
    {
     "data": {
      "text/plain": [
       "0.25"
      ]
     },
     "execution_count": 3,
     "metadata": {},
     "output_type": "execute_result"
    }
   ],
   "source": [
    "dt=times[1]-times[0]\n",
    "dt"
   ]
  },
  {
   "cell_type": "code",
   "execution_count": 4,
   "id": "73dfeb8b",
   "metadata": {},
   "outputs": [
    {
     "data": {
      "text/plain": [
       "0.5"
      ]
     },
     "execution_count": 4,
     "metadata": {},
     "output_type": "execute_result"
    }
   ],
   "source": [
    "np.sqrt(dt)#0.25**(1/2)"
   ]
  },
  {
   "cell_type": "code",
   "execution_count": 5,
   "id": "673bd4c3",
   "metadata": {},
   "outputs": [
    {
     "data": {
      "text/plain": [
       "array([-0.19646939, -0.47526122, -0.11199274,  2.78976941])"
      ]
     },
     "execution_count": 5,
     "metadata": {},
     "output_type": "execute_result"
    }
   ],
   "source": [
    "np.random.normal(size=(n-1))"
   ]
  },
  {
   "cell_type": "code",
   "execution_count": 6,
   "id": "dbe825b7",
   "metadata": {
    "scrolled": true
   },
   "outputs": [
    {
     "data": {
      "text/plain": [
       "array([0.3178065 , 0.0414444 , 0.25808808, 0.12515287])"
      ]
     },
     "execution_count": 6,
     "metadata": {},
     "output_type": "execute_result"
    }
   ],
   "source": [
    "dB=np.sqrt(dt)*np.random.normal(size=(n-1))\n",
    "dB"
   ]
  },
  {
   "cell_type": "code",
   "execution_count": 7,
   "id": "79238697",
   "metadata": {},
   "outputs": [
    {
     "data": {
      "text/plain": [
       "array([0.])"
      ]
     },
     "execution_count": 7,
     "metadata": {},
     "output_type": "execute_result"
    }
   ],
   "source": [
    "B0=np.zeros(shape=(1,))\n",
    "B0"
   ]
  },
  {
   "cell_type": "code",
   "execution_count": 8,
   "id": "8882e0b3",
   "metadata": {},
   "outputs": [
    {
     "data": {
      "text/plain": [
       "array([0.        , 0.3178065 , 0.3592509 , 0.61733898, 0.74249185])"
      ]
     },
     "execution_count": 8,
     "metadata": {},
     "output_type": "execute_result"
    }
   ],
   "source": [
    "B=np.concatenate((B0,np.cumsum(dB)))\n",
    "B"
   ]
  },
  {
   "cell_type": "code",
   "execution_count": 9,
   "id": "2c5fa3ce",
   "metadata": {},
   "outputs": [
    {
     "data": {
      "text/plain": [
       "array([[ 0.50796934,  0.78651806],\n",
       "       [-0.13686103, -0.76644204],\n",
       "       [ 0.17743027, -0.20598026],\n",
       "       [-0.15834462,  0.09764869]])"
      ]
     },
     "execution_count": 9,
     "metadata": {},
     "output_type": "execute_result"
    }
   ],
   "source": [
    "dB=np.sqrt(dt)*np.random.normal(size=(n-1,d))\n",
    "dB"
   ]
  },
  {
   "cell_type": "code",
   "execution_count": 10,
   "id": "8e8bf017",
   "metadata": {},
   "outputs": [
    {
     "data": {
      "text/plain": [
       "array([[0., 0.]])"
      ]
     },
     "execution_count": 10,
     "metadata": {},
     "output_type": "execute_result"
    }
   ],
   "source": [
    "B0=np.zeros(shape=(1,d))\n",
    "B0"
   ]
  },
  {
   "cell_type": "code",
   "execution_count": 11,
   "id": "d3c29479",
   "metadata": {
    "scrolled": true
   },
   "outputs": [
    {
     "data": {
      "text/plain": [
       "array([[ 0.        ,  0.        ],\n",
       "       [ 0.50796934,  0.78651806],\n",
       "       [ 0.37110831,  0.02007602],\n",
       "       [ 0.54853858, -0.18590424],\n",
       "       [ 0.39019396, -0.08825555]])"
      ]
     },
     "execution_count": 11,
     "metadata": {},
     "output_type": "execute_result"
    }
   ],
   "source": [
    "B=np.concatenate((B0,np.cumsum(dB,axis=0)),axis=0)\n",
    "B"
   ]
  },
  {
   "cell_type": "code",
   "execution_count": 12,
   "id": "fa3083ee",
   "metadata": {},
   "outputs": [
    {
     "data": {
      "text/plain": [
       "array([[ 0.50796934,  0.78651806],\n",
       "       [-0.13686103, -0.76644204],\n",
       "       [ 0.17743027, -0.20598026],\n",
       "       [-0.15834462,  0.09764869]])"
      ]
     },
     "execution_count": 12,
     "metadata": {},
     "output_type": "execute_result"
    }
   ],
   "source": [
    "np.diff(B,axis=0)"
   ]
  },
  {
   "cell_type": "code",
   "execution_count": 13,
   "id": "3c426459",
   "metadata": {},
   "outputs": [
    {
     "data": {
      "text/plain": [
       "array([[-1.        , -1.        ],\n",
       "       [ 0.50796934,  0.78651806],\n",
       "       [-0.13686103, -0.76644204],\n",
       "       [ 0.17743027, -0.20598026],\n",
       "       [-0.15834462,  0.09764869]])"
      ]
     },
     "execution_count": 13,
     "metadata": {},
     "output_type": "execute_result"
    }
   ],
   "source": [
    "np.diff(B,axis=0,prepend=1.)\n"
   ]
  },
  {
   "cell_type": "code",
   "execution_count": 14,
   "id": "b47405fd",
   "metadata": {
    "scrolled": false
   },
   "outputs": [
    {
     "data": {
      "text/plain": [
       "array([[ 0.        ,  0.        ],\n",
       "       [ 0.50796934,  0.78651806],\n",
       "       [-0.13686103, -0.76644204],\n",
       "       [ 0.17743027, -0.20598026],\n",
       "       [-0.15834462,  0.09764869]])"
      ]
     },
     "execution_count": 14,
     "metadata": {},
     "output_type": "execute_result"
    }
   ],
   "source": [
    "np.diff(B,axis=0,prepend=0.)"
   ]
  },
  {
   "cell_type": "code",
   "execution_count": 15,
   "id": "211aa08b",
   "metadata": {},
   "outputs": [
    {
     "data": {
      "text/plain": [
       "0.000801778034684675"
      ]
     },
     "execution_count": 15,
     "metadata": {},
     "output_type": "execute_result"
    }
   ],
   "source": [
    "0.0929005*0.0929005*0.0929005"
   ]
  },
  {
   "cell_type": "code",
   "execution_count": 16,
   "id": "107c6d0a",
   "metadata": {},
   "outputs": [
    {
     "data": {
      "text/plain": [
       "array([[ 0.        ,  0.        ],\n",
       "       [ 0.13107277,  0.48654846],\n",
       "       [-0.00256354, -0.45023366],\n",
       "       [ 0.00558577, -0.0087393 ],\n",
       "       [-0.00397018,  0.00093111]])"
      ]
     },
     "execution_count": 16,
     "metadata": {},
     "output_type": "execute_result"
    }
   ],
   "source": [
    "np.power(np.diff(B,axis=0,prepend=0.),3)"
   ]
  },
  {
   "cell_type": "code",
   "execution_count": 17,
   "id": "ef22e831",
   "metadata": {},
   "outputs": [
    {
     "data": {
      "text/plain": [
       "array([0.        , 0.        , 0.25803285, 0.87664351, 0.89537446,\n",
       "       1.48280786, 1.51428936, 1.55671723, 1.58179025, 1.59132551])"
      ]
     },
     "execution_count": 17,
     "metadata": {},
     "output_type": "execute_result"
    }
   ],
   "source": [
    "np.cumsum(np.power(np.diff(B,axis=0,prepend=0.),2))"
   ]
  },
  {
   "cell_type": "code",
   "execution_count": 18,
   "id": "a1db1587",
   "metadata": {},
   "outputs": [
    {
     "data": {
      "text/plain": [
       "array([[0.        , 0.        ],\n",
       "       [0.25803285, 0.61861067],\n",
       "       [0.27676379, 1.20604407],\n",
       "       [0.30824529, 1.24847194],\n",
       "       [0.33331831, 1.2580072 ]])"
      ]
     },
     "execution_count": 18,
     "metadata": {},
     "output_type": "execute_result"
    }
   ],
   "source": [
    "np.cumsum(np.power(np.diff(B,axis=0,prepend=0.),2),axis=0)"
   ]
  },
  {
   "cell_type": "code",
   "execution_count": 19,
   "id": "5646f0f7",
   "metadata": {},
   "outputs": [
    {
     "data": {
      "text/plain": [
       "array([ 0.76587384,  0.33718266, -0.89795912, -0.78889837])"
      ]
     },
     "execution_count": 19,
     "metadata": {},
     "output_type": "execute_result"
    }
   ],
   "source": [
    "np.random.normal(size=(n-1))"
   ]
  },
  {
   "cell_type": "code",
   "execution_count": 20,
   "id": "3563ea50",
   "metadata": {
    "scrolled": true
   },
   "outputs": [
    {
     "data": {
      "text/plain": [
       "array([[ 1.07419609,  0.34345861],\n",
       "       [ 0.11981496, -0.23297598],\n",
       "       [-1.0885333 , -0.63015677],\n",
       "       [ 1.06636556, -0.16233822]])"
      ]
     },
     "execution_count": 20,
     "metadata": {},
     "output_type": "execute_result"
    }
   ],
   "source": [
    "np.random.normal(size=(n-1,2))"
   ]
  },
  {
   "cell_type": "code",
   "execution_count": 21,
   "id": "f075b4af",
   "metadata": {},
   "outputs": [
    {
     "data": {
      "text/plain": [
       "array([[0., 0.],\n",
       "       [0., 0.]])"
      ]
     },
     "execution_count": 21,
     "metadata": {},
     "output_type": "execute_result"
    }
   ],
   "source": [
    "np.zeros(shape=(2,d))"
   ]
  },
  {
   "cell_type": "code",
   "execution_count": 22,
   "id": "59478692",
   "metadata": {},
   "outputs": [
    {
     "data": {
      "text/plain": [
       "array([ 1,  3,  6, 10], dtype=int32)"
      ]
     },
     "execution_count": 22,
     "metadata": {},
     "output_type": "execute_result"
    }
   ],
   "source": [
    "np.cumsum([1,2,3,4],axis=0)"
   ]
  },
  {
   "cell_type": "code",
   "execution_count": 23,
   "id": "6501576c",
   "metadata": {},
   "outputs": [
    {
     "data": {
      "text/plain": [
       "array([0.        , 0.11111111, 0.22222222, 0.33333333, 0.44444444,\n",
       "       0.55555556, 0.66666667, 0.77777778, 0.88888889, 1.        ])"
      ]
     },
     "execution_count": 23,
     "metadata": {},
     "output_type": "execute_result"
    }
   ],
   "source": [
    "np.linspace(0.,1,10)\n"
   ]
  },
  {
   "cell_type": "code",
   "execution_count": 24,
   "id": "5c52062f",
   "metadata": {},
   "outputs": [
    {
     "data": {
      "text/plain": [
       "array([[ 0.62455842,  0.48413631, -1.69264043, -0.4772319 ],\n",
       "       [ 0.7333011 ,  0.27375112,  1.91737037, -1.01282922],\n",
       "       [-0.98910194, -0.81058367, -0.10026946, -1.17104376],\n",
       "       [ 0.08436891, -0.2662842 ,  0.79001202,  0.45762102],\n",
       "       [-0.9234    ,  0.90426943, -1.1542133 , -0.74306442],\n",
       "       [-2.07758096,  1.94899859, -1.18504886, -0.49579255],\n",
       "       [-0.16299434, -0.59484126, -0.76849035,  0.51043609],\n",
       "       [ 0.27618608,  0.16326566, -0.25742002, -0.06635427],\n",
       "       [ 0.2226703 , -0.18674003, -1.50838173,  0.66479999]])"
      ]
     },
     "execution_count": 24,
     "metadata": {},
     "output_type": "execute_result"
    }
   ],
   "source": [
    "np.random.normal(size=(10-1,4))\n"
   ]
  },
  {
   "cell_type": "code",
   "execution_count": 25,
   "id": "b5f55e6b",
   "metadata": {},
   "outputs": [
    {
     "data": {
      "text/plain": [
       "array([[0., 0., 0., 0., 0., 0., 0., 0., 0., 0.]])"
      ]
     },
     "execution_count": 25,
     "metadata": {},
     "output_type": "execute_result"
    }
   ],
   "source": [
    "np.zeros(shape=(1,10))"
   ]
  },
  {
   "cell_type": "code",
   "execution_count": 26,
   "id": "69981157",
   "metadata": {},
   "outputs": [],
   "source": [
    "# Parameters\n",
    "M = 10 # number of simulations\n",
    "t = 10 # Time\n",
    "random_walk = [-1, 1]#choice variation"
   ]
  },
  {
   "cell_type": "code",
   "execution_count": 27,
   "id": "6a59769a",
   "metadata": {
    "scrolled": true
   },
   "outputs": [
    {
     "data": {
      "text/plain": [
       "(1, 1, -1)"
      ]
     },
     "execution_count": 27,
     "metadata": {},
     "output_type": "execute_result"
    }
   ],
   "source": [
    "np.random.choice(random_walk),np.random.choice(random_walk),np.random.choice(random_walk)"
   ]
  },
  {
   "cell_type": "code",
   "execution_count": 28,
   "id": "af69b056",
   "metadata": {},
   "outputs": [
    {
     "data": {
      "text/plain": [
       "array([-1, -1, -1,  1, -1, -1, -1, -1,  1, -1])"
      ]
     },
     "execution_count": 28,
     "metadata": {},
     "output_type": "execute_result"
    }
   ],
   "source": [
    "np.random.choice(random_walk,size=M)"
   ]
  },
  {
   "cell_type": "code",
   "execution_count": 29,
   "id": "06562abb",
   "metadata": {},
   "outputs": [
    {
     "data": {
      "text/plain": [
       "array([[-1,  1, -1, -1, -1,  1, -1,  1, -1,  1],\n",
       "       [-1,  1, -1, -1, -1,  1, -1, -1,  1, -1],\n",
       "       [-1, -1, -1,  1, -1, -1, -1,  1,  1, -1],\n",
       "       [ 1, -1, -1, -1, -1,  1, -1, -1,  1,  1],\n",
       "       [-1,  1,  1, -1, -1,  1,  1, -1,  1,  1],\n",
       "       [ 1, -1, -1,  1,  1, -1,  1,  1, -1, -1],\n",
       "       [-1,  1,  1, -1,  1,  1,  1,  1, -1, -1],\n",
       "       [ 1,  1, -1,  1,  1,  1, -1,  1, -1, -1],\n",
       "       [ 1, -1, -1, -1,  1,  1,  1,  1, -1,  1],\n",
       "       [ 1, -1,  1,  1, -1, -1, -1,  1, -1, -1]])"
      ]
     },
     "execution_count": 29,
     "metadata": {},
     "output_type": "execute_result"
    }
   ],
   "source": [
    "n=np.random.choice(random_walk,size=(M,t))\n",
    "n"
   ]
  },
  {
   "cell_type": "code",
   "execution_count": 30,
   "id": "b8940ccd",
   "metadata": {
    "scrolled": false
   },
   "outputs": [
    {
     "data": {
      "text/plain": [
       "array([[-1, -1, -1,  1, -1,  1, -1,  1,  1,  1],\n",
       "       [ 1,  1, -1, -1,  1, -1,  1,  1, -1, -1],\n",
       "       [-1, -1, -1, -1,  1, -1,  1, -1, -1,  1],\n",
       "       [-1, -1,  1, -1, -1,  1, -1,  1, -1,  1],\n",
       "       [-1, -1, -1, -1, -1,  1,  1,  1,  1, -1],\n",
       "       [ 1,  1, -1,  1,  1, -1,  1,  1,  1, -1],\n",
       "       [-1, -1, -1, -1,  1,  1,  1, -1,  1, -1],\n",
       "       [ 1, -1,  1, -1, -1,  1,  1,  1,  1,  1],\n",
       "       [-1,  1,  1,  1,  1, -1, -1, -1, -1, -1],\n",
       "       [ 1, -1, -1,  1,  1, -1, -1, -1,  1, -1]])"
      ]
     },
     "execution_count": 30,
     "metadata": {},
     "output_type": "execute_result"
    }
   ],
   "source": [
    "O=n.T\n",
    "O"
   ]
  },
  {
   "cell_type": "code",
   "execution_count": 31,
   "id": "b6c429c7",
   "metadata": {},
   "outputs": [
    {
     "data": {
      "text/plain": [
       "array([[0., 0., 0., 0., 0., 0., 0., 0., 0., 0.]])"
      ]
     },
     "execution_count": 31,
     "metadata": {},
     "output_type": "execute_result"
    }
   ],
   "source": [
    "k=np.zeros((1,M))\n",
    "k"
   ]
  },
  {
   "cell_type": "code",
   "execution_count": 32,
   "id": "a3bc00bb",
   "metadata": {},
   "outputs": [
    {
     "data": {
      "text/plain": [
       "array([[ 0.,  0.,  0.,  0.,  0.,  0.,  0.,  0.,  0.,  0.],\n",
       "       [-1., -1., -1.,  1., -1.,  1., -1.,  1.,  1.,  1.],\n",
       "       [ 1.,  1., -1., -1.,  1., -1.,  1.,  1., -1., -1.],\n",
       "       [-1., -1., -1., -1.,  1., -1.,  1., -1., -1.,  1.],\n",
       "       [-1., -1.,  1., -1., -1.,  1., -1.,  1., -1.,  1.],\n",
       "       [-1., -1., -1., -1., -1.,  1.,  1.,  1.,  1., -1.],\n",
       "       [ 1.,  1., -1.,  1.,  1., -1.,  1.,  1.,  1., -1.],\n",
       "       [-1., -1., -1., -1.,  1.,  1.,  1., -1.,  1., -1.],\n",
       "       [ 1., -1.,  1., -1., -1.,  1.,  1.,  1.,  1.,  1.],\n",
       "       [-1.,  1.,  1.,  1.,  1., -1., -1., -1., -1., -1.],\n",
       "       [ 1., -1., -1.,  1.,  1., -1., -1., -1.,  1., -1.]])"
      ]
     },
     "execution_count": 32,
     "metadata": {},
     "output_type": "execute_result"
    }
   ],
   "source": [
    "x=np.concatenate([k,O])\n",
    "x"
   ]
  },
  {
   "cell_type": "code",
   "execution_count": 33,
   "id": "12c13240",
   "metadata": {
    "scrolled": true
   },
   "outputs": [
    {
     "data": {
      "text/plain": [
       "array([[ 0.,  0.,  0.,  0.,  0.,  0.,  0.,  0.,  0.,  0.],\n",
       "       [-1., -1., -1.,  1., -1.,  1., -1.,  1.,  1.,  1.],\n",
       "       [ 0.,  0., -2.,  0.,  0.,  0.,  0.,  2.,  0.,  0.],\n",
       "       [-1., -1., -3., -1.,  1., -1.,  1.,  1., -1.,  1.],\n",
       "       [-2., -2., -2., -2.,  0.,  0.,  0.,  2., -2.,  2.],\n",
       "       [-3., -3., -3., -3., -1.,  1.,  1.,  3., -1.,  1.],\n",
       "       [-2., -2., -4., -2.,  0.,  0.,  2.,  4.,  0.,  0.],\n",
       "       [-3., -3., -5., -3.,  1.,  1.,  3.,  3.,  1., -1.],\n",
       "       [-2., -4., -4., -4.,  0.,  2.,  4.,  4.,  2.,  0.],\n",
       "       [-3., -3., -3., -3.,  1.,  1.,  3.,  3.,  1., -1.],\n",
       "       [-2., -4., -4., -2.,  2.,  0.,  2.,  2.,  2., -2.]])"
      ]
     },
     "execution_count": 33,
     "metadata": {},
     "output_type": "execute_result"
    }
   ],
   "source": [
    "x.cumsum(axis=0)#axis to run the operation in column wise oter waise, it consider x as a single dimensiom "
   ]
  },
  {
   "cell_type": "code",
   "execution_count": 34,
   "id": "0cacede2",
   "metadata": {},
   "outputs": [
    {
     "data": {
      "text/plain": [
       "array([[ 0.,  0.,  0.,  0.,  0.,  0.,  0.,  0.,  0.,  0.],\n",
       "       [-1., -2., -3., -2., -3., -2., -3., -2., -1.,  0.],\n",
       "       [ 1.,  2.,  1.,  0.,  1.,  0.,  1.,  2.,  1.,  0.],\n",
       "       [-1., -2., -3., -4., -3., -4., -3., -4., -5., -4.],\n",
       "       [-1., -2., -1., -2., -3., -2., -3., -2., -3., -2.],\n",
       "       [-1., -2., -3., -4., -5., -4., -3., -2., -1., -2.],\n",
       "       [ 1.,  2.,  1.,  2.,  3.,  2.,  3.,  4.,  5.,  4.],\n",
       "       [-1., -2., -3., -4., -3., -2., -1., -2., -1., -2.],\n",
       "       [ 1.,  0.,  1.,  0., -1.,  0.,  1.,  2.,  3.,  4.],\n",
       "       [-1.,  0.,  1.,  2.,  3.,  2.,  1.,  0., -1., -2.],\n",
       "       [ 1.,  0., -1.,  0.,  1.,  0., -1., -2., -1., -2.]])"
      ]
     },
     "execution_count": 34,
     "metadata": {},
     "output_type": "execute_result"
    }
   ],
   "source": [
    "x.cumsum(axis=1)#axis to run the operation in row wise oter waise, it consider x as a single dimensiom "
   ]
  },
  {
   "cell_type": "code",
   "execution_count": 35,
   "id": "a477e83d",
   "metadata": {},
   "outputs": [],
   "source": [
    "steps = np.random.choice(random_walk, size=(M,t)).T\n",
    "origin = np.zeros((1,M))\n",
    "rw_paths = np.concatenate([origin, steps]).cumsum(axis=0)"
   ]
  },
  {
   "cell_type": "code",
   "execution_count": 36,
   "id": "d8704e2a",
   "metadata": {},
   "outputs": [
    {
     "data": {
      "text/plain": [
       "array([[-1, -1, -1,  1,  1,  1, -1,  1, -1,  1],\n",
       "       [ 1,  1, -1, -1, -1, -1, -1,  1,  1,  1],\n",
       "       [ 1,  1,  1,  1, -1,  1,  1, -1, -1, -1],\n",
       "       [-1,  1, -1, -1,  1,  1, -1, -1, -1,  1],\n",
       "       [ 1,  1,  1,  1, -1, -1, -1,  1, -1,  1],\n",
       "       [ 1,  1, -1, -1,  1, -1,  1,  1, -1, -1],\n",
       "       [-1, -1,  1,  1, -1, -1,  1,  1, -1,  1],\n",
       "       [-1, -1, -1, -1,  1,  1,  1, -1, -1,  1],\n",
       "       [-1,  1, -1,  1, -1,  1, -1, -1, -1, -1],\n",
       "       [ 1, -1, -1,  1, -1, -1, -1,  1,  1,  1]])"
      ]
     },
     "execution_count": 36,
     "metadata": {},
     "output_type": "execute_result"
    }
   ],
   "source": [
    "steps"
   ]
  },
  {
   "cell_type": "code",
   "execution_count": 37,
   "id": "a4ddde48",
   "metadata": {},
   "outputs": [
    {
     "data": {
      "text/plain": [
       "array([[0., 0., 0., 0., 0., 0., 0., 0., 0., 0.]])"
      ]
     },
     "execution_count": 37,
     "metadata": {},
     "output_type": "execute_result"
    }
   ],
   "source": [
    "origin"
   ]
  },
  {
   "cell_type": "code",
   "execution_count": 38,
   "id": "d1a44447",
   "metadata": {},
   "outputs": [
    {
     "data": {
      "text/plain": [
       "array([[ 0.,  0.,  0.,  0.,  0.,  0.,  0.,  0.,  0.,  0.],\n",
       "       [-1., -1., -1.,  1.,  1.,  1., -1.,  1., -1.,  1.],\n",
       "       [ 0.,  0., -2.,  0.,  0.,  0., -2.,  2.,  0.,  2.],\n",
       "       [ 1.,  1., -1.,  1., -1.,  1., -1.,  1., -1.,  1.],\n",
       "       [ 0.,  2., -2.,  0.,  0.,  2., -2.,  0., -2.,  2.],\n",
       "       [ 1.,  3., -1.,  1., -1.,  1., -3.,  1., -3.,  3.],\n",
       "       [ 2.,  4., -2.,  0.,  0.,  0., -2.,  2., -4.,  2.],\n",
       "       [ 1.,  3., -1.,  1., -1., -1., -1.,  3., -5.,  3.],\n",
       "       [ 0.,  2., -2.,  0.,  0.,  0.,  0.,  2., -6.,  4.],\n",
       "       [-1.,  3., -3.,  1., -1.,  1., -1.,  1., -7.,  3.],\n",
       "       [ 0.,  2., -4.,  2., -2.,  0., -2.,  2., -6.,  4.]])"
      ]
     },
     "execution_count": 38,
     "metadata": {},
     "output_type": "execute_result"
    }
   ],
   "source": [
    "rw_paths"
   ]
  }
 ],
 "metadata": {
  "kernelspec": {
   "display_name": "Python 3 (ipykernel)",
   "language": "python",
   "name": "python3"
  },
  "language_info": {
   "codemirror_mode": {
    "name": "ipython",
    "version": 3
   },
   "file_extension": ".py",
   "mimetype": "text/x-python",
   "name": "python",
   "nbconvert_exporter": "python",
   "pygments_lexer": "ipython3",
   "version": "3.7.3"
  }
 },
 "nbformat": 4,
 "nbformat_minor": 5
}

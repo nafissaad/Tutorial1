{
 "cells": [
  {
   "cell_type": "code",
   "execution_count": 1,
   "id": "1397dfab",
   "metadata": {},
   "outputs": [],
   "source": [
    "import pandas as pd\n",
    "import numpy as np\n",
    "import matplotlib.pyplot as plt\n",
    "import statsmodels.api as sm\n",
    "from sklearn import linear_model\n",
    "from scipy.stats import skew"
   ]
  },
  {
   "cell_type": "code",
   "execution_count": 2,
   "id": "9d0ccb94",
   "metadata": {},
   "outputs": [],
   "source": [
    "df=pd.read_excel('C:\\\\Users\\\\nafissaad\\\\Tutorial\\\\My projects\\\\Econometric 465 Assignment 1\\\\Untitled.xlsx')"
   ]
  },
  {
   "cell_type": "code",
   "execution_count": 3,
   "id": "f3d00189",
   "metadata": {},
   "outputs": [
    {
     "data": {
      "text/html": [
       "<div>\n",
       "<style scoped>\n",
       "    .dataframe tbody tr th:only-of-type {\n",
       "        vertical-align: middle;\n",
       "    }\n",
       "\n",
       "    .dataframe tbody tr th {\n",
       "        vertical-align: top;\n",
       "    }\n",
       "\n",
       "    .dataframe thead th {\n",
       "        text-align: right;\n",
       "    }\n",
       "</style>\n",
       "<table border=\"1\" class=\"dataframe\">\n",
       "  <thead>\n",
       "    <tr style=\"text-align: right;\">\n",
       "      <th></th>\n",
       "      <th>salary</th>\n",
       "      <th>pcsalary</th>\n",
       "      <th>sales</th>\n",
       "      <th>roe</th>\n",
       "      <th>pcroe</th>\n",
       "      <th>ros</th>\n",
       "      <th>indus</th>\n",
       "      <th>finance</th>\n",
       "      <th>consprod</th>\n",
       "      <th>utility</th>\n",
       "      <th>lsalary</th>\n",
       "      <th>lsales</th>\n",
       "    </tr>\n",
       "  </thead>\n",
       "  <tbody>\n",
       "    <tr>\n",
       "      <th>0</th>\n",
       "      <td>1095</td>\n",
       "      <td>20</td>\n",
       "      <td>27595.000000</td>\n",
       "      <td>14.1</td>\n",
       "      <td>106.400002</td>\n",
       "      <td>191</td>\n",
       "      <td>1</td>\n",
       "      <td>0</td>\n",
       "      <td>0</td>\n",
       "      <td>0</td>\n",
       "      <td>6.998509</td>\n",
       "      <td>10.225389</td>\n",
       "    </tr>\n",
       "    <tr>\n",
       "      <th>1</th>\n",
       "      <td>1001</td>\n",
       "      <td>32</td>\n",
       "      <td>9958.000000</td>\n",
       "      <td>10.9</td>\n",
       "      <td>-30.600000</td>\n",
       "      <td>13</td>\n",
       "      <td>1</td>\n",
       "      <td>0</td>\n",
       "      <td>0</td>\n",
       "      <td>0</td>\n",
       "      <td>6.908755</td>\n",
       "      <td>9.206132</td>\n",
       "    </tr>\n",
       "    <tr>\n",
       "      <th>2</th>\n",
       "      <td>1122</td>\n",
       "      <td>9</td>\n",
       "      <td>6125.899902</td>\n",
       "      <td>23.5</td>\n",
       "      <td>-16.299999</td>\n",
       "      <td>14</td>\n",
       "      <td>1</td>\n",
       "      <td>0</td>\n",
       "      <td>0</td>\n",
       "      <td>0</td>\n",
       "      <td>7.022868</td>\n",
       "      <td>8.720281</td>\n",
       "    </tr>\n",
       "    <tr>\n",
       "      <th>3</th>\n",
       "      <td>578</td>\n",
       "      <td>-9</td>\n",
       "      <td>16246.000000</td>\n",
       "      <td>5.9</td>\n",
       "      <td>-25.700001</td>\n",
       "      <td>-21</td>\n",
       "      <td>1</td>\n",
       "      <td>0</td>\n",
       "      <td>0</td>\n",
       "      <td>0</td>\n",
       "      <td>6.359574</td>\n",
       "      <td>9.695602</td>\n",
       "    </tr>\n",
       "    <tr>\n",
       "      <th>4</th>\n",
       "      <td>1368</td>\n",
       "      <td>7</td>\n",
       "      <td>21783.199219</td>\n",
       "      <td>13.8</td>\n",
       "      <td>-3.000000</td>\n",
       "      <td>56</td>\n",
       "      <td>1</td>\n",
       "      <td>0</td>\n",
       "      <td>0</td>\n",
       "      <td>0</td>\n",
       "      <td>7.221105</td>\n",
       "      <td>9.988894</td>\n",
       "    </tr>\n",
       "    <tr>\n",
       "      <th>...</th>\n",
       "      <td>...</td>\n",
       "      <td>...</td>\n",
       "      <td>...</td>\n",
       "      <td>...</td>\n",
       "      <td>...</td>\n",
       "      <td>...</td>\n",
       "      <td>...</td>\n",
       "      <td>...</td>\n",
       "      <td>...</td>\n",
       "      <td>...</td>\n",
       "      <td>...</td>\n",
       "      <td>...</td>\n",
       "    </tr>\n",
       "    <tr>\n",
       "      <th>204</th>\n",
       "      <td>930</td>\n",
       "      <td>10</td>\n",
       "      <td>1509.099976</td>\n",
       "      <td>9.0</td>\n",
       "      <td>20.500000</td>\n",
       "      <td>131</td>\n",
       "      <td>0</td>\n",
       "      <td>0</td>\n",
       "      <td>0</td>\n",
       "      <td>1</td>\n",
       "      <td>6.835185</td>\n",
       "      <td>7.319269</td>\n",
       "    </tr>\n",
       "    <tr>\n",
       "      <th>205</th>\n",
       "      <td>525</td>\n",
       "      <td>3</td>\n",
       "      <td>1097.099976</td>\n",
       "      <td>15.5</td>\n",
       "      <td>20.100000</td>\n",
       "      <td>72</td>\n",
       "      <td>0</td>\n",
       "      <td>0</td>\n",
       "      <td>0</td>\n",
       "      <td>1</td>\n",
       "      <td>6.263398</td>\n",
       "      <td>7.000426</td>\n",
       "    </tr>\n",
       "    <tr>\n",
       "      <th>206</th>\n",
       "      <td>658</td>\n",
       "      <td>32</td>\n",
       "      <td>4542.600098</td>\n",
       "      <td>12.1</td>\n",
       "      <td>-7.800000</td>\n",
       "      <td>68</td>\n",
       "      <td>0</td>\n",
       "      <td>0</td>\n",
       "      <td>0</td>\n",
       "      <td>1</td>\n",
       "      <td>6.489205</td>\n",
       "      <td>8.421255</td>\n",
       "    </tr>\n",
       "    <tr>\n",
       "      <th>207</th>\n",
       "      <td>555</td>\n",
       "      <td>6</td>\n",
       "      <td>2023.000000</td>\n",
       "      <td>13.7</td>\n",
       "      <td>-14.600000</td>\n",
       "      <td>60</td>\n",
       "      <td>0</td>\n",
       "      <td>0</td>\n",
       "      <td>0</td>\n",
       "      <td>1</td>\n",
       "      <td>6.318968</td>\n",
       "      <td>7.612337</td>\n",
       "    </tr>\n",
       "    <tr>\n",
       "      <th>208</th>\n",
       "      <td>626</td>\n",
       "      <td>0</td>\n",
       "      <td>1442.500000</td>\n",
       "      <td>14.4</td>\n",
       "      <td>-10.200000</td>\n",
       "      <td>62</td>\n",
       "      <td>0</td>\n",
       "      <td>0</td>\n",
       "      <td>0</td>\n",
       "      <td>1</td>\n",
       "      <td>6.439351</td>\n",
       "      <td>7.274133</td>\n",
       "    </tr>\n",
       "  </tbody>\n",
       "</table>\n",
       "<p>209 rows × 12 columns</p>\n",
       "</div>"
      ],
      "text/plain": [
       "     salary  pcsalary         sales   roe       pcroe  ros  indus  finance  \\\n",
       "0      1095        20  27595.000000  14.1  106.400002  191      1        0   \n",
       "1      1001        32   9958.000000  10.9  -30.600000   13      1        0   \n",
       "2      1122         9   6125.899902  23.5  -16.299999   14      1        0   \n",
       "3       578        -9  16246.000000   5.9  -25.700001  -21      1        0   \n",
       "4      1368         7  21783.199219  13.8   -3.000000   56      1        0   \n",
       "..      ...       ...           ...   ...         ...  ...    ...      ...   \n",
       "204     930        10   1509.099976   9.0   20.500000  131      0        0   \n",
       "205     525         3   1097.099976  15.5   20.100000   72      0        0   \n",
       "206     658        32   4542.600098  12.1   -7.800000   68      0        0   \n",
       "207     555         6   2023.000000  13.7  -14.600000   60      0        0   \n",
       "208     626         0   1442.500000  14.4  -10.200000   62      0        0   \n",
       "\n",
       "     consprod  utility   lsalary     lsales  \n",
       "0           0        0  6.998509  10.225389  \n",
       "1           0        0  6.908755   9.206132  \n",
       "2           0        0  7.022868   8.720281  \n",
       "3           0        0  6.359574   9.695602  \n",
       "4           0        0  7.221105   9.988894  \n",
       "..        ...      ...       ...        ...  \n",
       "204         0        1  6.835185   7.319269  \n",
       "205         0        1  6.263398   7.000426  \n",
       "206         0        1  6.489205   8.421255  \n",
       "207         0        1  6.318968   7.612337  \n",
       "208         0        1  6.439351   7.274133  \n",
       "\n",
       "[209 rows x 12 columns]"
      ]
     },
     "execution_count": 3,
     "metadata": {},
     "output_type": "execute_result"
    }
   ],
   "source": [
    "df"
   ]
  },
  {
   "cell_type": "code",
   "execution_count": 4,
   "id": "7cd4d1fb",
   "metadata": {},
   "outputs": [
    {
     "data": {
      "text/html": [
       "<div>\n",
       "<style scoped>\n",
       "    .dataframe tbody tr th:only-of-type {\n",
       "        vertical-align: middle;\n",
       "    }\n",
       "\n",
       "    .dataframe tbody tr th {\n",
       "        vertical-align: top;\n",
       "    }\n",
       "\n",
       "    .dataframe thead th {\n",
       "        text-align: right;\n",
       "    }\n",
       "</style>\n",
       "<table border=\"1\" class=\"dataframe\">\n",
       "  <thead>\n",
       "    <tr style=\"text-align: right;\">\n",
       "      <th></th>\n",
       "      <th>salary</th>\n",
       "      <th>sales</th>\n",
       "    </tr>\n",
       "  </thead>\n",
       "  <tbody>\n",
       "    <tr>\n",
       "      <th>count</th>\n",
       "      <td>209.000000</td>\n",
       "      <td>209.000000</td>\n",
       "    </tr>\n",
       "    <tr>\n",
       "      <th>mean</th>\n",
       "      <td>1281.119617</td>\n",
       "      <td>6923.793282</td>\n",
       "    </tr>\n",
       "    <tr>\n",
       "      <th>std</th>\n",
       "      <td>1372.345308</td>\n",
       "      <td>10633.271088</td>\n",
       "    </tr>\n",
       "    <tr>\n",
       "      <th>min</th>\n",
       "      <td>223.000000</td>\n",
       "      <td>175.199997</td>\n",
       "    </tr>\n",
       "    <tr>\n",
       "      <th>25%</th>\n",
       "      <td>736.000000</td>\n",
       "      <td>2210.300049</td>\n",
       "    </tr>\n",
       "    <tr>\n",
       "      <th>50%</th>\n",
       "      <td>1039.000000</td>\n",
       "      <td>3705.199951</td>\n",
       "    </tr>\n",
       "    <tr>\n",
       "      <th>75%</th>\n",
       "      <td>1407.000000</td>\n",
       "      <td>7177.000000</td>\n",
       "    </tr>\n",
       "    <tr>\n",
       "      <th>max</th>\n",
       "      <td>14822.000000</td>\n",
       "      <td>97649.898438</td>\n",
       "    </tr>\n",
       "  </tbody>\n",
       "</table>\n",
       "</div>"
      ],
      "text/plain": [
       "             salary         sales\n",
       "count    209.000000    209.000000\n",
       "mean    1281.119617   6923.793282\n",
       "std     1372.345308  10633.271088\n",
       "min      223.000000    175.199997\n",
       "25%      736.000000   2210.300049\n",
       "50%     1039.000000   3705.199951\n",
       "75%     1407.000000   7177.000000\n",
       "max    14822.000000  97649.898438"
      ]
     },
     "execution_count": 4,
     "metadata": {},
     "output_type": "execute_result"
    }
   ],
   "source": [
    "df[['salary','sales']].describe()"
   ]
  },
  {
   "cell_type": "code",
   "execution_count": 5,
   "id": "a2941a38",
   "metadata": {
    "scrolled": true
   },
   "outputs": [
    {
     "data": {
      "text/plain": [
       "113066454.03946956"
      ]
     },
     "execution_count": 5,
     "metadata": {},
     "output_type": "execute_result"
    }
   ],
   "source": [
    "df.sales.var()\n"
   ]
  },
  {
   "cell_type": "code",
   "execution_count": 6,
   "id": "3853ad6d",
   "metadata": {},
   "outputs": [
    {
     "data": {
      "text/plain": [
       "10607.802139043642"
      ]
     },
     "execution_count": 6,
     "metadata": {},
     "output_type": "execute_result"
    }
   ],
   "source": [
    "import math\n",
    "def variance(data, ddof=0):\n",
    "    n = len(data)\n",
    "    mean = sum(data) / n\n",
    "    return sum((x - mean) ** 2 for x in data) / n\n",
    "\n",
    "def stdev(data):\n",
    "    var = variance(data)\n",
    "    std_dev = math.sqrt(var)\n",
    "    return std_dev\n",
    "stdev(df.sales.values)"
   ]
  },
  {
   "cell_type": "code",
   "execution_count": 7,
   "id": "69c6b1ee",
   "metadata": {},
   "outputs": [
    {
     "data": {
      "text/html": [
       "<div>\n",
       "<style scoped>\n",
       "    .dataframe tbody tr th:only-of-type {\n",
       "        vertical-align: middle;\n",
       "    }\n",
       "\n",
       "    .dataframe tbody tr th {\n",
       "        vertical-align: top;\n",
       "    }\n",
       "\n",
       "    .dataframe thead th {\n",
       "        text-align: right;\n",
       "    }\n",
       "</style>\n",
       "<table border=\"1\" class=\"dataframe\">\n",
       "  <thead>\n",
       "    <tr style=\"text-align: right;\">\n",
       "      <th></th>\n",
       "      <th>calculation</th>\n",
       "      <th>Sales</th>\n",
       "      <th>Salary</th>\n",
       "    </tr>\n",
       "  </thead>\n",
       "  <tbody>\n",
       "    <tr>\n",
       "      <th>0</th>\n",
       "      <td>Count</td>\n",
       "      <td>209.0</td>\n",
       "      <td>209.0</td>\n",
       "    </tr>\n",
       "    <tr>\n",
       "      <th>1</th>\n",
       "      <td>Min</td>\n",
       "      <td>175.0</td>\n",
       "      <td>223.0</td>\n",
       "    </tr>\n",
       "    <tr>\n",
       "      <th>2</th>\n",
       "      <td>Max</td>\n",
       "      <td>97650.0</td>\n",
       "      <td>14822.0</td>\n",
       "    </tr>\n",
       "    <tr>\n",
       "      <th>3</th>\n",
       "      <td>Median</td>\n",
       "      <td>3705.0</td>\n",
       "      <td>1039.0</td>\n",
       "    </tr>\n",
       "    <tr>\n",
       "      <th>4</th>\n",
       "      <td>Mean</td>\n",
       "      <td>6924.0</td>\n",
       "      <td>1281.0</td>\n",
       "    </tr>\n",
       "    <tr>\n",
       "      <th>5</th>\n",
       "      <td>variance</td>\n",
       "      <td>112525466.0</td>\n",
       "      <td>1883332.0</td>\n",
       "    </tr>\n",
       "    <tr>\n",
       "      <th>6</th>\n",
       "      <td>standard deviation</td>\n",
       "      <td>10633.0</td>\n",
       "      <td>1372.0</td>\n",
       "    </tr>\n",
       "  </tbody>\n",
       "</table>\n",
       "</div>"
      ],
      "text/plain": [
       "          calculation        Sales     Salary\n",
       "0               Count        209.0      209.0\n",
       "1                 Min        175.0      223.0\n",
       "2                 Max      97650.0    14822.0\n",
       "3              Median       3705.0     1039.0\n",
       "4                Mean       6924.0     1281.0\n",
       "5            variance  112525466.0  1883332.0\n",
       "6  standard deviation      10633.0     1372.0"
      ]
     },
     "execution_count": 7,
     "metadata": {},
     "output_type": "execute_result"
    }
   ],
   "source": [
    "def Skew(data):\n",
    "    n = len(data)\n",
    "    Mean = sum(data)/n\n",
    "    std=data.std()\n",
    "    Median=np.median(data)\n",
    "    Skew = sum((x-Mean)**3 for x in data)/((n-1)*std**3) \n",
    "    return Skew\n",
    "One=pd.DataFrame(data={\n",
    "    'calculation':['Count',\"Min\",\"Max\",\"Median\",'Mean','variance','standard deviation',],\n",
    "    'Sales':[len(df.sales),df.sales.min(),df.sales.max(),np.median(df.sales.values),df.sales.mean(),df.sales.values.var(),df.sales.std()],\n",
    "    'Salary':[len(df.salary),df.salary.min(),df.salary.max(),np.median(df.salary.values),df.salary.mean(),df.salary.var(),df.salary.std()]\n",
    "\n",
    "\n",
    "})\n",
    "One.round({\"Sales\":0 ,\"Salary\":0})"
   ]
  },
  {
   "cell_type": "code",
   "execution_count": 8,
   "id": "45fb9628",
   "metadata": {},
   "outputs": [
    {
     "data": {
      "text/plain": [
       "1883331.6442767757"
      ]
     },
     "execution_count": 8,
     "metadata": {},
     "output_type": "execute_result"
    }
   ],
   "source": [
    "df.salary.var()"
   ]
  },
  {
   "cell_type": "code",
   "execution_count": 9,
   "id": "4ad28848",
   "metadata": {},
   "outputs": [
    {
     "data": {
      "text/plain": [
       "(4.987150702176867, 6.838504297932583)"
      ]
     },
     "execution_count": 9,
     "metadata": {},
     "output_type": "execute_result"
    }
   ],
   "source": [
    "Skew(df.sales),Skew(df.salary)"
   ]
  },
  {
   "cell_type": "code",
   "execution_count": 10,
   "id": "fb2aa4bf",
   "metadata": {},
   "outputs": [
    {
     "data": {
      "text/plain": [
       "4.999124670678251"
      ]
     },
     "execution_count": 10,
     "metadata": {},
     "output_type": "execute_result"
    }
   ],
   "source": [
    "skew(df.sales)"
   ]
  },
  {
   "cell_type": "code",
   "execution_count": 11,
   "id": "d50b9534",
   "metadata": {},
   "outputs": [
    {
     "data": {
      "image/png": "[encoded data removed]",
      "text/plain": [
       "<Figure size 878.4x460.8 with 1 Axes>"
      ]
     },
     "metadata": {
      "needs_background": "light"
     },
     "output_type": "display_data"
    }
   ],
   "source": [
    "plt.figure(figsize=(12.2,6.4))\n",
    "plt.hist(df.salary,bins=30,rwidth=0.8,density=True,)\n",
    "df['salary'].plot(kind = 'density')\n",
    "plt.xlabel('Salary')\n",
    "plt.ylabel('Count')\n",
    "plt.title('Salary data distribution')\n",
    "plt.savefig('C:\\\\Users\\\\nafissaad\\\\Tutorial\\\\My projects\\\\Econometric 465 Assignment 1\\\\1.png',bbox_inches='tight',pad_nches=2,transperent=True)\n",
    "plt.show()\n"
   ]
  },
  {
   "cell_type": "code",
   "execution_count": 12,
   "id": "32cf4466",
   "metadata": {},
   "outputs": [],
   "source": [
    "x=df.salary\n",
    "y=df.sales"
   ]
  },
  {
   "cell_type": "code",
   "execution_count": 13,
   "id": "21635af9",
   "metadata": {},
   "outputs": [
    {
     "data": {
      "text/html": [
       "<div>\n",
       "<style scoped>\n",
       "    .dataframe tbody tr th:only-of-type {\n",
       "        vertical-align: middle;\n",
       "    }\n",
       "\n",
       "    .dataframe tbody tr th {\n",
       "        vertical-align: top;\n",
       "    }\n",
       "\n",
       "    .dataframe thead th {\n",
       "        text-align: right;\n",
       "    }\n",
       "</style>\n",
       "<table border=\"1\" class=\"dataframe\">\n",
       "  <thead>\n",
       "    <tr style=\"text-align: right;\">\n",
       "      <th></th>\n",
       "      <th>values</th>\n",
       "    </tr>\n",
       "  </thead>\n",
       "  <tbody>\n",
       "    <tr>\n",
       "      <th>0</th>\n",
       "      <td>0</td>\n",
       "    </tr>\n",
       "    <tr>\n",
       "      <th>1</th>\n",
       "      <td>2000</td>\n",
       "    </tr>\n",
       "    <tr>\n",
       "      <th>2</th>\n",
       "      <td>4000</td>\n",
       "    </tr>\n",
       "    <tr>\n",
       "      <th>3</th>\n",
       "      <td>6000</td>\n",
       "    </tr>\n",
       "    <tr>\n",
       "      <th>4</th>\n",
       "      <td>8000</td>\n",
       "    </tr>\n",
       "    <tr>\n",
       "      <th>5</th>\n",
       "      <td>10000</td>\n",
       "    </tr>\n",
       "    <tr>\n",
       "      <th>6</th>\n",
       "      <td>12000</td>\n",
       "    </tr>\n",
       "    <tr>\n",
       "      <th>7</th>\n",
       "      <td>14000</td>\n",
       "    </tr>\n",
       "  </tbody>\n",
       "</table>\n",
       "</div>"
      ],
      "text/plain": [
       "   values\n",
       "0       0\n",
       "1    2000\n",
       "2    4000\n",
       "3    6000\n",
       "4    8000\n",
       "5   10000\n",
       "6   12000\n",
       "7   14000"
      ]
     },
     "execution_count": 13,
     "metadata": {},
     "output_type": "execute_result"
    }
   ],
   "source": [
    "Test=pd.DataFrame(data={\n",
    "    'values':[0,2000,4000,6000,8000,10000,12000,14000],\n",
    "})\n",
    "Test"
   ]
  },
  {
   "cell_type": "code",
   "execution_count": 14,
   "id": "ed5682a7",
   "metadata": {},
   "outputs": [
    {
     "data": {
      "text/html": [
       "<table class=\"simpletable\">\n",
       "<caption>OLS Regression Results</caption>\n",
       "<tr>\n",
       "  <th>Dep. Variable:</th>          <td>sales</td>      <th>  R-squared:         </th> <td>   0.014</td>\n",
       "</tr>\n",
       "<tr>\n",
       "  <th>Model:</th>                   <td>OLS</td>       <th>  Adj. R-squared:    </th> <td>   0.010</td>\n",
       "</tr>\n",
       "<tr>\n",
       "  <th>Method:</th>             <td>Least Squares</td>  <th>  F-statistic:       </th> <td>   3.018</td>\n",
       "</tr>\n",
       "<tr>\n",
       "  <th>Date:</th>             <td>Mon, 04 Jul 2022</td> <th>  Prob (F-statistic):</th>  <td>0.0838</td> \n",
       "</tr>\n",
       "<tr>\n",
       "  <th>Time:</th>                 <td>22:01:14</td>     <th>  Log-Likelihood:    </th> <td> -2232.3</td>\n",
       "</tr>\n",
       "<tr>\n",
       "  <th>No. Observations:</th>      <td>   209</td>      <th>  AIC:               </th> <td>   4469.</td>\n",
       "</tr>\n",
       "<tr>\n",
       "  <th>Df Residuals:</th>          <td>   207</td>      <th>  BIC:               </th> <td>   4475.</td>\n",
       "</tr>\n",
       "<tr>\n",
       "  <th>Df Model:</th>              <td>     1</td>      <th>                     </th>     <td> </td>   \n",
       "</tr>\n",
       "<tr>\n",
       "  <th>Covariance Type:</th>      <td>nonrobust</td>    <th>                     </th>     <td> </td>   \n",
       "</tr>\n",
       "</table>\n",
       "<table class=\"simpletable\">\n",
       "<tr>\n",
       "     <td></td>       <th>coef</th>     <th>std err</th>      <th>t</th>      <th>P>|t|</th>  <th>[0.025</th>    <th>0.975]</th>  \n",
       "</tr>\n",
       "<tr>\n",
       "  <th>const</th>  <td> 5733.9170</td> <td> 1002.477</td> <td>    5.720</td> <td> 0.000</td> <td> 3757.543</td> <td> 7710.291</td>\n",
       "</tr>\n",
       "<tr>\n",
       "  <th>salary</th> <td>    0.9288</td> <td>    0.535</td> <td>    1.737</td> <td> 0.084</td> <td>   -0.125</td> <td>    1.983</td>\n",
       "</tr>\n",
       "</table>\n",
       "<table class=\"simpletable\">\n",
       "<tr>\n",
       "  <th>Omnibus:</th>       <td>249.315</td> <th>  Durbin-Watson:     </th> <td>   1.862</td> \n",
       "</tr>\n",
       "<tr>\n",
       "  <th>Prob(Omnibus):</th> <td> 0.000</td>  <th>  Jarque-Bera (JB):  </th> <td>10229.127</td>\n",
       "</tr>\n",
       "<tr>\n",
       "  <th>Skew:</th>          <td> 4.995</td>  <th>  Prob(JB):          </th> <td>    0.00</td> \n",
       "</tr>\n",
       "<tr>\n",
       "  <th>Kurtosis:</th>      <td>35.785</td>  <th>  Cond. No.          </th> <td>2.57e+03</td> \n",
       "</tr>\n",
       "</table><br/><br/>Notes:<br/>[1] Standard Errors assume that the covariance matrix of the errors is correctly specified.<br/>[2] The condition number is large, 2.57e+03. This might indicate that there are<br/>strong multicollinearity or other numerical problems."
      ],
      "text/plain": [
       "<class 'statsmodels.iolib.summary.Summary'>\n",
       "\"\"\"\n",
       "                            OLS Regression Results                            \n",
       "==============================================================================\n",
       "Dep. Variable:                  sales   R-squared:                       0.014\n",
       "Model:                            OLS   Adj. R-squared:                  0.010\n",
       "Method:                 Least Squares   F-statistic:                     3.018\n",
       "Date:                Mon, 04 Jul 2022   Prob (F-statistic):             0.0838\n",
       "Time:                        22:01:14   Log-Likelihood:                -2232.3\n",
       "No. Observations:                 209   AIC:                             4469.\n",
       "Df Residuals:                     207   BIC:                             4475.\n",
       "Df Model:                           1                                         \n",
       "Covariance Type:            nonrobust                                         \n",
       "==============================================================================\n",
       "                 coef    std err          t      P>|t|      [0.025      0.975]\n",
       "------------------------------------------------------------------------------\n",
       "const       5733.9170   1002.477      5.720      0.000    3757.543    7710.291\n",
       "salary         0.9288      0.535      1.737      0.084      -0.125       1.983\n",
       "==============================================================================\n",
       "Omnibus:                      249.315   Durbin-Watson:                   1.862\n",
       "Prob(Omnibus):                  0.000   Jarque-Bera (JB):            10229.127\n",
       "Skew:                           4.995   Prob(JB):                         0.00\n",
       "Kurtosis:                      35.785   Cond. No.                     2.57e+03\n",
       "==============================================================================\n",
       "\n",
       "Notes:\n",
       "[1] Standard Errors assume that the covariance matrix of the errors is correctly specified.\n",
       "[2] The condition number is large, 2.57e+03. This might indicate that there are\n",
       "strong multicollinearity or other numerical problems.\n",
       "\"\"\""
      ]
     },
     "execution_count": 14,
     "metadata": {},
     "output_type": "execute_result"
    }
   ],
   "source": [
    "x=df.salary\n",
    "y=df.sales\n",
    "x2=sm.add_constant(x)\n",
    "model=sm.OLS(y,x2).fit()\n",
    "reg= linear_model.LinearRegression()\n",
    "mod=reg.fit(df[['salary']].values,df['sales'])\n",
    "model.summary()"
   ]
  },
  {
   "cell_type": "code",
   "execution_count": 15,
   "id": "a4040bb7",
   "metadata": {},
   "outputs": [
    {
     "data": {
      "text/plain": [
       "9449.117"
      ]
     },
     "execution_count": 15,
     "metadata": {},
     "output_type": "execute_result"
    }
   ],
   "source": [
    "a=5733.9170\n",
    "b=0.9288\n",
    "x1=4000\n",
    "y1=a+b*x1\n",
    "y1"
   ]
  },
  {
   "cell_type": "code",
   "execution_count": 16,
   "id": "891aec9e",
   "metadata": {},
   "outputs": [
    {
     "data": {
      "text/plain": [
       "array([9449.03084303])"
      ]
     },
     "execution_count": 16,
     "metadata": {},
     "output_type": "execute_result"
    }
   ],
   "source": [
    "model.predict([1,4000])"
   ]
  },
  {
   "cell_type": "code",
   "execution_count": 17,
   "id": "4adb9508",
   "metadata": {
    "scrolled": false
   },
   "outputs": [
    {
     "data": {
      "image/png": "[encoded data removed]",
      "text/plain": [
       "<Figure size 878.4x460.8 with 1 Axes>"
      ]
     },
     "metadata": {
      "needs_background": "light"
     },
     "output_type": "display_data"
    }
   ],
   "source": [
    "plt.figure(figsize=(12.2,6.4))\n",
    "plt.scatter(x=x,y=y)\n",
    "plt.plot(np.array(Test.values),mod.predict(Test.values),color='red')\n",
    "plt.xlabel('Salary')\n",
    "plt.ylabel('Sales')\n",
    "plt.title('Salary Vs Sales')\n",
    "plt.savefig('C:\\\\Users\\\\nafissaad\\\\Tutorial\\\\My projects\\\\Econometric 465 Assignment 1\\\\2.png',bbox_inches='tight',pad_nches=2,transperent=True)\n",
    "\n",
    "plt.show()"
   ]
  },
  {
   "cell_type": "code",
   "execution_count": 21,
   "id": "3bd45abf",
   "metadata": {},
   "outputs": [],
   "source": [
    "IQR_for_salary=IQR1"
   ]
  },
  {
   "cell_type": "code",
   "execution_count": 22,
   "id": "fe051dc9",
   "metadata": {},
   "outputs": [
    {
     "data": {
      "text/plain": [
       "671.0"
      ]
     },
     "execution_count": 22,
     "metadata": {},
     "output_type": "execute_result"
    }
   ],
   "source": [
    "#for salary\n",
    "Q1=df.salary.quantile(0.25)\n",
    "Q2=df.salary.quantile(0.75)\n",
    "IQR1=Q2-Q1\n",
    "IQR1"
   ]
  },
  {
   "cell_type": "code",
   "execution_count": 23,
   "id": "58b459e2",
   "metadata": {},
   "outputs": [
    {
     "data": {
      "text/plain": [
       "(-270.5, 2413.5)"
      ]
     },
     "execution_count": 23,
     "metadata": {},
     "output_type": "execute_result"
    }
   ],
   "source": [
    "lower_limit_salary =Q1-1.5*IQR_for_salary\n",
    "upper_limit_salary =Q2+1.5*IQR_for_salary\n",
    "lower_limit_salary,upper_limit_salary"
   ]
  },
  {
   "cell_type": "code",
   "execution_count": 24,
   "id": "eff60ee2",
   "metadata": {},
   "outputs": [],
   "source": [
    "#for sales\n",
    "#for salary\n",
    "Q3=df.sales.quantile(0.25)\n",
    "Q4=df.sales.quantile(0.75)\n",
    "IQR2=Q4-Q3"
   ]
  },
  {
   "cell_type": "code",
   "execution_count": 25,
   "id": "889a3ae7",
   "metadata": {},
   "outputs": [],
   "source": [
    "#Given\n",
    "IQR_for_sales=IQR2"
   ]
  },
  {
   "cell_type": "code",
   "execution_count": 26,
   "id": "efbab004",
   "metadata": {},
   "outputs": [
    {
     "data": {
      "text/plain": [
       "(-5239.7498779296875, 14627.049926757812)"
      ]
     },
     "execution_count": 26,
     "metadata": {},
     "output_type": "execute_result"
    }
   ],
   "source": [
    "lower_limit_sales =Q3-1.5*IQR_for_sales\n",
    "upper_limit_sales =Q4+1.5*IQR_for_sales\n",
    "lower_limit_sales,upper_limit_sales"
   ]
  },
  {
   "cell_type": "code",
   "execution_count": 27,
   "id": "870cc08b",
   "metadata": {},
   "outputs": [
    {
     "data": {
      "text/plain": [
       "(9, 21)"
      ]
     },
     "execution_count": 27,
     "metadata": {},
     "output_type": "execute_result"
    }
   ],
   "source": [
    "df1=df[(df.salary<lower_limit_salary)|(df.salary>upper_limit_salary)]\n",
    "df2=df[(df.sales<lower_limit_sales)|(df.sales>upper_limit_sales)]\n",
    "len(df1),len(df2)"
   ]
  },
  {
   "cell_type": "code",
   "execution_count": 28,
   "id": "d7a8ef49",
   "metadata": {},
   "outputs": [
    {
     "data": {
      "image/png": "[encoded data removed]",
      "text/plain": [
       "<Figure size 878.4x460.8 with 1 Axes>"
      ]
     },
     "metadata": {
      "needs_background": "light"
     },
     "output_type": "display_data"
    }
   ],
   "source": [
    "plt.figure(figsize=(12.2,6.4))\n",
    "plt.scatter(x=x,y=y,label='Normal data')\n",
    "plt.scatter(x=df1.salary,y=df1.sales,label='salary_outlier')\n",
    "#plt.scatter(x=df2.salary,y=df2.sales,label='sales_outlier')\n",
    "plt.xlabel('Salary')\n",
    "plt.ylabel('Sales')\n",
    "plt.title('Salary Outliers')\n",
    "plt.legend()\n",
    "plt.savefig('C:\\\\Users\\\\nafissaad\\\\Tutorial\\\\My projects\\\\Econometric 465 Assignment 1\\\\5.png',bbox_inches='tight',pad_nches=2,transperent=True)\n",
    "\n",
    "plt.show()"
   ]
  },
  {
   "cell_type": "code",
   "execution_count": 29,
   "id": "cfee98d7",
   "metadata": {},
   "outputs": [
    {
     "data": {
      "image/png": "[encoded data removed]",
      "text/plain": [
       "<Figure size 878.4x460.8 with 1 Axes>"
      ]
     },
     "metadata": {
      "needs_background": "light"
     },
     "output_type": "display_data"
    }
   ],
   "source": [
    "plt.figure(figsize=(12.2,6.4))\n",
    "plt.scatter(x=x,y=y,label='Normal data')\n",
    "#plt.scatter(x=df1.salary,y=df1.sales,label='salary_outlier')\n",
    "plt.scatter(x=df2.salary,y=df2.sales,label='sales_outlier')\n",
    "plt.xlabel('Salary')\n",
    "plt.ylabel('Sales')\n",
    "plt.title('Sales Outliers')\n",
    "plt.legend()\n",
    "plt.savefig('C:\\\\Users\\\\nafissaad\\\\Tutorial\\\\My projects\\\\Econometric 465 Assignment 1\\\\6.png',bbox_inches='tight',pad_nches=2,transperent=True)\n",
    "plt.show()"
   ]
  },
  {
   "cell_type": "code",
   "execution_count": 30,
   "id": "ba8f629e",
   "metadata": {},
   "outputs": [
    {
     "name": "stdout",
     "output_type": "stream",
     "text": [
      "roe     49.571720\n",
      "ros    110.312021\n",
      "dtype: float64\n",
      "ROE is more consistant than ROS\n"
     ]
    }
   ],
   "source": [
    "#define function to calculate cv\n",
    "cv = lambda x: np.std(x, ddof=1) / np.mean(x) * 100 \n",
    "\n",
    "#calculate Coefficient of variation for each column in data frame\n",
    "print(df[['roe','ros']].apply(cv))\n",
    "print('ROE is more consistant than ROS')"
   ]
  },
  {
   "cell_type": "code",
   "execution_count": 31,
   "id": "738cd961",
   "metadata": {},
   "outputs": [
    {
     "data": {
      "text/plain": [
       "0.4957171966958476"
      ]
     },
     "execution_count": 31,
     "metadata": {},
     "output_type": "execute_result"
    }
   ],
   "source": [
    "df.roe.std()/df.roe.mean()"
   ]
  },
  {
   "cell_type": "code",
   "execution_count": 32,
   "id": "b3f16827",
   "metadata": {},
   "outputs": [
    {
     "data": {
      "text/plain": [
       "1.1031202130603828"
      ]
     },
     "execution_count": 32,
     "metadata": {},
     "output_type": "execute_result"
    }
   ],
   "source": [
    "df.ros.std()/df.ros.mean()"
   ]
  }
 ],
 "metadata": {
  "kernelspec": {
   "display_name": "Python 3 (ipykernel)",
   "language": "python",
   "name": "python3"
  },
  "language_info": {
   "codemirror_mode": {
    "name": "ipython",
    "version": 3
   },
   "file_extension": ".py",
   "mimetype": "text/x-python",
   "name": "python",
   "nbconvert_exporter": "python",
   "pygments_lexer": "ipython3",
   "version": "3.7.3"
  }
 },
 "nbformat": 4,
 "nbformat_minor": 5
}

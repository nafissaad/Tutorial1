{
 "cells": [
  {
   "cell_type": "code",
   "execution_count": 1,
   "id": "2b74bfba",
   "metadata": {},
   "outputs": [],
   "source": [
    "import pandas as pd\n",
    "import numpy as np\n",
    "import matplotlib.pyplot as plt\n",
    "import datetime as dt\n",
    "from scipy.stats import norm\n",
    "import matplotlib.pyplot as plt\n",
    "import scipy.stats as stats\n",
    "import pylab"
   ]
  },
  {
   "cell_type": "code",
   "execution_count": 2,
   "id": "4ad59ec3",
   "metadata": {},
   "outputs": [],
   "source": [
    "df=pd.read_excel('C:\\\\Users\\\\nafissaad\\\\Tutorial\\\\Fundamental analysis\\\\My Portfolio\\\\portfolio_performence.xlsx')\n",
    "df.rename(columns={'Unnamed: 0':'date'},inplace=True)\n",
    "df.drop(0,inplace=True)\n",
    "df.set_index('date',inplace=True)"
   ]
  },
  {
   "cell_type": "code",
   "execution_count": 3,
   "id": "d813dc4e",
   "metadata": {},
   "outputs": [
    {
     "data": {
      "text/html": [
       "<div>\n",
       "<style scoped>\n",
       "    .dataframe tbody tr th:only-of-type {\n",
       "        vertical-align: middle;\n",
       "    }\n",
       "\n",
       "    .dataframe tbody tr th {\n",
       "        vertical-align: top;\n",
       "    }\n",
       "\n",
       "    .dataframe thead th {\n",
       "        text-align: right;\n",
       "    }\n",
       "</style>\n",
       "<table border=\"1\" class=\"dataframe\">\n",
       "  <thead>\n",
       "    <tr style=\"text-align: right;\">\n",
       "      <th></th>\n",
       "      <th>ISLAMIBANK</th>\n",
       "      <th>RAKCERAMIC</th>\n",
       "      <th>BATBC</th>\n",
       "      <th>RENATA</th>\n",
       "      <th>MARICO</th>\n",
       "      <th>SINGERBD</th>\n",
       "      <th>LINDEBD</th>\n",
       "      <th>SUMITPOWER</th>\n",
       "      <th>BERGERPBL</th>\n",
       "      <th>BXPHARMA</th>\n",
       "      <th>...</th>\n",
       "      <th>SKICL</th>\n",
       "      <th>ACI</th>\n",
       "      <th>ACIFORMULA</th>\n",
       "      <th>EXIMBANK</th>\n",
       "      <th>IFILISLMF1</th>\n",
       "      <th>AIBL1STIMF</th>\n",
       "      <th>EXIM1STMF</th>\n",
       "      <th>RECKITTBEN</th>\n",
       "      <th>JMISMDL</th>\n",
       "      <th>Total</th>\n",
       "    </tr>\n",
       "    <tr>\n",
       "      <th>date</th>\n",
       "      <th></th>\n",
       "      <th></th>\n",
       "      <th></th>\n",
       "      <th></th>\n",
       "      <th></th>\n",
       "      <th></th>\n",
       "      <th></th>\n",
       "      <th></th>\n",
       "      <th></th>\n",
       "      <th></th>\n",
       "      <th></th>\n",
       "      <th></th>\n",
       "      <th></th>\n",
       "      <th></th>\n",
       "      <th></th>\n",
       "      <th></th>\n",
       "      <th></th>\n",
       "      <th></th>\n",
       "      <th></th>\n",
       "      <th></th>\n",
       "      <th></th>\n",
       "    </tr>\n",
       "  </thead>\n",
       "  <tbody>\n",
       "    <tr>\n",
       "      <th>2021-06-15</th>\n",
       "      <td>19999.4</td>\n",
       "      <td>10010.0</td>\n",
       "      <td>20121.0</td>\n",
       "      <td>29741.3</td>\n",
       "      <td>19001.7</td>\n",
       "      <td>10080.0</td>\n",
       "      <td>59616.0</td>\n",
       "      <td>10011.0</td>\n",
       "      <td>49621.6</td>\n",
       "      <td>9918.0</td>\n",
       "      <td>...</td>\n",
       "      <td>29997.0</td>\n",
       "      <td>15103.2</td>\n",
       "      <td>14994.0</td>\n",
       "      <td>30002.4</td>\n",
       "      <td>29997.0</td>\n",
       "      <td>20001.8</td>\n",
       "      <td>19999.0</td>\n",
       "      <td>29717.1</td>\n",
       "      <td>20044.6</td>\n",
       "      <td>998554.0</td>\n",
       "    </tr>\n",
       "    <tr>\n",
       "      <th>2021-06-16</th>\n",
       "      <td>19927.2</td>\n",
       "      <td>10267.4</td>\n",
       "      <td>20121.0</td>\n",
       "      <td>29720.6</td>\n",
       "      <td>19242.9</td>\n",
       "      <td>10080.0</td>\n",
       "      <td>59859.8</td>\n",
       "      <td>10034.5</td>\n",
       "      <td>49702.8</td>\n",
       "      <td>9906.4</td>\n",
       "      <td>...</td>\n",
       "      <td>29997.0</td>\n",
       "      <td>14767.2</td>\n",
       "      <td>15225.0</td>\n",
       "      <td>30002.4</td>\n",
       "      <td>30451.5</td>\n",
       "      <td>20221.6</td>\n",
       "      <td>20284.7</td>\n",
       "      <td>29885.8</td>\n",
       "      <td>19877.2</td>\n",
       "      <td>1009669.6</td>\n",
       "    </tr>\n",
       "    <tr>\n",
       "      <th>2021-06-17</th>\n",
       "      <td>20143.8</td>\n",
       "      <td>10267.4</td>\n",
       "      <td>20257.8</td>\n",
       "      <td>29720.6</td>\n",
       "      <td>19303.2</td>\n",
       "      <td>10130.4</td>\n",
       "      <td>59800.0</td>\n",
       "      <td>10410.5</td>\n",
       "      <td>49565.6</td>\n",
       "      <td>10144.2</td>\n",
       "      <td>...</td>\n",
       "      <td>29997.0</td>\n",
       "      <td>14756.0</td>\n",
       "      <td>15015.0</td>\n",
       "      <td>30002.4</td>\n",
       "      <td>30451.5</td>\n",
       "      <td>20001.8</td>\n",
       "      <td>20570.4</td>\n",
       "      <td>30107.0</td>\n",
       "      <td>19846.2</td>\n",
       "      <td>1013630.4</td>\n",
       "    </tr>\n",
       "    <tr>\n",
       "      <th>2021-06-20</th>\n",
       "      <td>20143.8</td>\n",
       "      <td>10696.4</td>\n",
       "      <td>20345.2</td>\n",
       "      <td>29796.5</td>\n",
       "      <td>19487.7</td>\n",
       "      <td>10085.6</td>\n",
       "      <td>60108.2</td>\n",
       "      <td>10575.0</td>\n",
       "      <td>49943.6</td>\n",
       "      <td>10440.0</td>\n",
       "      <td>...</td>\n",
       "      <td>29997.0</td>\n",
       "      <td>14840.0</td>\n",
       "      <td>14983.5</td>\n",
       "      <td>30280.2</td>\n",
       "      <td>29997.0</td>\n",
       "      <td>19782.0</td>\n",
       "      <td>20570.4</td>\n",
       "      <td>30326.8</td>\n",
       "      <td>19802.8</td>\n",
       "      <td>1022525.7</td>\n",
       "    </tr>\n",
       "    <tr>\n",
       "      <th>2021-06-21</th>\n",
       "      <td>20504.8</td>\n",
       "      <td>10553.4</td>\n",
       "      <td>20759.4</td>\n",
       "      <td>29879.3</td>\n",
       "      <td>20018.7</td>\n",
       "      <td>10085.6</td>\n",
       "      <td>60223.2</td>\n",
       "      <td>10457.5</td>\n",
       "      <td>49974.4</td>\n",
       "      <td>10416.8</td>\n",
       "      <td>...</td>\n",
       "      <td>29997.0</td>\n",
       "      <td>14795.2</td>\n",
       "      <td>15025.5</td>\n",
       "      <td>31113.6</td>\n",
       "      <td>30451.5</td>\n",
       "      <td>20001.8</td>\n",
       "      <td>20570.4</td>\n",
       "      <td>30457.7</td>\n",
       "      <td>19933.0</td>\n",
       "      <td>1030243.0</td>\n",
       "    </tr>\n",
       "    <tr>\n",
       "      <th>...</th>\n",
       "      <td>...</td>\n",
       "      <td>...</td>\n",
       "      <td>...</td>\n",
       "      <td>...</td>\n",
       "      <td>...</td>\n",
       "      <td>...</td>\n",
       "      <td>...</td>\n",
       "      <td>...</td>\n",
       "      <td>...</td>\n",
       "      <td>...</td>\n",
       "      <td>...</td>\n",
       "      <td>...</td>\n",
       "      <td>...</td>\n",
       "      <td>...</td>\n",
       "      <td>...</td>\n",
       "      <td>...</td>\n",
       "      <td>...</td>\n",
       "      <td>...</td>\n",
       "      <td>...</td>\n",
       "      <td>...</td>\n",
       "      <td>...</td>\n",
       "    </tr>\n",
       "    <tr>\n",
       "      <th>2023-06-08</th>\n",
       "      <td>23537.2</td>\n",
       "      <td>12269.4</td>\n",
       "      <td>19710.6</td>\n",
       "      <td>28011.7</td>\n",
       "      <td>21793.5</td>\n",
       "      <td>8506.4</td>\n",
       "      <td>64294.2</td>\n",
       "      <td>7990.0</td>\n",
       "      <td>50047.2</td>\n",
       "      <td>8479.6</td>\n",
       "      <td>...</td>\n",
       "      <td>133350.3</td>\n",
       "      <td>14571.2</td>\n",
       "      <td>16768.5</td>\n",
       "      <td>28891.2</td>\n",
       "      <td>29088.0</td>\n",
       "      <td>16045.4</td>\n",
       "      <td>16570.6</td>\n",
       "      <td>33786.9</td>\n",
       "      <td>15841.0</td>\n",
       "      <td>1314151.6</td>\n",
       "    </tr>\n",
       "    <tr>\n",
       "      <th>2023-06-11</th>\n",
       "      <td>23537.2</td>\n",
       "      <td>12269.4</td>\n",
       "      <td>19710.6</td>\n",
       "      <td>28011.7</td>\n",
       "      <td>21793.5</td>\n",
       "      <td>8506.4</td>\n",
       "      <td>64294.2</td>\n",
       "      <td>7990.0</td>\n",
       "      <td>49739.2</td>\n",
       "      <td>8479.6</td>\n",
       "      <td>...</td>\n",
       "      <td>132804.9</td>\n",
       "      <td>14571.2</td>\n",
       "      <td>16768.5</td>\n",
       "      <td>28891.2</td>\n",
       "      <td>29088.0</td>\n",
       "      <td>16045.4</td>\n",
       "      <td>16570.6</td>\n",
       "      <td>33566.4</td>\n",
       "      <td>15841.0</td>\n",
       "      <td>1306667.8</td>\n",
       "    </tr>\n",
       "    <tr>\n",
       "      <th>2023-06-12</th>\n",
       "      <td>23537.2</td>\n",
       "      <td>12269.4</td>\n",
       "      <td>19710.6</td>\n",
       "      <td>28011.7</td>\n",
       "      <td>21793.5</td>\n",
       "      <td>8506.4</td>\n",
       "      <td>64294.2</td>\n",
       "      <td>7990.0</td>\n",
       "      <td>49501.2</td>\n",
       "      <td>8479.6</td>\n",
       "      <td>...</td>\n",
       "      <td>130077.9</td>\n",
       "      <td>14571.2</td>\n",
       "      <td>16537.5</td>\n",
       "      <td>28891.2</td>\n",
       "      <td>29088.0</td>\n",
       "      <td>16045.4</td>\n",
       "      <td>16570.6</td>\n",
       "      <td>33615.4</td>\n",
       "      <td>15841.0</td>\n",
       "      <td>1294615.3</td>\n",
       "    </tr>\n",
       "    <tr>\n",
       "      <th>2023-06-13</th>\n",
       "      <td>23537.2</td>\n",
       "      <td>12269.4</td>\n",
       "      <td>19710.6</td>\n",
       "      <td>28011.7</td>\n",
       "      <td>21793.5</td>\n",
       "      <td>8506.4</td>\n",
       "      <td>64294.2</td>\n",
       "      <td>7990.0</td>\n",
       "      <td>49562.8</td>\n",
       "      <td>8479.6</td>\n",
       "      <td>...</td>\n",
       "      <td>130077.9</td>\n",
       "      <td>14571.2</td>\n",
       "      <td>16432.5</td>\n",
       "      <td>28891.2</td>\n",
       "      <td>29088.0</td>\n",
       "      <td>16045.4</td>\n",
       "      <td>16570.6</td>\n",
       "      <td>33703.6</td>\n",
       "      <td>15841.0</td>\n",
       "      <td>1291944.1</td>\n",
       "    </tr>\n",
       "    <tr>\n",
       "      <th>2023-06-14</th>\n",
       "      <td>23537.2</td>\n",
       "      <td>12269.4</td>\n",
       "      <td>19710.6</td>\n",
       "      <td>28011.7</td>\n",
       "      <td>21793.5</td>\n",
       "      <td>8506.4</td>\n",
       "      <td>64294.2</td>\n",
       "      <td>7990.0</td>\n",
       "      <td>49576.8</td>\n",
       "      <td>8479.6</td>\n",
       "      <td>...</td>\n",
       "      <td>127350.9</td>\n",
       "      <td>14571.2</td>\n",
       "      <td>16275.0</td>\n",
       "      <td>28891.2</td>\n",
       "      <td>29088.0</td>\n",
       "      <td>16045.4</td>\n",
       "      <td>16570.6</td>\n",
       "      <td>33812.1</td>\n",
       "      <td>15841.0</td>\n",
       "      <td>1279730.9</td>\n",
       "    </tr>\n",
       "  </tbody>\n",
       "</table>\n",
       "<p>485 rows × 46 columns</p>\n",
       "</div>"
      ],
      "text/plain": [
       "            ISLAMIBANK  RAKCERAMIC    BATBC   RENATA   MARICO  SINGERBD  \\\n",
       "date                                                                      \n",
       "2021-06-15     19999.4     10010.0  20121.0  29741.3  19001.7   10080.0   \n",
       "2021-06-16     19927.2     10267.4  20121.0  29720.6  19242.9   10080.0   \n",
       "2021-06-17     20143.8     10267.4  20257.8  29720.6  19303.2   10130.4   \n",
       "2021-06-20     20143.8     10696.4  20345.2  29796.5  19487.7   10085.6   \n",
       "2021-06-21     20504.8     10553.4  20759.4  29879.3  20018.7   10085.6   \n",
       "...                ...         ...      ...      ...      ...       ...   \n",
       "2023-06-08     23537.2     12269.4  19710.6  28011.7  21793.5    8506.4   \n",
       "2023-06-11     23537.2     12269.4  19710.6  28011.7  21793.5    8506.4   \n",
       "2023-06-12     23537.2     12269.4  19710.6  28011.7  21793.5    8506.4   \n",
       "2023-06-13     23537.2     12269.4  19710.6  28011.7  21793.5    8506.4   \n",
       "2023-06-14     23537.2     12269.4  19710.6  28011.7  21793.5    8506.4   \n",
       "\n",
       "            LINDEBD  SUMITPOWER  BERGERPBL  BXPHARMA  ...     SKICL      ACI  \\\n",
       "date                                                  ...                      \n",
       "2021-06-15  59616.0     10011.0    49621.6    9918.0  ...   29997.0  15103.2   \n",
       "2021-06-16  59859.8     10034.5    49702.8    9906.4  ...   29997.0  14767.2   \n",
       "2021-06-17  59800.0     10410.5    49565.6   10144.2  ...   29997.0  14756.0   \n",
       "2021-06-20  60108.2     10575.0    49943.6   10440.0  ...   29997.0  14840.0   \n",
       "2021-06-21  60223.2     10457.5    49974.4   10416.8  ...   29997.0  14795.2   \n",
       "...             ...         ...        ...       ...  ...       ...      ...   \n",
       "2023-06-08  64294.2      7990.0    50047.2    8479.6  ...  133350.3  14571.2   \n",
       "2023-06-11  64294.2      7990.0    49739.2    8479.6  ...  132804.9  14571.2   \n",
       "2023-06-12  64294.2      7990.0    49501.2    8479.6  ...  130077.9  14571.2   \n",
       "2023-06-13  64294.2      7990.0    49562.8    8479.6  ...  130077.9  14571.2   \n",
       "2023-06-14  64294.2      7990.0    49576.8    8479.6  ...  127350.9  14571.2   \n",
       "\n",
       "            ACIFORMULA  EXIMBANK  IFILISLMF1  AIBL1STIMF  EXIM1STMF  \\\n",
       "date                                                                  \n",
       "2021-06-15     14994.0   30002.4     29997.0     20001.8    19999.0   \n",
       "2021-06-16     15225.0   30002.4     30451.5     20221.6    20284.7   \n",
       "2021-06-17     15015.0   30002.4     30451.5     20001.8    20570.4   \n",
       "2021-06-20     14983.5   30280.2     29997.0     19782.0    20570.4   \n",
       "2021-06-21     15025.5   31113.6     30451.5     20001.8    20570.4   \n",
       "...                ...       ...         ...         ...        ...   \n",
       "2023-06-08     16768.5   28891.2     29088.0     16045.4    16570.6   \n",
       "2023-06-11     16768.5   28891.2     29088.0     16045.4    16570.6   \n",
       "2023-06-12     16537.5   28891.2     29088.0     16045.4    16570.6   \n",
       "2023-06-13     16432.5   28891.2     29088.0     16045.4    16570.6   \n",
       "2023-06-14     16275.0   28891.2     29088.0     16045.4    16570.6   \n",
       "\n",
       "            RECKITTBEN  JMISMDL      Total  \n",
       "date                                        \n",
       "2021-06-15     29717.1  20044.6   998554.0  \n",
       "2021-06-16     29885.8  19877.2  1009669.6  \n",
       "2021-06-17     30107.0  19846.2  1013630.4  \n",
       "2021-06-20     30326.8  19802.8  1022525.7  \n",
       "2021-06-21     30457.7  19933.0  1030243.0  \n",
       "...                ...      ...        ...  \n",
       "2023-06-08     33786.9  15841.0  1314151.6  \n",
       "2023-06-11     33566.4  15841.0  1306667.8  \n",
       "2023-06-12     33615.4  15841.0  1294615.3  \n",
       "2023-06-13     33703.6  15841.0  1291944.1  \n",
       "2023-06-14     33812.1  15841.0  1279730.9  \n",
       "\n",
       "[485 rows x 46 columns]"
      ]
     },
     "execution_count": 3,
     "metadata": {},
     "output_type": "execute_result"
    }
   ],
   "source": [
    "df"
   ]
  },
  {
   "cell_type": "code",
   "execution_count": 4,
   "id": "c780345a",
   "metadata": {},
   "outputs": [
    {
     "data": {
      "text/plain": [
       "date\n",
       "2021-06-15     998554.0\n",
       "2021-06-16    1009669.6\n",
       "2021-06-17    1013630.4\n",
       "2021-06-20    1022525.7\n",
       "2021-06-21    1030243.0\n",
       "                ...    \n",
       "2023-06-08    1314151.6\n",
       "2023-06-11    1306667.8\n",
       "2023-06-12    1294615.3\n",
       "2023-06-13    1291944.1\n",
       "2023-06-14    1279730.9\n",
       "Name: Total, Length: 485, dtype: float64"
      ]
     },
     "execution_count": 4,
     "metadata": {},
     "output_type": "execute_result"
    }
   ],
   "source": [
    "df['Total']"
   ]
  },
  {
   "cell_type": "code",
   "execution_count": 5,
   "id": "079482f8",
   "metadata": {},
   "outputs": [
    {
     "data": {
      "text/plain": [
       "date\n",
       "2021-06-15         NaN\n",
       "2021-06-16    0.011070\n",
       "2021-06-17    0.003915\n",
       "2021-06-20    0.008737\n",
       "2021-06-21    0.007519\n",
       "                ...   \n",
       "2023-06-08    0.003498\n",
       "2023-06-11   -0.005711\n",
       "2023-06-12   -0.009267\n",
       "2023-06-13   -0.002065\n",
       "2023-06-14   -0.009498\n",
       "Name: Total, Length: 485, dtype: float64"
      ]
     },
     "execution_count": 5,
     "metadata": {},
     "output_type": "execute_result"
    }
   ],
   "source": [
    "returns=np.log(df['Total']/df['Total'].shift(1))\n",
    "returns"
   ]
  },
  {
   "cell_type": "code",
   "execution_count": 6,
   "id": "55720c35",
   "metadata": {},
   "outputs": [
    {
     "data": {
      "text/plain": [
       "count    484.000000\n",
       "mean       0.000513\n",
       "std        0.008568\n",
       "min       -0.033038\n",
       "25%       -0.004069\n",
       "50%        0.000542\n",
       "75%        0.004926\n",
       "max        0.031559\n",
       "Name: Total, dtype: float64"
      ]
     },
     "execution_count": 6,
     "metadata": {},
     "output_type": "execute_result"
    }
   ],
   "source": [
    "returns.describe()"
   ]
  },
  {
   "cell_type": "code",
   "execution_count": 7,
   "id": "463f26d6",
   "metadata": {},
   "outputs": [
    {
     "data": {
      "text/plain": [
       "0.1360094681614699"
      ]
     },
     "execution_count": 7,
     "metadata": {},
     "output_type": "execute_result"
    }
   ],
   "source": [
    "#Yearly Standard deviation\n",
    "daily_std=float(returns.describe().values[2])\n",
    "daily_std\n",
    "daily_variance=daily_std*daily_std\n",
    "trading_day=252\n",
    "yearly_variance=trading_day*daily_variance\n",
    "yearly_std=np.sqrt(yearly_variance)\n",
    "yearly_std"
   ]
  },
  {
   "cell_type": "code",
   "execution_count": 8,
   "id": "a6467c0c",
   "metadata": {},
   "outputs": [
    {
     "data": {
      "text/plain": [
       "0.1360094681614699"
      ]
     },
     "execution_count": 8,
     "metadata": {},
     "output_type": "execute_result"
    }
   ],
   "source": [
    "np.sqrt(252)*daily_std"
   ]
  },
  {
   "cell_type": "code",
   "execution_count": 9,
   "id": "77349c11",
   "metadata": {},
   "outputs": [
    {
     "data": {
      "text/plain": [
       "0.12917440230602598"
      ]
     },
     "execution_count": 9,
     "metadata": {},
     "output_type": "execute_result"
    }
   ],
   "source": [
    "#yearly_return\n",
    "yearly_return=returns.describe().values[1]*252\n",
    "yearly_return"
   ]
  },
  {
   "cell_type": "code",
   "execution_count": 10,
   "id": "badfbaf3",
   "metadata": {},
   "outputs": [
    {
     "data": {
      "text/plain": [
       "array([-3.30382752e-02, -3.20382752e-02, -3.10382752e-02, -3.00382752e-02,\n",
       "       -2.90382752e-02, -2.80382752e-02, -2.70382752e-02, -2.60382752e-02,\n",
       "       -2.50382752e-02, -2.40382752e-02, -2.30382752e-02, -2.20382752e-02,\n",
       "       -2.10382752e-02, -2.00382752e-02, -1.90382752e-02, -1.80382752e-02,\n",
       "       -1.70382752e-02, -1.60382752e-02, -1.50382752e-02, -1.40382752e-02,\n",
       "       -1.30382752e-02, -1.20382752e-02, -1.10382752e-02, -1.00382752e-02,\n",
       "       -9.03827519e-03, -8.03827519e-03, -7.03827519e-03, -6.03827519e-03,\n",
       "       -5.03827519e-03, -4.03827519e-03, -3.03827519e-03, -2.03827519e-03,\n",
       "       -1.03827519e-03, -3.82751922e-05,  9.61724808e-04,  1.96172481e-03,\n",
       "        2.96172481e-03,  3.96172481e-03,  4.96172481e-03,  5.96172481e-03,\n",
       "        6.96172481e-03,  7.96172481e-03,  8.96172481e-03,  9.96172481e-03,\n",
       "        1.09617248e-02,  1.19617248e-02,  1.29617248e-02,  1.39617248e-02,\n",
       "        1.49617248e-02,  1.59617248e-02,  1.69617248e-02,  1.79617248e-02,\n",
       "        1.89617248e-02,  1.99617248e-02,  2.09617248e-02,  2.19617248e-02,\n",
       "        2.29617248e-02,  2.39617248e-02,  2.49617248e-02,  2.59617248e-02,\n",
       "        2.69617248e-02,  2.79617248e-02,  2.89617248e-02,  2.99617248e-02,\n",
       "        3.09617248e-02])"
      ]
     },
     "execution_count": 10,
     "metadata": {},
     "output_type": "execute_result"
    }
   ],
   "source": [
    "x=np.arange(returns.min(),returns.max(),0.001)\n",
    "x"
   ]
  },
  {
   "cell_type": "code",
   "execution_count": 11,
   "id": "1b222f1f",
   "metadata": {},
   "outputs": [
    {
     "data": {
      "text/plain": [
       "array([2.17868692e-02, 3.41768529e-02, 5.28875030e-02, 8.07342482e-02,\n",
       "       1.21575565e-01, 1.80600330e-01, 2.64651604e-01, 3.82572959e-01,\n",
       "       5.45554018e-01, 7.67441000e-01, 1.06496660e+00, 1.45784289e+00,\n",
       "       1.96865317e+00, 2.62247553e+00, 3.44617582e+00, 4.46732105e+00,\n",
       "       5.71268989e+00, 7.20639200e+00, 8.96765444e+00, 1.10083847e+01,\n",
       "       1.33306731e+01, 1.59244451e+01, 1.87655064e+01, 2.18142365e+01,\n",
       "       2.50151721e+01, 2.82976730e+01, 3.15777877e+01, 3.47613334e+01,\n",
       "       3.77480831e+01, 4.04368324e+01, 4.27310045e+01, 4.45443705e+01,\n",
       "       4.58064145e+01, 4.64668809e+01, 4.64990942e+01, 4.59017469e+01,\n",
       "       4.46989873e+01, 4.29388001e+01, 4.06898297e+01, 3.80369417e+01,\n",
       "       3.50759190e+01, 3.19077570e+01, 2.86330256e+01, 2.53467311e+01,\n",
       "       2.21340263e+01, 1.90670118e+01, 1.62027451e+01, 1.35824562e+01,\n",
       "       1.12318624e+01, 9.16239448e+00, 7.37309699e+00, 5.85294789e+00,\n",
       "       4.58335099e+00, 3.54058745e+00, 2.69805801e+00, 2.02820099e+00,\n",
       "       1.50402290e+00, 1.10022537e+00, 7.93949006e-01, 5.65180688e-01,\n",
       "       3.96885989e-01, 2.74933696e-01, 1.87877133e-01, 1.26649543e-01,\n",
       "       8.42203568e-02])"
      ]
     },
     "execution_count": 11,
     "metadata": {},
     "output_type": "execute_result"
    }
   ],
   "source": [
    "norm_dist=norm.pdf(x,returns.describe().values[1],returns.describe().values[2])\n",
    "norm_dist"
   ]
  },
  {
   "cell_type": "code",
   "execution_count": 12,
   "id": "b8653661",
   "metadata": {},
   "outputs": [
    {
     "data": {
      "image/png": "[encoded data removed]",
      "text/plain": [
       "<Figure size 432x288 with 1 Axes>"
      ]
     },
     "metadata": {
      "needs_background": "light"
     },
     "output_type": "display_data"
    }
   ],
   "source": [
    "plt.plot(x,norm_dist,color='r')\n",
    "plt.xlabel('Returns(%)')\n",
    "plt.ylabel('Probabilty')\n",
    "plt.show()"
   ]
  },
  {
   "cell_type": "code",
   "execution_count": 13,
   "id": "bc58f4c1",
   "metadata": {},
   "outputs": [
    {
     "data": {
      "text/plain": [
       "-0.013580165529369524"
      ]
     },
     "execution_count": 13,
     "metadata": {},
     "output_type": "execute_result"
    }
   ],
   "source": [
    "confidence_level=0.05\n",
    "VaR=norm.ppf(confidence_level,returns.describe().values[1],returns.describe().values[2])\n",
    "VaR"
   ]
  },
  {
   "cell_type": "code",
   "execution_count": 14,
   "id": "e0645a97",
   "metadata": {},
   "outputs": [
    {
     "data": {
      "text/plain": [
       "-0.2155784445228215"
      ]
     },
     "execution_count": 14,
     "metadata": {},
     "output_type": "execute_result"
    }
   ],
   "source": [
    "VaR*np.sqrt(252)"
   ]
  },
  {
   "cell_type": "code",
   "execution_count": 15,
   "id": "e6eea49a",
   "metadata": {},
   "outputs": [],
   "source": [
    "lower=returns.describe().values[1]-1.95996*returns.describe().values[2]/np.sqrt(len(returns.dropna()))\n",
    "higher=returns.describe().values[1]+1.95996*returns.describe().values[2]/np.sqrt(len(returns.dropna()))"
   ]
  },
  {
   "cell_type": "code",
   "execution_count": 16,
   "id": "90f860df",
   "metadata": {},
   "outputs": [
    {
     "data": {
      "text/plain": [
       "-0.06317637252309644"
      ]
     },
     "execution_count": 16,
     "metadata": {},
     "output_type": "execute_result"
    }
   ],
   "source": [
    "lower*252"
   ]
  },
  {
   "cell_type": "code",
   "execution_count": 17,
   "id": "3f05ae64",
   "metadata": {},
   "outputs": [
    {
     "data": {
      "text/plain": [
       "0.3215251771351484"
      ]
     },
     "execution_count": 17,
     "metadata": {},
     "output_type": "execute_result"
    }
   ],
   "source": [
    "higher*252"
   ]
  },
  {
   "cell_type": "code",
   "execution_count": 18,
   "id": "942a232b",
   "metadata": {},
   "outputs": [
    {
     "data": {
      "image/png": "[encoded data removed]",
      "text/plain": [
       "<Figure size 432x288 with 1 Axes>"
      ]
     },
     "metadata": {
      "needs_background": "light"
     },
     "output_type": "display_data"
    }
   ],
   "source": [
    "plt.hist(returns, bins=20,rwidth=0.8,density=True,)\n",
    "plt.plot(x,norm_dist)\n",
    "plt.xlabel('Return%')\n",
    "plt.ylabel('Requency')\n",
    "plt.show()"
   ]
  },
  {
   "cell_type": "code",
   "execution_count": null,
   "id": "f36fb2e7",
   "metadata": {},
   "outputs": [],
   "source": []
  },
  {
   "cell_type": "code",
   "execution_count": null,
   "id": "e93059f0",
   "metadata": {},
   "outputs": [],
   "source": []
  }
 ],
 "metadata": {
  "kernelspec": {
   "display_name": "Python 3 (ipykernel)",
   "language": "python",
   "name": "python3"
  },
  "language_info": {
   "codemirror_mode": {
    "name": "ipython",
    "version": 3
   },
   "file_extension": ".py",
   "mimetype": "text/x-python",
   "name": "python",
   "nbconvert_exporter": "python",
   "pygments_lexer": "ipython3",
   "version": "3.7.3"
  }
 },
 "nbformat": 4,
 "nbformat_minor": 5
}

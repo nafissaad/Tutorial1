{
 "cells": [
  {
   "cell_type": "code",
   "execution_count": 1,
   "id": "2b74bfba",
   "metadata": {},
   "outputs": [],
   "source": [
    "import pandas as pd\n",
    "import numpy as np\n",
    "import matplotlib.pyplot as plt\n",
    "import datetime as dt\n",
    "from scipy.stats import norm\n",
    "import matplotlib.pyplot as plt"
   ]
  },
  {
   "cell_type": "code",
   "execution_count": 2,
   "id": "4ad59ec3",
   "metadata": {},
   "outputs": [],
   "source": [
    "df=pd.read_excel('C:\\\\Users\\\\nafissaad\\\\Tutorial\\\\Fundamental analysis\\\\My Portfolio\\\\portfolio_performence.xlsx')\n",
    "df.rename(columns={'Unnamed: 0':'date'},inplace=True)\n",
    "df.drop(0,inplace=True)\n",
    "df.set_index('date',inplace=True)"
   ]
  },
  {
   "cell_type": "code",
   "execution_count": 3,
   "id": "d813dc4e",
   "metadata": {},
   "outputs": [
    {
     "data": {
      "text/html": [
       "<div>\n",
       "<style scoped>\n",
       "    .dataframe tbody tr th:only-of-type {\n",
       "        vertical-align: middle;\n",
       "    }\n",
       "\n",
       "    .dataframe tbody tr th {\n",
       "        vertical-align: top;\n",
       "    }\n",
       "\n",
       "    .dataframe thead th {\n",
       "        text-align: right;\n",
       "    }\n",
       "</style>\n",
       "<table border=\"1\" class=\"dataframe\">\n",
       "  <thead>\n",
       "    <tr style=\"text-align: right;\">\n",
       "      <th></th>\n",
       "      <th>ISLAMIBANK</th>\n",
       "      <th>RAKCERAMIC</th>\n",
       "      <th>BATBC</th>\n",
       "      <th>RENATA</th>\n",
       "      <th>MARICO</th>\n",
       "      <th>SINGERBD</th>\n",
       "      <th>LINDEBD</th>\n",
       "      <th>SUMITPOWER</th>\n",
       "      <th>BERGERPBL</th>\n",
       "      <th>BXPHARMA</th>\n",
       "      <th>...</th>\n",
       "      <th>SKICL</th>\n",
       "      <th>ACI</th>\n",
       "      <th>ACIFORMULA</th>\n",
       "      <th>EXIMBANK</th>\n",
       "      <th>IFILISLMF1</th>\n",
       "      <th>AIBL1STIMF</th>\n",
       "      <th>EXIM1STMF</th>\n",
       "      <th>RECKITTBEN</th>\n",
       "      <th>JMISMDL</th>\n",
       "      <th>Total</th>\n",
       "    </tr>\n",
       "    <tr>\n",
       "      <th>date</th>\n",
       "      <th></th>\n",
       "      <th></th>\n",
       "      <th></th>\n",
       "      <th></th>\n",
       "      <th></th>\n",
       "      <th></th>\n",
       "      <th></th>\n",
       "      <th></th>\n",
       "      <th></th>\n",
       "      <th></th>\n",
       "      <th></th>\n",
       "      <th></th>\n",
       "      <th></th>\n",
       "      <th></th>\n",
       "      <th></th>\n",
       "      <th></th>\n",
       "      <th></th>\n",
       "      <th></th>\n",
       "      <th></th>\n",
       "      <th></th>\n",
       "      <th></th>\n",
       "    </tr>\n",
       "  </thead>\n",
       "  <tbody>\n",
       "    <tr>\n",
       "      <th>2021-06-13</th>\n",
       "      <td>20010.0</td>\n",
       "      <td>9991.8</td>\n",
       "      <td>19765.4</td>\n",
       "      <td>29502.1</td>\n",
       "      <td>19139.4</td>\n",
       "      <td>10015.5</td>\n",
       "      <td>59919.6</td>\n",
       "      <td>9982.8</td>\n",
       "      <td>50735.5</td>\n",
       "      <td>10016.6</td>\n",
       "      <td>...</td>\n",
       "      <td>39996.0</td>\n",
       "      <td>14962.5</td>\n",
       "      <td>15033.6</td>\n",
       "      <td>29996.8</td>\n",
       "      <td>30001.6</td>\n",
       "      <td>20003.2</td>\n",
       "      <td>20002.2</td>\n",
       "      <td>29542.8</td>\n",
       "      <td>19861.6</td>\n",
       "      <td>998039.9</td>\n",
       "    </tr>\n",
       "    <tr>\n",
       "      <th>2021-06-14</th>\n",
       "      <td>19937.5</td>\n",
       "      <td>9609.6</td>\n",
       "      <td>19717.3</td>\n",
       "      <td>29545.8</td>\n",
       "      <td>19059.3</td>\n",
       "      <td>9900.0</td>\n",
       "      <td>59666.6</td>\n",
       "      <td>10077.2</td>\n",
       "      <td>50549.9</td>\n",
       "      <td>9906.4</td>\n",
       "      <td>...</td>\n",
       "      <td>39996.0</td>\n",
       "      <td>15338.7</td>\n",
       "      <td>15595.2</td>\n",
       "      <td>30272.0</td>\n",
       "      <td>29560.4</td>\n",
       "      <td>19577.6</td>\n",
       "      <td>19191.3</td>\n",
       "      <td>29535.1</td>\n",
       "      <td>19910.4</td>\n",
       "      <td>992291.7</td>\n",
       "    </tr>\n",
       "    <tr>\n",
       "      <th>2021-06-15</th>\n",
       "      <td>20082.5</td>\n",
       "      <td>9555.0</td>\n",
       "      <td>19591.5</td>\n",
       "      <td>29741.3</td>\n",
       "      <td>19001.7</td>\n",
       "      <td>9900.0</td>\n",
       "      <td>59616.0</td>\n",
       "      <td>10053.6</td>\n",
       "      <td>51393.8</td>\n",
       "      <td>9918.0</td>\n",
       "      <td>...</td>\n",
       "      <td>39996.0</td>\n",
       "      <td>15372.9</td>\n",
       "      <td>15422.4</td>\n",
       "      <td>29721.6</td>\n",
       "      <td>29119.2</td>\n",
       "      <td>19364.8</td>\n",
       "      <td>18921.0</td>\n",
       "      <td>29717.1</td>\n",
       "      <td>19721.3</td>\n",
       "      <td>993330.3</td>\n",
       "    </tr>\n",
       "    <tr>\n",
       "      <th>2021-06-16</th>\n",
       "      <td>20010.0</td>\n",
       "      <td>9800.7</td>\n",
       "      <td>19591.5</td>\n",
       "      <td>29720.6</td>\n",
       "      <td>19242.9</td>\n",
       "      <td>9900.0</td>\n",
       "      <td>59859.8</td>\n",
       "      <td>10077.2</td>\n",
       "      <td>51477.9</td>\n",
       "      <td>9906.4</td>\n",
       "      <td>...</td>\n",
       "      <td>39996.0</td>\n",
       "      <td>15030.9</td>\n",
       "      <td>15660.0</td>\n",
       "      <td>29721.6</td>\n",
       "      <td>29560.4</td>\n",
       "      <td>19577.6</td>\n",
       "      <td>19191.3</td>\n",
       "      <td>29885.8</td>\n",
       "      <td>19556.6</td>\n",
       "      <td>1004762.7</td>\n",
       "    </tr>\n",
       "    <tr>\n",
       "      <th>2021-06-17</th>\n",
       "      <td>20227.5</td>\n",
       "      <td>9800.7</td>\n",
       "      <td>19724.7</td>\n",
       "      <td>29720.6</td>\n",
       "      <td>19303.2</td>\n",
       "      <td>9949.5</td>\n",
       "      <td>59800.0</td>\n",
       "      <td>10454.8</td>\n",
       "      <td>51335.8</td>\n",
       "      <td>10144.2</td>\n",
       "      <td>...</td>\n",
       "      <td>39996.0</td>\n",
       "      <td>15019.5</td>\n",
       "      <td>15444.0</td>\n",
       "      <td>29721.6</td>\n",
       "      <td>29560.4</td>\n",
       "      <td>19364.8</td>\n",
       "      <td>19461.6</td>\n",
       "      <td>30107.0</td>\n",
       "      <td>19526.1</td>\n",
       "      <td>1007157.8</td>\n",
       "    </tr>\n",
       "    <tr>\n",
       "      <th>...</th>\n",
       "      <td>...</td>\n",
       "      <td>...</td>\n",
       "      <td>...</td>\n",
       "      <td>...</td>\n",
       "      <td>...</td>\n",
       "      <td>...</td>\n",
       "      <td>...</td>\n",
       "      <td>...</td>\n",
       "      <td>...</td>\n",
       "      <td>...</td>\n",
       "      <td>...</td>\n",
       "      <td>...</td>\n",
       "      <td>...</td>\n",
       "      <td>...</td>\n",
       "      <td>...</td>\n",
       "      <td>...</td>\n",
       "      <td>...</td>\n",
       "      <td>...</td>\n",
       "      <td>...</td>\n",
       "      <td>...</td>\n",
       "      <td>...</td>\n",
       "    </tr>\n",
       "    <tr>\n",
       "      <th>2023-06-08</th>\n",
       "      <td>23635.0</td>\n",
       "      <td>11711.7</td>\n",
       "      <td>19191.9</td>\n",
       "      <td>28011.7</td>\n",
       "      <td>21793.5</td>\n",
       "      <td>8354.5</td>\n",
       "      <td>64294.2</td>\n",
       "      <td>8024.0</td>\n",
       "      <td>51834.6</td>\n",
       "      <td>8479.6</td>\n",
       "      <td>...</td>\n",
       "      <td>177800.4</td>\n",
       "      <td>14831.4</td>\n",
       "      <td>17247.6</td>\n",
       "      <td>28620.8</td>\n",
       "      <td>28236.8</td>\n",
       "      <td>15534.4</td>\n",
       "      <td>15677.4</td>\n",
       "      <td>33786.9</td>\n",
       "      <td>15585.5</td>\n",
       "      <td>1355986.8</td>\n",
       "    </tr>\n",
       "    <tr>\n",
       "      <th>2023-06-11</th>\n",
       "      <td>23635.0</td>\n",
       "      <td>11711.7</td>\n",
       "      <td>19191.9</td>\n",
       "      <td>28011.7</td>\n",
       "      <td>21793.5</td>\n",
       "      <td>8354.5</td>\n",
       "      <td>64294.2</td>\n",
       "      <td>8024.0</td>\n",
       "      <td>51515.6</td>\n",
       "      <td>8479.6</td>\n",
       "      <td>...</td>\n",
       "      <td>177073.2</td>\n",
       "      <td>14831.4</td>\n",
       "      <td>17247.6</td>\n",
       "      <td>28620.8</td>\n",
       "      <td>28236.8</td>\n",
       "      <td>15534.4</td>\n",
       "      <td>15677.4</td>\n",
       "      <td>33566.4</td>\n",
       "      <td>15585.5</td>\n",
       "      <td>1349714.7</td>\n",
       "    </tr>\n",
       "    <tr>\n",
       "      <th>2023-06-12</th>\n",
       "      <td>23635.0</td>\n",
       "      <td>11711.7</td>\n",
       "      <td>19191.9</td>\n",
       "      <td>28011.7</td>\n",
       "      <td>21793.5</td>\n",
       "      <td>8354.5</td>\n",
       "      <td>64294.2</td>\n",
       "      <td>8024.0</td>\n",
       "      <td>51269.1</td>\n",
       "      <td>8479.6</td>\n",
       "      <td>...</td>\n",
       "      <td>173437.2</td>\n",
       "      <td>14831.4</td>\n",
       "      <td>17010.0</td>\n",
       "      <td>28620.8</td>\n",
       "      <td>28236.8</td>\n",
       "      <td>15534.4</td>\n",
       "      <td>15677.4</td>\n",
       "      <td>33615.4</td>\n",
       "      <td>15585.5</td>\n",
       "      <td>1337043.3</td>\n",
       "    </tr>\n",
       "    <tr>\n",
       "      <th>2023-06-13</th>\n",
       "      <td>23635.0</td>\n",
       "      <td>11711.7</td>\n",
       "      <td>19191.9</td>\n",
       "      <td>28011.7</td>\n",
       "      <td>21793.5</td>\n",
       "      <td>8354.5</td>\n",
       "      <td>64294.2</td>\n",
       "      <td>8024.0</td>\n",
       "      <td>51332.9</td>\n",
       "      <td>8479.6</td>\n",
       "      <td>...</td>\n",
       "      <td>173437.2</td>\n",
       "      <td>14831.4</td>\n",
       "      <td>16902.0</td>\n",
       "      <td>28620.8</td>\n",
       "      <td>28236.8</td>\n",
       "      <td>15534.4</td>\n",
       "      <td>15677.4</td>\n",
       "      <td>33703.6</td>\n",
       "      <td>15585.5</td>\n",
       "      <td>1334237.7</td>\n",
       "    </tr>\n",
       "    <tr>\n",
       "      <th>2023-06-14</th>\n",
       "      <td>23635.0</td>\n",
       "      <td>11711.7</td>\n",
       "      <td>19191.9</td>\n",
       "      <td>28011.7</td>\n",
       "      <td>21793.5</td>\n",
       "      <td>8354.5</td>\n",
       "      <td>64294.2</td>\n",
       "      <td>8024.0</td>\n",
       "      <td>51347.4</td>\n",
       "      <td>8479.6</td>\n",
       "      <td>...</td>\n",
       "      <td>169801.2</td>\n",
       "      <td>14831.4</td>\n",
       "      <td>16740.0</td>\n",
       "      <td>28620.8</td>\n",
       "      <td>28236.8</td>\n",
       "      <td>15534.4</td>\n",
       "      <td>15677.4</td>\n",
       "      <td>33812.1</td>\n",
       "      <td>15585.5</td>\n",
       "      <td>1320903.2</td>\n",
       "    </tr>\n",
       "  </tbody>\n",
       "</table>\n",
       "<p>487 rows × 45 columns</p>\n",
       "</div>"
      ],
      "text/plain": [
       "            ISLAMIBANK  RAKCERAMIC    BATBC   RENATA   MARICO  SINGERBD  \\\n",
       "date                                                                      \n",
       "2021-06-13     20010.0      9991.8  19765.4  29502.1  19139.4   10015.5   \n",
       "2021-06-14     19937.5      9609.6  19717.3  29545.8  19059.3    9900.0   \n",
       "2021-06-15     20082.5      9555.0  19591.5  29741.3  19001.7    9900.0   \n",
       "2021-06-16     20010.0      9800.7  19591.5  29720.6  19242.9    9900.0   \n",
       "2021-06-17     20227.5      9800.7  19724.7  29720.6  19303.2    9949.5   \n",
       "...                ...         ...      ...      ...      ...       ...   \n",
       "2023-06-08     23635.0     11711.7  19191.9  28011.7  21793.5    8354.5   \n",
       "2023-06-11     23635.0     11711.7  19191.9  28011.7  21793.5    8354.5   \n",
       "2023-06-12     23635.0     11711.7  19191.9  28011.7  21793.5    8354.5   \n",
       "2023-06-13     23635.0     11711.7  19191.9  28011.7  21793.5    8354.5   \n",
       "2023-06-14     23635.0     11711.7  19191.9  28011.7  21793.5    8354.5   \n",
       "\n",
       "            LINDEBD  SUMITPOWER  BERGERPBL  BXPHARMA  ...     SKICL      ACI  \\\n",
       "date                                                  ...                      \n",
       "2021-06-13  59919.6      9982.8    50735.5   10016.6  ...   39996.0  14962.5   \n",
       "2021-06-14  59666.6     10077.2    50549.9    9906.4  ...   39996.0  15338.7   \n",
       "2021-06-15  59616.0     10053.6    51393.8    9918.0  ...   39996.0  15372.9   \n",
       "2021-06-16  59859.8     10077.2    51477.9    9906.4  ...   39996.0  15030.9   \n",
       "2021-06-17  59800.0     10454.8    51335.8   10144.2  ...   39996.0  15019.5   \n",
       "...             ...         ...        ...       ...  ...       ...      ...   \n",
       "2023-06-08  64294.2      8024.0    51834.6    8479.6  ...  177800.4  14831.4   \n",
       "2023-06-11  64294.2      8024.0    51515.6    8479.6  ...  177073.2  14831.4   \n",
       "2023-06-12  64294.2      8024.0    51269.1    8479.6  ...  173437.2  14831.4   \n",
       "2023-06-13  64294.2      8024.0    51332.9    8479.6  ...  173437.2  14831.4   \n",
       "2023-06-14  64294.2      8024.0    51347.4    8479.6  ...  169801.2  14831.4   \n",
       "\n",
       "            ACIFORMULA  EXIMBANK  IFILISLMF1  AIBL1STIMF  EXIM1STMF  \\\n",
       "date                                                                  \n",
       "2021-06-13     15033.6   29996.8     30001.6     20003.2    20002.2   \n",
       "2021-06-14     15595.2   30272.0     29560.4     19577.6    19191.3   \n",
       "2021-06-15     15422.4   29721.6     29119.2     19364.8    18921.0   \n",
       "2021-06-16     15660.0   29721.6     29560.4     19577.6    19191.3   \n",
       "2021-06-17     15444.0   29721.6     29560.4     19364.8    19461.6   \n",
       "...                ...       ...         ...         ...        ...   \n",
       "2023-06-08     17247.6   28620.8     28236.8     15534.4    15677.4   \n",
       "2023-06-11     17247.6   28620.8     28236.8     15534.4    15677.4   \n",
       "2023-06-12     17010.0   28620.8     28236.8     15534.4    15677.4   \n",
       "2023-06-13     16902.0   28620.8     28236.8     15534.4    15677.4   \n",
       "2023-06-14     16740.0   28620.8     28236.8     15534.4    15677.4   \n",
       "\n",
       "            RECKITTBEN  JMISMDL      Total  \n",
       "date                                        \n",
       "2021-06-13     29542.8  19861.6   998039.9  \n",
       "2021-06-14     29535.1  19910.4   992291.7  \n",
       "2021-06-15     29717.1  19721.3   993330.3  \n",
       "2021-06-16     29885.8  19556.6  1004762.7  \n",
       "2021-06-17     30107.0  19526.1  1007157.8  \n",
       "...                ...      ...        ...  \n",
       "2023-06-08     33786.9  15585.5  1355986.8  \n",
       "2023-06-11     33566.4  15585.5  1349714.7  \n",
       "2023-06-12     33615.4  15585.5  1337043.3  \n",
       "2023-06-13     33703.6  15585.5  1334237.7  \n",
       "2023-06-14     33812.1  15585.5  1320903.2  \n",
       "\n",
       "[487 rows x 45 columns]"
      ]
     },
     "execution_count": 3,
     "metadata": {},
     "output_type": "execute_result"
    }
   ],
   "source": [
    "df"
   ]
  },
  {
   "cell_type": "code",
   "execution_count": 4,
   "id": "5d1df61a",
   "metadata": {},
   "outputs": [
    {
     "data": {
      "text/plain": [
       "date\n",
       "2021-06-13     998039.9\n",
       "2021-06-14     992291.7\n",
       "2021-06-15     993330.3\n",
       "2021-06-16    1004762.7\n",
       "2021-06-17    1007157.8\n",
       "                ...    \n",
       "2023-06-08    1355986.8\n",
       "2023-06-11    1349714.7\n",
       "2023-06-12    1337043.3\n",
       "2023-06-13    1334237.7\n",
       "2023-06-14    1320903.2\n",
       "Name: Total, Length: 487, dtype: float64"
      ]
     },
     "execution_count": 4,
     "metadata": {},
     "output_type": "execute_result"
    }
   ],
   "source": [
    "df['Total']"
   ]
  },
  {
   "cell_type": "code",
   "execution_count": 5,
   "id": "7558112d",
   "metadata": {},
   "outputs": [
    {
     "data": {
      "text/plain": [
       "date\n",
       "2021-06-13         NaN\n",
       "2021-06-14   -0.005776\n",
       "2021-06-15    0.001046\n",
       "2021-06-16    0.011443\n",
       "2021-06-17    0.002381\n",
       "                ...   \n",
       "2023-06-08    0.001386\n",
       "2023-06-11   -0.004636\n",
       "2023-06-12   -0.009433\n",
       "2023-06-13   -0.002101\n",
       "2023-06-14   -0.010044\n",
       "Name: Total, Length: 487, dtype: float64"
      ]
     },
     "execution_count": 5,
     "metadata": {},
     "output_type": "execute_result"
    }
   ],
   "source": [
    "returns=np.log(df['Total']/df['Total'].shift(1))\n",
    "returns"
   ]
  },
  {
   "cell_type": "code",
   "execution_count": 6,
   "id": "947e6e53",
   "metadata": {},
   "outputs": [
    {
     "data": {
      "text/plain": [
       "count    486.000000\n",
       "mean       0.000577\n",
       "std        0.009330\n",
       "min       -0.035113\n",
       "25%       -0.004601\n",
       "50%        0.000557\n",
       "75%        0.005455\n",
       "max        0.034125\n",
       "Name: Total, dtype: float64"
      ]
     },
     "execution_count": 6,
     "metadata": {},
     "output_type": "execute_result"
    }
   ],
   "source": [
    "returns.describe()"
   ]
  },
  {
   "cell_type": "code",
   "execution_count": 7,
   "id": "9248ceb2",
   "metadata": {},
   "outputs": [
    {
     "data": {
      "text/plain": [
       "0.1481084557273512"
      ]
     },
     "execution_count": 7,
     "metadata": {},
     "output_type": "execute_result"
    }
   ],
   "source": [
    "#Yearly Standard deviation\n",
    "daily_std=float(returns.describe().values[2])\n",
    "daily_std\n",
    "daily_variance=daily_std*daily_std\n",
    "trading_day=252\n",
    "yearly_variance=trading_day*daily_variance\n",
    "yearly_std=np.sqrt(yearly_variance)\n",
    "yearly_std"
   ]
  },
  {
   "cell_type": "code",
   "execution_count": 8,
   "id": "ddc96f69",
   "metadata": {},
   "outputs": [
    {
     "data": {
      "text/plain": [
       "0.1481084557273512"
      ]
     },
     "execution_count": 8,
     "metadata": {},
     "output_type": "execute_result"
    }
   ],
   "source": [
    "np.sqrt(252)*daily_std"
   ]
  },
  {
   "cell_type": "code",
   "execution_count": 9,
   "id": "1fe48ee4",
   "metadata": {},
   "outputs": [
    {
     "data": {
      "text/plain": [
       "0.14532921331980297"
      ]
     },
     "execution_count": 9,
     "metadata": {},
     "output_type": "execute_result"
    }
   ],
   "source": [
    "#yearly_return\n",
    "yearly_return=returns.describe().values[1]*252\n",
    "yearly_return"
   ]
  },
  {
   "cell_type": "code",
   "execution_count": 10,
   "id": "b9f95db2",
   "metadata": {},
   "outputs": [
    {
     "data": {
      "text/plain": [
       "array([-0.03511305, -0.03411305, -0.03311305, -0.03211305, -0.03111305,\n",
       "       -0.03011305, -0.02911305, -0.02811305, -0.02711305, -0.02611305,\n",
       "       -0.02511305, -0.02411305, -0.02311305, -0.02211305, -0.02111305,\n",
       "       -0.02011305, -0.01911305, -0.01811305, -0.01711305, -0.01611305,\n",
       "       -0.01511305, -0.01411305, -0.01311305, -0.01211305, -0.01111305,\n",
       "       -0.01011305, -0.00911305, -0.00811305, -0.00711305, -0.00611305,\n",
       "       -0.00511305, -0.00411305, -0.00311305, -0.00211305, -0.00111305,\n",
       "       -0.00011305,  0.00088695,  0.00188695,  0.00288695,  0.00388695,\n",
       "        0.00488695,  0.00588695,  0.00688695,  0.00788695,  0.00888695,\n",
       "        0.00988695,  0.01088695,  0.01188695,  0.01288695,  0.01388695,\n",
       "        0.01488695,  0.01588695,  0.01688695,  0.01788695,  0.01888695,\n",
       "        0.01988695,  0.02088695,  0.02188695,  0.02288695,  0.02388695,\n",
       "        0.02488695,  0.02588695,  0.02688695,  0.02788695,  0.02888695,\n",
       "        0.02988695,  0.03088695,  0.03188695,  0.03288695,  0.03388695])"
      ]
     },
     "execution_count": 10,
     "metadata": {},
     "output_type": "execute_result"
    }
   ],
   "source": [
    "x=np.arange(returns.min(),returns.max(),0.001)\n",
    "x"
   ]
  },
  {
   "cell_type": "code",
   "execution_count": 11,
   "id": "d635a9b2",
   "metadata": {},
   "outputs": [
    {
     "data": {
      "text/plain": [
       "array([2.84154888e-02, 4.25717503e-02, 6.30519826e-02, 9.23180992e-02,\n",
       "       1.33624418e-01, 1.91203425e-01, 2.70468301e-01, 3.78223009e-01,\n",
       "       5.22865978e-01, 7.14568206e-01, 9.65401256e-01, 1.28938584e+00,\n",
       "       1.70242818e+00, 2.22211009e+00, 2.86730048e+00, 3.65756210e+00,\n",
       "       4.61233749e+00, 5.74991352e+00, 7.08618382e+00, 8.63325128e+00,\n",
       "       1.03979378e+01, 1.23802928e+01, 1.45722120e+01, 1.69562931e+01,\n",
       "       1.95050565e+01, 2.21806556e+01, 2.49351744e+01, 2.77115812e+01,\n",
       "       3.04453571e+01, 3.30667645e+01, 3.55036659e+01, 3.76847433e+01,\n",
       "       3.95429250e+01, 4.10187939e+01, 4.20637364e+01, 4.26425999e+01,\n",
       "       4.27356555e+01, 4.23397150e+01, 4.14683120e+01, 4.01509338e+01,\n",
       "       3.84313649e+01, 3.63652715e+01, 3.40172128e+01, 3.14573029e+01,\n",
       "       2.87577636e+01, 2.59896003e+01, 2.32196119e+01, 2.05078995e+01,\n",
       "       1.79059872e+01, 1.54556127e+01, 1.31881855e+01, 1.11248646e+01,\n",
       "       9.27716520e+00, 7.64797943e+00, 6.23288334e+00, 5.02160042e+00,\n",
       "       3.99950433e+00, 3.14906088e+00, 2.45113262e+00, 1.88609441e+00,\n",
       "       1.43473242e+00, 1.07892005e+00, 8.02081467e-01, 5.89465735e-01,\n",
       "       4.28261974e-01, 3.07589376e-01, 2.18395665e-01, 1.53294849e-01,\n",
       "       1.06370690e-01, 7.29671290e-02])"
      ]
     },
     "execution_count": 11,
     "metadata": {},
     "output_type": "execute_result"
    }
   ],
   "source": [
    "norm_dist=norm.pdf(x,returns.describe().values[1],returns.describe().values[2])\n",
    "norm_dist"
   ]
  },
  {
   "cell_type": "code",
   "execution_count": 12,
   "id": "28e35c97",
   "metadata": {},
   "outputs": [
    {
     "data": {
      "image/png": "[encoded data removed]",
      "text/plain": [
       "<Figure size 432x288 with 1 Axes>"
      ]
     },
     "metadata": {
      "needs_background": "light"
     },
     "output_type": "display_data"
    }
   ],
   "source": [
    "plt.plot(x,norm_dist,color='r')\n",
    "plt.xlabel('Returns(%)')\n",
    "plt.ylabel('Probabilty')\n",
    "plt.show()"
   ]
  },
  {
   "cell_type": "code",
   "execution_count": 13,
   "id": "b7686a1d",
   "metadata": {},
   "outputs": [
    {
     "data": {
      "text/plain": [
       "-0.014769708304525394"
      ]
     },
     "execution_count": 13,
     "metadata": {},
     "output_type": "execute_result"
    }
   ],
   "source": [
    "confidence_level=0.05\n",
    "VaR=norm.ppf(confidence_level,returns.describe().values[1],returns.describe().values[2])\n",
    "VaR"
   ]
  },
  {
   "cell_type": "code",
   "execution_count": 14,
   "id": "7c4ed8bd",
   "metadata": {},
   "outputs": [
    {
     "data": {
      "text/plain": [
       "-0.2344618506644378"
      ]
     },
     "execution_count": 14,
     "metadata": {},
     "output_type": "execute_result"
    }
   ],
   "source": [
    "VaR*np.sqrt(252)"
   ]
  },
  {
   "cell_type": "code",
   "execution_count": 15,
   "id": "82c04e60",
   "metadata": {},
   "outputs": [],
   "source": [
    "lower=returns.describe().values[1]-1.95996*returns.describe().values[2]/np.sqrt(len(returns.dropna()))\n",
    "higher=returns.describe().values[1]+1.95996*returns.describe().values[2]/np.sqrt(len(returns.dropna()))"
   ]
  },
  {
   "cell_type": "code",
   "execution_count": 16,
   "id": "286e39ab",
   "metadata": {},
   "outputs": [
    {
     "data": {
      "text/plain": [
       "-0.06370106441896052"
      ]
     },
     "execution_count": 16,
     "metadata": {},
     "output_type": "execute_result"
    }
   ],
   "source": [
    "lower*252"
   ]
  },
  {
   "cell_type": "code",
   "execution_count": 17,
   "id": "e131c00e",
   "metadata": {},
   "outputs": [
    {
     "data": {
      "text/plain": [
       "0.35435949105856646"
      ]
     },
     "execution_count": 17,
     "metadata": {},
     "output_type": "execute_result"
    }
   ],
   "source": [
    "higher*252"
   ]
  }
 ],
 "metadata": {
  "kernelspec": {
   "display_name": "Python 3 (ipykernel)",
   "language": "python",
   "name": "python3"
  },
  "language_info": {
   "codemirror_mode": {
    "name": "ipython",
    "version": 3
   },
   "file_extension": ".py",
   "mimetype": "text/x-python",
   "name": "python",
   "nbconvert_exporter": "python",
   "pygments_lexer": "ipython3",
   "version": "3.7.3"
  }
 },
 "nbformat": 4,
 "nbformat_minor": 5
}

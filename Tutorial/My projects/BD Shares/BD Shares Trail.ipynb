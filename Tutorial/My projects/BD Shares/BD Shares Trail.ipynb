{
 "cells": [
  {
   "cell_type": "code",
   "execution_count": 1,
   "id": "e430a822",
   "metadata": {},
   "outputs": [],
   "source": [
    "#impoer the liberies\n",
    "import warnings\n",
    "import numpy as np\n",
    "import pandas as pd\n",
    "import matplotlib.pyplot as plt\n",
    "from statsmodels.tsa.seasonal import STL\n",
    "from bdshare import get_basic_hist_data\n",
    "plt.style .use('fivethirtyeight')\n",
    "import pandas_datareader.data as reader\n",
    "import datetime as dt\n",
    "from prophet import Prophet"
   ]
  },
  {
   "cell_type": "code",
   "execution_count": 2,
   "id": "4f7c066c",
   "metadata": {},
   "outputs": [],
   "source": [
    "Top30=pd.DataFrame(pd.read_html('https://www.dsebd.org/dse30_share.php')[371])\n",
    "Top30.to_csv('C:\\\\Users\\\\nafissaad\\\\Tutorial\\\\My projects\\\\BD Shares\\\\top30.csv')\n",
    "start='2020-01-1'\n",
    "end='2022-10-19'"
   ]
  },
  {
   "cell_type": "code",
   "execution_count": 3,
   "id": "956c8567",
   "metadata": {},
   "outputs": [
    {
     "name": "stdout",
     "output_type": "stream",
     "text": [
      "BATBC\n"
     ]
    },
    {
     "name": "stderr",
     "output_type": "stream",
     "text": [
      "19:55:49 - cmdstanpy - INFO - Chain [1] start processing\n",
      "19:55:49 - cmdstanpy - INFO - Chain [1] done processing\n"
     ]
    },
    {
     "name": "stdout",
     "output_type": "stream",
     "text": [
      "[-0.00123784]\n",
      "Complete\n",
      "BBSCABLES\n"
     ]
    },
    {
     "name": "stderr",
     "output_type": "stream",
     "text": [
      "19:55:53 - cmdstanpy - INFO - Chain [1] start processing\n",
      "19:55:54 - cmdstanpy - INFO - Chain [1] done processing\n"
     ]
    },
    {
     "name": "stdout",
     "output_type": "stream",
     "text": [
      "[-0.00262839]\n",
      "Complete\n",
      "BEACONPHAR\n"
     ]
    },
    {
     "name": "stderr",
     "output_type": "stream",
     "text": [
      "19:55:58 - cmdstanpy - INFO - Chain [1] start processing\n",
      "19:55:58 - cmdstanpy - INFO - Chain [1] done processing\n"
     ]
    },
    {
     "name": "stdout",
     "output_type": "stream",
     "text": [
      "[0.00041128]\n",
      "Complete\n",
      "BEXIMCO\n"
     ]
    },
    {
     "name": "stderr",
     "output_type": "stream",
     "text": [
      "19:56:02 - cmdstanpy - INFO - Chain [1] start processing\n",
      "19:56:03 - cmdstanpy - INFO - Chain [1] done processing\n"
     ]
    },
    {
     "name": "stdout",
     "output_type": "stream",
     "text": [
      "[-0.00114602]\n",
      "Complete\n",
      "BRACBANK\n"
     ]
    },
    {
     "name": "stderr",
     "output_type": "stream",
     "text": [
      "19:56:07 - cmdstanpy - INFO - Chain [1] start processing\n",
      "19:56:07 - cmdstanpy - INFO - Chain [1] done processing\n"
     ]
    },
    {
     "name": "stdout",
     "output_type": "stream",
     "text": [
      "[-0.00014565]\n",
      "Complete\n",
      "BSCCL\n"
     ]
    },
    {
     "name": "stderr",
     "output_type": "stream",
     "text": [
      "19:56:12 - cmdstanpy - INFO - Chain [1] start processing\n",
      "19:56:12 - cmdstanpy - INFO - Chain [1] done processing\n"
     ]
    },
    {
     "name": "stdout",
     "output_type": "stream",
     "text": [
      "[-0.00028391]\n",
      "Complete\n",
      "BSRMLTD\n"
     ]
    },
    {
     "name": "stderr",
     "output_type": "stream",
     "text": [
      "19:56:17 - cmdstanpy - INFO - Chain [1] start processing\n",
      "19:56:17 - cmdstanpy - INFO - Chain [1] done processing\n"
     ]
    },
    {
     "name": "stdout",
     "output_type": "stream",
     "text": [
      "[-0.00280939]\n",
      "Complete\n",
      "BXPHARMA\n"
     ]
    },
    {
     "name": "stderr",
     "output_type": "stream",
     "text": [
      "19:56:21 - cmdstanpy - INFO - Chain [1] start processing\n",
      "19:56:21 - cmdstanpy - INFO - Chain [1] done processing\n"
     ]
    },
    {
     "name": "stdout",
     "output_type": "stream",
     "text": [
      "[-0.00120044]\n",
      "Complete\n",
      "CITYBANK\n"
     ]
    },
    {
     "name": "stderr",
     "output_type": "stream",
     "text": [
      "19:56:26 - cmdstanpy - INFO - Chain [1] start processing\n",
      "19:56:26 - cmdstanpy - INFO - Chain [1] done processing\n"
     ]
    },
    {
     "name": "stdout",
     "output_type": "stream",
     "text": [
      "[-0.0007232]\n",
      "Complete\n",
      "DELTALIFE\n"
     ]
    },
    {
     "name": "stderr",
     "output_type": "stream",
     "text": [
      "19:56:30 - cmdstanpy - INFO - Chain [1] start processing\n",
      "19:56:30 - cmdstanpy - INFO - Chain [1] done processing\n"
     ]
    },
    {
     "name": "stdout",
     "output_type": "stream",
     "text": [
      "[-0.00148315]\n",
      "Complete\n",
      "EBL\n"
     ]
    },
    {
     "name": "stderr",
     "output_type": "stream",
     "text": [
      "19:56:36 - cmdstanpy - INFO - Chain [1] start processing\n",
      "19:56:36 - cmdstanpy - INFO - Chain [1] done processing\n"
     ]
    },
    {
     "name": "stdout",
     "output_type": "stream",
     "text": [
      "[-0.00089014]\n",
      "Complete\n",
      "FORTUNE\n"
     ]
    },
    {
     "name": "stderr",
     "output_type": "stream",
     "text": [
      "19:56:40 - cmdstanpy - INFO - Chain [1] start processing\n",
      "19:56:40 - cmdstanpy - INFO - Chain [1] done processing\n"
     ]
    },
    {
     "name": "stdout",
     "output_type": "stream",
     "text": [
      "[-0.00494017]\n",
      "Complete\n",
      "GP\n"
     ]
    },
    {
     "name": "stderr",
     "output_type": "stream",
     "text": [
      "19:56:45 - cmdstanpy - INFO - Chain [1] start processing\n",
      "19:56:45 - cmdstanpy - INFO - Chain [1] done processing\n"
     ]
    },
    {
     "name": "stdout",
     "output_type": "stream",
     "text": [
      "[-0.00138294]\n",
      "Complete\n",
      "GPHISPAT\n"
     ]
    },
    {
     "name": "stderr",
     "output_type": "stream",
     "text": [
      "19:56:49 - cmdstanpy - INFO - Chain [1] start processing\n",
      "19:56:49 - cmdstanpy - INFO - Chain [1] done processing\n"
     ]
    },
    {
     "name": "stdout",
     "output_type": "stream",
     "text": [
      "[-0.00398612]\n",
      "Complete\n",
      "IDLC\n"
     ]
    },
    {
     "name": "stderr",
     "output_type": "stream",
     "text": [
      "19:56:54 - cmdstanpy - INFO - Chain [1] start processing\n",
      "19:56:54 - cmdstanpy - INFO - Chain [1] done processing\n"
     ]
    },
    {
     "name": "stdout",
     "output_type": "stream",
     "text": [
      "[-0.00286788]\n",
      "Complete\n",
      "ISLAMIBANK\n"
     ]
    },
    {
     "name": "stderr",
     "output_type": "stream",
     "text": [
      "19:56:58 - cmdstanpy - INFO - Chain [1] start processing\n",
      "19:56:58 - cmdstanpy - INFO - Chain [1] done processing\n"
     ]
    },
    {
     "name": "stdout",
     "output_type": "stream",
     "text": [
      "[0.0001253]\n",
      "Complete\n",
      "LANKABAFIN\n"
     ]
    },
    {
     "name": "stderr",
     "output_type": "stream",
     "text": [
      "19:57:03 - cmdstanpy - INFO - Chain [1] start processing\n",
      "19:57:03 - cmdstanpy - INFO - Chain [1] done processing\n"
     ]
    },
    {
     "name": "stdout",
     "output_type": "stream",
     "text": [
      "[-0.00289804]\n",
      "Complete\n",
      "LHBL\n"
     ]
    },
    {
     "name": "stderr",
     "output_type": "stream",
     "text": [
      "19:57:08 - cmdstanpy - INFO - Chain [1] start processing\n",
      "19:57:08 - cmdstanpy - INFO - Chain [1] done processing\n"
     ]
    },
    {
     "name": "stdout",
     "output_type": "stream",
     "text": [
      "[-0.00220326]\n",
      "Complete\n",
      "MPETROLEUM\n"
     ]
    },
    {
     "name": "stderr",
     "output_type": "stream",
     "text": [
      "19:57:14 - cmdstanpy - INFO - Chain [1] start processing\n",
      "19:57:14 - cmdstanpy - INFO - Chain [1] done processing\n"
     ]
    },
    {
     "name": "stdout",
     "output_type": "stream",
     "text": [
      "[-0.00051791]\n",
      "Complete\n",
      "OLYMPIC\n"
     ]
    },
    {
     "name": "stderr",
     "output_type": "stream",
     "text": [
      "19:57:18 - cmdstanpy - INFO - Chain [1] start processing\n",
      "19:57:18 - cmdstanpy - INFO - Chain [1] done processing\n"
     ]
    },
    {
     "name": "stdout",
     "output_type": "stream",
     "text": [
      "[-0.00193835]\n",
      "Complete\n",
      "ORIONPHARM\n"
     ]
    },
    {
     "name": "stderr",
     "output_type": "stream",
     "text": [
      "19:57:23 - cmdstanpy - INFO - Chain [1] start processing\n",
      "19:57:23 - cmdstanpy - INFO - Chain [1] done processing\n"
     ]
    },
    {
     "name": "stdout",
     "output_type": "stream",
     "text": [
      "[0.00067256]\n",
      "Complete\n",
      "POWERGRID\n"
     ]
    },
    {
     "name": "stderr",
     "output_type": "stream",
     "text": [
      "19:57:28 - cmdstanpy - INFO - Chain [1] start processing\n",
      "19:57:28 - cmdstanpy - INFO - Chain [1] done processing\n"
     ]
    },
    {
     "name": "stdout",
     "output_type": "stream",
     "text": [
      "[-0.00195569]\n",
      "Complete\n",
      "PUBALIBANK\n"
     ]
    },
    {
     "name": "stderr",
     "output_type": "stream",
     "text": [
      "19:57:33 - cmdstanpy - INFO - Chain [1] start processing\n",
      "19:57:33 - cmdstanpy - INFO - Chain [1] done processing\n"
     ]
    },
    {
     "name": "stdout",
     "output_type": "stream",
     "text": [
      "[0.00065228]\n",
      "Complete\n",
      "RENATA\n"
     ]
    },
    {
     "name": "stderr",
     "output_type": "stream",
     "text": [
      "19:57:38 - cmdstanpy - INFO - Chain [1] start processing\n",
      "19:57:39 - cmdstanpy - INFO - Chain [1] done processing\n"
     ]
    },
    {
     "name": "stdout",
     "output_type": "stream",
     "text": [
      "[-0.00054433]\n",
      "Complete\n",
      "ROBI\n"
     ]
    },
    {
     "name": "stderr",
     "output_type": "stream",
     "text": [
      "19:57:43 - cmdstanpy - INFO - Chain [1] start processing\n",
      "19:57:43 - cmdstanpy - INFO - Chain [1] done processing\n"
     ]
    },
    {
     "name": "stdout",
     "output_type": "stream",
     "text": [
      "[-0.00104696]\n",
      "Complete\n",
      "SINGERBD\n"
     ]
    },
    {
     "name": "stderr",
     "output_type": "stream",
     "text": [
      "19:57:47 - cmdstanpy - INFO - Chain [1] start processing\n",
      "19:57:47 - cmdstanpy - INFO - Chain [1] done processing\n"
     ]
    },
    {
     "name": "stdout",
     "output_type": "stream",
     "text": [
      "[-0.0012665]\n",
      "Complete\n",
      "SQURPHARMA\n"
     ]
    },
    {
     "name": "stderr",
     "output_type": "stream",
     "text": [
      "19:57:53 - cmdstanpy - INFO - Chain [1] start processing\n",
      "19:57:53 - cmdstanpy - INFO - Chain [1] done processing\n"
     ]
    },
    {
     "name": "stdout",
     "output_type": "stream",
     "text": [
      "[-0.00127696]\n",
      "Complete\n",
      "SUMITPOWER\n"
     ]
    },
    {
     "name": "stderr",
     "output_type": "stream",
     "text": [
      "19:57:58 - cmdstanpy - INFO - Chain [1] start processing\n",
      "19:57:59 - cmdstanpy - INFO - Chain [1] done processing\n"
     ]
    },
    {
     "name": "stdout",
     "output_type": "stream",
     "text": [
      "[-0.00234632]\n",
      "Complete\n",
      "TITASGAS\n"
     ]
    },
    {
     "name": "stderr",
     "output_type": "stream",
     "text": [
      "19:58:03 - cmdstanpy - INFO - Chain [1] start processing\n",
      "19:58:03 - cmdstanpy - INFO - Chain [1] done processing\n"
     ]
    },
    {
     "name": "stdout",
     "output_type": "stream",
     "text": [
      "[-0.00068491]\n",
      "Complete\n",
      "UPGDCL\n"
     ]
    },
    {
     "name": "stderr",
     "output_type": "stream",
     "text": [
      "19:58:08 - cmdstanpy - INFO - Chain [1] start processing\n",
      "19:58:08 - cmdstanpy - INFO - Chain [1] done processing\n"
     ]
    },
    {
     "name": "stdout",
     "output_type": "stream",
     "text": [
      "[-0.00152691]\n",
      "Complete\n"
     ]
    }
   ],
   "source": [
    "trend_analysis=[]\n",
    "tickers=[]\n",
    "for ticker in Top30['TRADING CODE'].values:\n",
    "    print(ticker)\n",
    "    df=get_basic_hist_data(start,end,ticker,index='date')\n",
    "    df=df[~(df.open<=0)]\n",
    "    df['Adjustment']=(df['open']+df['close'])/2\n",
    "    df=df.reset_index()\n",
    "    model=Prophet()\n",
    "    df[['ds','y']]=df[['date','Adjustment']]\n",
    "    #df[['open','close','Adjustment']][0:10].plot()\n",
    "    model.fit(df)\n",
    "    future=model.make_future_dataframe(periods=0)\n",
    "    forecast=model.predict(future)\n",
    "    tickers.append(ticker)\n",
    "    print(forecast.trend.pct_change()[-1:].values)\n",
    "    trend_analysis.append(float(forecast.trend.pct_change()[-1:].values))\n",
    "    print('Complete')"
   ]
  },
  {
   "cell_type": "code",
   "execution_count": 4,
   "id": "e946667e",
   "metadata": {},
   "outputs": [
    {
     "data": {
      "text/html": [
       "<div>\n",
       "<style scoped>\n",
       "    .dataframe tbody tr th:only-of-type {\n",
       "        vertical-align: middle;\n",
       "    }\n",
       "\n",
       "    .dataframe tbody tr th {\n",
       "        vertical-align: top;\n",
       "    }\n",
       "\n",
       "    .dataframe thead th {\n",
       "        text-align: right;\n",
       "    }\n",
       "</style>\n",
       "<table border=\"1\" class=\"dataframe\">\n",
       "  <thead>\n",
       "    <tr style=\"text-align: right;\">\n",
       "      <th></th>\n",
       "      <th>Tickers</th>\n",
       "      <th>Last_trend</th>\n",
       "    </tr>\n",
       "  </thead>\n",
       "  <tbody>\n",
       "    <tr>\n",
       "      <th>0</th>\n",
       "      <td>BATBC</td>\n",
       "      <td>-0.001238</td>\n",
       "    </tr>\n",
       "    <tr>\n",
       "      <th>1</th>\n",
       "      <td>BBSCABLES</td>\n",
       "      <td>-0.002628</td>\n",
       "    </tr>\n",
       "    <tr>\n",
       "      <th>2</th>\n",
       "      <td>BEACONPHAR</td>\n",
       "      <td>0.000411</td>\n",
       "    </tr>\n",
       "    <tr>\n",
       "      <th>3</th>\n",
       "      <td>BEXIMCO</td>\n",
       "      <td>-0.001146</td>\n",
       "    </tr>\n",
       "    <tr>\n",
       "      <th>4</th>\n",
       "      <td>BRACBANK</td>\n",
       "      <td>-0.000146</td>\n",
       "    </tr>\n",
       "    <tr>\n",
       "      <th>5</th>\n",
       "      <td>BSCCL</td>\n",
       "      <td>-0.000284</td>\n",
       "    </tr>\n",
       "    <tr>\n",
       "      <th>6</th>\n",
       "      <td>BSRMLTD</td>\n",
       "      <td>-0.002809</td>\n",
       "    </tr>\n",
       "    <tr>\n",
       "      <th>7</th>\n",
       "      <td>BXPHARMA</td>\n",
       "      <td>-0.001200</td>\n",
       "    </tr>\n",
       "    <tr>\n",
       "      <th>8</th>\n",
       "      <td>CITYBANK</td>\n",
       "      <td>-0.000723</td>\n",
       "    </tr>\n",
       "    <tr>\n",
       "      <th>9</th>\n",
       "      <td>DELTALIFE</td>\n",
       "      <td>-0.001483</td>\n",
       "    </tr>\n",
       "    <tr>\n",
       "      <th>10</th>\n",
       "      <td>EBL</td>\n",
       "      <td>-0.000890</td>\n",
       "    </tr>\n",
       "    <tr>\n",
       "      <th>11</th>\n",
       "      <td>FORTUNE</td>\n",
       "      <td>-0.004940</td>\n",
       "    </tr>\n",
       "    <tr>\n",
       "      <th>12</th>\n",
       "      <td>GP</td>\n",
       "      <td>-0.001383</td>\n",
       "    </tr>\n",
       "    <tr>\n",
       "      <th>13</th>\n",
       "      <td>GPHISPAT</td>\n",
       "      <td>-0.003986</td>\n",
       "    </tr>\n",
       "    <tr>\n",
       "      <th>14</th>\n",
       "      <td>IDLC</td>\n",
       "      <td>-0.002868</td>\n",
       "    </tr>\n",
       "    <tr>\n",
       "      <th>15</th>\n",
       "      <td>ISLAMIBANK</td>\n",
       "      <td>0.000125</td>\n",
       "    </tr>\n",
       "    <tr>\n",
       "      <th>16</th>\n",
       "      <td>LANKABAFIN</td>\n",
       "      <td>-0.002898</td>\n",
       "    </tr>\n",
       "    <tr>\n",
       "      <th>17</th>\n",
       "      <td>LHBL</td>\n",
       "      <td>-0.002203</td>\n",
       "    </tr>\n",
       "    <tr>\n",
       "      <th>18</th>\n",
       "      <td>MPETROLEUM</td>\n",
       "      <td>-0.000518</td>\n",
       "    </tr>\n",
       "    <tr>\n",
       "      <th>19</th>\n",
       "      <td>OLYMPIC</td>\n",
       "      <td>-0.001938</td>\n",
       "    </tr>\n",
       "    <tr>\n",
       "      <th>20</th>\n",
       "      <td>ORIONPHARM</td>\n",
       "      <td>0.000673</td>\n",
       "    </tr>\n",
       "    <tr>\n",
       "      <th>21</th>\n",
       "      <td>POWERGRID</td>\n",
       "      <td>-0.001956</td>\n",
       "    </tr>\n",
       "    <tr>\n",
       "      <th>22</th>\n",
       "      <td>PUBALIBANK</td>\n",
       "      <td>0.000652</td>\n",
       "    </tr>\n",
       "    <tr>\n",
       "      <th>23</th>\n",
       "      <td>RENATA</td>\n",
       "      <td>-0.000544</td>\n",
       "    </tr>\n",
       "    <tr>\n",
       "      <th>24</th>\n",
       "      <td>ROBI</td>\n",
       "      <td>-0.001047</td>\n",
       "    </tr>\n",
       "    <tr>\n",
       "      <th>25</th>\n",
       "      <td>SINGERBD</td>\n",
       "      <td>-0.001266</td>\n",
       "    </tr>\n",
       "    <tr>\n",
       "      <th>26</th>\n",
       "      <td>SQURPHARMA</td>\n",
       "      <td>-0.001277</td>\n",
       "    </tr>\n",
       "    <tr>\n",
       "      <th>27</th>\n",
       "      <td>SUMITPOWER</td>\n",
       "      <td>-0.002346</td>\n",
       "    </tr>\n",
       "    <tr>\n",
       "      <th>28</th>\n",
       "      <td>TITASGAS</td>\n",
       "      <td>-0.000685</td>\n",
       "    </tr>\n",
       "    <tr>\n",
       "      <th>29</th>\n",
       "      <td>UPGDCL</td>\n",
       "      <td>-0.001527</td>\n",
       "    </tr>\n",
       "  </tbody>\n",
       "</table>\n",
       "</div>"
      ],
      "text/plain": [
       "       Tickers  Last_trend\n",
       "0        BATBC   -0.001238\n",
       "1    BBSCABLES   -0.002628\n",
       "2   BEACONPHAR    0.000411\n",
       "3      BEXIMCO   -0.001146\n",
       "4     BRACBANK   -0.000146\n",
       "5        BSCCL   -0.000284\n",
       "6      BSRMLTD   -0.002809\n",
       "7     BXPHARMA   -0.001200\n",
       "8     CITYBANK   -0.000723\n",
       "9    DELTALIFE   -0.001483\n",
       "10         EBL   -0.000890\n",
       "11     FORTUNE   -0.004940\n",
       "12          GP   -0.001383\n",
       "13    GPHISPAT   -0.003986\n",
       "14        IDLC   -0.002868\n",
       "15  ISLAMIBANK    0.000125\n",
       "16  LANKABAFIN   -0.002898\n",
       "17        LHBL   -0.002203\n",
       "18  MPETROLEUM   -0.000518\n",
       "19     OLYMPIC   -0.001938\n",
       "20  ORIONPHARM    0.000673\n",
       "21   POWERGRID   -0.001956\n",
       "22  PUBALIBANK    0.000652\n",
       "23      RENATA   -0.000544\n",
       "24        ROBI   -0.001047\n",
       "25    SINGERBD   -0.001266\n",
       "26  SQURPHARMA   -0.001277\n",
       "27  SUMITPOWER   -0.002346\n",
       "28    TITASGAS   -0.000685\n",
       "29      UPGDCL   -0.001527"
      ]
     },
     "execution_count": 4,
     "metadata": {},
     "output_type": "execute_result"
    }
   ],
   "source": [
    "trend_analysis=pd.DataFrame({'Tickers':tickers,'Last_trend':trend_analysis})\n",
    "trend_analysis"
   ]
  },
  {
   "cell_type": "code",
   "execution_count": 5,
   "id": "05f111d9",
   "metadata": {},
   "outputs": [
    {
     "data": {
      "text/html": [
       "<div>\n",
       "<style scoped>\n",
       "    .dataframe tbody tr th:only-of-type {\n",
       "        vertical-align: middle;\n",
       "    }\n",
       "\n",
       "    .dataframe tbody tr th {\n",
       "        vertical-align: top;\n",
       "    }\n",
       "\n",
       "    .dataframe thead th {\n",
       "        text-align: right;\n",
       "    }\n",
       "</style>\n",
       "<table border=\"1\" class=\"dataframe\">\n",
       "  <thead>\n",
       "    <tr style=\"text-align: right;\">\n",
       "      <th></th>\n",
       "      <th>Tickers</th>\n",
       "      <th>Last_trend</th>\n",
       "    </tr>\n",
       "  </thead>\n",
       "  <tbody>\n",
       "    <tr>\n",
       "      <th>20</th>\n",
       "      <td>ORIONPHARM</td>\n",
       "      <td>0.000673</td>\n",
       "    </tr>\n",
       "    <tr>\n",
       "      <th>22</th>\n",
       "      <td>PUBALIBANK</td>\n",
       "      <td>0.000652</td>\n",
       "    </tr>\n",
       "    <tr>\n",
       "      <th>2</th>\n",
       "      <td>BEACONPHAR</td>\n",
       "      <td>0.000411</td>\n",
       "    </tr>\n",
       "    <tr>\n",
       "      <th>15</th>\n",
       "      <td>ISLAMIBANK</td>\n",
       "      <td>0.000125</td>\n",
       "    </tr>\n",
       "    <tr>\n",
       "      <th>4</th>\n",
       "      <td>BRACBANK</td>\n",
       "      <td>-0.000146</td>\n",
       "    </tr>\n",
       "    <tr>\n",
       "      <th>5</th>\n",
       "      <td>BSCCL</td>\n",
       "      <td>-0.000284</td>\n",
       "    </tr>\n",
       "    <tr>\n",
       "      <th>18</th>\n",
       "      <td>MPETROLEUM</td>\n",
       "      <td>-0.000518</td>\n",
       "    </tr>\n",
       "    <tr>\n",
       "      <th>23</th>\n",
       "      <td>RENATA</td>\n",
       "      <td>-0.000544</td>\n",
       "    </tr>\n",
       "    <tr>\n",
       "      <th>28</th>\n",
       "      <td>TITASGAS</td>\n",
       "      <td>-0.000685</td>\n",
       "    </tr>\n",
       "    <tr>\n",
       "      <th>8</th>\n",
       "      <td>CITYBANK</td>\n",
       "      <td>-0.000723</td>\n",
       "    </tr>\n",
       "    <tr>\n",
       "      <th>10</th>\n",
       "      <td>EBL</td>\n",
       "      <td>-0.000890</td>\n",
       "    </tr>\n",
       "    <tr>\n",
       "      <th>24</th>\n",
       "      <td>ROBI</td>\n",
       "      <td>-0.001047</td>\n",
       "    </tr>\n",
       "    <tr>\n",
       "      <th>3</th>\n",
       "      <td>BEXIMCO</td>\n",
       "      <td>-0.001146</td>\n",
       "    </tr>\n",
       "    <tr>\n",
       "      <th>7</th>\n",
       "      <td>BXPHARMA</td>\n",
       "      <td>-0.001200</td>\n",
       "    </tr>\n",
       "    <tr>\n",
       "      <th>0</th>\n",
       "      <td>BATBC</td>\n",
       "      <td>-0.001238</td>\n",
       "    </tr>\n",
       "    <tr>\n",
       "      <th>25</th>\n",
       "      <td>SINGERBD</td>\n",
       "      <td>-0.001266</td>\n",
       "    </tr>\n",
       "    <tr>\n",
       "      <th>26</th>\n",
       "      <td>SQURPHARMA</td>\n",
       "      <td>-0.001277</td>\n",
       "    </tr>\n",
       "    <tr>\n",
       "      <th>12</th>\n",
       "      <td>GP</td>\n",
       "      <td>-0.001383</td>\n",
       "    </tr>\n",
       "    <tr>\n",
       "      <th>9</th>\n",
       "      <td>DELTALIFE</td>\n",
       "      <td>-0.001483</td>\n",
       "    </tr>\n",
       "    <tr>\n",
       "      <th>29</th>\n",
       "      <td>UPGDCL</td>\n",
       "      <td>-0.001527</td>\n",
       "    </tr>\n",
       "    <tr>\n",
       "      <th>19</th>\n",
       "      <td>OLYMPIC</td>\n",
       "      <td>-0.001938</td>\n",
       "    </tr>\n",
       "    <tr>\n",
       "      <th>21</th>\n",
       "      <td>POWERGRID</td>\n",
       "      <td>-0.001956</td>\n",
       "    </tr>\n",
       "    <tr>\n",
       "      <th>17</th>\n",
       "      <td>LHBL</td>\n",
       "      <td>-0.002203</td>\n",
       "    </tr>\n",
       "    <tr>\n",
       "      <th>27</th>\n",
       "      <td>SUMITPOWER</td>\n",
       "      <td>-0.002346</td>\n",
       "    </tr>\n",
       "    <tr>\n",
       "      <th>1</th>\n",
       "      <td>BBSCABLES</td>\n",
       "      <td>-0.002628</td>\n",
       "    </tr>\n",
       "    <tr>\n",
       "      <th>6</th>\n",
       "      <td>BSRMLTD</td>\n",
       "      <td>-0.002809</td>\n",
       "    </tr>\n",
       "    <tr>\n",
       "      <th>14</th>\n",
       "      <td>IDLC</td>\n",
       "      <td>-0.002868</td>\n",
       "    </tr>\n",
       "    <tr>\n",
       "      <th>16</th>\n",
       "      <td>LANKABAFIN</td>\n",
       "      <td>-0.002898</td>\n",
       "    </tr>\n",
       "    <tr>\n",
       "      <th>13</th>\n",
       "      <td>GPHISPAT</td>\n",
       "      <td>-0.003986</td>\n",
       "    </tr>\n",
       "  </tbody>\n",
       "</table>\n",
       "</div>"
      ],
      "text/plain": [
       "       Tickers  Last_trend\n",
       "20  ORIONPHARM    0.000673\n",
       "22  PUBALIBANK    0.000652\n",
       "2   BEACONPHAR    0.000411\n",
       "15  ISLAMIBANK    0.000125\n",
       "4     BRACBANK   -0.000146\n",
       "5        BSCCL   -0.000284\n",
       "18  MPETROLEUM   -0.000518\n",
       "23      RENATA   -0.000544\n",
       "28    TITASGAS   -0.000685\n",
       "8     CITYBANK   -0.000723\n",
       "10         EBL   -0.000890\n",
       "24        ROBI   -0.001047\n",
       "3      BEXIMCO   -0.001146\n",
       "7     BXPHARMA   -0.001200\n",
       "0        BATBC   -0.001238\n",
       "25    SINGERBD   -0.001266\n",
       "26  SQURPHARMA   -0.001277\n",
       "12          GP   -0.001383\n",
       "9    DELTALIFE   -0.001483\n",
       "29      UPGDCL   -0.001527\n",
       "19     OLYMPIC   -0.001938\n",
       "21   POWERGRID   -0.001956\n",
       "17        LHBL   -0.002203\n",
       "27  SUMITPOWER   -0.002346\n",
       "1    BBSCABLES   -0.002628\n",
       "6      BSRMLTD   -0.002809\n",
       "14        IDLC   -0.002868\n",
       "16  LANKABAFIN   -0.002898\n",
       "13    GPHISPAT   -0.003986"
      ]
     },
     "execution_count": 5,
     "metadata": {},
     "output_type": "execute_result"
    }
   ],
   "source": [
    "trend_analysis.sort_values(by=['Last_trend'],ascending=False)[0:29]"
   ]
  },
  {
   "cell_type": "code",
   "execution_count": 6,
   "id": "348909c1",
   "metadata": {
    "scrolled": true
   },
   "outputs": [
    {
     "name": "stderr",
     "output_type": "stream",
     "text": [
      "19:59:39 - cmdstanpy - INFO - Chain [1] start processing\n",
      "19:59:40 - cmdstanpy - INFO - Chain [1] done processing\n"
     ]
    }
   ],
   "source": [
    "t='PUBALIBANK'#'UPGDCL'#'ISLAMIBANK'#'BEACONPHAR'#'ORIONPHARM'#\n",
    "df=get_basic_hist_data(start,end,t,index='date')\n",
    "df=df[~(df.open<=0)]\n",
    "df['Adjustment']=(df['open']+df['close'])/2\n",
    "df=df.reset_index()\n",
    "model=Prophet()\n",
    "df[['ds','y']]=df[['date','Adjustment']]\n",
    "#df[['open','close','Adjustment']][0:10].plot()\n",
    "model.fit(df)\n",
    "future=model.make_future_dataframe(periods=0)\n",
    "forecast=model.predict(future)\n",
    "df['trend']=forecast['trend']\n",
    "df.set_index(['ds'],inplace=True)\n",
    "df['pct_change']=df.trend.pct_change()"
   ]
  },
  {
   "cell_type": "code",
   "execution_count": 7,
   "id": "2ff26899",
   "metadata": {
    "scrolled": true
   },
   "outputs": [
    {
     "data": {
      "text/html": [
       "<div>\n",
       "<style scoped>\n",
       "    .dataframe tbody tr th:only-of-type {\n",
       "        vertical-align: middle;\n",
       "    }\n",
       "\n",
       "    .dataframe tbody tr th {\n",
       "        vertical-align: top;\n",
       "    }\n",
       "\n",
       "    .dataframe thead th {\n",
       "        text-align: right;\n",
       "    }\n",
       "</style>\n",
       "<table border=\"1\" class=\"dataframe\">\n",
       "  <thead>\n",
       "    <tr style=\"text-align: right;\">\n",
       "      <th></th>\n",
       "      <th>ds</th>\n",
       "      <th>open</th>\n",
       "      <th>high</th>\n",
       "      <th>low</th>\n",
       "      <th>close</th>\n",
       "      <th>volume</th>\n",
       "      <th>Adjustment</th>\n",
       "      <th>y</th>\n",
       "      <th>trend</th>\n",
       "      <th>pct_change</th>\n",
       "      <th>Reverse</th>\n",
       "      <th>Trend_10</th>\n",
       "      <th>Reverse_trend</th>\n",
       "      <th>pct_change7</th>\n",
       "    </tr>\n",
       "    <tr>\n",
       "      <th>date</th>\n",
       "      <th></th>\n",
       "      <th></th>\n",
       "      <th></th>\n",
       "      <th></th>\n",
       "      <th></th>\n",
       "      <th></th>\n",
       "      <th></th>\n",
       "      <th></th>\n",
       "      <th></th>\n",
       "      <th></th>\n",
       "      <th></th>\n",
       "      <th></th>\n",
       "      <th></th>\n",
       "      <th></th>\n",
       "    </tr>\n",
       "  </thead>\n",
       "  <tbody>\n",
       "    <tr>\n",
       "      <th>2020-10-19</th>\n",
       "      <td>2020-10-19</td>\n",
       "      <td>24.4</td>\n",
       "      <td>24.6</td>\n",
       "      <td>24.4</td>\n",
       "      <td>24.5</td>\n",
       "      <td>23826</td>\n",
       "      <td>24.45</td>\n",
       "      <td>24.45</td>\n",
       "      <td>24.008215</td>\n",
       "      <td>NaN</td>\n",
       "      <td>27.50</td>\n",
       "      <td>27.550699</td>\n",
       "      <td>24.485021</td>\n",
       "      <td>NaN</td>\n",
       "    </tr>\n",
       "    <tr>\n",
       "      <th>2020-10-20</th>\n",
       "      <td>2020-10-20</td>\n",
       "      <td>24.2</td>\n",
       "      <td>24.6</td>\n",
       "      <td>24.2</td>\n",
       "      <td>24.5</td>\n",
       "      <td>49810</td>\n",
       "      <td>24.35</td>\n",
       "      <td>24.35</td>\n",
       "      <td>24.003451</td>\n",
       "      <td>-0.000198</td>\n",
       "      <td>27.65</td>\n",
       "      <td>27.532053</td>\n",
       "      <td>24.468107</td>\n",
       "      <td>-0.000691</td>\n",
       "    </tr>\n",
       "    <tr>\n",
       "      <th>2020-10-21</th>\n",
       "      <td>2020-10-21</td>\n",
       "      <td>24.5</td>\n",
       "      <td>24.6</td>\n",
       "      <td>24.4</td>\n",
       "      <td>24.5</td>\n",
       "      <td>207905</td>\n",
       "      <td>24.50</td>\n",
       "      <td>24.50</td>\n",
       "      <td>23.998688</td>\n",
       "      <td>-0.000198</td>\n",
       "      <td>27.70</td>\n",
       "      <td>27.514088</td>\n",
       "      <td>24.451291</td>\n",
       "      <td>-0.000687</td>\n",
       "    </tr>\n",
       "    <tr>\n",
       "      <th>2020-10-22</th>\n",
       "      <td>2020-10-22</td>\n",
       "      <td>24.3</td>\n",
       "      <td>24.5</td>\n",
       "      <td>24.3</td>\n",
       "      <td>24.4</td>\n",
       "      <td>139359</td>\n",
       "      <td>24.35</td>\n",
       "      <td>24.35</td>\n",
       "      <td>23.993924</td>\n",
       "      <td>-0.000198</td>\n",
       "      <td>27.55</td>\n",
       "      <td>27.496952</td>\n",
       "      <td>24.434563</td>\n",
       "      <td>-0.000684</td>\n",
       "    </tr>\n",
       "    <tr>\n",
       "      <th>2020-10-25</th>\n",
       "      <td>2020-10-25</td>\n",
       "      <td>24.4</td>\n",
       "      <td>24.5</td>\n",
       "      <td>24.4</td>\n",
       "      <td>24.4</td>\n",
       "      <td>102841</td>\n",
       "      <td>24.40</td>\n",
       "      <td>24.40</td>\n",
       "      <td>23.979634</td>\n",
       "      <td>-0.000596</td>\n",
       "      <td>27.50</td>\n",
       "      <td>27.480802</td>\n",
       "      <td>24.417833</td>\n",
       "      <td>-0.000685</td>\n",
       "    </tr>\n",
       "    <tr>\n",
       "      <th>...</th>\n",
       "      <td>...</td>\n",
       "      <td>...</td>\n",
       "      <td>...</td>\n",
       "      <td>...</td>\n",
       "      <td>...</td>\n",
       "      <td>...</td>\n",
       "      <td>...</td>\n",
       "      <td>...</td>\n",
       "      <td>...</td>\n",
       "      <td>...</td>\n",
       "      <td>...</td>\n",
       "      <td>...</td>\n",
       "      <td>...</td>\n",
       "      <td>...</td>\n",
       "    </tr>\n",
       "    <tr>\n",
       "      <th>2022-10-13</th>\n",
       "      <td>2022-10-13</td>\n",
       "      <td>27.2</td>\n",
       "      <td>27.9</td>\n",
       "      <td>27.2</td>\n",
       "      <td>27.8</td>\n",
       "      <td>86186</td>\n",
       "      <td>27.50</td>\n",
       "      <td>27.50</td>\n",
       "      <td>28.677900</td>\n",
       "      <td>0.000655</td>\n",
       "      <td>24.40</td>\n",
       "      <td>24.417833</td>\n",
       "      <td>27.480802</td>\n",
       "      <td>0.000548</td>\n",
       "    </tr>\n",
       "    <tr>\n",
       "      <th>2022-10-16</th>\n",
       "      <td>2022-10-16</td>\n",
       "      <td>27.4</td>\n",
       "      <td>27.9</td>\n",
       "      <td>27.4</td>\n",
       "      <td>27.7</td>\n",
       "      <td>53242</td>\n",
       "      <td>27.55</td>\n",
       "      <td>27.55</td>\n",
       "      <td>28.734202</td>\n",
       "      <td>0.001963</td>\n",
       "      <td>24.35</td>\n",
       "      <td>24.434563</td>\n",
       "      <td>27.496952</td>\n",
       "      <td>0.000588</td>\n",
       "    </tr>\n",
       "    <tr>\n",
       "      <th>2022-10-17</th>\n",
       "      <td>2022-10-17</td>\n",
       "      <td>27.7</td>\n",
       "      <td>28.0</td>\n",
       "      <td>27.4</td>\n",
       "      <td>27.7</td>\n",
       "      <td>85915</td>\n",
       "      <td>27.70</td>\n",
       "      <td>27.70</td>\n",
       "      <td>28.752969</td>\n",
       "      <td>0.000653</td>\n",
       "      <td>24.50</td>\n",
       "      <td>24.451291</td>\n",
       "      <td>27.514088</td>\n",
       "      <td>0.000623</td>\n",
       "    </tr>\n",
       "    <tr>\n",
       "      <th>2022-10-18</th>\n",
       "      <td>2022-10-18</td>\n",
       "      <td>27.6</td>\n",
       "      <td>28.0</td>\n",
       "      <td>27.4</td>\n",
       "      <td>27.7</td>\n",
       "      <td>83296</td>\n",
       "      <td>27.65</td>\n",
       "      <td>27.65</td>\n",
       "      <td>28.771736</td>\n",
       "      <td>0.000653</td>\n",
       "      <td>24.35</td>\n",
       "      <td>24.468107</td>\n",
       "      <td>27.532053</td>\n",
       "      <td>0.000653</td>\n",
       "    </tr>\n",
       "    <tr>\n",
       "      <th>2022-10-19</th>\n",
       "      <td>2022-10-19</td>\n",
       "      <td>27.3</td>\n",
       "      <td>27.9</td>\n",
       "      <td>27.2</td>\n",
       "      <td>27.7</td>\n",
       "      <td>30606</td>\n",
       "      <td>27.50</td>\n",
       "      <td>27.50</td>\n",
       "      <td>28.790503</td>\n",
       "      <td>0.000652</td>\n",
       "      <td>24.45</td>\n",
       "      <td>24.485021</td>\n",
       "      <td>27.550699</td>\n",
       "      <td>0.000677</td>\n",
       "    </tr>\n",
       "  </tbody>\n",
       "</table>\n",
       "<p>483 rows × 14 columns</p>\n",
       "</div>"
      ],
      "text/plain": [
       "                    ds  open  high   low  close  volume  Adjustment      y  \\\n",
       "date                                                                         \n",
       "2020-10-19  2020-10-19  24.4  24.6  24.4   24.5   23826       24.45  24.45   \n",
       "2020-10-20  2020-10-20  24.2  24.6  24.2   24.5   49810       24.35  24.35   \n",
       "2020-10-21  2020-10-21  24.5  24.6  24.4   24.5  207905       24.50  24.50   \n",
       "2020-10-22  2020-10-22  24.3  24.5  24.3   24.4  139359       24.35  24.35   \n",
       "2020-10-25  2020-10-25  24.4  24.5  24.4   24.4  102841       24.40  24.40   \n",
       "...                ...   ...   ...   ...    ...     ...         ...    ...   \n",
       "2022-10-13  2022-10-13  27.2  27.9  27.2   27.8   86186       27.50  27.50   \n",
       "2022-10-16  2022-10-16  27.4  27.9  27.4   27.7   53242       27.55  27.55   \n",
       "2022-10-17  2022-10-17  27.7  28.0  27.4   27.7   85915       27.70  27.70   \n",
       "2022-10-18  2022-10-18  27.6  28.0  27.4   27.7   83296       27.65  27.65   \n",
       "2022-10-19  2022-10-19  27.3  27.9  27.2   27.7   30606       27.50  27.50   \n",
       "\n",
       "                trend  pct_change  Reverse   Trend_10  Reverse_trend  \\\n",
       "date                                                                   \n",
       "2020-10-19  24.008215         NaN    27.50  27.550699      24.485021   \n",
       "2020-10-20  24.003451   -0.000198    27.65  27.532053      24.468107   \n",
       "2020-10-21  23.998688   -0.000198    27.70  27.514088      24.451291   \n",
       "2020-10-22  23.993924   -0.000198    27.55  27.496952      24.434563   \n",
       "2020-10-25  23.979634   -0.000596    27.50  27.480802      24.417833   \n",
       "...               ...         ...      ...        ...            ...   \n",
       "2022-10-13  28.677900    0.000655    24.40  24.417833      27.480802   \n",
       "2022-10-16  28.734202    0.001963    24.35  24.434563      27.496952   \n",
       "2022-10-17  28.752969    0.000653    24.50  24.451291      27.514088   \n",
       "2022-10-18  28.771736    0.000653    24.35  24.468107      27.532053   \n",
       "2022-10-19  28.790503    0.000652    24.45  24.485021      27.550699   \n",
       "\n",
       "            pct_change7  \n",
       "date                     \n",
       "2020-10-19          NaN  \n",
       "2020-10-20    -0.000691  \n",
       "2020-10-21    -0.000687  \n",
       "2020-10-22    -0.000684  \n",
       "2020-10-25    -0.000685  \n",
       "...                 ...  \n",
       "2022-10-13     0.000548  \n",
       "2022-10-16     0.000588  \n",
       "2022-10-17     0.000623  \n",
       "2022-10-18     0.000653  \n",
       "2022-10-19     0.000677  \n",
       "\n",
       "[483 rows x 14 columns]"
      ]
     },
     "execution_count": 7,
     "metadata": {},
     "output_type": "execute_result"
    }
   ],
   "source": [
    "df.reset_index(inplace=True)\n",
    "df['Reverse']=df[['Adjustment']].iloc[::-1].values\n",
    "df.set_index(['date'],inplace=True)\n",
    "stl_10=STL(df['Reverse'],period=7)\n",
    "Result_10= stl_10.fit()\n",
    "trend_10=Result_10.trend\n",
    "df['Trend_10']=trend_10\n",
    "df.reset_index(inplace=True)\n",
    "df['Reverse_trend']=df[['Trend_10']].iloc[::-1].values\n",
    "df.set_index(['date'],inplace=True)\n",
    "df['pct_change7']=df.Reverse_trend.pct_change()\n",
    "date=pd.to_datetime(df.index)\n",
    "df.set_index(date, inplace=True)\n",
    "df.asfreq('D')\n",
    "df"
   ]
  },
  {
   "cell_type": "code",
   "execution_count": 8,
   "id": "3072882c",
   "metadata": {},
   "outputs": [
    {
     "data": {
      "text/plain": [
       "<matplotlib.axes._subplots.AxesSubplot at 0x1f749ade1d0>"
      ]
     },
     "execution_count": 8,
     "metadata": {},
     "output_type": "execute_result"
    },
    {
     "data": {
      "image/png": "[encoded data removed]",
      "text/plain": [
       "<Figure size 432x288 with 1 Axes>"
      ]
     },
     "metadata": {},
     "output_type": "display_data"
    },
    {
     "data": {
      "image/png": "[encoded data removed]",
      "text/plain": [
       "<Figure size 432x288 with 1 Axes>"
      ]
     },
     "metadata": {},
     "output_type": "display_data"
    }
   ],
   "source": [
    "plt.scatter(x=df.index,y=df['Adjustment'],s=4,label='Adj Close')\n",
    "df[['trend','Reverse_trend']].plot()"
   ]
  },
  {
   "cell_type": "code",
   "execution_count": 9,
   "id": "c531f719",
   "metadata": {
    "scrolled": false
   },
   "outputs": [
    {
     "data": {
      "text/html": [
       "<div>\n",
       "<style scoped>\n",
       "    .dataframe tbody tr th:only-of-type {\n",
       "        vertical-align: middle;\n",
       "    }\n",
       "\n",
       "    .dataframe tbody tr th {\n",
       "        vertical-align: top;\n",
       "    }\n",
       "\n",
       "    .dataframe thead th {\n",
       "        text-align: right;\n",
       "    }\n",
       "</style>\n",
       "<table border=\"1\" class=\"dataframe\">\n",
       "  <thead>\n",
       "    <tr style=\"text-align: right;\">\n",
       "      <th></th>\n",
       "      <th>ds</th>\n",
       "      <th>open</th>\n",
       "      <th>high</th>\n",
       "      <th>low</th>\n",
       "      <th>close</th>\n",
       "      <th>volume</th>\n",
       "      <th>Adjustment</th>\n",
       "      <th>y</th>\n",
       "      <th>trend</th>\n",
       "      <th>pct_change</th>\n",
       "      <th>Reverse</th>\n",
       "      <th>Trend_10</th>\n",
       "      <th>Reverse_trend</th>\n",
       "      <th>pct_change7</th>\n",
       "    </tr>\n",
       "    <tr>\n",
       "      <th>date</th>\n",
       "      <th></th>\n",
       "      <th></th>\n",
       "      <th></th>\n",
       "      <th></th>\n",
       "      <th></th>\n",
       "      <th></th>\n",
       "      <th></th>\n",
       "      <th></th>\n",
       "      <th></th>\n",
       "      <th></th>\n",
       "      <th></th>\n",
       "      <th></th>\n",
       "      <th></th>\n",
       "      <th></th>\n",
       "    </tr>\n",
       "  </thead>\n",
       "  <tbody>\n",
       "    <tr>\n",
       "      <th>2021-04-11</th>\n",
       "      <td>2021-04-11</td>\n",
       "      <td>22.0</td>\n",
       "      <td>23.6</td>\n",
       "      <td>22.0</td>\n",
       "      <td>22.5</td>\n",
       "      <td>9352</td>\n",
       "      <td>22.25</td>\n",
       "      <td>22.25</td>\n",
       "      <td>23.750740</td>\n",
       "      <td>0.004196</td>\n",
       "      <td>26.10</td>\n",
       "      <td>26.361044</td>\n",
       "      <td>23.397580</td>\n",
       "      <td>0.000940</td>\n",
       "    </tr>\n",
       "    <tr>\n",
       "      <th>2021-04-12</th>\n",
       "      <td>2021-04-12</td>\n",
       "      <td>23.5</td>\n",
       "      <td>23.5</td>\n",
       "      <td>23.0</td>\n",
       "      <td>23.1</td>\n",
       "      <td>112085</td>\n",
       "      <td>23.30</td>\n",
       "      <td>23.30</td>\n",
       "      <td>23.783818</td>\n",
       "      <td>0.001393</td>\n",
       "      <td>26.10</td>\n",
       "      <td>26.325461</td>\n",
       "      <td>23.439563</td>\n",
       "      <td>0.001794</td>\n",
       "    </tr>\n",
       "    <tr>\n",
       "      <th>2021-04-19</th>\n",
       "      <td>2021-04-19</td>\n",
       "      <td>23.7</td>\n",
       "      <td>23.9</td>\n",
       "      <td>23.7</td>\n",
       "      <td>23.8</td>\n",
       "      <td>55590</td>\n",
       "      <td>23.75</td>\n",
       "      <td>23.75</td>\n",
       "      <td>24.015365</td>\n",
       "      <td>0.001379</td>\n",
       "      <td>26.40</td>\n",
       "      <td>26.822210</td>\n",
       "      <td>23.780577</td>\n",
       "      <td>0.003928</td>\n",
       "    </tr>\n",
       "    <tr>\n",
       "      <th>2021-04-20</th>\n",
       "      <td>2021-04-20</td>\n",
       "      <td>23.8</td>\n",
       "      <td>23.9</td>\n",
       "      <td>23.6</td>\n",
       "      <td>23.7</td>\n",
       "      <td>152019</td>\n",
       "      <td>23.75</td>\n",
       "      <td>23.75</td>\n",
       "      <td>24.048443</td>\n",
       "      <td>0.001377</td>\n",
       "      <td>26.45</td>\n",
       "      <td>27.093397</td>\n",
       "      <td>23.860409</td>\n",
       "      <td>0.003357</td>\n",
       "    </tr>\n",
       "    <tr>\n",
       "      <th>2021-04-21</th>\n",
       "      <td>2021-04-21</td>\n",
       "      <td>23.8</td>\n",
       "      <td>24.4</td>\n",
       "      <td>23.6</td>\n",
       "      <td>24.0</td>\n",
       "      <td>282176</td>\n",
       "      <td>23.90</td>\n",
       "      <td>23.90</td>\n",
       "      <td>24.081521</td>\n",
       "      <td>0.001375</td>\n",
       "      <td>27.70</td>\n",
       "      <td>27.390530</td>\n",
       "      <td>23.931467</td>\n",
       "      <td>0.002978</td>\n",
       "    </tr>\n",
       "    <tr>\n",
       "      <th>...</th>\n",
       "      <td>...</td>\n",
       "      <td>...</td>\n",
       "      <td>...</td>\n",
       "      <td>...</td>\n",
       "      <td>...</td>\n",
       "      <td>...</td>\n",
       "      <td>...</td>\n",
       "      <td>...</td>\n",
       "      <td>...</td>\n",
       "      <td>...</td>\n",
       "      <td>...</td>\n",
       "      <td>...</td>\n",
       "      <td>...</td>\n",
       "      <td>...</td>\n",
       "    </tr>\n",
       "    <tr>\n",
       "      <th>2022-09-22</th>\n",
       "      <td>2022-09-22</td>\n",
       "      <td>27.7</td>\n",
       "      <td>28.0</td>\n",
       "      <td>27.1</td>\n",
       "      <td>27.3</td>\n",
       "      <td>270168</td>\n",
       "      <td>27.50</td>\n",
       "      <td>27.50</td>\n",
       "      <td>28.283788</td>\n",
       "      <td>0.000664</td>\n",
       "      <td>24.80</td>\n",
       "      <td>24.485380</td>\n",
       "      <td>27.588858</td>\n",
       "      <td>0.000474</td>\n",
       "    </tr>\n",
       "    <tr>\n",
       "      <th>2022-10-10</th>\n",
       "      <td>2022-10-10</td>\n",
       "      <td>27.2</td>\n",
       "      <td>27.5</td>\n",
       "      <td>27.2</td>\n",
       "      <td>27.4</td>\n",
       "      <td>58183</td>\n",
       "      <td>27.30</td>\n",
       "      <td>27.30</td>\n",
       "      <td>28.621598</td>\n",
       "      <td>0.002630</td>\n",
       "      <td>24.30</td>\n",
       "      <td>24.372575</td>\n",
       "      <td>27.438747</td>\n",
       "      <td>0.000134</td>\n",
       "    </tr>\n",
       "    <tr>\n",
       "      <th>2022-10-11</th>\n",
       "      <td>2022-10-11</td>\n",
       "      <td>27.1</td>\n",
       "      <td>27.4</td>\n",
       "      <td>27.1</td>\n",
       "      <td>27.4</td>\n",
       "      <td>68032</td>\n",
       "      <td>27.25</td>\n",
       "      <td>27.25</td>\n",
       "      <td>28.640365</td>\n",
       "      <td>0.000656</td>\n",
       "      <td>24.45</td>\n",
       "      <td>24.385849</td>\n",
       "      <td>27.451751</td>\n",
       "      <td>0.000474</td>\n",
       "    </tr>\n",
       "    <tr>\n",
       "      <th>2022-10-12</th>\n",
       "      <td>2022-10-12</td>\n",
       "      <td>27.6</td>\n",
       "      <td>28.0</td>\n",
       "      <td>27.2</td>\n",
       "      <td>27.3</td>\n",
       "      <td>165944</td>\n",
       "      <td>27.45</td>\n",
       "      <td>27.45</td>\n",
       "      <td>28.659133</td>\n",
       "      <td>0.000655</td>\n",
       "      <td>24.60</td>\n",
       "      <td>24.401365</td>\n",
       "      <td>27.465759</td>\n",
       "      <td>0.000510</td>\n",
       "    </tr>\n",
       "    <tr>\n",
       "      <th>2022-10-19</th>\n",
       "      <td>2022-10-19</td>\n",
       "      <td>27.3</td>\n",
       "      <td>27.9</td>\n",
       "      <td>27.2</td>\n",
       "      <td>27.7</td>\n",
       "      <td>30606</td>\n",
       "      <td>27.50</td>\n",
       "      <td>27.50</td>\n",
       "      <td>28.790503</td>\n",
       "      <td>0.000652</td>\n",
       "      <td>24.45</td>\n",
       "      <td>24.485021</td>\n",
       "      <td>27.550699</td>\n",
       "      <td>0.000677</td>\n",
       "    </tr>\n",
       "  </tbody>\n",
       "</table>\n",
       "<p>76 rows × 14 columns</p>\n",
       "</div>"
      ],
      "text/plain": [
       "                    ds  open  high   low  close  volume  Adjustment      y  \\\n",
       "date                                                                         \n",
       "2021-04-11  2021-04-11  22.0  23.6  22.0   22.5    9352       22.25  22.25   \n",
       "2021-04-12  2021-04-12  23.5  23.5  23.0   23.1  112085       23.30  23.30   \n",
       "2021-04-19  2021-04-19  23.7  23.9  23.7   23.8   55590       23.75  23.75   \n",
       "2021-04-20  2021-04-20  23.8  23.9  23.6   23.7  152019       23.75  23.75   \n",
       "2021-04-21  2021-04-21  23.8  24.4  23.6   24.0  282176       23.90  23.90   \n",
       "...                ...   ...   ...   ...    ...     ...         ...    ...   \n",
       "2022-09-22  2022-09-22  27.7  28.0  27.1   27.3  270168       27.50  27.50   \n",
       "2022-10-10  2022-10-10  27.2  27.5  27.2   27.4   58183       27.30  27.30   \n",
       "2022-10-11  2022-10-11  27.1  27.4  27.1   27.4   68032       27.25  27.25   \n",
       "2022-10-12  2022-10-12  27.6  28.0  27.2   27.3  165944       27.45  27.45   \n",
       "2022-10-19  2022-10-19  27.3  27.9  27.2   27.7   30606       27.50  27.50   \n",
       "\n",
       "                trend  pct_change  Reverse   Trend_10  Reverse_trend  \\\n",
       "date                                                                   \n",
       "2021-04-11  23.750740    0.004196    26.10  26.361044      23.397580   \n",
       "2021-04-12  23.783818    0.001393    26.10  26.325461      23.439563   \n",
       "2021-04-19  24.015365    0.001379    26.40  26.822210      23.780577   \n",
       "2021-04-20  24.048443    0.001377    26.45  27.093397      23.860409   \n",
       "2021-04-21  24.081521    0.001375    27.70  27.390530      23.931467   \n",
       "...               ...         ...      ...        ...            ...   \n",
       "2022-09-22  28.283788    0.000664    24.80  24.485380      27.588858   \n",
       "2022-10-10  28.621598    0.002630    24.30  24.372575      27.438747   \n",
       "2022-10-11  28.640365    0.000656    24.45  24.385849      27.451751   \n",
       "2022-10-12  28.659133    0.000655    24.60  24.401365      27.465759   \n",
       "2022-10-19  28.790503    0.000652    24.45  24.485021      27.550699   \n",
       "\n",
       "            pct_change7  \n",
       "date                     \n",
       "2021-04-11     0.000940  \n",
       "2021-04-12     0.001794  \n",
       "2021-04-19     0.003928  \n",
       "2021-04-20     0.003357  \n",
       "2021-04-21     0.002978  \n",
       "...                 ...  \n",
       "2022-09-22     0.000474  \n",
       "2022-10-10     0.000134  \n",
       "2022-10-11     0.000474  \n",
       "2022-10-12     0.000510  \n",
       "2022-10-19     0.000677  \n",
       "\n",
       "[76 rows x 14 columns]"
      ]
     },
     "execution_count": 9,
     "metadata": {},
     "output_type": "execute_result"
    }
   ],
   "source": [
    "Sell=df[(df['pct_change']>=0)&(df.Reverse_trend>df.trend)&(df['Reverse_trend']<=df['Adjustment'])&(df.pct_change7<0)]\n",
    "Buy=df[(df['pct_change']>=0)&(df.Reverse_trend<df.trend)&(df['Reverse_trend']>=df['Adjustment'])&(df.pct_change7>=0)]\n",
    "Buy"
   ]
  },
  {
   "cell_type": "code",
   "execution_count": 10,
   "id": "21050cd3",
   "metadata": {},
   "outputs": [
    {
     "data": {
      "text/plain": [
       "2020"
      ]
     },
     "execution_count": 10,
     "metadata": {},
     "output_type": "execute_result"
    }
   ],
   "source": [
    "pd.to_datetime(start).year"
   ]
  },
  {
   "cell_type": "code",
   "execution_count": 11,
   "id": "1d501661",
   "metadata": {},
   "outputs": [
    {
     "data": {
      "text/plain": [
       "<matplotlib.collections.PathCollection at 0x1f749a27eb8>"
      ]
     },
     "execution_count": 11,
     "metadata": {},
     "output_type": "execute_result"
    },
    {
     "data": {
      "image/png": "[encoded data removed]",
      "text/plain": [
       "<Figure size 720x288 with 1 Axes>"
      ]
     },
     "metadata": {},
     "output_type": "display_data"
    }
   ],
   "source": [
    "plt.figure(figsize=(10,4))\n",
    "plt.plot(np.array(df.index),df['Adjustment'].values,alpha=0.3)\n",
    "for year in range(pd.to_datetime(start).year,pd.to_datetime(end).year):\n",
    "    plt.axvline(pd.to_datetime(str(year)+'-12-31'), color='k', linestyle='--', alpha=0.5)\n",
    "    \n",
    "plt.scatter(np.array(Buy.index),Buy['Adjustment'].values, color='g', marker='D')\n",
    "plt.scatter(np.array(Sell.index),Sell['Adjustment'].values, color='R', marker='D')"
   ]
  },
  {
   "cell_type": "code",
   "execution_count": 15,
   "id": "06234a74",
   "metadata": {},
   "outputs": [
    {
     "data": {
      "image/png": "[encoded data removed]",
      "text/plain": [
       "<Figure size 1080x720 with 1 Axes>"
      ]
     },
     "metadata": {},
     "output_type": "display_data"
    }
   ],
   "source": [
    "#create figure\n",
    "x='2020-9-16'\n",
    "y='2022-10-19'\n",
    "plt.figure(figsize=(15,10))\n",
    "df1=df.sort_index().loc[x:y]\n",
    "Buy1=Buy.sort_index().loc[x:y]\n",
    "Sell1=Sell.sort_index().loc[x:y]\n",
    "\n",
    "#define width of candlestick elements\n",
    "width = 3\n",
    "width2 = 0.1\n",
    "\n",
    "#define up and down prices\n",
    "up = df1[df1.close>=df1.open]\n",
    "down = df1[df1.close<df1.open]\n",
    "\n",
    "#define colors to use\n",
    "col1 = 'green'\n",
    "col2 = 'red'\n",
    "\n",
    "#plot up prices\n",
    "plt.bar(up.index,up.close-up.open,width,bottom=up.open,color=col1,alpha=0.5)\n",
    "plt.bar(up.index,up.high-up.close,width2,bottom=up.close,color=col1,alpha=0.5)\n",
    "plt.bar(up.index,up.low-up.open,width2,bottom=up.open,color=col1,alpha=0.5)\n",
    "\n",
    "#plot down priceo\n",
    "plt.bar(down.index,down.close-down.open,width,bottom=down.open,color=col2,alpha=0.5)\n",
    "plt.bar(down.index,down.high-down.close,width2,bottom=down.close,color=col2,alpha=0.5)\n",
    "plt.bar(down.index,down.low-down.open,width2,bottom=down.open,color=col2,alpha=0.5)\n",
    "\n",
    "#\n",
    "plt.plot(np.array(df1.index),df1.trend.values,label='Estimation')\n",
    "#plt.plot(np.array(df1.index),df1.Adjustment.values,label='Adjusted',color='y')\n",
    "plt.axhline(27.45, color='k', linestyle='--',label='Buy Pricr')\n",
    "\n",
    "plt.plot(np.array(df1.index),df1.Reverse_trend.values,label='Short')\n",
    "\n",
    "#rotate x-axis tick labels\n",
    "plt.xticks(rotation=45, ha='right')\n",
    "plt.scatter(np.array(Buy1.index),Buy1['Adjustment'].values, color='purple', marker='^',s=250)\n",
    "plt.scatter(np.array(Sell1.index),Sell1['Adjustment'].values, color='c', marker='v',s=250)\n",
    "#display candlestick chart\n",
    "\n",
    "plt.title(t)\n",
    "plt.xlabel('Dates')\n",
    "plt.ylabel('Price $')\n",
    "plt.legend(fontsize=16)\n",
    "plt.show()"
   ]
  },
  {
   "cell_type": "code",
   "execution_count": null,
   "id": "d7ac400e",
   "metadata": {},
   "outputs": [],
   "source": []
  },
  {
   "cell_type": "code",
   "execution_count": null,
   "id": "b41b2afd",
   "metadata": {},
   "outputs": [],
   "source": []
  }
 ],
 "metadata": {
  "kernelspec": {
   "display_name": "Python 3 (ipykernel)",
   "language": "python",
   "name": "python3"
  },
  "language_info": {
   "codemirror_mode": {
    "name": "ipython",
    "version": 3
   },
   "file_extension": ".py",
   "mimetype": "text/x-python",
   "name": "python",
   "nbconvert_exporter": "python",
   "pygments_lexer": "ipython3",
   "version": "3.7.3"
  }
 },
 "nbformat": 4,
 "nbformat_minor": 5
}

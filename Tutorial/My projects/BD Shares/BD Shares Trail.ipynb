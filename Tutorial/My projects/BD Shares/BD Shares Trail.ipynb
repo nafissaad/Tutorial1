{
 "cells": [
  {
   "cell_type": "code",
   "execution_count": 1,
   "id": "e430a822",
   "metadata": {},
   "outputs": [],
   "source": [
    "#impoer the liberies\n",
    "import warnings\n",
    "import numpy as np\n",
    "import pandas as pd\n",
    "import matplotlib.pyplot as plt\n",
    "from statsmodels.tsa.seasonal import STL\n",
    "from bdshare import get_basic_hist_data\n",
    "plt.style .use('fivethirtyeight')\n",
    "import pandas_datareader.data as reader\n",
    "import datetime as dt\n",
    "from prophet import Prophet"
   ]
  },
  {
   "cell_type": "code",
   "execution_count": 2,
   "id": "4f7c066c",
   "metadata": {},
   "outputs": [],
   "source": [
    "Top30=pd.DataFrame(pd.read_html('https://www.dsebd.org/dse30_share.php')[375])\n",
    "List=Top30['TRADING CODE'].to_list()"
   ]
  },
  {
   "cell_type": "code",
   "execution_count": 3,
   "id": "956c8567",
   "metadata": {},
   "outputs": [
    {
     "name": "stdout",
     "output_type": "stream",
     "text": [
      "BATBC\n"
     ]
    },
    {
     "name": "stderr",
     "output_type": "stream",
     "text": [
      "17:26:43 - cmdstanpy - INFO - Chain [1] start processing\n",
      "17:26:43 - cmdstanpy - INFO - Chain [1] done processing\n"
     ]
    },
    {
     "name": "stdout",
     "output_type": "stream",
     "text": [
      "Finish\n",
      "BBSCABLES\n"
     ]
    },
    {
     "name": "stderr",
     "output_type": "stream",
     "text": [
      "17:26:48 - cmdstanpy - INFO - Chain [1] start processing\n",
      "17:26:48 - cmdstanpy - INFO - Chain [1] done processing\n"
     ]
    },
    {
     "name": "stdout",
     "output_type": "stream",
     "text": [
      "Finish\n",
      "BEACONPHAR\n"
     ]
    },
    {
     "name": "stderr",
     "output_type": "stream",
     "text": [
      "17:26:52 - cmdstanpy - INFO - Chain [1] start processing\n",
      "17:26:52 - cmdstanpy - INFO - Chain [1] done processing\n"
     ]
    },
    {
     "name": "stdout",
     "output_type": "stream",
     "text": [
      "Finish\n",
      "BEXIMCO\n"
     ]
    },
    {
     "name": "stderr",
     "output_type": "stream",
     "text": [
      "17:26:57 - cmdstanpy - INFO - Chain [1] start processing\n",
      "17:26:57 - cmdstanpy - INFO - Chain [1] done processing\n"
     ]
    },
    {
     "name": "stdout",
     "output_type": "stream",
     "text": [
      "Finish\n",
      "BRACBANK\n"
     ]
    },
    {
     "name": "stderr",
     "output_type": "stream",
     "text": [
      "17:27:01 - cmdstanpy - INFO - Chain [1] start processing\n",
      "17:27:01 - cmdstanpy - INFO - Chain [1] done processing\n"
     ]
    },
    {
     "name": "stdout",
     "output_type": "stream",
     "text": [
      "Finish\n",
      "BSCCL\n"
     ]
    },
    {
     "name": "stderr",
     "output_type": "stream",
     "text": [
      "17:27:06 - cmdstanpy - INFO - Chain [1] start processing\n",
      "17:27:06 - cmdstanpy - INFO - Chain [1] done processing\n"
     ]
    },
    {
     "name": "stdout",
     "output_type": "stream",
     "text": [
      "Finish\n",
      "BSRMLTD\n"
     ]
    },
    {
     "name": "stderr",
     "output_type": "stream",
     "text": [
      "17:27:10 - cmdstanpy - INFO - Chain [1] start processing\n",
      "17:27:10 - cmdstanpy - INFO - Chain [1] done processing\n"
     ]
    },
    {
     "name": "stdout",
     "output_type": "stream",
     "text": [
      "Finish\n",
      "BXPHARMA\n"
     ]
    },
    {
     "name": "stderr",
     "output_type": "stream",
     "text": [
      "17:27:14 - cmdstanpy - INFO - Chain [1] start processing\n",
      "17:27:15 - cmdstanpy - INFO - Chain [1] done processing\n"
     ]
    },
    {
     "name": "stdout",
     "output_type": "stream",
     "text": [
      "Finish\n",
      "CITYBANK\n"
     ]
    },
    {
     "name": "stderr",
     "output_type": "stream",
     "text": [
      "17:27:19 - cmdstanpy - INFO - Chain [1] start processing\n",
      "17:27:19 - cmdstanpy - INFO - Chain [1] done processing\n"
     ]
    },
    {
     "name": "stdout",
     "output_type": "stream",
     "text": [
      "Finish\n",
      "DELTALIFE\n"
     ]
    },
    {
     "name": "stderr",
     "output_type": "stream",
     "text": [
      "17:27:24 - cmdstanpy - INFO - Chain [1] start processing\n",
      "17:27:25 - cmdstanpy - INFO - Chain [1] done processing\n"
     ]
    },
    {
     "name": "stdout",
     "output_type": "stream",
     "text": [
      "Finish\n",
      "EBL\n"
     ]
    },
    {
     "name": "stderr",
     "output_type": "stream",
     "text": [
      "17:27:29 - cmdstanpy - INFO - Chain [1] start processing\n",
      "17:27:29 - cmdstanpy - INFO - Chain [1] done processing\n"
     ]
    },
    {
     "name": "stdout",
     "output_type": "stream",
     "text": [
      "Finish\n",
      "FORTUNE\n"
     ]
    },
    {
     "name": "stderr",
     "output_type": "stream",
     "text": [
      "17:27:33 - cmdstanpy - INFO - Chain [1] start processing\n",
      "17:27:33 - cmdstanpy - INFO - Chain [1] done processing\n"
     ]
    },
    {
     "name": "stdout",
     "output_type": "stream",
     "text": [
      "Finish\n",
      "GP\n"
     ]
    },
    {
     "name": "stderr",
     "output_type": "stream",
     "text": [
      "17:27:38 - cmdstanpy - INFO - Chain [1] start processing\n",
      "17:27:38 - cmdstanpy - INFO - Chain [1] done processing\n"
     ]
    },
    {
     "name": "stdout",
     "output_type": "stream",
     "text": [
      "Finish\n",
      "GPHISPAT\n"
     ]
    },
    {
     "name": "stderr",
     "output_type": "stream",
     "text": [
      "17:27:43 - cmdstanpy - INFO - Chain [1] start processing\n",
      "17:27:43 - cmdstanpy - INFO - Chain [1] done processing\n"
     ]
    },
    {
     "name": "stdout",
     "output_type": "stream",
     "text": [
      "Finish\n",
      "IDLC\n"
     ]
    },
    {
     "name": "stderr",
     "output_type": "stream",
     "text": [
      "17:27:48 - cmdstanpy - INFO - Chain [1] start processing\n",
      "17:27:48 - cmdstanpy - INFO - Chain [1] done processing\n"
     ]
    },
    {
     "name": "stdout",
     "output_type": "stream",
     "text": [
      "Finish\n",
      "ISLAMIBANK\n"
     ]
    },
    {
     "name": "stderr",
     "output_type": "stream",
     "text": [
      "17:27:52 - cmdstanpy - INFO - Chain [1] start processing\n",
      "17:27:52 - cmdstanpy - INFO - Chain [1] done processing\n"
     ]
    },
    {
     "name": "stdout",
     "output_type": "stream",
     "text": [
      "Finish\n",
      "LANKABAFIN\n"
     ]
    },
    {
     "name": "stderr",
     "output_type": "stream",
     "text": [
      "17:27:56 - cmdstanpy - INFO - Chain [1] start processing\n",
      "17:27:57 - cmdstanpy - INFO - Chain [1] done processing\n"
     ]
    },
    {
     "name": "stdout",
     "output_type": "stream",
     "text": [
      "Finish\n",
      "LHBL\n"
     ]
    },
    {
     "name": "stderr",
     "output_type": "stream",
     "text": [
      "17:28:01 - cmdstanpy - INFO - Chain [1] start processing\n",
      "17:28:01 - cmdstanpy - INFO - Chain [1] done processing\n"
     ]
    },
    {
     "name": "stdout",
     "output_type": "stream",
     "text": [
      "Finish\n",
      "MPETROLEUM\n"
     ]
    },
    {
     "name": "stderr",
     "output_type": "stream",
     "text": [
      "17:28:05 - cmdstanpy - INFO - Chain [1] start processing\n",
      "17:28:05 - cmdstanpy - INFO - Chain [1] done processing\n"
     ]
    },
    {
     "name": "stdout",
     "output_type": "stream",
     "text": [
      "Finish\n",
      "OLYMPIC\n"
     ]
    },
    {
     "name": "stderr",
     "output_type": "stream",
     "text": [
      "17:28:10 - cmdstanpy - INFO - Chain [1] start processing\n",
      "17:28:10 - cmdstanpy - INFO - Chain [1] done processing\n"
     ]
    },
    {
     "name": "stdout",
     "output_type": "stream",
     "text": [
      "Finish\n",
      "ORIONPHARM\n"
     ]
    },
    {
     "name": "stderr",
     "output_type": "stream",
     "text": [
      "17:28:14 - cmdstanpy - INFO - Chain [1] start processing\n",
      "17:28:14 - cmdstanpy - INFO - Chain [1] done processing\n"
     ]
    },
    {
     "name": "stdout",
     "output_type": "stream",
     "text": [
      "Finish\n",
      "POWERGRID\n"
     ]
    },
    {
     "name": "stderr",
     "output_type": "stream",
     "text": [
      "17:28:20 - cmdstanpy - INFO - Chain [1] start processing\n",
      "17:28:20 - cmdstanpy - INFO - Chain [1] done processing\n"
     ]
    },
    {
     "name": "stdout",
     "output_type": "stream",
     "text": [
      "Finish\n",
      "PUBALIBANK\n"
     ]
    },
    {
     "name": "stderr",
     "output_type": "stream",
     "text": [
      "17:28:25 - cmdstanpy - INFO - Chain [1] start processing\n",
      "17:28:25 - cmdstanpy - INFO - Chain [1] done processing\n"
     ]
    },
    {
     "name": "stdout",
     "output_type": "stream",
     "text": [
      "Finish\n",
      "RENATA\n"
     ]
    },
    {
     "name": "stderr",
     "output_type": "stream",
     "text": [
      "17:28:30 - cmdstanpy - INFO - Chain [1] start processing\n",
      "17:28:30 - cmdstanpy - INFO - Chain [1] done processing\n"
     ]
    },
    {
     "name": "stdout",
     "output_type": "stream",
     "text": [
      "Finish\n",
      "ROBI\n"
     ]
    },
    {
     "name": "stderr",
     "output_type": "stream",
     "text": [
      "17:28:35 - cmdstanpy - INFO - Chain [1] start processing\n",
      "17:28:35 - cmdstanpy - INFO - Chain [1] done processing\n"
     ]
    },
    {
     "name": "stdout",
     "output_type": "stream",
     "text": [
      "Finish\n",
      "SINGERBD\n"
     ]
    },
    {
     "name": "stderr",
     "output_type": "stream",
     "text": [
      "17:28:39 - cmdstanpy - INFO - Chain [1] start processing\n",
      "17:28:39 - cmdstanpy - INFO - Chain [1] done processing\n"
     ]
    },
    {
     "name": "stdout",
     "output_type": "stream",
     "text": [
      "Finish\n",
      "SQURPHARMA\n"
     ]
    },
    {
     "name": "stderr",
     "output_type": "stream",
     "text": [
      "17:28:43 - cmdstanpy - INFO - Chain [1] start processing\n",
      "17:28:43 - cmdstanpy - INFO - Chain [1] done processing\n"
     ]
    },
    {
     "name": "stdout",
     "output_type": "stream",
     "text": [
      "Finish\n",
      "SUMITPOWER\n"
     ]
    },
    {
     "name": "stderr",
     "output_type": "stream",
     "text": [
      "17:28:48 - cmdstanpy - INFO - Chain [1] start processing\n",
      "17:28:48 - cmdstanpy - INFO - Chain [1] done processing\n"
     ]
    },
    {
     "name": "stdout",
     "output_type": "stream",
     "text": [
      "Finish\n",
      "TITASGAS\n"
     ]
    },
    {
     "name": "stderr",
     "output_type": "stream",
     "text": [
      "17:28:52 - cmdstanpy - INFO - Chain [1] start processing\n",
      "17:28:53 - cmdstanpy - INFO - Chain [1] done processing\n"
     ]
    },
    {
     "name": "stdout",
     "output_type": "stream",
     "text": [
      "Finish\n",
      "UPGDCL\n"
     ]
    },
    {
     "name": "stderr",
     "output_type": "stream",
     "text": [
      "17:28:58 - cmdstanpy - INFO - Chain [1] start processing\n",
      "17:28:58 - cmdstanpy - INFO - Chain [1] done processing\n"
     ]
    },
    {
     "name": "stdout",
     "output_type": "stream",
     "text": [
      "Finish\n"
     ]
    }
   ],
   "source": [
    "trend_analysis=[]\n",
    "tickers=[]\n",
    "for ticker in Top30['TRADING CODE'].values:\n",
    "    print(ticker)\n",
    "    df=get_basic_hist_data('2020-01-1','2022-10-18',ticker,index='date')\n",
    "    df=df[~(df.open<=0)]\n",
    "    df['Adjustment']=(df['open']+df['close'])/2\n",
    "    df=df.reset_index()\n",
    "    model=Prophet()\n",
    "    df[['ds','y']]=df[['date','Adjustment']]\n",
    "    #df[['open','close','Adjustment']][0:10].plot()\n",
    "    model.fit(df)\n",
    "    future=model.make_future_dataframe(periods=0)\n",
    "    forecast=model.predict(future)\n",
    "    forecast.set_index(['ds'],inplace=True)\n",
    "    forecast[df.columns]=df[df.columns]\n",
    "    forecast['pct_change']=forecast.trend.pct_change()\n",
    "    tickers.append(ticker)\n",
    "    trend_analysis.append(forecast.trend.pct_change()[-1:][0])\n",
    "    print('Finish')"
   ]
  },
  {
   "cell_type": "code",
   "execution_count": 4,
   "id": "e946667e",
   "metadata": {},
   "outputs": [
    {
     "data": {
      "text/html": [
       "<div>\n",
       "<style scoped>\n",
       "    .dataframe tbody tr th:only-of-type {\n",
       "        vertical-align: middle;\n",
       "    }\n",
       "\n",
       "    .dataframe tbody tr th {\n",
       "        vertical-align: top;\n",
       "    }\n",
       "\n",
       "    .dataframe thead th {\n",
       "        text-align: right;\n",
       "    }\n",
       "</style>\n",
       "<table border=\"1\" class=\"dataframe\">\n",
       "  <thead>\n",
       "    <tr style=\"text-align: right;\">\n",
       "      <th></th>\n",
       "      <th>Tickers</th>\n",
       "      <th>Last_trend</th>\n",
       "    </tr>\n",
       "  </thead>\n",
       "  <tbody>\n",
       "    <tr>\n",
       "      <th>0</th>\n",
       "      <td>BATBC</td>\n",
       "      <td>-0.001177</td>\n",
       "    </tr>\n",
       "    <tr>\n",
       "      <th>1</th>\n",
       "      <td>BBSCABLES</td>\n",
       "      <td>-0.002659</td>\n",
       "    </tr>\n",
       "    <tr>\n",
       "      <th>2</th>\n",
       "      <td>BEACONPHAR</td>\n",
       "      <td>0.000412</td>\n",
       "    </tr>\n",
       "    <tr>\n",
       "      <th>3</th>\n",
       "      <td>BEXIMCO</td>\n",
       "      <td>-0.001000</td>\n",
       "    </tr>\n",
       "    <tr>\n",
       "      <th>4</th>\n",
       "      <td>BRACBANK</td>\n",
       "      <td>-0.000202</td>\n",
       "    </tr>\n",
       "    <tr>\n",
       "      <th>5</th>\n",
       "      <td>BSCCL</td>\n",
       "      <td>-0.000263</td>\n",
       "    </tr>\n",
       "    <tr>\n",
       "      <th>6</th>\n",
       "      <td>BSRMLTD</td>\n",
       "      <td>-0.002839</td>\n",
       "    </tr>\n",
       "    <tr>\n",
       "      <th>7</th>\n",
       "      <td>BXPHARMA</td>\n",
       "      <td>-0.001187</td>\n",
       "    </tr>\n",
       "    <tr>\n",
       "      <th>8</th>\n",
       "      <td>CITYBANK</td>\n",
       "      <td>-0.001656</td>\n",
       "    </tr>\n",
       "    <tr>\n",
       "      <th>9</th>\n",
       "      <td>DELTALIFE</td>\n",
       "      <td>-0.001454</td>\n",
       "    </tr>\n",
       "    <tr>\n",
       "      <th>10</th>\n",
       "      <td>EBL</td>\n",
       "      <td>-0.000906</td>\n",
       "    </tr>\n",
       "    <tr>\n",
       "      <th>11</th>\n",
       "      <td>FORTUNE</td>\n",
       "      <td>-0.004858</td>\n",
       "    </tr>\n",
       "    <tr>\n",
       "      <th>12</th>\n",
       "      <td>GP</td>\n",
       "      <td>-0.001455</td>\n",
       "    </tr>\n",
       "    <tr>\n",
       "      <th>13</th>\n",
       "      <td>GPHISPAT</td>\n",
       "      <td>-0.003941</td>\n",
       "    </tr>\n",
       "    <tr>\n",
       "      <th>14</th>\n",
       "      <td>IDLC</td>\n",
       "      <td>-0.002925</td>\n",
       "    </tr>\n",
       "    <tr>\n",
       "      <th>15</th>\n",
       "      <td>ISLAMIBANK</td>\n",
       "      <td>0.000130</td>\n",
       "    </tr>\n",
       "    <tr>\n",
       "      <th>16</th>\n",
       "      <td>LANKABAFIN</td>\n",
       "      <td>-0.002981</td>\n",
       "    </tr>\n",
       "    <tr>\n",
       "      <th>17</th>\n",
       "      <td>LHBL</td>\n",
       "      <td>-0.002074</td>\n",
       "    </tr>\n",
       "    <tr>\n",
       "      <th>18</th>\n",
       "      <td>MPETROLEUM</td>\n",
       "      <td>-0.000547</td>\n",
       "    </tr>\n",
       "    <tr>\n",
       "      <th>19</th>\n",
       "      <td>OLYMPIC</td>\n",
       "      <td>-0.001954</td>\n",
       "    </tr>\n",
       "    <tr>\n",
       "      <th>20</th>\n",
       "      <td>ORIONPHARM</td>\n",
       "      <td>0.000742</td>\n",
       "    </tr>\n",
       "    <tr>\n",
       "      <th>21</th>\n",
       "      <td>POWERGRID</td>\n",
       "      <td>-0.001939</td>\n",
       "    </tr>\n",
       "    <tr>\n",
       "      <th>22</th>\n",
       "      <td>PUBALIBANK</td>\n",
       "      <td>0.000674</td>\n",
       "    </tr>\n",
       "    <tr>\n",
       "      <th>23</th>\n",
       "      <td>RENATA</td>\n",
       "      <td>-0.000565</td>\n",
       "    </tr>\n",
       "    <tr>\n",
       "      <th>24</th>\n",
       "      <td>ROBI</td>\n",
       "      <td>-0.001100</td>\n",
       "    </tr>\n",
       "    <tr>\n",
       "      <th>25</th>\n",
       "      <td>SINGERBD</td>\n",
       "      <td>-0.001342</td>\n",
       "    </tr>\n",
       "    <tr>\n",
       "      <th>26</th>\n",
       "      <td>SQURPHARMA</td>\n",
       "      <td>-0.001431</td>\n",
       "    </tr>\n",
       "    <tr>\n",
       "      <th>27</th>\n",
       "      <td>SUMITPOWER</td>\n",
       "      <td>-0.002044</td>\n",
       "    </tr>\n",
       "    <tr>\n",
       "      <th>28</th>\n",
       "      <td>TITASGAS</td>\n",
       "      <td>-0.000702</td>\n",
       "    </tr>\n",
       "    <tr>\n",
       "      <th>29</th>\n",
       "      <td>UPGDCL</td>\n",
       "      <td>-0.001544</td>\n",
       "    </tr>\n",
       "  </tbody>\n",
       "</table>\n",
       "</div>"
      ],
      "text/plain": [
       "       Tickers  Last_trend\n",
       "0        BATBC   -0.001177\n",
       "1    BBSCABLES   -0.002659\n",
       "2   BEACONPHAR    0.000412\n",
       "3      BEXIMCO   -0.001000\n",
       "4     BRACBANK   -0.000202\n",
       "5        BSCCL   -0.000263\n",
       "6      BSRMLTD   -0.002839\n",
       "7     BXPHARMA   -0.001187\n",
       "8     CITYBANK   -0.001656\n",
       "9    DELTALIFE   -0.001454\n",
       "10         EBL   -0.000906\n",
       "11     FORTUNE   -0.004858\n",
       "12          GP   -0.001455\n",
       "13    GPHISPAT   -0.003941\n",
       "14        IDLC   -0.002925\n",
       "15  ISLAMIBANK    0.000130\n",
       "16  LANKABAFIN   -0.002981\n",
       "17        LHBL   -0.002074\n",
       "18  MPETROLEUM   -0.000547\n",
       "19     OLYMPIC   -0.001954\n",
       "20  ORIONPHARM    0.000742\n",
       "21   POWERGRID   -0.001939\n",
       "22  PUBALIBANK    0.000674\n",
       "23      RENATA   -0.000565\n",
       "24        ROBI   -0.001100\n",
       "25    SINGERBD   -0.001342\n",
       "26  SQURPHARMA   -0.001431\n",
       "27  SUMITPOWER   -0.002044\n",
       "28    TITASGAS   -0.000702\n",
       "29      UPGDCL   -0.001544"
      ]
     },
     "execution_count": 4,
     "metadata": {},
     "output_type": "execute_result"
    }
   ],
   "source": [
    "trend_analysis=pd.DataFrame({'Tickers':tickers,'Last_trend':trend_analysis})\n",
    "trend_analysis"
   ]
  },
  {
   "cell_type": "code",
   "execution_count": 5,
   "id": "05f111d9",
   "metadata": {},
   "outputs": [
    {
     "data": {
      "text/html": [
       "<div>\n",
       "<style scoped>\n",
       "    .dataframe tbody tr th:only-of-type {\n",
       "        vertical-align: middle;\n",
       "    }\n",
       "\n",
       "    .dataframe tbody tr th {\n",
       "        vertical-align: top;\n",
       "    }\n",
       "\n",
       "    .dataframe thead th {\n",
       "        text-align: right;\n",
       "    }\n",
       "</style>\n",
       "<table border=\"1\" class=\"dataframe\">\n",
       "  <thead>\n",
       "    <tr style=\"text-align: right;\">\n",
       "      <th></th>\n",
       "      <th>Tickers</th>\n",
       "      <th>Last_trend</th>\n",
       "    </tr>\n",
       "  </thead>\n",
       "  <tbody>\n",
       "    <tr>\n",
       "      <th>20</th>\n",
       "      <td>ORIONPHARM</td>\n",
       "      <td>0.000742</td>\n",
       "    </tr>\n",
       "    <tr>\n",
       "      <th>22</th>\n",
       "      <td>PUBALIBANK</td>\n",
       "      <td>0.000674</td>\n",
       "    </tr>\n",
       "    <tr>\n",
       "      <th>2</th>\n",
       "      <td>BEACONPHAR</td>\n",
       "      <td>0.000412</td>\n",
       "    </tr>\n",
       "    <tr>\n",
       "      <th>15</th>\n",
       "      <td>ISLAMIBANK</td>\n",
       "      <td>0.000130</td>\n",
       "    </tr>\n",
       "    <tr>\n",
       "      <th>4</th>\n",
       "      <td>BRACBANK</td>\n",
       "      <td>-0.000202</td>\n",
       "    </tr>\n",
       "    <tr>\n",
       "      <th>5</th>\n",
       "      <td>BSCCL</td>\n",
       "      <td>-0.000263</td>\n",
       "    </tr>\n",
       "    <tr>\n",
       "      <th>18</th>\n",
       "      <td>MPETROLEUM</td>\n",
       "      <td>-0.000547</td>\n",
       "    </tr>\n",
       "    <tr>\n",
       "      <th>23</th>\n",
       "      <td>RENATA</td>\n",
       "      <td>-0.000565</td>\n",
       "    </tr>\n",
       "    <tr>\n",
       "      <th>28</th>\n",
       "      <td>TITASGAS</td>\n",
       "      <td>-0.000702</td>\n",
       "    </tr>\n",
       "    <tr>\n",
       "      <th>10</th>\n",
       "      <td>EBL</td>\n",
       "      <td>-0.000906</td>\n",
       "    </tr>\n",
       "    <tr>\n",
       "      <th>3</th>\n",
       "      <td>BEXIMCO</td>\n",
       "      <td>-0.001000</td>\n",
       "    </tr>\n",
       "    <tr>\n",
       "      <th>24</th>\n",
       "      <td>ROBI</td>\n",
       "      <td>-0.001100</td>\n",
       "    </tr>\n",
       "    <tr>\n",
       "      <th>0</th>\n",
       "      <td>BATBC</td>\n",
       "      <td>-0.001177</td>\n",
       "    </tr>\n",
       "    <tr>\n",
       "      <th>7</th>\n",
       "      <td>BXPHARMA</td>\n",
       "      <td>-0.001187</td>\n",
       "    </tr>\n",
       "    <tr>\n",
       "      <th>25</th>\n",
       "      <td>SINGERBD</td>\n",
       "      <td>-0.001342</td>\n",
       "    </tr>\n",
       "    <tr>\n",
       "      <th>26</th>\n",
       "      <td>SQURPHARMA</td>\n",
       "      <td>-0.001431</td>\n",
       "    </tr>\n",
       "    <tr>\n",
       "      <th>9</th>\n",
       "      <td>DELTALIFE</td>\n",
       "      <td>-0.001454</td>\n",
       "    </tr>\n",
       "    <tr>\n",
       "      <th>12</th>\n",
       "      <td>GP</td>\n",
       "      <td>-0.001455</td>\n",
       "    </tr>\n",
       "    <tr>\n",
       "      <th>29</th>\n",
       "      <td>UPGDCL</td>\n",
       "      <td>-0.001544</td>\n",
       "    </tr>\n",
       "    <tr>\n",
       "      <th>8</th>\n",
       "      <td>CITYBANK</td>\n",
       "      <td>-0.001656</td>\n",
       "    </tr>\n",
       "    <tr>\n",
       "      <th>21</th>\n",
       "      <td>POWERGRID</td>\n",
       "      <td>-0.001939</td>\n",
       "    </tr>\n",
       "    <tr>\n",
       "      <th>19</th>\n",
       "      <td>OLYMPIC</td>\n",
       "      <td>-0.001954</td>\n",
       "    </tr>\n",
       "    <tr>\n",
       "      <th>27</th>\n",
       "      <td>SUMITPOWER</td>\n",
       "      <td>-0.002044</td>\n",
       "    </tr>\n",
       "    <tr>\n",
       "      <th>17</th>\n",
       "      <td>LHBL</td>\n",
       "      <td>-0.002074</td>\n",
       "    </tr>\n",
       "    <tr>\n",
       "      <th>1</th>\n",
       "      <td>BBSCABLES</td>\n",
       "      <td>-0.002659</td>\n",
       "    </tr>\n",
       "    <tr>\n",
       "      <th>6</th>\n",
       "      <td>BSRMLTD</td>\n",
       "      <td>-0.002839</td>\n",
       "    </tr>\n",
       "    <tr>\n",
       "      <th>14</th>\n",
       "      <td>IDLC</td>\n",
       "      <td>-0.002925</td>\n",
       "    </tr>\n",
       "    <tr>\n",
       "      <th>16</th>\n",
       "      <td>LANKABAFIN</td>\n",
       "      <td>-0.002981</td>\n",
       "    </tr>\n",
       "    <tr>\n",
       "      <th>13</th>\n",
       "      <td>GPHISPAT</td>\n",
       "      <td>-0.003941</td>\n",
       "    </tr>\n",
       "  </tbody>\n",
       "</table>\n",
       "</div>"
      ],
      "text/plain": [
       "       Tickers  Last_trend\n",
       "20  ORIONPHARM    0.000742\n",
       "22  PUBALIBANK    0.000674\n",
       "2   BEACONPHAR    0.000412\n",
       "15  ISLAMIBANK    0.000130\n",
       "4     BRACBANK   -0.000202\n",
       "5        BSCCL   -0.000263\n",
       "18  MPETROLEUM   -0.000547\n",
       "23      RENATA   -0.000565\n",
       "28    TITASGAS   -0.000702\n",
       "10         EBL   -0.000906\n",
       "3      BEXIMCO   -0.001000\n",
       "24        ROBI   -0.001100\n",
       "0        BATBC   -0.001177\n",
       "7     BXPHARMA   -0.001187\n",
       "25    SINGERBD   -0.001342\n",
       "26  SQURPHARMA   -0.001431\n",
       "9    DELTALIFE   -0.001454\n",
       "12          GP   -0.001455\n",
       "29      UPGDCL   -0.001544\n",
       "8     CITYBANK   -0.001656\n",
       "21   POWERGRID   -0.001939\n",
       "19     OLYMPIC   -0.001954\n",
       "27  SUMITPOWER   -0.002044\n",
       "17        LHBL   -0.002074\n",
       "1    BBSCABLES   -0.002659\n",
       "6      BSRMLTD   -0.002839\n",
       "14        IDLC   -0.002925\n",
       "16  LANKABAFIN   -0.002981\n",
       "13    GPHISPAT   -0.003941"
      ]
     },
     "execution_count": 5,
     "metadata": {},
     "output_type": "execute_result"
    }
   ],
   "source": [
    "trend_analysis.sort_values(by=['Last_trend'],ascending=False)[0:29]"
   ]
  },
  {
   "cell_type": "code",
   "execution_count": 6,
   "id": "348909c1",
   "metadata": {
    "scrolled": true
   },
   "outputs": [
    {
     "name": "stderr",
     "output_type": "stream",
     "text": [
      "17:29:03 - cmdstanpy - INFO - Chain [1] start processing\n",
      "17:29:03 - cmdstanpy - INFO - Chain [1] done processing\n"
     ]
    }
   ],
   "source": [
    "t='PUBALIBANK'#'*BRACBANK'#'*PUBALIBANK'#'ORIONPHARM'\n",
    "df=get_basic_hist_data('2020-01-1','2022-10-18',t,index='date')\n",
    "df=df[~(df.open<=0)]\n",
    "df['Adjustment']=(df['open']+df['close'])/2\n",
    "df=df.reset_index()\n",
    "model=Prophet()\n",
    "df[['ds','y']]=df[['date','Adjustment']]\n",
    "#df[['open','close','Adjustment']][0:10].plot()\n",
    "model.fit(df)\n",
    "future=model.make_future_dataframe(periods=0)\n",
    "forecast=model.predict(future)\n",
    "df['trend']=forecast['trend']\n",
    "df.set_index(['ds'],inplace=True)\n",
    "df['pct_change']=df.trend.pct_change()"
   ]
  },
  {
   "cell_type": "code",
   "execution_count": 7,
   "id": "2ff26899",
   "metadata": {
    "scrolled": true
   },
   "outputs": [
    {
     "data": {
      "text/html": [
       "<div>\n",
       "<style scoped>\n",
       "    .dataframe tbody tr th:only-of-type {\n",
       "        vertical-align: middle;\n",
       "    }\n",
       "\n",
       "    .dataframe tbody tr th {\n",
       "        vertical-align: top;\n",
       "    }\n",
       "\n",
       "    .dataframe thead th {\n",
       "        text-align: right;\n",
       "    }\n",
       "</style>\n",
       "<table border=\"1\" class=\"dataframe\">\n",
       "  <thead>\n",
       "    <tr style=\"text-align: right;\">\n",
       "      <th></th>\n",
       "      <th>ds</th>\n",
       "      <th>open</th>\n",
       "      <th>high</th>\n",
       "      <th>low</th>\n",
       "      <th>close</th>\n",
       "      <th>volume</th>\n",
       "      <th>Adjustment</th>\n",
       "      <th>y</th>\n",
       "      <th>trend</th>\n",
       "      <th>pct_change</th>\n",
       "      <th>Reverse</th>\n",
       "      <th>Trend_10</th>\n",
       "      <th>Reverse_trend</th>\n",
       "      <th>pct_change7</th>\n",
       "    </tr>\n",
       "    <tr>\n",
       "      <th>date</th>\n",
       "      <th></th>\n",
       "      <th></th>\n",
       "      <th></th>\n",
       "      <th></th>\n",
       "      <th></th>\n",
       "      <th></th>\n",
       "      <th></th>\n",
       "      <th></th>\n",
       "      <th></th>\n",
       "      <th></th>\n",
       "      <th></th>\n",
       "      <th></th>\n",
       "      <th></th>\n",
       "      <th></th>\n",
       "    </tr>\n",
       "  </thead>\n",
       "  <tbody>\n",
       "    <tr>\n",
       "      <th>2020-10-18</th>\n",
       "      <td>2020-10-18</td>\n",
       "      <td>24.3</td>\n",
       "      <td>24.6</td>\n",
       "      <td>24.3</td>\n",
       "      <td>24.4</td>\n",
       "      <td>72008</td>\n",
       "      <td>24.35</td>\n",
       "      <td>24.35</td>\n",
       "      <td>24.102474</td>\n",
       "      <td>NaN</td>\n",
       "      <td>27.65</td>\n",
       "      <td>27.501950</td>\n",
       "      <td>24.460357</td>\n",
       "      <td>NaN</td>\n",
       "    </tr>\n",
       "    <tr>\n",
       "      <th>2020-10-19</th>\n",
       "      <td>2020-10-19</td>\n",
       "      <td>24.4</td>\n",
       "      <td>24.6</td>\n",
       "      <td>24.4</td>\n",
       "      <td>24.5</td>\n",
       "      <td>23826</td>\n",
       "      <td>24.45</td>\n",
       "      <td>24.45</td>\n",
       "      <td>24.095387</td>\n",
       "      <td>-0.000294</td>\n",
       "      <td>27.70</td>\n",
       "      <td>27.490014</td>\n",
       "      <td>24.450403</td>\n",
       "      <td>-0.000407</td>\n",
       "    </tr>\n",
       "    <tr>\n",
       "      <th>2020-10-20</th>\n",
       "      <td>2020-10-20</td>\n",
       "      <td>24.2</td>\n",
       "      <td>24.6</td>\n",
       "      <td>24.2</td>\n",
       "      <td>24.5</td>\n",
       "      <td>49810</td>\n",
       "      <td>24.35</td>\n",
       "      <td>24.35</td>\n",
       "      <td>24.088301</td>\n",
       "      <td>-0.000294</td>\n",
       "      <td>27.55</td>\n",
       "      <td>27.478876</td>\n",
       "      <td>24.440023</td>\n",
       "      <td>-0.000425</td>\n",
       "    </tr>\n",
       "    <tr>\n",
       "      <th>2020-10-21</th>\n",
       "      <td>2020-10-21</td>\n",
       "      <td>24.5</td>\n",
       "      <td>24.6</td>\n",
       "      <td>24.4</td>\n",
       "      <td>24.5</td>\n",
       "      <td>207905</td>\n",
       "      <td>24.50</td>\n",
       "      <td>24.50</td>\n",
       "      <td>24.081214</td>\n",
       "      <td>-0.000294</td>\n",
       "      <td>27.50</td>\n",
       "      <td>27.468680</td>\n",
       "      <td>24.429269</td>\n",
       "      <td>-0.000440</td>\n",
       "    </tr>\n",
       "    <tr>\n",
       "      <th>2020-10-22</th>\n",
       "      <td>2020-10-22</td>\n",
       "      <td>24.3</td>\n",
       "      <td>24.5</td>\n",
       "      <td>24.3</td>\n",
       "      <td>24.4</td>\n",
       "      <td>139359</td>\n",
       "      <td>24.35</td>\n",
       "      <td>24.35</td>\n",
       "      <td>24.074127</td>\n",
       "      <td>-0.000294</td>\n",
       "      <td>27.45</td>\n",
       "      <td>27.459505</td>\n",
       "      <td>24.418137</td>\n",
       "      <td>-0.000456</td>\n",
       "    </tr>\n",
       "    <tr>\n",
       "      <th>...</th>\n",
       "      <td>...</td>\n",
       "      <td>...</td>\n",
       "      <td>...</td>\n",
       "      <td>...</td>\n",
       "      <td>...</td>\n",
       "      <td>...</td>\n",
       "      <td>...</td>\n",
       "      <td>...</td>\n",
       "      <td>...</td>\n",
       "      <td>...</td>\n",
       "      <td>...</td>\n",
       "      <td>...</td>\n",
       "      <td>...</td>\n",
       "      <td>...</td>\n",
       "    </tr>\n",
       "    <tr>\n",
       "      <th>2022-10-12</th>\n",
       "      <td>2022-10-12</td>\n",
       "      <td>27.6</td>\n",
       "      <td>28.0</td>\n",
       "      <td>27.2</td>\n",
       "      <td>27.3</td>\n",
       "      <td>165944</td>\n",
       "      <td>27.45</td>\n",
       "      <td>27.45</td>\n",
       "      <td>28.722335</td>\n",
       "      <td>0.000677</td>\n",
       "      <td>24.35</td>\n",
       "      <td>24.418137</td>\n",
       "      <td>27.459505</td>\n",
       "      <td>0.000300</td>\n",
       "    </tr>\n",
       "    <tr>\n",
       "      <th>2022-10-13</th>\n",
       "      <td>2022-10-13</td>\n",
       "      <td>27.2</td>\n",
       "      <td>27.9</td>\n",
       "      <td>27.2</td>\n",
       "      <td>27.8</td>\n",
       "      <td>86186</td>\n",
       "      <td>27.50</td>\n",
       "      <td>27.50</td>\n",
       "      <td>28.741772</td>\n",
       "      <td>0.000677</td>\n",
       "      <td>24.50</td>\n",
       "      <td>24.429269</td>\n",
       "      <td>27.468680</td>\n",
       "      <td>0.000334</td>\n",
       "    </tr>\n",
       "    <tr>\n",
       "      <th>2022-10-16</th>\n",
       "      <td>2022-10-16</td>\n",
       "      <td>27.4</td>\n",
       "      <td>27.9</td>\n",
       "      <td>27.4</td>\n",
       "      <td>27.7</td>\n",
       "      <td>53242</td>\n",
       "      <td>27.55</td>\n",
       "      <td>27.55</td>\n",
       "      <td>28.800081</td>\n",
       "      <td>0.002029</td>\n",
       "      <td>24.35</td>\n",
       "      <td>24.440023</td>\n",
       "      <td>27.478876</td>\n",
       "      <td>0.000371</td>\n",
       "    </tr>\n",
       "    <tr>\n",
       "      <th>2022-10-17</th>\n",
       "      <td>2022-10-17</td>\n",
       "      <td>27.7</td>\n",
       "      <td>28.0</td>\n",
       "      <td>27.4</td>\n",
       "      <td>27.7</td>\n",
       "      <td>85915</td>\n",
       "      <td>27.70</td>\n",
       "      <td>27.70</td>\n",
       "      <td>28.819517</td>\n",
       "      <td>0.000675</td>\n",
       "      <td>24.45</td>\n",
       "      <td>24.450403</td>\n",
       "      <td>27.490014</td>\n",
       "      <td>0.000405</td>\n",
       "    </tr>\n",
       "    <tr>\n",
       "      <th>2022-10-18</th>\n",
       "      <td>2022-10-18</td>\n",
       "      <td>27.6</td>\n",
       "      <td>28.0</td>\n",
       "      <td>27.4</td>\n",
       "      <td>27.7</td>\n",
       "      <td>83296</td>\n",
       "      <td>27.65</td>\n",
       "      <td>27.65</td>\n",
       "      <td>28.838953</td>\n",
       "      <td>0.000674</td>\n",
       "      <td>24.35</td>\n",
       "      <td>24.460357</td>\n",
       "      <td>27.501950</td>\n",
       "      <td>0.000434</td>\n",
       "    </tr>\n",
       "  </tbody>\n",
       "</table>\n",
       "<p>483 rows × 14 columns</p>\n",
       "</div>"
      ],
      "text/plain": [
       "                    ds  open  high   low  close  volume  Adjustment      y  \\\n",
       "date                                                                         \n",
       "2020-10-18  2020-10-18  24.3  24.6  24.3   24.4   72008       24.35  24.35   \n",
       "2020-10-19  2020-10-19  24.4  24.6  24.4   24.5   23826       24.45  24.45   \n",
       "2020-10-20  2020-10-20  24.2  24.6  24.2   24.5   49810       24.35  24.35   \n",
       "2020-10-21  2020-10-21  24.5  24.6  24.4   24.5  207905       24.50  24.50   \n",
       "2020-10-22  2020-10-22  24.3  24.5  24.3   24.4  139359       24.35  24.35   \n",
       "...                ...   ...   ...   ...    ...     ...         ...    ...   \n",
       "2022-10-12  2022-10-12  27.6  28.0  27.2   27.3  165944       27.45  27.45   \n",
       "2022-10-13  2022-10-13  27.2  27.9  27.2   27.8   86186       27.50  27.50   \n",
       "2022-10-16  2022-10-16  27.4  27.9  27.4   27.7   53242       27.55  27.55   \n",
       "2022-10-17  2022-10-17  27.7  28.0  27.4   27.7   85915       27.70  27.70   \n",
       "2022-10-18  2022-10-18  27.6  28.0  27.4   27.7   83296       27.65  27.65   \n",
       "\n",
       "                trend  pct_change  Reverse   Trend_10  Reverse_trend  \\\n",
       "date                                                                   \n",
       "2020-10-18  24.102474         NaN    27.65  27.501950      24.460357   \n",
       "2020-10-19  24.095387   -0.000294    27.70  27.490014      24.450403   \n",
       "2020-10-20  24.088301   -0.000294    27.55  27.478876      24.440023   \n",
       "2020-10-21  24.081214   -0.000294    27.50  27.468680      24.429269   \n",
       "2020-10-22  24.074127   -0.000294    27.45  27.459505      24.418137   \n",
       "...               ...         ...      ...        ...            ...   \n",
       "2022-10-12  28.722335    0.000677    24.35  24.418137      27.459505   \n",
       "2022-10-13  28.741772    0.000677    24.50  24.429269      27.468680   \n",
       "2022-10-16  28.800081    0.002029    24.35  24.440023      27.478876   \n",
       "2022-10-17  28.819517    0.000675    24.45  24.450403      27.490014   \n",
       "2022-10-18  28.838953    0.000674    24.35  24.460357      27.501950   \n",
       "\n",
       "            pct_change7  \n",
       "date                     \n",
       "2020-10-18          NaN  \n",
       "2020-10-19    -0.000407  \n",
       "2020-10-20    -0.000425  \n",
       "2020-10-21    -0.000440  \n",
       "2020-10-22    -0.000456  \n",
       "...                 ...  \n",
       "2022-10-12     0.000300  \n",
       "2022-10-13     0.000334  \n",
       "2022-10-16     0.000371  \n",
       "2022-10-17     0.000405  \n",
       "2022-10-18     0.000434  \n",
       "\n",
       "[483 rows x 14 columns]"
      ]
     },
     "execution_count": 7,
     "metadata": {},
     "output_type": "execute_result"
    }
   ],
   "source": [
    "df.reset_index(inplace=True)\n",
    "df['Reverse']=df[['Adjustment']].iloc[::-1].values\n",
    "df.set_index(['date'],inplace=True)\n",
    "stl_10=STL(df['Reverse'],period=7)\n",
    "Result_10= stl_10.fit()\n",
    "trend_10=Result_10.trend\n",
    "df['Trend_10']=trend_10\n",
    "df.reset_index(inplace=True)\n",
    "df['Reverse_trend']=df[['Trend_10']].iloc[::-1].values\n",
    "df.set_index(['date'],inplace=True)\n",
    "df['pct_change7']=df.Reverse_trend.pct_change()\n",
    "date=pd.to_datetime(df.index)\n",
    "df.set_index(date, inplace=True)\n",
    "df.asfreq('D')\n",
    "df"
   ]
  },
  {
   "cell_type": "code",
   "execution_count": 8,
   "id": "3072882c",
   "metadata": {},
   "outputs": [
    {
     "data": {
      "text/plain": [
       "<matplotlib.axes._subplots.AxesSubplot at 0x1cdef1d2278>"
      ]
     },
     "execution_count": 8,
     "metadata": {},
     "output_type": "execute_result"
    },
    {
     "data": {
      "image/png": "[encoded data removed]",
      "text/plain": [
       "<Figure size 432x288 with 1 Axes>"
      ]
     },
     "metadata": {},
     "output_type": "display_data"
    },
    {
     "data": {
      "image/png": "[encoded data removed]",
      "text/plain": [
       "<Figure size 432x288 with 1 Axes>"
      ]
     },
     "metadata": {},
     "output_type": "display_data"
    }
   ],
   "source": [
    "plt.scatter(x=df.index,y=df['Adjustment'],s=4,label='Adj Close')\n",
    "df[['trend','Reverse_trend']].plot()"
   ]
  },
  {
   "cell_type": "code",
   "execution_count": 9,
   "id": "c531f719",
   "metadata": {
    "scrolled": false
   },
   "outputs": [],
   "source": [
    "Sell=df[(df['pct_change']>=0)&(df.Reverse_trend>df.trend)&(df['Reverse_trend']<=df['Adjustment'])&(df.pct_change7<0)]\n",
    "Buy=df[(df['pct_change']>=0)&(df.Reverse_trend<df.trend)&(df['Reverse_trend']>=df['Adjustment'])&(df.pct_change7>=0)]"
   ]
  },
  {
   "cell_type": "code",
   "execution_count": 10,
   "id": "1d501661",
   "metadata": {},
   "outputs": [
    {
     "data": {
      "text/plain": [
       "<matplotlib.collections.PathCollection at 0x1cdeb11ed68>"
      ]
     },
     "execution_count": 10,
     "metadata": {},
     "output_type": "execute_result"
    },
    {
     "data": {
      "image/png": "[encoded data removed]",
      "text/plain": [
       "<Figure size 720x288 with 1 Axes>"
      ]
     },
     "metadata": {},
     "output_type": "display_data"
    }
   ],
   "source": [
    "plt.figure(figsize=(10,4))\n",
    "plt.plot(np.array(df.index),df['Adjustment'].values,alpha=0.3)\n",
    "for year in range(2020,2022):\n",
    "    plt.axvline(pd.to_datetime(str(year)+'-12-31'), color='k', linestyle='--', alpha=0.5)\n",
    "    \n",
    "plt.scatter(np.array(Buy.index),Buy['Adjustment'].values, color='g', marker='D')\n",
    "plt.scatter(np.array(Sell.index),Sell['Adjustment'].values, color='R', marker='D')"
   ]
  },
  {
   "cell_type": "code",
   "execution_count": 11,
   "id": "06234a74",
   "metadata": {},
   "outputs": [
    {
     "data": {
      "image/png": "[encoded data removed]",
      "text/plain": [
       "<Figure size 1080x720 with 1 Axes>"
      ]
     },
     "metadata": {},
     "output_type": "display_data"
    }
   ],
   "source": [
    "#create figure\n",
    "x='2022-9-16'\n",
    "y='2022-10-16'\n",
    "plt.figure(figsize=(15,10))\n",
    "df1=df.sort_index().loc[x:y]\n",
    "Buy1=Buy.sort_index().loc[x:y]\n",
    "Sell1=Sell.sort_index().loc[x:y]\n",
    "\n",
    "#define width of candlestick elements\n",
    "width = 3\n",
    "width2 = 0.1\n",
    "\n",
    "#define up and down prices\n",
    "up = df1[df1.close>=df1.open]\n",
    "down = df1[df1.close<df1.open]\n",
    "\n",
    "#define colors to use\n",
    "col1 = 'green'\n",
    "col2 = 'red'\n",
    "\n",
    "#plot up prices\n",
    "plt.bar(up.index,up.close-up.open,width,bottom=up.open,color=col1,alpha=0.5)\n",
    "plt.bar(up.index,up.high-up.close,width2,bottom=up.close,color=col1,alpha=0.5)\n",
    "plt.bar(up.index,up.low-up.open,width2,bottom=up.open,color=col1,alpha=0.5)\n",
    "\n",
    "#plot down priceo\n",
    "plt.bar(down.index,down.close-down.open,width,bottom=down.open,color=col2,alpha=0.5)\n",
    "plt.bar(down.index,down.high-down.close,width2,bottom=down.close,color=col2,alpha=0.5)\n",
    "plt.bar(down.index,down.low-down.open,width2,bottom=down.open,color=col2,alpha=0.5)\n",
    "\n",
    "#\n",
    "plt.plot(np.array(df1.index),df1.trend.values,label='trend')\n",
    "#plt.plot(np.array(df1.index),df1.Adjustment.values,label='Adjusted',color='y')\n",
    "plt.plot(np.array(df1.index),df1.Reverse_trend.values,label='trend_14')\n",
    "\n",
    "#rotate x-axis tick labels\n",
    "plt.xticks(rotation=45, ha='right')\n",
    "plt.scatter(np.array(Buy1.index),Buy1['Adjustment'].values, color='purple', marker='^',s=250)\n",
    "plt.scatter(np.array(Sell1.index),Sell1['Adjustment'].values, color='c', marker='v',s=250)\n",
    "#display candlestick chart\n",
    "plt.title(t)\n",
    "plt.xlabel('Dates')\n",
    "plt.ylabel('Price $')\n",
    "plt.legend(fontsize=16)\n",
    "plt.show()"
   ]
  },
  {
   "cell_type": "code",
   "execution_count": null,
   "id": "d7ac400e",
   "metadata": {},
   "outputs": [],
   "source": []
  }
 ],
 "metadata": {
  "kernelspec": {
   "display_name": "Python 3 (ipykernel)",
   "language": "python",
   "name": "python3"
  },
  "language_info": {
   "codemirror_mode": {
    "name": "ipython",
    "version": 3
   },
   "file_extension": ".py",
   "mimetype": "text/x-python",
   "name": "python",
   "nbconvert_exporter": "python",
   "pygments_lexer": "ipython3",
   "version": "3.7.3"
  }
 },
 "nbformat": 4,
 "nbformat_minor": 5
}

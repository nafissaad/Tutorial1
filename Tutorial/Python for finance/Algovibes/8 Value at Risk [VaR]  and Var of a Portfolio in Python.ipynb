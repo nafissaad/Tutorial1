{
 "cells": [
  {
   "cell_type": "code",
   "execution_count": 1,
   "id": "e81e33a1",
   "metadata": {},
   "outputs": [],
   "source": [
    "import scipy.stats\n",
    "import numpy as np"
   ]
  },
  {
   "cell_type": "code",
   "execution_count": 2,
   "id": "dd773726",
   "metadata": {},
   "outputs": [
    {
     "data": {
      "text/plain": [
       "1.6448536269514722"
      ]
     },
     "execution_count": 2,
     "metadata": {},
     "output_type": "execute_result"
    }
   ],
   "source": [
    "scipy.stats.norm.ppf(0.95)#95% Quantile,Probability of 95"
   ]
  },
  {
   "cell_type": "code",
   "execution_count": 3,
   "id": "8096c237",
   "metadata": {},
   "outputs": [],
   "source": [
    "def var(Position,sigma,Quantile):#Sigma Daily Volatility \n",
    "    return Position*sigma*scipy.stats.norm.ppf(Quantile)"
   ]
  },
  {
   "cell_type": "code",
   "execution_count": 4,
   "id": "a4788b87",
   "metadata": {},
   "outputs": [
    {
     "data": {
      "text/plain": [
       "82.24268134757361"
      ]
     },
     "execution_count": 4,
     "metadata": {},
     "output_type": "execute_result"
    }
   ],
   "source": [
    "var(1000,0.05,0.95)#Vale at risk of the portfolio"
   ]
  },
  {
   "cell_type": "code",
   "execution_count": 5,
   "id": "a77e1186",
   "metadata": {},
   "outputs": [],
   "source": [
    "#porfolio Variance=w_1^2*Sigma_1^2 + w_2^2*Sigma_2^2 +2*(w_1*w_2*sigma_1*sigma_2*corr) formula\n",
    "w1=0.5#weight of the stock in portfolio list\n",
    "w2=0.5#weight of the stock in portfolio list\n",
    "sigma1=0.07#daily volatility\n",
    "sigma2=0.03\n",
    "corr=0.4#Correlation coefficient Those assets"
   ]
  },
  {
   "cell_type": "code",
   "execution_count": 6,
   "id": "ac0faabc",
   "metadata": {},
   "outputs": [],
   "source": [
    "porfolio_variance=w1**2*sigma1**2+w2**2*sigma2**2+2*(w1*w2*sigma1*sigma2*corr)"
   ]
  },
  {
   "cell_type": "code",
   "execution_count": 7,
   "id": "d19deb45",
   "metadata": {},
   "outputs": [],
   "source": [
    "porfolio_volatility=porfolio_variance**(1/2)#square root"
   ]
  },
  {
   "cell_type": "code",
   "execution_count": 8,
   "id": "76296cb8",
   "metadata": {},
   "outputs": [
    {
     "data": {
      "text/plain": [
       "0.043243496620879306"
      ]
     },
     "execution_count": 8,
     "metadata": {},
     "output_type": "execute_result"
    }
   ],
   "source": [
    "porfolio_volatility"
   ]
  },
  {
   "cell_type": "code",
   "execution_count": 9,
   "id": "20e1f1ce",
   "metadata": {},
   "outputs": [
    {
     "data": {
      "text/plain": [
       "71.12922225891705"
      ]
     },
     "execution_count": 9,
     "metadata": {},
     "output_type": "execute_result"
    }
   ],
   "source": [
    "var(1000,porfolio_volatility,0.95)#1000 value of the portfolio and 95% confident"
   ]
  },
  {
   "cell_type": "code",
   "execution_count": 10,
   "id": "d1b51c93",
   "metadata": {},
   "outputs": [],
   "source": [
    "VaR1=var(1000*w1,sigma1,0.95)\n",
    "VaR2=var(1000*w2,sigma2,0.95)"
   ]
  },
  {
   "cell_type": "code",
   "execution_count": 11,
   "id": "1c09fe8d",
   "metadata": {},
   "outputs": [
    {
     "data": {
      "text/plain": [
       "array([57.56987694, 24.6728044 ])"
      ]
     },
     "execution_count": 11,
     "metadata": {},
     "output_type": "execute_result"
    }
   ],
   "source": [
    "vector=np.array([VaR1,VaR2])\n",
    "vector"
   ]
  },
  {
   "cell_type": "code",
   "execution_count": 12,
   "id": "dba7d985",
   "metadata": {},
   "outputs": [
    {
     "data": {
      "text/plain": [
       "array([[1. , 0.4],\n",
       "       [0.4, 1. ]])"
      ]
     },
     "execution_count": 12,
     "metadata": {},
     "output_type": "execute_result"
    }
   ],
   "source": [
    "corrmatrix=np.array([[1,corr],[corr,1]])\n",
    "corrmatrix"
   ]
  },
  {
   "cell_type": "code",
   "execution_count": 13,
   "id": "ee1d0635",
   "metadata": {},
   "outputs": [
    {
     "data": {
      "text/plain": [
       "71.12922225891707"
      ]
     },
     "execution_count": 13,
     "metadata": {},
     "output_type": "execute_result"
    }
   ],
   "source": [
    "(np.dot(np.dot(vector,corrmatrix),vector))**(1/2)"
   ]
  },
  {
   "cell_type": "code",
   "execution_count": 14,
   "id": "bb750bf5",
   "metadata": {},
   "outputs": [],
   "source": [
    "import pandas_datareader.data as reader\n",
    "import datetime as dt"
   ]
  },
  {
   "cell_type": "code",
   "execution_count": 15,
   "id": "f50f4e7b",
   "metadata": {},
   "outputs": [],
   "source": [
    "end=dt.datetime.now()\n",
    "start=dt.datetime(end.year-1,end.month,end.day)"
   ]
  },
  {
   "cell_type": "code",
   "execution_count": 16,
   "id": "a3a9d5ae",
   "metadata": {},
   "outputs": [
    {
     "data": {
      "text/html": [
       "<div>\n",
       "<style scoped>\n",
       "    .dataframe tbody tr th:only-of-type {\n",
       "        vertical-align: middle;\n",
       "    }\n",
       "\n",
       "    .dataframe tbody tr th {\n",
       "        vertical-align: top;\n",
       "    }\n",
       "\n",
       "    .dataframe thead th {\n",
       "        text-align: right;\n",
       "    }\n",
       "</style>\n",
       "<table border=\"1\" class=\"dataframe\">\n",
       "  <thead>\n",
       "    <tr style=\"text-align: right;\">\n",
       "      <th>Symbols</th>\n",
       "      <th>AAPL</th>\n",
       "      <th>MSFT</th>\n",
       "      <th>TSLA</th>\n",
       "    </tr>\n",
       "    <tr>\n",
       "      <th>Date</th>\n",
       "      <th></th>\n",
       "      <th></th>\n",
       "      <th></th>\n",
       "    </tr>\n",
       "  </thead>\n",
       "  <tbody>\n",
       "    <tr>\n",
       "      <th>2021-08-18</th>\n",
       "      <td>145.544434</td>\n",
       "      <td>288.315369</td>\n",
       "      <td>688.989990</td>\n",
       "    </tr>\n",
       "    <tr>\n",
       "      <th>2021-08-19</th>\n",
       "      <td>145.882538</td>\n",
       "      <td>294.305176</td>\n",
       "      <td>673.469971</td>\n",
       "    </tr>\n",
       "    <tr>\n",
       "      <th>2021-08-20</th>\n",
       "      <td>147.364243</td>\n",
       "      <td>301.832092</td>\n",
       "      <td>680.260010</td>\n",
       "    </tr>\n",
       "    <tr>\n",
       "      <th>2021-08-23</th>\n",
       "      <td>148.875763</td>\n",
       "      <td>302.119690</td>\n",
       "      <td>706.299988</td>\n",
       "    </tr>\n",
       "    <tr>\n",
       "      <th>2021-08-24</th>\n",
       "      <td>148.786270</td>\n",
       "      <td>300.106598</td>\n",
       "      <td>708.489990</td>\n",
       "    </tr>\n",
       "    <tr>\n",
       "      <th>...</th>\n",
       "      <td>...</td>\n",
       "      <td>...</td>\n",
       "      <td>...</td>\n",
       "    </tr>\n",
       "    <tr>\n",
       "      <th>2022-08-12</th>\n",
       "      <td>172.100006</td>\n",
       "      <td>291.291718</td>\n",
       "      <td>900.090027</td>\n",
       "    </tr>\n",
       "    <tr>\n",
       "      <th>2022-08-15</th>\n",
       "      <td>173.190002</td>\n",
       "      <td>292.848389</td>\n",
       "      <td>927.960022</td>\n",
       "    </tr>\n",
       "    <tr>\n",
       "      <th>2022-08-16</th>\n",
       "      <td>173.029999</td>\n",
       "      <td>292.089996</td>\n",
       "      <td>919.690002</td>\n",
       "    </tr>\n",
       "    <tr>\n",
       "      <th>2022-08-17</th>\n",
       "      <td>174.550003</td>\n",
       "      <td>291.320007</td>\n",
       "      <td>911.989990</td>\n",
       "    </tr>\n",
       "    <tr>\n",
       "      <th>2022-08-18</th>\n",
       "      <td>174.149994</td>\n",
       "      <td>290.170013</td>\n",
       "      <td>908.609985</td>\n",
       "    </tr>\n",
       "  </tbody>\n",
       "</table>\n",
       "<p>253 rows × 3 columns</p>\n",
       "</div>"
      ],
      "text/plain": [
       "Symbols           AAPL        MSFT        TSLA\n",
       "Date                                          \n",
       "2021-08-18  145.544434  288.315369  688.989990\n",
       "2021-08-19  145.882538  294.305176  673.469971\n",
       "2021-08-20  147.364243  301.832092  680.260010\n",
       "2021-08-23  148.875763  302.119690  706.299988\n",
       "2021-08-24  148.786270  300.106598  708.489990\n",
       "...                ...         ...         ...\n",
       "2022-08-12  172.100006  291.291718  900.090027\n",
       "2022-08-15  173.190002  292.848389  927.960022\n",
       "2022-08-16  173.029999  292.089996  919.690002\n",
       "2022-08-17  174.550003  291.320007  911.989990\n",
       "2022-08-18  174.149994  290.170013  908.609985\n",
       "\n",
       "[253 rows x 3 columns]"
      ]
     },
     "execution_count": 16,
     "metadata": {},
     "output_type": "execute_result"
    }
   ],
   "source": [
    "df=reader.get_data_yahoo(['AAPL','MSFT','TSLA'],start,end)['Adj Close']\n",
    "df"
   ]
  },
  {
   "cell_type": "code",
   "execution_count": 17,
   "id": "01c2720a",
   "metadata": {},
   "outputs": [
    {
     "data": {
      "text/html": [
       "<div>\n",
       "<style scoped>\n",
       "    .dataframe tbody tr th:only-of-type {\n",
       "        vertical-align: middle;\n",
       "    }\n",
       "\n",
       "    .dataframe tbody tr th {\n",
       "        vertical-align: top;\n",
       "    }\n",
       "\n",
       "    .dataframe thead th {\n",
       "        text-align: right;\n",
       "    }\n",
       "</style>\n",
       "<table border=\"1\" class=\"dataframe\">\n",
       "  <thead>\n",
       "    <tr style=\"text-align: right;\">\n",
       "      <th>Symbols</th>\n",
       "      <th>AAPL</th>\n",
       "      <th>MSFT</th>\n",
       "      <th>TSLA</th>\n",
       "    </tr>\n",
       "    <tr>\n",
       "      <th>Date</th>\n",
       "      <th></th>\n",
       "      <th></th>\n",
       "      <th></th>\n",
       "    </tr>\n",
       "  </thead>\n",
       "  <tbody>\n",
       "    <tr>\n",
       "      <th>2021-08-18</th>\n",
       "      <td>NaN</td>\n",
       "      <td>NaN</td>\n",
       "      <td>NaN</td>\n",
       "    </tr>\n",
       "    <tr>\n",
       "      <th>2021-08-19</th>\n",
       "      <td>0.002320</td>\n",
       "      <td>0.020562</td>\n",
       "      <td>-0.022783</td>\n",
       "    </tr>\n",
       "    <tr>\n",
       "      <th>2021-08-20</th>\n",
       "      <td>0.010106</td>\n",
       "      <td>0.025254</td>\n",
       "      <td>0.010032</td>\n",
       "    </tr>\n",
       "    <tr>\n",
       "      <th>2021-08-23</th>\n",
       "      <td>0.010205</td>\n",
       "      <td>0.000952</td>\n",
       "      <td>0.037565</td>\n",
       "    </tr>\n",
       "    <tr>\n",
       "      <th>2021-08-24</th>\n",
       "      <td>-0.000601</td>\n",
       "      <td>-0.006686</td>\n",
       "      <td>0.003096</td>\n",
       "    </tr>\n",
       "    <tr>\n",
       "      <th>...</th>\n",
       "      <td>...</td>\n",
       "      <td>...</td>\n",
       "      <td>...</td>\n",
       "    </tr>\n",
       "    <tr>\n",
       "      <th>2022-08-12</th>\n",
       "      <td>0.021199</td>\n",
       "      <td>0.016894</td>\n",
       "      <td>0.045690</td>\n",
       "    </tr>\n",
       "    <tr>\n",
       "      <th>2022-08-15</th>\n",
       "      <td>0.006314</td>\n",
       "      <td>0.005330</td>\n",
       "      <td>0.030494</td>\n",
       "    </tr>\n",
       "    <tr>\n",
       "      <th>2022-08-16</th>\n",
       "      <td>-0.000924</td>\n",
       "      <td>-0.002593</td>\n",
       "      <td>-0.008952</td>\n",
       "    </tr>\n",
       "    <tr>\n",
       "      <th>2022-08-17</th>\n",
       "      <td>0.008746</td>\n",
       "      <td>-0.002640</td>\n",
       "      <td>-0.008408</td>\n",
       "    </tr>\n",
       "    <tr>\n",
       "      <th>2022-08-18</th>\n",
       "      <td>-0.002294</td>\n",
       "      <td>-0.003955</td>\n",
       "      <td>-0.003713</td>\n",
       "    </tr>\n",
       "  </tbody>\n",
       "</table>\n",
       "<p>253 rows × 3 columns</p>\n",
       "</div>"
      ],
      "text/plain": [
       "Symbols         AAPL      MSFT      TSLA\n",
       "Date                                    \n",
       "2021-08-18       NaN       NaN       NaN\n",
       "2021-08-19  0.002320  0.020562 -0.022783\n",
       "2021-08-20  0.010106  0.025254  0.010032\n",
       "2021-08-23  0.010205  0.000952  0.037565\n",
       "2021-08-24 -0.000601 -0.006686  0.003096\n",
       "...              ...       ...       ...\n",
       "2022-08-12  0.021199  0.016894  0.045690\n",
       "2022-08-15  0.006314  0.005330  0.030494\n",
       "2022-08-16 -0.000924 -0.002593 -0.008952\n",
       "2022-08-17  0.008746 -0.002640 -0.008408\n",
       "2022-08-18 -0.002294 -0.003955 -0.003713\n",
       "\n",
       "[253 rows x 3 columns]"
      ]
     },
     "execution_count": 17,
     "metadata": {},
     "output_type": "execute_result"
    }
   ],
   "source": [
    "daily_returns=np.log(1+df.pct_change())\n",
    "daily_returns"
   ]
  },
  {
   "cell_type": "code",
   "execution_count": 18,
   "id": "792c0e7c",
   "metadata": {},
   "outputs": [
    {
     "data": {
      "text/plain": [
       "Date\n",
       "2021-08-19    0.002320\n",
       "2021-08-20    0.010106\n",
       "2021-08-23    0.010205\n",
       "2021-08-24   -0.000601\n",
       "2021-08-25   -0.008457\n",
       "                ...   \n",
       "2022-08-12    0.021199\n",
       "2022-08-15    0.006314\n",
       "2022-08-16   -0.000924\n",
       "2022-08-17    0.008746\n",
       "2022-08-18   -0.002294\n",
       "Name: AAPL, Length: 252, dtype: float64"
      ]
     },
     "execution_count": 18,
     "metadata": {},
     "output_type": "execute_result"
    }
   ],
   "source": [
    "log_return=np.log(df.AAPL/df.AAPL.shift(1)).dropna()\n",
    "log_return"
   ]
  },
  {
   "cell_type": "code",
   "execution_count": 19,
   "id": "738268b2",
   "metadata": {},
   "outputs": [
    {
     "data": {
      "text/plain": [
       "Symbols\n",
       "AAPL    0.019163\n",
       "MSFT    0.019077\n",
       "TSLA    0.040026\n",
       "dtype: float64"
      ]
     },
     "execution_count": 19,
     "metadata": {},
     "output_type": "execute_result"
    }
   ],
   "source": [
    "daily_returns.std()"
   ]
  },
  {
   "cell_type": "code",
   "execution_count": 20,
   "id": "2b64da7a",
   "metadata": {},
   "outputs": [],
   "source": [
    "Position=df.iloc[-1]"
   ]
  },
  {
   "cell_type": "code",
   "execution_count": 21,
   "id": "d59c94ad",
   "metadata": {},
   "outputs": [
    {
     "data": {
      "text/plain": [
       "Symbols\n",
       "AAPL    174.149994\n",
       "MSFT    290.170013\n",
       "TSLA    908.609985\n",
       "Name: 2022-08-18 00:00:00, dtype: float64"
      ]
     },
     "execution_count": 21,
     "metadata": {},
     "output_type": "execute_result"
    }
   ],
   "source": [
    "Position"
   ]
  },
  {
   "cell_type": "code",
   "execution_count": 22,
   "id": "4951f8e4",
   "metadata": {},
   "outputs": [],
   "source": [
    "VaRarray=[]\n",
    "for i in range(len(Position)):\n",
    "    VaRarray.append(var(Position[i],daily_returns.std()[i],0.95))"
   ]
  },
  {
   "cell_type": "code",
   "execution_count": 23,
   "id": "e9852cf2",
   "metadata": {},
   "outputs": [
    {
     "data": {
      "text/plain": [
       "array([ 5.48938116,  9.10498124, 59.82064776])"
      ]
     },
     "execution_count": 23,
     "metadata": {},
     "output_type": "execute_result"
    }
   ],
   "source": [
    "vector=np.array(VaRarray)\n",
    "vector"
   ]
  },
  {
   "cell_type": "code",
   "execution_count": 24,
   "id": "d2cc53d5",
   "metadata": {},
   "outputs": [
    {
     "data": {
      "text/html": [
       "<div>\n",
       "<style scoped>\n",
       "    .dataframe tbody tr th:only-of-type {\n",
       "        vertical-align: middle;\n",
       "    }\n",
       "\n",
       "    .dataframe tbody tr th {\n",
       "        vertical-align: top;\n",
       "    }\n",
       "\n",
       "    .dataframe thead th {\n",
       "        text-align: right;\n",
       "    }\n",
       "</style>\n",
       "<table border=\"1\" class=\"dataframe\">\n",
       "  <thead>\n",
       "    <tr style=\"text-align: right;\">\n",
       "      <th>Symbols</th>\n",
       "      <th>AAPL</th>\n",
       "      <th>MSFT</th>\n",
       "      <th>TSLA</th>\n",
       "    </tr>\n",
       "    <tr>\n",
       "      <th>Symbols</th>\n",
       "      <th></th>\n",
       "      <th></th>\n",
       "      <th></th>\n",
       "    </tr>\n",
       "  </thead>\n",
       "  <tbody>\n",
       "    <tr>\n",
       "      <th>AAPL</th>\n",
       "      <td>1.000000</td>\n",
       "      <td>0.780028</td>\n",
       "      <td>0.644384</td>\n",
       "    </tr>\n",
       "    <tr>\n",
       "      <th>MSFT</th>\n",
       "      <td>0.780028</td>\n",
       "      <td>1.000000</td>\n",
       "      <td>0.578273</td>\n",
       "    </tr>\n",
       "    <tr>\n",
       "      <th>TSLA</th>\n",
       "      <td>0.644384</td>\n",
       "      <td>0.578273</td>\n",
       "      <td>1.000000</td>\n",
       "    </tr>\n",
       "  </tbody>\n",
       "</table>\n",
       "</div>"
      ],
      "text/plain": [
       "Symbols      AAPL      MSFT      TSLA\n",
       "Symbols                              \n",
       "AAPL     1.000000  0.780028  0.644384\n",
       "MSFT     0.780028  1.000000  0.578273\n",
       "TSLA     0.644384  0.578273  1.000000"
      ]
     },
     "execution_count": 24,
     "metadata": {},
     "output_type": "execute_result"
    }
   ],
   "source": [
    "daily_returns.corr()"
   ]
  },
  {
   "cell_type": "code",
   "execution_count": 25,
   "id": "56ffe96b",
   "metadata": {},
   "outputs": [
    {
     "data": {
      "text/plain": [
       "69.44530888018497"
      ]
     },
     "execution_count": 25,
     "metadata": {},
     "output_type": "execute_result"
    }
   ],
   "source": [
    "(np.dot(np.dot(vector,daily_returns.corr()),vector))**(1/2)#bcause Weight^2 volatility^1"
   ]
  },
  {
   "cell_type": "code",
   "execution_count": null,
   "id": "4425e674",
   "metadata": {},
   "outputs": [],
   "source": []
  }
 ],
 "metadata": {
  "kernelspec": {
   "display_name": "Python 3 (ipykernel)",
   "language": "python",
   "name": "python3"
  },
  "language_info": {
   "codemirror_mode": {
    "name": "ipython",
    "version": 3
   },
   "file_extension": ".py",
   "mimetype": "text/x-python",
   "name": "python",
   "nbconvert_exporter": "python",
   "pygments_lexer": "ipython3",
   "version": "3.7.3"
  }
 },
 "nbformat": 4,
 "nbformat_minor": 5
}

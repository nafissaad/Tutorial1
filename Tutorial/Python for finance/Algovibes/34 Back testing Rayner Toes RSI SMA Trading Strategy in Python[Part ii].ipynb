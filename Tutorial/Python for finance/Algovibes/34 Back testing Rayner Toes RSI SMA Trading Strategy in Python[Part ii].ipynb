{
 "cells": [
  {
   "cell_type": "code",
   "execution_count": 1,
   "id": "dc895048",
   "metadata": {},
   "outputs": [],
   "source": [
    "import pandas as pd\n",
    "import yfinance as yf\n",
    "import ta \n",
    "import numpy as np"
   ]
  },
  {
   "cell_type": "code",
   "execution_count": 2,
   "id": "d7c5f087",
   "metadata": {},
   "outputs": [
    {
     "name": "stdout",
     "output_type": "stream",
     "text": [
      "[*********************100%***********************]  1 of 1 completed\n"
     ]
    }
   ],
   "source": [
    "df=yf.download('NFLX',start='2010-01-01')"
   ]
  },
  {
   "cell_type": "code",
   "execution_count": 3,
   "id": "d2ebfd49",
   "metadata": {},
   "outputs": [
    {
     "data": {
      "text/html": [
       "<div>\n",
       "<style scoped>\n",
       "    .dataframe tbody tr th:only-of-type {\n",
       "        vertical-align: middle;\n",
       "    }\n",
       "\n",
       "    .dataframe tbody tr th {\n",
       "        vertical-align: top;\n",
       "    }\n",
       "\n",
       "    .dataframe thead th {\n",
       "        text-align: right;\n",
       "    }\n",
       "</style>\n",
       "<table border=\"1\" class=\"dataframe\">\n",
       "  <thead>\n",
       "    <tr style=\"text-align: right;\">\n",
       "      <th></th>\n",
       "      <th>Open</th>\n",
       "      <th>High</th>\n",
       "      <th>Low</th>\n",
       "      <th>Close</th>\n",
       "      <th>Adj Close</th>\n",
       "      <th>Volume</th>\n",
       "    </tr>\n",
       "    <tr>\n",
       "      <th>Date</th>\n",
       "      <th></th>\n",
       "      <th></th>\n",
       "      <th></th>\n",
       "      <th></th>\n",
       "      <th></th>\n",
       "      <th></th>\n",
       "    </tr>\n",
       "  </thead>\n",
       "  <tbody>\n",
       "    <tr>\n",
       "      <th>2009-12-31</th>\n",
       "      <td>7.947143</td>\n",
       "      <td>8.011429</td>\n",
       "      <td>7.864286</td>\n",
       "      <td>7.870000</td>\n",
       "      <td>7.870000</td>\n",
       "      <td>5291300</td>\n",
       "    </tr>\n",
       "    <tr>\n",
       "      <th>2010-01-04</th>\n",
       "      <td>7.931429</td>\n",
       "      <td>7.961429</td>\n",
       "      <td>7.565714</td>\n",
       "      <td>7.640000</td>\n",
       "      <td>7.640000</td>\n",
       "      <td>17239600</td>\n",
       "    </tr>\n",
       "    <tr>\n",
       "      <th>2010-01-05</th>\n",
       "      <td>7.652857</td>\n",
       "      <td>7.657143</td>\n",
       "      <td>7.258571</td>\n",
       "      <td>7.358571</td>\n",
       "      <td>7.358571</td>\n",
       "      <td>23753100</td>\n",
       "    </tr>\n",
       "    <tr>\n",
       "      <th>2010-01-06</th>\n",
       "      <td>7.361429</td>\n",
       "      <td>7.672857</td>\n",
       "      <td>7.197143</td>\n",
       "      <td>7.617143</td>\n",
       "      <td>7.617143</td>\n",
       "      <td>23290400</td>\n",
       "    </tr>\n",
       "    <tr>\n",
       "      <th>2010-01-07</th>\n",
       "      <td>7.731429</td>\n",
       "      <td>7.757143</td>\n",
       "      <td>7.462857</td>\n",
       "      <td>7.485714</td>\n",
       "      <td>7.485714</td>\n",
       "      <td>9955400</td>\n",
       "    </tr>\n",
       "    <tr>\n",
       "      <th>...</th>\n",
       "      <td>...</td>\n",
       "      <td>...</td>\n",
       "      <td>...</td>\n",
       "      <td>...</td>\n",
       "      <td>...</td>\n",
       "      <td>...</td>\n",
       "    </tr>\n",
       "    <tr>\n",
       "      <th>2022-12-01</th>\n",
       "      <td>303.989990</td>\n",
       "      <td>319.799988</td>\n",
       "      <td>303.029999</td>\n",
       "      <td>316.950012</td>\n",
       "      <td>316.950012</td>\n",
       "      <td>14664900</td>\n",
       "    </tr>\n",
       "    <tr>\n",
       "      <th>2022-12-02</th>\n",
       "      <td>310.489990</td>\n",
       "      <td>321.989990</td>\n",
       "      <td>310.000000</td>\n",
       "      <td>320.410004</td>\n",
       "      <td>320.410004</td>\n",
       "      <td>12683500</td>\n",
       "    </tr>\n",
       "    <tr>\n",
       "      <th>2022-12-05</th>\n",
       "      <td>316.459991</td>\n",
       "      <td>322.769989</td>\n",
       "      <td>310.920013</td>\n",
       "      <td>312.589996</td>\n",
       "      <td>312.589996</td>\n",
       "      <td>8423000</td>\n",
       "    </tr>\n",
       "    <tr>\n",
       "      <th>2022-12-06</th>\n",
       "      <td>311.000000</td>\n",
       "      <td>313.220001</td>\n",
       "      <td>303.130005</td>\n",
       "      <td>305.559998</td>\n",
       "      <td>305.559998</td>\n",
       "      <td>7195400</td>\n",
       "    </tr>\n",
       "    <tr>\n",
       "      <th>2022-12-07</th>\n",
       "      <td>306.500000</td>\n",
       "      <td>309.609985</td>\n",
       "      <td>302.100006</td>\n",
       "      <td>308.420013</td>\n",
       "      <td>308.420013</td>\n",
       "      <td>7816100</td>\n",
       "    </tr>\n",
       "  </tbody>\n",
       "</table>\n",
       "<p>3257 rows × 6 columns</p>\n",
       "</div>"
      ],
      "text/plain": [
       "                  Open        High         Low       Close   Adj Close  \\\n",
       "Date                                                                     \n",
       "2009-12-31    7.947143    8.011429    7.864286    7.870000    7.870000   \n",
       "2010-01-04    7.931429    7.961429    7.565714    7.640000    7.640000   \n",
       "2010-01-05    7.652857    7.657143    7.258571    7.358571    7.358571   \n",
       "2010-01-06    7.361429    7.672857    7.197143    7.617143    7.617143   \n",
       "2010-01-07    7.731429    7.757143    7.462857    7.485714    7.485714   \n",
       "...                ...         ...         ...         ...         ...   \n",
       "2022-12-01  303.989990  319.799988  303.029999  316.950012  316.950012   \n",
       "2022-12-02  310.489990  321.989990  310.000000  320.410004  320.410004   \n",
       "2022-12-05  316.459991  322.769989  310.920013  312.589996  312.589996   \n",
       "2022-12-06  311.000000  313.220001  303.130005  305.559998  305.559998   \n",
       "2022-12-07  306.500000  309.609985  302.100006  308.420013  308.420013   \n",
       "\n",
       "              Volume  \n",
       "Date                  \n",
       "2009-12-31   5291300  \n",
       "2010-01-04  17239600  \n",
       "2010-01-05  23753100  \n",
       "2010-01-06  23290400  \n",
       "2010-01-07   9955400  \n",
       "...              ...  \n",
       "2022-12-01  14664900  \n",
       "2022-12-02  12683500  \n",
       "2022-12-05   8423000  \n",
       "2022-12-06   7195400  \n",
       "2022-12-07   7816100  \n",
       "\n",
       "[3257 rows x 6 columns]"
      ]
     },
     "execution_count": 3,
     "metadata": {},
     "output_type": "execute_result"
    }
   ],
   "source": [
    "df"
   ]
  },
  {
   "cell_type": "code",
   "execution_count": 4,
   "id": "d087b1bf",
   "metadata": {},
   "outputs": [
    {
     "data": {
      "text/html": [
       "<div>\n",
       "<style scoped>\n",
       "    .dataframe tbody tr th:only-of-type {\n",
       "        vertical-align: middle;\n",
       "    }\n",
       "\n",
       "    .dataframe tbody tr th {\n",
       "        vertical-align: top;\n",
       "    }\n",
       "\n",
       "    .dataframe thead th {\n",
       "        text-align: right;\n",
       "    }\n",
       "</style>\n",
       "<table border=\"1\" class=\"dataframe\">\n",
       "  <thead>\n",
       "    <tr style=\"text-align: right;\">\n",
       "      <th></th>\n",
       "      <th>Open</th>\n",
       "      <th>High</th>\n",
       "      <th>Low</th>\n",
       "      <th>Close</th>\n",
       "      <th>Adj Close</th>\n",
       "      <th>Volume</th>\n",
       "      <th>SMA200</th>\n",
       "    </tr>\n",
       "    <tr>\n",
       "      <th>Date</th>\n",
       "      <th></th>\n",
       "      <th></th>\n",
       "      <th></th>\n",
       "      <th></th>\n",
       "      <th></th>\n",
       "      <th></th>\n",
       "      <th></th>\n",
       "    </tr>\n",
       "  </thead>\n",
       "  <tbody>\n",
       "    <tr>\n",
       "      <th>2009-12-31</th>\n",
       "      <td>7.947143</td>\n",
       "      <td>8.011429</td>\n",
       "      <td>7.864286</td>\n",
       "      <td>7.870000</td>\n",
       "      <td>7.870000</td>\n",
       "      <td>5291300</td>\n",
       "      <td>NaN</td>\n",
       "    </tr>\n",
       "    <tr>\n",
       "      <th>2010-01-04</th>\n",
       "      <td>7.931429</td>\n",
       "      <td>7.961429</td>\n",
       "      <td>7.565714</td>\n",
       "      <td>7.640000</td>\n",
       "      <td>7.640000</td>\n",
       "      <td>17239600</td>\n",
       "      <td>NaN</td>\n",
       "    </tr>\n",
       "    <tr>\n",
       "      <th>2010-01-05</th>\n",
       "      <td>7.652857</td>\n",
       "      <td>7.657143</td>\n",
       "      <td>7.258571</td>\n",
       "      <td>7.358571</td>\n",
       "      <td>7.358571</td>\n",
       "      <td>23753100</td>\n",
       "      <td>NaN</td>\n",
       "    </tr>\n",
       "    <tr>\n",
       "      <th>2010-01-06</th>\n",
       "      <td>7.361429</td>\n",
       "      <td>7.672857</td>\n",
       "      <td>7.197143</td>\n",
       "      <td>7.617143</td>\n",
       "      <td>7.617143</td>\n",
       "      <td>23290400</td>\n",
       "      <td>NaN</td>\n",
       "    </tr>\n",
       "    <tr>\n",
       "      <th>2010-01-07</th>\n",
       "      <td>7.731429</td>\n",
       "      <td>7.757143</td>\n",
       "      <td>7.462857</td>\n",
       "      <td>7.485714</td>\n",
       "      <td>7.485714</td>\n",
       "      <td>9955400</td>\n",
       "      <td>NaN</td>\n",
       "    </tr>\n",
       "    <tr>\n",
       "      <th>...</th>\n",
       "      <td>...</td>\n",
       "      <td>...</td>\n",
       "      <td>...</td>\n",
       "      <td>...</td>\n",
       "      <td>...</td>\n",
       "      <td>...</td>\n",
       "      <td>...</td>\n",
       "    </tr>\n",
       "    <tr>\n",
       "      <th>2022-12-01</th>\n",
       "      <td>303.989990</td>\n",
       "      <td>319.799988</td>\n",
       "      <td>303.029999</td>\n",
       "      <td>316.950012</td>\n",
       "      <td>316.950012</td>\n",
       "      <td>14664900</td>\n",
       "      <td>255.694701</td>\n",
       "    </tr>\n",
       "    <tr>\n",
       "      <th>2022-12-02</th>\n",
       "      <td>310.489990</td>\n",
       "      <td>321.989990</td>\n",
       "      <td>310.000000</td>\n",
       "      <td>320.410004</td>\n",
       "      <td>320.410004</td>\n",
       "      <td>12683500</td>\n",
       "      <td>255.306351</td>\n",
       "    </tr>\n",
       "    <tr>\n",
       "      <th>2022-12-05</th>\n",
       "      <td>316.459991</td>\n",
       "      <td>322.769989</td>\n",
       "      <td>310.920013</td>\n",
       "      <td>312.589996</td>\n",
       "      <td>312.589996</td>\n",
       "      <td>8423000</td>\n",
       "      <td>254.935951</td>\n",
       "    </tr>\n",
       "    <tr>\n",
       "      <th>2022-12-06</th>\n",
       "      <td>311.000000</td>\n",
       "      <td>313.220001</td>\n",
       "      <td>303.130005</td>\n",
       "      <td>305.559998</td>\n",
       "      <td>305.559998</td>\n",
       "      <td>7195400</td>\n",
       "      <td>254.507300</td>\n",
       "    </tr>\n",
       "    <tr>\n",
       "      <th>2022-12-07</th>\n",
       "      <td>306.500000</td>\n",
       "      <td>309.609985</td>\n",
       "      <td>302.100006</td>\n",
       "      <td>308.420013</td>\n",
       "      <td>308.420013</td>\n",
       "      <td>7816100</td>\n",
       "      <td>254.162501</td>\n",
       "    </tr>\n",
       "  </tbody>\n",
       "</table>\n",
       "<p>3257 rows × 7 columns</p>\n",
       "</div>"
      ],
      "text/plain": [
       "                  Open        High         Low       Close   Adj Close  \\\n",
       "Date                                                                     \n",
       "2009-12-31    7.947143    8.011429    7.864286    7.870000    7.870000   \n",
       "2010-01-04    7.931429    7.961429    7.565714    7.640000    7.640000   \n",
       "2010-01-05    7.652857    7.657143    7.258571    7.358571    7.358571   \n",
       "2010-01-06    7.361429    7.672857    7.197143    7.617143    7.617143   \n",
       "2010-01-07    7.731429    7.757143    7.462857    7.485714    7.485714   \n",
       "...                ...         ...         ...         ...         ...   \n",
       "2022-12-01  303.989990  319.799988  303.029999  316.950012  316.950012   \n",
       "2022-12-02  310.489990  321.989990  310.000000  320.410004  320.410004   \n",
       "2022-12-05  316.459991  322.769989  310.920013  312.589996  312.589996   \n",
       "2022-12-06  311.000000  313.220001  303.130005  305.559998  305.559998   \n",
       "2022-12-07  306.500000  309.609985  302.100006  308.420013  308.420013   \n",
       "\n",
       "              Volume      SMA200  \n",
       "Date                              \n",
       "2009-12-31   5291300         NaN  \n",
       "2010-01-04  17239600         NaN  \n",
       "2010-01-05  23753100         NaN  \n",
       "2010-01-06  23290400         NaN  \n",
       "2010-01-07   9955400         NaN  \n",
       "...              ...         ...  \n",
       "2022-12-01  14664900  255.694701  \n",
       "2022-12-02  12683500  255.306351  \n",
       "2022-12-05   8423000  254.935951  \n",
       "2022-12-06   7195400  254.507300  \n",
       "2022-12-07   7816100  254.162501  \n",
       "\n",
       "[3257 rows x 7 columns]"
      ]
     },
     "execution_count": 4,
     "metadata": {},
     "output_type": "execute_result"
    }
   ],
   "source": [
    "df['SMA200']=ta.trend.sma_indicator(df.Close,window=200)\n",
    "df"
   ]
  },
  {
   "cell_type": "code",
   "execution_count": 5,
   "id": "cf548841",
   "metadata": {},
   "outputs": [],
   "source": [
    "df['RSI']=ta.momentum.rsi(df.Close,window=10)"
   ]
  },
  {
   "cell_type": "code",
   "execution_count": 6,
   "id": "c2d999f9",
   "metadata": {},
   "outputs": [],
   "source": [
    "df['Signal']=np.where((df.Close>df.SMA200)&(df.RSI<30),True,False)"
   ]
  },
  {
   "cell_type": "code",
   "execution_count": 7,
   "id": "13ba1878",
   "metadata": {},
   "outputs": [],
   "source": [
    "Buying_dates=[]\n",
    "Selling_dates=[]\n",
    "\n",
    "for i in range(len(df)):\n",
    "    if df.Signal.iloc[i]:\n",
    "        Buying_dates.append(df.iloc[i+1].name)\n",
    "        for j in range(1,11):\n",
    "            if df['RSI'].iloc[i+j]>40:\n",
    "                Selling_dates.append(df.iloc[i+j+1].name)\n",
    "                break\n",
    "            elif j==10:\n",
    "                Selling_dates.append(df.iloc[i+j+1].name)"
   ]
  },
  {
   "cell_type": "code",
   "execution_count": 8,
   "id": "a47a35bb",
   "metadata": {},
   "outputs": [],
   "source": [
    "frame=pd.DataFrame({'Buying_dates':Buying_dates,'Selling_dates':Selling_dates})"
   ]
  },
  {
   "cell_type": "code",
   "execution_count": 9,
   "id": "c5e15d81",
   "metadata": {},
   "outputs": [
    {
     "data": {
      "text/html": [
       "<div>\n",
       "<style scoped>\n",
       "    .dataframe tbody tr th:only-of-type {\n",
       "        vertical-align: middle;\n",
       "    }\n",
       "\n",
       "    .dataframe tbody tr th {\n",
       "        vertical-align: top;\n",
       "    }\n",
       "\n",
       "    .dataframe thead th {\n",
       "        text-align: right;\n",
       "    }\n",
       "</style>\n",
       "<table border=\"1\" class=\"dataframe\">\n",
       "  <thead>\n",
       "    <tr style=\"text-align: right;\">\n",
       "      <th></th>\n",
       "      <th>Buying_dates</th>\n",
       "      <th>Selling_dates</th>\n",
       "    </tr>\n",
       "  </thead>\n",
       "  <tbody>\n",
       "    <tr>\n",
       "      <th>0</th>\n",
       "      <td>2011-08-05</td>\n",
       "      <td>2011-08-12</td>\n",
       "    </tr>\n",
       "    <tr>\n",
       "      <th>1</th>\n",
       "      <td>2011-08-08</td>\n",
       "      <td>2011-08-12</td>\n",
       "    </tr>\n",
       "    <tr>\n",
       "      <th>2</th>\n",
       "      <td>2011-08-09</td>\n",
       "      <td>2011-08-12</td>\n",
       "    </tr>\n",
       "    <tr>\n",
       "      <th>3</th>\n",
       "      <td>2011-08-11</td>\n",
       "      <td>2011-08-12</td>\n",
       "    </tr>\n",
       "    <tr>\n",
       "      <th>4</th>\n",
       "      <td>2013-04-05</td>\n",
       "      <td>2013-04-12</td>\n",
       "    </tr>\n",
       "    <tr>\n",
       "      <th>5</th>\n",
       "      <td>2013-04-08</td>\n",
       "      <td>2013-04-12</td>\n",
       "    </tr>\n",
       "    <tr>\n",
       "      <th>6</th>\n",
       "      <td>2013-04-09</td>\n",
       "      <td>2013-04-12</td>\n",
       "    </tr>\n",
       "    <tr>\n",
       "      <th>7</th>\n",
       "      <td>2014-01-08</td>\n",
       "      <td>2014-01-23</td>\n",
       "    </tr>\n",
       "    <tr>\n",
       "      <th>8</th>\n",
       "      <td>2014-01-09</td>\n",
       "      <td>2014-01-24</td>\n",
       "    </tr>\n",
       "    <tr>\n",
       "      <th>9</th>\n",
       "      <td>2014-01-10</td>\n",
       "      <td>2014-01-24</td>\n",
       "    </tr>\n",
       "    <tr>\n",
       "      <th>10</th>\n",
       "      <td>2014-01-13</td>\n",
       "      <td>2014-01-24</td>\n",
       "    </tr>\n",
       "    <tr>\n",
       "      <th>11</th>\n",
       "      <td>2014-01-14</td>\n",
       "      <td>2014-01-24</td>\n",
       "    </tr>\n",
       "    <tr>\n",
       "      <th>12</th>\n",
       "      <td>2014-01-16</td>\n",
       "      <td>2014-01-24</td>\n",
       "    </tr>\n",
       "    <tr>\n",
       "      <th>13</th>\n",
       "      <td>2014-01-17</td>\n",
       "      <td>2014-01-24</td>\n",
       "    </tr>\n",
       "    <tr>\n",
       "      <th>14</th>\n",
       "      <td>2014-01-21</td>\n",
       "      <td>2014-01-24</td>\n",
       "    </tr>\n",
       "    <tr>\n",
       "      <th>15</th>\n",
       "      <td>2014-01-22</td>\n",
       "      <td>2014-01-24</td>\n",
       "    </tr>\n",
       "    <tr>\n",
       "      <th>16</th>\n",
       "      <td>2014-03-24</td>\n",
       "      <td>2014-04-07</td>\n",
       "    </tr>\n",
       "    <tr>\n",
       "      <th>17</th>\n",
       "      <td>2014-03-25</td>\n",
       "      <td>2014-04-08</td>\n",
       "    </tr>\n",
       "    <tr>\n",
       "      <th>18</th>\n",
       "      <td>2014-03-26</td>\n",
       "      <td>2014-04-09</td>\n",
       "    </tr>\n",
       "    <tr>\n",
       "      <th>19</th>\n",
       "      <td>2014-03-27</td>\n",
       "      <td>2014-04-10</td>\n",
       "    </tr>\n",
       "    <tr>\n",
       "      <th>20</th>\n",
       "      <td>2014-03-28</td>\n",
       "      <td>2014-04-11</td>\n",
       "    </tr>\n",
       "    <tr>\n",
       "      <th>21</th>\n",
       "      <td>2014-03-31</td>\n",
       "      <td>2014-04-14</td>\n",
       "    </tr>\n",
       "    <tr>\n",
       "      <th>22</th>\n",
       "      <td>2014-04-01</td>\n",
       "      <td>2014-04-15</td>\n",
       "    </tr>\n",
       "    <tr>\n",
       "      <th>23</th>\n",
       "      <td>2014-04-02</td>\n",
       "      <td>2014-04-16</td>\n",
       "    </tr>\n",
       "    <tr>\n",
       "      <th>24</th>\n",
       "      <td>2014-04-03</td>\n",
       "      <td>2014-04-17</td>\n",
       "    </tr>\n",
       "    <tr>\n",
       "      <th>25</th>\n",
       "      <td>2014-04-04</td>\n",
       "      <td>2014-04-21</td>\n",
       "    </tr>\n",
       "    <tr>\n",
       "      <th>26</th>\n",
       "      <td>2014-04-07</td>\n",
       "      <td>2014-04-21</td>\n",
       "    </tr>\n",
       "    <tr>\n",
       "      <th>27</th>\n",
       "      <td>2014-04-08</td>\n",
       "      <td>2014-04-21</td>\n",
       "    </tr>\n",
       "    <tr>\n",
       "      <th>28</th>\n",
       "      <td>2014-09-23</td>\n",
       "      <td>2014-09-30</td>\n",
       "    </tr>\n",
       "    <tr>\n",
       "      <th>29</th>\n",
       "      <td>2014-09-24</td>\n",
       "      <td>2014-09-30</td>\n",
       "    </tr>\n",
       "    <tr>\n",
       "      <th>30</th>\n",
       "      <td>2015-03-17</td>\n",
       "      <td>2015-03-25</td>\n",
       "    </tr>\n",
       "    <tr>\n",
       "      <th>31</th>\n",
       "      <td>2015-08-24</td>\n",
       "      <td>2015-08-27</td>\n",
       "    </tr>\n",
       "    <tr>\n",
       "      <th>32</th>\n",
       "      <td>2015-08-25</td>\n",
       "      <td>2015-08-27</td>\n",
       "    </tr>\n",
       "    <tr>\n",
       "      <th>33</th>\n",
       "      <td>2016-01-06</td>\n",
       "      <td>2016-01-07</td>\n",
       "    </tr>\n",
       "    <tr>\n",
       "      <th>34</th>\n",
       "      <td>2017-06-13</td>\n",
       "      <td>2017-06-22</td>\n",
       "    </tr>\n",
       "    <tr>\n",
       "      <th>35</th>\n",
       "      <td>2018-07-31</td>\n",
       "      <td>2018-08-07</td>\n",
       "    </tr>\n",
       "    <tr>\n",
       "      <th>36</th>\n",
       "      <td>2018-08-01</td>\n",
       "      <td>2018-08-07</td>\n",
       "    </tr>\n",
       "    <tr>\n",
       "      <th>37</th>\n",
       "      <td>2018-08-02</td>\n",
       "      <td>2018-08-07</td>\n",
       "    </tr>\n",
       "    <tr>\n",
       "      <th>38</th>\n",
       "      <td>2018-08-16</td>\n",
       "      <td>2018-08-22</td>\n",
       "    </tr>\n",
       "    <tr>\n",
       "      <th>39</th>\n",
       "      <td>2018-08-17</td>\n",
       "      <td>2018-08-22</td>\n",
       "    </tr>\n",
       "    <tr>\n",
       "      <th>40</th>\n",
       "      <td>2018-08-20</td>\n",
       "      <td>2018-08-22</td>\n",
       "    </tr>\n",
       "    <tr>\n",
       "      <th>41</th>\n",
       "      <td>2018-10-11</td>\n",
       "      <td>2018-10-15</td>\n",
       "    </tr>\n",
       "    <tr>\n",
       "      <th>42</th>\n",
       "      <td>2021-12-02</td>\n",
       "      <td>2021-12-08</td>\n",
       "    </tr>\n",
       "    <tr>\n",
       "      <th>43</th>\n",
       "      <td>2021-12-03</td>\n",
       "      <td>2021-12-08</td>\n",
       "    </tr>\n",
       "    <tr>\n",
       "      <th>44</th>\n",
       "      <td>2021-12-06</td>\n",
       "      <td>2021-12-08</td>\n",
       "    </tr>\n",
       "    <tr>\n",
       "      <th>45</th>\n",
       "      <td>2021-12-20</td>\n",
       "      <td>2021-12-22</td>\n",
       "    </tr>\n",
       "    <tr>\n",
       "      <th>46</th>\n",
       "      <td>2022-01-06</td>\n",
       "      <td>2022-01-21</td>\n",
       "    </tr>\n",
       "  </tbody>\n",
       "</table>\n",
       "</div>"
      ],
      "text/plain": [
       "   Buying_dates Selling_dates\n",
       "0    2011-08-05    2011-08-12\n",
       "1    2011-08-08    2011-08-12\n",
       "2    2011-08-09    2011-08-12\n",
       "3    2011-08-11    2011-08-12\n",
       "4    2013-04-05    2013-04-12\n",
       "5    2013-04-08    2013-04-12\n",
       "6    2013-04-09    2013-04-12\n",
       "7    2014-01-08    2014-01-23\n",
       "8    2014-01-09    2014-01-24\n",
       "9    2014-01-10    2014-01-24\n",
       "10   2014-01-13    2014-01-24\n",
       "11   2014-01-14    2014-01-24\n",
       "12   2014-01-16    2014-01-24\n",
       "13   2014-01-17    2014-01-24\n",
       "14   2014-01-21    2014-01-24\n",
       "15   2014-01-22    2014-01-24\n",
       "16   2014-03-24    2014-04-07\n",
       "17   2014-03-25    2014-04-08\n",
       "18   2014-03-26    2014-04-09\n",
       "19   2014-03-27    2014-04-10\n",
       "20   2014-03-28    2014-04-11\n",
       "21   2014-03-31    2014-04-14\n",
       "22   2014-04-01    2014-04-15\n",
       "23   2014-04-02    2014-04-16\n",
       "24   2014-04-03    2014-04-17\n",
       "25   2014-04-04    2014-04-21\n",
       "26   2014-04-07    2014-04-21\n",
       "27   2014-04-08    2014-04-21\n",
       "28   2014-09-23    2014-09-30\n",
       "29   2014-09-24    2014-09-30\n",
       "30   2015-03-17    2015-03-25\n",
       "31   2015-08-24    2015-08-27\n",
       "32   2015-08-25    2015-08-27\n",
       "33   2016-01-06    2016-01-07\n",
       "34   2017-06-13    2017-06-22\n",
       "35   2018-07-31    2018-08-07\n",
       "36   2018-08-01    2018-08-07\n",
       "37   2018-08-02    2018-08-07\n",
       "38   2018-08-16    2018-08-22\n",
       "39   2018-08-17    2018-08-22\n",
       "40   2018-08-20    2018-08-22\n",
       "41   2018-10-11    2018-10-15\n",
       "42   2021-12-02    2021-12-08\n",
       "43   2021-12-03    2021-12-08\n",
       "44   2021-12-06    2021-12-08\n",
       "45   2021-12-20    2021-12-22\n",
       "46   2022-01-06    2022-01-21"
      ]
     },
     "execution_count": 9,
     "metadata": {},
     "output_type": "execute_result"
    }
   ],
   "source": [
    "frame"
   ]
  },
  {
   "cell_type": "code",
   "execution_count": 10,
   "id": "af3b7b23",
   "metadata": {},
   "outputs": [
    {
     "data": {
      "text/html": [
       "<div>\n",
       "<style scoped>\n",
       "    .dataframe tbody tr th:only-of-type {\n",
       "        vertical-align: middle;\n",
       "    }\n",
       "\n",
       "    .dataframe tbody tr th {\n",
       "        vertical-align: top;\n",
       "    }\n",
       "\n",
       "    .dataframe thead th {\n",
       "        text-align: right;\n",
       "    }\n",
       "</style>\n",
       "<table border=\"1\" class=\"dataframe\">\n",
       "  <thead>\n",
       "    <tr style=\"text-align: right;\">\n",
       "      <th></th>\n",
       "      <th>Buying_dates</th>\n",
       "      <th>Selling_dates</th>\n",
       "    </tr>\n",
       "  </thead>\n",
       "  <tbody>\n",
       "    <tr>\n",
       "      <th>4</th>\n",
       "      <td>2013-04-05</td>\n",
       "      <td>2013-04-12</td>\n",
       "    </tr>\n",
       "    <tr>\n",
       "      <th>7</th>\n",
       "      <td>2014-01-08</td>\n",
       "      <td>2014-01-23</td>\n",
       "    </tr>\n",
       "    <tr>\n",
       "      <th>16</th>\n",
       "      <td>2014-03-24</td>\n",
       "      <td>2014-04-07</td>\n",
       "    </tr>\n",
       "    <tr>\n",
       "      <th>28</th>\n",
       "      <td>2014-09-23</td>\n",
       "      <td>2014-09-30</td>\n",
       "    </tr>\n",
       "    <tr>\n",
       "      <th>30</th>\n",
       "      <td>2015-03-17</td>\n",
       "      <td>2015-03-25</td>\n",
       "    </tr>\n",
       "    <tr>\n",
       "      <th>31</th>\n",
       "      <td>2015-08-24</td>\n",
       "      <td>2015-08-27</td>\n",
       "    </tr>\n",
       "    <tr>\n",
       "      <th>33</th>\n",
       "      <td>2016-01-06</td>\n",
       "      <td>2016-01-07</td>\n",
       "    </tr>\n",
       "    <tr>\n",
       "      <th>34</th>\n",
       "      <td>2017-06-13</td>\n",
       "      <td>2017-06-22</td>\n",
       "    </tr>\n",
       "    <tr>\n",
       "      <th>35</th>\n",
       "      <td>2018-07-31</td>\n",
       "      <td>2018-08-07</td>\n",
       "    </tr>\n",
       "    <tr>\n",
       "      <th>38</th>\n",
       "      <td>2018-08-16</td>\n",
       "      <td>2018-08-22</td>\n",
       "    </tr>\n",
       "    <tr>\n",
       "      <th>41</th>\n",
       "      <td>2018-10-11</td>\n",
       "      <td>2018-10-15</td>\n",
       "    </tr>\n",
       "    <tr>\n",
       "      <th>42</th>\n",
       "      <td>2021-12-02</td>\n",
       "      <td>2021-12-08</td>\n",
       "    </tr>\n",
       "    <tr>\n",
       "      <th>45</th>\n",
       "      <td>2021-12-20</td>\n",
       "      <td>2021-12-22</td>\n",
       "    </tr>\n",
       "    <tr>\n",
       "      <th>46</th>\n",
       "      <td>2022-01-06</td>\n",
       "      <td>2022-01-21</td>\n",
       "    </tr>\n",
       "  </tbody>\n",
       "</table>\n",
       "</div>"
      ],
      "text/plain": [
       "   Buying_dates Selling_dates\n",
       "4    2013-04-05    2013-04-12\n",
       "7    2014-01-08    2014-01-23\n",
       "16   2014-03-24    2014-04-07\n",
       "28   2014-09-23    2014-09-30\n",
       "30   2015-03-17    2015-03-25\n",
       "31   2015-08-24    2015-08-27\n",
       "33   2016-01-06    2016-01-07\n",
       "34   2017-06-13    2017-06-22\n",
       "35   2018-07-31    2018-08-07\n",
       "38   2018-08-16    2018-08-22\n",
       "41   2018-10-11    2018-10-15\n",
       "42   2021-12-02    2021-12-08\n",
       "45   2021-12-20    2021-12-22\n",
       "46   2022-01-06    2022-01-21"
      ]
     },
     "execution_count": 10,
     "metadata": {},
     "output_type": "execute_result"
    }
   ],
   "source": [
    "actualtrades=frame[frame.Buying_dates>frame.Selling_dates.shift(1)]\n",
    "actualtrades"
   ]
  },
  {
   "cell_type": "code",
   "execution_count": 11,
   "id": "71f22e59",
   "metadata": {},
   "outputs": [
    {
     "data": {
      "text/html": [
       "<div>\n",
       "<style scoped>\n",
       "    .dataframe tbody tr th:only-of-type {\n",
       "        vertical-align: middle;\n",
       "    }\n",
       "\n",
       "    .dataframe tbody tr th {\n",
       "        vertical-align: top;\n",
       "    }\n",
       "\n",
       "    .dataframe thead th {\n",
       "        text-align: right;\n",
       "    }\n",
       "</style>\n",
       "<table border=\"1\" class=\"dataframe\">\n",
       "  <thead>\n",
       "    <tr style=\"text-align: right;\">\n",
       "      <th></th>\n",
       "      <th>Buying_dates</th>\n",
       "      <th>Selling_dates</th>\n",
       "    </tr>\n",
       "  </thead>\n",
       "  <tbody>\n",
       "    <tr>\n",
       "      <th>0</th>\n",
       "      <td>2011-08-05</td>\n",
       "      <td>2011-08-12</td>\n",
       "    </tr>\n",
       "  </tbody>\n",
       "</table>\n",
       "</div>"
      ],
      "text/plain": [
       "  Buying_dates Selling_dates\n",
       "0   2011-08-05    2011-08-12"
      ]
     },
     "execution_count": 11,
     "metadata": {},
     "output_type": "execute_result"
    }
   ],
   "source": [
    "frame[:1]"
   ]
  },
  {
   "cell_type": "code",
   "execution_count": 12,
   "id": "d164d6f7",
   "metadata": {},
   "outputs": [
    {
     "data": {
      "text/html": [
       "<div>\n",
       "<style scoped>\n",
       "    .dataframe tbody tr th:only-of-type {\n",
       "        vertical-align: middle;\n",
       "    }\n",
       "\n",
       "    .dataframe tbody tr th {\n",
       "        vertical-align: top;\n",
       "    }\n",
       "\n",
       "    .dataframe thead th {\n",
       "        text-align: right;\n",
       "    }\n",
       "</style>\n",
       "<table border=\"1\" class=\"dataframe\">\n",
       "  <thead>\n",
       "    <tr style=\"text-align: right;\">\n",
       "      <th></th>\n",
       "      <th>Buying_dates</th>\n",
       "      <th>Selling_dates</th>\n",
       "    </tr>\n",
       "  </thead>\n",
       "  <tbody>\n",
       "    <tr>\n",
       "      <th>0</th>\n",
       "      <td>2011-08-05</td>\n",
       "      <td>2011-08-12</td>\n",
       "    </tr>\n",
       "    <tr>\n",
       "      <th>4</th>\n",
       "      <td>2013-04-05</td>\n",
       "      <td>2013-04-12</td>\n",
       "    </tr>\n",
       "    <tr>\n",
       "      <th>7</th>\n",
       "      <td>2014-01-08</td>\n",
       "      <td>2014-01-23</td>\n",
       "    </tr>\n",
       "    <tr>\n",
       "      <th>16</th>\n",
       "      <td>2014-03-24</td>\n",
       "      <td>2014-04-07</td>\n",
       "    </tr>\n",
       "    <tr>\n",
       "      <th>28</th>\n",
       "      <td>2014-09-23</td>\n",
       "      <td>2014-09-30</td>\n",
       "    </tr>\n",
       "    <tr>\n",
       "      <th>30</th>\n",
       "      <td>2015-03-17</td>\n",
       "      <td>2015-03-25</td>\n",
       "    </tr>\n",
       "    <tr>\n",
       "      <th>31</th>\n",
       "      <td>2015-08-24</td>\n",
       "      <td>2015-08-27</td>\n",
       "    </tr>\n",
       "    <tr>\n",
       "      <th>33</th>\n",
       "      <td>2016-01-06</td>\n",
       "      <td>2016-01-07</td>\n",
       "    </tr>\n",
       "    <tr>\n",
       "      <th>34</th>\n",
       "      <td>2017-06-13</td>\n",
       "      <td>2017-06-22</td>\n",
       "    </tr>\n",
       "    <tr>\n",
       "      <th>35</th>\n",
       "      <td>2018-07-31</td>\n",
       "      <td>2018-08-07</td>\n",
       "    </tr>\n",
       "    <tr>\n",
       "      <th>38</th>\n",
       "      <td>2018-08-16</td>\n",
       "      <td>2018-08-22</td>\n",
       "    </tr>\n",
       "    <tr>\n",
       "      <th>41</th>\n",
       "      <td>2018-10-11</td>\n",
       "      <td>2018-10-15</td>\n",
       "    </tr>\n",
       "    <tr>\n",
       "      <th>42</th>\n",
       "      <td>2021-12-02</td>\n",
       "      <td>2021-12-08</td>\n",
       "    </tr>\n",
       "    <tr>\n",
       "      <th>45</th>\n",
       "      <td>2021-12-20</td>\n",
       "      <td>2021-12-22</td>\n",
       "    </tr>\n",
       "    <tr>\n",
       "      <th>46</th>\n",
       "      <td>2022-01-06</td>\n",
       "      <td>2022-01-21</td>\n",
       "    </tr>\n",
       "  </tbody>\n",
       "</table>\n",
       "</div>"
      ],
      "text/plain": [
       "   Buying_dates Selling_dates\n",
       "0    2011-08-05    2011-08-12\n",
       "4    2013-04-05    2013-04-12\n",
       "7    2014-01-08    2014-01-23\n",
       "16   2014-03-24    2014-04-07\n",
       "28   2014-09-23    2014-09-30\n",
       "30   2015-03-17    2015-03-25\n",
       "31   2015-08-24    2015-08-27\n",
       "33   2016-01-06    2016-01-07\n",
       "34   2017-06-13    2017-06-22\n",
       "35   2018-07-31    2018-08-07\n",
       "38   2018-08-16    2018-08-22\n",
       "41   2018-10-11    2018-10-15\n",
       "42   2021-12-02    2021-12-08\n",
       "45   2021-12-20    2021-12-22\n",
       "46   2022-01-06    2022-01-21"
      ]
     },
     "execution_count": 12,
     "metadata": {},
     "output_type": "execute_result"
    }
   ],
   "source": [
    "actualtrades=frame[:1].append(actualtrades)\n",
    "actualtrades"
   ]
  },
  {
   "cell_type": "code",
   "execution_count": 13,
   "id": "4e4f0eaf",
   "metadata": {},
   "outputs": [
    {
     "data": {
      "text/plain": [
       "array([  -0.2142868 ,    1.92428589,    7.23857117,   -9.28285599,\n",
       "          1.58143234,    2.97142792,   26.19000244,   11.06999969,\n",
       "          0.75      ,   21.72000122,    8.58999634,   12.69000244,\n",
       "         12.90002441,   16.92999268, -153.91003418])"
      ]
     },
     "execution_count": 13,
     "metadata": {},
     "output_type": "execute_result"
    }
   ],
   "source": [
    "profits=\\\n",
    "df.loc[actualtrades.Selling_dates].Open.values-df.loc[actualtrades.Buying_dates].Open.values\n",
    "profits"
   ]
  },
  {
   "cell_type": "code",
   "execution_count": 14,
   "id": "a952870c",
   "metadata": {},
   "outputs": [
    {
     "data": {
      "text/plain": [
       "12"
      ]
     },
     "execution_count": 14,
     "metadata": {},
     "output_type": "execute_result"
    }
   ],
   "source": [
    "len([i for i in profits if i>0])"
   ]
  },
  {
   "cell_type": "code",
   "execution_count": 15,
   "id": "9be00c93",
   "metadata": {},
   "outputs": [
    {
     "data": {
      "text/plain": [
       "3"
      ]
     },
     "execution_count": 15,
     "metadata": {},
     "output_type": "execute_result"
    }
   ],
   "source": [
    "len([i for i in profits if i<0])"
   ]
  },
  {
   "cell_type": "code",
   "execution_count": 16,
   "id": "cbddea75",
   "metadata": {},
   "outputs": [
    {
     "data": {
      "text/plain": [
       "0.8"
      ]
     },
     "execution_count": 16,
     "metadata": {},
     "output_type": "execute_result"
    }
   ],
   "source": [
    "len([i for i in profits if i>0])/len(profits)#win Rates in 12 years"
   ]
  },
  {
   "cell_type": "code",
   "execution_count": 17,
   "id": "9f2d7c27",
   "metadata": {},
   "outputs": [],
   "source": [
    "relprofit=\\\n",
    "(df.loc[actualtrades.Selling_dates].Open.values-df.loc[actualtrades.Buying_dates].Open.values)/df.loc[actualtrades.Buying_dates].Open.values"
   ]
  },
  {
   "cell_type": "code",
   "execution_count": 18,
   "id": "1fa46912",
   "metadata": {},
   "outputs": [
    {
     "data": {
      "text/plain": [
       "array([-0.00603528,  0.08237525,  0.15047664, -0.16025054,  0.02508902,\n",
       "        0.04976195,  0.29509862,  0.10513819,  0.00485814,  0.06551839,\n",
       "        0.02603818,  0.03905337,  0.02090427,  0.02886959, -0.27764554])"
      ]
     },
     "execution_count": 18,
     "metadata": {},
     "output_type": "execute_result"
    }
   ],
   "source": [
    "relprofit"
   ]
  },
  {
   "cell_type": "code",
   "execution_count": 19,
   "id": "9b920374",
   "metadata": {},
   "outputs": [
    {
     "data": {
      "text/plain": [
       "0.029950016073060217"
      ]
     },
     "execution_count": 19,
     "metadata": {},
     "output_type": "execute_result"
    }
   ],
   "source": [
    "relprofit.mean()#on average it makes 1% profit per trande"
   ]
  },
  {
   "cell_type": "code",
   "execution_count": 20,
   "id": "01e9c588",
   "metadata": {},
   "outputs": [
    {
     "data": {
      "text/plain": [
       "array([0.99396472, 1.07584282, 1.23773202, 1.0393848 , 1.06546194,\n",
       "       1.1184814 , 1.44854372, 1.60084097, 1.60861809, 1.71401215,\n",
       "       1.75864191, 1.82732281, 1.86552166, 1.9193785 , 1.38647163])"
      ]
     },
     "execution_count": 20,
     "metadata": {},
     "output_type": "execute_result"
    }
   ],
   "source": [
    "#end of the day my 1 dollar investment by this strategy\n",
    "(relprofit+1).cumprod()#1.26001532-1=26%"
   ]
  },
  {
   "cell_type": "code",
   "execution_count": 21,
   "id": "db49099d",
   "metadata": {},
   "outputs": [],
   "source": [
    "def getactuals(df):\n",
    "    Buying_dates=[]\n",
    "    Selling_dates=[]\n",
    "    for i in range(len(df)-11):\n",
    "        if df.Signal.iloc[i]:\n",
    "            Buying_dates.append(df.iloc[i+1].name)\n",
    "            for j in range(1,11):\n",
    "                if df['RSI'].iloc[i+j]>40:\n",
    "                    Selling_dates.append(df.iloc[i+j+1].name)\n",
    "                    break\n",
    "                elif j==10:\n",
    "                    Selling_dates.append(df.iloc[i+j+1].name)\n",
    "    frame=pd.DataFrame({'Buying_dates':Buying_dates,'Selling_dates':Selling_dates})\n",
    "    actualtrades=frame[frame.Buying_dates>frame.Selling_dates.shift(1)]\n",
    "    actualtrades=frame[:1].append(actualtrades)\n",
    "    return(actualtrades)"
   ]
  },
  {
   "cell_type": "code",
   "execution_count": 22,
   "id": "3260a7a4",
   "metadata": {},
   "outputs": [],
   "source": [
    "def tacalc(df):\n",
    "    df['SMA200']=ta.trend.sma_indicator(df.Close,window=200)\n",
    "    df['RSI']=ta.momentum.rsi(df.Close,window=10)\n",
    "    df['Signal']=np.where((df.Close>df.SMA200)&(df.RSI<30),True,False)"
   ]
  },
  {
   "cell_type": "code",
   "execution_count": 23,
   "id": "d941423a",
   "metadata": {},
   "outputs": [
    {
     "name": "stdout",
     "output_type": "stream",
     "text": [
      "[*********************100%***********************]  1 of 1 completed\n"
     ]
    },
    {
     "data": {
      "text/html": [
       "<div>\n",
       "<style scoped>\n",
       "    .dataframe tbody tr th:only-of-type {\n",
       "        vertical-align: middle;\n",
       "    }\n",
       "\n",
       "    .dataframe tbody tr th {\n",
       "        vertical-align: top;\n",
       "    }\n",
       "\n",
       "    .dataframe thead th {\n",
       "        text-align: right;\n",
       "    }\n",
       "</style>\n",
       "<table border=\"1\" class=\"dataframe\">\n",
       "  <thead>\n",
       "    <tr style=\"text-align: right;\">\n",
       "      <th></th>\n",
       "      <th>Open</th>\n",
       "      <th>High</th>\n",
       "      <th>Low</th>\n",
       "      <th>Close</th>\n",
       "      <th>Adj Close</th>\n",
       "      <th>Volume</th>\n",
       "    </tr>\n",
       "    <tr>\n",
       "      <th>Date</th>\n",
       "      <th></th>\n",
       "      <th></th>\n",
       "      <th></th>\n",
       "      <th></th>\n",
       "      <th></th>\n",
       "      <th></th>\n",
       "    </tr>\n",
       "  </thead>\n",
       "  <tbody>\n",
       "    <tr>\n",
       "      <th>2014-09-17</th>\n",
       "      <td>465.864014</td>\n",
       "      <td>468.174011</td>\n",
       "      <td>452.421997</td>\n",
       "      <td>457.334015</td>\n",
       "      <td>457.334015</td>\n",
       "      <td>21056800</td>\n",
       "    </tr>\n",
       "    <tr>\n",
       "      <th>2014-09-18</th>\n",
       "      <td>456.859985</td>\n",
       "      <td>456.859985</td>\n",
       "      <td>413.104004</td>\n",
       "      <td>424.440002</td>\n",
       "      <td>424.440002</td>\n",
       "      <td>34483200</td>\n",
       "    </tr>\n",
       "    <tr>\n",
       "      <th>2014-09-19</th>\n",
       "      <td>424.102997</td>\n",
       "      <td>427.834991</td>\n",
       "      <td>384.532013</td>\n",
       "      <td>394.795990</td>\n",
       "      <td>394.795990</td>\n",
       "      <td>37919700</td>\n",
       "    </tr>\n",
       "    <tr>\n",
       "      <th>2014-09-20</th>\n",
       "      <td>394.673004</td>\n",
       "      <td>423.295990</td>\n",
       "      <td>389.882996</td>\n",
       "      <td>408.903992</td>\n",
       "      <td>408.903992</td>\n",
       "      <td>36863600</td>\n",
       "    </tr>\n",
       "    <tr>\n",
       "      <th>2014-09-21</th>\n",
       "      <td>408.084991</td>\n",
       "      <td>412.425995</td>\n",
       "      <td>393.181000</td>\n",
       "      <td>398.821014</td>\n",
       "      <td>398.821014</td>\n",
       "      <td>26580100</td>\n",
       "    </tr>\n",
       "    <tr>\n",
       "      <th>...</th>\n",
       "      <td>...</td>\n",
       "      <td>...</td>\n",
       "      <td>...</td>\n",
       "      <td>...</td>\n",
       "      <td>...</td>\n",
       "      <td>...</td>\n",
       "    </tr>\n",
       "    <tr>\n",
       "      <th>2022-12-04</th>\n",
       "      <td>16908.169922</td>\n",
       "      <td>17157.767578</td>\n",
       "      <td>16903.439453</td>\n",
       "      <td>17130.486328</td>\n",
       "      <td>17130.486328</td>\n",
       "      <td>16824520830</td>\n",
       "    </tr>\n",
       "    <tr>\n",
       "      <th>2022-12-05</th>\n",
       "      <td>17128.894531</td>\n",
       "      <td>17378.152344</td>\n",
       "      <td>16922.431641</td>\n",
       "      <td>16974.826172</td>\n",
       "      <td>16974.826172</td>\n",
       "      <td>22209086834</td>\n",
       "    </tr>\n",
       "    <tr>\n",
       "      <th>2022-12-06</th>\n",
       "      <td>16975.238281</td>\n",
       "      <td>17091.863281</td>\n",
       "      <td>16939.921875</td>\n",
       "      <td>17089.503906</td>\n",
       "      <td>17089.503906</td>\n",
       "      <td>19889922369</td>\n",
       "    </tr>\n",
       "    <tr>\n",
       "      <th>2022-12-07</th>\n",
       "      <td>17089.505859</td>\n",
       "      <td>17109.376953</td>\n",
       "      <td>16750.558594</td>\n",
       "      <td>16848.126953</td>\n",
       "      <td>16848.126953</td>\n",
       "      <td>19675404389</td>\n",
       "    </tr>\n",
       "    <tr>\n",
       "      <th>2022-12-08</th>\n",
       "      <td>16852.005859</td>\n",
       "      <td>16881.798828</td>\n",
       "      <td>16788.783203</td>\n",
       "      <td>16858.529297</td>\n",
       "      <td>16858.529297</td>\n",
       "      <td>17177766912</td>\n",
       "    </tr>\n",
       "  </tbody>\n",
       "</table>\n",
       "<p>3005 rows × 6 columns</p>\n",
       "</div>"
      ],
      "text/plain": [
       "                    Open          High           Low         Close  \\\n",
       "Date                                                                 \n",
       "2014-09-17    465.864014    468.174011    452.421997    457.334015   \n",
       "2014-09-18    456.859985    456.859985    413.104004    424.440002   \n",
       "2014-09-19    424.102997    427.834991    384.532013    394.795990   \n",
       "2014-09-20    394.673004    423.295990    389.882996    408.903992   \n",
       "2014-09-21    408.084991    412.425995    393.181000    398.821014   \n",
       "...                  ...           ...           ...           ...   \n",
       "2022-12-04  16908.169922  17157.767578  16903.439453  17130.486328   \n",
       "2022-12-05  17128.894531  17378.152344  16922.431641  16974.826172   \n",
       "2022-12-06  16975.238281  17091.863281  16939.921875  17089.503906   \n",
       "2022-12-07  17089.505859  17109.376953  16750.558594  16848.126953   \n",
       "2022-12-08  16852.005859  16881.798828  16788.783203  16858.529297   \n",
       "\n",
       "               Adj Close       Volume  \n",
       "Date                                   \n",
       "2014-09-17    457.334015     21056800  \n",
       "2014-09-18    424.440002     34483200  \n",
       "2014-09-19    394.795990     37919700  \n",
       "2014-09-20    408.903992     36863600  \n",
       "2014-09-21    398.821014     26580100  \n",
       "...                  ...          ...  \n",
       "2022-12-04  17130.486328  16824520830  \n",
       "2022-12-05  16974.826172  22209086834  \n",
       "2022-12-06  17089.503906  19889922369  \n",
       "2022-12-07  16848.126953  19675404389  \n",
       "2022-12-08  16858.529297  17177766912  \n",
       "\n",
       "[3005 rows x 6 columns]"
      ]
     },
     "execution_count": 23,
     "metadata": {},
     "output_type": "execute_result"
    }
   ],
   "source": [
    "df=yf.download('BTC-USD',start='2010-01-01')\n",
    "df"
   ]
  },
  {
   "cell_type": "code",
   "execution_count": 24,
   "id": "0323fbc0",
   "metadata": {},
   "outputs": [],
   "source": [
    "tacalc(df)"
   ]
  },
  {
   "cell_type": "code",
   "execution_count": 25,
   "id": "4a597ce8",
   "metadata": {},
   "outputs": [
    {
     "data": {
      "text/html": [
       "<div>\n",
       "<style scoped>\n",
       "    .dataframe tbody tr th:only-of-type {\n",
       "        vertical-align: middle;\n",
       "    }\n",
       "\n",
       "    .dataframe tbody tr th {\n",
       "        vertical-align: top;\n",
       "    }\n",
       "\n",
       "    .dataframe thead th {\n",
       "        text-align: right;\n",
       "    }\n",
       "</style>\n",
       "<table border=\"1\" class=\"dataframe\">\n",
       "  <thead>\n",
       "    <tr style=\"text-align: right;\">\n",
       "      <th></th>\n",
       "      <th>Buying_dates</th>\n",
       "      <th>Selling_dates</th>\n",
       "    </tr>\n",
       "  </thead>\n",
       "  <tbody>\n",
       "    <tr>\n",
       "      <th>0</th>\n",
       "      <td>2015-08-09</td>\n",
       "      <td>2015-08-12</td>\n",
       "    </tr>\n",
       "    <tr>\n",
       "      <th>1</th>\n",
       "      <td>2016-01-16</td>\n",
       "      <td>2016-01-21</td>\n",
       "    </tr>\n",
       "    <tr>\n",
       "      <th>2</th>\n",
       "      <td>2016-08-02</td>\n",
       "      <td>2016-08-11</td>\n",
       "    </tr>\n",
       "    <tr>\n",
       "      <th>5</th>\n",
       "      <td>2016-08-16</td>\n",
       "      <td>2016-08-21</td>\n",
       "    </tr>\n",
       "    <tr>\n",
       "      <th>6</th>\n",
       "      <td>2017-03-19</td>\n",
       "      <td>2017-03-22</td>\n",
       "    </tr>\n",
       "    <tr>\n",
       "      <th>7</th>\n",
       "      <td>2017-07-16</td>\n",
       "      <td>2017-07-18</td>\n",
       "    </tr>\n",
       "    <tr>\n",
       "      <th>9</th>\n",
       "      <td>2017-09-15</td>\n",
       "      <td>2017-09-19</td>\n",
       "    </tr>\n",
       "    <tr>\n",
       "      <th>10</th>\n",
       "      <td>2018-02-02</td>\n",
       "      <td>2018-02-10</td>\n",
       "    </tr>\n",
       "    <tr>\n",
       "      <th>13</th>\n",
       "      <td>2019-09-25</td>\n",
       "      <td>2019-10-05</td>\n",
       "    </tr>\n",
       "    <tr>\n",
       "      <th>15</th>\n",
       "      <td>2020-09-04</td>\n",
       "      <td>2020-09-13</td>\n",
       "    </tr>\n",
       "    <tr>\n",
       "      <th>16</th>\n",
       "      <td>2021-04-23</td>\n",
       "      <td>2021-04-27</td>\n",
       "    </tr>\n",
       "    <tr>\n",
       "      <th>20</th>\n",
       "      <td>2021-05-17</td>\n",
       "      <td>2021-05-27</td>\n",
       "    </tr>\n",
       "    <tr>\n",
       "      <th>23</th>\n",
       "      <td>2021-12-05</td>\n",
       "      <td>2021-12-13</td>\n",
       "    </tr>\n",
       "  </tbody>\n",
       "</table>\n",
       "</div>"
      ],
      "text/plain": [
       "   Buying_dates Selling_dates\n",
       "0    2015-08-09    2015-08-12\n",
       "1    2016-01-16    2016-01-21\n",
       "2    2016-08-02    2016-08-11\n",
       "5    2016-08-16    2016-08-21\n",
       "6    2017-03-19    2017-03-22\n",
       "7    2017-07-16    2017-07-18\n",
       "9    2017-09-15    2017-09-19\n",
       "10   2018-02-02    2018-02-10\n",
       "13   2019-09-25    2019-10-05\n",
       "15   2020-09-04    2020-09-13\n",
       "16   2021-04-23    2021-04-27\n",
       "20   2021-05-17    2021-05-27\n",
       "23   2021-12-05    2021-12-13"
      ]
     },
     "execution_count": 25,
     "metadata": {},
     "output_type": "execute_result"
    }
   ],
   "source": [
    "actualtrades=getactuals(df)\n",
    "actualtrades"
   ]
  },
  {
   "cell_type": "code",
   "execution_count": 26,
   "id": "4c5bf98e",
   "metadata": {},
   "outputs": [
    {
     "data": {
      "text/plain": [
       "<matplotlib.axes._subplots.AxesSubplot at 0x1dd26867ef0>"
      ]
     },
     "execution_count": 26,
     "metadata": {},
     "output_type": "execute_result"
    },
    {
     "data": {
      "image/png": "[encoded data removed]",
      "text/plain": [
       "<Figure size 432x288 with 1 Axes>"
      ]
     },
     "metadata": {
      "needs_background": "light"
     },
     "output_type": "display_data"
    }
   ],
   "source": [
    "df['Close'].plot()"
   ]
  },
  {
   "cell_type": "code",
   "execution_count": 27,
   "id": "3eded031",
   "metadata": {},
   "outputs": [
    {
     "data": {
      "text/plain": [
       "array([    9.48199463,    54.55899048,   -14.27294922,    14.69604492,\n",
       "         143.92004395,   241.54003906,   907.48999023,  -422.20019531,\n",
       "        -393.27929688,   222.03417969,  2290.49609375, -7099.0078125 ,\n",
       "         913.22265625])"
      ]
     },
     "execution_count": 27,
     "metadata": {},
     "output_type": "execute_result"
    }
   ],
   "source": [
    "profits=\\\n",
    "df.loc[actualtrades.Selling_dates].Open.values-df.loc[actualtrades.Buying_dates].Open.values\n",
    "profits"
   ]
  },
  {
   "cell_type": "code",
   "execution_count": 28,
   "id": "43c7a883",
   "metadata": {},
   "outputs": [
    {
     "data": {
      "text/plain": [
       "0.029950016073060217"
      ]
     },
     "execution_count": 28,
     "metadata": {},
     "output_type": "execute_result"
    }
   ],
   "source": [
    "relprofit.mean()"
   ]
  },
  {
   "cell_type": "code",
   "execution_count": 29,
   "id": "13c809b3",
   "metadata": {},
   "outputs": [],
   "source": [
    "relprofit=\\\n",
    "(df.loc[actualtrades.Selling_dates].Open.values-df.loc[actualtrades.Buying_dates].Open.values)/df.loc[actualtrades.Buying_dates].Open.values"
   ]
  },
  {
   "cell_type": "code",
   "execution_count": 30,
   "id": "224f0d18",
   "metadata": {},
   "outputs": [
    {
     "data": {
      "text/plain": [
       "array([ 0.03631334,  0.1494468 , -0.0235373 ,  0.02590785,  0.14734885,\n",
       "        0.12125626,  0.28660897, -0.04618106, -0.04571193,  0.02170345,\n",
       "        0.04426951, -0.15294345,  0.01856086])"
      ]
     },
     "execution_count": 30,
     "metadata": {},
     "output_type": "execute_result"
    }
   ],
   "source": [
    "relprofit"
   ]
  },
  {
   "cell_type": "code",
   "execution_count": 31,
   "id": "e6e40c5a",
   "metadata": {},
   "outputs": [
    {
     "data": {
      "text/plain": [
       "0.04484939598484049"
      ]
     },
     "execution_count": 31,
     "metadata": {},
     "output_type": "execute_result"
    }
   ],
   "source": [
    "relprofit.mean()"
   ]
  },
  {
   "cell_type": "code",
   "execution_count": 32,
   "id": "15405c33",
   "metadata": {},
   "outputs": [
    {
     "data": {
      "text/plain": [
       "array([1.03631334, 1.19118705, 1.16314972, 1.19328443, 1.36911352,\n",
       "       1.53512711, 1.9751083 , 1.88389571, 1.7977792 , 1.83679721,\n",
       "       1.91811133, 1.62474875, 1.65490549])"
      ]
     },
     "execution_count": 32,
     "metadata": {},
     "output_type": "execute_result"
    }
   ],
   "source": [
    "(relprofit+1).cumprod()"
   ]
  },
  {
   "cell_type": "code",
   "execution_count": 33,
   "id": "95cf861e",
   "metadata": {},
   "outputs": [],
   "source": [
    "tickers=['MSFT','AAPL','TSLA','META','NFLX','BTC-USD']"
   ]
  },
  {
   "cell_type": "code",
   "execution_count": 34,
   "id": "65558266",
   "metadata": {},
   "outputs": [],
   "source": [
    "matrixprofit=[]"
   ]
  },
  {
   "cell_type": "code",
   "execution_count": 35,
   "id": "bda5cd41",
   "metadata": {},
   "outputs": [
    {
     "name": "stdout",
     "output_type": "stream",
     "text": [
      "[*********************100%***********************]  1 of 1 completed\n",
      "[*********************100%***********************]  1 of 1 completed\n",
      "[*********************100%***********************]  1 of 1 completed\n",
      "[*********************100%***********************]  1 of 1 completed\n",
      "[*********************100%***********************]  1 of 1 completed\n",
      "[*********************100%***********************]  1 of 1 completed\n"
     ]
    }
   ],
   "source": [
    "for i in tickers:\n",
    "    df=yf.download(i,start='2010-01-01')\n",
    "    tacalc(df)\n",
    "    actualtrades=getactuals(df)\n",
    "    relprofit=\\\n",
    "(df.loc[actualtrades.Selling_dates].Open.values-df.loc[actualtrades.Buying_dates].Open.values)/df.loc[actualtrades.Buying_dates].Open.values\n",
    "    matrixprofit.append(relprofit)"
   ]
  },
  {
   "cell_type": "code",
   "execution_count": 36,
   "id": "1d4146c5",
   "metadata": {},
   "outputs": [
    {
     "data": {
      "text/plain": [
       "[array([-0.02713913,  0.01511663, -0.02134043,  0.03563936,  0.00630911,\n",
       "         0.04302849,  0.05726974, -0.02024055, -0.02491304,  0.00892857,\n",
       "         0.04778724,  0.03379217, -0.00807133,  0.03026054,  0.14034511,\n",
       "         0.01964433,  0.0080673 , -0.06987102]),\n",
       " array([ 0.04445172,  0.03067226,  0.03033861,  0.02918936,  0.04434279,\n",
       "         0.00952766,  0.04734535, -0.04219035, -0.0019707 ,  0.0155075 ,\n",
       "        -0.02162751,  0.03337886,  0.01803371,  0.05981927,  0.03757273,\n",
       "         0.02234734,  0.01889808,  0.06336707]),\n",
       " array([ 0.0320399 , -0.10917355,  0.03383455,  0.0505393 ,  0.04483891,\n",
       "         0.02164287,  0.04050305,  0.01363721,  0.00768744,  0.16134183,\n",
       "         0.08480204,  0.11858292,  0.009592  ,  0.1246452 ]),\n",
       " array([ 0.01675761,  0.04462074,  0.12844365,  0.0124407 ,  0.1566922 ,\n",
       "        -0.05907083,  0.00508461,  0.02476729,  0.01597127,  0.02744904,\n",
       "         0.02091187,  0.06743628,  0.03435134, -0.11755164,  0.06909159,\n",
       "        -0.08345889]),\n",
       " array([-0.00603528,  0.08237525,  0.15047664, -0.16025054,  0.02508902,\n",
       "         0.04976195,  0.29509862,  0.10513819,  0.00485814,  0.06551839,\n",
       "         0.02603818,  0.03905337,  0.02090427,  0.02886959, -0.27764554]),\n",
       " array([ 0.03631334,  0.1494468 , -0.0235373 ,  0.02590785,  0.14734885,\n",
       "         0.12125626,  0.28660897, -0.04618106, -0.04571193,  0.02170345,\n",
       "         0.04426951, -0.15294345,  0.01856086])]"
      ]
     },
     "execution_count": 36,
     "metadata": {},
     "output_type": "execute_result"
    }
   ],
   "source": [
    "matrixprofit"
   ]
  },
  {
   "cell_type": "code",
   "execution_count": 37,
   "id": "4b83d9ad",
   "metadata": {},
   "outputs": [
    {
     "name": "stdout",
     "output_type": "stream",
     "text": [
      "[-0.02713913  0.01511663 -0.02134043  0.03563936  0.00630911  0.04302849\n",
      "  0.05726974 -0.02024055 -0.02491304  0.00892857  0.04778724  0.03379217\n",
      " -0.00807133  0.03026054  0.14034511  0.01964433  0.0080673  -0.06987102]\n",
      "[ 0.04445172  0.03067226  0.03033861  0.02918936  0.04434279  0.00952766\n",
      "  0.04734535 -0.04219035 -0.0019707   0.0155075  -0.02162751  0.03337886\n",
      "  0.01803371  0.05981927  0.03757273  0.02234734  0.01889808  0.06336707]\n",
      "[ 0.0320399  -0.10917355  0.03383455  0.0505393   0.04483891  0.02164287\n",
      "  0.04050305  0.01363721  0.00768744  0.16134183  0.08480204  0.11858292\n",
      "  0.009592    0.1246452 ]\n",
      "[ 0.01675761  0.04462074  0.12844365  0.0124407   0.1566922  -0.05907083\n",
      "  0.00508461  0.02476729  0.01597127  0.02744904  0.02091187  0.06743628\n",
      "  0.03435134 -0.11755164  0.06909159 -0.08345889]\n",
      "[-0.00603528  0.08237525  0.15047664 -0.16025054  0.02508902  0.04976195\n",
      "  0.29509862  0.10513819  0.00485814  0.06551839  0.02603818  0.03905337\n",
      "  0.02090427  0.02886959 -0.27764554]\n",
      "[ 0.03631334  0.1494468  -0.0235373   0.02590785  0.14734885  0.12125626\n",
      "  0.28660897 -0.04618106 -0.04571193  0.02170345  0.04426951 -0.15294345\n",
      "  0.01856086]\n"
     ]
    }
   ],
   "source": [
    "for i in matrixprofit:\n",
    "    print(i)"
   ]
  },
  {
   "cell_type": "code",
   "execution_count": 38,
   "id": "7450736a",
   "metadata": {},
   "outputs": [],
   "source": [
    "avgs=[]\n",
    "for i in matrixprofit:\n",
    "    if len(i)>0:\n",
    "        avgs.append(i.mean())"
   ]
  },
  {
   "cell_type": "code",
   "execution_count": 39,
   "id": "3b923eb6",
   "metadata": {},
   "outputs": [
    {
     "data": {
      "text/plain": [
       "[0.015256283767030698,\n",
       " 0.024389097272420907,\n",
       " 0.0453224062583318,\n",
       " 0.022746051523165965,\n",
       " 0.029950016073060217,\n",
       " 0.04484939598484049]"
      ]
     },
     "execution_count": 39,
     "metadata": {},
     "output_type": "execute_result"
    }
   ],
   "source": [
    "avgs"
   ]
  },
  {
   "cell_type": "code",
   "execution_count": 40,
   "id": "e19df8cf",
   "metadata": {},
   "outputs": [
    {
     "data": {
      "text/plain": [
       "0.18251325087885006"
      ]
     },
     "execution_count": 40,
     "metadata": {},
     "output_type": "execute_result"
    }
   ],
   "source": [
    "sum(avgs)"
   ]
  },
  {
   "cell_type": "code",
   "execution_count": 41,
   "id": "9fecb16d",
   "metadata": {},
   "outputs": [
    {
     "data": {
      "text/plain": [
       "0.0453224062583318"
      ]
     },
     "execution_count": 41,
     "metadata": {},
     "output_type": "execute_result"
    }
   ],
   "source": [
    "max(avgs)"
   ]
  },
  {
   "cell_type": "code",
   "execution_count": 42,
   "id": "a3ef4d88",
   "metadata": {},
   "outputs": [
    {
     "data": {
      "text/plain": [
       "2"
      ]
     },
     "execution_count": 42,
     "metadata": {},
     "output_type": "execute_result"
    }
   ],
   "source": [
    "avgs.index(max(avgs))"
   ]
  },
  {
   "cell_type": "code",
   "execution_count": 43,
   "id": "b8dc23c1",
   "metadata": {},
   "outputs": [
    {
     "data": {
      "text/plain": [
       "'TSLA'"
      ]
     },
     "execution_count": 43,
     "metadata": {},
     "output_type": "execute_result"
    }
   ],
   "source": [
    "tickers[2]#max profitable assets"
   ]
  },
  {
   "cell_type": "code",
   "execution_count": null,
   "id": "57aa7e31",
   "metadata": {},
   "outputs": [],
   "source": []
  }
 ],
 "metadata": {
  "kernelspec": {
   "display_name": "Python 3 (ipykernel)",
   "language": "python",
   "name": "python3"
  },
  "language_info": {
   "codemirror_mode": {
    "name": "ipython",
    "version": 3
   },
   "file_extension": ".py",
   "mimetype": "text/x-python",
   "name": "python",
   "nbconvert_exporter": "python",
   "pygments_lexer": "ipython3",
   "version": "3.7.3"
  }
 },
 "nbformat": 4,
 "nbformat_minor": 5
}

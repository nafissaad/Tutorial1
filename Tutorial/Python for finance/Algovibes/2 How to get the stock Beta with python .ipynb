{
 "cells": [
  {
   "cell_type": "code",
   "execution_count": 1,
   "id": "5c784004",
   "metadata": {},
   "outputs": [],
   "source": [
    "import pandas_datareader.data as reader\n",
    "import datetime as dt\n",
    "import matplotlib.pyplot as plt\n",
    "import statsmodels.api as sm"
   ]
  },
  {
   "cell_type": "code",
   "execution_count": 2,
   "id": "c160ffdf",
   "metadata": {},
   "outputs": [],
   "source": [
    "end=dt.datetime.now()\n",
    "start=dt.date(end.year-5,end.month,end.day)\n",
    "Input=['MSFT','^GSPC']"
   ]
  },
  {
   "cell_type": "code",
   "execution_count": 3,
   "id": "13119b04",
   "metadata": {},
   "outputs": [
    {
     "data": {
      "text/html": [
       "<div>\n",
       "<style scoped>\n",
       "    .dataframe tbody tr th:only-of-type {\n",
       "        vertical-align: middle;\n",
       "    }\n",
       "\n",
       "    .dataframe tbody tr th {\n",
       "        vertical-align: top;\n",
       "    }\n",
       "\n",
       "    .dataframe thead th {\n",
       "        text-align: right;\n",
       "    }\n",
       "</style>\n",
       "<table border=\"1\" class=\"dataframe\">\n",
       "  <thead>\n",
       "    <tr style=\"text-align: right;\">\n",
       "      <th>Symbols</th>\n",
       "      <th>MSFT</th>\n",
       "      <th>^GSPC</th>\n",
       "    </tr>\n",
       "    <tr>\n",
       "      <th>Date</th>\n",
       "      <th></th>\n",
       "      <th></th>\n",
       "    </tr>\n",
       "  </thead>\n",
       "  <tbody>\n",
       "    <tr>\n",
       "      <th>2017-07-26</th>\n",
       "      <td>69.359222</td>\n",
       "      <td>2477.830078</td>\n",
       "    </tr>\n",
       "    <tr>\n",
       "      <th>2017-07-27</th>\n",
       "      <td>68.525620</td>\n",
       "      <td>2475.419922</td>\n",
       "    </tr>\n",
       "    <tr>\n",
       "      <th>2017-07-28</th>\n",
       "      <td>68.413193</td>\n",
       "      <td>2472.100098</td>\n",
       "    </tr>\n",
       "    <tr>\n",
       "      <th>2017-07-31</th>\n",
       "      <td>68.094734</td>\n",
       "      <td>2470.300049</td>\n",
       "    </tr>\n",
       "    <tr>\n",
       "      <th>2017-08-01</th>\n",
       "      <td>67.982346</td>\n",
       "      <td>2476.350098</td>\n",
       "    </tr>\n",
       "    <tr>\n",
       "      <th>...</th>\n",
       "      <td>...</td>\n",
       "      <td>...</td>\n",
       "    </tr>\n",
       "    <tr>\n",
       "      <th>2022-07-21</th>\n",
       "      <td>264.839996</td>\n",
       "      <td>3998.949951</td>\n",
       "    </tr>\n",
       "    <tr>\n",
       "      <th>2022-07-22</th>\n",
       "      <td>260.359985</td>\n",
       "      <td>3961.629883</td>\n",
       "    </tr>\n",
       "    <tr>\n",
       "      <th>2022-07-25</th>\n",
       "      <td>258.829987</td>\n",
       "      <td>3966.840088</td>\n",
       "    </tr>\n",
       "    <tr>\n",
       "      <th>2022-07-26</th>\n",
       "      <td>251.899994</td>\n",
       "      <td>3921.050049</td>\n",
       "    </tr>\n",
       "    <tr>\n",
       "      <th>2022-07-27</th>\n",
       "      <td>263.575012</td>\n",
       "      <td>3973.830078</td>\n",
       "    </tr>\n",
       "  </tbody>\n",
       "</table>\n",
       "<p>1260 rows × 2 columns</p>\n",
       "</div>"
      ],
      "text/plain": [
       "Symbols           MSFT        ^GSPC\n",
       "Date                               \n",
       "2017-07-26   69.359222  2477.830078\n",
       "2017-07-27   68.525620  2475.419922\n",
       "2017-07-28   68.413193  2472.100098\n",
       "2017-07-31   68.094734  2470.300049\n",
       "2017-08-01   67.982346  2476.350098\n",
       "...                ...          ...\n",
       "2022-07-21  264.839996  3998.949951\n",
       "2022-07-22  260.359985  3961.629883\n",
       "2022-07-25  258.829987  3966.840088\n",
       "2022-07-26  251.899994  3921.050049\n",
       "2022-07-27  263.575012  3973.830078\n",
       "\n",
       "[1260 rows x 2 columns]"
      ]
     },
     "execution_count": 3,
     "metadata": {},
     "output_type": "execute_result"
    }
   ],
   "source": [
    "df=reader.get_data_yahoo(Input,start,end)['Adj Close']\n",
    "df"
   ]
  },
  {
   "cell_type": "code",
   "execution_count": 4,
   "id": "53beaf66",
   "metadata": {},
   "outputs": [],
   "source": [
    "#monthly return\n",
    "mlt_ret=df.resample('M').ffill().pct_change()\n",
    "mlt_ret.dropna(axis=0,inplace=True)"
   ]
  },
  {
   "cell_type": "code",
   "execution_count": 5,
   "id": "6a148e9d",
   "metadata": {},
   "outputs": [],
   "source": [
    "mlt_ret=mlt_ret[:-2]"
   ]
  },
  {
   "cell_type": "code",
   "execution_count": 6,
   "id": "9ec5fde2",
   "metadata": {},
   "outputs": [],
   "source": [
    "x=mlt_ret['^GSPC']\n",
    "y=mlt_ret['MSFT']\n",
    "x_sm=sm.add_constant(x)"
   ]
  },
  {
   "cell_type": "code",
   "execution_count": 7,
   "id": "6f367b93",
   "metadata": {},
   "outputs": [],
   "source": [
    "model=sm.OLS(y,x_sm)"
   ]
  },
  {
   "cell_type": "code",
   "execution_count": 8,
   "id": "ba6acc50",
   "metadata": {},
   "outputs": [],
   "source": [
    "results=model.fit()"
   ]
  },
  {
   "cell_type": "code",
   "execution_count": 9,
   "id": "44e2fa91",
   "metadata": {},
   "outputs": [
    {
     "data": {
      "text/html": [
       "<table class=\"simpletable\">\n",
       "<caption>OLS Regression Results</caption>\n",
       "<tr>\n",
       "  <th>Dep. Variable:</th>          <td>MSFT</td>       <th>  R-squared:         </th> <td>   0.604</td>\n",
       "</tr>\n",
       "<tr>\n",
       "  <th>Model:</th>                   <td>OLS</td>       <th>  Adj. R-squared:    </th> <td>   0.597</td>\n",
       "</tr>\n",
       "<tr>\n",
       "  <th>Method:</th>             <td>Least Squares</td>  <th>  F-statistic:       </th> <td>   85.32</td>\n",
       "</tr>\n",
       "<tr>\n",
       "  <th>Date:</th>             <td>Wed, 27 Jul 2022</td> <th>  Prob (F-statistic):</th> <td>7.48e-13</td>\n",
       "</tr>\n",
       "<tr>\n",
       "  <th>Time:</th>                 <td>21:30:31</td>     <th>  Log-Likelihood:    </th> <td>  110.18</td>\n",
       "</tr>\n",
       "<tr>\n",
       "  <th>No. Observations:</th>      <td>    58</td>      <th>  AIC:               </th> <td>  -216.4</td>\n",
       "</tr>\n",
       "<tr>\n",
       "  <th>Df Residuals:</th>          <td>    56</td>      <th>  BIC:               </th> <td>  -212.2</td>\n",
       "</tr>\n",
       "<tr>\n",
       "  <th>Df Model:</th>              <td>     1</td>      <th>                     </th>     <td> </td>   \n",
       "</tr>\n",
       "<tr>\n",
       "  <th>Covariance Type:</th>      <td>nonrobust</td>    <th>                     </th>     <td> </td>   \n",
       "</tr>\n",
       "</table>\n",
       "<table class=\"simpletable\">\n",
       "<tr>\n",
       "    <td></td>       <th>coef</th>     <th>std err</th>      <th>t</th>      <th>P>|t|</th>  <th>[0.025</th>    <th>0.975]</th>  \n",
       "</tr>\n",
       "<tr>\n",
       "  <th>const</th> <td>    0.0164</td> <td>    0.005</td> <td>    3.308</td> <td> 0.002</td> <td>    0.006</td> <td>    0.026</td>\n",
       "</tr>\n",
       "<tr>\n",
       "  <th>^GSPC</th> <td>    0.9360</td> <td>    0.101</td> <td>    9.237</td> <td> 0.000</td> <td>    0.733</td> <td>    1.139</td>\n",
       "</tr>\n",
       "</table>\n",
       "<table class=\"simpletable\">\n",
       "<tr>\n",
       "  <th>Omnibus:</th>       <td> 3.835</td> <th>  Durbin-Watson:     </th> <td>   2.279</td>\n",
       "</tr>\n",
       "<tr>\n",
       "  <th>Prob(Omnibus):</th> <td> 0.147</td> <th>  Jarque-Bera (JB):  </th> <td>   3.473</td>\n",
       "</tr>\n",
       "<tr>\n",
       "  <th>Skew:</th>          <td> 0.598</td> <th>  Prob(JB):          </th> <td>   0.176</td>\n",
       "</tr>\n",
       "<tr>\n",
       "  <th>Kurtosis:</th>      <td> 2.932</td> <th>  Cond. No.          </th> <td>    20.9</td>\n",
       "</tr>\n",
       "</table><br/><br/>Notes:<br/>[1] Standard Errors assume that the covariance matrix of the errors is correctly specified."
      ],
      "text/plain": [
       "<class 'statsmodels.iolib.summary.Summary'>\n",
       "\"\"\"\n",
       "                            OLS Regression Results                            \n",
       "==============================================================================\n",
       "Dep. Variable:                   MSFT   R-squared:                       0.604\n",
       "Model:                            OLS   Adj. R-squared:                  0.597\n",
       "Method:                 Least Squares   F-statistic:                     85.32\n",
       "Date:                Wed, 27 Jul 2022   Prob (F-statistic):           7.48e-13\n",
       "Time:                        21:30:31   Log-Likelihood:                 110.18\n",
       "No. Observations:                  58   AIC:                            -216.4\n",
       "Df Residuals:                      56   BIC:                            -212.2\n",
       "Df Model:                           1                                         \n",
       "Covariance Type:            nonrobust                                         \n",
       "==============================================================================\n",
       "                 coef    std err          t      P>|t|      [0.025      0.975]\n",
       "------------------------------------------------------------------------------\n",
       "const          0.0164      0.005      3.308      0.002       0.006       0.026\n",
       "^GSPC          0.9360      0.101      9.237      0.000       0.733       1.139\n",
       "==============================================================================\n",
       "Omnibus:                        3.835   Durbin-Watson:                   2.279\n",
       "Prob(Omnibus):                  0.147   Jarque-Bera (JB):                3.473\n",
       "Skew:                           0.598   Prob(JB):                        0.176\n",
       "Kurtosis:                       2.932   Cond. No.                         20.9\n",
       "==============================================================================\n",
       "\n",
       "Notes:\n",
       "[1] Standard Errors assume that the covariance matrix of the errors is correctly specified.\n",
       "\"\"\""
      ]
     },
     "execution_count": 9,
     "metadata": {},
     "output_type": "execute_result"
    }
   ],
   "source": [
    "results.summary()"
   ]
  },
  {
   "cell_type": "code",
   "execution_count": 10,
   "id": "962d060a",
   "metadata": {},
   "outputs": [],
   "source": [
    "import seaborn as sns"
   ]
  },
  {
   "cell_type": "code",
   "execution_count": 11,
   "id": "34dfc490",
   "metadata": {},
   "outputs": [
    {
     "data": {
      "image/png": "[encoded data removed]",
      "text/plain": [
       "<Figure size 432x288 with 1 Axes>"
      ]
     },
     "metadata": {
      "needs_background": "light"
     },
     "output_type": "display_data"
    }
   ],
   "source": [
    "sns.regplot(x='^GSPC',y='MSFT',data=mlt_ret)#blue line is 95% confident interval\n",
    "plt.show()"
   ]
  },
  {
   "cell_type": "code",
   "execution_count": 12,
   "id": "589da52e",
   "metadata": {},
   "outputs": [],
   "source": [
    "risk_freerate=reader.DataReader('F-F_Research_Data_Factors','famafrench',start,end)[0].RF\n",
    "risk_freerate1=risk_freerate[1:]"
   ]
  },
  {
   "cell_type": "code",
   "execution_count": 13,
   "id": "2711e4ae",
   "metadata": {},
   "outputs": [
    {
     "data": {
      "text/plain": [
       "Date\n",
       "2017-08    0.09\n",
       "2017-09    0.09\n",
       "2017-10    0.09\n",
       "2017-11    0.08\n",
       "2017-12    0.09\n",
       "Freq: M, Name: RF, dtype: float64"
      ]
     },
     "execution_count": 13,
     "metadata": {},
     "output_type": "execute_result"
    }
   ],
   "source": [
    "risk_freerate1.head()"
   ]
  },
  {
   "cell_type": "code",
   "execution_count": 14,
   "id": "900a2821",
   "metadata": {},
   "outputs": [],
   "source": [
    "mlt_ret['MSFT-rf'],mlt_ret['^GSPC-rf']=mlt_ret['MSFT']-risk_freerate1.values,mlt_ret['^GSPC']-risk_freerate1.values"
   ]
  },
  {
   "cell_type": "code",
   "execution_count": 15,
   "id": "ccf80b39",
   "metadata": {},
   "outputs": [
    {
     "data": {
      "text/html": [
       "<div>\n",
       "<style scoped>\n",
       "    .dataframe tbody tr th:only-of-type {\n",
       "        vertical-align: middle;\n",
       "    }\n",
       "\n",
       "    .dataframe tbody tr th {\n",
       "        vertical-align: top;\n",
       "    }\n",
       "\n",
       "    .dataframe thead th {\n",
       "        text-align: right;\n",
       "    }\n",
       "</style>\n",
       "<table border=\"1\" class=\"dataframe\">\n",
       "  <thead>\n",
       "    <tr style=\"text-align: right;\">\n",
       "      <th>Symbols</th>\n",
       "      <th>MSFT</th>\n",
       "      <th>^GSPC</th>\n",
       "      <th>MSFT-rf</th>\n",
       "      <th>^GSPC-rf</th>\n",
       "    </tr>\n",
       "    <tr>\n",
       "      <th>Date</th>\n",
       "      <th></th>\n",
       "      <th></th>\n",
       "      <th></th>\n",
       "      <th></th>\n",
       "    </tr>\n",
       "  </thead>\n",
       "  <tbody>\n",
       "    <tr>\n",
       "      <th>2017-08-31</th>\n",
       "      <td>0.033952</td>\n",
       "      <td>0.000546</td>\n",
       "      <td>-0.056048</td>\n",
       "      <td>-0.089454</td>\n",
       "    </tr>\n",
       "    <tr>\n",
       "      <th>2017-09-30</th>\n",
       "      <td>-0.003745</td>\n",
       "      <td>0.019303</td>\n",
       "      <td>-0.093745</td>\n",
       "      <td>-0.070697</td>\n",
       "    </tr>\n",
       "    <tr>\n",
       "      <th>2017-10-31</th>\n",
       "      <td>0.116660</td>\n",
       "      <td>0.022188</td>\n",
       "      <td>0.026660</td>\n",
       "      <td>-0.067812</td>\n",
       "    </tr>\n",
       "    <tr>\n",
       "      <th>2017-11-30</th>\n",
       "      <td>0.016984</td>\n",
       "      <td>0.028083</td>\n",
       "      <td>-0.063016</td>\n",
       "      <td>-0.051917</td>\n",
       "    </tr>\n",
       "    <tr>\n",
       "      <th>2017-12-31</th>\n",
       "      <td>0.016277</td>\n",
       "      <td>0.009832</td>\n",
       "      <td>-0.073723</td>\n",
       "      <td>-0.080168</td>\n",
       "    </tr>\n",
       "  </tbody>\n",
       "</table>\n",
       "</div>"
      ],
      "text/plain": [
       "Symbols         MSFT     ^GSPC   MSFT-rf  ^GSPC-rf\n",
       "Date                                              \n",
       "2017-08-31  0.033952  0.000546 -0.056048 -0.089454\n",
       "2017-09-30 -0.003745  0.019303 -0.093745 -0.070697\n",
       "2017-10-31  0.116660  0.022188  0.026660 -0.067812\n",
       "2017-11-30  0.016984  0.028083 -0.063016 -0.051917\n",
       "2017-12-31  0.016277  0.009832 -0.073723 -0.080168"
      ]
     },
     "execution_count": 15,
     "metadata": {},
     "output_type": "execute_result"
    }
   ],
   "source": [
    "mlt_ret.head()"
   ]
  },
  {
   "cell_type": "code",
   "execution_count": 16,
   "id": "63e77d57",
   "metadata": {},
   "outputs": [],
   "source": [
    "x=mlt_ret['^GSPC-rf']\n",
    "y=mlt_ret['MSFT-rf']\n",
    "x_sm=sm.add_constant(x)"
   ]
  },
  {
   "cell_type": "code",
   "execution_count": 17,
   "id": "c78d661f",
   "metadata": {},
   "outputs": [],
   "source": [
    "model=sm.OLS(y,x_sm)"
   ]
  },
  {
   "cell_type": "code",
   "execution_count": 18,
   "id": "85c339cd",
   "metadata": {},
   "outputs": [],
   "source": [
    "results=model.fit()"
   ]
  },
  {
   "cell_type": "code",
   "execution_count": 19,
   "id": "b76126a7",
   "metadata": {},
   "outputs": [
    {
     "data": {
      "text/html": [
       "<table class=\"simpletable\">\n",
       "<caption>OLS Regression Results</caption>\n",
       "<tr>\n",
       "  <th>Dep. Variable:</th>         <td>MSFT-rf</td>     <th>  R-squared:         </th> <td>   0.862</td>\n",
       "</tr>\n",
       "<tr>\n",
       "  <th>Model:</th>                   <td>OLS</td>       <th>  Adj. R-squared:    </th> <td>   0.859</td>\n",
       "</tr>\n",
       "<tr>\n",
       "  <th>Method:</th>             <td>Least Squares</td>  <th>  F-statistic:       </th> <td>   349.6</td>\n",
       "</tr>\n",
       "<tr>\n",
       "  <th>Date:</th>             <td>Wed, 27 Jul 2022</td> <th>  Prob (F-statistic):</th> <td>9.52e-26</td>\n",
       "</tr>\n",
       "<tr>\n",
       "  <th>Time:</th>                 <td>21:30:33</td>     <th>  Log-Likelihood:    </th> <td>  111.16</td>\n",
       "</tr>\n",
       "<tr>\n",
       "  <th>No. Observations:</th>      <td>    58</td>      <th>  AIC:               </th> <td>  -218.3</td>\n",
       "</tr>\n",
       "<tr>\n",
       "  <th>Df Residuals:</th>          <td>    56</td>      <th>  BIC:               </th> <td>  -214.2</td>\n",
       "</tr>\n",
       "<tr>\n",
       "  <th>Df Model:</th>              <td>     1</td>      <th>                     </th>     <td> </td>   \n",
       "</tr>\n",
       "<tr>\n",
       "  <th>Covariance Type:</th>      <td>nonrobust</td>    <th>                     </th>     <td> </td>   \n",
       "</tr>\n",
       "</table>\n",
       "<table class=\"simpletable\">\n",
       "<tr>\n",
       "      <td></td>        <th>coef</th>     <th>std err</th>      <th>t</th>      <th>P>|t|</th>  <th>[0.025</th>    <th>0.975]</th>  \n",
       "</tr>\n",
       "<tr>\n",
       "  <th>const</th>    <td>    0.0102</td> <td>    0.006</td> <td>    1.699</td> <td> 0.095</td> <td>   -0.002</td> <td>    0.022</td>\n",
       "</tr>\n",
       "<tr>\n",
       "  <th>^GSPC-rf</th> <td>    0.9244</td> <td>    0.049</td> <td>   18.699</td> <td> 0.000</td> <td>    0.825</td> <td>    1.023</td>\n",
       "</tr>\n",
       "</table>\n",
       "<table class=\"simpletable\">\n",
       "<tr>\n",
       "  <th>Omnibus:</th>       <td> 6.628</td> <th>  Durbin-Watson:     </th> <td>   2.358</td>\n",
       "</tr>\n",
       "<tr>\n",
       "  <th>Prob(Omnibus):</th> <td> 0.036</td> <th>  Jarque-Bera (JB):  </th> <td>   5.905</td>\n",
       "</tr>\n",
       "<tr>\n",
       "  <th>Skew:</th>          <td> 0.762</td> <th>  Prob(JB):          </th> <td>  0.0522</td>\n",
       "</tr>\n",
       "<tr>\n",
       "  <th>Kurtosis:</th>      <td> 3.346</td> <th>  Cond. No.          </th> <td>    10.4</td>\n",
       "</tr>\n",
       "</table><br/><br/>Notes:<br/>[1] Standard Errors assume that the covariance matrix of the errors is correctly specified."
      ],
      "text/plain": [
       "<class 'statsmodels.iolib.summary.Summary'>\n",
       "\"\"\"\n",
       "                            OLS Regression Results                            \n",
       "==============================================================================\n",
       "Dep. Variable:                MSFT-rf   R-squared:                       0.862\n",
       "Model:                            OLS   Adj. R-squared:                  0.859\n",
       "Method:                 Least Squares   F-statistic:                     349.6\n",
       "Date:                Wed, 27 Jul 2022   Prob (F-statistic):           9.52e-26\n",
       "Time:                        21:30:33   Log-Likelihood:                 111.16\n",
       "No. Observations:                  58   AIC:                            -218.3\n",
       "Df Residuals:                      56   BIC:                            -214.2\n",
       "Df Model:                           1                                         \n",
       "Covariance Type:            nonrobust                                         \n",
       "==============================================================================\n",
       "                 coef    std err          t      P>|t|      [0.025      0.975]\n",
       "------------------------------------------------------------------------------\n",
       "const          0.0102      0.006      1.699      0.095      -0.002       0.022\n",
       "^GSPC-rf       0.9244      0.049     18.699      0.000       0.825       1.023\n",
       "==============================================================================\n",
       "Omnibus:                        6.628   Durbin-Watson:                   2.358\n",
       "Prob(Omnibus):                  0.036   Jarque-Bera (JB):                5.905\n",
       "Skew:                           0.762   Prob(JB):                       0.0522\n",
       "Kurtosis:                       3.346   Cond. No.                         10.4\n",
       "==============================================================================\n",
       "\n",
       "Notes:\n",
       "[1] Standard Errors assume that the covariance matrix of the errors is correctly specified.\n",
       "\"\"\""
      ]
     },
     "execution_count": 19,
     "metadata": {},
     "output_type": "execute_result"
    }
   ],
   "source": [
    "results.summary()"
   ]
  },
  {
   "cell_type": "code",
   "execution_count": 20,
   "id": "f8aea34f",
   "metadata": {},
   "outputs": [
    {
     "data": {
      "image/png": "[encoded data removed]",
      "text/plain": [
       "<Figure size 432x288 with 1 Axes>"
      ]
     },
     "metadata": {
      "needs_background": "light"
     },
     "output_type": "display_data"
    }
   ],
   "source": [
    "sns.regplot(x='^GSPC-rf',y='MSFT-rf',data=mlt_ret)#blue line is 95% confident interval\n",
    "plt.show()"
   ]
  },
  {
   "cell_type": "code",
   "execution_count": null,
   "id": "dc1d7f51",
   "metadata": {},
   "outputs": [],
   "source": []
  }
 ],
 "metadata": {
  "kernelspec": {
   "display_name": "Python 3 (ipykernel)",
   "language": "python",
   "name": "python3"
  },
  "language_info": {
   "codemirror_mode": {
    "name": "ipython",
    "version": 3
   },
   "file_extension": ".py",
   "mimetype": "text/x-python",
   "name": "python",
   "nbconvert_exporter": "python",
   "pygments_lexer": "ipython3",
   "version": "3.7.3"
  }
 },
 "nbformat": 4,
 "nbformat_minor": 5
}

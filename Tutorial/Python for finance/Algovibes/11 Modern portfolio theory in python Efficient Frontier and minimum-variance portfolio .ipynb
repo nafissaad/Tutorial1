{
 "cells": [
  {
   "cell_type": "code",
   "execution_count": 1,
   "id": "cebc274a",
   "metadata": {},
   "outputs": [],
   "source": [
    "import yfinance as yf\n",
    "import numpy as np"
   ]
  },
  {
   "cell_type": "code",
   "execution_count": 2,
   "id": "fec1b31a",
   "metadata": {},
   "outputs": [
    {
     "name": "stdout",
     "output_type": "stream",
     "text": [
      "[*********************100%***********************]  3 of 3 completed\n"
     ]
    },
    {
     "data": {
      "text/html": [
       "<div>\n",
       "<style scoped>\n",
       "    .dataframe tbody tr th:only-of-type {\n",
       "        vertical-align: middle;\n",
       "    }\n",
       "\n",
       "    .dataframe tbody tr th {\n",
       "        vertical-align: top;\n",
       "    }\n",
       "\n",
       "    .dataframe thead tr th {\n",
       "        text-align: left;\n",
       "    }\n",
       "\n",
       "    .dataframe thead tr:last-of-type th {\n",
       "        text-align: right;\n",
       "    }\n",
       "</style>\n",
       "<table border=\"1\" class=\"dataframe\">\n",
       "  <thead>\n",
       "    <tr>\n",
       "      <th></th>\n",
       "      <th colspan=\"3\" halign=\"left\">Adj Close</th>\n",
       "      <th colspan=\"3\" halign=\"left\">Close</th>\n",
       "      <th colspan=\"3\" halign=\"left\">High</th>\n",
       "      <th colspan=\"3\" halign=\"left\">Low</th>\n",
       "      <th colspan=\"3\" halign=\"left\">Open</th>\n",
       "      <th colspan=\"3\" halign=\"left\">Volume</th>\n",
       "    </tr>\n",
       "    <tr>\n",
       "      <th></th>\n",
       "      <th>AAPL</th>\n",
       "      <th>CAT</th>\n",
       "      <th>TSLA</th>\n",
       "      <th>AAPL</th>\n",
       "      <th>CAT</th>\n",
       "      <th>TSLA</th>\n",
       "      <th>AAPL</th>\n",
       "      <th>CAT</th>\n",
       "      <th>TSLA</th>\n",
       "      <th>AAPL</th>\n",
       "      <th>CAT</th>\n",
       "      <th>TSLA</th>\n",
       "      <th>AAPL</th>\n",
       "      <th>CAT</th>\n",
       "      <th>TSLA</th>\n",
       "      <th>AAPL</th>\n",
       "      <th>CAT</th>\n",
       "      <th>TSLA</th>\n",
       "    </tr>\n",
       "    <tr>\n",
       "      <th>Date</th>\n",
       "      <th></th>\n",
       "      <th></th>\n",
       "      <th></th>\n",
       "      <th></th>\n",
       "      <th></th>\n",
       "      <th></th>\n",
       "      <th></th>\n",
       "      <th></th>\n",
       "      <th></th>\n",
       "      <th></th>\n",
       "      <th></th>\n",
       "      <th></th>\n",
       "      <th></th>\n",
       "      <th></th>\n",
       "      <th></th>\n",
       "      <th></th>\n",
       "      <th></th>\n",
       "      <th></th>\n",
       "    </tr>\n",
       "  </thead>\n",
       "  <tbody>\n",
       "    <tr>\n",
       "      <th>2000-11-30</th>\n",
       "      <td>0.251575</td>\n",
       "      <td>11.156616</td>\n",
       "      <td>NaN</td>\n",
       "      <td>0.294643</td>\n",
       "      <td>19.656250</td>\n",
       "      <td>NaN</td>\n",
       "      <td>0.303571</td>\n",
       "      <td>20.531250</td>\n",
       "      <td>NaN</td>\n",
       "      <td>0.287946</td>\n",
       "      <td>19.625000</td>\n",
       "      <td>NaN</td>\n",
       "      <td>0.297991</td>\n",
       "      <td>20.062500</td>\n",
       "      <td>NaN</td>\n",
       "      <td>809597600</td>\n",
       "      <td>3984400</td>\n",
       "      <td>NaN</td>\n",
       "    </tr>\n",
       "    <tr>\n",
       "      <th>2000-12-01</th>\n",
       "      <td>0.260152</td>\n",
       "      <td>11.546829</td>\n",
       "      <td>NaN</td>\n",
       "      <td>0.304688</td>\n",
       "      <td>20.343750</td>\n",
       "      <td>NaN</td>\n",
       "      <td>0.312500</td>\n",
       "      <td>20.625000</td>\n",
       "      <td>NaN</td>\n",
       "      <td>0.300223</td>\n",
       "      <td>19.750000</td>\n",
       "      <td>NaN</td>\n",
       "      <td>0.303571</td>\n",
       "      <td>19.750000</td>\n",
       "      <td>NaN</td>\n",
       "      <td>385705600</td>\n",
       "      <td>3003600</td>\n",
       "      <td>NaN</td>\n",
       "    </tr>\n",
       "    <tr>\n",
       "      <th>2000-12-04</th>\n",
       "      <td>0.254434</td>\n",
       "      <td>12.291787</td>\n",
       "      <td>NaN</td>\n",
       "      <td>0.297991</td>\n",
       "      <td>21.656250</td>\n",
       "      <td>NaN</td>\n",
       "      <td>0.306920</td>\n",
       "      <td>21.968750</td>\n",
       "      <td>NaN</td>\n",
       "      <td>0.293527</td>\n",
       "      <td>20.375000</td>\n",
       "      <td>NaN</td>\n",
       "      <td>0.306920</td>\n",
       "      <td>20.375000</td>\n",
       "      <td>NaN</td>\n",
       "      <td>371520800</td>\n",
       "      <td>6023200</td>\n",
       "      <td>NaN</td>\n",
       "    </tr>\n",
       "    <tr>\n",
       "      <th>2000-12-05</th>\n",
       "      <td>0.259199</td>\n",
       "      <td>12.309517</td>\n",
       "      <td>NaN</td>\n",
       "      <td>0.303571</td>\n",
       "      <td>21.687500</td>\n",
       "      <td>NaN</td>\n",
       "      <td>0.311384</td>\n",
       "      <td>22.125000</td>\n",
       "      <td>NaN</td>\n",
       "      <td>0.292411</td>\n",
       "      <td>20.968750</td>\n",
       "      <td>NaN</td>\n",
       "      <td>0.302455</td>\n",
       "      <td>21.656250</td>\n",
       "      <td>NaN</td>\n",
       "      <td>613978400</td>\n",
       "      <td>5893000</td>\n",
       "      <td>NaN</td>\n",
       "    </tr>\n",
       "    <tr>\n",
       "      <th>2000-12-06</th>\n",
       "      <td>0.218222</td>\n",
       "      <td>11.795146</td>\n",
       "      <td>NaN</td>\n",
       "      <td>0.255580</td>\n",
       "      <td>20.781250</td>\n",
       "      <td>NaN</td>\n",
       "      <td>0.267857</td>\n",
       "      <td>21.343750</td>\n",
       "      <td>NaN</td>\n",
       "      <td>0.250000</td>\n",
       "      <td>20.687500</td>\n",
       "      <td>NaN</td>\n",
       "      <td>0.261161</td>\n",
       "      <td>21.343750</td>\n",
       "      <td>NaN</td>\n",
       "      <td>1374464000</td>\n",
       "      <td>3086800</td>\n",
       "      <td>NaN</td>\n",
       "    </tr>\n",
       "    <tr>\n",
       "      <th>...</th>\n",
       "      <td>...</td>\n",
       "      <td>...</td>\n",
       "      <td>...</td>\n",
       "      <td>...</td>\n",
       "      <td>...</td>\n",
       "      <td>...</td>\n",
       "      <td>...</td>\n",
       "      <td>...</td>\n",
       "      <td>...</td>\n",
       "      <td>...</td>\n",
       "      <td>...</td>\n",
       "      <td>...</td>\n",
       "      <td>...</td>\n",
       "      <td>...</td>\n",
       "      <td>...</td>\n",
       "      <td>...</td>\n",
       "      <td>...</td>\n",
       "      <td>...</td>\n",
       "    </tr>\n",
       "    <tr>\n",
       "      <th>2020-11-23</th>\n",
       "      <td>112.686134</td>\n",
       "      <td>168.390808</td>\n",
       "      <td>173.949997</td>\n",
       "      <td>113.849998</td>\n",
       "      <td>174.779999</td>\n",
       "      <td>173.949997</td>\n",
       "      <td>117.620003</td>\n",
       "      <td>175.500000</td>\n",
       "      <td>175.333328</td>\n",
       "      <td>113.750000</td>\n",
       "      <td>173.240005</td>\n",
       "      <td>167.263336</td>\n",
       "      <td>117.180000</td>\n",
       "      <td>173.759995</td>\n",
       "      <td>167.833328</td>\n",
       "      <td>127959300</td>\n",
       "      <td>2403500</td>\n",
       "      <td>150780912.0</td>\n",
       "    </tr>\n",
       "    <tr>\n",
       "      <th>2020-11-24</th>\n",
       "      <td>113.992645</td>\n",
       "      <td>170.433289</td>\n",
       "      <td>185.126663</td>\n",
       "      <td>115.169998</td>\n",
       "      <td>176.899994</td>\n",
       "      <td>185.126663</td>\n",
       "      <td>115.849998</td>\n",
       "      <td>178.320007</td>\n",
       "      <td>186.663330</td>\n",
       "      <td>112.589996</td>\n",
       "      <td>175.270004</td>\n",
       "      <td>175.399994</td>\n",
       "      <td>113.910004</td>\n",
       "      <td>176.250000</td>\n",
       "      <td>180.133331</td>\n",
       "      <td>113874200</td>\n",
       "      <td>3447000</td>\n",
       "      <td>160945482.0</td>\n",
       "    </tr>\n",
       "    <tr>\n",
       "      <th>2020-11-25</th>\n",
       "      <td>114.843842</td>\n",
       "      <td>168.246277</td>\n",
       "      <td>191.333328</td>\n",
       "      <td>116.029999</td>\n",
       "      <td>174.630005</td>\n",
       "      <td>191.333328</td>\n",
       "      <td>116.750000</td>\n",
       "      <td>176.479996</td>\n",
       "      <td>191.333328</td>\n",
       "      <td>115.169998</td>\n",
       "      <td>172.779999</td>\n",
       "      <td>181.789993</td>\n",
       "      <td>115.550003</td>\n",
       "      <td>176.460007</td>\n",
       "      <td>183.353333</td>\n",
       "      <td>76499200</td>\n",
       "      <td>2506400</td>\n",
       "      <td>146790486.0</td>\n",
       "    </tr>\n",
       "    <tr>\n",
       "      <th>2020-11-27</th>\n",
       "      <td>115.398132</td>\n",
       "      <td>168.679825</td>\n",
       "      <td>195.253326</td>\n",
       "      <td>116.589996</td>\n",
       "      <td>175.080002</td>\n",
       "      <td>195.253326</td>\n",
       "      <td>117.489998</td>\n",
       "      <td>175.919998</td>\n",
       "      <td>199.593338</td>\n",
       "      <td>116.220001</td>\n",
       "      <td>173.880005</td>\n",
       "      <td>192.816666</td>\n",
       "      <td>116.570000</td>\n",
       "      <td>174.410004</td>\n",
       "      <td>193.720001</td>\n",
       "      <td>46691300</td>\n",
       "      <td>976900</td>\n",
       "      <td>112683234.0</td>\n",
       "    </tr>\n",
       "    <tr>\n",
       "      <th>2020-11-30</th>\n",
       "      <td>117.832985</td>\n",
       "      <td>167.244278</td>\n",
       "      <td>189.199997</td>\n",
       "      <td>119.050003</td>\n",
       "      <td>173.589996</td>\n",
       "      <td>189.199997</td>\n",
       "      <td>120.970001</td>\n",
       "      <td>174.880005</td>\n",
       "      <td>202.600006</td>\n",
       "      <td>116.809998</td>\n",
       "      <td>172.429993</td>\n",
       "      <td>184.836670</td>\n",
       "      <td>116.970001</td>\n",
       "      <td>173.610001</td>\n",
       "      <td>200.736664</td>\n",
       "      <td>169410200</td>\n",
       "      <td>2382600</td>\n",
       "      <td>189009156.0</td>\n",
       "    </tr>\n",
       "  </tbody>\n",
       "</table>\n",
       "<p>5031 rows × 18 columns</p>\n",
       "</div>"
      ],
      "text/plain": [
       "             Adj Close                               Close              \\\n",
       "                  AAPL         CAT        TSLA        AAPL         CAT   \n",
       "Date                                                                     \n",
       "2000-11-30    0.251575   11.156616         NaN    0.294643   19.656250   \n",
       "2000-12-01    0.260152   11.546829         NaN    0.304688   20.343750   \n",
       "2000-12-04    0.254434   12.291787         NaN    0.297991   21.656250   \n",
       "2000-12-05    0.259199   12.309517         NaN    0.303571   21.687500   \n",
       "2000-12-06    0.218222   11.795146         NaN    0.255580   20.781250   \n",
       "...                ...         ...         ...         ...         ...   \n",
       "2020-11-23  112.686134  168.390808  173.949997  113.849998  174.779999   \n",
       "2020-11-24  113.992645  170.433289  185.126663  115.169998  176.899994   \n",
       "2020-11-25  114.843842  168.246277  191.333328  116.029999  174.630005   \n",
       "2020-11-27  115.398132  168.679825  195.253326  116.589996  175.080002   \n",
       "2020-11-30  117.832985  167.244278  189.199997  119.050003  173.589996   \n",
       "\n",
       "                              High                                 Low  \\\n",
       "                  TSLA        AAPL         CAT        TSLA        AAPL   \n",
       "Date                                                                     \n",
       "2000-11-30         NaN    0.303571   20.531250         NaN    0.287946   \n",
       "2000-12-01         NaN    0.312500   20.625000         NaN    0.300223   \n",
       "2000-12-04         NaN    0.306920   21.968750         NaN    0.293527   \n",
       "2000-12-05         NaN    0.311384   22.125000         NaN    0.292411   \n",
       "2000-12-06         NaN    0.267857   21.343750         NaN    0.250000   \n",
       "...                ...         ...         ...         ...         ...   \n",
       "2020-11-23  173.949997  117.620003  175.500000  175.333328  113.750000   \n",
       "2020-11-24  185.126663  115.849998  178.320007  186.663330  112.589996   \n",
       "2020-11-25  191.333328  116.750000  176.479996  191.333328  115.169998   \n",
       "2020-11-27  195.253326  117.489998  175.919998  199.593338  116.220001   \n",
       "2020-11-30  189.199997  120.970001  174.880005  202.600006  116.809998   \n",
       "\n",
       "                                          Open                          \\\n",
       "                   CAT        TSLA        AAPL         CAT        TSLA   \n",
       "Date                                                                     \n",
       "2000-11-30   19.625000         NaN    0.297991   20.062500         NaN   \n",
       "2000-12-01   19.750000         NaN    0.303571   19.750000         NaN   \n",
       "2000-12-04   20.375000         NaN    0.306920   20.375000         NaN   \n",
       "2000-12-05   20.968750         NaN    0.302455   21.656250         NaN   \n",
       "2000-12-06   20.687500         NaN    0.261161   21.343750         NaN   \n",
       "...                ...         ...         ...         ...         ...   \n",
       "2020-11-23  173.240005  167.263336  117.180000  173.759995  167.833328   \n",
       "2020-11-24  175.270004  175.399994  113.910004  176.250000  180.133331   \n",
       "2020-11-25  172.779999  181.789993  115.550003  176.460007  183.353333   \n",
       "2020-11-27  173.880005  192.816666  116.570000  174.410004  193.720001   \n",
       "2020-11-30  172.429993  184.836670  116.970001  173.610001  200.736664   \n",
       "\n",
       "                Volume                        \n",
       "                  AAPL      CAT         TSLA  \n",
       "Date                                          \n",
       "2000-11-30   809597600  3984400          NaN  \n",
       "2000-12-01   385705600  3003600          NaN  \n",
       "2000-12-04   371520800  6023200          NaN  \n",
       "2000-12-05   613978400  5893000          NaN  \n",
       "2000-12-06  1374464000  3086800          NaN  \n",
       "...                ...      ...          ...  \n",
       "2020-11-23   127959300  2403500  150780912.0  \n",
       "2020-11-24   113874200  3447000  160945482.0  \n",
       "2020-11-25    76499200  2506400  146790486.0  \n",
       "2020-11-27    46691300   976900  112683234.0  \n",
       "2020-11-30   169410200  2382600  189009156.0  \n",
       "\n",
       "[5031 rows x 18 columns]"
      ]
     },
     "execution_count": 2,
     "metadata": {},
     "output_type": "execute_result"
    }
   ],
   "source": [
    "df=yf.download(['AAPL','CAT','TSLA'],start='2000-12-01',end='2020-12-01')\n",
    "df"
   ]
  },
  {
   "cell_type": "code",
   "execution_count": 3,
   "id": "a3a9fba3",
   "metadata": {},
   "outputs": [
    {
     "data": {
      "text/html": [
       "<div>\n",
       "<style scoped>\n",
       "    .dataframe tbody tr th:only-of-type {\n",
       "        vertical-align: middle;\n",
       "    }\n",
       "\n",
       "    .dataframe tbody tr th {\n",
       "        vertical-align: top;\n",
       "    }\n",
       "\n",
       "    .dataframe thead th {\n",
       "        text-align: right;\n",
       "    }\n",
       "</style>\n",
       "<table border=\"1\" class=\"dataframe\">\n",
       "  <thead>\n",
       "    <tr style=\"text-align: right;\">\n",
       "      <th></th>\n",
       "      <th>AAPL</th>\n",
       "      <th>CAT</th>\n",
       "      <th>TSLA</th>\n",
       "    </tr>\n",
       "    <tr>\n",
       "      <th>Date</th>\n",
       "      <th></th>\n",
       "      <th></th>\n",
       "      <th></th>\n",
       "    </tr>\n",
       "  </thead>\n",
       "  <tbody>\n",
       "    <tr>\n",
       "      <th>2000-11-30</th>\n",
       "      <td>NaN</td>\n",
       "      <td>NaN</td>\n",
       "      <td>NaN</td>\n",
       "    </tr>\n",
       "    <tr>\n",
       "      <th>2000-12-01</th>\n",
       "      <td>0.033524</td>\n",
       "      <td>0.034378</td>\n",
       "      <td>NaN</td>\n",
       "    </tr>\n",
       "    <tr>\n",
       "      <th>2000-12-04</th>\n",
       "      <td>-0.022225</td>\n",
       "      <td>0.062520</td>\n",
       "      <td>NaN</td>\n",
       "    </tr>\n",
       "    <tr>\n",
       "      <th>2000-12-05</th>\n",
       "      <td>0.018552</td>\n",
       "      <td>0.001441</td>\n",
       "      <td>NaN</td>\n",
       "    </tr>\n",
       "    <tr>\n",
       "      <th>2000-12-06</th>\n",
       "      <td>-0.172080</td>\n",
       "      <td>-0.042685</td>\n",
       "      <td>NaN</td>\n",
       "    </tr>\n",
       "    <tr>\n",
       "      <th>...</th>\n",
       "      <td>...</td>\n",
       "      <td>...</td>\n",
       "      <td>...</td>\n",
       "    </tr>\n",
       "    <tr>\n",
       "      <th>2020-11-23</th>\n",
       "      <td>-0.030194</td>\n",
       "      <td>0.014697</td>\n",
       "      <td>0.063771</td>\n",
       "    </tr>\n",
       "    <tr>\n",
       "      <th>2020-11-24</th>\n",
       "      <td>0.011528</td>\n",
       "      <td>0.012056</td>\n",
       "      <td>0.062272</td>\n",
       "    </tr>\n",
       "    <tr>\n",
       "      <th>2020-11-25</th>\n",
       "      <td>0.007439</td>\n",
       "      <td>-0.012915</td>\n",
       "      <td>0.032977</td>\n",
       "    </tr>\n",
       "    <tr>\n",
       "      <th>2020-11-27</th>\n",
       "      <td>0.004815</td>\n",
       "      <td>0.002574</td>\n",
       "      <td>0.020281</td>\n",
       "    </tr>\n",
       "    <tr>\n",
       "      <th>2020-11-30</th>\n",
       "      <td>0.020880</td>\n",
       "      <td>-0.008547</td>\n",
       "      <td>-0.031493</td>\n",
       "    </tr>\n",
       "  </tbody>\n",
       "</table>\n",
       "<p>5031 rows × 3 columns</p>\n",
       "</div>"
      ],
      "text/plain": [
       "                AAPL       CAT      TSLA\n",
       "Date                                    \n",
       "2000-11-30       NaN       NaN       NaN\n",
       "2000-12-01  0.033524  0.034378       NaN\n",
       "2000-12-04 -0.022225  0.062520       NaN\n",
       "2000-12-05  0.018552  0.001441       NaN\n",
       "2000-12-06 -0.172080 -0.042685       NaN\n",
       "...              ...       ...       ...\n",
       "2020-11-23 -0.030194  0.014697  0.063771\n",
       "2020-11-24  0.011528  0.012056  0.062272\n",
       "2020-11-25  0.007439 -0.012915  0.032977\n",
       "2020-11-27  0.004815  0.002574  0.020281\n",
       "2020-11-30  0.020880 -0.008547 -0.031493\n",
       "\n",
       "[5031 rows x 3 columns]"
      ]
     },
     "execution_count": 3,
     "metadata": {},
     "output_type": "execute_result"
    }
   ],
   "source": [
    "df=np.log(1+df['Adj Close'].pct_change())\n",
    "df"
   ]
  },
  {
   "cell_type": "code",
   "execution_count": 4,
   "id": "2d027f88",
   "metadata": {},
   "outputs": [
    {
     "data": {
      "text/plain": [
       "0.00044019399395016227"
      ]
     },
     "execution_count": 4,
     "metadata": {},
     "output_type": "execute_result"
    }
   ],
   "source": [
    "#Portfolio return=w1*ui+w2*ui\n",
    "weights=[0.25,0.25,0.25]\n",
    "weights[0]*df.AAPL.mean()+weights[1]*df.CAT.mean()"
   ]
  },
  {
   "cell_type": "code",
   "execution_count": 5,
   "id": "ad1ec8c0",
   "metadata": {},
   "outputs": [
    {
     "data": {
      "text/plain": [
       "AAPL    0.001223\n",
       "CAT     0.000538\n",
       "TSLA    0.001821\n",
       "dtype: float64"
      ]
     },
     "execution_count": 5,
     "metadata": {},
     "output_type": "execute_result"
    }
   ],
   "source": [
    "df.mean()"
   ]
  },
  {
   "cell_type": "code",
   "execution_count": 6,
   "id": "426eca9d",
   "metadata": {},
   "outputs": [
    {
     "data": {
      "text/plain": [
       "0.000895357416210574"
      ]
     },
     "execution_count": 6,
     "metadata": {},
     "output_type": "execute_result"
    }
   ],
   "source": [
    "np.dot(df.mean(),weights)"
   ]
  },
  {
   "cell_type": "code",
   "execution_count": 7,
   "id": "ee4ba660",
   "metadata": {},
   "outputs": [],
   "source": [
    "def portfolioreturn(weights):\n",
    "    return np.dot(df.mean(),weights)*252"
   ]
  },
  {
   "cell_type": "code",
   "execution_count": 8,
   "id": "d08ee59d",
   "metadata": {},
   "outputs": [
    {
     "data": {
      "text/plain": [
       "0.22563006888506465"
      ]
     },
     "execution_count": 8,
     "metadata": {},
     "output_type": "execute_result"
    }
   ],
   "source": [
    "portfolioreturn(weights)"
   ]
  },
  {
   "cell_type": "code",
   "execution_count": 9,
   "id": "64d11d40",
   "metadata": {},
   "outputs": [],
   "source": [
    "#Portfoliovariance\n",
    "#w1**2*sigma1**2+w2**2*sigma2**2+2*w1*w2*Cov12"
   ]
  },
  {
   "cell_type": "code",
   "execution_count": 10,
   "id": "992b58ae",
   "metadata": {},
   "outputs": [
    {
     "data": {
      "text/html": [
       "<div>\n",
       "<style scoped>\n",
       "    .dataframe tbody tr th:only-of-type {\n",
       "        vertical-align: middle;\n",
       "    }\n",
       "\n",
       "    .dataframe tbody tr th {\n",
       "        vertical-align: top;\n",
       "    }\n",
       "\n",
       "    .dataframe thead th {\n",
       "        text-align: right;\n",
       "    }\n",
       "</style>\n",
       "<table border=\"1\" class=\"dataframe\">\n",
       "  <thead>\n",
       "    <tr style=\"text-align: right;\">\n",
       "      <th></th>\n",
       "      <th>AAPL</th>\n",
       "      <th>CAT</th>\n",
       "      <th>TSLA</th>\n",
       "    </tr>\n",
       "  </thead>\n",
       "  <tbody>\n",
       "    <tr>\n",
       "      <th>AAPL</th>\n",
       "      <td>0.000544</td>\n",
       "      <td>0.000193</td>\n",
       "      <td>0.000195</td>\n",
       "    </tr>\n",
       "    <tr>\n",
       "      <th>CAT</th>\n",
       "      <td>0.000193</td>\n",
       "      <td>0.000410</td>\n",
       "      <td>0.000161</td>\n",
       "    </tr>\n",
       "    <tr>\n",
       "      <th>TSLA</th>\n",
       "      <td>0.000195</td>\n",
       "      <td>0.000161</td>\n",
       "      <td>0.001247</td>\n",
       "    </tr>\n",
       "  </tbody>\n",
       "</table>\n",
       "</div>"
      ],
      "text/plain": [
       "          AAPL       CAT      TSLA\n",
       "AAPL  0.000544  0.000193  0.000195\n",
       "CAT   0.000193  0.000410  0.000161\n",
       "TSLA  0.000195  0.000161  0.001247"
      ]
     },
     "execution_count": 10,
     "metadata": {},
     "output_type": "execute_result"
    }
   ],
   "source": [
    "df.cov()"
   ]
  },
  {
   "cell_type": "code",
   "execution_count": 11,
   "id": "367759a7",
   "metadata": {},
   "outputs": [],
   "source": [
    "pv=weights[0]**2*df.cov().iloc[0,0]+weights[1]**2*df.cov().iloc[1,1]+2*weights[0]*weights[1]*df.cov().iloc[0,1]"
   ]
  },
  {
   "cell_type": "code",
   "execution_count": 12,
   "id": "689a84f7",
   "metadata": {},
   "outputs": [
    {
     "data": {
      "text/plain": [
       "8.378661003620577e-05"
      ]
     },
     "execution_count": 12,
     "metadata": {},
     "output_type": "execute_result"
    }
   ],
   "source": [
    "pv"
   ]
  },
  {
   "cell_type": "code",
   "execution_count": 13,
   "id": "579c0070",
   "metadata": {},
   "outputs": [
    {
     "data": {
      "text/plain": [
       "0.1447295840837368"
      ]
     },
     "execution_count": 13,
     "metadata": {},
     "output_type": "execute_result"
    }
   ],
   "source": [
    "#Portfolio standard deviation \n",
    "#square root of portfoliovariance \n",
    "pv**(1/2)*np.sqrt(250)"
   ]
  },
  {
   "cell_type": "code",
   "execution_count": 14,
   "id": "62024d57",
   "metadata": {},
   "outputs": [
    {
     "data": {
      "text/plain": [
       "0.22705842593162"
      ]
     },
     "execution_count": 14,
     "metadata": {},
     "output_type": "execute_result"
    }
   ],
   "source": [
    "(np.dot(np.dot(df.cov(),weights),weights))**(1/2)*np.sqrt(250)"
   ]
  },
  {
   "cell_type": "code",
   "execution_count": 15,
   "id": "e5de33fe",
   "metadata": {},
   "outputs": [],
   "source": [
    "def portfoliostd(weights):\n",
    "    return (np.dot(np.dot(df.cov(),weights),weights))**(1/2)*np.sqrt(250)"
   ]
  },
  {
   "cell_type": "code",
   "execution_count": 16,
   "id": "48c716f9",
   "metadata": {},
   "outputs": [
    {
     "data": {
      "text/plain": [
       "0.22705842593162"
      ]
     },
     "execution_count": 16,
     "metadata": {},
     "output_type": "execute_result"
    }
   ],
   "source": [
    "portfoliostd(weights)"
   ]
  },
  {
   "cell_type": "code",
   "execution_count": 17,
   "id": "48ffcbf6",
   "metadata": {},
   "outputs": [],
   "source": [
    "def weightscreator(df):\n",
    "    rand=np.random.random(len(df.columns))\n",
    "    rand/=rand.sum()#sum for random weight has to be 1\n",
    "    return rand"
   ]
  },
  {
   "cell_type": "code",
   "execution_count": 18,
   "id": "7ef678c3",
   "metadata": {},
   "outputs": [
    {
     "data": {
      "text/plain": [
       "array([0.07107876, 0.49135993, 0.43756132])"
      ]
     },
     "execution_count": 18,
     "metadata": {},
     "output_type": "execute_result"
    }
   ],
   "source": [
    "weightscreator(df)"
   ]
  },
  {
   "cell_type": "code",
   "execution_count": 19,
   "id": "d15006c9",
   "metadata": {},
   "outputs": [],
   "source": [
    "import matplotlib.pyplot as plt"
   ]
  },
  {
   "cell_type": "code",
   "execution_count": 20,
   "id": "917e0433",
   "metadata": {},
   "outputs": [],
   "source": [
    "w=[]\n",
    "returns=[]\n",
    "std=[]\n",
    "for i in range(500):\n",
    "    m=weightscreator(df)\n",
    "    w.append(m)\n",
    "    returns.append(portfolioreturn(m))\n",
    "    std.append(portfoliostd(m))\n"
   ]
  },
  {
   "cell_type": "code",
   "execution_count": 28,
   "id": "2b7ed336",
   "metadata": {},
   "outputs": [
    {
     "data": {
      "image/png": "[encoded data removed]",
      "text/plain": [
       "<Figure size 432x288 with 1 Axes>"
      ]
     },
     "metadata": {
      "needs_background": "light"
     },
     "output_type": "display_data"
    }
   ],
   "source": [
    "plt.scatter(std,returns)\n",
    "plt.scatter(0.2776149613637795,0.22841677098114,color='red')\n",
    "plt.title('Efficient frontier')\n",
    "plt.xlabel(\"Portfolio std\")\n",
    "plt.show()"
   ]
  },
  {
   "cell_type": "code",
   "execution_count": 22,
   "id": "48178964",
   "metadata": {},
   "outputs": [
    {
     "data": {
      "text/plain": [
       "0.2777618262250909"
      ]
     },
     "execution_count": 22,
     "metadata": {},
     "output_type": "execute_result"
    }
   ],
   "source": [
    "min(std)"
   ]
  },
  {
   "cell_type": "code",
   "execution_count": 23,
   "id": "d9abcdf9",
   "metadata": {},
   "outputs": [
    {
     "data": {
      "text/plain": [
       "326"
      ]
     },
     "execution_count": 23,
     "metadata": {},
     "output_type": "execute_result"
    }
   ],
   "source": [
    "std.index(min(std))"
   ]
  },
  {
   "cell_type": "code",
   "execution_count": 24,
   "id": "4295151f",
   "metadata": {},
   "outputs": [
    {
     "data": {
      "text/plain": [
       "0.22841677098114"
      ]
     },
     "execution_count": 24,
     "metadata": {},
     "output_type": "execute_result"
    }
   ],
   "source": [
    "returns[std.index(min(std))]"
   ]
  },
  {
   "cell_type": "code",
   "execution_count": 25,
   "id": "3b1754a7",
   "metadata": {},
   "outputs": [],
   "source": [
    "e=w[std.index(min(std))]"
   ]
  },
  {
   "cell_type": "code",
   "execution_count": 26,
   "id": "e36cc7c9",
   "metadata": {},
   "outputs": [
    {
     "data": {
      "text/plain": [
       "0.22841677098114"
      ]
     },
     "execution_count": 26,
     "metadata": {},
     "output_type": "execute_result"
    }
   ],
   "source": [
    "portfolioreturn(e)"
   ]
  },
  {
   "cell_type": "code",
   "execution_count": null,
   "id": "aa3e58e7",
   "metadata": {},
   "outputs": [],
   "source": []
  }
 ],
 "metadata": {
  "kernelspec": {
   "display_name": "Python 3 (ipykernel)",
   "language": "python",
   "name": "python3"
  },
  "language_info": {
   "codemirror_mode": {
    "name": "ipython",
    "version": 3
   },
   "file_extension": ".py",
   "mimetype": "text/x-python",
   "name": "python",
   "nbconvert_exporter": "python",
   "pygments_lexer": "ipython3",
   "version": "3.7.3"
  }
 },
 "nbformat": 4,
 "nbformat_minor": 5
}

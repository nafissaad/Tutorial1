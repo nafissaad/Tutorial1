{
 "cells": [
  {
   "cell_type": "code",
   "execution_count": 1,
   "id": "fd58c805",
   "metadata": {},
   "outputs": [],
   "source": [
    "import pandas as pd\n",
    "import numpy as np\n",
    "import yfinance as yf\n",
    "import matplotlib.pyplot as plt"
   ]
  },
  {
   "cell_type": "code",
   "execution_count": 2,
   "id": "83512c98",
   "metadata": {},
   "outputs": [
    {
     "name": "stdout",
     "output_type": "stream",
     "text": [
      "[*********************100%***********************]  1 of 1 completed\n"
     ]
    },
    {
     "data": {
      "text/html": [
       "<div>\n",
       "<style scoped>\n",
       "    .dataframe tbody tr th:only-of-type {\n",
       "        vertical-align: middle;\n",
       "    }\n",
       "\n",
       "    .dataframe tbody tr th {\n",
       "        vertical-align: top;\n",
       "    }\n",
       "\n",
       "    .dataframe thead th {\n",
       "        text-align: right;\n",
       "    }\n",
       "</style>\n",
       "<table border=\"1\" class=\"dataframe\">\n",
       "  <thead>\n",
       "    <tr style=\"text-align: right;\">\n",
       "      <th></th>\n",
       "      <th>Open</th>\n",
       "      <th>High</th>\n",
       "      <th>Low</th>\n",
       "      <th>Close</th>\n",
       "      <th>Adj Close</th>\n",
       "      <th>Volume</th>\n",
       "    </tr>\n",
       "    <tr>\n",
       "      <th>Date</th>\n",
       "      <th></th>\n",
       "      <th></th>\n",
       "      <th></th>\n",
       "      <th></th>\n",
       "      <th></th>\n",
       "      <th></th>\n",
       "    </tr>\n",
       "  </thead>\n",
       "  <tbody>\n",
       "    <tr>\n",
       "      <th>2009-12-31</th>\n",
       "      <td>7.611786</td>\n",
       "      <td>7.619643</td>\n",
       "      <td>7.520000</td>\n",
       "      <td>7.526071</td>\n",
       "      <td>6.405577</td>\n",
       "      <td>352410800</td>\n",
       "    </tr>\n",
       "    <tr>\n",
       "      <th>2010-01-04</th>\n",
       "      <td>7.622500</td>\n",
       "      <td>7.660714</td>\n",
       "      <td>7.585000</td>\n",
       "      <td>7.643214</td>\n",
       "      <td>6.505280</td>\n",
       "      <td>493729600</td>\n",
       "    </tr>\n",
       "    <tr>\n",
       "      <th>2010-01-05</th>\n",
       "      <td>7.664286</td>\n",
       "      <td>7.699643</td>\n",
       "      <td>7.616071</td>\n",
       "      <td>7.656429</td>\n",
       "      <td>6.516528</td>\n",
       "      <td>601904800</td>\n",
       "    </tr>\n",
       "    <tr>\n",
       "      <th>2010-01-06</th>\n",
       "      <td>7.656429</td>\n",
       "      <td>7.686786</td>\n",
       "      <td>7.526786</td>\n",
       "      <td>7.534643</td>\n",
       "      <td>6.412872</td>\n",
       "      <td>552160000</td>\n",
       "    </tr>\n",
       "    <tr>\n",
       "      <th>2010-01-07</th>\n",
       "      <td>7.562500</td>\n",
       "      <td>7.571429</td>\n",
       "      <td>7.466071</td>\n",
       "      <td>7.520714</td>\n",
       "      <td>6.401018</td>\n",
       "      <td>477131200</td>\n",
       "    </tr>\n",
       "    <tr>\n",
       "      <th>...</th>\n",
       "      <td>...</td>\n",
       "      <td>...</td>\n",
       "      <td>...</td>\n",
       "      <td>...</td>\n",
       "      <td>...</td>\n",
       "      <td>...</td>\n",
       "    </tr>\n",
       "    <tr>\n",
       "      <th>2023-02-27</th>\n",
       "      <td>147.710007</td>\n",
       "      <td>149.169998</td>\n",
       "      <td>147.449997</td>\n",
       "      <td>147.919998</td>\n",
       "      <td>147.919998</td>\n",
       "      <td>44998500</td>\n",
       "    </tr>\n",
       "    <tr>\n",
       "      <th>2023-02-28</th>\n",
       "      <td>147.050003</td>\n",
       "      <td>149.080002</td>\n",
       "      <td>146.830002</td>\n",
       "      <td>147.410004</td>\n",
       "      <td>147.410004</td>\n",
       "      <td>50547000</td>\n",
       "    </tr>\n",
       "    <tr>\n",
       "      <th>2023-03-01</th>\n",
       "      <td>146.830002</td>\n",
       "      <td>147.229996</td>\n",
       "      <td>145.009995</td>\n",
       "      <td>145.309998</td>\n",
       "      <td>145.309998</td>\n",
       "      <td>55479000</td>\n",
       "    </tr>\n",
       "    <tr>\n",
       "      <th>2023-03-02</th>\n",
       "      <td>144.380005</td>\n",
       "      <td>146.710007</td>\n",
       "      <td>143.899994</td>\n",
       "      <td>145.910004</td>\n",
       "      <td>145.910004</td>\n",
       "      <td>52238100</td>\n",
       "    </tr>\n",
       "    <tr>\n",
       "      <th>2023-03-03</th>\n",
       "      <td>148.039993</td>\n",
       "      <td>151.110001</td>\n",
       "      <td>147.330002</td>\n",
       "      <td>151.029999</td>\n",
       "      <td>151.029999</td>\n",
       "      <td>70668500</td>\n",
       "    </tr>\n",
       "  </tbody>\n",
       "</table>\n",
       "<p>3315 rows × 6 columns</p>\n",
       "</div>"
      ],
      "text/plain": [
       "                  Open        High         Low       Close   Adj Close  \\\n",
       "Date                                                                     \n",
       "2009-12-31    7.611786    7.619643    7.520000    7.526071    6.405577   \n",
       "2010-01-04    7.622500    7.660714    7.585000    7.643214    6.505280   \n",
       "2010-01-05    7.664286    7.699643    7.616071    7.656429    6.516528   \n",
       "2010-01-06    7.656429    7.686786    7.526786    7.534643    6.412872   \n",
       "2010-01-07    7.562500    7.571429    7.466071    7.520714    6.401018   \n",
       "...                ...         ...         ...         ...         ...   \n",
       "2023-02-27  147.710007  149.169998  147.449997  147.919998  147.919998   \n",
       "2023-02-28  147.050003  149.080002  146.830002  147.410004  147.410004   \n",
       "2023-03-01  146.830002  147.229996  145.009995  145.309998  145.309998   \n",
       "2023-03-02  144.380005  146.710007  143.899994  145.910004  145.910004   \n",
       "2023-03-03  148.039993  151.110001  147.330002  151.029999  151.029999   \n",
       "\n",
       "               Volume  \n",
       "Date                   \n",
       "2009-12-31  352410800  \n",
       "2010-01-04  493729600  \n",
       "2010-01-05  601904800  \n",
       "2010-01-06  552160000  \n",
       "2010-01-07  477131200  \n",
       "...               ...  \n",
       "2023-02-27   44998500  \n",
       "2023-02-28   50547000  \n",
       "2023-03-01   55479000  \n",
       "2023-03-02   52238100  \n",
       "2023-03-03   70668500  \n",
       "\n",
       "[3315 rows x 6 columns]"
      ]
     },
     "execution_count": 2,
     "metadata": {},
     "output_type": "execute_result"
    }
   ],
   "source": [
    "df=yf.download('AAPL',start='2010-01-01')\n",
    "df"
   ]
  },
  {
   "cell_type": "code",
   "execution_count": 3,
   "id": "398c9d79",
   "metadata": {},
   "outputs": [],
   "source": [
    "date='2023-01-01'"
   ]
  },
  {
   "cell_type": "code",
   "execution_count": 4,
   "id": "192f0b77",
   "metadata": {},
   "outputs": [],
   "source": [
    "series=df.loc[date:][1:2]"
   ]
  },
  {
   "cell_type": "code",
   "execution_count": 5,
   "id": "343bf9f3",
   "metadata": {
    "scrolled": true
   },
   "outputs": [
    {
     "data": {
      "text/html": [
       "<div>\n",
       "<style scoped>\n",
       "    .dataframe tbody tr th:only-of-type {\n",
       "        vertical-align: middle;\n",
       "    }\n",
       "\n",
       "    .dataframe tbody tr th {\n",
       "        vertical-align: top;\n",
       "    }\n",
       "\n",
       "    .dataframe thead th {\n",
       "        text-align: right;\n",
       "    }\n",
       "</style>\n",
       "<table border=\"1\" class=\"dataframe\">\n",
       "  <thead>\n",
       "    <tr style=\"text-align: right;\">\n",
       "      <th></th>\n",
       "      <th>Open</th>\n",
       "      <th>High</th>\n",
       "      <th>Low</th>\n",
       "      <th>Close</th>\n",
       "      <th>Adj Close</th>\n",
       "      <th>Volume</th>\n",
       "    </tr>\n",
       "    <tr>\n",
       "      <th>Date</th>\n",
       "      <th></th>\n",
       "      <th></th>\n",
       "      <th></th>\n",
       "      <th></th>\n",
       "      <th></th>\n",
       "      <th></th>\n",
       "    </tr>\n",
       "  </thead>\n",
       "  <tbody>\n",
       "    <tr>\n",
       "      <th>2023-01-04</th>\n",
       "      <td>126.889999</td>\n",
       "      <td>128.660004</td>\n",
       "      <td>125.080002</td>\n",
       "      <td>126.360001</td>\n",
       "      <td>126.167366</td>\n",
       "      <td>89113600</td>\n",
       "    </tr>\n",
       "  </tbody>\n",
       "</table>\n",
       "</div>"
      ],
      "text/plain": [
       "                  Open        High         Low       Close   Adj Close  \\\n",
       "Date                                                                     \n",
       "2023-01-04  126.889999  128.660004  125.080002  126.360001  126.167366   \n",
       "\n",
       "              Volume  \n",
       "Date                  \n",
       "2023-01-04  89113600  "
      ]
     },
     "execution_count": 5,
     "metadata": {},
     "output_type": "execute_result"
    }
   ],
   "source": [
    "series"
   ]
  },
  {
   "cell_type": "code",
   "execution_count": 6,
   "id": "e75de7f3",
   "metadata": {},
   "outputs": [],
   "source": [
    "series=df.loc[date:][1:2].squeeze()"
   ]
  },
  {
   "cell_type": "code",
   "execution_count": 7,
   "id": "c45ef46e",
   "metadata": {},
   "outputs": [
    {
     "data": {
      "text/plain": [
       "Open         1.268900e+02\n",
       "High         1.286600e+02\n",
       "Low          1.250800e+02\n",
       "Close        1.263600e+02\n",
       "Adj Close    1.261674e+02\n",
       "Volume       8.911360e+07\n",
       "Name: 2023-01-04 00:00:00, dtype: float64"
      ]
     },
     "execution_count": 7,
     "metadata": {},
     "output_type": "execute_result"
    }
   ],
   "source": [
    "series"
   ]
  },
  {
   "cell_type": "code",
   "execution_count": 8,
   "id": "30fa1403",
   "metadata": {},
   "outputs": [],
   "source": [
    "diff_=series.High-series.Low"
   ]
  },
  {
   "cell_type": "code",
   "execution_count": 9,
   "id": "256d7441",
   "metadata": {},
   "outputs": [
    {
     "data": {
      "text/plain": [
       "3.5800018310546875"
      ]
     },
     "execution_count": 9,
     "metadata": {},
     "output_type": "execute_result"
    }
   ],
   "source": [
    "diff_"
   ]
  },
  {
   "cell_type": "code",
   "execution_count": 10,
   "id": "186c1de0",
   "metadata": {},
   "outputs": [],
   "source": [
    "ratios_=[-0.618,0.618,1.618]"
   ]
  },
  {
   "cell_type": "code",
   "execution_count": 11,
   "id": "2c149fa6",
   "metadata": {},
   "outputs": [
    {
     "data": {
      "text/plain": [
       "[-2.2124411315917967, 2.2124411315917967, 5.792442962646485]"
      ]
     },
     "execution_count": 11,
     "metadata": {},
     "output_type": "execute_result"
    }
   ],
   "source": [
    "[i*diff_ for i in ratios_]"
   ]
  },
  {
   "cell_type": "code",
   "execution_count": 12,
   "id": "9f6dbdc8",
   "metadata": {
    "scrolled": true
   },
   "outputs": [],
   "source": [
    "levels_=[i*diff_+series.Close for i in ratios_]"
   ]
  },
  {
   "cell_type": "code",
   "execution_count": 13,
   "id": "f7c305cc",
   "metadata": {},
   "outputs": [
    {
     "data": {
      "text/plain": [
       "[124.14755947875976, 128.57244174194335, 132.15244357299804]"
      ]
     },
     "execution_count": 13,
     "metadata": {},
     "output_type": "execute_result"
    }
   ],
   "source": [
    "levels_"
   ]
  },
  {
   "cell_type": "code",
   "execution_count": 14,
   "id": "d4dfe1ad",
   "metadata": {},
   "outputs": [
    {
     "data": {
      "text/plain": [
       "Date\n",
       "2023-01-03    125.070000\n",
       "2023-01-04    126.360001\n",
       "2023-01-05    125.019997\n",
       "2023-01-06    129.619995\n",
       "2023-01-09    130.149994\n",
       "2023-01-10    130.729996\n",
       "2023-01-11    133.490005\n",
       "Name: Close, dtype: float64"
      ]
     },
     "execution_count": 14,
     "metadata": {},
     "output_type": "execute_result"
    }
   ],
   "source": [
    "df.loc[date:][:7].Close"
   ]
  },
  {
   "cell_type": "code",
   "execution_count": 15,
   "id": "edf6daeb",
   "metadata": {},
   "outputs": [
    {
     "data": {
      "text/plain": [
       "<matplotlib.lines.Line2D at 0x2476807a860>"
      ]
     },
     "execution_count": 15,
     "metadata": {},
     "output_type": "execute_result"
    },
    {
     "data": {
      "image/png": "[encoded data removed]",
      "text/plain": [
       "<Figure size 432x288 with 1 Axes>"
      ]
     },
     "metadata": {
      "needs_background": "light"
     },
     "output_type": "display_data"
    }
   ],
   "source": [
    "plt.plot(df.loc[date:][:7].Close)\n",
    "plt.axhline(y=levels_[0],color='K',linestyle='-')\n",
    "plt.axhline(y=levels_[1],color='g',linestyle='-')\n",
    "plt.axhline(y=levels_[2],color='b',linestyle='-')"
   ]
  },
  {
   "cell_type": "code",
   "execution_count": 16,
   "id": "ba7378ec",
   "metadata": {},
   "outputs": [],
   "source": [
    "date='2023-02-1'"
   ]
  },
  {
   "cell_type": "code",
   "execution_count": 17,
   "id": "e50c8fa8",
   "metadata": {},
   "outputs": [],
   "source": [
    "def get_levels(date):\n",
    "    values=[-0.618,0.618,1.618]\n",
    "    series_=df.loc[date:][1:2].squeeze()\n",
    "    diff=series_.High-series.Low\n",
    "    levels=[series_.Close+i*diff for i in values]\n",
    "    return levels"
   ]
  },
  {
   "cell_type": "code",
   "execution_count": 18,
   "id": "ed863d54",
   "metadata": {},
   "outputs": [
    {
     "data": {
      "text/plain": [
       "[134.69021298217774, 166.94980166625976, 193.04979251098632]"
      ]
     },
     "execution_count": 18,
     "metadata": {},
     "output_type": "execute_result"
    }
   ],
   "source": [
    "get_levels(date)"
   ]
  },
  {
   "cell_type": "code",
   "execution_count": 19,
   "id": "bc6649b9",
   "metadata": {},
   "outputs": [],
   "source": [
    "sl,entry,tp=get_levels(date)"
   ]
  },
  {
   "cell_type": "code",
   "execution_count": 20,
   "id": "677ae996",
   "metadata": {},
   "outputs": [
    {
     "data": {
      "text/plain": [
       "(134.69021298217774, 166.94980166625976, 193.04979251098632)"
      ]
     },
     "execution_count": 20,
     "metadata": {},
     "output_type": "execute_result"
    }
   ],
   "source": [
    "sl,entry,tp"
   ]
  },
  {
   "cell_type": "code",
   "execution_count": 21,
   "id": "e743a63f",
   "metadata": {},
   "outputs": [],
   "source": [
    "one_week=df.loc[date:][:7]"
   ]
  },
  {
   "cell_type": "code",
   "execution_count": 22,
   "id": "55082297",
   "metadata": {},
   "outputs": [],
   "source": [
    "one_week['Price']=one_week.Open.shift(-1)"
   ]
  },
  {
   "cell_type": "code",
   "execution_count": 23,
   "id": "95b6b923",
   "metadata": {},
   "outputs": [
    {
     "data": {
      "text/html": [
       "<div>\n",
       "<style scoped>\n",
       "    .dataframe tbody tr th:only-of-type {\n",
       "        vertical-align: middle;\n",
       "    }\n",
       "\n",
       "    .dataframe tbody tr th {\n",
       "        vertical-align: top;\n",
       "    }\n",
       "\n",
       "    .dataframe thead th {\n",
       "        text-align: right;\n",
       "    }\n",
       "</style>\n",
       "<table border=\"1\" class=\"dataframe\">\n",
       "  <thead>\n",
       "    <tr style=\"text-align: right;\">\n",
       "      <th></th>\n",
       "      <th>Open</th>\n",
       "      <th>High</th>\n",
       "      <th>Low</th>\n",
       "      <th>Close</th>\n",
       "      <th>Adj Close</th>\n",
       "      <th>Volume</th>\n",
       "      <th>Price</th>\n",
       "    </tr>\n",
       "    <tr>\n",
       "      <th>Date</th>\n",
       "      <th></th>\n",
       "      <th></th>\n",
       "      <th></th>\n",
       "      <th></th>\n",
       "      <th></th>\n",
       "      <th></th>\n",
       "      <th></th>\n",
       "    </tr>\n",
       "  </thead>\n",
       "  <tbody>\n",
       "    <tr>\n",
       "      <th>2023-02-01</th>\n",
       "      <td>143.970001</td>\n",
       "      <td>146.610001</td>\n",
       "      <td>141.320007</td>\n",
       "      <td>145.429993</td>\n",
       "      <td>145.208282</td>\n",
       "      <td>77663600</td>\n",
       "      <td>148.899994</td>\n",
       "    </tr>\n",
       "    <tr>\n",
       "      <th>2023-02-02</th>\n",
       "      <td>148.899994</td>\n",
       "      <td>151.179993</td>\n",
       "      <td>148.169998</td>\n",
       "      <td>150.820007</td>\n",
       "      <td>150.590088</td>\n",
       "      <td>118339000</td>\n",
       "      <td>148.029999</td>\n",
       "    </tr>\n",
       "    <tr>\n",
       "      <th>2023-02-03</th>\n",
       "      <td>148.029999</td>\n",
       "      <td>157.380005</td>\n",
       "      <td>147.830002</td>\n",
       "      <td>154.500000</td>\n",
       "      <td>154.264465</td>\n",
       "      <td>154279900</td>\n",
       "      <td>152.570007</td>\n",
       "    </tr>\n",
       "    <tr>\n",
       "      <th>2023-02-06</th>\n",
       "      <td>152.570007</td>\n",
       "      <td>153.100006</td>\n",
       "      <td>150.779999</td>\n",
       "      <td>151.729996</td>\n",
       "      <td>151.498688</td>\n",
       "      <td>69858300</td>\n",
       "      <td>150.639999</td>\n",
       "    </tr>\n",
       "    <tr>\n",
       "      <th>2023-02-07</th>\n",
       "      <td>150.639999</td>\n",
       "      <td>155.229996</td>\n",
       "      <td>150.639999</td>\n",
       "      <td>154.649994</td>\n",
       "      <td>154.414230</td>\n",
       "      <td>83322600</td>\n",
       "      <td>153.880005</td>\n",
       "    </tr>\n",
       "    <tr>\n",
       "      <th>2023-02-08</th>\n",
       "      <td>153.880005</td>\n",
       "      <td>154.580002</td>\n",
       "      <td>151.169998</td>\n",
       "      <td>151.919998</td>\n",
       "      <td>151.688400</td>\n",
       "      <td>64120100</td>\n",
       "      <td>153.779999</td>\n",
       "    </tr>\n",
       "    <tr>\n",
       "      <th>2023-02-09</th>\n",
       "      <td>153.779999</td>\n",
       "      <td>154.330002</td>\n",
       "      <td>150.419998</td>\n",
       "      <td>150.869995</td>\n",
       "      <td>150.639999</td>\n",
       "      <td>56007100</td>\n",
       "      <td>NaN</td>\n",
       "    </tr>\n",
       "  </tbody>\n",
       "</table>\n",
       "</div>"
      ],
      "text/plain": [
       "                  Open        High         Low       Close   Adj Close  \\\n",
       "Date                                                                     \n",
       "2023-02-01  143.970001  146.610001  141.320007  145.429993  145.208282   \n",
       "2023-02-02  148.899994  151.179993  148.169998  150.820007  150.590088   \n",
       "2023-02-03  148.029999  157.380005  147.830002  154.500000  154.264465   \n",
       "2023-02-06  152.570007  153.100006  150.779999  151.729996  151.498688   \n",
       "2023-02-07  150.639999  155.229996  150.639999  154.649994  154.414230   \n",
       "2023-02-08  153.880005  154.580002  151.169998  151.919998  151.688400   \n",
       "2023-02-09  153.779999  154.330002  150.419998  150.869995  150.639999   \n",
       "\n",
       "               Volume       Price  \n",
       "Date                               \n",
       "2023-02-01   77663600  148.899994  \n",
       "2023-02-02  118339000  148.029999  \n",
       "2023-02-03  154279900  152.570007  \n",
       "2023-02-06   69858300  150.639999  \n",
       "2023-02-07   83322600  153.880005  \n",
       "2023-02-08   64120100  153.779999  \n",
       "2023-02-09   56007100         NaN  "
      ]
     },
     "execution_count": 23,
     "metadata": {},
     "output_type": "execute_result"
    }
   ],
   "source": [
    "one_week"
   ]
  },
  {
   "cell_type": "code",
   "execution_count": 24,
   "id": "a15bd415",
   "metadata": {},
   "outputs": [],
   "source": [
    "in_position=False\n",
    "for index,row in one_week.iterrows():\n",
    "    if not in_position and row.Close>=entry:\n",
    "        print(row.Close)\n",
    "        print(index)\n",
    "        in_position=True\n",
    "    elif in_position:\n",
    "        if row.Close>=tp or row.Close <=sl:\n",
    "            print(row.Close)\n",
    "            in_position=False\n",
    "            break\n",
    "    "
   ]
  },
  {
   "cell_type": "code",
   "execution_count": 25,
   "id": "658b56eb",
   "metadata": {},
   "outputs": [
    {
     "data": {
      "text/plain": [
       "3.8700103759765625"
      ]
     },
     "execution_count": 25,
     "metadata": {},
     "output_type": "execute_result"
    }
   ],
   "source": [
    "133.49000549316406-129.6199951171875"
   ]
  },
  {
   "cell_type": "code",
   "execution_count": 26,
   "id": "bd7986b6",
   "metadata": {},
   "outputs": [
    {
     "data": {
      "text/plain": [
       "(array([738552., 738553., 738554., 738555., 738556., 738557., 738558.,\n",
       "        738559., 738560.]),\n",
       " <a list of 9 Text xticklabel objects>)"
      ]
     },
     "execution_count": 26,
     "metadata": {},
     "output_type": "execute_result"
    },
    {
     "data": {
      "image/png": "[encoded data removed]",
      "text/plain": [
       "<Figure size 432x288 with 1 Axes>"
      ]
     },
     "metadata": {
      "needs_background": "light"
     },
     "output_type": "display_data"
    }
   ],
   "source": [
    "plt.plot(df.loc[date:][:7].Close)\n",
    "plt.axhline(y=sl,color='K',linestyle='-')\n",
    "plt.axhline(y=entry,color='g',linestyle='-')\n",
    "plt.axhline(y=tp,color='b',linestyle='-')\n",
    "plt.xticks(rotation=45)"
   ]
  }
 ],
 "metadata": {
  "kernelspec": {
   "display_name": "Python 3 (ipykernel)",
   "language": "python",
   "name": "python3"
  },
  "language_info": {
   "codemirror_mode": {
    "name": "ipython",
    "version": 3
   },
   "file_extension": ".py",
   "mimetype": "text/x-python",
   "name": "python",
   "nbconvert_exporter": "python",
   "pygments_lexer": "ipython3",
   "version": "3.7.3"
  }
 },
 "nbformat": 4,
 "nbformat_minor": 5
}

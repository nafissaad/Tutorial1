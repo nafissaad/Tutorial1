{
 "cells": [
  {
   "cell_type": "code",
   "execution_count": 1,
   "id": "eeeb65c5",
   "metadata": {},
   "outputs": [],
   "source": [
    "import yfinance as yf\n",
    "import numpy as np\n",
    "import pandas as pd\n",
    "import ta\n",
    "from datetime import datetime\n",
    "from datetime import timedelta\n",
    "import matplotlib.pyplot as plt"
   ]
  },
  {
   "cell_type": "code",
   "execution_count": 2,
   "id": "8037eb03",
   "metadata": {},
   "outputs": [
    {
     "name": "stdout",
     "output_type": "stream",
     "text": [
      "[*********************100%***********************]  1 of 1 completed\n"
     ]
    },
    {
     "data": {
      "text/html": [
       "<div>\n",
       "<style scoped>\n",
       "    .dataframe tbody tr th:only-of-type {\n",
       "        vertical-align: middle;\n",
       "    }\n",
       "\n",
       "    .dataframe tbody tr th {\n",
       "        vertical-align: top;\n",
       "    }\n",
       "\n",
       "    .dataframe thead th {\n",
       "        text-align: right;\n",
       "    }\n",
       "</style>\n",
       "<table border=\"1\" class=\"dataframe\">\n",
       "  <thead>\n",
       "    <tr style=\"text-align: right;\">\n",
       "      <th></th>\n",
       "      <th>Open</th>\n",
       "      <th>High</th>\n",
       "      <th>Low</th>\n",
       "      <th>Close</th>\n",
       "      <th>Adj Close</th>\n",
       "      <th>Volume</th>\n",
       "    </tr>\n",
       "    <tr>\n",
       "      <th>Date</th>\n",
       "      <th></th>\n",
       "      <th></th>\n",
       "      <th></th>\n",
       "      <th></th>\n",
       "      <th></th>\n",
       "      <th></th>\n",
       "    </tr>\n",
       "  </thead>\n",
       "  <tbody>\n",
       "    <tr>\n",
       "      <th>2014-12-31</th>\n",
       "      <td>53.900002</td>\n",
       "      <td>54.639999</td>\n",
       "      <td>53.320000</td>\n",
       "      <td>53.630001</td>\n",
       "      <td>50.814602</td>\n",
       "      <td>10626000</td>\n",
       "    </tr>\n",
       "    <tr>\n",
       "      <th>2015-01-02</th>\n",
       "      <td>54.279999</td>\n",
       "      <td>54.599998</td>\n",
       "      <td>53.070000</td>\n",
       "      <td>53.910000</td>\n",
       "      <td>51.079903</td>\n",
       "      <td>10748600</td>\n",
       "    </tr>\n",
       "    <tr>\n",
       "      <th>2015-01-05</th>\n",
       "      <td>54.369999</td>\n",
       "      <td>54.540001</td>\n",
       "      <td>53.340000</td>\n",
       "      <td>53.880001</td>\n",
       "      <td>51.051495</td>\n",
       "      <td>11565000</td>\n",
       "    </tr>\n",
       "    <tr>\n",
       "      <th>2015-01-06</th>\n",
       "      <td>54.270000</td>\n",
       "      <td>54.430000</td>\n",
       "      <td>52.130001</td>\n",
       "      <td>53.040001</td>\n",
       "      <td>50.255585</td>\n",
       "      <td>13772200</td>\n",
       "    </tr>\n",
       "    <tr>\n",
       "      <th>2015-01-07</th>\n",
       "      <td>53.380001</td>\n",
       "      <td>53.650002</td>\n",
       "      <td>52.119999</td>\n",
       "      <td>53.009998</td>\n",
       "      <td>50.227154</td>\n",
       "      <td>10069800</td>\n",
       "    </tr>\n",
       "    <tr>\n",
       "      <th>...</th>\n",
       "      <td>...</td>\n",
       "      <td>...</td>\n",
       "      <td>...</td>\n",
       "      <td>...</td>\n",
       "      <td>...</td>\n",
       "      <td>...</td>\n",
       "    </tr>\n",
       "    <tr>\n",
       "      <th>2023-03-06</th>\n",
       "      <td>16.469999</td>\n",
       "      <td>16.549999</td>\n",
       "      <td>16.100000</td>\n",
       "      <td>16.120001</td>\n",
       "      <td>16.120001</td>\n",
       "      <td>13504800</td>\n",
       "    </tr>\n",
       "    <tr>\n",
       "      <th>2023-03-07</th>\n",
       "      <td>16.240000</td>\n",
       "      <td>16.660000</td>\n",
       "      <td>16.139999</td>\n",
       "      <td>16.360001</td>\n",
       "      <td>16.360001</td>\n",
       "      <td>17951300</td>\n",
       "    </tr>\n",
       "    <tr>\n",
       "      <th>2023-03-08</th>\n",
       "      <td>16.410000</td>\n",
       "      <td>16.600000</td>\n",
       "      <td>16.270000</td>\n",
       "      <td>16.590000</td>\n",
       "      <td>16.590000</td>\n",
       "      <td>11399600</td>\n",
       "    </tr>\n",
       "    <tr>\n",
       "      <th>2023-03-09</th>\n",
       "      <td>16.549999</td>\n",
       "      <td>16.799999</td>\n",
       "      <td>15.850000</td>\n",
       "      <td>15.880000</td>\n",
       "      <td>15.880000</td>\n",
       "      <td>18505000</td>\n",
       "    </tr>\n",
       "    <tr>\n",
       "      <th>2023-03-10</th>\n",
       "      <td>15.980000</td>\n",
       "      <td>16.000000</td>\n",
       "      <td>15.110000</td>\n",
       "      <td>15.460000</td>\n",
       "      <td>15.460000</td>\n",
       "      <td>27268300</td>\n",
       "    </tr>\n",
       "  </tbody>\n",
       "</table>\n",
       "<p>2062 rows × 6 columns</p>\n",
       "</div>"
      ],
      "text/plain": [
       "                 Open       High        Low      Close  Adj Close    Volume\n",
       "Date                                                                       \n",
       "2014-12-31  53.900002  54.639999  53.320000  53.630001  50.814602  10626000\n",
       "2015-01-02  54.279999  54.599998  53.070000  53.910000  51.079903  10748600\n",
       "2015-01-05  54.369999  54.540001  53.340000  53.880001  51.051495  11565000\n",
       "2015-01-06  54.270000  54.430000  52.130001  53.040001  50.255585  13772200\n",
       "2015-01-07  53.380001  53.650002  52.119999  53.009998  50.227154  10069800\n",
       "...               ...        ...        ...        ...        ...       ...\n",
       "2023-03-06  16.469999  16.549999  16.100000  16.120001  16.120001  13504800\n",
       "2023-03-07  16.240000  16.660000  16.139999  16.360001  16.360001  17951300\n",
       "2023-03-08  16.410000  16.600000  16.270000  16.590000  16.590000  11399600\n",
       "2023-03-09  16.549999  16.799999  15.850000  15.880000  15.880000  18505000\n",
       "2023-03-10  15.980000  16.000000  15.110000  15.460000  15.460000  27268300\n",
       "\n",
       "[2062 rows x 6 columns]"
      ]
     },
     "execution_count": 2,
     "metadata": {},
     "output_type": "execute_result"
    }
   ],
   "source": [
    "df=yf.download('AAL',start='2015-01-01')\n",
    "df"
   ]
  },
  {
   "cell_type": "code",
   "execution_count": 3,
   "id": "6da22059",
   "metadata": {},
   "outputs": [],
   "source": [
    "Opens=df.resample('D').first().Open\n",
    "opens=Opens.bfill()"
   ]
  },
  {
   "cell_type": "code",
   "execution_count": 4,
   "id": "f5166f9f",
   "metadata": {},
   "outputs": [
    {
     "data": {
      "text/plain": [
       "Date\n",
       "2014-12-31    53.900002\n",
       "2015-01-01    54.279999\n",
       "2015-01-02    54.279999\n",
       "2015-01-03    54.369999\n",
       "2015-01-04    54.369999\n",
       "                ...    \n",
       "2023-03-06    16.469999\n",
       "2023-03-07    16.240000\n",
       "2023-03-08    16.410000\n",
       "2023-03-09    16.549999\n",
       "2023-03-10    15.980000\n",
       "Freq: D, Name: Open, Length: 2992, dtype: float64"
      ]
     },
     "execution_count": 4,
     "metadata": {},
     "output_type": "execute_result"
    }
   ],
   "source": [
    "opens"
   ]
  },
  {
   "cell_type": "code",
   "execution_count": 5,
   "id": "2ec5706a",
   "metadata": {},
   "outputs": [],
   "source": [
    "def getlevels(date,first=True):\n",
    "    if first:\n",
    "        return opens[date],opens[date]*1.02\n",
    "    else:\n",
    "        return opens[date]*0.98,opens[date]"
   ]
  },
  {
   "cell_type": "code",
   "execution_count": 6,
   "id": "8db36090",
   "metadata": {},
   "outputs": [
    {
     "data": {
      "text/plain": [
       "(12.90999984741211, 13.168199844360352)"
      ]
     },
     "execution_count": 6,
     "metadata": {},
     "output_type": "execute_result"
    }
   ],
   "source": [
    "getlevels('2023-01-01')"
   ]
  },
  {
   "cell_type": "code",
   "execution_count": 7,
   "id": "9f5b4e7e",
   "metadata": {},
   "outputs": [],
   "source": [
    "from datetime import date\n",
    "from dateutil.relativedelta import relativedelta"
   ]
  },
  {
   "cell_type": "code",
   "execution_count": 8,
   "id": "ef14a9f1",
   "metadata": {},
   "outputs": [],
   "source": [
    "def slicedf(dates):\n",
    "    start=date(int(dates.split('-')[0]),int(dates.split('-')[1]),int(dates.split('-')[2]))\n",
    "    end=start+relativedelta(months=9)\n",
    "    return df[start:end]"
   ]
  },
  {
   "cell_type": "code",
   "execution_count": 9,
   "id": "123a9ffb",
   "metadata": {},
   "outputs": [
    {
     "data": {
      "text/html": [
       "<div>\n",
       "<style scoped>\n",
       "    .dataframe tbody tr th:only-of-type {\n",
       "        vertical-align: middle;\n",
       "    }\n",
       "\n",
       "    .dataframe tbody tr th {\n",
       "        vertical-align: top;\n",
       "    }\n",
       "\n",
       "    .dataframe thead th {\n",
       "        text-align: right;\n",
       "    }\n",
       "</style>\n",
       "<table border=\"1\" class=\"dataframe\">\n",
       "  <thead>\n",
       "    <tr style=\"text-align: right;\">\n",
       "      <th></th>\n",
       "      <th>Open</th>\n",
       "      <th>High</th>\n",
       "      <th>Low</th>\n",
       "      <th>Close</th>\n",
       "      <th>Adj Close</th>\n",
       "      <th>Volume</th>\n",
       "    </tr>\n",
       "    <tr>\n",
       "      <th>Date</th>\n",
       "      <th></th>\n",
       "      <th></th>\n",
       "      <th></th>\n",
       "      <th></th>\n",
       "      <th></th>\n",
       "      <th></th>\n",
       "    </tr>\n",
       "  </thead>\n",
       "  <tbody>\n",
       "    <tr>\n",
       "      <th>2022-12-01</th>\n",
       "      <td>14.460000</td>\n",
       "      <td>14.570000</td>\n",
       "      <td>13.930000</td>\n",
       "      <td>13.980000</td>\n",
       "      <td>13.980000</td>\n",
       "      <td>26519600</td>\n",
       "    </tr>\n",
       "    <tr>\n",
       "      <th>2022-12-02</th>\n",
       "      <td>13.820000</td>\n",
       "      <td>13.980000</td>\n",
       "      <td>13.670000</td>\n",
       "      <td>13.970000</td>\n",
       "      <td>13.970000</td>\n",
       "      <td>24124300</td>\n",
       "    </tr>\n",
       "    <tr>\n",
       "      <th>2022-12-05</th>\n",
       "      <td>13.840000</td>\n",
       "      <td>14.340000</td>\n",
       "      <td>13.820000</td>\n",
       "      <td>14.110000</td>\n",
       "      <td>14.110000</td>\n",
       "      <td>27029000</td>\n",
       "    </tr>\n",
       "    <tr>\n",
       "      <th>2022-12-06</th>\n",
       "      <td>14.140000</td>\n",
       "      <td>14.340000</td>\n",
       "      <td>14.000000</td>\n",
       "      <td>14.330000</td>\n",
       "      <td>14.330000</td>\n",
       "      <td>20781500</td>\n",
       "    </tr>\n",
       "    <tr>\n",
       "      <th>2022-12-07</th>\n",
       "      <td>14.240000</td>\n",
       "      <td>14.240000</td>\n",
       "      <td>13.530000</td>\n",
       "      <td>13.550000</td>\n",
       "      <td>13.550000</td>\n",
       "      <td>28161400</td>\n",
       "    </tr>\n",
       "    <tr>\n",
       "      <th>...</th>\n",
       "      <td>...</td>\n",
       "      <td>...</td>\n",
       "      <td>...</td>\n",
       "      <td>...</td>\n",
       "      <td>...</td>\n",
       "      <td>...</td>\n",
       "    </tr>\n",
       "    <tr>\n",
       "      <th>2023-03-06</th>\n",
       "      <td>16.469999</td>\n",
       "      <td>16.549999</td>\n",
       "      <td>16.100000</td>\n",
       "      <td>16.120001</td>\n",
       "      <td>16.120001</td>\n",
       "      <td>13504800</td>\n",
       "    </tr>\n",
       "    <tr>\n",
       "      <th>2023-03-07</th>\n",
       "      <td>16.240000</td>\n",
       "      <td>16.660000</td>\n",
       "      <td>16.139999</td>\n",
       "      <td>16.360001</td>\n",
       "      <td>16.360001</td>\n",
       "      <td>17951300</td>\n",
       "    </tr>\n",
       "    <tr>\n",
       "      <th>2023-03-08</th>\n",
       "      <td>16.410000</td>\n",
       "      <td>16.600000</td>\n",
       "      <td>16.270000</td>\n",
       "      <td>16.590000</td>\n",
       "      <td>16.590000</td>\n",
       "      <td>11399600</td>\n",
       "    </tr>\n",
       "    <tr>\n",
       "      <th>2023-03-09</th>\n",
       "      <td>16.549999</td>\n",
       "      <td>16.799999</td>\n",
       "      <td>15.850000</td>\n",
       "      <td>15.880000</td>\n",
       "      <td>15.880000</td>\n",
       "      <td>18505000</td>\n",
       "    </tr>\n",
       "    <tr>\n",
       "      <th>2023-03-10</th>\n",
       "      <td>15.980000</td>\n",
       "      <td>16.000000</td>\n",
       "      <td>15.110000</td>\n",
       "      <td>15.460000</td>\n",
       "      <td>15.460000</td>\n",
       "      <td>27268300</td>\n",
       "    </tr>\n",
       "  </tbody>\n",
       "</table>\n",
       "<p>68 rows × 6 columns</p>\n",
       "</div>"
      ],
      "text/plain": [
       "                 Open       High        Low      Close  Adj Close    Volume\n",
       "Date                                                                       \n",
       "2022-12-01  14.460000  14.570000  13.930000  13.980000  13.980000  26519600\n",
       "2022-12-02  13.820000  13.980000  13.670000  13.970000  13.970000  24124300\n",
       "2022-12-05  13.840000  14.340000  13.820000  14.110000  14.110000  27029000\n",
       "2022-12-06  14.140000  14.340000  14.000000  14.330000  14.330000  20781500\n",
       "2022-12-07  14.240000  14.240000  13.530000  13.550000  13.550000  28161400\n",
       "...               ...        ...        ...        ...        ...       ...\n",
       "2023-03-06  16.469999  16.549999  16.100000  16.120001  16.120001  13504800\n",
       "2023-03-07  16.240000  16.660000  16.139999  16.360001  16.360001  17951300\n",
       "2023-03-08  16.410000  16.600000  16.270000  16.590000  16.590000  11399600\n",
       "2023-03-09  16.549999  16.799999  15.850000  15.880000  15.880000  18505000\n",
       "2023-03-10  15.980000  16.000000  15.110000  15.460000  15.460000  27268300\n",
       "\n",
       "[68 rows x 6 columns]"
      ]
     },
     "execution_count": 9,
     "metadata": {},
     "output_type": "execute_result"
    }
   ],
   "source": [
    "df_t=slicedf('2022-12-01')\n",
    "df_t"
   ]
  },
  {
   "cell_type": "code",
   "execution_count": 10,
   "id": "c0cfb57a",
   "metadata": {},
   "outputs": [
    {
     "name": "stdout",
     "output_type": "stream",
     "text": [
      "2022-12-15 00:00:00\n",
      "Buy\n",
      "2022-12-15 00:00:00\n",
      "Sold\n",
      "2022-12-16 00:00:00\n",
      "Buy\n",
      "2022-12-21 00:00:00\n",
      "Sold\n",
      "2022-12-22 00:00:00\n",
      "Buy\n",
      "2023-01-04 00:00:00\n",
      "Sold\n"
     ]
    }
   ],
   "source": [
    "in_position=False\n",
    "\n",
    "for index,row in df_t.iterrows():\n",
    "    if not in_position:\n",
    "        levels=getlevels('2023-01-01')\n",
    "        if row.Low<=levels[0]:\n",
    "            print(index)\n",
    "            print('Buy')\n",
    "            in_position=True\n",
    "    if in_position:\n",
    "        if row.High >=levels[1]:\n",
    "            print(index)\n",
    "            print('Sold')\n",
    "            in_position=False"
   ]
  },
  {
   "cell_type": "code",
   "execution_count": 11,
   "id": "dfee9d3f",
   "metadata": {},
   "outputs": [
    {
     "name": "stdout",
     "output_type": "stream",
     "text": [
      "Buy\n",
      "Buy Second\n",
      "Sell second\n",
      "sell\n",
      "Buy\n",
      "Buy Second\n",
      "Sell second\n",
      "sell\n"
     ]
    }
   ],
   "source": [
    "position_arr=[False,False]\n",
    "buy_index,buy_price=[],[]\n",
    "sell_index,sell_price=[],[]\n",
    "second_buy_index,second_buy_price=[],[]\n",
    "second_sell_index,second_sell_price=[],[]\n",
    "dates='2021-01-01'\n",
    "df_t=slicedf(dates)\n",
    "for index,row in df_t.iterrows():\n",
    "    if not position_arr[0]:\n",
    "        firstlevels=getlevels(dates)\n",
    "        secondlevels=getlevels(dates,first=False)\n",
    "        if row.Close<=firstlevels[0]:\n",
    "            print('Buy')\n",
    "            position_arr[0]=True\n",
    "            buy_index.append(index)\n",
    "            buy_price.append(row.Close)\n",
    "    if position_arr[0] and not position_arr[1]:\n",
    "        if row.Close<=secondlevels[0]:\n",
    "            print('Buy Second')\n",
    "            position_arr[1]=True\n",
    "            second_buy_index.append(index)\n",
    "            second_buy_price.append(row.Close)\n",
    "        if row.Close>=firstlevels[1]:\n",
    "            print('sell')\n",
    "            position_arr[0]=False\n",
    "            sell_index.append(index)\n",
    "            sell_price.append(row.Close)\n",
    "    if position_arr[1]:\n",
    "        if row.Close>=secondlevels[1]:\n",
    "            print('Sell second')\n",
    "            position_arr[1]=False\n",
    "            second_sell_index.append(index)\n",
    "            second_sell_price.append(row.Close)"
   ]
  },
  {
   "cell_type": "code",
   "execution_count": 12,
   "id": "c1e636b3",
   "metadata": {},
   "outputs": [
    {
     "data": {
      "text/plain": [
       "(array([737791., 737822., 737850., 737881., 737911., 737942., 737972.,\n",
       "        738003., 738034., 738064.]),\n",
       " <a list of 10 Text xticklabel objects>)"
      ]
     },
     "execution_count": 12,
     "metadata": {},
     "output_type": "execute_result"
    },
    {
     "data": {
      "image/png": "[encoded data removed]",
      "text/plain": [
       "<Figure size 432x288 with 1 Axes>"
      ]
     },
     "metadata": {
      "needs_background": "light"
     },
     "output_type": "display_data"
    }
   ],
   "source": [
    "plt.plot(np.array(df_t.index),df_t.Close.values)\n",
    "plt.scatter(np.array(buy_index),buy_price,marker='^',color='g')\n",
    "plt.scatter(np.array(second_buy_index),second_buy_price,marker='^',color='m')\n",
    "plt.scatter(np.array(second_sell_index),second_sell_price,marker='v',color='orange')\n",
    "plt.scatter(np.array(sell_index),sell_price,marker='v',color='r')\n",
    "plt.xticks(rotation=45)"
   ]
  },
  {
   "cell_type": "code",
   "execution_count": null,
   "id": "ca438b67",
   "metadata": {},
   "outputs": [],
   "source": []
  },
  {
   "cell_type": "code",
   "execution_count": null,
   "id": "b10104d2",
   "metadata": {},
   "outputs": [],
   "source": []
  }
 ],
 "metadata": {
  "kernelspec": {
   "display_name": "Python 3 (ipykernel)",
   "language": "python",
   "name": "python3"
  },
  "language_info": {
   "codemirror_mode": {
    "name": "ipython",
    "version": 3
   },
   "file_extension": ".py",
   "mimetype": "text/x-python",
   "name": "python",
   "nbconvert_exporter": "python",
   "pygments_lexer": "ipython3",
   "version": "3.7.3"
  }
 },
 "nbformat": 4,
 "nbformat_minor": 5
}

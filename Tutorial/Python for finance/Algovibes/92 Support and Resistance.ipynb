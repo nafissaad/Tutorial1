{
 "cells": [
  {
   "cell_type": "code",
   "execution_count": 1,
   "metadata": {},
   "outputs": [],
   "source": [
    "import yfinance as yf\n",
    "import pandas as pd\n",
    "import matplotlib.pyplot as plt\n",
    "import yfinance as yf"
   ]
  },
  {
   "cell_type": "code",
   "execution_count": 2,
   "metadata": {
    "scrolled": true
   },
   "outputs": [
    {
     "name": "stdout",
     "output_type": "stream",
     "text": [
      "[*********************100%***********************]  1 of 1 completed\n"
     ]
    },
    {
     "data": {
      "text/html": [
       "<div>\n",
       "<style scoped>\n",
       "    .dataframe tbody tr th:only-of-type {\n",
       "        vertical-align: middle;\n",
       "    }\n",
       "\n",
       "    .dataframe tbody tr th {\n",
       "        vertical-align: top;\n",
       "    }\n",
       "\n",
       "    .dataframe thead th {\n",
       "        text-align: right;\n",
       "    }\n",
       "</style>\n",
       "<table border=\"1\" class=\"dataframe\">\n",
       "  <thead>\n",
       "    <tr style=\"text-align: right;\">\n",
       "      <th></th>\n",
       "      <th>Open</th>\n",
       "      <th>High</th>\n",
       "      <th>Low</th>\n",
       "      <th>Close</th>\n",
       "      <th>Adj Close</th>\n",
       "      <th>Volume</th>\n",
       "    </tr>\n",
       "    <tr>\n",
       "      <th>Date</th>\n",
       "      <th></th>\n",
       "      <th></th>\n",
       "      <th></th>\n",
       "      <th></th>\n",
       "      <th></th>\n",
       "      <th></th>\n",
       "    </tr>\n",
       "  </thead>\n",
       "  <tbody>\n",
       "    <tr>\n",
       "      <th>2023-01-03</th>\n",
       "      <td>3853.290039</td>\n",
       "      <td>3878.459961</td>\n",
       "      <td>3794.330078</td>\n",
       "      <td>3824.139893</td>\n",
       "      <td>3824.139893</td>\n",
       "      <td>3959140000</td>\n",
       "    </tr>\n",
       "    <tr>\n",
       "      <th>2023-01-04</th>\n",
       "      <td>3840.360107</td>\n",
       "      <td>3873.159912</td>\n",
       "      <td>3815.770020</td>\n",
       "      <td>3852.969971</td>\n",
       "      <td>3852.969971</td>\n",
       "      <td>4414080000</td>\n",
       "    </tr>\n",
       "    <tr>\n",
       "      <th>2023-01-05</th>\n",
       "      <td>3839.739990</td>\n",
       "      <td>3839.739990</td>\n",
       "      <td>3802.419922</td>\n",
       "      <td>3808.100098</td>\n",
       "      <td>3808.100098</td>\n",
       "      <td>3893450000</td>\n",
       "    </tr>\n",
       "    <tr>\n",
       "      <th>2023-01-06</th>\n",
       "      <td>3823.370117</td>\n",
       "      <td>3906.189941</td>\n",
       "      <td>3809.560059</td>\n",
       "      <td>3895.080078</td>\n",
       "      <td>3895.080078</td>\n",
       "      <td>3923560000</td>\n",
       "    </tr>\n",
       "    <tr>\n",
       "      <th>2023-01-09</th>\n",
       "      <td>3910.820068</td>\n",
       "      <td>3950.570068</td>\n",
       "      <td>3890.419922</td>\n",
       "      <td>3892.090088</td>\n",
       "      <td>3892.090088</td>\n",
       "      <td>4311770000</td>\n",
       "    </tr>\n",
       "    <tr>\n",
       "      <th>...</th>\n",
       "      <td>...</td>\n",
       "      <td>...</td>\n",
       "      <td>...</td>\n",
       "      <td>...</td>\n",
       "      <td>...</td>\n",
       "      <td>...</td>\n",
       "    </tr>\n",
       "    <tr>\n",
       "      <th>2023-04-21</th>\n",
       "      <td>4132.140137</td>\n",
       "      <td>4138.020020</td>\n",
       "      <td>4113.859863</td>\n",
       "      <td>4133.520020</td>\n",
       "      <td>4133.520020</td>\n",
       "      <td>3611750000</td>\n",
       "    </tr>\n",
       "    <tr>\n",
       "      <th>2023-04-24</th>\n",
       "      <td>4132.069824</td>\n",
       "      <td>4142.410156</td>\n",
       "      <td>4117.770020</td>\n",
       "      <td>4137.040039</td>\n",
       "      <td>4137.040039</td>\n",
       "      <td>3290940000</td>\n",
       "    </tr>\n",
       "    <tr>\n",
       "      <th>2023-04-25</th>\n",
       "      <td>4126.430176</td>\n",
       "      <td>4126.430176</td>\n",
       "      <td>4071.379883</td>\n",
       "      <td>4071.629883</td>\n",
       "      <td>4071.629883</td>\n",
       "      <td>3978640000</td>\n",
       "    </tr>\n",
       "    <tr>\n",
       "      <th>2023-04-26</th>\n",
       "      <td>4087.780029</td>\n",
       "      <td>4089.669922</td>\n",
       "      <td>4049.350098</td>\n",
       "      <td>4055.989990</td>\n",
       "      <td>4055.989990</td>\n",
       "      <td>3837030000</td>\n",
       "    </tr>\n",
       "    <tr>\n",
       "      <th>2023-04-27</th>\n",
       "      <td>4075.290039</td>\n",
       "      <td>4138.240234</td>\n",
       "      <td>4075.290039</td>\n",
       "      <td>4135.350098</td>\n",
       "      <td>4135.350098</td>\n",
       "      <td>3750550000</td>\n",
       "    </tr>\n",
       "  </tbody>\n",
       "</table>\n",
       "<p>80 rows × 6 columns</p>\n",
       "</div>"
      ],
      "text/plain": [
       "                   Open         High          Low        Close    Adj Close  \\\n",
       "Date                                                                          \n",
       "2023-01-03  3853.290039  3878.459961  3794.330078  3824.139893  3824.139893   \n",
       "2023-01-04  3840.360107  3873.159912  3815.770020  3852.969971  3852.969971   \n",
       "2023-01-05  3839.739990  3839.739990  3802.419922  3808.100098  3808.100098   \n",
       "2023-01-06  3823.370117  3906.189941  3809.560059  3895.080078  3895.080078   \n",
       "2023-01-09  3910.820068  3950.570068  3890.419922  3892.090088  3892.090088   \n",
       "...                 ...          ...          ...          ...          ...   \n",
       "2023-04-21  4132.140137  4138.020020  4113.859863  4133.520020  4133.520020   \n",
       "2023-04-24  4132.069824  4142.410156  4117.770020  4137.040039  4137.040039   \n",
       "2023-04-25  4126.430176  4126.430176  4071.379883  4071.629883  4071.629883   \n",
       "2023-04-26  4087.780029  4089.669922  4049.350098  4055.989990  4055.989990   \n",
       "2023-04-27  4075.290039  4138.240234  4075.290039  4135.350098  4135.350098   \n",
       "\n",
       "                Volume  \n",
       "Date                    \n",
       "2023-01-03  3959140000  \n",
       "2023-01-04  4414080000  \n",
       "2023-01-05  3893450000  \n",
       "2023-01-06  3923560000  \n",
       "2023-01-09  4311770000  \n",
       "...                ...  \n",
       "2023-04-21  3611750000  \n",
       "2023-04-24  3290940000  \n",
       "2023-04-25  3978640000  \n",
       "2023-04-26  3837030000  \n",
       "2023-04-27  3750550000  \n",
       "\n",
       "[80 rows x 6 columns]"
      ]
     },
     "execution_count": 2,
     "metadata": {},
     "output_type": "execute_result"
    }
   ],
   "source": [
    "df=yf.download('^GSPC',start='2023-01-01',end='2023-04-28')\n",
    "df"
   ]
  },
  {
   "cell_type": "code",
   "execution_count": 3,
   "metadata": {},
   "outputs": [],
   "source": [
    "support=df[df.Low==df.Low.rolling(5,center=True).min()].Low\n",
    "resistance=df[df.High==df.High.rolling(5,center=True).max()].High"
   ]
  },
  {
   "cell_type": "code",
   "execution_count": 4,
   "metadata": {},
   "outputs": [
    {
     "data": {
      "text/plain": [
       "Date\n",
       "2023-01-19    3885.540039\n",
       "2023-01-25    3949.060059\n",
       "2023-02-10    4060.790039\n",
       "2023-02-24    3943.080078\n",
       "2023-03-02    3928.159912\n",
       "2023-03-13    3808.860107\n",
       "2023-03-24    3909.159912\n",
       "2023-04-06    4069.840088\n",
       "Name: Low, dtype: float64"
      ]
     },
     "execution_count": 4,
     "metadata": {},
     "output_type": "execute_result"
    }
   ],
   "source": [
    "support"
   ]
  },
  {
   "cell_type": "code",
   "execution_count": 5,
   "metadata": {},
   "outputs": [
    {
     "data": {
      "text/plain": [
       "Date\n",
       "2023-01-17    4015.389893\n",
       "2023-01-23    4039.310059\n",
       "2023-01-27    4094.209961\n",
       "2023-02-02    4195.439941\n",
       "2023-02-14    4159.770020\n",
       "2023-03-06    4078.489990\n",
       "2023-03-16    3964.459961\n",
       "2023-03-22    4039.489990\n",
       "2023-04-04    4133.129883\n",
       "2023-04-18    4169.479980\n",
       "Name: High, dtype: float64"
      ]
     },
     "execution_count": 5,
     "metadata": {},
     "output_type": "execute_result"
    }
   ],
   "source": [
    "resistance"
   ]
  },
  {
   "cell_type": "code",
   "execution_count": 6,
   "metadata": {},
   "outputs": [
    {
     "data": {
      "text/plain": [
       "Date\n",
       "2023-01-19    3885.540039\n",
       "2023-01-25    3949.060059\n",
       "2023-02-10    4060.790039\n",
       "2023-02-24    3943.080078\n",
       "2023-03-02    3928.159912\n",
       "2023-03-13    3808.860107\n",
       "2023-03-24    3909.159912\n",
       "2023-04-06    4069.840088\n",
       "2023-01-17    4015.389893\n",
       "2023-01-23    4039.310059\n",
       "2023-01-27    4094.209961\n",
       "2023-02-02    4195.439941\n",
       "2023-02-14    4159.770020\n",
       "2023-03-06    4078.489990\n",
       "2023-03-16    3964.459961\n",
       "2023-03-22    4039.489990\n",
       "2023-04-04    4133.129883\n",
       "2023-04-18    4169.479980\n",
       "dtype: float64"
      ]
     },
     "execution_count": 6,
     "metadata": {},
     "output_type": "execute_result"
    }
   ],
   "source": [
    "levels=pd.concat([support,resistance])\n",
    "levels"
   ]
  },
  {
   "cell_type": "code",
   "execution_count": 7,
   "metadata": {},
   "outputs": [
    {
     "data": {
      "text/plain": [
       "Date\n",
       "2023-02-10    4060.790039\n",
       "2023-02-24    3943.080078\n",
       "2023-03-13    3808.860107\n",
       "2023-03-24    3909.159912\n",
       "2023-04-06    4069.840088\n",
       "2023-02-02    4195.439941\n",
       "2023-03-16    3964.459961\n",
       "dtype: float64"
      ]
     },
     "execution_count": 7,
     "metadata": {},
     "output_type": "execute_result"
    }
   ],
   "source": [
    "levels=levels[abs(levels.diff())>100]\n",
    "levels"
   ]
  },
  {
   "cell_type": "code",
   "execution_count": 8,
   "metadata": {},
   "outputs": [
    {
     "data": {
      "text/plain": [
       "<matplotlib.collections.LineCollection at 0x1f87b680d30>"
      ]
     },
     "execution_count": 8,
     "metadata": {},
     "output_type": "execute_result"
    },
    {
     "data": {
      "image/png": "[encoded data removed]",
      "text/plain": [
       "<Figure size 432x288 with 1 Axes>"
      ]
     },
     "metadata": {
      "needs_background": "light"
     },
     "output_type": "display_data"
    }
   ],
   "source": [
    "df.Close.plot()\n",
    "plt.hlines(levels,xmin=levels.index,xmax=df.index[-1])"
   ]
  },
  {
   "cell_type": "code",
   "execution_count": null,
   "metadata": {},
   "outputs": [],
   "source": []
  }
 ],
 "metadata": {
  "kernelspec": {
   "display_name": "Python 3 (ipykernel)",
   "language": "python",
   "name": "python3"
  },
  "language_info": {
   "codemirror_mode": {
    "name": "ipython",
    "version": 3
   },
   "file_extension": ".py",
   "mimetype": "text/x-python",
   "name": "python",
   "nbconvert_exporter": "python",
   "pygments_lexer": "ipython3",
   "version": "3.7.3"
  }
 },
 "nbformat": 4,
 "nbformat_minor": 2
}

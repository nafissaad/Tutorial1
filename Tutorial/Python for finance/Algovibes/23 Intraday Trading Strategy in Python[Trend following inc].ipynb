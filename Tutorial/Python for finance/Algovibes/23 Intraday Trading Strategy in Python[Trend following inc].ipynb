{
 "cells": [
  {
   "cell_type": "code",
   "execution_count": 1,
   "id": "c80a2150",
   "metadata": {},
   "outputs": [],
   "source": [
    "import yfinance as yf\n",
    "import pandas as pd\n",
    "import datetime as dt\n",
    "from pandas_datareader import data as pdr"
   ]
  },
  {
   "cell_type": "code",
   "execution_count": 2,
   "id": "562d22a4",
   "metadata": {
    "scrolled": false
   },
   "outputs": [
    {
     "name": "stdout",
     "output_type": "stream",
     "text": [
      "[*********************100%***********************]  1 of 1 completed\n"
     ]
    },
    {
     "data": {
      "text/html": [
       "<div>\n",
       "<style scoped>\n",
       "    .dataframe tbody tr th:only-of-type {\n",
       "        vertical-align: middle;\n",
       "    }\n",
       "\n",
       "    .dataframe tbody tr th {\n",
       "        vertical-align: top;\n",
       "    }\n",
       "\n",
       "    .dataframe thead th {\n",
       "        text-align: right;\n",
       "    }\n",
       "</style>\n",
       "<table border=\"1\" class=\"dataframe\">\n",
       "  <thead>\n",
       "    <tr style=\"text-align: right;\">\n",
       "      <th></th>\n",
       "      <th>Open</th>\n",
       "      <th>High</th>\n",
       "      <th>Low</th>\n",
       "      <th>Close</th>\n",
       "      <th>Adj Close</th>\n",
       "      <th>Volume</th>\n",
       "    </tr>\n",
       "    <tr>\n",
       "      <th>Datetime</th>\n",
       "      <th></th>\n",
       "      <th></th>\n",
       "      <th></th>\n",
       "      <th></th>\n",
       "      <th></th>\n",
       "      <th></th>\n",
       "    </tr>\n",
       "  </thead>\n",
       "  <tbody>\n",
       "    <tr>\n",
       "      <th>2021-03-01 12:30:00-05:00</th>\n",
       "      <td>714.590027</td>\n",
       "      <td>718.000000</td>\n",
       "      <td>707.559998</td>\n",
       "      <td>709.479980</td>\n",
       "      <td>709.479980</td>\n",
       "      <td>0</td>\n",
       "    </tr>\n",
       "    <tr>\n",
       "      <th>2021-03-01 13:30:00-05:00</th>\n",
       "      <td>709.669983</td>\n",
       "      <td>712.200012</td>\n",
       "      <td>704.302673</td>\n",
       "      <td>710.840027</td>\n",
       "      <td>710.840027</td>\n",
       "      <td>2245535</td>\n",
       "    </tr>\n",
       "    <tr>\n",
       "      <th>2021-03-01 14:30:00-05:00</th>\n",
       "      <td>710.905029</td>\n",
       "      <td>715.499878</td>\n",
       "      <td>708.679993</td>\n",
       "      <td>712.609985</td>\n",
       "      <td>712.609985</td>\n",
       "      <td>2351321</td>\n",
       "    </tr>\n",
       "    <tr>\n",
       "      <th>2021-03-01 15:30:00-05:00</th>\n",
       "      <td>712.645020</td>\n",
       "      <td>719.000000</td>\n",
       "      <td>711.510010</td>\n",
       "      <td>718.429993</td>\n",
       "      <td>718.429993</td>\n",
       "      <td>2371893</td>\n",
       "    </tr>\n",
       "    <tr>\n",
       "      <th>2021-03-02 09:30:00-05:00</th>\n",
       "      <td>718.280029</td>\n",
       "      <td>721.109985</td>\n",
       "      <td>702.250000</td>\n",
       "      <td>709.109985</td>\n",
       "      <td>709.109985</td>\n",
       "      <td>6962448</td>\n",
       "    </tr>\n",
       "    <tr>\n",
       "      <th>...</th>\n",
       "      <td>...</td>\n",
       "      <td>...</td>\n",
       "      <td>...</td>\n",
       "      <td>...</td>\n",
       "      <td>...</td>\n",
       "      <td>...</td>\n",
       "    </tr>\n",
       "    <tr>\n",
       "      <th>2021-07-08 09:30:00-04:00</th>\n",
       "      <td>628.369995</td>\n",
       "      <td>640.274780</td>\n",
       "      <td>620.460022</td>\n",
       "      <td>639.559998</td>\n",
       "      <td>639.559998</td>\n",
       "      <td>8298995</td>\n",
       "    </tr>\n",
       "    <tr>\n",
       "      <th>2021-07-08 10:30:00-04:00</th>\n",
       "      <td>639.320007</td>\n",
       "      <td>641.799988</td>\n",
       "      <td>634.580017</td>\n",
       "      <td>639.000000</td>\n",
       "      <td>639.000000</td>\n",
       "      <td>3135138</td>\n",
       "    </tr>\n",
       "    <tr>\n",
       "      <th>2021-07-08 11:30:00-04:00</th>\n",
       "      <td>639.000000</td>\n",
       "      <td>646.286011</td>\n",
       "      <td>636.500000</td>\n",
       "      <td>645.290894</td>\n",
       "      <td>645.290894</td>\n",
       "      <td>2657097</td>\n",
       "    </tr>\n",
       "    <tr>\n",
       "      <th>2021-07-08 12:30:00-04:00</th>\n",
       "      <td>645.435974</td>\n",
       "      <td>650.719971</td>\n",
       "      <td>644.900024</td>\n",
       "      <td>649.650024</td>\n",
       "      <td>649.650024</td>\n",
       "      <td>2427912</td>\n",
       "    </tr>\n",
       "    <tr>\n",
       "      <th>2022-10-07 16:00:00-04:00</th>\n",
       "      <td>223.070007</td>\n",
       "      <td>223.070007</td>\n",
       "      <td>223.070007</td>\n",
       "      <td>223.070007</td>\n",
       "      <td>223.070007</td>\n",
       "      <td>0</td>\n",
       "    </tr>\n",
       "  </tbody>\n",
       "</table>\n",
       "<p>632 rows × 6 columns</p>\n",
       "</div>"
      ],
      "text/plain": [
       "                                 Open        High         Low       Close  \\\n",
       "Datetime                                                                    \n",
       "2021-03-01 12:30:00-05:00  714.590027  718.000000  707.559998  709.479980   \n",
       "2021-03-01 13:30:00-05:00  709.669983  712.200012  704.302673  710.840027   \n",
       "2021-03-01 14:30:00-05:00  710.905029  715.499878  708.679993  712.609985   \n",
       "2021-03-01 15:30:00-05:00  712.645020  719.000000  711.510010  718.429993   \n",
       "2021-03-02 09:30:00-05:00  718.280029  721.109985  702.250000  709.109985   \n",
       "...                               ...         ...         ...         ...   \n",
       "2021-07-08 09:30:00-04:00  628.369995  640.274780  620.460022  639.559998   \n",
       "2021-07-08 10:30:00-04:00  639.320007  641.799988  634.580017  639.000000   \n",
       "2021-07-08 11:30:00-04:00  639.000000  646.286011  636.500000  645.290894   \n",
       "2021-07-08 12:30:00-04:00  645.435974  650.719971  644.900024  649.650024   \n",
       "2022-10-07 16:00:00-04:00  223.070007  223.070007  223.070007  223.070007   \n",
       "\n",
       "                            Adj Close   Volume  \n",
       "Datetime                                        \n",
       "2021-03-01 12:30:00-05:00  709.479980        0  \n",
       "2021-03-01 13:30:00-05:00  710.840027  2245535  \n",
       "2021-03-01 14:30:00-05:00  712.609985  2351321  \n",
       "2021-03-01 15:30:00-05:00  718.429993  2371893  \n",
       "2021-03-02 09:30:00-05:00  709.109985  6962448  \n",
       "...                               ...      ...  \n",
       "2021-07-08 09:30:00-04:00  639.559998  8298995  \n",
       "2021-07-08 10:30:00-04:00  639.000000  3135138  \n",
       "2021-07-08 11:30:00-04:00  645.290894  2657097  \n",
       "2021-07-08 12:30:00-04:00  649.650024  2427912  \n",
       "2022-10-07 16:00:00-04:00  223.070007        0  \n",
       "\n",
       "[632 rows x 6 columns]"
      ]
     },
     "execution_count": 2,
     "metadata": {},
     "output_type": "execute_result"
    }
   ],
   "source": [
    "asset=\"TSLA\"\n",
    "df=yf.download(asset,start='2021-03-02',end='2021-07-09',interval=\"60m\")\n",
    "df"
   ]
  },
  {
   "cell_type": "code",
   "execution_count": 3,
   "id": "e53dd87d",
   "metadata": {},
   "outputs": [
    {
     "data": {
      "text/plain": [
       "Open         7.109050e+02\n",
       "High         7.154999e+02\n",
       "Low          7.086800e+02\n",
       "Close        7.126100e+02\n",
       "Adj Close    7.126100e+02\n",
       "Volume       2.351321e+06\n",
       "Name: 2021-03-01 14:30:00-05:00, dtype: float64"
      ]
     },
     "execution_count": 3,
     "metadata": {},
     "output_type": "execute_result"
    }
   ],
   "source": [
    "df.iloc[2] #has a name"
   ]
  },
  {
   "cell_type": "code",
   "execution_count": 4,
   "id": "d757f790",
   "metadata": {},
   "outputs": [],
   "source": [
    "def Intermonthtrend(df,entry,exit):\n",
    "    for i in range(len(df)):\n",
    "        ret_120min=df.iloc[i].Open/df.iloc[0].Open-1\n",
    "        if ret_120min>0.02:\n",
    "            break\n",
    "    #print('1 ',ret_120min)\n",
    "    tickret=df.Open.pct_change()\n",
    "    #print('2 ',tickret)\n",
    "    #print('3 ',i)\n",
    "    if ret_120min > entry:\n",
    "        buyprice=df.iloc[i+1].Open\n",
    "        #print('4 ',buyprice)\n",
    "        buytime=df.iloc[i+1].name\n",
    "        #print('5 ',buytime)\n",
    "        cumulated=(tickret.loc[buytime:]+1).cumprod()-1\n",
    "        #print('6 ',cumulated)\n",
    "        exittime=cumulated[(cumulated <-exit) | (cumulated>exit)].first_valid_index()\n",
    "        #print('7 ',exittime)\n",
    "        \n",
    "        if exittime==None:\n",
    "            exitprice=df.iloc[-1].open\n",
    "        else:\n",
    "            exitprice=df.loc[exittime+dt.timedelta(minutes=60)].Open\n",
    "            #print('7 ',exitprice)\n",
    "        profit=exitprice-buyprice\n",
    "        #print('8 ',profit)\n",
    "        profitret=profit/buyprice\n",
    "        #print('9 ',profitret)\n",
    "        #print(profitret)\n",
    "        return profitret\n",
    "    \n",
    "    else:\n",
    "        return None"
   ]
  },
  {
   "cell_type": "code",
   "execution_count": 5,
   "id": "a97f4c87",
   "metadata": {},
   "outputs": [
    {
     "data": {
      "text/plain": [
       "626.0599975585938"
      ]
     },
     "execution_count": 5,
     "metadata": {},
     "output_type": "execute_result"
    }
   ],
   "source": [
    "df.iloc[25].Open"
   ]
  },
  {
   "cell_type": "code",
   "execution_count": 6,
   "id": "84910e4d",
   "metadata": {},
   "outputs": [
    {
     "data": {
      "text/plain": [
       "0.014167099384768622"
      ]
     },
     "execution_count": 6,
     "metadata": {},
     "output_type": "execute_result"
    }
   ],
   "source": [
    "x=Intermonthtrend(df,0.01,0.01)\n",
    "x"
   ]
  },
  {
   "cell_type": "code",
   "execution_count": null,
   "id": "3f6b2891",
   "metadata": {},
   "outputs": [],
   "source": []
  },
  {
   "cell_type": "code",
   "execution_count": null,
   "id": "f9a7b4fd",
   "metadata": {},
   "outputs": [],
   "source": []
  }
 ],
 "metadata": {
  "kernelspec": {
   "display_name": "Python 3 (ipykernel)",
   "language": "python",
   "name": "python3"
  },
  "language_info": {
   "codemirror_mode": {
    "name": "ipython",
    "version": 3
   },
   "file_extension": ".py",
   "mimetype": "text/x-python",
   "name": "python",
   "nbconvert_exporter": "python",
   "pygments_lexer": "ipython3",
   "version": "3.7.3"
  }
 },
 "nbformat": 4,
 "nbformat_minor": 5
}

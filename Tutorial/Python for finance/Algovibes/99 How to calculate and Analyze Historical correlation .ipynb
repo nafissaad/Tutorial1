{
 "cells": [
  {
   "cell_type": "code",
   "execution_count": 1,
   "id": "ec558fef",
   "metadata": {},
   "outputs": [],
   "source": [
    "import pandas as pd\n",
    "import yfinance as yf\n",
    "import matplotlib.pyplot as plt "
   ]
  },
  {
   "cell_type": "code",
   "execution_count": 2,
   "id": "931362ab",
   "metadata": {},
   "outputs": [],
   "source": [
    "s_p=['AAPL','MSFT','CAT']"
   ]
  },
  {
   "cell_type": "code",
   "execution_count": 3,
   "id": "68fdfe46",
   "metadata": {},
   "outputs": [
    {
     "name": "stdout",
     "output_type": "stream",
     "text": [
      "[*********************100%***********************]  3 of 3 completed\n"
     ]
    }
   ],
   "source": [
    "df=yf.download(s_p,start='2020-01-01')['Adj Close']"
   ]
  },
  {
   "cell_type": "code",
   "execution_count": 4,
   "id": "ff1dde06",
   "metadata": {},
   "outputs": [],
   "source": [
    "ret_df=df.pct_change()"
   ]
  },
  {
   "cell_type": "code",
   "execution_count": 5,
   "id": "dacfb4df",
   "metadata": {},
   "outputs": [
    {
     "data": {
      "text/html": [
       "<div>\n",
       "<style scoped>\n",
       "    .dataframe tbody tr th:only-of-type {\n",
       "        vertical-align: middle;\n",
       "    }\n",
       "\n",
       "    .dataframe tbody tr th {\n",
       "        vertical-align: top;\n",
       "    }\n",
       "\n",
       "    .dataframe thead th {\n",
       "        text-align: right;\n",
       "    }\n",
       "</style>\n",
       "<table border=\"1\" class=\"dataframe\">\n",
       "  <thead>\n",
       "    <tr style=\"text-align: right;\">\n",
       "      <th></th>\n",
       "      <th>AAPL</th>\n",
       "      <th>CAT</th>\n",
       "      <th>MSFT</th>\n",
       "    </tr>\n",
       "    <tr>\n",
       "      <th>Date</th>\n",
       "      <th></th>\n",
       "      <th></th>\n",
       "      <th></th>\n",
       "    </tr>\n",
       "  </thead>\n",
       "  <tbody>\n",
       "    <tr>\n",
       "      <th>2019-12-31</th>\n",
       "      <td>NaN</td>\n",
       "      <td>NaN</td>\n",
       "      <td>NaN</td>\n",
       "    </tr>\n",
       "    <tr>\n",
       "      <th>2020-01-02</th>\n",
       "      <td>0.022816</td>\n",
       "      <td>0.019299</td>\n",
       "      <td>0.018516</td>\n",
       "    </tr>\n",
       "    <tr>\n",
       "      <th>2020-01-03</th>\n",
       "      <td>-0.009722</td>\n",
       "      <td>-0.013884</td>\n",
       "      <td>-0.012452</td>\n",
       "    </tr>\n",
       "    <tr>\n",
       "      <th>2020-01-06</th>\n",
       "      <td>0.007968</td>\n",
       "      <td>-0.000674</td>\n",
       "      <td>0.002585</td>\n",
       "    </tr>\n",
       "    <tr>\n",
       "      <th>2020-01-07</th>\n",
       "      <td>-0.004703</td>\n",
       "      <td>-0.013213</td>\n",
       "      <td>-0.009118</td>\n",
       "    </tr>\n",
       "    <tr>\n",
       "      <th>...</th>\n",
       "      <td>...</td>\n",
       "      <td>...</td>\n",
       "      <td>...</td>\n",
       "    </tr>\n",
       "    <tr>\n",
       "      <th>2023-08-31</th>\n",
       "      <td>0.001172</td>\n",
       "      <td>-0.004250</td>\n",
       "      <td>-0.003133</td>\n",
       "    </tr>\n",
       "    <tr>\n",
       "      <th>2023-09-01</th>\n",
       "      <td>0.008463</td>\n",
       "      <td>0.018212</td>\n",
       "      <td>0.002746</td>\n",
       "    </tr>\n",
       "    <tr>\n",
       "      <th>2023-09-05</th>\n",
       "      <td>0.001267</td>\n",
       "      <td>-0.016140</td>\n",
       "      <td>0.014879</td>\n",
       "    </tr>\n",
       "    <tr>\n",
       "      <th>2023-09-06</th>\n",
       "      <td>-0.035793</td>\n",
       "      <td>0.004509</td>\n",
       "      <td>-0.002009</td>\n",
       "    </tr>\n",
       "    <tr>\n",
       "      <th>2023-09-07</th>\n",
       "      <td>-0.036903</td>\n",
       "      <td>-0.011630</td>\n",
       "      <td>-0.005377</td>\n",
       "    </tr>\n",
       "  </tbody>\n",
       "</table>\n",
       "<p>928 rows × 3 columns</p>\n",
       "</div>"
      ],
      "text/plain": [
       "                AAPL       CAT      MSFT\n",
       "Date                                    \n",
       "2019-12-31       NaN       NaN       NaN\n",
       "2020-01-02  0.022816  0.019299  0.018516\n",
       "2020-01-03 -0.009722 -0.013884 -0.012452\n",
       "2020-01-06  0.007968 -0.000674  0.002585\n",
       "2020-01-07 -0.004703 -0.013213 -0.009118\n",
       "...              ...       ...       ...\n",
       "2023-08-31  0.001172 -0.004250 -0.003133\n",
       "2023-09-01  0.008463  0.018212  0.002746\n",
       "2023-09-05  0.001267 -0.016140  0.014879\n",
       "2023-09-06 -0.035793  0.004509 -0.002009\n",
       "2023-09-07 -0.036903 -0.011630 -0.005377\n",
       "\n",
       "[928 rows x 3 columns]"
      ]
     },
     "execution_count": 5,
     "metadata": {},
     "output_type": "execute_result"
    }
   ],
   "source": [
    "ret_df"
   ]
  },
  {
   "cell_type": "code",
   "execution_count": 6,
   "id": "f1f5b4c3",
   "metadata": {},
   "outputs": [
    {
     "data": {
      "text/html": [
       "<div>\n",
       "<style scoped>\n",
       "    .dataframe tbody tr th:only-of-type {\n",
       "        vertical-align: middle;\n",
       "    }\n",
       "\n",
       "    .dataframe tbody tr th {\n",
       "        vertical-align: top;\n",
       "    }\n",
       "\n",
       "    .dataframe thead th {\n",
       "        text-align: right;\n",
       "    }\n",
       "</style>\n",
       "<table border=\"1\" class=\"dataframe\">\n",
       "  <thead>\n",
       "    <tr style=\"text-align: right;\">\n",
       "      <th></th>\n",
       "      <th>AAPL</th>\n",
       "      <th>CAT</th>\n",
       "      <th>MSFT</th>\n",
       "    </tr>\n",
       "  </thead>\n",
       "  <tbody>\n",
       "    <tr>\n",
       "      <th>AAPL</th>\n",
       "      <td>1.000000</td>\n",
       "      <td>0.377251</td>\n",
       "      <td>0.781591</td>\n",
       "    </tr>\n",
       "    <tr>\n",
       "      <th>CAT</th>\n",
       "      <td>0.377251</td>\n",
       "      <td>1.000000</td>\n",
       "      <td>0.368628</td>\n",
       "    </tr>\n",
       "    <tr>\n",
       "      <th>MSFT</th>\n",
       "      <td>0.781591</td>\n",
       "      <td>0.368628</td>\n",
       "      <td>1.000000</td>\n",
       "    </tr>\n",
       "  </tbody>\n",
       "</table>\n",
       "</div>"
      ],
      "text/plain": [
       "          AAPL       CAT      MSFT\n",
       "AAPL  1.000000  0.377251  0.781591\n",
       "CAT   0.377251  1.000000  0.368628\n",
       "MSFT  0.781591  0.368628  1.000000"
      ]
     },
     "execution_count": 6,
     "metadata": {},
     "output_type": "execute_result"
    }
   ],
   "source": [
    "ret_df.corr()"
   ]
  },
  {
   "cell_type": "code",
   "execution_count": 7,
   "id": "b8f28497",
   "metadata": {},
   "outputs": [],
   "source": [
    "roll_corr=ret_df.rolling(90).corr()"
   ]
  },
  {
   "cell_type": "code",
   "execution_count": 8,
   "id": "c72b7138",
   "metadata": {},
   "outputs": [],
   "source": [
    "roll_corr.dropna(inplace=True)"
   ]
  },
  {
   "cell_type": "code",
   "execution_count": 9,
   "id": "d7d80cd6",
   "metadata": {},
   "outputs": [
    {
     "data": {
      "text/html": [
       "<div>\n",
       "<style scoped>\n",
       "    .dataframe tbody tr th:only-of-type {\n",
       "        vertical-align: middle;\n",
       "    }\n",
       "\n",
       "    .dataframe tbody tr th {\n",
       "        vertical-align: top;\n",
       "    }\n",
       "\n",
       "    .dataframe thead th {\n",
       "        text-align: right;\n",
       "    }\n",
       "</style>\n",
       "<table border=\"1\" class=\"dataframe\">\n",
       "  <thead>\n",
       "    <tr style=\"text-align: right;\">\n",
       "      <th></th>\n",
       "      <th></th>\n",
       "      <th>AAPL</th>\n",
       "      <th>CAT</th>\n",
       "      <th>MSFT</th>\n",
       "    </tr>\n",
       "    <tr>\n",
       "      <th>Date</th>\n",
       "      <th></th>\n",
       "      <th></th>\n",
       "      <th></th>\n",
       "      <th></th>\n",
       "    </tr>\n",
       "  </thead>\n",
       "  <tbody>\n",
       "    <tr>\n",
       "      <th rowspan=\"3\" valign=\"top\">2020-05-11</th>\n",
       "      <th>AAPL</th>\n",
       "      <td>1.000000</td>\n",
       "      <td>0.751192</td>\n",
       "      <td>0.931889</td>\n",
       "    </tr>\n",
       "    <tr>\n",
       "      <th>CAT</th>\n",
       "      <td>0.751192</td>\n",
       "      <td>1.000000</td>\n",
       "      <td>0.739541</td>\n",
       "    </tr>\n",
       "    <tr>\n",
       "      <th>MSFT</th>\n",
       "      <td>0.931889</td>\n",
       "      <td>0.739541</td>\n",
       "      <td>1.000000</td>\n",
       "    </tr>\n",
       "    <tr>\n",
       "      <th rowspan=\"2\" valign=\"top\">2020-05-12</th>\n",
       "      <th>AAPL</th>\n",
       "      <td>1.000000</td>\n",
       "      <td>0.750055</td>\n",
       "      <td>0.931520</td>\n",
       "    </tr>\n",
       "    <tr>\n",
       "      <th>CAT</th>\n",
       "      <td>0.750055</td>\n",
       "      <td>1.000000</td>\n",
       "      <td>0.740370</td>\n",
       "    </tr>\n",
       "    <tr>\n",
       "      <th>...</th>\n",
       "      <th>...</th>\n",
       "      <td>...</td>\n",
       "      <td>...</td>\n",
       "      <td>...</td>\n",
       "    </tr>\n",
       "    <tr>\n",
       "      <th rowspan=\"2\" valign=\"top\">2023-09-06</th>\n",
       "      <th>CAT</th>\n",
       "      <td>0.216110</td>\n",
       "      <td>1.000000</td>\n",
       "      <td>0.200109</td>\n",
       "    </tr>\n",
       "    <tr>\n",
       "      <th>MSFT</th>\n",
       "      <td>0.488162</td>\n",
       "      <td>0.200109</td>\n",
       "      <td>1.000000</td>\n",
       "    </tr>\n",
       "    <tr>\n",
       "      <th rowspan=\"3\" valign=\"top\">2023-09-07</th>\n",
       "      <th>AAPL</th>\n",
       "      <td>1.000000</td>\n",
       "      <td>0.226929</td>\n",
       "      <td>0.477877</td>\n",
       "    </tr>\n",
       "    <tr>\n",
       "      <th>CAT</th>\n",
       "      <td>0.226929</td>\n",
       "      <td>1.000000</td>\n",
       "      <td>0.199244</td>\n",
       "    </tr>\n",
       "    <tr>\n",
       "      <th>MSFT</th>\n",
       "      <td>0.477877</td>\n",
       "      <td>0.199244</td>\n",
       "      <td>1.000000</td>\n",
       "    </tr>\n",
       "  </tbody>\n",
       "</table>\n",
       "<p>2514 rows × 3 columns</p>\n",
       "</div>"
      ],
      "text/plain": [
       "                     AAPL       CAT      MSFT\n",
       "Date                                         \n",
       "2020-05-11 AAPL  1.000000  0.751192  0.931889\n",
       "           CAT   0.751192  1.000000  0.739541\n",
       "           MSFT  0.931889  0.739541  1.000000\n",
       "2020-05-12 AAPL  1.000000  0.750055  0.931520\n",
       "           CAT   0.750055  1.000000  0.740370\n",
       "...                   ...       ...       ...\n",
       "2023-09-06 CAT   0.216110  1.000000  0.200109\n",
       "           MSFT  0.488162  0.200109  1.000000\n",
       "2023-09-07 AAPL  1.000000  0.226929  0.477877\n",
       "           CAT   0.226929  1.000000  0.199244\n",
       "           MSFT  0.477877  0.199244  1.000000\n",
       "\n",
       "[2514 rows x 3 columns]"
      ]
     },
     "execution_count": 9,
     "metadata": {},
     "output_type": "execute_result"
    }
   ],
   "source": [
    "roll_corr"
   ]
  },
  {
   "cell_type": "code",
   "execution_count": 10,
   "id": "00f1df42",
   "metadata": {},
   "outputs": [
    {
     "data": {
      "text/plain": [
       "Date\n",
       "2020-05-11    0.931889\n",
       "2020-05-12    0.931520\n",
       "2020-05-13    0.931550\n",
       "2020-05-14    0.931675\n",
       "2020-05-15    0.930399\n",
       "                ...   \n",
       "2023-08-31    0.474338\n",
       "2023-09-01    0.466671\n",
       "2023-09-05    0.532222\n",
       "2023-09-06    0.488162\n",
       "2023-09-07    0.477877\n",
       "Name: AAPL, Length: 838, dtype: float64"
      ]
     },
     "execution_count": 10,
     "metadata": {},
     "output_type": "execute_result"
    }
   ],
   "source": [
    "roll_corr['AAPL'].loc[:,'MSFT']"
   ]
  },
  {
   "cell_type": "code",
   "execution_count": 11,
   "id": "fb683bdc",
   "metadata": {},
   "outputs": [
    {
     "data": {
      "text/plain": [
       "<matplotlib.axes._subplots.AxesSubplot at 0x2732239b4e0>"
      ]
     },
     "execution_count": 11,
     "metadata": {},
     "output_type": "execute_result"
    },
    {
     "data": {
      "image/png": "[encoded data removed]",
      "text/plain": [
       "<Figure size 432x288 with 1 Axes>"
      ]
     },
     "metadata": {
      "needs_background": "light"
     },
     "output_type": "display_data"
    }
   ],
   "source": [
    "roll_corr['AAPL'].loc[:,'MSFT'].plot()"
   ]
  },
  {
   "cell_type": "code",
   "execution_count": 12,
   "id": "08fd9db2",
   "metadata": {},
   "outputs": [
    {
     "data": {
      "text/plain": [
       "<matplotlib.axes._subplots.AxesSubplot at 0x2732448b630>"
      ]
     },
     "execution_count": 12,
     "metadata": {},
     "output_type": "execute_result"
    },
    {
     "data": {
      "image/png": "[encoded data removed]",
      "text/plain": [
       "<Figure size 432x288 with 1 Axes>"
      ]
     },
     "metadata": {
      "needs_background": "light"
     },
     "output_type": "display_data"
    }
   ],
   "source": [
    "roll_corr.unstack()['AAPL'][['MSFT','CAT']].plot()"
   ]
  },
  {
   "cell_type": "code",
   "execution_count": null,
   "id": "6e9a19e5",
   "metadata": {},
   "outputs": [],
   "source": []
  }
 ],
 "metadata": {
  "kernelspec": {
   "display_name": "Python 3 (ipykernel)",
   "language": "python",
   "name": "python3"
  },
  "language_info": {
   "codemirror_mode": {
    "name": "ipython",
    "version": 3
   },
   "file_extension": ".py",
   "mimetype": "text/x-python",
   "name": "python",
   "nbconvert_exporter": "python",
   "pygments_lexer": "ipython3",
   "version": "3.7.3"
  }
 },
 "nbformat": 4,
 "nbformat_minor": 5
}

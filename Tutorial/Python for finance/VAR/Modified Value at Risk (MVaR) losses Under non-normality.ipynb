{
 "cells": [
  {
   "cell_type": "code",
   "execution_count": 1,
   "id": "ec558fef",
   "metadata": {},
   "outputs": [],
   "source": [
    "import random\n",
    "import numpy as np\n",
    "import pandas as pd\n",
    "from matplotlib import pyplot as plt\n",
    "import math\n",
    "import scipy.stats as stats\n",
    "from scipy.stats import norm\n",
    "from scipy.stats import kurtosis\n",
    "import requests\n",
    "%matplotlib inline"
   ]
  },
  {
   "cell_type": "code",
   "execution_count": 2,
   "id": "055e0179",
   "metadata": {},
   "outputs": [
    {
     "data": {
      "text/html": [
       "<div>\n",
       "<style scoped>\n",
       "    .dataframe tbody tr th:only-of-type {\n",
       "        vertical-align: middle;\n",
       "    }\n",
       "\n",
       "    .dataframe tbody tr th {\n",
       "        vertical-align: top;\n",
       "    }\n",
       "\n",
       "    .dataframe thead th {\n",
       "        text-align: right;\n",
       "    }\n",
       "</style>\n",
       "<table border=\"1\" class=\"dataframe\">\n",
       "  <thead>\n",
       "    <tr style=\"text-align: right;\">\n",
       "      <th></th>\n",
       "      <th>S&amp;P 500 return</th>\n",
       "      <th>Unnamed: 8</th>\n",
       "    </tr>\n",
       "    <tr>\n",
       "      <th>Date</th>\n",
       "      <th></th>\n",
       "      <th></th>\n",
       "    </tr>\n",
       "  </thead>\n",
       "  <tbody>\n",
       "    <tr>\n",
       "      <th>2014-12-02</th>\n",
       "      <td>0.006384</td>\n",
       "      <td>NaN</td>\n",
       "    </tr>\n",
       "    <tr>\n",
       "      <th>2014-12-03</th>\n",
       "      <td>0.003765</td>\n",
       "      <td>NaN</td>\n",
       "    </tr>\n",
       "    <tr>\n",
       "      <th>2014-12-04</th>\n",
       "      <td>-0.001162</td>\n",
       "      <td>NaN</td>\n",
       "    </tr>\n",
       "    <tr>\n",
       "      <th>2014-12-05</th>\n",
       "      <td>0.001665</td>\n",
       "      <td>NaN</td>\n",
       "    </tr>\n",
       "    <tr>\n",
       "      <th>2014-12-08</th>\n",
       "      <td>-0.007257</td>\n",
       "      <td>NaN</td>\n",
       "    </tr>\n",
       "    <tr>\n",
       "      <th>...</th>\n",
       "      <td>...</td>\n",
       "      <td>...</td>\n",
       "    </tr>\n",
       "    <tr>\n",
       "      <th>2019-11-22</th>\n",
       "      <td>0.002175</td>\n",
       "      <td>NaN</td>\n",
       "    </tr>\n",
       "    <tr>\n",
       "      <th>2019-11-25</th>\n",
       "      <td>0.007507</td>\n",
       "      <td>NaN</td>\n",
       "    </tr>\n",
       "    <tr>\n",
       "      <th>2019-11-26</th>\n",
       "      <td>0.002196</td>\n",
       "      <td>NaN</td>\n",
       "    </tr>\n",
       "    <tr>\n",
       "      <th>2019-11-27</th>\n",
       "      <td>0.004174</td>\n",
       "      <td>NaN</td>\n",
       "    </tr>\n",
       "    <tr>\n",
       "      <th>2019-11-29</th>\n",
       "      <td>-0.004011</td>\n",
       "      <td>NaN</td>\n",
       "    </tr>\n",
       "  </tbody>\n",
       "</table>\n",
       "<p>1258 rows × 2 columns</p>\n",
       "</div>"
      ],
      "text/plain": [
       "            S&P 500 return  Unnamed: 8\n",
       "Date                                  \n",
       "2014-12-02        0.006384         NaN\n",
       "2014-12-03        0.003765         NaN\n",
       "2014-12-04       -0.001162         NaN\n",
       "2014-12-05        0.001665         NaN\n",
       "2014-12-08       -0.007257         NaN\n",
       "...                    ...         ...\n",
       "2019-11-22        0.002175         NaN\n",
       "2019-11-25        0.007507         NaN\n",
       "2019-11-26        0.002196         NaN\n",
       "2019-11-27        0.004174         NaN\n",
       "2019-11-29       -0.004011         NaN\n",
       "\n",
       "[1258 rows x 2 columns]"
      ]
     },
     "execution_count": 2,
     "metadata": {},
     "output_type": "execute_result"
    }
   ],
   "source": [
    "df=pd.read_excel('C:\\\\Users\\\\nafissaad\\\\Downloads\\\\NEDL_Anderson_Darling.xlsx',index_col='Date')[['S&P 500 return','Unnamed: 8']]\n",
    "df.to_excel('C:\\\\Users\\\\nafissaad\\\\Downloads\\\\NEDL_Anderson_Darling.xlsx')\n",
    "df"
   ]
  },
  {
   "cell_type": "code",
   "execution_count": 3,
   "id": "bc585c02",
   "metadata": {},
   "outputs": [
    {
     "data": {
      "text/plain": [
       "(0.00037434340238909667,\n",
       " 0.008530000235635715,\n",
       " -0.4252919459989185,\n",
       " 3.6859292685889065)"
      ]
     },
     "execution_count": 3,
     "metadata": {},
     "output_type": "execute_result"
    }
   ],
   "source": [
    "mean=df['S&P 500 return'].mean()\n",
    "standard_deviation=df['S&P 500 return'].std()\n",
    "skewness=df['S&P 500 return'].skew()\n",
    "kurtosis=kurtosis(df['S&P 500 return'])\n",
    "mean,standard_deviation,skewness,kurtosis"
   ]
  },
  {
   "cell_type": "code",
   "execution_count": 4,
   "id": "8540d83c",
   "metadata": {},
   "outputs": [
    {
     "data": {
      "text/html": [
       "<div>\n",
       "<style scoped>\n",
       "    .dataframe tbody tr th:only-of-type {\n",
       "        vertical-align: middle;\n",
       "    }\n",
       "\n",
       "    .dataframe tbody tr th {\n",
       "        vertical-align: top;\n",
       "    }\n",
       "\n",
       "    .dataframe thead tr th {\n",
       "        text-align: left;\n",
       "    }\n",
       "</style>\n",
       "<table border=\"1\" class=\"dataframe\">\n",
       "  <thead>\n",
       "    <tr>\n",
       "      <th></th>\n",
       "      <th>VaR</th>\n",
       "      <th>MVaR</th>\n",
       "    </tr>\n",
       "  </thead>\n",
       "  <tbody>\n",
       "    <tr>\n",
       "      <th>0.05</th>\n",
       "      <td>-0.013656</td>\n",
       "      <td>NaN</td>\n",
       "    </tr>\n",
       "    <tr>\n",
       "      <th>0.025</th>\n",
       "      <td>-0.016344</td>\n",
       "      <td>NaN</td>\n",
       "    </tr>\n",
       "    <tr>\n",
       "      <th>0.01</th>\n",
       "      <td>-0.019469</td>\n",
       "      <td>NaN</td>\n",
       "    </tr>\n",
       "    <tr>\n",
       "      <th>0.001</th>\n",
       "      <td>-0.025985</td>\n",
       "      <td>NaN</td>\n",
       "    </tr>\n",
       "  </tbody>\n",
       "</table>\n",
       "</div>"
      ],
      "text/plain": [
       "            VaR MVaR\n",
       "0.05  -0.013656  NaN\n",
       "0.025 -0.016344  NaN\n",
       "0.01  -0.019469  NaN\n",
       "0.001 -0.025985  NaN"
      ]
     },
     "execution_count": 4,
     "metadata": {},
     "output_type": "execute_result"
    }
   ],
   "source": [
    "matric=pd.DataFrame(columns=[['VaR','MVaR']],index=[['0.05','0.025','0.01','0.001']])\n",
    "matric.loc['0.05','VaR']=mean+standard_deviation*norm.ppf(0.05)\n",
    "matric.loc['0.025','VaR']=mean+standard_deviation*norm.ppf(0.025)\n",
    "matric.loc['0.01','VaR']=mean+standard_deviation*norm.ppf(0.01)\n",
    "matric.loc['0.001','VaR']=mean+standard_deviation*norm.ppf(0.001)\n",
    "matric"
   ]
  },
  {
   "cell_type": "code",
   "execution_count": 5,
   "id": "42786605",
   "metadata": {},
   "outputs": [
    {
     "data": {
      "text/html": [
       "<div>\n",
       "<style scoped>\n",
       "    .dataframe tbody tr th:only-of-type {\n",
       "        vertical-align: middle;\n",
       "    }\n",
       "\n",
       "    .dataframe tbody tr th {\n",
       "        vertical-align: top;\n",
       "    }\n",
       "\n",
       "    .dataframe thead tr th {\n",
       "        text-align: left;\n",
       "    }\n",
       "</style>\n",
       "<table border=\"1\" class=\"dataframe\">\n",
       "  <thead>\n",
       "    <tr>\n",
       "      <th></th>\n",
       "      <th>VaR</th>\n",
       "      <th>MVaR</th>\n",
       "    </tr>\n",
       "  </thead>\n",
       "  <tbody>\n",
       "    <tr>\n",
       "      <th>0.05</th>\n",
       "      <td>-0.013656</td>\n",
       "      <td>-0.014082</td>\n",
       "    </tr>\n",
       "    <tr>\n",
       "      <th>0.025</th>\n",
       "      <td>-0.016344</td>\n",
       "      <td>-0.020448</td>\n",
       "    </tr>\n",
       "    <tr>\n",
       "      <th>0.01</th>\n",
       "      <td>-0.019469</td>\n",
       "      <td>-0.030068</td>\n",
       "    </tr>\n",
       "    <tr>\n",
       "      <th>0.001</th>\n",
       "      <td>-0.025985</td>\n",
       "      <td>-0.059537</td>\n",
       "    </tr>\n",
       "  </tbody>\n",
       "</table>\n",
       "</div>"
      ],
      "text/plain": [
       "            VaR      MVaR\n",
       "0.05  -0.013656 -0.014082\n",
       "0.025 -0.016344 -0.020448\n",
       "0.01  -0.019469 -0.030068\n",
       "0.001 -0.025985 -0.059537"
      ]
     },
     "execution_count": 5,
     "metadata": {},
     "output_type": "execute_result"
    }
   ],
   "source": [
    "matric.loc['0.05','MVaR']=mean+standard_deviation*(norm.ppf(0.05)+(1/6)*(norm.ppf(0.05)**2-1)*skewness+(1/24)*(norm.ppf(0.05)**3-3*norm.ppf(0.05))*kurtosis+(1/36)*(2*norm.ppf(0.05)**3-5*norm.ppf(0.05))*skewness**2)\n",
    "matric.loc['0.025','MVaR']=mean+standard_deviation*(norm.ppf(0.025)+(1/6)*(norm.ppf(0.025)**2-1)*skewness+(1/24)*(norm.ppf(0.025)**3-3*norm.ppf(0.025))*kurtosis+(1/36)*(2*norm.ppf(0.025)**3-5*norm.ppf(0.025))*skewness**2)\n",
    "matric.loc['0.01','MVaR']=mean+standard_deviation*(norm.ppf(0.01)+(1/6)*(norm.ppf(0.01)**2-1)*skewness+(1/24)*(norm.ppf(0.01)**3-3*norm.ppf(0.01))*kurtosis+(1/36)*(2*norm.ppf(0.01)**3-5*norm.ppf(0.01))*skewness**2)\n",
    "matric.loc['0.001','MVaR']=mean+standard_deviation*(norm.ppf(0.001)+(1/6)*(norm.ppf(0.001)**2-1)*skewness+(1/24)*(norm.ppf(0.001)**3-3*norm.ppf(0.001))*kurtosis+(1/36)*(2*norm.ppf(0.001)**3-5*norm.ppf(0.001))*skewness**2)\n",
    "matric"
   ]
  },
  {
   "cell_type": "code",
   "execution_count": 6,
   "id": "79ab59c2",
   "metadata": {},
   "outputs": [
    {
     "data": {
      "text/plain": [
       "(0.00037434340238909667, 0.008530000235635715, 0.0, 0.0)"
      ]
     },
     "execution_count": 6,
     "metadata": {},
     "output_type": "execute_result"
    }
   ],
   "source": [
    "mean=df['S&P 500 return'].mean()\n",
    "standard_deviation=df['S&P 500 return'].std()\n",
    "skewness=0.0\n",
    "kurtosis=0.0\n",
    "mean,standard_deviation,skewness,kurtosis"
   ]
  },
  {
   "cell_type": "code",
   "execution_count": 7,
   "id": "931362ab",
   "metadata": {},
   "outputs": [
    {
     "data": {
      "text/html": [
       "<div>\n",
       "<style scoped>\n",
       "    .dataframe tbody tr th:only-of-type {\n",
       "        vertical-align: middle;\n",
       "    }\n",
       "\n",
       "    .dataframe tbody tr th {\n",
       "        vertical-align: top;\n",
       "    }\n",
       "\n",
       "    .dataframe thead tr th {\n",
       "        text-align: left;\n",
       "    }\n",
       "</style>\n",
       "<table border=\"1\" class=\"dataframe\">\n",
       "  <thead>\n",
       "    <tr>\n",
       "      <th></th>\n",
       "      <th>VaR</th>\n",
       "      <th>MVaR</th>\n",
       "    </tr>\n",
       "  </thead>\n",
       "  <tbody>\n",
       "    <tr>\n",
       "      <th>0.05</th>\n",
       "      <td>-0.013656</td>\n",
       "      <td>NaN</td>\n",
       "    </tr>\n",
       "    <tr>\n",
       "      <th>0.025</th>\n",
       "      <td>-0.016344</td>\n",
       "      <td>NaN</td>\n",
       "    </tr>\n",
       "    <tr>\n",
       "      <th>0.01</th>\n",
       "      <td>-0.019469</td>\n",
       "      <td>NaN</td>\n",
       "    </tr>\n",
       "    <tr>\n",
       "      <th>0.001</th>\n",
       "      <td>-0.025985</td>\n",
       "      <td>NaN</td>\n",
       "    </tr>\n",
       "  </tbody>\n",
       "</table>\n",
       "</div>"
      ],
      "text/plain": [
       "            VaR MVaR\n",
       "0.05  -0.013656  NaN\n",
       "0.025 -0.016344  NaN\n",
       "0.01  -0.019469  NaN\n",
       "0.001 -0.025985  NaN"
      ]
     },
     "execution_count": 7,
     "metadata": {},
     "output_type": "execute_result"
    }
   ],
   "source": [
    "matric=pd.DataFrame(columns=[['VaR','MVaR']],index=[['0.05','0.025','0.01','0.001']])\n",
    "matric.loc['0.05','VaR']=mean+standard_deviation*norm.ppf(0.05)\n",
    "matric.loc['0.025','VaR']=mean+standard_deviation*norm.ppf(0.025)\n",
    "matric.loc['0.01','VaR']=mean+standard_deviation*norm.ppf(0.01)\n",
    "matric.loc['0.001','VaR']=mean+standard_deviation*norm.ppf(0.001)\n",
    "matric"
   ]
  },
  {
   "cell_type": "code",
   "execution_count": 8,
   "id": "51a6293c",
   "metadata": {},
   "outputs": [
    {
     "data": {
      "text/html": [
       "<div>\n",
       "<style scoped>\n",
       "    .dataframe tbody tr th:only-of-type {\n",
       "        vertical-align: middle;\n",
       "    }\n",
       "\n",
       "    .dataframe tbody tr th {\n",
       "        vertical-align: top;\n",
       "    }\n",
       "\n",
       "    .dataframe thead tr th {\n",
       "        text-align: left;\n",
       "    }\n",
       "</style>\n",
       "<table border=\"1\" class=\"dataframe\">\n",
       "  <thead>\n",
       "    <tr>\n",
       "      <th></th>\n",
       "      <th>VaR</th>\n",
       "      <th>MVaR</th>\n",
       "    </tr>\n",
       "  </thead>\n",
       "  <tbody>\n",
       "    <tr>\n",
       "      <th>0.05</th>\n",
       "      <td>-0.013656</td>\n",
       "      <td>-0.013656</td>\n",
       "    </tr>\n",
       "    <tr>\n",
       "      <th>0.025</th>\n",
       "      <td>-0.016344</td>\n",
       "      <td>-0.016344</td>\n",
       "    </tr>\n",
       "    <tr>\n",
       "      <th>0.01</th>\n",
       "      <td>-0.019469</td>\n",
       "      <td>-0.019469</td>\n",
       "    </tr>\n",
       "    <tr>\n",
       "      <th>0.001</th>\n",
       "      <td>-0.025985</td>\n",
       "      <td>-0.025985</td>\n",
       "    </tr>\n",
       "  </tbody>\n",
       "</table>\n",
       "</div>"
      ],
      "text/plain": [
       "            VaR      MVaR\n",
       "0.05  -0.013656 -0.013656\n",
       "0.025 -0.016344 -0.016344\n",
       "0.01  -0.019469 -0.019469\n",
       "0.001 -0.025985 -0.025985"
      ]
     },
     "execution_count": 8,
     "metadata": {},
     "output_type": "execute_result"
    }
   ],
   "source": [
    "matric.loc['0.05','MVaR']=mean+standard_deviation*(norm.ppf(0.05)+(1/6)*(norm.ppf(0.05)**2-1)*skewness+(1/24)*(norm.ppf(0.05)**3-3*norm.ppf(0.05))*kurtosis+(1/36)*(2*norm.ppf(0.05)**3-5*norm.ppf(0.05))*skewness**2)\n",
    "matric.loc['0.025','MVaR']=mean+standard_deviation*(norm.ppf(0.025)+(1/6)*(norm.ppf(0.025)**2-1)*skewness+(1/24)*(norm.ppf(0.025)**3-3*norm.ppf(0.025))*kurtosis+(1/36)*(2*norm.ppf(0.025)**3-5*norm.ppf(0.025))*skewness**2)\n",
    "matric.loc['0.01','MVaR']=mean+standard_deviation*(norm.ppf(0.01)+(1/6)*(norm.ppf(0.01)**2-1)*skewness+(1/24)*(norm.ppf(0.01)**3-3*norm.ppf(0.01))*kurtosis+(1/36)*(2*norm.ppf(0.01)**3-5*norm.ppf(0.01))*skewness**2)\n",
    "matric.loc['0.001','MVaR']=mean+standard_deviation*(norm.ppf(0.001)+(1/6)*(norm.ppf(0.001)**2-1)*skewness+(1/24)*(norm.ppf(0.001)**3-3*norm.ppf(0.001))*kurtosis+(1/36)*(2*norm.ppf(0.001)**3-5*norm.ppf(0.001))*skewness**2)\n",
    "matric"
   ]
  },
  {
   "cell_type": "code",
   "execution_count": 9,
   "id": "1cced039",
   "metadata": {},
   "outputs": [
    {
     "data": {
      "text/plain": [
       "(0.00037434340238909667, 0.008530000235635715, 0.5, 0.0)"
      ]
     },
     "execution_count": 9,
     "metadata": {},
     "output_type": "execute_result"
    }
   ],
   "source": [
    "mean=df['S&P 500 return'].mean()\n",
    "standard_deviation=df['S&P 500 return'].std()\n",
    "skewness=0.50\n",
    "kurtosis=0.0\n",
    "mean,standard_deviation,skewness,kurtosis"
   ]
  },
  {
   "cell_type": "code",
   "execution_count": 10,
   "id": "b858c7fd",
   "metadata": {
    "scrolled": true
   },
   "outputs": [
    {
     "data": {
      "text/html": [
       "<div>\n",
       "<style scoped>\n",
       "    .dataframe tbody tr th:only-of-type {\n",
       "        vertical-align: middle;\n",
       "    }\n",
       "\n",
       "    .dataframe tbody tr th {\n",
       "        vertical-align: top;\n",
       "    }\n",
       "\n",
       "    .dataframe thead tr th {\n",
       "        text-align: left;\n",
       "    }\n",
       "</style>\n",
       "<table border=\"1\" class=\"dataframe\">\n",
       "  <thead>\n",
       "    <tr>\n",
       "      <th></th>\n",
       "      <th>VaR</th>\n",
       "      <th>MVaR</th>\n",
       "    </tr>\n",
       "  </thead>\n",
       "  <tbody>\n",
       "    <tr>\n",
       "      <th>0.05</th>\n",
       "      <td>-0.013656</td>\n",
       "      <td>NaN</td>\n",
       "    </tr>\n",
       "    <tr>\n",
       "      <th>0.025</th>\n",
       "      <td>-0.016344</td>\n",
       "      <td>NaN</td>\n",
       "    </tr>\n",
       "    <tr>\n",
       "      <th>0.01</th>\n",
       "      <td>-0.019469</td>\n",
       "      <td>NaN</td>\n",
       "    </tr>\n",
       "    <tr>\n",
       "      <th>0.001</th>\n",
       "      <td>-0.025985</td>\n",
       "      <td>NaN</td>\n",
       "    </tr>\n",
       "  </tbody>\n",
       "</table>\n",
       "</div>"
      ],
      "text/plain": [
       "            VaR MVaR\n",
       "0.05  -0.013656  NaN\n",
       "0.025 -0.016344  NaN\n",
       "0.01  -0.019469  NaN\n",
       "0.001 -0.025985  NaN"
      ]
     },
     "execution_count": 10,
     "metadata": {},
     "output_type": "execute_result"
    }
   ],
   "source": [
    "matric=pd.DataFrame(columns=[['VaR','MVaR']],index=[['0.05','0.025','0.01','0.001']])\n",
    "matric.loc['0.05','VaR']=mean+standard_deviation*norm.ppf(0.05)\n",
    "matric.loc['0.025','VaR']=mean+standard_deviation*norm.ppf(0.025)\n",
    "matric.loc['0.01','VaR']=mean+standard_deviation*norm.ppf(0.01)\n",
    "matric.loc['0.001','VaR']=mean+standard_deviation*norm.ppf(0.001)\n",
    "matric"
   ]
  },
  {
   "cell_type": "code",
   "execution_count": 11,
   "id": "7362c546",
   "metadata": {},
   "outputs": [
    {
     "data": {
      "text/html": [
       "<div>\n",
       "<style scoped>\n",
       "    .dataframe tbody tr th:only-of-type {\n",
       "        vertical-align: middle;\n",
       "    }\n",
       "\n",
       "    .dataframe tbody tr th {\n",
       "        vertical-align: top;\n",
       "    }\n",
       "\n",
       "    .dataframe thead tr th {\n",
       "        text-align: left;\n",
       "    }\n",
       "</style>\n",
       "<table border=\"1\" class=\"dataframe\">\n",
       "  <thead>\n",
       "    <tr>\n",
       "      <th></th>\n",
       "      <th>VaR</th>\n",
       "      <th>MVaR</th>\n",
       "    </tr>\n",
       "  </thead>\n",
       "  <tbody>\n",
       "    <tr>\n",
       "      <th>0.05</th>\n",
       "      <td>-0.013656</td>\n",
       "      <td>-0.012484</td>\n",
       "    </tr>\n",
       "    <tr>\n",
       "      <th>0.025</th>\n",
       "      <td>-0.016344</td>\n",
       "      <td>-0.014636</td>\n",
       "    </tr>\n",
       "    <tr>\n",
       "      <th>0.01</th>\n",
       "      <td>-0.019469</td>\n",
       "      <td>-0.017136</td>\n",
       "    </tr>\n",
       "    <tr>\n",
       "      <th>0.001</th>\n",
       "      <td>-0.025985</td>\n",
       "      <td>-0.022489</td>\n",
       "    </tr>\n",
       "  </tbody>\n",
       "</table>\n",
       "</div>"
      ],
      "text/plain": [
       "            VaR      MVaR\n",
       "0.05  -0.013656 -0.012484\n",
       "0.025 -0.016344 -0.014636\n",
       "0.01  -0.019469 -0.017136\n",
       "0.001 -0.025985 -0.022489"
      ]
     },
     "execution_count": 11,
     "metadata": {},
     "output_type": "execute_result"
    }
   ],
   "source": [
    "matric.loc['0.05','MVaR']=mean+standard_deviation*(norm.ppf(0.05)+(1/6)*(norm.ppf(0.05)**2-1)*skewness+(1/24)*(norm.ppf(0.05)**3-3*norm.ppf(0.05))*kurtosis+(1/36)*(2*norm.ppf(0.05)**3-5*norm.ppf(0.05))*skewness**2)\n",
    "matric.loc['0.025','MVaR']=mean+standard_deviation*(norm.ppf(0.025)+(1/6)*(norm.ppf(0.025)**2-1)*skewness+(1/24)*(norm.ppf(0.025)**3-3*norm.ppf(0.025))*kurtosis+(1/36)*(2*norm.ppf(0.025)**3-5*norm.ppf(0.025))*skewness**2)\n",
    "matric.loc['0.01','MVaR']=mean+standard_deviation*(norm.ppf(0.01)+(1/6)*(norm.ppf(0.01)**2-1)*skewness+(1/24)*(norm.ppf(0.01)**3-3*norm.ppf(0.01))*kurtosis+(1/36)*(2*norm.ppf(0.01)**3-5*norm.ppf(0.01))*skewness**2)\n",
    "matric.loc['0.001','MVaR']=mean+standard_deviation*(norm.ppf(0.001)+(1/6)*(norm.ppf(0.001)**2-1)*skewness+(1/24)*(norm.ppf(0.001)**3-3*norm.ppf(0.001))*kurtosis+(1/36)*(2*norm.ppf(0.001)**3-5*norm.ppf(0.001))*skewness**2)\n",
    "matric"
   ]
  },
  {
   "cell_type": "code",
   "execution_count": 12,
   "id": "83182b71",
   "metadata": {},
   "outputs": [
    {
     "data": {
      "text/plain": [
       "(0.00037434340238909667, 0.008530000235635715, -0.5, 0.0)"
      ]
     },
     "execution_count": 12,
     "metadata": {},
     "output_type": "execute_result"
    }
   ],
   "source": [
    "mean=df['S&P 500 return'].mean()\n",
    "standard_deviation=df['S&P 500 return'].std()\n",
    "skewness=-0.50\n",
    "kurtosis=0.0\n",
    "mean,standard_deviation,skewness,kurtosis"
   ]
  },
  {
   "cell_type": "code",
   "execution_count": 13,
   "id": "11545623",
   "metadata": {},
   "outputs": [
    {
     "data": {
      "text/html": [
       "<div>\n",
       "<style scoped>\n",
       "    .dataframe tbody tr th:only-of-type {\n",
       "        vertical-align: middle;\n",
       "    }\n",
       "\n",
       "    .dataframe tbody tr th {\n",
       "        vertical-align: top;\n",
       "    }\n",
       "\n",
       "    .dataframe thead tr th {\n",
       "        text-align: left;\n",
       "    }\n",
       "</style>\n",
       "<table border=\"1\" class=\"dataframe\">\n",
       "  <thead>\n",
       "    <tr>\n",
       "      <th></th>\n",
       "      <th>VaR</th>\n",
       "      <th>MVaR</th>\n",
       "    </tr>\n",
       "  </thead>\n",
       "  <tbody>\n",
       "    <tr>\n",
       "      <th>0.05</th>\n",
       "      <td>-0.013656</td>\n",
       "      <td>NaN</td>\n",
       "    </tr>\n",
       "    <tr>\n",
       "      <th>0.025</th>\n",
       "      <td>-0.016344</td>\n",
       "      <td>NaN</td>\n",
       "    </tr>\n",
       "    <tr>\n",
       "      <th>0.01</th>\n",
       "      <td>-0.019469</td>\n",
       "      <td>NaN</td>\n",
       "    </tr>\n",
       "    <tr>\n",
       "      <th>0.001</th>\n",
       "      <td>-0.025985</td>\n",
       "      <td>NaN</td>\n",
       "    </tr>\n",
       "  </tbody>\n",
       "</table>\n",
       "</div>"
      ],
      "text/plain": [
       "            VaR MVaR\n",
       "0.05  -0.013656  NaN\n",
       "0.025 -0.016344  NaN\n",
       "0.01  -0.019469  NaN\n",
       "0.001 -0.025985  NaN"
      ]
     },
     "execution_count": 13,
     "metadata": {},
     "output_type": "execute_result"
    }
   ],
   "source": [
    "matric=pd.DataFrame(columns=[['VaR','MVaR']],index=[['0.05','0.025','0.01','0.001']])\n",
    "matric.loc['0.05','VaR']=mean+standard_deviation*norm.ppf(0.05)\n",
    "matric.loc['0.025','VaR']=mean+standard_deviation*norm.ppf(0.025)\n",
    "matric.loc['0.01','VaR']=mean+standard_deviation*norm.ppf(0.01)\n",
    "matric.loc['0.001','VaR']=mean+standard_deviation*norm.ppf(0.001)\n",
    "matric"
   ]
  },
  {
   "cell_type": "code",
   "execution_count": 14,
   "id": "5509bb43",
   "metadata": {},
   "outputs": [
    {
     "data": {
      "text/html": [
       "<div>\n",
       "<style scoped>\n",
       "    .dataframe tbody tr th:only-of-type {\n",
       "        vertical-align: middle;\n",
       "    }\n",
       "\n",
       "    .dataframe tbody tr th {\n",
       "        vertical-align: top;\n",
       "    }\n",
       "\n",
       "    .dataframe thead tr th {\n",
       "        text-align: left;\n",
       "    }\n",
       "</style>\n",
       "<table border=\"1\" class=\"dataframe\">\n",
       "  <thead>\n",
       "    <tr>\n",
       "      <th></th>\n",
       "      <th>VaR</th>\n",
       "      <th>MVaR</th>\n",
       "    </tr>\n",
       "  </thead>\n",
       "  <tbody>\n",
       "    <tr>\n",
       "      <th>0.05</th>\n",
       "      <td>-0.013656</td>\n",
       "      <td>-0.014909</td>\n",
       "    </tr>\n",
       "    <tr>\n",
       "      <th>0.025</th>\n",
       "      <td>-0.016344</td>\n",
       "      <td>-0.018675</td>\n",
       "    </tr>\n",
       "    <tr>\n",
       "      <th>0.01</th>\n",
       "      <td>-0.019469</td>\n",
       "      <td>-0.023408</td>\n",
       "    </tr>\n",
       "    <tr>\n",
       "      <th>0.001</th>\n",
       "      <td>-0.025985</td>\n",
       "      <td>-0.034644</td>\n",
       "    </tr>\n",
       "  </tbody>\n",
       "</table>\n",
       "</div>"
      ],
      "text/plain": [
       "            VaR      MVaR\n",
       "0.05  -0.013656 -0.014909\n",
       "0.025 -0.016344 -0.018675\n",
       "0.01  -0.019469 -0.023408\n",
       "0.001 -0.025985 -0.034644"
      ]
     },
     "execution_count": 14,
     "metadata": {},
     "output_type": "execute_result"
    }
   ],
   "source": [
    "matric.loc['0.05','MVaR']=mean+standard_deviation*(norm.ppf(0.05)+(1/6)*(norm.ppf(0.05)**2-1)*skewness+(1/24)*(norm.ppf(0.05)**3-3*norm.ppf(0.05))*kurtosis+(1/36)*(2*norm.ppf(0.05)**3-5*norm.ppf(0.05))*skewness**2)\n",
    "matric.loc['0.025','MVaR']=mean+standard_deviation*(norm.ppf(0.025)+(1/6)*(norm.ppf(0.025)**2-1)*skewness+(1/24)*(norm.ppf(0.025)**3-3*norm.ppf(0.025))*kurtosis+(1/36)*(2*norm.ppf(0.025)**3-5*norm.ppf(0.025))*skewness**2)\n",
    "matric.loc['0.01','MVaR']=mean+standard_deviation*(norm.ppf(0.01)+(1/6)*(norm.ppf(0.01)**2-1)*skewness+(1/24)*(norm.ppf(0.01)**3-3*norm.ppf(0.01))*kurtosis+(1/36)*(2*norm.ppf(0.01)**3-5*norm.ppf(0.01))*skewness**2)\n",
    "matric.loc['0.001','MVaR']=mean+standard_deviation*(norm.ppf(0.001)+(1/6)*(norm.ppf(0.001)**2-1)*skewness+(1/24)*(norm.ppf(0.001)**3-3*norm.ppf(0.001))*kurtosis+(1/36)*(2*norm.ppf(0.001)**3-5*norm.ppf(0.001))*skewness**2)\n",
    "matric"
   ]
  }
 ],
 "metadata": {
  "kernelspec": {
   "display_name": "Python 3 (ipykernel)",
   "language": "python",
   "name": "python3"
  },
  "language_info": {
   "codemirror_mode": {
    "name": "ipython",
    "version": 3
   },
   "file_extension": ".py",
   "mimetype": "text/x-python",
   "name": "python",
   "nbconvert_exporter": "python",
   "pygments_lexer": "ipython3",
   "version": "3.7.3"
  }
 },
 "nbformat": 4,
 "nbformat_minor": 5
}

{
 "cells": [
  {
   "cell_type": "code",
   "execution_count": 1,
   "id": "3970c857",
   "metadata": {},
   "outputs": [],
   "source": [
    "import pandas as pd \n",
    "import numpy as np\n",
    "import scipy.stats"
   ]
  },
  {
   "cell_type": "code",
   "execution_count": 2,
   "id": "ec558fef",
   "metadata": {},
   "outputs": [
    {
     "data": {
      "text/html": [
       "<div>\n",
       "<style scoped>\n",
       "    .dataframe tbody tr th:only-of-type {\n",
       "        vertical-align: middle;\n",
       "    }\n",
       "\n",
       "    .dataframe tbody tr th {\n",
       "        vertical-align: top;\n",
       "    }\n",
       "\n",
       "    .dataframe thead th {\n",
       "        text-align: right;\n",
       "    }\n",
       "</style>\n",
       "<table border=\"1\" class=\"dataframe\">\n",
       "  <thead>\n",
       "    <tr style=\"text-align: right;\">\n",
       "      <th></th>\n",
       "      <th>Stocks</th>\n",
       "      <th>Bonds</th>\n",
       "      <th>Real Estate</th>\n",
       "    </tr>\n",
       "    <tr>\n",
       "      <th>Date</th>\n",
       "      <th></th>\n",
       "      <th></th>\n",
       "      <th></th>\n",
       "    </tr>\n",
       "  </thead>\n",
       "  <tbody>\n",
       "    <tr>\n",
       "      <th>2021-10-01</th>\n",
       "      <td>0.011884</td>\n",
       "      <td>0.000115</td>\n",
       "      <td>0.003368</td>\n",
       "    </tr>\n",
       "    <tr>\n",
       "      <th>2021-10-04</th>\n",
       "      <td>-0.012896</td>\n",
       "      <td>-0.002988</td>\n",
       "      <td>0.000699</td>\n",
       "    </tr>\n",
       "    <tr>\n",
       "      <th>2021-10-05</th>\n",
       "      <td>0.010405</td>\n",
       "      <td>-0.003112</td>\n",
       "      <td>-0.006988</td>\n",
       "    </tr>\n",
       "    <tr>\n",
       "      <th>2021-10-06</th>\n",
       "      <td>0.004156</td>\n",
       "      <td>0.00185</td>\n",
       "      <td>0.017593</td>\n",
       "    </tr>\n",
       "    <tr>\n",
       "      <th>2021-10-07</th>\n",
       "      <td>0.008646</td>\n",
       "      <td>0.002654</td>\n",
       "      <td>0.003112</td>\n",
       "    </tr>\n",
       "    <tr>\n",
       "      <th>...</th>\n",
       "      <td>...</td>\n",
       "      <td>...</td>\n",
       "      <td>...</td>\n",
       "    </tr>\n",
       "    <tr>\n",
       "      <th>2022-09-23</th>\n",
       "      <td>-0.016755</td>\n",
       "      <td>-0.009392</td>\n",
       "      <td>-0.024442</td>\n",
       "    </tr>\n",
       "    <tr>\n",
       "      <th>2022-09-26</th>\n",
       "      <td>-0.009893</td>\n",
       "      <td>-0.004601</td>\n",
       "      <td>0.016688</td>\n",
       "    </tr>\n",
       "    <tr>\n",
       "      <th>2022-09-27</th>\n",
       "      <td>-0.002553</td>\n",
       "      <td>0.013105</td>\n",
       "      <td>0.013729</td>\n",
       "    </tr>\n",
       "    <tr>\n",
       "      <th>2022-09-28</th>\n",
       "      <td>0.019676</td>\n",
       "      <td>0.021537</td>\n",
       "      <td>0.016491</td>\n",
       "    </tr>\n",
       "    <tr>\n",
       "      <th>2022-09-29</th>\n",
       "      <td>-0.020889</td>\n",
       "      <td>-0.003944</td>\n",
       "      <td>-0.015845</td>\n",
       "    </tr>\n",
       "  </tbody>\n",
       "</table>\n",
       "<p>251 rows × 3 columns</p>\n",
       "</div>"
      ],
      "text/plain": [
       "              Stocks     Bonds Real Estate\n",
       "Date                                      \n",
       "2021-10-01  0.011884  0.000115    0.003368\n",
       "2021-10-04 -0.012896 -0.002988    0.000699\n",
       "2021-10-05  0.010405 -0.003112   -0.006988\n",
       "2021-10-06  0.004156   0.00185    0.017593\n",
       "2021-10-07  0.008646  0.002654    0.003112\n",
       "...              ...       ...         ...\n",
       "2022-09-23 -0.016755 -0.009392   -0.024442\n",
       "2022-09-26 -0.009893 -0.004601    0.016688\n",
       "2022-09-27 -0.002553  0.013105    0.013729\n",
       "2022-09-28  0.019676  0.021537    0.016491\n",
       "2022-09-29 -0.020889 -0.003944   -0.015845\n",
       "\n",
       "[251 rows x 3 columns]"
      ]
     },
     "execution_count": 2,
     "metadata": {},
     "output_type": "execute_result"
    }
   ],
   "source": [
    "df=pd.read_excel('C:\\\\Users\\\\nafissaad\\\\Downloads\\\\Spreadsheets-20231017T124722Z-001\\\\Spreadsheets\\\\NEDL_Multidimensional_Monte_Carlo.xlsx',index_col='Date')[1:]\n",
    "df=df[df.columns[0:3]]\n",
    "df.columns=['Stocks','Bonds','Real Estate']\n",
    "df"
   ]
  },
  {
   "cell_type": "code",
   "execution_count": 3,
   "id": "a5d8323c",
   "metadata": {
    "scrolled": true
   },
   "outputs": [
    {
     "name": "stdout",
     "output_type": "stream",
     "text": [
      "<class 'pandas.core.frame.DataFrame'>\n",
      "DatetimeIndex: 251 entries, 2021-10-01 to 2022-09-29\n",
      "Data columns (total 3 columns):\n",
      " #   Column       Non-Null Count  Dtype \n",
      "---  ------       --------------  ----- \n",
      " 0   Stocks       251 non-null    object\n",
      " 1   Bonds        251 non-null    object\n",
      " 2   Real Estate  251 non-null    object\n",
      "dtypes: object(3)\n",
      "memory usage: 7.8+ KB\n"
     ]
    }
   ],
   "source": [
    "df.info()"
   ]
  },
  {
   "cell_type": "code",
   "execution_count": 4,
   "id": "77c202b6",
   "metadata": {},
   "outputs": [
    {
     "name": "stdout",
     "output_type": "stream",
     "text": [
      "<class 'pandas.core.frame.DataFrame'>\n",
      "DatetimeIndex: 251 entries, 2021-10-01 to 2022-09-29\n",
      "Data columns (total 3 columns):\n",
      " #   Column       Non-Null Count  Dtype  \n",
      "---  ------       --------------  -----  \n",
      " 0   Stocks       251 non-null    float64\n",
      " 1   Bonds        251 non-null    float64\n",
      " 2   Real Estate  251 non-null    float64\n",
      "dtypes: float64(3)\n",
      "memory usage: 7.8 KB\n"
     ]
    }
   ],
   "source": [
    "df=df[['Stocks','Bonds','Real Estate']].astype(float)\n",
    "df.info()"
   ]
  },
  {
   "cell_type": "code",
   "execution_count": 5,
   "id": "8ed90b9d",
   "metadata": {},
   "outputs": [
    {
     "data": {
      "text/html": [
       "<div>\n",
       "<style scoped>\n",
       "    .dataframe tbody tr th:only-of-type {\n",
       "        vertical-align: middle;\n",
       "    }\n",
       "\n",
       "    .dataframe tbody tr th {\n",
       "        vertical-align: top;\n",
       "    }\n",
       "\n",
       "    .dataframe thead th {\n",
       "        text-align: right;\n",
       "    }\n",
       "</style>\n",
       "<table border=\"1\" class=\"dataframe\">\n",
       "  <thead>\n",
       "    <tr style=\"text-align: right;\">\n",
       "      <th></th>\n",
       "      <th>Stocks</th>\n",
       "      <th>Bonds</th>\n",
       "      <th>Real Estate</th>\n",
       "    </tr>\n",
       "  </thead>\n",
       "  <tbody>\n",
       "    <tr>\n",
       "      <th>Stocks</th>\n",
       "      <td>1.000000</td>\n",
       "      <td>-0.022525</td>\n",
       "      <td>-0.048715</td>\n",
       "    </tr>\n",
       "    <tr>\n",
       "      <th>Bonds</th>\n",
       "      <td>-0.022525</td>\n",
       "      <td>1.000000</td>\n",
       "      <td>0.672036</td>\n",
       "    </tr>\n",
       "    <tr>\n",
       "      <th>Real Estate</th>\n",
       "      <td>-0.048715</td>\n",
       "      <td>0.672036</td>\n",
       "      <td>1.000000</td>\n",
       "    </tr>\n",
       "  </tbody>\n",
       "</table>\n",
       "</div>"
      ],
      "text/plain": [
       "               Stocks     Bonds  Real Estate\n",
       "Stocks       1.000000 -0.022525    -0.048715\n",
       "Bonds       -0.022525  1.000000     0.672036\n",
       "Real Estate -0.048715  0.672036     1.000000"
      ]
     },
     "execution_count": 5,
     "metadata": {},
     "output_type": "execute_result"
    }
   ],
   "source": [
    "cor=df.corr()\n",
    "cor"
   ]
  },
  {
   "cell_type": "code",
   "execution_count": 6,
   "id": "c4cfbdef",
   "metadata": {},
   "outputs": [
    {
     "data": {
      "text/html": [
       "<div>\n",
       "<style scoped>\n",
       "    .dataframe tbody tr th:only-of-type {\n",
       "        vertical-align: middle;\n",
       "    }\n",
       "\n",
       "    .dataframe tbody tr th {\n",
       "        vertical-align: top;\n",
       "    }\n",
       "\n",
       "    .dataframe thead tr th {\n",
       "        text-align: left;\n",
       "    }\n",
       "</style>\n",
       "<table border=\"1\" class=\"dataframe\">\n",
       "  <thead>\n",
       "    <tr>\n",
       "      <th></th>\n",
       "      <th>Stocks</th>\n",
       "      <th>Bonds</th>\n",
       "      <th>Real Estate</th>\n",
       "    </tr>\n",
       "  </thead>\n",
       "  <tbody>\n",
       "    <tr>\n",
       "      <th>Average</th>\n",
       "      <td>-0.000514</td>\n",
       "      <td>-0.000474</td>\n",
       "      <td>-0.000486</td>\n",
       "    </tr>\n",
       "    <tr>\n",
       "      <th>Volatility</th>\n",
       "      <td>0.013786</td>\n",
       "      <td>0.007028</td>\n",
       "      <td>0.013523</td>\n",
       "    </tr>\n",
       "  </tbody>\n",
       "</table>\n",
       "</div>"
      ],
      "text/plain": [
       "              Stocks     Bonds Real Estate\n",
       "Average    -0.000514 -0.000474   -0.000486\n",
       "Volatility  0.013786  0.007028    0.013523"
      ]
     },
     "execution_count": 6,
     "metadata": {},
     "output_type": "execute_result"
    }
   ],
   "source": [
    "matrix=pd.DataFrame(columns=[['Stocks','Bonds','Real Estate']],index=['Average','Volatility'])\n",
    "matrix.loc['Average']=df.mean().values\n",
    "matrix.loc['Volatility']=df.std().values\n",
    "matrix"
   ]
  },
  {
   "cell_type": "code",
   "execution_count": 7,
   "id": "dcc33bae",
   "metadata": {},
   "outputs": [
    {
     "data": {
      "text/html": [
       "<div>\n",
       "<style scoped>\n",
       "    .dataframe tbody tr th:only-of-type {\n",
       "        vertical-align: middle;\n",
       "    }\n",
       "\n",
       "    .dataframe tbody tr th {\n",
       "        vertical-align: top;\n",
       "    }\n",
       "\n",
       "    .dataframe thead tr th {\n",
       "        text-align: left;\n",
       "    }\n",
       "</style>\n",
       "<table border=\"1\" class=\"dataframe\">\n",
       "  <thead>\n",
       "    <tr>\n",
       "      <th></th>\n",
       "      <th>Stocks</th>\n",
       "      <th>Bonds</th>\n",
       "      <th>Real Estate</th>\n",
       "    </tr>\n",
       "  </thead>\n",
       "  <tbody>\n",
       "    <tr>\n",
       "      <th>Stocks</th>\n",
       "      <td>NaN</td>\n",
       "      <td>NaN</td>\n",
       "      <td>NaN</td>\n",
       "    </tr>\n",
       "    <tr>\n",
       "      <th>Bonds</th>\n",
       "      <td>NaN</td>\n",
       "      <td>NaN</td>\n",
       "      <td>NaN</td>\n",
       "    </tr>\n",
       "    <tr>\n",
       "      <th>Real Estate</th>\n",
       "      <td>NaN</td>\n",
       "      <td>NaN</td>\n",
       "      <td>NaN</td>\n",
       "    </tr>\n",
       "  </tbody>\n",
       "</table>\n",
       "</div>"
      ],
      "text/plain": [
       "            Stocks Bonds Real Estate\n",
       "Stocks         NaN   NaN         NaN\n",
       "Bonds          NaN   NaN         NaN\n",
       "Real Estate    NaN   NaN         NaN"
      ]
     },
     "execution_count": 7,
     "metadata": {},
     "output_type": "execute_result"
    }
   ],
   "source": [
    "Cholesky_decomposition=pd.DataFrame(columns=[['Stocks','Bonds','Real Estate']],index=[['Stocks','Bonds','Real Estate']])\n",
    "Cholesky_decomposition"
   ]
  },
  {
   "cell_type": "code",
   "execution_count": 8,
   "id": "55ca66eb",
   "metadata": {},
   "outputs": [
    {
     "data": {
      "text/html": [
       "<div>\n",
       "<style scoped>\n",
       "    .dataframe tbody tr th:only-of-type {\n",
       "        vertical-align: middle;\n",
       "    }\n",
       "\n",
       "    .dataframe tbody tr th {\n",
       "        vertical-align: top;\n",
       "    }\n",
       "\n",
       "    .dataframe thead tr th {\n",
       "        text-align: left;\n",
       "    }\n",
       "</style>\n",
       "<table border=\"1\" class=\"dataframe\">\n",
       "  <thead>\n",
       "    <tr>\n",
       "      <th></th>\n",
       "      <th>Stocks</th>\n",
       "      <th>Bonds</th>\n",
       "      <th>Real Estate</th>\n",
       "    </tr>\n",
       "  </thead>\n",
       "  <tbody>\n",
       "    <tr>\n",
       "      <th>Stocks</th>\n",
       "      <td>1</td>\n",
       "      <td>0.0</td>\n",
       "      <td>0.0</td>\n",
       "    </tr>\n",
       "    <tr>\n",
       "      <th>Bonds</th>\n",
       "      <td>-0.022525</td>\n",
       "      <td>0.999746</td>\n",
       "      <td>0.0</td>\n",
       "    </tr>\n",
       "    <tr>\n",
       "      <th>Real Estate</th>\n",
       "      <td>-0.048715</td>\n",
       "      <td>0.670939</td>\n",
       "      <td>0.739911</td>\n",
       "    </tr>\n",
       "  </tbody>\n",
       "</table>\n",
       "</div>"
      ],
      "text/plain": [
       "               Stocks     Bonds Real Estate\n",
       "Stocks              1       0.0         0.0\n",
       "Bonds       -0.022525  0.999746         0.0\n",
       "Real Estate -0.048715  0.670939    0.739911"
      ]
     },
     "execution_count": 8,
     "metadata": {},
     "output_type": "execute_result"
    }
   ],
   "source": [
    "Cholesky_decomposition.loc['Stocks']=[1,0.0,0.0]\n",
    "Cholesky_decomposition.loc['Bonds','Stocks']=df.corr().loc['Bonds','Stocks']/Cholesky_decomposition.loc['Stocks','Stocks'].values\n",
    "Cholesky_decomposition.loc['Real Estate','Stocks']=df.corr().loc['Real Estate','Stocks']\n",
    "Cholesky_decomposition.loc['Bonds','Real Estate']=0.0\n",
    "Cholesky_decomposition.loc['Bonds','Bonds']=np.sqrt((df.corr().loc['Bonds','Bonds']-Cholesky_decomposition.loc['Bonds','Stocks']**2).values[0][0])\n",
    "Cholesky_decomposition.loc['Real Estate','Bonds']=df.corr().loc['Real Estate','Bonds']-Cholesky_decomposition.loc['Real Estate','Stocks'].values[0][0]*Cholesky_decomposition.loc['Bonds','Stocks'].values[0][0]\n",
    "Cholesky_decomposition.loc['Real Estate','Real Estate']=np.sqrt(df.corr().loc['Real Estate','Real Estate']-(Cholesky_decomposition.loc['Real Estate','Bonds']**2).values[0][0]-(Cholesky_decomposition.loc['Real Estate','Stocks']**2).values[0][0])\n",
    "Cholesky_decomposition"
   ]
  },
  {
   "cell_type": "code",
   "execution_count": 9,
   "id": "398e2697",
   "metadata": {},
   "outputs": [
    {
     "data": {
      "text/html": [
       "<div>\n",
       "<style scoped>\n",
       "    .dataframe tbody tr th:only-of-type {\n",
       "        vertical-align: middle;\n",
       "    }\n",
       "\n",
       "    .dataframe tbody tr th {\n",
       "        vertical-align: top;\n",
       "    }\n",
       "\n",
       "    .dataframe thead th {\n",
       "        text-align: right;\n",
       "    }\n",
       "</style>\n",
       "<table border=\"1\" class=\"dataframe\">\n",
       "  <thead>\n",
       "    <tr style=\"text-align: right;\">\n",
       "      <th></th>\n",
       "      <th>Stocks</th>\n",
       "      <th>Bonds</th>\n",
       "      <th>Real Estate</th>\n",
       "      <th>Uncorrelatd Z-Stats Stocks</th>\n",
       "      <th>Uncorrelatd Z-Stats Bonds</th>\n",
       "      <th>Uncorrelatd Z-Stats Real Estate</th>\n",
       "    </tr>\n",
       "    <tr>\n",
       "      <th>Date</th>\n",
       "      <th></th>\n",
       "      <th></th>\n",
       "      <th></th>\n",
       "      <th></th>\n",
       "      <th></th>\n",
       "      <th></th>\n",
       "    </tr>\n",
       "  </thead>\n",
       "  <tbody>\n",
       "    <tr>\n",
       "      <th>2021-10-01</th>\n",
       "      <td>0.011884</td>\n",
       "      <td>0.000115</td>\n",
       "      <td>0.003368</td>\n",
       "      <td>0.040952</td>\n",
       "      <td>-0.107745</td>\n",
       "      <td>0.748488</td>\n",
       "    </tr>\n",
       "    <tr>\n",
       "      <th>2021-10-04</th>\n",
       "      <td>-0.012896</td>\n",
       "      <td>-0.002988</td>\n",
       "      <td>0.000699</td>\n",
       "      <td>-2.902088</td>\n",
       "      <td>2.334322</td>\n",
       "      <td>0.007916</td>\n",
       "    </tr>\n",
       "    <tr>\n",
       "      <th>2021-10-05</th>\n",
       "      <td>0.010405</td>\n",
       "      <td>-0.003112</td>\n",
       "      <td>-0.006988</td>\n",
       "      <td>-0.740555</td>\n",
       "      <td>-0.823766</td>\n",
       "      <td>-0.062781</td>\n",
       "    </tr>\n",
       "    <tr>\n",
       "      <th>2021-10-06</th>\n",
       "      <td>0.004156</td>\n",
       "      <td>0.001850</td>\n",
       "      <td>0.017593</td>\n",
       "      <td>-0.101314</td>\n",
       "      <td>-1.995090</td>\n",
       "      <td>2.592420</td>\n",
       "    </tr>\n",
       "    <tr>\n",
       "      <th>2021-10-07</th>\n",
       "      <td>0.008646</td>\n",
       "      <td>0.002654</td>\n",
       "      <td>0.003112</td>\n",
       "      <td>0.716772</td>\n",
       "      <td>-1.421623</td>\n",
       "      <td>-1.405655</td>\n",
       "    </tr>\n",
       "    <tr>\n",
       "      <th>...</th>\n",
       "      <td>...</td>\n",
       "      <td>...</td>\n",
       "      <td>...</td>\n",
       "      <td>...</td>\n",
       "      <td>...</td>\n",
       "      <td>...</td>\n",
       "    </tr>\n",
       "    <tr>\n",
       "      <th>2022-09-23</th>\n",
       "      <td>-0.016755</td>\n",
       "      <td>-0.009392</td>\n",
       "      <td>-0.024442</td>\n",
       "      <td>1.526359</td>\n",
       "      <td>-0.171003</td>\n",
       "      <td>-0.549745</td>\n",
       "    </tr>\n",
       "    <tr>\n",
       "      <th>2022-09-26</th>\n",
       "      <td>-0.009893</td>\n",
       "      <td>-0.004601</td>\n",
       "      <td>0.016688</td>\n",
       "      <td>0.858190</td>\n",
       "      <td>-1.747278</td>\n",
       "      <td>0.401815</td>\n",
       "    </tr>\n",
       "    <tr>\n",
       "      <th>2022-09-27</th>\n",
       "      <td>-0.002553</td>\n",
       "      <td>0.013105</td>\n",
       "      <td>0.013729</td>\n",
       "      <td>-0.529222</td>\n",
       "      <td>-0.581938</td>\n",
       "      <td>0.256567</td>\n",
       "    </tr>\n",
       "    <tr>\n",
       "      <th>2022-09-28</th>\n",
       "      <td>0.019676</td>\n",
       "      <td>0.021537</td>\n",
       "      <td>0.016491</td>\n",
       "      <td>-0.961710</td>\n",
       "      <td>-0.101337</td>\n",
       "      <td>1.167613</td>\n",
       "    </tr>\n",
       "    <tr>\n",
       "      <th>2022-09-29</th>\n",
       "      <td>-0.020889</td>\n",
       "      <td>-0.003944</td>\n",
       "      <td>-0.015845</td>\n",
       "      <td>1.160105</td>\n",
       "      <td>-0.596640</td>\n",
       "      <td>-0.109789</td>\n",
       "    </tr>\n",
       "  </tbody>\n",
       "</table>\n",
       "<p>251 rows × 6 columns</p>\n",
       "</div>"
      ],
      "text/plain": [
       "              Stocks     Bonds  Real Estate  Uncorrelatd Z-Stats Stocks  \\\n",
       "Date                                                                      \n",
       "2021-10-01  0.011884  0.000115     0.003368                    0.040952   \n",
       "2021-10-04 -0.012896 -0.002988     0.000699                   -2.902088   \n",
       "2021-10-05  0.010405 -0.003112    -0.006988                   -0.740555   \n",
       "2021-10-06  0.004156  0.001850     0.017593                   -0.101314   \n",
       "2021-10-07  0.008646  0.002654     0.003112                    0.716772   \n",
       "...              ...       ...          ...                         ...   \n",
       "2022-09-23 -0.016755 -0.009392    -0.024442                    1.526359   \n",
       "2022-09-26 -0.009893 -0.004601     0.016688                    0.858190   \n",
       "2022-09-27 -0.002553  0.013105     0.013729                   -0.529222   \n",
       "2022-09-28  0.019676  0.021537     0.016491                   -0.961710   \n",
       "2022-09-29 -0.020889 -0.003944    -0.015845                    1.160105   \n",
       "\n",
       "            Uncorrelatd Z-Stats Bonds  Uncorrelatd Z-Stats Real Estate  \n",
       "Date                                                                    \n",
       "2021-10-01                  -0.107745                         0.748488  \n",
       "2021-10-04                   2.334322                         0.007916  \n",
       "2021-10-05                  -0.823766                        -0.062781  \n",
       "2021-10-06                  -1.995090                         2.592420  \n",
       "2021-10-07                  -1.421623                        -1.405655  \n",
       "...                               ...                              ...  \n",
       "2022-09-23                  -0.171003                        -0.549745  \n",
       "2022-09-26                  -1.747278                         0.401815  \n",
       "2022-09-27                  -0.581938                         0.256567  \n",
       "2022-09-28                  -0.101337                         1.167613  \n",
       "2022-09-29                  -0.596640                        -0.109789  \n",
       "\n",
       "[251 rows x 6 columns]"
      ]
     },
     "execution_count": 9,
     "metadata": {},
     "output_type": "execute_result"
    }
   ],
   "source": [
    "#Creating uncorrelated z Stat\n",
    "df[\"Uncorrelatd Z-Stats Stocks\"]=scipy.stats.norm.ppf([np.random.uniform() for i in range(len(df))])\n",
    "df[\"Uncorrelatd Z-Stats Bonds\"]=scipy.stats.norm.ppf([np.random.uniform() for i in range(len(df))])\n",
    "df[\"Uncorrelatd Z-Stats Real Estate\"]=scipy.stats.norm.ppf([np.random.uniform() for i in range(len(df))])\n",
    "df"
   ]
  },
  {
   "cell_type": "code",
   "execution_count": 10,
   "id": "6e7b33b0",
   "metadata": {},
   "outputs": [
    {
     "data": {
      "text/plain": [
       "Stocks        -0.000514\n",
       "Bonds         -0.000474\n",
       "Real Estate   -0.000486\n",
       "Name: Average, dtype: object"
      ]
     },
     "execution_count": 10,
     "metadata": {},
     "output_type": "execute_result"
    }
   ],
   "source": [
    "matrix.loc['Average']"
   ]
  },
  {
   "cell_type": "code",
   "execution_count": 11,
   "id": "7aa8c6bb",
   "metadata": {},
   "outputs": [],
   "source": [
    "#Making Correlated z stat\n",
    "df[['Correlatd Z-Stats Stocks','Correlatd Z-Stats Bonds','Correlatd Z-Stats Real Estate']]=(Cholesky_decomposition.values.dot(df[['Uncorrelatd Z-Stats Stocks','Uncorrelatd Z-Stats Bonds','Uncorrelatd Z-Stats Real Estate']].T.values)).T"
   ]
  },
  {
   "cell_type": "code",
   "execution_count": 12,
   "id": "e2621c7f",
   "metadata": {},
   "outputs": [
    {
     "data": {
      "text/html": [
       "<div>\n",
       "<style scoped>\n",
       "    .dataframe tbody tr th:only-of-type {\n",
       "        vertical-align: middle;\n",
       "    }\n",
       "\n",
       "    .dataframe tbody tr th {\n",
       "        vertical-align: top;\n",
       "    }\n",
       "\n",
       "    .dataframe thead th {\n",
       "        text-align: right;\n",
       "    }\n",
       "</style>\n",
       "<table border=\"1\" class=\"dataframe\">\n",
       "  <thead>\n",
       "    <tr style=\"text-align: right;\">\n",
       "      <th></th>\n",
       "      <th>Stocks</th>\n",
       "      <th>Bonds</th>\n",
       "      <th>Real Estate</th>\n",
       "      <th>Uncorrelatd Z-Stats Stocks</th>\n",
       "      <th>Uncorrelatd Z-Stats Bonds</th>\n",
       "      <th>Uncorrelatd Z-Stats Real Estate</th>\n",
       "      <th>Correlatd Z-Stats Stocks</th>\n",
       "      <th>Correlatd Z-Stats Bonds</th>\n",
       "      <th>Correlatd Z-Stats Real Estate</th>\n",
       "    </tr>\n",
       "    <tr>\n",
       "      <th>Date</th>\n",
       "      <th></th>\n",
       "      <th></th>\n",
       "      <th></th>\n",
       "      <th></th>\n",
       "      <th></th>\n",
       "      <th></th>\n",
       "      <th></th>\n",
       "      <th></th>\n",
       "      <th></th>\n",
       "    </tr>\n",
       "  </thead>\n",
       "  <tbody>\n",
       "    <tr>\n",
       "      <th>2021-10-01</th>\n",
       "      <td>0.011884</td>\n",
       "      <td>0.000115</td>\n",
       "      <td>0.003368</td>\n",
       "      <td>0.040952</td>\n",
       "      <td>-0.107745</td>\n",
       "      <td>0.748488</td>\n",
       "      <td>0.040952</td>\n",
       "      <td>-0.10864</td>\n",
       "      <td>0.479529</td>\n",
       "    </tr>\n",
       "    <tr>\n",
       "      <th>2021-10-04</th>\n",
       "      <td>-0.012896</td>\n",
       "      <td>-0.002988</td>\n",
       "      <td>0.000699</td>\n",
       "      <td>-2.902088</td>\n",
       "      <td>2.334322</td>\n",
       "      <td>0.007916</td>\n",
       "      <td>-2.902088</td>\n",
       "      <td>2.399099</td>\n",
       "      <td>1.71342</td>\n",
       "    </tr>\n",
       "    <tr>\n",
       "      <th>2021-10-05</th>\n",
       "      <td>0.010405</td>\n",
       "      <td>-0.003112</td>\n",
       "      <td>-0.006988</td>\n",
       "      <td>-0.740555</td>\n",
       "      <td>-0.823766</td>\n",
       "      <td>-0.062781</td>\n",
       "      <td>-0.740555</td>\n",
       "      <td>-0.806876</td>\n",
       "      <td>-0.563073</td>\n",
       "    </tr>\n",
       "    <tr>\n",
       "      <th>2021-10-06</th>\n",
       "      <td>0.004156</td>\n",
       "      <td>0.001850</td>\n",
       "      <td>0.017593</td>\n",
       "      <td>-0.101314</td>\n",
       "      <td>-1.995090</td>\n",
       "      <td>2.592420</td>\n",
       "      <td>-0.101314</td>\n",
       "      <td>-1.992301</td>\n",
       "      <td>0.584511</td>\n",
       "    </tr>\n",
       "    <tr>\n",
       "      <th>2021-10-07</th>\n",
       "      <td>0.008646</td>\n",
       "      <td>0.002654</td>\n",
       "      <td>0.003112</td>\n",
       "      <td>0.716772</td>\n",
       "      <td>-1.421623</td>\n",
       "      <td>-1.405655</td>\n",
       "      <td>0.716772</td>\n",
       "      <td>-1.437407</td>\n",
       "      <td>-2.028798</td>\n",
       "    </tr>\n",
       "    <tr>\n",
       "      <th>...</th>\n",
       "      <td>...</td>\n",
       "      <td>...</td>\n",
       "      <td>...</td>\n",
       "      <td>...</td>\n",
       "      <td>...</td>\n",
       "      <td>...</td>\n",
       "      <td>...</td>\n",
       "      <td>...</td>\n",
       "      <td>...</td>\n",
       "    </tr>\n",
       "    <tr>\n",
       "      <th>2022-09-23</th>\n",
       "      <td>-0.016755</td>\n",
       "      <td>-0.009392</td>\n",
       "      <td>-0.024442</td>\n",
       "      <td>1.526359</td>\n",
       "      <td>-0.171003</td>\n",
       "      <td>-0.549745</td>\n",
       "      <td>1.526359</td>\n",
       "      <td>-0.205341</td>\n",
       "      <td>-0.595852</td>\n",
       "    </tr>\n",
       "    <tr>\n",
       "      <th>2022-09-26</th>\n",
       "      <td>-0.009893</td>\n",
       "      <td>-0.004601</td>\n",
       "      <td>0.016688</td>\n",
       "      <td>0.858190</td>\n",
       "      <td>-1.747278</td>\n",
       "      <td>0.401815</td>\n",
       "      <td>0.85819</td>\n",
       "      <td>-1.766166</td>\n",
       "      <td>-0.916817</td>\n",
       "    </tr>\n",
       "    <tr>\n",
       "      <th>2022-09-27</th>\n",
       "      <td>-0.002553</td>\n",
       "      <td>0.013105</td>\n",
       "      <td>0.013729</td>\n",
       "      <td>-0.529222</td>\n",
       "      <td>-0.581938</td>\n",
       "      <td>0.256567</td>\n",
       "      <td>-0.529222</td>\n",
       "      <td>-0.569869</td>\n",
       "      <td>-0.174827</td>\n",
       "    </tr>\n",
       "    <tr>\n",
       "      <th>2022-09-28</th>\n",
       "      <td>0.019676</td>\n",
       "      <td>0.021537</td>\n",
       "      <td>0.016491</td>\n",
       "      <td>-0.961710</td>\n",
       "      <td>-0.101337</td>\n",
       "      <td>1.167613</td>\n",
       "      <td>-0.96171</td>\n",
       "      <td>-0.079649</td>\n",
       "      <td>0.842788</td>\n",
       "    </tr>\n",
       "    <tr>\n",
       "      <th>2022-09-29</th>\n",
       "      <td>-0.020889</td>\n",
       "      <td>-0.003944</td>\n",
       "      <td>-0.015845</td>\n",
       "      <td>1.160105</td>\n",
       "      <td>-0.596640</td>\n",
       "      <td>-0.109789</td>\n",
       "      <td>1.160105</td>\n",
       "      <td>-0.62262</td>\n",
       "      <td>-0.538058</td>\n",
       "    </tr>\n",
       "  </tbody>\n",
       "</table>\n",
       "<p>251 rows × 9 columns</p>\n",
       "</div>"
      ],
      "text/plain": [
       "              Stocks     Bonds  Real Estate  Uncorrelatd Z-Stats Stocks  \\\n",
       "Date                                                                      \n",
       "2021-10-01  0.011884  0.000115     0.003368                    0.040952   \n",
       "2021-10-04 -0.012896 -0.002988     0.000699                   -2.902088   \n",
       "2021-10-05  0.010405 -0.003112    -0.006988                   -0.740555   \n",
       "2021-10-06  0.004156  0.001850     0.017593                   -0.101314   \n",
       "2021-10-07  0.008646  0.002654     0.003112                    0.716772   \n",
       "...              ...       ...          ...                         ...   \n",
       "2022-09-23 -0.016755 -0.009392    -0.024442                    1.526359   \n",
       "2022-09-26 -0.009893 -0.004601     0.016688                    0.858190   \n",
       "2022-09-27 -0.002553  0.013105     0.013729                   -0.529222   \n",
       "2022-09-28  0.019676  0.021537     0.016491                   -0.961710   \n",
       "2022-09-29 -0.020889 -0.003944    -0.015845                    1.160105   \n",
       "\n",
       "            Uncorrelatd Z-Stats Bonds  Uncorrelatd Z-Stats Real Estate  \\\n",
       "Date                                                                     \n",
       "2021-10-01                  -0.107745                         0.748488   \n",
       "2021-10-04                   2.334322                         0.007916   \n",
       "2021-10-05                  -0.823766                        -0.062781   \n",
       "2021-10-06                  -1.995090                         2.592420   \n",
       "2021-10-07                  -1.421623                        -1.405655   \n",
       "...                               ...                              ...   \n",
       "2022-09-23                  -0.171003                        -0.549745   \n",
       "2022-09-26                  -1.747278                         0.401815   \n",
       "2022-09-27                  -0.581938                         0.256567   \n",
       "2022-09-28                  -0.101337                         1.167613   \n",
       "2022-09-29                  -0.596640                        -0.109789   \n",
       "\n",
       "           Correlatd Z-Stats Stocks Correlatd Z-Stats Bonds  \\\n",
       "Date                                                          \n",
       "2021-10-01                 0.040952                -0.10864   \n",
       "2021-10-04                -2.902088                2.399099   \n",
       "2021-10-05                -0.740555               -0.806876   \n",
       "2021-10-06                -0.101314               -1.992301   \n",
       "2021-10-07                 0.716772               -1.437407   \n",
       "...                             ...                     ...   \n",
       "2022-09-23                 1.526359               -0.205341   \n",
       "2022-09-26                  0.85819               -1.766166   \n",
       "2022-09-27                -0.529222               -0.569869   \n",
       "2022-09-28                 -0.96171               -0.079649   \n",
       "2022-09-29                 1.160105                -0.62262   \n",
       "\n",
       "           Correlatd Z-Stats Real Estate  \n",
       "Date                                      \n",
       "2021-10-01                      0.479529  \n",
       "2021-10-04                       1.71342  \n",
       "2021-10-05                     -0.563073  \n",
       "2021-10-06                      0.584511  \n",
       "2021-10-07                     -2.028798  \n",
       "...                                  ...  \n",
       "2022-09-23                     -0.595852  \n",
       "2022-09-26                     -0.916817  \n",
       "2022-09-27                     -0.174827  \n",
       "2022-09-28                      0.842788  \n",
       "2022-09-29                     -0.538058  \n",
       "\n",
       "[251 rows x 9 columns]"
      ]
     },
     "execution_count": 12,
     "metadata": {},
     "output_type": "execute_result"
    }
   ],
   "source": [
    "df"
   ]
  },
  {
   "cell_type": "code",
   "execution_count": 13,
   "id": "3926039c",
   "metadata": {},
   "outputs": [],
   "source": [
    "df[['Simulated Returns of Stocks','Simulated Returns of Bonds','Simulated Returns of Real Estate']]=matrix.loc['Average'].values+df[['Correlatd Z-Stats Stocks','Correlatd Z-Stats Bonds','Correlatd Z-Stats Real Estate']].values*matrix.loc['Volatility'].values"
   ]
  },
  {
   "cell_type": "code",
   "execution_count": 14,
   "id": "1dc6ce05",
   "metadata": {},
   "outputs": [
    {
     "name": "stdout",
     "output_type": "stream",
     "text": [
      "<class 'pandas.core.frame.DataFrame'>\n",
      "DatetimeIndex: 251 entries, 2021-10-01 to 2022-09-29\n",
      "Data columns (total 3 columns):\n",
      " #   Column                            Non-Null Count  Dtype \n",
      "---  ------                            --------------  ----- \n",
      " 0   Simulated Returns of Stocks       251 non-null    object\n",
      " 1   Simulated Returns of Bonds        251 non-null    object\n",
      " 2   Simulated Returns of Real Estate  251 non-null    object\n",
      "dtypes: object(3)\n",
      "memory usage: 7.8+ KB\n"
     ]
    }
   ],
   "source": [
    "df[['Simulated Returns of Stocks','Simulated Returns of Bonds','Simulated Returns of Real Estate']].info()"
   ]
  },
  {
   "cell_type": "code",
   "execution_count": 15,
   "id": "4f309f43",
   "metadata": {
    "scrolled": true
   },
   "outputs": [
    {
     "data": {
      "text/html": [
       "<div>\n",
       "<style scoped>\n",
       "    .dataframe tbody tr th:only-of-type {\n",
       "        vertical-align: middle;\n",
       "    }\n",
       "\n",
       "    .dataframe tbody tr th {\n",
       "        vertical-align: top;\n",
       "    }\n",
       "\n",
       "    .dataframe thead th {\n",
       "        text-align: right;\n",
       "    }\n",
       "</style>\n",
       "<table border=\"1\" class=\"dataframe\">\n",
       "  <thead>\n",
       "    <tr style=\"text-align: right;\">\n",
       "      <th></th>\n",
       "      <th>Simulated Returns of Stocks</th>\n",
       "      <th>Simulated Returns of Bonds</th>\n",
       "      <th>Simulated Returns of Real Estate</th>\n",
       "    </tr>\n",
       "  </thead>\n",
       "  <tbody>\n",
       "    <tr>\n",
       "      <th>Simulated Returns of Stocks</th>\n",
       "      <td>1.000000</td>\n",
       "      <td>-0.046324</td>\n",
       "      <td>-0.040699</td>\n",
       "    </tr>\n",
       "    <tr>\n",
       "      <th>Simulated Returns of Bonds</th>\n",
       "      <td>-0.046324</td>\n",
       "      <td>1.000000</td>\n",
       "      <td>0.663174</td>\n",
       "    </tr>\n",
       "    <tr>\n",
       "      <th>Simulated Returns of Real Estate</th>\n",
       "      <td>-0.040699</td>\n",
       "      <td>0.663174</td>\n",
       "      <td>1.000000</td>\n",
       "    </tr>\n",
       "  </tbody>\n",
       "</table>\n",
       "</div>"
      ],
      "text/plain": [
       "                                  Simulated Returns of Stocks  \\\n",
       "Simulated Returns of Stocks                          1.000000   \n",
       "Simulated Returns of Bonds                          -0.046324   \n",
       "Simulated Returns of Real Estate                    -0.040699   \n",
       "\n",
       "                                  Simulated Returns of Bonds  \\\n",
       "Simulated Returns of Stocks                        -0.046324   \n",
       "Simulated Returns of Bonds                          1.000000   \n",
       "Simulated Returns of Real Estate                    0.663174   \n",
       "\n",
       "                                  Simulated Returns of Real Estate  \n",
       "Simulated Returns of Stocks                              -0.040699  \n",
       "Simulated Returns of Bonds                                0.663174  \n",
       "Simulated Returns of Real Estate                          1.000000  "
      ]
     },
     "execution_count": 15,
     "metadata": {},
     "output_type": "execute_result"
    }
   ],
   "source": [
    "new=df[['Simulated Returns of Stocks','Simulated Returns of Bonds','Simulated Returns of Real Estate']].astype(float).corr()\n",
    "new"
   ]
  },
  {
   "cell_type": "code",
   "execution_count": 16,
   "id": "2972f397",
   "metadata": {},
   "outputs": [
    {
     "data": {
      "text/plain": [
       "array([[0.        , 0.02379962, 0.00801579],\n",
       "       [0.02379962, 0.        , 0.00886212],\n",
       "       [0.00801579, 0.00886212, 0.        ]])"
      ]
     },
     "execution_count": 16,
     "metadata": {},
     "output_type": "execute_result"
    }
   ],
   "source": [
    "abs(new.values-cor.values)"
   ]
  },
  {
   "cell_type": "code",
   "execution_count": 17,
   "id": "47694c9b",
   "metadata": {},
   "outputs": [
    {
     "data": {
      "text/plain": [
       "0.05557038"
      ]
     },
     "execution_count": 17,
     "metadata": {},
     "output_type": "execute_result"
    }
   ],
   "source": [
    "0.00538441+0.05018597"
   ]
  },
  {
   "cell_type": "code",
   "execution_count": 18,
   "id": "ee317f0e",
   "metadata": {},
   "outputs": [
    {
     "data": {
      "text/plain": [
       "array([0.03181541, 0.03266174, 0.01687791])"
      ]
     },
     "execution_count": 18,
     "metadata": {},
     "output_type": "execute_result"
    }
   ],
   "source": [
    "sum(abs(new.values-cor.values))"
   ]
  },
  {
   "cell_type": "code",
   "execution_count": 19,
   "id": "0c9e6d95",
   "metadata": {
    "scrolled": true
   },
   "outputs": [
    {
     "data": {
      "text/plain": [
       "0.08135505904785328"
      ]
     },
     "execution_count": 19,
     "metadata": {},
     "output_type": "execute_result"
    }
   ],
   "source": [
    "sum(sum(abs(cor.values-new.values)))#on average deviation from our biased correlation"
   ]
  },
  {
   "cell_type": "code",
   "execution_count": 20,
   "id": "acc3cb07",
   "metadata": {
    "scrolled": true
   },
   "outputs": [
    {
     "data": {
      "text/plain": [
       "0.0"
      ]
     },
     "execution_count": 20,
     "metadata": {},
     "output_type": "execute_result"
    }
   ],
   "source": [
    "sum(sum(abs(cor.values-cor.values)))"
   ]
  },
  {
   "cell_type": "code",
   "execution_count": 21,
   "id": "6931d2bc",
   "metadata": {},
   "outputs": [],
   "source": [
    "#suppose correlation might be encountered for various reason.For an Example for interest rate Real estate and bond can be correlated\n",
    "#in this system we simulate and see what is our expected correlation for any circumtance "
   ]
  }
 ],
 "metadata": {
  "kernelspec": {
   "display_name": "Python 3 (ipykernel)",
   "language": "python",
   "name": "python3"
  },
  "language_info": {
   "codemirror_mode": {
    "name": "ipython",
    "version": 3
   },
   "file_extension": ".py",
   "mimetype": "text/x-python",
   "name": "python",
   "nbconvert_exporter": "python",
   "pygments_lexer": "ipython3",
   "version": "3.7.3"
  }
 },
 "nbformat": 4,
 "nbformat_minor": 5
}

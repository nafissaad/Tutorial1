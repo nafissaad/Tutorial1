{
 "cells": [
  {
   "cell_type": "code",
   "execution_count": 1,
   "id": "ec558fef",
   "metadata": {},
   "outputs": [],
   "source": [
    "import random\n",
    "import numpy as np\n",
    "import yfinance as yf\n",
    "import pandas as pd\n",
    "from matplotlib import pyplot as plt\n",
    "from scipy.stats import norm\n",
    "import math\n",
    "import scipy.stats as stats\n",
    "from datetime import datetime, timedelta\n",
    "%matplotlib inline"
   ]
  },
  {
   "cell_type": "code",
   "execution_count": 2,
   "id": "055e0179",
   "metadata": {},
   "outputs": [],
   "source": [
    "tickers=['BLK']"
   ]
  },
  {
   "cell_type": "code",
   "execution_count": 3,
   "id": "457dd635",
   "metadata": {},
   "outputs": [
    {
     "name": "stdout",
     "output_type": "stream",
     "text": [
      "[*********************100%***********************]  1 of 1 completed\n"
     ]
    }
   ],
   "source": [
    "df=yf.download(tickers,start='2017-09-01',end='2022-08-31')"
   ]
  },
  {
   "cell_type": "code",
   "execution_count": 4,
   "id": "931362ab",
   "metadata": {},
   "outputs": [
    {
     "data": {
      "text/html": [
       "<div>\n",
       "<style scoped>\n",
       "    .dataframe tbody tr th:only-of-type {\n",
       "        vertical-align: middle;\n",
       "    }\n",
       "\n",
       "    .dataframe tbody tr th {\n",
       "        vertical-align: top;\n",
       "    }\n",
       "\n",
       "    .dataframe thead th {\n",
       "        text-align: right;\n",
       "    }\n",
       "</style>\n",
       "<table border=\"1\" class=\"dataframe\">\n",
       "  <thead>\n",
       "    <tr style=\"text-align: right;\">\n",
       "      <th></th>\n",
       "      <th>Open</th>\n",
       "      <th>High</th>\n",
       "      <th>Low</th>\n",
       "      <th>Close</th>\n",
       "      <th>Adj Close</th>\n",
       "      <th>Volume</th>\n",
       "      <th>Return</th>\n",
       "    </tr>\n",
       "    <tr>\n",
       "      <th>Date</th>\n",
       "      <th></th>\n",
       "      <th></th>\n",
       "      <th></th>\n",
       "      <th></th>\n",
       "      <th></th>\n",
       "      <th></th>\n",
       "      <th></th>\n",
       "    </tr>\n",
       "  </thead>\n",
       "  <tbody>\n",
       "    <tr>\n",
       "      <th>2017-08-31</th>\n",
       "      <td>415.709991</td>\n",
       "      <td>420.279999</td>\n",
       "      <td>415.540009</td>\n",
       "      <td>419.010010</td>\n",
       "      <td>359.001343</td>\n",
       "      <td>501600</td>\n",
       "      <td>NaN</td>\n",
       "    </tr>\n",
       "    <tr>\n",
       "      <th>2017-09-01</th>\n",
       "      <td>422.350006</td>\n",
       "      <td>424.279999</td>\n",
       "      <td>420.630005</td>\n",
       "      <td>421.779999</td>\n",
       "      <td>361.374664</td>\n",
       "      <td>441900</td>\n",
       "      <td>0.006611</td>\n",
       "    </tr>\n",
       "    <tr>\n",
       "      <th>2017-09-05</th>\n",
       "      <td>419.470001</td>\n",
       "      <td>421.489990</td>\n",
       "      <td>413.040009</td>\n",
       "      <td>413.649994</td>\n",
       "      <td>354.409027</td>\n",
       "      <td>615500</td>\n",
       "      <td>-0.019275</td>\n",
       "    </tr>\n",
       "    <tr>\n",
       "      <th>2017-09-06</th>\n",
       "      <td>415.380005</td>\n",
       "      <td>417.700012</td>\n",
       "      <td>411.890015</td>\n",
       "      <td>412.190002</td>\n",
       "      <td>353.158081</td>\n",
       "      <td>430000</td>\n",
       "      <td>-0.003530</td>\n",
       "    </tr>\n",
       "    <tr>\n",
       "      <th>2017-09-07</th>\n",
       "      <td>413.750000</td>\n",
       "      <td>414.399994</td>\n",
       "      <td>409.410004</td>\n",
       "      <td>414.250000</td>\n",
       "      <td>354.923096</td>\n",
       "      <td>483300</td>\n",
       "      <td>0.004998</td>\n",
       "    </tr>\n",
       "    <tr>\n",
       "      <th>...</th>\n",
       "      <td>...</td>\n",
       "      <td>...</td>\n",
       "      <td>...</td>\n",
       "      <td>...</td>\n",
       "      <td>...</td>\n",
       "      <td>...</td>\n",
       "      <td>...</td>\n",
       "    </tr>\n",
       "    <tr>\n",
       "      <th>2022-08-24</th>\n",
       "      <td>694.890015</td>\n",
       "      <td>704.320007</td>\n",
       "      <td>694.010010</td>\n",
       "      <td>700.419983</td>\n",
       "      <td>675.594666</td>\n",
       "      <td>386000</td>\n",
       "      <td>0.004950</td>\n",
       "    </tr>\n",
       "    <tr>\n",
       "      <th>2022-08-25</th>\n",
       "      <td>703.690002</td>\n",
       "      <td>711.890015</td>\n",
       "      <td>700.309998</td>\n",
       "      <td>710.599976</td>\n",
       "      <td>685.413757</td>\n",
       "      <td>363700</td>\n",
       "      <td>0.014534</td>\n",
       "    </tr>\n",
       "    <tr>\n",
       "      <th>2022-08-26</th>\n",
       "      <td>713.349976</td>\n",
       "      <td>714.270020</td>\n",
       "      <td>675.770020</td>\n",
       "      <td>676.440002</td>\n",
       "      <td>652.464539</td>\n",
       "      <td>633200</td>\n",
       "      <td>-0.048072</td>\n",
       "    </tr>\n",
       "    <tr>\n",
       "      <th>2022-08-29</th>\n",
       "      <td>671.950012</td>\n",
       "      <td>679.619995</td>\n",
       "      <td>670.150024</td>\n",
       "      <td>675.890015</td>\n",
       "      <td>651.934021</td>\n",
       "      <td>379500</td>\n",
       "      <td>-0.000813</td>\n",
       "    </tr>\n",
       "    <tr>\n",
       "      <th>2022-08-30</th>\n",
       "      <td>681.049988</td>\n",
       "      <td>681.659973</td>\n",
       "      <td>668.409973</td>\n",
       "      <td>672.719971</td>\n",
       "      <td>648.876404</td>\n",
       "      <td>486400</td>\n",
       "      <td>-0.004690</td>\n",
       "    </tr>\n",
       "  </tbody>\n",
       "</table>\n",
       "<p>1258 rows × 7 columns</p>\n",
       "</div>"
      ],
      "text/plain": [
       "                  Open        High         Low       Close   Adj Close  \\\n",
       "Date                                                                     \n",
       "2017-08-31  415.709991  420.279999  415.540009  419.010010  359.001343   \n",
       "2017-09-01  422.350006  424.279999  420.630005  421.779999  361.374664   \n",
       "2017-09-05  419.470001  421.489990  413.040009  413.649994  354.409027   \n",
       "2017-09-06  415.380005  417.700012  411.890015  412.190002  353.158081   \n",
       "2017-09-07  413.750000  414.399994  409.410004  414.250000  354.923096   \n",
       "...                ...         ...         ...         ...         ...   \n",
       "2022-08-24  694.890015  704.320007  694.010010  700.419983  675.594666   \n",
       "2022-08-25  703.690002  711.890015  700.309998  710.599976  685.413757   \n",
       "2022-08-26  713.349976  714.270020  675.770020  676.440002  652.464539   \n",
       "2022-08-29  671.950012  679.619995  670.150024  675.890015  651.934021   \n",
       "2022-08-30  681.049988  681.659973  668.409973  672.719971  648.876404   \n",
       "\n",
       "            Volume    Return  \n",
       "Date                          \n",
       "2017-08-31  501600       NaN  \n",
       "2017-09-01  441900  0.006611  \n",
       "2017-09-05  615500 -0.019275  \n",
       "2017-09-06  430000 -0.003530  \n",
       "2017-09-07  483300  0.004998  \n",
       "...            ...       ...  \n",
       "2022-08-24  386000  0.004950  \n",
       "2022-08-25  363700  0.014534  \n",
       "2022-08-26  633200 -0.048072  \n",
       "2022-08-29  379500 -0.000813  \n",
       "2022-08-30  486400 -0.004690  \n",
       "\n",
       "[1258 rows x 7 columns]"
      ]
     },
     "execution_count": 4,
     "metadata": {},
     "output_type": "execute_result"
    }
   ],
   "source": [
    "df['Return']=df['Close'].pct_change()\n",
    "df"
   ]
  },
  {
   "cell_type": "code",
   "execution_count": 5,
   "id": "5509bb43",
   "metadata": {},
   "outputs": [
    {
     "data": {
      "text/plain": [
       "-0.024394300321748677"
      ]
     },
     "execution_count": 5,
     "metadata": {},
     "output_type": "execute_result"
    }
   ],
   "source": [
    "sample_size=len(df)\n",
    "confidence_alpha=0.10\n",
    "one_minus_alpha=1-confidence_alpha\n",
    "returns=df['Return'].mean()\n",
    "Volatility=df['Return'].std()\n",
    "VaR=returns+norm.ppf(confidence_alpha)*Volatility\n",
    "VaR"
   ]
  },
  {
   "cell_type": "code",
   "execution_count": 6,
   "id": "8a8c27d8",
   "metadata": {},
   "outputs": [
    {
     "data": {
      "text/html": [
       "<div>\n",
       "<style scoped>\n",
       "    .dataframe tbody tr th:only-of-type {\n",
       "        vertical-align: middle;\n",
       "    }\n",
       "\n",
       "    .dataframe tbody tr th {\n",
       "        vertical-align: top;\n",
       "    }\n",
       "\n",
       "    .dataframe thead th {\n",
       "        text-align: right;\n",
       "    }\n",
       "</style>\n",
       "<table border=\"1\" class=\"dataframe\">\n",
       "  <thead>\n",
       "    <tr style=\"text-align: right;\">\n",
       "      <th></th>\n",
       "      <th>Open</th>\n",
       "      <th>High</th>\n",
       "      <th>Low</th>\n",
       "      <th>Close</th>\n",
       "      <th>Adj Close</th>\n",
       "      <th>Volume</th>\n",
       "      <th>Return</th>\n",
       "      <th>Violation</th>\n",
       "    </tr>\n",
       "    <tr>\n",
       "      <th>Date</th>\n",
       "      <th></th>\n",
       "      <th></th>\n",
       "      <th></th>\n",
       "      <th></th>\n",
       "      <th></th>\n",
       "      <th></th>\n",
       "      <th></th>\n",
       "      <th></th>\n",
       "    </tr>\n",
       "  </thead>\n",
       "  <tbody>\n",
       "    <tr>\n",
       "      <th>2017-08-31</th>\n",
       "      <td>415.709991</td>\n",
       "      <td>420.279999</td>\n",
       "      <td>415.540009</td>\n",
       "      <td>419.010010</td>\n",
       "      <td>359.001343</td>\n",
       "      <td>501600</td>\n",
       "      <td>NaN</td>\n",
       "      <td>0</td>\n",
       "    </tr>\n",
       "    <tr>\n",
       "      <th>2017-09-01</th>\n",
       "      <td>422.350006</td>\n",
       "      <td>424.279999</td>\n",
       "      <td>420.630005</td>\n",
       "      <td>421.779999</td>\n",
       "      <td>361.374664</td>\n",
       "      <td>441900</td>\n",
       "      <td>0.006611</td>\n",
       "      <td>0</td>\n",
       "    </tr>\n",
       "    <tr>\n",
       "      <th>2017-09-05</th>\n",
       "      <td>419.470001</td>\n",
       "      <td>421.489990</td>\n",
       "      <td>413.040009</td>\n",
       "      <td>413.649994</td>\n",
       "      <td>354.409027</td>\n",
       "      <td>615500</td>\n",
       "      <td>-0.019275</td>\n",
       "      <td>0</td>\n",
       "    </tr>\n",
       "    <tr>\n",
       "      <th>2017-09-06</th>\n",
       "      <td>415.380005</td>\n",
       "      <td>417.700012</td>\n",
       "      <td>411.890015</td>\n",
       "      <td>412.190002</td>\n",
       "      <td>353.158081</td>\n",
       "      <td>430000</td>\n",
       "      <td>-0.003530</td>\n",
       "      <td>0</td>\n",
       "    </tr>\n",
       "    <tr>\n",
       "      <th>2017-09-07</th>\n",
       "      <td>413.750000</td>\n",
       "      <td>414.399994</td>\n",
       "      <td>409.410004</td>\n",
       "      <td>414.250000</td>\n",
       "      <td>354.923096</td>\n",
       "      <td>483300</td>\n",
       "      <td>0.004998</td>\n",
       "      <td>0</td>\n",
       "    </tr>\n",
       "    <tr>\n",
       "      <th>...</th>\n",
       "      <td>...</td>\n",
       "      <td>...</td>\n",
       "      <td>...</td>\n",
       "      <td>...</td>\n",
       "      <td>...</td>\n",
       "      <td>...</td>\n",
       "      <td>...</td>\n",
       "      <td>...</td>\n",
       "    </tr>\n",
       "    <tr>\n",
       "      <th>2022-08-24</th>\n",
       "      <td>694.890015</td>\n",
       "      <td>704.320007</td>\n",
       "      <td>694.010010</td>\n",
       "      <td>700.419983</td>\n",
       "      <td>675.594666</td>\n",
       "      <td>386000</td>\n",
       "      <td>0.004950</td>\n",
       "      <td>0</td>\n",
       "    </tr>\n",
       "    <tr>\n",
       "      <th>2022-08-25</th>\n",
       "      <td>703.690002</td>\n",
       "      <td>711.890015</td>\n",
       "      <td>700.309998</td>\n",
       "      <td>710.599976</td>\n",
       "      <td>685.413757</td>\n",
       "      <td>363700</td>\n",
       "      <td>0.014534</td>\n",
       "      <td>0</td>\n",
       "    </tr>\n",
       "    <tr>\n",
       "      <th>2022-08-26</th>\n",
       "      <td>713.349976</td>\n",
       "      <td>714.270020</td>\n",
       "      <td>675.770020</td>\n",
       "      <td>676.440002</td>\n",
       "      <td>652.464539</td>\n",
       "      <td>633200</td>\n",
       "      <td>-0.048072</td>\n",
       "      <td>1</td>\n",
       "    </tr>\n",
       "    <tr>\n",
       "      <th>2022-08-29</th>\n",
       "      <td>671.950012</td>\n",
       "      <td>679.619995</td>\n",
       "      <td>670.150024</td>\n",
       "      <td>675.890015</td>\n",
       "      <td>651.934021</td>\n",
       "      <td>379500</td>\n",
       "      <td>-0.000813</td>\n",
       "      <td>0</td>\n",
       "    </tr>\n",
       "    <tr>\n",
       "      <th>2022-08-30</th>\n",
       "      <td>681.049988</td>\n",
       "      <td>681.659973</td>\n",
       "      <td>668.409973</td>\n",
       "      <td>672.719971</td>\n",
       "      <td>648.876404</td>\n",
       "      <td>486400</td>\n",
       "      <td>-0.004690</td>\n",
       "      <td>0</td>\n",
       "    </tr>\n",
       "  </tbody>\n",
       "</table>\n",
       "<p>1258 rows × 8 columns</p>\n",
       "</div>"
      ],
      "text/plain": [
       "                  Open        High         Low       Close   Adj Close  \\\n",
       "Date                                                                     \n",
       "2017-08-31  415.709991  420.279999  415.540009  419.010010  359.001343   \n",
       "2017-09-01  422.350006  424.279999  420.630005  421.779999  361.374664   \n",
       "2017-09-05  419.470001  421.489990  413.040009  413.649994  354.409027   \n",
       "2017-09-06  415.380005  417.700012  411.890015  412.190002  353.158081   \n",
       "2017-09-07  413.750000  414.399994  409.410004  414.250000  354.923096   \n",
       "...                ...         ...         ...         ...         ...   \n",
       "2022-08-24  694.890015  704.320007  694.010010  700.419983  675.594666   \n",
       "2022-08-25  703.690002  711.890015  700.309998  710.599976  685.413757   \n",
       "2022-08-26  713.349976  714.270020  675.770020  676.440002  652.464539   \n",
       "2022-08-29  671.950012  679.619995  670.150024  675.890015  651.934021   \n",
       "2022-08-30  681.049988  681.659973  668.409973  672.719971  648.876404   \n",
       "\n",
       "            Volume    Return  Violation  \n",
       "Date                                     \n",
       "2017-08-31  501600       NaN          0  \n",
       "2017-09-01  441900  0.006611          0  \n",
       "2017-09-05  615500 -0.019275          0  \n",
       "2017-09-06  430000 -0.003530          0  \n",
       "2017-09-07  483300  0.004998          0  \n",
       "...            ...       ...        ...  \n",
       "2022-08-24  386000  0.004950          0  \n",
       "2022-08-25  363700  0.014534          0  \n",
       "2022-08-26  633200 -0.048072          1  \n",
       "2022-08-29  379500 -0.000813          0  \n",
       "2022-08-30  486400 -0.004690          0  \n",
       "\n",
       "[1258 rows x 8 columns]"
      ]
     },
     "execution_count": 6,
     "metadata": {},
     "output_type": "execute_result"
    }
   ],
   "source": [
    "df['Violation']=[1 if v<VaR else 0 for v in df['Return'].values]\n",
    "df"
   ]
  },
  {
   "cell_type": "code",
   "execution_count": 7,
   "id": "78b47e85",
   "metadata": {},
   "outputs": [
    {
     "data": {
      "text/plain": [
       "(0.07233704292527822, 0.9276629570747218)"
      ]
     },
     "execution_count": 7,
     "metadata": {},
     "output_type": "execute_result"
    }
   ],
   "source": [
    "proportion_of_violations=df['Violation'].sum()/sample_size\n",
    "proportion_of_non_violations=1-proportion_of_violations\n",
    "proportion_of_violations,proportion_of_non_violations"
   ]
  },
  {
   "cell_type": "code",
   "execution_count": 8,
   "id": "166b535a",
   "metadata": {},
   "outputs": [
    {
     "data": {
      "text/plain": [
       "(1167, 91)"
      ]
     },
     "execution_count": 8,
     "metadata": {},
     "output_type": "execute_result"
    }
   ],
   "source": [
    "freq_of_non_violations=sample_size-df['Violation'].sum()\n",
    "freq_of_non_violations,df['Violation'].sum()"
   ]
  },
  {
   "cell_type": "code",
   "execution_count": 9,
   "id": "2ed31082",
   "metadata": {},
   "outputs": [],
   "source": [
    "Kupiec_Chi_sqr=2*np.log((proportion_of_non_violations/one_minus_alpha)**freq_of_non_violations*(proportion_of_violations/confidence_alpha)**df['Violation'].sum())"
   ]
  },
  {
   "cell_type": "code",
   "execution_count": 10,
   "id": "ad32502b",
   "metadata": {},
   "outputs": [
    {
     "data": {
      "text/plain": [
       "11.721082266040657"
      ]
     },
     "execution_count": 10,
     "metadata": {},
     "output_type": "execute_result"
    }
   ],
   "source": [
    "Kupiec_Chi_sqr"
   ]
  },
  {
   "cell_type": "code",
   "execution_count": 11,
   "id": "62b0c0af",
   "metadata": {},
   "outputs": [
    {
     "data": {
      "text/plain": [
       "0.00033206685862318986"
      ]
     },
     "execution_count": 11,
     "metadata": {},
     "output_type": "execute_result"
    }
   ],
   "source": [
    "stats.chi2.pdf(Kupiec_Chi_sqr,1)"
   ]
  },
  {
   "cell_type": "code",
   "execution_count": 12,
   "id": "72760f19",
   "metadata": {},
   "outputs": [],
   "source": [
    "#VaR at 10% is unreliable"
   ]
  }
 ],
 "metadata": {
  "kernelspec": {
   "display_name": "Python 3 (ipykernel)",
   "language": "python",
   "name": "python3"
  },
  "language_info": {
   "codemirror_mode": {
    "name": "ipython",
    "version": 3
   },
   "file_extension": ".py",
   "mimetype": "text/x-python",
   "name": "python",
   "nbconvert_exporter": "python",
   "pygments_lexer": "ipython3",
   "version": "3.7.3"
  }
 },
 "nbformat": 4,
 "nbformat_minor": 5
}

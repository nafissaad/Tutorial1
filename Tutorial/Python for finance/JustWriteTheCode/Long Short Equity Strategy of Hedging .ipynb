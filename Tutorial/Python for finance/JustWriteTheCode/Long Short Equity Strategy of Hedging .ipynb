{
 "cells": [
  {
   "cell_type": "code",
   "execution_count": 1,
   "id": "e1401306",
   "metadata": {},
   "outputs": [],
   "source": [
    "import pandas as pd\n",
    "import numpy as np\n",
    "import yfinance as yf\n",
    "from datetime import datetime,timedelta"
   ]
  },
  {
   "cell_type": "code",
   "execution_count": 2,
   "id": "07af9534",
   "metadata": {},
   "outputs": [
    {
     "name": "stdout",
     "output_type": "stream",
     "text": [
      "[*********************100%***********************]  4 of 4 completed\n"
     ]
    }
   ],
   "source": [
    "stock_names=['SPY','META','GOOGL','MSFT']\n",
    "end_date=datetime.today()\n",
    "n_years=5\n",
    "start_date=end_date-timedelta(days=n_years*365)\n",
    "\n",
    "stock_data=yf.download(tickers=stock_names,start=start_date,end=end_date)\n",
    "stock_prices=stock_data['Adj Close']\n",
    "\n",
    "df=pd.concat([stock_prices['SPY'],\n",
    "             stock_prices['META'],\n",
    "             stock_prices['GOOGL'],\n",
    "             stock_prices['MSFT']],axis=1)"
   ]
  },
  {
   "cell_type": "code",
   "execution_count": 3,
   "id": "da3e5a31",
   "metadata": {
    "scrolled": false
   },
   "outputs": [
    {
     "data": {
      "text/html": [
       "<div>\n",
       "<style scoped>\n",
       "    .dataframe tbody tr th:only-of-type {\n",
       "        vertical-align: middle;\n",
       "    }\n",
       "\n",
       "    .dataframe tbody tr th {\n",
       "        vertical-align: top;\n",
       "    }\n",
       "\n",
       "    .dataframe thead th {\n",
       "        text-align: right;\n",
       "    }\n",
       "</style>\n",
       "<table border=\"1\" class=\"dataframe\">\n",
       "  <thead>\n",
       "    <tr style=\"text-align: right;\">\n",
       "      <th></th>\n",
       "      <th>SPY</th>\n",
       "      <th>META</th>\n",
       "      <th>GOOGL</th>\n",
       "      <th>MSFT</th>\n",
       "    </tr>\n",
       "    <tr>\n",
       "      <th>Date</th>\n",
       "      <th></th>\n",
       "      <th></th>\n",
       "      <th></th>\n",
       "      <th></th>\n",
       "    </tr>\n",
       "  </thead>\n",
       "  <tbody>\n",
       "    <tr>\n",
       "      <th>2018-07-19</th>\n",
       "      <td>257.324310</td>\n",
       "      <td>208.089996</td>\n",
       "      <td>59.955002</td>\n",
       "      <td>98.741302</td>\n",
       "    </tr>\n",
       "    <tr>\n",
       "      <th>2018-07-20</th>\n",
       "      <td>257.030273</td>\n",
       "      <td>209.940002</td>\n",
       "      <td>59.894001</td>\n",
       "      <td>100.509926</td>\n",
       "    </tr>\n",
       "    <tr>\n",
       "      <th>2018-07-23</th>\n",
       "      <td>257.508148</td>\n",
       "      <td>210.910004</td>\n",
       "      <td>60.549999</td>\n",
       "      <td>102.117790</td>\n",
       "    </tr>\n",
       "    <tr>\n",
       "      <th>2018-07-24</th>\n",
       "      <td>258.803894</td>\n",
       "      <td>214.669998</td>\n",
       "      <td>62.907501</td>\n",
       "      <td>101.824600</td>\n",
       "    </tr>\n",
       "    <tr>\n",
       "      <th>2018-07-25</th>\n",
       "      <td>261.009552</td>\n",
       "      <td>217.500000</td>\n",
       "      <td>63.797001</td>\n",
       "      <td>104.822762</td>\n",
       "    </tr>\n",
       "    <tr>\n",
       "      <th>...</th>\n",
       "      <td>...</td>\n",
       "      <td>...</td>\n",
       "      <td>...</td>\n",
       "      <td>...</td>\n",
       "    </tr>\n",
       "    <tr>\n",
       "      <th>2023-07-11</th>\n",
       "      <td>442.459991</td>\n",
       "      <td>298.290009</td>\n",
       "      <td>117.139999</td>\n",
       "      <td>332.470001</td>\n",
       "    </tr>\n",
       "    <tr>\n",
       "      <th>2023-07-12</th>\n",
       "      <td>446.019989</td>\n",
       "      <td>309.339996</td>\n",
       "      <td>118.930000</td>\n",
       "      <td>337.200012</td>\n",
       "    </tr>\n",
       "    <tr>\n",
       "      <th>2023-07-13</th>\n",
       "      <td>449.559998</td>\n",
       "      <td>313.410004</td>\n",
       "      <td>124.540001</td>\n",
       "      <td>342.660004</td>\n",
       "    </tr>\n",
       "    <tr>\n",
       "      <th>2023-07-14</th>\n",
       "      <td>449.279999</td>\n",
       "      <td>308.869995</td>\n",
       "      <td>125.419998</td>\n",
       "      <td>345.239990</td>\n",
       "    </tr>\n",
       "    <tr>\n",
       "      <th>2023-07-17</th>\n",
       "      <td>450.839996</td>\n",
       "      <td>310.619995</td>\n",
       "      <td>124.650002</td>\n",
       "      <td>345.730011</td>\n",
       "    </tr>\n",
       "  </tbody>\n",
       "</table>\n",
       "<p>1256 rows × 4 columns</p>\n",
       "</div>"
      ],
      "text/plain": [
       "                   SPY        META       GOOGL        MSFT\n",
       "Date                                                      \n",
       "2018-07-19  257.324310  208.089996   59.955002   98.741302\n",
       "2018-07-20  257.030273  209.940002   59.894001  100.509926\n",
       "2018-07-23  257.508148  210.910004   60.549999  102.117790\n",
       "2018-07-24  258.803894  214.669998   62.907501  101.824600\n",
       "2018-07-25  261.009552  217.500000   63.797001  104.822762\n",
       "...                ...         ...         ...         ...\n",
       "2023-07-11  442.459991  298.290009  117.139999  332.470001\n",
       "2023-07-12  446.019989  309.339996  118.930000  337.200012\n",
       "2023-07-13  449.559998  313.410004  124.540001  342.660004\n",
       "2023-07-14  449.279999  308.869995  125.419998  345.239990\n",
       "2023-07-17  450.839996  310.619995  124.650002  345.730011\n",
       "\n",
       "[1256 rows x 4 columns]"
      ]
     },
     "execution_count": 3,
     "metadata": {},
     "output_type": "execute_result"
    }
   ],
   "source": [
    "df"
   ]
  },
  {
   "cell_type": "code",
   "execution_count": 4,
   "id": "36c072cd",
   "metadata": {
    "scrolled": true
   },
   "outputs": [
    {
     "data": {
      "text/html": [
       "<div>\n",
       "<style scoped>\n",
       "    .dataframe tbody tr th:only-of-type {\n",
       "        vertical-align: middle;\n",
       "    }\n",
       "\n",
       "    .dataframe tbody tr th {\n",
       "        vertical-align: top;\n",
       "    }\n",
       "\n",
       "    .dataframe thead th {\n",
       "        text-align: right;\n",
       "    }\n",
       "</style>\n",
       "<table border=\"1\" class=\"dataframe\">\n",
       "  <thead>\n",
       "    <tr style=\"text-align: right;\">\n",
       "      <th></th>\n",
       "      <th>SPY</th>\n",
       "      <th>META</th>\n",
       "      <th>GOOGL</th>\n",
       "      <th>MSFT</th>\n",
       "    </tr>\n",
       "    <tr>\n",
       "      <th>Date</th>\n",
       "      <th></th>\n",
       "      <th></th>\n",
       "      <th></th>\n",
       "      <th></th>\n",
       "    </tr>\n",
       "  </thead>\n",
       "  <tbody>\n",
       "    <tr>\n",
       "      <th>2018-07-19</th>\n",
       "      <td>NaN</td>\n",
       "      <td>NaN</td>\n",
       "      <td>NaN</td>\n",
       "      <td>NaN</td>\n",
       "    </tr>\n",
       "    <tr>\n",
       "      <th>2018-07-20</th>\n",
       "      <td>-0.001143</td>\n",
       "      <td>0.008890</td>\n",
       "      <td>-0.001017</td>\n",
       "      <td>0.017912</td>\n",
       "    </tr>\n",
       "    <tr>\n",
       "      <th>2018-07-23</th>\n",
       "      <td>0.001859</td>\n",
       "      <td>0.004620</td>\n",
       "      <td>0.010953</td>\n",
       "      <td>0.015997</td>\n",
       "    </tr>\n",
       "    <tr>\n",
       "      <th>2018-07-24</th>\n",
       "      <td>0.005032</td>\n",
       "      <td>0.017827</td>\n",
       "      <td>0.038935</td>\n",
       "      <td>-0.002871</td>\n",
       "    </tr>\n",
       "    <tr>\n",
       "      <th>2018-07-25</th>\n",
       "      <td>0.008523</td>\n",
       "      <td>0.013183</td>\n",
       "      <td>0.014140</td>\n",
       "      <td>0.029444</td>\n",
       "    </tr>\n",
       "    <tr>\n",
       "      <th>...</th>\n",
       "      <td>...</td>\n",
       "      <td>...</td>\n",
       "      <td>...</td>\n",
       "      <td>...</td>\n",
       "    </tr>\n",
       "    <tr>\n",
       "      <th>2023-07-11</th>\n",
       "      <td>0.006369</td>\n",
       "      <td>0.014247</td>\n",
       "      <td>0.005925</td>\n",
       "      <td>0.001929</td>\n",
       "    </tr>\n",
       "    <tr>\n",
       "      <th>2023-07-12</th>\n",
       "      <td>0.008046</td>\n",
       "      <td>0.037044</td>\n",
       "      <td>0.015281</td>\n",
       "      <td>0.014227</td>\n",
       "    </tr>\n",
       "    <tr>\n",
       "      <th>2023-07-13</th>\n",
       "      <td>0.007937</td>\n",
       "      <td>0.013157</td>\n",
       "      <td>0.047171</td>\n",
       "      <td>0.016192</td>\n",
       "    </tr>\n",
       "    <tr>\n",
       "      <th>2023-07-14</th>\n",
       "      <td>-0.000623</td>\n",
       "      <td>-0.014486</td>\n",
       "      <td>0.007066</td>\n",
       "      <td>0.007529</td>\n",
       "    </tr>\n",
       "    <tr>\n",
       "      <th>2023-07-17</th>\n",
       "      <td>0.003472</td>\n",
       "      <td>0.005666</td>\n",
       "      <td>-0.006139</td>\n",
       "      <td>0.001419</td>\n",
       "    </tr>\n",
       "  </tbody>\n",
       "</table>\n",
       "<p>1256 rows × 4 columns</p>\n",
       "</div>"
      ],
      "text/plain": [
       "                 SPY      META     GOOGL      MSFT\n",
       "Date                                              \n",
       "2018-07-19       NaN       NaN       NaN       NaN\n",
       "2018-07-20 -0.001143  0.008890 -0.001017  0.017912\n",
       "2018-07-23  0.001859  0.004620  0.010953  0.015997\n",
       "2018-07-24  0.005032  0.017827  0.038935 -0.002871\n",
       "2018-07-25  0.008523  0.013183  0.014140  0.029444\n",
       "...              ...       ...       ...       ...\n",
       "2023-07-11  0.006369  0.014247  0.005925  0.001929\n",
       "2023-07-12  0.008046  0.037044  0.015281  0.014227\n",
       "2023-07-13  0.007937  0.013157  0.047171  0.016192\n",
       "2023-07-14 -0.000623 -0.014486  0.007066  0.007529\n",
       "2023-07-17  0.003472  0.005666 -0.006139  0.001419\n",
       "\n",
       "[1256 rows x 4 columns]"
      ]
     },
     "execution_count": 4,
     "metadata": {},
     "output_type": "execute_result"
    }
   ],
   "source": [
    "stock_returns=df.pct_change()\n",
    "stock_returns"
   ]
  },
  {
   "cell_type": "code",
   "execution_count": 5,
   "id": "673a491d",
   "metadata": {
    "scrolled": true
   },
   "outputs": [],
   "source": [
    "stock_log_returns=np.log(df/df.shift(1))\n",
    "average_log_return=stock_log_returns.mean(1)"
   ]
  },
  {
   "cell_type": "code",
   "execution_count": 6,
   "id": "dcb6a41e",
   "metadata": {},
   "outputs": [
    {
     "data": {
      "text/html": [
       "<div>\n",
       "<style scoped>\n",
       "    .dataframe tbody tr th:only-of-type {\n",
       "        vertical-align: middle;\n",
       "    }\n",
       "\n",
       "    .dataframe tbody tr th {\n",
       "        vertical-align: top;\n",
       "    }\n",
       "\n",
       "    .dataframe thead th {\n",
       "        text-align: right;\n",
       "    }\n",
       "</style>\n",
       "<table border=\"1\" class=\"dataframe\">\n",
       "  <thead>\n",
       "    <tr style=\"text-align: right;\">\n",
       "      <th></th>\n",
       "      <th>SPY</th>\n",
       "      <th>META</th>\n",
       "      <th>GOOGL</th>\n",
       "      <th>MSFT</th>\n",
       "    </tr>\n",
       "    <tr>\n",
       "      <th>Date</th>\n",
       "      <th></th>\n",
       "      <th></th>\n",
       "      <th></th>\n",
       "      <th></th>\n",
       "    </tr>\n",
       "  </thead>\n",
       "  <tbody>\n",
       "    <tr>\n",
       "      <th>2018-07-19</th>\n",
       "      <td>NaN</td>\n",
       "      <td>NaN</td>\n",
       "      <td>NaN</td>\n",
       "      <td>NaN</td>\n",
       "    </tr>\n",
       "    <tr>\n",
       "      <th>2018-07-20</th>\n",
       "      <td>-0.001143</td>\n",
       "      <td>0.008851</td>\n",
       "      <td>-0.001018</td>\n",
       "      <td>0.017753</td>\n",
       "    </tr>\n",
       "    <tr>\n",
       "      <th>2018-07-23</th>\n",
       "      <td>0.001857</td>\n",
       "      <td>0.004610</td>\n",
       "      <td>0.010893</td>\n",
       "      <td>0.015870</td>\n",
       "    </tr>\n",
       "    <tr>\n",
       "      <th>2018-07-24</th>\n",
       "      <td>0.005019</td>\n",
       "      <td>0.017670</td>\n",
       "      <td>0.038196</td>\n",
       "      <td>-0.002875</td>\n",
       "    </tr>\n",
       "    <tr>\n",
       "      <th>2018-07-25</th>\n",
       "      <td>0.008486</td>\n",
       "      <td>0.013097</td>\n",
       "      <td>0.014041</td>\n",
       "      <td>0.029019</td>\n",
       "    </tr>\n",
       "    <tr>\n",
       "      <th>...</th>\n",
       "      <td>...</td>\n",
       "      <td>...</td>\n",
       "      <td>...</td>\n",
       "      <td>...</td>\n",
       "    </tr>\n",
       "    <tr>\n",
       "      <th>2023-07-11</th>\n",
       "      <td>0.006348</td>\n",
       "      <td>0.014146</td>\n",
       "      <td>0.005908</td>\n",
       "      <td>0.001927</td>\n",
       "    </tr>\n",
       "    <tr>\n",
       "      <th>2023-07-12</th>\n",
       "      <td>0.008014</td>\n",
       "      <td>0.036375</td>\n",
       "      <td>0.015165</td>\n",
       "      <td>0.014127</td>\n",
       "    </tr>\n",
       "    <tr>\n",
       "      <th>2023-07-13</th>\n",
       "      <td>0.007906</td>\n",
       "      <td>0.013071</td>\n",
       "      <td>0.046092</td>\n",
       "      <td>0.016062</td>\n",
       "    </tr>\n",
       "    <tr>\n",
       "      <th>2023-07-14</th>\n",
       "      <td>-0.000623</td>\n",
       "      <td>-0.014592</td>\n",
       "      <td>0.007041</td>\n",
       "      <td>0.007501</td>\n",
       "    </tr>\n",
       "    <tr>\n",
       "      <th>2023-07-17</th>\n",
       "      <td>0.003466</td>\n",
       "      <td>0.005650</td>\n",
       "      <td>-0.006158</td>\n",
       "      <td>0.001418</td>\n",
       "    </tr>\n",
       "  </tbody>\n",
       "</table>\n",
       "<p>1256 rows × 4 columns</p>\n",
       "</div>"
      ],
      "text/plain": [
       "                 SPY      META     GOOGL      MSFT\n",
       "Date                                              \n",
       "2018-07-19       NaN       NaN       NaN       NaN\n",
       "2018-07-20 -0.001143  0.008851 -0.001018  0.017753\n",
       "2018-07-23  0.001857  0.004610  0.010893  0.015870\n",
       "2018-07-24  0.005019  0.017670  0.038196 -0.002875\n",
       "2018-07-25  0.008486  0.013097  0.014041  0.029019\n",
       "...              ...       ...       ...       ...\n",
       "2023-07-11  0.006348  0.014146  0.005908  0.001927\n",
       "2023-07-12  0.008014  0.036375  0.015165  0.014127\n",
       "2023-07-13  0.007906  0.013071  0.046092  0.016062\n",
       "2023-07-14 -0.000623 -0.014592  0.007041  0.007501\n",
       "2023-07-17  0.003466  0.005650 -0.006158  0.001418\n",
       "\n",
       "[1256 rows x 4 columns]"
      ]
     },
     "execution_count": 6,
     "metadata": {},
     "output_type": "execute_result"
    }
   ],
   "source": [
    "stock_log_returns"
   ]
  },
  {
   "cell_type": "code",
   "execution_count": 7,
   "id": "817278d1",
   "metadata": {},
   "outputs": [
    {
     "data": {
      "text/plain": [
       "<matplotlib.axes._subplots.AxesSubplot at 0x22b1f84bd30>"
      ]
     },
     "execution_count": 7,
     "metadata": {},
     "output_type": "execute_result"
    },
    {
     "data": {
      "image/png": "[encoded data removed]",
      "text/plain": [
       "<Figure size 720x360 with 1 Axes>"
      ]
     },
     "metadata": {
      "needs_background": "light"
     },
     "output_type": "display_data"
    }
   ],
   "source": [
    "stock_log_returns.plot(figsize=(10,5))"
   ]
  },
  {
   "cell_type": "code",
   "execution_count": 8,
   "id": "fdaf0839",
   "metadata": {},
   "outputs": [
    {
     "data": {
      "text/plain": [
       "<matplotlib.axes._subplots.AxesSubplot at 0x22b2294a6d8>"
      ]
     },
     "execution_count": 8,
     "metadata": {},
     "output_type": "execute_result"
    },
    {
     "data": {
      "image/png": "[encoded data removed]",
      "text/plain": [
       "<Figure size 432x288 with 1 Axes>"
      ]
     },
     "metadata": {
      "needs_background": "light"
     },
     "output_type": "display_data"
    }
   ],
   "source": [
    "average_log_return.plot.hist(bins=100)"
   ]
  },
  {
   "cell_type": "code",
   "execution_count": 9,
   "id": "52aa340e",
   "metadata": {},
   "outputs": [
    {
     "data": {
      "text/html": [
       "<div>\n",
       "<style scoped>\n",
       "    .dataframe tbody tr th:only-of-type {\n",
       "        vertical-align: middle;\n",
       "    }\n",
       "\n",
       "    .dataframe tbody tr th {\n",
       "        vertical-align: top;\n",
       "    }\n",
       "\n",
       "    .dataframe thead th {\n",
       "        text-align: right;\n",
       "    }\n",
       "</style>\n",
       "<table border=\"1\" class=\"dataframe\">\n",
       "  <thead>\n",
       "    <tr style=\"text-align: right;\">\n",
       "      <th></th>\n",
       "      <th>SPY</th>\n",
       "      <th>META</th>\n",
       "      <th>GOOGL</th>\n",
       "      <th>MSFT</th>\n",
       "    </tr>\n",
       "    <tr>\n",
       "      <th>Date</th>\n",
       "      <th></th>\n",
       "      <th></th>\n",
       "      <th></th>\n",
       "      <th></th>\n",
       "    </tr>\n",
       "  </thead>\n",
       "  <tbody>\n",
       "    <tr>\n",
       "      <th>2018-07-19</th>\n",
       "      <td>NaN</td>\n",
       "      <td>NaN</td>\n",
       "      <td>NaN</td>\n",
       "      <td>NaN</td>\n",
       "    </tr>\n",
       "    <tr>\n",
       "      <th>2018-07-20</th>\n",
       "      <td>-0.001143</td>\n",
       "      <td>0.008851</td>\n",
       "      <td>-0.001018</td>\n",
       "      <td>0.017753</td>\n",
       "    </tr>\n",
       "    <tr>\n",
       "      <th>2018-07-23</th>\n",
       "      <td>0.001857</td>\n",
       "      <td>0.004610</td>\n",
       "      <td>0.010893</td>\n",
       "      <td>0.015870</td>\n",
       "    </tr>\n",
       "    <tr>\n",
       "      <th>2018-07-24</th>\n",
       "      <td>0.005019</td>\n",
       "      <td>0.017670</td>\n",
       "      <td>0.038196</td>\n",
       "      <td>-0.002875</td>\n",
       "    </tr>\n",
       "    <tr>\n",
       "      <th>2018-07-25</th>\n",
       "      <td>0.008486</td>\n",
       "      <td>0.013097</td>\n",
       "      <td>0.014041</td>\n",
       "      <td>0.029019</td>\n",
       "    </tr>\n",
       "    <tr>\n",
       "      <th>...</th>\n",
       "      <td>...</td>\n",
       "      <td>...</td>\n",
       "      <td>...</td>\n",
       "      <td>...</td>\n",
       "    </tr>\n",
       "    <tr>\n",
       "      <th>2023-07-11</th>\n",
       "      <td>0.006348</td>\n",
       "      <td>0.014146</td>\n",
       "      <td>0.005908</td>\n",
       "      <td>0.001927</td>\n",
       "    </tr>\n",
       "    <tr>\n",
       "      <th>2023-07-12</th>\n",
       "      <td>0.008014</td>\n",
       "      <td>0.036375</td>\n",
       "      <td>0.015165</td>\n",
       "      <td>0.014127</td>\n",
       "    </tr>\n",
       "    <tr>\n",
       "      <th>2023-07-13</th>\n",
       "      <td>0.007906</td>\n",
       "      <td>0.013071</td>\n",
       "      <td>0.046092</td>\n",
       "      <td>0.016062</td>\n",
       "    </tr>\n",
       "    <tr>\n",
       "      <th>2023-07-14</th>\n",
       "      <td>-0.000623</td>\n",
       "      <td>-0.014592</td>\n",
       "      <td>0.007041</td>\n",
       "      <td>0.007501</td>\n",
       "    </tr>\n",
       "    <tr>\n",
       "      <th>2023-07-17</th>\n",
       "      <td>0.003466</td>\n",
       "      <td>0.005650</td>\n",
       "      <td>-0.006158</td>\n",
       "      <td>0.001418</td>\n",
       "    </tr>\n",
       "  </tbody>\n",
       "</table>\n",
       "<p>1256 rows × 4 columns</p>\n",
       "</div>"
      ],
      "text/plain": [
       "                 SPY      META     GOOGL      MSFT\n",
       "Date                                              \n",
       "2018-07-19       NaN       NaN       NaN       NaN\n",
       "2018-07-20 -0.001143  0.008851 -0.001018  0.017753\n",
       "2018-07-23  0.001857  0.004610  0.010893  0.015870\n",
       "2018-07-24  0.005019  0.017670  0.038196 -0.002875\n",
       "2018-07-25  0.008486  0.013097  0.014041  0.029019\n",
       "...              ...       ...       ...       ...\n",
       "2023-07-11  0.006348  0.014146  0.005908  0.001927\n",
       "2023-07-12  0.008014  0.036375  0.015165  0.014127\n",
       "2023-07-13  0.007906  0.013071  0.046092  0.016062\n",
       "2023-07-14 -0.000623 -0.014592  0.007041  0.007501\n",
       "2023-07-17  0.003466  0.005650 -0.006158  0.001418\n",
       "\n",
       "[1256 rows x 4 columns]"
      ]
     },
     "execution_count": 9,
     "metadata": {},
     "output_type": "execute_result"
    }
   ],
   "source": [
    "stock_log_returns"
   ]
  },
  {
   "cell_type": "code",
   "execution_count": 10,
   "id": "b56f5197",
   "metadata": {},
   "outputs": [],
   "source": [
    "weights=stock_log_returns.sub(average_log_return,axis=0)*-1.0\n",
    "absolute_weights=weights.abs()\n",
    "absolute_weights_sum=np.sum(absolute_weights,axis=1)\n",
    "adjusted_weights=weights.div(absolute_weights_sum,axis=0).dropna()#weights/absolute_weights_sum"
   ]
  },
  {
   "cell_type": "code",
   "execution_count": 11,
   "id": "b6b0886a",
   "metadata": {},
   "outputs": [
    {
     "data": {
      "text/html": [
       "<div>\n",
       "<style scoped>\n",
       "    .dataframe tbody tr th:only-of-type {\n",
       "        vertical-align: middle;\n",
       "    }\n",
       "\n",
       "    .dataframe tbody tr th {\n",
       "        vertical-align: top;\n",
       "    }\n",
       "\n",
       "    .dataframe thead th {\n",
       "        text-align: right;\n",
       "    }\n",
       "</style>\n",
       "<table border=\"1\" class=\"dataframe\">\n",
       "  <thead>\n",
       "    <tr style=\"text-align: right;\">\n",
       "      <th></th>\n",
       "      <th>SPY</th>\n",
       "      <th>META</th>\n",
       "      <th>GOOGL</th>\n",
       "      <th>MSFT</th>\n",
       "    </tr>\n",
       "    <tr>\n",
       "      <th>Date</th>\n",
       "      <th></th>\n",
       "      <th></th>\n",
       "      <th></th>\n",
       "      <th></th>\n",
       "    </tr>\n",
       "  </thead>\n",
       "  <tbody>\n",
       "    <tr>\n",
       "      <th>2018-07-20</th>\n",
       "      <td>0.252179</td>\n",
       "      <td>-0.095266</td>\n",
       "      <td>0.247821</td>\n",
       "      <td>-0.404734</td>\n",
       "    </tr>\n",
       "    <tr>\n",
       "      <th>2018-07-23</th>\n",
       "      <td>0.317801</td>\n",
       "      <td>0.182199</td>\n",
       "      <td>-0.127383</td>\n",
       "      <td>-0.372617</td>\n",
       "    </tr>\n",
       "    <tr>\n",
       "      <th>2018-07-24</th>\n",
       "      <td>0.176525</td>\n",
       "      <td>-0.058967</td>\n",
       "      <td>-0.441033</td>\n",
       "      <td>0.323475</td>\n",
       "    </tr>\n",
       "  </tbody>\n",
       "</table>\n",
       "</div>"
      ],
      "text/plain": [
       "                 SPY      META     GOOGL      MSFT\n",
       "Date                                              \n",
       "2018-07-20  0.252179 -0.095266  0.247821 -0.404734\n",
       "2018-07-23  0.317801  0.182199 -0.127383 -0.372617\n",
       "2018-07-24  0.176525 -0.058967 -0.441033  0.323475"
      ]
     },
     "execution_count": 11,
     "metadata": {},
     "output_type": "execute_result"
    }
   ],
   "source": [
    "adjusted_weights.head(3)#- values are shots sell"
   ]
  },
  {
   "cell_type": "code",
   "execution_count": 12,
   "id": "35a0dc27",
   "metadata": {},
   "outputs": [],
   "source": [
    "ptf_daily_returns=(adjusted_weights.shift(1)*stock_returns).dropna()"
   ]
  },
  {
   "cell_type": "code",
   "execution_count": 13,
   "id": "f2488d7a",
   "metadata": {},
   "outputs": [
    {
     "data": {
      "text/plain": [
       "<matplotlib.axes._subplots.AxesSubplot at 0x22b22ad7438>"
      ]
     },
     "execution_count": 13,
     "metadata": {},
     "output_type": "execute_result"
    },
    {
     "data": {
      "image/png": "[encoded data removed]",
      "text/plain": [
       "<Figure size 720x360 with 1 Axes>"
      ]
     },
     "metadata": {
      "needs_background": "light"
     },
     "output_type": "display_data"
    }
   ],
   "source": [
    "ptf_daily_returns.plot(figsize=(10,5))"
   ]
  },
  {
   "cell_type": "code",
   "execution_count": 14,
   "id": "e3dcd167",
   "metadata": {},
   "outputs": [
    {
     "data": {
      "text/plain": [
       "<matplotlib.axes._subplots.AxesSubplot at 0x22b22b57470>"
      ]
     },
     "execution_count": 14,
     "metadata": {},
     "output_type": "execute_result"
    },
    {
     "data": {
      "image/png": "[encoded data removed]",
      "text/plain": [
       "<Figure size 432x288 with 1 Axes>"
      ]
     },
     "metadata": {
      "needs_background": "light"
     },
     "output_type": "display_data"
    }
   ],
   "source": [
    "daily_strategy_returns=np.sum(ptf_daily_returns,axis=1)\n",
    "daily_strategy_returns.plot.hist(bins=100)"
   ]
  },
  {
   "cell_type": "code",
   "execution_count": 15,
   "id": "378b94fa",
   "metadata": {},
   "outputs": [
    {
     "data": {
      "text/plain": [
       "(0.00024394311117610832, 0.007456048882319016)"
      ]
     },
     "execution_count": 15,
     "metadata": {},
     "output_type": "execute_result"
    }
   ],
   "source": [
    "np.mean(daily_strategy_returns),daily_strategy_returns.std()"
   ]
  },
  {
   "cell_type": "code",
   "execution_count": 16,
   "id": "fbc07450",
   "metadata": {},
   "outputs": [
    {
     "data": {
      "text/plain": [
       "0.032717477450367245"
      ]
     },
     "execution_count": 16,
     "metadata": {},
     "output_type": "execute_result"
    }
   ],
   "source": [
    "np.mean(daily_strategy_returns)/daily_strategy_returns.std()"
   ]
  },
  {
   "cell_type": "code",
   "execution_count": 17,
   "id": "9d5a13e8",
   "metadata": {},
   "outputs": [
    {
     "data": {
      "text/plain": [
       "(0.0008113303788413604, 0.018005667006953902)"
      ]
     },
     "execution_count": 17,
     "metadata": {},
     "output_type": "execute_result"
    }
   ],
   "source": [
    "stock_returns.mean(1).mean(),stock_returns.mean(1).std()"
   ]
  },
  {
   "cell_type": "code",
   "execution_count": 18,
   "id": "697fe39a",
   "metadata": {},
   "outputs": [
    {
     "data": {
      "text/plain": [
       "0.04505972361523844"
      ]
     },
     "execution_count": 18,
     "metadata": {},
     "output_type": "execute_result"
    }
   ],
   "source": [
    "stock_returns.mean(1).mean()/stock_returns.mean(1).std()"
   ]
  },
  {
   "cell_type": "code",
   "execution_count": 19,
   "id": "fd47635a",
   "metadata": {},
   "outputs": [
    {
     "data": {
      "text/plain": [
       "<matplotlib.axes._subplots.AxesSubplot at 0x22b22c45cf8>"
      ]
     },
     "execution_count": 19,
     "metadata": {},
     "output_type": "execute_result"
    },
    {
     "data": {
      "image/png": "[encoded data removed]",
      "text/plain": [
       "<Figure size 878.4x460.8 with 1 Axes>"
      ]
     },
     "metadata": {
      "needs_background": "light"
     },
     "output_type": "display_data"
    }
   ],
   "source": [
    "daily_strategy_returns.cumsum().plot(figsize=(12.2,6.4),label='Hedge Strategy',legend=True)\n",
    "stock_returns.mean(1).cumsum().plot(figsize=(12.2,6.4),label='Protfolio Return',legend=True)"
   ]
  },
  {
   "cell_type": "code",
   "execution_count": null,
   "id": "efc63b92",
   "metadata": {},
   "outputs": [],
   "source": []
  }
 ],
 "metadata": {
  "kernelspec": {
   "display_name": "Python 3 (ipykernel)",
   "language": "python",
   "name": "python3"
  },
  "language_info": {
   "codemirror_mode": {
    "name": "ipython",
    "version": 3
   },
   "file_extension": ".py",
   "mimetype": "text/x-python",
   "name": "python",
   "nbconvert_exporter": "python",
   "pygments_lexer": "ipython3",
   "version": "3.7.3"
  }
 },
 "nbformat": 4,
 "nbformat_minor": 5
}

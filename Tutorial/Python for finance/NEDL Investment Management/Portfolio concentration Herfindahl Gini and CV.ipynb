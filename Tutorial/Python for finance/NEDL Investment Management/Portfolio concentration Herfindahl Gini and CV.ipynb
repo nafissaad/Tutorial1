{
 "cells": [
  {
   "cell_type": "code",
   "execution_count": 1,
   "metadata": {},
   "outputs": [],
   "source": [
    "import pandas as pd\n",
    "import matplotlib.pyplot as plt\n",
    "import numpy as np"
   ]
  },
  {
   "cell_type": "markdown",
   "metadata": {},
   "source": [
    "# Baks,Busse,and Green(2006)"
   ]
  },
  {
   "attachments": {
    "image-2.png": {
     "image/png": "[encoded data removed]"
    },
    "image-3.png": {
     "image/png": "[encoded data removed]"
    },
    "image-4.png": {
     "image/png": "[encoded data removed]"
    },
    "image-5.png": {
     "image/png": "[encoded data removed]"
    },
    "image.png": {
     "image/png": "[encoded data removed]"
    }
   },
   "cell_type": "markdown",
   "metadata": {},
   "source": [
    "![image.png](attachment:image.png)\n",
    "![image-2.png](attachment:image-2.png)\n",
    "![image-3.png](attachment:image-3.png)\n",
    "![image-4.png](attachment:image-4.png)\n",
    "![image-5.png](attachment:image-5.png)"
   ]
  },
  {
   "cell_type": "code",
   "execution_count": 2,
   "metadata": {
    "scrolled": false
   },
   "outputs": [
    {
     "data": {
      "text/html": [
       "<div>\n",
       "<style scoped>\n",
       "    .dataframe tbody tr th:only-of-type {\n",
       "        vertical-align: middle;\n",
       "    }\n",
       "\n",
       "    .dataframe tbody tr th {\n",
       "        vertical-align: top;\n",
       "    }\n",
       "\n",
       "    .dataframe thead th {\n",
       "        text-align: right;\n",
       "    }\n",
       "</style>\n",
       "<table border=\"1\" class=\"dataframe\">\n",
       "  <thead>\n",
       "    <tr style=\"text-align: right;\">\n",
       "      <th></th>\n",
       "      <th>JPM</th>\n",
       "      <th>WMT</th>\n",
       "      <th>MSFT</th>\n",
       "      <th>KO</th>\n",
       "      <th>PFE</th>\n",
       "      <th>CAT</th>\n",
       "    </tr>\n",
       "    <tr>\n",
       "      <th>Date</th>\n",
       "      <th></th>\n",
       "      <th></th>\n",
       "      <th></th>\n",
       "      <th></th>\n",
       "      <th></th>\n",
       "      <th></th>\n",
       "    </tr>\n",
       "  </thead>\n",
       "  <tbody>\n",
       "    <tr>\n",
       "      <th>2011-11-14</th>\n",
       "      <td>24.705299</td>\n",
       "      <td>46.650124</td>\n",
       "      <td>21.537199</td>\n",
       "      <td>24.791821</td>\n",
       "      <td>13.043631</td>\n",
       "      <td>72.89994</td>\n",
       "    </tr>\n",
       "    <tr>\n",
       "      <th>2011-11-15</th>\n",
       "      <td>24.819157</td>\n",
       "      <td>45.517323</td>\n",
       "      <td>21.683163</td>\n",
       "      <td>24.868612</td>\n",
       "      <td>13.096357</td>\n",
       "      <td>73.307755</td>\n",
       "    </tr>\n",
       "    <tr>\n",
       "      <th>2011-11-16</th>\n",
       "      <td>23.885593</td>\n",
       "      <td>44.899456</td>\n",
       "      <td>21.139864</td>\n",
       "      <td>24.506557</td>\n",
       "      <td>12.898625</td>\n",
       "      <td>72.310883</td>\n",
       "    </tr>\n",
       "    <tr>\n",
       "      <th>2011-11-17</th>\n",
       "      <td>23.141773</td>\n",
       "      <td>44.939053</td>\n",
       "      <td>20.710085</td>\n",
       "      <td>24.36393</td>\n",
       "      <td>12.832716</td>\n",
       "      <td>70.845764</td>\n",
       "    </tr>\n",
       "    <tr>\n",
       "      <th>2011-11-18</th>\n",
       "      <td>23.24044</td>\n",
       "      <td>45.335125</td>\n",
       "      <td>20.515478</td>\n",
       "      <td>24.645535</td>\n",
       "      <td>12.872263</td>\n",
       "      <td>70.936417</td>\n",
       "    </tr>\n",
       "    <tr>\n",
       "      <th>...</th>\n",
       "      <td>...</td>\n",
       "      <td>...</td>\n",
       "      <td>...</td>\n",
       "      <td>...</td>\n",
       "      <td>...</td>\n",
       "      <td>...</td>\n",
       "    </tr>\n",
       "    <tr>\n",
       "      <th>2021-11-08</th>\n",
       "      <td>169.059998</td>\n",
       "      <td>149.270004</td>\n",
       "      <td>336.98999</td>\n",
       "      <td>56.330002</td>\n",
       "      <td>48.330002</td>\n",
       "      <td>214.25</td>\n",
       "    </tr>\n",
       "    <tr>\n",
       "      <th>2021-11-09</th>\n",
       "      <td>167.779999</td>\n",
       "      <td>149.789993</td>\n",
       "      <td>335.950012</td>\n",
       "      <td>56.490002</td>\n",
       "      <td>47.299999</td>\n",
       "      <td>209.809998</td>\n",
       "    </tr>\n",
       "    <tr>\n",
       "      <th>2021-11-10</th>\n",
       "      <td>167.619995</td>\n",
       "      <td>148.440002</td>\n",
       "      <td>330.799988</td>\n",
       "      <td>56.720001</td>\n",
       "      <td>49.02</td>\n",
       "      <td>206.669998</td>\n",
       "    </tr>\n",
       "    <tr>\n",
       "      <th>2021-11-11</th>\n",
       "      <td>167.610001</td>\n",
       "      <td>148.5</td>\n",
       "      <td>332.429993</td>\n",
       "      <td>56.740002</td>\n",
       "      <td>50.18</td>\n",
       "      <td>208.529999</td>\n",
       "    </tr>\n",
       "    <tr>\n",
       "      <th>2021-11-12</th>\n",
       "      <td>166.860001</td>\n",
       "      <td>147.759995</td>\n",
       "      <td>336.720001</td>\n",
       "      <td>56.610001</td>\n",
       "      <td>49.73</td>\n",
       "      <td>209.270004</td>\n",
       "    </tr>\n",
       "  </tbody>\n",
       "</table>\n",
       "<p>2517 rows × 6 columns</p>\n",
       "</div>"
      ],
      "text/plain": [
       "                   JPM         WMT        MSFT         KO        PFE  \\\n",
       "Date                                                                   \n",
       "2011-11-14   24.705299   46.650124   21.537199  24.791821  13.043631   \n",
       "2011-11-15   24.819157   45.517323   21.683163  24.868612  13.096357   \n",
       "2011-11-16   23.885593   44.899456   21.139864  24.506557  12.898625   \n",
       "2011-11-17   23.141773   44.939053   20.710085   24.36393  12.832716   \n",
       "2011-11-18    23.24044   45.335125   20.515478  24.645535  12.872263   \n",
       "...                ...         ...         ...        ...        ...   \n",
       "2021-11-08  169.059998  149.270004   336.98999  56.330002  48.330002   \n",
       "2021-11-09  167.779999  149.789993  335.950012  56.490002  47.299999   \n",
       "2021-11-10  167.619995  148.440002  330.799988  56.720001      49.02   \n",
       "2021-11-11  167.610001       148.5  332.429993  56.740002      50.18   \n",
       "2021-11-12  166.860001  147.759995  336.720001  56.610001      49.73   \n",
       "\n",
       "                   CAT  \n",
       "Date                    \n",
       "2011-11-14    72.89994  \n",
       "2011-11-15   73.307755  \n",
       "2011-11-16   72.310883  \n",
       "2011-11-17   70.845764  \n",
       "2011-11-18   70.936417  \n",
       "...                ...  \n",
       "2021-11-08      214.25  \n",
       "2021-11-09  209.809998  \n",
       "2021-11-10  206.669998  \n",
       "2021-11-11  208.529999  \n",
       "2021-11-12  209.270004  \n",
       "\n",
       "[2517 rows x 6 columns]"
      ]
     },
     "execution_count": 2,
     "metadata": {},
     "output_type": "execute_result"
    }
   ],
   "source": [
    "df=pd.read_excel('C:\\\\Users\\\\nafissaad\\\\Tutorial\\\\Fundamental analysis\\\\Technical analysis\\\\NEDL_Portfolio_Concentration.xlsx',index_col='Date')\n",
    "df=df.rename(columns=df.iloc[0])\n",
    "df=df[1:]\n",
    "df=df.iloc[:,0:6]\n",
    "df"
   ]
  },
  {
   "cell_type": "code",
   "execution_count": 3,
   "metadata": {},
   "outputs": [
    {
     "data": {
      "text/html": [
       "<div>\n",
       "<style scoped>\n",
       "    .dataframe tbody tr th:only-of-type {\n",
       "        vertical-align: middle;\n",
       "    }\n",
       "\n",
       "    .dataframe tbody tr th {\n",
       "        vertical-align: top;\n",
       "    }\n",
       "\n",
       "    .dataframe thead tr th {\n",
       "        text-align: left;\n",
       "    }\n",
       "</style>\n",
       "<table border=\"1\" class=\"dataframe\">\n",
       "  <thead>\n",
       "    <tr>\n",
       "      <th></th>\n",
       "      <th>JPM</th>\n",
       "      <th>WMT</th>\n",
       "      <th>MSFT</th>\n",
       "      <th>KO</th>\n",
       "      <th>PFE</th>\n",
       "      <th>CAT</th>\n",
       "    </tr>\n",
       "  </thead>\n",
       "  <tbody>\n",
       "    <tr>\n",
       "      <th>Return</th>\n",
       "      <td>NaN</td>\n",
       "      <td>NaN</td>\n",
       "      <td>NaN</td>\n",
       "      <td>NaN</td>\n",
       "      <td>NaN</td>\n",
       "      <td>NaN</td>\n",
       "    </tr>\n",
       "    <tr>\n",
       "      <th>Weights</th>\n",
       "      <td>NaN</td>\n",
       "      <td>NaN</td>\n",
       "      <td>NaN</td>\n",
       "      <td>NaN</td>\n",
       "      <td>NaN</td>\n",
       "      <td>NaN</td>\n",
       "    </tr>\n",
       "  </tbody>\n",
       "</table>\n",
       "</div>"
      ],
      "text/plain": [
       "         JPM  WMT MSFT   KO  PFE  CAT\n",
       "Return   NaN  NaN  NaN  NaN  NaN  NaN\n",
       "Weights  NaN  NaN  NaN  NaN  NaN  NaN"
      ]
     },
     "execution_count": 3,
     "metadata": {},
     "output_type": "execute_result"
    }
   ],
   "source": [
    "Matrix=pd.DataFrame(columns=[df.columns],index=['Return','Weights'])\n",
    "Matrix"
   ]
  },
  {
   "cell_type": "code",
   "execution_count": 4,
   "metadata": {},
   "outputs": [
    {
     "data": {
      "text/html": [
       "<div>\n",
       "<style scoped>\n",
       "    .dataframe tbody tr th:only-of-type {\n",
       "        vertical-align: middle;\n",
       "    }\n",
       "\n",
       "    .dataframe tbody tr th {\n",
       "        vertical-align: top;\n",
       "    }\n",
       "\n",
       "    .dataframe thead tr th {\n",
       "        text-align: left;\n",
       "    }\n",
       "</style>\n",
       "<table border=\"1\" class=\"dataframe\">\n",
       "  <thead>\n",
       "    <tr>\n",
       "      <th></th>\n",
       "      <th>JPM</th>\n",
       "      <th>WMT</th>\n",
       "      <th>MSFT</th>\n",
       "      <th>KO</th>\n",
       "      <th>PFE</th>\n",
       "      <th>CAT</th>\n",
       "    </tr>\n",
       "  </thead>\n",
       "  <tbody>\n",
       "    <tr>\n",
       "      <th>Return</th>\n",
       "      <td>0.210476</td>\n",
       "      <td>0.1222</td>\n",
       "      <td>0.316461</td>\n",
       "      <td>0.086072</td>\n",
       "      <td>0.143199</td>\n",
       "      <td>0.111215</td>\n",
       "    </tr>\n",
       "    <tr>\n",
       "      <th>Weights</th>\n",
       "      <td>0.1885</td>\n",
       "      <td>0.1462</td>\n",
       "      <td>0.2394</td>\n",
       "      <td>0.1288</td>\n",
       "      <td>0.1562</td>\n",
       "      <td>0.1409</td>\n",
       "    </tr>\n",
       "  </tbody>\n",
       "</table>\n",
       "</div>"
      ],
      "text/plain": [
       "              JPM     WMT      MSFT        KO       PFE       CAT\n",
       "Return   0.210476  0.1222  0.316461  0.086072  0.143199  0.111215\n",
       "Weights    0.1885  0.1462    0.2394    0.1288    0.1562    0.1409"
      ]
     },
     "execution_count": 4,
     "metadata": {},
     "output_type": "execute_result"
    }
   ],
   "source": [
    "for i in df.columns:\n",
    "    Matrix.loc['Return',i]=(df[i][-1]/df[i][0])**(1/10)-1\n",
    "Matrix.loc['Weights']=[0.1885,0.1462,0.2394,0.1288,0.1562,0.1409]#1/6\n",
    "Matrix"
   ]
  },
  {
   "cell_type": "code",
   "execution_count": 5,
   "metadata": {},
   "outputs": [
    {
     "data": {
      "text/plain": [
       "1.0"
      ]
     },
     "execution_count": 5,
     "metadata": {},
     "output_type": "execute_result"
    }
   ],
   "source": [
    "number_of_stocks=6\n",
    "sum_of_Weights=Matrix.loc['Weights'].sum()\n",
    "sum_of_Weights"
   ]
  },
  {
   "cell_type": "code",
   "execution_count": 6,
   "metadata": {},
   "outputs": [
    {
     "data": {
      "text/plain": [
       "0.18242510729523007"
      ]
     },
     "execution_count": 6,
     "metadata": {},
     "output_type": "execute_result"
    }
   ],
   "source": [
    "portfolio_returns=Matrix.loc['Return'].values.dot(Matrix.loc['Weights'].values)\n",
    "portfolio_returns"
   ]
  },
  {
   "cell_type": "code",
   "execution_count": 7,
   "metadata": {},
   "outputs": [
    {
     "data": {
      "text/plain": [
       "(0.17505974, 0.0, 0.24582540145395881, 0.17367890840695305)"
      ]
     },
     "execution_count": 7,
     "metadata": {},
     "output_type": "execute_result"
    }
   ],
   "source": [
    "Herfindahl_index=sum(Matrix.loc['Weights']**2)\n",
    "Normalized_Herfindahl=round((Herfindahl_index-1/number_of_stocks)/(1-1/number_of_stocks),1)\n",
    "Coefficient_of_variation=Matrix.loc['Weights'].std()/(1/number_of_stocks)\n",
    "Herfindahl_ratio=portfolio_returns/(number_of_stocks*Herfindahl_index)\n",
    "Herfindahl_index,Normalized_Herfindahl,Coefficient_of_variation,Herfindahl_ratio"
   ]
  },
  {
   "cell_type": "code",
   "execution_count": 8,
   "metadata": {},
   "outputs": [
    {
     "data": {
      "text/plain": [
       "(array([0.17365239, 0.16618393, 0.13659756, ..., 0.17555421, 0.17939707,\n",
       "        0.16647424]),\n",
       " array([0.14374651, 0.14522753, 0.141155  , ..., 0.1344571 , 0.16350705,\n",
       "        0.14603172]),\n",
       " array([[0.02200068, 0.2136237 , 0.27496313, 0.20249401, 0.20519958,\n",
       "         0.08171889],\n",
       "        [0.04234299, 0.28105905, 0.240002  , 0.21514036, 0.11969355,\n",
       "         0.10176204],\n",
       "        [0.18346571, 0.21781659, 0.04884569, 0.25866751, 0.03930742,\n",
       "         0.25189707],\n",
       "        ...,\n",
       "        [0.30584807, 0.29159617, 0.13681192, 0.07699416, 0.14484934,\n",
       "         0.04390033],\n",
       "        [0.21058146, 0.09094731, 0.23595784, 0.21214113, 0.09958105,\n",
       "         0.15079121],\n",
       "        [0.17196256, 0.00467182, 0.19026654, 0.2840105 , 0.1947298 ,\n",
       "         0.15435877]]))"
      ]
     },
     "execution_count": 8,
     "metadata": {},
     "output_type": "execute_result"
    }
   ],
   "source": [
    "p_ret = []#Return list of our random portfolio\n",
    "Herfindahl_ratio =[]#Herfindahl_ratios\n",
    "p_sr1=[]\n",
    "p_wt = []#weights\n",
    "\n",
    "for x in range(600000):\n",
    "    p_weights=np.random.random(len(df.columns))\n",
    "    p_weights/=np.sum(p_weights)\n",
    "    ret_1=Matrix.loc['Return'].values.dot(p_weights)\n",
    "    p_ret.append(ret_1)\n",
    "    Herfindahl_index=sum(p_weights**2)\n",
    "    Herfindahl_ratio1=portfolio_returns/(number_of_stocks*Herfindahl_index)\n",
    "    Herfindahl_ratio.append(Herfindahl_ratio1)\n",
    "    p_wt.append(p_weights)\n",
    "p_ret = np.array(p_ret)\n",
    "Herfindahl_ratios = np.array(Herfindahl_ratio)\n",
    "p_wt = np.array(p_wt)\n",
    "\n",
    "p_ret,Herfindahl_ratios,p_wt"
   ]
  },
  {
   "cell_type": "code",
   "execution_count": 9,
   "metadata": {},
   "outputs": [
    {
     "data": {
      "text/plain": [
       "100235"
      ]
     },
     "execution_count": 9,
     "metadata": {},
     "output_type": "execute_result"
    }
   ],
   "source": [
    "np.argmax(Herfindahl_ratios)"
   ]
  },
  {
   "cell_type": "code",
   "execution_count": 10,
   "metadata": {},
   "outputs": [
    {
     "data": {
      "text/plain": [
       "array([0.16592785, 0.17176453, 0.1701855 , 0.16513601, 0.16010262,\n",
       "       0.16688349])"
      ]
     },
     "execution_count": 10,
     "metadata": {},
     "output_type": "execute_result"
    }
   ],
   "source": [
    "p_wt[np.argmax(Herfindahl_ratios)]"
   ]
  },
  {
   "cell_type": "code",
   "execution_count": 11,
   "metadata": {},
   "outputs": [
    {
     "data": {
      "text/plain": [
       "0.16547062043748326"
      ]
     },
     "execution_count": 11,
     "metadata": {},
     "output_type": "execute_result"
    }
   ],
   "source": [
    "p_ret[np.argmax(Herfindahl_ratios)]"
   ]
  },
  {
   "cell_type": "code",
   "execution_count": 12,
   "metadata": {},
   "outputs": [
    {
     "data": {
      "text/plain": [
       "0.18233278170521916"
      ]
     },
     "execution_count": 12,
     "metadata": {},
     "output_type": "execute_result"
    }
   ],
   "source": [
    "Herfindahl_ratios[np.argmax(Herfindahl_ratios)]"
   ]
  }
 ],
 "metadata": {
  "kernelspec": {
   "display_name": "Python 3 (ipykernel)",
   "language": "python",
   "name": "python3"
  },
  "language_info": {
   "codemirror_mode": {
    "name": "ipython",
    "version": 3
   },
   "file_extension": ".py",
   "mimetype": "text/x-python",
   "name": "python",
   "nbconvert_exporter": "python",
   "pygments_lexer": "ipython3",
   "version": "3.7.3"
  }
 },
 "nbformat": 4,
 "nbformat_minor": 2
}

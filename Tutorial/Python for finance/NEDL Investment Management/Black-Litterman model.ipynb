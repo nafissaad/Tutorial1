{
 "cells": [
  {
   "cell_type": "code",
   "execution_count": 1,
   "id": "3970c857",
   "metadata": {},
   "outputs": [],
   "source": [
    "import pandas as pd \n",
    "import numpy as np\n",
    "import scipy.stats"
   ]
  },
  {
   "cell_type": "code",
   "execution_count": 2,
   "id": "ec558fef",
   "metadata": {},
   "outputs": [
    {
     "data": {
      "text/html": [
       "<div>\n",
       "<style scoped>\n",
       "    .dataframe tbody tr th:only-of-type {\n",
       "        vertical-align: middle;\n",
       "    }\n",
       "\n",
       "    .dataframe tbody tr th {\n",
       "        vertical-align: top;\n",
       "    }\n",
       "\n",
       "    .dataframe thead th {\n",
       "        text-align: right;\n",
       "    }\n",
       "</style>\n",
       "<table border=\"1\" class=\"dataframe\">\n",
       "  <thead>\n",
       "    <tr style=\"text-align: right;\">\n",
       "      <th></th>\n",
       "      <th>JNJ</th>\n",
       "      <th>JPM</th>\n",
       "      <th>ORCL</th>\n",
       "      <th>VLO</th>\n",
       "      <th>WMT</th>\n",
       "      <th>SPX</th>\n",
       "    </tr>\n",
       "    <tr>\n",
       "      <th>Date</th>\n",
       "      <th></th>\n",
       "      <th></th>\n",
       "      <th></th>\n",
       "      <th></th>\n",
       "      <th></th>\n",
       "      <th></th>\n",
       "    </tr>\n",
       "  </thead>\n",
       "  <tbody>\n",
       "    <tr>\n",
       "      <th>2011-12-30</th>\n",
       "      <td>49.120182</td>\n",
       "      <td>25.086231</td>\n",
       "      <td>22.122772</td>\n",
       "      <td>13.154429</td>\n",
       "      <td>47.016327</td>\n",
       "      <td>1257.599976</td>\n",
       "    </tr>\n",
       "    <tr>\n",
       "      <th>2012-01-03</th>\n",
       "      <td>49.344910</td>\n",
       "      <td>26.391470</td>\n",
       "      <td>22.303892</td>\n",
       "      <td>13.079441</td>\n",
       "      <td>47.464783</td>\n",
       "      <td>1277.060059</td>\n",
       "    </tr>\n",
       "    <tr>\n",
       "      <th>2012-01-04</th>\n",
       "      <td>49.045303</td>\n",
       "      <td>26.558643</td>\n",
       "      <td>22.433270</td>\n",
       "      <td>12.760736</td>\n",
       "      <td>46.976990</td>\n",
       "      <td>1277.300049</td>\n",
       "    </tr>\n",
       "    <tr>\n",
       "      <th>2012-01-05</th>\n",
       "      <td>48.985371</td>\n",
       "      <td>27.113382</td>\n",
       "      <td>22.933504</td>\n",
       "      <td>12.379538</td>\n",
       "      <td>46.748825</td>\n",
       "      <td>1281.060059</td>\n",
       "    </tr>\n",
       "    <tr>\n",
       "      <th>2012-01-06</th>\n",
       "      <td>48.558437</td>\n",
       "      <td>26.870209</td>\n",
       "      <td>23.226753</td>\n",
       "      <td>12.729487</td>\n",
       "      <td>46.418404</td>\n",
       "      <td>1277.810059</td>\n",
       "    </tr>\n",
       "    <tr>\n",
       "      <th>...</th>\n",
       "      <td>...</td>\n",
       "      <td>...</td>\n",
       "      <td>...</td>\n",
       "      <td>...</td>\n",
       "      <td>...</td>\n",
       "      <td>...</td>\n",
       "    </tr>\n",
       "    <tr>\n",
       "      <th>2021-12-27</th>\n",
       "      <td>168.587799</td>\n",
       "      <td>157.217621</td>\n",
       "      <td>89.208603</td>\n",
       "      <td>72.301956</td>\n",
       "      <td>140.217682</td>\n",
       "      <td>4791.189941</td>\n",
       "    </tr>\n",
       "    <tr>\n",
       "      <th>2021-12-28</th>\n",
       "      <td>169.263474</td>\n",
       "      <td>157.694748</td>\n",
       "      <td>88.321892</td>\n",
       "      <td>73.656441</td>\n",
       "      <td>142.229904</td>\n",
       "      <td>4786.350098</td>\n",
       "    </tr>\n",
       "    <tr>\n",
       "      <th>2021-12-29</th>\n",
       "      <td>170.455811</td>\n",
       "      <td>157.615234</td>\n",
       "      <td>87.883522</td>\n",
       "      <td>73.804749</td>\n",
       "      <td>142.160172</td>\n",
       "      <td>4793.060059</td>\n",
       "    </tr>\n",
       "    <tr>\n",
       "      <th>2021-12-30</th>\n",
       "      <td>171.210968</td>\n",
       "      <td>157.535706</td>\n",
       "      <td>87.684265</td>\n",
       "      <td>73.438934</td>\n",
       "      <td>142.618393</td>\n",
       "      <td>4778.729980</td>\n",
       "    </tr>\n",
       "    <tr>\n",
       "      <th>2021-12-31</th>\n",
       "      <td>169.978882</td>\n",
       "      <td>157.406494</td>\n",
       "      <td>86.887222</td>\n",
       "      <td>74.259537</td>\n",
       "      <td>144.132538</td>\n",
       "      <td>4766.180176</td>\n",
       "    </tr>\n",
       "  </tbody>\n",
       "</table>\n",
       "<p>2518 rows × 6 columns</p>\n",
       "</div>"
      ],
      "text/plain": [
       "                   JNJ         JPM       ORCL        VLO         WMT  \\\n",
       "Date                                                                   \n",
       "2011-12-30   49.120182   25.086231  22.122772  13.154429   47.016327   \n",
       "2012-01-03   49.344910   26.391470  22.303892  13.079441   47.464783   \n",
       "2012-01-04   49.045303   26.558643  22.433270  12.760736   46.976990   \n",
       "2012-01-05   48.985371   27.113382  22.933504  12.379538   46.748825   \n",
       "2012-01-06   48.558437   26.870209  23.226753  12.729487   46.418404   \n",
       "...                ...         ...        ...        ...         ...   \n",
       "2021-12-27  168.587799  157.217621  89.208603  72.301956  140.217682   \n",
       "2021-12-28  169.263474  157.694748  88.321892  73.656441  142.229904   \n",
       "2021-12-29  170.455811  157.615234  87.883522  73.804749  142.160172   \n",
       "2021-12-30  171.210968  157.535706  87.684265  73.438934  142.618393   \n",
       "2021-12-31  169.978882  157.406494  86.887222  74.259537  144.132538   \n",
       "\n",
       "                    SPX  \n",
       "Date                     \n",
       "2011-12-30  1257.599976  \n",
       "2012-01-03  1277.060059  \n",
       "2012-01-04  1277.300049  \n",
       "2012-01-05  1281.060059  \n",
       "2012-01-06  1277.810059  \n",
       "...                 ...  \n",
       "2021-12-27  4791.189941  \n",
       "2021-12-28  4786.350098  \n",
       "2021-12-29  4793.060059  \n",
       "2021-12-30  4778.729980  \n",
       "2021-12-31  4766.180176  \n",
       "\n",
       "[2518 rows x 6 columns]"
      ]
     },
     "execution_count": 2,
     "metadata": {},
     "output_type": "execute_result"
    }
   ],
   "source": [
    "df=pd.read_excel('C:\\\\Users\\\\nafissaad\\\\Downloads\\\\Spreadsheets-20231017T124722Z-001\\\\Spreadsheets\\\\NEDL_Black_Litterman.xlsx',index_col='Date')[['JNJ','JPM','ORCL','VLO','WMT','SPX']]\n",
    "df"
   ]
  },
  {
   "cell_type": "code",
   "execution_count": 3,
   "id": "a5d8323c",
   "metadata": {
    "scrolled": true
   },
   "outputs": [
    {
     "name": "stdout",
     "output_type": "stream",
     "text": [
      "<class 'pandas.core.frame.DataFrame'>\n",
      "DatetimeIndex: 2518 entries, 2011-12-30 to 2021-12-31\n",
      "Data columns (total 6 columns):\n",
      " #   Column  Non-Null Count  Dtype  \n",
      "---  ------  --------------  -----  \n",
      " 0   JNJ     2518 non-null   float64\n",
      " 1   JPM     2518 non-null   float64\n",
      " 2   ORCL    2518 non-null   float64\n",
      " 3   VLO     2518 non-null   float64\n",
      " 4   WMT     2518 non-null   float64\n",
      " 5   SPX     2518 non-null   float64\n",
      "dtypes: float64(6)\n",
      "memory usage: 137.7 KB\n"
     ]
    }
   ],
   "source": [
    "df.info()"
   ]
  },
  {
   "cell_type": "code",
   "execution_count": 4,
   "id": "77c202b6",
   "metadata": {},
   "outputs": [
    {
     "data": {
      "text/html": [
       "<div>\n",
       "<style scoped>\n",
       "    .dataframe tbody tr th:only-of-type {\n",
       "        vertical-align: middle;\n",
       "    }\n",
       "\n",
       "    .dataframe tbody tr th {\n",
       "        vertical-align: top;\n",
       "    }\n",
       "\n",
       "    .dataframe thead th {\n",
       "        text-align: right;\n",
       "    }\n",
       "</style>\n",
       "<table border=\"1\" class=\"dataframe\">\n",
       "  <thead>\n",
       "    <tr style=\"text-align: right;\">\n",
       "      <th></th>\n",
       "      <th>JNJ</th>\n",
       "      <th>JPM</th>\n",
       "      <th>ORCL</th>\n",
       "      <th>VLO</th>\n",
       "      <th>WMT</th>\n",
       "      <th>SPX</th>\n",
       "    </tr>\n",
       "    <tr>\n",
       "      <th>Date</th>\n",
       "      <th></th>\n",
       "      <th></th>\n",
       "      <th></th>\n",
       "      <th></th>\n",
       "      <th></th>\n",
       "      <th></th>\n",
       "    </tr>\n",
       "  </thead>\n",
       "  <tbody>\n",
       "    <tr>\n",
       "      <th>2012-01-03</th>\n",
       "      <td>0.004575</td>\n",
       "      <td>0.052030</td>\n",
       "      <td>0.008187</td>\n",
       "      <td>-0.005701</td>\n",
       "      <td>0.009538</td>\n",
       "      <td>0.015474</td>\n",
       "    </tr>\n",
       "    <tr>\n",
       "      <th>2012-01-04</th>\n",
       "      <td>-0.006072</td>\n",
       "      <td>0.006334</td>\n",
       "      <td>0.005801</td>\n",
       "      <td>-0.024367</td>\n",
       "      <td>-0.010277</td>\n",
       "      <td>0.000188</td>\n",
       "    </tr>\n",
       "    <tr>\n",
       "      <th>2012-01-05</th>\n",
       "      <td>-0.001222</td>\n",
       "      <td>0.020887</td>\n",
       "      <td>0.022299</td>\n",
       "      <td>-0.029873</td>\n",
       "      <td>-0.004857</td>\n",
       "      <td>0.002944</td>\n",
       "    </tr>\n",
       "    <tr>\n",
       "      <th>2012-01-06</th>\n",
       "      <td>-0.008716</td>\n",
       "      <td>-0.008969</td>\n",
       "      <td>0.012787</td>\n",
       "      <td>0.028268</td>\n",
       "      <td>-0.007068</td>\n",
       "      <td>-0.002537</td>\n",
       "    </tr>\n",
       "    <tr>\n",
       "      <th>2012-01-09</th>\n",
       "      <td>0.001542</td>\n",
       "      <td>-0.001697</td>\n",
       "      <td>0.005955</td>\n",
       "      <td>-0.037310</td>\n",
       "      <td>0.003051</td>\n",
       "      <td>0.002262</td>\n",
       "    </tr>\n",
       "    <tr>\n",
       "      <th>...</th>\n",
       "      <td>...</td>\n",
       "      <td>...</td>\n",
       "      <td>...</td>\n",
       "      <td>...</td>\n",
       "      <td>...</td>\n",
       "      <td>...</td>\n",
       "    </tr>\n",
       "    <tr>\n",
       "      <th>2021-12-27</th>\n",
       "      <td>0.008440</td>\n",
       "      <td>0.005723</td>\n",
       "      <td>-0.002006</td>\n",
       "      <td>0.019518</td>\n",
       "      <td>0.009105</td>\n",
       "      <td>0.013839</td>\n",
       "    </tr>\n",
       "    <tr>\n",
       "      <th>2021-12-28</th>\n",
       "      <td>0.004008</td>\n",
       "      <td>0.003035</td>\n",
       "      <td>-0.009940</td>\n",
       "      <td>0.018734</td>\n",
       "      <td>0.014351</td>\n",
       "      <td>-0.001010</td>\n",
       "    </tr>\n",
       "    <tr>\n",
       "      <th>2021-12-29</th>\n",
       "      <td>0.007044</td>\n",
       "      <td>-0.000504</td>\n",
       "      <td>-0.004963</td>\n",
       "      <td>0.002014</td>\n",
       "      <td>-0.000490</td>\n",
       "      <td>0.001402</td>\n",
       "    </tr>\n",
       "    <tr>\n",
       "      <th>2021-12-30</th>\n",
       "      <td>0.004430</td>\n",
       "      <td>-0.000505</td>\n",
       "      <td>-0.002267</td>\n",
       "      <td>-0.004957</td>\n",
       "      <td>0.003223</td>\n",
       "      <td>-0.002990</td>\n",
       "    </tr>\n",
       "    <tr>\n",
       "      <th>2021-12-31</th>\n",
       "      <td>-0.007196</td>\n",
       "      <td>-0.000820</td>\n",
       "      <td>-0.009090</td>\n",
       "      <td>0.011174</td>\n",
       "      <td>0.010617</td>\n",
       "      <td>-0.002626</td>\n",
       "    </tr>\n",
       "  </tbody>\n",
       "</table>\n",
       "<p>2517 rows × 6 columns</p>\n",
       "</div>"
      ],
      "text/plain": [
       "                 JNJ       JPM      ORCL       VLO       WMT       SPX\n",
       "Date                                                                  \n",
       "2012-01-03  0.004575  0.052030  0.008187 -0.005701  0.009538  0.015474\n",
       "2012-01-04 -0.006072  0.006334  0.005801 -0.024367 -0.010277  0.000188\n",
       "2012-01-05 -0.001222  0.020887  0.022299 -0.029873 -0.004857  0.002944\n",
       "2012-01-06 -0.008716 -0.008969  0.012787  0.028268 -0.007068 -0.002537\n",
       "2012-01-09  0.001542 -0.001697  0.005955 -0.037310  0.003051  0.002262\n",
       "...              ...       ...       ...       ...       ...       ...\n",
       "2021-12-27  0.008440  0.005723 -0.002006  0.019518  0.009105  0.013839\n",
       "2021-12-28  0.004008  0.003035 -0.009940  0.018734  0.014351 -0.001010\n",
       "2021-12-29  0.007044 -0.000504 -0.004963  0.002014 -0.000490  0.001402\n",
       "2021-12-30  0.004430 -0.000505 -0.002267 -0.004957  0.003223 -0.002990\n",
       "2021-12-31 -0.007196 -0.000820 -0.009090  0.011174  0.010617 -0.002626\n",
       "\n",
       "[2517 rows x 6 columns]"
      ]
     },
     "execution_count": 4,
     "metadata": {},
     "output_type": "execute_result"
    }
   ],
   "source": [
    "returns=df.pct_change().dropna()\n",
    "returns"
   ]
  },
  {
   "cell_type": "code",
   "execution_count": 5,
   "id": "8ed90b9d",
   "metadata": {},
   "outputs": [
    {
     "data": {
      "text/html": [
       "<div>\n",
       "<style scoped>\n",
       "    .dataframe tbody tr th:only-of-type {\n",
       "        vertical-align: middle;\n",
       "    }\n",
       "\n",
       "    .dataframe tbody tr th {\n",
       "        vertical-align: top;\n",
       "    }\n",
       "\n",
       "    .dataframe thead th {\n",
       "        text-align: right;\n",
       "    }\n",
       "</style>\n",
       "<table border=\"1\" class=\"dataframe\">\n",
       "  <thead>\n",
       "    <tr style=\"text-align: right;\">\n",
       "      <th></th>\n",
       "      <th>JNJ</th>\n",
       "      <th>JPM</th>\n",
       "      <th>ORCL</th>\n",
       "      <th>VLO</th>\n",
       "      <th>WMT</th>\n",
       "      <th>SPX</th>\n",
       "    </tr>\n",
       "  </thead>\n",
       "  <tbody>\n",
       "    <tr>\n",
       "      <th>Return</th>\n",
       "      <td>NaN</td>\n",
       "      <td>NaN</td>\n",
       "      <td>NaN</td>\n",
       "      <td>NaN</td>\n",
       "      <td>NaN</td>\n",
       "      <td>NaN</td>\n",
       "    </tr>\n",
       "    <tr>\n",
       "      <th>Beta</th>\n",
       "      <td>NaN</td>\n",
       "      <td>NaN</td>\n",
       "      <td>NaN</td>\n",
       "      <td>NaN</td>\n",
       "      <td>NaN</td>\n",
       "      <td>NaN</td>\n",
       "    </tr>\n",
       "    <tr>\n",
       "      <th>CAPM</th>\n",
       "      <td>NaN</td>\n",
       "      <td>NaN</td>\n",
       "      <td>NaN</td>\n",
       "      <td>NaN</td>\n",
       "      <td>NaN</td>\n",
       "      <td>NaN</td>\n",
       "    </tr>\n",
       "  </tbody>\n",
       "</table>\n",
       "</div>"
      ],
      "text/plain": [
       "        JNJ  JPM ORCL  VLO  WMT  SPX\n",
       "Return  NaN  NaN  NaN  NaN  NaN  NaN\n",
       "Beta    NaN  NaN  NaN  NaN  NaN  NaN\n",
       "CAPM    NaN  NaN  NaN  NaN  NaN  NaN"
      ]
     },
     "execution_count": 5,
     "metadata": {},
     "output_type": "execute_result"
    }
   ],
   "source": [
    "matrix=pd.DataFrame(columns=['JNJ','JPM','ORCL','VLO','WMT','SPX'],index=['Return','Beta','CAPM'])\n",
    "matrix"
   ]
  },
  {
   "cell_type": "code",
   "execution_count": 6,
   "id": "1dc1f99f",
   "metadata": {},
   "outputs": [
    {
     "data": {
      "text/plain": [
       "0.6082937748433147"
      ]
     },
     "execution_count": 6,
     "metadata": {},
     "output_type": "execute_result"
    }
   ],
   "source": [
    "from scipy.stats import linregress\n",
    "linregress((returns['JNJ']),np.array(returns['SPX']))[0]"
   ]
  },
  {
   "cell_type": "code",
   "execution_count": 7,
   "id": "c4cfbdef",
   "metadata": {},
   "outputs": [
    {
     "data": {
      "text/html": [
       "<div>\n",
       "<style scoped>\n",
       "    .dataframe tbody tr th:only-of-type {\n",
       "        vertical-align: middle;\n",
       "    }\n",
       "\n",
       "    .dataframe tbody tr th {\n",
       "        vertical-align: top;\n",
       "    }\n",
       "\n",
       "    .dataframe thead th {\n",
       "        text-align: right;\n",
       "    }\n",
       "</style>\n",
       "<table border=\"1\" class=\"dataframe\">\n",
       "  <thead>\n",
       "    <tr style=\"text-align: right;\">\n",
       "      <th></th>\n",
       "      <th>JNJ</th>\n",
       "      <th>JPM</th>\n",
       "      <th>ORCL</th>\n",
       "      <th>VLO</th>\n",
       "      <th>WMT</th>\n",
       "      <th>SPX</th>\n",
       "    </tr>\n",
       "  </thead>\n",
       "  <tbody>\n",
       "    <tr>\n",
       "      <th>Return</th>\n",
       "      <td>0.132175</td>\n",
       "      <td>0.201597</td>\n",
       "      <td>0.146599</td>\n",
       "      <td>0.188962</td>\n",
       "      <td>0.11854</td>\n",
       "      <td>0.142517</td>\n",
       "    </tr>\n",
       "    <tr>\n",
       "      <th>Beta</th>\n",
       "      <td>0.663644</td>\n",
       "      <td>1.219839</td>\n",
       "      <td>0.976441</td>\n",
       "      <td>1.334046</td>\n",
       "      <td>0.542783</td>\n",
       "      <td>1.0</td>\n",
       "    </tr>\n",
       "    <tr>\n",
       "      <th>CAPM</th>\n",
       "      <td>0.099693</td>\n",
       "      <td>0.170507</td>\n",
       "      <td>0.139518</td>\n",
       "      <td>0.185047</td>\n",
       "      <td>0.084306</td>\n",
       "      <td>0.142517</td>\n",
       "    </tr>\n",
       "  </tbody>\n",
       "</table>\n",
       "</div>"
      ],
      "text/plain": [
       "             JNJ       JPM      ORCL       VLO       WMT       SPX\n",
       "Return  0.132175  0.201597  0.146599  0.188962   0.11854  0.142517\n",
       "Beta    0.663644  1.219839  0.976441  1.334046  0.542783       1.0\n",
       "CAPM    0.099693  0.170507  0.139518  0.185047  0.084306  0.142517"
      ]
     },
     "execution_count": 7,
     "metadata": {},
     "output_type": "execute_result"
    }
   ],
   "source": [
    "for i in matrix.columns:\n",
    "    matrix.loc['Return',i]=(df[i][-1]/df[i][0])**(1/10)-1\n",
    "    matrix.loc['Beta',i]=np.polyfit(np.array(returns['SPX']),np.array(returns[i]),1)[0]\n",
    "    matrix.loc['CAPM',i]=0.0152+np.polyfit(np.array(returns['SPX']),np.array(returns[i]),1)[0]*(((df['SPX'][-1]/df['SPX'][0])**(1/10)-1)-0.0152)\n",
    "matrix"
   ]
  },
  {
   "cell_type": "code",
   "execution_count": 8,
   "id": "dcc33bae",
   "metadata": {},
   "outputs": [
    {
     "data": {
      "text/html": [
       "<div>\n",
       "<style scoped>\n",
       "    .dataframe tbody tr th:only-of-type {\n",
       "        vertical-align: middle;\n",
       "    }\n",
       "\n",
       "    .dataframe tbody tr th {\n",
       "        vertical-align: top;\n",
       "    }\n",
       "\n",
       "    .dataframe thead th {\n",
       "        text-align: right;\n",
       "    }\n",
       "</style>\n",
       "<table border=\"1\" class=\"dataframe\">\n",
       "  <thead>\n",
       "    <tr style=\"text-align: right;\">\n",
       "      <th></th>\n",
       "      <th>JNJ</th>\n",
       "      <th>JPM</th>\n",
       "      <th>ORCL</th>\n",
       "      <th>VLO</th>\n",
       "      <th>WMT</th>\n",
       "    </tr>\n",
       "  </thead>\n",
       "  <tbody>\n",
       "    <tr>\n",
       "      <th>JNJ</th>\n",
       "      <td>0.029182</td>\n",
       "      <td>0.019779</td>\n",
       "      <td>0.018476</td>\n",
       "      <td>0.019729</td>\n",
       "      <td>0.013267</td>\n",
       "    </tr>\n",
       "    <tr>\n",
       "      <th>JPM</th>\n",
       "      <td>0.019779</td>\n",
       "      <td>0.071190</td>\n",
       "      <td>0.032475</td>\n",
       "      <td>0.056744</td>\n",
       "      <td>0.014095</td>\n",
       "    </tr>\n",
       "    <tr>\n",
       "      <th>ORCL</th>\n",
       "      <td>0.018476</td>\n",
       "      <td>0.032475</td>\n",
       "      <td>0.060575</td>\n",
       "      <td>0.033233</td>\n",
       "      <td>0.016309</td>\n",
       "    </tr>\n",
       "    <tr>\n",
       "      <th>VLO</th>\n",
       "      <td>0.019729</td>\n",
       "      <td>0.056744</td>\n",
       "      <td>0.033233</td>\n",
       "      <td>0.149425</td>\n",
       "      <td>0.013230</td>\n",
       "    </tr>\n",
       "    <tr>\n",
       "      <th>WMT</th>\n",
       "      <td>0.013267</td>\n",
       "      <td>0.014095</td>\n",
       "      <td>0.016309</td>\n",
       "      <td>0.013230</td>\n",
       "      <td>0.037791</td>\n",
       "    </tr>\n",
       "  </tbody>\n",
       "</table>\n",
       "</div>"
      ],
      "text/plain": [
       "           JNJ       JPM      ORCL       VLO       WMT\n",
       "JNJ   0.029182  0.019779  0.018476  0.019729  0.013267\n",
       "JPM   0.019779  0.071190  0.032475  0.056744  0.014095\n",
       "ORCL  0.018476  0.032475  0.060575  0.033233  0.016309\n",
       "VLO   0.019729  0.056744  0.033233  0.149425  0.013230\n",
       "WMT   0.013267  0.014095  0.016309  0.013230  0.037791"
      ]
     },
     "execution_count": 8,
     "metadata": {},
     "output_type": "execute_result"
    }
   ],
   "source": [
    "returns[returns.columns[:-1]][:-1].cov()*252"
   ]
  },
  {
   "cell_type": "code",
   "execution_count": 9,
   "id": "55ca66eb",
   "metadata": {},
   "outputs": [
    {
     "data": {
      "text/html": [
       "<div>\n",
       "<style scoped>\n",
       "    .dataframe tbody tr th:only-of-type {\n",
       "        vertical-align: middle;\n",
       "    }\n",
       "\n",
       "    .dataframe tbody tr th {\n",
       "        vertical-align: top;\n",
       "    }\n",
       "\n",
       "    .dataframe thead th {\n",
       "        text-align: right;\n",
       "    }\n",
       "</style>\n",
       "<table border=\"1\" class=\"dataframe\">\n",
       "  <thead>\n",
       "    <tr style=\"text-align: right;\">\n",
       "      <th></th>\n",
       "      <th>JNJ</th>\n",
       "      <th>JPM</th>\n",
       "      <th>ORCL</th>\n",
       "      <th>VLO</th>\n",
       "      <th>WMT</th>\n",
       "    </tr>\n",
       "  </thead>\n",
       "  <tbody>\n",
       "    <tr>\n",
       "      <th>JNJ</th>\n",
       "      <td>49.865327</td>\n",
       "      <td>-7.228035</td>\n",
       "      <td>-7.727387</td>\n",
       "      <td>-1.139492</td>\n",
       "      <td>-11.076915</td>\n",
       "    </tr>\n",
       "    <tr>\n",
       "      <th>JPM</th>\n",
       "      <td>-7.228035</td>\n",
       "      <td>25.012061</td>\n",
       "      <td>-7.087238</td>\n",
       "      <td>-6.849653</td>\n",
       "      <td>-1.334571</td>\n",
       "    </tr>\n",
       "    <tr>\n",
       "      <th>ORCL</th>\n",
       "      <td>-7.727387</td>\n",
       "      <td>-7.087238</td>\n",
       "      <td>24.710300</td>\n",
       "      <td>-1.356212</td>\n",
       "      <td>-4.832932</td>\n",
       "    </tr>\n",
       "    <tr>\n",
       "      <th>VLO</th>\n",
       "      <td>-1.139492</td>\n",
       "      <td>-6.849653</td>\n",
       "      <td>-1.356212</td>\n",
       "      <td>9.733869</td>\n",
       "      <td>0.132358</td>\n",
       "    </tr>\n",
       "    <tr>\n",
       "      <th>WMT</th>\n",
       "      <td>-11.076915</td>\n",
       "      <td>-1.334571</td>\n",
       "      <td>-4.832932</td>\n",
       "      <td>0.132358</td>\n",
       "      <td>32.887537</td>\n",
       "    </tr>\n",
       "  </tbody>\n",
       "</table>\n",
       "</div>"
      ],
      "text/plain": [
       "            JNJ        JPM       ORCL       VLO        WMT\n",
       "JNJ   49.865327  -7.228035  -7.727387 -1.139492 -11.076915\n",
       "JPM   -7.228035  25.012061  -7.087238 -6.849653  -1.334571\n",
       "ORCL  -7.727387  -7.087238  24.710300 -1.356212  -4.832932\n",
       "VLO   -1.139492  -6.849653  -1.356212  9.733869   0.132358\n",
       "WMT  -11.076915  -1.334571  -4.832932  0.132358  32.887537"
      ]
     },
     "execution_count": 9,
     "metadata": {},
     "output_type": "execute_result"
    }
   ],
   "source": [
    "#inverse Covariance\n",
    "inverse=pd.DataFrame(columns=['JNJ','JPM','ORCL','VLO','WMT'],index=['JNJ','JPM','ORCL','VLO','WMT'])\n",
    "inverse[['JNJ','JPM','ORCL','VLO','WMT']]=np.linalg.inv(returns[returns.columns[:-1]][:-1].cov()*252)\n",
    "inverse"
   ]
  },
  {
   "cell_type": "code",
   "execution_count": 10,
   "id": "398e2697",
   "metadata": {},
   "outputs": [
    {
     "data": {
      "text/html": [
       "<div>\n",
       "<style scoped>\n",
       "    .dataframe tbody tr th:only-of-type {\n",
       "        vertical-align: middle;\n",
       "    }\n",
       "\n",
       "    .dataframe tbody tr th {\n",
       "        vertical-align: top;\n",
       "    }\n",
       "\n",
       "    .dataframe thead th {\n",
       "        text-align: right;\n",
       "    }\n",
       "</style>\n",
       "<table border=\"1\" class=\"dataframe\">\n",
       "  <thead>\n",
       "    <tr style=\"text-align: right;\">\n",
       "      <th></th>\n",
       "      <th>JNJ</th>\n",
       "      <th>JPM</th>\n",
       "      <th>ORCL</th>\n",
       "      <th>VLO</th>\n",
       "      <th>WMT</th>\n",
       "    </tr>\n",
       "  </thead>\n",
       "  <tbody>\n",
       "    <tr>\n",
       "      <th>e</th>\n",
       "      <td>1</td>\n",
       "      <td>1</td>\n",
       "      <td>1</td>\n",
       "      <td>1</td>\n",
       "      <td>1</td>\n",
       "    </tr>\n",
       "    <tr>\n",
       "      <th>r</th>\n",
       "      <td>0.099693</td>\n",
       "      <td>0.170507</td>\n",
       "      <td>0.139518</td>\n",
       "      <td>0.185047</td>\n",
       "      <td>0.084306</td>\n",
       "    </tr>\n",
       "    <tr>\n",
       "      <th>h</th>\n",
       "      <td>22.6935</td>\n",
       "      <td>2.512565</td>\n",
       "      <td>3.706531</td>\n",
       "      <td>0.52087</td>\n",
       "      <td>15.775478</td>\n",
       "    </tr>\n",
       "    <tr>\n",
       "      <th>g</th>\n",
       "      <td>1.515997</td>\n",
       "      <td>1.17532</td>\n",
       "      <td>0.81033</td>\n",
       "      <td>0.341656</td>\n",
       "      <td>0.790972</td>\n",
       "    </tr>\n",
       "    <tr>\n",
       "      <th>market cap</th>\n",
       "      <td>449.79</td>\n",
       "      <td>467.58</td>\n",
       "      <td>232.89</td>\n",
       "      <td>30.74</td>\n",
       "      <td>401.35</td>\n",
       "    </tr>\n",
       "  </tbody>\n",
       "</table>\n",
       "</div>"
      ],
      "text/plain": [
       "                 JNJ       JPM      ORCL       VLO        WMT\n",
       "e                  1         1         1         1          1\n",
       "r           0.099693  0.170507  0.139518  0.185047   0.084306\n",
       "h            22.6935  2.512565  3.706531   0.52087  15.775478\n",
       "g           1.515997   1.17532   0.81033  0.341656   0.790972\n",
       "market cap    449.79    467.58    232.89     30.74     401.35"
      ]
     },
     "execution_count": 10,
     "metadata": {},
     "output_type": "execute_result"
    }
   ],
   "source": [
    "vectors=pd.DataFrame(columns=['JNJ','JPM','ORCL','VLO','WMT'],index=['e','r','h','g','market cap'])\n",
    "vectors.loc['e']=1\n",
    "vectors.loc['r']=matrix.loc['CAPM'][:-1]\n",
    "vectors.loc['h']=np.array(vectors.loc['e']).dot(np.array(inverse))\n",
    "vectors.loc['g']=np.array(vectors.loc['r']).dot(np.array(inverse))\n",
    "vectors.loc['market cap']=[449.79,467.58,232.89,30.74,401.35]\n",
    "vectors"
   ]
  },
  {
   "cell_type": "code",
   "execution_count": 11,
   "id": "2c1a3e19",
   "metadata": {},
   "outputs": [
    {
     "data": {
      "text/plain": [
       "(45.20894375964637,\n",
       " 4.634275619997495,\n",
       " 0.5944961757747906,\n",
       " 5.400033653824185,\n",
       " 0.13276968648394435,\n",
       " -0.0038509288470335674,\n",
       " 0.25335058204168154)"
      ]
     },
     "execution_count": 11,
     "metadata": {},
     "output_type": "execute_result"
    }
   ],
   "source": [
    "alpha=np.array(vectors.loc['e']).dot(np.array(vectors.loc['h']))\n",
    "beta=np.array(vectors.loc['e']).dot(np.array(vectors.loc['g']))\n",
    "gamma=np.array(vectors.loc['r']).dot(np.array(vectors.loc['g']))\n",
    "delta=alpha*gamma-beta**2\n",
    "tangency=(gamma-beta*0.0152)/(beta-alpha*0.0152)#0.0152 risk free rate\n",
    "lambdas=(gamma-beta*tangency)/delta\n",
    "mu=(alpha*tangency-beta)/delta\n",
    "alpha,beta,gamma,delta,tangency,lambdas,mu"
   ]
  },
  {
   "cell_type": "code",
   "execution_count": 12,
   "id": "c0e9f130",
   "metadata": {},
   "outputs": [
    {
     "data": {
      "text/plain": [
       "4.634275619997495"
      ]
     },
     "execution_count": 12,
     "metadata": {},
     "output_type": "execute_result"
    }
   ],
   "source": [
    "sum(x * y for x, y in zip(vectors.loc['e'],vectors.loc['g']))"
   ]
  },
  {
   "cell_type": "code",
   "execution_count": 13,
   "id": "6e7b33b0",
   "metadata": {},
   "outputs": [
    {
     "data": {
      "text/plain": [
       "0.13276968648394435"
      ]
     },
     "execution_count": 13,
     "metadata": {},
     "output_type": "execute_result"
    }
   ],
   "source": [
    "tangency=(gamma-beta*0.0152)/(beta-alpha*0.0152)#0.0152 risk free rate\n",
    "tangency#return"
   ]
  },
  {
   "cell_type": "code",
   "execution_count": 14,
   "id": "aefd2784",
   "metadata": {},
   "outputs": [
    {
     "data": {
      "text/plain": [
       "array([0.29668776717146517, 0.288092256980052, 0.19102406309617861,\n",
       "       0.08455290212751938, 0.1396430106247844], dtype=object)"
      ]
     },
     "execution_count": 14,
     "metadata": {},
     "output_type": "execute_result"
    }
   ],
   "source": [
    "portfolio=lambdas*np.array(vectors.loc['h'])+mu*np.array(vectors.loc['g'])\n",
    "portfolio"
   ]
  },
  {
   "cell_type": "code",
   "execution_count": 15,
   "id": "0a126669",
   "metadata": {},
   "outputs": [
    {
     "data": {
      "text/plain": [
       "0.9999999999999996"
      ]
     },
     "execution_count": 15,
     "metadata": {},
     "output_type": "execute_result"
    }
   ],
   "source": [
    "sum(lambdas*np.array(vectors.loc['h'])+mu*np.array(vectors.loc['g']))"
   ]
  },
  {
   "cell_type": "code",
   "execution_count": 16,
   "id": "7aa8c6bb",
   "metadata": {},
   "outputs": [
    {
     "data": {
      "text/plain": [
       "array([0.2842544316996872, 0.29549720352640063, 0.14717982747179828,\n",
       "       0.019426801908553733, 0.2536417353935602], dtype=object)"
      ]
     },
     "execution_count": 16,
     "metadata": {},
     "output_type": "execute_result"
    }
   ],
   "source": [
    "value_weights=np.array(vectors.loc['market cap'])/np.sum(vectors.loc['market cap'])\n",
    "value_weights"
   ]
  },
  {
   "cell_type": "code",
   "execution_count": 17,
   "id": "e2621c7f",
   "metadata": {},
   "outputs": [
    {
     "data": {
      "text/plain": [
       "0.01936885624043209"
      ]
     },
     "execution_count": 17,
     "metadata": {},
     "output_type": "execute_result"
    }
   ],
   "source": [
    "deviation=np.sum(np.square(portfolio-value_weights))\n",
    "deviation\n",
    "#we can optimize the function and make the deviation close to zero"
   ]
  },
  {
   "cell_type": "code",
   "execution_count": 18,
   "id": "2398bf7d",
   "metadata": {},
   "outputs": [],
   "source": [
    "#Black-littreman model suggest us a portfolio that maximize expected return and penalize the risk, make a equilibrium."
   ]
  }
 ],
 "metadata": {
  "kernelspec": {
   "display_name": "Python 3 (ipykernel)",
   "language": "python",
   "name": "python3"
  },
  "language_info": {
   "codemirror_mode": {
    "name": "ipython",
    "version": 3
   },
   "file_extension": ".py",
   "mimetype": "text/x-python",
   "name": "python",
   "nbconvert_exporter": "python",
   "pygments_lexer": "ipython3",
   "version": "3.7.3"
  }
 },
 "nbformat": 4,
 "nbformat_minor": 5
}

{
 "cells": [
  {
   "cell_type": "code",
   "execution_count": 1,
   "id": "ec558fef",
   "metadata": {},
   "outputs": [],
   "source": [
    "import random\n",
    "import numpy as np\n",
    "import pandas as pd\n",
    "from matplotlib import pyplot as plt\n",
    "import math\n",
    "import scipy.stats as stats\n",
    "from scipy.stats import norm\n",
    "from scipy.stats import kurtosis\n",
    "import requests\n",
    "%matplotlib inline"
   ]
  },
  {
   "cell_type": "code",
   "execution_count": 2,
   "id": "055e0179",
   "metadata": {},
   "outputs": [
    {
     "data": {
      "text/html": [
       "<div>\n",
       "<style scoped>\n",
       "    .dataframe tbody tr th:only-of-type {\n",
       "        vertical-align: middle;\n",
       "    }\n",
       "\n",
       "    .dataframe tbody tr th {\n",
       "        vertical-align: top;\n",
       "    }\n",
       "\n",
       "    .dataframe thead th {\n",
       "        text-align: right;\n",
       "    }\n",
       "</style>\n",
       "<table border=\"1\" class=\"dataframe\">\n",
       "  <thead>\n",
       "    <tr style=\"text-align: right;\">\n",
       "      <th></th>\n",
       "      <th>Apple</th>\n",
       "      <th>Tesla</th>\n",
       "      <th>Walmart</th>\n",
       "      <th>Caterpillar</th>\n",
       "      <th>Coca-Cola</th>\n",
       "    </tr>\n",
       "    <tr>\n",
       "      <th>Date</th>\n",
       "      <th></th>\n",
       "      <th></th>\n",
       "      <th></th>\n",
       "      <th></th>\n",
       "      <th></th>\n",
       "    </tr>\n",
       "  </thead>\n",
       "  <tbody>\n",
       "    <tr>\n",
       "      <th>2015-04-23</th>\n",
       "      <td>NaN</td>\n",
       "      <td>NaN</td>\n",
       "      <td>NaN</td>\n",
       "      <td>NaN</td>\n",
       "      <td>NaN</td>\n",
       "    </tr>\n",
       "    <tr>\n",
       "      <th>2015-04-24</th>\n",
       "      <td>0.004704</td>\n",
       "      <td>-0.000778</td>\n",
       "      <td>0.008335</td>\n",
       "      <td>-0.002241</td>\n",
       "      <td>-0.001465</td>\n",
       "    </tr>\n",
       "    <tr>\n",
       "      <th>2015-04-27</th>\n",
       "      <td>0.018192</td>\n",
       "      <td>0.060065</td>\n",
       "      <td>-0.005887</td>\n",
       "      <td>0.008629</td>\n",
       "      <td>-0.001467</td>\n",
       "    </tr>\n",
       "    <tr>\n",
       "      <th>2015-04-28</th>\n",
       "      <td>-0.015756</td>\n",
       "      <td>-0.004621</td>\n",
       "      <td>-0.003402</td>\n",
       "      <td>0.010196</td>\n",
       "      <td>-0.001470</td>\n",
       "    </tr>\n",
       "    <tr>\n",
       "      <th>2015-04-29</th>\n",
       "      <td>-0.014706</td>\n",
       "      <td>0.008547</td>\n",
       "      <td>-0.015424</td>\n",
       "      <td>0.015081</td>\n",
       "      <td>-0.006868</td>\n",
       "    </tr>\n",
       "    <tr>\n",
       "      <th>...</th>\n",
       "      <td>...</td>\n",
       "      <td>...</td>\n",
       "      <td>...</td>\n",
       "      <td>...</td>\n",
       "      <td>...</td>\n",
       "    </tr>\n",
       "    <tr>\n",
       "      <th>2020-04-16</th>\n",
       "      <td>0.007946</td>\n",
       "      <td>0.021073</td>\n",
       "      <td>0.027726</td>\n",
       "      <td>0.015153</td>\n",
       "      <td>-0.010712</td>\n",
       "    </tr>\n",
       "    <tr>\n",
       "      <th>2020-04-17</th>\n",
       "      <td>-0.013569</td>\n",
       "      <td>0.011648</td>\n",
       "      <td>-0.001587</td>\n",
       "      <td>0.027204</td>\n",
       "      <td>0.020382</td>\n",
       "    </tr>\n",
       "    <tr>\n",
       "      <th>2020-04-20</th>\n",
       "      <td>-0.020757</td>\n",
       "      <td>-0.009988</td>\n",
       "      <td>-0.017181</td>\n",
       "      <td>-0.014617</td>\n",
       "      <td>-0.031835</td>\n",
       "    </tr>\n",
       "    <tr>\n",
       "      <th>2020-04-21</th>\n",
       "      <td>-0.030910</td>\n",
       "      <td>-0.079908</td>\n",
       "      <td>-0.004929</td>\n",
       "      <td>-0.041449</td>\n",
       "      <td>-0.024715</td>\n",
       "    </tr>\n",
       "    <tr>\n",
       "      <th>2020-04-22</th>\n",
       "      <td>0.028804</td>\n",
       "      <td>0.066097</td>\n",
       "      <td>0.018420</td>\n",
       "      <td>0.007192</td>\n",
       "      <td>0.006611</td>\n",
       "    </tr>\n",
       "  </tbody>\n",
       "</table>\n",
       "<p>1259 rows × 5 columns</p>\n",
       "</div>"
      ],
      "text/plain": [
       "               Apple     Tesla   Walmart  Caterpillar  Coca-Cola\n",
       "Date                                                            \n",
       "2015-04-23       NaN       NaN       NaN          NaN        NaN\n",
       "2015-04-24  0.004704 -0.000778  0.008335    -0.002241  -0.001465\n",
       "2015-04-27  0.018192  0.060065 -0.005887     0.008629  -0.001467\n",
       "2015-04-28 -0.015756 -0.004621 -0.003402     0.010196  -0.001470\n",
       "2015-04-29 -0.014706  0.008547 -0.015424     0.015081  -0.006868\n",
       "...              ...       ...       ...          ...        ...\n",
       "2020-04-16  0.007946  0.021073  0.027726     0.015153  -0.010712\n",
       "2020-04-17 -0.013569  0.011648 -0.001587     0.027204   0.020382\n",
       "2020-04-20 -0.020757 -0.009988 -0.017181    -0.014617  -0.031835\n",
       "2020-04-21 -0.030910 -0.079908 -0.004929    -0.041449  -0.024715\n",
       "2020-04-22  0.028804  0.066097  0.018420     0.007192   0.006611\n",
       "\n",
       "[1259 rows x 5 columns]"
      ]
     },
     "execution_count": 2,
     "metadata": {},
     "output_type": "execute_result"
    }
   ],
   "source": [
    "df=pd.read_excel('C:\\\\Users\\\\nafissaad\\\\Downloads\\\\NEDL_Portfolio_Higher_Moments.xlsx',index_col='Date')\n",
    "df=df[0:1259][['Apple','Tesla','Walmart','Caterpillar','Coca-Cola']]\n",
    "df.to_excel('C:\\\\Users\\\\nafissaad\\\\Downloads\\\\NEDL_Portfolio_Higher_Moments.xlsx')\n",
    "returns=df.pct_change()\n",
    "returns"
   ]
  },
  {
   "cell_type": "code",
   "execution_count": 3,
   "id": "bc585c02",
   "metadata": {},
   "outputs": [
    {
     "data": {
      "text/plain": [
       "Apple          0.000765\n",
       "Tesla          0.001506\n",
       "Walmart        0.000502\n",
       "Caterpillar    0.000392\n",
       "Coca-Cola      0.000157\n",
       "dtype: float64"
      ]
     },
     "execution_count": 3,
     "metadata": {},
     "output_type": "execute_result"
    }
   ],
   "source": [
    "mean=returns.mean()\n",
    "mean"
   ]
  },
  {
   "cell_type": "code",
   "execution_count": 4,
   "id": "8540d83c",
   "metadata": {},
   "outputs": [
    {
     "data": {
      "text/plain": [
       "Apple          0.018111\n",
       "Tesla          0.033068\n",
       "Walmart        0.014087\n",
       "Caterpillar    0.018943\n",
       "Coca-Cola      0.011779\n",
       "dtype: float64"
      ]
     },
     "execution_count": 4,
     "metadata": {},
     "output_type": "execute_result"
    }
   ],
   "source": [
    "standard_deviation=returns.std()\n",
    "standard_deviation"
   ]
  },
  {
   "cell_type": "code",
   "execution_count": 5,
   "id": "42786605",
   "metadata": {},
   "outputs": [
    {
     "data": {
      "text/plain": [
       "Apple         -0.136472\n",
       "Tesla          0.268462\n",
       "Walmart        0.723344\n",
       "Caterpillar   -0.416776\n",
       "Coca-Cola     -1.039594\n",
       "dtype: float64"
      ]
     },
     "execution_count": 5,
     "metadata": {},
     "output_type": "execute_result"
    }
   ],
   "source": [
    "Skewnesses=returns.skew()\n",
    "Skewnesses"
   ]
  },
  {
   "cell_type": "code",
   "execution_count": 6,
   "id": "79ab59c2",
   "metadata": {},
   "outputs": [
    {
     "data": {
      "text/plain": [
       "array([ 7.77444385,  6.88362246, 17.76876112,  5.62947626, 13.46745244])"
      ]
     },
     "execution_count": 6,
     "metadata": {},
     "output_type": "execute_result"
    }
   ],
   "source": [
    "kurtosises=kurtosis(returns.dropna())\n",
    "kurtosises"
   ]
  },
  {
   "cell_type": "code",
   "execution_count": 7,
   "id": "931362ab",
   "metadata": {},
   "outputs": [
    {
     "data": {
      "text/plain": [
       "array([5., 5., 5., 5., 5., 5.])"
      ]
     },
     "execution_count": 7,
     "metadata": {},
     "output_type": "execute_result"
    }
   ],
   "source": [
    "theta=np.ones(6)*5\n",
    "theta"
   ]
  },
  {
   "cell_type": "code",
   "execution_count": 8,
   "id": "51a6293c",
   "metadata": {},
   "outputs": [
    {
     "data": {
      "text/plain": [
       "1.0"
      ]
     },
     "execution_count": 8,
     "metadata": {},
     "output_type": "execute_result"
    }
   ],
   "source": [
    "weights_1=np.ones(5)*0.2\n",
    "weights_1.sum()"
   ]
  },
  {
   "cell_type": "code",
   "execution_count": 9,
   "id": "1733c50e",
   "metadata": {},
   "outputs": [
    {
     "data": {
      "text/html": [
       "<div>\n",
       "<style scoped>\n",
       "    .dataframe tbody tr th:only-of-type {\n",
       "        vertical-align: middle;\n",
       "    }\n",
       "\n",
       "    .dataframe tbody tr th {\n",
       "        vertical-align: top;\n",
       "    }\n",
       "\n",
       "    .dataframe thead th {\n",
       "        text-align: right;\n",
       "    }\n",
       "</style>\n",
       "<table border=\"1\" class=\"dataframe\">\n",
       "  <thead>\n",
       "    <tr style=\"text-align: right;\">\n",
       "      <th></th>\n",
       "      <th>Apple</th>\n",
       "      <th>Tesla</th>\n",
       "      <th>Walmart</th>\n",
       "      <th>Caterpillar</th>\n",
       "    </tr>\n",
       "    <tr>\n",
       "      <th>Date</th>\n",
       "      <th></th>\n",
       "      <th></th>\n",
       "      <th></th>\n",
       "      <th></th>\n",
       "    </tr>\n",
       "  </thead>\n",
       "  <tbody>\n",
       "    <tr>\n",
       "      <th>2015-04-23</th>\n",
       "      <td>NaN</td>\n",
       "      <td>NaN</td>\n",
       "      <td>NaN</td>\n",
       "      <td>NaN</td>\n",
       "    </tr>\n",
       "    <tr>\n",
       "      <th>2015-04-24</th>\n",
       "      <td>0.004704</td>\n",
       "      <td>-0.000778</td>\n",
       "      <td>0.008335</td>\n",
       "      <td>-0.002241</td>\n",
       "    </tr>\n",
       "    <tr>\n",
       "      <th>2015-04-27</th>\n",
       "      <td>0.018192</td>\n",
       "      <td>0.060065</td>\n",
       "      <td>-0.005887</td>\n",
       "      <td>0.008629</td>\n",
       "    </tr>\n",
       "    <tr>\n",
       "      <th>2015-04-28</th>\n",
       "      <td>-0.015756</td>\n",
       "      <td>-0.004621</td>\n",
       "      <td>-0.003402</td>\n",
       "      <td>0.010196</td>\n",
       "    </tr>\n",
       "    <tr>\n",
       "      <th>2015-04-29</th>\n",
       "      <td>-0.014706</td>\n",
       "      <td>0.008547</td>\n",
       "      <td>-0.015424</td>\n",
       "      <td>0.015081</td>\n",
       "    </tr>\n",
       "    <tr>\n",
       "      <th>...</th>\n",
       "      <td>...</td>\n",
       "      <td>...</td>\n",
       "      <td>...</td>\n",
       "      <td>...</td>\n",
       "    </tr>\n",
       "    <tr>\n",
       "      <th>2020-04-16</th>\n",
       "      <td>0.007946</td>\n",
       "      <td>0.021073</td>\n",
       "      <td>0.027726</td>\n",
       "      <td>0.015153</td>\n",
       "    </tr>\n",
       "    <tr>\n",
       "      <th>2020-04-17</th>\n",
       "      <td>-0.013569</td>\n",
       "      <td>0.011648</td>\n",
       "      <td>-0.001587</td>\n",
       "      <td>0.027204</td>\n",
       "    </tr>\n",
       "    <tr>\n",
       "      <th>2020-04-20</th>\n",
       "      <td>-0.020757</td>\n",
       "      <td>-0.009988</td>\n",
       "      <td>-0.017181</td>\n",
       "      <td>-0.014617</td>\n",
       "    </tr>\n",
       "    <tr>\n",
       "      <th>2020-04-21</th>\n",
       "      <td>-0.030910</td>\n",
       "      <td>-0.079908</td>\n",
       "      <td>-0.004929</td>\n",
       "      <td>-0.041449</td>\n",
       "    </tr>\n",
       "    <tr>\n",
       "      <th>2020-04-22</th>\n",
       "      <td>0.028804</td>\n",
       "      <td>0.066097</td>\n",
       "      <td>0.018420</td>\n",
       "      <td>0.007192</td>\n",
       "    </tr>\n",
       "  </tbody>\n",
       "</table>\n",
       "<p>1259 rows × 4 columns</p>\n",
       "</div>"
      ],
      "text/plain": [
       "               Apple     Tesla   Walmart  Caterpillar\n",
       "Date                                                 \n",
       "2015-04-23       NaN       NaN       NaN          NaN\n",
       "2015-04-24  0.004704 -0.000778  0.008335    -0.002241\n",
       "2015-04-27  0.018192  0.060065 -0.005887     0.008629\n",
       "2015-04-28 -0.015756 -0.004621 -0.003402     0.010196\n",
       "2015-04-29 -0.014706  0.008547 -0.015424     0.015081\n",
       "...              ...       ...       ...          ...\n",
       "2020-04-16  0.007946  0.021073  0.027726     0.015153\n",
       "2020-04-17 -0.013569  0.011648 -0.001587     0.027204\n",
       "2020-04-20 -0.020757 -0.009988 -0.017181    -0.014617\n",
       "2020-04-21 -0.030910 -0.079908 -0.004929    -0.041449\n",
       "2020-04-22  0.028804  0.066097  0.018420     0.007192\n",
       "\n",
       "[1259 rows x 4 columns]"
      ]
     },
     "execution_count": 9,
     "metadata": {},
     "output_type": "execute_result"
    }
   ],
   "source": [
    "returns[returns.columns[:-1]]"
   ]
  },
  {
   "cell_type": "code",
   "execution_count": 10,
   "id": "1cced039",
   "metadata": {},
   "outputs": [
    {
     "data": {
      "text/html": [
       "<div>\n",
       "<style scoped>\n",
       "    .dataframe tbody tr th:only-of-type {\n",
       "        vertical-align: middle;\n",
       "    }\n",
       "\n",
       "    .dataframe tbody tr th {\n",
       "        vertical-align: top;\n",
       "    }\n",
       "\n",
       "    .dataframe thead th {\n",
       "        text-align: right;\n",
       "    }\n",
       "</style>\n",
       "<table border=\"1\" class=\"dataframe\">\n",
       "  <thead>\n",
       "    <tr style=\"text-align: right;\">\n",
       "      <th></th>\n",
       "      <th>Apple</th>\n",
       "      <th>Tesla</th>\n",
       "      <th>Walmart</th>\n",
       "      <th>Caterpillar</th>\n",
       "      <th>Coca-Cola</th>\n",
       "      <th>Portfolio 1</th>\n",
       "    </tr>\n",
       "    <tr>\n",
       "      <th>Date</th>\n",
       "      <th></th>\n",
       "      <th></th>\n",
       "      <th></th>\n",
       "      <th></th>\n",
       "      <th></th>\n",
       "      <th></th>\n",
       "    </tr>\n",
       "  </thead>\n",
       "  <tbody>\n",
       "    <tr>\n",
       "      <th>2015-04-23</th>\n",
       "      <td>NaN</td>\n",
       "      <td>NaN</td>\n",
       "      <td>NaN</td>\n",
       "      <td>NaN</td>\n",
       "      <td>NaN</td>\n",
       "      <td>NaN</td>\n",
       "    </tr>\n",
       "    <tr>\n",
       "      <th>2015-04-24</th>\n",
       "      <td>0.004704</td>\n",
       "      <td>-0.000778</td>\n",
       "      <td>0.008335</td>\n",
       "      <td>-0.002241</td>\n",
       "      <td>-0.001465</td>\n",
       "      <td>0.001711</td>\n",
       "    </tr>\n",
       "    <tr>\n",
       "      <th>2015-04-27</th>\n",
       "      <td>0.018192</td>\n",
       "      <td>0.060065</td>\n",
       "      <td>-0.005887</td>\n",
       "      <td>0.008629</td>\n",
       "      <td>-0.001467</td>\n",
       "      <td>0.015906</td>\n",
       "    </tr>\n",
       "    <tr>\n",
       "      <th>2015-04-28</th>\n",
       "      <td>-0.015756</td>\n",
       "      <td>-0.004621</td>\n",
       "      <td>-0.003402</td>\n",
       "      <td>0.010196</td>\n",
       "      <td>-0.001470</td>\n",
       "      <td>-0.003011</td>\n",
       "    </tr>\n",
       "    <tr>\n",
       "      <th>2015-04-29</th>\n",
       "      <td>-0.014706</td>\n",
       "      <td>0.008547</td>\n",
       "      <td>-0.015424</td>\n",
       "      <td>0.015081</td>\n",
       "      <td>-0.006868</td>\n",
       "      <td>-0.002674</td>\n",
       "    </tr>\n",
       "    <tr>\n",
       "      <th>...</th>\n",
       "      <td>...</td>\n",
       "      <td>...</td>\n",
       "      <td>...</td>\n",
       "      <td>...</td>\n",
       "      <td>...</td>\n",
       "      <td>...</td>\n",
       "    </tr>\n",
       "    <tr>\n",
       "      <th>2020-04-16</th>\n",
       "      <td>0.007946</td>\n",
       "      <td>0.021073</td>\n",
       "      <td>0.027726</td>\n",
       "      <td>0.015153</td>\n",
       "      <td>-0.010712</td>\n",
       "      <td>0.012237</td>\n",
       "    </tr>\n",
       "    <tr>\n",
       "      <th>2020-04-17</th>\n",
       "      <td>-0.013569</td>\n",
       "      <td>0.011648</td>\n",
       "      <td>-0.001587</td>\n",
       "      <td>0.027204</td>\n",
       "      <td>0.020382</td>\n",
       "      <td>0.008816</td>\n",
       "    </tr>\n",
       "    <tr>\n",
       "      <th>2020-04-20</th>\n",
       "      <td>-0.020757</td>\n",
       "      <td>-0.009988</td>\n",
       "      <td>-0.017181</td>\n",
       "      <td>-0.014617</td>\n",
       "      <td>-0.031835</td>\n",
       "      <td>-0.018876</td>\n",
       "    </tr>\n",
       "    <tr>\n",
       "      <th>2020-04-21</th>\n",
       "      <td>-0.030910</td>\n",
       "      <td>-0.079908</td>\n",
       "      <td>-0.004929</td>\n",
       "      <td>-0.041449</td>\n",
       "      <td>-0.024715</td>\n",
       "      <td>-0.036382</td>\n",
       "    </tr>\n",
       "    <tr>\n",
       "      <th>2020-04-22</th>\n",
       "      <td>0.028804</td>\n",
       "      <td>0.066097</td>\n",
       "      <td>0.018420</td>\n",
       "      <td>0.007192</td>\n",
       "      <td>0.006611</td>\n",
       "      <td>0.025424</td>\n",
       "    </tr>\n",
       "  </tbody>\n",
       "</table>\n",
       "<p>1259 rows × 6 columns</p>\n",
       "</div>"
      ],
      "text/plain": [
       "               Apple     Tesla   Walmart  Caterpillar  Coca-Cola  Portfolio 1\n",
       "Date                                                                         \n",
       "2015-04-23       NaN       NaN       NaN          NaN        NaN          NaN\n",
       "2015-04-24  0.004704 -0.000778  0.008335    -0.002241  -0.001465     0.001711\n",
       "2015-04-27  0.018192  0.060065 -0.005887     0.008629  -0.001467     0.015906\n",
       "2015-04-28 -0.015756 -0.004621 -0.003402     0.010196  -0.001470    -0.003011\n",
       "2015-04-29 -0.014706  0.008547 -0.015424     0.015081  -0.006868    -0.002674\n",
       "...              ...       ...       ...          ...        ...          ...\n",
       "2020-04-16  0.007946  0.021073  0.027726     0.015153  -0.010712     0.012237\n",
       "2020-04-17 -0.013569  0.011648 -0.001587     0.027204   0.020382     0.008816\n",
       "2020-04-20 -0.020757 -0.009988 -0.017181    -0.014617  -0.031835    -0.018876\n",
       "2020-04-21 -0.030910 -0.079908 -0.004929    -0.041449  -0.024715    -0.036382\n",
       "2020-04-22  0.028804  0.066097  0.018420     0.007192   0.006611     0.025424\n",
       "\n",
       "[1259 rows x 6 columns]"
      ]
     },
     "execution_count": 10,
     "metadata": {},
     "output_type": "execute_result"
    }
   ],
   "source": [
    "returns['Portfolio 1']=returns.dot(weights_1)\n",
    "returns"
   ]
  },
  {
   "cell_type": "code",
   "execution_count": 11,
   "id": "b858c7fd",
   "metadata": {
    "scrolled": true
   },
   "outputs": [
    {
     "data": {
      "text/plain": [
       "Apple          0.018111\n",
       "Tesla          0.033068\n",
       "Walmart        0.014087\n",
       "Caterpillar    0.018943\n",
       "Coca-Cola      0.011779\n",
       "Portfolio 1    0.013246\n",
       "dtype: float64"
      ]
     },
     "execution_count": 11,
     "metadata": {},
     "output_type": "execute_result"
    }
   ],
   "source": [
    "mean=returns.mean()\n",
    "standard_deviation=returns.std()\n",
    "Skewnesses=returns.skew()\n",
    "kurtosises=kurtosis(returns.dropna())\n",
    "standard_deviation"
   ]
  },
  {
   "cell_type": "code",
   "execution_count": 12,
   "id": "7362c546",
   "metadata": {},
   "outputs": [
    {
     "data": {
      "text/plain": [
       "Apple          0.212601\n",
       "Tesla          0.461262\n",
       "Walmart        0.134957\n",
       "Caterpillar    0.103801\n",
       "Coca-Cola      0.040315\n",
       "Portfolio 1    0.182246\n",
       "dtype: float64"
      ]
     },
     "execution_count": 12,
     "metadata": {},
     "output_type": "execute_result"
    }
   ],
   "source": [
    "#our expected return is stocastic, it cant be measured based on past data. so it can be possible future gainers are \n",
    "#from past losers.so we will chose our bet on risk. we want to bet on possitive skewness and avoid negative skewness\n",
    "mean_Annualized=(1+mean)**252-1\n",
    "mean_Annualized"
   ]
  },
  {
   "cell_type": "code",
   "execution_count": 13,
   "id": "83182b71",
   "metadata": {},
   "outputs": [
    {
     "data": {
      "text/plain": [
       "Apple          0.287498\n",
       "Tesla          0.524937\n",
       "Walmart        0.223624\n",
       "Caterpillar    0.300717\n",
       "Coca-Cola      0.186993\n",
       "Portfolio 1    0.210274\n",
       "dtype: float64"
      ]
     },
     "execution_count": 13,
     "metadata": {},
     "output_type": "execute_result"
    }
   ],
   "source": [
    "Standard_deviation_Annualized=standard_deviation*np.sqrt(252)\n",
    "Standard_deviation_Annualized"
   ]
  },
  {
   "cell_type": "code",
   "execution_count": 14,
   "id": "11545623",
   "metadata": {},
   "outputs": [
    {
     "data": {
      "text/plain": [
       "Apple          0.005963\n",
       "Tesla         -0.227636\n",
       "Walmart        0.009938\n",
       "Caterpillar   -0.122276\n",
       "Coca-Cola     -0.047101\n",
       "Portfolio 1    0.071708\n",
       "dtype: float64"
      ]
     },
     "execution_count": 14,
     "metadata": {},
     "output_type": "execute_result"
    }
   ],
   "source": [
    "utility_1=mean_Annualized-theta*Standard_deviation_Annualized**2/2\n",
    "utility_1"
   ]
  },
  {
   "cell_type": "code",
   "execution_count": 15,
   "id": "5509bb43",
   "metadata": {},
   "outputs": [
    {
     "data": {
      "text/plain": [
       "Apple         -0.016770\n",
       "Tesla         -0.156575\n",
       "Walmart        0.035928\n",
       "Caterpillar   -0.177493\n",
       "Coca-Cola     -0.078282\n",
       "Portfolio 1    0.047001\n",
       "dtype: float64"
      ]
     },
     "execution_count": 15,
     "metadata": {},
     "output_type": "execute_result"
    }
   ],
   "source": [
    "utility_2=mean_Annualized-theta*Standard_deviation_Annualized**2/2+theta**2*Standard_deviation_Annualized**3*Skewnesses/6-theta**3*Standard_deviation_Annualized**4*kurtosises/720\n",
    "utility_2"
   ]
  },
  {
   "cell_type": "code",
   "execution_count": 16,
   "id": "ca5f5d1d",
   "metadata": {},
   "outputs": [],
   "source": [
    "#when we take skewness and kurtosis into out calculation tesla is more preferable than Caterpillar because Tesla has positive tail\n"
   ]
  },
  {
   "cell_type": "code",
   "execution_count": 17,
   "id": "b11e6104",
   "metadata": {},
   "outputs": [
    {
     "data": {
      "text/plain": [
       "(array([[0.04944153, 0.41391653, 0.1692324 , 0.25418501, 0.11322453],\n",
       "        [0.08080098, 0.27344927, 0.08270712, 0.31281377, 0.25022886],\n",
       "        [0.07077475, 0.19787913, 0.18418282, 0.48104762, 0.06611567],\n",
       "        ...,\n",
       "        [0.13815765, 0.11226459, 0.34276532, 0.39760555, 0.00920689],\n",
       "        [0.26587214, 0.14993568, 0.37505678, 0.01545172, 0.19368367],\n",
       "        [0.24717494, 0.29664746, 0.1803739 , 0.23260619, 0.04319751]]),\n",
       " array([0.02669059, 0.01673098, 0.01335327, ..., 0.03971898, 0.06839789,\n",
       "        0.04688943]))"
      ]
     },
     "execution_count": 17,
     "metadata": {},
     "output_type": "execute_result"
    }
   ],
   "source": [
    "Utility  =[]\n",
    "weights=[]\n",
    "\n",
    "for x in range(80000):\n",
    "    p_weights=np.random.random(len(returns.columns[:-1]))\n",
    "    p_weights/=np.sum(p_weights)\n",
    "    ret=returns[returns.columns[:-1]].dot(p_weights)\n",
    "    \n",
    "    mean_Annualized=(1+ret.mean())**252-1\n",
    "    theta=5\n",
    "    Skewnesses=ret.skew()\n",
    "    kurtosises=kurtosis(ret.dropna())\n",
    "    \n",
    "    Standard_deviation_Annualized=ret.std()*np.sqrt(252)\n",
    "    utility_2=mean_Annualized-theta*Standard_deviation_Annualized**2/2+theta**2*Standard_deviation_Annualized**3*Skewnesses/6-theta**3*Standard_deviation_Annualized**4*kurtosises/720\n",
    "\n",
    "    weights.append(p_weights)\n",
    "    Utility.append(utility_2)\n",
    "\n",
    "p_wt = np.array(weights)\n",
    "util= np.array(Utility)\n",
    "\n",
    "    \n",
    "p_wt,util"
   ]
  },
  {
   "cell_type": "code",
   "execution_count": 18,
   "id": "f406711c",
   "metadata": {},
   "outputs": [
    {
     "data": {
      "text/plain": [
       "8907"
      ]
     },
     "execution_count": 18,
     "metadata": {},
     "output_type": "execute_result"
    }
   ],
   "source": [
    "util.argmax()"
   ]
  },
  {
   "cell_type": "code",
   "execution_count": 19,
   "id": "d903bd57",
   "metadata": {},
   "outputs": [
    {
     "data": {
      "text/plain": [
       "0.08632240790523911"
      ]
     },
     "execution_count": 19,
     "metadata": {},
     "output_type": "execute_result"
    }
   ],
   "source": [
    "util[util.argmax()]"
   ]
  },
  {
   "cell_type": "code",
   "execution_count": 20,
   "id": "4b98a0be",
   "metadata": {},
   "outputs": [
    {
     "data": {
      "text/plain": [
       "array([0.18241196, 0.26104175, 0.52924722, 0.01613635, 0.01116272])"
      ]
     },
     "execution_count": 20,
     "metadata": {},
     "output_type": "execute_result"
    }
   ],
   "source": [
    "p_wt[util.argmax()]"
   ]
  },
  {
   "cell_type": "code",
   "execution_count": null,
   "id": "9a7a2932",
   "metadata": {},
   "outputs": [],
   "source": [
    "#Utility=theta(risk aversion 0 to 5)*standard_deviation^2/2#The higher theta is more risk averse"
   ]
  }
 ],
 "metadata": {
  "kernelspec": {
   "display_name": "Python 3 (ipykernel)",
   "language": "python",
   "name": "python3"
  },
  "language_info": {
   "codemirror_mode": {
    "name": "ipython",
    "version": 3
   },
   "file_extension": ".py",
   "mimetype": "text/x-python",
   "name": "python",
   "nbconvert_exporter": "python",
   "pygments_lexer": "ipython3",
   "version": "3.7.3"
  }
 },
 "nbformat": 4,
 "nbformat_minor": 5
}

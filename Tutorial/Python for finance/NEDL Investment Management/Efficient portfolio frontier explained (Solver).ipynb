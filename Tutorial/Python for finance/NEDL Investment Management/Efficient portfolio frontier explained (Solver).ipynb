{
 "cells": [
  {
   "cell_type": "code",
   "execution_count": 1,
   "id": "ec558fef",
   "metadata": {},
   "outputs": [],
   "source": [
    "import random\n",
    "import numpy as np\n",
    "import yfinance as yf\n",
    "import pandas as pd\n",
    "from matplotlib import pyplot as plt\n",
    "from scipy.stats import norm\n",
    "import math\n",
    "import scipy.stats as stats\n",
    "from datetime import datetime, timedelta\n",
    "import statsmodels.api as sm\n",
    "%matplotlib inline"
   ]
  },
  {
   "cell_type": "code",
   "execution_count": 2,
   "id": "055e0179",
   "metadata": {},
   "outputs": [],
   "source": [
    "tickers=['^GSPC','TSLA','AAPL','MSFT','WMT','CAT']"
   ]
  },
  {
   "cell_type": "code",
   "execution_count": 3,
   "id": "457dd635",
   "metadata": {},
   "outputs": [
    {
     "name": "stdout",
     "output_type": "stream",
     "text": [
      "[*********************100%***********************]  6 of 6 completed\n"
     ]
    }
   ],
   "source": [
    "df=yf.download(tickers,start='2010-09-15',end='2020-09-15')['Close']"
   ]
  },
  {
   "cell_type": "code",
   "execution_count": 4,
   "id": "79ab59c2",
   "metadata": {},
   "outputs": [
    {
     "data": {
      "text/html": [
       "<div>\n",
       "<style scoped>\n",
       "    .dataframe tbody tr th:only-of-type {\n",
       "        vertical-align: middle;\n",
       "    }\n",
       "\n",
       "    .dataframe tbody tr th {\n",
       "        vertical-align: top;\n",
       "    }\n",
       "\n",
       "    .dataframe thead th {\n",
       "        text-align: right;\n",
       "    }\n",
       "</style>\n",
       "<table border=\"1\" class=\"dataframe\">\n",
       "  <thead>\n",
       "    <tr style=\"text-align: right;\">\n",
       "      <th></th>\n",
       "      <th>AAPL</th>\n",
       "      <th>CAT</th>\n",
       "      <th>MSFT</th>\n",
       "      <th>TSLA</th>\n",
       "      <th>WMT</th>\n",
       "      <th>^GSPC</th>\n",
       "    </tr>\n",
       "    <tr>\n",
       "      <th>Date</th>\n",
       "      <th></th>\n",
       "      <th></th>\n",
       "      <th></th>\n",
       "      <th></th>\n",
       "      <th></th>\n",
       "      <th></th>\n",
       "    </tr>\n",
       "  </thead>\n",
       "  <tbody>\n",
       "    <tr>\n",
       "      <th>2010-09-14</th>\n",
       "      <td>9.573571</td>\n",
       "      <td>71.830002</td>\n",
       "      <td>25.030001</td>\n",
       "      <td>1.408000</td>\n",
       "      <td>52.660000</td>\n",
       "      <td>1121.099976</td>\n",
       "    </tr>\n",
       "    <tr>\n",
       "      <th>2010-09-15</th>\n",
       "      <td>9.650714</td>\n",
       "      <td>72.129997</td>\n",
       "      <td>25.120001</td>\n",
       "      <td>1.465333</td>\n",
       "      <td>52.860001</td>\n",
       "      <td>1125.069946</td>\n",
       "    </tr>\n",
       "    <tr>\n",
       "      <th>2010-09-16</th>\n",
       "      <td>9.877500</td>\n",
       "      <td>72.000000</td>\n",
       "      <td>25.330000</td>\n",
       "      <td>1.396000</td>\n",
       "      <td>53.150002</td>\n",
       "      <td>1124.660034</td>\n",
       "    </tr>\n",
       "    <tr>\n",
       "      <th>2010-09-17</th>\n",
       "      <td>9.834643</td>\n",
       "      <td>73.180000</td>\n",
       "      <td>25.219999</td>\n",
       "      <td>1.348667</td>\n",
       "      <td>53.009998</td>\n",
       "      <td>1125.589966</td>\n",
       "    </tr>\n",
       "    <tr>\n",
       "      <th>2010-09-20</th>\n",
       "      <td>10.115357</td>\n",
       "      <td>74.750000</td>\n",
       "      <td>25.430000</td>\n",
       "      <td>1.404000</td>\n",
       "      <td>53.540001</td>\n",
       "      <td>1142.709961</td>\n",
       "    </tr>\n",
       "    <tr>\n",
       "      <th>...</th>\n",
       "      <td>...</td>\n",
       "      <td>...</td>\n",
       "      <td>...</td>\n",
       "      <td>...</td>\n",
       "      <td>...</td>\n",
       "      <td>...</td>\n",
       "    </tr>\n",
       "    <tr>\n",
       "      <th>2020-09-08</th>\n",
       "      <td>112.820000</td>\n",
       "      <td>148.520004</td>\n",
       "      <td>202.660004</td>\n",
       "      <td>110.070000</td>\n",
       "      <td>138.449997</td>\n",
       "      <td>3331.840088</td>\n",
       "    </tr>\n",
       "    <tr>\n",
       "      <th>2020-09-09</th>\n",
       "      <td>117.320000</td>\n",
       "      <td>152.690002</td>\n",
       "      <td>211.289993</td>\n",
       "      <td>122.093330</td>\n",
       "      <td>139.889999</td>\n",
       "      <td>3398.959961</td>\n",
       "    </tr>\n",
       "    <tr>\n",
       "      <th>2020-09-10</th>\n",
       "      <td>113.489998</td>\n",
       "      <td>149.860001</td>\n",
       "      <td>205.369995</td>\n",
       "      <td>123.779999</td>\n",
       "      <td>136.809998</td>\n",
       "      <td>3339.189941</td>\n",
       "    </tr>\n",
       "    <tr>\n",
       "      <th>2020-09-11</th>\n",
       "      <td>112.000000</td>\n",
       "      <td>153.830002</td>\n",
       "      <td>204.029999</td>\n",
       "      <td>124.239998</td>\n",
       "      <td>136.699997</td>\n",
       "      <td>3340.969971</td>\n",
       "    </tr>\n",
       "    <tr>\n",
       "      <th>2020-09-14</th>\n",
       "      <td>115.360001</td>\n",
       "      <td>153.509995</td>\n",
       "      <td>205.410004</td>\n",
       "      <td>139.873337</td>\n",
       "      <td>137.320007</td>\n",
       "      <td>3383.540039</td>\n",
       "    </tr>\n",
       "  </tbody>\n",
       "</table>\n",
       "<p>2518 rows × 6 columns</p>\n",
       "</div>"
      ],
      "text/plain": [
       "                  AAPL         CAT        MSFT        TSLA         WMT  \\\n",
       "Date                                                                     \n",
       "2010-09-14    9.573571   71.830002   25.030001    1.408000   52.660000   \n",
       "2010-09-15    9.650714   72.129997   25.120001    1.465333   52.860001   \n",
       "2010-09-16    9.877500   72.000000   25.330000    1.396000   53.150002   \n",
       "2010-09-17    9.834643   73.180000   25.219999    1.348667   53.009998   \n",
       "2010-09-20   10.115357   74.750000   25.430000    1.404000   53.540001   \n",
       "...                ...         ...         ...         ...         ...   \n",
       "2020-09-08  112.820000  148.520004  202.660004  110.070000  138.449997   \n",
       "2020-09-09  117.320000  152.690002  211.289993  122.093330  139.889999   \n",
       "2020-09-10  113.489998  149.860001  205.369995  123.779999  136.809998   \n",
       "2020-09-11  112.000000  153.830002  204.029999  124.239998  136.699997   \n",
       "2020-09-14  115.360001  153.509995  205.410004  139.873337  137.320007   \n",
       "\n",
       "                  ^GSPC  \n",
       "Date                     \n",
       "2010-09-14  1121.099976  \n",
       "2010-09-15  1125.069946  \n",
       "2010-09-16  1124.660034  \n",
       "2010-09-17  1125.589966  \n",
       "2010-09-20  1142.709961  \n",
       "...                 ...  \n",
       "2020-09-08  3331.840088  \n",
       "2020-09-09  3398.959961  \n",
       "2020-09-10  3339.189941  \n",
       "2020-09-11  3340.969971  \n",
       "2020-09-14  3383.540039  \n",
       "\n",
       "[2518 rows x 6 columns]"
      ]
     },
     "execution_count": 4,
     "metadata": {},
     "output_type": "execute_result"
    }
   ],
   "source": [
    "df"
   ]
  },
  {
   "cell_type": "code",
   "execution_count": 5,
   "id": "931362ab",
   "metadata": {},
   "outputs": [
    {
     "data": {
      "text/html": [
       "<div>\n",
       "<style scoped>\n",
       "    .dataframe tbody tr th:only-of-type {\n",
       "        vertical-align: middle;\n",
       "    }\n",
       "\n",
       "    .dataframe tbody tr th {\n",
       "        vertical-align: top;\n",
       "    }\n",
       "\n",
       "    .dataframe thead th {\n",
       "        text-align: right;\n",
       "    }\n",
       "</style>\n",
       "<table border=\"1\" class=\"dataframe\">\n",
       "  <thead>\n",
       "    <tr style=\"text-align: right;\">\n",
       "      <th></th>\n",
       "      <th>TSLA</th>\n",
       "      <th>AAPL</th>\n",
       "      <th>MSFT</th>\n",
       "      <th>WMT</th>\n",
       "      <th>CAT</th>\n",
       "    </tr>\n",
       "    <tr>\n",
       "      <th>Date</th>\n",
       "      <th></th>\n",
       "      <th></th>\n",
       "      <th></th>\n",
       "      <th></th>\n",
       "      <th></th>\n",
       "    </tr>\n",
       "  </thead>\n",
       "  <tbody>\n",
       "    <tr>\n",
       "      <th>2010-09-14</th>\n",
       "      <td>NaN</td>\n",
       "      <td>NaN</td>\n",
       "      <td>NaN</td>\n",
       "      <td>NaN</td>\n",
       "      <td>NaN</td>\n",
       "    </tr>\n",
       "    <tr>\n",
       "      <th>2010-09-15</th>\n",
       "      <td>0.040719</td>\n",
       "      <td>0.008058</td>\n",
       "      <td>0.003596</td>\n",
       "      <td>0.003798</td>\n",
       "      <td>0.004176</td>\n",
       "    </tr>\n",
       "    <tr>\n",
       "      <th>2010-09-16</th>\n",
       "      <td>-0.047315</td>\n",
       "      <td>0.023499</td>\n",
       "      <td>0.008360</td>\n",
       "      <td>0.005486</td>\n",
       "      <td>-0.001802</td>\n",
       "    </tr>\n",
       "    <tr>\n",
       "      <th>2010-09-17</th>\n",
       "      <td>-0.033906</td>\n",
       "      <td>-0.004339</td>\n",
       "      <td>-0.004343</td>\n",
       "      <td>-0.002634</td>\n",
       "      <td>0.016389</td>\n",
       "    </tr>\n",
       "    <tr>\n",
       "      <th>2010-09-20</th>\n",
       "      <td>0.041028</td>\n",
       "      <td>0.028543</td>\n",
       "      <td>0.008327</td>\n",
       "      <td>0.009998</td>\n",
       "      <td>0.021454</td>\n",
       "    </tr>\n",
       "    <tr>\n",
       "      <th>...</th>\n",
       "      <td>...</td>\n",
       "      <td>...</td>\n",
       "      <td>...</td>\n",
       "      <td>...</td>\n",
       "      <td>...</td>\n",
       "    </tr>\n",
       "    <tr>\n",
       "      <th>2020-09-08</th>\n",
       "      <td>-0.210628</td>\n",
       "      <td>-0.067295</td>\n",
       "      <td>-0.054096</td>\n",
       "      <td>-0.030666</td>\n",
       "      <td>0.002295</td>\n",
       "    </tr>\n",
       "    <tr>\n",
       "      <th>2020-09-09</th>\n",
       "      <td>0.109233</td>\n",
       "      <td>0.039887</td>\n",
       "      <td>0.042584</td>\n",
       "      <td>0.010401</td>\n",
       "      <td>0.028077</td>\n",
       "    </tr>\n",
       "    <tr>\n",
       "      <th>2020-09-10</th>\n",
       "      <td>0.013815</td>\n",
       "      <td>-0.032646</td>\n",
       "      <td>-0.028018</td>\n",
       "      <td>-0.022017</td>\n",
       "      <td>-0.018534</td>\n",
       "    </tr>\n",
       "    <tr>\n",
       "      <th>2020-09-11</th>\n",
       "      <td>0.003716</td>\n",
       "      <td>-0.013129</td>\n",
       "      <td>-0.006525</td>\n",
       "      <td>-0.000804</td>\n",
       "      <td>0.026491</td>\n",
       "    </tr>\n",
       "    <tr>\n",
       "      <th>2020-09-14</th>\n",
       "      <td>0.125832</td>\n",
       "      <td>0.030000</td>\n",
       "      <td>0.006764</td>\n",
       "      <td>0.004536</td>\n",
       "      <td>-0.002080</td>\n",
       "    </tr>\n",
       "  </tbody>\n",
       "</table>\n",
       "<p>2518 rows × 5 columns</p>\n",
       "</div>"
      ],
      "text/plain": [
       "                TSLA      AAPL      MSFT       WMT       CAT\n",
       "Date                                                        \n",
       "2010-09-14       NaN       NaN       NaN       NaN       NaN\n",
       "2010-09-15  0.040719  0.008058  0.003596  0.003798  0.004176\n",
       "2010-09-16 -0.047315  0.023499  0.008360  0.005486 -0.001802\n",
       "2010-09-17 -0.033906 -0.004339 -0.004343 -0.002634  0.016389\n",
       "2010-09-20  0.041028  0.028543  0.008327  0.009998  0.021454\n",
       "...              ...       ...       ...       ...       ...\n",
       "2020-09-08 -0.210628 -0.067295 -0.054096 -0.030666  0.002295\n",
       "2020-09-09  0.109233  0.039887  0.042584  0.010401  0.028077\n",
       "2020-09-10  0.013815 -0.032646 -0.028018 -0.022017 -0.018534\n",
       "2020-09-11  0.003716 -0.013129 -0.006525 -0.000804  0.026491\n",
       "2020-09-14  0.125832  0.030000  0.006764  0.004536 -0.002080\n",
       "\n",
       "[2518 rows x 5 columns]"
      ]
     },
     "execution_count": 5,
     "metadata": {},
     "output_type": "execute_result"
    }
   ],
   "source": [
    "df1=df[tickers[1:]].pct_change()\n",
    "df1"
   ]
  },
  {
   "cell_type": "code",
   "execution_count": 6,
   "id": "5509bb43",
   "metadata": {},
   "outputs": [
    {
     "data": {
      "text/html": [
       "<div>\n",
       "<style scoped>\n",
       "    .dataframe tbody tr th:only-of-type {\n",
       "        vertical-align: middle;\n",
       "    }\n",
       "\n",
       "    .dataframe tbody tr th {\n",
       "        vertical-align: top;\n",
       "    }\n",
       "\n",
       "    .dataframe thead tr th {\n",
       "        text-align: left;\n",
       "    }\n",
       "</style>\n",
       "<table border=\"1\" class=\"dataframe\">\n",
       "  <thead>\n",
       "    <tr>\n",
       "      <th></th>\n",
       "      <th>TSLA</th>\n",
       "      <th>AAPL</th>\n",
       "      <th>MSFT</th>\n",
       "      <th>WMT</th>\n",
       "      <th>CAT</th>\n",
       "    </tr>\n",
       "  </thead>\n",
       "  <tbody>\n",
       "    <tr>\n",
       "      <th>Return</th>\n",
       "      <td>NaN</td>\n",
       "      <td>NaN</td>\n",
       "      <td>NaN</td>\n",
       "      <td>NaN</td>\n",
       "      <td>NaN</td>\n",
       "    </tr>\n",
       "    <tr>\n",
       "      <th>Risk</th>\n",
       "      <td>NaN</td>\n",
       "      <td>NaN</td>\n",
       "      <td>NaN</td>\n",
       "      <td>NaN</td>\n",
       "      <td>NaN</td>\n",
       "    </tr>\n",
       "    <tr>\n",
       "      <th>Beta</th>\n",
       "      <td>NaN</td>\n",
       "      <td>NaN</td>\n",
       "      <td>NaN</td>\n",
       "      <td>NaN</td>\n",
       "      <td>NaN</td>\n",
       "    </tr>\n",
       "    <tr>\n",
       "      <th>E(Return)</th>\n",
       "      <td>NaN</td>\n",
       "      <td>NaN</td>\n",
       "      <td>NaN</td>\n",
       "      <td>NaN</td>\n",
       "      <td>NaN</td>\n",
       "    </tr>\n",
       "  </tbody>\n",
       "</table>\n",
       "</div>"
      ],
      "text/plain": [
       "          TSLA AAPL MSFT  WMT  CAT\n",
       "Return     NaN  NaN  NaN  NaN  NaN\n",
       "Risk       NaN  NaN  NaN  NaN  NaN\n",
       "Beta       NaN  NaN  NaN  NaN  NaN\n",
       "E(Return)  NaN  NaN  NaN  NaN  NaN"
      ]
     },
     "execution_count": 6,
     "metadata": {},
     "output_type": "execute_result"
    }
   ],
   "source": [
    "mat=pd.DataFrame(columns=[tickers[1:]],index=[['Return','Risk','Beta','E(Return)']])\n",
    "mat"
   ]
  },
  {
   "cell_type": "code",
   "execution_count": 7,
   "id": "524cdd8c",
   "metadata": {},
   "outputs": [
    {
     "data": {
      "text/html": [
       "<div>\n",
       "<style scoped>\n",
       "    .dataframe tbody tr th:only-of-type {\n",
       "        vertical-align: middle;\n",
       "    }\n",
       "\n",
       "    .dataframe tbody tr th {\n",
       "        vertical-align: top;\n",
       "    }\n",
       "\n",
       "    .dataframe thead tr th {\n",
       "        text-align: left;\n",
       "    }\n",
       "</style>\n",
       "<table border=\"1\" class=\"dataframe\">\n",
       "  <thead>\n",
       "    <tr>\n",
       "      <th></th>\n",
       "      <th>TSLA</th>\n",
       "      <th>AAPL</th>\n",
       "      <th>MSFT</th>\n",
       "      <th>WMT</th>\n",
       "      <th>CAT</th>\n",
       "    </tr>\n",
       "  </thead>\n",
       "  <tbody>\n",
       "    <tr>\n",
       "      <th>Return</th>\n",
       "      <td>0.583847</td>\n",
       "      <td>0.28262</td>\n",
       "      <td>0.234287</td>\n",
       "      <td>0.100589</td>\n",
       "      <td>0.078905</td>\n",
       "    </tr>\n",
       "    <tr>\n",
       "      <th>Risk</th>\n",
       "      <td>0.557152</td>\n",
       "      <td>0.28027</td>\n",
       "      <td>0.25514</td>\n",
       "      <td>0.193499</td>\n",
       "      <td>0.286347</td>\n",
       "    </tr>\n",
       "    <tr>\n",
       "      <th>Beta</th>\n",
       "      <td>NaN</td>\n",
       "      <td>NaN</td>\n",
       "      <td>NaN</td>\n",
       "      <td>NaN</td>\n",
       "      <td>NaN</td>\n",
       "    </tr>\n",
       "    <tr>\n",
       "      <th>E(Return)</th>\n",
       "      <td>NaN</td>\n",
       "      <td>NaN</td>\n",
       "      <td>NaN</td>\n",
       "      <td>NaN</td>\n",
       "      <td>NaN</td>\n",
       "    </tr>\n",
       "  </tbody>\n",
       "</table>\n",
       "</div>"
      ],
      "text/plain": [
       "               TSLA     AAPL      MSFT       WMT       CAT\n",
       "Return     0.583847  0.28262  0.234287  0.100589  0.078905\n",
       "Risk       0.557152  0.28027   0.25514  0.193499  0.286347\n",
       "Beta            NaN      NaN       NaN       NaN       NaN\n",
       "E(Return)       NaN      NaN       NaN       NaN       NaN"
      ]
     },
     "execution_count": 7,
     "metadata": {},
     "output_type": "execute_result"
    }
   ],
   "source": [
    "mat.loc['Return','TSLA']=np.prod(1+df1.TSLA)**(1/10)-1\n",
    "mat.loc['Return','AAPL']=np.prod(1+df1.AAPL)**(1/10)-1\n",
    "mat.loc['Return','MSFT']=np.prod(1+df1.MSFT)**(1/10)-1\n",
    "mat.loc['Return','WMT']=np.prod(1+df1.WMT)**(1/10)-1\n",
    "mat.loc['Return','CAT']=np.prod(1+df1.CAT)**(1/10)-1\n",
    "mat.loc['Risk','TSLA']=df1.TSLA.std()*np.sqrt(252)\n",
    "mat.loc['Risk','AAPL']=df1.AAPL.std()*np.sqrt(252)\n",
    "mat.loc['Risk','MSFT']=df1.MSFT.std()*np.sqrt(252)\n",
    "mat.loc['Risk','WMT']=df1.WMT.std()*np.sqrt(252)\n",
    "mat.loc['Risk','CAT']=df1.CAT.std()*np.sqrt(252)\n",
    "mat"
   ]
  },
  {
   "cell_type": "code",
   "execution_count": 8,
   "id": "29536dfe",
   "metadata": {},
   "outputs": [
    {
     "data": {
      "text/html": [
       "<div>\n",
       "<style scoped>\n",
       "    .dataframe tbody tr th:only-of-type {\n",
       "        vertical-align: middle;\n",
       "    }\n",
       "\n",
       "    .dataframe tbody tr th {\n",
       "        vertical-align: top;\n",
       "    }\n",
       "\n",
       "    .dataframe thead th {\n",
       "        text-align: right;\n",
       "    }\n",
       "</style>\n",
       "<table border=\"1\" class=\"dataframe\">\n",
       "  <thead>\n",
       "    <tr style=\"text-align: right;\">\n",
       "      <th></th>\n",
       "      <th>TSLA</th>\n",
       "      <th>AAPL</th>\n",
       "      <th>MSFT</th>\n",
       "      <th>WMT</th>\n",
       "      <th>CAT</th>\n",
       "    </tr>\n",
       "  </thead>\n",
       "  <tbody>\n",
       "    <tr>\n",
       "      <th>TSLA</th>\n",
       "      <td>0.310418</td>\n",
       "      <td>0.048273</td>\n",
       "      <td>0.046387</td>\n",
       "      <td>0.015287</td>\n",
       "      <td>0.040881</td>\n",
       "    </tr>\n",
       "    <tr>\n",
       "      <th>AAPL</th>\n",
       "      <td>0.048273</td>\n",
       "      <td>0.078551</td>\n",
       "      <td>0.039048</td>\n",
       "      <td>0.016044</td>\n",
       "      <td>0.036276</td>\n",
       "    </tr>\n",
       "    <tr>\n",
       "      <th>MSFT</th>\n",
       "      <td>0.046387</td>\n",
       "      <td>0.039048</td>\n",
       "      <td>0.065096</td>\n",
       "      <td>0.018420</td>\n",
       "      <td>0.036651</td>\n",
       "    </tr>\n",
       "    <tr>\n",
       "      <th>WMT</th>\n",
       "      <td>0.015287</td>\n",
       "      <td>0.016044</td>\n",
       "      <td>0.018420</td>\n",
       "      <td>0.037442</td>\n",
       "      <td>0.015869</td>\n",
       "    </tr>\n",
       "    <tr>\n",
       "      <th>CAT</th>\n",
       "      <td>0.040881</td>\n",
       "      <td>0.036276</td>\n",
       "      <td>0.036651</td>\n",
       "      <td>0.015869</td>\n",
       "      <td>0.081995</td>\n",
       "    </tr>\n",
       "  </tbody>\n",
       "</table>\n",
       "</div>"
      ],
      "text/plain": [
       "          TSLA      AAPL      MSFT       WMT       CAT\n",
       "TSLA  0.310418  0.048273  0.046387  0.015287  0.040881\n",
       "AAPL  0.048273  0.078551  0.039048  0.016044  0.036276\n",
       "MSFT  0.046387  0.039048  0.065096  0.018420  0.036651\n",
       "WMT   0.015287  0.016044  0.018420  0.037442  0.015869\n",
       "CAT   0.040881  0.036276  0.036651  0.015869  0.081995"
      ]
     },
     "execution_count": 8,
     "metadata": {},
     "output_type": "execute_result"
    }
   ],
   "source": [
    "df1.cov()*252"
   ]
  },
  {
   "cell_type": "code",
   "execution_count": 9,
   "id": "9342e984",
   "metadata": {},
   "outputs": [
    {
     "data": {
      "text/html": [
       "<div>\n",
       "<style scoped>\n",
       "    .dataframe tbody tr th:only-of-type {\n",
       "        vertical-align: middle;\n",
       "    }\n",
       "\n",
       "    .dataframe tbody tr th {\n",
       "        vertical-align: top;\n",
       "    }\n",
       "\n",
       "    .dataframe thead tr th {\n",
       "        text-align: left;\n",
       "    }\n",
       "</style>\n",
       "<table border=\"1\" class=\"dataframe\">\n",
       "  <thead>\n",
       "    <tr>\n",
       "      <th></th>\n",
       "      <th>TSLA</th>\n",
       "      <th>AAPL</th>\n",
       "      <th>MSFT</th>\n",
       "      <th>WMT</th>\n",
       "      <th>CAT</th>\n",
       "      <th>Total</th>\n",
       "    </tr>\n",
       "  </thead>\n",
       "  <tbody>\n",
       "    <tr>\n",
       "      <th>Weights</th>\n",
       "      <td>0.2</td>\n",
       "      <td>0.2</td>\n",
       "      <td>0.2</td>\n",
       "      <td>0.2</td>\n",
       "      <td>0.2</td>\n",
       "      <td>1</td>\n",
       "    </tr>\n",
       "  </tbody>\n",
       "</table>\n",
       "</div>"
      ],
      "text/plain": [
       "        TSLA AAPL MSFT  WMT  CAT Total\n",
       "Weights  0.2  0.2  0.2  0.2  0.2     1"
      ]
     },
     "execution_count": 9,
     "metadata": {},
     "output_type": "execute_result"
    }
   ],
   "source": [
    "portfolio=pd.DataFrame(columns=[tickers[1:]],index=['Weights'])\n",
    "portfolio.loc['Weights',tickers[1:]]=[1/5 for i in range(5)]\n",
    "portfolio['Total']=1\n",
    "portfolio"
   ]
  },
  {
   "cell_type": "code",
   "execution_count": 10,
   "id": "07881114",
   "metadata": {},
   "outputs": [
    {
     "data": {
      "text/plain": [
       "array([0.11676940143784381, 0.05652407097814116, 0.04685735340530082,\n",
       "       0.020117865161577122, 0.015780936452093774], dtype=object)"
      ]
     },
     "execution_count": 10,
     "metadata": {},
     "output_type": "execute_result"
    }
   ],
   "source": [
    "sum(portfolio.loc['Weights',tickers[1:]].values*mat.loc['Return',tickers[1:]].values)"
   ]
  },
  {
   "cell_type": "code",
   "execution_count": 11,
   "id": "77b7cc2b",
   "metadata": {},
   "outputs": [
    {
     "data": {
      "text/plain": [
       "0.11676940000000001"
      ]
     },
     "execution_count": 11,
     "metadata": {},
     "output_type": "execute_result"
    }
   ],
   "source": [
    "0.2*0.583847"
   ]
  },
  {
   "cell_type": "code",
   "execution_count": 12,
   "id": "902a6747",
   "metadata": {},
   "outputs": [
    {
     "data": {
      "text/plain": [
       "0.2560496274349567"
      ]
     },
     "execution_count": 12,
     "metadata": {},
     "output_type": "execute_result"
    }
   ],
   "source": [
    "0.11676940143784381+0.05652407097814116+0.04685735340530082+0.020117865161577122+0.015780936452093774"
   ]
  },
  {
   "cell_type": "code",
   "execution_count": 13,
   "id": "8a8c27d8",
   "metadata": {
    "scrolled": true
   },
   "outputs": [
    {
     "data": {
      "text/plain": [
       "(0.2560496274349567, 0.21906832432342613)"
      ]
     },
     "execution_count": 13,
     "metadata": {},
     "output_type": "execute_result"
    }
   ],
   "source": [
    "returns=(portfolio.loc['Weights',tickers[1:]].values*mat.loc['Return',tickers[1:]].values.mean()).sum()\n",
    "risk=(portfolio.loc['Weights',tickers[1:]].values.T.dot((df1.cov()*252).dot(portfolio.loc['Weights',tickers[1:]].values)))**(1/2)\n",
    "returns,risk"
   ]
  },
  {
   "cell_type": "code",
   "execution_count": 14,
   "id": "78b47e85",
   "metadata": {},
   "outputs": [
    {
     "data": {
      "text/plain": [
       "0.18406323135214597"
      ]
     },
     "execution_count": 14,
     "metadata": {},
     "output_type": "execute_result"
    }
   ],
   "source": [
    "Theta=3#1 to 5 1 means the investor hate risk less, 5 means the investor hate risk a lot\n",
    "utility=returns-Theta/2*risk**2\n",
    "utility"
   ]
  },
  {
   "cell_type": "code",
   "execution_count": 15,
   "id": "019a595b",
   "metadata": {},
   "outputs": [
    {
     "data": {
      "text/plain": [
       "0.2560496274349567"
      ]
     },
     "execution_count": 15,
     "metadata": {},
     "output_type": "execute_result"
    }
   ],
   "source": [
    "portfolio.loc['Weights',tickers[1:]].values.dot(mat.loc['Return',tickers[1:]].values.mean()).sum()"
   ]
  },
  {
   "cell_type": "code",
   "execution_count": 16,
   "id": "6e281b07",
   "metadata": {},
   "outputs": [
    {
     "data": {
      "text/plain": [
       "(array([0.15605627, 0.18596448, 0.18129689, ..., 0.16308146, 0.15088754,\n",
       "        0.19125749]),\n",
       " array([[0.3043404 , 0.26134732, 0.16595215, 0.10085136, 0.16750878],\n",
       "        [0.02837461, 0.39856406, 0.35796039, 0.06942306, 0.14567788],\n",
       "        [0.01074999, 0.18644014, 0.36236466, 0.01612707, 0.42431813],\n",
       "        ...,\n",
       "        [0.27693194, 0.25995728, 0.10313269, 0.1189875 , 0.24099059],\n",
       "        [0.28828517, 0.3946773 , 0.2299647 , 0.04798724, 0.03908559],\n",
       "        [0.16282843, 0.16892594, 0.08861393, 0.26609503, 0.31353667]]))"
      ]
     },
     "execution_count": 16,
     "metadata": {},
     "output_type": "execute_result"
    }
   ],
   "source": [
    "p_wt  =[]\n",
    "util=[]\n",
    "for x in range(30000):\n",
    "    p_weights=np.random.random(len(tickers[1:]))\n",
    "    p_weights/=np.sum(p_weights)\n",
    "    returns=p_weights.dot(mat.loc['Return',tickers[1:]].values.mean()).sum()\n",
    "    risk=(p_weights.T.dot((df1.cov()*252).dot(p_weights)))**(1/2)\n",
    "    utility=returns-Theta/2*risk**2\n",
    "    p_wt.append(p_weights)\n",
    "    util.append(utility)\n",
    "\n",
    "p_wt = np.array(p_wt)\n",
    "util= np.array(util)\n",
    "\n",
    "    \n",
    "util,p_wt"
   ]
  },
  {
   "cell_type": "code",
   "execution_count": 17,
   "id": "58b3f5cc",
   "metadata": {},
   "outputs": [
    {
     "data": {
      "text/plain": [
       "22381"
      ]
     },
     "execution_count": 17,
     "metadata": {},
     "output_type": "execute_result"
    }
   ],
   "source": [
    "SR_IDX=np.argmax(util)\n",
    "SR_IDX"
   ]
  },
  {
   "cell_type": "code",
   "execution_count": 18,
   "id": "9da59b02",
   "metadata": {},
   "outputs": [
    {
     "data": {
      "text/plain": [
       "array([0.02155761, 0.11182087, 0.1604935 , 0.60590734, 0.10022068])"
      ]
     },
     "execution_count": 18,
     "metadata": {},
     "output_type": "execute_result"
    }
   ],
   "source": [
    "p_wt[SR_IDX]"
   ]
  },
  {
   "cell_type": "code",
   "execution_count": 19,
   "id": "aa9b967f",
   "metadata": {},
   "outputs": [
    {
     "data": {
      "text/plain": [
       "0.21168010778992724"
      ]
     },
     "execution_count": 19,
     "metadata": {},
     "output_type": "execute_result"
    }
   ],
   "source": [
    "util[SR_IDX]"
   ]
  },
  {
   "cell_type": "code",
   "execution_count": 20,
   "id": "6361a6cd",
   "metadata": {},
   "outputs": [
    {
     "data": {
      "text/plain": [
       "(0.02155760956675414,\n",
       " 0.11182086612495909,\n",
       " 0.16049349717567657,\n",
       " 0.605907344676588,\n",
       " 0.10022068245602218)"
      ]
     },
     "execution_count": 20,
     "metadata": {},
     "output_type": "execute_result"
    }
   ],
   "source": [
    "p_wt[SR_IDX][0],p_wt[SR_IDX][1],p_wt[SR_IDX][2],p_wt[SR_IDX][3],p_wt[SR_IDX][4]"
   ]
  },
  {
   "cell_type": "code",
   "execution_count": 21,
   "id": "10977483",
   "metadata": {},
   "outputs": [],
   "source": [
    "SP500_returns=np.prod(1+df['^GSPC'].pct_change())**(1/10)-1\n",
    "Risk_free_rate=0.67"
   ]
  },
  {
   "cell_type": "code",
   "execution_count": 22,
   "id": "a9fc4bf7",
   "metadata": {},
   "outputs": [],
   "source": [
    "x=sm.add_constant(df['^GSPC'].pct_change().dropna())\n",
    "for i in tickers[1:]:\n",
    "    model=sm.OLS(df1[i].dropna(),x)\n",
    "    results=model.fit()\n",
    "    mat.loc['Beta',i]=results.params[1]"
   ]
  },
  {
   "cell_type": "code",
   "execution_count": 23,
   "id": "467e1ac4",
   "metadata": {},
   "outputs": [
    {
     "data": {
      "text/html": [
       "<table class=\"simpletable\">\n",
       "<caption>OLS Regression Results</caption>\n",
       "<tr>\n",
       "  <th>Dep. Variable:</th>           <td>CAT</td>       <th>  R-squared:         </th>  <td>   0.532</td> \n",
       "</tr>\n",
       "<tr>\n",
       "  <th>Model:</th>                   <td>OLS</td>       <th>  Adj. R-squared:    </th>  <td>   0.532</td> \n",
       "</tr>\n",
       "<tr>\n",
       "  <th>Method:</th>             <td>Least Squares</td>  <th>  F-statistic:       </th>  <td>   2856.</td> \n",
       "</tr>\n",
       "<tr>\n",
       "  <th>Date:</th>             <td>Sun, 24 Sep 2023</td> <th>  Prob (F-statistic):</th>   <td>  0.00</td>  \n",
       "</tr>\n",
       "<tr>\n",
       "  <th>Time:</th>                 <td>22:21:17</td>     <th>  Log-Likelihood:    </th>  <td>  7490.3</td> \n",
       "</tr>\n",
       "<tr>\n",
       "  <th>No. Observations:</th>      <td>  2517</td>      <th>  AIC:               </th> <td>-1.498e+04</td>\n",
       "</tr>\n",
       "<tr>\n",
       "  <th>Df Residuals:</th>          <td>  2515</td>      <th>  BIC:               </th> <td>-1.496e+04</td>\n",
       "</tr>\n",
       "<tr>\n",
       "  <th>Df Model:</th>              <td>     1</td>      <th>                     </th>      <td> </td>    \n",
       "</tr>\n",
       "<tr>\n",
       "  <th>Covariance Type:</th>      <td>nonrobust</td>    <th>                     </th>      <td> </td>    \n",
       "</tr>\n",
       "</table>\n",
       "<table class=\"simpletable\">\n",
       "<tr>\n",
       "    <td></td>       <th>coef</th>     <th>std err</th>      <th>t</th>      <th>P>|t|</th>  <th>[0.025</th>    <th>0.975]</th>  \n",
       "</tr>\n",
       "<tr>\n",
       "  <th>const</th> <td>   -0.0001</td> <td>    0.000</td> <td>   -0.552</td> <td> 0.581</td> <td>   -0.001</td> <td>    0.000</td>\n",
       "</tr>\n",
       "<tr>\n",
       "  <th>^GSPC</th> <td>    1.2048</td> <td>    0.023</td> <td>   53.440</td> <td> 0.000</td> <td>    1.161</td> <td>    1.249</td>\n",
       "</tr>\n",
       "</table>\n",
       "<table class=\"simpletable\">\n",
       "<tr>\n",
       "  <th>Omnibus:</th>       <td>293.748</td> <th>  Durbin-Watson:     </th> <td>   1.935</td>\n",
       "</tr>\n",
       "<tr>\n",
       "  <th>Prob(Omnibus):</th> <td> 0.000</td>  <th>  Jarque-Bera (JB):  </th> <td>2870.051</td>\n",
       "</tr>\n",
       "<tr>\n",
       "  <th>Skew:</th>          <td> 0.028</td>  <th>  Prob(JB):          </th> <td>    0.00</td>\n",
       "</tr>\n",
       "<tr>\n",
       "  <th>Kurtosis:</th>      <td> 8.231</td>  <th>  Cond. No.          </th> <td>    91.6</td>\n",
       "</tr>\n",
       "</table><br/><br/>Notes:<br/>[1] Standard Errors assume that the covariance matrix of the errors is correctly specified."
      ],
      "text/plain": [
       "<class 'statsmodels.iolib.summary.Summary'>\n",
       "\"\"\"\n",
       "                            OLS Regression Results                            \n",
       "==============================================================================\n",
       "Dep. Variable:                    CAT   R-squared:                       0.532\n",
       "Model:                            OLS   Adj. R-squared:                  0.532\n",
       "Method:                 Least Squares   F-statistic:                     2856.\n",
       "Date:                Sun, 24 Sep 2023   Prob (F-statistic):               0.00\n",
       "Time:                        22:21:17   Log-Likelihood:                 7490.3\n",
       "No. Observations:                2517   AIC:                        -1.498e+04\n",
       "Df Residuals:                    2515   BIC:                        -1.496e+04\n",
       "Df Model:                           1                                         \n",
       "Covariance Type:            nonrobust                                         \n",
       "==============================================================================\n",
       "                 coef    std err          t      P>|t|      [0.025      0.975]\n",
       "------------------------------------------------------------------------------\n",
       "const         -0.0001      0.000     -0.552      0.581      -0.001       0.000\n",
       "^GSPC          1.2048      0.023     53.440      0.000       1.161       1.249\n",
       "==============================================================================\n",
       "Omnibus:                      293.748   Durbin-Watson:                   1.935\n",
       "Prob(Omnibus):                  0.000   Jarque-Bera (JB):             2870.051\n",
       "Skew:                           0.028   Prob(JB):                         0.00\n",
       "Kurtosis:                       8.231   Cond. No.                         91.6\n",
       "==============================================================================\n",
       "\n",
       "Notes:\n",
       "[1] Standard Errors assume that the covariance matrix of the errors is correctly specified.\n",
       "\"\"\""
      ]
     },
     "execution_count": 23,
     "metadata": {},
     "output_type": "execute_result"
    }
   ],
   "source": [
    "results.summary()"
   ]
  },
  {
   "cell_type": "code",
   "execution_count": 24,
   "id": "49a2d93c",
   "metadata": {},
   "outputs": [
    {
     "name": "stdout",
     "output_type": "stream",
     "text": [
      "[[0.14912838292281572]]\n",
      "[[0.12370411984596974]]\n",
      "[[0.12893116011827288]]\n",
      "[[0.06219112726515996]]\n",
      "[[0.14071544357834376]]\n"
     ]
    }
   ],
   "source": [
    "for i in tickers[1:]:\n",
    "    e=Risk_free_rate+((mat.loc['Beta',i].values*SP500_returns)-Risk_free_rate)\n",
    "    print(e)\n",
    "    mat.loc['E(Return)',i]=e"
   ]
  },
  {
   "cell_type": "code",
   "execution_count": 25,
   "id": "9dfc7532",
   "metadata": {},
   "outputs": [
    {
     "data": {
      "text/html": [
       "<div>\n",
       "<style scoped>\n",
       "    .dataframe tbody tr th:only-of-type {\n",
       "        vertical-align: middle;\n",
       "    }\n",
       "\n",
       "    .dataframe tbody tr th {\n",
       "        vertical-align: top;\n",
       "    }\n",
       "\n",
       "    .dataframe thead tr th {\n",
       "        text-align: left;\n",
       "    }\n",
       "</style>\n",
       "<table border=\"1\" class=\"dataframe\">\n",
       "  <thead>\n",
       "    <tr>\n",
       "      <th></th>\n",
       "      <th>TSLA</th>\n",
       "      <th>AAPL</th>\n",
       "      <th>MSFT</th>\n",
       "      <th>WMT</th>\n",
       "      <th>CAT</th>\n",
       "    </tr>\n",
       "  </thead>\n",
       "  <tbody>\n",
       "    <tr>\n",
       "      <th>Return</th>\n",
       "      <td>0.583847</td>\n",
       "      <td>0.28262</td>\n",
       "      <td>0.234287</td>\n",
       "      <td>0.100589</td>\n",
       "      <td>0.078905</td>\n",
       "    </tr>\n",
       "    <tr>\n",
       "      <th>Risk</th>\n",
       "      <td>0.557152</td>\n",
       "      <td>0.28027</td>\n",
       "      <td>0.25514</td>\n",
       "      <td>0.193499</td>\n",
       "      <td>0.286347</td>\n",
       "    </tr>\n",
       "    <tr>\n",
       "      <th>Beta</th>\n",
       "      <td>1.27686</td>\n",
       "      <td>1.059174</td>\n",
       "      <td>1.103928</td>\n",
       "      <td>0.53249</td>\n",
       "      <td>1.204827</td>\n",
       "    </tr>\n",
       "    <tr>\n",
       "      <th>E(Return)</th>\n",
       "      <td>0.149128</td>\n",
       "      <td>0.123704</td>\n",
       "      <td>0.128931</td>\n",
       "      <td>0.062191</td>\n",
       "      <td>0.140715</td>\n",
       "    </tr>\n",
       "  </tbody>\n",
       "</table>\n",
       "</div>"
      ],
      "text/plain": [
       "               TSLA      AAPL      MSFT       WMT       CAT\n",
       "Return     0.583847   0.28262  0.234287  0.100589  0.078905\n",
       "Risk       0.557152   0.28027   0.25514  0.193499  0.286347\n",
       "Beta        1.27686  1.059174  1.103928   0.53249  1.204827\n",
       "E(Return)  0.149128  0.123704  0.128931  0.062191  0.140715"
      ]
     },
     "execution_count": 25,
     "metadata": {},
     "output_type": "execute_result"
    }
   ],
   "source": [
    "mat"
   ]
  },
  {
   "cell_type": "code",
   "execution_count": 26,
   "id": "a11da38a",
   "metadata": {},
   "outputs": [
    {
     "data": {
      "text/plain": [
       "(array([0.02296808, 0.02430366, 0.05723698, ..., 0.02742876, 0.06148332,\n",
       "        0.06730193]),\n",
       " array([[0.29497545, 0.07563556, 0.37926105, 0.1030407 , 0.14708724],\n",
       "        [0.30699741, 0.30122908, 0.00420955, 0.18659039, 0.20097357],\n",
       "        [0.1238175 , 0.30404895, 0.11946703, 0.21280731, 0.23985921],\n",
       "        ...,\n",
       "        [0.24741211, 0.25841944, 0.37580297, 0.05241918, 0.0659463 ],\n",
       "        [0.07611408, 0.18508779, 0.43899495, 0.2431028 , 0.05670038],\n",
       "        [0.11224122, 0.25750083, 0.16823445, 0.39111031, 0.07091318]]))"
      ]
     },
     "execution_count": 26,
     "metadata": {},
     "output_type": "execute_result"
    }
   ],
   "source": [
    "p_wt  =[]\n",
    "util=[]\n",
    "for x in range(30000):\n",
    "    p_weights=np.random.random(len(tickers[1:]))\n",
    "    p_weights/=np.sum(p_weights)\n",
    "    returns=p_weights.dot(mat.loc['E(Return)',tickers[1:]].values.mean()).sum()\n",
    "    risk=(p_weights.T.dot((df1.cov()*252).dot(p_weights)))**(1/2)\n",
    "    utility=returns-Theta/2*risk**2\n",
    "    p_wt.append(p_weights)\n",
    "    util.append(utility)\n",
    "\n",
    "p_wt = np.array(p_wt)\n",
    "util= np.array(util)\n",
    "\n",
    "    \n",
    "util,p_wt"
   ]
  },
  {
   "cell_type": "code",
   "execution_count": 27,
   "id": "dcdd560a",
   "metadata": {},
   "outputs": [
    {
     "data": {
      "text/plain": [
       "26516"
      ]
     },
     "execution_count": 27,
     "metadata": {},
     "output_type": "execute_result"
    }
   ],
   "source": [
    "SR_IDX=np.argmax(util)\n",
    "SR_IDX"
   ]
  },
  {
   "cell_type": "code",
   "execution_count": 28,
   "id": "e0755fa1",
   "metadata": {},
   "outputs": [
    {
     "data": {
      "text/plain": [
       "array([0.03032658, 0.09754334, 0.10790196, 0.6127326 , 0.15149551])"
      ]
     },
     "execution_count": 28,
     "metadata": {},
     "output_type": "execute_result"
    }
   ],
   "source": [
    "p_wt[SR_IDX]"
   ]
  },
  {
   "cell_type": "code",
   "execution_count": 29,
   "id": "b8d98913",
   "metadata": {},
   "outputs": [
    {
     "data": {
      "text/plain": [
       "0.07645205535477134"
      ]
     },
     "execution_count": 29,
     "metadata": {},
     "output_type": "execute_result"
    }
   ],
   "source": [
    "util[SR_IDX]"
   ]
  },
  {
   "cell_type": "code",
   "execution_count": 30,
   "id": "5781b4d9",
   "metadata": {},
   "outputs": [
    {
     "data": {
      "text/plain": [
       "(0.12093404674611241, 0.17220528716494365)"
      ]
     },
     "execution_count": 30,
     "metadata": {},
     "output_type": "execute_result"
    }
   ],
   "source": [
    "returns=(p_wt[SR_IDX]*mat.loc['E(Return)',tickers[1:]].values.mean()).sum()\n",
    "risk=(p_wt[SR_IDX].T.dot((df1.cov()*252).dot(p_wt[SR_IDX])))**(1/2)\n",
    "returns,risk"
   ]
  },
  {
   "cell_type": "code",
   "execution_count": 31,
   "id": "4e3a4b44",
   "metadata": {},
   "outputs": [
    {
     "data": {
      "text/plain": [
       "<matplotlib.axes._subplots.AxesSubplot at 0x2808cebbbe0>"
      ]
     },
     "execution_count": 31,
     "metadata": {},
     "output_type": "execute_result"
    },
    {
     "data": {
      "image/png": "[encoded data removed]",
      "text/plain": [
       "<Figure size 432x288 with 1 Axes>"
      ]
     },
     "metadata": {
      "needs_background": "light"
     },
     "output_type": "display_data"
    }
   ],
   "source": [
    "df['WMT'].plot()"
   ]
  }
 ],
 "metadata": {
  "kernelspec": {
   "display_name": "Python 3 (ipykernel)",
   "language": "python",
   "name": "python3"
  },
  "language_info": {
   "codemirror_mode": {
    "name": "ipython",
    "version": 3
   },
   "file_extension": ".py",
   "mimetype": "text/x-python",
   "name": "python",
   "nbconvert_exporter": "python",
   "pygments_lexer": "ipython3",
   "version": "3.7.3"
  }
 },
 "nbformat": 4,
 "nbformat_minor": 5
}

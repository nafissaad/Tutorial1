{
 "cells": [
  {
   "cell_type": "code",
   "execution_count": 1,
   "id": "3970c857",
   "metadata": {},
   "outputs": [],
   "source": [
    "#! python -m pip install gekko"
   ]
  },
  {
   "cell_type": "code",
   "execution_count": 2,
   "id": "ec558fef",
   "metadata": {},
   "outputs": [],
   "source": [
    "import numpy as np\n",
    "import pandas as pd\n",
    "from gekko import GEKKO"
   ]
  },
  {
   "cell_type": "code",
   "execution_count": 3,
   "id": "a5d8323c",
   "metadata": {},
   "outputs": [
    {
     "data": {
      "text/html": [
       "<div>\n",
       "<style scoped>\n",
       "    .dataframe tbody tr th:only-of-type {\n",
       "        vertical-align: middle;\n",
       "    }\n",
       "\n",
       "    .dataframe tbody tr th {\n",
       "        vertical-align: top;\n",
       "    }\n",
       "\n",
       "    .dataframe thead th {\n",
       "        text-align: right;\n",
       "    }\n",
       "</style>\n",
       "<table border=\"1\" class=\"dataframe\">\n",
       "  <thead>\n",
       "    <tr style=\"text-align: right;\">\n",
       "      <th></th>\n",
       "      <th>A</th>\n",
       "      <th>B</th>\n",
       "      <th>C</th>\n",
       "      <th>D</th>\n",
       "    </tr>\n",
       "  </thead>\n",
       "  <tbody>\n",
       "    <tr>\n",
       "      <th>0</th>\n",
       "      <td>0.167022</td>\n",
       "      <td>0.470324</td>\n",
       "      <td>-0.249886</td>\n",
       "      <td>0.052333</td>\n",
       "    </tr>\n",
       "    <tr>\n",
       "      <th>1</th>\n",
       "      <td>-0.103244</td>\n",
       "      <td>-0.157661</td>\n",
       "      <td>-0.063740</td>\n",
       "      <td>0.095561</td>\n",
       "    </tr>\n",
       "    <tr>\n",
       "      <th>2</th>\n",
       "      <td>0.146767</td>\n",
       "      <td>0.288817</td>\n",
       "      <td>0.169195</td>\n",
       "      <td>0.435220</td>\n",
       "    </tr>\n",
       "    <tr>\n",
       "      <th>3</th>\n",
       "      <td>-0.045548</td>\n",
       "      <td>0.628117</td>\n",
       "      <td>-0.222612</td>\n",
       "      <td>0.420468</td>\n",
       "    </tr>\n",
       "    <tr>\n",
       "      <th>4</th>\n",
       "      <td>0.167305</td>\n",
       "      <td>0.308690</td>\n",
       "      <td>-0.109613</td>\n",
       "      <td>-0.051899</td>\n",
       "    </tr>\n",
       "    <tr>\n",
       "      <th>...</th>\n",
       "      <td>...</td>\n",
       "      <td>...</td>\n",
       "      <td>...</td>\n",
       "      <td>...</td>\n",
       "    </tr>\n",
       "    <tr>\n",
       "      <th>95</th>\n",
       "      <td>0.191904</td>\n",
       "      <td>0.331577</td>\n",
       "      <td>0.739752</td>\n",
       "      <td>-0.046094</td>\n",
       "    </tr>\n",
       "    <tr>\n",
       "      <th>96</th>\n",
       "      <td>-0.002267</td>\n",
       "      <td>0.012173</td>\n",
       "      <td>0.500172</td>\n",
       "      <td>0.206975</td>\n",
       "    </tr>\n",
       "    <tr>\n",
       "      <th>97</th>\n",
       "      <td>-0.193071</td>\n",
       "      <td>0.258516</td>\n",
       "      <td>-0.038040</td>\n",
       "      <td>0.548604</td>\n",
       "    </tr>\n",
       "    <tr>\n",
       "      <th>98</th>\n",
       "      <td>0.047331</td>\n",
       "      <td>-0.222394</td>\n",
       "      <td>0.343432</td>\n",
       "      <td>0.593840</td>\n",
       "    </tr>\n",
       "    <tr>\n",
       "      <th>99</th>\n",
       "      <td>0.131016</td>\n",
       "      <td>0.499858</td>\n",
       "      <td>0.261141</td>\n",
       "      <td>0.290952</td>\n",
       "    </tr>\n",
       "  </tbody>\n",
       "</table>\n",
       "<p>100 rows × 4 columns</p>\n",
       "</div>"
      ],
      "text/plain": [
       "           A         B         C         D\n",
       "0   0.167022  0.470324 -0.249886  0.052333\n",
       "1  -0.103244 -0.157661 -0.063740  0.095561\n",
       "2   0.146767  0.288817  0.169195  0.435220\n",
       "3  -0.045548  0.628117 -0.222612  0.420468\n",
       "4   0.167305  0.308690 -0.109613 -0.051899\n",
       "..       ...       ...       ...       ...\n",
       "95  0.191904  0.331577  0.739752 -0.046094\n",
       "96 -0.002267  0.012173  0.500172  0.206975\n",
       "97 -0.193071  0.258516 -0.038040  0.548604\n",
       "98  0.047331 -0.222394  0.343432  0.593840\n",
       "99  0.131016  0.499858  0.261141  0.290952\n",
       "\n",
       "[100 rows x 4 columns]"
      ]
     },
     "execution_count": 3,
     "metadata": {},
     "output_type": "execute_result"
    }
   ],
   "source": [
    "np.random.seed(1)\n",
    "df_returns=pd.DataFrame(np.random.rand(100,4)-0.25,columns=list('ABCD'))\n",
    "df_returns"
   ]
  },
  {
   "cell_type": "code",
   "execution_count": 4,
   "id": "dcc33bae",
   "metadata": {},
   "outputs": [
    {
     "data": {
      "text/plain": [
       "A    0.15\n",
       "B    0.35\n",
       "C    0.25\n",
       "D    0.25\n",
       "dtype: float64"
      ]
     },
     "execution_count": 4,
     "metadata": {},
     "output_type": "execute_result"
    }
   ],
   "source": [
    "weights=pd.Series([0.15,0.35,0.25,0.25],index=list('ABCD'))\n",
    "weights"
   ]
  },
  {
   "cell_type": "code",
   "execution_count": 5,
   "id": "55ca66eb",
   "metadata": {},
   "outputs": [
    {
     "data": {
      "text/plain": [
       "(0.0250533, -0.0154866)"
      ]
     },
     "execution_count": 5,
     "metadata": {},
     "output_type": "execute_result"
    }
   ],
   "source": [
    "0.167022*0.15,-0.103244*0.15"
   ]
  },
  {
   "cell_type": "code",
   "execution_count": 6,
   "id": "dfa00ee5",
   "metadata": {},
   "outputs": [
    {
     "data": {
      "text/plain": [
       "0.24384782688578396"
      ]
     },
     "execution_count": 6,
     "metadata": {},
     "output_type": "execute_result"
    }
   ],
   "source": [
    "df_returns.mean()[0]"
   ]
  },
  {
   "cell_type": "code",
   "execution_count": 7,
   "id": "7aa8c6bb",
   "metadata": {},
   "outputs": [
    {
     "data": {
      "text/html": [
       "<div>\n",
       "<style scoped>\n",
       "    .dataframe tbody tr th:only-of-type {\n",
       "        vertical-align: middle;\n",
       "    }\n",
       "\n",
       "    .dataframe tbody tr th {\n",
       "        vertical-align: top;\n",
       "    }\n",
       "\n",
       "    .dataframe thead th {\n",
       "        text-align: right;\n",
       "    }\n",
       "</style>\n",
       "<table border=\"1\" class=\"dataframe\">\n",
       "  <thead>\n",
       "    <tr style=\"text-align: right;\">\n",
       "      <th></th>\n",
       "      <th>A</th>\n",
       "      <th>B</th>\n",
       "      <th>C</th>\n",
       "      <th>D</th>\n",
       "    </tr>\n",
       "  </thead>\n",
       "  <tbody>\n",
       "    <tr>\n",
       "      <th>0</th>\n",
       "      <td>0.025053</td>\n",
       "      <td>0.164614</td>\n",
       "      <td>-0.062471</td>\n",
       "      <td>0.013083</td>\n",
       "    </tr>\n",
       "    <tr>\n",
       "      <th>1</th>\n",
       "      <td>-0.015487</td>\n",
       "      <td>-0.055181</td>\n",
       "      <td>-0.015935</td>\n",
       "      <td>0.023890</td>\n",
       "    </tr>\n",
       "    <tr>\n",
       "      <th>2</th>\n",
       "      <td>0.022015</td>\n",
       "      <td>0.101086</td>\n",
       "      <td>0.042299</td>\n",
       "      <td>0.108805</td>\n",
       "    </tr>\n",
       "    <tr>\n",
       "      <th>3</th>\n",
       "      <td>-0.006832</td>\n",
       "      <td>0.219841</td>\n",
       "      <td>-0.055653</td>\n",
       "      <td>0.105117</td>\n",
       "    </tr>\n",
       "    <tr>\n",
       "      <th>4</th>\n",
       "      <td>0.025096</td>\n",
       "      <td>0.108041</td>\n",
       "      <td>-0.027403</td>\n",
       "      <td>-0.012975</td>\n",
       "    </tr>\n",
       "    <tr>\n",
       "      <th>...</th>\n",
       "      <td>...</td>\n",
       "      <td>...</td>\n",
       "      <td>...</td>\n",
       "      <td>...</td>\n",
       "    </tr>\n",
       "    <tr>\n",
       "      <th>95</th>\n",
       "      <td>0.028786</td>\n",
       "      <td>0.116052</td>\n",
       "      <td>0.184938</td>\n",
       "      <td>-0.011523</td>\n",
       "    </tr>\n",
       "    <tr>\n",
       "      <th>96</th>\n",
       "      <td>-0.000340</td>\n",
       "      <td>0.004261</td>\n",
       "      <td>0.125043</td>\n",
       "      <td>0.051744</td>\n",
       "    </tr>\n",
       "    <tr>\n",
       "      <th>97</th>\n",
       "      <td>-0.028961</td>\n",
       "      <td>0.090481</td>\n",
       "      <td>-0.009510</td>\n",
       "      <td>0.137151</td>\n",
       "    </tr>\n",
       "    <tr>\n",
       "      <th>98</th>\n",
       "      <td>0.007100</td>\n",
       "      <td>-0.077838</td>\n",
       "      <td>0.085858</td>\n",
       "      <td>0.148460</td>\n",
       "    </tr>\n",
       "    <tr>\n",
       "      <th>99</th>\n",
       "      <td>0.019652</td>\n",
       "      <td>0.174950</td>\n",
       "      <td>0.065285</td>\n",
       "      <td>0.072738</td>\n",
       "    </tr>\n",
       "  </tbody>\n",
       "</table>\n",
       "<p>100 rows × 4 columns</p>\n",
       "</div>"
      ],
      "text/plain": [
       "           A         B         C         D\n",
       "0   0.025053  0.164614 -0.062471  0.013083\n",
       "1  -0.015487 -0.055181 -0.015935  0.023890\n",
       "2   0.022015  0.101086  0.042299  0.108805\n",
       "3  -0.006832  0.219841 -0.055653  0.105117\n",
       "4   0.025096  0.108041 -0.027403 -0.012975\n",
       "..       ...       ...       ...       ...\n",
       "95  0.028786  0.116052  0.184938 -0.011523\n",
       "96 -0.000340  0.004261  0.125043  0.051744\n",
       "97 -0.028961  0.090481 -0.009510  0.137151\n",
       "98  0.007100 -0.077838  0.085858  0.148460\n",
       "99  0.019652  0.174950  0.065285  0.072738\n",
       "\n",
       "[100 rows x 4 columns]"
      ]
     },
     "execution_count": 7,
     "metadata": {},
     "output_type": "execute_result"
    }
   ],
   "source": [
    "df_returns*weights"
   ]
  },
  {
   "cell_type": "code",
   "execution_count": 8,
   "id": "e2621c7f",
   "metadata": {},
   "outputs": [],
   "source": [
    "def returns_objective_function(x,df_returns):\n",
    "    result=(df_returns*x).mean().sum()\n",
    "    return result"
   ]
  },
  {
   "cell_type": "code",
   "execution_count": 9,
   "id": "d47cfeae",
   "metadata": {},
   "outputs": [
    {
     "data": {
      "text/plain": [
       "array([1., 1., 1., 1.])"
      ]
     },
     "execution_count": 9,
     "metadata": {},
     "output_type": "execute_result"
    }
   ],
   "source": [
    "x=np.ones(4)\n",
    "x"
   ]
  },
  {
   "cell_type": "code",
   "execution_count": 10,
   "id": "e070e747",
   "metadata": {},
   "outputs": [
    {
     "data": {
      "text/plain": [
       "0.2623920970760596"
      ]
     },
     "execution_count": 10,
     "metadata": {},
     "output_type": "execute_result"
    }
   ],
   "source": [
    "returns_objective_function(weights,df_returns)"
   ]
  },
  {
   "cell_type": "code",
   "execution_count": 11,
   "id": "9280e289",
   "metadata": {},
   "outputs": [],
   "source": [
    "m=GEKKO()"
   ]
  },
  {
   "cell_type": "code",
   "execution_count": 12,
   "id": "d93de7d1",
   "metadata": {},
   "outputs": [],
   "source": [
    "x1=m.Var(lb=0.01,ub=0.8)\n",
    "x2=m.Var(lb=0.01,ub=0.8)\n",
    "x3=m.Var(lb=0.01,ub=0.8)\n",
    "x4=m.Var(lb=0.01,ub=0.75)"
   ]
  },
  {
   "cell_type": "code",
   "execution_count": 13,
   "id": "9a927882",
   "metadata": {},
   "outputs": [
    {
     "data": {
      "text/plain": [
       "<gekko.gekko.EquationObj at 0x229ffcb7160>"
      ]
     },
     "execution_count": 13,
     "metadata": {},
     "output_type": "execute_result"
    }
   ],
   "source": [
    "m.Equation(x1+x2+x3+x4==1)#Objective Function\n",
    "m.Equation(x1+x2==0.3)"
   ]
  },
  {
   "cell_type": "code",
   "execution_count": 14,
   "id": "2c46570a",
   "metadata": {},
   "outputs": [
    {
     "data": {
      "text/plain": [
       "0.29300382583510026"
      ]
     },
     "execution_count": 14,
     "metadata": {},
     "output_type": "execute_result"
    }
   ],
   "source": [
    "df_returns.mean()[3]"
   ]
  },
  {
   "cell_type": "code",
   "execution_count": 15,
   "id": "31032d86",
   "metadata": {},
   "outputs": [],
   "source": [
    "m.Maximize(0.24384782688578396*x1+0.2789166018980218*x2+0.21977262368043718*x3+0.29300382583510026*x4)#subject function"
   ]
  },
  {
   "cell_type": "code",
   "execution_count": 16,
   "id": "ad4842a8",
   "metadata": {
    "scrolled": false
   },
   "outputs": [],
   "source": [
    "m.solve(disp=False)"
   ]
  },
  {
   "cell_type": "code",
   "execution_count": 17,
   "id": "470b93dd",
   "metadata": {},
   "outputs": [
    {
     "name": "stdout",
     "output_type": "stream",
     "text": [
      "0.01 0.29000000859 0.01 0.69000000998\n",
      "-0.2876946642\n"
     ]
    }
   ],
   "source": [
    "print(x1.value[0],x2.value[0],x3.value[0],x4.value[0])\n",
    "print(m.options.objfcnval)"
   ]
  },
  {
   "cell_type": "code",
   "execution_count": 18,
   "id": "81c8f3e0",
   "metadata": {},
   "outputs": [],
   "source": [
    "from scipy.optimize import minimize"
   ]
  },
  {
   "cell_type": "code",
   "execution_count": 19,
   "id": "85191f55",
   "metadata": {},
   "outputs": [],
   "source": [
    "def returns_objective_function(x,df_returns):\n",
    "    result=-(df_returns*x).mean().sum()\n",
    "    return result"
   ]
  },
  {
   "cell_type": "code",
   "execution_count": 20,
   "id": "f0ab1c3e",
   "metadata": {},
   "outputs": [
    {
     "data": {
      "text/plain": [
       "array([1., 1., 1., 1.])"
      ]
     },
     "execution_count": 20,
     "metadata": {},
     "output_type": "execute_result"
    }
   ],
   "source": [
    "x=np.ones(4)\n",
    "x"
   ]
  },
  {
   "cell_type": "code",
   "execution_count": 21,
   "id": "10495592",
   "metadata": {},
   "outputs": [
    {
     "data": {
      "text/plain": [
       "-0.2623920970760596"
      ]
     },
     "execution_count": 21,
     "metadata": {},
     "output_type": "execute_result"
    }
   ],
   "source": [
    "returns_objective_function(weights,df_returns)"
   ]
  },
  {
   "cell_type": "code",
   "execution_count": 22,
   "id": "5af8a78e",
   "metadata": {},
   "outputs": [
    {
     "data": {
      "text/plain": [
       "((0.01, 0.8), (0.01, 0.8), (0.01, 0.8), (0.01, 0.75))"
      ]
     },
     "execution_count": 22,
     "metadata": {},
     "output_type": "execute_result"
    }
   ],
   "source": [
    "cons=(\n",
    "    {'type':'eq','fun':lambda x: np.sum(x)-1},\n",
    "    #{'type':'ieq','fun':lambda x: x[1]-0.24},\n",
    "    {'type':'ineq','fun':lambda x: x[0]+x[1]-0.30}\n",
    ")\n",
    "b=(0.01,0.8)\n",
    "bnds=(b,b,b,(0.01,0.75))\n",
    "bnds"
   ]
  },
  {
   "cell_type": "code",
   "execution_count": 23,
   "id": "0af5673c",
   "metadata": {},
   "outputs": [],
   "source": [
    "result=minimize(returns_objective_function,weights,(df_returns),bounds=bnds,constraints=cons,method='SLSQP')"
   ]
  },
  {
   "cell_type": "code",
   "execution_count": 24,
   "id": "0f8d891f",
   "metadata": {},
   "outputs": [
    {
     "data": {
      "text/plain": [
       "     fun: -0.28769465888230783\n",
       "     jac: array([-0.24384783, -0.2789166 , -0.21977263, -0.29300383])\n",
       " message: 'Optimization terminated successfully'\n",
       "    nfev: 35\n",
       "     nit: 7\n",
       "    njev: 7\n",
       "  status: 0\n",
       " success: True\n",
       "       x: array([0.01, 0.29, 0.01, 0.69])"
      ]
     },
     "execution_count": 24,
     "metadata": {},
     "output_type": "execute_result"
    }
   ],
   "source": [
    "result"
   ]
  },
  {
   "cell_type": "code",
   "execution_count": 25,
   "id": "5c15db8d",
   "metadata": {},
   "outputs": [
    {
     "data": {
      "text/plain": [
       "0.28769465888230783"
      ]
     },
     "execution_count": 25,
     "metadata": {},
     "output_type": "execute_result"
    }
   ],
   "source": [
    "(result['x']*df_returns).mean().sum()"
   ]
  },
  {
   "cell_type": "code",
   "execution_count": null,
   "id": "8299476b",
   "metadata": {},
   "outputs": [],
   "source": []
  }
 ],
 "metadata": {
  "kernelspec": {
   "display_name": "Python 3 (ipykernel)",
   "language": "python",
   "name": "python3"
  },
  "language_info": {
   "codemirror_mode": {
    "name": "ipython",
    "version": 3
   },
   "file_extension": ".py",
   "mimetype": "text/x-python",
   "name": "python",
   "nbconvert_exporter": "python",
   "pygments_lexer": "ipython3",
   "version": "3.7.3"
  }
 },
 "nbformat": 4,
 "nbformat_minor": 5
}

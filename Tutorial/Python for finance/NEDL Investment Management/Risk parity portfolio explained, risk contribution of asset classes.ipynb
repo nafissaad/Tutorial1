{
 "cells": [
  {
   "cell_type": "code",
   "execution_count": 1,
   "id": "ec558fef",
   "metadata": {},
   "outputs": [],
   "source": [
    "import random\n",
    "import numpy as np\n",
    "import yfinance as yf\n",
    "import pandas as pd\n",
    "from matplotlib import pyplot as plt\n",
    "from scipy.stats import norm\n",
    "import math\n",
    "import scipy.stats as stats\n",
    "from scipy.stats import norm\n",
    "from datetime import datetime, timedelta\n",
    "import statsmodels.api as sm\n",
    "import requests\n",
    "%matplotlib inline"
   ]
  },
  {
   "cell_type": "code",
   "execution_count": 2,
   "id": "055e0179",
   "metadata": {},
   "outputs": [],
   "source": [
    "tickers=['Large stocks','Small stocks','Treasury bonds','Corporate bonds','Gold','REIT']"
   ]
  },
  {
   "cell_type": "code",
   "execution_count": 3,
   "id": "838453bd",
   "metadata": {},
   "outputs": [
    {
     "data": {
      "text/html": [
       "<div>\n",
       "<style scoped>\n",
       "    .dataframe tbody tr th:only-of-type {\n",
       "        vertical-align: middle;\n",
       "    }\n",
       "\n",
       "    .dataframe tbody tr th {\n",
       "        vertical-align: top;\n",
       "    }\n",
       "\n",
       "    .dataframe thead th {\n",
       "        text-align: right;\n",
       "    }\n",
       "</style>\n",
       "<table border=\"1\" class=\"dataframe\">\n",
       "  <thead>\n",
       "    <tr style=\"text-align: right;\">\n",
       "      <th></th>\n",
       "      <th>Large stocks</th>\n",
       "      <th>Small stocks</th>\n",
       "      <th>Treasury bonds</th>\n",
       "      <th>Corporate bonds</th>\n",
       "      <th>Gold</th>\n",
       "      <th>REIT</th>\n",
       "    </tr>\n",
       "    <tr>\n",
       "      <th>Date</th>\n",
       "      <th></th>\n",
       "      <th></th>\n",
       "      <th></th>\n",
       "      <th></th>\n",
       "      <th></th>\n",
       "      <th></th>\n",
       "    </tr>\n",
       "  </thead>\n",
       "  <tbody>\n",
       "    <tr>\n",
       "      <th>2016-03-30</th>\n",
       "      <td>187.404327</td>\n",
       "      <td>103.284630</td>\n",
       "      <td>115.934731</td>\n",
       "      <td>63.101669</td>\n",
       "      <td>117.099998</td>\n",
       "      <td>67.771255</td>\n",
       "    </tr>\n",
       "    <tr>\n",
       "      <th>2016-03-31</th>\n",
       "      <td>186.949509</td>\n",
       "      <td>103.563309</td>\n",
       "      <td>116.757210</td>\n",
       "      <td>63.186726</td>\n",
       "      <td>117.639999</td>\n",
       "      <td>68.186249</td>\n",
       "    </tr>\n",
       "    <tr>\n",
       "      <th>2016-04-01</th>\n",
       "      <td>188.222961</td>\n",
       "      <td>103.804810</td>\n",
       "      <td>117.061729</td>\n",
       "      <td>63.232586</td>\n",
       "      <td>116.930000</td>\n",
       "      <td>68.096741</td>\n",
       "    </tr>\n",
       "    <tr>\n",
       "      <th>2016-04-04</th>\n",
       "      <td>187.613495</td>\n",
       "      <td>103.024544</td>\n",
       "      <td>117.133392</td>\n",
       "      <td>63.077179</td>\n",
       "      <td>116.150002</td>\n",
       "      <td>67.999100</td>\n",
       "    </tr>\n",
       "    <tr>\n",
       "      <th>2016-04-05</th>\n",
       "      <td>185.739670</td>\n",
       "      <td>101.835556</td>\n",
       "      <td>118.414383</td>\n",
       "      <td>62.844059</td>\n",
       "      <td>117.660004</td>\n",
       "      <td>67.551575</td>\n",
       "    </tr>\n",
       "    <tr>\n",
       "      <th>...</th>\n",
       "      <td>...</td>\n",
       "      <td>...</td>\n",
       "      <td>...</td>\n",
       "      <td>...</td>\n",
       "      <td>...</td>\n",
       "      <td>...</td>\n",
       "    </tr>\n",
       "    <tr>\n",
       "      <th>2021-03-23</th>\n",
       "      <td>389.500000</td>\n",
       "      <td>209.498306</td>\n",
       "      <td>137.490005</td>\n",
       "      <td>86.459999</td>\n",
       "      <td>161.809998</td>\n",
       "      <td>90.471031</td>\n",
       "    </tr>\n",
       "    <tr>\n",
       "      <th>2021-03-24</th>\n",
       "      <td>387.519989</td>\n",
       "      <td>206.307007</td>\n",
       "      <td>138.229996</td>\n",
       "      <td>86.510002</td>\n",
       "      <td>162.369995</td>\n",
       "      <td>89.963997</td>\n",
       "    </tr>\n",
       "    <tr>\n",
       "      <th>2021-03-25</th>\n",
       "      <td>389.700012</td>\n",
       "      <td>210.350006</td>\n",
       "      <td>137.139999</td>\n",
       "      <td>86.660004</td>\n",
       "      <td>161.779999</td>\n",
       "      <td>90.879997</td>\n",
       "    </tr>\n",
       "    <tr>\n",
       "      <th>2021-03-26</th>\n",
       "      <td>395.980011</td>\n",
       "      <td>214.119995</td>\n",
       "      <td>136.660004</td>\n",
       "      <td>86.919998</td>\n",
       "      <td>162.240005</td>\n",
       "      <td>92.839996</td>\n",
       "    </tr>\n",
       "    <tr>\n",
       "      <th>2021-03-29</th>\n",
       "      <td>395.779999</td>\n",
       "      <td>209.979996</td>\n",
       "      <td>135.500000</td>\n",
       "      <td>86.970001</td>\n",
       "      <td>160.309998</td>\n",
       "      <td>92.300003</td>\n",
       "    </tr>\n",
       "  </tbody>\n",
       "</table>\n",
       "<p>1259 rows × 6 columns</p>\n",
       "</div>"
      ],
      "text/plain": [
       "            Large stocks  Small stocks  Treasury bonds  Corporate bonds  \\\n",
       "Date                                                                      \n",
       "2016-03-30    187.404327    103.284630      115.934731        63.101669   \n",
       "2016-03-31    186.949509    103.563309      116.757210        63.186726   \n",
       "2016-04-01    188.222961    103.804810      117.061729        63.232586   \n",
       "2016-04-04    187.613495    103.024544      117.133392        63.077179   \n",
       "2016-04-05    185.739670    101.835556      118.414383        62.844059   \n",
       "...                  ...           ...             ...              ...   \n",
       "2021-03-23    389.500000    209.498306      137.490005        86.459999   \n",
       "2021-03-24    387.519989    206.307007      138.229996        86.510002   \n",
       "2021-03-25    389.700012    210.350006      137.139999        86.660004   \n",
       "2021-03-26    395.980011    214.119995      136.660004        86.919998   \n",
       "2021-03-29    395.779999    209.979996      135.500000        86.970001   \n",
       "\n",
       "                  Gold       REIT  \n",
       "Date                               \n",
       "2016-03-30  117.099998  67.771255  \n",
       "2016-03-31  117.639999  68.186249  \n",
       "2016-04-01  116.930000  68.096741  \n",
       "2016-04-04  116.150002  67.999100  \n",
       "2016-04-05  117.660004  67.551575  \n",
       "...                ...        ...  \n",
       "2021-03-23  161.809998  90.471031  \n",
       "2021-03-24  162.369995  89.963997  \n",
       "2021-03-25  161.779999  90.879997  \n",
       "2021-03-26  162.240005  92.839996  \n",
       "2021-03-29  160.309998  92.300003  \n",
       "\n",
       "[1259 rows x 6 columns]"
      ]
     },
     "execution_count": 3,
     "metadata": {},
     "output_type": "execute_result"
    }
   ],
   "source": [
    "df=df=pd.read_excel('C:\\\\Users\\\\nafissaad\\\\Downloads\\\\NEDL_Diversification_Ratio.xlsx',index_col='Date')\n",
    "df"
   ]
  },
  {
   "cell_type": "code",
   "execution_count": 4,
   "id": "79ab59c2",
   "metadata": {},
   "outputs": [
    {
     "data": {
      "text/html": [
       "<div>\n",
       "<style scoped>\n",
       "    .dataframe tbody tr th:only-of-type {\n",
       "        vertical-align: middle;\n",
       "    }\n",
       "\n",
       "    .dataframe tbody tr th {\n",
       "        vertical-align: top;\n",
       "    }\n",
       "\n",
       "    .dataframe thead th {\n",
       "        text-align: right;\n",
       "    }\n",
       "</style>\n",
       "<table border=\"1\" class=\"dataframe\">\n",
       "  <thead>\n",
       "    <tr style=\"text-align: right;\">\n",
       "      <th></th>\n",
       "      <th>Large stocks</th>\n",
       "      <th>Small stocks</th>\n",
       "      <th>Treasury bonds</th>\n",
       "      <th>Corporate bonds</th>\n",
       "      <th>Gold</th>\n",
       "      <th>REIT</th>\n",
       "    </tr>\n",
       "    <tr>\n",
       "      <th>Date</th>\n",
       "      <th></th>\n",
       "      <th></th>\n",
       "      <th></th>\n",
       "      <th></th>\n",
       "      <th></th>\n",
       "      <th></th>\n",
       "    </tr>\n",
       "  </thead>\n",
       "  <tbody>\n",
       "    <tr>\n",
       "      <th>2016-03-31</th>\n",
       "      <td>-0.002427</td>\n",
       "      <td>0.002698</td>\n",
       "      <td>0.007094</td>\n",
       "      <td>0.001348</td>\n",
       "      <td>0.004611</td>\n",
       "      <td>0.006123</td>\n",
       "    </tr>\n",
       "    <tr>\n",
       "      <th>2016-04-01</th>\n",
       "      <td>0.006812</td>\n",
       "      <td>0.002332</td>\n",
       "      <td>0.002608</td>\n",
       "      <td>0.000726</td>\n",
       "      <td>-0.006035</td>\n",
       "      <td>-0.001313</td>\n",
       "    </tr>\n",
       "    <tr>\n",
       "      <th>2016-04-04</th>\n",
       "      <td>-0.003238</td>\n",
       "      <td>-0.007517</td>\n",
       "      <td>0.000612</td>\n",
       "      <td>-0.002458</td>\n",
       "      <td>-0.006671</td>\n",
       "      <td>-0.001434</td>\n",
       "    </tr>\n",
       "    <tr>\n",
       "      <th>2016-04-05</th>\n",
       "      <td>-0.009988</td>\n",
       "      <td>-0.011541</td>\n",
       "      <td>0.010936</td>\n",
       "      <td>-0.003696</td>\n",
       "      <td>0.013000</td>\n",
       "      <td>-0.006581</td>\n",
       "    </tr>\n",
       "    <tr>\n",
       "      <th>2016-04-06</th>\n",
       "      <td>0.010921</td>\n",
       "      <td>0.011220</td>\n",
       "      <td>-0.007262</td>\n",
       "      <td>0.008408</td>\n",
       "      <td>-0.006119</td>\n",
       "      <td>0.002409</td>\n",
       "    </tr>\n",
       "    <tr>\n",
       "      <th>...</th>\n",
       "      <td>...</td>\n",
       "      <td>...</td>\n",
       "      <td>...</td>\n",
       "      <td>...</td>\n",
       "      <td>...</td>\n",
       "      <td>...</td>\n",
       "    </tr>\n",
       "    <tr>\n",
       "      <th>2021-03-23</th>\n",
       "      <td>-0.007871</td>\n",
       "      <td>-0.028578</td>\n",
       "      <td>0.009027</td>\n",
       "      <td>0.001042</td>\n",
       "      <td>-0.007301</td>\n",
       "      <td>-0.001427</td>\n",
       "    </tr>\n",
       "    <tr>\n",
       "      <th>2021-03-24</th>\n",
       "      <td>-0.005083</td>\n",
       "      <td>-0.015233</td>\n",
       "      <td>0.005382</td>\n",
       "      <td>0.000578</td>\n",
       "      <td>0.003461</td>\n",
       "      <td>-0.005604</td>\n",
       "    </tr>\n",
       "    <tr>\n",
       "      <th>2021-03-25</th>\n",
       "      <td>0.005626</td>\n",
       "      <td>0.019597</td>\n",
       "      <td>-0.007885</td>\n",
       "      <td>0.001734</td>\n",
       "      <td>-0.003634</td>\n",
       "      <td>0.010182</td>\n",
       "    </tr>\n",
       "    <tr>\n",
       "      <th>2021-03-26</th>\n",
       "      <td>0.016115</td>\n",
       "      <td>0.017922</td>\n",
       "      <td>-0.003500</td>\n",
       "      <td>0.003000</td>\n",
       "      <td>0.002843</td>\n",
       "      <td>0.021567</td>\n",
       "    </tr>\n",
       "    <tr>\n",
       "      <th>2021-03-29</th>\n",
       "      <td>-0.000505</td>\n",
       "      <td>-0.019335</td>\n",
       "      <td>-0.008488</td>\n",
       "      <td>0.000575</td>\n",
       "      <td>-0.011896</td>\n",
       "      <td>-0.005816</td>\n",
       "    </tr>\n",
       "  </tbody>\n",
       "</table>\n",
       "<p>1258 rows × 6 columns</p>\n",
       "</div>"
      ],
      "text/plain": [
       "            Large stocks  Small stocks  Treasury bonds  Corporate bonds  \\\n",
       "Date                                                                      \n",
       "2016-03-31     -0.002427      0.002698        0.007094         0.001348   \n",
       "2016-04-01      0.006812      0.002332        0.002608         0.000726   \n",
       "2016-04-04     -0.003238     -0.007517        0.000612        -0.002458   \n",
       "2016-04-05     -0.009988     -0.011541        0.010936        -0.003696   \n",
       "2016-04-06      0.010921      0.011220       -0.007262         0.008408   \n",
       "...                  ...           ...             ...              ...   \n",
       "2021-03-23     -0.007871     -0.028578        0.009027         0.001042   \n",
       "2021-03-24     -0.005083     -0.015233        0.005382         0.000578   \n",
       "2021-03-25      0.005626      0.019597       -0.007885         0.001734   \n",
       "2021-03-26      0.016115      0.017922       -0.003500         0.003000   \n",
       "2021-03-29     -0.000505     -0.019335       -0.008488         0.000575   \n",
       "\n",
       "                Gold      REIT  \n",
       "Date                            \n",
       "2016-03-31  0.004611  0.006123  \n",
       "2016-04-01 -0.006035 -0.001313  \n",
       "2016-04-04 -0.006671 -0.001434  \n",
       "2016-04-05  0.013000 -0.006581  \n",
       "2016-04-06 -0.006119  0.002409  \n",
       "...              ...       ...  \n",
       "2021-03-23 -0.007301 -0.001427  \n",
       "2021-03-24  0.003461 -0.005604  \n",
       "2021-03-25 -0.003634  0.010182  \n",
       "2021-03-26  0.002843  0.021567  \n",
       "2021-03-29 -0.011896 -0.005816  \n",
       "\n",
       "[1258 rows x 6 columns]"
      ]
     },
     "execution_count": 4,
     "metadata": {},
     "output_type": "execute_result"
    }
   ],
   "source": [
    "df=df.pct_change().dropna()\n",
    "df"
   ]
  },
  {
   "cell_type": "code",
   "execution_count": 5,
   "id": "931362ab",
   "metadata": {},
   "outputs": [
    {
     "data": {
      "text/html": [
       "<div>\n",
       "<style scoped>\n",
       "    .dataframe tbody tr th:only-of-type {\n",
       "        vertical-align: middle;\n",
       "    }\n",
       "\n",
       "    .dataframe tbody tr th {\n",
       "        vertical-align: top;\n",
       "    }\n",
       "\n",
       "    .dataframe thead tr th {\n",
       "        text-align: left;\n",
       "    }\n",
       "</style>\n",
       "<table border=\"1\" class=\"dataframe\">\n",
       "  <thead>\n",
       "    <tr>\n",
       "      <th></th>\n",
       "      <th>Large stocks</th>\n",
       "      <th>Small stocks</th>\n",
       "      <th>Treasury bonds</th>\n",
       "      <th>Corporate bonds</th>\n",
       "      <th>Gold</th>\n",
       "    </tr>\n",
       "  </thead>\n",
       "  <tbody>\n",
       "    <tr>\n",
       "      <th>Standerd deviation</th>\n",
       "      <td>NaN</td>\n",
       "      <td>NaN</td>\n",
       "      <td>NaN</td>\n",
       "      <td>NaN</td>\n",
       "      <td>NaN</td>\n",
       "    </tr>\n",
       "    <tr>\n",
       "      <th>Weights</th>\n",
       "      <td>NaN</td>\n",
       "      <td>NaN</td>\n",
       "      <td>NaN</td>\n",
       "      <td>NaN</td>\n",
       "      <td>NaN</td>\n",
       "    </tr>\n",
       "    <tr>\n",
       "      <th>Sum weights</th>\n",
       "      <td>NaN</td>\n",
       "      <td>NaN</td>\n",
       "      <td>NaN</td>\n",
       "      <td>NaN</td>\n",
       "      <td>NaN</td>\n",
       "    </tr>\n",
       "  </tbody>\n",
       "</table>\n",
       "</div>"
      ],
      "text/plain": [
       "                   Large stocks Small stocks Treasury bonds Corporate bonds  \\\n",
       "Standerd deviation          NaN          NaN            NaN             NaN   \n",
       "Weights                     NaN          NaN            NaN             NaN   \n",
       "Sum weights                 NaN          NaN            NaN             NaN   \n",
       "\n",
       "                   Gold  \n",
       "Standerd deviation  NaN  \n",
       "Weights             NaN  \n",
       "Sum weights         NaN  "
      ]
     },
     "execution_count": 5,
     "metadata": {},
     "output_type": "execute_result"
    }
   ],
   "source": [
    "metrix=pd.DataFrame(columns=[tickers[:-1]],index=['Standerd deviation','Weights','Sum weights'])\n",
    "metrix"
   ]
  },
  {
   "cell_type": "code",
   "execution_count": 6,
   "id": "51a6293c",
   "metadata": {},
   "outputs": [
    {
     "data": {
      "text/html": [
       "<div>\n",
       "<style scoped>\n",
       "    .dataframe tbody tr th:only-of-type {\n",
       "        vertical-align: middle;\n",
       "    }\n",
       "\n",
       "    .dataframe tbody tr th {\n",
       "        vertical-align: top;\n",
       "    }\n",
       "\n",
       "    .dataframe thead th {\n",
       "        text-align: right;\n",
       "    }\n",
       "</style>\n",
       "<table border=\"1\" class=\"dataframe\">\n",
       "  <thead>\n",
       "    <tr style=\"text-align: right;\">\n",
       "      <th></th>\n",
       "      <th>Large stocks</th>\n",
       "      <th>Small stocks</th>\n",
       "      <th>Treasury bonds</th>\n",
       "      <th>Corporate bonds</th>\n",
       "      <th>Gold</th>\n",
       "      <th>REIT</th>\n",
       "    </tr>\n",
       "  </thead>\n",
       "  <tbody>\n",
       "    <tr>\n",
       "      <th>Large stocks</th>\n",
       "      <td>0.035152</td>\n",
       "      <td>0.038029</td>\n",
       "      <td>-0.010105</td>\n",
       "      <td>0.013492</td>\n",
       "      <td>0.000386</td>\n",
       "      <td>0.031819</td>\n",
       "    </tr>\n",
       "    <tr>\n",
       "      <th>Small stocks</th>\n",
       "      <td>0.038029</td>\n",
       "      <td>0.048442</td>\n",
       "      <td>-0.011319</td>\n",
       "      <td>0.015676</td>\n",
       "      <td>0.000031</td>\n",
       "      <td>0.038443</td>\n",
       "    </tr>\n",
       "    <tr>\n",
       "      <th>Treasury bonds</th>\n",
       "      <td>-0.010105</td>\n",
       "      <td>-0.011319</td>\n",
       "      <td>0.019336</td>\n",
       "      <td>-0.003121</td>\n",
       "      <td>0.006231</td>\n",
       "      <td>-0.005676</td>\n",
       "    </tr>\n",
       "    <tr>\n",
       "      <th>Corporate bonds</th>\n",
       "      <td>0.013492</td>\n",
       "      <td>0.015676</td>\n",
       "      <td>-0.003121</td>\n",
       "      <td>0.008171</td>\n",
       "      <td>0.001158</td>\n",
       "      <td>0.014779</td>\n",
       "    </tr>\n",
       "    <tr>\n",
       "      <th>Gold</th>\n",
       "      <td>0.000386</td>\n",
       "      <td>0.000031</td>\n",
       "      <td>0.006231</td>\n",
       "      <td>0.001158</td>\n",
       "      <td>0.018822</td>\n",
       "      <td>0.002938</td>\n",
       "    </tr>\n",
       "    <tr>\n",
       "      <th>REIT</th>\n",
       "      <td>0.031819</td>\n",
       "      <td>0.038443</td>\n",
       "      <td>-0.005676</td>\n",
       "      <td>0.014779</td>\n",
       "      <td>0.002938</td>\n",
       "      <td>0.050357</td>\n",
       "    </tr>\n",
       "  </tbody>\n",
       "</table>\n",
       "</div>"
      ],
      "text/plain": [
       "                 Large stocks  Small stocks  Treasury bonds  Corporate bonds  \\\n",
       "Large stocks         0.035152      0.038029       -0.010105         0.013492   \n",
       "Small stocks         0.038029      0.048442       -0.011319         0.015676   \n",
       "Treasury bonds      -0.010105     -0.011319        0.019336        -0.003121   \n",
       "Corporate bonds      0.013492      0.015676       -0.003121         0.008171   \n",
       "Gold                 0.000386      0.000031        0.006231         0.001158   \n",
       "REIT                 0.031819      0.038443       -0.005676         0.014779   \n",
       "\n",
       "                     Gold      REIT  \n",
       "Large stocks     0.000386  0.031819  \n",
       "Small stocks     0.000031  0.038443  \n",
       "Treasury bonds   0.006231 -0.005676  \n",
       "Corporate bonds  0.001158  0.014779  \n",
       "Gold             0.018822  0.002938  \n",
       "REIT             0.002938  0.050357  "
      ]
     },
     "execution_count": 6,
     "metadata": {},
     "output_type": "execute_result"
    }
   ],
   "source": [
    "cov=df.cov()*252\n",
    "cov"
   ]
  },
  {
   "cell_type": "code",
   "execution_count": 7,
   "id": "2e606865",
   "metadata": {},
   "outputs": [
    {
     "data": {
      "text/plain": [
       "['Large stocks',\n",
       " 'Small stocks',\n",
       " 'Treasury bonds',\n",
       " 'Corporate bonds',\n",
       " 'Gold',\n",
       " 'REIT']"
      ]
     },
     "execution_count": 7,
     "metadata": {},
     "output_type": "execute_result"
    }
   ],
   "source": [
    "tickers"
   ]
  },
  {
   "cell_type": "code",
   "execution_count": 8,
   "id": "b858c7fd",
   "metadata": {
    "scrolled": true
   },
   "outputs": [
    {
     "data": {
      "text/html": [
       "<div>\n",
       "<style scoped>\n",
       "    .dataframe tbody tr th:only-of-type {\n",
       "        vertical-align: middle;\n",
       "    }\n",
       "\n",
       "    .dataframe tbody tr th {\n",
       "        vertical-align: top;\n",
       "    }\n",
       "\n",
       "    .dataframe thead tr th {\n",
       "        text-align: left;\n",
       "    }\n",
       "</style>\n",
       "<table border=\"1\" class=\"dataframe\">\n",
       "  <thead>\n",
       "    <tr>\n",
       "      <th></th>\n",
       "      <th>volatility</th>\n",
       "      <th>varinace</th>\n",
       "      <th>Large stocks</th>\n",
       "      <th>Small stocks</th>\n",
       "      <th>Treasury bonds</th>\n",
       "      <th>Corporate bonds</th>\n",
       "      <th>Gold</th>\n",
       "      <th>REIT</th>\n",
       "    </tr>\n",
       "  </thead>\n",
       "  <tbody>\n",
       "    <tr>\n",
       "      <th>Equal-weighted</th>\n",
       "      <td>NaN</td>\n",
       "      <td>NaN</td>\n",
       "      <td>NaN</td>\n",
       "      <td>NaN</td>\n",
       "      <td>NaN</td>\n",
       "      <td>NaN</td>\n",
       "      <td>NaN</td>\n",
       "      <td>NaN</td>\n",
       "    </tr>\n",
       "    <tr>\n",
       "      <th>Risk parity</th>\n",
       "      <td>NaN</td>\n",
       "      <td>NaN</td>\n",
       "      <td>NaN</td>\n",
       "      <td>NaN</td>\n",
       "      <td>NaN</td>\n",
       "      <td>NaN</td>\n",
       "      <td>NaN</td>\n",
       "      <td>NaN</td>\n",
       "    </tr>\n",
       "  </tbody>\n",
       "</table>\n",
       "</div>"
      ],
      "text/plain": [
       "               volatility varinace Large stocks Small stocks Treasury bonds  \\\n",
       "Equal-weighted        NaN      NaN          NaN          NaN            NaN   \n",
       "Risk parity           NaN      NaN          NaN          NaN            NaN   \n",
       "\n",
       "               Corporate bonds Gold REIT  \n",
       "Equal-weighted             NaN  NaN  NaN  \n",
       "Risk parity                NaN  NaN  NaN  "
      ]
     },
     "execution_count": 8,
     "metadata": {},
     "output_type": "execute_result"
    }
   ],
   "source": [
    "Asset_class_weights=pd.DataFrame(columns=[['volatility','varinace','Large stocks','Small stocks','Treasury bonds','Corporate bonds','Gold','REIT']],index=['Equal-weighted','Risk parity'])\n",
    "Asset_class_weights"
   ]
  },
  {
   "cell_type": "code",
   "execution_count": 9,
   "id": "bd5d0039",
   "metadata": {},
   "outputs": [],
   "source": [
    "Asset_class_weights.loc['Equal-weighted',tickers]=1/6\n",
    "Asset_class_weights.loc['Equal-weighted','volatility']=(Asset_class_weights.loc['Equal-weighted',tickers].values.T.dot((df.cov()*252).dot(Asset_class_weights.loc['Equal-weighted',tickers].values)))**(1/2)\n",
    "Asset_class_weights.loc['Equal-weighted','varinace']=(Asset_class_weights.loc['Equal-weighted',tickers].values.T.dot((df.cov()*252).dot(Asset_class_weights.loc['Equal-weighted',tickers].values)))"
   ]
  },
  {
   "cell_type": "code",
   "execution_count": 10,
   "id": "83182b71",
   "metadata": {},
   "outputs": [
    {
     "data": {
      "text/html": [
       "<div>\n",
       "<style scoped>\n",
       "    .dataframe tbody tr th:only-of-type {\n",
       "        vertical-align: middle;\n",
       "    }\n",
       "\n",
       "    .dataframe tbody tr th {\n",
       "        vertical-align: top;\n",
       "    }\n",
       "\n",
       "    .dataframe thead tr th {\n",
       "        text-align: left;\n",
       "    }\n",
       "</style>\n",
       "<table border=\"1\" class=\"dataframe\">\n",
       "  <thead>\n",
       "    <tr>\n",
       "      <th></th>\n",
       "      <th>volatility</th>\n",
       "      <th>varinace</th>\n",
       "      <th>Large stocks</th>\n",
       "      <th>Small stocks</th>\n",
       "      <th>Treasury bonds</th>\n",
       "      <th>Corporate bonds</th>\n",
       "      <th>Gold</th>\n",
       "      <th>REIT</th>\n",
       "    </tr>\n",
       "  </thead>\n",
       "  <tbody>\n",
       "    <tr>\n",
       "      <th>Equal-weighted</th>\n",
       "      <td>0.111281</td>\n",
       "      <td>0.012384</td>\n",
       "      <td>0.166667</td>\n",
       "      <td>0.166667</td>\n",
       "      <td>0.166667</td>\n",
       "      <td>0.166667</td>\n",
       "      <td>0.166667</td>\n",
       "      <td>0.166667</td>\n",
       "    </tr>\n",
       "    <tr>\n",
       "      <th>Risk parity</th>\n",
       "      <td>NaN</td>\n",
       "      <td>NaN</td>\n",
       "      <td>NaN</td>\n",
       "      <td>NaN</td>\n",
       "      <td>NaN</td>\n",
       "      <td>NaN</td>\n",
       "      <td>NaN</td>\n",
       "      <td>NaN</td>\n",
       "    </tr>\n",
       "  </tbody>\n",
       "</table>\n",
       "</div>"
      ],
      "text/plain": [
       "               volatility  varinace Large stocks Small stocks Treasury bonds  \\\n",
       "Equal-weighted   0.111281  0.012384     0.166667     0.166667       0.166667   \n",
       "Risk parity           NaN       NaN          NaN          NaN            NaN   \n",
       "\n",
       "               Corporate bonds      Gold      REIT  \n",
       "Equal-weighted        0.166667  0.166667  0.166667  \n",
       "Risk parity                NaN       NaN       NaN  "
      ]
     },
     "execution_count": 10,
     "metadata": {},
     "output_type": "execute_result"
    }
   ],
   "source": [
    "Asset_class_weights"
   ]
  },
  {
   "cell_type": "code",
   "execution_count": 11,
   "id": "11545623",
   "metadata": {},
   "outputs": [
    {
     "data": {
      "text/html": [
       "<div>\n",
       "<style scoped>\n",
       "    .dataframe tbody tr th:only-of-type {\n",
       "        vertical-align: middle;\n",
       "    }\n",
       "\n",
       "    .dataframe tbody tr th {\n",
       "        vertical-align: top;\n",
       "    }\n",
       "\n",
       "    .dataframe thead tr th {\n",
       "        text-align: left;\n",
       "    }\n",
       "</style>\n",
       "<table border=\"1\" class=\"dataframe\">\n",
       "  <thead>\n",
       "    <tr>\n",
       "      <th></th>\n",
       "      <th>volatility</th>\n",
       "      <th>varinace</th>\n",
       "      <th>Large stocks</th>\n",
       "      <th>Small stocks</th>\n",
       "      <th>Treasury bonds</th>\n",
       "      <th>Corporate bonds</th>\n",
       "      <th>Gold</th>\n",
       "      <th>REIT</th>\n",
       "    </tr>\n",
       "  </thead>\n",
       "  <tbody>\n",
       "    <tr>\n",
       "      <th>Equal-weighted</th>\n",
       "      <td>NaN</td>\n",
       "      <td>NaN</td>\n",
       "      <td>NaN</td>\n",
       "      <td>NaN</td>\n",
       "      <td>NaN</td>\n",
       "      <td>NaN</td>\n",
       "      <td>NaN</td>\n",
       "      <td>NaN</td>\n",
       "    </tr>\n",
       "    <tr>\n",
       "      <th>Risk parity</th>\n",
       "      <td>NaN</td>\n",
       "      <td>NaN</td>\n",
       "      <td>NaN</td>\n",
       "      <td>NaN</td>\n",
       "      <td>NaN</td>\n",
       "      <td>NaN</td>\n",
       "      <td>NaN</td>\n",
       "      <td>NaN</td>\n",
       "    </tr>\n",
       "  </tbody>\n",
       "</table>\n",
       "</div>"
      ],
      "text/plain": [
       "               volatility varinace Large stocks Small stocks Treasury bonds  \\\n",
       "Equal-weighted        NaN      NaN          NaN          NaN            NaN   \n",
       "Risk parity           NaN      NaN          NaN          NaN            NaN   \n",
       "\n",
       "               Corporate bonds Gold REIT  \n",
       "Equal-weighted             NaN  NaN  NaN  \n",
       "Risk parity                NaN  NaN  NaN  "
      ]
     },
     "execution_count": 11,
     "metadata": {},
     "output_type": "execute_result"
    }
   ],
   "source": [
    "risk_contributer=pd.DataFrame(columns=[['volatility','varinace','Large stocks','Small stocks','Treasury bonds','Corporate bonds','Gold','REIT']],index=['Equal-weighted','Risk parity'])\n",
    "risk_contributer"
   ]
  },
  {
   "cell_type": "code",
   "execution_count": 12,
   "id": "5509bb43",
   "metadata": {},
   "outputs": [
    {
     "data": {
      "text/html": [
       "<div>\n",
       "<style scoped>\n",
       "    .dataframe tbody tr th:only-of-type {\n",
       "        vertical-align: middle;\n",
       "    }\n",
       "\n",
       "    .dataframe tbody tr th {\n",
       "        vertical-align: top;\n",
       "    }\n",
       "\n",
       "    .dataframe thead tr th {\n",
       "        text-align: left;\n",
       "    }\n",
       "</style>\n",
       "<table border=\"1\" class=\"dataframe\">\n",
       "  <thead>\n",
       "    <tr>\n",
       "      <th></th>\n",
       "      <th>volatility</th>\n",
       "      <th>varinace</th>\n",
       "      <th>Large stocks</th>\n",
       "      <th>Small stocks</th>\n",
       "      <th>Treasury bonds</th>\n",
       "      <th>Corporate bonds</th>\n",
       "      <th>Gold</th>\n",
       "      <th>REIT</th>\n",
       "    </tr>\n",
       "  </thead>\n",
       "  <tbody>\n",
       "    <tr>\n",
       "      <th>Equal-weighted</th>\n",
       "      <td>NaN</td>\n",
       "      <td>NaN</td>\n",
       "      <td>0.243993</td>\n",
       "      <td>0.290044</td>\n",
       "      <td>-0.010438</td>\n",
       "      <td>0.112504</td>\n",
       "      <td>0.066322</td>\n",
       "      <td>0.297575</td>\n",
       "    </tr>\n",
       "    <tr>\n",
       "      <th>Risk parity</th>\n",
       "      <td>NaN</td>\n",
       "      <td>NaN</td>\n",
       "      <td>NaN</td>\n",
       "      <td>NaN</td>\n",
       "      <td>NaN</td>\n",
       "      <td>NaN</td>\n",
       "      <td>NaN</td>\n",
       "      <td>NaN</td>\n",
       "    </tr>\n",
       "  </tbody>\n",
       "</table>\n",
       "</div>"
      ],
      "text/plain": [
       "               volatility varinace Large stocks Small stocks Treasury bonds  \\\n",
       "Equal-weighted        NaN      NaN     0.243993     0.290044      -0.010438   \n",
       "Risk parity           NaN      NaN          NaN          NaN            NaN   \n",
       "\n",
       "               Corporate bonds      Gold      REIT  \n",
       "Equal-weighted        0.112504  0.066322  0.297575  \n",
       "Risk parity                NaN       NaN       NaN  "
      ]
     },
     "execution_count": 12,
     "metadata": {},
     "output_type": "execute_result"
    }
   ],
   "source": [
    "risk_contributer.loc['Equal-weighted',tickers]=((df.cov()*252).values.dot(Asset_class_weights.loc['Equal-weighted',tickers].values)*Asset_class_weights.loc['Equal-weighted',tickers].values)/Asset_class_weights.loc['Equal-weighted','varinace'].values\n",
    "risk_contributer#((covarinace*weights)*weights)/variance"
   ]
  },
  {
   "cell_type": "code",
   "execution_count": 13,
   "id": "230c51f9",
   "metadata": {},
   "outputs": [
    {
     "data": {
      "text/html": [
       "<div>\n",
       "<style scoped>\n",
       "    .dataframe tbody tr th:only-of-type {\n",
       "        vertical-align: middle;\n",
       "    }\n",
       "\n",
       "    .dataframe tbody tr th {\n",
       "        vertical-align: top;\n",
       "    }\n",
       "\n",
       "    .dataframe thead tr th {\n",
       "        text-align: left;\n",
       "    }\n",
       "</style>\n",
       "<table border=\"1\" class=\"dataframe\">\n",
       "  <thead>\n",
       "    <tr>\n",
       "      <th></th>\n",
       "      <th>volatility</th>\n",
       "      <th>varinace</th>\n",
       "      <th>Large stocks</th>\n",
       "      <th>Small stocks</th>\n",
       "      <th>Treasury bonds</th>\n",
       "      <th>Corporate bonds</th>\n",
       "      <th>Gold</th>\n",
       "      <th>REIT</th>\n",
       "    </tr>\n",
       "  </thead>\n",
       "  <tbody>\n",
       "    <tr>\n",
       "      <th>Equal-weighted</th>\n",
       "      <td>NaN</td>\n",
       "      <td>NaN</td>\n",
       "      <td>0.243993</td>\n",
       "      <td>0.290044</td>\n",
       "      <td>-0.010438</td>\n",
       "      <td>0.112504</td>\n",
       "      <td>0.066322</td>\n",
       "      <td>0.297575</td>\n",
       "    </tr>\n",
       "    <tr>\n",
       "      <th>Risk parity</th>\n",
       "      <td>NaN</td>\n",
       "      <td>NaN</td>\n",
       "      <td>0.166667</td>\n",
       "      <td>0.166667</td>\n",
       "      <td>0.166667</td>\n",
       "      <td>0.166667</td>\n",
       "      <td>0.166667</td>\n",
       "      <td>0.166667</td>\n",
       "    </tr>\n",
       "  </tbody>\n",
       "</table>\n",
       "</div>"
      ],
      "text/plain": [
       "               volatility varinace Large stocks Small stocks Treasury bonds  \\\n",
       "Equal-weighted        NaN      NaN     0.243993     0.290044      -0.010438   \n",
       "Risk parity           NaN      NaN     0.166667     0.166667       0.166667   \n",
       "\n",
       "               Corporate bonds      Gold      REIT  \n",
       "Equal-weighted        0.112504  0.066322  0.297575  \n",
       "Risk parity           0.166667  0.166667  0.166667  "
      ]
     },
     "execution_count": 13,
     "metadata": {},
     "output_type": "execute_result"
    }
   ],
   "source": [
    "risk_contributer.loc['Risk parity',tickers]=1/6\n",
    "risk_contributer"
   ]
  },
  {
   "cell_type": "code",
   "execution_count": 14,
   "id": "f11b3f1b",
   "metadata": {},
   "outputs": [
    {
     "data": {
      "text/plain": [
       "array([0.07732607073601785, 0.12337739936418216, 0.17710503360085506,\n",
       "       0.054162498731154016, 0.10034458897314509, 0.13090865120495424],\n",
       "      dtype=object)"
      ]
     },
     "execution_count": 14,
     "metadata": {},
     "output_type": "execute_result"
    }
   ],
   "source": [
    "deviation=abs(risk_contributer.loc['Equal-weighted',tickers].values-[1/6 for i in range(6)])\n",
    "deviation"
   ]
  },
  {
   "cell_type": "code",
   "execution_count": 15,
   "id": "df249e10",
   "metadata": {},
   "outputs": [
    {
     "data": {
      "text/plain": [
       "0.6632242426103084"
      ]
     },
     "execution_count": 15,
     "metadata": {},
     "output_type": "execute_result"
    }
   ],
   "source": [
    "deviation.sum()# we have to minimize the deviation"
   ]
  },
  {
   "cell_type": "code",
   "execution_count": 16,
   "id": "53950df9",
   "metadata": {},
   "outputs": [
    {
     "data": {
      "text/plain": [
       "(array([[0.06057366, 0.22537662, 0.20112066, 0.08476318, 0.22408661,\n",
       "         0.20407928],\n",
       "        [0.31312768, 0.28221452, 0.00106794, 0.04664403, 0.20718035,\n",
       "         0.14976547],\n",
       "        [0.05272717, 0.13520144, 0.05182381, 0.25700448, 0.22720706,\n",
       "         0.27603605],\n",
       "        ...,\n",
       "        [0.11071653, 0.08911606, 0.13791325, 0.17116001, 0.29131829,\n",
       "         0.19977586],\n",
       "        [0.06887073, 0.07177987, 0.35471807, 0.00278074, 0.11456261,\n",
       "         0.38728797],\n",
       "        [0.19429803, 0.03089777, 0.11001094, 0.23934582, 0.18882354,\n",
       "         0.2366239 ]]),\n",
       " array([0.80975311, 0.87496574, 0.70722585, ..., 0.47821607, 1.02180408,\n",
       "        0.76210688]))"
      ]
     },
     "execution_count": 16,
     "metadata": {},
     "output_type": "execute_result"
    }
   ],
   "source": [
    "deviation  =[]\n",
    "weights=[]\n",
    "for x in range(80000):\n",
    "    p_weights=np.random.random(len(tickers))\n",
    "    p_weights/=np.sum(p_weights)\n",
    "    variance=(p_weights.T.dot(cov.dot(p_weights)))\n",
    "    equal_weighted_risk=(cov.values.dot(p_weights)*p_weights)/variance\n",
    "    deviation_1=sum(abs(equal_weighted_risk-np.array([1/6 for i in range(6)])))\n",
    "    weights.append(p_weights)\n",
    "    deviation.append(deviation_1)\n",
    "\n",
    "p_wt = np.array(weights)\n",
    "deviation= np.array(deviation)\n",
    "\n",
    "    \n",
    "p_wt,deviation"
   ]
  },
  {
   "cell_type": "code",
   "execution_count": 17,
   "id": "cea92465",
   "metadata": {},
   "outputs": [
    {
     "data": {
      "text/plain": [
       "53521"
      ]
     },
     "execution_count": 17,
     "metadata": {},
     "output_type": "execute_result"
    }
   ],
   "source": [
    "np.argmin(deviation)"
   ]
  },
  {
   "cell_type": "code",
   "execution_count": 18,
   "id": "94bfe24d",
   "metadata": {},
   "outputs": [
    {
     "data": {
      "text/plain": [
       "0.08563113075825218"
      ]
     },
     "execution_count": 18,
     "metadata": {},
     "output_type": "execute_result"
    }
   ],
   "source": [
    "deviation[np.argmin(deviation)]"
   ]
  },
  {
   "cell_type": "code",
   "execution_count": 19,
   "id": "2261b701",
   "metadata": {},
   "outputs": [
    {
     "data": {
      "text/plain": [
       "array([0.09960244, 0.09334528, 0.28481594, 0.22805107, 0.20164339,\n",
       "       0.09254188])"
      ]
     },
     "execution_count": 19,
     "metadata": {},
     "output_type": "execute_result"
    }
   ],
   "source": [
    "p_wt[np.argmin(deviation)]"
   ]
  },
  {
   "cell_type": "code",
   "execution_count": 20,
   "id": "65cc440e",
   "metadata": {},
   "outputs": [
    {
     "data": {
      "text/plain": [
       "0.08563113075825218"
      ]
     },
     "execution_count": 20,
     "metadata": {},
     "output_type": "execute_result"
    }
   ],
   "source": [
    "variance=(p_wt[np.argmin(deviation)].T.dot((cov).dot(p_wt[np.argmin(deviation)])))\n",
    "weighted_risk=(cov.values.dot(p_wt[np.argmin(deviation)])*p_wt[np.argmin(deviation)])/variance\n",
    "deviation_1=sum(abs(weighted_risk-np.array([1/6 for i in range(6)])))\n",
    "deviation_1"
   ]
  },
  {
   "cell_type": "code",
   "execution_count": 21,
   "id": "94693dba",
   "metadata": {},
   "outputs": [
    {
     "data": {
      "text/plain": [
       "0.08301615763777771"
      ]
     },
     "execution_count": 21,
     "metadata": {},
     "output_type": "execute_result"
    }
   ],
   "source": [
    "(p_wt[np.argmin(deviation)].T.dot(cov).dot(p_wt[np.argmin(deviation)]))**(1/2)"
   ]
  },
  {
   "cell_type": "code",
   "execution_count": 22,
   "id": "37764077",
   "metadata": {},
   "outputs": [
    {
     "data": {
      "text/plain": [
       "array([0.14846211, 0.16558127, 0.14314105, 0.17812045, 0.17986818,\n",
       "       0.18482693])"
      ]
     },
     "execution_count": 22,
     "metadata": {},
     "output_type": "execute_result"
    }
   ],
   "source": [
    "weighted_risk"
   ]
  }
 ],
 "metadata": {
  "kernelspec": {
   "display_name": "Python 3 (ipykernel)",
   "language": "python",
   "name": "python3"
  },
  "language_info": {
   "codemirror_mode": {
    "name": "ipython",
    "version": 3
   },
   "file_extension": ".py",
   "mimetype": "text/x-python",
   "name": "python",
   "nbconvert_exporter": "python",
   "pygments_lexer": "ipython3",
   "version": "3.7.3"
  }
 },
 "nbformat": 4,
 "nbformat_minor": 5
}

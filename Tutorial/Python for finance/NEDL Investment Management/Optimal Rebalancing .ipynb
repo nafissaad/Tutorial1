{
 "cells": [
  {
   "cell_type": "code",
   "execution_count": 1,
   "id": "ec558fef",
   "metadata": {},
   "outputs": [],
   "source": [
    "import random\n",
    "import numpy as np\n",
    "import yfinance as yf\n",
    "import pandas as pd\n",
    "from matplotlib import pyplot as plt\n",
    "from scipy.stats import norm\n",
    "import math\n",
    "import scipy.stats as stats\n",
    "%matplotlib inline"
   ]
  },
  {
   "cell_type": "code",
   "execution_count": 2,
   "id": "055e0179",
   "metadata": {},
   "outputs": [],
   "source": [
    "tickers=['AAPL','CAT','CVX','JPM','WMT']"
   ]
  },
  {
   "cell_type": "code",
   "execution_count": 3,
   "id": "457dd635",
   "metadata": {},
   "outputs": [
    {
     "name": "stdout",
     "output_type": "stream",
     "text": [
      "[*********************100%***********************]  5 of 5 completed\n"
     ]
    }
   ],
   "source": [
    "df=yf.download(tickers,start='2011-12-30',end='2022-12-31')['Close']"
   ]
  },
  {
   "cell_type": "code",
   "execution_count": 4,
   "id": "931362ab",
   "metadata": {},
   "outputs": [
    {
     "data": {
      "text/html": [
       "<div>\n",
       "<style scoped>\n",
       "    .dataframe tbody tr th:only-of-type {\n",
       "        vertical-align: middle;\n",
       "    }\n",
       "\n",
       "    .dataframe tbody tr th {\n",
       "        vertical-align: top;\n",
       "    }\n",
       "\n",
       "    .dataframe thead th {\n",
       "        text-align: right;\n",
       "    }\n",
       "</style>\n",
       "<table border=\"1\" class=\"dataframe\">\n",
       "  <thead>\n",
       "    <tr style=\"text-align: right;\">\n",
       "      <th></th>\n",
       "      <th>AAPL</th>\n",
       "      <th>CAT</th>\n",
       "      <th>CVX</th>\n",
       "      <th>JPM</th>\n",
       "      <th>WMT</th>\n",
       "    </tr>\n",
       "    <tr>\n",
       "      <th>Date</th>\n",
       "      <th></th>\n",
       "      <th></th>\n",
       "      <th></th>\n",
       "      <th></th>\n",
       "      <th></th>\n",
       "    </tr>\n",
       "  </thead>\n",
       "  <tbody>\n",
       "    <tr>\n",
       "      <th>2011-12-29</th>\n",
       "      <td>14.468571</td>\n",
       "      <td>90.580002</td>\n",
       "      <td>107.470001</td>\n",
       "      <td>33.419998</td>\n",
       "      <td>59.990002</td>\n",
       "    </tr>\n",
       "    <tr>\n",
       "      <th>2011-12-30</th>\n",
       "      <td>14.464286</td>\n",
       "      <td>90.599998</td>\n",
       "      <td>106.400002</td>\n",
       "      <td>33.250000</td>\n",
       "      <td>59.759998</td>\n",
       "    </tr>\n",
       "    <tr>\n",
       "      <th>2012-01-03</th>\n",
       "      <td>14.686786</td>\n",
       "      <td>93.980003</td>\n",
       "      <td>110.370003</td>\n",
       "      <td>34.980000</td>\n",
       "      <td>60.330002</td>\n",
       "    </tr>\n",
       "    <tr>\n",
       "      <th>2012-01-04</th>\n",
       "      <td>14.765714</td>\n",
       "      <td>94.849998</td>\n",
       "      <td>110.180000</td>\n",
       "      <td>34.950001</td>\n",
       "      <td>59.709999</td>\n",
       "    </tr>\n",
       "    <tr>\n",
       "      <th>2012-01-05</th>\n",
       "      <td>14.929643</td>\n",
       "      <td>95.519997</td>\n",
       "      <td>109.099998</td>\n",
       "      <td>35.680000</td>\n",
       "      <td>59.419998</td>\n",
       "    </tr>\n",
       "    <tr>\n",
       "      <th>...</th>\n",
       "      <td>...</td>\n",
       "      <td>...</td>\n",
       "      <td>...</td>\n",
       "      <td>...</td>\n",
       "      <td>...</td>\n",
       "    </tr>\n",
       "    <tr>\n",
       "      <th>2022-12-23</th>\n",
       "      <td>131.860001</td>\n",
       "      <td>239.869995</td>\n",
       "      <td>177.399994</td>\n",
       "      <td>131.279999</td>\n",
       "      <td>143.770004</td>\n",
       "    </tr>\n",
       "    <tr>\n",
       "      <th>2022-12-27</th>\n",
       "      <td>130.029999</td>\n",
       "      <td>243.139999</td>\n",
       "      <td>179.630005</td>\n",
       "      <td>131.740005</td>\n",
       "      <td>143.809998</td>\n",
       "    </tr>\n",
       "    <tr>\n",
       "      <th>2022-12-28</th>\n",
       "      <td>126.040001</td>\n",
       "      <td>239.380005</td>\n",
       "      <td>176.979996</td>\n",
       "      <td>132.460007</td>\n",
       "      <td>141.289993</td>\n",
       "    </tr>\n",
       "    <tr>\n",
       "      <th>2022-12-29</th>\n",
       "      <td>129.610001</td>\n",
       "      <td>240.199997</td>\n",
       "      <td>178.320007</td>\n",
       "      <td>133.220001</td>\n",
       "      <td>142.149994</td>\n",
       "    </tr>\n",
       "    <tr>\n",
       "      <th>2022-12-30</th>\n",
       "      <td>129.929993</td>\n",
       "      <td>239.559998</td>\n",
       "      <td>179.490005</td>\n",
       "      <td>134.100006</td>\n",
       "      <td>141.789993</td>\n",
       "    </tr>\n",
       "  </tbody>\n",
       "</table>\n",
       "<p>2770 rows × 5 columns</p>\n",
       "</div>"
      ],
      "text/plain": [
       "                  AAPL         CAT         CVX         JPM         WMT\n",
       "Date                                                                  \n",
       "2011-12-29   14.468571   90.580002  107.470001   33.419998   59.990002\n",
       "2011-12-30   14.464286   90.599998  106.400002   33.250000   59.759998\n",
       "2012-01-03   14.686786   93.980003  110.370003   34.980000   60.330002\n",
       "2012-01-04   14.765714   94.849998  110.180000   34.950001   59.709999\n",
       "2012-01-05   14.929643   95.519997  109.099998   35.680000   59.419998\n",
       "...                ...         ...         ...         ...         ...\n",
       "2022-12-23  131.860001  239.869995  177.399994  131.279999  143.770004\n",
       "2022-12-27  130.029999  243.139999  179.630005  131.740005  143.809998\n",
       "2022-12-28  126.040001  239.380005  176.979996  132.460007  141.289993\n",
       "2022-12-29  129.610001  240.199997  178.320007  133.220001  142.149994\n",
       "2022-12-30  129.929993  239.559998  179.490005  134.100006  141.789993\n",
       "\n",
       "[2770 rows x 5 columns]"
      ]
     },
     "execution_count": 4,
     "metadata": {},
     "output_type": "execute_result"
    }
   ],
   "source": [
    "df"
   ]
  },
  {
   "cell_type": "code",
   "execution_count": 9,
   "id": "143d42be",
   "metadata": {},
   "outputs": [
    {
     "data": {
      "text/plain": [
       "(5, 2769)"
      ]
     },
     "execution_count": 9,
     "metadata": {},
     "output_type": "execute_result"
    }
   ],
   "source": [
    "returns=np.array(df.pct_change()[1:].values.T)\n",
    "returns.shape"
   ]
  },
  {
   "cell_type": "code",
   "execution_count": 10,
   "id": "448217ea",
   "metadata": {},
   "outputs": [
    {
     "data": {
      "text/plain": [
       "array([[ 14.46857071,  14.46428585,  14.6867857 , ..., 126.04000092,\n",
       "        129.61000061, 129.92999268],\n",
       "       [ 90.58000183,  90.59999847,  93.98000336, ..., 239.38000488,\n",
       "        240.19999695, 239.55999756],\n",
       "       [107.47000122, 106.40000153, 110.37000275, ..., 176.97999573,\n",
       "        178.32000732, 179.49000549],\n",
       "       [ 33.41999817,  33.25      ,  34.97999954, ..., 132.46000671,\n",
       "        133.22000122, 134.1000061 ],\n",
       "       [ 59.99000168,  59.75999832,  60.33000183, ..., 141.28999329,\n",
       "        142.1499939 , 141.78999329]])"
      ]
     },
     "execution_count": 10,
     "metadata": {},
     "output_type": "execute_result"
    }
   ],
   "source": [
    "closes=np.array(df.values.T)\n",
    "closes"
   ]
  },
  {
   "cell_type": "code",
   "execution_count": 11,
   "id": "b47ba8aa",
   "metadata": {},
   "outputs": [
    {
     "data": {
      "text/plain": [
       "array([0.2, 0.2, 0.2, 0.2, 0.2])"
      ]
     },
     "execution_count": 11,
     "metadata": {},
     "output_type": "execute_result"
    }
   ],
   "source": [
    "pval=10000\n",
    "w=np.array([1/len(df.columns) for i in range(len(df.columns))])\n",
    "w"
   ]
  },
  {
   "cell_type": "code",
   "execution_count": 12,
   "id": "8e83c8a2",
   "metadata": {},
   "outputs": [
    {
     "data": {
      "text/plain": [
       "[<matplotlib.lines.Line2D at 0x1ca7ff553c8>]"
      ]
     },
     "execution_count": 12,
     "metadata": {},
     "output_type": "execute_result"
    },
    {
     "data": {
      "image/png": "[encoded data removed]",
      "text/plain": [
       "<Figure size 432x288 with 1 Axes>"
      ]
     },
     "metadata": {
      "needs_background": "light"
     },
     "output_type": "display_data"
    }
   ],
   "source": [
    "plt.plot(np.cumprod(np.dot(w,returns)+1))"
   ]
  },
  {
   "cell_type": "code",
   "execution_count": 13,
   "id": "cee71aca",
   "metadata": {},
   "outputs": [
    {
     "data": {
      "text/plain": [
       "array([138.23065458,  22.0799289 ,  18.6098444 ,  59.84440783,\n",
       "        33.33888888])"
      ]
     },
     "execution_count": 13,
     "metadata": {},
     "output_type": "execute_result"
    }
   ],
   "source": [
    "port_shares=np.array([(pval/len(df.columns))/df[df.columns[i]][0] for i in range(len(df.columns))])\n",
    "port_shares"
   ]
  },
  {
   "cell_type": "code",
   "execution_count": 14,
   "id": "cfda787d",
   "metadata": {},
   "outputs": [
    {
     "data": {
      "text/plain": [
       "<matplotlib.legend.Legend at 0x1ca030fc358>"
      ]
     },
     "execution_count": 14,
     "metadata": {},
     "output_type": "execute_result"
    },
    {
     "data": {
      "image/png": "[encoded data removed]",
      "text/plain": [
       "<Figure size 432x288 with 1 Axes>"
      ]
     },
     "metadata": {
      "needs_background": "light"
     },
     "output_type": "display_data"
    }
   ],
   "source": [
    "plt.plot(np.cumprod(np.dot(w,returns)+1)*pval)\n",
    "plt.plot(np.dot(port_shares,closes))\n",
    "plt.legend(['Rebalanced','One Time Purchase'])"
   ]
  },
  {
   "cell_type": "code",
   "execution_count": 15,
   "id": "9587f10c",
   "metadata": {},
   "outputs": [
    {
     "data": {
      "text/plain": [
       "39342.31300882846"
      ]
     },
     "execution_count": 15,
     "metadata": {},
     "output_type": "execute_result"
    }
   ],
   "source": [
    "onetime=np.dot(port_shares,closes)\n",
    "onetime[-1]"
   ]
  },
  {
   "cell_type": "code",
   "execution_count": 16,
   "id": "cb614def",
   "metadata": {},
   "outputs": [
    {
     "data": {
      "text/plain": [
       "39342.31300983531"
      ]
     },
     "execution_count": 16,
     "metadata": {},
     "output_type": "execute_result"
    }
   ],
   "source": [
    "new_pval=(closes[0][-1]*138.23065458+closes[1][-1]*22.0799289+closes[2][-1]*18.6098444+closes[3][-1]*59.84440783+closes[4][-1]*33.33888888)\n",
    "new_pval"
   ]
  },
  {
   "cell_type": "code",
   "execution_count": 17,
   "id": "9e16a469",
   "metadata": {},
   "outputs": [
    {
     "data": {
      "text/plain": [
       "164.9739990234375"
      ]
     },
     "execution_count": 17,
     "metadata": {},
     "output_type": "execute_result"
    }
   ],
   "source": [
    "(closes[0][-1]+closes[1][-1]+closes[2][-1]+closes[3][-1]+closes[4][-1])*0.2"
   ]
  },
  {
   "cell_type": "code",
   "execution_count": 18,
   "id": "2c188c1b",
   "metadata": {},
   "outputs": [
    {
     "data": {
      "text/plain": [
       "0.4565137777399588"
      ]
     },
     "execution_count": 18,
     "metadata": {},
     "output_type": "execute_result"
    }
   ],
   "source": [
    "(closes[0][-1]*138.23065458)/new_pval"
   ]
  },
  {
   "cell_type": "code",
   "execution_count": 19,
   "id": "53be3940",
   "metadata": {},
   "outputs": [
    {
     "data": {
      "text/plain": [
       "0.13444729881681317"
      ]
     },
     "execution_count": 19,
     "metadata": {},
     "output_type": "execute_result"
    }
   ],
   "source": [
    "(closes[1][-1]*22.0799289)/new_pval"
   ]
  },
  {
   "cell_type": "code",
   "execution_count": 20,
   "id": "663eb7e0",
   "metadata": {},
   "outputs": [
    {
     "data": {
      "text/plain": [
       "0.0849030170836138"
      ]
     },
     "execution_count": 20,
     "metadata": {},
     "output_type": "execute_result"
    }
   ],
   "source": [
    "(closes[2][-1]*18.6098444)/new_pval"
   ]
  },
  {
   "cell_type": "code",
   "execution_count": 21,
   "id": "06399274",
   "metadata": {},
   "outputs": [
    {
     "data": {
      "text/plain": [
       "0.20398229898831954"
      ]
     },
     "execution_count": 21,
     "metadata": {},
     "output_type": "execute_result"
    }
   ],
   "source": [
    "(closes[3][-1]*59.84440783)/new_pval"
   ]
  },
  {
   "cell_type": "code",
   "execution_count": 22,
   "id": "9f17baa3",
   "metadata": {},
   "outputs": [
    {
     "data": {
      "text/plain": [
       "0.12015360737129462"
      ]
     },
     "execution_count": 22,
     "metadata": {},
     "output_type": "execute_result"
    }
   ],
   "source": [
    "closes[4][-1]*33.33888888/new_pval"
   ]
  },
  {
   "cell_type": "code",
   "execution_count": 23,
   "id": "5542c221",
   "metadata": {},
   "outputs": [
    {
     "data": {
      "text/plain": [
       "1.0"
      ]
     },
     "execution_count": 23,
     "metadata": {},
     "output_type": "execute_result"
    }
   ],
   "source": [
    "0.4565137777399588+0.13444729881681317+0.0849030170836138+0.20398229898831954+0.12015360737129462"
   ]
  },
  {
   "cell_type": "code",
   "execution_count": null,
   "id": "748c1e57",
   "metadata": {},
   "outputs": [],
   "source": []
  }
 ],
 "metadata": {
  "kernelspec": {
   "display_name": "Python 3 (ipykernel)",
   "language": "python",
   "name": "python3"
  },
  "language_info": {
   "codemirror_mode": {
    "name": "ipython",
    "version": 3
   },
   "file_extension": ".py",
   "mimetype": "text/x-python",
   "name": "python",
   "nbconvert_exporter": "python",
   "pygments_lexer": "ipython3",
   "version": "3.7.3"
  }
 },
 "nbformat": 4,
 "nbformat_minor": 5
}

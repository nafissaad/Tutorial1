{
 "cells": [
  {
   "cell_type": "code",
   "execution_count": 1,
   "id": "3970c857",
   "metadata": {},
   "outputs": [],
   "source": [
    "#! python -m pip install gekko"
   ]
  },
  {
   "cell_type": "code",
   "execution_count": 2,
   "id": "ec558fef",
   "metadata": {},
   "outputs": [],
   "source": [
    "import numpy as np\n",
    "import pandas as pd\n",
    "from gekko import GEKKO"
   ]
  },
  {
   "cell_type": "code",
   "execution_count": 3,
   "id": "a5d8323c",
   "metadata": {},
   "outputs": [
    {
     "data": {
      "text/html": [
       "<div>\n",
       "<style scoped>\n",
       "    .dataframe tbody tr th:only-of-type {\n",
       "        vertical-align: middle;\n",
       "    }\n",
       "\n",
       "    .dataframe tbody tr th {\n",
       "        vertical-align: top;\n",
       "    }\n",
       "\n",
       "    .dataframe thead th {\n",
       "        text-align: right;\n",
       "    }\n",
       "</style>\n",
       "<table border=\"1\" class=\"dataframe\">\n",
       "  <thead>\n",
       "    <tr style=\"text-align: right;\">\n",
       "      <th></th>\n",
       "      <th>A</th>\n",
       "      <th>B</th>\n",
       "      <th>C</th>\n",
       "      <th>D</th>\n",
       "    </tr>\n",
       "  </thead>\n",
       "  <tbody>\n",
       "    <tr>\n",
       "      <th>0</th>\n",
       "      <td>0.167022</td>\n",
       "      <td>0.470324</td>\n",
       "      <td>-0.249886</td>\n",
       "      <td>0.052333</td>\n",
       "    </tr>\n",
       "    <tr>\n",
       "      <th>1</th>\n",
       "      <td>-0.103244</td>\n",
       "      <td>-0.157661</td>\n",
       "      <td>-0.063740</td>\n",
       "      <td>0.095561</td>\n",
       "    </tr>\n",
       "    <tr>\n",
       "      <th>2</th>\n",
       "      <td>0.146767</td>\n",
       "      <td>0.288817</td>\n",
       "      <td>0.169195</td>\n",
       "      <td>0.435220</td>\n",
       "    </tr>\n",
       "    <tr>\n",
       "      <th>3</th>\n",
       "      <td>-0.045548</td>\n",
       "      <td>0.628117</td>\n",
       "      <td>-0.222612</td>\n",
       "      <td>0.420468</td>\n",
       "    </tr>\n",
       "    <tr>\n",
       "      <th>4</th>\n",
       "      <td>0.167305</td>\n",
       "      <td>0.308690</td>\n",
       "      <td>-0.109613</td>\n",
       "      <td>-0.051899</td>\n",
       "    </tr>\n",
       "    <tr>\n",
       "      <th>...</th>\n",
       "      <td>...</td>\n",
       "      <td>...</td>\n",
       "      <td>...</td>\n",
       "      <td>...</td>\n",
       "    </tr>\n",
       "    <tr>\n",
       "      <th>95</th>\n",
       "      <td>0.191904</td>\n",
       "      <td>0.331577</td>\n",
       "      <td>0.739752</td>\n",
       "      <td>-0.046094</td>\n",
       "    </tr>\n",
       "    <tr>\n",
       "      <th>96</th>\n",
       "      <td>-0.002267</td>\n",
       "      <td>0.012173</td>\n",
       "      <td>0.500172</td>\n",
       "      <td>0.206975</td>\n",
       "    </tr>\n",
       "    <tr>\n",
       "      <th>97</th>\n",
       "      <td>-0.193071</td>\n",
       "      <td>0.258516</td>\n",
       "      <td>-0.038040</td>\n",
       "      <td>0.548604</td>\n",
       "    </tr>\n",
       "    <tr>\n",
       "      <th>98</th>\n",
       "      <td>0.047331</td>\n",
       "      <td>-0.222394</td>\n",
       "      <td>0.343432</td>\n",
       "      <td>0.593840</td>\n",
       "    </tr>\n",
       "    <tr>\n",
       "      <th>99</th>\n",
       "      <td>0.131016</td>\n",
       "      <td>0.499858</td>\n",
       "      <td>0.261141</td>\n",
       "      <td>0.290952</td>\n",
       "    </tr>\n",
       "  </tbody>\n",
       "</table>\n",
       "<p>100 rows × 4 columns</p>\n",
       "</div>"
      ],
      "text/plain": [
       "           A         B         C         D\n",
       "0   0.167022  0.470324 -0.249886  0.052333\n",
       "1  -0.103244 -0.157661 -0.063740  0.095561\n",
       "2   0.146767  0.288817  0.169195  0.435220\n",
       "3  -0.045548  0.628117 -0.222612  0.420468\n",
       "4   0.167305  0.308690 -0.109613 -0.051899\n",
       "..       ...       ...       ...       ...\n",
       "95  0.191904  0.331577  0.739752 -0.046094\n",
       "96 -0.002267  0.012173  0.500172  0.206975\n",
       "97 -0.193071  0.258516 -0.038040  0.548604\n",
       "98  0.047331 -0.222394  0.343432  0.593840\n",
       "99  0.131016  0.499858  0.261141  0.290952\n",
       "\n",
       "[100 rows x 4 columns]"
      ]
     },
     "execution_count": 3,
     "metadata": {},
     "output_type": "execute_result"
    }
   ],
   "source": [
    "np.random.seed(1)\n",
    "df_returns=pd.DataFrame(np.random.rand(100,4)-0.25,columns=list('ABCD'))\n",
    "df_returns"
   ]
  },
  {
   "cell_type": "code",
   "execution_count": 4,
   "id": "dcc33bae",
   "metadata": {},
   "outputs": [
    {
     "data": {
      "text/plain": [
       "A    0.15\n",
       "B    0.35\n",
       "C    0.25\n",
       "D    0.25\n",
       "dtype: float64"
      ]
     },
     "execution_count": 4,
     "metadata": {},
     "output_type": "execute_result"
    }
   ],
   "source": [
    "weights=pd.Series([0.15,0.35,0.25,0.25],index=list('ABCD'))\n",
    "weights"
   ]
  },
  {
   "cell_type": "code",
   "execution_count": 5,
   "id": "55ca66eb",
   "metadata": {},
   "outputs": [
    {
     "data": {
      "text/plain": [
       "(0.0250533, -0.0154866)"
      ]
     },
     "execution_count": 5,
     "metadata": {},
     "output_type": "execute_result"
    }
   ],
   "source": [
    "0.167022*0.15,-0.103244*0.15"
   ]
  },
  {
   "cell_type": "code",
   "execution_count": 6,
   "id": "dfa00ee5",
   "metadata": {},
   "outputs": [
    {
     "data": {
      "text/plain": [
       "array([0.24384783, 0.2789166 , 0.21977262, 0.29300383])"
      ]
     },
     "execution_count": 6,
     "metadata": {},
     "output_type": "execute_result"
    }
   ],
   "source": [
    "df_returns.mean().values"
   ]
  },
  {
   "cell_type": "code",
   "execution_count": 7,
   "id": "7aa8c6bb",
   "metadata": {},
   "outputs": [
    {
     "data": {
      "text/html": [
       "<div>\n",
       "<style scoped>\n",
       "    .dataframe tbody tr th:only-of-type {\n",
       "        vertical-align: middle;\n",
       "    }\n",
       "\n",
       "    .dataframe tbody tr th {\n",
       "        vertical-align: top;\n",
       "    }\n",
       "\n",
       "    .dataframe thead th {\n",
       "        text-align: right;\n",
       "    }\n",
       "</style>\n",
       "<table border=\"1\" class=\"dataframe\">\n",
       "  <thead>\n",
       "    <tr style=\"text-align: right;\">\n",
       "      <th></th>\n",
       "      <th>A</th>\n",
       "      <th>B</th>\n",
       "      <th>C</th>\n",
       "      <th>D</th>\n",
       "    </tr>\n",
       "  </thead>\n",
       "  <tbody>\n",
       "    <tr>\n",
       "      <th>0</th>\n",
       "      <td>0.025053</td>\n",
       "      <td>0.164614</td>\n",
       "      <td>-0.062471</td>\n",
       "      <td>0.013083</td>\n",
       "    </tr>\n",
       "    <tr>\n",
       "      <th>1</th>\n",
       "      <td>-0.015487</td>\n",
       "      <td>-0.055181</td>\n",
       "      <td>-0.015935</td>\n",
       "      <td>0.023890</td>\n",
       "    </tr>\n",
       "    <tr>\n",
       "      <th>2</th>\n",
       "      <td>0.022015</td>\n",
       "      <td>0.101086</td>\n",
       "      <td>0.042299</td>\n",
       "      <td>0.108805</td>\n",
       "    </tr>\n",
       "    <tr>\n",
       "      <th>3</th>\n",
       "      <td>-0.006832</td>\n",
       "      <td>0.219841</td>\n",
       "      <td>-0.055653</td>\n",
       "      <td>0.105117</td>\n",
       "    </tr>\n",
       "    <tr>\n",
       "      <th>4</th>\n",
       "      <td>0.025096</td>\n",
       "      <td>0.108041</td>\n",
       "      <td>-0.027403</td>\n",
       "      <td>-0.012975</td>\n",
       "    </tr>\n",
       "    <tr>\n",
       "      <th>...</th>\n",
       "      <td>...</td>\n",
       "      <td>...</td>\n",
       "      <td>...</td>\n",
       "      <td>...</td>\n",
       "    </tr>\n",
       "    <tr>\n",
       "      <th>95</th>\n",
       "      <td>0.028786</td>\n",
       "      <td>0.116052</td>\n",
       "      <td>0.184938</td>\n",
       "      <td>-0.011523</td>\n",
       "    </tr>\n",
       "    <tr>\n",
       "      <th>96</th>\n",
       "      <td>-0.000340</td>\n",
       "      <td>0.004261</td>\n",
       "      <td>0.125043</td>\n",
       "      <td>0.051744</td>\n",
       "    </tr>\n",
       "    <tr>\n",
       "      <th>97</th>\n",
       "      <td>-0.028961</td>\n",
       "      <td>0.090481</td>\n",
       "      <td>-0.009510</td>\n",
       "      <td>0.137151</td>\n",
       "    </tr>\n",
       "    <tr>\n",
       "      <th>98</th>\n",
       "      <td>0.007100</td>\n",
       "      <td>-0.077838</td>\n",
       "      <td>0.085858</td>\n",
       "      <td>0.148460</td>\n",
       "    </tr>\n",
       "    <tr>\n",
       "      <th>99</th>\n",
       "      <td>0.019652</td>\n",
       "      <td>0.174950</td>\n",
       "      <td>0.065285</td>\n",
       "      <td>0.072738</td>\n",
       "    </tr>\n",
       "  </tbody>\n",
       "</table>\n",
       "<p>100 rows × 4 columns</p>\n",
       "</div>"
      ],
      "text/plain": [
       "           A         B         C         D\n",
       "0   0.025053  0.164614 -0.062471  0.013083\n",
       "1  -0.015487 -0.055181 -0.015935  0.023890\n",
       "2   0.022015  0.101086  0.042299  0.108805\n",
       "3  -0.006832  0.219841 -0.055653  0.105117\n",
       "4   0.025096  0.108041 -0.027403 -0.012975\n",
       "..       ...       ...       ...       ...\n",
       "95  0.028786  0.116052  0.184938 -0.011523\n",
       "96 -0.000340  0.004261  0.125043  0.051744\n",
       "97 -0.028961  0.090481 -0.009510  0.137151\n",
       "98  0.007100 -0.077838  0.085858  0.148460\n",
       "99  0.019652  0.174950  0.065285  0.072738\n",
       "\n",
       "[100 rows x 4 columns]"
      ]
     },
     "execution_count": 7,
     "metadata": {},
     "output_type": "execute_result"
    }
   ],
   "source": [
    "df_returns*weights"
   ]
  },
  {
   "cell_type": "code",
   "execution_count": 8,
   "id": "e2621c7f",
   "metadata": {},
   "outputs": [],
   "source": [
    "def returns_objective_function(x,df_returns):\n",
    "    result=(df_returns*x).mean().sum()\n",
    "    return result"
   ]
  },
  {
   "cell_type": "code",
   "execution_count": 9,
   "id": "d47cfeae",
   "metadata": {},
   "outputs": [
    {
     "data": {
      "text/plain": [
       "array([1., 1., 1., 1.])"
      ]
     },
     "execution_count": 9,
     "metadata": {},
     "output_type": "execute_result"
    }
   ],
   "source": [
    "x=np.ones(4)\n",
    "x"
   ]
  },
  {
   "cell_type": "code",
   "execution_count": 10,
   "id": "e070e747",
   "metadata": {},
   "outputs": [
    {
     "data": {
      "text/plain": [
       "0.2623920970760596"
      ]
     },
     "execution_count": 10,
     "metadata": {},
     "output_type": "execute_result"
    }
   ],
   "source": [
    "returns_objective_function(weights,df_returns)"
   ]
  },
  {
   "cell_type": "code",
   "execution_count": 11,
   "id": "9280e289",
   "metadata": {},
   "outputs": [],
   "source": [
    "m=GEKKO()"
   ]
  },
  {
   "cell_type": "code",
   "execution_count": 12,
   "id": "d93de7d1",
   "metadata": {},
   "outputs": [],
   "source": [
    "x = m.Array(m.Var,4,value=0.01,lb=0.01,ub=0.75)\n",
    "y=df_returns.mean().values"
   ]
  },
  {
   "cell_type": "code",
   "execution_count": 13,
   "id": "029e3b50",
   "metadata": {},
   "outputs": [
    {
     "data": {
      "text/plain": [
       "array([0.01, 0.01, 0.01, 0.01], dtype=object)"
      ]
     },
     "execution_count": 13,
     "metadata": {},
     "output_type": "execute_result"
    }
   ],
   "source": [
    "x"
   ]
  },
  {
   "cell_type": "code",
   "execution_count": 14,
   "id": "4881c315",
   "metadata": {},
   "outputs": [
    {
     "data": {
      "text/plain": [
       "<gekko.gekko.EquationObj at 0x2a1d69698d0>"
      ]
     },
     "execution_count": 14,
     "metadata": {},
     "output_type": "execute_result"
    }
   ],
   "source": [
    "m.Equation(m.sum(x)==1)\n",
    "m.Equation(x[0]+x[1]==0.3)"
   ]
  },
  {
   "cell_type": "code",
   "execution_count": 15,
   "id": "31032d86",
   "metadata": {},
   "outputs": [],
   "source": [
    "m.Maximize(m.sum([x[i]*y[i] for i in range(0,4)]))#subject function"
   ]
  },
  {
   "cell_type": "code",
   "execution_count": 16,
   "id": "ad4842a8",
   "metadata": {
    "scrolled": false
   },
   "outputs": [
    {
     "name": "stdout",
     "output_type": "stream",
     "text": [
      "apm 103.113.225.246_gk_model0 <br><pre> ----------------------------------------------------------------\n",
      " APMonitor, Version 1.0.1\n",
      " APMonitor Optimization Suite\n",
      " ----------------------------------------------------------------\n",
      " \n",
      " \n",
      " --------- APM Model Size ------------\n",
      " Each time step contains\n",
      "   Objects      :            1\n",
      "   Constants    :            0\n",
      "   Variables    :            9\n",
      "   Intermediates:            0\n",
      "   Connections  :            5\n",
      "   Equations    :            7\n",
      "   Residuals    :            7\n",
      " \n",
      " Number of state variables:              9\n",
      " Number of total equations: -            7\n",
      " Number of slack variables: -            0\n",
      " ---------------------------------------\n",
      " Degrees of freedom       :              2\n",
      " \n",
      " **********************************************\n",
      " Steady State Optimization with Interior Point Solver\n",
      " **********************************************\n",
      "  \n",
      "  \n",
      " Info: Exact Hessian\n",
      "\n",
      "******************************************************************************\n",
      "This program contains Ipopt, a library for large-scale nonlinear optimization.\n",
      " Ipopt is released as open source code under the Eclipse Public License (EPL).\n",
      "         For more information visit http://projects.coin-or.org/Ipopt\n",
      "******************************************************************************\n",
      "\n",
      "This is Ipopt version 3.12.10, running with linear solver ma57.\n",
      "\n",
      "Number of nonzeros in equality constraint Jacobian...:       19\n",
      "Number of nonzeros in inequality constraint Jacobian.:        0\n",
      "Number of nonzeros in Lagrangian Hessian.............:        0\n",
      "\n",
      "Total number of variables............................:        9\n",
      "                     variables with only lower bounds:        0\n",
      "                variables with lower and upper bounds:        4\n",
      "                     variables with only upper bounds:        0\n",
      "Total number of equality constraints.................:        7\n",
      "Total number of inequality constraints...............:        0\n",
      "        inequality constraints with only lower bounds:        0\n",
      "   inequality constraints with lower and upper bounds:        0\n",
      "        inequality constraints with only upper bounds:        0\n",
      "\n",
      "iter    objective    inf_pr   inf_du lg(mu)  ||d||  lg(rg) alpha_du alpha_pr  ls\n",
      "   0  0.0000000e+00 9.30e-01 3.42e-02   0.0 0.00e+00    -  0.00e+00 0.00e+00   0\n",
      "Reallocating memory for MA57: lfact (172)\n",
      "   1 -2.5791057e-01 5.55e-17 4.45e+01  -6.4 3.33e-01    -  2.15e-02 1.00e+00h  1\n",
      "   2 -2.5908399e-01 5.55e-17 3.17e-04  -1.7 1.46e-02    -  1.00e+00 1.00e+00f  1\n",
      "   3 -2.6939052e-01 5.55e-17 2.73e-02  -7.7 1.32e-01    -  7.21e-01 1.00e+00f  1\n",
      "   4 -2.8512743e-01 5.55e-17 8.31e-04  -2.9 2.01e-01    -  9.87e-01 9.50e-01f  1\n",
      "   5 -2.8761934e-01 5.55e-17 1.56e-17  -4.0 6.89e-02    -  1.00e+00 1.00e+00f  1\n",
      "   6 -2.8769444e-01 2.78e-17 5.13e-05 -10.0 9.25e-04    -  9.98e-01 9.73e-01f  1\n",
      "   7 -2.8769466e-01 2.78e-17 1.09e-09 -11.0 5.68e-06    -  1.00e+00 1.00e+00f  1\n",
      "\n",
      "Number of Iterations....: 7\n",
      "\n",
      "                                   (scaled)                 (unscaled)\n",
      "Objective...............:  -2.8769465995364879e-01   -2.8769465995364879e-01\n",
      "Dual infeasibility......:   1.0895155348930338e-09    1.0895155348930338e-09\n",
      "Constraint violation....:   2.7755575615628914e-17    2.7755575615628914e-17\n",
      "Complementarity.........:   1.1540369910064576e-10    1.1540369910064576e-10\n",
      "Overall NLP error.......:   1.0895155348930338e-09    1.0895155348930338e-09\n",
      "\n",
      "\n",
      "Number of objective function evaluations             = 8\n",
      "Number of objective gradient evaluations             = 8\n",
      "Number of equality constraint evaluations            = 8\n",
      "Number of inequality constraint evaluations          = 0\n",
      "Number of equality constraint Jacobian evaluations   = 8\n",
      "Number of inequality constraint Jacobian evaluations = 0\n",
      "Number of Lagrangian Hessian evaluations             = 7\n",
      "Total CPU secs in IPOPT (w/o function evaluations)   =      0.004\n",
      "Total CPU secs in NLP function evaluations           =      0.000\n",
      "\n",
      "EXIT: Optimal Solution Found.\n",
      " \n",
      " The solution was found.\n",
      " \n",
      " The final value of the objective function is  -0.287694659953649     \n",
      " \n",
      " ---------------------------------------------------\n",
      " Solver         :  IPOPT (v3.12)\n",
      " Solution time  :   1.019999998970889E-002 sec\n",
      " Objective      :  -0.287694659953649     \n",
      " Successful solution\n",
      " ---------------------------------------------------\n",
      " \n"
     ]
    }
   ],
   "source": [
    "m.solve()"
   ]
  },
  {
   "cell_type": "code",
   "execution_count": 17,
   "id": "8eefc262",
   "metadata": {
    "scrolled": true
   },
   "outputs": [
    {
     "name": "stdout",
     "output_type": "stream",
     "text": [
      "Asset  1 0.01\n",
      "Asset  2 0.29000000971\n",
      "Asset  3 0.01\n",
      "Asset  4 0.69000000998\n"
     ]
    }
   ],
   "source": [
    "for i in range(4):\n",
    "    print ('Asset ',i+1,x[i].value[0])"
   ]
  },
  {
   "cell_type": "code",
   "execution_count": 18,
   "id": "65d7dd24",
   "metadata": {},
   "outputs": [
    {
     "name": "stdout",
     "output_type": "stream",
     "text": [
      "Objective: 0.28769465995\n"
     ]
    }
   ],
   "source": [
    "print ('Objective: ' + str(-m.options.objfcnval))"
   ]
  },
  {
   "cell_type": "code",
   "execution_count": 19,
   "id": "13858b2c",
   "metadata": {},
   "outputs": [
    {
     "name": "stdout",
     "output_type": "stream",
     "text": [
      "A\n",
      "[[3. 6. 1.]\n",
      " [8. 4. 3.]\n",
      " [2. 2. 2.]]\n",
      "b\n",
      "[30. 44. 35.]\n",
      " ----------------------------------------------------------------\n",
      " APMonitor, Version 1.0.0\n",
      " APMonitor Optimization Suite\n",
      " ----------------------------------------------------------------\n",
      " \n",
      " \n",
      " --------- APM Model Size ------------\n",
      " Each time step contains\n",
      "   Objects      :  2\n",
      "   Constants    :  0\n",
      "   Variables    :  8\n",
      "   Intermediates:  1\n",
      "   Connections  :  7\n",
      "   Equations    :  6\n",
      "   Residuals    :  5\n",
      " \n",
      " Number of state variables:    8\n",
      " Number of total equations: -  8\n",
      " Number of slack variables: -  1\n",
      " ---------------------------------------\n",
      " Degrees of freedom       :    -1\n",
      " \n",
      " * Warning: DOF <= 0\n",
      " ----------------------------------------------\n",
      " Steady State Optimization with APOPT Solver\n",
      " ----------------------------------------------\n",
      " \n",
      " Iter    Objective  Convergence\n",
      "    0 -1.17589E+00  9.70000E+01\n",
      "    1 -1.75141E+00  2.22045E-16\n",
      "    2 -1.87018E+00  1.11022E-16\n",
      "    3 -1.87018E+00  1.11022E-16\n",
      " Successful solution\n",
      " \n",
      " ---------------------------------------------------\n",
      " Solver         :  APOPT (v1.0)\n",
      " Solution time  :  0.03199999999999999 sec\n",
      " Objective      :  -1.8701837904996719\n",
      " Successful solution\n",
      " ---------------------------------------------------\n",
      " \n",
      "\n",
      "Asset  1 0.32545144256\n",
      "Asset  2 0.0\n",
      "Asset  3 5.0\n",
      "Objective: 1.8701837905\n"
     ]
    }
   ],
   "source": [
    "from gekko import GEKKO\n",
    "m = GEKKO(remote=False)\n",
    "x = m.Array(m.Var,3,value=1,lb=0,ub=5)\n",
    "# weights\n",
    "p = [5,10,6.2]\n",
    "# expected return on the asset\n",
    "Rp = [0.1,0.05,0.3]\n",
    "# risk free rate of return\n",
    "Rf = [0.01,0.02,0.01]\n",
    "# standard deviation of returns of the asset\n",
    "sigma = [0.1,0.2,0.15]\n",
    "\n",
    "# linear inequality constraint Ax<b\n",
    "A = [[3, 6, 1], [8, 4, 3], [2, 2, 2]]\n",
    "b = [30, 44, 35]\n",
    "m.axb(A,b,x=x,etype='<')\n",
    "\n",
    "# total budget\n",
    "m.Equation(m.sum(x)<100)\n",
    "\n",
    "# total assets purchased\n",
    "ta = m.Intermediate(m.sum(x))\n",
    "\n",
    "# maximize mean Sharpe ratio of portfolio\n",
    "m.Maximize(m.sum([x[i]*(Rp[i]-Rf[i])/sigma[i] for i in range(3)])/ta)\n",
    "\n",
    "m.options.solver = 1\n",
    "m.solve(disp=True)\n",
    "for i in range(3):\n",
    "    print ('Asset ',i+1,x[i].value[0])\n",
    "print ('Objective: ' + str(-m.options.objfcnval))"
   ]
  },
  {
   "cell_type": "code",
   "execution_count": null,
   "id": "47142820",
   "metadata": {},
   "outputs": [],
   "source": []
  }
 ],
 "metadata": {
  "kernelspec": {
   "display_name": "Python 3 (ipykernel)",
   "language": "python",
   "name": "python3"
  },
  "language_info": {
   "codemirror_mode": {
    "name": "ipython",
    "version": 3
   },
   "file_extension": ".py",
   "mimetype": "text/x-python",
   "name": "python",
   "nbconvert_exporter": "python",
   "pygments_lexer": "ipython3",
   "version": "3.7.3"
  }
 },
 "nbformat": 4,
 "nbformat_minor": 5
}

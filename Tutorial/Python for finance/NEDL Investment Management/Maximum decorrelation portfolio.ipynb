{
 "cells": [
  {
   "cell_type": "code",
   "execution_count": 44,
   "id": "ec558fef",
   "metadata": {},
   "outputs": [],
   "source": [
    "import random\n",
    "import numpy as np\n",
    "import pandas as pd\n",
    "from matplotlib import pyplot as plt\n",
    "import math\n",
    "import scipy.stats as stats\n",
    "from scipy.stats import norm\n",
    "from scipy.stats import kurtosis\n",
    "import requests\n",
    "%matplotlib inline"
   ]
  },
  {
   "cell_type": "code",
   "execution_count": 45,
   "id": "055e0179",
   "metadata": {},
   "outputs": [
    {
     "data": {
      "text/html": [
       "<div>\n",
       "<style scoped>\n",
       "    .dataframe tbody tr th:only-of-type {\n",
       "        vertical-align: middle;\n",
       "    }\n",
       "\n",
       "    .dataframe tbody tr th {\n",
       "        vertical-align: top;\n",
       "    }\n",
       "\n",
       "    .dataframe thead th {\n",
       "        text-align: right;\n",
       "    }\n",
       "</style>\n",
       "<table border=\"1\" class=\"dataframe\">\n",
       "  <thead>\n",
       "    <tr style=\"text-align: right;\">\n",
       "      <th></th>\n",
       "      <th>AAPL</th>\n",
       "      <th>CAT</th>\n",
       "      <th>CVX</th>\n",
       "      <th>JPM</th>\n",
       "      <th>WMT</th>\n",
       "    </tr>\n",
       "  </thead>\n",
       "  <tbody>\n",
       "    <tr>\n",
       "      <th>2011-12-30</th>\n",
       "      <td>12.350067</td>\n",
       "      <td>67.297470</td>\n",
       "      <td>68.593330</td>\n",
       "      <td>24.464430</td>\n",
       "      <td>46.885895</td>\n",
       "    </tr>\n",
       "    <tr>\n",
       "      <th>2012-01-03</th>\n",
       "      <td>12.540050</td>\n",
       "      <td>69.808136</td>\n",
       "      <td>71.152679</td>\n",
       "      <td>25.737314</td>\n",
       "      <td>47.333115</td>\n",
       "    </tr>\n",
       "    <tr>\n",
       "      <th>2012-01-04</th>\n",
       "      <td>12.607438</td>\n",
       "      <td>70.454361</td>\n",
       "      <td>71.030167</td>\n",
       "      <td>25.900354</td>\n",
       "      <td>46.846676</td>\n",
       "    </tr>\n",
       "    <tr>\n",
       "      <th>2012-01-05</th>\n",
       "      <td>12.747407</td>\n",
       "      <td>70.952034</td>\n",
       "      <td>70.333946</td>\n",
       "      <td>26.441336</td>\n",
       "      <td>46.619144</td>\n",
       "    </tr>\n",
       "    <tr>\n",
       "      <th>2012-01-06</th>\n",
       "      <td>12.880666</td>\n",
       "      <td>71.130318</td>\n",
       "      <td>69.824631</td>\n",
       "      <td>26.204182</td>\n",
       "      <td>46.289627</td>\n",
       "    </tr>\n",
       "    <tr>\n",
       "      <th>...</th>\n",
       "      <td>...</td>\n",
       "      <td>...</td>\n",
       "      <td>...</td>\n",
       "      <td>...</td>\n",
       "      <td>...</td>\n",
       "    </tr>\n",
       "    <tr>\n",
       "      <th>2021-12-27</th>\n",
       "      <td>179.586868</td>\n",
       "      <td>202.989365</td>\n",
       "      <td>115.546700</td>\n",
       "      <td>153.320740</td>\n",
       "      <td>139.104004</td>\n",
       "    </tr>\n",
       "    <tr>\n",
       "      <th>2021-12-28</th>\n",
       "      <td>178.551147</td>\n",
       "      <td>203.225418</td>\n",
       "      <td>115.322968</td>\n",
       "      <td>153.786026</td>\n",
       "      <td>141.100235</td>\n",
       "    </tr>\n",
       "    <tr>\n",
       "      <th>2021-12-29</th>\n",
       "      <td>178.640778</td>\n",
       "      <td>203.923752</td>\n",
       "      <td>114.729622</td>\n",
       "      <td>153.708481</td>\n",
       "      <td>141.031082</td>\n",
       "    </tr>\n",
       "    <tr>\n",
       "      <th>2021-12-30</th>\n",
       "      <td>177.465637</td>\n",
       "      <td>202.694290</td>\n",
       "      <td>114.223824</td>\n",
       "      <td>153.630920</td>\n",
       "      <td>141.485657</td>\n",
       "    </tr>\n",
       "    <tr>\n",
       "      <th>2021-12-31</th>\n",
       "      <td>176.838242</td>\n",
       "      <td>203.343445</td>\n",
       "      <td>114.146004</td>\n",
       "      <td>153.504913</td>\n",
       "      <td>142.987793</td>\n",
       "    </tr>\n",
       "  </tbody>\n",
       "</table>\n",
       "<p>2518 rows × 5 columns</p>\n",
       "</div>"
      ],
      "text/plain": [
       "                  AAPL         CAT         CVX         JPM         WMT\n",
       "2011-12-30   12.350067   67.297470   68.593330   24.464430   46.885895\n",
       "2012-01-03   12.540050   69.808136   71.152679   25.737314   47.333115\n",
       "2012-01-04   12.607438   70.454361   71.030167   25.900354   46.846676\n",
       "2012-01-05   12.747407   70.952034   70.333946   26.441336   46.619144\n",
       "2012-01-06   12.880666   71.130318   69.824631   26.204182   46.289627\n",
       "...                ...         ...         ...         ...         ...\n",
       "2021-12-27  179.586868  202.989365  115.546700  153.320740  139.104004\n",
       "2021-12-28  178.551147  203.225418  115.322968  153.786026  141.100235\n",
       "2021-12-29  178.640778  203.923752  114.729622  153.708481  141.031082\n",
       "2021-12-30  177.465637  202.694290  114.223824  153.630920  141.485657\n",
       "2021-12-31  176.838242  203.343445  114.146004  153.504913  142.987793\n",
       "\n",
       "[2518 rows x 5 columns]"
      ]
     },
     "execution_count": 45,
     "metadata": {},
     "output_type": "execute_result"
    }
   ],
   "source": [
    "df=pd.read_excel('C:\\\\Users\\\\nafissaad\\\\Downloads\\\\NEDL_Maximum_Decorrelation_Portfolio.xlsx',index_col='Unnamed: 0')[['AAPL','CAT','CVX','JPM','WMT']]\n",
    "#Boudoukh, Richardson, and Whitelaw (1997)\n",
    "df"
   ]
  },
  {
   "cell_type": "code",
   "execution_count": 46,
   "id": "2650cab4",
   "metadata": {},
   "outputs": [
    {
     "data": {
      "text/html": [
       "<div>\n",
       "<style scoped>\n",
       "    .dataframe tbody tr th:only-of-type {\n",
       "        vertical-align: middle;\n",
       "    }\n",
       "\n",
       "    .dataframe tbody tr th {\n",
       "        vertical-align: top;\n",
       "    }\n",
       "\n",
       "    .dataframe thead th {\n",
       "        text-align: right;\n",
       "    }\n",
       "</style>\n",
       "<table border=\"1\" class=\"dataframe\">\n",
       "  <thead>\n",
       "    <tr style=\"text-align: right;\">\n",
       "      <th></th>\n",
       "      <th>AAPL</th>\n",
       "      <th>CAT</th>\n",
       "      <th>CVX</th>\n",
       "      <th>JPM</th>\n",
       "      <th>WMT</th>\n",
       "    </tr>\n",
       "  </thead>\n",
       "  <tbody>\n",
       "    <tr>\n",
       "      <th>2011-12-30</th>\n",
       "      <td>NaN</td>\n",
       "      <td>NaN</td>\n",
       "      <td>NaN</td>\n",
       "      <td>NaN</td>\n",
       "      <td>NaN</td>\n",
       "    </tr>\n",
       "    <tr>\n",
       "      <th>2012-01-03</th>\n",
       "      <td>0.015383</td>\n",
       "      <td>0.037307</td>\n",
       "      <td>0.037312</td>\n",
       "      <td>0.052030</td>\n",
       "      <td>0.009538</td>\n",
       "    </tr>\n",
       "    <tr>\n",
       "      <th>2012-01-04</th>\n",
       "      <td>0.005374</td>\n",
       "      <td>0.009257</td>\n",
       "      <td>-0.001722</td>\n",
       "      <td>0.006335</td>\n",
       "      <td>-0.010277</td>\n",
       "    </tr>\n",
       "    <tr>\n",
       "      <th>2012-01-05</th>\n",
       "      <td>0.011102</td>\n",
       "      <td>0.007064</td>\n",
       "      <td>-0.009802</td>\n",
       "      <td>0.020887</td>\n",
       "      <td>-0.004857</td>\n",
       "    </tr>\n",
       "    <tr>\n",
       "      <th>2012-01-06</th>\n",
       "      <td>0.010454</td>\n",
       "      <td>0.002513</td>\n",
       "      <td>-0.007241</td>\n",
       "      <td>-0.008969</td>\n",
       "      <td>-0.007068</td>\n",
       "    </tr>\n",
       "    <tr>\n",
       "      <th>...</th>\n",
       "      <td>...</td>\n",
       "      <td>...</td>\n",
       "      <td>...</td>\n",
       "      <td>...</td>\n",
       "      <td>...</td>\n",
       "    </tr>\n",
       "    <tr>\n",
       "      <th>2021-12-27</th>\n",
       "      <td>0.022975</td>\n",
       "      <td>0.000873</td>\n",
       "      <td>0.020445</td>\n",
       "      <td>0.005723</td>\n",
       "      <td>0.009105</td>\n",
       "    </tr>\n",
       "    <tr>\n",
       "      <th>2021-12-28</th>\n",
       "      <td>-0.005767</td>\n",
       "      <td>0.001163</td>\n",
       "      <td>-0.001936</td>\n",
       "      <td>0.003035</td>\n",
       "      <td>0.014351</td>\n",
       "    </tr>\n",
       "    <tr>\n",
       "      <th>2021-12-29</th>\n",
       "      <td>0.000502</td>\n",
       "      <td>0.003436</td>\n",
       "      <td>-0.005145</td>\n",
       "      <td>-0.000504</td>\n",
       "      <td>-0.000490</td>\n",
       "    </tr>\n",
       "    <tr>\n",
       "      <th>2021-12-30</th>\n",
       "      <td>-0.006578</td>\n",
       "      <td>-0.006029</td>\n",
       "      <td>-0.004409</td>\n",
       "      <td>-0.000505</td>\n",
       "      <td>0.003223</td>\n",
       "    </tr>\n",
       "    <tr>\n",
       "      <th>2021-12-31</th>\n",
       "      <td>-0.003535</td>\n",
       "      <td>0.003203</td>\n",
       "      <td>-0.000681</td>\n",
       "      <td>-0.000820</td>\n",
       "      <td>0.010617</td>\n",
       "    </tr>\n",
       "  </tbody>\n",
       "</table>\n",
       "<p>2518 rows × 5 columns</p>\n",
       "</div>"
      ],
      "text/plain": [
       "                AAPL       CAT       CVX       JPM       WMT\n",
       "2011-12-30       NaN       NaN       NaN       NaN       NaN\n",
       "2012-01-03  0.015383  0.037307  0.037312  0.052030  0.009538\n",
       "2012-01-04  0.005374  0.009257 -0.001722  0.006335 -0.010277\n",
       "2012-01-05  0.011102  0.007064 -0.009802  0.020887 -0.004857\n",
       "2012-01-06  0.010454  0.002513 -0.007241 -0.008969 -0.007068\n",
       "...              ...       ...       ...       ...       ...\n",
       "2021-12-27  0.022975  0.000873  0.020445  0.005723  0.009105\n",
       "2021-12-28 -0.005767  0.001163 -0.001936  0.003035  0.014351\n",
       "2021-12-29  0.000502  0.003436 -0.005145 -0.000504 -0.000490\n",
       "2021-12-30 -0.006578 -0.006029 -0.004409 -0.000505  0.003223\n",
       "2021-12-31 -0.003535  0.003203 -0.000681 -0.000820  0.010617\n",
       "\n",
       "[2518 rows x 5 columns]"
      ]
     },
     "execution_count": 46,
     "metadata": {},
     "output_type": "execute_result"
    }
   ],
   "source": [
    "returns=df.pct_change()\n",
    "returns"
   ]
  },
  {
   "cell_type": "code",
   "execution_count": 47,
   "id": "bc585c02",
   "metadata": {},
   "outputs": [
    {
     "data": {
      "text/html": [
       "<div>\n",
       "<style scoped>\n",
       "    .dataframe tbody tr th:only-of-type {\n",
       "        vertical-align: middle;\n",
       "    }\n",
       "\n",
       "    .dataframe tbody tr th {\n",
       "        vertical-align: top;\n",
       "    }\n",
       "\n",
       "    .dataframe thead th {\n",
       "        text-align: right;\n",
       "    }\n",
       "</style>\n",
       "<table border=\"1\" class=\"dataframe\">\n",
       "  <thead>\n",
       "    <tr style=\"text-align: right;\">\n",
       "      <th></th>\n",
       "      <th>AAPL</th>\n",
       "      <th>CAT</th>\n",
       "      <th>CVX</th>\n",
       "      <th>JPM</th>\n",
       "      <th>WMT</th>\n",
       "    </tr>\n",
       "  </thead>\n",
       "  <tbody>\n",
       "    <tr>\n",
       "      <th>AAPL</th>\n",
       "      <td>1.000000</td>\n",
       "      <td>0.381805</td>\n",
       "      <td>0.340409</td>\n",
       "      <td>0.382334</td>\n",
       "      <td>0.293197</td>\n",
       "    </tr>\n",
       "    <tr>\n",
       "      <th>CAT</th>\n",
       "      <td>0.381805</td>\n",
       "      <td>1.000000</td>\n",
       "      <td>0.573065</td>\n",
       "      <td>0.603777</td>\n",
       "      <td>0.250414</td>\n",
       "    </tr>\n",
       "    <tr>\n",
       "      <th>CVX</th>\n",
       "      <td>0.340409</td>\n",
       "      <td>0.573065</td>\n",
       "      <td>1.000000</td>\n",
       "      <td>0.632493</td>\n",
       "      <td>0.219925</td>\n",
       "    </tr>\n",
       "    <tr>\n",
       "      <th>JPM</th>\n",
       "      <td>0.382334</td>\n",
       "      <td>0.603777</td>\n",
       "      <td>0.632493</td>\n",
       "      <td>1.000000</td>\n",
       "      <td>0.271739</td>\n",
       "    </tr>\n",
       "    <tr>\n",
       "      <th>WMT</th>\n",
       "      <td>0.293197</td>\n",
       "      <td>0.250414</td>\n",
       "      <td>0.219925</td>\n",
       "      <td>0.271739</td>\n",
       "      <td>1.000000</td>\n",
       "    </tr>\n",
       "  </tbody>\n",
       "</table>\n",
       "</div>"
      ],
      "text/plain": [
       "          AAPL       CAT       CVX       JPM       WMT\n",
       "AAPL  1.000000  0.381805  0.340409  0.382334  0.293197\n",
       "CAT   0.381805  1.000000  0.573065  0.603777  0.250414\n",
       "CVX   0.340409  0.573065  1.000000  0.632493  0.219925\n",
       "JPM   0.382334  0.603777  0.632493  1.000000  0.271739\n",
       "WMT   0.293197  0.250414  0.219925  0.271739  1.000000"
      ]
     },
     "execution_count": 47,
     "metadata": {},
     "output_type": "execute_result"
    }
   ],
   "source": [
    "Corretion=returns.corr()\n",
    "Corretion"
   ]
  },
  {
   "cell_type": "code",
   "execution_count": 48,
   "id": "13193a25",
   "metadata": {},
   "outputs": [
    {
     "data": {
      "text/plain": [
       "array([0.2, 0.2, 0.2, 0.2, 0.2])"
      ]
     },
     "execution_count": 48,
     "metadata": {},
     "output_type": "execute_result"
    }
   ],
   "source": [
    "weights=np.array([1/5 for i in range(5)])\n",
    "weights"
   ]
  },
  {
   "cell_type": "code",
   "execution_count": 49,
   "id": "8540d83c",
   "metadata": {},
   "outputs": [
    {
     "data": {
      "text/plain": [
       "0.5159326287620143"
      ]
     },
     "execution_count": 49,
     "metadata": {},
     "output_type": "execute_result"
    }
   ],
   "source": [
    "Synthetic_correlation=(weights.dot(Corretion)).dot(weights.T)\n",
    "Synthetic_correlation"
   ]
  },
  {
   "cell_type": "code",
   "execution_count": 50,
   "id": "88155f9c",
   "metadata": {},
   "outputs": [
    {
     "data": {
      "text/html": [
       "<div>\n",
       "<style scoped>\n",
       "    .dataframe tbody tr th:only-of-type {\n",
       "        vertical-align: middle;\n",
       "    }\n",
       "\n",
       "    .dataframe tbody tr th {\n",
       "        vertical-align: top;\n",
       "    }\n",
       "\n",
       "    .dataframe thead th {\n",
       "        text-align: right;\n",
       "    }\n",
       "</style>\n",
       "<table border=\"1\" class=\"dataframe\">\n",
       "  <thead>\n",
       "    <tr style=\"text-align: right;\">\n",
       "      <th></th>\n",
       "      <th>AAPL</th>\n",
       "      <th>CAT</th>\n",
       "      <th>CVX</th>\n",
       "      <th>JPM</th>\n",
       "      <th>WMT</th>\n",
       "    </tr>\n",
       "  </thead>\n",
       "  <tbody>\n",
       "    <tr>\n",
       "      <th>AAPL</th>\n",
       "      <td>1.278193</td>\n",
       "      <td>-0.237135</td>\n",
       "      <td>-0.115796</td>\n",
       "      <td>-0.208926</td>\n",
       "      <td>-0.233141</td>\n",
       "    </tr>\n",
       "    <tr>\n",
       "      <th>CAT</th>\n",
       "      <td>-0.237135</td>\n",
       "      <td>1.801274</td>\n",
       "      <td>-0.527651</td>\n",
       "      <td>-0.638145</td>\n",
       "      <td>-0.092084</td>\n",
       "    </tr>\n",
       "    <tr>\n",
       "      <th>CVX</th>\n",
       "      <td>-0.115796</td>\n",
       "      <td>-0.527651</td>\n",
       "      <td>1.855844</td>\n",
       "      <td>-0.804587</td>\n",
       "      <td>-0.023428</td>\n",
       "    </tr>\n",
       "    <tr>\n",
       "      <th>JPM</th>\n",
       "      <td>-0.208926</td>\n",
       "      <td>-0.638145</td>\n",
       "      <td>-0.804587</td>\n",
       "      <td>2.014687</td>\n",
       "      <td>-0.149463</td>\n",
       "    </tr>\n",
       "    <tr>\n",
       "      <th>WMT</th>\n",
       "      <td>-0.233141</td>\n",
       "      <td>-0.092084</td>\n",
       "      <td>-0.023428</td>\n",
       "      <td>-0.149463</td>\n",
       "      <td>1.137183</td>\n",
       "    </tr>\n",
       "  </tbody>\n",
       "</table>\n",
       "</div>"
      ],
      "text/plain": [
       "          AAPL       CAT       CVX       JPM       WMT\n",
       "AAPL  1.278193 -0.237135 -0.115796 -0.208926 -0.233141\n",
       "CAT  -0.237135  1.801274 -0.527651 -0.638145 -0.092084\n",
       "CVX  -0.115796 -0.527651  1.855844 -0.804587 -0.023428\n",
       "JPM  -0.208926 -0.638145 -0.804587  2.014687 -0.149463\n",
       "WMT  -0.233141 -0.092084 -0.023428 -0.149463  1.137183"
      ]
     },
     "execution_count": 50,
     "metadata": {},
     "output_type": "execute_result"
    }
   ],
   "source": [
    "Invers_cov=pd.DataFrame(np.linalg.inv(Corretion))\n",
    "Invers_cov.columns=df.columns\n",
    "Invers_cov.index=df.columns\n",
    "Invers_cov"
   ]
  },
  {
   "cell_type": "code",
   "execution_count": 51,
   "id": "7167163e",
   "metadata": {},
   "outputs": [
    {
     "data": {
      "text/plain": [
       "array([1, 1, 1, 1, 1])"
      ]
     },
     "execution_count": 51,
     "metadata": {},
     "output_type": "execute_result"
    }
   ],
   "source": [
    "One_=np.array([1 for i in range(5)])\n",
    "One_"
   ]
  },
  {
   "cell_type": "code",
   "execution_count": 54,
   "id": "1b737b26",
   "metadata": {},
   "outputs": [
    {
     "data": {
      "text/plain": [
       "array([0.48319472, 0.30625945, 0.38438301, 0.21356694, 0.63906712])"
      ]
     },
     "execution_count": 54,
     "metadata": {},
     "output_type": "execute_result"
    }
   ],
   "source": [
    "One_.dot(Invers_cov)"
   ]
  },
  {
   "cell_type": "code",
   "execution_count": 55,
   "id": "1e0b28c2",
   "metadata": {},
   "outputs": [
    {
     "data": {
      "text/plain": [
       "2.026471243419031"
      ]
     },
     "execution_count": 55,
     "metadata": {},
     "output_type": "execute_result"
    }
   ],
   "source": [
    "sum(One_.dot(Invers_cov))"
   ]
  },
  {
   "cell_type": "code",
   "execution_count": 56,
   "id": "6c80b742",
   "metadata": {},
   "outputs": [
    {
     "data": {
      "text/plain": [
       "array([0.23844144, 0.15112943, 0.18968096, 0.10538859, 0.31535958])"
      ]
     },
     "execution_count": 56,
     "metadata": {},
     "output_type": "execute_result"
    }
   ],
   "source": [
    "One_.dot(Invers_cov)/sum(One_.dot(Invers_cov))"
   ]
  }
 ],
 "metadata": {
  "kernelspec": {
   "display_name": "Python 3 (ipykernel)",
   "language": "python",
   "name": "python3"
  },
  "language_info": {
   "codemirror_mode": {
    "name": "ipython",
    "version": 3
   },
   "file_extension": ".py",
   "mimetype": "text/x-python",
   "name": "python",
   "nbconvert_exporter": "python",
   "pygments_lexer": "ipython3",
   "version": "3.7.3"
  }
 },
 "nbformat": 4,
 "nbformat_minor": 5
}

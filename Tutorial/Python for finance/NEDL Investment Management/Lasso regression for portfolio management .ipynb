{
 "cells": [
  {
   "cell_type": "code",
   "execution_count": 1,
   "id": "ec558fef",
   "metadata": {},
   "outputs": [],
   "source": [
    "import pandas as pd\n",
    "import numpy as np\n",
    "import matplotlib.pyplot as plt"
   ]
  },
  {
   "cell_type": "code",
   "execution_count": 2,
   "id": "457dd635",
   "metadata": {},
   "outputs": [
    {
     "data": {
      "text/html": [
       "<div>\n",
       "<style scoped>\n",
       "    .dataframe tbody tr th:only-of-type {\n",
       "        vertical-align: middle;\n",
       "    }\n",
       "\n",
       "    .dataframe tbody tr th {\n",
       "        vertical-align: top;\n",
       "    }\n",
       "\n",
       "    .dataframe thead th {\n",
       "        text-align: right;\n",
       "    }\n",
       "</style>\n",
       "<table border=\"1\" class=\"dataframe\">\n",
       "  <thead>\n",
       "    <tr style=\"text-align: right;\">\n",
       "      <th></th>\n",
       "      <th>Blackrock</th>\n",
       "      <th>SP500</th>\n",
       "      <th>Treasury bonds</th>\n",
       "      <th>Gold</th>\n",
       "      <th>Oil</th>\n",
       "    </tr>\n",
       "    <tr>\n",
       "      <th>Date</th>\n",
       "      <th></th>\n",
       "      <th></th>\n",
       "      <th></th>\n",
       "      <th></th>\n",
       "      <th></th>\n",
       "    </tr>\n",
       "  </thead>\n",
       "  <tbody>\n",
       "    <tr>\n",
       "      <th>2016-11-23</th>\n",
       "      <td>372.989990</td>\n",
       "      <td>220.699997</td>\n",
       "      <td>120.639999</td>\n",
       "      <td>113.250000</td>\n",
       "      <td>14.000000</td>\n",
       "    </tr>\n",
       "    <tr>\n",
       "      <th>2016-11-25</th>\n",
       "      <td>373.670013</td>\n",
       "      <td>221.520004</td>\n",
       "      <td>120.82</td>\n",
       "      <td>112.610001</td>\n",
       "      <td>13.590000</td>\n",
       "    </tr>\n",
       "    <tr>\n",
       "      <th>2016-11-28</th>\n",
       "      <td>368.649994</td>\n",
       "      <td>220.479996</td>\n",
       "      <td>121.709999</td>\n",
       "      <td>113.800003</td>\n",
       "      <td>13.710000</td>\n",
       "    </tr>\n",
       "    <tr>\n",
       "      <th>2016-11-29</th>\n",
       "      <td>368.549988</td>\n",
       "      <td>220.910004</td>\n",
       "      <td>122.220001</td>\n",
       "      <td>113.269997</td>\n",
       "      <td>13.240000</td>\n",
       "    </tr>\n",
       "    <tr>\n",
       "      <th>2016-11-30</th>\n",
       "      <td>370.790009</td>\n",
       "      <td>220.380005</td>\n",
       "      <td>120.239998</td>\n",
       "      <td>111.750000</td>\n",
       "      <td>14.440000</td>\n",
       "    </tr>\n",
       "    <tr>\n",
       "      <th>...</th>\n",
       "      <td>...</td>\n",
       "      <td>...</td>\n",
       "      <td>...</td>\n",
       "      <td>...</td>\n",
       "      <td>...</td>\n",
       "    </tr>\n",
       "    <tr>\n",
       "      <th>2021-11-16</th>\n",
       "      <td>948.950012</td>\n",
       "      <td>469.279999</td>\n",
       "      <td>145.110001</td>\n",
       "      <td>172.919998</td>\n",
       "      <td>21.900000</td>\n",
       "    </tr>\n",
       "    <tr>\n",
       "      <th>2021-11-17</th>\n",
       "      <td>931.539978</td>\n",
       "      <td>468.140015</td>\n",
       "      <td>146.259995</td>\n",
       "      <td>174.500000</td>\n",
       "      <td>21.400000</td>\n",
       "    </tr>\n",
       "    <tr>\n",
       "      <th>2021-11-18</th>\n",
       "      <td>922.770020</td>\n",
       "      <td>469.730011</td>\n",
       "      <td>146.809998</td>\n",
       "      <td>173.940002</td>\n",
       "      <td>21.549999</td>\n",
       "    </tr>\n",
       "    <tr>\n",
       "      <th>2021-11-19</th>\n",
       "      <td>914.950012</td>\n",
       "      <td>468.890015</td>\n",
       "      <td>148.360001</td>\n",
       "      <td>172.610001</td>\n",
       "      <td>20.870001</td>\n",
       "    </tr>\n",
       "    <tr>\n",
       "      <th>2021-11-22</th>\n",
       "      <td>919.330017</td>\n",
       "      <td>467.570007</td>\n",
       "      <td>146.619995</td>\n",
       "      <td>168.740005</td>\n",
       "      <td>21.100000</td>\n",
       "    </tr>\n",
       "  </tbody>\n",
       "</table>\n",
       "<p>1258 rows × 5 columns</p>\n",
       "</div>"
      ],
      "text/plain": [
       "             Blackrock       SP500 Treasury bonds        Gold        Oil\n",
       "Date                                                                    \n",
       "2016-11-23  372.989990  220.699997     120.639999  113.250000  14.000000\n",
       "2016-11-25  373.670013  221.520004         120.82  112.610001  13.590000\n",
       "2016-11-28  368.649994  220.479996     121.709999  113.800003  13.710000\n",
       "2016-11-29  368.549988  220.910004     122.220001  113.269997  13.240000\n",
       "2016-11-30  370.790009  220.380005     120.239998  111.750000  14.440000\n",
       "...                ...         ...            ...         ...        ...\n",
       "2021-11-16  948.950012  469.279999     145.110001  172.919998  21.900000\n",
       "2021-11-17  931.539978  468.140015     146.259995  174.500000  21.400000\n",
       "2021-11-18  922.770020  469.730011     146.809998  173.940002  21.549999\n",
       "2021-11-19  914.950012  468.890015     148.360001  172.610001  20.870001\n",
       "2021-11-22  919.330017  467.570007     146.619995  168.740005  21.100000\n",
       "\n",
       "[1258 rows x 5 columns]"
      ]
     },
     "execution_count": 2,
     "metadata": {},
     "output_type": "execute_result"
    }
   ],
   "source": [
    "df=pd.read_excel('NEDL_LASSO_Elastic_Net.xlsx',index_col='Date')[['Blackrock','SP500','Treasury bonds','Gold','Oil']].dropna()\n",
    "df"
   ]
  },
  {
   "cell_type": "code",
   "execution_count": 3,
   "id": "9c370478",
   "metadata": {},
   "outputs": [
    {
     "data": {
      "text/html": [
       "<div>\n",
       "<style scoped>\n",
       "    .dataframe tbody tr th:only-of-type {\n",
       "        vertical-align: middle;\n",
       "    }\n",
       "\n",
       "    .dataframe tbody tr th {\n",
       "        vertical-align: top;\n",
       "    }\n",
       "\n",
       "    .dataframe thead th {\n",
       "        text-align: right;\n",
       "    }\n",
       "</style>\n",
       "<table border=\"1\" class=\"dataframe\">\n",
       "  <thead>\n",
       "    <tr style=\"text-align: right;\">\n",
       "      <th></th>\n",
       "      <th>Blackrock</th>\n",
       "      <th>SP500</th>\n",
       "      <th>Treasury bonds</th>\n",
       "      <th>Gold</th>\n",
       "      <th>Oil</th>\n",
       "    </tr>\n",
       "    <tr>\n",
       "      <th>Date</th>\n",
       "      <th></th>\n",
       "      <th></th>\n",
       "      <th></th>\n",
       "      <th></th>\n",
       "      <th></th>\n",
       "    </tr>\n",
       "  </thead>\n",
       "  <tbody>\n",
       "    <tr>\n",
       "      <th>2016-11-25</th>\n",
       "      <td>0.182317</td>\n",
       "      <td>0.371548</td>\n",
       "      <td>0.149205</td>\n",
       "      <td>-0.565121</td>\n",
       "      <td>-2.928571</td>\n",
       "    </tr>\n",
       "    <tr>\n",
       "      <th>2016-11-28</th>\n",
       "      <td>-1.343436</td>\n",
       "      <td>-0.469487</td>\n",
       "      <td>0.736632</td>\n",
       "      <td>1.056746</td>\n",
       "      <td>0.883002</td>\n",
       "    </tr>\n",
       "    <tr>\n",
       "      <th>2016-11-29</th>\n",
       "      <td>-0.027128</td>\n",
       "      <td>0.195033</td>\n",
       "      <td>0.419030</td>\n",
       "      <td>-0.465735</td>\n",
       "      <td>-3.428155</td>\n",
       "    </tr>\n",
       "    <tr>\n",
       "      <th>2016-11-30</th>\n",
       "      <td>0.607793</td>\n",
       "      <td>-0.239916</td>\n",
       "      <td>-1.620032</td>\n",
       "      <td>-1.341924</td>\n",
       "      <td>9.063444</td>\n",
       "    </tr>\n",
       "    <tr>\n",
       "      <th>2016-12-01</th>\n",
       "      <td>1.728742</td>\n",
       "      <td>-0.367546</td>\n",
       "      <td>-1.255818</td>\n",
       "      <td>-0.187919</td>\n",
       "      <td>3.947368</td>\n",
       "    </tr>\n",
       "    <tr>\n",
       "      <th>...</th>\n",
       "      <td>...</td>\n",
       "      <td>...</td>\n",
       "      <td>...</td>\n",
       "      <td>...</td>\n",
       "      <td>...</td>\n",
       "    </tr>\n",
       "    <tr>\n",
       "      <th>2021-11-16</th>\n",
       "      <td>-0.450042</td>\n",
       "      <td>0.395782</td>\n",
       "      <td>-0.254327</td>\n",
       "      <td>-0.723387</td>\n",
       "      <td>0.504814</td>\n",
       "    </tr>\n",
       "    <tr>\n",
       "      <th>2021-11-17</th>\n",
       "      <td>-1.834663</td>\n",
       "      <td>-0.242922</td>\n",
       "      <td>0.792498</td>\n",
       "      <td>0.913718</td>\n",
       "      <td>-2.283105</td>\n",
       "    </tr>\n",
       "    <tr>\n",
       "      <th>2021-11-18</th>\n",
       "      <td>-0.941447</td>\n",
       "      <td>0.339641</td>\n",
       "      <td>0.376045</td>\n",
       "      <td>-0.320916</td>\n",
       "      <td>0.700930</td>\n",
       "    </tr>\n",
       "    <tr>\n",
       "      <th>2021-11-19</th>\n",
       "      <td>-0.847449</td>\n",
       "      <td>-0.178825</td>\n",
       "      <td>1.055788</td>\n",
       "      <td>-0.764632</td>\n",
       "      <td>-3.155443</td>\n",
       "    </tr>\n",
       "    <tr>\n",
       "      <th>2021-11-22</th>\n",
       "      <td>0.478715</td>\n",
       "      <td>-0.281518</td>\n",
       "      <td>-1.172827</td>\n",
       "      <td>-2.242046</td>\n",
       "      <td>1.102056</td>\n",
       "    </tr>\n",
       "  </tbody>\n",
       "</table>\n",
       "<p>1257 rows × 5 columns</p>\n",
       "</div>"
      ],
      "text/plain": [
       "            Blackrock     SP500  Treasury bonds      Gold       Oil\n",
       "Date                                                               \n",
       "2016-11-25   0.182317  0.371548        0.149205 -0.565121 -2.928571\n",
       "2016-11-28  -1.343436 -0.469487        0.736632  1.056746  0.883002\n",
       "2016-11-29  -0.027128  0.195033        0.419030 -0.465735 -3.428155\n",
       "2016-11-30   0.607793 -0.239916       -1.620032 -1.341924  9.063444\n",
       "2016-12-01   1.728742 -0.367546       -1.255818 -0.187919  3.947368\n",
       "...               ...       ...             ...       ...       ...\n",
       "2021-11-16  -0.450042  0.395782       -0.254327 -0.723387  0.504814\n",
       "2021-11-17  -1.834663 -0.242922        0.792498  0.913718 -2.283105\n",
       "2021-11-18  -0.941447  0.339641        0.376045 -0.320916  0.700930\n",
       "2021-11-19  -0.847449 -0.178825        1.055788 -0.764632 -3.155443\n",
       "2021-11-22   0.478715 -0.281518       -1.172827 -2.242046  1.102056\n",
       "\n",
       "[1257 rows x 5 columns]"
      ]
     },
     "execution_count": 3,
     "metadata": {},
     "output_type": "execute_result"
    }
   ],
   "source": [
    "returns=df.pct_change().dropna()*100\n",
    "returns"
   ]
  },
  {
   "cell_type": "code",
   "execution_count": 4,
   "id": "68fdfe46",
   "metadata": {},
   "outputs": [
    {
     "data": {
      "text/plain": [
       "Lasso(alpha=0.02)"
      ]
     },
     "execution_count": 4,
     "metadata": {},
     "output_type": "execute_result"
    }
   ],
   "source": [
    "from sklearn import linear_model\n",
    "lasso_reg=linear_model.Lasso(alpha=0.02)#Tune alpha for come up with least number of assets\n",
    "lasso_reg.fit(returns[['SP500','Treasury bonds','Gold','Oil']],returns['Blackrock'])"
   ]
  },
  {
   "cell_type": "code",
   "execution_count": 5,
   "id": "a35fcdb8",
   "metadata": {},
   "outputs": [
    {
     "data": {
      "text/plain": [
       "array([ 1.19263227, -0.16220105, -0.        , -0.02555877])"
      ]
     },
     "execution_count": 5,
     "metadata": {},
     "output_type": "execute_result"
    }
   ],
   "source": [
    "lasso_reg.coef_"
   ]
  },
  {
   "cell_type": "code",
   "execution_count": 6,
   "id": "ff1dde06",
   "metadata": {},
   "outputs": [
    {
     "data": {
      "text/plain": [
       "array([ 0.8639808 , -0.11750361, -0.        , -0.01851559])"
      ]
     },
     "execution_count": 6,
     "metadata": {},
     "output_type": "execute_result"
    }
   ],
   "source": [
    "lasso_reg.coef_/sum(abs(lasso_reg.coef_))"
   ]
  },
  {
   "cell_type": "code",
   "execution_count": 7,
   "id": "dacfb4df",
   "metadata": {},
   "outputs": [
    {
     "data": {
      "text/plain": [
       "0.0001313561489589049"
      ]
     },
     "execution_count": 7,
     "metadata": {},
     "output_type": "execute_result"
    }
   ],
   "source": [
    "lasso_reg.intercept_/100"
   ]
  },
  {
   "cell_type": "code",
   "execution_count": 8,
   "id": "2b91585b",
   "metadata": {},
   "outputs": [
    {
     "data": {
      "text/plain": [
       "0.0"
      ]
     },
     "execution_count": 8,
     "metadata": {},
     "output_type": "execute_result"
    }
   ],
   "source": [
    "np.sqrt(0.000)"
   ]
  },
  {
   "cell_type": "code",
   "execution_count": 9,
   "id": "1b5f4f12",
   "metadata": {},
   "outputs": [
    {
     "data": {
      "text/plain": [
       "[<matplotlib.lines.Line2D at 0x252bbde9cc0>]"
      ]
     },
     "execution_count": 9,
     "metadata": {},
     "output_type": "execute_result"
    },
    {
     "data": {
      "image/png": "[encoded data removed]",
      "text/plain": [
       "<Figure size 432x288 with 1 Axes>"
      ]
     },
     "metadata": {
      "needs_background": "light"
     },
     "output_type": "display_data"
    }
   ],
   "source": [
    "plt.plot((1+lasso_reg.coef_.dot(returns[['SP500','Treasury bonds','Gold','Oil']].T)/100).cumprod())"
   ]
  },
  {
   "cell_type": "code",
   "execution_count": 10,
   "id": "e3db5294",
   "metadata": {},
   "outputs": [
    {
     "data": {
      "text/plain": [
       "<matplotlib.axes._subplots.AxesSubplot at 0x252bbead908>"
      ]
     },
     "execution_count": 10,
     "metadata": {},
     "output_type": "execute_result"
    },
    {
     "data": {
      "image/png": "[encoded data removed]",
      "text/plain": [
       "<Figure size 432x288 with 1 Axes>"
      ]
     },
     "metadata": {
      "needs_background": "light"
     },
     "output_type": "display_data"
    }
   ],
   "source": [
    "(1+returns['Blackrock']/100).cumprod().plot()"
   ]
  },
  {
   "cell_type": "code",
   "execution_count": 13,
   "id": "adbb81be",
   "metadata": {},
   "outputs": [
    {
     "data": {
      "text/plain": [
       "[<matplotlib.lines.Line2D at 0x252c89edd68>]"
      ]
     },
     "execution_count": 13,
     "metadata": {},
     "output_type": "execute_result"
    },
    {
     "data": {
      "image/png": "[encoded data removed]",
      "text/plain": [
       "<Figure size 432x288 with 1 Axes>"
      ]
     },
     "metadata": {
      "needs_background": "light"
     },
     "output_type": "display_data"
    }
   ],
   "source": [
    "plt.plot((1+(lasso_reg.coef_/sum(abs(lasso_reg.coef_))).dot(returns[['SP500','Treasury bonds','Gold','Oil']].T)/100).cumprod(),color='r')\n",
    "plt.plot((1+lasso_reg.coef_.dot(returns[['SP500','Treasury bonds','Gold','Oil']].T)/100).cumprod())"
   ]
  },
  {
   "cell_type": "code",
   "execution_count": null,
   "id": "71a419d9",
   "metadata": {},
   "outputs": [],
   "source": []
  }
 ],
 "metadata": {
  "kernelspec": {
   "display_name": "Python 3 (ipykernel)",
   "language": "python",
   "name": "python3"
  },
  "language_info": {
   "codemirror_mode": {
    "name": "ipython",
    "version": 3
   },
   "file_extension": ".py",
   "mimetype": "text/x-python",
   "name": "python",
   "nbconvert_exporter": "python",
   "pygments_lexer": "ipython3",
   "version": "3.7.3"
  }
 },
 "nbformat": 4,
 "nbformat_minor": 5
}

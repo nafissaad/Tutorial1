{
 "cells": [
  {
   "cell_type": "code",
   "execution_count": 1,
   "id": "ec558fef",
   "metadata": {},
   "outputs": [],
   "source": [
    "import pandas as pd\n",
    "import numpy as np\n",
    "import matplotlib.pyplot as plt\n",
    "import yfinance as yf"
   ]
  },
  {
   "cell_type": "code",
   "execution_count": 2,
   "id": "457dd635",
   "metadata": {},
   "outputs": [
    {
     "name": "stdout",
     "output_type": "stream",
     "text": [
      "[*********************100%***********************]  1 of 1 completed\n"
     ]
    },
    {
     "data": {
      "text/html": [
       "<div>\n",
       "<style scoped>\n",
       "    .dataframe tbody tr th:only-of-type {\n",
       "        vertical-align: middle;\n",
       "    }\n",
       "\n",
       "    .dataframe tbody tr th {\n",
       "        vertical-align: top;\n",
       "    }\n",
       "\n",
       "    .dataframe thead th {\n",
       "        text-align: right;\n",
       "    }\n",
       "</style>\n",
       "<table border=\"1\" class=\"dataframe\">\n",
       "  <thead>\n",
       "    <tr style=\"text-align: right;\">\n",
       "      <th></th>\n",
       "      <th>Open</th>\n",
       "      <th>Close</th>\n",
       "    </tr>\n",
       "    <tr>\n",
       "      <th>Date</th>\n",
       "      <th></th>\n",
       "      <th></th>\n",
       "    </tr>\n",
       "  </thead>\n",
       "  <tbody>\n",
       "    <tr>\n",
       "      <th>2017-01-03</th>\n",
       "      <td>124.959999</td>\n",
       "      <td>127.489998</td>\n",
       "    </tr>\n",
       "    <tr>\n",
       "      <th>2017-01-04</th>\n",
       "      <td>127.489998</td>\n",
       "      <td>129.410004</td>\n",
       "    </tr>\n",
       "    <tr>\n",
       "      <th>2017-01-05</th>\n",
       "      <td>129.220001</td>\n",
       "      <td>131.809998</td>\n",
       "    </tr>\n",
       "    <tr>\n",
       "      <th>2017-01-06</th>\n",
       "      <td>132.080002</td>\n",
       "      <td>131.070007</td>\n",
       "    </tr>\n",
       "    <tr>\n",
       "      <th>2017-01-09</th>\n",
       "      <td>131.479996</td>\n",
       "      <td>130.949997</td>\n",
       "    </tr>\n",
       "    <tr>\n",
       "      <th>...</th>\n",
       "      <td>...</td>\n",
       "      <td>...</td>\n",
       "    </tr>\n",
       "    <tr>\n",
       "      <th>2023-12-22</th>\n",
       "      <td>494.000000</td>\n",
       "      <td>486.760010</td>\n",
       "    </tr>\n",
       "    <tr>\n",
       "      <th>2023-12-26</th>\n",
       "      <td>489.390015</td>\n",
       "      <td>491.190002</td>\n",
       "    </tr>\n",
       "    <tr>\n",
       "      <th>2023-12-27</th>\n",
       "      <td>491.239990</td>\n",
       "      <td>491.790009</td>\n",
       "    </tr>\n",
       "    <tr>\n",
       "      <th>2023-12-28</th>\n",
       "      <td>492.000000</td>\n",
       "      <td>490.510010</td>\n",
       "    </tr>\n",
       "    <tr>\n",
       "      <th>2023-12-29</th>\n",
       "      <td>490.369995</td>\n",
       "      <td>486.880005</td>\n",
       "    </tr>\n",
       "  </tbody>\n",
       "</table>\n",
       "<p>1760 rows × 2 columns</p>\n",
       "</div>"
      ],
      "text/plain": [
       "                  Open       Close\n",
       "Date                              \n",
       "2017-01-03  124.959999  127.489998\n",
       "2017-01-04  127.489998  129.410004\n",
       "2017-01-05  129.220001  131.809998\n",
       "2017-01-06  132.080002  131.070007\n",
       "2017-01-09  131.479996  130.949997\n",
       "...                ...         ...\n",
       "2023-12-22  494.000000  486.760010\n",
       "2023-12-26  489.390015  491.190002\n",
       "2023-12-27  491.239990  491.790009\n",
       "2023-12-28  492.000000  490.510010\n",
       "2023-12-29  490.369995  486.880005\n",
       "\n",
       "[1760 rows x 2 columns]"
      ]
     },
     "execution_count": 2,
     "metadata": {},
     "output_type": "execute_result"
    }
   ],
   "source": [
    "start_date='2017-01-01'\n",
    "end_date='2023-12-31'\n",
    "stocks=['NFLX']\n",
    "df=yf.download(stocks,start=start_date,end=end_date)[['Open','Close']]\n",
    "df"
   ]
  },
  {
   "cell_type": "code",
   "execution_count": 3,
   "id": "c5d83462",
   "metadata": {},
   "outputs": [
    {
     "data": {
      "text/plain": [
       "Date\n",
       "2017-01-03    124.959999\n",
       "2017-01-04    127.489998\n",
       "2017-01-05    129.220001\n",
       "2017-01-06    132.080002\n",
       "2017-01-09    131.479996\n",
       "                 ...    \n",
       "2023-12-22    494.000000\n",
       "2023-12-26    489.390015\n",
       "2023-12-27    491.239990\n",
       "2023-12-28    492.000000\n",
       "2023-12-29    490.369995\n",
       "Name: Open, Length: 1760, dtype: float64"
      ]
     },
     "execution_count": 3,
     "metadata": {},
     "output_type": "execute_result"
    }
   ],
   "source": [
    "df[df.columns[0]]"
   ]
  },
  {
   "cell_type": "code",
   "execution_count": 4,
   "id": "9c370478",
   "metadata": {},
   "outputs": [
    {
     "name": "stderr",
     "output_type": "stream",
     "text": [
      "C:\\Users\\nafissaad\\AppData\\Local\\Programs\\Python\\Python37\\lib\\site-packages\\ipykernel_launcher.py:3: SettingWithCopyWarning: \n",
      "A value is trying to be set on a copy of a slice from a DataFrame.\n",
      "Try using .loc[row_indexer,col_indexer] = value instead\n",
      "\n",
      "See the caveats in the documentation: https://pandas.pydata.org/pandas-docs/stable/user_guide/indexing.html#returning-a-view-versus-a-copy\n",
      "  This is separate from the ipykernel package so we can avoid doing imports until\n",
      "C:\\Users\\nafissaad\\AppData\\Local\\Programs\\Python\\Python37\\lib\\site-packages\\ipykernel_launcher.py:4: SettingWithCopyWarning: \n",
      "A value is trying to be set on a copy of a slice from a DataFrame.\n",
      "Try using .loc[row_indexer,col_indexer] = value instead\n",
      "\n",
      "See the caveats in the documentation: https://pandas.pydata.org/pandas-docs/stable/user_guide/indexing.html#returning-a-view-versus-a-copy\n",
      "  after removing the cwd from sys.path.\n"
     ]
    }
   ],
   "source": [
    "#Moving parameters\n",
    "rolling_windows_days=30\n",
    "df['moving_average']=df[df.columns[0]].rolling(rolling_windows_days).mean().values\n",
    "df['moving_std_dev']=df[df.columns[0]].rolling(rolling_windows_days).std()"
   ]
  },
  {
   "cell_type": "code",
   "execution_count": 5,
   "id": "68fdfe46",
   "metadata": {},
   "outputs": [
    {
     "name": "stderr",
     "output_type": "stream",
     "text": [
      "C:\\Users\\nafissaad\\AppData\\Local\\Programs\\Python\\Python37\\lib\\site-packages\\ipykernel_launcher.py:1: SettingWithCopyWarning: \n",
      "A value is trying to be set on a copy of a slice from a DataFrame.\n",
      "Try using .loc[row_indexer,col_indexer] = value instead\n",
      "\n",
      "See the caveats in the documentation: https://pandas.pydata.org/pandas-docs/stable/user_guide/indexing.html#returning-a-view-versus-a-copy\n",
      "  \"\"\"Entry point for launching an IPython kernel.\n"
     ]
    }
   ],
   "source": [
    "df['upper_band']=df.moving_average+1.2*df.moving_std_dev\n",
    "df['lower_band']=df.moving_average-1.2*df.moving_std_dev"
   ]
  },
  {
   "cell_type": "code",
   "execution_count": 6,
   "id": "67d17c13",
   "metadata": {},
   "outputs": [
    {
     "data": {
      "image/png": "[encoded data removed]",
      "text/plain": [
       "<Figure size 720x360 with 1 Axes>"
      ]
     },
     "metadata": {
      "needs_background": "light"
     },
     "output_type": "display_data"
    }
   ],
   "source": [
    "df[df.columns[0]].plot(label='Blackrock',figsize=(10,5))\n",
    "df.upper_band.plot(label='Upper band')\n",
    "df.lower_band.plot(label='lower_band')\n",
    "plt.legend()\n",
    "plt.show()"
   ]
  },
  {
   "cell_type": "code",
   "execution_count": 7,
   "id": "ff1dde06",
   "metadata": {},
   "outputs": [
    {
     "data": {
      "text/html": [
       "<div>\n",
       "<style scoped>\n",
       "    .dataframe tbody tr th:only-of-type {\n",
       "        vertical-align: middle;\n",
       "    }\n",
       "\n",
       "    .dataframe tbody tr th {\n",
       "        vertical-align: top;\n",
       "    }\n",
       "\n",
       "    .dataframe thead th {\n",
       "        text-align: right;\n",
       "    }\n",
       "</style>\n",
       "<table border=\"1\" class=\"dataframe\">\n",
       "  <thead>\n",
       "    <tr style=\"text-align: right;\">\n",
       "      <th></th>\n",
       "      <th>Open</th>\n",
       "      <th>Close</th>\n",
       "      <th>moving_average</th>\n",
       "      <th>moving_std_dev</th>\n",
       "      <th>upper_band</th>\n",
       "      <th>lower_band</th>\n",
       "      <th>short_entry</th>\n",
       "      <th>short_exit</th>\n",
       "      <th>positions_short</th>\n",
       "    </tr>\n",
       "    <tr>\n",
       "      <th>Date</th>\n",
       "      <th></th>\n",
       "      <th></th>\n",
       "      <th></th>\n",
       "      <th></th>\n",
       "      <th></th>\n",
       "      <th></th>\n",
       "      <th></th>\n",
       "      <th></th>\n",
       "      <th></th>\n",
       "    </tr>\n",
       "  </thead>\n",
       "  <tbody>\n",
       "    <tr>\n",
       "      <th>2017-01-03</th>\n",
       "      <td>124.959999</td>\n",
       "      <td>127.489998</td>\n",
       "      <td>NaN</td>\n",
       "      <td>NaN</td>\n",
       "      <td>NaN</td>\n",
       "      <td>NaN</td>\n",
       "      <td>False</td>\n",
       "      <td>False</td>\n",
       "      <td>NaN</td>\n",
       "    </tr>\n",
       "    <tr>\n",
       "      <th>2017-01-04</th>\n",
       "      <td>127.489998</td>\n",
       "      <td>129.410004</td>\n",
       "      <td>NaN</td>\n",
       "      <td>NaN</td>\n",
       "      <td>NaN</td>\n",
       "      <td>NaN</td>\n",
       "      <td>False</td>\n",
       "      <td>False</td>\n",
       "      <td>NaN</td>\n",
       "    </tr>\n",
       "    <tr>\n",
       "      <th>2017-01-05</th>\n",
       "      <td>129.220001</td>\n",
       "      <td>131.809998</td>\n",
       "      <td>NaN</td>\n",
       "      <td>NaN</td>\n",
       "      <td>NaN</td>\n",
       "      <td>NaN</td>\n",
       "      <td>False</td>\n",
       "      <td>False</td>\n",
       "      <td>NaN</td>\n",
       "    </tr>\n",
       "    <tr>\n",
       "      <th>2017-01-06</th>\n",
       "      <td>132.080002</td>\n",
       "      <td>131.070007</td>\n",
       "      <td>NaN</td>\n",
       "      <td>NaN</td>\n",
       "      <td>NaN</td>\n",
       "      <td>NaN</td>\n",
       "      <td>False</td>\n",
       "      <td>False</td>\n",
       "      <td>NaN</td>\n",
       "    </tr>\n",
       "    <tr>\n",
       "      <th>2017-01-09</th>\n",
       "      <td>131.479996</td>\n",
       "      <td>130.949997</td>\n",
       "      <td>NaN</td>\n",
       "      <td>NaN</td>\n",
       "      <td>NaN</td>\n",
       "      <td>NaN</td>\n",
       "      <td>False</td>\n",
       "      <td>False</td>\n",
       "      <td>NaN</td>\n",
       "    </tr>\n",
       "    <tr>\n",
       "      <th>...</th>\n",
       "      <td>...</td>\n",
       "      <td>...</td>\n",
       "      <td>...</td>\n",
       "      <td>...</td>\n",
       "      <td>...</td>\n",
       "      <td>...</td>\n",
       "      <td>...</td>\n",
       "      <td>...</td>\n",
       "      <td>...</td>\n",
       "    </tr>\n",
       "    <tr>\n",
       "      <th>2023-12-22</th>\n",
       "      <td>494.000000</td>\n",
       "      <td>486.760010</td>\n",
       "      <td>468.123999</td>\n",
       "      <td>14.647868</td>\n",
       "      <td>485.701441</td>\n",
       "      <td>450.546557</td>\n",
       "      <td>False</td>\n",
       "      <td>True</td>\n",
       "      <td>0.0</td>\n",
       "    </tr>\n",
       "    <tr>\n",
       "      <th>2023-12-26</th>\n",
       "      <td>489.390015</td>\n",
       "      <td>491.190002</td>\n",
       "      <td>469.854332</td>\n",
       "      <td>13.952641</td>\n",
       "      <td>486.597501</td>\n",
       "      <td>453.111164</td>\n",
       "      <td>False</td>\n",
       "      <td>True</td>\n",
       "      <td>0.0</td>\n",
       "    </tr>\n",
       "    <tr>\n",
       "      <th>2023-12-27</th>\n",
       "      <td>491.239990</td>\n",
       "      <td>491.790009</td>\n",
       "      <td>471.320665</td>\n",
       "      <td>13.805915</td>\n",
       "      <td>487.887764</td>\n",
       "      <td>454.753567</td>\n",
       "      <td>False</td>\n",
       "      <td>True</td>\n",
       "      <td>0.0</td>\n",
       "    </tr>\n",
       "    <tr>\n",
       "      <th>2023-12-28</th>\n",
       "      <td>492.000000</td>\n",
       "      <td>490.510010</td>\n",
       "      <td>472.761332</td>\n",
       "      <td>13.626525</td>\n",
       "      <td>489.113162</td>\n",
       "      <td>456.409502</td>\n",
       "      <td>False</td>\n",
       "      <td>True</td>\n",
       "      <td>0.0</td>\n",
       "    </tr>\n",
       "    <tr>\n",
       "      <th>2023-12-29</th>\n",
       "      <td>490.369995</td>\n",
       "      <td>486.880005</td>\n",
       "      <td>474.013332</td>\n",
       "      <td>13.454607</td>\n",
       "      <td>490.158861</td>\n",
       "      <td>457.867803</td>\n",
       "      <td>False</td>\n",
       "      <td>True</td>\n",
       "      <td>0.0</td>\n",
       "    </tr>\n",
       "  </tbody>\n",
       "</table>\n",
       "<p>1760 rows × 9 columns</p>\n",
       "</div>"
      ],
      "text/plain": [
       "                  Open       Close  moving_average  moving_std_dev  \\\n",
       "Date                                                                 \n",
       "2017-01-03  124.959999  127.489998             NaN             NaN   \n",
       "2017-01-04  127.489998  129.410004             NaN             NaN   \n",
       "2017-01-05  129.220001  131.809998             NaN             NaN   \n",
       "2017-01-06  132.080002  131.070007             NaN             NaN   \n",
       "2017-01-09  131.479996  130.949997             NaN             NaN   \n",
       "...                ...         ...             ...             ...   \n",
       "2023-12-22  494.000000  486.760010      468.123999       14.647868   \n",
       "2023-12-26  489.390015  491.190002      469.854332       13.952641   \n",
       "2023-12-27  491.239990  491.790009      471.320665       13.805915   \n",
       "2023-12-28  492.000000  490.510010      472.761332       13.626525   \n",
       "2023-12-29  490.369995  486.880005      474.013332       13.454607   \n",
       "\n",
       "            upper_band  lower_band  short_entry  short_exit  positions_short  \n",
       "Date                                                                          \n",
       "2017-01-03         NaN         NaN        False       False              NaN  \n",
       "2017-01-04         NaN         NaN        False       False              NaN  \n",
       "2017-01-05         NaN         NaN        False       False              NaN  \n",
       "2017-01-06         NaN         NaN        False       False              NaN  \n",
       "2017-01-09         NaN         NaN        False       False              NaN  \n",
       "...                ...         ...          ...         ...              ...  \n",
       "2023-12-22  485.701441  450.546557        False        True              0.0  \n",
       "2023-12-26  486.597501  453.111164        False        True              0.0  \n",
       "2023-12-27  487.887764  454.753567        False        True              0.0  \n",
       "2023-12-28  489.113162  456.409502        False        True              0.0  \n",
       "2023-12-29  490.158861  457.867803        False        True              0.0  \n",
       "\n",
       "[1760 rows x 9 columns]"
      ]
     },
     "execution_count": 7,
     "metadata": {},
     "output_type": "execute_result"
    }
   ],
   "source": [
    "#Long Positions\n",
    "df['short_entry']=df[df.columns[0]] <= df.lower_band\n",
    "df['short_exit']=df[df.columns[0]] > df.lower_band\n",
    "df['positions_short']=np.nan\n",
    "df.loc[df.short_entry,'positions_short']=-1\n",
    "df.loc[df.short_exit,'positions_short']=0\n",
    "df.positions_short=df.positions_short.fillna(method='ffill')\n",
    "df"
   ]
  },
  {
   "cell_type": "code",
   "execution_count": 8,
   "id": "dacfb4df",
   "metadata": {},
   "outputs": [
    {
     "data": {
      "text/html": [
       "<div>\n",
       "<style scoped>\n",
       "    .dataframe tbody tr th:only-of-type {\n",
       "        vertical-align: middle;\n",
       "    }\n",
       "\n",
       "    .dataframe tbody tr th {\n",
       "        vertical-align: top;\n",
       "    }\n",
       "\n",
       "    .dataframe thead th {\n",
       "        text-align: right;\n",
       "    }\n",
       "</style>\n",
       "<table border=\"1\" class=\"dataframe\">\n",
       "  <thead>\n",
       "    <tr style=\"text-align: right;\">\n",
       "      <th></th>\n",
       "      <th>Open</th>\n",
       "      <th>Close</th>\n",
       "      <th>moving_average</th>\n",
       "      <th>moving_std_dev</th>\n",
       "      <th>upper_band</th>\n",
       "      <th>lower_band</th>\n",
       "      <th>short_entry</th>\n",
       "      <th>short_exit</th>\n",
       "      <th>positions_short</th>\n",
       "      <th>Long_entry</th>\n",
       "      <th>Long_exit</th>\n",
       "      <th>positions_long</th>\n",
       "    </tr>\n",
       "    <tr>\n",
       "      <th>Date</th>\n",
       "      <th></th>\n",
       "      <th></th>\n",
       "      <th></th>\n",
       "      <th></th>\n",
       "      <th></th>\n",
       "      <th></th>\n",
       "      <th></th>\n",
       "      <th></th>\n",
       "      <th></th>\n",
       "      <th></th>\n",
       "      <th></th>\n",
       "      <th></th>\n",
       "    </tr>\n",
       "  </thead>\n",
       "  <tbody>\n",
       "    <tr>\n",
       "      <th>2017-01-03</th>\n",
       "      <td>124.959999</td>\n",
       "      <td>127.489998</td>\n",
       "      <td>NaN</td>\n",
       "      <td>NaN</td>\n",
       "      <td>NaN</td>\n",
       "      <td>NaN</td>\n",
       "      <td>False</td>\n",
       "      <td>False</td>\n",
       "      <td>NaN</td>\n",
       "      <td>False</td>\n",
       "      <td>False</td>\n",
       "      <td>NaN</td>\n",
       "    </tr>\n",
       "    <tr>\n",
       "      <th>2017-01-04</th>\n",
       "      <td>127.489998</td>\n",
       "      <td>129.410004</td>\n",
       "      <td>NaN</td>\n",
       "      <td>NaN</td>\n",
       "      <td>NaN</td>\n",
       "      <td>NaN</td>\n",
       "      <td>False</td>\n",
       "      <td>False</td>\n",
       "      <td>NaN</td>\n",
       "      <td>False</td>\n",
       "      <td>False</td>\n",
       "      <td>NaN</td>\n",
       "    </tr>\n",
       "    <tr>\n",
       "      <th>2017-01-05</th>\n",
       "      <td>129.220001</td>\n",
       "      <td>131.809998</td>\n",
       "      <td>NaN</td>\n",
       "      <td>NaN</td>\n",
       "      <td>NaN</td>\n",
       "      <td>NaN</td>\n",
       "      <td>False</td>\n",
       "      <td>False</td>\n",
       "      <td>NaN</td>\n",
       "      <td>False</td>\n",
       "      <td>False</td>\n",
       "      <td>NaN</td>\n",
       "    </tr>\n",
       "    <tr>\n",
       "      <th>2017-01-06</th>\n",
       "      <td>132.080002</td>\n",
       "      <td>131.070007</td>\n",
       "      <td>NaN</td>\n",
       "      <td>NaN</td>\n",
       "      <td>NaN</td>\n",
       "      <td>NaN</td>\n",
       "      <td>False</td>\n",
       "      <td>False</td>\n",
       "      <td>NaN</td>\n",
       "      <td>False</td>\n",
       "      <td>False</td>\n",
       "      <td>NaN</td>\n",
       "    </tr>\n",
       "    <tr>\n",
       "      <th>2017-01-09</th>\n",
       "      <td>131.479996</td>\n",
       "      <td>130.949997</td>\n",
       "      <td>NaN</td>\n",
       "      <td>NaN</td>\n",
       "      <td>NaN</td>\n",
       "      <td>NaN</td>\n",
       "      <td>False</td>\n",
       "      <td>False</td>\n",
       "      <td>NaN</td>\n",
       "      <td>False</td>\n",
       "      <td>False</td>\n",
       "      <td>NaN</td>\n",
       "    </tr>\n",
       "    <tr>\n",
       "      <th>...</th>\n",
       "      <td>...</td>\n",
       "      <td>...</td>\n",
       "      <td>...</td>\n",
       "      <td>...</td>\n",
       "      <td>...</td>\n",
       "      <td>...</td>\n",
       "      <td>...</td>\n",
       "      <td>...</td>\n",
       "      <td>...</td>\n",
       "      <td>...</td>\n",
       "      <td>...</td>\n",
       "      <td>...</td>\n",
       "    </tr>\n",
       "    <tr>\n",
       "      <th>2023-12-22</th>\n",
       "      <td>494.000000</td>\n",
       "      <td>486.760010</td>\n",
       "      <td>468.123999</td>\n",
       "      <td>14.647868</td>\n",
       "      <td>485.701441</td>\n",
       "      <td>450.546557</td>\n",
       "      <td>False</td>\n",
       "      <td>True</td>\n",
       "      <td>0.0</td>\n",
       "      <td>True</td>\n",
       "      <td>False</td>\n",
       "      <td>1.0</td>\n",
       "    </tr>\n",
       "    <tr>\n",
       "      <th>2023-12-26</th>\n",
       "      <td>489.390015</td>\n",
       "      <td>491.190002</td>\n",
       "      <td>469.854332</td>\n",
       "      <td>13.952641</td>\n",
       "      <td>486.597501</td>\n",
       "      <td>453.111164</td>\n",
       "      <td>False</td>\n",
       "      <td>True</td>\n",
       "      <td>0.0</td>\n",
       "      <td>True</td>\n",
       "      <td>False</td>\n",
       "      <td>1.0</td>\n",
       "    </tr>\n",
       "    <tr>\n",
       "      <th>2023-12-27</th>\n",
       "      <td>491.239990</td>\n",
       "      <td>491.790009</td>\n",
       "      <td>471.320665</td>\n",
       "      <td>13.805915</td>\n",
       "      <td>487.887764</td>\n",
       "      <td>454.753567</td>\n",
       "      <td>False</td>\n",
       "      <td>True</td>\n",
       "      <td>0.0</td>\n",
       "      <td>True</td>\n",
       "      <td>False</td>\n",
       "      <td>1.0</td>\n",
       "    </tr>\n",
       "    <tr>\n",
       "      <th>2023-12-28</th>\n",
       "      <td>492.000000</td>\n",
       "      <td>490.510010</td>\n",
       "      <td>472.761332</td>\n",
       "      <td>13.626525</td>\n",
       "      <td>489.113162</td>\n",
       "      <td>456.409502</td>\n",
       "      <td>False</td>\n",
       "      <td>True</td>\n",
       "      <td>0.0</td>\n",
       "      <td>True</td>\n",
       "      <td>False</td>\n",
       "      <td>1.0</td>\n",
       "    </tr>\n",
       "    <tr>\n",
       "      <th>2023-12-29</th>\n",
       "      <td>490.369995</td>\n",
       "      <td>486.880005</td>\n",
       "      <td>474.013332</td>\n",
       "      <td>13.454607</td>\n",
       "      <td>490.158861</td>\n",
       "      <td>457.867803</td>\n",
       "      <td>False</td>\n",
       "      <td>True</td>\n",
       "      <td>0.0</td>\n",
       "      <td>True</td>\n",
       "      <td>False</td>\n",
       "      <td>1.0</td>\n",
       "    </tr>\n",
       "  </tbody>\n",
       "</table>\n",
       "<p>1760 rows × 12 columns</p>\n",
       "</div>"
      ],
      "text/plain": [
       "                  Open       Close  moving_average  moving_std_dev  \\\n",
       "Date                                                                 \n",
       "2017-01-03  124.959999  127.489998             NaN             NaN   \n",
       "2017-01-04  127.489998  129.410004             NaN             NaN   \n",
       "2017-01-05  129.220001  131.809998             NaN             NaN   \n",
       "2017-01-06  132.080002  131.070007             NaN             NaN   \n",
       "2017-01-09  131.479996  130.949997             NaN             NaN   \n",
       "...                ...         ...             ...             ...   \n",
       "2023-12-22  494.000000  486.760010      468.123999       14.647868   \n",
       "2023-12-26  489.390015  491.190002      469.854332       13.952641   \n",
       "2023-12-27  491.239990  491.790009      471.320665       13.805915   \n",
       "2023-12-28  492.000000  490.510010      472.761332       13.626525   \n",
       "2023-12-29  490.369995  486.880005      474.013332       13.454607   \n",
       "\n",
       "            upper_band  lower_band  short_entry  short_exit  positions_short  \\\n",
       "Date                                                                           \n",
       "2017-01-03         NaN         NaN        False       False              NaN   \n",
       "2017-01-04         NaN         NaN        False       False              NaN   \n",
       "2017-01-05         NaN         NaN        False       False              NaN   \n",
       "2017-01-06         NaN         NaN        False       False              NaN   \n",
       "2017-01-09         NaN         NaN        False       False              NaN   \n",
       "...                ...         ...          ...         ...              ...   \n",
       "2023-12-22  485.701441  450.546557        False        True              0.0   \n",
       "2023-12-26  486.597501  453.111164        False        True              0.0   \n",
       "2023-12-27  487.887764  454.753567        False        True              0.0   \n",
       "2023-12-28  489.113162  456.409502        False        True              0.0   \n",
       "2023-12-29  490.158861  457.867803        False        True              0.0   \n",
       "\n",
       "            Long_entry  Long_exit  positions_long  \n",
       "Date                                               \n",
       "2017-01-03       False      False             NaN  \n",
       "2017-01-04       False      False             NaN  \n",
       "2017-01-05       False      False             NaN  \n",
       "2017-01-06       False      False             NaN  \n",
       "2017-01-09       False      False             NaN  \n",
       "...                ...        ...             ...  \n",
       "2023-12-22        True      False             1.0  \n",
       "2023-12-26        True      False             1.0  \n",
       "2023-12-27        True      False             1.0  \n",
       "2023-12-28        True      False             1.0  \n",
       "2023-12-29        True      False             1.0  \n",
       "\n",
       "[1760 rows x 12 columns]"
      ]
     },
     "execution_count": 8,
     "metadata": {},
     "output_type": "execute_result"
    }
   ],
   "source": [
    "#Short positions\n",
    "df['Long_entry']=df[df.columns[0]]>=df.upper_band\n",
    "df['Long_exit']=df[df.columns[0]]<df.upper_band\n",
    "df['positions_long']=np.nan\n",
    "df.loc[df.Long_entry,'positions_long']=1\n",
    "df.loc[df.Long_exit,'positions_long']=0\n",
    "df.positions_long=df.positions_long.fillna(method='ffill')\n",
    "df"
   ]
  },
  {
   "cell_type": "code",
   "execution_count": 9,
   "id": "798cb381",
   "metadata": {},
   "outputs": [
    {
     "data": {
      "text/plain": [
       "Date\n",
       "2017-04-20   -1.0\n",
       "2017-04-21   -1.0\n",
       "2017-06-13   -1.0\n",
       "2017-06-14   -1.0\n",
       "2017-06-15   -1.0\n",
       "             ... \n",
       "2023-10-06   -1.0\n",
       "2023-10-12   -1.0\n",
       "2023-10-13   -1.0\n",
       "2023-10-16   -1.0\n",
       "2023-10-18   -1.0\n",
       "Name: positions_short, Length: 251, dtype: float64"
      ]
     },
     "execution_count": 9,
     "metadata": {},
     "output_type": "execute_result"
    }
   ],
   "source": [
    "df[df['positions_short']==-1]['positions_short']"
   ]
  },
  {
   "cell_type": "code",
   "execution_count": 10,
   "id": "e883cdc5",
   "metadata": {},
   "outputs": [
    {
     "data": {
      "text/plain": [
       "Date\n",
       "2017-03-15    1.0\n",
       "2017-03-16    1.0\n",
       "2017-03-20    1.0\n",
       "2017-03-21    1.0\n",
       "2017-03-29    1.0\n",
       "2017-03-30    1.0\n",
       "2017-03-31    1.0\n",
       "2017-04-03    1.0\n",
       "2017-04-04    1.0\n",
       "2017-04-18    1.0\n",
       "2017-04-25    1.0\n",
       "2017-04-26    1.0\n",
       "2017-04-27    1.0\n",
       "2017-04-28    1.0\n",
       "2017-05-01    1.0\n",
       "2017-05-02    1.0\n",
       "2017-05-03    1.0\n",
       "2017-05-04    1.0\n",
       "2017-05-05    1.0\n",
       "2017-05-08    1.0\n",
       "2017-05-09    1.0\n",
       "2017-05-10    1.0\n",
       "2017-05-11    1.0\n",
       "2017-05-12    1.0\n",
       "2017-05-15    1.0\n",
       "2017-05-16    1.0\n",
       "2017-05-25    1.0\n",
       "2017-05-26    1.0\n",
       "2017-05-30    1.0\n",
       "2017-05-31    1.0\n",
       "2017-06-01    1.0\n",
       "2017-06-02    1.0\n",
       "2017-06-05    1.0\n",
       "2017-06-06    1.0\n",
       "2017-06-07    1.0\n",
       "2017-06-08    1.0\n",
       "2017-06-09    1.0\n",
       "2017-07-17    1.0\n",
       "2017-07-18    1.0\n",
       "2017-07-19    1.0\n",
       "2017-07-20    1.0\n",
       "2017-07-21    1.0\n",
       "2017-07-24    1.0\n",
       "2017-07-25    1.0\n",
       "2017-07-26    1.0\n",
       "2017-07-27    1.0\n",
       "2017-07-28    1.0\n",
       "2017-07-31    1.0\n",
       "2017-09-12    1.0\n",
       "2017-09-13    1.0\n",
       "Name: positions_long, dtype: float64"
      ]
     },
     "execution_count": 10,
     "metadata": {},
     "output_type": "execute_result"
    }
   ],
   "source": [
    "df[df['positions_long']==1]['positions_long'][0:50]"
   ]
  },
  {
   "cell_type": "code",
   "execution_count": 11,
   "id": "f349d267",
   "metadata": {},
   "outputs": [
    {
     "data": {
      "text/plain": [
       "<matplotlib.axes._subplots.AxesSubplot at 0x2dba9480dd8>"
      ]
     },
     "execution_count": 11,
     "metadata": {},
     "output_type": "execute_result"
    },
    {
     "data": {
      "image/png": "[encoded data removed]",
      "text/plain": [
       "<Figure size 432x288 with 1 Axes>"
      ]
     },
     "metadata": {
      "needs_background": "light"
     },
     "output_type": "display_data"
    }
   ],
   "source": [
    "(1+df['positions_long']*df[df.columns[1]].pct_change().dropna()).cumprod().plot(color='g')\n",
    "(1+df['positions_short']*df[df.columns[1]].pct_change().dropna()).cumprod().plot(color='r')"
   ]
  },
  {
   "cell_type": "code",
   "execution_count": 12,
   "id": "c15aca22",
   "metadata": {},
   "outputs": [
    {
     "data": {
      "text/plain": [
       "<matplotlib.axes._subplots.AxesSubplot at 0x2dba719f3c8>"
      ]
     },
     "execution_count": 12,
     "metadata": {},
     "output_type": "execute_result"
    },
    {
     "data": {
      "image/png": "[encoded data removed]",
      "text/plain": [
       "<Figure size 432x288 with 1 Axes>"
      ]
     },
     "metadata": {
      "needs_background": "light"
     },
     "output_type": "display_data"
    }
   ],
   "source": [
    "y=(1+df['positions_long'].shift(1)*df[df.columns[1]].pct_change().dropna()).cumprod()+(1+df['positions_short'].shift(1)*df[df.columns[1]].pct_change().dropna()).cumprod()\n",
    "y.plot()"
   ]
  },
  {
   "cell_type": "code",
   "execution_count": 13,
   "id": "ef43b247",
   "metadata": {},
   "outputs": [],
   "source": [
    "start='2021-01-01'\n",
    "end='2021-12-31'"
   ]
  },
  {
   "cell_type": "code",
   "execution_count": 14,
   "id": "626cbd21",
   "metadata": {},
   "outputs": [
    {
     "data": {
      "text/plain": [
       "Date\n",
       "2021-01-04    1.0\n",
       "2021-01-05    0.0\n",
       "2021-01-06    0.0\n",
       "2021-01-07    0.0\n",
       "2021-01-08    0.0\n",
       "             ... \n",
       "2021-12-27    0.0\n",
       "2021-12-28    0.0\n",
       "2021-12-29    0.0\n",
       "2021-12-30    0.0\n",
       "2021-12-31    0.0\n",
       "Name: positions_long, Length: 252, dtype: float64"
      ]
     },
     "execution_count": 14,
     "metadata": {},
     "output_type": "execute_result"
    }
   ],
   "source": [
    "df['positions_long'].loc[start:end]"
   ]
  },
  {
   "cell_type": "code",
   "execution_count": 15,
   "id": "b616973f",
   "metadata": {},
   "outputs": [
    {
     "data": {
      "text/plain": [
       "array([522.85998535,          nan,          nan,          nan,\n",
       "                nan,          nan,          nan,          nan,\n",
       "                nan,          nan,          nan, 586.34002686,\n",
       "       579.84002686, 565.16998291, 556.7800293 , 561.92999268,\n",
       "                nan,          nan,          nan,          nan,\n",
       "                nan,          nan,          nan,          nan,\n",
       "                nan,          nan,          nan,          nan,\n",
       "                nan,          nan,          nan,          nan,\n",
       "                nan,          nan,          nan,          nan,\n",
       "                nan,          nan,          nan,          nan,\n",
       "                nan,          nan,          nan,          nan,\n",
       "                nan,          nan,          nan,          nan,\n",
       "                nan,          nan,          nan,          nan,\n",
       "                nan,          nan,          nan,          nan,\n",
       "                nan,          nan,          nan,          nan,\n",
       "                nan,          nan,          nan, 544.5300293 ,\n",
       "                nan, 554.58001709, 555.30999756, 552.7800293 ,\n",
       "       553.72998047, 540.02001953,          nan, 546.53997803,\n",
       "                nan, 549.57000732,          nan,          nan,\n",
       "                nan,          nan,          nan,          nan,\n",
       "                nan,          nan,          nan,          nan,\n",
       "                nan,          nan,          nan,          nan,\n",
       "                nan,          nan,          nan,          nan,\n",
       "                nan,          nan,          nan,          nan,\n",
       "                nan,          nan,          nan,          nan,\n",
       "                nan,          nan,          nan,          nan,\n",
       "                nan,          nan,          nan,          nan,\n",
       "                nan,          nan,          nan,          nan,\n",
       "                nan,          nan,          nan,          nan,\n",
       "                nan,          nan, 512.73999023, 518.05999756,\n",
       "       527.07000732, 533.0300293 , 533.5       , 528.21002197,\n",
       "       533.53997803, 533.97998047, 541.64001465, 535.96002197,\n",
       "       530.76000977, 535.97998047, 537.30999756, 540.67999268,\n",
       "       547.95001221, 542.95001221,          nan,          nan,\n",
       "                nan,          nan,          nan,          nan,\n",
       "                nan,          nan,          nan,          nan,\n",
       "                nan,          nan,          nan,          nan,\n",
       "                nan,          nan,          nan,          nan,\n",
       "                nan,          nan,          nan,          nan,\n",
       "                nan,          nan,          nan, 546.88000488,\n",
       "       553.33001709, 553.40997314, 547.58001709, 550.11999512,\n",
       "       558.91998291, 566.17999268, 569.19000244, 582.07000732,\n",
       "       588.54998779, 590.5300293 , 606.71002197, 606.04998779,\n",
       "       597.53997803, 598.7199707 , 589.28997803,          nan,\n",
       "                nan,          nan,          nan,          nan,\n",
       "                nan,          nan,          nan,          nan,\n",
       "                nan,          nan,          nan, 610.34002686,\n",
       "       613.15002441, 603.34997559, 634.80999756, 639.09997559,\n",
       "       631.84997559, 632.65997314, 627.03997803, 624.94000244,\n",
       "       629.76000977, 633.79998779, 628.28997803, 637.9699707 ,\n",
       "       639.        ,          nan,          nan, 664.7800293 ,\n",
       "       671.65997314, 668.52001953, 662.91998291, 674.04998779,\n",
       "       690.30999756, 681.16998291, 677.7199707 , 688.28997803,\n",
       "       668.40002441,          nan,          nan,          nan,\n",
       "                nan,          nan,          nan, 679.33001709,\n",
       "                nan, 691.69000244, 682.02001953, 678.79998779,\n",
       "                nan,          nan,          nan,          nan,\n",
       "                nan,          nan,          nan,          nan,\n",
       "                nan,          nan,          nan,          nan,\n",
       "                nan,          nan,          nan,          nan,\n",
       "                nan,          nan,          nan,          nan,\n",
       "                nan,          nan,          nan,          nan,\n",
       "                nan,          nan,          nan,          nan])"
      ]
     },
     "execution_count": 15,
     "metadata": {},
     "output_type": "execute_result"
    }
   ],
   "source": [
    "(abs(df['positions_long'])*df[df.columns[1]]).replace(0,np.nan).loc[start:end].values\n"
   ]
  },
  {
   "cell_type": "code",
   "execution_count": 16,
   "id": "a8d006ed",
   "metadata": {},
   "outputs": [
    {
     "data": {
      "text/plain": [
       "<matplotlib.axes._subplots.AxesSubplot at 0x2dbaa4cb588>"
      ]
     },
     "execution_count": 16,
     "metadata": {},
     "output_type": "execute_result"
    },
    {
     "data": {
      "image/png": "[encoded data removed]",
      "text/plain": [
       "<Figure size 432x288 with 1 Axes>"
      ]
     },
     "metadata": {
      "needs_background": "light"
     },
     "output_type": "display_data"
    }
   ],
   "source": [
    "df['Open'].loc[start:end].plot()\n",
    "df['Close'].loc[start:end].plot()\n",
    "(df['positions_long']*df[df.columns[1]]).replace(0,np.nan).loc[start:end].plot(color='g',linewidth=3)\n",
    "(abs(df['positions_short'])*df[df.columns[1]]).replace(0,np.nan).loc[start:end].plot(color='r',linewidth=2)\n",
    "df.upper_band.loc[start:end].plot(label='Upper band')\n",
    "df.lower_band.loc[start:end].plot(label='lower_band')"
   ]
  },
  {
   "cell_type": "code",
   "execution_count": 17,
   "id": "5f2ee4be",
   "metadata": {},
   "outputs": [
    {
     "data": {
      "image/png": "[encoded data removed]",
      "text/plain": [
       "<Figure size 432x288 with 1 Axes>"
      ]
     },
     "metadata": {
      "needs_background": "light"
     },
     "output_type": "display_data"
    }
   ],
   "source": [
    "((df['Close']-df['upper_band'])/df['upper_band']).loc[start:end].plot(label='Upper band')\n",
    "((df['Close']-df['lower_band'])/df['lower_band']).loc[start:end].plot(label='lower band')\n",
    "plt.axhline(y=0.0)\n",
    "plt.legend()\n",
    "plt.show()"
   ]
  },
  {
   "cell_type": "code",
   "execution_count": null,
   "id": "43cd6074",
   "metadata": {},
   "outputs": [],
   "source": []
  },
  {
   "cell_type": "code",
   "execution_count": null,
   "id": "7b39de20",
   "metadata": {},
   "outputs": [],
   "source": []
  }
 ],
 "metadata": {
  "kernelspec": {
   "display_name": "Python 3 (ipykernel)",
   "language": "python",
   "name": "python3"
  },
  "language_info": {
   "codemirror_mode": {
    "name": "ipython",
    "version": 3
   },
   "file_extension": ".py",
   "mimetype": "text/x-python",
   "name": "python",
   "nbconvert_exporter": "python",
   "pygments_lexer": "ipython3",
   "version": "3.7.3"
  }
 },
 "nbformat": 4,
 "nbformat_minor": 5
}

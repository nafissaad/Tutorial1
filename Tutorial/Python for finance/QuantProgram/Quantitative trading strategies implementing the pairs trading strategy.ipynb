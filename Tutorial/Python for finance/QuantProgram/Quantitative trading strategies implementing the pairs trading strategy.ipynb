{
 "cells": [
  {
   "cell_type": "code",
   "execution_count": 1,
   "id": "ec558fef",
   "metadata": {},
   "outputs": [],
   "source": [
    "import os\n",
    "import random\n",
    "import numpy as np\n",
    "import yfinance as yf\n",
    "import pandas as pd\n",
    "from statsmodels.tsa.stattools import adfuller\n",
    "import statsmodels.api as sm\n",
    "from statsmodels.regression.linear_model import OLS\n",
    "from matplotlib import pyplot as plt\n",
    "%matplotlib inline"
   ]
  },
  {
   "cell_type": "code",
   "execution_count": 2,
   "id": "457dd635",
   "metadata": {},
   "outputs": [
    {
     "name": "stdout",
     "output_type": "stream",
     "text": [
      "[*********************100%***********************]  2 of 2 completed\n"
     ]
    },
    {
     "data": {
      "text/html": [
       "<div>\n",
       "<style scoped>\n",
       "    .dataframe tbody tr th:only-of-type {\n",
       "        vertical-align: middle;\n",
       "    }\n",
       "\n",
       "    .dataframe tbody tr th {\n",
       "        vertical-align: top;\n",
       "    }\n",
       "\n",
       "    .dataframe thead th {\n",
       "        text-align: right;\n",
       "    }\n",
       "</style>\n",
       "<table border=\"1\" class=\"dataframe\">\n",
       "  <thead>\n",
       "    <tr style=\"text-align: right;\">\n",
       "      <th></th>\n",
       "      <th>GOOG</th>\n",
       "      <th>MSFT</th>\n",
       "    </tr>\n",
       "    <tr>\n",
       "      <th>Date</th>\n",
       "      <th></th>\n",
       "      <th></th>\n",
       "    </tr>\n",
       "  </thead>\n",
       "  <tbody>\n",
       "    <tr>\n",
       "      <th>2022-01-31</th>\n",
       "      <td>135.698502</td>\n",
       "      <td>306.005127</td>\n",
       "    </tr>\n",
       "    <tr>\n",
       "      <th>2022-02-01</th>\n",
       "      <td>137.878494</td>\n",
       "      <td>303.820648</td>\n",
       "    </tr>\n",
       "    <tr>\n",
       "      <th>2022-02-02</th>\n",
       "      <td>148.036499</td>\n",
       "      <td>308.445465</td>\n",
       "    </tr>\n",
       "    <tr>\n",
       "      <th>2022-02-03</th>\n",
       "      <td>142.650497</td>\n",
       "      <td>296.430786</td>\n",
       "    </tr>\n",
       "    <tr>\n",
       "      <th>2022-02-04</th>\n",
       "      <td>143.016006</td>\n",
       "      <td>301.045746</td>\n",
       "    </tr>\n",
       "    <tr>\n",
       "      <th>...</th>\n",
       "      <td>...</td>\n",
       "      <td>...</td>\n",
       "    </tr>\n",
       "    <tr>\n",
       "      <th>2022-12-23</th>\n",
       "      <td>89.809998</td>\n",
       "      <td>237.112076</td>\n",
       "    </tr>\n",
       "    <tr>\n",
       "      <th>2022-12-27</th>\n",
       "      <td>87.930000</td>\n",
       "      <td>235.354080</td>\n",
       "    </tr>\n",
       "    <tr>\n",
       "      <th>2022-12-28</th>\n",
       "      <td>86.459999</td>\n",
       "      <td>232.940552</td>\n",
       "    </tr>\n",
       "    <tr>\n",
       "      <th>2022-12-29</th>\n",
       "      <td>88.949997</td>\n",
       "      <td>239.376648</td>\n",
       "    </tr>\n",
       "    <tr>\n",
       "      <th>2022-12-30</th>\n",
       "      <td>88.730003</td>\n",
       "      <td>238.194702</td>\n",
       "    </tr>\n",
       "  </tbody>\n",
       "</table>\n",
       "<p>232 rows × 2 columns</p>\n",
       "</div>"
      ],
      "text/plain": [
       "                  GOOG        MSFT\n",
       "Date                              \n",
       "2022-01-31  135.698502  306.005127\n",
       "2022-02-01  137.878494  303.820648\n",
       "2022-02-02  148.036499  308.445465\n",
       "2022-02-03  142.650497  296.430786\n",
       "2022-02-04  143.016006  301.045746\n",
       "...                ...         ...\n",
       "2022-12-23   89.809998  237.112076\n",
       "2022-12-27   87.930000  235.354080\n",
       "2022-12-28   86.459999  232.940552\n",
       "2022-12-29   88.949997  239.376648\n",
       "2022-12-30   88.730003  238.194702\n",
       "\n",
       "[232 rows x 2 columns]"
      ]
     },
     "execution_count": 2,
     "metadata": {},
     "output_type": "execute_result"
    }
   ],
   "source": [
    "start_date='2022-02-01'\n",
    "end_date='2022-12-31'\n",
    "stocks=['GOOG','MSFT']\n",
    "df=yf.download(stocks,start=start_date,end=end_date)['Adj Close']\n",
    "df"
   ]
  },
  {
   "cell_type": "code",
   "execution_count": 3,
   "id": "931362ab",
   "metadata": {},
   "outputs": [
    {
     "name": "stdout",
     "output_type": "stream",
     "text": [
      "const   -52.475718\n",
      "MSFT      0.631940\n",
      "dtype: float64\n"
     ]
    }
   ],
   "source": [
    "#build linear regression model\n",
    "#Extract prices for two stocks of interest\n",
    "#target var: Y; predictor: x\n",
    "Y=df[stocks[0]]\n",
    "X=df[stocks[1]]\n",
    "#estimate lina=ear regression coefficient of stock 1 on stock2\n",
    "X_with_constant=sm.add_constant(X)\n",
    "model=OLS(Y,X_with_constant).fit()\n",
    "residuals=Y-model.predict()\n",
    "print(model.params)"
   ]
  },
  {
   "cell_type": "code",
   "execution_count": 4,
   "id": "68fdfe46",
   "metadata": {},
   "outputs": [],
   "source": [
    "#alternative approach\n",
    "residuals2=Y-(model.params['const']+model.params[stocks[1]]*X)"
   ]
  },
  {
   "cell_type": "code",
   "execution_count": 5,
   "id": "ff1dde06",
   "metadata": {},
   "outputs": [
    {
     "name": "stdout",
     "output_type": "stream",
     "text": [
      "True\n"
     ]
    }
   ],
   "source": [
    "print(residuals.equals(residuals2))"
   ]
  },
  {
   "cell_type": "code",
   "execution_count": 6,
   "id": "dacfb4df",
   "metadata": {},
   "outputs": [
    {
     "name": "stdout",
     "output_type": "stream",
     "text": [
      "ADF test statistics:  -2.9623259019880313\n",
      "p-values:  0.038565632753519444\n",
      "The two stocks are cointegrated\n"
     ]
    }
   ],
   "source": [
    "#test residuals for stationarity\n",
    "adf_test=adfuller(residuals)\n",
    "print(\"ADF test statistics: \",adf_test[0])\n",
    "print(\"p-values: \",adf_test[1])\n",
    "if adf_test[1]<0.05:\n",
    "    print('The two stocks are cointegrated')\n",
    "else:\n",
    "    print('The tow stocks are not cointegrated.')"
   ]
  },
  {
   "cell_type": "code",
   "execution_count": 7,
   "id": "295ffdee",
   "metadata": {},
   "outputs": [
    {
     "name": "stdout",
     "output_type": "stream",
     "text": [
      "[*********************100%***********************]  6 of 6 completed\n"
     ]
    },
    {
     "data": {
      "text/html": [
       "<div>\n",
       "<style scoped>\n",
       "    .dataframe tbody tr th:only-of-type {\n",
       "        vertical-align: middle;\n",
       "    }\n",
       "\n",
       "    .dataframe tbody tr th {\n",
       "        vertical-align: top;\n",
       "    }\n",
       "\n",
       "    .dataframe thead th {\n",
       "        text-align: right;\n",
       "    }\n",
       "</style>\n",
       "<table border=\"1\" class=\"dataframe\">\n",
       "  <thead>\n",
       "    <tr style=\"text-align: right;\">\n",
       "      <th></th>\n",
       "      <th>AAPL</th>\n",
       "      <th>GOOG</th>\n",
       "      <th>META</th>\n",
       "      <th>MSFT</th>\n",
       "      <th>NFLX</th>\n",
       "      <th>TSLA</th>\n",
       "    </tr>\n",
       "    <tr>\n",
       "      <th>Date</th>\n",
       "      <th></th>\n",
       "      <th></th>\n",
       "      <th></th>\n",
       "      <th></th>\n",
       "      <th></th>\n",
       "      <th></th>\n",
       "    </tr>\n",
       "  </thead>\n",
       "  <tbody>\n",
       "    <tr>\n",
       "      <th>2022-01-31</th>\n",
       "      <td>173.033234</td>\n",
       "      <td>135.698502</td>\n",
       "      <td>313.260010</td>\n",
       "      <td>306.005157</td>\n",
       "      <td>427.140015</td>\n",
       "      <td>312.239990</td>\n",
       "    </tr>\n",
       "    <tr>\n",
       "      <th>2022-02-01</th>\n",
       "      <td>172.864929</td>\n",
       "      <td>137.878494</td>\n",
       "      <td>319.000000</td>\n",
       "      <td>303.820648</td>\n",
       "      <td>457.130005</td>\n",
       "      <td>310.416656</td>\n",
       "    </tr>\n",
       "    <tr>\n",
       "      <th>2022-02-02</th>\n",
       "      <td>174.082642</td>\n",
       "      <td>148.036499</td>\n",
       "      <td>323.000000</td>\n",
       "      <td>308.445435</td>\n",
       "      <td>429.480011</td>\n",
       "      <td>301.886658</td>\n",
       "    </tr>\n",
       "    <tr>\n",
       "      <th>2022-02-03</th>\n",
       "      <td>171.172012</td>\n",
       "      <td>142.650497</td>\n",
       "      <td>237.759995</td>\n",
       "      <td>296.430786</td>\n",
       "      <td>405.600006</td>\n",
       "      <td>297.046661</td>\n",
       "    </tr>\n",
       "    <tr>\n",
       "      <th>2022-02-04</th>\n",
       "      <td>170.884552</td>\n",
       "      <td>143.016006</td>\n",
       "      <td>237.089996</td>\n",
       "      <td>301.045746</td>\n",
       "      <td>410.170013</td>\n",
       "      <td>307.773346</td>\n",
       "    </tr>\n",
       "  </tbody>\n",
       "</table>\n",
       "</div>"
      ],
      "text/plain": [
       "                  AAPL        GOOG        META        MSFT        NFLX  \\\n",
       "Date                                                                     \n",
       "2022-01-31  173.033234  135.698502  313.260010  306.005157  427.140015   \n",
       "2022-02-01  172.864929  137.878494  319.000000  303.820648  457.130005   \n",
       "2022-02-02  174.082642  148.036499  323.000000  308.445435  429.480011   \n",
       "2022-02-03  171.172012  142.650497  237.759995  296.430786  405.600006   \n",
       "2022-02-04  170.884552  143.016006  237.089996  301.045746  410.170013   \n",
       "\n",
       "                  TSLA  \n",
       "Date                    \n",
       "2022-01-31  312.239990  \n",
       "2022-02-01  310.416656  \n",
       "2022-02-02  301.886658  \n",
       "2022-02-03  297.046661  \n",
       "2022-02-04  307.773346  "
      ]
     },
     "execution_count": 7,
     "metadata": {},
     "output_type": "execute_result"
    }
   ],
   "source": [
    "#dowload data from yfinance\n",
    "stocks=['GOOG','MSFT','AAPL','TSLA','META','NFLX']\n",
    "df=yf.download(stocks,start=start_date,end=end_date)['Adj Close']\n",
    "df.head()"
   ]
  },
  {
   "cell_type": "code",
   "execution_count": 8,
   "id": "a86245b1",
   "metadata": {},
   "outputs": [
    {
     "data": {
      "text/plain": [
       "[('AAPL', 'GOOG'),\n",
       " ('AAPL', 'META'),\n",
       " ('AAPL', 'MSFT'),\n",
       " ('AAPL', 'NFLX'),\n",
       " ('AAPL', 'TSLA'),\n",
       " ('GOOG', 'META'),\n",
       " ('GOOG', 'MSFT'),\n",
       " ('GOOG', 'NFLX'),\n",
       " ('GOOG', 'TSLA'),\n",
       " ('META', 'MSFT'),\n",
       " ('META', 'NFLX'),\n",
       " ('META', 'TSLA'),\n",
       " ('MSFT', 'NFLX'),\n",
       " ('MSFT', 'TSLA'),\n",
       " ('NFLX', 'TSLA')]"
      ]
     },
     "execution_count": 8,
     "metadata": {},
     "output_type": "execute_result"
    }
   ],
   "source": [
    "from itertools import combinations\n",
    "stock_pairs=list(combinations(df.columns,2))\n",
    "stock_pairs"
   ]
  },
  {
   "cell_type": "code",
   "execution_count": 9,
   "id": "cc2bed7f",
   "metadata": {},
   "outputs": [],
   "source": [
    "from statsmodels.tsa.stattools import coint\n",
    "#calculate the correlation coefficient\n",
    "#print('')"
   ]
  },
  {
   "cell_type": "code",
   "execution_count": 10,
   "id": "f1f5b4c3",
   "metadata": {},
   "outputs": [
    {
     "name": "stdout",
     "output_type": "stream",
     "text": [
      "('AAPL', 'GOOG') are not cointegrated\n",
      "('AAPL', 'META') are not cointegrated\n",
      "('AAPL', 'MSFT') are not cointegrated\n",
      "('AAPL', 'NFLX') are not cointegrated\n",
      "('AAPL', 'TSLA') are cointegrated\n",
      "('GOOG', 'META') are cointegrated\n",
      "('GOOG', 'MSFT') are not cointegrated\n",
      "('GOOG', 'NFLX') are not cointegrated\n",
      "('GOOG', 'TSLA') are not cointegrated\n",
      "('META', 'MSFT') are cointegrated\n",
      "('META', 'NFLX') are not cointegrated\n",
      "('META', 'TSLA') are cointegrated\n",
      "('MSFT', 'NFLX') are not cointegrated\n",
      "('MSFT', 'TSLA') are not cointegrated\n",
      "('NFLX', 'TSLA') are not cointegrated\n"
     ]
    }
   ],
   "source": [
    "threshold=0.10\n",
    "for pair in stock_pairs:\n",
    "    #subset df based on current pair of stocks\n",
    "    df2=df[list(pair)]\n",
    "    #perform test for current pair of stocks\n",
    "    score,pvalue,_=coint(df2.values[:,0],df2.values[:,1])\n",
    "    #check if the current pair of stock is cointegrated\n",
    "    if pvalue<threshold:\n",
    "        print(pair,'are cointegrated')\n",
    "    else:\n",
    "        print(pair,'are not cointegrated')"
   ]
  },
  {
   "cell_type": "code",
   "execution_count": 11,
   "id": "b8f28497",
   "metadata": {},
   "outputs": [
    {
     "data": {
      "text/plain": [
       "<matplotlib.axes._subplots.AxesSubplot at 0x1c12284d438>"
      ]
     },
     "execution_count": 11,
     "metadata": {},
     "output_type": "execute_result"
    },
    {
     "data": {
      "image/png": "[encoded data removed]",
      "text/plain": [
       "<Figure size 864x432 with 1 Axes>"
      ]
     },
     "metadata": {
      "needs_background": "light"
     },
     "output_type": "display_data"
    }
   ],
   "source": [
    "Y=df['AAPL']\n",
    "X=df['META']\n",
    "#Estimate linear regression coeffiecients\n",
    "X_with_constant=sm.add_constant(X)\n",
    "model=OLS(Y,X_with_constant).fit()\n",
    "#obtain the spread as residuals\n",
    "spread=Y-model.predict()\n",
    "spread.plot(figsize=(12,6))"
   ]
  },
  {
   "cell_type": "code",
   "execution_count": 12,
   "id": "cb2641e5",
   "metadata": {},
   "outputs": [
    {
     "data": {
      "text/plain": [
       "<matplotlib.axes._subplots.AxesSubplot at 0x1c122907080>"
      ]
     },
     "execution_count": 12,
     "metadata": {},
     "output_type": "execute_result"
    },
    {
     "data": {
      "image/png": "[encoded data removed]",
      "text/plain": [
       "<Figure size 864x432 with 1 Axes>"
      ]
     },
     "metadata": {
      "needs_background": "light"
     },
     "output_type": "display_data"
    }
   ],
   "source": [
    "#convert to Z score\n",
    "#Z-score is measure of how many standar deviations the is from its mean\n",
    "#derive mean and sd using a moving window\n",
    "window_size=10\n",
    "spread_mean=spread.rolling(window=window_size).mean()\n",
    "spread_std=spread.rolling(window=window_size).std()\n",
    "zscore=(spread-spread_mean)/spread_std\n",
    "zscore.plot(figsize=(12,6))"
   ]
  },
  {
   "cell_type": "code",
   "execution_count": 13,
   "id": "b474d171",
   "metadata": {},
   "outputs": [
    {
     "name": "stdout",
     "output_type": "stream",
     "text": [
      "2022-02-11 00:00:00\n"
     ]
    },
    {
     "data": {
      "text/plain": [
       "Timestamp('2022-02-11 00:00:00')"
      ]
     },
     "execution_count": 13,
     "metadata": {},
     "output_type": "execute_result"
    }
   ],
   "source": [
    "first_valid_idx=zscore.first_valid_index()\n",
    "print(first_valid_idx)\n",
    "zscore=zscore[first_valid_idx:]\n",
    "first_valid_idx"
   ]
  },
  {
   "cell_type": "code",
   "execution_count": 14,
   "id": "19b5e5da",
   "metadata": {},
   "outputs": [],
   "source": [
    "entry_threshold=2.0\n",
    "exit_threshold=1.0\n",
    "\n",
    "#initialize the daily positions to be zeros\n",
    "stock1_position=pd.Series(data=0,index=zscore.index)\n",
    "stock2_position=pd.Series(data=0,index=zscore.index)\n",
    "\n",
    "#generate daily entry and exit signals for each stock\n",
    "for i in range(0,len(zscore)):\n",
    "    #Zscore<-2 and no existing long position for stock 1\n",
    "    if zscore[i]<-entry_threshold and stock1_position[i-1]==0:\n",
    "        stock1_position[i]=1#long stock 1\n",
    "        stock2_position[i]=-1#short stock 2\n",
    "        \n",
    "    #Zscore< 2 and no existing long position for stock 2\n",
    "    elif zscore[i]>entry_threshold and stock2_position[i-1]==0:\n",
    "        stock1_position[i]=-1#short stock 1\n",
    "        stock2_position[i]=1#long stock 2\n",
    "    #-1<zscore<1    \n",
    "    elif abs(zscore[i])<exit_threshold:\n",
    "        stock1_position[i]=0 #exiting position\n",
    "        stock2_position[i]=0\n",
    "    #-2<zscore<-1 or 1<zscore<2\n",
    "    else:\n",
    "        stock1_position[i]=stock1_position[i-1]\n",
    "        stock2_position[i]=stock2_position[i-1]"
   ]
  },
  {
   "cell_type": "code",
   "execution_count": 15,
   "id": "75b813a7",
   "metadata": {},
   "outputs": [
    {
     "data": {
      "text/plain": [
       "<matplotlib.axes._subplots.AxesSubplot at 0x1c12293ebe0>"
      ]
     },
     "execution_count": 15,
     "metadata": {},
     "output_type": "execute_result"
    },
    {
     "data": {
      "image/png": "[encoded data removed]",
      "text/plain": [
       "<Figure size 432x288 with 1 Axes>"
      ]
     },
     "metadata": {
      "needs_background": "light"
     },
     "output_type": "display_data"
    }
   ],
   "source": [
    "#Calculate the return of each stock\n",
    "stock1_returns=(df['AAPL'][first_valid_idx:].pct_change()*stock1_position.shift(1)).fillna(0)\n",
    "stock2_returns=(df['META'][first_valid_idx:].pct_change()*stock1_position.shift(1)).fillna(0)\n",
    "total_returns=stock1_returns+stock2_returns\n",
    "cumulative_returns=(1+total_returns).cumprod()\n",
    "#plot the cumulative return\n",
    "cumulative_returns.plot()"
   ]
  },
  {
   "cell_type": "code",
   "execution_count": 16,
   "id": "6d83e995",
   "metadata": {},
   "outputs": [
    {
     "data": {
      "text/plain": [
       "0.7812392042954168"
      ]
     },
     "execution_count": 16,
     "metadata": {},
     "output_type": "execute_result"
    }
   ],
   "source": [
    "cumulative_returns[-1]-1"
   ]
  },
  {
   "cell_type": "code",
   "execution_count": 17,
   "id": "f6ba916c",
   "metadata": {},
   "outputs": [
    {
     "data": {
      "text/plain": [
       "Date\n",
       "2022-07-07   -1\n",
       "2022-07-08   -1\n",
       "2022-07-11   -1\n",
       "2022-07-12   -1\n",
       "2022-07-29   -1\n",
       "2022-08-01   -1\n",
       "2022-10-21   -1\n",
       "2022-10-24   -1\n",
       "2022-10-25   -1\n",
       "2022-10-26   -1\n",
       "2022-10-27   -1\n",
       "2022-10-28   -1\n",
       "2022-10-31   -1\n",
       "dtype: int64"
      ]
     },
     "execution_count": 17,
     "metadata": {},
     "output_type": "execute_result"
    }
   ],
   "source": [
    "stock1_position[stock1_position==-1]"
   ]
  },
  {
   "cell_type": "code",
   "execution_count": 18,
   "id": "8286b62b",
   "metadata": {},
   "outputs": [
    {
     "data": {
      "text/plain": [
       "Date\n",
       "2022-07-07    1\n",
       "2022-07-08    1\n",
       "2022-07-11    1\n",
       "2022-07-12    1\n",
       "2022-07-29    1\n",
       "2022-08-01    1\n",
       "2022-10-21    1\n",
       "2022-10-24    1\n",
       "2022-10-25    1\n",
       "2022-10-26    1\n",
       "2022-10-27    1\n",
       "2022-10-28    1\n",
       "2022-10-31    1\n",
       "dtype: int64"
      ]
     },
     "execution_count": 18,
     "metadata": {},
     "output_type": "execute_result"
    }
   ],
   "source": [
    "stock2_position[stock2_position==1]"
   ]
  }
 ],
 "metadata": {
  "kernelspec": {
   "display_name": "Python 3 (ipykernel)",
   "language": "python",
   "name": "python3"
  },
  "language_info": {
   "codemirror_mode": {
    "name": "ipython",
    "version": 3
   },
   "file_extension": ".py",
   "mimetype": "text/x-python",
   "name": "python",
   "nbconvert_exporter": "python",
   "pygments_lexer": "ipython3",
   "version": "3.7.3"
  }
 },
 "nbformat": 4,
 "nbformat_minor": 5
}

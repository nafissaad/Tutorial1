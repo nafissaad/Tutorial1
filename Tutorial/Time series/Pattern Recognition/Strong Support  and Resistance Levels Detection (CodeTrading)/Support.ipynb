{
 "cells": [
  {
   "cell_type": "code",
   "execution_count": 88,
   "id": "d9cdabe3-d205-417b-96cc-d5a21c963fd0",
   "metadata": {},
   "outputs": [
    {
     "data": {
      "text/html": [
       "<div>\n",
       "<style scoped>\n",
       "    .dataframe tbody tr th:only-of-type {\n",
       "        vertical-align: middle;\n",
       "    }\n",
       "\n",
       "    .dataframe tbody tr th {\n",
       "        vertical-align: top;\n",
       "    }\n",
       "\n",
       "    .dataframe thead th {\n",
       "        text-align: right;\n",
       "    }\n",
       "</style>\n",
       "<table border=\"1\" class=\"dataframe\">\n",
       "  <thead>\n",
       "    <tr style=\"text-align: right;\">\n",
       "      <th></th>\n",
       "      <th>time</th>\n",
       "      <th>open</th>\n",
       "      <th>high</th>\n",
       "      <th>low</th>\n",
       "      <th>close</th>\n",
       "      <th>volume</th>\n",
       "    </tr>\n",
       "  </thead>\n",
       "  <tbody>\n",
       "    <tr>\n",
       "      <th>0</th>\n",
       "      <td>04.05.2003 21:00:00.000</td>\n",
       "      <td>1.12284</td>\n",
       "      <td>1.12338</td>\n",
       "      <td>1.12242</td>\n",
       "      <td>1.12305</td>\n",
       "      <td>2.905910e+07</td>\n",
       "    </tr>\n",
       "    <tr>\n",
       "      <th>1</th>\n",
       "      <td>04.05.2003 22:00:00.000</td>\n",
       "      <td>1.12274</td>\n",
       "      <td>1.12302</td>\n",
       "      <td>1.12226</td>\n",
       "      <td>1.12241</td>\n",
       "      <td>2.609180e+07</td>\n",
       "    </tr>\n",
       "    <tr>\n",
       "      <th>2</th>\n",
       "      <td>04.05.2003 23:00:00.000</td>\n",
       "      <td>1.12235</td>\n",
       "      <td>1.12235</td>\n",
       "      <td>1.12160</td>\n",
       "      <td>1.12169</td>\n",
       "      <td>2.924090e+07</td>\n",
       "    </tr>\n",
       "    <tr>\n",
       "      <th>3</th>\n",
       "      <td>05.05.2003 00:00:00.000</td>\n",
       "      <td>1.12161</td>\n",
       "      <td>1.12314</td>\n",
       "      <td>1.12154</td>\n",
       "      <td>1.12258</td>\n",
       "      <td>2.991480e+07</td>\n",
       "    </tr>\n",
       "    <tr>\n",
       "      <th>4</th>\n",
       "      <td>05.05.2003 01:00:00.000</td>\n",
       "      <td>1.12232</td>\n",
       "      <td>1.12262</td>\n",
       "      <td>1.12099</td>\n",
       "      <td>1.12140</td>\n",
       "      <td>2.837070e+07</td>\n",
       "    </tr>\n",
       "    <tr>\n",
       "      <th>5</th>\n",
       "      <td>05.05.2003 02:00:00.000</td>\n",
       "      <td>1.12141</td>\n",
       "      <td>1.12211</td>\n",
       "      <td>1.12085</td>\n",
       "      <td>1.12152</td>\n",
       "      <td>2.986770e+07</td>\n",
       "    </tr>\n",
       "    <tr>\n",
       "      <th>6</th>\n",
       "      <td>05.05.2003 03:00:00.000</td>\n",
       "      <td>1.12123</td>\n",
       "      <td>1.12179</td>\n",
       "      <td>1.12049</td>\n",
       "      <td>1.12162</td>\n",
       "      <td>2.725680e+07</td>\n",
       "    </tr>\n",
       "    <tr>\n",
       "      <th>7</th>\n",
       "      <td>05.05.2003 04:00:00.000</td>\n",
       "      <td>1.12098</td>\n",
       "      <td>1.12176</td>\n",
       "      <td>1.12079</td>\n",
       "      <td>1.12122</td>\n",
       "      <td>2.827890e+07</td>\n",
       "    </tr>\n",
       "    <tr>\n",
       "      <th>8</th>\n",
       "      <td>05.05.2003 05:00:00.000</td>\n",
       "      <td>1.12129</td>\n",
       "      <td>1.12222</td>\n",
       "      <td>1.12091</td>\n",
       "      <td>1.12143</td>\n",
       "      <td>2.676490e+07</td>\n",
       "    </tr>\n",
       "    <tr>\n",
       "      <th>9</th>\n",
       "      <td>05.05.2003 06:00:00.000</td>\n",
       "      <td>1.12128</td>\n",
       "      <td>1.12241</td>\n",
       "      <td>1.12066</td>\n",
       "      <td>1.12088</td>\n",
       "      <td>2.995660e+07</td>\n",
       "    </tr>\n",
       "  </tbody>\n",
       "</table>\n",
       "</div>"
      ],
      "text/plain": [
       "                      time     open     high      low    close        volume\n",
       "0  04.05.2003 21:00:00.000  1.12284  1.12338  1.12242  1.12305  2.905910e+07\n",
       "1  04.05.2003 22:00:00.000  1.12274  1.12302  1.12226  1.12241  2.609180e+07\n",
       "2  04.05.2003 23:00:00.000  1.12235  1.12235  1.12160  1.12169  2.924090e+07\n",
       "3  05.05.2003 00:00:00.000  1.12161  1.12314  1.12154  1.12258  2.991480e+07\n",
       "4  05.05.2003 01:00:00.000  1.12232  1.12262  1.12099  1.12140  2.837070e+07\n",
       "5  05.05.2003 02:00:00.000  1.12141  1.12211  1.12085  1.12152  2.986770e+07\n",
       "6  05.05.2003 03:00:00.000  1.12123  1.12179  1.12049  1.12162  2.725680e+07\n",
       "7  05.05.2003 04:00:00.000  1.12098  1.12176  1.12079  1.12122  2.827890e+07\n",
       "8  05.05.2003 05:00:00.000  1.12129  1.12222  1.12091  1.12143  2.676490e+07\n",
       "9  05.05.2003 06:00:00.000  1.12128  1.12241  1.12066  1.12088  2.995660e+07"
      ]
     },
     "execution_count": 88,
     "metadata": {},
     "output_type": "execute_result"
    }
   ],
   "source": [
    "import pandas as pd\n",
    "df = pd.read_csv(\"EURUSD_Candlestick_1_Hour_BID_04.05.2003-15.04.2023.csv\")\n",
    "df.columns=['time', 'open', 'high', 'low', 'close', 'volume']\n",
    "#Check if NA values are in data\n",
    "df=df[df['volume']!=0]\n",
    "df.reset_index(drop=True, inplace=True)\n",
    "df.isna().sum()\n",
    "df.head(10)"
   ]
  },
  {
   "cell_type": "code",
   "execution_count": 89,
   "id": "5341efdf-fcb4-4023-826f-190f5a98b764",
   "metadata": {},
   "outputs": [],
   "source": [
    "def pivotid(df1, l, n1, n2): #n1 n2 before and after candle l\n",
    "    if l-n1 < 0 or l+n2 >= len(df1):\n",
    "        return 0\n",
    "    \n",
    "    pividlow=1\n",
    "    pividhigh=1\n",
    "    for i in range(l-n1, l+n2+1):\n",
    "        if(df1.low[l]>df1.low[i]):\n",
    "            pividlow=0\n",
    "        if(df1.high[l]<df1.high[i]):\n",
    "            pividhigh=0\n",
    "    if pividlow and pividhigh:\n",
    "        return 3\n",
    "    elif pividlow:\n",
    "        return 1\n",
    "    elif pividhigh:\n",
    "        return 2\n",
    "    else:\n",
    "        return 0\n",
    "    \n",
    "df['pivot'] = df.apply(lambda x: pivotid(df, x.name,10,10), axis=1)"
   ]
  },
  {
   "cell_type": "code",
   "execution_count": 92,
   "id": "af5f8b44-92ec-4e4f-b2dc-2d2c38151897",
   "metadata": {},
   "outputs": [
    {
     "data": {
      "text/html": [
       "<div>\n",
       "<style scoped>\n",
       "    .dataframe tbody tr th:only-of-type {\n",
       "        vertical-align: middle;\n",
       "    }\n",
       "\n",
       "    .dataframe tbody tr th {\n",
       "        vertical-align: top;\n",
       "    }\n",
       "\n",
       "    .dataframe thead th {\n",
       "        text-align: right;\n",
       "    }\n",
       "</style>\n",
       "<table border=\"1\" class=\"dataframe\">\n",
       "  <thead>\n",
       "    <tr style=\"text-align: right;\">\n",
       "      <th></th>\n",
       "      <th>time</th>\n",
       "      <th>open</th>\n",
       "      <th>high</th>\n",
       "      <th>low</th>\n",
       "      <th>close</th>\n",
       "      <th>volume</th>\n",
       "      <th>pivot</th>\n",
       "    </tr>\n",
       "  </thead>\n",
       "  <tbody>\n",
       "    <tr>\n",
       "      <th>10</th>\n",
       "      <td>05.05.2003 07:00:00.000</td>\n",
       "      <td>1.12103</td>\n",
       "      <td>1.12203</td>\n",
       "      <td>1.12014</td>\n",
       "      <td>1.12143</td>\n",
       "      <td>2.732280e+07</td>\n",
       "      <td>1</td>\n",
       "    </tr>\n",
       "    <tr>\n",
       "      <th>33</th>\n",
       "      <td>06.05.2003 06:00:00.000</td>\n",
       "      <td>1.12839</td>\n",
       "      <td>1.12881</td>\n",
       "      <td>1.12723</td>\n",
       "      <td>1.12823</td>\n",
       "      <td>2.864480e+07</td>\n",
       "      <td>1</td>\n",
       "    </tr>\n",
       "    <tr>\n",
       "      <th>67</th>\n",
       "      <td>07.05.2003 16:00:00.000</td>\n",
       "      <td>1.13495</td>\n",
       "      <td>1.13692</td>\n",
       "      <td>1.13265</td>\n",
       "      <td>1.13366</td>\n",
       "      <td>2.961631e+08</td>\n",
       "      <td>1</td>\n",
       "    </tr>\n",
       "    <tr>\n",
       "      <th>80</th>\n",
       "      <td>08.05.2003 05:00:00.000</td>\n",
       "      <td>1.13145</td>\n",
       "      <td>1.13246</td>\n",
       "      <td>1.13006</td>\n",
       "      <td>1.13100</td>\n",
       "      <td>2.576190e+07</td>\n",
       "      <td>1</td>\n",
       "    </tr>\n",
       "    <tr>\n",
       "      <th>113</th>\n",
       "      <td>09.05.2003 14:00:00.000</td>\n",
       "      <td>1.14636</td>\n",
       "      <td>1.14797</td>\n",
       "      <td>1.14346</td>\n",
       "      <td>1.14701</td>\n",
       "      <td>2.665210e+07</td>\n",
       "      <td>1</td>\n",
       "    </tr>\n",
       "    <tr>\n",
       "      <th>...</th>\n",
       "      <td>...</td>\n",
       "      <td>...</td>\n",
       "      <td>...</td>\n",
       "      <td>...</td>\n",
       "      <td>...</td>\n",
       "      <td>...</td>\n",
       "      <td>...</td>\n",
       "    </tr>\n",
       "    <tr>\n",
       "      <th>123677</th>\n",
       "      <td>06.04.2023 01:00:00.000</td>\n",
       "      <td>1.08940</td>\n",
       "      <td>1.08940</td>\n",
       "      <td>1.08845</td>\n",
       "      <td>1.08921</td>\n",
       "      <td>1.127527e+07</td>\n",
       "      <td>1</td>\n",
       "    </tr>\n",
       "    <tr>\n",
       "      <th>123689</th>\n",
       "      <td>06.04.2023 13:00:00.000</td>\n",
       "      <td>1.08922</td>\n",
       "      <td>1.08996</td>\n",
       "      <td>1.08858</td>\n",
       "      <td>1.08966</td>\n",
       "      <td>2.834490e+07</td>\n",
       "      <td>1</td>\n",
       "    </tr>\n",
       "    <tr>\n",
       "      <th>123712</th>\n",
       "      <td>07.04.2023 12:00:00.000</td>\n",
       "      <td>1.09173</td>\n",
       "      <td>1.09176</td>\n",
       "      <td>1.08762</td>\n",
       "      <td>1.09035</td>\n",
       "      <td>1.994160e+07</td>\n",
       "      <td>1</td>\n",
       "    </tr>\n",
       "    <tr>\n",
       "      <th>123738</th>\n",
       "      <td>10.04.2023 14:00:00.000</td>\n",
       "      <td>1.08377</td>\n",
       "      <td>1.08439</td>\n",
       "      <td>1.08313</td>\n",
       "      <td>1.08382</td>\n",
       "      <td>1.660855e+07</td>\n",
       "      <td>1</td>\n",
       "    </tr>\n",
       "    <tr>\n",
       "      <th>123802</th>\n",
       "      <td>13.04.2023 06:00:00.000</td>\n",
       "      <td>1.09841</td>\n",
       "      <td>1.09913</td>\n",
       "      <td>1.09767</td>\n",
       "      <td>1.09810</td>\n",
       "      <td>1.244839e+07</td>\n",
       "      <td>1</td>\n",
       "    </tr>\n",
       "  </tbody>\n",
       "</table>\n",
       "<p>4166 rows × 7 columns</p>\n",
       "</div>"
      ],
      "text/plain": [
       "                           time     open     high      low    close  \\\n",
       "10      05.05.2003 07:00:00.000  1.12103  1.12203  1.12014  1.12143   \n",
       "33      06.05.2003 06:00:00.000  1.12839  1.12881  1.12723  1.12823   \n",
       "67      07.05.2003 16:00:00.000  1.13495  1.13692  1.13265  1.13366   \n",
       "80      08.05.2003 05:00:00.000  1.13145  1.13246  1.13006  1.13100   \n",
       "113     09.05.2003 14:00:00.000  1.14636  1.14797  1.14346  1.14701   \n",
       "...                         ...      ...      ...      ...      ...   \n",
       "123677  06.04.2023 01:00:00.000  1.08940  1.08940  1.08845  1.08921   \n",
       "123689  06.04.2023 13:00:00.000  1.08922  1.08996  1.08858  1.08966   \n",
       "123712  07.04.2023 12:00:00.000  1.09173  1.09176  1.08762  1.09035   \n",
       "123738  10.04.2023 14:00:00.000  1.08377  1.08439  1.08313  1.08382   \n",
       "123802  13.04.2023 06:00:00.000  1.09841  1.09913  1.09767  1.09810   \n",
       "\n",
       "              volume  pivot  \n",
       "10      2.732280e+07      1  \n",
       "33      2.864480e+07      1  \n",
       "67      2.961631e+08      1  \n",
       "80      2.576190e+07      1  \n",
       "113     2.665210e+07      1  \n",
       "...              ...    ...  \n",
       "123677  1.127527e+07      1  \n",
       "123689  2.834490e+07      1  \n",
       "123712  1.994160e+07      1  \n",
       "123738  1.660855e+07      1  \n",
       "123802  1.244839e+07      1  \n",
       "\n",
       "[4166 rows x 7 columns]"
      ]
     },
     "execution_count": 92,
     "metadata": {},
     "output_type": "execute_result"
    }
   ],
   "source": [
    "df[df['pivot']==1]"
   ]
  },
  {
   "cell_type": "code",
   "execution_count": 98,
   "id": "0409a516-0121-4507-81ba-0ff57a0665dd",
   "metadata": {},
   "outputs": [
    {
     "data": {
      "text/html": [
       "<div>\n",
       "<style scoped>\n",
       "    .dataframe tbody tr th:only-of-type {\n",
       "        vertical-align: middle;\n",
       "    }\n",
       "\n",
       "    .dataframe tbody tr th {\n",
       "        vertical-align: top;\n",
       "    }\n",
       "\n",
       "    .dataframe thead th {\n",
       "        text-align: right;\n",
       "    }\n",
       "</style>\n",
       "<table border=\"1\" class=\"dataframe\">\n",
       "  <thead>\n",
       "    <tr style=\"text-align: right;\">\n",
       "      <th></th>\n",
       "      <th>time</th>\n",
       "      <th>open</th>\n",
       "      <th>high</th>\n",
       "      <th>low</th>\n",
       "      <th>close</th>\n",
       "      <th>volume</th>\n",
       "      <th>pivot</th>\n",
       "      <th>pointpos</th>\n",
       "    </tr>\n",
       "  </thead>\n",
       "  <tbody>\n",
       "    <tr>\n",
       "      <th>20</th>\n",
       "      <td>05.05.2003 17:00:00.000</td>\n",
       "      <td>1.12698</td>\n",
       "      <td>1.13009</td>\n",
       "      <td>1.12646</td>\n",
       "      <td>1.12892</td>\n",
       "      <td>1.358298e+08</td>\n",
       "      <td>2</td>\n",
       "      <td>1.13109</td>\n",
       "    </tr>\n",
       "    <tr>\n",
       "      <th>47</th>\n",
       "      <td>06.05.2003 20:00:00.000</td>\n",
       "      <td>1.14174</td>\n",
       "      <td>1.14506</td>\n",
       "      <td>1.14073</td>\n",
       "      <td>1.14338</td>\n",
       "      <td>6.179780e+07</td>\n",
       "      <td>2</td>\n",
       "      <td>1.14606</td>\n",
       "    </tr>\n",
       "    <tr>\n",
       "      <th>100</th>\n",
       "      <td>09.05.2003 01:00:00.000</td>\n",
       "      <td>1.15170</td>\n",
       "      <td>1.15366</td>\n",
       "      <td>1.15120</td>\n",
       "      <td>1.15164</td>\n",
       "      <td>3.087830e+07</td>\n",
       "      <td>2</td>\n",
       "      <td>1.15466</td>\n",
       "    </tr>\n",
       "    <tr>\n",
       "      <th>132</th>\n",
       "      <td>12.05.2003 09:00:00.000</td>\n",
       "      <td>1.16026</td>\n",
       "      <td>1.16229</td>\n",
       "      <td>1.15831</td>\n",
       "      <td>1.15886</td>\n",
       "      <td>2.853890e+07</td>\n",
       "      <td>2</td>\n",
       "      <td>1.16329</td>\n",
       "    </tr>\n",
       "    <tr>\n",
       "      <th>207</th>\n",
       "      <td>15.05.2003 12:00:00.000</td>\n",
       "      <td>1.14713</td>\n",
       "      <td>1.14840</td>\n",
       "      <td>1.14615</td>\n",
       "      <td>1.14729</td>\n",
       "      <td>2.882210e+07</td>\n",
       "      <td>2</td>\n",
       "      <td>1.14940</td>\n",
       "    </tr>\n",
       "    <tr>\n",
       "      <th>...</th>\n",
       "      <td>...</td>\n",
       "      <td>...</td>\n",
       "      <td>...</td>\n",
       "      <td>...</td>\n",
       "      <td>...</td>\n",
       "      <td>...</td>\n",
       "      <td>...</td>\n",
       "      <td>...</td>\n",
       "    </tr>\n",
       "    <tr>\n",
       "      <th>123692</th>\n",
       "      <td>06.04.2023 16:00:00.000</td>\n",
       "      <td>1.09258</td>\n",
       "      <td>1.09375</td>\n",
       "      <td>1.09258</td>\n",
       "      <td>1.09341</td>\n",
       "      <td>8.997760e+06</td>\n",
       "      <td>2</td>\n",
       "      <td>1.09475</td>\n",
       "    </tr>\n",
       "    <tr>\n",
       "      <th>123732</th>\n",
       "      <td>10.04.2023 08:00:00.000</td>\n",
       "      <td>1.09167</td>\n",
       "      <td>1.09171</td>\n",
       "      <td>1.09088</td>\n",
       "      <td>1.09118</td>\n",
       "      <td>5.790680e+06</td>\n",
       "      <td>2</td>\n",
       "      <td>1.09271</td>\n",
       "    </tr>\n",
       "    <tr>\n",
       "      <th>123762</th>\n",
       "      <td>11.04.2023 14:00:00.000</td>\n",
       "      <td>1.09216</td>\n",
       "      <td>1.09279</td>\n",
       "      <td>1.09109</td>\n",
       "      <td>1.09111</td>\n",
       "      <td>2.236628e+07</td>\n",
       "      <td>2</td>\n",
       "      <td>1.09379</td>\n",
       "    </tr>\n",
       "    <tr>\n",
       "      <th>123809</th>\n",
       "      <td>13.04.2023 13:00:00.000</td>\n",
       "      <td>1.10489</td>\n",
       "      <td>1.10676</td>\n",
       "      <td>1.10432</td>\n",
       "      <td>1.10645</td>\n",
       "      <td>3.009251e+07</td>\n",
       "      <td>2</td>\n",
       "      <td>1.10776</td>\n",
       "    </tr>\n",
       "    <tr>\n",
       "      <th>123826</th>\n",
       "      <td>14.04.2023 06:00:00.000</td>\n",
       "      <td>1.10742</td>\n",
       "      <td>1.10758</td>\n",
       "      <td>1.10630</td>\n",
       "      <td>1.10668</td>\n",
       "      <td>1.391234e+07</td>\n",
       "      <td>2</td>\n",
       "      <td>1.10858</td>\n",
       "    </tr>\n",
       "  </tbody>\n",
       "</table>\n",
       "<p>4163 rows × 8 columns</p>\n",
       "</div>"
      ],
      "text/plain": [
       "                           time     open     high      low    close  \\\n",
       "20      05.05.2003 17:00:00.000  1.12698  1.13009  1.12646  1.12892   \n",
       "47      06.05.2003 20:00:00.000  1.14174  1.14506  1.14073  1.14338   \n",
       "100     09.05.2003 01:00:00.000  1.15170  1.15366  1.15120  1.15164   \n",
       "132     12.05.2003 09:00:00.000  1.16026  1.16229  1.15831  1.15886   \n",
       "207     15.05.2003 12:00:00.000  1.14713  1.14840  1.14615  1.14729   \n",
       "...                         ...      ...      ...      ...      ...   \n",
       "123692  06.04.2023 16:00:00.000  1.09258  1.09375  1.09258  1.09341   \n",
       "123732  10.04.2023 08:00:00.000  1.09167  1.09171  1.09088  1.09118   \n",
       "123762  11.04.2023 14:00:00.000  1.09216  1.09279  1.09109  1.09111   \n",
       "123809  13.04.2023 13:00:00.000  1.10489  1.10676  1.10432  1.10645   \n",
       "123826  14.04.2023 06:00:00.000  1.10742  1.10758  1.10630  1.10668   \n",
       "\n",
       "              volume  pivot  pointpos  \n",
       "20      1.358298e+08      2   1.13109  \n",
       "47      6.179780e+07      2   1.14606  \n",
       "100     3.087830e+07      2   1.15466  \n",
       "132     2.853890e+07      2   1.16329  \n",
       "207     2.882210e+07      2   1.14940  \n",
       "...              ...    ...       ...  \n",
       "123692  8.997760e+06      2   1.09475  \n",
       "123732  5.790680e+06      2   1.09271  \n",
       "123762  2.236628e+07      2   1.09379  \n",
       "123809  3.009251e+07      2   1.10776  \n",
       "123826  1.391234e+07      2   1.10858  \n",
       "\n",
       "[4163 rows x 8 columns]"
      ]
     },
     "execution_count": 98,
     "metadata": {},
     "output_type": "execute_result"
    }
   ],
   "source": [
    "df[df['pivot']==2]"
   ]
  },
  {
   "cell_type": "code",
   "execution_count": 95,
   "id": "14629684-f324-42e8-a834-4599e01a5430",
   "metadata": {},
   "outputs": [],
   "source": [
    "import numpy as np\n",
    "def pointpos(x):\n",
    "    if x['pivot']==1:\n",
    "        return x['low']-1e-3\n",
    "    elif x['pivot']==2:\n",
    "        return x['high']+1e-3\n",
    "    else:\n",
    "        return np.nan\n",
    "\n",
    "df['pointpos'] = df.apply(lambda row: pointpos(row), axis=1)"
   ]
  },
  {
   "cell_type": "code",
   "execution_count": 102,
   "id": "1f8968d2-23a5-40a9-9231-211fdcb73aae",
   "metadata": {},
   "outputs": [
    {
     "data": {
      "text/html": [
       "<div>\n",
       "<style scoped>\n",
       "    .dataframe tbody tr th:only-of-type {\n",
       "        vertical-align: middle;\n",
       "    }\n",
       "\n",
       "    .dataframe tbody tr th {\n",
       "        vertical-align: top;\n",
       "    }\n",
       "\n",
       "    .dataframe thead th {\n",
       "        text-align: right;\n",
       "    }\n",
       "</style>\n",
       "<table border=\"1\" class=\"dataframe\">\n",
       "  <thead>\n",
       "    <tr style=\"text-align: right;\">\n",
       "      <th></th>\n",
       "      <th>time</th>\n",
       "      <th>open</th>\n",
       "      <th>high</th>\n",
       "      <th>low</th>\n",
       "      <th>close</th>\n",
       "      <th>volume</th>\n",
       "      <th>pivot</th>\n",
       "      <th>pointpos</th>\n",
       "    </tr>\n",
       "  </thead>\n",
       "  <tbody>\n",
       "    <tr>\n",
       "      <th>10</th>\n",
       "      <td>05.05.2003 07:00:00.000</td>\n",
       "      <td>1.12103</td>\n",
       "      <td>1.12203</td>\n",
       "      <td>1.12014</td>\n",
       "      <td>1.12143</td>\n",
       "      <td>2.732280e+07</td>\n",
       "      <td>1</td>\n",
       "      <td>1.11914</td>\n",
       "    </tr>\n",
       "    <tr>\n",
       "      <th>20</th>\n",
       "      <td>05.05.2003 17:00:00.000</td>\n",
       "      <td>1.12698</td>\n",
       "      <td>1.13009</td>\n",
       "      <td>1.12646</td>\n",
       "      <td>1.12892</td>\n",
       "      <td>1.358298e+08</td>\n",
       "      <td>2</td>\n",
       "      <td>1.13109</td>\n",
       "    </tr>\n",
       "    <tr>\n",
       "      <th>33</th>\n",
       "      <td>06.05.2003 06:00:00.000</td>\n",
       "      <td>1.12839</td>\n",
       "      <td>1.12881</td>\n",
       "      <td>1.12723</td>\n",
       "      <td>1.12823</td>\n",
       "      <td>2.864480e+07</td>\n",
       "      <td>1</td>\n",
       "      <td>1.12623</td>\n",
       "    </tr>\n",
       "    <tr>\n",
       "      <th>47</th>\n",
       "      <td>06.05.2003 20:00:00.000</td>\n",
       "      <td>1.14174</td>\n",
       "      <td>1.14506</td>\n",
       "      <td>1.14073</td>\n",
       "      <td>1.14338</td>\n",
       "      <td>6.179780e+07</td>\n",
       "      <td>2</td>\n",
       "      <td>1.14606</td>\n",
       "    </tr>\n",
       "    <tr>\n",
       "      <th>67</th>\n",
       "      <td>07.05.2003 16:00:00.000</td>\n",
       "      <td>1.13495</td>\n",
       "      <td>1.13692</td>\n",
       "      <td>1.13265</td>\n",
       "      <td>1.13366</td>\n",
       "      <td>2.961631e+08</td>\n",
       "      <td>1</td>\n",
       "      <td>1.13165</td>\n",
       "    </tr>\n",
       "    <tr>\n",
       "      <th>...</th>\n",
       "      <td>...</td>\n",
       "      <td>...</td>\n",
       "      <td>...</td>\n",
       "      <td>...</td>\n",
       "      <td>...</td>\n",
       "      <td>...</td>\n",
       "      <td>...</td>\n",
       "      <td>...</td>\n",
       "    </tr>\n",
       "    <tr>\n",
       "      <th>123738</th>\n",
       "      <td>10.04.2023 14:00:00.000</td>\n",
       "      <td>1.08377</td>\n",
       "      <td>1.08439</td>\n",
       "      <td>1.08313</td>\n",
       "      <td>1.08382</td>\n",
       "      <td>1.660855e+07</td>\n",
       "      <td>1</td>\n",
       "      <td>1.08213</td>\n",
       "    </tr>\n",
       "    <tr>\n",
       "      <th>123762</th>\n",
       "      <td>11.04.2023 14:00:00.000</td>\n",
       "      <td>1.09216</td>\n",
       "      <td>1.09279</td>\n",
       "      <td>1.09109</td>\n",
       "      <td>1.09111</td>\n",
       "      <td>2.236628e+07</td>\n",
       "      <td>2</td>\n",
       "      <td>1.09379</td>\n",
       "    </tr>\n",
       "    <tr>\n",
       "      <th>123802</th>\n",
       "      <td>13.04.2023 06:00:00.000</td>\n",
       "      <td>1.09841</td>\n",
       "      <td>1.09913</td>\n",
       "      <td>1.09767</td>\n",
       "      <td>1.09810</td>\n",
       "      <td>1.244839e+07</td>\n",
       "      <td>1</td>\n",
       "      <td>1.09667</td>\n",
       "    </tr>\n",
       "    <tr>\n",
       "      <th>123809</th>\n",
       "      <td>13.04.2023 13:00:00.000</td>\n",
       "      <td>1.10489</td>\n",
       "      <td>1.10676</td>\n",
       "      <td>1.10432</td>\n",
       "      <td>1.10645</td>\n",
       "      <td>3.009251e+07</td>\n",
       "      <td>2</td>\n",
       "      <td>1.10776</td>\n",
       "    </tr>\n",
       "    <tr>\n",
       "      <th>123826</th>\n",
       "      <td>14.04.2023 06:00:00.000</td>\n",
       "      <td>1.10742</td>\n",
       "      <td>1.10758</td>\n",
       "      <td>1.10630</td>\n",
       "      <td>1.10668</td>\n",
       "      <td>1.391234e+07</td>\n",
       "      <td>2</td>\n",
       "      <td>1.10858</td>\n",
       "    </tr>\n",
       "  </tbody>\n",
       "</table>\n",
       "<p>8329 rows × 8 columns</p>\n",
       "</div>"
      ],
      "text/plain": [
       "                           time     open     high      low    close  \\\n",
       "10      05.05.2003 07:00:00.000  1.12103  1.12203  1.12014  1.12143   \n",
       "20      05.05.2003 17:00:00.000  1.12698  1.13009  1.12646  1.12892   \n",
       "33      06.05.2003 06:00:00.000  1.12839  1.12881  1.12723  1.12823   \n",
       "47      06.05.2003 20:00:00.000  1.14174  1.14506  1.14073  1.14338   \n",
       "67      07.05.2003 16:00:00.000  1.13495  1.13692  1.13265  1.13366   \n",
       "...                         ...      ...      ...      ...      ...   \n",
       "123738  10.04.2023 14:00:00.000  1.08377  1.08439  1.08313  1.08382   \n",
       "123762  11.04.2023 14:00:00.000  1.09216  1.09279  1.09109  1.09111   \n",
       "123802  13.04.2023 06:00:00.000  1.09841  1.09913  1.09767  1.09810   \n",
       "123809  13.04.2023 13:00:00.000  1.10489  1.10676  1.10432  1.10645   \n",
       "123826  14.04.2023 06:00:00.000  1.10742  1.10758  1.10630  1.10668   \n",
       "\n",
       "              volume  pivot  pointpos  \n",
       "10      2.732280e+07      1   1.11914  \n",
       "20      1.358298e+08      2   1.13109  \n",
       "33      2.864480e+07      1   1.12623  \n",
       "47      6.179780e+07      2   1.14606  \n",
       "67      2.961631e+08      1   1.13165  \n",
       "...              ...    ...       ...  \n",
       "123738  1.660855e+07      1   1.08213  \n",
       "123762  2.236628e+07      2   1.09379  \n",
       "123802  1.244839e+07      1   1.09667  \n",
       "123809  3.009251e+07      2   1.10776  \n",
       "123826  1.391234e+07      2   1.10858  \n",
       "\n",
       "[8329 rows x 8 columns]"
      ]
     },
     "execution_count": 102,
     "metadata": {},
     "output_type": "execute_result"
    }
   ],
   "source": [
    "df[df['pointpos']>0]"
   ]
  },
  {
   "cell_type": "code",
   "execution_count": 111,
   "id": "c2a38efa-5050-4fa0-b320-7370f39db928",
   "metadata": {},
   "outputs": [
    {
     "data": {
      "application/vnd.plotly.v1+json": {
       "config": {
        "plotlyServerURL": "https://plot.ly"
       },
       "data": [
        {
         "close": {
          "bdata": "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",
          "dtype": "f8"
         },
         "decreasing": {
          "line": {
           "color": "red"
          }
         },
         "high": {
          "bdata": "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",
          "dtype": "f8"
         },
         "increasing": {
          "line": {
           "color": "green"
          }
         },
         "low": {
          "bdata": "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",
          "dtype": "f8"
         },
         "open": {
          "bdata": "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",
          "dtype": "f8"
         },
         "type": "candlestick",
         "x": {
          "bdata": "+eIBAPriAQD74gEA/OIBAP3iAQD+4gEA/+IBAADjAQAB4wEAAuMBAAPjAQAE4wEABeMBAAbjAQAH4wEACOMBAAnjAQAK4wEAC+MBAAzjAQAN4wEADuMBAA/jAQAQ4wEAEeMBABLjAQAT4wEAFOMBABXjAQAW4wEAF+MBABjjAQAZ4wEAGuMBABvjAQAc4wEAHeMBAB7jAQAf4wEAIOMBACHjAQAi4wEAI+MBACTjAQAl4wEAJuMBACfjAQAo4wEAKeMBACrjAQAr4wEALOMBAC3jAQAu4wEAL+MBADDjAQAx4wEAMuMBADPjAQA04wEANeMBADbjAQA34wEAOOMBADnjAQA64wEAO+MBADzjAQA94wEAPuMBAD/jAQBA4wEAQeMBAELjAQBD4wEAROMBAEXjAQBG4wEAR+MBAEjjAQBJ4wEASuMBAEvjAQBM4wEATeMBAE7jAQBP4wEAUOMBAFHjAQBS4wEAU+MBAFTjAQBV4wEAVuMBAFfjAQBY4wEAWeMBAFrjAQBb4wEAXOMBAF3jAQBe4wEAX+MBAGDjAQBh4wEAYuMBAGPjAQBk4wEAZeMBAGbjAQBn4wEAaOMBAGnjAQBq4wEAa+MBAGzjAQBt4wEAbuMBAG/jAQBw4wEAceMBAHLjAQBz4wEAdOMBAHXjAQB24wEAd+MBAHjjAQB54wEAeuMBAHvjAQB84wEAfeMBAH7jAQB/4wEAgOMBAIHjAQCC4wEAg+MBAITjAQCF4wEAhuMBAIfjAQCI4wEAieMBAIrjAQCL4wEAjOMBAI3jAQCO4wEAj+MBAJDjAQCR4wEAkuMBAJPjAQCU4wEAleMBAJbjAQCX4wEAmOMBAJnjAQCa4wEAm+MBAJzjAQCd4wEAnuMBAJ/jAQCg4wEAoeMBAKLjAQCj4wEApOMBAKXjAQCm4wEAp+MBAKjjAQCp4wEAquMBAKvjAQCs4wEAreMBAK7jAQCv4wEAsOMBALHjAQCy4wEAs+MBALTjAQC14wEAtuMBALfjAQC44wEAueMBALrjAQC74wEAvOMBAL3jAQC+4wEAv+MBAA==",
          "dtype": "i4"
         }
        },
        {
         "marker": {
          "color": "MediumPurple",
          "size": 5
         },
         "mode": "markers",
         "name": "pivot",
         "type": "scatter",
         "x": {
          "bdata": "+eIBAPriAQD74gEA/OIBAP3iAQD+4gEA/+IBAADjAQAB4wEAAuMBAAPjAQAE4wEABeMBAAbjAQAH4wEACOMBAAnjAQAK4wEAC+MBAAzjAQAN4wEADuMBAA/jAQAQ4wEAEeMBABLjAQAT4wEAFOMBABXjAQAW4wEAF+MBABjjAQAZ4wEAGuMBABvjAQAc4wEAHeMBAB7jAQAf4wEAIOMBACHjAQAi4wEAI+MBACTjAQAl4wEAJuMBACfjAQAo4wEAKeMBACrjAQAr4wEALOMBAC3jAQAu4wEAL+MBADDjAQAx4wEAMuMBADPjAQA04wEANeMBADbjAQA34wEAOOMBADnjAQA64wEAO+MBADzjAQA94wEAPuMBAD/jAQBA4wEAQeMBAELjAQBD4wEAROMBAEXjAQBG4wEAR+MBAEjjAQBJ4wEASuMBAEvjAQBM4wEATeMBAE7jAQBP4wEAUOMBAFHjAQBS4wEAU+MBAFTjAQBV4wEAVuMBAFfjAQBY4wEAWeMBAFrjAQBb4wEAXOMBAF3jAQBe4wEAX+MBAGDjAQBh4wEAYuMBAGPjAQBk4wEAZeMBAGbjAQBn4wEAaOMBAGnjAQBq4wEAa+MBAGzjAQBt4wEAbuMBAG/jAQBw4wEAceMBAHLjAQBz4wEAdOMBAHXjAQB24wEAd+MBAHjjAQB54wEAeuMBAHvjAQB84wEAfeMBAH7jAQB/4wEAgOMBAIHjAQCC4wEAg+MBAITjAQCF4wEAhuMBAIfjAQCI4wEAieMBAIrjAQCL4wEAjOMBAI3jAQCO4wEAj+MBAJDjAQCR4wEAkuMBAJPjAQCU4wEAleMBAJbjAQCX4wEAmOMBAJnjAQCa4wEAm+MBAJzjAQCd4wEAnuMBAJ/jAQCg4wEAoeMBAKLjAQCj4wEApOMBAKXjAQCm4wEAp+MBAKjjAQCp4wEAquMBAKvjAQCs4wEAreMBAK7jAQCv4wEAsOMBALHjAQCy4wEAs+MBALTjAQC14wEAtuMBALfjAQC44wEAueMBALrjAQC74wEAvOMBAL3jAQC+4wEAv+MBAA==",
          "dtype": "i4"
         },
         "y": {
          "bdata": "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",
          "dtype": "f8"
         }
        }
       ],
       "layout": {
        "paper_bgcolor": "black",
        "plot_bgcolor": "black",
        "template": {
         "data": {
          "bar": [
           {
            "error_x": {
             "color": "#2a3f5f"
            },
            "error_y": {
             "color": "#2a3f5f"
            },
            "marker": {
             "line": {
              "color": "#E5ECF6",
              "width": 0.5
             },
             "pattern": {
              "fillmode": "overlay",
              "size": 10,
              "solidity": 0.2
             }
            },
            "type": "bar"
           }
          ],
          "barpolar": [
           {
            "marker": {
             "line": {
              "color": "#E5ECF6",
              "width": 0.5
             },
             "pattern": {
              "fillmode": "overlay",
              "size": 10,
              "solidity": 0.2
             }
            },
            "type": "barpolar"
           }
          ],
          "carpet": [
           {
            "aaxis": {
             "endlinecolor": "#2a3f5f",
             "gridcolor": "white",
             "linecolor": "white",
             "minorgridcolor": "white",
             "startlinecolor": "#2a3f5f"
            },
            "baxis": {
             "endlinecolor": "#2a3f5f",
             "gridcolor": "white",
             "linecolor": "white",
             "minorgridcolor": "white",
             "startlinecolor": "#2a3f5f"
            },
            "type": "carpet"
           }
          ],
          "choropleth": [
           {
            "colorbar": {
             "outlinewidth": 0,
             "ticks": ""
            },
            "type": "choropleth"
           }
          ],
          "contour": [
           {
            "colorbar": {
             "outlinewidth": 0,
             "ticks": ""
            },
            "colorscale": [
             [
              0,
              "#0d0887"
             ],
             [
              0.1111111111111111,
              "#46039f"
             ],
             [
              0.2222222222222222,
              "#7201a8"
             ],
             [
              0.3333333333333333,
              "#9c179e"
             ],
             [
              0.4444444444444444,
              "#bd3786"
             ],
             [
              0.5555555555555556,
              "#d8576b"
             ],
             [
              0.6666666666666666,
              "#ed7953"
             ],
             [
              0.7777777777777778,
              "#fb9f3a"
             ],
             [
              0.8888888888888888,
              "#fdca26"
             ],
             [
              1,
              "#f0f921"
             ]
            ],
            "type": "contour"
           }
          ],
          "contourcarpet": [
           {
            "colorbar": {
             "outlinewidth": 0,
             "ticks": ""
            },
            "type": "contourcarpet"
           }
          ],
          "heatmap": [
           {
            "colorbar": {
             "outlinewidth": 0,
             "ticks": ""
            },
            "colorscale": [
             [
              0,
              "#0d0887"
             ],
             [
              0.1111111111111111,
              "#46039f"
             ],
             [
              0.2222222222222222,
              "#7201a8"
             ],
             [
              0.3333333333333333,
              "#9c179e"
             ],
             [
              0.4444444444444444,
              "#bd3786"
             ],
             [
              0.5555555555555556,
              "#d8576b"
             ],
             [
              0.6666666666666666,
              "#ed7953"
             ],
             [
              0.7777777777777778,
              "#fb9f3a"
             ],
             [
              0.8888888888888888,
              "#fdca26"
             ],
             [
              1,
              "#f0f921"
             ]
            ],
            "type": "heatmap"
           }
          ],
          "histogram": [
           {
            "marker": {
             "pattern": {
              "fillmode": "overlay",
              "size": 10,
              "solidity": 0.2
             }
            },
            "type": "histogram"
           }
          ],
          "histogram2d": [
           {
            "colorbar": {
             "outlinewidth": 0,
             "ticks": ""
            },
            "colorscale": [
             [
              0,
              "#0d0887"
             ],
             [
              0.1111111111111111,
              "#46039f"
             ],
             [
              0.2222222222222222,
              "#7201a8"
             ],
             [
              0.3333333333333333,
              "#9c179e"
             ],
             [
              0.4444444444444444,
              "#bd3786"
             ],
             [
              0.5555555555555556,
              "#d8576b"
             ],
             [
              0.6666666666666666,
              "#ed7953"
             ],
             [
              0.7777777777777778,
              "#fb9f3a"
             ],
             [
              0.8888888888888888,
              "#fdca26"
             ],
             [
              1,
              "#f0f921"
             ]
            ],
            "type": "histogram2d"
           }
          ],
          "histogram2dcontour": [
           {
            "colorbar": {
             "outlinewidth": 0,
             "ticks": ""
            },
            "colorscale": [
             [
              0,
              "#0d0887"
             ],
             [
              0.1111111111111111,
              "#46039f"
             ],
             [
              0.2222222222222222,
              "#7201a8"
             ],
             [
              0.3333333333333333,
              "#9c179e"
             ],
             [
              0.4444444444444444,
              "#bd3786"
             ],
             [
              0.5555555555555556,
              "#d8576b"
             ],
             [
              0.6666666666666666,
              "#ed7953"
             ],
             [
              0.7777777777777778,
              "#fb9f3a"
             ],
             [
              0.8888888888888888,
              "#fdca26"
             ],
             [
              1,
              "#f0f921"
             ]
            ],
            "type": "histogram2dcontour"
           }
          ],
          "mesh3d": [
           {
            "colorbar": {
             "outlinewidth": 0,
             "ticks": ""
            },
            "type": "mesh3d"
           }
          ],
          "parcoords": [
           {
            "line": {
             "colorbar": {
              "outlinewidth": 0,
              "ticks": ""
             }
            },
            "type": "parcoords"
           }
          ],
          "pie": [
           {
            "automargin": true,
            "type": "pie"
           }
          ],
          "scatter": [
           {
            "fillpattern": {
             "fillmode": "overlay",
             "size": 10,
             "solidity": 0.2
            },
            "type": "scatter"
           }
          ],
          "scatter3d": [
           {
            "line": {
             "colorbar": {
              "outlinewidth": 0,
              "ticks": ""
             }
            },
            "marker": {
             "colorbar": {
              "outlinewidth": 0,
              "ticks": ""
             }
            },
            "type": "scatter3d"
           }
          ],
          "scattercarpet": [
           {
            "marker": {
             "colorbar": {
              "outlinewidth": 0,
              "ticks": ""
             }
            },
            "type": "scattercarpet"
           }
          ],
          "scattergeo": [
           {
            "marker": {
             "colorbar": {
              "outlinewidth": 0,
              "ticks": ""
             }
            },
            "type": "scattergeo"
           }
          ],
          "scattergl": [
           {
            "marker": {
             "colorbar": {
              "outlinewidth": 0,
              "ticks": ""
             }
            },
            "type": "scattergl"
           }
          ],
          "scattermap": [
           {
            "marker": {
             "colorbar": {
              "outlinewidth": 0,
              "ticks": ""
             }
            },
            "type": "scattermap"
           }
          ],
          "scattermapbox": [
           {
            "marker": {
             "colorbar": {
              "outlinewidth": 0,
              "ticks": ""
             }
            },
            "type": "scattermapbox"
           }
          ],
          "scatterpolar": [
           {
            "marker": {
             "colorbar": {
              "outlinewidth": 0,
              "ticks": ""
             }
            },
            "type": "scatterpolar"
           }
          ],
          "scatterpolargl": [
           {
            "marker": {
             "colorbar": {
              "outlinewidth": 0,
              "ticks": ""
             }
            },
            "type": "scatterpolargl"
           }
          ],
          "scatterternary": [
           {
            "marker": {
             "colorbar": {
              "outlinewidth": 0,
              "ticks": ""
             }
            },
            "type": "scatterternary"
           }
          ],
          "surface": [
           {
            "colorbar": {
             "outlinewidth": 0,
             "ticks": ""
            },
            "colorscale": [
             [
              0,
              "#0d0887"
             ],
             [
              0.1111111111111111,
              "#46039f"
             ],
             [
              0.2222222222222222,
              "#7201a8"
             ],
             [
              0.3333333333333333,
              "#9c179e"
             ],
             [
              0.4444444444444444,
              "#bd3786"
             ],
             [
              0.5555555555555556,
              "#d8576b"
             ],
             [
              0.6666666666666666,
              "#ed7953"
             ],
             [
              0.7777777777777778,
              "#fb9f3a"
             ],
             [
              0.8888888888888888,
              "#fdca26"
             ],
             [
              1,
              "#f0f921"
             ]
            ],
            "type": "surface"
           }
          ],
          "table": [
           {
            "cells": {
             "fill": {
              "color": "#EBF0F8"
             },
             "line": {
              "color": "white"
             }
            },
            "header": {
             "fill": {
              "color": "#C8D4E3"
             },
             "line": {
              "color": "white"
             }
            },
            "type": "table"
           }
          ]
         },
         "layout": {
          "annotationdefaults": {
           "arrowcolor": "#2a3f5f",
           "arrowhead": 0,
           "arrowwidth": 1
          },
          "autotypenumbers": "strict",
          "coloraxis": {
           "colorbar": {
            "outlinewidth": 0,
            "ticks": ""
           }
          },
          "colorscale": {
           "diverging": [
            [
             0,
             "#8e0152"
            ],
            [
             0.1,
             "#c51b7d"
            ],
            [
             0.2,
             "#de77ae"
            ],
            [
             0.3,
             "#f1b6da"
            ],
            [
             0.4,
             "#fde0ef"
            ],
            [
             0.5,
             "#f7f7f7"
            ],
            [
             0.6,
             "#e6f5d0"
            ],
            [
             0.7,
             "#b8e186"
            ],
            [
             0.8,
             "#7fbc41"
            ],
            [
             0.9,
             "#4d9221"
            ],
            [
             1,
             "#276419"
            ]
           ],
           "sequential": [
            [
             0,
             "#0d0887"
            ],
            [
             0.1111111111111111,
             "#46039f"
            ],
            [
             0.2222222222222222,
             "#7201a8"
            ],
            [
             0.3333333333333333,
             "#9c179e"
            ],
            [
             0.4444444444444444,
             "#bd3786"
            ],
            [
             0.5555555555555556,
             "#d8576b"
            ],
            [
             0.6666666666666666,
             "#ed7953"
            ],
            [
             0.7777777777777778,
             "#fb9f3a"
            ],
            [
             0.8888888888888888,
             "#fdca26"
            ],
            [
             1,
             "#f0f921"
            ]
           ],
           "sequentialminus": [
            [
             0,
             "#0d0887"
            ],
            [
             0.1111111111111111,
             "#46039f"
            ],
            [
             0.2222222222222222,
             "#7201a8"
            ],
            [
             0.3333333333333333,
             "#9c179e"
            ],
            [
             0.4444444444444444,
             "#bd3786"
            ],
            [
             0.5555555555555556,
             "#d8576b"
            ],
            [
             0.6666666666666666,
             "#ed7953"
            ],
            [
             0.7777777777777778,
             "#fb9f3a"
            ],
            [
             0.8888888888888888,
             "#fdca26"
            ],
            [
             1,
             "#f0f921"
            ]
           ]
          },
          "colorway": [
           "#636efa",
           "#EF553B",
           "#00cc96",
           "#ab63fa",
           "#FFA15A",
           "#19d3f3",
           "#FF6692",
           "#B6E880",
           "#FF97FF",
           "#FECB52"
          ],
          "font": {
           "color": "#2a3f5f"
          },
          "geo": {
           "bgcolor": "white",
           "lakecolor": "white",
           "landcolor": "#E5ECF6",
           "showlakes": true,
           "showland": true,
           "subunitcolor": "white"
          },
          "hoverlabel": {
           "align": "left"
          },
          "hovermode": "closest",
          "mapbox": {
           "style": "light"
          },
          "paper_bgcolor": "white",
          "plot_bgcolor": "#E5ECF6",
          "polar": {
           "angularaxis": {
            "gridcolor": "white",
            "linecolor": "white",
            "ticks": ""
           },
           "bgcolor": "#E5ECF6",
           "radialaxis": {
            "gridcolor": "white",
            "linecolor": "white",
            "ticks": ""
           }
          },
          "scene": {
           "xaxis": {
            "backgroundcolor": "#E5ECF6",
            "gridcolor": "white",
            "gridwidth": 2,
            "linecolor": "white",
            "showbackground": true,
            "ticks": "",
            "zerolinecolor": "white"
           },
           "yaxis": {
            "backgroundcolor": "#E5ECF6",
            "gridcolor": "white",
            "gridwidth": 2,
            "linecolor": "white",
            "showbackground": true,
            "ticks": "",
            "zerolinecolor": "white"
           },
           "zaxis": {
            "backgroundcolor": "#E5ECF6",
            "gridcolor": "white",
            "gridwidth": 2,
            "linecolor": "white",
            "showbackground": true,
            "ticks": "",
            "zerolinecolor": "white"
           }
          },
          "shapedefaults": {
           "line": {
            "color": "#2a3f5f"
           }
          },
          "ternary": {
           "aaxis": {
            "gridcolor": "white",
            "linecolor": "white",
            "ticks": ""
           },
           "baxis": {
            "gridcolor": "white",
            "linecolor": "white",
            "ticks": ""
           },
           "bgcolor": "#E5ECF6",
           "caxis": {
            "gridcolor": "white",
            "linecolor": "white",
            "ticks": ""
           }
          },
          "title": {
           "x": 0.05
          },
          "xaxis": {
           "automargin": true,
           "gridcolor": "white",
           "linecolor": "white",
           "ticks": "",
           "title": {
            "standoff": 15
           },
           "zerolinecolor": "white",
           "zerolinewidth": 2
          },
          "yaxis": {
           "automargin": true,
           "gridcolor": "white",
           "linecolor": "white",
           "ticks": "",
           "title": {
            "standoff": 15
           },
           "zerolinecolor": "white",
           "zerolinewidth": 2
          }
         }
        },
        "xaxis": {
         "rangeslider": {
          "visible": false
         },
         "showgrid": false
        },
        "yaxis": {
         "showgrid": false
        }
       }
      },
      "image/png": "[encoded data removed]"
     },
     "metadata": {},
     "output_type": "display_data"
    }
   ],
   "source": [
    "import plotly.graph_objects as go\n",
    "from plotly.subplots import make_subplots\n",
    "from datetime import datetime\n",
    "dfpl = df[-200:-1]\n",
    "fig = go.Figure(data=[go.Candlestick(x=dfpl.index,\n",
    "                open=dfpl['open'],\n",
    "                high=dfpl['high'],\n",
    "                low=dfpl['low'],\n",
    "                close=dfpl['close'],\n",
    "                increasing_line_color= 'green', \n",
    "                decreasing_line_color= 'red')])\n",
    "\n",
    "fig.add_scatter(x=dfpl.index, y=dfpl['pointpos'], mode=\"markers\",\n",
    "                marker=dict(size=5, color=\"MediumPurple\"),\n",
    "                name=\"pivot\")\n",
    "fig.update_layout(xaxis_rangeslider_visible=False)\n",
    "fig.update_xaxes(showgrid=False)\n",
    "fig.update_yaxes(showgrid=False)\n",
    "fig.update_layout(paper_bgcolor='black', plot_bgcolor='black')\n",
    "\n",
    "fig.show()"
   ]
  },
  {
   "cell_type": "code",
   "execution_count": 112,
   "id": "1856e70f-c66f-4f34-8da5-5b93867752e5",
   "metadata": {},
   "outputs": [
    {
     "data": {
      "text/plain": [
       "<matplotlib.legend.Legend at 0x23dccce87d0>"
      ]
     },
     "execution_count": 112,
     "metadata": {},
     "output_type": "execute_result"
    },
    {
     "data": {
      "image/png": "[encoded data removed]",
      "text/plain": [
       "<Figure size 1000x500 with 1 Axes>"
      ]
     },
     "metadata": {},
     "output_type": "display_data"
    }
   ],
   "source": [
    "import matplotlib.pyplot as plt\n",
    "\n",
    "dfkeys = df[-1000:-1]\n",
    "\n",
    "# Filter the dataframe based on the pivot column\n",
    "high_values = dfkeys[dfkeys['pivot'] == 2]['high']\n",
    "low_values = dfkeys[dfkeys['pivot'] == 1]['low']\n",
    "\n",
    "# Define the bin width\n",
    "bin_width = 0.003  # Change this value as needed\n",
    "\n",
    "# Calculate the number of bins\n",
    "bins = int((high_values.max() - low_values.min()) / bin_width)\n",
    "\n",
    "# Create the histograms\n",
    "plt.figure(figsize=(10, 5))\n",
    "plt.hist(high_values, bins=bins, alpha=0.5, label='High Values', color='red')\n",
    "plt.hist(low_values, bins=bins, alpha=0.5, label='Low Values', color='blue')\n",
    "\n",
    "plt.xlabel('Value')\n",
    "plt.ylabel('Frequency')\n",
    "plt.title('Histogram of High and Low Values')\n",
    "plt.legend()"
   ]
  },
  {
   "cell_type": "code",
   "execution_count": null,
   "id": "7f2ee30f-44db-46dd-8629-a2b43ef54048",
   "metadata": {},
   "outputs": [],
   "source": []
  }
 ],
 "metadata": {
  "kernelspec": {
   "display_name": "Python 3 (ipykernel)",
   "language": "python",
   "name": "python3"
  },
  "language_info": {
   "codemirror_mode": {
    "name": "ipython",
    "version": 3
   },
   "file_extension": ".py",
   "mimetype": "text/x-python",
   "name": "python",
   "nbconvert_exporter": "python",
   "pygments_lexer": "ipython3",
   "version": "3.12.4"
  }
 },
 "nbformat": 4,
 "nbformat_minor": 5
}

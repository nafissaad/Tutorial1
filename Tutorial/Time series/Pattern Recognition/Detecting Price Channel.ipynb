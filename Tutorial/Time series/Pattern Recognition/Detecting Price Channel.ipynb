{
 "cells": [
  {
   "cell_type": "code",
   "execution_count": 1,
   "metadata": {},
   "outputs": [],
   "source": [
    "import pandas as pd\n",
    "import matplotlib.pyplot as plt\n",
    "import numpy as np"
   ]
  },
  {
   "cell_type": "code",
   "execution_count": 2,
   "metadata": {
    "scrolled": false
   },
   "outputs": [
    {
     "data": {
      "text/html": [
       "<div>\n",
       "<style scoped>\n",
       "    .dataframe tbody tr th:only-of-type {\n",
       "        vertical-align: middle;\n",
       "    }\n",
       "\n",
       "    .dataframe tbody tr th {\n",
       "        vertical-align: top;\n",
       "    }\n",
       "\n",
       "    .dataframe thead th {\n",
       "        text-align: right;\n",
       "    }\n",
       "</style>\n",
       "<table border=\"1\" class=\"dataframe\">\n",
       "  <thead>\n",
       "    <tr style=\"text-align: right;\">\n",
       "      <th></th>\n",
       "      <th>NaN</th>\n",
       "      <th>TSLA</th>\n",
       "      <th>AAPL</th>\n",
       "      <th>MSFT</th>\n",
       "      <th>WMT</th>\n",
       "    </tr>\n",
       "  </thead>\n",
       "  <tbody>\n",
       "    <tr>\n",
       "      <th>2418</th>\n",
       "      <td>2020-04-22</td>\n",
       "      <td>146.421997</td>\n",
       "      <td>68.71476</td>\n",
       "      <td>172.620804</td>\n",
       "      <td>130.47728</td>\n",
       "    </tr>\n",
       "    <tr>\n",
       "      <th>2419</th>\n",
       "      <td>2020-04-23</td>\n",
       "      <td>141.126007</td>\n",
       "      <td>68.448463</td>\n",
       "      <td>170.531677</td>\n",
       "      <td>127.443153</td>\n",
       "    </tr>\n",
       "    <tr>\n",
       "      <th>2420</th>\n",
       "      <td>2020-04-24</td>\n",
       "      <td>145.029999</td>\n",
       "      <td>70.424545</td>\n",
       "      <td>173.645462</td>\n",
       "      <td>128.345459</td>\n",
       "    </tr>\n",
       "    <tr>\n",
       "      <th>2421</th>\n",
       "      <td>2020-04-27</td>\n",
       "      <td>159.75</td>\n",
       "      <td>70.474319</td>\n",
       "      <td>173.148056</td>\n",
       "      <td>127.215103</td>\n",
       "    </tr>\n",
       "    <tr>\n",
       "      <th>2422</th>\n",
       "      <td>2020-04-28</td>\n",
       "      <td>153.824005</td>\n",
       "      <td>69.33197</td>\n",
       "      <td>168.930023</td>\n",
       "      <td>126.917641</td>\n",
       "    </tr>\n",
       "    <tr>\n",
       "      <th>2423</th>\n",
       "      <td>2020-04-29</td>\n",
       "      <td>160.102005</td>\n",
       "      <td>71.6092</td>\n",
       "      <td>176.510529</td>\n",
       "      <td>122.55484</td>\n",
       "    </tr>\n",
       "    <tr>\n",
       "      <th>2424</th>\n",
       "      <td>2020-04-30</td>\n",
       "      <td>156.376007</td>\n",
       "      <td>73.119873</td>\n",
       "      <td>178.281311</td>\n",
       "      <td>120.522179</td>\n",
       "    </tr>\n",
       "    <tr>\n",
       "      <th>2425</th>\n",
       "      <td>2020-05-01</td>\n",
       "      <td>140.264008</td>\n",
       "      <td>71.942688</td>\n",
       "      <td>173.665375</td>\n",
       "      <td>121.880592</td>\n",
       "    </tr>\n",
       "    <tr>\n",
       "      <th>2426</th>\n",
       "      <td>2020-05-04</td>\n",
       "      <td>152.238007</td>\n",
       "      <td>72.960594</td>\n",
       "      <td>177.913223</td>\n",
       "      <td>122.653999</td>\n",
       "    </tr>\n",
       "    <tr>\n",
       "      <th>2427</th>\n",
       "      <td>2020-05-05</td>\n",
       "      <td>153.641998</td>\n",
       "      <td>74.055649</td>\n",
       "      <td>179.823273</td>\n",
       "      <td>123.675293</td>\n",
       "    </tr>\n",
       "    <tr>\n",
       "      <th>2428</th>\n",
       "      <td>2020-05-06</td>\n",
       "      <td>156.516006</td>\n",
       "      <td>74.819695</td>\n",
       "      <td>181.594055</td>\n",
       "      <td>122.257385</td>\n",
       "    </tr>\n",
       "    <tr>\n",
       "      <th>2429</th>\n",
       "      <td>2020-05-07</td>\n",
       "      <td>156.007996</td>\n",
       "      <td>75.593697</td>\n",
       "      <td>182.648575</td>\n",
       "      <td>121.390945</td>\n",
       "    </tr>\n",
       "    <tr>\n",
       "      <th>2430</th>\n",
       "      <td>2020-05-08</td>\n",
       "      <td>163.884003</td>\n",
       "      <td>77.39296</td>\n",
       "      <td>183.722946</td>\n",
       "      <td>122.436646</td>\n",
       "    </tr>\n",
       "    <tr>\n",
       "      <th>2431</th>\n",
       "      <td>2020-05-11</td>\n",
       "      <td>162.257996</td>\n",
       "      <td>78.610764</td>\n",
       "      <td>185.772293</td>\n",
       "      <td>123.163658</td>\n",
       "    </tr>\n",
       "    <tr>\n",
       "      <th>2432</th>\n",
       "      <td>2020-05-12</td>\n",
       "      <td>161.882004</td>\n",
       "      <td>77.712387</td>\n",
       "      <td>181.564194</td>\n",
       "      <td>123.273209</td>\n",
       "    </tr>\n",
       "  </tbody>\n",
       "</table>\n",
       "</div>"
      ],
      "text/plain": [
       "            NaN        TSLA       AAPL        MSFT         WMT\n",
       "2418 2020-04-22  146.421997   68.71476  172.620804   130.47728\n",
       "2419 2020-04-23  141.126007  68.448463  170.531677  127.443153\n",
       "2420 2020-04-24  145.029999  70.424545  173.645462  128.345459\n",
       "2421 2020-04-27      159.75  70.474319  173.148056  127.215103\n",
       "2422 2020-04-28  153.824005   69.33197  168.930023  126.917641\n",
       "2423 2020-04-29  160.102005    71.6092  176.510529   122.55484\n",
       "2424 2020-04-30  156.376007  73.119873  178.281311  120.522179\n",
       "2425 2020-05-01  140.264008  71.942688  173.665375  121.880592\n",
       "2426 2020-05-04  152.238007  72.960594  177.913223  122.653999\n",
       "2427 2020-05-05  153.641998  74.055649  179.823273  123.675293\n",
       "2428 2020-05-06  156.516006  74.819695  181.594055  122.257385\n",
       "2429 2020-05-07  156.007996  75.593697  182.648575  121.390945\n",
       "2430 2020-05-08  163.884003   77.39296  183.722946  122.436646\n",
       "2431 2020-05-11  162.257996  78.610764  185.772293  123.163658\n",
       "2432 2020-05-12  161.882004  77.712387  181.564194  123.273209"
      ]
     },
     "execution_count": 2,
     "metadata": {},
     "output_type": "execute_result"
    }
   ],
   "source": [
    "df=pd.read_excel('C:\\\\Users\\\\nafissaad\\\\Tutorial\\\\Fundamental analysis\\\\Technical analysis\\\\NEDL_Omega_Ratio.xlsx')\n",
    "df=df.rename(columns=df.iloc[0])\n",
    "df=df[1:]\n",
    "df=df.iloc[:,0:5]\n",
    "df=df[-100:-85]#df[30:45]#df[30:45]#df[100:115]#df[45:65]#\n",
    "df"
   ]
  },
  {
   "cell_type": "code",
   "execution_count": 3,
   "metadata": {},
   "outputs": [],
   "source": [
    "def directional_change(close: np.array, high: np.array,index : np.array ,low: np.array, sigma: float):\n",
    "    \n",
    "    up_zig = True # Last extreme is a bottom. Next is a top. \n",
    "    tmp_max = high[0]\n",
    "    tmp_min = low[0]\n",
    "    tmp_max_i = index[0]\n",
    "    tmp_min_i = index[0]\n",
    "\n",
    "    tops = []\n",
    "    bottoms = []\n",
    "    x=[]\n",
    "    for i in range(len(close)):\n",
    "        if up_zig: # Last extreme is a bottom\n",
    "            if high[i] > tmp_max:\n",
    "                # New high, update \n",
    "                tmp_max = high[i]\n",
    "                tmp_max_i = index[i]\n",
    "                \n",
    "            elif close[i] < tmp_max - tmp_max * sigma: \n",
    "                # Price retraced by sigma %. Top confirmed, record it\n",
    "                # top[0] = confirmation index\n",
    "                # top[1] = index of top\n",
    "                # top[2] = price of top\n",
    "                top = [tmp_max_i, tmp_max+tmp_max*0.001]\n",
    "                tops.append(top)\n",
    "                x.append(top)\n",
    "\n",
    "                # Setup for next bottom\n",
    "                up_zig = False\n",
    "                tmp_min = low[i]\n",
    "                tmp_min_i = index[i]\n",
    "        else: # Last extreme is a top\n",
    "            if low[i] < tmp_min:\n",
    "                # New low, update \n",
    "                tmp_min = low[i]\n",
    "                tmp_min_i = index[i]\n",
    "                \n",
    "            elif close[i] > tmp_min + tmp_min * sigma: \n",
    "                # Price retraced by sigma %. Bottom confirmed, record it\n",
    "                # bottom[0] = confirmation index\n",
    "                # bottom[1] = index of bottom\n",
    "                # bottom[2] = price of bottom\n",
    "                bottom = [tmp_min_i, tmp_min-tmp_min*0.001]\n",
    "                bottoms.append(bottom)\n",
    "\n",
    "                # Setup for next top\n",
    "                up_zig = True\n",
    "                tmp_max = high[i]\n",
    "                tmp_max_i = index[i]\n",
    "\n",
    "    return tops,bottoms,x"
   ]
  },
  {
   "cell_type": "code",
   "execution_count": 4,
   "metadata": {},
   "outputs": [
    {
     "data": {
      "text/plain": [
       "([[2421, 70.544793319], [2424, 73.192992873], [2431, 78.68937476400001]],\n",
       " [[2422, 69.26263803], [2425, 71.87074531200001]])"
      ]
     },
     "execution_count": 4,
     "metadata": {},
     "output_type": "execute_result"
    }
   ],
   "source": [
    "tops, bottoms,x = directional_change(df['AAPL'].to_numpy(), df['AAPL'].to_numpy(),df.index.to_numpy(),df['AAPL'].to_numpy(), 0.01)\n",
    "tops,bottoms"
   ]
  },
  {
   "cell_type": "code",
   "execution_count": 5,
   "metadata": {},
   "outputs": [
    {
     "data": {
      "text/html": [
       "<div>\n",
       "<style scoped>\n",
       "    .dataframe tbody tr th:only-of-type {\n",
       "        vertical-align: middle;\n",
       "    }\n",
       "\n",
       "    .dataframe tbody tr th {\n",
       "        vertical-align: top;\n",
       "    }\n",
       "\n",
       "    .dataframe thead th {\n",
       "        text-align: right;\n",
       "    }\n",
       "</style>\n",
       "<table border=\"1\" class=\"dataframe\">\n",
       "  <thead>\n",
       "    <tr style=\"text-align: right;\">\n",
       "      <th></th>\n",
       "      <th>Date</th>\n",
       "      <th>Price</th>\n",
       "    </tr>\n",
       "  </thead>\n",
       "  <tbody>\n",
       "    <tr>\n",
       "      <th>0</th>\n",
       "      <td>2422.0</td>\n",
       "      <td>69.262638</td>\n",
       "    </tr>\n",
       "    <tr>\n",
       "      <th>1</th>\n",
       "      <td>2425.0</td>\n",
       "      <td>71.870745</td>\n",
       "    </tr>\n",
       "  </tbody>\n",
       "</table>\n",
       "</div>"
      ],
      "text/plain": [
       "     Date      Price\n",
       "0  2422.0  69.262638\n",
       "1  2425.0  71.870745"
      ]
     },
     "execution_count": 5,
     "metadata": {},
     "output_type": "execute_result"
    }
   ],
   "source": [
    "tp=pd.DataFrame()\n",
    "bt=pd.DataFrame()\n",
    "tp[['Date','Price']]=tops\n",
    "bt[['Date','Price']]=bottoms\n",
    "bt"
   ]
  },
  {
   "cell_type": "code",
   "execution_count": 6,
   "metadata": {},
   "outputs": [
    {
     "data": {
      "text/html": [
       "<div>\n",
       "<style scoped>\n",
       "    .dataframe tbody tr th:only-of-type {\n",
       "        vertical-align: middle;\n",
       "    }\n",
       "\n",
       "    .dataframe tbody tr th {\n",
       "        vertical-align: top;\n",
       "    }\n",
       "\n",
       "    .dataframe thead th {\n",
       "        text-align: right;\n",
       "    }\n",
       "</style>\n",
       "<table border=\"1\" class=\"dataframe\">\n",
       "  <thead>\n",
       "    <tr style=\"text-align: right;\">\n",
       "      <th></th>\n",
       "      <th>Date</th>\n",
       "      <th>Price</th>\n",
       "    </tr>\n",
       "  </thead>\n",
       "  <tbody>\n",
       "    <tr>\n",
       "      <th>0</th>\n",
       "      <td>2421.0</td>\n",
       "      <td>70.544793</td>\n",
       "    </tr>\n",
       "    <tr>\n",
       "      <th>1</th>\n",
       "      <td>2424.0</td>\n",
       "      <td>73.192993</td>\n",
       "    </tr>\n",
       "    <tr>\n",
       "      <th>2</th>\n",
       "      <td>2431.0</td>\n",
       "      <td>78.689375</td>\n",
       "    </tr>\n",
       "  </tbody>\n",
       "</table>\n",
       "</div>"
      ],
      "text/plain": [
       "     Date      Price\n",
       "0  2421.0  70.544793\n",
       "1  2424.0  73.192993\n",
       "2  2431.0  78.689375"
      ]
     },
     "execution_count": 6,
     "metadata": {},
     "output_type": "execute_result"
    }
   ],
   "source": [
    "tp"
   ]
  },
  {
   "cell_type": "code",
   "execution_count": 7,
   "metadata": {},
   "outputs": [
    {
     "data": {
      "text/plain": [
       "<matplotlib.collections.PathCollection at 0x218cb72aa20>"
      ]
     },
     "execution_count": 7,
     "metadata": {},
     "output_type": "execute_result"
    },
    {
     "data": {
      "image/png": "[encoded data removed]",
      "text/plain": [
       "<Figure size 432x288 with 1 Axes>"
      ]
     },
     "metadata": {
      "needs_background": "light"
     },
     "output_type": "display_data"
    }
   ],
   "source": [
    "plt.plot(df['AAPL'].index.values,df['AAPL'].values)\n",
    "plt.scatter(tp.Date,tp.Price.values,color='r')\n",
    "plt.scatter(bt.Date,bt.Price.values,color='g')\n",
    "#plt.plot(tp.index[-4:],np.y),color='r')"
   ]
  },
  {
   "cell_type": "code",
   "execution_count": 8,
   "metadata": {},
   "outputs": [],
   "source": [
    "def para(tops,bottoms,parallel):\n",
    "    total_length=len(tops)+len(bottoms)\n",
    "    if len(bottoms)>=2 and len(tops)>=2 and total_length>=4:\n",
    "        slope_lows,interc_lows=np.polyfit([i for i in bt.Date],[i for i in bt.Price], 1)\n",
    "        slope_highs,interc_highs=np.polyfit([i for i in tp.Date],[i for i in tp.Price], 1)\n",
    "        if not (parallel>0) or abs((slope_lows-slope_highs)/(slope_highs+slope_lows)/2)<parallel:\n",
    "            return(slope_lows,interc_lows,slope_highs,interc_highs)\n",
    "    return(0,0,0,0)"
   ]
  },
  {
   "cell_type": "code",
   "execution_count": 9,
   "metadata": {},
   "outputs": [
    {
     "data": {
      "text/plain": [
       "(0.8693690940001962,\n",
       " -2036.3493076384752,\n",
       " 0.8092726984115023,\n",
       " -1888.613664228698)"
      ]
     },
     "execution_count": 9,
     "metadata": {},
     "output_type": "execute_result"
    }
   ],
   "source": [
    "para(tops,bottoms,0.1)"
   ]
  }
 ],
 "metadata": {
  "kernelspec": {
   "display_name": "Python 3 (ipykernel)",
   "language": "python",
   "name": "python3"
  },
  "language_info": {
   "codemirror_mode": {
    "name": "ipython",
    "version": 3
   },
   "file_extension": ".py",
   "mimetype": "text/x-python",
   "name": "python",
   "nbconvert_exporter": "python",
   "pygments_lexer": "ipython3",
   "version": "3.7.3"
  }
 },
 "nbformat": 4,
 "nbformat_minor": 2
}

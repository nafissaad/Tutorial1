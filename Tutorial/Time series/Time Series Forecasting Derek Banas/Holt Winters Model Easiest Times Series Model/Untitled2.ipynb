{
 "cells": [
  {
   "cell_type": "code",
   "execution_count": 1,
   "id": "027edae4",
   "metadata": {},
   "outputs": [],
   "source": [
    "demo=[10,12,14,17,20,21,23,27,28]\n",
    "time_step=list(range(1,len(demo)+1))\n",
    "import matplotlib.pyplot as plt"
   ]
  },
  {
   "cell_type": "code",
   "execution_count": 2,
   "id": "67ad738d",
   "metadata": {},
   "outputs": [
    {
     "data": {
      "text/plain": [
       "[1, 2, 3, 4, 5, 6, 7, 8, 9]"
      ]
     },
     "execution_count": 2,
     "metadata": {},
     "output_type": "execute_result"
    }
   ],
   "source": [
    "time_step"
   ]
  },
  {
   "cell_type": "code",
   "execution_count": 3,
   "id": "c80e814b",
   "metadata": {},
   "outputs": [
    {
     "data": {
      "text/plain": [
       "[<matplotlib.lines.Line2D at 0x29ab40ea710>]"
      ]
     },
     "execution_count": 3,
     "metadata": {},
     "output_type": "execute_result"
    },
    {
     "data": {
      "image/png": "[encoded data removed]",
      "text/plain": [
       "<Figure size 432x288 with 1 Axes>"
      ]
     },
     "metadata": {
      "needs_background": "light"
     },
     "output_type": "display_data"
    }
   ],
   "source": [
    "plt.plot(demo)"
   ]
  },
  {
   "cell_type": "code",
   "execution_count": 4,
   "id": "a42ab001",
   "metadata": {},
   "outputs": [],
   "source": [
    "def forecast(demp,alpha):\n",
    "    forecasted_values=[10]\n",
    "    for i in range (1,len(demo)):\n",
    "        forecast=alpha*demo[i-1]+(1-alpha)*forecasted_values[i-1]\n",
    "        forecasted_values.append(forecast)\n",
    "    return forecasted_values"
   ]
  },
  {
   "cell_type": "code",
   "execution_count": 5,
   "id": "0bb6393d",
   "metadata": {},
   "outputs": [
    {
     "data": {
      "text/plain": [
       "[10,\n",
       " 10.0,\n",
       " 11.899999999999999,\n",
       " 13.895,\n",
       " 16.844749999999998,\n",
       " 19.8422375,\n",
       " 20.942111875000002,\n",
       " 22.89710559375,\n",
       " 26.7948552796875]"
      ]
     },
     "execution_count": 5,
     "metadata": {},
     "output_type": "execute_result"
    }
   ],
   "source": [
    "alpha=0.95\n",
    "f=forecast(demo,alpha)\n",
    "f"
   ]
  },
  {
   "cell_type": "code",
   "execution_count": 6,
   "id": "b47559da",
   "metadata": {},
   "outputs": [
    {
     "data": {
      "text/plain": [
       "[<matplotlib.lines.Line2D at 0x29ab4195978>]"
      ]
     },
     "execution_count": 6,
     "metadata": {},
     "output_type": "execute_result"
    },
    {
     "data": {
      "image/png": "[encoded data removed]",
      "text/plain": [
       "<Figure size 432x288 with 1 Axes>"
      ]
     },
     "metadata": {
      "needs_background": "light"
     },
     "output_type": "display_data"
    }
   ],
   "source": [
    "plt.plot(f)"
   ]
  },
  {
   "cell_type": "code",
   "execution_count": 7,
   "id": "881cfb37",
   "metadata": {},
   "outputs": [],
   "source": [
    "def loss(actual,pred):\n",
    "    req_loss=0\n",
    "    for i in range(len(actual)):\n",
    "        req_loss+=pow(actual[i]-pred[i],2)\n",
    "    return req_loss/len(actual)"
   ]
  },
  {
   "cell_type": "code",
   "execution_count": 8,
   "id": "d66fe09f",
   "metadata": {},
   "outputs": [
    {
     "data": {
      "text/plain": [
       "5.763117934406326"
      ]
     },
     "execution_count": 8,
     "metadata": {},
     "output_type": "execute_result"
    }
   ],
   "source": [
    "loss(demo,f)"
   ]
  },
  {
   "cell_type": "code",
   "execution_count": 9,
   "id": "23c72379",
   "metadata": {},
   "outputs": [
    {
     "name": "stdout",
     "output_type": "stream",
     "text": [
      "0\n",
      "4\n",
      "20\n",
      "56\n",
      "120\n",
      "220\n",
      "364\n",
      "560\n",
      "816\n",
      "1140\n"
     ]
    }
   ],
   "source": [
    "m=0\n",
    "for i in range(10):\n",
    "    m+=pow(i+i,2)\n",
    "    print(m)"
   ]
  },
  {
   "cell_type": "code",
   "execution_count": 10,
   "id": "8f67035b",
   "metadata": {},
   "outputs": [
    {
     "data": {
      "text/plain": [
       "56"
      ]
     },
     "execution_count": 10,
     "metadata": {},
     "output_type": "execute_result"
    }
   ],
   "source": [
    "(1+1)**2+(2+2)**2+(3+3)**2"
   ]
  },
  {
   "cell_type": "code",
   "execution_count": 11,
   "id": "4e7f2ba3",
   "metadata": {},
   "outputs": [],
   "source": [
    "def float_range(start,end,step):\n",
    "    x=start\n",
    "    while x<=end:\n",
    "        yield x\n",
    "        x=x+step"
   ]
  },
  {
   "cell_type": "code",
   "execution_count": 12,
   "id": "b1f5b906",
   "metadata": {},
   "outputs": [],
   "source": [
    "rf=float_range(-0.5,0.5,0.1)"
   ]
  },
  {
   "cell_type": "code",
   "execution_count": 13,
   "id": "aeef5524",
   "metadata": {},
   "outputs": [
    {
     "name": "stdout",
     "output_type": "stream",
     "text": [
      "-0.5\n",
      "-0.4\n",
      "-0.30000000000000004\n",
      "-0.20000000000000004\n",
      "-0.10000000000000003\n",
      "-2.7755575615628914e-17\n",
      "0.09999999999999998\n",
      "0.19999999999999998\n",
      "0.3\n",
      "0.4\n",
      "0.5\n"
     ]
    }
   ],
   "source": [
    "for i in rf:\n",
    "    print(i)"
   ]
  },
  {
   "cell_type": "code",
   "execution_count": 14,
   "id": "dd4239b3",
   "metadata": {},
   "outputs": [],
   "source": [
    "def loss_fn(demo):\n",
    "    ls=[]\n",
    "    al=[]\n",
    "    for alpha in float_range(0,1,0.05):\n",
    "        al.append(alpha)\n",
    "        lm=loss(demo,forecast(demo,alpha))\n",
    "        ls.append(lm)\n",
    "    return ls,al"
   ]
  },
  {
   "cell_type": "code",
   "execution_count": 15,
   "id": "15601257",
   "metadata": {},
   "outputs": [
    {
     "data": {
      "text/plain": [
       "([119.11111111111111,\n",
       "  92.00343774980358,\n",
       "  71.87386165865126,\n",
       "  56.824005799095865,\n",
       "  45.484423766634926,\n",
       "  36.86691734691461,\n",
       "  30.257406725279978,\n",
       "  25.138604465973767,\n",
       "  21.134440690046276,\n",
       "  17.97025715055645,\n",
       "  15.444363064236127,\n",
       "  13.407732776560795,\n",
       "  11.74951154512327,\n",
       "  10.386650772615242,\n",
       "  9.25647345434858,\n",
       "  8.311318121022648,\n",
       "  7.514659126276547,\n",
       "  6.838278834911522,\n",
       "  6.260192878537866,\n",
       "  5.763117934406319],\n",
       " [0,\n",
       "  0.05,\n",
       "  0.1,\n",
       "  0.15000000000000002,\n",
       "  0.2,\n",
       "  0.25,\n",
       "  0.3,\n",
       "  0.35,\n",
       "  0.39999999999999997,\n",
       "  0.44999999999999996,\n",
       "  0.49999999999999994,\n",
       "  0.5499999999999999,\n",
       "  0.6,\n",
       "  0.65,\n",
       "  0.7000000000000001,\n",
       "  0.7500000000000001,\n",
       "  0.8000000000000002,\n",
       "  0.8500000000000002,\n",
       "  0.9000000000000002,\n",
       "  0.9500000000000003])"
      ]
     },
     "execution_count": 15,
     "metadata": {},
     "output_type": "execute_result"
    }
   ],
   "source": [
    "import numpy as np\n",
    "error=loss_fn(demo)\n",
    "loss_beta_reatio=np.array(error[1])/np.array(error[0])\n",
    "error"
   ]
  },
  {
   "cell_type": "code",
   "execution_count": 16,
   "id": "7e885c0b",
   "metadata": {
    "scrolled": true
   },
   "outputs": [
    {
     "data": {
      "text/plain": [
       "[<matplotlib.lines.Line2D at 0x29ab4212cc0>]"
      ]
     },
     "execution_count": 16,
     "metadata": {},
     "output_type": "execute_result"
    },
    {
     "data": {
      "image/png": "[encoded data removed]",
      "text/plain": [
       "<Figure size 432x288 with 1 Axes>"
      ]
     },
     "metadata": {
      "needs_background": "light"
     },
     "output_type": "display_data"
    }
   ],
   "source": [
    "plt.plot(error[0],error[1])"
   ]
  },
  {
   "cell_type": "code",
   "execution_count": 17,
   "id": "cf6d75ad",
   "metadata": {},
   "outputs": [],
   "source": [
    "#best beta for exponential moving Average is 35"
   ]
  },
  {
   "cell_type": "code",
   "execution_count": null,
   "id": "7c2800c3",
   "metadata": {},
   "outputs": [],
   "source": []
  }
 ],
 "metadata": {
  "kernelspec": {
   "display_name": "Python 3 (ipykernel)",
   "language": "python",
   "name": "python3"
  },
  "language_info": {
   "codemirror_mode": {
    "name": "ipython",
    "version": 3
   },
   "file_extension": ".py",
   "mimetype": "text/x-python",
   "name": "python",
   "nbconvert_exporter": "python",
   "pygments_lexer": "ipython3",
   "version": "3.7.3"
  }
 },
 "nbformat": 4,
 "nbformat_minor": 5
}

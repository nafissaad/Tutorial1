{
 "cells": [
  {
   "cell_type": "code",
   "execution_count": 1,
   "id": "702eead8",
   "metadata": {},
   "outputs": [],
   "source": [
    "#Exponential smoothing.\n",
    "#1 simple exponential Smoothing.when we dont have trend ,seasonality.it is kind of random\n",
    "#2 Doble Exponential Smoothing.when we have trend but no seasonality\n",
    "#3 Triple Exponential Smoothing.when we have both trend and seasonality\n",
    "\n",
    "#trend can be two type \n",
    "#Additive constant growth\n",
    "#Multiplicative  exponential growth"
   ]
  },
  {
   "cell_type": "code",
   "execution_count": 2,
   "id": "6b3633cd",
   "metadata": {},
   "outputs": [],
   "source": [
    "#!python -m pip install sktime"
   ]
  },
  {
   "cell_type": "code",
   "execution_count": 3,
   "id": "e80c853f",
   "metadata": {
    "scrolled": true
   },
   "outputs": [],
   "source": [
    "from sktime.datasets import load_airline\n",
    "from sktime.forecasting.model_selection import temporal_train_test_split\n",
    "import matplotlib.pyplot as plt\n",
    "from sktime.forecasting.exp_smoothing import ExponentialSmoothing\n",
    "import matplotlib.pyplot as plt\n",
    "import numpy as np"
   ]
  },
  {
   "cell_type": "code",
   "execution_count": 4,
   "id": "33de7d78",
   "metadata": {
    "scrolled": true
   },
   "outputs": [
    {
     "data": {
      "text/plain": [
       "Period\n",
       "1949-01    112.0\n",
       "1949-02    118.0\n",
       "1949-03    132.0\n",
       "1949-04    129.0\n",
       "1949-05    121.0\n",
       "           ...  \n",
       "1960-08    606.0\n",
       "1960-09    508.0\n",
       "1960-10    461.0\n",
       "1960-11    390.0\n",
       "1960-12    432.0\n",
       "Freq: M, Name: Number of airline passengers, Length: 144, dtype: float64"
      ]
     },
     "execution_count": 4,
     "metadata": {},
     "output_type": "execute_result"
    }
   ],
   "source": [
    "airline = load_airline()\n",
    "train, test = temporal_train_test_split(airline, test_size = 36)\n",
    "airline"
   ]
  },
  {
   "cell_type": "code",
   "execution_count": 5,
   "id": "a82cc269",
   "metadata": {},
   "outputs": [],
   "source": [
    "fh = list(range(1,37))"
   ]
  },
  {
   "cell_type": "code",
   "execution_count": 6,
   "id": "3a11253c",
   "metadata": {},
   "outputs": [],
   "source": [
    "simple_exp = ExponentialSmoothing(trend=None, seasonal=None)"
   ]
  },
  {
   "cell_type": "code",
   "execution_count": 7,
   "id": "5b4fb4fe",
   "metadata": {
    "scrolled": true
   },
   "outputs": [
    {
     "data": {
      "text/plain": [
       "ExponentialSmoothing()"
      ]
     },
     "execution_count": 7,
     "metadata": {},
     "output_type": "execute_result"
    }
   ],
   "source": [
    "simple_exp.fit(train)"
   ]
  },
  {
   "cell_type": "code",
   "execution_count": 8,
   "id": "eaa5f698",
   "metadata": {
    "scrolled": true
   },
   "outputs": [],
   "source": [
    "pred = simple_exp.predict(fh)"
   ]
  },
  {
   "cell_type": "code",
   "execution_count": 9,
   "id": "c7cc3475",
   "metadata": {},
   "outputs": [
    {
     "data": {
      "text/plain": [
       "1958-01    335.846057\n",
       "1958-02    335.846057\n",
       "1958-03    335.846057\n",
       "1958-04    335.846057\n",
       "1958-05    335.846057\n",
       "1958-06    335.846057\n",
       "1958-07    335.846057\n",
       "1958-08    335.846057\n",
       "1958-09    335.846057\n",
       "1958-10    335.846057\n",
       "1958-11    335.846057\n",
       "1958-12    335.846057\n",
       "1959-01    335.846057\n",
       "1959-02    335.846057\n",
       "1959-03    335.846057\n",
       "1959-04    335.846057\n",
       "1959-05    335.846057\n",
       "1959-06    335.846057\n",
       "1959-07    335.846057\n",
       "1959-08    335.846057\n",
       "1959-09    335.846057\n",
       "1959-10    335.846057\n",
       "1959-11    335.846057\n",
       "1959-12    335.846057\n",
       "1960-01    335.846057\n",
       "1960-02    335.846057\n",
       "1960-03    335.846057\n",
       "1960-04    335.846057\n",
       "1960-05    335.846057\n",
       "1960-06    335.846057\n",
       "1960-07    335.846057\n",
       "1960-08    335.846057\n",
       "1960-09    335.846057\n",
       "1960-10    335.846057\n",
       "1960-11    335.846057\n",
       "1960-12    335.846057\n",
       "Freq: M, Name: Number of airline passengers, dtype: float64"
      ]
     },
     "execution_count": 9,
     "metadata": {},
     "output_type": "execute_result"
    }
   ],
   "source": [
    "pred"
   ]
  },
  {
   "cell_type": "code",
   "execution_count": 10,
   "id": "6863772d",
   "metadata": {},
   "outputs": [
    {
     "name": "stderr",
     "output_type": "stream",
     "text": [
      "C:\\Users\\nafissaad\\AppData\\Local\\Programs\\Python\\Python37\\lib\\site-packages\\matplotlib\\cbook\\__init__.py:1377: FutureWarning: Support for multi-dimensional indexing (e.g. `obj[:, None]`) is deprecated and will be removed in a future version.  Convert to a numpy array before indexing instead.\n",
      "  x[:, None]\n",
      "C:\\Users\\nafissaad\\AppData\\Local\\Programs\\Python\\Python37\\lib\\site-packages\\matplotlib\\axes\\_base.py:237: FutureWarning: Support for multi-dimensional indexing (e.g. `obj[:, None]`) is deprecated and will be removed in a future version.  Convert to a numpy array before indexing instead.\n",
      "  x = x[:, np.newaxis]\n"
     ]
    },
    {
     "data": {
      "text/plain": [
       "[<matplotlib.lines.Line2D at 0x25550e70828>]"
      ]
     },
     "execution_count": 10,
     "metadata": {},
     "output_type": "execute_result"
    },
    {
     "data": {
      "image/png": "[encoded data removed]",
      "text/plain": [
       "<Figure size 432x288 with 1 Axes>"
      ]
     },
     "metadata": {
      "needs_background": "light"
     },
     "output_type": "display_data"
    }
   ],
   "source": [
    "plt.plot(pred.index,pred.values)\n",
    "plt.plot(train.index,train.values)\n",
    "plt.plot(test.index,test.values)"
   ]
  },
  {
   "cell_type": "code",
   "execution_count": 11,
   "id": "86f70f0a",
   "metadata": {},
   "outputs": [],
   "source": [
    "double_exp = ExponentialSmoothing(trend=\"add\", seasonal=None)"
   ]
  },
  {
   "cell_type": "code",
   "execution_count": 12,
   "id": "5634bfbb",
   "metadata": {},
   "outputs": [
    {
     "data": {
      "text/plain": [
       "ExponentialSmoothing(trend='add')"
      ]
     },
     "execution_count": 12,
     "metadata": {},
     "output_type": "execute_result"
    }
   ],
   "source": [
    "double_exp.fit(train)"
   ]
  },
  {
   "cell_type": "code",
   "execution_count": 13,
   "id": "83bd82a1",
   "metadata": {},
   "outputs": [],
   "source": [
    "pred = double_exp.predict(fh)"
   ]
  },
  {
   "cell_type": "code",
   "execution_count": 14,
   "id": "3ca75736",
   "metadata": {},
   "outputs": [
    {
     "data": {
      "text/plain": [
       "1958-01    337.916485\n",
       "1958-02    339.976576\n",
       "1958-03    342.036666\n",
       "1958-04    344.096756\n",
       "1958-05    346.156846\n",
       "1958-06    348.216937\n",
       "1958-07    350.277027\n",
       "1958-08    352.337117\n",
       "1958-09    354.397207\n",
       "1958-10    356.457298\n",
       "1958-11    358.517388\n",
       "1958-12    360.577478\n",
       "1959-01    362.637568\n",
       "1959-02    364.697659\n",
       "1959-03    366.757749\n",
       "1959-04    368.817839\n",
       "1959-05    370.877929\n",
       "1959-06    372.938020\n",
       "1959-07    374.998110\n",
       "1959-08    377.058200\n",
       "1959-09    379.118290\n",
       "1959-10    381.178381\n",
       "1959-11    383.238471\n",
       "1959-12    385.298561\n",
       "1960-01    387.358651\n",
       "1960-02    389.418742\n",
       "1960-03    391.478832\n",
       "1960-04    393.538922\n",
       "1960-05    395.599012\n",
       "1960-06    397.659103\n",
       "1960-07    399.719193\n",
       "1960-08    401.779283\n",
       "1960-09    403.839373\n",
       "1960-10    405.899464\n",
       "1960-11    407.959554\n",
       "1960-12    410.019644\n",
       "Freq: M, Name: Number of airline passengers, dtype: float64"
      ]
     },
     "execution_count": 14,
     "metadata": {},
     "output_type": "execute_result"
    }
   ],
   "source": [
    "pred"
   ]
  },
  {
   "cell_type": "code",
   "execution_count": 15,
   "id": "f9ba7673",
   "metadata": {},
   "outputs": [
    {
     "name": "stderr",
     "output_type": "stream",
     "text": [
      "C:\\Users\\nafissaad\\AppData\\Local\\Programs\\Python\\Python37\\lib\\site-packages\\ipykernel_launcher.py:1: FutureWarning: Support for multi-dimensional indexing (e.g. `obj[:, None]`) is deprecated and will be removed in a future version.  Convert to a numpy array before indexing instead.\n",
      "  \"\"\"Entry point for launching an IPython kernel.\n",
      "C:\\Users\\nafissaad\\AppData\\Local\\Programs\\Python\\Python37\\lib\\site-packages\\ipykernel_launcher.py:2: FutureWarning: Support for multi-dimensional indexing (e.g. `obj[:, None]`) is deprecated and will be removed in a future version.  Convert to a numpy array before indexing instead.\n",
      "  \n",
      "C:\\Users\\nafissaad\\AppData\\Local\\Programs\\Python\\Python37\\lib\\site-packages\\ipykernel_launcher.py:3: FutureWarning: Support for multi-dimensional indexing (e.g. `obj[:, None]`) is deprecated and will be removed in a future version.  Convert to a numpy array before indexing instead.\n",
      "  This is separate from the ipykernel package so we can avoid doing imports until\n"
     ]
    },
    {
     "data": {
      "text/plain": [
       "[<matplotlib.lines.Line2D at 0x25551f66940>]"
      ]
     },
     "execution_count": 15,
     "metadata": {},
     "output_type": "execute_result"
    },
    {
     "data": {
      "image/png": "[encoded data removed]",
      "text/plain": [
       "<Figure size 432x288 with 1 Axes>"
      ]
     },
     "metadata": {
      "needs_background": "light"
     },
     "output_type": "display_data"
    }
   ],
   "source": [
    "plt.plot(pred.index[:,None],np.array(pred.values))\n",
    "plt.plot(train.index[:,None],train.values)\n",
    "plt.plot(test.index[:,None],test.values)"
   ]
  },
  {
   "cell_type": "code",
   "execution_count": 16,
   "id": "61c0d816",
   "metadata": {},
   "outputs": [],
   "source": [
    "triple_Exp = ExponentialSmoothing(trend=\"add\", seasonal=\"add\", sp=12)"
   ]
  },
  {
   "cell_type": "code",
   "execution_count": 17,
   "id": "f043c3c3",
   "metadata": {},
   "outputs": [
    {
     "data": {
      "text/plain": [
       "ExponentialSmoothing(seasonal='add', sp=12, trend='add')"
      ]
     },
     "execution_count": 17,
     "metadata": {},
     "output_type": "execute_result"
    }
   ],
   "source": [
    "triple_Exp.fit(train)"
   ]
  },
  {
   "cell_type": "code",
   "execution_count": 18,
   "id": "b8356a80",
   "metadata": {},
   "outputs": [],
   "source": [
    "pred = triple_Exp.predict(fh)"
   ]
  },
  {
   "cell_type": "code",
   "execution_count": 19,
   "id": "7cc03685",
   "metadata": {},
   "outputs": [
    {
     "name": "stderr",
     "output_type": "stream",
     "text": [
      "C:\\Users\\nafissaad\\AppData\\Local\\Programs\\Python\\Python37\\lib\\site-packages\\matplotlib\\cbook\\__init__.py:1377: FutureWarning: Support for multi-dimensional indexing (e.g. `obj[:, None]`) is deprecated and will be removed in a future version.  Convert to a numpy array before indexing instead.\n",
      "  x[:, None]\n",
      "C:\\Users\\nafissaad\\AppData\\Local\\Programs\\Python\\Python37\\lib\\site-packages\\matplotlib\\axes\\_base.py:237: FutureWarning: Support for multi-dimensional indexing (e.g. `obj[:, None]`) is deprecated and will be removed in a future version.  Convert to a numpy array before indexing instead.\n",
      "  x = x[:, np.newaxis]\n"
     ]
    },
    {
     "data": {
      "text/plain": [
       "[<matplotlib.lines.Line2D at 0x25551fe64a8>]"
      ]
     },
     "execution_count": 19,
     "metadata": {},
     "output_type": "execute_result"
    },
    {
     "data": {
      "image/png": "[encoded data removed]",
      "text/plain": [
       "<Figure size 432x288 with 1 Axes>"
      ]
     },
     "metadata": {
      "needs_background": "light"
     },
     "output_type": "display_data"
    }
   ],
   "source": [
    "plt.plot(pred.index,np.array(pred.values))\n",
    "plt.plot(train.index,np.array(train.values))\n",
    "plt.plot(test.index,np.array(test.values))"
   ]
  },
  {
   "cell_type": "code",
   "execution_count": 20,
   "id": "5879880c",
   "metadata": {},
   "outputs": [],
   "source": [
    "triple_Exp = ExponentialSmoothing(trend=\"add\", seasonal=\"mul\", sp=12)"
   ]
  },
  {
   "cell_type": "code",
   "execution_count": 21,
   "id": "dd7a277b",
   "metadata": {},
   "outputs": [
    {
     "data": {
      "text/plain": [
       "ExponentialSmoothing(seasonal='mul', sp=12, trend='add')"
      ]
     },
     "execution_count": 21,
     "metadata": {},
     "output_type": "execute_result"
    }
   ],
   "source": [
    "triple_Exp.fit(train)"
   ]
  },
  {
   "cell_type": "code",
   "execution_count": 22,
   "id": "27bdb852",
   "metadata": {},
   "outputs": [],
   "source": [
    "pred = triple_Exp.predict(fh)"
   ]
  },
  {
   "cell_type": "code",
   "execution_count": 23,
   "id": "28fb461e",
   "metadata": {},
   "outputs": [
    {
     "name": "stderr",
     "output_type": "stream",
     "text": [
      "C:\\Users\\nafissaad\\AppData\\Local\\Programs\\Python\\Python37\\lib\\site-packages\\matplotlib\\cbook\\__init__.py:1377: FutureWarning: Support for multi-dimensional indexing (e.g. `obj[:, None]`) is deprecated and will be removed in a future version.  Convert to a numpy array before indexing instead.\n",
      "  x[:, None]\n",
      "C:\\Users\\nafissaad\\AppData\\Local\\Programs\\Python\\Python37\\lib\\site-packages\\matplotlib\\axes\\_base.py:237: FutureWarning: Support for multi-dimensional indexing (e.g. `obj[:, None]`) is deprecated and will be removed in a future version.  Convert to a numpy array before indexing instead.\n",
      "  x = x[:, np.newaxis]\n"
     ]
    },
    {
     "data": {
      "text/plain": [
       "[<matplotlib.lines.Line2D at 0x25552049ac8>]"
      ]
     },
     "execution_count": 23,
     "metadata": {},
     "output_type": "execute_result"
    },
    {
     "data": {
      "image/png": "[encoded data removed]",
      "text/plain": [
       "<Figure size 432x288 with 1 Axes>"
      ]
     },
     "metadata": {
      "needs_background": "light"
     },
     "output_type": "display_data"
    }
   ],
   "source": [
    "plt.plot(pred.index,np.array(pred.values))\n",
    "plt.plot(train.index,np.array(train.values))\n",
    "plt.plot(test.index,np.array(test.values))"
   ]
  },
  {
   "cell_type": "code",
   "execution_count": 24,
   "id": "d717a779",
   "metadata": {
    "scrolled": true
   },
   "outputs": [
    {
     "data": {
      "text/html": [
       "<div>\n",
       "<style scoped>\n",
       "    .dataframe tbody tr th:only-of-type {\n",
       "        vertical-align: middle;\n",
       "    }\n",
       "\n",
       "    .dataframe tbody tr th {\n",
       "        vertical-align: top;\n",
       "    }\n",
       "\n",
       "    .dataframe thead th {\n",
       "        text-align: right;\n",
       "    }\n",
       "</style>\n",
       "<table border=\"1\" class=\"dataframe\">\n",
       "  <thead>\n",
       "    <tr style=\"text-align: right;\">\n",
       "      <th></th>\n",
       "      <th>sales</th>\n",
       "    </tr>\n",
       "    <tr>\n",
       "      <th>date</th>\n",
       "      <th></th>\n",
       "    </tr>\n",
       "  </thead>\n",
       "  <tbody>\n",
       "    <tr>\n",
       "      <th>2018-01-01</th>\n",
       "      <td>477.0</td>\n",
       "    </tr>\n",
       "    <tr>\n",
       "      <th>2018-01-02</th>\n",
       "      <td>365.0</td>\n",
       "    </tr>\n",
       "    <tr>\n",
       "      <th>2018-01-03</th>\n",
       "      <td>442.0</td>\n",
       "    </tr>\n",
       "    <tr>\n",
       "      <th>2018-01-04</th>\n",
       "      <td>490.0</td>\n",
       "    </tr>\n",
       "    <tr>\n",
       "      <th>2018-01-05</th>\n",
       "      <td>396.0</td>\n",
       "    </tr>\n",
       "    <tr>\n",
       "      <th>...</th>\n",
       "      <td>...</td>\n",
       "    </tr>\n",
       "    <tr>\n",
       "      <th>2019-12-27</th>\n",
       "      <td>133.0</td>\n",
       "    </tr>\n",
       "    <tr>\n",
       "      <th>2019-12-28</th>\n",
       "      <td>214.1</td>\n",
       "    </tr>\n",
       "    <tr>\n",
       "      <th>2019-12-29</th>\n",
       "      <td>85.5</td>\n",
       "    </tr>\n",
       "    <tr>\n",
       "      <th>2019-12-30</th>\n",
       "      <td>182.9</td>\n",
       "    </tr>\n",
       "    <tr>\n",
       "      <th>2019-12-31</th>\n",
       "      <td>322.7</td>\n",
       "    </tr>\n",
       "  </tbody>\n",
       "</table>\n",
       "<p>704 rows × 1 columns</p>\n",
       "</div>"
      ],
      "text/plain": [
       "            sales\n",
       "date             \n",
       "2018-01-01  477.0\n",
       "2018-01-02  365.0\n",
       "2018-01-03  442.0\n",
       "2018-01-04  490.0\n",
       "2018-01-05  396.0\n",
       "...           ...\n",
       "2019-12-27  133.0\n",
       "2019-12-28  214.1\n",
       "2019-12-29   85.5\n",
       "2019-12-30  182.9\n",
       "2019-12-31  322.7\n",
       "\n",
       "[704 rows x 1 columns]"
      ]
     },
     "execution_count": 24,
     "metadata": {},
     "output_type": "execute_result"
    }
   ],
   "source": [
    "import pandas as pd\n",
    "df=pd.read_csv('dailysales.csv',parse_dates=['date'],index_col='date')\n",
    "df"
   ]
  },
  {
   "cell_type": "code",
   "execution_count": 25,
   "id": "3b1405f6",
   "metadata": {},
   "outputs": [
    {
     "data": {
      "text/html": [
       "<div>\n",
       "<style scoped>\n",
       "    .dataframe tbody tr th:only-of-type {\n",
       "        vertical-align: middle;\n",
       "    }\n",
       "\n",
       "    .dataframe tbody tr th {\n",
       "        vertical-align: top;\n",
       "    }\n",
       "\n",
       "    .dataframe thead th {\n",
       "        text-align: right;\n",
       "    }\n",
       "</style>\n",
       "<table border=\"1\" class=\"dataframe\">\n",
       "  <thead>\n",
       "    <tr style=\"text-align: right;\">\n",
       "      <th></th>\n",
       "      <th>sales</th>\n",
       "    </tr>\n",
       "    <tr>\n",
       "      <th>date</th>\n",
       "      <th></th>\n",
       "    </tr>\n",
       "  </thead>\n",
       "  <tbody>\n",
       "    <tr>\n",
       "      <th>2018-01-01</th>\n",
       "      <td>477.0</td>\n",
       "    </tr>\n",
       "    <tr>\n",
       "      <th>2018-01-02</th>\n",
       "      <td>365.0</td>\n",
       "    </tr>\n",
       "    <tr>\n",
       "      <th>2018-01-03</th>\n",
       "      <td>442.0</td>\n",
       "    </tr>\n",
       "    <tr>\n",
       "      <th>2018-01-04</th>\n",
       "      <td>490.0</td>\n",
       "    </tr>\n",
       "    <tr>\n",
       "      <th>2018-01-05</th>\n",
       "      <td>396.0</td>\n",
       "    </tr>\n",
       "  </tbody>\n",
       "</table>\n",
       "</div>"
      ],
      "text/plain": [
       "            sales\n",
       "date             \n",
       "2018-01-01  477.0\n",
       "2018-01-02  365.0\n",
       "2018-01-03  442.0\n",
       "2018-01-04  490.0\n",
       "2018-01-05  396.0"
      ]
     },
     "execution_count": 25,
     "metadata": {},
     "output_type": "execute_result"
    }
   ],
   "source": [
    "df=df.groupby('date').sum()\n",
    "df.head()"
   ]
  },
  {
   "cell_type": "code",
   "execution_count": 26,
   "id": "12c941e7",
   "metadata": {},
   "outputs": [
    {
     "data": {
      "text/html": [
       "<div>\n",
       "<style scoped>\n",
       "    .dataframe tbody tr th:only-of-type {\n",
       "        vertical-align: middle;\n",
       "    }\n",
       "\n",
       "    .dataframe tbody tr th {\n",
       "        vertical-align: top;\n",
       "    }\n",
       "\n",
       "    .dataframe thead th {\n",
       "        text-align: right;\n",
       "    }\n",
       "</style>\n",
       "<table border=\"1\" class=\"dataframe\">\n",
       "  <thead>\n",
       "    <tr style=\"text-align: right;\">\n",
       "      <th></th>\n",
       "      <th>sales</th>\n",
       "    </tr>\n",
       "    <tr>\n",
       "      <th>date</th>\n",
       "      <th></th>\n",
       "    </tr>\n",
       "  </thead>\n",
       "  <tbody>\n",
       "    <tr>\n",
       "      <th>2018-01-31</th>\n",
       "      <td>9035.00</td>\n",
       "    </tr>\n",
       "    <tr>\n",
       "      <th>2018-02-28</th>\n",
       "      <td>9571.00</td>\n",
       "    </tr>\n",
       "    <tr>\n",
       "      <th>2018-03-31</th>\n",
       "      <td>13143.00</td>\n",
       "    </tr>\n",
       "    <tr>\n",
       "      <th>2018-04-30</th>\n",
       "      <td>12427.00</td>\n",
       "    </tr>\n",
       "    <tr>\n",
       "      <th>2018-05-31</th>\n",
       "      <td>8133.00</td>\n",
       "    </tr>\n",
       "    <tr>\n",
       "      <th>2018-06-30</th>\n",
       "      <td>7437.00</td>\n",
       "    </tr>\n",
       "    <tr>\n",
       "      <th>2018-07-31</th>\n",
       "      <td>11758.00</td>\n",
       "    </tr>\n",
       "    <tr>\n",
       "      <th>2018-08-31</th>\n",
       "      <td>9992.00</td>\n",
       "    </tr>\n",
       "    <tr>\n",
       "      <th>2018-09-30</th>\n",
       "      <td>7216.00</td>\n",
       "    </tr>\n",
       "    <tr>\n",
       "      <th>2018-10-31</th>\n",
       "      <td>5852.00</td>\n",
       "    </tr>\n",
       "    <tr>\n",
       "      <th>2018-11-30</th>\n",
       "      <td>10813.00</td>\n",
       "    </tr>\n",
       "    <tr>\n",
       "      <th>2018-12-31</th>\n",
       "      <td>6355.00</td>\n",
       "    </tr>\n",
       "    <tr>\n",
       "      <th>2019-01-31</th>\n",
       "      <td>5644.35</td>\n",
       "    </tr>\n",
       "    <tr>\n",
       "      <th>2019-02-28</th>\n",
       "      <td>6354.35</td>\n",
       "    </tr>\n",
       "    <tr>\n",
       "      <th>2019-03-31</th>\n",
       "      <td>8188.55</td>\n",
       "    </tr>\n",
       "    <tr>\n",
       "      <th>2019-04-30</th>\n",
       "      <td>7894.25</td>\n",
       "    </tr>\n",
       "    <tr>\n",
       "      <th>2019-05-31</th>\n",
       "      <td>5397.40</td>\n",
       "    </tr>\n",
       "    <tr>\n",
       "      <th>2019-06-30</th>\n",
       "      <td>5012.80</td>\n",
       "    </tr>\n",
       "    <tr>\n",
       "      <th>2019-07-31</th>\n",
       "      <td>7837.30</td>\n",
       "    </tr>\n",
       "    <tr>\n",
       "      <th>2019-08-31</th>\n",
       "      <td>6207.00</td>\n",
       "    </tr>\n",
       "    <tr>\n",
       "      <th>2019-09-30</th>\n",
       "      <td>4379.25</td>\n",
       "    </tr>\n",
       "    <tr>\n",
       "      <th>2019-10-31</th>\n",
       "      <td>4043.45</td>\n",
       "    </tr>\n",
       "    <tr>\n",
       "      <th>2019-11-30</th>\n",
       "      <td>6406.95</td>\n",
       "    </tr>\n",
       "    <tr>\n",
       "      <th>2019-12-31</th>\n",
       "      <td>4867.25</td>\n",
       "    </tr>\n",
       "  </tbody>\n",
       "</table>\n",
       "</div>"
      ],
      "text/plain": [
       "               sales\n",
       "date                \n",
       "2018-01-31   9035.00\n",
       "2018-02-28   9571.00\n",
       "2018-03-31  13143.00\n",
       "2018-04-30  12427.00\n",
       "2018-05-31   8133.00\n",
       "2018-06-30   7437.00\n",
       "2018-07-31  11758.00\n",
       "2018-08-31   9992.00\n",
       "2018-09-30   7216.00\n",
       "2018-10-31   5852.00\n",
       "2018-11-30  10813.00\n",
       "2018-12-31   6355.00\n",
       "2019-01-31   5644.35\n",
       "2019-02-28   6354.35\n",
       "2019-03-31   8188.55\n",
       "2019-04-30   7894.25\n",
       "2019-05-31   5397.40\n",
       "2019-06-30   5012.80\n",
       "2019-07-31   7837.30\n",
       "2019-08-31   6207.00\n",
       "2019-09-30   4379.25\n",
       "2019-10-31   4043.45\n",
       "2019-11-30   6406.95\n",
       "2019-12-31   4867.25"
      ]
     },
     "execution_count": 26,
     "metadata": {},
     "output_type": "execute_result"
    }
   ],
   "source": [
    "df=df.resample(rule='M').sum()#same job weekly process\n",
    "df"
   ]
  },
  {
   "cell_type": "code",
   "execution_count": 27,
   "id": "2d24583e",
   "metadata": {},
   "outputs": [
    {
     "data": {
      "text/plain": [
       "<matplotlib.axes._subplots.AxesSubplot at 0x2555210bf28>"
      ]
     },
     "execution_count": 27,
     "metadata": {},
     "output_type": "execute_result"
    },
    {
     "data": {
      "image/png": "[encoded data removed]",
      "text/plain": [
       "<Figure size 432x288 with 1 Axes>"
      ]
     },
     "metadata": {
      "needs_background": "light"
     },
     "output_type": "display_data"
    }
   ],
   "source": [
    "df.plot()"
   ]
  },
  {
   "cell_type": "code",
   "execution_count": 28,
   "id": "08a70531",
   "metadata": {},
   "outputs": [],
   "source": [
    "import statsmodels.api as sm\n",
    "from statsmodels.tsa.seasonal import seasonal_decompose"
   ]
  },
  {
   "cell_type": "code",
   "execution_count": 29,
   "id": "038c3e2e",
   "metadata": {},
   "outputs": [],
   "source": [
    "train=df[:18]\n",
    "test=df[17:]"
   ]
  },
  {
   "cell_type": "code",
   "execution_count": 30,
   "id": "c8cd2a14",
   "metadata": {},
   "outputs": [
    {
     "data": {
      "text/html": [
       "<div>\n",
       "<style scoped>\n",
       "    .dataframe tbody tr th:only-of-type {\n",
       "        vertical-align: middle;\n",
       "    }\n",
       "\n",
       "    .dataframe tbody tr th {\n",
       "        vertical-align: top;\n",
       "    }\n",
       "\n",
       "    .dataframe thead th {\n",
       "        text-align: right;\n",
       "    }\n",
       "</style>\n",
       "<table border=\"1\" class=\"dataframe\">\n",
       "  <thead>\n",
       "    <tr style=\"text-align: right;\">\n",
       "      <th></th>\n",
       "      <th>sales</th>\n",
       "    </tr>\n",
       "    <tr>\n",
       "      <th>date</th>\n",
       "      <th></th>\n",
       "    </tr>\n",
       "  </thead>\n",
       "  <tbody>\n",
       "    <tr>\n",
       "      <th>2019-02-28</th>\n",
       "      <td>6354.35</td>\n",
       "    </tr>\n",
       "    <tr>\n",
       "      <th>2019-03-31</th>\n",
       "      <td>8188.55</td>\n",
       "    </tr>\n",
       "    <tr>\n",
       "      <th>2019-04-30</th>\n",
       "      <td>7894.25</td>\n",
       "    </tr>\n",
       "    <tr>\n",
       "      <th>2019-05-31</th>\n",
       "      <td>5397.40</td>\n",
       "    </tr>\n",
       "    <tr>\n",
       "      <th>2019-06-30</th>\n",
       "      <td>5012.80</td>\n",
       "    </tr>\n",
       "  </tbody>\n",
       "</table>\n",
       "</div>"
      ],
      "text/plain": [
       "              sales\n",
       "date               \n",
       "2019-02-28  6354.35\n",
       "2019-03-31  8188.55\n",
       "2019-04-30  7894.25\n",
       "2019-05-31  5397.40\n",
       "2019-06-30  5012.80"
      ]
     },
     "execution_count": 30,
     "metadata": {},
     "output_type": "execute_result"
    }
   ],
   "source": [
    "train.tail()"
   ]
  },
  {
   "cell_type": "code",
   "execution_count": 31,
   "id": "458de7ad",
   "metadata": {},
   "outputs": [
    {
     "data": {
      "image/png": "[encoded data removed]",
      "text/plain": [
       "<Figure size 432x288 with 4 Axes>"
      ]
     },
     "metadata": {
      "needs_background": "light"
     },
     "output_type": "display_data"
    }
   ],
   "source": [
    "decompose_result = seasonal_decompose(df,model='additive',period=4).plot()"
   ]
  },
  {
   "cell_type": "code",
   "execution_count": 32,
   "id": "dc6024ac",
   "metadata": {},
   "outputs": [],
   "source": [
    "#Holt Winters Model\n",
    "from statsmodels.tsa.holtwinters import ExponentialSmoothing\n",
    "hwmodel=ExponentialSmoothing(train.sales,trend='add',seasonal='Mul',seasonal_periods=4).fit()"
   ]
  },
  {
   "cell_type": "code",
   "execution_count": 33,
   "id": "e6a505b6",
   "metadata": {},
   "outputs": [
    {
     "data": {
      "text/plain": [
       "2019-07-31    7022.367264\n",
       "2019-08-31    5837.847047\n",
       "2019-09-30    4034.605851\n",
       "2019-10-31    3815.824133\n",
       "2019-11-30    5613.184864\n",
       "Freq: M, dtype: float64"
      ]
     },
     "execution_count": 33,
     "metadata": {},
     "output_type": "execute_result"
    }
   ],
   "source": [
    "test_pred=hwmodel.forecast(5)\n",
    "test_pred"
   ]
  },
  {
   "cell_type": "code",
   "execution_count": 34,
   "id": "8775d11d",
   "metadata": {
    "scrolled": true
   },
   "outputs": [
    {
     "data": {
      "text/plain": [
       "<matplotlib.legend.Legend at 0x2555233f940>"
      ]
     },
     "execution_count": 34,
     "metadata": {},
     "output_type": "execute_result"
    },
    {
     "data": {
      "image/png": "[encoded data removed]",
      "text/plain": [
       "<Figure size 432x288 with 1 Axes>"
      ]
     },
     "metadata": {
      "needs_background": "light"
     },
     "output_type": "display_data"
    }
   ],
   "source": [
    "plt.plot(test_pred,label='Predicted')\n",
    "plt.plot(train,label='Train')\n",
    "plt.plot(test,label='Test')\n",
    "plt.xticks(rotation=45)\n",
    "plt.legend()"
   ]
  },
  {
   "cell_type": "code",
   "execution_count": 35,
   "id": "b4c76cfc",
   "metadata": {},
   "outputs": [
    {
     "data": {
      "text/plain": [
       "[1, 2, 3, 4, 5]"
      ]
     },
     "execution_count": 35,
     "metadata": {},
     "output_type": "execute_result"
    }
   ],
   "source": [
    "fh = list(range(1,6))\n",
    "fh"
   ]
  },
  {
   "cell_type": "code",
   "execution_count": 36,
   "id": "aee08b42",
   "metadata": {
    "scrolled": true
   },
   "outputs": [
    {
     "data": {
      "text/plain": [
       "date\n",
       "2018-01-31     9035.00\n",
       "2018-02-28     9571.00\n",
       "2018-03-31    13143.00\n",
       "2018-04-30    12427.00\n",
       "2018-05-31     8133.00\n",
       "2018-06-30     7437.00\n",
       "2018-07-31    11758.00\n",
       "2018-08-31     9992.00\n",
       "2018-09-30     7216.00\n",
       "2018-10-31     5852.00\n",
       "2018-11-30    10813.00\n",
       "2018-12-31     6355.00\n",
       "2019-01-31     5644.35\n",
       "2019-02-28     6354.35\n",
       "2019-03-31     8188.55\n",
       "2019-04-30     7894.25\n",
       "2019-05-31     5397.40\n",
       "2019-06-30     5012.80\n",
       "Freq: M, Name: sales, dtype: float64"
      ]
     },
     "execution_count": 36,
     "metadata": {},
     "output_type": "execute_result"
    }
   ],
   "source": [
    "train1=train.sales\n",
    "train1"
   ]
  },
  {
   "cell_type": "code",
   "execution_count": 37,
   "id": "4b242060",
   "metadata": {},
   "outputs": [],
   "source": [
    "from sktime.forecasting.exp_smoothing import ExponentialSmoothing\n",
    "triple_Exp = ExponentialSmoothing(trend=\"add\", seasonal=\"mul\", sp=4)"
   ]
  },
  {
   "cell_type": "code",
   "execution_count": 38,
   "id": "694bba5e",
   "metadata": {},
   "outputs": [
    {
     "data": {
      "text/plain": [
       "ExponentialSmoothing(seasonal='mul', sp=4, trend='add')"
      ]
     },
     "execution_count": 38,
     "metadata": {},
     "output_type": "execute_result"
    }
   ],
   "source": [
    "triple_Exp.fit(train)"
   ]
  },
  {
   "cell_type": "code",
   "execution_count": 39,
   "id": "dd2fb278",
   "metadata": {},
   "outputs": [
    {
     "data": {
      "text/html": [
       "<div>\n",
       "<style scoped>\n",
       "    .dataframe tbody tr th:only-of-type {\n",
       "        vertical-align: middle;\n",
       "    }\n",
       "\n",
       "    .dataframe tbody tr th {\n",
       "        vertical-align: top;\n",
       "    }\n",
       "\n",
       "    .dataframe thead th {\n",
       "        text-align: right;\n",
       "    }\n",
       "</style>\n",
       "<table border=\"1\" class=\"dataframe\">\n",
       "  <thead>\n",
       "    <tr style=\"text-align: right;\">\n",
       "      <th></th>\n",
       "      <th>sales</th>\n",
       "    </tr>\n",
       "  </thead>\n",
       "  <tbody>\n",
       "    <tr>\n",
       "      <th>2019-07-31</th>\n",
       "      <td>7022.367264</td>\n",
       "    </tr>\n",
       "    <tr>\n",
       "      <th>2019-08-31</th>\n",
       "      <td>5837.847047</td>\n",
       "    </tr>\n",
       "    <tr>\n",
       "      <th>2019-09-30</th>\n",
       "      <td>4034.605851</td>\n",
       "    </tr>\n",
       "    <tr>\n",
       "      <th>2019-10-31</th>\n",
       "      <td>3815.824133</td>\n",
       "    </tr>\n",
       "    <tr>\n",
       "      <th>2019-11-30</th>\n",
       "      <td>5613.184864</td>\n",
       "    </tr>\n",
       "  </tbody>\n",
       "</table>\n",
       "</div>"
      ],
      "text/plain": [
       "                  sales\n",
       "2019-07-31  7022.367264\n",
       "2019-08-31  5837.847047\n",
       "2019-09-30  4034.605851\n",
       "2019-10-31  3815.824133\n",
       "2019-11-30  5613.184864"
      ]
     },
     "execution_count": 39,
     "metadata": {},
     "output_type": "execute_result"
    }
   ],
   "source": [
    "triple_Exp.predict(fh)"
   ]
  },
  {
   "cell_type": "code",
   "execution_count": 40,
   "id": "a152c172",
   "metadata": {},
   "outputs": [],
   "source": [
    "pred = triple_Exp.predict(fh)"
   ]
  },
  {
   "cell_type": "code",
   "execution_count": 41,
   "id": "6377d950",
   "metadata": {},
   "outputs": [
    {
     "data": {
      "text/html": [
       "<div>\n",
       "<style scoped>\n",
       "    .dataframe tbody tr th:only-of-type {\n",
       "        vertical-align: middle;\n",
       "    }\n",
       "\n",
       "    .dataframe tbody tr th {\n",
       "        vertical-align: top;\n",
       "    }\n",
       "\n",
       "    .dataframe thead th {\n",
       "        text-align: right;\n",
       "    }\n",
       "</style>\n",
       "<table border=\"1\" class=\"dataframe\">\n",
       "  <thead>\n",
       "    <tr style=\"text-align: right;\">\n",
       "      <th></th>\n",
       "      <th>sales</th>\n",
       "    </tr>\n",
       "  </thead>\n",
       "  <tbody>\n",
       "    <tr>\n",
       "      <th>2019-07-31</th>\n",
       "      <td>7022.367264</td>\n",
       "    </tr>\n",
       "    <tr>\n",
       "      <th>2019-08-31</th>\n",
       "      <td>5837.847047</td>\n",
       "    </tr>\n",
       "    <tr>\n",
       "      <th>2019-09-30</th>\n",
       "      <td>4034.605851</td>\n",
       "    </tr>\n",
       "    <tr>\n",
       "      <th>2019-10-31</th>\n",
       "      <td>3815.824133</td>\n",
       "    </tr>\n",
       "    <tr>\n",
       "      <th>2019-11-30</th>\n",
       "      <td>5613.184864</td>\n",
       "    </tr>\n",
       "  </tbody>\n",
       "</table>\n",
       "</div>"
      ],
      "text/plain": [
       "                  sales\n",
       "2019-07-31  7022.367264\n",
       "2019-08-31  5837.847047\n",
       "2019-09-30  4034.605851\n",
       "2019-10-31  3815.824133\n",
       "2019-11-30  5613.184864"
      ]
     },
     "execution_count": 41,
     "metadata": {},
     "output_type": "execute_result"
    }
   ],
   "source": [
    "pred"
   ]
  },
  {
   "cell_type": "code",
   "execution_count": 42,
   "id": "557ec301",
   "metadata": {},
   "outputs": [
    {
     "data": {
      "text/plain": [
       "<matplotlib.legend.Legend at 0x255523c46d8>"
      ]
     },
     "execution_count": 42,
     "metadata": {},
     "output_type": "execute_result"
    },
    {
     "data": {
      "image/png": "[encoded data removed]",
      "text/plain": [
       "<Figure size 432x288 with 1 Axes>"
      ]
     },
     "metadata": {
      "needs_background": "light"
     },
     "output_type": "display_data"
    }
   ],
   "source": [
    "plt.plot(pred,label='Predicted')\n",
    "plt.plot(train,label='Train')\n",
    "plt.plot(test,label='Test')\n",
    "plt.xticks(rotation=45)\n",
    "plt.legend()"
   ]
  }
 ],
 "metadata": {
  "kernelspec": {
   "display_name": "Python 3 (ipykernel)",
   "language": "python",
   "name": "python3"
  },
  "language_info": {
   "codemirror_mode": {
    "name": "ipython",
    "version": 3
   },
   "file_extension": ".py",
   "mimetype": "text/x-python",
   "name": "python",
   "nbconvert_exporter": "python",
   "pygments_lexer": "ipython3",
   "version": "3.7.3"
  }
 },
 "nbformat": 4,
 "nbformat_minor": 5
}

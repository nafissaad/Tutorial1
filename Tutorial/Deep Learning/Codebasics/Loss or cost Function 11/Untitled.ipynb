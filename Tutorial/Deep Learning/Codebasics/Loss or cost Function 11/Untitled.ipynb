{
 "cells": [
  {
   "cell_type": "code",
   "execution_count": 1,
   "id": "fa3635e2",
   "metadata": {},
   "outputs": [],
   "source": [
    "import numpy as np\n",
    "y_predict=np.array([1,1,0,0,1])\n",
    "y_true=np.array([0.30,0.7,1,0,0.5])"
   ]
  },
  {
   "cell_type": "code",
   "execution_count": 2,
   "id": "9c5b3372",
   "metadata": {},
   "outputs": [],
   "source": [
    "def Mse(y_true,y_predict):\n",
    "    total_error=0\n",
    "    for yt,yp in zip(y_true,y_predict):\n",
    "        print(yt,yp)"
   ]
  },
  {
   "cell_type": "code",
   "execution_count": 3,
   "id": "8b412cbe",
   "metadata": {},
   "outputs": [
    {
     "name": "stdout",
     "output_type": "stream",
     "text": [
      "0.3 1\n",
      "0.7 1\n",
      "1.0 0\n",
      "0.0 0\n",
      "0.5 1\n"
     ]
    }
   ],
   "source": [
    "Mse(y_true,y_predict)"
   ]
  },
  {
   "cell_type": "code",
   "execution_count": 4,
   "id": "cdb8ecc6",
   "metadata": {},
   "outputs": [],
   "source": [
    "def Mse(y_true,y_predict):\n",
    "    total_error=0\n",
    "    for yt,yp in zip(y_true,y_predict):\n",
    "        total_error += abs(yt-yp)#calculating error and sum it up at each itration\n",
    "    print('Total Error',total_error)\n",
    "    mse=total_error/len(y_true)#both the array has same length 2\n",
    "    print('Mse:',mse)\n",
    "    return mse"
   ]
  },
  {
   "cell_type": "code",
   "execution_count": 5,
   "id": "43fcabbb",
   "metadata": {},
   "outputs": [
    {
     "name": "stdout",
     "output_type": "stream",
     "text": [
      "Total Error 2.5\n",
      "Mse: 0.5\n"
     ]
    },
    {
     "data": {
      "text/plain": [
       "0.5"
      ]
     },
     "execution_count": 5,
     "metadata": {},
     "output_type": "execute_result"
    }
   ],
   "source": [
    "Mse(y_true,y_predict)"
   ]
  },
  {
   "cell_type": "code",
   "execution_count": 6,
   "id": "fe361b16",
   "metadata": {},
   "outputs": [
    {
     "data": {
      "text/plain": [
       "array([ 0.7,  0.3, -1. ,  0. ,  0.5])"
      ]
     },
     "execution_count": 6,
     "metadata": {},
     "output_type": "execute_result"
    }
   ],
   "source": [
    "#numpy can do the same with its vector propertird\n",
    "y_predict-y_true"
   ]
  },
  {
   "cell_type": "code",
   "execution_count": 7,
   "id": "81381051",
   "metadata": {},
   "outputs": [
    {
     "data": {
      "text/plain": [
       "array([0.7, 0.3, 1. , 0. , 0.5])"
      ]
     },
     "execution_count": 7,
     "metadata": {},
     "output_type": "execute_result"
    }
   ],
   "source": [
    "np.abs(y_predict-y_true)"
   ]
  },
  {
   "cell_type": "code",
   "execution_count": 8,
   "id": "56dd930b",
   "metadata": {},
   "outputs": [
    {
     "data": {
      "text/plain": [
       "0.5"
      ]
     },
     "execution_count": 8,
     "metadata": {},
     "output_type": "execute_result"
    }
   ],
   "source": [
    "np.mean(np.abs(y_predict-y_true))#just one line of code to excecute whole process"
   ]
  },
  {
   "cell_type": "code",
   "execution_count": 9,
   "id": "7d3dea4d",
   "metadata": {},
   "outputs": [
    {
     "data": {
      "text/plain": [
       "array([-25.32843602])"
      ]
     },
     "execution_count": 9,
     "metadata": {},
     "output_type": "execute_result"
    }
   ],
   "source": [
    "np.log([0.00000000001])"
   ]
  },
  {
   "cell_type": "code",
   "execution_count": 10,
   "id": "2a2538ac",
   "metadata": {},
   "outputs": [],
   "source": [
    "def log_loss(y_true,y_predict):#log_loss work well for binary classification \n",
    "    epsilon=1e-15\n",
    "    y_predicted_new = [max(i,epsilon) for i in y_predict]\n",
    "    y_predicted_new = [min(i,1-epsilon) for i in y_predicted_new]\n",
    "    y_predicted_new = np.array(y_predicted_new)\n",
    "    return -np.mean(y_true*np.log(y_predicted_new)+(1-y_true)*np.log(1-y_predicted_new))"
   ]
  },
  {
   "cell_type": "code",
   "execution_count": 11,
   "id": "eccb9d3a",
   "metadata": {},
   "outputs": [
    {
     "data": {
      "text/plain": [
       "17.2696280766844"
      ]
     },
     "execution_count": 11,
     "metadata": {},
     "output_type": "execute_result"
    }
   ],
   "source": [
    "log_loss(y_true, y_predict)"
   ]
  },
  {
   "cell_type": "code",
   "execution_count": null,
   "id": "2a0939e5",
   "metadata": {},
   "outputs": [],
   "source": []
  }
 ],
 "metadata": {
  "kernelspec": {
   "display_name": "Python 3 (ipykernel)",
   "language": "python",
   "name": "python3"
  },
  "language_info": {
   "codemirror_mode": {
    "name": "ipython",
    "version": 3
   },
   "file_extension": ".py",
   "mimetype": "text/x-python",
   "name": "python",
   "nbconvert_exporter": "python",
   "pygments_lexer": "ipython3",
   "version": "3.7.3"
  }
 },
 "nbformat": 4,
 "nbformat_minor": 5
}

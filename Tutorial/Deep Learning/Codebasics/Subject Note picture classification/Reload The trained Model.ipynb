{
 "cells": [
  {
   "cell_type": "code",
   "execution_count": 1,
   "id": "5d44f62d",
   "metadata": {},
   "outputs": [],
   "source": [
    "from keras.models import load_model"
   ]
  },
  {
   "cell_type": "code",
   "execution_count": 2,
   "id": "97d5559c",
   "metadata": {},
   "outputs": [],
   "source": [
    "import matplotlib.pyplot as plt\n",
    "import tensorflow as tf\n",
    "import numpy as np"
   ]
  },
  {
   "cell_type": "code",
   "execution_count": 3,
   "id": "7a570357",
   "metadata": {},
   "outputs": [],
   "source": [
    "new_model=load_model('C:\\\\Users\\\\nafissaad\\\\Tutorial\\\\Deep Learning\\\\Codebasics\\\\models\\\\1')"
   ]
  },
  {
   "cell_type": "code",
   "execution_count": 4,
   "id": "e6915044",
   "metadata": {},
   "outputs": [
    {
     "name": "stdout",
     "output_type": "stream",
     "text": [
      "Model: \"sequential_2\"\n",
      "_________________________________________________________________\n",
      "Layer (type)                 Output Shape              Param #   \n",
      "=================================================================\n",
      "sequential (Sequential)      (None, 255, 255, 3)       0         \n",
      "_________________________________________________________________\n",
      "conv2d (Conv2D)              (None, 253, 253, 32)      896       \n",
      "_________________________________________________________________\n",
      "max_pooling2d (MaxPooling2D) (None, 126, 126, 32)      0         \n",
      "_________________________________________________________________\n",
      "conv2d_1 (Conv2D)            (None, 124, 124, 64)      18496     \n",
      "_________________________________________________________________\n",
      "max_pooling2d_1 (MaxPooling2 (None, 62, 62, 64)        0         \n",
      "_________________________________________________________________\n",
      "conv2d_2 (Conv2D)            (None, 60, 60, 64)        36928     \n",
      "_________________________________________________________________\n",
      "max_pooling2d_2 (MaxPooling2 (None, 30, 30, 64)        0         \n",
      "_________________________________________________________________\n",
      "conv2d_3 (Conv2D)            (None, 28, 28, 64)        36928     \n",
      "_________________________________________________________________\n",
      "max_pooling2d_3 (MaxPooling2 (None, 14, 14, 64)        0         \n",
      "_________________________________________________________________\n",
      "conv2d_4 (Conv2D)            (None, 12, 12, 64)        36928     \n",
      "_________________________________________________________________\n",
      "max_pooling2d_4 (MaxPooling2 (None, 6, 6, 64)          0         \n",
      "_________________________________________________________________\n",
      "conv2d_5 (Conv2D)            (None, 4, 4, 64)          36928     \n",
      "_________________________________________________________________\n",
      "max_pooling2d_5 (MaxPooling2 (None, 2, 2, 64)          0         \n",
      "_________________________________________________________________\n",
      "flatten (Flatten)            (None, 256)               0         \n",
      "_________________________________________________________________\n",
      "dense (Dense)                (None, 64)                16448     \n",
      "_________________________________________________________________\n",
      "dense_1 (Dense)              (None, 2)                 130       \n",
      "=================================================================\n",
      "Total params: 183,682\n",
      "Trainable params: 183,682\n",
      "Non-trainable params: 0\n",
      "_________________________________________________________________\n"
     ]
    }
   ],
   "source": [
    "new_model.summary()\n",
    "class_name=['Eng', 'Math']"
   ]
  },
  {
   "cell_type": "code",
   "execution_count": 5,
   "id": "c2e806e3",
   "metadata": {},
   "outputs": [
    {
     "name": "stdout",
     "output_type": "stream",
     "text": [
      "WARNING:tensorflow:Model was constructed with shape (None, 255, 255, 3) for input KerasTensor(type_spec=TensorSpec(shape=(None, 255, 255, 3), dtype=tf.float32, name='sequential_input'), name='sequential_input', description=\"created by layer 'sequential_input'\"), but it was called on an input with incompatible shape (None, 540, 364, 3).\n",
      "WARNING:tensorflow:Model was constructed with shape (None, 255, 255, 3) for input KerasTensor(type_spec=TensorSpec(shape=(None, 255, 255, 3), dtype=tf.float32, name='resizing_input'), name='resizing_input', description=\"created by layer 'resizing_input'\"), but it was called on an input with incompatible shape (None, 540, 364, 3).\n"
     ]
    },
    {
     "data": {
      "text/plain": [
       "'Math'"
      ]
     },
     "execution_count": 5,
     "metadata": {},
     "output_type": "execute_result"
    }
   ],
   "source": [
    "folder='Math'\n",
    "img_array = tf.keras.preprocessing.image.img_to_array(plt.imread('C:\\\\Users\\\\nafissaad\\\\Tutorial\\\\Deep Learning\\\\Codebasics\\\\ Deep learning project subject classification\\\\Subject\\\\'+folder+'\\\\9ea38c18b418eeeea26926d4957262ae.jpg'))\n",
    "img_array = tf.expand_dims(img_array, 0)\n",
    "predictions = new_model.predict(img_array)\n",
    "predicted_class = class_name[np.argmax(predictions[0])]\n",
    "confidence = round(100 * (np.max(predictions[0])), 2)\n",
    "predicted_class"
   ]
  },
  {
   "cell_type": "code",
   "execution_count": 6,
   "id": "5ec8c7e2",
   "metadata": {},
   "outputs": [
    {
     "name": "stdout",
     "output_type": "stream",
     "text": [
      "WARNING:tensorflow:Model was constructed with shape (None, 255, 255, 3) for input KerasTensor(type_spec=TensorSpec(shape=(None, 255, 255, 3), dtype=tf.float32, name='sequential_input'), name='sequential_input', description=\"created by layer 'sequential_input'\"), but it was called on an input with incompatible shape (None, 256, 256, 3).\n",
      "WARNING:tensorflow:Model was constructed with shape (None, 255, 255, 3) for input KerasTensor(type_spec=TensorSpec(shape=(None, 255, 255, 3), dtype=tf.float32, name='resizing_input'), name='resizing_input', description=\"created by layer 'resizing_input'\"), but it was called on an input with incompatible shape (None, 256, 256, 3).\n"
     ]
    },
    {
     "data": {
      "text/plain": [
       "'Eng'"
      ]
     },
     "execution_count": 6,
     "metadata": {},
     "output_type": "execute_result"
    }
   ],
   "source": [
    "folder='Eng'\n",
    "img_array = tf.keras.preprocessing.image.img_to_array(plt.imread('C:\\\\Users\\\\nafissaad\\\\Tutorial\\\\Deep Learning\\\\Codebasics\\\\ Deep learning project subject classification\\\\Subject\\\\'+folder+'\\\\9c69bf9489906a87c33ab0cce4961a92.jpg'))\n",
    "img_array = tf.expand_dims(img_array, 0)\n",
    "predictions = new_model.predict(img_array)\n",
    "predicted_class = class_name[np.argmax(predictions[0])]\n",
    "confidence = round(100 * (np.max(predictions[0])), 2)\n",
    "predicted_class"
   ]
  },
  {
   "cell_type": "code",
   "execution_count": 7,
   "id": "ed6fd28a",
   "metadata": {},
   "outputs": [
    {
     "data": {
      "text/plain": [
       "<keras.engine.sequential.Sequential at 0x19dad47fc18>"
      ]
     },
     "execution_count": 7,
     "metadata": {},
     "output_type": "execute_result"
    }
   ],
   "source": [
    "new_model"
   ]
  }
 ],
 "metadata": {
  "kernelspec": {
   "display_name": "Python 3 (ipykernel)",
   "language": "python",
   "name": "python3"
  },
  "language_info": {
   "codemirror_mode": {
    "name": "ipython",
    "version": 3
   },
   "file_extension": ".py",
   "mimetype": "text/x-python",
   "name": "python",
   "nbconvert_exporter": "python",
   "pygments_lexer": "ipython3",
   "version": "3.7.3"
  }
 },
 "nbformat": 4,
 "nbformat_minor": 5
}

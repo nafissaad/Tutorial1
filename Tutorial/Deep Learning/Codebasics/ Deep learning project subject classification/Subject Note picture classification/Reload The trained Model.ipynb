{
 "cells": [
  {
   "cell_type": "code",
   "execution_count": 1,
   "id": "5d44f62d",
   "metadata": {},
   "outputs": [],
   "source": [
    "from keras.models import load_model"
   ]
  },
  {
   "cell_type": "code",
   "execution_count": 2,
   "id": "97d5559c",
   "metadata": {},
   "outputs": [],
   "source": [
    "import matplotlib.pyplot as plt\n",
    "import tensorflow as tf\n",
    "import numpy as np"
   ]
  },
  {
   "cell_type": "code",
   "execution_count": 3,
   "id": "7a570357",
   "metadata": {},
   "outputs": [],
   "source": [
    "new_model=load_model('C:\\\\Users\\\\nafissaad\\\\Tutorial\\Deep Learning\\\\Codebasics\\\\ Deep learning project subject classification\\\\models\\\\1')"
   ]
  },
  {
   "cell_type": "code",
   "execution_count": 4,
   "id": "e6915044",
   "metadata": {},
   "outputs": [
    {
     "name": "stdout",
     "output_type": "stream",
     "text": [
      "Model: \"sequential_15\"\n",
      "_________________________________________________________________\n",
      "Layer (type)                 Output Shape              Param #   \n",
      "=================================================================\n",
      "sequential_13 (Sequential)   (None, 255, 255, 3)       0         \n",
      "_________________________________________________________________\n",
      "sequential_14 (Sequential)   (None, 255, 255, 3)       0         \n",
      "_________________________________________________________________\n",
      "conv2d_54 (Conv2D)           (None, 253, 253, 32)      896       \n",
      "_________________________________________________________________\n",
      "max_pooling2d_54 (MaxPooling (None, 126, 126, 32)      0         \n",
      "_________________________________________________________________\n",
      "conv2d_55 (Conv2D)           (None, 124, 124, 64)      18496     \n",
      "_________________________________________________________________\n",
      "max_pooling2d_55 (MaxPooling (None, 62, 62, 64)        0         \n",
      "_________________________________________________________________\n",
      "conv2d_56 (Conv2D)           (None, 60, 60, 64)        36928     \n",
      "_________________________________________________________________\n",
      "max_pooling2d_56 (MaxPooling (None, 30, 30, 64)        0         \n",
      "_________________________________________________________________\n",
      "conv2d_57 (Conv2D)           (None, 28, 28, 64)        36928     \n",
      "_________________________________________________________________\n",
      "max_pooling2d_57 (MaxPooling (None, 14, 14, 64)        0         \n",
      "_________________________________________________________________\n",
      "conv2d_58 (Conv2D)           (None, 12, 12, 64)        36928     \n",
      "_________________________________________________________________\n",
      "max_pooling2d_58 (MaxPooling (None, 6, 6, 64)          0         \n",
      "_________________________________________________________________\n",
      "conv2d_59 (Conv2D)           (None, 4, 4, 64)          36928     \n",
      "_________________________________________________________________\n",
      "max_pooling2d_59 (MaxPooling (None, 2, 2, 64)          0         \n",
      "_________________________________________________________________\n",
      "flatten_9 (Flatten)          (None, 256)               0         \n",
      "_________________________________________________________________\n",
      "dense_18 (Dense)             (None, 64)                16448     \n",
      "_________________________________________________________________\n",
      "dense_19 (Dense)             (None, 2)                 130       \n",
      "=================================================================\n",
      "Total params: 183,682\n",
      "Trainable params: 183,682\n",
      "Non-trainable params: 0\n",
      "_________________________________________________________________\n"
     ]
    }
   ],
   "source": [
    "new_model.summary()\n",
    "class_name=['Eng', 'Math']"
   ]
  },
  {
   "cell_type": "code",
   "execution_count": 5,
   "id": "c2e806e3",
   "metadata": {},
   "outputs": [
    {
     "data": {
      "text/plain": [
       "'Math'"
      ]
     },
     "execution_count": 5,
     "metadata": {},
     "output_type": "execute_result"
    }
   ],
   "source": [
    "folder='Math'\n",
    "img_array = tf.keras.preprocessing.image.img_to_array(plt.imread('C:\\\\Users\\\\nafissaad\\\\Tutorial\\\\Deep Learning\\\\Codebasics\\\\ Deep learning project subject classification\\\\Subject\\\\'+folder+'\\\\9ea38c18b418eeeea26926d4957262ae.jpg'))\n",
    "img_array = tf.expand_dims(img_array, 0)\n",
    "predictions = new_model.predict(img_array)\n",
    "predicted_class = class_name[np.argmax(predictions[0])]\n",
    "confidence = round(100 * (np.max(predictions[0])), 2)\n",
    "predicted_class"
   ]
  },
  {
   "cell_type": "code",
   "execution_count": 6,
   "id": "5ec8c7e2",
   "metadata": {},
   "outputs": [
    {
     "data": {
      "text/plain": [
       "'Eng'"
      ]
     },
     "execution_count": 6,
     "metadata": {},
     "output_type": "execute_result"
    }
   ],
   "source": [
    "folder='Eng'\n",
    "img_array = tf.keras.preprocessing.image.img_to_array(plt.imread('C:\\\\Users\\\\nafissaad\\\\Tutorial\\\\Deep Learning\\\\Codebasics\\\\ Deep learning project subject classification\\\\Subject\\\\'+folder+'\\\\9c69bf9489906a87c33ab0cce4961a92.jpg'))\n",
    "img_array = tf.expand_dims(img_array, 0)\n",
    "predictions = new_model.predict(img_array)\n",
    "predicted_class = class_name[np.argmax(predictions[0])]\n",
    "confidence = round(100 * (np.max(predictions[0])), 2)\n",
    "predicted_class"
   ]
  },
  {
   "cell_type": "code",
   "execution_count": 7,
   "id": "ed6fd28a",
   "metadata": {},
   "outputs": [
    {
     "data": {
      "text/plain": [
       "<keras.engine.sequential.Sequential at 0x22644329f60>"
      ]
     },
     "execution_count": 7,
     "metadata": {},
     "output_type": "execute_result"
    }
   ],
   "source": [
    "new_model"
   ]
  }
 ],
 "metadata": {
  "kernelspec": {
   "display_name": "Python 3 (ipykernel)",
   "language": "python",
   "name": "python3"
  },
  "language_info": {
   "codemirror_mode": {
    "name": "ipython",
    "version": 3
   },
   "file_extension": ".py",
   "mimetype": "text/x-python",
   "name": "python",
   "nbconvert_exporter": "python",
   "pygments_lexer": "ipython3",
   "version": "3.7.3"
  }
 },
 "nbformat": 4,
 "nbformat_minor": 5
}

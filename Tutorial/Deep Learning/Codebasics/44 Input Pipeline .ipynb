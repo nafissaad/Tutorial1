{
 "cells": [
  {
   "cell_type": "code",
   "execution_count": 1,
   "id": "5316124e",
   "metadata": {},
   "outputs": [],
   "source": [
    "import tensorflow as tf"
   ]
  },
  {
   "cell_type": "code",
   "execution_count": 2,
   "id": "d3ded3ff",
   "metadata": {},
   "outputs": [],
   "source": [
    "daily_sales_number=[21,22,-108,31,-1,32,34,31]"
   ]
  },
  {
   "cell_type": "code",
   "execution_count": 3,
   "id": "a1f17420",
   "metadata": {},
   "outputs": [
    {
     "data": {
      "text/plain": [
       "<TensorSliceDataset shapes: (), types: tf.int32>"
      ]
     },
     "execution_count": 3,
     "metadata": {},
     "output_type": "execute_result"
    }
   ],
   "source": [
    "tf_dataset=tf.data.Dataset.from_tensor_slices(daily_sales_number)\n",
    "tf_dataset"
   ]
  },
  {
   "cell_type": "code",
   "execution_count": 4,
   "id": "549028f0",
   "metadata": {},
   "outputs": [
    {
     "name": "stdout",
     "output_type": "stream",
     "text": [
      "21\n",
      "22\n",
      "-108\n",
      "31\n",
      "-1\n",
      "32\n",
      "34\n",
      "31\n"
     ]
    }
   ],
   "source": [
    "for sales in tf_dataset:\n",
    "    #print(sales)\n",
    "    print(sales.numpy())#convert tensor into a numpy object"
   ]
  },
  {
   "cell_type": "code",
   "execution_count": 5,
   "id": "5852396d",
   "metadata": {},
   "outputs": [
    {
     "name": "stdout",
     "output_type": "stream",
     "text": [
      "21\n",
      "22\n",
      "-108\n",
      "31\n",
      "-1\n",
      "32\n",
      "34\n",
      "31\n"
     ]
    }
   ],
   "source": [
    "for sales in tf_dataset.as_numpy_iterator():\n",
    "    print(sales)\n"
   ]
  },
  {
   "cell_type": "code",
   "execution_count": 6,
   "id": "87485c8e",
   "metadata": {},
   "outputs": [
    {
     "name": "stdout",
     "output_type": "stream",
     "text": [
      "21\n",
      "22\n",
      "-108\n"
     ]
    }
   ],
   "source": [
    "for sales in tf_dataset.take(3):\n",
    "    print(sales.numpy())"
   ]
  },
  {
   "cell_type": "code",
   "execution_count": 7,
   "id": "fbfd6276",
   "metadata": {},
   "outputs": [
    {
     "name": "stdout",
     "output_type": "stream",
     "text": [
      "21\n",
      "22\n",
      "31\n",
      "32\n",
      "34\n",
      "31\n"
     ]
    }
   ],
   "source": [
    "tf_dataset= tf_dataset.filter(lambda x: x>0)\n",
    "for sales in tf_dataset:\n",
    "    print(sales.numpy())"
   ]
  },
  {
   "cell_type": "code",
   "execution_count": 8,
   "id": "47aa54b3",
   "metadata": {},
   "outputs": [
    {
     "name": "stdout",
     "output_type": "stream",
     "text": [
      "1512\n",
      "1584\n",
      "2232\n",
      "2304\n",
      "2448\n",
      "2232\n"
     ]
    }
   ],
   "source": [
    "tf_dataset=tf_dataset.map(lambda x: x*72)\n",
    "for sales in tf_dataset:\n",
    "    print(sales.numpy())"
   ]
  },
  {
   "cell_type": "code",
   "execution_count": 9,
   "id": "99b95a7a",
   "metadata": {},
   "outputs": [
    {
     "name": "stdout",
     "output_type": "stream",
     "text": [
      "1512\n",
      "2304\n",
      "2232\n",
      "2232\n",
      "1584\n",
      "2448\n"
     ]
    }
   ],
   "source": [
    "tf_dataset=tf_dataset.shuffle(3)\n",
    "for sales in tf_dataset:\n",
    "    print(sales.numpy())"
   ]
  },
  {
   "cell_type": "code",
   "execution_count": 10,
   "id": "77e7be1e",
   "metadata": {},
   "outputs": [
    {
     "name": "stdout",
     "output_type": "stream",
     "text": [
      "[2232 1512 1584]\n",
      "[2448 2304 2232]\n"
     ]
    }
   ],
   "source": [
    "for sales in tf_dataset.batch(3):\n",
    "    print(sales.numpy())"
   ]
  },
  {
   "cell_type": "code",
   "execution_count": 11,
   "id": "6b964b25",
   "metadata": {},
   "outputs": [
    {
     "name": "stdout",
     "output_type": "stream",
     "text": [
      "[1584 2232]\n",
      "[1512 2304]\n",
      "[2448 2232]\n"
     ]
    }
   ],
   "source": [
    "tf_dataset=tf.data.Dataset.from_tensor_slices(daily_sales_number)\n",
    "tf_dataset=tf_dataset.filter(lambda x: x>0).map(lambda y: y*72).shuffle(2).batch(2)\n",
    "for sales in tf_dataset.as_numpy_iterator():\n",
    "    print(sales)"
   ]
  },
  {
   "cell_type": "code",
   "execution_count": 12,
   "id": "2bca71e7",
   "metadata": {},
   "outputs": [
    {
     "name": "stdout",
     "output_type": "stream",
     "text": [
      "b'C:\\\\Users\\\\nafissaad\\\\Tutorial\\\\Deep Learning\\\\Codebasics\\\\ Deep learning project subject classification\\\\Subject\\\\Eng\\\\07b7b40ec437acca3389bcd5ebc577c3.jpg'\n",
      "b'C:\\\\Users\\\\nafissaad\\\\Tutorial\\\\Deep Learning\\\\Codebasics\\\\ Deep learning project subject classification\\\\Subject\\\\Eng\\\\095b4413a7c4bd3fa1ec58510ac0ff6e.jpg'\n",
      "b'C:\\\\Users\\\\nafissaad\\\\Tutorial\\\\Deep Learning\\\\Codebasics\\\\ Deep learning project subject classification\\\\Subject\\\\Eng\\\\12028b83a52dd172682d2b60ab00c090.jpg'\n"
     ]
    }
   ],
   "source": [
    "img=tf.data.Dataset.list_files('C:\\\\Users\\\\nafissaad\\\\Tutorial\\\\Deep Learning\\\\Codebasics\\\\ Deep learning project subject classification\\\\Subject\\\\*\\\\*',shuffle=False)\n",
    "for file in img.take(3):\n",
    "    print(file.numpy())"
   ]
  },
  {
   "cell_type": "code",
   "execution_count": 13,
   "id": "65e9fa22",
   "metadata": {},
   "outputs": [
    {
     "name": "stdout",
     "output_type": "stream",
     "text": [
      "b'C:\\\\Users\\\\nafissaad\\\\Tutorial\\\\Deep Learning\\\\Codebasics\\\\ Deep learning project subject classification\\\\Subject\\\\Math\\\\09be8c92df9aa1050483e97f96bf98df.jpg'\n",
      "b'C:\\\\Users\\\\nafissaad\\\\Tutorial\\\\Deep Learning\\\\Codebasics\\\\ Deep learning project subject classification\\\\Subject\\\\Math\\\\3453131da0264e48b0e79c53c15e4d30.jpg'\n",
      "b'C:\\\\Users\\\\nafissaad\\\\Tutorial\\\\Deep Learning\\\\Codebasics\\\\ Deep learning project subject classification\\\\Subject\\\\Math\\\\6c6b4688535621bbbaf13ca062da419f.jpg'\n"
     ]
    }
   ],
   "source": [
    "img_ds=img.shuffle(200)\n",
    "for file in img_ds.take(3):\n",
    "    print(file.numpy())"
   ]
  },
  {
   "cell_type": "code",
   "execution_count": 14,
   "id": "4d6245f4",
   "metadata": {},
   "outputs": [],
   "source": [
    "class_names=['Eng','Math']"
   ]
  },
  {
   "cell_type": "code",
   "execution_count": 15,
   "id": "8513a688",
   "metadata": {},
   "outputs": [
    {
     "data": {
      "text/plain": [
       "109"
      ]
     },
     "execution_count": 15,
     "metadata": {},
     "output_type": "execute_result"
    }
   ],
   "source": [
    "img_count=len(img_ds)\n",
    "img_count"
   ]
  },
  {
   "cell_type": "code",
   "execution_count": 16,
   "id": "af0ce5c4",
   "metadata": {},
   "outputs": [],
   "source": [
    "train_size=int(img_count*0.8)\n",
    "train_ds=img_ds.take(train_size)\n",
    "test_ds=img_ds.skip(train_size)"
   ]
  },
  {
   "cell_type": "code",
   "execution_count": 17,
   "id": "5c1cf2f5",
   "metadata": {},
   "outputs": [
    {
     "data": {
      "text/plain": [
       "87"
      ]
     },
     "execution_count": 17,
     "metadata": {},
     "output_type": "execute_result"
    }
   ],
   "source": [
    "len(train_ds)"
   ]
  },
  {
   "cell_type": "code",
   "execution_count": 18,
   "id": "d3861e66",
   "metadata": {},
   "outputs": [
    {
     "data": {
      "text/plain": [
       "22"
      ]
     },
     "execution_count": 18,
     "metadata": {},
     "output_type": "execute_result"
    }
   ],
   "source": [
    "len(test_ds)"
   ]
  },
  {
   "cell_type": "code",
   "execution_count": 19,
   "id": "94678c24",
   "metadata": {},
   "outputs": [
    {
     "data": {
      "text/plain": [
       "'Eng'"
      ]
     },
     "execution_count": 19,
     "metadata": {},
     "output_type": "execute_result"
    }
   ],
   "source": [
    "s='C:\\\\Users\\\\nafissaad\\\\Tutorial\\\\Deep Learning\\\\Codebasics\\\\ Deep learning project subject classification\\\\Subject\\\\Eng\\\\8f0d2bdd613bf43280131f534d5866a7.jpg'\n",
    "s.split('\\\\')[-2]"
   ]
  },
  {
   "cell_type": "code",
   "execution_count": 20,
   "id": "54984a0c",
   "metadata": {},
   "outputs": [],
   "source": [
    "def get_label(file_path):\n",
    "    import os\n",
    "    return(tf.strings.split(file_path,os.path.sep)[-2])"
   ]
  },
  {
   "cell_type": "code",
   "execution_count": 21,
   "id": "fa99b2bf",
   "metadata": {},
   "outputs": [],
   "source": [
    "def process_image(file_path):\n",
    "    label=get_label(file_path)\n",
    "    img=tf.io.read_file(file_path)\n",
    "    img=tf.image.decode_jpeg(img)\n",
    "    img=tf.image.resize(img,[128,128])\n",
    "    return img,label"
   ]
  },
  {
   "cell_type": "code",
   "execution_count": 22,
   "id": "daf8170b",
   "metadata": {
    "scrolled": true
   },
   "outputs": [
    {
     "name": "stdout",
     "output_type": "stream",
     "text": [
      "b'C:\\\\Users\\\\nafissaad\\\\Tutorial\\\\Deep Learning\\\\Codebasics\\\\ Deep learning project subject classification\\\\Subject\\\\Eng\\\\8f0d2bdd613bf43280131f534d5866a7.jpg'\n",
      "b'C:\\\\Users\\\\nafissaad\\\\Tutorial\\\\Deep Learning\\\\Codebasics\\\\ Deep learning project subject classification\\\\Subject\\\\Eng\\\\6636d01726ed2b41fe98a7baa4845330.jpg'\n",
      "b'C:\\\\Users\\\\nafissaad\\\\Tutorial\\\\Deep Learning\\\\Codebasics\\\\ Deep learning project subject classification\\\\Subject\\\\Eng\\\\3cf83c9c4d595679bf0bc9f13083b0b3.jpg'\n",
      "b'C:\\\\Users\\\\nafissaad\\\\Tutorial\\\\Deep Learning\\\\Codebasics\\\\ Deep learning project subject classification\\\\Subject\\\\Eng\\\\439b81cab1c98bb92ea6fe20ec95f307.jpg'\n"
     ]
    }
   ],
   "source": [
    "for t in train_ds.take(4):\n",
    "    print(t.numpy())"
   ]
  },
  {
   "cell_type": "code",
   "execution_count": 23,
   "id": "94980d8c",
   "metadata": {},
   "outputs": [
    {
     "name": "stdout",
     "output_type": "stream",
     "text": [
      "Image:  <TensorSliceDataset shapes: (), types: tf.string>\n",
      "Label:  (<tf.Tensor: shape=(128, 128, 3), dtype=float32, numpy=\n",
      "array([[[153.5 , 136.5 , 108.5 ],\n",
      "        [151.25, 134.25, 106.25],\n",
      "        [152.5 , 135.5 , 107.5 ],\n",
      "        ...,\n",
      "        [162.5 , 145.5 , 119.5 ],\n",
      "        [159.  , 142.  , 116.  ],\n",
      "        [161.25, 144.25, 118.25]],\n",
      "\n",
      "       [[150.  , 133.  , 105.  ],\n",
      "        [151.5 , 134.5 , 106.5 ],\n",
      "        [154.75, 137.75, 109.75],\n",
      "        ...,\n",
      "        [160.5 , 143.5 , 117.5 ],\n",
      "        [160.25, 143.25, 117.25],\n",
      "        [157.25, 140.25, 114.25]],\n",
      "\n",
      "       [[149.25, 133.25, 107.25],\n",
      "        [152.25, 136.25, 110.25],\n",
      "        [158.75, 142.75, 116.75],\n",
      "        ...,\n",
      "        [163.75, 146.75, 120.75],\n",
      "        [160.25, 143.25, 117.25],\n",
      "        [162.  , 145.  , 119.  ]],\n",
      "\n",
      "       ...,\n",
      "\n",
      "       [[ 97.75,  85.25,  69.25],\n",
      "        [ 99.  ,  86.  ,  70.  ],\n",
      "        [ 99.  ,  86.  ,  70.  ],\n",
      "        ...,\n",
      "        [ 17.  ,  16.  ,  21.  ],\n",
      "        [ 18.5 ,  17.5 ,  22.5 ],\n",
      "        [ 17.75,  16.75,  21.75]],\n",
      "\n",
      "       [[ 98.5 ,  89.5 ,  72.5 ],\n",
      "        [102.  ,  90.  ,  74.  ],\n",
      "        [101.  ,  89.  ,  73.  ],\n",
      "        ...,\n",
      "        [ 16.  ,  15.  ,  20.  ],\n",
      "        [ 17.  ,  16.  ,  21.  ],\n",
      "        [ 17.75,  16.75,  21.75]],\n",
      "\n",
      "       [[ 97.75,  89.75,  70.75],\n",
      "        [100.75,  89.75,  71.75],\n",
      "        [100.75,  87.75,  70.75],\n",
      "        ...,\n",
      "        [ 14.  ,  15.  ,  19.  ],\n",
      "        [ 15.25,  16.25,  20.25],\n",
      "        [ 16.25,  17.25,  21.25]]], dtype=float32)>, <tf.Tensor: shape=(), dtype=string, numpy=b'Eng'>)\n",
      "Image:  <TensorSliceDataset shapes: (), types: tf.string>\n",
      "Label:  (<tf.Tensor: shape=(128, 128, 3), dtype=float32, numpy=\n",
      "array([[[237.  , 229.75, 210.75],\n",
      "        [236.75, 229.  , 211.  ],\n",
      "        [238.5 , 229.5 , 214.  ],\n",
      "        ...,\n",
      "        [133.  , 130.5 , 115.5 ],\n",
      "        [217.5 , 217.  , 205.25],\n",
      "        [253.75, 254.25, 244.75]],\n",
      "\n",
      "       [[238.  , 227.75, 206.5 ],\n",
      "        [237.  , 226.  , 207.5 ],\n",
      "        [238.  , 226.  , 210.  ],\n",
      "        ...,\n",
      "        [127.  , 123.25, 109.75],\n",
      "        [124.5 , 122.5 , 111.25],\n",
      "        [210.75, 210.  , 201.5 ]],\n",
      "\n",
      "       [[237.5 , 225.5 , 204.75],\n",
      "        [238.75, 226.25, 207.5 ],\n",
      "        [237.25, 226.25, 208.25],\n",
      "        ...,\n",
      "        [127.25, 120.5 , 104.5 ],\n",
      "        [127.25, 121.75, 107.25],\n",
      "        [127.  , 124.  , 110.75]],\n",
      "\n",
      "       ...,\n",
      "\n",
      "       [[149.25, 146.25, 129.25],\n",
      "        [148.75, 145.75, 128.75],\n",
      "        [150.25, 144.25, 128.25],\n",
      "        ...,\n",
      "        [ 96.5 ,  94.5 ,  82.5 ],\n",
      "        [ 96.75,  94.75,  82.75],\n",
      "        [ 96.5 ,  94.5 ,  82.5 ]],\n",
      "\n",
      "       [[150.75, 145.75, 126.5 ],\n",
      "        [151.  , 146.  , 126.75],\n",
      "        [152.5 , 145.5 , 127.25],\n",
      "        ...,\n",
      "        [ 92.75,  90.75,  78.75],\n",
      "        [ 94.25,  92.25,  80.25],\n",
      "        [ 93.5 ,  91.5 ,  79.5 ]],\n",
      "\n",
      "       [[148.  , 141.75, 120.5 ],\n",
      "        [147.75, 141.5 , 120.25],\n",
      "        [148.75, 140.75, 120.25],\n",
      "        ...,\n",
      "        [ 79.25,  76.25,  67.25],\n",
      "        [ 80.5 ,  77.5 ,  68.5 ],\n",
      "        [ 80.5 ,  77.5 ,  68.5 ]]], dtype=float32)>, <tf.Tensor: shape=(), dtype=string, numpy=b'Eng'>)\n",
      "Image:  <TensorSliceDataset shapes: (), types: tf.string>\n",
      "Label:  (<tf.Tensor: shape=(128, 128, 3), dtype=float32, numpy=\n",
      "array([[[220.  , 212.  , 210.  ],\n",
      "        [224.25, 216.25, 214.25],\n",
      "        [222.75, 214.75, 212.75],\n",
      "        ...,\n",
      "        [213.5 , 207.5 , 207.5 ],\n",
      "        [218.25, 212.25, 212.25],\n",
      "        [214.75, 208.75, 208.75]],\n",
      "\n",
      "       [[218.25, 212.25, 212.25],\n",
      "        [213.25, 207.25, 207.25],\n",
      "        [214.5 , 208.5 , 208.5 ],\n",
      "        ...,\n",
      "        [210.75, 204.75, 206.75],\n",
      "        [218.  , 212.  , 214.  ],\n",
      "        [212.5 , 206.5 , 206.5 ]],\n",
      "\n",
      "       [[208.5 , 202.5 , 204.5 ],\n",
      "        [218.5 , 212.5 , 214.5 ],\n",
      "        [217.25, 211.25, 213.25],\n",
      "        ...,\n",
      "        [214.  , 208.  , 210.  ],\n",
      "        [217.25, 211.25, 213.25],\n",
      "        [212.75, 206.75, 208.75]],\n",
      "\n",
      "       ...,\n",
      "\n",
      "       [[214.  , 205.  , 206.  ],\n",
      "        [214.  , 205.  , 206.  ],\n",
      "        [198.25, 187.25, 191.25],\n",
      "        ...,\n",
      "        [189.5 , 181.25, 180.  ],\n",
      "        [185.75, 175.75, 174.75],\n",
      "        [176.  , 166.  , 164.25]],\n",
      "\n",
      "       [[215.  , 206.  , 207.  ],\n",
      "        [212.5 , 203.5 , 204.5 ],\n",
      "        [208.5 , 197.5 , 201.5 ],\n",
      "        ...,\n",
      "        [192.5 , 182.25, 184.  ],\n",
      "        [186.  , 176.  , 176.5 ],\n",
      "        [173.5 , 163.5 , 163.  ]],\n",
      "\n",
      "       [[214.75, 205.75, 208.75],\n",
      "        [212.  , 203.  , 206.  ],\n",
      "        [206.5 , 195.5 , 199.5 ],\n",
      "        ...,\n",
      "        [189.25, 178.25, 182.25],\n",
      "        [180.5 , 169.5 , 173.5 ],\n",
      "        [174.  , 163.25, 166.5 ]]], dtype=float32)>, <tf.Tensor: shape=(), dtype=string, numpy=b'Eng'>)\n"
     ]
    }
   ],
   "source": [
    "train_ds=train_ds.map(process_image)\n",
    "for label in train_ds.take(3):\n",
    "    print('Image: ',img)\n",
    "    print('Label: ',label)\n",
    "    "
   ]
  },
  {
   "cell_type": "code",
   "execution_count": 24,
   "id": "26344a32",
   "metadata": {},
   "outputs": [],
   "source": [
    "def scale(image,label):\n",
    "    return image/255, label"
   ]
  },
  {
   "cell_type": "code",
   "execution_count": 25,
   "id": "a74ae5c4",
   "metadata": {},
   "outputs": [
    {
     "name": "stdout",
     "output_type": "stream",
     "text": [
      "Image:  [0.85882354 0.7607843  0.6745098 ]\n",
      "Label:  b'Math'\n",
      "Image:  [0.99607843]\n",
      "Label:  b'Math'\n",
      "Image:  [0.8241881  0.83203125 0.7771293 ]\n",
      "Label:  b'Math'\n",
      "Image:  [0.67117345 0.69862443 0.6672519 ]\n",
      "Label:  b'Math'\n",
      "Image:  [0.27156863 0.27941176 0.2754902 ]\n",
      "Label:  b'Eng'\n"
     ]
    }
   ],
   "source": [
    "train_ds=train_ds.map(scale)\n",
    "for img,label in train_ds.take(5):\n",
    "    print('Image: ', img.numpy()[0][0])\n",
    "    print('Label: ', label.numpy())\n",
    "    "
   ]
  }
 ],
 "metadata": {
  "kernelspec": {
   "display_name": "Python 3 (ipykernel)",
   "language": "python",
   "name": "python3"
  },
  "language_info": {
   "codemirror_mode": {
    "name": "ipython",
    "version": 3
   },
   "file_extension": ".py",
   "mimetype": "text/x-python",
   "name": "python",
   "nbconvert_exporter": "python",
   "pygments_lexer": "ipython3",
   "version": "3.7.3"
  }
 },
 "nbformat": 4,
 "nbformat_minor": 5
}

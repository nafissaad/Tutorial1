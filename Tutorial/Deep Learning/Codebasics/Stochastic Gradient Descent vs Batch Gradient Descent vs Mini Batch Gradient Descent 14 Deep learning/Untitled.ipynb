{
 "cells": [
  {
   "cell_type": "code",
   "execution_count": 1,
   "id": "c05936d6",
   "metadata": {},
   "outputs": [],
   "source": [
    "import pandas as pd\n",
    "import numpy as np\n",
    "import matplotlib.pyplot as plt \n",
    "%matplotlib inline"
   ]
  },
  {
   "cell_type": "code",
   "execution_count": 2,
   "id": "afc73e72",
   "metadata": {},
   "outputs": [
    {
     "data": {
      "text/html": [
       "<div>\n",
       "<style scoped>\n",
       "    .dataframe tbody tr th:only-of-type {\n",
       "        vertical-align: middle;\n",
       "    }\n",
       "\n",
       "    .dataframe tbody tr th {\n",
       "        vertical-align: top;\n",
       "    }\n",
       "\n",
       "    .dataframe thead th {\n",
       "        text-align: right;\n",
       "    }\n",
       "</style>\n",
       "<table border=\"1\" class=\"dataframe\">\n",
       "  <thead>\n",
       "    <tr style=\"text-align: right;\">\n",
       "      <th></th>\n",
       "      <th>area</th>\n",
       "      <th>bedrooms</th>\n",
       "      <th>price</th>\n",
       "    </tr>\n",
       "  </thead>\n",
       "  <tbody>\n",
       "    <tr>\n",
       "      <th>10</th>\n",
       "      <td>1800</td>\n",
       "      <td>3</td>\n",
       "      <td>82.00</td>\n",
       "    </tr>\n",
       "    <tr>\n",
       "      <th>5</th>\n",
       "      <td>1170</td>\n",
       "      <td>2</td>\n",
       "      <td>38.00</td>\n",
       "    </tr>\n",
       "    <tr>\n",
       "      <th>0</th>\n",
       "      <td>1056</td>\n",
       "      <td>2</td>\n",
       "      <td>39.07</td>\n",
       "    </tr>\n",
       "    <tr>\n",
       "      <th>4</th>\n",
       "      <td>1200</td>\n",
       "      <td>2</td>\n",
       "      <td>51.00</td>\n",
       "    </tr>\n",
       "    <tr>\n",
       "      <th>12</th>\n",
       "      <td>1000</td>\n",
       "      <td>2</td>\n",
       "      <td>38.00</td>\n",
       "    </tr>\n",
       "  </tbody>\n",
       "</table>\n",
       "</div>"
      ],
      "text/plain": [
       "    area  bedrooms  price\n",
       "10  1800         3  82.00\n",
       "5   1170         2  38.00\n",
       "0   1056         2  39.07\n",
       "4   1200         2  51.00\n",
       "12  1000         2  38.00"
      ]
     },
     "execution_count": 2,
     "metadata": {},
     "output_type": "execute_result"
    }
   ],
   "source": [
    "df=pd.read_csv('homeprices_banglore.csv')\n",
    "df.sample(5)"
   ]
  },
  {
   "cell_type": "code",
   "execution_count": 3,
   "id": "2e130200",
   "metadata": {},
   "outputs": [
    {
     "data": {
      "text/plain": [
       "array([[0.08827586, 0.25      ],\n",
       "       [0.62068966, 0.75      ],\n",
       "       [0.22068966, 0.5       ],\n",
       "       [0.24862069, 0.5       ],\n",
       "       [0.13793103, 0.25      ],\n",
       "       [0.12758621, 0.25      ],\n",
       "       [0.6662069 , 0.75      ],\n",
       "       [0.86206897, 0.75      ],\n",
       "       [0.17586207, 0.5       ],\n",
       "       [1.        , 1.        ],\n",
       "       [0.34482759, 0.5       ],\n",
       "       [0.68448276, 0.75      ],\n",
       "       [0.06896552, 0.25      ],\n",
       "       [0.10344828, 0.25      ],\n",
       "       [0.5       , 0.5       ],\n",
       "       [0.12931034, 0.25      ],\n",
       "       [0.13103448, 0.5       ],\n",
       "       [0.25517241, 0.5       ],\n",
       "       [0.67931034, 0.5       ],\n",
       "       [0.        , 0.        ]])"
      ]
     },
     "execution_count": 3,
     "metadata": {},
     "output_type": "execute_result"
    }
   ],
   "source": [
    "from sklearn import preprocessing\n",
    "sx=preprocessing.MinMaxScaler()\n",
    "sy=preprocessing.MinMaxScaler()\n",
    "scaled_X=sx.fit_transform(df.drop('price',axis='columns').values)\n",
    "scaled_X"
   ]
  },
  {
   "cell_type": "code",
   "execution_count": 4,
   "id": "cff004aa",
   "metadata": {},
   "outputs": [
    {
     "data": {
      "text/html": [
       "<div>\n",
       "<style scoped>\n",
       "    .dataframe tbody tr th:only-of-type {\n",
       "        vertical-align: middle;\n",
       "    }\n",
       "\n",
       "    .dataframe tbody tr th {\n",
       "        vertical-align: top;\n",
       "    }\n",
       "\n",
       "    .dataframe thead th {\n",
       "        text-align: right;\n",
       "    }\n",
       "</style>\n",
       "<table border=\"1\" class=\"dataframe\">\n",
       "  <thead>\n",
       "    <tr style=\"text-align: right;\">\n",
       "      <th></th>\n",
       "      <th>area</th>\n",
       "      <th>bedrooms</th>\n",
       "    </tr>\n",
       "  </thead>\n",
       "  <tbody>\n",
       "    <tr>\n",
       "      <th>0</th>\n",
       "      <td>1056</td>\n",
       "      <td>2</td>\n",
       "    </tr>\n",
       "    <tr>\n",
       "      <th>1</th>\n",
       "      <td>2600</td>\n",
       "      <td>4</td>\n",
       "    </tr>\n",
       "    <tr>\n",
       "      <th>2</th>\n",
       "      <td>1440</td>\n",
       "      <td>3</td>\n",
       "    </tr>\n",
       "    <tr>\n",
       "      <th>3</th>\n",
       "      <td>1521</td>\n",
       "      <td>3</td>\n",
       "    </tr>\n",
       "    <tr>\n",
       "      <th>4</th>\n",
       "      <td>1200</td>\n",
       "      <td>2</td>\n",
       "    </tr>\n",
       "    <tr>\n",
       "      <th>5</th>\n",
       "      <td>1170</td>\n",
       "      <td>2</td>\n",
       "    </tr>\n",
       "    <tr>\n",
       "      <th>6</th>\n",
       "      <td>2732</td>\n",
       "      <td>4</td>\n",
       "    </tr>\n",
       "    <tr>\n",
       "      <th>7</th>\n",
       "      <td>3300</td>\n",
       "      <td>4</td>\n",
       "    </tr>\n",
       "    <tr>\n",
       "      <th>8</th>\n",
       "      <td>1310</td>\n",
       "      <td>3</td>\n",
       "    </tr>\n",
       "    <tr>\n",
       "      <th>9</th>\n",
       "      <td>3700</td>\n",
       "      <td>5</td>\n",
       "    </tr>\n",
       "    <tr>\n",
       "      <th>10</th>\n",
       "      <td>1800</td>\n",
       "      <td>3</td>\n",
       "    </tr>\n",
       "    <tr>\n",
       "      <th>11</th>\n",
       "      <td>2785</td>\n",
       "      <td>4</td>\n",
       "    </tr>\n",
       "    <tr>\n",
       "      <th>12</th>\n",
       "      <td>1000</td>\n",
       "      <td>2</td>\n",
       "    </tr>\n",
       "    <tr>\n",
       "      <th>13</th>\n",
       "      <td>1100</td>\n",
       "      <td>2</td>\n",
       "    </tr>\n",
       "    <tr>\n",
       "      <th>14</th>\n",
       "      <td>2250</td>\n",
       "      <td>3</td>\n",
       "    </tr>\n",
       "    <tr>\n",
       "      <th>15</th>\n",
       "      <td>1175</td>\n",
       "      <td>2</td>\n",
       "    </tr>\n",
       "    <tr>\n",
       "      <th>16</th>\n",
       "      <td>1180</td>\n",
       "      <td>3</td>\n",
       "    </tr>\n",
       "    <tr>\n",
       "      <th>17</th>\n",
       "      <td>1540</td>\n",
       "      <td>3</td>\n",
       "    </tr>\n",
       "    <tr>\n",
       "      <th>18</th>\n",
       "      <td>2770</td>\n",
       "      <td>3</td>\n",
       "    </tr>\n",
       "    <tr>\n",
       "      <th>19</th>\n",
       "      <td>800</td>\n",
       "      <td>1</td>\n",
       "    </tr>\n",
       "  </tbody>\n",
       "</table>\n",
       "</div>"
      ],
      "text/plain": [
       "    area  bedrooms\n",
       "0   1056         2\n",
       "1   2600         4\n",
       "2   1440         3\n",
       "3   1521         3\n",
       "4   1200         2\n",
       "5   1170         2\n",
       "6   2732         4\n",
       "7   3300         4\n",
       "8   1310         3\n",
       "9   3700         5\n",
       "10  1800         3\n",
       "11  2785         4\n",
       "12  1000         2\n",
       "13  1100         2\n",
       "14  2250         3\n",
       "15  1175         2\n",
       "16  1180         3\n",
       "17  1540         3\n",
       "18  2770         3\n",
       "19   800         1"
      ]
     },
     "execution_count": 4,
     "metadata": {},
     "output_type": "execute_result"
    }
   ],
   "source": [
    "df.drop('price',axis='columns')"
   ]
  },
  {
   "cell_type": "code",
   "execution_count": 5,
   "id": "a1dfa5a0",
   "metadata": {},
   "outputs": [
    {
     "data": {
      "text/plain": [
       "array([[0.05237037],\n",
       "       [0.65185185],\n",
       "       [0.22222222],\n",
       "       [0.31851852],\n",
       "       [0.14074074],\n",
       "       [0.04444444],\n",
       "       [0.76296296],\n",
       "       [0.91111111],\n",
       "       [0.13333333],\n",
       "       [1.        ],\n",
       "       [0.37037037],\n",
       "       [0.8       ],\n",
       "       [0.04444444],\n",
       "       [0.05925926],\n",
       "       [0.51111111],\n",
       "       [0.07407407],\n",
       "       [0.11851852],\n",
       "       [0.20740741],\n",
       "       [0.51851852],\n",
       "       [0.        ]])"
      ]
     },
     "execution_count": 5,
     "metadata": {},
     "output_type": "execute_result"
    }
   ],
   "source": [
    "scaled_y=sy.fit_transform(df['price'].values.reshape(df.shape[0],1))\n",
    "scaled_y"
   ]
  },
  {
   "cell_type": "code",
   "execution_count": 6,
   "id": "6bf15878",
   "metadata": {
    "scrolled": true
   },
   "outputs": [
    {
     "data": {
      "text/plain": [
       "array([ 39.07, 120.  ,  62.  ,  75.  ,  51.  ,  38.  , 135.  , 155.  ,\n",
       "        50.  , 167.  ,  82.  , 140.  ,  38.  ,  40.  , 101.  ,  42.  ,\n",
       "        48.  ,  60.  , 102.  ,  32.  ])"
      ]
     },
     "execution_count": 6,
     "metadata": {},
     "output_type": "execute_result"
    }
   ],
   "source": [
    "df['price'].values.reshape(df.shape[0])"
   ]
  },
  {
   "cell_type": "code",
   "execution_count": 7,
   "id": "9abca72a",
   "metadata": {},
   "outputs": [
    {
     "data": {
      "text/plain": [
       "array([[ 39.07],\n",
       "       [120.  ],\n",
       "       [ 62.  ],\n",
       "       [ 75.  ],\n",
       "       [ 51.  ],\n",
       "       [ 38.  ],\n",
       "       [135.  ],\n",
       "       [155.  ],\n",
       "       [ 50.  ],\n",
       "       [167.  ],\n",
       "       [ 82.  ],\n",
       "       [140.  ],\n",
       "       [ 38.  ],\n",
       "       [ 40.  ],\n",
       "       [101.  ],\n",
       "       [ 42.  ],\n",
       "       [ 48.  ],\n",
       "       [ 60.  ],\n",
       "       [102.  ],\n",
       "       [ 32.  ]])"
      ]
     },
     "execution_count": 7,
     "metadata": {},
     "output_type": "execute_result"
    }
   ],
   "source": [
    "df['price'].values.reshape(df.shape[0],1)"
   ]
  },
  {
   "cell_type": "code",
   "execution_count": 8,
   "id": "91f7ddad",
   "metadata": {},
   "outputs": [
    {
     "name": "stdout",
     "output_type": "stream",
     "text": [
      "[0.44868254 0.55434464]\n",
      "[0.43751496 0.54005438]\n",
      "[0.42665388 0.52615802]\n",
      "[0.4160908  0.51264465]\n",
      "[0.40581749 0.49950368]\n",
      "[0.39582593 0.48672481]\n",
      "[0.38610833 0.47429799]\n",
      "[0.3766571 0.4622135]\n",
      "[0.36746487 0.45046186]\n",
      "[0.35852448 0.43903386]\n",
      "[0.34982896 0.42792053]\n",
      "[0.34137153 0.41711316]\n",
      "[0.33314562 0.4066033 ]\n",
      "[0.3251448  0.39638271]\n",
      "[0.31736287 0.38644337]\n",
      "[0.30979375 0.37677752]\n",
      "[0.30243157 0.36737757]\n",
      "[0.2952706  0.35823617]\n",
      "[0.28830527 0.34934616]\n",
      "[0.28153018 0.34070059]\n",
      "[0.27494006 0.33229269]\n",
      "[0.26852979 0.32411588]\n",
      "[0.26229439 0.31616378]\n",
      "[0.25622905 0.30843015]\n",
      "[0.25032904 0.30090896]\n",
      "[0.2445898  0.29359433]\n",
      "[0.23900688 0.28648054]\n",
      "[0.23357595 0.27956203]\n",
      "[0.22829282 0.2728334 ]\n",
      "[0.2231534 0.2662894]\n",
      "[0.21815372 0.25992491]\n",
      "[0.2132899  0.25373497]\n",
      "[0.20855819 0.24771476]\n",
      "[0.20395495 0.24185956]\n",
      "[0.19947661 0.23616483]\n",
      "[0.19511973 0.23062611]\n",
      "[0.19088094 0.2252391 ]\n",
      "[0.18675699 0.21999959]\n",
      "[0.1827447 0.2149035]\n",
      "[0.17884097 0.20994687]\n",
      "[0.17504282 0.20512584]\n",
      "[0.17134732 0.20043665]\n",
      "[0.16775163 0.19587567]\n",
      "[0.164253   0.19143934]\n",
      "[0.16084874 0.18712421]\n",
      "[0.15753625 0.18292694]\n",
      "[0.15431299 0.17884425]\n",
      "[0.1511765  0.17487299]\n",
      "[0.14812437 0.17101007]\n",
      "[0.14515427 0.1672525 ]\n",
      "[0.14226395 0.16359735]\n",
      "[0.13945119 0.16004181]\n",
      "[0.13671385 0.1565831 ]\n",
      "[0.13404986 0.15321856]\n",
      "[0.13145718 0.14994559]\n",
      "[0.12893384 0.14676164]\n",
      "[0.12647793 0.14366425]\n",
      "[0.12408758 0.14065104]\n",
      "[0.121761   0.13771968]\n",
      "[0.11949641 0.13486789]\n",
      "[0.1172921  0.13209349]\n",
      "[0.11514641 0.12939434]\n",
      "[0.11305772 0.12676834]\n",
      "[0.11102446 0.12421348]\n",
      "[0.1090451 0.1217278]\n",
      "[0.10711815 0.11930938]\n",
      "[0.10524217 0.11695636]\n",
      "[0.10341574 0.11466693]\n",
      "[0.1016375  0.11243934]\n",
      "[0.09990612 0.11027187]\n",
      "[0.09822031 0.10816287]\n",
      "[0.09657881 0.10611072]\n",
      "[0.0949804  0.10411385]\n",
      "[0.09342389 0.10217073]\n",
      "[0.09190813 0.10027988]\n",
      "[0.09043198 0.09843984]\n",
      "[0.08899437 0.09664922]\n",
      "[0.08759422 0.09490666]\n",
      "[0.08623051 0.09321082]\n",
      "[0.08490222 0.09156041]\n",
      "[0.08360839 0.08995418]\n",
      "[0.08234807 0.08839091]\n",
      "[0.08112032 0.08686941]\n",
      "[0.07992426 0.08538853]\n",
      "[0.07875901 0.08394715]\n",
      "[0.07762373 0.08254417]\n",
      "[0.07651758 0.08117854]\n",
      "[0.07543976 0.07984922]\n",
      "[0.0743895  0.07855521]\n",
      "[0.07336604 0.07729554]\n",
      "[0.07236863 0.07606926]\n",
      "[0.07139657 0.07487545]\n",
      "[0.07044916 0.07371321]\n",
      "[0.06952571 0.07258167]\n",
      "[0.06862557 0.07147998]\n",
      "[0.0677481  0.07040732]\n",
      "[0.06689267 0.06936289]\n",
      "[0.06605868 0.0683459 ]\n",
      "[0.06524554 0.06735562]\n",
      "[0.06445267 0.06639128]\n",
      "[0.06367953 0.06545219]\n",
      "[0.06292556 0.06453764]\n",
      "[0.06219024 0.06364696]\n",
      "[0.06147306 0.06277949]\n",
      "[0.06077353 0.06193459]\n",
      "[0.06009115 0.06111164]\n",
      "[0.05942546 0.06031003]\n",
      "[0.05877599 0.05952917]\n",
      "[0.05814231 0.0587685 ]\n",
      "[0.05752399 0.05802745]\n",
      "[0.05692059 0.05730549]\n",
      "[0.05633171 0.05660209]\n",
      "[0.05575696 0.05591674]\n",
      "[0.05519595 0.05524894]\n",
      "[0.05464829 0.05459821]\n",
      "[0.05411364 0.05396408]\n",
      "[0.05359162 0.05334609]\n",
      "[0.05308189 0.0527438 ]\n",
      "[0.05258413 0.05215678]\n",
      "[0.05209799 0.0515846 ]\n",
      "[0.05162317 0.05102686]\n",
      "[0.05115936 0.05048316]\n",
      "[0.05070624 0.04995312]\n",
      "[0.05026354 0.04943636]\n",
      "[0.04983097 0.04893251]\n",
      "[0.04940825 0.04844122]\n",
      "[0.04899511 0.04796214]\n",
      "[0.04859129 0.04749494]\n",
      "[0.04819655 0.0470393 ]\n",
      "[0.04781062 0.04659489]\n",
      "[0.04743327 0.04616141]\n",
      "[0.04706428 0.04573856]\n",
      "[0.0467034  0.04532604]\n",
      "[0.04635042 0.04492357]\n",
      "[0.04600513 0.04453088]\n",
      "[0.04566731 0.0441477 ]\n",
      "[0.04533677 0.04377377]\n",
      "[0.04501331 0.04340883]\n",
      "[0.04469673 0.04305264]\n",
      "[0.04438684 0.04270496]\n",
      "[0.04408348 0.04236555]\n",
      "[0.04378646 0.0420342 ]\n",
      "[0.0434956  0.04171067]\n",
      "[0.04321075 0.04139475]\n",
      "[0.04293173 0.04108624]\n",
      "[0.0426584  0.04078494]\n",
      "[0.0423906  0.04049064]\n",
      "[0.04212818 0.04020316]\n",
      "[0.041871   0.03992231]\n",
      "[0.04161891 0.0396479 ]\n",
      "[0.04137177 0.03937977]\n",
      "[0.04112946 0.03911774]\n",
      "[0.04089185 0.03886165]\n",
      "[0.0406588  0.03861132]\n",
      "[0.0404302  0.03836662]\n",
      "[0.04020593 0.03812737]\n",
      "[0.03998586 0.03789344]\n",
      "[0.0397699  0.03766468]\n",
      "[0.03955792 0.03744095]\n",
      "[0.03934983 0.03722211]\n",
      "[0.03914552 0.03700803]\n",
      "[0.03894488 0.03679858]\n",
      "[0.03874782 0.03659364]\n",
      "[0.03855425 0.03639308]\n",
      "[0.03836407 0.03619678]\n",
      "[0.0381772  0.03600463]\n",
      "[0.03799354 0.03581651]\n",
      "[0.037813   0.03563232]\n",
      "[0.03763552 0.03545195]\n",
      "[0.037461   0.03527529]\n",
      "[0.03728937 0.03510226]\n",
      "[0.03712055 0.03493274]\n",
      "[0.03695447 0.03476664]\n",
      "[0.03679106 0.03460388]\n",
      "[0.03663024 0.03444435]\n",
      "[0.03647195 0.03428799]\n",
      "[0.03631612 0.03413469]\n",
      "[0.03616269 0.03398437]\n",
      "[0.0360116  0.03383697]\n",
      "[0.03586277 0.03369239]\n",
      "[0.03571617 0.03355056]\n",
      "[0.03557172 0.03341142]\n",
      "[0.03542937 0.03327488]\n",
      "[0.03528907 0.03314087]\n",
      "[0.03515076 0.03300934]\n",
      "[0.0350144  0.03288021]\n",
      "[0.03487992 0.03275342]\n",
      "[0.0347473 0.0326289]\n",
      "[0.03461646 0.0325066 ]\n",
      "[0.03448738 0.03238646]\n",
      "[0.03436001 0.03226842]\n",
      "[0.03423429 0.03215242]\n",
      "[0.0341102  0.03203842]\n",
      "[0.03398769 0.03192634]\n",
      "[0.03386671 0.03181616]\n",
      "[0.03374723 0.03170781]\n",
      "[0.03362922 0.03160125]\n",
      "[0.03351263 0.03149643]\n",
      "[0.03339743 0.0313933 ]\n",
      "[0.03328359 0.03129182]\n",
      "[0.03317106 0.03119195]\n",
      "[0.03305982 0.03109365]\n",
      "[0.03294984 0.03099686]\n",
      "[0.03284108 0.03090156]\n",
      "[0.03273352 0.03080771]\n",
      "[0.03262712 0.03071526]\n",
      "[0.03252186 0.03062418]\n",
      "[0.03241771 0.03053444]\n",
      "[0.03231464 0.030446  ]\n",
      "[0.03221262 0.03035882]\n",
      "[0.03211163 0.03027288]\n",
      "[0.03201164 0.03018813]\n",
      "[0.03191264 0.03010456]\n",
      "[0.03181459 0.03002213]\n",
      "[0.03171748 0.02994081]\n",
      "[0.03162127 0.02986058]\n",
      "[0.03152596 0.02978139]\n",
      "[0.03143151 0.02970324]\n",
      "[0.03133792 0.02962609]\n",
      "[0.03124514 0.02954991]\n",
      "[0.03115318 0.02947469]\n",
      "[0.03106201 0.02940039]\n",
      "[0.03097161 0.029327  ]\n",
      "[0.03088196 0.02925449]\n",
      "[0.03079305 0.02918283]\n",
      "[0.03070486 0.02911202]\n",
      "[0.03061736 0.02904202]\n",
      "[0.03053056 0.02897282]\n",
      "[0.03044443 0.02890439]\n",
      "[0.03035895 0.02883672]\n",
      "[0.03027411 0.02876979]\n",
      "[0.0301899  0.02870357]\n",
      "[0.03010631 0.02863806]\n",
      "[0.03002331 0.02857324]\n",
      "[0.0299409  0.02850908]\n",
      "[0.02985906 0.02844557]\n",
      "[0.02977778 0.0283827 ]\n",
      "[0.02969705 0.02832045]\n",
      "[0.02961686 0.02825881]\n",
      "[0.02953719 0.02819776]\n",
      "[0.02945804 0.02813728]\n",
      "[0.02937939 0.02807736]\n",
      "[0.02930123 0.028018  ]\n",
      "[0.02922356 0.02795917]\n",
      "[0.02914636 0.02790087]\n",
      "[0.02906962 0.02784307]\n",
      "[0.02899333 0.02778578]\n",
      "[0.02891749 0.02772897]\n",
      "[0.02884208 0.02767264]\n",
      "[0.0287671  0.02761677]\n",
      "[0.02869254 0.02756136]\n",
      "[0.02861838 0.02750639]\n",
      "[0.02854463 0.02745185]\n",
      "[0.02847127 0.02739774]\n",
      "[0.02839829 0.02734405]\n",
      "[0.0283257  0.02729075]\n",
      "[0.02825348 0.02723786]\n",
      "[0.02818162 0.02718534]\n",
      "[0.02811011 0.02713321]\n",
      "[0.02803896 0.02708145]\n",
      "[0.02796815 0.02703005]\n",
      "[0.02789769 0.026979  ]\n",
      "[0.02782755 0.0269283 ]\n",
      "[0.02775774 0.02687793]\n",
      "[0.02768824 0.0268279 ]\n",
      "[0.02761907 0.02677819]\n",
      "[0.0275502 0.0267288]\n",
      "[0.02748163 0.02667971]\n",
      "[0.02741337 0.02663093]\n",
      "[0.02734539 0.02658245]\n",
      "[0.02727771 0.02653426]\n",
      "[0.02721031 0.02648636]\n",
      "[0.02714318 0.02643873]\n",
      "[0.02707633 0.02639138]\n",
      "[0.02700976 0.02634429]\n",
      "[0.02694344 0.02629747]\n",
      "[0.02687739 0.0262509 ]\n",
      "[0.02681159 0.02620459]\n",
      "[0.02674605 0.02615852]\n",
      "[0.02668076 0.0261127 ]\n",
      "[0.02661571 0.02606711]\n",
      "[0.0265509  0.02602176]\n",
      "[0.02648634 0.02597663]\n",
      "[0.026422   0.02593173]\n",
      "[0.0263579  0.02588705]\n",
      "[0.02629403 0.02584258]\n",
      "[0.02623038 0.02579833]\n",
      "[0.02616695 0.02575428]\n",
      "[0.02610374 0.02571044]\n",
      "[0.02604074 0.02566679]\n",
      "[0.02597796 0.02562335]\n",
      "[0.02591539 0.0255801 ]\n",
      "[0.02585303 0.02553703]\n",
      "[0.02579086 0.02549416]\n",
      "[0.02572891 0.02545146]\n",
      "[0.02566715 0.02540895]\n",
      "[0.02560558 0.02536662]\n",
      "[0.02554421 0.02532445]\n",
      "[0.02548303 0.02528246]\n",
      "[0.02542204 0.02524064]\n",
      "[0.02536124 0.02519898]\n",
      "[0.02530063 0.02515749]\n",
      "[0.02524019 0.02511616]\n",
      "[0.02517994 0.02507498]\n",
      "[0.02511987 0.02503396]\n",
      "[0.02505997 0.02499309]\n",
      "[0.02500024 0.02495238]\n",
      "[0.02494069 0.02491181]\n",
      "[0.02488131 0.02487139]\n",
      "[0.0248221  0.02483111]\n",
      "[0.02476306 0.02479097]\n",
      "[0.02470419 0.02475097]\n",
      "[0.02464547 0.02471111]\n",
      "[0.02458692 0.02467139]\n",
      "[0.02452853 0.0246318 ]\n",
      "[0.0244703  0.02459234]\n",
      "[0.02441223 0.02455301]\n",
      "[0.02435431 0.02451381]\n",
      "[0.02429655 0.02447474]\n",
      "[0.02423895 0.02443579]\n",
      "[0.02418149 0.02439697]\n",
      "[0.02412419 0.02435827]\n",
      "[0.02406703 0.02431969]\n",
      "[0.02401002 0.02428122]\n",
      "[0.02395316 0.02424288]\n",
      "[0.02389645 0.02420465]\n",
      "[0.02383988 0.02416653]\n",
      "[0.02378345 0.02412853]\n",
      "[0.02372717 0.02409064]\n",
      "[0.02367102 0.02405286]\n",
      "[0.02361502 0.02401519]\n",
      "[0.02355915 0.02397762]\n",
      "[0.02350343 0.02394017]\n",
      "[0.02344784 0.02390282]\n",
      "[0.02339238 0.02386557]\n",
      "[0.02333706 0.02382843]\n",
      "[0.02328188 0.02379139]\n",
      "[0.02322683 0.02375445]\n",
      "[0.02317191 0.02371761]\n",
      "[0.02311712 0.02368087]\n",
      "[0.02306246 0.02364423]\n",
      "[0.02300793 0.02360769]\n",
      "[0.02295353 0.02357124]\n",
      "[0.02289926 0.02353489]\n",
      "[0.02284511 0.02349863]\n",
      "[0.02279109 0.02346247]\n",
      "[0.0227372 0.0234264]\n",
      "[0.02268343 0.02339042]\n",
      "[0.02262978 0.02335453]\n",
      "[0.02257626 0.02331873]\n",
      "[0.02252286 0.02328303]\n",
      "[0.02246958 0.02324741]\n",
      "[0.02241643 0.02321188]\n",
      "[0.02236339 0.02317644]\n",
      "[0.02231048 0.02314108]\n",
      "[0.02225768 0.02310581]\n",
      "[0.022205   0.02307062]\n",
      "[0.02215244 0.02303552]\n",
      "[0.0221     0.02300051]\n",
      "[0.02204768 0.02296558]\n",
      "[0.02199547 0.02293073]\n",
      "[0.02194337 0.02289596]\n",
      "[0.02189139 0.02286127]\n",
      "[0.02183953 0.02282667]\n",
      "[0.02178778 0.02279214]\n",
      "[0.02173615 0.0227577 ]\n",
      "[0.02168462 0.02272333]\n",
      "[0.02163321 0.02268905]\n",
      "[0.02158191 0.02265484]\n",
      "[0.02153073 0.02262071]\n",
      "[0.02147965 0.02258666]\n",
      "[0.02142868 0.02255268]\n",
      "[0.02137783 0.02251878]\n",
      "[0.02132708 0.02248496]\n",
      "[0.02127645 0.02245121]\n",
      "[0.02122592 0.02241754]\n",
      "[0.0211755  0.02238394]\n",
      "[0.02112519 0.02235042]\n",
      "[0.02107498 0.02231697]\n",
      "[0.02102488 0.0222836 ]\n",
      "[0.02097489 0.02225029]\n",
      "[0.02092501 0.02221706]\n",
      "[0.02087523 0.0221839 ]\n",
      "[0.02082556 0.02215082]\n",
      "[0.02077599 0.0221178 ]\n",
      "[0.02072652 0.02208486]\n",
      "[0.02067717 0.02205199]\n",
      "[0.02062791 0.02201918]\n",
      "[0.02057876 0.02198645]\n",
      "[0.02052971 0.02195379]\n",
      "[0.02048076 0.0219212 ]\n",
      "[0.02043192 0.02188867]\n",
      "[0.02038318 0.02185622]\n",
      "[0.02033454 0.02182383]\n",
      "[0.020286   0.02179151]\n",
      "[0.02023756 0.02175926]\n",
      "[0.02018923 0.02172707]\n",
      "[0.02014099 0.02169496]\n",
      "[0.02009286 0.02166291]\n",
      "[0.02004482 0.02163093]\n",
      "[0.01999689 0.02159901]\n",
      "[0.01994905 0.02156716]\n",
      "[0.01990131 0.02153538]\n",
      "[0.01985367 0.02150366]\n",
      "[0.01980613 0.021472  ]\n",
      "[0.01975869 0.02144042]\n",
      "[0.01971134 0.02140889]\n",
      "[0.0196641  0.02137743]\n",
      "[0.01961695 0.02134604]\n",
      "[0.01956989 0.02131471]\n",
      "[0.01952294 0.02128344]\n",
      "[0.01947608 0.02125224]\n",
      "[0.01942931 0.0212211 ]\n",
      "[0.01938264 0.02119003]\n",
      "[0.01933607 0.02115901]\n",
      "[0.01928959 0.02112806]\n",
      "[0.01924321 0.02109717]\n",
      "[0.01919692 0.02106635]\n",
      "[0.01915073 0.02103559]\n",
      "[0.01910463 0.02100488]\n",
      "[0.01905862 0.02097424]\n",
      "[0.01901271 0.02094367]\n",
      "[0.0189669  0.02091315]\n",
      "[0.01892117 0.02088269]\n",
      "[0.01887554 0.0208523 ]\n",
      "[0.01883    0.02082196]\n",
      "[0.01878456 0.02079169]\n",
      "[0.0187392  0.02076148]\n",
      "[0.01869394 0.02073132]\n",
      "[0.01864877 0.02070123]\n",
      "[0.01860369 0.0206712 ]\n",
      "[0.01855871 0.02064122]\n",
      "[0.01851381 0.02061131]\n",
      "[0.01846901 0.02058145]\n",
      "[0.01842429 0.02055166]\n",
      "[0.01837967 0.02052192]\n",
      "[0.01833514 0.02049224]\n",
      "[0.0182907  0.02046262]\n",
      "[0.01824634 0.02043306]\n",
      "[0.01820208 0.02040356]\n",
      "[0.01815791 0.02037411]\n",
      "[0.01811382 0.02034473]\n",
      "[0.01806983 0.0203154 ]\n",
      "[0.01802592 0.02028613]\n",
      "[0.0179821  0.02025691]\n",
      "[0.01793837 0.02022775]\n",
      "[0.01789473 0.02019865]\n",
      "[0.01785118 0.02016961]\n",
      "[0.01780771 0.02014063]\n",
      "[0.01776433 0.0201117 ]\n",
      "[0.01772104 0.02008282]\n",
      "[0.01767784 0.02005401]\n",
      "[0.01763472 0.02002525]\n",
      "[0.01759169 0.01999654]\n",
      "[0.01754875 0.0199679 ]\n",
      "[0.01750589 0.0199393 ]\n",
      "[0.01746312 0.01991077]\n",
      "[0.01742044 0.01988229]\n",
      "[0.01737784 0.01985386]\n",
      "[0.01733533 0.01982549]\n",
      "[0.0172929  0.01979718]\n",
      "[0.01725056 0.01976892]\n",
      "[0.0172083  0.01974071]\n",
      "[0.01716613 0.01971256]\n",
      "[0.01712404 0.01968446]\n",
      "[0.01708204 0.01965642]\n",
      "[0.01704012 0.01962844]\n",
      "[0.01699828 0.0196005 ]\n",
      "[0.01695653 0.01957263]\n",
      "[0.01691487 0.0195448 ]\n",
      "[0.01687328 0.01951703]\n",
      "[0.01683178 0.01948931]\n",
      "[0.01679037 0.01946165]\n",
      "[0.01674903 0.01943404]\n",
      "[0.01670778 0.01940648]\n",
      "[0.01666661 0.01937898]\n",
      "[0.01662553 0.01935153]\n",
      "[0.01658453 0.01932413]\n",
      "[0.0165436  0.01929679]\n",
      "[0.01650277 0.0192695 ]\n",
      "[0.01646201 0.01924226]\n",
      "[0.01642133 0.01921507]\n",
      "[0.01638074 0.01918794]\n",
      "[0.01634023 0.01916086]\n",
      "[0.0162998  0.01913383]\n",
      "[0.01625944 0.01910685]\n",
      "[0.01621918 0.01907992]\n",
      "[0.01617899 0.01905305]\n",
      "[0.01613888 0.01902623]\n",
      "[0.01609885 0.01899946]\n",
      "[0.0160589  0.01897274]\n",
      "[0.01601903 0.01894607]\n",
      "[0.01597924 0.01891946]\n",
      "[0.01593954 0.01889289]\n",
      "[0.01589991 0.01886638]\n",
      "[0.01586036 0.01883991]\n",
      "[0.01582089 0.0188135 ]\n",
      "[0.01578149 0.01878714]\n",
      "[0.01574218 0.01876083]\n",
      "[0.01570295 0.01873457]\n"
     ]
    },
    {
     "data": {
      "text/plain": [
       "(array([0.70712464, 0.67456527]), -0.23034857438407427, 0.0068641890429808105)"
      ]
     },
     "execution_count": 8,
     "metadata": {},
     "output_type": "execute_result"
    }
   ],
   "source": [
    "def batch_gradient_descent(X, y_true, epochs, learning_rate = 0.01):\n",
    "\n",
    "    number_of_features = X.shape[1]\n",
    "    # numpy array with 1 row and columns equal to number of features. In \n",
    "    # our case number_of_features = 2 (area, bedroom)\n",
    "    w = np.ones(shape=(number_of_features)) \n",
    "    b = 0\n",
    "    total_samples = X.shape[0] # number of rows in X\n",
    "    \n",
    "    cost_list = []\n",
    "    epoch_list = []\n",
    "    \n",
    "    for i in range(epochs):        \n",
    "        y_predicted = np.dot(w, X.T) + b# w1*area+w2*bedrooms+bias\n",
    "\n",
    "        w_grad = -(2/total_samples)*(X.T.dot(y_true-y_predicted))#derivatie of total error subject to weights,vector operation\n",
    "        print(w_grad)\n",
    "        b_grad = -(2/total_samples)*np.sum(y_true-y_predicted)\n",
    "        \n",
    "        #adhusting weights based on eroor minimiation\n",
    "\n",
    "            \n",
    "        w = w - learning_rate * w_grad\n",
    "        b = b - learning_rate * b_grad\n",
    "        \n",
    "        cost = np.mean(np.square(y_true-y_predicted)) # MSE (Mean Squared Error)\n",
    "        \n",
    "        if i%10==0:\n",
    "            cost_list.append(cost)\n",
    "            epoch_list.append(i)\n",
    "        \n",
    "    return w, b, cost, cost_list, epoch_list\n",
    "w, b, cost, cost_list, epoch_list = batch_gradient_descent(scaled_X,scaled_y.reshape(scaled_y.shape[0],),500)\n",
    "w, b, cost"
   ]
  },
  {
   "cell_type": "code",
   "execution_count": 9,
   "id": "dd65bbe5",
   "metadata": {},
   "outputs": [
    {
     "data": {
      "text/plain": [
       "[0.2768777174681,\n",
       " 0.16573507027671064,\n",
       " 0.10212908135956808,\n",
       " 0.06564235879682481,\n",
       " 0.04463022365578522,\n",
       " 0.03245122421764872,\n",
       " 0.025317339083010492,\n",
       " 0.021067914076635823,\n",
       " 0.01847041893523527,\n",
       " 0.016821657535428185,\n",
       " 0.015720331469182485,\n",
       " 0.014937329116527901,\n",
       " 0.014341749105819087,\n",
       " 0.0138587099774241,\n",
       " 0.013445288028074867,\n",
       " 0.013076793952344979,\n",
       " 0.012738945874049962,\n",
       " 0.012423405193086517,\n",
       " 0.012125230310262438,\n",
       " 0.011841424159334757,\n",
       " 0.011570105565415722,\n",
       " 0.011310036391930275,\n",
       " 0.01106035160957391,\n",
       " 0.010820405104702651,\n",
       " 0.010589681505198633,\n",
       " 0.010367745666240432,\n",
       " 0.010154213642862602,\n",
       " 0.009948735925187012,\n",
       " 0.009750987675343718,\n",
       " 0.009560662965348804,\n",
       " 0.009377471304274599,\n",
       " 0.009201135478234784,\n",
       " 0.009031390146006546,\n",
       " 0.008867980872255637,\n",
       " 0.008710663416728342,\n",
       " 0.008559203175573597,\n",
       " 0.008413374715338717,\n",
       " 0.008272961365501463,\n",
       " 0.008137754849850727,\n",
       " 0.00800755494527638,\n",
       " 0.007882169161242129,\n",
       " 0.0077614124359100785,\n",
       " 0.007645106846431061,\n",
       " 0.007533081331802613,\n",
       " 0.0074251714272102086,\n",
       " 0.007321219009066901,\n",
       " 0.007221072050143653,\n",
       " 0.007124584384290001,\n",
       " 0.007031615480311842,\n",
       " 0.006942030224616903]"
      ]
     },
     "execution_count": 9,
     "metadata": {},
     "output_type": "execute_result"
    }
   ],
   "source": [
    "cost_list"
   ]
  },
  {
   "cell_type": "code",
   "execution_count": 10,
   "id": "a06ed194",
   "metadata": {},
   "outputs": [
    {
     "data": {
      "text/plain": [
       "[<matplotlib.lines.Line2D at 0x1e3fd59f860>]"
      ]
     },
     "execution_count": 10,
     "metadata": {},
     "output_type": "execute_result"
    },
    {
     "data": {
      "image/png": "[encoded data removed]",
      "text/plain": [
       "<Figure size 432x288 with 1 Axes>"
      ]
     },
     "metadata": {
      "needs_background": "light"
     },
     "output_type": "display_data"
    }
   ],
   "source": [
    "plt.xlabel(\"epoch\")\n",
    "plt.ylabel(\"cost\")\n",
    "plt.plot(epoch_list,cost_list)"
   ]
  },
  {
   "cell_type": "code",
   "execution_count": 11,
   "id": "94666ea5",
   "metadata": {
    "scrolled": true
   },
   "outputs": [
    {
     "data": {
      "text/plain": [
       "(3, array([1., 1., 1.]), 20, array([1., 1.]), -0.1)"
      ]
     },
     "execution_count": 11,
     "metadata": {},
     "output_type": "execute_result"
    }
   ],
   "source": [
    "df.shape[1],np.ones(df.shape[1]),df.shape[0],np.ones(shape=(2)),-(2/df.shape[0])"
   ]
  },
  {
   "cell_type": "code",
   "execution_count": 12,
   "id": "99b70f11",
   "metadata": {},
   "outputs": [
    {
     "data": {
      "text/plain": [
       "(array([[0.08827586, 0.25      ],\n",
       "        [0.62068966, 0.75      ],\n",
       "        [0.22068966, 0.5       ],\n",
       "        [0.24862069, 0.5       ],\n",
       "        [0.13793103, 0.25      ],\n",
       "        [0.12758621, 0.25      ],\n",
       "        [0.6662069 , 0.75      ],\n",
       "        [0.86206897, 0.75      ],\n",
       "        [0.17586207, 0.5       ],\n",
       "        [1.        , 1.        ],\n",
       "        [0.34482759, 0.5       ],\n",
       "        [0.68448276, 0.75      ],\n",
       "        [0.06896552, 0.25      ],\n",
       "        [0.10344828, 0.25      ],\n",
       "        [0.5       , 0.5       ],\n",
       "        [0.12931034, 0.25      ],\n",
       "        [0.13103448, 0.5       ],\n",
       "        [0.25517241, 0.5       ],\n",
       "        [0.67931034, 0.5       ],\n",
       "        [0.        , 0.        ]]),\n",
       " array([[0.08827586, 0.62068966, 0.22068966, 0.24862069, 0.13793103,\n",
       "         0.12758621, 0.6662069 , 0.86206897, 0.17586207, 1.        ,\n",
       "         0.34482759, 0.68448276, 0.06896552, 0.10344828, 0.5       ,\n",
       "         0.12931034, 0.13103448, 0.25517241, 0.67931034, 0.        ],\n",
       "        [0.25      , 0.75      , 0.5       , 0.5       , 0.25      ,\n",
       "         0.25      , 0.75      , 0.75      , 0.5       , 1.        ,\n",
       "         0.5       , 0.75      , 0.25      , 0.25      , 0.5       ,\n",
       "         0.25      , 0.5       , 0.5       , 0.5       , 0.        ]]))"
      ]
     },
     "execution_count": 12,
     "metadata": {},
     "output_type": "execute_result"
    }
   ],
   "source": [
    "scaled_X,scaled_X.T#my row got converted into columns"
   ]
  },
  {
   "cell_type": "code",
   "execution_count": 13,
   "id": "53ad1bcf",
   "metadata": {},
   "outputs": [
    {
     "data": {
      "text/plain": [
       "array([0.33827586, 1.37068966, 0.72068966, 0.74862069, 0.38793103,\n",
       "       0.37758621, 1.4162069 , 1.61206897, 0.67586207, 2.        ,\n",
       "       0.84482759, 1.43448276, 0.31896552, 0.35344828, 1.        ,\n",
       "       0.37931034, 0.63103448, 0.75517241, 1.17931034, 0.        ])"
      ]
     },
     "execution_count": 13,
     "metadata": {},
     "output_type": "execute_result"
    }
   ],
   "source": [
    "np.dot(np.ones(shape=(2)),scaled_X.T)#w1*area+w2*bedrooms"
   ]
  },
  {
   "cell_type": "code",
   "execution_count": 14,
   "id": "18ba47fe",
   "metadata": {},
   "outputs": [
    {
     "data": {
      "text/plain": [
       "array([[  1.86705708,  -5.40576409,  -0.82685029,  -1.02360999,\n",
       "          1.51726207,   1.59013603,  -5.72640951,  -7.10615648,\n",
       "         -0.51106314,  -9.83892996,  -1.70133781,  -5.85515351,\n",
       "          2.00308847,   1.76017527,  -2.7944472 ,   1.57799037,\n",
       "         -0.19527598,  -1.06976349,  -4.05759584,   4.25003556],\n",
       "       [  1.43465709,  -8.37327395,  -2.19827395,  -2.46361877,\n",
       "          0.96293295,   1.06120881,  -8.80568774, -10.66637739,\n",
       "         -1.77241188, -14.35172222,  -3.37758429,  -8.97930843,\n",
       "          1.61810536,   1.29051916,  -4.85172222,   1.0448295 ,\n",
       "         -1.34654981,  -2.52586015,  -6.5551705 ,   4.64827778]])"
      ]
     },
     "execution_count": 14,
     "metadata": {},
     "output_type": "execute_result"
    }
   ],
   "source": [
    "(scaled_X.T.dot(scaled_y-np.dot(np.ones(shape=(2)),scaled_X.T)))"
   ]
  },
  {
   "cell_type": "code",
   "execution_count": 15,
   "id": "e5fbc5fd",
   "metadata": {},
   "outputs": [
    {
     "data": {
      "text/plain": [
       "array([[-2.85905492e-01, -1.31831928e+00, -6.68319285e-01,\n",
       "        -6.96250319e-01, -3.35560664e-01, -3.25215837e-01,\n",
       "        -1.36383653e+00, -1.55969860e+00, -6.23491699e-01,\n",
       "        -1.94762963e+00, -7.92457216e-01, -1.38211239e+00,\n",
       "        -2.66595147e-01, -3.01077905e-01, -9.47629630e-01,\n",
       "        -3.26939974e-01, -5.78664112e-01, -7.02802043e-01,\n",
       "        -1.12693997e+00,  5.23703704e-02],\n",
       "       [ 3.13575990e-01, -7.18837803e-01, -6.88378033e-02,\n",
       "        -9.67688378e-02,  2.63920817e-01,  2.74265645e-01,\n",
       "        -7.64355045e-01, -9.60217114e-01, -2.40102171e-02,\n",
       "        -1.34814815e+00, -1.92975734e-01, -7.82630907e-01,\n",
       "         3.32886335e-01,  2.98403576e-01, -3.48148148e-01,\n",
       "         2.72541507e-01,  2.08173691e-02, -1.03320562e-01,\n",
       "        -5.27458493e-01,  6.51851852e-01],\n",
       "       [-1.16053640e-01, -1.14846743e+00, -4.98467433e-01,\n",
       "        -5.26398467e-01, -1.65708812e-01, -1.55363985e-01,\n",
       "        -1.19398467e+00, -1.38984674e+00, -4.53639847e-01,\n",
       "        -1.77777778e+00, -6.22605364e-01, -1.21226054e+00,\n",
       "        -9.67432950e-02, -1.31226054e-01, -7.77777778e-01,\n",
       "        -1.57088123e-01, -4.08812261e-01, -5.32950192e-01,\n",
       "        -9.57088123e-01,  2.22222222e-01],\n",
       "       [-1.97573436e-02, -1.05217114e+00, -4.02171137e-01,\n",
       "        -4.30102171e-01, -6.94125160e-02, -5.90676884e-02,\n",
       "        -1.09768838e+00, -1.29355045e+00, -3.57343550e-01,\n",
       "        -1.68148148e+00, -5.26309068e-01, -1.11596424e+00,\n",
       "        -4.46998723e-04, -3.49297573e-02, -6.81481481e-01,\n",
       "        -6.07918263e-02, -3.12515964e-01, -4.36653895e-01,\n",
       "        -8.60791826e-01,  3.18518519e-01],\n",
       "       [-1.97535121e-01, -1.22994891e+00, -5.79948914e-01,\n",
       "        -6.07879949e-01, -2.47190294e-01, -2.36845466e-01,\n",
       "        -1.27546616e+00, -1.47132822e+00, -5.35121328e-01,\n",
       "        -1.85925926e+00, -7.04086845e-01, -1.29374202e+00,\n",
       "        -1.78224777e-01, -2.12707535e-01, -8.59259259e-01,\n",
       "        -2.38569604e-01, -4.90293742e-01, -6.14431673e-01,\n",
       "        -1.03856960e+00,  1.40740741e-01],\n",
       "       [-2.93831418e-01, -1.32624521e+00, -6.76245211e-01,\n",
       "        -7.04176245e-01, -3.43486590e-01, -3.33141762e-01,\n",
       "        -1.37176245e+00, -1.56762452e+00, -6.31417625e-01,\n",
       "        -1.95555556e+00, -8.00383142e-01, -1.39003831e+00,\n",
       "        -2.74521073e-01, -3.09003831e-01, -9.55555556e-01,\n",
       "        -3.34865900e-01, -5.86590038e-01, -7.10727969e-01,\n",
       "        -1.13486590e+00,  4.44444444e-02],\n",
       "       [ 4.24687101e-01, -6.07726692e-01,  4.22733078e-02,\n",
       "         1.43422733e-02,  3.75031928e-01,  3.85376756e-01,\n",
       "        -6.53243934e-01, -8.49106003e-01,  8.71008940e-02,\n",
       "        -1.23703704e+00, -8.18646232e-02, -6.71519796e-01,\n",
       "         4.43997446e-01,  4.09514687e-01, -2.37037037e-01,\n",
       "         3.83652618e-01,  1.31928480e-01,  7.79054917e-03,\n",
       "        -4.16347382e-01,  7.62962963e-01],\n",
       "       [ 5.72835249e-01, -4.59578544e-01,  1.90421456e-01,\n",
       "         1.62490421e-01,  5.23180077e-01,  5.33524904e-01,\n",
       "        -5.05095785e-01, -7.00957854e-01,  2.35249042e-01,\n",
       "        -1.08888889e+00,  6.62835249e-02, -5.23371648e-01,\n",
       "         5.92145594e-01,  5.57662835e-01, -8.88888889e-02,\n",
       "         5.31800766e-01,  2.80076628e-01,  1.55938697e-01,\n",
       "        -2.68199234e-01,  9.11111111e-01],\n",
       "       [-2.04942529e-01, -1.23735632e+00, -5.87356322e-01,\n",
       "        -6.15287356e-01, -2.54597701e-01, -2.44252874e-01,\n",
       "        -1.28287356e+00, -1.47873563e+00, -5.42528736e-01,\n",
       "        -1.86666667e+00, -7.11494253e-01, -1.30114943e+00,\n",
       "        -1.85632184e-01, -2.20114943e-01, -8.66666667e-01,\n",
       "        -2.45977011e-01, -4.97701149e-01, -6.21839080e-01,\n",
       "        -1.04597701e+00,  1.33333333e-01],\n",
       "       [ 6.61724138e-01, -3.70689655e-01,  2.79310345e-01,\n",
       "         2.51379310e-01,  6.12068966e-01,  6.22413793e-01,\n",
       "        -4.16206897e-01, -6.12068966e-01,  3.24137931e-01,\n",
       "        -1.00000000e+00,  1.55172414e-01, -4.34482759e-01,\n",
       "         6.81034483e-01,  6.46551724e-01,  1.11022302e-16,\n",
       "         6.20689655e-01,  3.68965517e-01,  2.44827586e-01,\n",
       "        -1.79310345e-01,  1.00000000e+00],\n",
       "       [ 3.20945083e-02, -1.00031928e+00, -3.50319285e-01,\n",
       "        -3.78250319e-01, -1.75606641e-02, -7.21583653e-03,\n",
       "        -1.04583653e+00, -1.24169860e+00, -3.05491699e-01,\n",
       "        -1.62962963e+00, -4.74457216e-01, -1.06411239e+00,\n",
       "         5.14048531e-02,  1.69220945e-02, -6.29629630e-01,\n",
       "        -8.93997446e-03, -2.60664112e-01, -3.84802043e-01,\n",
       "        -8.08939974e-01,  3.70370370e-01],\n",
       "       [ 4.61724138e-01, -5.70689655e-01,  7.93103448e-02,\n",
       "         5.13793103e-02,  4.12068966e-01,  4.22413793e-01,\n",
       "        -6.16206897e-01, -8.12068966e-01,  1.24137931e-01,\n",
       "        -1.20000000e+00, -4.48275862e-02, -6.34482759e-01,\n",
       "         4.81034483e-01,  4.46551724e-01, -2.00000000e-01,\n",
       "         4.20689655e-01,  1.68965517e-01,  4.48275862e-02,\n",
       "        -3.79310345e-01,  8.00000000e-01],\n",
       "       [-2.93831418e-01, -1.32624521e+00, -6.76245211e-01,\n",
       "        -7.04176245e-01, -3.43486590e-01, -3.33141762e-01,\n",
       "        -1.37176245e+00, -1.56762452e+00, -6.31417625e-01,\n",
       "        -1.95555556e+00, -8.00383142e-01, -1.39003831e+00,\n",
       "        -2.74521073e-01, -3.09003831e-01, -9.55555556e-01,\n",
       "        -3.34865900e-01, -5.86590038e-01, -7.10727969e-01,\n",
       "        -1.13486590e+00,  4.44444444e-02],\n",
       "       [-2.79016603e-01, -1.31143040e+00, -6.61430396e-01,\n",
       "        -6.89361430e-01, -3.28671775e-01, -3.18326948e-01,\n",
       "        -1.35694764e+00, -1.55280971e+00, -6.16602810e-01,\n",
       "        -1.94074074e+00, -7.85568327e-01, -1.37522350e+00,\n",
       "        -2.59706258e-01, -2.94189017e-01, -9.40740741e-01,\n",
       "        -3.20051086e-01, -5.71775223e-01, -6.95913155e-01,\n",
       "        -1.12005109e+00,  5.92592593e-02],\n",
       "       [ 1.72835249e-01, -8.59578544e-01, -2.09578544e-01,\n",
       "        -2.37509579e-01,  1.23180077e-01,  1.33524904e-01,\n",
       "        -9.05095785e-01, -1.10095785e+00, -1.64750958e-01,\n",
       "        -1.48888889e+00, -3.33716475e-01, -9.23371648e-01,\n",
       "         1.92145594e-01,  1.57662835e-01, -4.88888889e-01,\n",
       "         1.31800766e-01, -1.19923372e-01, -2.44061303e-01,\n",
       "        -6.68199234e-01,  5.11111111e-01],\n",
       "       [-2.64201788e-01, -1.29661558e+00, -6.46615581e-01,\n",
       "        -6.74546616e-01, -3.13856960e-01, -3.03512133e-01,\n",
       "        -1.34213282e+00, -1.53799489e+00, -6.01787995e-01,\n",
       "        -1.92592593e+00, -7.70753512e-01, -1.36040868e+00,\n",
       "        -2.44891443e-01, -2.79374202e-01, -9.25925926e-01,\n",
       "        -3.05236271e-01, -5.56960409e-01, -6.81098340e-01,\n",
       "        -1.10523627e+00,  7.40740741e-02],\n",
       "       [-2.19757344e-01, -1.25217114e+00, -6.02171137e-01,\n",
       "        -6.30102171e-01, -2.69412516e-01, -2.59067688e-01,\n",
       "        -1.29768838e+00, -1.49355045e+00, -5.57343550e-01,\n",
       "        -1.88148148e+00, -7.26309068e-01, -1.31596424e+00,\n",
       "        -2.00446999e-01, -2.34929757e-01, -8.81481481e-01,\n",
       "        -2.60791826e-01, -5.12515964e-01, -6.36653895e-01,\n",
       "        -1.06079183e+00,  1.18518519e-01],\n",
       "       [-1.30868455e-01, -1.16328225e+00, -5.13282248e-01,\n",
       "        -5.41213282e-01, -1.80523627e-01, -1.70178799e-01,\n",
       "        -1.20879949e+00, -1.40466156e+00, -4.68454662e-01,\n",
       "        -1.79259259e+00, -6.37420179e-01, -1.22707535e+00,\n",
       "        -1.11558110e-01, -1.46040868e-01, -7.92592593e-01,\n",
       "        -1.71902937e-01, -4.23627075e-01, -5.47765006e-01,\n",
       "        -9.71902937e-01,  2.07407407e-01],\n",
       "       [ 1.80242656e-01, -8.52171137e-01, -2.02171137e-01,\n",
       "        -2.30102171e-01,  1.30587484e-01,  1.40932312e-01,\n",
       "        -8.97688378e-01, -1.09355045e+00, -1.57343550e-01,\n",
       "        -1.48148148e+00, -3.26309068e-01, -9.15964240e-01,\n",
       "         1.99553001e-01,  1.65070243e-01, -4.81481481e-01,\n",
       "         1.39208174e-01, -1.12515964e-01, -2.36653895e-01,\n",
       "        -6.60791826e-01,  5.18518519e-01],\n",
       "       [-3.38275862e-01, -1.37068966e+00, -7.20689655e-01,\n",
       "        -7.48620690e-01, -3.87931034e-01, -3.77586207e-01,\n",
       "        -1.41620690e+00, -1.61206897e+00, -6.75862069e-01,\n",
       "        -2.00000000e+00, -8.44827586e-01, -1.43448276e+00,\n",
       "        -3.18965517e-01, -3.53448276e-01, -1.00000000e+00,\n",
       "        -3.79310345e-01, -6.31034483e-01, -7.55172414e-01,\n",
       "        -1.17931034e+00,  0.00000000e+00]])"
      ]
     },
     "execution_count": 15,
     "metadata": {},
     "output_type": "execute_result"
    }
   ],
   "source": [
    "scaled_y-np.dot(np.ones(shape=(2)),scaled_X.T)#w1*area+w2*bedrooms"
   ]
  },
  {
   "cell_type": "code",
   "execution_count": 16,
   "id": "842c9450",
   "metadata": {},
   "outputs": [
    {
     "name": "stdout",
     "output_type": "stream",
     "text": [
      "[[array([0.62068966, 0.75      ])]]\n",
      "[array([0.62068966, 0.75      ])]\n",
      "[0.62068966 0.75      ]\n",
      "[[0.7144803261679701]]\n"
     ]
    },
    {
     "data": {
      "text/plain": [
       "128.45484403267596"
      ]
     },
     "execution_count": 16,
     "metadata": {},
     "output_type": "execute_result"
    }
   ],
   "source": [
    "def predict(area,bedrooms,w,b):\n",
    "    scaled_X = sx.transform([[area, bedrooms]])[0]\n",
    "    print([[scaled_X]])\n",
    "    print([[scaled_X]][0])\n",
    "    print([[scaled_X]][0][0])\n",
    "    scaled_price = w[0] * scaled_X[0] + w[1] * scaled_X[1] + b\n",
    "    print([[scaled_price]])\n",
    "    return sy.inverse_transform([[scaled_price]])[0][0]#These scaler expect 2 dimensional array\n",
    "\n",
    "predict(2600,4,w,b)"
   ]
  },
  {
   "cell_type": "code",
   "execution_count": 17,
   "id": "41e3b735",
   "metadata": {},
   "outputs": [
    {
     "data": {
      "text/plain": [
       "array([0.70712464, 0.67456527])"
      ]
     },
     "execution_count": 17,
     "metadata": {},
     "output_type": "execute_result"
    }
   ],
   "source": [
    "w"
   ]
  },
  {
   "cell_type": "code",
   "execution_count": 18,
   "id": "587379fd",
   "metadata": {},
   "outputs": [
    {
     "data": {
      "text/plain": [
       "0"
      ]
     },
     "execution_count": 18,
     "metadata": {},
     "output_type": "execute_result"
    }
   ],
   "source": [
    "# we will use random libary to pick random training sample.\n",
    "import random\n",
    "random.randint(0,6) # randit gives random number between two numbers specified in the argument"
   ]
  },
  {
   "cell_type": "code",
   "execution_count": 19,
   "id": "2945c2b3",
   "metadata": {},
   "outputs": [
    {
     "data": {
      "text/plain": [
       "(array([0.7052474 , 0.67385669]), -0.23037595497839441, 0.00026876556448148225)"
      ]
     },
     "execution_count": 19,
     "metadata": {},
     "output_type": "execute_result"
    }
   ],
   "source": [
    "def stochastic_gradient_descent(X, y_true, epochs, learning_rate = 0.01):\n",
    " \n",
    "    number_of_features = X.shape[1]\n",
    "    # numpy array with 1 row and columns equal to number of features. In \n",
    "    # our case number_of_features = 3 (area, bedroom and age)\n",
    "    w = np.ones(shape=(number_of_features)) \n",
    "    b = 0\n",
    "    total_samples = X.shape[0]\n",
    "    \n",
    "    cost_list = []\n",
    "    epoch_list = []\n",
    "    \n",
    "    for i in range(epochs):    \n",
    "        random_index = random.randint(0,total_samples-1) # random index from total samples\n",
    "        sample_x = X[random_index]#Randomly picks index number dont go through all\n",
    "        sample_y = y_true[random_index]\n",
    "        \n",
    "        y_predicted = np.dot(w, sample_x.T) + b\n",
    "    \n",
    "        w_grad = -(2/total_samples)*(sample_x.T.dot(sample_y-y_predicted))\n",
    "        b_grad = -(2/total_samples)*(sample_y-y_predicted)\n",
    "        \n",
    "        w = w - learning_rate * w_grad\n",
    "        b = b - learning_rate * b_grad\n",
    "        \n",
    "        cost = np.square(sample_y-y_predicted)\n",
    "        \n",
    "        if i%100==0: # at every 100th iteration record the cost and epoch value\n",
    "            cost_list.append(cost)\n",
    "            epoch_list.append(i)\n",
    "        \n",
    "    return w, b, cost, cost_list, epoch_list\n",
    "\n",
    "w_sgd, b_sgd, cost_sgd, cost_list_sgd, epoch_list_sgd = stochastic_gradient_descent(scaled_X,scaled_y.reshape(scaled_y.shape[0],),10000)\n",
    "w_sgd, b_sgd, cost_sgd"
   ]
  },
  {
   "cell_type": "code",
   "execution_count": 20,
   "id": "f34a74b8",
   "metadata": {},
   "outputs": [
    {
     "data": {
      "text/plain": [
       "array([0.67931034, 0.5       ])"
      ]
     },
     "execution_count": 20,
     "metadata": {},
     "output_type": "execute_result"
    }
   ],
   "source": [
    "scaled_X[random.randint(0,scaled_X.shape[0]-1)]#Randomly picks index number dont go through all"
   ]
  },
  {
   "cell_type": "code",
   "execution_count": 21,
   "id": "9e8e1f77",
   "metadata": {},
   "outputs": [
    {
     "data": {
      "text/plain": [
       "[<matplotlib.lines.Line2D at 0x1e3fd644cf8>]"
      ]
     },
     "execution_count": 21,
     "metadata": {},
     "output_type": "execute_result"
    },
    {
     "data": {
      "image/png": "[encoded data removed]",
      "text/plain": [
       "<Figure size 432x288 with 1 Axes>"
      ]
     },
     "metadata": {
      "needs_background": "light"
     },
     "output_type": "display_data"
    }
   ],
   "source": [
    "plt.xlabel(\"epoch\")\n",
    "plt.ylabel(\"cost\")\n",
    "plt.plot(epoch_list_sgd,cost_list_sgd)"
   ]
  },
  {
   "cell_type": "code",
   "execution_count": 22,
   "id": "dd831a1c",
   "metadata": {},
   "outputs": [
    {
     "name": "stdout",
     "output_type": "stream",
     "text": [
      "[[array([0.62068966, 0.75      ])]]\n",
      "[array([0.62068966, 0.75      ])]\n",
      "[0.62068966 0.75      ]\n",
      "[[0.7127563310842642]]\n"
     ]
    },
    {
     "data": {
      "text/plain": [
       "128.22210469637565"
      ]
     },
     "execution_count": 22,
     "metadata": {},
     "output_type": "execute_result"
    }
   ],
   "source": [
    "predict(2600,4,w_sgd, b_sgd)#predicting home price with stocastic weights and biasness"
   ]
  },
  {
   "cell_type": "code",
   "execution_count": 23,
   "id": "feb38bc1",
   "metadata": {},
   "outputs": [
    {
     "data": {
      "text/plain": [
       "array([[0.08827586, 0.62068966, 0.22068966, 0.24862069, 0.13793103,\n",
       "        0.12758621, 0.6662069 , 0.86206897, 0.17586207, 1.        ,\n",
       "        0.34482759, 0.68448276, 0.06896552, 0.10344828, 0.5       ,\n",
       "        0.12931034, 0.13103448, 0.25517241, 0.67931034, 0.        ],\n",
       "       [0.25      , 0.75      , 0.5       , 0.5       , 0.25      ,\n",
       "        0.25      , 0.75      , 0.75      , 0.5       , 1.        ,\n",
       "        0.5       , 0.75      , 0.25      , 0.25      , 0.5       ,\n",
       "        0.25      , 0.5       , 0.5       , 0.5       , 0.        ]])"
      ]
     },
     "execution_count": 23,
     "metadata": {},
     "output_type": "execute_result"
    }
   ],
   "source": [
    "scaled_X.T"
   ]
  },
  {
   "cell_type": "code",
   "execution_count": 24,
   "id": "95bc7330",
   "metadata": {},
   "outputs": [
    {
     "data": {
      "text/plain": [
       "array([0.33827586, 1.37068966, 0.72068966, 0.74862069, 0.38793103,\n",
       "       0.37758621, 1.4162069 , 1.61206897, 0.67586207, 2.        ,\n",
       "       0.84482759, 1.43448276, 0.31896552, 0.35344828, 1.        ,\n",
       "       0.37931034, 0.63103448, 0.75517241, 1.17931034, 0.        ])"
      ]
     },
     "execution_count": 24,
     "metadata": {},
     "output_type": "execute_result"
    }
   ],
   "source": [
    " np.dot(np.ones(shape=(scaled_X.shape[1])), scaled_X.T)"
   ]
  },
  {
   "cell_type": "code",
   "execution_count": 25,
   "id": "99d259e6",
   "metadata": {},
   "outputs": [
    {
     "data": {
      "text/plain": [
       "array([[0.17655172, 1.24137931, 0.44137931, 0.49724138, 0.27586207,\n",
       "        0.25517241, 1.33241379, 1.72413793, 0.35172414, 2.        ,\n",
       "        0.68965517, 1.36896552, 0.13793103, 0.20689655, 1.        ,\n",
       "        0.25862069, 0.26206897, 0.51034483, 1.35862069, 0.        ],\n",
       "       [0.5       , 1.5       , 1.        , 1.        , 0.5       ,\n",
       "        0.5       , 1.5       , 1.5       , 1.        , 2.        ,\n",
       "        1.        , 1.5       , 0.5       , 0.5       , 1.        ,\n",
       "        0.5       , 1.        , 1.        , 1.        , 0.        ]])"
      ]
     },
     "execution_count": 25,
     "metadata": {},
     "output_type": "execute_result"
    }
   ],
   "source": [
    "scaled_X.T.dot(2)"
   ]
  },
  {
   "cell_type": "code",
   "execution_count": 26,
   "id": "4bcb0fae",
   "metadata": {},
   "outputs": [
    {
     "data": {
      "text/plain": [
       "array([[0.08827586, 0.62068966, 0.22068966, 0.24862069, 0.13793103,\n",
       "        0.12758621, 0.6662069 , 0.86206897, 0.17586207, 1.        ,\n",
       "        0.34482759, 0.68448276, 0.06896552, 0.10344828, 0.5       ,\n",
       "        0.12931034, 0.13103448, 0.25517241, 0.67931034, 0.        ],\n",
       "       [0.25      , 0.75      , 0.5       , 0.5       , 0.25      ,\n",
       "        0.25      , 0.75      , 0.75      , 0.5       , 1.        ,\n",
       "        0.5       , 0.75      , 0.25      , 0.25      , 0.5       ,\n",
       "        0.25      , 0.5       , 0.5       , 0.5       , 0.        ]])"
      ]
     },
     "execution_count": 26,
     "metadata": {},
     "output_type": "execute_result"
    }
   ],
   "source": [
    "scaled_X.T"
   ]
  },
  {
   "cell_type": "code",
   "execution_count": null,
   "id": "eba8edcf",
   "metadata": {},
   "outputs": [],
   "source": []
  }
 ],
 "metadata": {
  "kernelspec": {
   "display_name": "Python 3 (ipykernel)",
   "language": "python",
   "name": "python3"
  },
  "language_info": {
   "codemirror_mode": {
    "name": "ipython",
    "version": 3
   },
   "file_extension": ".py",
   "mimetype": "text/x-python",
   "name": "python",
   "nbconvert_exporter": "python",
   "pygments_lexer": "ipython3",
   "version": "3.7.3"
  }
 },
 "nbformat": 4,
 "nbformat_minor": 5
}

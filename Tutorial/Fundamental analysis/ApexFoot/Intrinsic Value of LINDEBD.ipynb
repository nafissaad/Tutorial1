{
 "cells": [
  {
   "cell_type": "code",
   "execution_count": 1,
   "id": "a3f8748e",
   "metadata": {},
   "outputs": [],
   "source": [
    "import pandas as pd\n",
    "import numpy as np\n",
    "import matplotlib.pyplot as plt"
   ]
  },
  {
   "cell_type": "code",
   "execution_count": 2,
   "id": "b9177c33",
   "metadata": {},
   "outputs": [
    {
     "data": {
      "text/plain": [
       "[1004, 1231, 1074, 1226, 883]"
      ]
     },
     "execution_count": 2,
     "metadata": {},
     "output_type": "execute_result"
    }
   ],
   "source": [
    "Net_income=[883,1226,1074,1231,1004]\n",
    "Net_income.reverse()\n",
    "Net_income"
   ]
  },
  {
   "cell_type": "code",
   "execution_count": 3,
   "id": "31efd465",
   "metadata": {},
   "outputs": [
    {
     "data": {
      "text/html": [
       "<div>\n",
       "<style scoped>\n",
       "    .dataframe tbody tr th:only-of-type {\n",
       "        vertical-align: middle;\n",
       "    }\n",
       "\n",
       "    .dataframe tbody tr th {\n",
       "        vertical-align: top;\n",
       "    }\n",
       "\n",
       "    .dataframe thead th {\n",
       "        text-align: right;\n",
       "    }\n",
       "</style>\n",
       "<table border=\"1\" class=\"dataframe\">\n",
       "  <thead>\n",
       "    <tr style=\"text-align: right;\">\n",
       "      <th></th>\n",
       "      <th>Values</th>\n",
       "    </tr>\n",
       "  </thead>\n",
       "  <tbody>\n",
       "    <tr>\n",
       "      <th>Discount Rate</th>\n",
       "      <td>NaN</td>\n",
       "    </tr>\n",
       "    <tr>\n",
       "      <th>Growth rate(1-5)</th>\n",
       "      <td>NaN</td>\n",
       "    </tr>\n",
       "    <tr>\n",
       "      <th>Growth rate(5-10)</th>\n",
       "      <td>NaN</td>\n",
       "    </tr>\n",
       "    <tr>\n",
       "      <th>Terminal value</th>\n",
       "      <td>NaN</td>\n",
       "    </tr>\n",
       "    <tr>\n",
       "      <th>Ticker</th>\n",
       "      <td>NaN</td>\n",
       "    </tr>\n",
       "    <tr>\n",
       "      <th>Share Price</th>\n",
       "      <td>NaN</td>\n",
       "    </tr>\n",
       "    <tr>\n",
       "      <th>Outstanding shares</th>\n",
       "      <td>NaN</td>\n",
       "    </tr>\n",
       "  </tbody>\n",
       "</table>\n",
       "</div>"
      ],
      "text/plain": [
       "                   Values\n",
       "Discount Rate         NaN\n",
       "Growth rate(1-5)      NaN\n",
       "Growth rate(5-10)     NaN\n",
       "Terminal value        NaN\n",
       "Ticker                NaN\n",
       "Share Price           NaN\n",
       "Outstanding shares    NaN"
      ]
     },
     "execution_count": 3,
     "metadata": {},
     "output_type": "execute_result"
    }
   ],
   "source": [
    "Matrix=pd.DataFrame(columns=['Values'],index=['Discount Rate','Growth rate(1-5)','Growth rate(5-10)','Terminal value','Ticker','Share Price','Outstanding shares'])\n",
    "Matrix"
   ]
  },
  {
   "cell_type": "code",
   "execution_count": 4,
   "id": "f1547d6b",
   "metadata": {},
   "outputs": [
    {
     "data": {
      "text/html": [
       "<div>\n",
       "<style scoped>\n",
       "    .dataframe tbody tr th:only-of-type {\n",
       "        vertical-align: middle;\n",
       "    }\n",
       "\n",
       "    .dataframe tbody tr th {\n",
       "        vertical-align: top;\n",
       "    }\n",
       "\n",
       "    .dataframe thead th {\n",
       "        text-align: right;\n",
       "    }\n",
       "</style>\n",
       "<table border=\"1\" class=\"dataframe\">\n",
       "  <thead>\n",
       "    <tr style=\"text-align: right;\">\n",
       "      <th></th>\n",
       "      <th>Values</th>\n",
       "    </tr>\n",
       "  </thead>\n",
       "  <tbody>\n",
       "    <tr>\n",
       "      <th>Discount Rate</th>\n",
       "      <td>0.09</td>\n",
       "    </tr>\n",
       "    <tr>\n",
       "      <th>Growth rate(1-5)</th>\n",
       "      <td>-0.025357</td>\n",
       "    </tr>\n",
       "    <tr>\n",
       "      <th>Growth rate(5-10)</th>\n",
       "      <td>-0.025357</td>\n",
       "    </tr>\n",
       "    <tr>\n",
       "      <th>Terminal value</th>\n",
       "      <td>10</td>\n",
       "    </tr>\n",
       "    <tr>\n",
       "      <th>Ticker</th>\n",
       "      <td>LINDEBD</td>\n",
       "    </tr>\n",
       "    <tr>\n",
       "      <th>Share Price</th>\n",
       "      <td>1397.7</td>\n",
       "    </tr>\n",
       "    <tr>\n",
       "      <th>Outstanding shares</th>\n",
       "      <td>15.22</td>\n",
       "    </tr>\n",
       "  </tbody>\n",
       "</table>\n",
       "</div>"
      ],
      "text/plain": [
       "                      Values\n",
       "Discount Rate           0.09\n",
       "Growth rate(1-5)   -0.025357\n",
       "Growth rate(5-10)  -0.025357\n",
       "Terminal value            10\n",
       "Ticker               LINDEBD\n",
       "Share Price           1397.7\n",
       "Outstanding shares     15.22"
      ]
     },
     "execution_count": 4,
     "metadata": {},
     "output_type": "execute_result"
    }
   ],
   "source": [
    "Matrix.loc['Discount Rate','Values']=0.09\n",
    "Matrix.loc['Growth rate(1-5)','Values']=(Net_income[-1]/Net_income[0])**(1/5)-1\n",
    "Matrix.loc['Growth rate(5-10)','Values']=(Net_income[-1]/Net_income[0])**(1/5)-1\n",
    "Matrix.loc['Terminal value','Values']=10\n",
    "Matrix.loc['Share Price','Values']=1397.70\n",
    "Matrix.loc['Ticker','Values']='LINDEBD'\n",
    "Matrix.loc['Outstanding shares','Values']=15.22\n",
    "Matrix"
   ]
  },
  {
   "cell_type": "code",
   "execution_count": 5,
   "id": "c460fad7",
   "metadata": {},
   "outputs": [
    {
     "data": {
      "text/html": [
       "<div>\n",
       "<style scoped>\n",
       "    .dataframe tbody tr th:only-of-type {\n",
       "        vertical-align: middle;\n",
       "    }\n",
       "\n",
       "    .dataframe tbody tr th {\n",
       "        vertical-align: top;\n",
       "    }\n",
       "\n",
       "    .dataframe thead th {\n",
       "        text-align: right;\n",
       "    }\n",
       "</style>\n",
       "<table border=\"1\" class=\"dataframe\">\n",
       "  <thead>\n",
       "    <tr style=\"text-align: right;\">\n",
       "      <th></th>\n",
       "      <th>FCF(Free Cash Flow)</th>\n",
       "      <th>Present Value</th>\n",
       "    </tr>\n",
       "  </thead>\n",
       "  <tbody>\n",
       "    <tr>\n",
       "      <th>1</th>\n",
       "      <td>NaN</td>\n",
       "      <td>NaN</td>\n",
       "    </tr>\n",
       "    <tr>\n",
       "      <th>2</th>\n",
       "      <td>NaN</td>\n",
       "      <td>NaN</td>\n",
       "    </tr>\n",
       "    <tr>\n",
       "      <th>3</th>\n",
       "      <td>NaN</td>\n",
       "      <td>NaN</td>\n",
       "    </tr>\n",
       "    <tr>\n",
       "      <th>4</th>\n",
       "      <td>NaN</td>\n",
       "      <td>NaN</td>\n",
       "    </tr>\n",
       "    <tr>\n",
       "      <th>5</th>\n",
       "      <td>NaN</td>\n",
       "      <td>NaN</td>\n",
       "    </tr>\n",
       "    <tr>\n",
       "      <th>6</th>\n",
       "      <td>NaN</td>\n",
       "      <td>NaN</td>\n",
       "    </tr>\n",
       "    <tr>\n",
       "      <th>7</th>\n",
       "      <td>NaN</td>\n",
       "      <td>NaN</td>\n",
       "    </tr>\n",
       "    <tr>\n",
       "      <th>8</th>\n",
       "      <td>NaN</td>\n",
       "      <td>NaN</td>\n",
       "    </tr>\n",
       "    <tr>\n",
       "      <th>9</th>\n",
       "      <td>NaN</td>\n",
       "      <td>NaN</td>\n",
       "    </tr>\n",
       "    <tr>\n",
       "      <th>10</th>\n",
       "      <td>NaN</td>\n",
       "      <td>NaN</td>\n",
       "    </tr>\n",
       "  </tbody>\n",
       "</table>\n",
       "</div>"
      ],
      "text/plain": [
       "   FCF(Free Cash Flow) Present Value\n",
       "1                  NaN           NaN\n",
       "2                  NaN           NaN\n",
       "3                  NaN           NaN\n",
       "4                  NaN           NaN\n",
       "5                  NaN           NaN\n",
       "6                  NaN           NaN\n",
       "7                  NaN           NaN\n",
       "8                  NaN           NaN\n",
       "9                  NaN           NaN\n",
       "10                 NaN           NaN"
      ]
     },
     "execution_count": 5,
     "metadata": {},
     "output_type": "execute_result"
    }
   ],
   "source": [
    "Cash_flow_chart=pd.DataFrame(columns=['FCF(Free Cash Flow)','Present Value'],index=[i for i in range(1,11)])\n",
    "Cash_flow_chart"
   ]
  },
  {
   "cell_type": "code",
   "execution_count": 6,
   "id": "2b9fa224",
   "metadata": {},
   "outputs": [],
   "source": [
    "pv=Net_income[-1]\n",
    "for i in Cash_flow_chart.index:\n",
    "    Cash_flow_chart.loc[i,'FCF(Free Cash Flow)']=pv\n",
    "    Cash_flow_chart.loc[i,'Present Value']=Cash_flow_chart.loc[i,'FCF(Free Cash Flow)']/(1+0.1)**i\n",
    "    pv=pv*(1+Matrix.loc['Growth rate(1-5)','Values'])\n",
    "    "
   ]
  },
  {
   "cell_type": "code",
   "execution_count": 7,
   "id": "b010c743",
   "metadata": {},
   "outputs": [
    {
     "data": {
      "text/html": [
       "<div>\n",
       "<style scoped>\n",
       "    .dataframe tbody tr th:only-of-type {\n",
       "        vertical-align: middle;\n",
       "    }\n",
       "\n",
       "    .dataframe tbody tr th {\n",
       "        vertical-align: top;\n",
       "    }\n",
       "\n",
       "    .dataframe thead th {\n",
       "        text-align: right;\n",
       "    }\n",
       "</style>\n",
       "<table border=\"1\" class=\"dataframe\">\n",
       "  <thead>\n",
       "    <tr style=\"text-align: right;\">\n",
       "      <th></th>\n",
       "      <th>FCF(Free Cash Flow)</th>\n",
       "      <th>Present Value</th>\n",
       "    </tr>\n",
       "  </thead>\n",
       "  <tbody>\n",
       "    <tr>\n",
       "      <th>1</th>\n",
       "      <td>883</td>\n",
       "      <td>802.727273</td>\n",
       "    </tr>\n",
       "    <tr>\n",
       "      <th>2</th>\n",
       "      <td>860.609432</td>\n",
       "      <td>711.247465</td>\n",
       "    </tr>\n",
       "    <tr>\n",
       "      <th>3</th>\n",
       "      <td>838.786631</td>\n",
       "      <td>630.192811</td>\n",
       "    </tr>\n",
       "    <tr>\n",
       "      <th>4</th>\n",
       "      <td>817.517199</td>\n",
       "      <td>558.375247</td>\n",
       "    </tr>\n",
       "    <tr>\n",
       "      <th>5</th>\n",
       "      <td>796.787104</td>\n",
       "      <td>494.742103</td>\n",
       "    </tr>\n",
       "    <tr>\n",
       "      <th>6</th>\n",
       "      <td>776.582669</td>\n",
       "      <td>438.360671</td>\n",
       "    </tr>\n",
       "    <tr>\n",
       "      <th>7</th>\n",
       "      <td>756.890567</td>\n",
       "      <td>388.404539</td>\n",
       "    </tr>\n",
       "    <tr>\n",
       "      <th>8</th>\n",
       "      <td>737.697804</td>\n",
       "      <td>344.14147</td>\n",
       "    </tr>\n",
       "    <tr>\n",
       "      <th>9</th>\n",
       "      <td>718.99172</td>\n",
       "      <td>304.922676</td>\n",
       "    </tr>\n",
       "    <tr>\n",
       "      <th>10</th>\n",
       "      <td>700.759973</td>\n",
       "      <td>270.173305</td>\n",
       "    </tr>\n",
       "  </tbody>\n",
       "</table>\n",
       "</div>"
      ],
      "text/plain": [
       "   FCF(Free Cash Flow) Present Value\n",
       "1                  883    802.727273\n",
       "2           860.609432    711.247465\n",
       "3           838.786631    630.192811\n",
       "4           817.517199    558.375247\n",
       "5           796.787104    494.742103\n",
       "6           776.582669    438.360671\n",
       "7           756.890567    388.404539\n",
       "8           737.697804     344.14147\n",
       "9            718.99172    304.922676\n",
       "10          700.759973    270.173305"
      ]
     },
     "execution_count": 7,
     "metadata": {},
     "output_type": "execute_result"
    }
   ],
   "source": [
    "Cash_flow_chart"
   ]
  },
  {
   "cell_type": "code",
   "execution_count": 8,
   "id": "11ea0c6e",
   "metadata": {},
   "outputs": [
    {
     "data": {
      "text/plain": [
       "7007.599725795788"
      ]
     },
     "execution_count": 8,
     "metadata": {},
     "output_type": "execute_result"
    }
   ],
   "source": [
    "planning_to_sell1=Cash_flow_chart.loc[10,'FCF(Free Cash Flow)']*Matrix.loc['Terminal value','Values']\n",
    "planning_to_sell2=Cash_flow_chart.loc[10,'Present Value']*Matrix.loc['Terminal value','Values']\n",
    "planning_to_sell1"
   ]
  },
  {
   "cell_type": "code",
   "execution_count": 9,
   "id": "418ff8e3",
   "metadata": {},
   "outputs": [],
   "source": [
    "x=[i for i in Cash_flow_chart['FCF(Free Cash Flow)']]\n",
    "y=[i for i in Cash_flow_chart['Present Value']]"
   ]
  },
  {
   "cell_type": "code",
   "execution_count": 10,
   "id": "0f123588",
   "metadata": {},
   "outputs": [],
   "source": [
    "x.append(planning_to_sell1)\n",
    "y.append(planning_to_sell2)"
   ]
  },
  {
   "cell_type": "code",
   "execution_count": 11,
   "id": "8d914718",
   "metadata": {
    "scrolled": true
   },
   "outputs": [
    {
     "data": {
      "text/plain": [
       "502.3009597850415"
      ]
     },
     "execution_count": 11,
     "metadata": {},
     "output_type": "execute_result"
    }
   ],
   "source": [
    "sum(y)/Matrix.loc['Outstanding shares','Values']"
   ]
  },
  {
   "cell_type": "code",
   "execution_count": null,
   "id": "16875ad2",
   "metadata": {},
   "outputs": [],
   "source": []
  }
 ],
 "metadata": {
  "kernelspec": {
   "display_name": "Python 3 (ipykernel)",
   "language": "python",
   "name": "python3"
  },
  "language_info": {
   "codemirror_mode": {
    "name": "ipython",
    "version": 3
   },
   "file_extension": ".py",
   "mimetype": "text/x-python",
   "name": "python",
   "nbconvert_exporter": "python",
   "pygments_lexer": "ipython3",
   "version": "3.7.3"
  }
 },
 "nbformat": 4,
 "nbformat_minor": 5
}

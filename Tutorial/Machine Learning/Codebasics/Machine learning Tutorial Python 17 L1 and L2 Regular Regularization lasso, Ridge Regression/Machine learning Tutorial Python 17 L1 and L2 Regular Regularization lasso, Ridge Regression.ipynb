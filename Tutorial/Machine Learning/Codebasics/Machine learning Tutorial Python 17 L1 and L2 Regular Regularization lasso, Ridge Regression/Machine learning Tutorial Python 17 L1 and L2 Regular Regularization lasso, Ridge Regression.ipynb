{
 "cells": [
  {
   "cell_type": "code",
   "execution_count": 77,
   "id": "83eb21fd",
   "metadata": {},
   "outputs": [],
   "source": [
    "import pandas as pd\n",
    "import numpy as np\n",
    "import matplotlib.pyplot as plt"
   ]
  },
  {
   "cell_type": "code",
   "execution_count": 78,
   "id": "6b950560",
   "metadata": {},
   "outputs": [
    {
     "data": {
      "text/html": [
       "<div>\n",
       "<style scoped>\n",
       "    .dataframe tbody tr th:only-of-type {\n",
       "        vertical-align: middle;\n",
       "    }\n",
       "\n",
       "    .dataframe tbody tr th {\n",
       "        vertical-align: top;\n",
       "    }\n",
       "\n",
       "    .dataframe thead th {\n",
       "        text-align: right;\n",
       "    }\n",
       "</style>\n",
       "<table border=\"1\" class=\"dataframe\">\n",
       "  <thead>\n",
       "    <tr style=\"text-align: right;\">\n",
       "      <th></th>\n",
       "      <th>Suburb</th>\n",
       "      <th>Address</th>\n",
       "      <th>Rooms</th>\n",
       "      <th>Type</th>\n",
       "      <th>Price</th>\n",
       "      <th>Method</th>\n",
       "      <th>SellerG</th>\n",
       "      <th>Date</th>\n",
       "      <th>Distance</th>\n",
       "      <th>Postcode</th>\n",
       "      <th>...</th>\n",
       "      <th>Bathroom</th>\n",
       "      <th>Car</th>\n",
       "      <th>Landsize</th>\n",
       "      <th>BuildingArea</th>\n",
       "      <th>YearBuilt</th>\n",
       "      <th>CouncilArea</th>\n",
       "      <th>Lattitude</th>\n",
       "      <th>Longtitude</th>\n",
       "      <th>Regionname</th>\n",
       "      <th>Propertycount</th>\n",
       "    </tr>\n",
       "  </thead>\n",
       "  <tbody>\n",
       "    <tr>\n",
       "      <th>0</th>\n",
       "      <td>Abbotsford</td>\n",
       "      <td>85 Turner St</td>\n",
       "      <td>2</td>\n",
       "      <td>h</td>\n",
       "      <td>1480000.0</td>\n",
       "      <td>S</td>\n",
       "      <td>Biggin</td>\n",
       "      <td>3/12/2016</td>\n",
       "      <td>2.5</td>\n",
       "      <td>3067.0</td>\n",
       "      <td>...</td>\n",
       "      <td>1.0</td>\n",
       "      <td>1.0</td>\n",
       "      <td>202.0</td>\n",
       "      <td>NaN</td>\n",
       "      <td>NaN</td>\n",
       "      <td>Yarra</td>\n",
       "      <td>-37.79960</td>\n",
       "      <td>144.99840</td>\n",
       "      <td>Northern Metropolitan</td>\n",
       "      <td>4019.0</td>\n",
       "    </tr>\n",
       "    <tr>\n",
       "      <th>1</th>\n",
       "      <td>Abbotsford</td>\n",
       "      <td>25 Bloomburg St</td>\n",
       "      <td>2</td>\n",
       "      <td>h</td>\n",
       "      <td>1035000.0</td>\n",
       "      <td>S</td>\n",
       "      <td>Biggin</td>\n",
       "      <td>4/02/2016</td>\n",
       "      <td>2.5</td>\n",
       "      <td>3067.0</td>\n",
       "      <td>...</td>\n",
       "      <td>1.0</td>\n",
       "      <td>0.0</td>\n",
       "      <td>156.0</td>\n",
       "      <td>79.0</td>\n",
       "      <td>1900.0</td>\n",
       "      <td>Yarra</td>\n",
       "      <td>-37.80790</td>\n",
       "      <td>144.99340</td>\n",
       "      <td>Northern Metropolitan</td>\n",
       "      <td>4019.0</td>\n",
       "    </tr>\n",
       "    <tr>\n",
       "      <th>2</th>\n",
       "      <td>Abbotsford</td>\n",
       "      <td>5 Charles St</td>\n",
       "      <td>3</td>\n",
       "      <td>h</td>\n",
       "      <td>1465000.0</td>\n",
       "      <td>SP</td>\n",
       "      <td>Biggin</td>\n",
       "      <td>4/03/2017</td>\n",
       "      <td>2.5</td>\n",
       "      <td>3067.0</td>\n",
       "      <td>...</td>\n",
       "      <td>2.0</td>\n",
       "      <td>0.0</td>\n",
       "      <td>134.0</td>\n",
       "      <td>150.0</td>\n",
       "      <td>1900.0</td>\n",
       "      <td>Yarra</td>\n",
       "      <td>-37.80930</td>\n",
       "      <td>144.99440</td>\n",
       "      <td>Northern Metropolitan</td>\n",
       "      <td>4019.0</td>\n",
       "    </tr>\n",
       "    <tr>\n",
       "      <th>3</th>\n",
       "      <td>Abbotsford</td>\n",
       "      <td>40 Federation La</td>\n",
       "      <td>3</td>\n",
       "      <td>h</td>\n",
       "      <td>850000.0</td>\n",
       "      <td>PI</td>\n",
       "      <td>Biggin</td>\n",
       "      <td>4/03/2017</td>\n",
       "      <td>2.5</td>\n",
       "      <td>3067.0</td>\n",
       "      <td>...</td>\n",
       "      <td>2.0</td>\n",
       "      <td>1.0</td>\n",
       "      <td>94.0</td>\n",
       "      <td>NaN</td>\n",
       "      <td>NaN</td>\n",
       "      <td>Yarra</td>\n",
       "      <td>-37.79690</td>\n",
       "      <td>144.99690</td>\n",
       "      <td>Northern Metropolitan</td>\n",
       "      <td>4019.0</td>\n",
       "    </tr>\n",
       "    <tr>\n",
       "      <th>4</th>\n",
       "      <td>Abbotsford</td>\n",
       "      <td>55a Park St</td>\n",
       "      <td>4</td>\n",
       "      <td>h</td>\n",
       "      <td>1600000.0</td>\n",
       "      <td>VB</td>\n",
       "      <td>Nelson</td>\n",
       "      <td>4/06/2016</td>\n",
       "      <td>2.5</td>\n",
       "      <td>3067.0</td>\n",
       "      <td>...</td>\n",
       "      <td>1.0</td>\n",
       "      <td>2.0</td>\n",
       "      <td>120.0</td>\n",
       "      <td>142.0</td>\n",
       "      <td>2014.0</td>\n",
       "      <td>Yarra</td>\n",
       "      <td>-37.80720</td>\n",
       "      <td>144.99410</td>\n",
       "      <td>Northern Metropolitan</td>\n",
       "      <td>4019.0</td>\n",
       "    </tr>\n",
       "    <tr>\n",
       "      <th>...</th>\n",
       "      <td>...</td>\n",
       "      <td>...</td>\n",
       "      <td>...</td>\n",
       "      <td>...</td>\n",
       "      <td>...</td>\n",
       "      <td>...</td>\n",
       "      <td>...</td>\n",
       "      <td>...</td>\n",
       "      <td>...</td>\n",
       "      <td>...</td>\n",
       "      <td>...</td>\n",
       "      <td>...</td>\n",
       "      <td>...</td>\n",
       "      <td>...</td>\n",
       "      <td>...</td>\n",
       "      <td>...</td>\n",
       "      <td>...</td>\n",
       "      <td>...</td>\n",
       "      <td>...</td>\n",
       "      <td>...</td>\n",
       "      <td>...</td>\n",
       "    </tr>\n",
       "    <tr>\n",
       "      <th>13575</th>\n",
       "      <td>Wheelers Hill</td>\n",
       "      <td>12 Strada Cr</td>\n",
       "      <td>4</td>\n",
       "      <td>h</td>\n",
       "      <td>1245000.0</td>\n",
       "      <td>S</td>\n",
       "      <td>Barry</td>\n",
       "      <td>26/08/2017</td>\n",
       "      <td>16.7</td>\n",
       "      <td>3150.0</td>\n",
       "      <td>...</td>\n",
       "      <td>2.0</td>\n",
       "      <td>2.0</td>\n",
       "      <td>652.0</td>\n",
       "      <td>NaN</td>\n",
       "      <td>1981.0</td>\n",
       "      <td>NaN</td>\n",
       "      <td>-37.90562</td>\n",
       "      <td>145.16761</td>\n",
       "      <td>South-Eastern Metropolitan</td>\n",
       "      <td>7392.0</td>\n",
       "    </tr>\n",
       "    <tr>\n",
       "      <th>13576</th>\n",
       "      <td>Williamstown</td>\n",
       "      <td>77 Merrett Dr</td>\n",
       "      <td>3</td>\n",
       "      <td>h</td>\n",
       "      <td>1031000.0</td>\n",
       "      <td>SP</td>\n",
       "      <td>Williams</td>\n",
       "      <td>26/08/2017</td>\n",
       "      <td>6.8</td>\n",
       "      <td>3016.0</td>\n",
       "      <td>...</td>\n",
       "      <td>2.0</td>\n",
       "      <td>2.0</td>\n",
       "      <td>333.0</td>\n",
       "      <td>133.0</td>\n",
       "      <td>1995.0</td>\n",
       "      <td>NaN</td>\n",
       "      <td>-37.85927</td>\n",
       "      <td>144.87904</td>\n",
       "      <td>Western Metropolitan</td>\n",
       "      <td>6380.0</td>\n",
       "    </tr>\n",
       "    <tr>\n",
       "      <th>13577</th>\n",
       "      <td>Williamstown</td>\n",
       "      <td>83 Power St</td>\n",
       "      <td>3</td>\n",
       "      <td>h</td>\n",
       "      <td>1170000.0</td>\n",
       "      <td>S</td>\n",
       "      <td>Raine</td>\n",
       "      <td>26/08/2017</td>\n",
       "      <td>6.8</td>\n",
       "      <td>3016.0</td>\n",
       "      <td>...</td>\n",
       "      <td>2.0</td>\n",
       "      <td>4.0</td>\n",
       "      <td>436.0</td>\n",
       "      <td>NaN</td>\n",
       "      <td>1997.0</td>\n",
       "      <td>NaN</td>\n",
       "      <td>-37.85274</td>\n",
       "      <td>144.88738</td>\n",
       "      <td>Western Metropolitan</td>\n",
       "      <td>6380.0</td>\n",
       "    </tr>\n",
       "    <tr>\n",
       "      <th>13578</th>\n",
       "      <td>Williamstown</td>\n",
       "      <td>96 Verdon St</td>\n",
       "      <td>4</td>\n",
       "      <td>h</td>\n",
       "      <td>2500000.0</td>\n",
       "      <td>PI</td>\n",
       "      <td>Sweeney</td>\n",
       "      <td>26/08/2017</td>\n",
       "      <td>6.8</td>\n",
       "      <td>3016.0</td>\n",
       "      <td>...</td>\n",
       "      <td>1.0</td>\n",
       "      <td>5.0</td>\n",
       "      <td>866.0</td>\n",
       "      <td>157.0</td>\n",
       "      <td>1920.0</td>\n",
       "      <td>NaN</td>\n",
       "      <td>-37.85908</td>\n",
       "      <td>144.89299</td>\n",
       "      <td>Western Metropolitan</td>\n",
       "      <td>6380.0</td>\n",
       "    </tr>\n",
       "    <tr>\n",
       "      <th>13579</th>\n",
       "      <td>Yarraville</td>\n",
       "      <td>6 Agnes St</td>\n",
       "      <td>4</td>\n",
       "      <td>h</td>\n",
       "      <td>1285000.0</td>\n",
       "      <td>SP</td>\n",
       "      <td>Village</td>\n",
       "      <td>26/08/2017</td>\n",
       "      <td>6.3</td>\n",
       "      <td>3013.0</td>\n",
       "      <td>...</td>\n",
       "      <td>1.0</td>\n",
       "      <td>1.0</td>\n",
       "      <td>362.0</td>\n",
       "      <td>112.0</td>\n",
       "      <td>1920.0</td>\n",
       "      <td>NaN</td>\n",
       "      <td>-37.81188</td>\n",
       "      <td>144.88449</td>\n",
       "      <td>Western Metropolitan</td>\n",
       "      <td>6543.0</td>\n",
       "    </tr>\n",
       "  </tbody>\n",
       "</table>\n",
       "<p>13580 rows × 21 columns</p>\n",
       "</div>"
      ],
      "text/plain": [
       "              Suburb           Address  Rooms Type      Price Method  \\\n",
       "0         Abbotsford      85 Turner St      2    h  1480000.0      S   \n",
       "1         Abbotsford   25 Bloomburg St      2    h  1035000.0      S   \n",
       "2         Abbotsford      5 Charles St      3    h  1465000.0     SP   \n",
       "3         Abbotsford  40 Federation La      3    h   850000.0     PI   \n",
       "4         Abbotsford       55a Park St      4    h  1600000.0     VB   \n",
       "...              ...               ...    ...  ...        ...    ...   \n",
       "13575  Wheelers Hill      12 Strada Cr      4    h  1245000.0      S   \n",
       "13576   Williamstown     77 Merrett Dr      3    h  1031000.0     SP   \n",
       "13577   Williamstown       83 Power St      3    h  1170000.0      S   \n",
       "13578   Williamstown      96 Verdon St      4    h  2500000.0     PI   \n",
       "13579     Yarraville        6 Agnes St      4    h  1285000.0     SP   \n",
       "\n",
       "        SellerG        Date  Distance  Postcode  ...  Bathroom  Car  Landsize  \\\n",
       "0        Biggin   3/12/2016       2.5    3067.0  ...       1.0  1.0     202.0   \n",
       "1        Biggin   4/02/2016       2.5    3067.0  ...       1.0  0.0     156.0   \n",
       "2        Biggin   4/03/2017       2.5    3067.0  ...       2.0  0.0     134.0   \n",
       "3        Biggin   4/03/2017       2.5    3067.0  ...       2.0  1.0      94.0   \n",
       "4        Nelson   4/06/2016       2.5    3067.0  ...       1.0  2.0     120.0   \n",
       "...         ...         ...       ...       ...  ...       ...  ...       ...   \n",
       "13575     Barry  26/08/2017      16.7    3150.0  ...       2.0  2.0     652.0   \n",
       "13576  Williams  26/08/2017       6.8    3016.0  ...       2.0  2.0     333.0   \n",
       "13577     Raine  26/08/2017       6.8    3016.0  ...       2.0  4.0     436.0   \n",
       "13578   Sweeney  26/08/2017       6.8    3016.0  ...       1.0  5.0     866.0   \n",
       "13579   Village  26/08/2017       6.3    3013.0  ...       1.0  1.0     362.0   \n",
       "\n",
       "       BuildingArea  YearBuilt  CouncilArea Lattitude  Longtitude  \\\n",
       "0               NaN        NaN        Yarra -37.79960   144.99840   \n",
       "1              79.0     1900.0        Yarra -37.80790   144.99340   \n",
       "2             150.0     1900.0        Yarra -37.80930   144.99440   \n",
       "3               NaN        NaN        Yarra -37.79690   144.99690   \n",
       "4             142.0     2014.0        Yarra -37.80720   144.99410   \n",
       "...             ...        ...          ...       ...         ...   \n",
       "13575           NaN     1981.0          NaN -37.90562   145.16761   \n",
       "13576         133.0     1995.0          NaN -37.85927   144.87904   \n",
       "13577           NaN     1997.0          NaN -37.85274   144.88738   \n",
       "13578         157.0     1920.0          NaN -37.85908   144.89299   \n",
       "13579         112.0     1920.0          NaN -37.81188   144.88449   \n",
       "\n",
       "                       Regionname Propertycount  \n",
       "0           Northern Metropolitan        4019.0  \n",
       "1           Northern Metropolitan        4019.0  \n",
       "2           Northern Metropolitan        4019.0  \n",
       "3           Northern Metropolitan        4019.0  \n",
       "4           Northern Metropolitan        4019.0  \n",
       "...                           ...           ...  \n",
       "13575  South-Eastern Metropolitan        7392.0  \n",
       "13576        Western Metropolitan        6380.0  \n",
       "13577        Western Metropolitan        6380.0  \n",
       "13578        Western Metropolitan        6380.0  \n",
       "13579        Western Metropolitan        6543.0  \n",
       "\n",
       "[13580 rows x 21 columns]"
      ]
     },
     "execution_count": 78,
     "metadata": {},
     "output_type": "execute_result"
    }
   ],
   "source": [
    "datasets=pd.read_csv('C:\\\\Users\\\\nafissaad\\\\Tutorial\\\\melb_data.csv')\n",
    "datasets"
   ]
  },
  {
   "cell_type": "code",
   "execution_count": 79,
   "id": "918dd706",
   "metadata": {},
   "outputs": [
    {
     "data": {
      "text/plain": [
       "Suburb             314\n",
       "Address          13378\n",
       "Rooms                9\n",
       "Type                 3\n",
       "Price             2204\n",
       "Method               5\n",
       "SellerG            268\n",
       "Date                58\n",
       "Distance           202\n",
       "Postcode           198\n",
       "Bedroom2            12\n",
       "Bathroom             9\n",
       "Car                 11\n",
       "Landsize          1448\n",
       "BuildingArea       602\n",
       "YearBuilt          144\n",
       "CouncilArea         33\n",
       "Lattitude         6503\n",
       "Longtitude        7063\n",
       "Regionname           8\n",
       "Propertycount      311\n",
       "dtype: int64"
      ]
     },
     "execution_count": 79,
     "metadata": {},
     "output_type": "execute_result"
    }
   ],
   "source": [
    "datasets.nunique()"
   ]
  },
  {
   "cell_type": "code",
   "execution_count": 80,
   "id": "e6f75abc",
   "metadata": {},
   "outputs": [
    {
     "data": {
      "text/plain": [
       "(13580, 21)"
      ]
     },
     "execution_count": 80,
     "metadata": {},
     "output_type": "execute_result"
    }
   ],
   "source": [
    "datasets.shape"
   ]
  },
  {
   "cell_type": "code",
   "execution_count": 81,
   "id": "95cd83e4",
   "metadata": {},
   "outputs": [],
   "source": [
    "col_to_use=['Suburb','Rooms','Type','Method','SellerG','Regionname','Propertycount','Distance','Bedroom2','CouncilArea','Bathroom','Car','Landsize','BuildingArea','Price']\n",
    "datasets=datasets[col_to_use]"
   ]
  },
  {
   "cell_type": "code",
   "execution_count": 82,
   "id": "4472bc16",
   "metadata": {},
   "outputs": [
    {
     "data": {
      "text/plain": [
       "(13580, 15)"
      ]
     },
     "execution_count": 82,
     "metadata": {},
     "output_type": "execute_result"
    }
   ],
   "source": [
    "datasets.shape"
   ]
  },
  {
   "cell_type": "code",
   "execution_count": 83,
   "id": "89317ce1",
   "metadata": {},
   "outputs": [
    {
     "data": {
      "text/plain": [
       "Suburb              0\n",
       "Rooms               0\n",
       "Type                0\n",
       "Method              0\n",
       "SellerG             0\n",
       "Regionname          0\n",
       "Propertycount       0\n",
       "Distance            0\n",
       "Bedroom2            0\n",
       "CouncilArea      1369\n",
       "Bathroom            0\n",
       "Car                62\n",
       "Landsize            0\n",
       "BuildingArea     6450\n",
       "Price               0\n",
       "dtype: int64"
      ]
     },
     "execution_count": 83,
     "metadata": {},
     "output_type": "execute_result"
    }
   ],
   "source": [
    "datasets.isna().sum()"
   ]
  },
  {
   "cell_type": "code",
   "execution_count": 86,
   "id": "633e8d83",
   "metadata": {},
   "outputs": [
    {
     "data": {
      "text/plain": [
       "Suburb              0\n",
       "Rooms               0\n",
       "Type                0\n",
       "Method              0\n",
       "SellerG             0\n",
       "Regionname          0\n",
       "Propertycount       0\n",
       "Distance            0\n",
       "Bedroom2            0\n",
       "CouncilArea      1369\n",
       "Bathroom            0\n",
       "Car                 0\n",
       "Landsize            0\n",
       "BuildingArea        0\n",
       "Price               0\n",
       "dtype: int64"
      ]
     },
     "execution_count": 86,
     "metadata": {},
     "output_type": "execute_result"
    }
   ],
   "source": [
    "cols_to_fill_zero=['Propertycount','Distance','Bedroom2','Bathroom','Car']\n",
    "datasets[cols_to_fill_zero]=datasets[cols_to_fill_zero].fillna(0)\n",
    "datasets.isna().sum()"
   ]
  },
  {
   "cell_type": "code",
   "execution_count": 89,
   "id": "a14118f7",
   "metadata": {},
   "outputs": [
    {
     "name": "stderr",
     "output_type": "stream",
     "text": [
      "C:\\Users\\nafissaad\\AppData\\Local\\Programs\\Python\\Python37\\lib\\site-packages\\ipykernel_launcher.py:1: SettingWithCopyWarning: \n",
      "A value is trying to be set on a copy of a slice from a DataFrame.\n",
      "Try using .loc[row_indexer,col_indexer] = value instead\n",
      "\n",
      "See the caveats in the documentation: https://pandas.pydata.org/pandas-docs/stable/user_guide/indexing.html#returning-a-view-versus-a-copy\n",
      "  \"\"\"Entry point for launching an IPython kernel.\n",
      "C:\\Users\\nafissaad\\AppData\\Local\\Programs\\Python\\Python37\\lib\\site-packages\\ipykernel_launcher.py:2: SettingWithCopyWarning: \n",
      "A value is trying to be set on a copy of a slice from a DataFrame.\n",
      "Try using .loc[row_indexer,col_indexer] = value instead\n",
      "\n",
      "See the caveats in the documentation: https://pandas.pydata.org/pandas-docs/stable/user_guide/indexing.html#returning-a-view-versus-a-copy\n",
      "  \n"
     ]
    }
   ],
   "source": [
    "datasets['Landsize']=datasets['Landsize'].fillna(datasets.Landsize.mean())\n",
    "datasets['BuildingArea']=datasets['BuildingArea'].fillna(datasets.BuildingArea.mean())"
   ]
  },
  {
   "cell_type": "code",
   "execution_count": 91,
   "id": "9e2d0e14",
   "metadata": {},
   "outputs": [
    {
     "data": {
      "text/plain": [
       "Suburb              0\n",
       "Rooms               0\n",
       "Type                0\n",
       "Method              0\n",
       "SellerG             0\n",
       "Regionname          0\n",
       "Propertycount       0\n",
       "Distance            0\n",
       "Bedroom2            0\n",
       "CouncilArea      1369\n",
       "Bathroom            0\n",
       "Car                 0\n",
       "Landsize            0\n",
       "BuildingArea        0\n",
       "Price               0\n",
       "dtype: int64"
      ]
     },
     "execution_count": 91,
     "metadata": {},
     "output_type": "execute_result"
    }
   ],
   "source": [
    "datasets.isna().sum()"
   ]
  },
  {
   "cell_type": "code",
   "execution_count": 93,
   "id": "d43c3f56",
   "metadata": {},
   "outputs": [
    {
     "data": {
      "text/plain": [
       "Suburb           0\n",
       "Rooms            0\n",
       "Type             0\n",
       "Method           0\n",
       "SellerG          0\n",
       "Regionname       0\n",
       "Propertycount    0\n",
       "Distance         0\n",
       "Bedroom2         0\n",
       "CouncilArea      0\n",
       "Bathroom         0\n",
       "Car              0\n",
       "Landsize         0\n",
       "BuildingArea     0\n",
       "Price            0\n",
       "dtype: int64"
      ]
     },
     "execution_count": 93,
     "metadata": {},
     "output_type": "execute_result"
    }
   ],
   "source": [
    "datasets.dropna(inplace=True)\n",
    "datasets.isna().sum()"
   ]
  },
  {
   "cell_type": "code",
   "execution_count": 98,
   "id": "223b353c",
   "metadata": {},
   "outputs": [
    {
     "data": {
      "text/html": [
       "<div>\n",
       "<style scoped>\n",
       "    .dataframe tbody tr th:only-of-type {\n",
       "        vertical-align: middle;\n",
       "    }\n",
       "\n",
       "    .dataframe tbody tr th {\n",
       "        vertical-align: top;\n",
       "    }\n",
       "\n",
       "    .dataframe thead th {\n",
       "        text-align: right;\n",
       "    }\n",
       "</style>\n",
       "<table border=\"1\" class=\"dataframe\">\n",
       "  <thead>\n",
       "    <tr style=\"text-align: right;\">\n",
       "      <th></th>\n",
       "      <th>Rooms</th>\n",
       "      <th>Propertycount</th>\n",
       "      <th>Distance</th>\n",
       "      <th>Bedroom2</th>\n",
       "      <th>Bathroom</th>\n",
       "      <th>Car</th>\n",
       "      <th>Landsize</th>\n",
       "      <th>BuildingArea</th>\n",
       "      <th>Price</th>\n",
       "      <th>Suburb_Aberfeldie</th>\n",
       "      <th>...</th>\n",
       "      <th>CouncilArea_Moreland</th>\n",
       "      <th>CouncilArea_Nillumbik</th>\n",
       "      <th>CouncilArea_Port Phillip</th>\n",
       "      <th>CouncilArea_Stonnington</th>\n",
       "      <th>CouncilArea_Unavailable</th>\n",
       "      <th>CouncilArea_Whitehorse</th>\n",
       "      <th>CouncilArea_Whittlesea</th>\n",
       "      <th>CouncilArea_Wyndham</th>\n",
       "      <th>CouncilArea_Yarra</th>\n",
       "      <th>CouncilArea_Yarra Ranges</th>\n",
       "    </tr>\n",
       "  </thead>\n",
       "  <tbody>\n",
       "    <tr>\n",
       "      <th>0</th>\n",
       "      <td>2</td>\n",
       "      <td>4019.0</td>\n",
       "      <td>2.5</td>\n",
       "      <td>2.0</td>\n",
       "      <td>1.0</td>\n",
       "      <td>1.0</td>\n",
       "      <td>202.0</td>\n",
       "      <td>151.96765</td>\n",
       "      <td>1480000.0</td>\n",
       "      <td>0</td>\n",
       "      <td>...</td>\n",
       "      <td>0</td>\n",
       "      <td>0</td>\n",
       "      <td>0</td>\n",
       "      <td>0</td>\n",
       "      <td>0</td>\n",
       "      <td>0</td>\n",
       "      <td>0</td>\n",
       "      <td>0</td>\n",
       "      <td>1</td>\n",
       "      <td>0</td>\n",
       "    </tr>\n",
       "    <tr>\n",
       "      <th>1</th>\n",
       "      <td>2</td>\n",
       "      <td>4019.0</td>\n",
       "      <td>2.5</td>\n",
       "      <td>2.0</td>\n",
       "      <td>1.0</td>\n",
       "      <td>0.0</td>\n",
       "      <td>156.0</td>\n",
       "      <td>79.00000</td>\n",
       "      <td>1035000.0</td>\n",
       "      <td>0</td>\n",
       "      <td>...</td>\n",
       "      <td>0</td>\n",
       "      <td>0</td>\n",
       "      <td>0</td>\n",
       "      <td>0</td>\n",
       "      <td>0</td>\n",
       "      <td>0</td>\n",
       "      <td>0</td>\n",
       "      <td>0</td>\n",
       "      <td>1</td>\n",
       "      <td>0</td>\n",
       "    </tr>\n",
       "    <tr>\n",
       "      <th>2</th>\n",
       "      <td>3</td>\n",
       "      <td>4019.0</td>\n",
       "      <td>2.5</td>\n",
       "      <td>3.0</td>\n",
       "      <td>2.0</td>\n",
       "      <td>0.0</td>\n",
       "      <td>134.0</td>\n",
       "      <td>150.00000</td>\n",
       "      <td>1465000.0</td>\n",
       "      <td>0</td>\n",
       "      <td>...</td>\n",
       "      <td>0</td>\n",
       "      <td>0</td>\n",
       "      <td>0</td>\n",
       "      <td>0</td>\n",
       "      <td>0</td>\n",
       "      <td>0</td>\n",
       "      <td>0</td>\n",
       "      <td>0</td>\n",
       "      <td>1</td>\n",
       "      <td>0</td>\n",
       "    </tr>\n",
       "    <tr>\n",
       "      <th>3</th>\n",
       "      <td>3</td>\n",
       "      <td>4019.0</td>\n",
       "      <td>2.5</td>\n",
       "      <td>3.0</td>\n",
       "      <td>2.0</td>\n",
       "      <td>1.0</td>\n",
       "      <td>94.0</td>\n",
       "      <td>151.96765</td>\n",
       "      <td>850000.0</td>\n",
       "      <td>0</td>\n",
       "      <td>...</td>\n",
       "      <td>0</td>\n",
       "      <td>0</td>\n",
       "      <td>0</td>\n",
       "      <td>0</td>\n",
       "      <td>0</td>\n",
       "      <td>0</td>\n",
       "      <td>0</td>\n",
       "      <td>0</td>\n",
       "      <td>1</td>\n",
       "      <td>0</td>\n",
       "    </tr>\n",
       "    <tr>\n",
       "      <th>4</th>\n",
       "      <td>4</td>\n",
       "      <td>4019.0</td>\n",
       "      <td>2.5</td>\n",
       "      <td>3.0</td>\n",
       "      <td>1.0</td>\n",
       "      <td>2.0</td>\n",
       "      <td>120.0</td>\n",
       "      <td>142.00000</td>\n",
       "      <td>1600000.0</td>\n",
       "      <td>0</td>\n",
       "      <td>...</td>\n",
       "      <td>0</td>\n",
       "      <td>0</td>\n",
       "      <td>0</td>\n",
       "      <td>0</td>\n",
       "      <td>0</td>\n",
       "      <td>0</td>\n",
       "      <td>0</td>\n",
       "      <td>0</td>\n",
       "      <td>1</td>\n",
       "      <td>0</td>\n",
       "    </tr>\n",
       "  </tbody>\n",
       "</table>\n",
       "<p>5 rows × 613 columns</p>\n",
       "</div>"
      ],
      "text/plain": [
       "   Rooms  Propertycount  Distance  Bedroom2  Bathroom  Car  Landsize  \\\n",
       "0      2         4019.0       2.5       2.0       1.0  1.0     202.0   \n",
       "1      2         4019.0       2.5       2.0       1.0  0.0     156.0   \n",
       "2      3         4019.0       2.5       3.0       2.0  0.0     134.0   \n",
       "3      3         4019.0       2.5       3.0       2.0  1.0      94.0   \n",
       "4      4         4019.0       2.5       3.0       1.0  2.0     120.0   \n",
       "\n",
       "   BuildingArea      Price  Suburb_Aberfeldie  ...  CouncilArea_Moreland  \\\n",
       "0     151.96765  1480000.0                  0  ...                     0   \n",
       "1      79.00000  1035000.0                  0  ...                     0   \n",
       "2     150.00000  1465000.0                  0  ...                     0   \n",
       "3     151.96765   850000.0                  0  ...                     0   \n",
       "4     142.00000  1600000.0                  0  ...                     0   \n",
       "\n",
       "   CouncilArea_Nillumbik  CouncilArea_Port Phillip  CouncilArea_Stonnington  \\\n",
       "0                      0                         0                        0   \n",
       "1                      0                         0                        0   \n",
       "2                      0                         0                        0   \n",
       "3                      0                         0                        0   \n",
       "4                      0                         0                        0   \n",
       "\n",
       "   CouncilArea_Unavailable  CouncilArea_Whitehorse  CouncilArea_Whittlesea  \\\n",
       "0                        0                       0                       0   \n",
       "1                        0                       0                       0   \n",
       "2                        0                       0                       0   \n",
       "3                        0                       0                       0   \n",
       "4                        0                       0                       0   \n",
       "\n",
       "   CouncilArea_Wyndham  CouncilArea_Yarra  CouncilArea_Yarra Ranges  \n",
       "0                    0                  1                         0  \n",
       "1                    0                  1                         0  \n",
       "2                    0                  1                         0  \n",
       "3                    0                  1                         0  \n",
       "4                    0                  1                         0  \n",
       "\n",
       "[5 rows x 613 columns]"
      ]
     },
     "execution_count": 98,
     "metadata": {},
     "output_type": "execute_result"
    }
   ],
   "source": [
    "datasets=pd.get_dummies(datasets,drop_first=True)\n",
    "datasets.head()"
   ]
  },
  {
   "cell_type": "code",
   "execution_count": 99,
   "id": "bd0cb36d",
   "metadata": {},
   "outputs": [],
   "source": [
    "x=datasets.drop('Price',axis=1)\n",
    "y=datasets['Price']"
   ]
  },
  {
   "cell_type": "code",
   "execution_count": 107,
   "id": "fcdd6d7a",
   "metadata": {},
   "outputs": [],
   "source": [
    "from sklearn.model_selection import train_test_split\n",
    "train_x,test_x,train_y,test_y=train_test_split(x,y,test_size=0.3,random_state=2)"
   ]
  },
  {
   "cell_type": "code",
   "execution_count": 108,
   "id": "74318b0c",
   "metadata": {},
   "outputs": [],
   "source": [
    "from sklearn.linear_model import LinearRegression\n",
    "reg=LinearRegression().fit(train_x,train_y)"
   ]
  },
  {
   "cell_type": "code",
   "execution_count": 117,
   "id": "8f1f595a",
   "metadata": {},
   "outputs": [
    {
     "data": {
      "text/plain": [
       "-18325861592.122395"
      ]
     },
     "execution_count": 117,
     "metadata": {},
     "output_type": "execute_result"
    }
   ],
   "source": [
    "reg.score(test_x,test_y)"
   ]
  },
  {
   "cell_type": "code",
   "execution_count": 118,
   "id": "48e4d020",
   "metadata": {},
   "outputs": [
    {
     "data": {
      "text/plain": [
       "0.7120927411027488"
      ]
     },
     "execution_count": 118,
     "metadata": {},
     "output_type": "execute_result"
    }
   ],
   "source": [
    "reg.score(train_x,train_y)"
   ]
  },
  {
   "cell_type": "code",
   "execution_count": 119,
   "id": "5d0d0011",
   "metadata": {},
   "outputs": [
    {
     "data": {
      "text/plain": [
       "Lasso(alpha=50, max_iter=10000, tol=0.1)"
      ]
     },
     "execution_count": 119,
     "metadata": {},
     "output_type": "execute_result"
    }
   ],
   "source": [
    "from sklearn import linear_model\n",
    "lasso_reg=linear_model.Lasso(alpha=50,max_iter=10000,tol=0.1)\n",
    "lasso_reg.fit(train_x,train_y)"
   ]
  },
  {
   "cell_type": "code",
   "execution_count": 120,
   "id": "49961881",
   "metadata": {
    "scrolled": true
   },
   "outputs": [
    {
     "data": {
      "text/plain": [
       "0.6636462408442827"
      ]
     },
     "execution_count": 120,
     "metadata": {},
     "output_type": "execute_result"
    }
   ],
   "source": [
    "lasso_reg.score(test_x,test_y)"
   ]
  },
  {
   "cell_type": "code",
   "execution_count": 121,
   "id": "9eb45799",
   "metadata": {},
   "outputs": [
    {
     "data": {
      "text/plain": [
       "0.7075436322625623"
      ]
     },
     "execution_count": 121,
     "metadata": {},
     "output_type": "execute_result"
    }
   ],
   "source": [
    "lasso_reg.score(train_x,train_y)"
   ]
  },
  {
   "cell_type": "code",
   "execution_count": 122,
   "id": "c9e890f9",
   "metadata": {},
   "outputs": [],
   "source": [
    "from sklearn.linear_model import Ridge\n",
    "ridge=Ridge(alpha=50,max_iter=10000,tol=0.1)"
   ]
  },
  {
   "cell_type": "code",
   "execution_count": 125,
   "id": "b17ecdd9",
   "metadata": {},
   "outputs": [
    {
     "data": {
      "text/plain": [
       "Ridge(alpha=50, max_iter=10000, tol=0.1)"
      ]
     },
     "execution_count": 125,
     "metadata": {},
     "output_type": "execute_result"
    }
   ],
   "source": [
    "ridge.fit(train_x,train_y)"
   ]
  },
  {
   "cell_type": "code",
   "execution_count": 126,
   "id": "cf3cb704",
   "metadata": {},
   "outputs": [
    {
     "data": {
      "text/plain": [
       "0.6767113841211122"
      ]
     },
     "execution_count": 126,
     "metadata": {},
     "output_type": "execute_result"
    }
   ],
   "source": [
    "ridge.score(train_x,train_y)"
   ]
  },
  {
   "cell_type": "code",
   "execution_count": null,
   "id": "51c60c5a",
   "metadata": {},
   "outputs": [],
   "source": []
  }
 ],
 "metadata": {
  "kernelspec": {
   "display_name": "Python 3 (ipykernel)",
   "language": "python",
   "name": "python3"
  },
  "language_info": {
   "codemirror_mode": {
    "name": "ipython",
    "version": 3
   },
   "file_extension": ".py",
   "mimetype": "text/x-python",
   "name": "python",
   "nbconvert_exporter": "python",
   "pygments_lexer": "ipython3",
   "version": "3.7.3"
  }
 },
 "nbformat": 4,
 "nbformat_minor": 5
}

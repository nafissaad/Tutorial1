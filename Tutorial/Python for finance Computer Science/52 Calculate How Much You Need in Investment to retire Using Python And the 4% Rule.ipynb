{
 "cells": [
  {
   "cell_type": "code",
   "execution_count": 1,
   "id": "ae51dffd",
   "metadata": {},
   "outputs": [],
   "source": [
    "import pandas as pd\n",
    "import numpy as np\n",
    "import yfinance as yf\n",
    "import matplotlib.pyplot as plt\n",
    "#Description: This program calculates how much you need to retire "
   ]
  },
  {
   "cell_type": "code",
   "execution_count": 2,
   "id": "0563e01a",
   "metadata": {},
   "outputs": [],
   "source": [
    "def options():\n",
    "    print('(1) Calculate the income amount wanted giveb some average yearly interest rate and your current principle.')\n",
    "    print('(2) Calculate the principle you need given some average yearly interest rate to make some income amount per year')\n",
    "    print('(3) Calculate the average yearly interets rate you need given some priciple amount to make some x icome amount per year.')\n",
    "    choice=int(input())\n",
    "    \n",
    "    return choice"
   ]
  },
  {
   "cell_type": "code",
   "execution_count": 5,
   "id": "722e489c",
   "metadata": {},
   "outputs": [],
   "source": [
    "def calculate(choice):\n",
    "    if choice==1:\n",
    "        principle=float(input('What is your principle amount?'))\n",
    "        interets_rate=float(input('What is your average yearly interest rate percentage(%)'))\n",
    "        amount=principle*(interets_rate/100)\n",
    "        print('you would make on average: ',amount,'per year.')\n",
    "    elif choice==2:\n",
    "        interest_rate=float(input('What is your average yearly interest rate percentage(%)?'))\n",
    "        amount=float(input('What is the ammount per year that you want to make from that interest rate ?'))\n",
    "        principle =amount/((interest_rate)/100)\n",
    "        print('you would need a principle of about: ',principle, 'to have an annual income of ', amount,'by taking out',interest_rate, '% interest yearly from your principle')\n",
    "    elif choice ==3:\n",
    "        principle=float(input('What is your principle amount?'))\n",
    "        interets_rate=float(input('What is your average yearly interest rate percentage(%)'))\n",
    "        amount=principle*(interets_rate/100)\n",
    "        print('you would make on average: ',amount,'per year.')\n",
    "    else:\n",
    "        print('Please choose a number from 1 to 3')"
   ]
  },
  {
   "cell_type": "code",
   "execution_count": null,
   "id": "0876f81d",
   "metadata": {},
   "outputs": [
    {
     "name": "stdout",
     "output_type": "stream",
     "text": [
      "(1) Calculate the income amount wanted giveb some average yearly interest rate and your current principle.\n",
      "(2) Calculate the principle you need given some average yearly interest rate to make some income amount per year\n",
      "(3) Calculate the average yearly interets rate you need given some priciple amount to make some x icome amount per year.\n",
      "3\n",
      "What is your principle amount?6000\n",
      "What is your average yearly interest rate percentage(%)4\n",
      "you would make on average:  240.0 per year.\n",
      "(1) Calculate the income amount wanted giveb some average yearly interest rate and your current principle.\n",
      "(2) Calculate the principle you need given some average yearly interest rate to make some income amount per year\n",
      "(3) Calculate the average yearly interets rate you need given some priciple amount to make some x icome amount per year.\n",
      "50000\n",
      "Please choose a number from 1 to 3\n",
      "(1) Calculate the income amount wanted giveb some average yearly interest rate and your current principle.\n",
      "(2) Calculate the principle you need given some average yearly interest rate to make some income amount per year\n",
      "(3) Calculate the average yearly interets rate you need given some priciple amount to make some x icome amount per year.\n"
     ]
    }
   ],
   "source": [
    "#run the program\n",
    "while True:\n",
    "    calculate(options())"
   ]
  },
  {
   "cell_type": "code",
   "execution_count": null,
   "id": "688b9a14",
   "metadata": {},
   "outputs": [],
   "source": []
  }
 ],
 "metadata": {
  "kernelspec": {
   "display_name": "Python 3 (ipykernel)",
   "language": "python",
   "name": "python3"
  },
  "language_info": {
   "codemirror_mode": {
    "name": "ipython",
    "version": 3
   },
   "file_extension": ".py",
   "mimetype": "text/x-python",
   "name": "python",
   "nbconvert_exporter": "python",
   "pygments_lexer": "ipython3",
   "version": "3.7.3"
  }
 },
 "nbformat": 4,
 "nbformat_minor": 5
}

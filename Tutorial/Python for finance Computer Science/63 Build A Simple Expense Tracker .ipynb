{
 "cells": [
  {
   "cell_type": "code",
   "execution_count": 1,
   "id": "9dbf31bd",
   "metadata": {},
   "outputs": [],
   "source": [
    "#Description: A Simple Expense Tracker"
   ]
  },
  {
   "cell_type": "code",
   "execution_count": 2,
   "id": "ab4d9e19",
   "metadata": {},
   "outputs": [],
   "source": [
    "#import the liberies\n",
    "import numpy as np\n",
    "import pandas as pd\n",
    "from datetime import date"
   ]
  },
  {
   "cell_type": "code",
   "execution_count": 3,
   "id": "94255c1e",
   "metadata": {},
   "outputs": [],
   "source": [
    "#Create Empty List\n",
    "Goods_or_services=[]\n",
    "prices=[]\n",
    "dates=[]\n",
    "Expense_type=[]"
   ]
  },
  {
   "cell_type": "code",
   "execution_count": 4,
   "id": "2a14077c",
   "metadata": {},
   "outputs": [],
   "source": [
    "#Create a function to add the expenses to the lists and organize the dat\n",
    "def add_expense(good_or_service,price,date,expense_type):\n",
    "    Goods_or_services.append(good_or_service)\n",
    "    prices.append(price)\n",
    "    dates.append(date)\n",
    "    Expense_type.append(expense_type)"
   ]
  },
  {
   "cell_type": "code",
   "execution_count": null,
   "id": "bdc8ac65",
   "metadata": {},
   "outputs": [
    {
     "name": "stdout",
     "output_type": "stream",
     "text": [
      "Welcome to the simple expense tracker: \n",
      "1. Add Food Expense\n",
      "2. Add Household Expense\n",
      "3. Add Transportation Expense\n",
      "4. Show And Save Expense Report\n",
      "0. Exit\n",
      "Choose an option:\n",
      "1\n",
      "\n",
      "Adding Food\n"
     ]
    }
   ],
   "source": [
    "#Main program\n",
    "option=-1#This will be the users option or choice or input \n",
    "while(option!=0):\n",
    "    #create the option menue\n",
    "    print('Welcome to the simple expense tracker: ')\n",
    "    print('1. Add Food Expense')\n",
    "    print('2. Add Household Expense')\n",
    "    print('3. Add Transportation Expense')\n",
    "    print('4. Show And Save Expense Report')\n",
    "    print('0. Exit')\n",
    "    option=int(input('Choose an option:\\n'))\n",
    "    \n",
    "    #print a new line \n",
    "    print()\n",
    "    #Check for the users choice or option or input\n",
    "    if option ==0:\n",
    "        print('Exiting the program')\n",
    "        break\n",
    "    elif option ==1:\n",
    "        print('Adding Food')\n",
    "        expense_type='FOOD'\n",
    "    elif option == 2:\n",
    "        print('Adding Household')\n",
    "        expense_type='HOUSEHOLD'\n",
    "    elif option == 3:\n",
    "        print('Adding Transportation')\n",
    "        expense_type='TRANSPORTATION'\n",
    "    elif option == 4:\n",
    "        #Create a data frame and the expenses\n",
    "        expense_report=pd.DataFrame()\n",
    "        expense_report['GOODS_OR_SERVICES']=Goods_or_services\n",
    "        expense_report['Price']=prices\n",
    "        expense_report['DATES']=dates\n",
    "        expense_report['EXPENSE_TYPES']=Expense_type\n",
    "        expense_report.to_csv('expense.csv')\n",
    "        #SAVE the expense report\n",
    "        print(expense_report)\n",
    "        \n",
    "    else:\n",
    "        print('You chose an incorrect option. Please choose 0,1,2,3,or 4')\n",
    "    #allow the user to enter the good or servies and the price\n",
    "    if option==1 or option==2 or option==3:\n",
    "        good_or_service=input('Enter the good or service for the expense')\n",
    "        price=float(input('Enter the price of the good or service:\\n'))\n",
    "        today=date.today()\n",
    "        add_expense(good_or_service,price,today,expense_type)\n",
    "        #print a new line\n",
    "        print()"
   ]
  },
  {
   "cell_type": "code",
   "execution_count": null,
   "id": "b799864d",
   "metadata": {},
   "outputs": [],
   "source": []
  },
  {
   "cell_type": "code",
   "execution_count": null,
   "id": "ecbaa675",
   "metadata": {},
   "outputs": [],
   "source": []
  }
 ],
 "metadata": {
  "kernelspec": {
   "display_name": "Python 3 (ipykernel)",
   "language": "python",
   "name": "python3"
  },
  "language_info": {
   "codemirror_mode": {
    "name": "ipython",
    "version": 3
   },
   "file_extension": ".py",
   "mimetype": "text/x-python",
   "name": "python",
   "nbconvert_exporter": "python",
   "pygments_lexer": "ipython3",
   "version": "3.7.3"
  }
 },
 "nbformat": 4,
 "nbformat_minor": 5
}

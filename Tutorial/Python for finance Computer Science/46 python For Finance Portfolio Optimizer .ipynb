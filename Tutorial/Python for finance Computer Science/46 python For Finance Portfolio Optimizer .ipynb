{
 "cells": [
  {
   "cell_type": "code",
   "execution_count": 1,
   "id": "ce79d87b",
   "metadata": {},
   "outputs": [],
   "source": [
    "#Description: Tis program attempts to optimize a users portfolio using the Efficient Frontier and python"
   ]
  },
  {
   "cell_type": "code",
   "execution_count": 2,
   "id": "1e9ef1b5",
   "metadata": {},
   "outputs": [],
   "source": [
    "#Import the python libraries\n",
    "from pandas_datareader import data as web\n",
    "import pandas as pd\n",
    "import numpy as np\n",
    "from datetime import datetime \n",
    "import matplotlib.pyplot as plt\n",
    "plt.style.use('fivethirtyeight')"
   ]
  },
  {
   "cell_type": "code",
   "execution_count": 3,
   "id": "6e8933ae",
   "metadata": {},
   "outputs": [],
   "source": [
    "#Get the stock Symbols/tickers in the portfolio\n",
    "#FAANG\n",
    "assets=['META','AMZN','AAPL','NFLX','GOOG']"
   ]
  },
  {
   "cell_type": "code",
   "execution_count": 4,
   "id": "69f341e9",
   "metadata": {},
   "outputs": [],
   "source": [
    "#Assign weights to the stocks.\n",
    "weights=np.array([0.2,0.2,0.2,0.2,0.2])"
   ]
  },
  {
   "cell_type": "code",
   "execution_count": 5,
   "id": "7230d8a6",
   "metadata": {},
   "outputs": [
    {
     "data": {
      "text/plain": [
       "'2013-01-01'"
      ]
     },
     "execution_count": 5,
     "metadata": {},
     "output_type": "execute_result"
    }
   ],
   "source": [
    "#Get the Stock/portfolio starting date\n",
    "stockStartDate='2013-01-01'\n",
    "stockStartDate"
   ]
  },
  {
   "cell_type": "code",
   "execution_count": 6,
   "id": "420232fa",
   "metadata": {},
   "outputs": [
    {
     "data": {
      "text/plain": [
       "'2022-10-04'"
      ]
     },
     "execution_count": 6,
     "metadata": {},
     "output_type": "execute_result"
    }
   ],
   "source": [
    "#Get the stock ending date(today)\n",
    "today=datetime.today().strftime('%Y-%m-%d')\n",
    "today"
   ]
  },
  {
   "cell_type": "code",
   "execution_count": 7,
   "id": "5a98098d",
   "metadata": {},
   "outputs": [
    {
     "data": {
      "text/plain": [
       "datetime.datetime(2022, 10, 4, 11, 54, 57, 420849)"
      ]
     },
     "execution_count": 7,
     "metadata": {},
     "output_type": "execute_result"
    }
   ],
   "source": [
    "datetime.today()"
   ]
  },
  {
   "cell_type": "code",
   "execution_count": 8,
   "id": "ba147200",
   "metadata": {},
   "outputs": [],
   "source": [
    "#crreate a datframe to store the adjusted close price of the stock\n",
    "df=pd.DataFrame()\n",
    "#Store the adjusted Close price of the stock into the dataframe\n",
    "for stock in assets:\n",
    "    df[stock]=web.DataReader(stock,data_source='yahoo',start='2013-01-02',end=today)['Close']"
   ]
  },
  {
   "cell_type": "code",
   "execution_count": 9,
   "id": "89e2cc24",
   "metadata": {},
   "outputs": [
    {
     "data": {
      "text/html": [
       "<div>\n",
       "<style scoped>\n",
       "    .dataframe tbody tr th:only-of-type {\n",
       "        vertical-align: middle;\n",
       "    }\n",
       "\n",
       "    .dataframe tbody tr th {\n",
       "        vertical-align: top;\n",
       "    }\n",
       "\n",
       "    .dataframe thead th {\n",
       "        text-align: right;\n",
       "    }\n",
       "</style>\n",
       "<table border=\"1\" class=\"dataframe\">\n",
       "  <thead>\n",
       "    <tr style=\"text-align: right;\">\n",
       "      <th></th>\n",
       "      <th>META</th>\n",
       "      <th>AMZN</th>\n",
       "      <th>AAPL</th>\n",
       "      <th>NFLX</th>\n",
       "      <th>GOOG</th>\n",
       "    </tr>\n",
       "    <tr>\n",
       "      <th>Date</th>\n",
       "      <th></th>\n",
       "      <th></th>\n",
       "      <th></th>\n",
       "      <th></th>\n",
       "      <th></th>\n",
       "    </tr>\n",
       "  </thead>\n",
       "  <tbody>\n",
       "    <tr>\n",
       "      <th>2013-01-02</th>\n",
       "      <td>28.000000</td>\n",
       "      <td>12.865500</td>\n",
       "      <td>19.608213</td>\n",
       "      <td>13.144286</td>\n",
       "      <td>18.013729</td>\n",
       "    </tr>\n",
       "    <tr>\n",
       "      <th>2013-01-03</th>\n",
       "      <td>27.770000</td>\n",
       "      <td>12.924000</td>\n",
       "      <td>19.360714</td>\n",
       "      <td>13.798571</td>\n",
       "      <td>18.024191</td>\n",
       "    </tr>\n",
       "    <tr>\n",
       "      <th>2013-01-04</th>\n",
       "      <td>28.760000</td>\n",
       "      <td>12.957500</td>\n",
       "      <td>18.821428</td>\n",
       "      <td>13.711429</td>\n",
       "      <td>18.380356</td>\n",
       "    </tr>\n",
       "    <tr>\n",
       "      <th>2013-01-07</th>\n",
       "      <td>29.420000</td>\n",
       "      <td>13.423000</td>\n",
       "      <td>18.710714</td>\n",
       "      <td>14.171429</td>\n",
       "      <td>18.300158</td>\n",
       "    </tr>\n",
       "    <tr>\n",
       "      <th>2013-01-08</th>\n",
       "      <td>29.059999</td>\n",
       "      <td>13.319000</td>\n",
       "      <td>18.761070</td>\n",
       "      <td>13.880000</td>\n",
       "      <td>18.264042</td>\n",
       "    </tr>\n",
       "    <tr>\n",
       "      <th>...</th>\n",
       "      <td>...</td>\n",
       "      <td>...</td>\n",
       "      <td>...</td>\n",
       "      <td>...</td>\n",
       "      <td>...</td>\n",
       "    </tr>\n",
       "    <tr>\n",
       "      <th>2022-09-27</th>\n",
       "      <td>134.399994</td>\n",
       "      <td>114.410004</td>\n",
       "      <td>151.759995</td>\n",
       "      <td>224.360001</td>\n",
       "      <td>98.089996</td>\n",
       "    </tr>\n",
       "    <tr>\n",
       "      <th>2022-09-28</th>\n",
       "      <td>141.610001</td>\n",
       "      <td>118.010002</td>\n",
       "      <td>149.839996</td>\n",
       "      <td>245.199997</td>\n",
       "      <td>100.739998</td>\n",
       "    </tr>\n",
       "    <tr>\n",
       "      <th>2022-09-29</th>\n",
       "      <td>136.410004</td>\n",
       "      <td>114.800003</td>\n",
       "      <td>142.479996</td>\n",
       "      <td>239.710007</td>\n",
       "      <td>98.089996</td>\n",
       "    </tr>\n",
       "    <tr>\n",
       "      <th>2022-09-30</th>\n",
       "      <td>135.679993</td>\n",
       "      <td>113.000000</td>\n",
       "      <td>138.199997</td>\n",
       "      <td>235.440002</td>\n",
       "      <td>96.150002</td>\n",
       "    </tr>\n",
       "    <tr>\n",
       "      <th>2022-10-03</th>\n",
       "      <td>138.610001</td>\n",
       "      <td>115.879997</td>\n",
       "      <td>142.449997</td>\n",
       "      <td>239.039993</td>\n",
       "      <td>99.300003</td>\n",
       "    </tr>\n",
       "  </tbody>\n",
       "</table>\n",
       "<p>2456 rows × 5 columns</p>\n",
       "</div>"
      ],
      "text/plain": [
       "                  META        AMZN        AAPL        NFLX        GOOG\n",
       "Date                                                                  \n",
       "2013-01-02   28.000000   12.865500   19.608213   13.144286   18.013729\n",
       "2013-01-03   27.770000   12.924000   19.360714   13.798571   18.024191\n",
       "2013-01-04   28.760000   12.957500   18.821428   13.711429   18.380356\n",
       "2013-01-07   29.420000   13.423000   18.710714   14.171429   18.300158\n",
       "2013-01-08   29.059999   13.319000   18.761070   13.880000   18.264042\n",
       "...                ...         ...         ...         ...         ...\n",
       "2022-09-27  134.399994  114.410004  151.759995  224.360001   98.089996\n",
       "2022-09-28  141.610001  118.010002  149.839996  245.199997  100.739998\n",
       "2022-09-29  136.410004  114.800003  142.479996  239.710007   98.089996\n",
       "2022-09-30  135.679993  113.000000  138.199997  235.440002   96.150002\n",
       "2022-10-03  138.610001  115.879997  142.449997  239.039993   99.300003\n",
       "\n",
       "[2456 rows x 5 columns]"
      ]
     },
     "execution_count": 9,
     "metadata": {},
     "output_type": "execute_result"
    }
   ],
   "source": [
    "#Show the df\n",
    "df"
   ]
  },
  {
   "cell_type": "code",
   "execution_count": 10,
   "id": "30940d82",
   "metadata": {},
   "outputs": [
    {
     "data": {
      "text/plain": [
       "<matplotlib.legend.Legend at 0x21f9c9546a0>"
      ]
     },
     "execution_count": 10,
     "metadata": {},
     "output_type": "execute_result"
    },
    {
     "data": {
      "image/png": "[encoded data removed]",
      "text/plain": [
       "<Figure size 432x288 with 1 Axes>"
      ]
     },
     "metadata": {},
     "output_type": "display_data"
    }
   ],
   "source": [
    "#Visually show the stock/portfolio\n",
    "title='Portfolio Close Price History'\n",
    "#Get the stock\n",
    "my_stocks=df\n",
    "#Create and plot the graph\n",
    "for c in my_stocks.columns.values:\n",
    "    plt.plot(my_stocks[c],label=c)\n",
    "plt.title(title)\n",
    "plt.xlabel('Date',fontsize=18)\n",
    "plt.ylabel('Close Price USD($)',fontsize=18)\n",
    "plt.legend(my_stocks.columns.values,loc='best')"
   ]
  },
  {
   "cell_type": "code",
   "execution_count": 11,
   "id": "2138481c",
   "metadata": {},
   "outputs": [
    {
     "data": {
      "text/html": [
       "<div>\n",
       "<style scoped>\n",
       "    .dataframe tbody tr th:only-of-type {\n",
       "        vertical-align: middle;\n",
       "    }\n",
       "\n",
       "    .dataframe tbody tr th {\n",
       "        vertical-align: top;\n",
       "    }\n",
       "\n",
       "    .dataframe thead th {\n",
       "        text-align: right;\n",
       "    }\n",
       "</style>\n",
       "<table border=\"1\" class=\"dataframe\">\n",
       "  <thead>\n",
       "    <tr style=\"text-align: right;\">\n",
       "      <th></th>\n",
       "      <th>META</th>\n",
       "      <th>AMZN</th>\n",
       "      <th>AAPL</th>\n",
       "      <th>NFLX</th>\n",
       "      <th>GOOG</th>\n",
       "    </tr>\n",
       "    <tr>\n",
       "      <th>Date</th>\n",
       "      <th></th>\n",
       "      <th></th>\n",
       "      <th></th>\n",
       "      <th></th>\n",
       "      <th></th>\n",
       "    </tr>\n",
       "  </thead>\n",
       "  <tbody>\n",
       "    <tr>\n",
       "      <th>2013-01-02</th>\n",
       "      <td>NaN</td>\n",
       "      <td>NaN</td>\n",
       "      <td>NaN</td>\n",
       "      <td>NaN</td>\n",
       "      <td>NaN</td>\n",
       "    </tr>\n",
       "    <tr>\n",
       "      <th>2013-01-03</th>\n",
       "      <td>-0.008214</td>\n",
       "      <td>0.004547</td>\n",
       "      <td>-0.012622</td>\n",
       "      <td>0.049777</td>\n",
       "      <td>0.000581</td>\n",
       "    </tr>\n",
       "    <tr>\n",
       "      <th>2013-01-04</th>\n",
       "      <td>0.035650</td>\n",
       "      <td>0.002592</td>\n",
       "      <td>-0.027855</td>\n",
       "      <td>-0.006315</td>\n",
       "      <td>0.019760</td>\n",
       "    </tr>\n",
       "    <tr>\n",
       "      <th>2013-01-07</th>\n",
       "      <td>0.022949</td>\n",
       "      <td>0.035925</td>\n",
       "      <td>-0.005882</td>\n",
       "      <td>0.033549</td>\n",
       "      <td>-0.004363</td>\n",
       "    </tr>\n",
       "    <tr>\n",
       "      <th>2013-01-08</th>\n",
       "      <td>-0.012237</td>\n",
       "      <td>-0.007748</td>\n",
       "      <td>0.002691</td>\n",
       "      <td>-0.020565</td>\n",
       "      <td>-0.001974</td>\n",
       "    </tr>\n",
       "    <tr>\n",
       "      <th>...</th>\n",
       "      <td>...</td>\n",
       "      <td>...</td>\n",
       "      <td>...</td>\n",
       "      <td>...</td>\n",
       "      <td>...</td>\n",
       "    </tr>\n",
       "    <tr>\n",
       "      <th>2022-09-27</th>\n",
       "      <td>-0.014446</td>\n",
       "      <td>-0.006426</td>\n",
       "      <td>0.006566</td>\n",
       "      <td>0.001294</td>\n",
       "      <td>-0.007287</td>\n",
       "    </tr>\n",
       "    <tr>\n",
       "      <th>2022-09-28</th>\n",
       "      <td>0.053646</td>\n",
       "      <td>0.031466</td>\n",
       "      <td>-0.012652</td>\n",
       "      <td>0.092886</td>\n",
       "      <td>0.027016</td>\n",
       "    </tr>\n",
       "    <tr>\n",
       "      <th>2022-09-29</th>\n",
       "      <td>-0.036721</td>\n",
       "      <td>-0.027201</td>\n",
       "      <td>-0.049119</td>\n",
       "      <td>-0.022390</td>\n",
       "      <td>-0.026305</td>\n",
       "    </tr>\n",
       "    <tr>\n",
       "      <th>2022-09-30</th>\n",
       "      <td>-0.005352</td>\n",
       "      <td>-0.015679</td>\n",
       "      <td>-0.030039</td>\n",
       "      <td>-0.017813</td>\n",
       "      <td>-0.019778</td>\n",
       "    </tr>\n",
       "    <tr>\n",
       "      <th>2022-10-03</th>\n",
       "      <td>0.021595</td>\n",
       "      <td>0.025487</td>\n",
       "      <td>0.030753</td>\n",
       "      <td>0.015290</td>\n",
       "      <td>0.032761</td>\n",
       "    </tr>\n",
       "  </tbody>\n",
       "</table>\n",
       "<p>2456 rows × 5 columns</p>\n",
       "</div>"
      ],
      "text/plain": [
       "                META      AMZN      AAPL      NFLX      GOOG\n",
       "Date                                                        \n",
       "2013-01-02       NaN       NaN       NaN       NaN       NaN\n",
       "2013-01-03 -0.008214  0.004547 -0.012622  0.049777  0.000581\n",
       "2013-01-04  0.035650  0.002592 -0.027855 -0.006315  0.019760\n",
       "2013-01-07  0.022949  0.035925 -0.005882  0.033549 -0.004363\n",
       "2013-01-08 -0.012237 -0.007748  0.002691 -0.020565 -0.001974\n",
       "...              ...       ...       ...       ...       ...\n",
       "2022-09-27 -0.014446 -0.006426  0.006566  0.001294 -0.007287\n",
       "2022-09-28  0.053646  0.031466 -0.012652  0.092886  0.027016\n",
       "2022-09-29 -0.036721 -0.027201 -0.049119 -0.022390 -0.026305\n",
       "2022-09-30 -0.005352 -0.015679 -0.030039 -0.017813 -0.019778\n",
       "2022-10-03  0.021595  0.025487  0.030753  0.015290  0.032761\n",
       "\n",
       "[2456 rows x 5 columns]"
      ]
     },
     "execution_count": 11,
     "metadata": {},
     "output_type": "execute_result"
    }
   ],
   "source": [
    "#Show the daily simple return\n",
    "returns=df.pct_change()\n",
    "returns"
   ]
  },
  {
   "cell_type": "code",
   "execution_count": 12,
   "id": "ce1d518d",
   "metadata": {},
   "outputs": [
    {
     "data": {
      "text/html": [
       "<div>\n",
       "<style scoped>\n",
       "    .dataframe tbody tr th:only-of-type {\n",
       "        vertical-align: middle;\n",
       "    }\n",
       "\n",
       "    .dataframe tbody tr th {\n",
       "        vertical-align: top;\n",
       "    }\n",
       "\n",
       "    .dataframe thead th {\n",
       "        text-align: right;\n",
       "    }\n",
       "</style>\n",
       "<table border=\"1\" class=\"dataframe\">\n",
       "  <thead>\n",
       "    <tr style=\"text-align: right;\">\n",
       "      <th></th>\n",
       "      <th>META</th>\n",
       "      <th>AMZN</th>\n",
       "      <th>AAPL</th>\n",
       "      <th>NFLX</th>\n",
       "      <th>GOOG</th>\n",
       "    </tr>\n",
       "  </thead>\n",
       "  <tbody>\n",
       "    <tr>\n",
       "      <th>META</th>\n",
       "      <td>0.135897</td>\n",
       "      <td>0.064511</td>\n",
       "      <td>0.050677</td>\n",
       "      <td>0.072617</td>\n",
       "      <td>0.058485</td>\n",
       "    </tr>\n",
       "    <tr>\n",
       "      <th>AMZN</th>\n",
       "      <td>0.064511</td>\n",
       "      <td>0.102753</td>\n",
       "      <td>0.045909</td>\n",
       "      <td>0.072645</td>\n",
       "      <td>0.053235</td>\n",
       "    </tr>\n",
       "    <tr>\n",
       "      <th>AAPL</th>\n",
       "      <td>0.050677</td>\n",
       "      <td>0.045909</td>\n",
       "      <td>0.082628</td>\n",
       "      <td>0.041432</td>\n",
       "      <td>0.042725</td>\n",
       "    </tr>\n",
       "    <tr>\n",
       "      <th>NFLX</th>\n",
       "      <td>0.072617</td>\n",
       "      <td>0.072645</td>\n",
       "      <td>0.041432</td>\n",
       "      <td>0.224677</td>\n",
       "      <td>0.054894</td>\n",
       "    </tr>\n",
       "    <tr>\n",
       "      <th>GOOG</th>\n",
       "      <td>0.058485</td>\n",
       "      <td>0.053235</td>\n",
       "      <td>0.042725</td>\n",
       "      <td>0.054894</td>\n",
       "      <td>0.070830</td>\n",
       "    </tr>\n",
       "  </tbody>\n",
       "</table>\n",
       "</div>"
      ],
      "text/plain": [
       "          META      AMZN      AAPL      NFLX      GOOG\n",
       "META  0.135897  0.064511  0.050677  0.072617  0.058485\n",
       "AMZN  0.064511  0.102753  0.045909  0.072645  0.053235\n",
       "AAPL  0.050677  0.045909  0.082628  0.041432  0.042725\n",
       "NFLX  0.072617  0.072645  0.041432  0.224677  0.054894\n",
       "GOOG  0.058485  0.053235  0.042725  0.054894  0.070830"
      ]
     },
     "execution_count": 12,
     "metadata": {},
     "output_type": "execute_result"
    }
   ],
   "source": [
    "#Create and show the annualize covariance matrix\n",
    "Cov_matrix_annual=returns.cov()*252#random variables varries, directional movement of two asstes\n",
    "Cov_matrix_annual"
   ]
  },
  {
   "cell_type": "code",
   "execution_count": 13,
   "id": "201cdda4",
   "metadata": {},
   "outputs": [
    {
     "data": {
      "text/plain": [
       "0.06924182338508929"
      ]
     },
     "execution_count": 13,
     "metadata": {},
     "output_type": "execute_result"
    }
   ],
   "source": [
    "#Calculate the portfolio variance\n",
    "port_variance=np.dot(weights.T,np.dot(Cov_matrix_annual,weights))\n",
    "port_variance"
   ]
  },
  {
   "cell_type": "code",
   "execution_count": 14,
   "id": "b15ec4ed",
   "metadata": {},
   "outputs": [
    {
     "data": {
      "text/plain": [
       "0.26313841107882613"
      ]
     },
     "execution_count": 14,
     "metadata": {},
     "output_type": "execute_result"
    }
   ],
   "source": [
    "#calculate the portfolio volatility as known as deviation\n",
    "port_volatility=np.sqrt(port_variance)\n",
    "port_volatility"
   ]
  },
  {
   "cell_type": "code",
   "execution_count": 15,
   "id": "88ce4182",
   "metadata": {},
   "outputs": [
    {
     "data": {
      "text/plain": [
       "0.27485153185785766"
      ]
     },
     "execution_count": 15,
     "metadata": {},
     "output_type": "execute_result"
    }
   ],
   "source": [
    "#calculate the annual portfolio retrun\n",
    "portfolioSimpleAnnualReturn=np.sum(returns.mean()*weights)*252\n",
    "portfolioSimpleAnnualReturn"
   ]
  },
  {
   "cell_type": "code",
   "execution_count": 16,
   "id": "fc8bb477",
   "metadata": {},
   "outputs": [
    {
     "data": {
      "text/plain": [
       "('26.0%', '27.0%')"
      ]
     },
     "execution_count": 16,
     "metadata": {},
     "output_type": "execute_result"
    }
   ],
   "source": [
    "#Show the expected annual return,volatility(risk) and variance\n",
    "percent_vols=str(round(port_volatility,2)*100)+'%'\n",
    "percent_ret=str(round(portfolioSimpleAnnualReturn,2)*100)+'%'\n",
    "percent_vols,percent_ret"
   ]
  },
  {
   "cell_type": "code",
   "execution_count": 17,
   "id": "186e7579",
   "metadata": {},
   "outputs": [],
   "source": [
    "#!python -m pip install PyPortfolioOpt"
   ]
  },
  {
   "cell_type": "code",
   "execution_count": 18,
   "id": "9b9dabe9",
   "metadata": {},
   "outputs": [],
   "source": [
    "from pypfopt.efficient_frontier import EfficientFrontier\n",
    "from pypfopt import risk_models\n",
    "from pypfopt import expected_returns"
   ]
  },
  {
   "cell_type": "code",
   "execution_count": 19,
   "id": "72f72053",
   "metadata": {},
   "outputs": [
    {
     "name": "stdout",
     "output_type": "stream",
     "text": [
      "OrderedDict([('META', 0.0), ('AMZN', 0.26972), ('AAPL', 0.42534), ('NFLX', 0.24577), ('GOOG', 0.05917)])\n",
      "Expected annual return: 26.1%\n",
      "Annual volatility: 26.6%\n",
      "Sharpe Ratio: 0.91\n"
     ]
    },
    {
     "data": {
      "text/plain": [
       "(0.2608561001173964, 0.26554889285349836, 0.9070122549909301)"
      ]
     },
     "execution_count": 19,
     "metadata": {},
     "output_type": "execute_result"
    }
   ],
   "source": [
    "#Portfolio Optimization !\n",
    "#Calculate the Expected return and the annualised sample covariance matrix of assets return\n",
    "mu=expected_returns.mean_historical_return(df)\n",
    "S=risk_models.sample_cov(df)\n",
    "#optimize for max sharpe ratio\n",
    "ef=EfficientFrontier(mu,S)\n",
    "weights=ef.max_sharpe()\n",
    "cleaned_weights=ef.clean_weights()\n",
    "print(cleaned_weights)\n",
    "ef.portfolio_performance(verbose=True)"
   ]
  },
  {
   "cell_type": "code",
   "execution_count": 20,
   "id": "3271f24f",
   "metadata": {},
   "outputs": [
    {
     "data": {
      "text/plain": [
       "<pypfopt.discrete_allocation.DiscreteAllocation at 0x21fbe6c0dd8>"
      ]
     },
     "execution_count": 20,
     "metadata": {},
     "output_type": "execute_result"
    }
   ],
   "source": [
    "from pypfopt.discrete_allocation import DiscreteAllocation, get_latest_prices\n",
    "\n",
    "latest_price=get_latest_prices(df)\n",
    "weights=cleaned_weights\n",
    "DiscreteAllocation(weights,latest_price,total_portfolio_value=15000)"
   ]
  },
  {
   "cell_type": "code",
   "execution_count": null,
   "id": "763246a1",
   "metadata": {},
   "outputs": [],
   "source": []
  }
 ],
 "metadata": {
  "kernelspec": {
   "display_name": "Python 3 (ipykernel)",
   "language": "python",
   "name": "python3"
  },
  "language_info": {
   "codemirror_mode": {
    "name": "ipython",
    "version": 3
   },
   "file_extension": ".py",
   "mimetype": "text/x-python",
   "name": "python",
   "nbconvert_exporter": "python",
   "pygments_lexer": "ipython3",
   "version": "3.7.3"
  }
 },
 "nbformat": 4,
 "nbformat_minor": 5
}

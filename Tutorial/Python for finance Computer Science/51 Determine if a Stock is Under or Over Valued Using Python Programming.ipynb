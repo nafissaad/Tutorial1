{
 "cells": [
  {
   "cell_type": "code",
   "execution_count": 1,
   "id": "f7cf0236",
   "metadata": {},
   "outputs": [],
   "source": [
    "#Description: This program determines if a stock is under or overvalued\n",
    "#import the Liberies\n",
    "import pandas as pd\n",
    "import numpy as np\n",
    "import yfinance as yfp\n",
    "import yahoo_fin.stock_info as yf"
   ]
  },
  {
   "cell_type": "code",
   "execution_count": 2,
   "id": "366ecdd2",
   "metadata": {},
   "outputs": [
    {
     "data": {
      "text/plain": [
       "169.91000366210938"
      ]
     },
     "execution_count": 2,
     "metadata": {},
     "output_type": "execute_result"
    }
   ],
   "source": [
    "yfp.Ticker('TSLA').history(start='2022-11-23',end='2022-11-23')['Close'][0]"
   ]
  },
  {
   "cell_type": "code",
   "execution_count": 3,
   "id": "d97bdead",
   "metadata": {},
   "outputs": [],
   "source": [
    "pe_ratio = yf.get_quote_table('AMZN')['EPS (TTM)']"
   ]
  },
  {
   "cell_type": "code",
   "execution_count": 4,
   "id": "f9d1afc4",
   "metadata": {},
   "outputs": [
    {
     "data": {
      "text/plain": [
       "1.08"
      ]
     },
     "execution_count": 4,
     "metadata": {},
     "output_type": "execute_result"
    }
   ],
   "source": [
    "pe_ratio"
   ]
  },
  {
   "cell_type": "code",
   "execution_count": 5,
   "id": "d9f53c15",
   "metadata": {},
   "outputs": [],
   "source": [
    "stocks=['AMZN','TSLA','AAPL','GOOG','META','MSFT','NFLX']"
   ]
  },
  {
   "cell_type": "code",
   "execution_count": 6,
   "id": "d83c04ca",
   "metadata": {},
   "outputs": [
    {
     "name": "stdout",
     "output_type": "stream",
     "text": [
      "AMZN\n",
      "TSLA\n",
      "AAPL\n",
      "GOOG\n",
      "META\n",
      "MSFT\n",
      "NFLX\n"
     ]
    }
   ],
   "source": [
    "df=pd.DataFrame()\n",
    "x=[]\n",
    "y=[]\n",
    "z=[]\n",
    "m=[]\n",
    "for i in stocks:\n",
    "    print(i)\n",
    "    x.append(i)\n",
    "    y.append(yfp.Ticker(i).history(start='2022-11-23',end='2022-11-23')['Close'][0])\n",
    "    z.append(yf.get_quote_table(i)['PE Ratio (TTM)'])\n",
    "    m.append(yf.get_quote_table(i)['EPS (TTM)'])\n",
    "df['Ticker']=x\n",
    "df['Price']=y\n",
    "df['PE Ratio']= z\n",
    "df['EPS']=m"
   ]
  },
  {
   "cell_type": "code",
   "execution_count": 7,
   "id": "a89fa0ca",
   "metadata": {},
   "outputs": [
    {
     "data": {
      "text/html": [
       "<div>\n",
       "<style scoped>\n",
       "    .dataframe tbody tr th:only-of-type {\n",
       "        vertical-align: middle;\n",
       "    }\n",
       "\n",
       "    .dataframe tbody tr th {\n",
       "        vertical-align: top;\n",
       "    }\n",
       "\n",
       "    .dataframe thead th {\n",
       "        text-align: right;\n",
       "    }\n",
       "</style>\n",
       "<table border=\"1\" class=\"dataframe\">\n",
       "  <thead>\n",
       "    <tr style=\"text-align: right;\">\n",
       "      <th></th>\n",
       "      <th>Ticker</th>\n",
       "      <th>Price</th>\n",
       "      <th>PE Ratio</th>\n",
       "      <th>EPS</th>\n",
       "    </tr>\n",
       "  </thead>\n",
       "  <tbody>\n",
       "    <tr>\n",
       "      <th>0</th>\n",
       "      <td>AMZN</td>\n",
       "      <td>93.199997</td>\n",
       "      <td>87.33</td>\n",
       "      <td>1.08</td>\n",
       "    </tr>\n",
       "    <tr>\n",
       "      <th>1</th>\n",
       "      <td>TSLA</td>\n",
       "      <td>169.910004</td>\n",
       "      <td>55.09</td>\n",
       "      <td>3.27</td>\n",
       "    </tr>\n",
       "    <tr>\n",
       "      <th>2</th>\n",
       "      <td>AAPL</td>\n",
       "      <td>150.179993</td>\n",
       "      <td>24.69</td>\n",
       "      <td>6.11</td>\n",
       "    </tr>\n",
       "    <tr>\n",
       "      <th>3</th>\n",
       "      <td>GOOG</td>\n",
       "      <td>97.330002</td>\n",
       "      <td>19.22</td>\n",
       "      <td>5.11</td>\n",
       "    </tr>\n",
       "    <tr>\n",
       "      <th>4</th>\n",
       "      <td>META</td>\n",
       "      <td>111.440002</td>\n",
       "      <td>10.72</td>\n",
       "      <td>10.42</td>\n",
       "    </tr>\n",
       "    <tr>\n",
       "      <th>5</th>\n",
       "      <td>MSFT</td>\n",
       "      <td>245.029999</td>\n",
       "      <td>26.55</td>\n",
       "      <td>9.29</td>\n",
       "    </tr>\n",
       "    <tr>\n",
       "      <th>6</th>\n",
       "      <td>NFLX</td>\n",
       "      <td>286.690002</td>\n",
       "      <td>25.63</td>\n",
       "      <td>11.23</td>\n",
       "    </tr>\n",
       "  </tbody>\n",
       "</table>\n",
       "</div>"
      ],
      "text/plain": [
       "  Ticker       Price  PE Ratio    EPS\n",
       "0   AMZN   93.199997     87.33   1.08\n",
       "1   TSLA  169.910004     55.09   3.27\n",
       "2   AAPL  150.179993     24.69   6.11\n",
       "3   GOOG   97.330002     19.22   5.11\n",
       "4   META  111.440002     10.72  10.42\n",
       "5   MSFT  245.029999     26.55   9.29\n",
       "6   NFLX  286.690002     25.63  11.23"
      ]
     },
     "execution_count": 7,
     "metadata": {},
     "output_type": "execute_result"
    }
   ],
   "source": [
    "df"
   ]
  },
  {
   "cell_type": "code",
   "execution_count": 8,
   "id": "5e5c4f10",
   "metadata": {},
   "outputs": [
    {
     "data": {
      "text/plain": [
       "35.604285714285716"
      ]
     },
     "execution_count": 8,
     "metadata": {},
     "output_type": "execute_result"
    }
   ],
   "source": [
    "#Calculate & Show the mean P/E Ratio\n",
    "PE_Ratio_Mean=df['PE Ratio'].mean()\n",
    "#Show The Data\n",
    "PE_Ratio_Mean"
   ]
  },
  {
   "cell_type": "code",
   "execution_count": 9,
   "id": "6fdccb0b",
   "metadata": {},
   "outputs": [
    {
     "data": {
      "text/html": [
       "<div>\n",
       "<style scoped>\n",
       "    .dataframe tbody tr th:only-of-type {\n",
       "        vertical-align: middle;\n",
       "    }\n",
       "\n",
       "    .dataframe tbody tr th {\n",
       "        vertical-align: top;\n",
       "    }\n",
       "\n",
       "    .dataframe thead th {\n",
       "        text-align: right;\n",
       "    }\n",
       "</style>\n",
       "<table border=\"1\" class=\"dataframe\">\n",
       "  <thead>\n",
       "    <tr style=\"text-align: right;\">\n",
       "      <th></th>\n",
       "      <th>Ticker</th>\n",
       "      <th>Price</th>\n",
       "      <th>PE Ratio</th>\n",
       "      <th>EPS</th>\n",
       "      <th>Fair Market Value</th>\n",
       "    </tr>\n",
       "  </thead>\n",
       "  <tbody>\n",
       "    <tr>\n",
       "      <th>0</th>\n",
       "      <td>AMZN</td>\n",
       "      <td>93.199997</td>\n",
       "      <td>87.33</td>\n",
       "      <td>1.08</td>\n",
       "      <td>38.452629</td>\n",
       "    </tr>\n",
       "    <tr>\n",
       "      <th>1</th>\n",
       "      <td>TSLA</td>\n",
       "      <td>169.910004</td>\n",
       "      <td>55.09</td>\n",
       "      <td>3.27</td>\n",
       "      <td>116.426014</td>\n",
       "    </tr>\n",
       "    <tr>\n",
       "      <th>2</th>\n",
       "      <td>AAPL</td>\n",
       "      <td>150.179993</td>\n",
       "      <td>24.69</td>\n",
       "      <td>6.11</td>\n",
       "      <td>217.542186</td>\n",
       "    </tr>\n",
       "    <tr>\n",
       "      <th>3</th>\n",
       "      <td>GOOG</td>\n",
       "      <td>97.330002</td>\n",
       "      <td>19.22</td>\n",
       "      <td>5.11</td>\n",
       "      <td>181.937900</td>\n",
       "    </tr>\n",
       "    <tr>\n",
       "      <th>4</th>\n",
       "      <td>META</td>\n",
       "      <td>111.440002</td>\n",
       "      <td>10.72</td>\n",
       "      <td>10.42</td>\n",
       "      <td>370.996657</td>\n",
       "    </tr>\n",
       "    <tr>\n",
       "      <th>5</th>\n",
       "      <td>MSFT</td>\n",
       "      <td>245.029999</td>\n",
       "      <td>26.55</td>\n",
       "      <td>9.29</td>\n",
       "      <td>330.763814</td>\n",
       "    </tr>\n",
       "    <tr>\n",
       "      <th>6</th>\n",
       "      <td>NFLX</td>\n",
       "      <td>286.690002</td>\n",
       "      <td>25.63</td>\n",
       "      <td>11.23</td>\n",
       "      <td>399.836129</td>\n",
       "    </tr>\n",
       "  </tbody>\n",
       "</table>\n",
       "</div>"
      ],
      "text/plain": [
       "  Ticker       Price  PE Ratio    EPS  Fair Market Value\n",
       "0   AMZN   93.199997     87.33   1.08          38.452629\n",
       "1   TSLA  169.910004     55.09   3.27         116.426014\n",
       "2   AAPL  150.179993     24.69   6.11         217.542186\n",
       "3   GOOG   97.330002     19.22   5.11         181.937900\n",
       "4   META  111.440002     10.72  10.42         370.996657\n",
       "5   MSFT  245.029999     26.55   9.29         330.763814\n",
       "6   NFLX  286.690002     25.63  11.23         399.836129"
      ]
     },
     "execution_count": 9,
     "metadata": {},
     "output_type": "execute_result"
    }
   ],
   "source": [
    "#CalCulate and Show Fair market value\n",
    "df['Fair Market Value']=PE_Ratio_Mean*df['EPS']\n",
    "#Show the Data\n",
    "df"
   ]
  },
  {
   "cell_type": "code",
   "execution_count": 10,
   "id": "54ac2431",
   "metadata": {},
   "outputs": [
    {
     "data": {
      "text/html": [
       "<div>\n",
       "<style scoped>\n",
       "    .dataframe tbody tr th:only-of-type {\n",
       "        vertical-align: middle;\n",
       "    }\n",
       "\n",
       "    .dataframe tbody tr th {\n",
       "        vertical-align: top;\n",
       "    }\n",
       "\n",
       "    .dataframe thead th {\n",
       "        text-align: right;\n",
       "    }\n",
       "</style>\n",
       "<table border=\"1\" class=\"dataframe\">\n",
       "  <thead>\n",
       "    <tr style=\"text-align: right;\">\n",
       "      <th></th>\n",
       "      <th>Ticker</th>\n",
       "      <th>Price</th>\n",
       "      <th>PE Ratio</th>\n",
       "      <th>EPS</th>\n",
       "      <th>Fair Market Value</th>\n",
       "      <th>Over Under Ratio</th>\n",
       "    </tr>\n",
       "  </thead>\n",
       "  <tbody>\n",
       "    <tr>\n",
       "      <th>0</th>\n",
       "      <td>AMZN</td>\n",
       "      <td>93.199997</td>\n",
       "      <td>87.33</td>\n",
       "      <td>1.08</td>\n",
       "      <td>38.452629</td>\n",
       "      <td>2.423761</td>\n",
       "    </tr>\n",
       "    <tr>\n",
       "      <th>1</th>\n",
       "      <td>TSLA</td>\n",
       "      <td>169.910004</td>\n",
       "      <td>55.09</td>\n",
       "      <td>3.27</td>\n",
       "      <td>116.426014</td>\n",
       "      <td>1.459382</td>\n",
       "    </tr>\n",
       "    <tr>\n",
       "      <th>2</th>\n",
       "      <td>AAPL</td>\n",
       "      <td>150.179993</td>\n",
       "      <td>24.69</td>\n",
       "      <td>6.11</td>\n",
       "      <td>217.542186</td>\n",
       "      <td>0.690349</td>\n",
       "    </tr>\n",
       "    <tr>\n",
       "      <th>3</th>\n",
       "      <td>GOOG</td>\n",
       "      <td>97.330002</td>\n",
       "      <td>19.22</td>\n",
       "      <td>5.11</td>\n",
       "      <td>181.937900</td>\n",
       "      <td>0.534963</td>\n",
       "    </tr>\n",
       "    <tr>\n",
       "      <th>4</th>\n",
       "      <td>META</td>\n",
       "      <td>111.440002</td>\n",
       "      <td>10.72</td>\n",
       "      <td>10.42</td>\n",
       "      <td>370.996657</td>\n",
       "      <td>0.300380</td>\n",
       "    </tr>\n",
       "    <tr>\n",
       "      <th>5</th>\n",
       "      <td>MSFT</td>\n",
       "      <td>245.029999</td>\n",
       "      <td>26.55</td>\n",
       "      <td>9.29</td>\n",
       "      <td>330.763814</td>\n",
       "      <td>0.740800</td>\n",
       "    </tr>\n",
       "    <tr>\n",
       "      <th>6</th>\n",
       "      <td>NFLX</td>\n",
       "      <td>286.690002</td>\n",
       "      <td>25.63</td>\n",
       "      <td>11.23</td>\n",
       "      <td>399.836129</td>\n",
       "      <td>0.717019</td>\n",
       "    </tr>\n",
       "  </tbody>\n",
       "</table>\n",
       "</div>"
      ],
      "text/plain": [
       "  Ticker       Price  PE Ratio    EPS  Fair Market Value  Over Under Ratio\n",
       "0   AMZN   93.199997     87.33   1.08          38.452629          2.423761\n",
       "1   TSLA  169.910004     55.09   3.27         116.426014          1.459382\n",
       "2   AAPL  150.179993     24.69   6.11         217.542186          0.690349\n",
       "3   GOOG   97.330002     19.22   5.11         181.937900          0.534963\n",
       "4   META  111.440002     10.72  10.42         370.996657          0.300380\n",
       "5   MSFT  245.029999     26.55   9.29         330.763814          0.740800\n",
       "6   NFLX  286.690002     25.63  11.23         399.836129          0.717019"
      ]
     },
     "execution_count": 10,
     "metadata": {},
     "output_type": "execute_result"
    }
   ],
   "source": [
    "#Calculate and Show a companies value ratio to determine if that company is over values or under values\n",
    "df['Over Under Ratio']=df['Price']/df['Fair Market Value']\n",
    "df"
   ]
  },
  {
   "cell_type": "code",
   "execution_count": 11,
   "id": "bff0494e",
   "metadata": {},
   "outputs": [
    {
     "data": {
      "text/html": [
       "<div>\n",
       "<style scoped>\n",
       "    .dataframe tbody tr th:only-of-type {\n",
       "        vertical-align: middle;\n",
       "    }\n",
       "\n",
       "    .dataframe tbody tr th {\n",
       "        vertical-align: top;\n",
       "    }\n",
       "\n",
       "    .dataframe thead th {\n",
       "        text-align: right;\n",
       "    }\n",
       "</style>\n",
       "<table border=\"1\" class=\"dataframe\">\n",
       "  <thead>\n",
       "    <tr style=\"text-align: right;\">\n",
       "      <th></th>\n",
       "      <th>Ticker</th>\n",
       "      <th>Price</th>\n",
       "      <th>PE Ratio</th>\n",
       "      <th>EPS</th>\n",
       "      <th>Fair Market Value</th>\n",
       "      <th>Over Under Ratio</th>\n",
       "      <th>Value Label</th>\n",
       "    </tr>\n",
       "  </thead>\n",
       "  <tbody>\n",
       "    <tr>\n",
       "      <th>0</th>\n",
       "      <td>AMZN</td>\n",
       "      <td>93.199997</td>\n",
       "      <td>87.33</td>\n",
       "      <td>1.08</td>\n",
       "      <td>38.452629</td>\n",
       "      <td>2.423761</td>\n",
       "      <td>Fair or Over Valued</td>\n",
       "    </tr>\n",
       "    <tr>\n",
       "      <th>1</th>\n",
       "      <td>TSLA</td>\n",
       "      <td>169.910004</td>\n",
       "      <td>55.09</td>\n",
       "      <td>3.27</td>\n",
       "      <td>116.426014</td>\n",
       "      <td>1.459382</td>\n",
       "      <td>Fair or Over Valued</td>\n",
       "    </tr>\n",
       "    <tr>\n",
       "      <th>2</th>\n",
       "      <td>AAPL</td>\n",
       "      <td>150.179993</td>\n",
       "      <td>24.69</td>\n",
       "      <td>6.11</td>\n",
       "      <td>217.542186</td>\n",
       "      <td>0.690349</td>\n",
       "      <td>Under Valued</td>\n",
       "    </tr>\n",
       "    <tr>\n",
       "      <th>3</th>\n",
       "      <td>GOOG</td>\n",
       "      <td>97.330002</td>\n",
       "      <td>19.22</td>\n",
       "      <td>5.11</td>\n",
       "      <td>181.937900</td>\n",
       "      <td>0.534963</td>\n",
       "      <td>Under Valued</td>\n",
       "    </tr>\n",
       "    <tr>\n",
       "      <th>4</th>\n",
       "      <td>META</td>\n",
       "      <td>111.440002</td>\n",
       "      <td>10.72</td>\n",
       "      <td>10.42</td>\n",
       "      <td>370.996657</td>\n",
       "      <td>0.300380</td>\n",
       "      <td>Under Valued</td>\n",
       "    </tr>\n",
       "    <tr>\n",
       "      <th>5</th>\n",
       "      <td>MSFT</td>\n",
       "      <td>245.029999</td>\n",
       "      <td>26.55</td>\n",
       "      <td>9.29</td>\n",
       "      <td>330.763814</td>\n",
       "      <td>0.740800</td>\n",
       "      <td>Under Valued</td>\n",
       "    </tr>\n",
       "    <tr>\n",
       "      <th>6</th>\n",
       "      <td>NFLX</td>\n",
       "      <td>286.690002</td>\n",
       "      <td>25.63</td>\n",
       "      <td>11.23</td>\n",
       "      <td>399.836129</td>\n",
       "      <td>0.717019</td>\n",
       "      <td>Under Valued</td>\n",
       "    </tr>\n",
       "  </tbody>\n",
       "</table>\n",
       "</div>"
      ],
      "text/plain": [
       "  Ticker       Price  PE Ratio    EPS  Fair Market Value  Over Under Ratio  \\\n",
       "0   AMZN   93.199997     87.33   1.08          38.452629          2.423761   \n",
       "1   TSLA  169.910004     55.09   3.27         116.426014          1.459382   \n",
       "2   AAPL  150.179993     24.69   6.11         217.542186          0.690349   \n",
       "3   GOOG   97.330002     19.22   5.11         181.937900          0.534963   \n",
       "4   META  111.440002     10.72  10.42         370.996657          0.300380   \n",
       "5   MSFT  245.029999     26.55   9.29         330.763814          0.740800   \n",
       "6   NFLX  286.690002     25.63  11.23         399.836129          0.717019   \n",
       "\n",
       "           Value Label  \n",
       "0  Fair or Over Valued  \n",
       "1  Fair or Over Valued  \n",
       "2         Under Valued  \n",
       "3         Under Valued  \n",
       "4         Under Valued  \n",
       "5         Under Valued  \n",
       "6         Under Valued  "
      ]
     },
     "execution_count": 11,
     "metadata": {},
     "output_type": "execute_result"
    }
   ],
   "source": [
    "#Create a new Column to store and show a label of under valued and over valued stocks\n",
    "df['Value Label']=np.where(df['Over Under Ratio']<1.0,'Under Valued','Fair or Over Valued')\n",
    "#show The data\n",
    "df"
   ]
  },
  {
   "cell_type": "code",
   "execution_count": 12,
   "id": "a30f4ea6",
   "metadata": {},
   "outputs": [],
   "source": [
    "#Show the Percentage that the Stock is over or under valued\n",
    "df['Value Percentage']=abs(df['Over Under Ratio'] -1)*100\n",
    "#show the Data\n",
    "df.index=df.Ticker"
   ]
  },
  {
   "cell_type": "code",
   "execution_count": 13,
   "id": "e5fc7c78",
   "metadata": {},
   "outputs": [
    {
     "data": {
      "text/plain": [
       "Index(['AAPL', 'GOOG', 'META', 'MSFT', 'NFLX'], dtype='object', name='Ticker')"
      ]
     },
     "execution_count": 13,
     "metadata": {},
     "output_type": "execute_result"
    }
   ],
   "source": [
    "#Show only a list of stocks that are Considered under valued\n",
    "df[df['Value Label']=='Under Valued'].index"
   ]
  },
  {
   "cell_type": "code",
   "execution_count": null,
   "id": "a3a4e634",
   "metadata": {},
   "outputs": [],
   "source": []
  }
 ],
 "metadata": {
  "kernelspec": {
   "display_name": "Python 3 (ipykernel)",
   "language": "python",
   "name": "python3"
  },
  "language_info": {
   "codemirror_mode": {
    "name": "ipython",
    "version": 3
   },
   "file_extension": ".py",
   "mimetype": "text/x-python",
   "name": "python",
   "nbconvert_exporter": "python",
   "pygments_lexer": "ipython3",
   "version": "3.7.3"
  }
 },
 "nbformat": 4,
 "nbformat_minor": 5
}

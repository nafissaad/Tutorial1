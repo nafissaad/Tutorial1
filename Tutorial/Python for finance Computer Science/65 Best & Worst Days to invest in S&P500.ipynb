{
 "cells": [
  {
   "cell_type": "code",
   "execution_count": 1,
   "id": "8b45fc00",
   "metadata": {},
   "outputs": [],
   "source": [
    "#Description: Determine the worse and best days for the  S&P500"
   ]
  },
  {
   "cell_type": "code",
   "execution_count": 2,
   "id": "61f85525",
   "metadata": {},
   "outputs": [],
   "source": [
    "#Import the libraries\n",
    "import pandas as pd\n",
    "import numpy as np\n",
    "from datetime import datetime\n",
    "import calendar\n",
    "import matplotlib.pyplot as plt\n",
    "import yfinance as yf\n",
    "plt.style.use('fivethirtyeight')"
   ]
  },
  {
   "cell_type": "code",
   "execution_count": 3,
   "id": "c789142e",
   "metadata": {},
   "outputs": [],
   "source": [
    "#Create lists to store the daily simple return for each day\n",
    "Mon=[]\n",
    "Tues=[]\n",
    "Wed=[]\n",
    "Thur=[]\n",
    "Fri=[]\n",
    "Sat=[]\n",
    "Sun=[]\n",
    "\n",
    "#Create a function to get the daily simple return for each day and append it to the  corresponding day\n",
    "def get_dsr(day,dsr):\n",
    "    if day=='Monday':\n",
    "        Mon.append(float(dsr))\n",
    "    elif day =='Tuesday':\n",
    "        Tues.append(float(dsr))\n",
    "    elif day =='Tuesday':\n",
    "        Tues.append(float(dsr))\n",
    "    elif day =='Wednesday':\n",
    "        Wed.append(float(dsr))\n",
    "    elif day =='Thursday':\n",
    "        Thur.append(float(dsr))\n",
    "    elif day =='Friday':\n",
    "        Fri.append(float(dsr))\n",
    "    elif day =='Satureday':\n",
    "        Sat.append(float(dsr))\n",
    "    elif day =='Sunday':\n",
    "        Sun.append(float(dsr))\n",
    "    else:\n",
    "        print('Something is wronf with the input for the day')"
   ]
  },
  {
   "cell_type": "code",
   "execution_count": 4,
   "id": "9be7574a",
   "metadata": {},
   "outputs": [
    {
     "name": "stdout",
     "output_type": "stream",
     "text": [
      "[*********************100%***********************]  1 of 1 completed\n"
     ]
    }
   ],
   "source": [
    "df=yf.download('^GSPC',start='1980-01-01')"
   ]
  },
  {
   "cell_type": "code",
   "execution_count": 5,
   "id": "7f9cf8d6",
   "metadata": {},
   "outputs": [
    {
     "name": "stdout",
     "output_type": "stream",
     "text": [
      "<class 'pandas.core.frame.DataFrame'>\n",
      "DatetimeIndex: 10884 entries, 1979-12-31 to 2023-03-01\n",
      "Data columns (total 6 columns):\n",
      " #   Column     Non-Null Count  Dtype  \n",
      "---  ------     --------------  -----  \n",
      " 0   Open       10884 non-null  float64\n",
      " 1   High       10884 non-null  float64\n",
      " 2   Low        10884 non-null  float64\n",
      " 3   Close      10884 non-null  float64\n",
      " 4   Adj Close  10884 non-null  float64\n",
      " 5   Volume     10884 non-null  int64  \n",
      "dtypes: float64(5), int64(1)\n",
      "memory usage: 595.2 KB\n"
     ]
    }
   ],
   "source": [
    "df.info()"
   ]
  },
  {
   "cell_type": "code",
   "execution_count": 6,
   "id": "a0de355c",
   "metadata": {},
   "outputs": [
    {
     "data": {
      "text/html": [
       "<div>\n",
       "<style scoped>\n",
       "    .dataframe tbody tr th:only-of-type {\n",
       "        vertical-align: middle;\n",
       "    }\n",
       "\n",
       "    .dataframe tbody tr th {\n",
       "        vertical-align: top;\n",
       "    }\n",
       "\n",
       "    .dataframe thead th {\n",
       "        text-align: right;\n",
       "    }\n",
       "</style>\n",
       "<table border=\"1\" class=\"dataframe\">\n",
       "  <thead>\n",
       "    <tr style=\"text-align: right;\">\n",
       "      <th></th>\n",
       "      <th>Open</th>\n",
       "      <th>High</th>\n",
       "      <th>Low</th>\n",
       "      <th>Close</th>\n",
       "      <th>Adj Close</th>\n",
       "      <th>Volume</th>\n",
       "      <th>DSR</th>\n",
       "    </tr>\n",
       "    <tr>\n",
       "      <th>Date</th>\n",
       "      <th></th>\n",
       "      <th></th>\n",
       "      <th></th>\n",
       "      <th></th>\n",
       "      <th></th>\n",
       "      <th></th>\n",
       "      <th></th>\n",
       "    </tr>\n",
       "  </thead>\n",
       "  <tbody>\n",
       "    <tr>\n",
       "      <th>1980-01-02</th>\n",
       "      <td>0.000000</td>\n",
       "      <td>108.430000</td>\n",
       "      <td>105.290001</td>\n",
       "      <td>105.760002</td>\n",
       "      <td>105.760002</td>\n",
       "      <td>40610000</td>\n",
       "      <td>-0.020196</td>\n",
       "    </tr>\n",
       "    <tr>\n",
       "      <th>1980-01-03</th>\n",
       "      <td>0.000000</td>\n",
       "      <td>106.080002</td>\n",
       "      <td>103.260002</td>\n",
       "      <td>105.220001</td>\n",
       "      <td>105.220001</td>\n",
       "      <td>50480000</td>\n",
       "      <td>-0.005106</td>\n",
       "    </tr>\n",
       "    <tr>\n",
       "      <th>1980-01-04</th>\n",
       "      <td>0.000000</td>\n",
       "      <td>107.080002</td>\n",
       "      <td>105.089996</td>\n",
       "      <td>106.519997</td>\n",
       "      <td>106.519997</td>\n",
       "      <td>39130000</td>\n",
       "      <td>0.012355</td>\n",
       "    </tr>\n",
       "    <tr>\n",
       "      <th>1980-01-07</th>\n",
       "      <td>0.000000</td>\n",
       "      <td>107.800003</td>\n",
       "      <td>105.800003</td>\n",
       "      <td>106.809998</td>\n",
       "      <td>106.809998</td>\n",
       "      <td>44500000</td>\n",
       "      <td>0.002723</td>\n",
       "    </tr>\n",
       "    <tr>\n",
       "      <th>1980-01-08</th>\n",
       "      <td>0.000000</td>\n",
       "      <td>109.290001</td>\n",
       "      <td>106.290001</td>\n",
       "      <td>108.949997</td>\n",
       "      <td>108.949997</td>\n",
       "      <td>53390000</td>\n",
       "      <td>0.020036</td>\n",
       "    </tr>\n",
       "    <tr>\n",
       "      <th>...</th>\n",
       "      <td>...</td>\n",
       "      <td>...</td>\n",
       "      <td>...</td>\n",
       "      <td>...</td>\n",
       "      <td>...</td>\n",
       "      <td>...</td>\n",
       "      <td>...</td>\n",
       "    </tr>\n",
       "    <tr>\n",
       "      <th>2023-02-23</th>\n",
       "      <td>4018.600098</td>\n",
       "      <td>4028.300049</td>\n",
       "      <td>3969.189941</td>\n",
       "      <td>4012.320068</td>\n",
       "      <td>4012.320068</td>\n",
       "      <td>3952940000</td>\n",
       "      <td>0.005329</td>\n",
       "    </tr>\n",
       "    <tr>\n",
       "      <th>2023-02-24</th>\n",
       "      <td>3973.239990</td>\n",
       "      <td>3978.250000</td>\n",
       "      <td>3943.080078</td>\n",
       "      <td>3970.040039</td>\n",
       "      <td>3970.040039</td>\n",
       "      <td>3877700000</td>\n",
       "      <td>-0.010538</td>\n",
       "    </tr>\n",
       "    <tr>\n",
       "      <th>2023-02-27</th>\n",
       "      <td>3992.360107</td>\n",
       "      <td>4018.050049</td>\n",
       "      <td>3973.550049</td>\n",
       "      <td>3982.239990</td>\n",
       "      <td>3982.239990</td>\n",
       "      <td>3836950000</td>\n",
       "      <td>0.003073</td>\n",
       "    </tr>\n",
       "    <tr>\n",
       "      <th>2023-02-28</th>\n",
       "      <td>3977.189941</td>\n",
       "      <td>3997.500000</td>\n",
       "      <td>3968.979980</td>\n",
       "      <td>3970.149902</td>\n",
       "      <td>3970.149902</td>\n",
       "      <td>5043400000</td>\n",
       "      <td>-0.003036</td>\n",
       "    </tr>\n",
       "    <tr>\n",
       "      <th>2023-03-01</th>\n",
       "      <td>3963.340088</td>\n",
       "      <td>3971.729980</td>\n",
       "      <td>3945.729980</td>\n",
       "      <td>3950.629883</td>\n",
       "      <td>3950.629883</td>\n",
       "      <td>464145938</td>\n",
       "      <td>-0.004917</td>\n",
       "    </tr>\n",
       "  </tbody>\n",
       "</table>\n",
       "<p>10883 rows × 7 columns</p>\n",
       "</div>"
      ],
      "text/plain": [
       "                   Open         High          Low        Close    Adj Close  \\\n",
       "Date                                                                          \n",
       "1980-01-02     0.000000   108.430000   105.290001   105.760002   105.760002   \n",
       "1980-01-03     0.000000   106.080002   103.260002   105.220001   105.220001   \n",
       "1980-01-04     0.000000   107.080002   105.089996   106.519997   106.519997   \n",
       "1980-01-07     0.000000   107.800003   105.800003   106.809998   106.809998   \n",
       "1980-01-08     0.000000   109.290001   106.290001   108.949997   108.949997   \n",
       "...                 ...          ...          ...          ...          ...   \n",
       "2023-02-23  4018.600098  4028.300049  3969.189941  4012.320068  4012.320068   \n",
       "2023-02-24  3973.239990  3978.250000  3943.080078  3970.040039  3970.040039   \n",
       "2023-02-27  3992.360107  4018.050049  3973.550049  3982.239990  3982.239990   \n",
       "2023-02-28  3977.189941  3997.500000  3968.979980  3970.149902  3970.149902   \n",
       "2023-03-01  3963.340088  3971.729980  3945.729980  3950.629883  3950.629883   \n",
       "\n",
       "                Volume       DSR  \n",
       "Date                              \n",
       "1980-01-02    40610000 -0.020196  \n",
       "1980-01-03    50480000 -0.005106  \n",
       "1980-01-04    39130000  0.012355  \n",
       "1980-01-07    44500000  0.002723  \n",
       "1980-01-08    53390000  0.020036  \n",
       "...                ...       ...  \n",
       "2023-02-23  3952940000  0.005329  \n",
       "2023-02-24  3877700000 -0.010538  \n",
       "2023-02-27  3836950000  0.003073  \n",
       "2023-02-28  5043400000 -0.003036  \n",
       "2023-03-01   464145938 -0.004917  \n",
       "\n",
       "[10883 rows x 7 columns]"
      ]
     },
     "execution_count": 6,
     "metadata": {},
     "output_type": "execute_result"
    }
   ],
   "source": [
    "#Calculate and show the daily simple return\n",
    "DSR=df['Close'].pct_change(1)#compute the dsr\n",
    "df['DSR']=DSR\n",
    "#Remove the row of the data from the data set\n",
    "df=df[1:]\n",
    "#show the current data set\n",
    "df"
   ]
  },
  {
   "cell_type": "code",
   "execution_count": 7,
   "id": "9d8178d8",
   "metadata": {},
   "outputs": [],
   "source": [
    "#Create a loop gather the daily simple returns of each day from the data set\n",
    "for i in range(0,len(df)):\n",
    "    df_date=str(df.index[i])#get the current date and casting it as a string\n",
    "    df_dsr=df['DSR'][i]#Get the current daily simple return\n",
    "    df_month=df_date.split('-')[1]#get the current month\n",
    "    curr_date=df.index[i]#get the current date\n",
    "    df_weekday=calendar.day_name[curr_date.weekday()]#get the weekday\n",
    "    \n",
    "    #Add the daily simple return to corresponding list for the day\n",
    "    get_dsr(df_weekday,df_dsr)"
   ]
  },
  {
   "cell_type": "code",
   "execution_count": 8,
   "id": "dee02598",
   "metadata": {},
   "outputs": [
    {
     "data": {
      "text/plain": [
       "'Wednesday'"
      ]
     },
     "execution_count": 8,
     "metadata": {},
     "output_type": "execute_result"
    }
   ],
   "source": [
    "calendar.day_name[df.index[-1].weekday()]"
   ]
  },
  {
   "cell_type": "code",
   "execution_count": 9,
   "id": "c76aa2fc",
   "metadata": {},
   "outputs": [
    {
     "data": {
      "text/plain": [
       "Timestamp('2023-03-01 00:00:00')"
      ]
     },
     "execution_count": 9,
     "metadata": {},
     "output_type": "execute_result"
    }
   ],
   "source": [
    "df.index[-1]"
   ]
  },
  {
   "cell_type": "code",
   "execution_count": 10,
   "id": "f34870d5",
   "metadata": {},
   "outputs": [],
   "source": [
    "#Create a fundction to average the returns of each weekday\n",
    "def AVG(day):\n",
    "    if not day:#if this is true then the list is empty so return a list containing 0\n",
    "        return[0]\n",
    "    else:\n",
    "        return[sum(day)/len(day)]"
   ]
  },
  {
   "cell_type": "code",
   "execution_count": 11,
   "id": "28494378",
   "metadata": {},
   "outputs": [],
   "source": [
    "#Create a new dataframe and set the index to be the days of the week\n",
    "df_returns=pd.DataFrame(index=['Monday','Tuesday','wednesday','Thursday','Friday','Satureday','Sunday'])\n",
    "#Get the average for each weekday and the values under the column called AVG\n",
    "df_returns['AVG']=AVG(Mon)+AVG(Tues)+AVG(Wed)+AVG(Thur)+AVG(Fri)+AVG(Sat)+AVG(Sun)"
   ]
  },
  {
   "cell_type": "code",
   "execution_count": 12,
   "id": "260ac638",
   "metadata": {},
   "outputs": [
    {
     "data": {
      "text/plain": [
       "<matplotlib.axes._subplots.AxesSubplot at 0x25984942ba8>"
      ]
     },
     "execution_count": 12,
     "metadata": {},
     "output_type": "execute_result"
    },
    {
     "data": {
      "image/png": "[encoded data removed]",
      "text/plain": [
       "<Figure size 432x288 with 1 Axes>"
      ]
     },
     "metadata": {},
     "output_type": "display_data"
    }
   ],
   "source": [
    "df_returns.plot.bar()"
   ]
  },
  {
   "cell_type": "code",
   "execution_count": 13,
   "id": "305abfa5",
   "metadata": {},
   "outputs": [
    {
     "data": {
      "text/html": [
       "<div>\n",
       "<style scoped>\n",
       "    .dataframe tbody tr th:only-of-type {\n",
       "        vertical-align: middle;\n",
       "    }\n",
       "\n",
       "    .dataframe tbody tr th {\n",
       "        vertical-align: top;\n",
       "    }\n",
       "\n",
       "    .dataframe thead th {\n",
       "        text-align: right;\n",
       "    }\n",
       "</style>\n",
       "<table border=\"1\" class=\"dataframe\">\n",
       "  <thead>\n",
       "    <tr style=\"text-align: right;\">\n",
       "      <th></th>\n",
       "      <th>AVG</th>\n",
       "    </tr>\n",
       "  </thead>\n",
       "  <tbody>\n",
       "    <tr>\n",
       "      <th>Monday</th>\n",
       "      <td>-2.053361e-07</td>\n",
       "    </tr>\n",
       "    <tr>\n",
       "      <th>Tuesday</th>\n",
       "      <td>7.584795e-04</td>\n",
       "    </tr>\n",
       "    <tr>\n",
       "      <th>wednesday</th>\n",
       "      <td>6.736384e-04</td>\n",
       "    </tr>\n",
       "    <tr>\n",
       "      <th>Thursday</th>\n",
       "      <td>1.850342e-04</td>\n",
       "    </tr>\n",
       "    <tr>\n",
       "      <th>Friday</th>\n",
       "      <td>3.249568e-04</td>\n",
       "    </tr>\n",
       "    <tr>\n",
       "      <th>Satureday</th>\n",
       "      <td>0.000000e+00</td>\n",
       "    </tr>\n",
       "    <tr>\n",
       "      <th>Sunday</th>\n",
       "      <td>0.000000e+00</td>\n",
       "    </tr>\n",
       "  </tbody>\n",
       "</table>\n",
       "</div>"
      ],
      "text/plain": [
       "                    AVG\n",
       "Monday    -2.053361e-07\n",
       "Tuesday    7.584795e-04\n",
       "wednesday  6.736384e-04\n",
       "Thursday   1.850342e-04\n",
       "Friday     3.249568e-04\n",
       "Satureday  0.000000e+00\n",
       "Sunday     0.000000e+00"
      ]
     },
     "execution_count": 13,
     "metadata": {},
     "output_type": "execute_result"
    }
   ],
   "source": [
    "#Show The returns\n",
    "df_returns"
   ]
  },
  {
   "cell_type": "code",
   "execution_count": null,
   "id": "6c3e23f5",
   "metadata": {},
   "outputs": [],
   "source": []
  }
 ],
 "metadata": {
  "kernelspec": {
   "display_name": "Python 3 (ipykernel)",
   "language": "python",
   "name": "python3"
  },
  "language_info": {
   "codemirror_mode": {
    "name": "ipython",
    "version": 3
   },
   "file_extension": ".py",
   "mimetype": "text/x-python",
   "name": "python",
   "nbconvert_exporter": "python",
   "pygments_lexer": "ipython3",
   "version": "3.7.3"
  }
 },
 "nbformat": 4,
 "nbformat_minor": 5
}

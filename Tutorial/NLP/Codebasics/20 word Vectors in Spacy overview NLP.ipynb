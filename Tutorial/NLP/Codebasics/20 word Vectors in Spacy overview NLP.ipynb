{
 "cells": [
  {
   "cell_type": "code",
   "execution_count": 1,
   "id": "5e89912d",
   "metadata": {},
   "outputs": [],
   "source": [
    "import spacy\n",
    "# word vector occupy lot of space. hence en_core_web_sm model do not have them included\n",
    "# in order to download\n",
    "# word vectors you neet to install large or medium english model.We will install the large one!\n",
    "# make sure you have run'python -mspacy download e_core_web_lg to install larg english model\n",
    "nlp=spacy.load('en_core_web_lg')"
   ]
  },
  {
   "cell_type": "code",
   "execution_count": 2,
   "id": "5bf3813b",
   "metadata": {},
   "outputs": [
    {
     "name": "stdout",
     "output_type": "stream",
     "text": [
      "dog True OOV: False\n",
      "cat True OOV: False\n",
      "bananna True OOV: False\n",
      "afskfsd False OOV: True\n"
     ]
    }
   ],
   "source": [
    "doc=nlp('dog cat bananna afskfsd')\n",
    "for token in doc:\n",
    "    print(token.text,token.has_vector,'OOV:',token.is_oov)"
   ]
  },
  {
   "cell_type": "code",
   "execution_count": 3,
   "id": "66a9e8be",
   "metadata": {},
   "outputs": [
    {
     "data": {
      "text/plain": [
       "(300,)"
      ]
     },
     "execution_count": 3,
     "metadata": {},
     "output_type": "execute_result"
    }
   ],
   "source": [
    "doc[0].vector.shape"
   ]
  },
  {
   "cell_type": "code",
   "execution_count": 4,
   "id": "49493c38",
   "metadata": {},
   "outputs": [
    {
     "data": {
      "text/plain": [
       "(300,)"
      ]
     },
     "execution_count": 4,
     "metadata": {},
     "output_type": "execute_result"
    }
   ],
   "source": [
    "base_token=nlp('bread')\n",
    "base_token.vector.shape"
   ]
  },
  {
   "cell_type": "code",
   "execution_count": 5,
   "id": "7a062aa5",
   "metadata": {},
   "outputs": [
    {
     "name": "stdout",
     "output_type": "stream",
     "text": [
      "bread <-> bread: 1.0\n",
      "sandwich <-> bread: 0.6874560014053445\n",
      "burger <-> bread: 0.5440373883702087\n",
      "car <-> bread: 0.1644114584391833\n",
      "tiger <-> bread: 0.1449235625942581\n",
      "human <-> bread: 0.21103660928832707\n",
      "wheat <-> bread: 0.6572456428272563\n"
     ]
    }
   ],
   "source": [
    "doc=nlp('bread sandwich burger car tiger human wheat')\n",
    "for token in doc:\n",
    "    print(f'{token.text} <-> {base_token.text}:',token.similarity(base_token))"
   ]
  },
  {
   "cell_type": "code",
   "execution_count": 6,
   "id": "71e2e6ba",
   "metadata": {},
   "outputs": [],
   "source": [
    "def print_similarity(base_word,words_to_compare):\n",
    "    base_token=nlp(base_word)\n",
    "    doc=nlp(words_to_compare)\n",
    "    for token in doc:\n",
    "        print(f'{token.text} <-> {base_token.text}: ',token.similarity(base_token))"
   ]
  },
  {
   "cell_type": "code",
   "execution_count": 7,
   "id": "34f97f1f",
   "metadata": {},
   "outputs": [
    {
     "name": "stdout",
     "output_type": "stream",
     "text": [
      "apple <-> iphone:  0.6339781147910419\n",
      "samsung <-> iphone:  0.6678678014329177\n",
      "iphone <-> iphone:  1.0\n",
      "dog <-> iphone:  0.17431037640553934\n",
      "kitten <-> iphone:  0.1468581386023159\n"
     ]
    }
   ],
   "source": [
    "print_similarity('iphone','apple samsung iphone dog kitten')"
   ]
  },
  {
   "cell_type": "code",
   "execution_count": 8,
   "id": "48216f0b",
   "metadata": {},
   "outputs": [
    {
     "data": {
      "text/plain": [
       "array([ 0.60921097, -0.11931002,  0.390807  ,  0.20397002, -0.509929  ,\n",
       "       -0.42843997,  0.81879   , -0.02993998,  0.19041997,  1.2972002 ,\n",
       "       -0.30334198, -0.671401  ,  0.1102983 ,  0.16328831,  0.665507  ,\n",
       "       -0.27768   ,  0.03847599,  1.14757   , -1.03611   ,  0.21347   ,\n",
       "       -0.32944   ,  1.094     , -0.908265  , -0.618134  , -0.9413    ,\n",
       "        0.47958302, -0.39398003,  0.06238902, -0.39807397,  0.958703  ,\n",
       "        0.25692797,  0.83189   ,  0.10837001, -0.23296599,  0.31817997,\n",
       "        0.14454001, -0.436118  , -0.58395004, -0.36263   , -0.04135001,\n",
       "        0.15585001,  0.471489  , -0.4393676 , -0.19341898,  0.270584  ,\n",
       "       -0.599921  , -0.20411141,  1.04912   ,  0.23148   , -0.87687993,\n",
       "       -1.526746  , -0.12728098, -0.376091  , -1.1446329 ,  0.43002498,\n",
       "       -0.4775    ,  0.25962842, -0.238946  , -1.06405   ,  0.58849   ,\n",
       "       -0.269638  , -0.629195  ,  0.4213125 ,  0.06080228,  0.2258347 ,\n",
       "        0.91906303,  0.38692904,  0.679633  ,  0.65315   , -0.10461003,\n",
       "        0.58843   ,  0.39266   , -0.200317  , -0.00960501,  1.28662   ,\n",
       "        0.313617  , -0.34129   ,  0.79631996,  1.244002  , -0.99228495,\n",
       "       -0.79428697, -0.46197   , -0.466176  ,  0.74126   , -0.20428601,\n",
       "        0.25676098, -0.04150402,  0.842388  , -0.55303   ,  0.06274399,\n",
       "        0.02500999,  0.67007303,  0.54671   , -0.369771  ,  0.18439001,\n",
       "       -0.42557997,  0.112293  ,  0.83094   , -0.52374995,  0.34320006,\n",
       "        0.529146  ,  0.28030896,  0.154118  , -0.41718498,  0.043422  ,\n",
       "       -1.25051   , -0.55377   , -0.06461701,  0.09191999, -0.06620899,\n",
       "        0.42323998,  0.69053996, -0.16568905, -0.42899603, -0.72997   ,\n",
       "       -0.57124704, -0.09692299,  0.59575   ,  0.774797  , -0.21103999,\n",
       "       -0.226644  ,  0.17619301,  0.38365   , -0.574015  ,  0.87701   ,\n",
       "        0.28904104,  1.24563   ,  0.08693999, -0.00345531,  0.07441002,\n",
       "       -0.82523   , -0.78162694, -0.58171   , -0.16005   ,  0.18020602,\n",
       "       -0.362334  , -0.327119  ,  0.00848201,  0.39668748,  0.607141  ,\n",
       "       -1.3897    , -0.43166   ,  0.866076  , -0.89189005, -0.57782006,\n",
       "       -0.07390401,  0.02183799,  0.363054  , -0.83088   ,  0.29616   ,\n",
       "        0.21097994, -0.296347  ,  0.26580998,  0.07143098,  0.06111699,\n",
       "       -0.53622097,  0.99417895, -1.38011   , -0.536947  ,  0.369458  ,\n",
       "       -0.97508   , -0.10968   , -0.05335199, -0.5766177 ,  0.17368   ,\n",
       "       -0.566463  ,  0.184587  ,  0.785157  , -0.13047001,  0.27767   ,\n",
       "        0.01311001,  0.149282  ,  0.689873  ,  0.66238   ,  0.10655099,\n",
       "       -0.08089741,  0.32823998,  0.02333701, -0.48289996,  0.5671714 ,\n",
       "       -0.04081398,  0.85817   , -0.1758527 , -0.25250998,  1.0504451 ,\n",
       "        0.04302001, -0.20286998,  0.18548599,  0.45122898,  1.3030299 ,\n",
       "       -0.157414  , -1.05671   ,  0.92088   , -0.1203371 , -0.24424002,\n",
       "       -0.60122   , -0.05312661, -0.18363601, -0.152717  , -0.02382928,\n",
       "        1.070129  , -0.05762001,  0.523777  , -0.26299798,  0.08169597,\n",
       "       -0.3394    ,  0.14963996,  0.014815  , -0.332601  , -0.37600902,\n",
       "       -0.871065  ,  0.92133003, -0.183276  ,  0.07308003, -0.31259304,\n",
       "        0.42312   , -0.7755028 ,  0.26882   , -0.89462   ,  0.46844995,\n",
       "       -0.384949  , -0.37100798,  0.3354    , -0.87551   ,  0.62583995,\n",
       "        0.01499501,  0.200279  , -0.569442  ,  0.269527  ,  0.52523094,\n",
       "       -0.17157   ,  0.04978801,  0.70557   , -0.050483  ,  0.44654703,\n",
       "       -0.76053065,  0.18898302, -0.39629602,  0.462     , -0.8241837 ,\n",
       "       -0.87598   , -0.5444442 , -0.12843929, -0.47901   ,  0.37387   ,\n",
       "       -1.2812501 , -0.129825  ,  0.73121995, -0.92714   , -0.68162996,\n",
       "        0.158066  ,  0.43185002,  0.319013  , -0.935     , -0.762136  ,\n",
       "        0.73428   , -0.35546002,  0.14295   , -1.46269   ,  1.05442   ,\n",
       "       -0.228873  ,  0.32814   , -0.39388096,  0.36636   , -0.03901799,\n",
       "       -0.362525  ,  1.08867   ,  0.48796   , -1.4486699 , -0.266375  ,\n",
       "       -1.962079  , -0.421326  , -0.55570996,  0.34545   ,  0.19757499,\n",
       "       -0.71944994,  0.421724  , -0.288849  , -0.14804198,  0.696213  ,\n",
       "        0.67254   ,  0.94685996,  0.17488998, -0.397538  , -0.93184   ,\n",
       "        0.507649  , -0.075385  , -0.213214  , -0.29449502,  0.254692  ,\n",
       "        0.48711398,  0.05734   ,  0.38646698, -0.59562993, -0.29931   ,\n",
       "        0.622239  , -1.01307   , -0.75944   ,  0.16137004, -0.914027  ],\n",
       "      dtype=float32)"
      ]
     },
     "execution_count": 8,
     "metadata": {},
     "output_type": "execute_result"
    }
   ],
   "source": [
    "king=nlp.vocab['kin'].vector\n",
    "man=nlp.vocab['man'].vector\n",
    "women=king=nlp.vocab['women'].vector\n",
    "queen=king=nlp.vocab['queen'].vector\n",
    "result=king-man+women\n",
    "result"
   ]
  },
  {
   "cell_type": "code",
   "execution_count": 9,
   "id": "3a4fe3a9",
   "metadata": {},
   "outputs": [
    {
     "data": {
      "text/plain": [
       "array([[0.70922095]], dtype=float32)"
      ]
     },
     "execution_count": 9,
     "metadata": {},
     "output_type": "execute_result"
    }
   ],
   "source": [
    "from sklearn.metrics.pairwise import cosine_similarity\n",
    "cosine_similarity([result],[queen])"
   ]
  }
 ],
 "metadata": {
  "kernelspec": {
   "display_name": "Python 3 (ipykernel)",
   "language": "python",
   "name": "python3"
  },
  "language_info": {
   "codemirror_mode": {
    "name": "ipython",
    "version": 3
   },
   "file_extension": ".py",
   "mimetype": "text/x-python",
   "name": "python",
   "nbconvert_exporter": "python",
   "pygments_lexer": "ipython3",
   "version": "3.7.3"
  }
 },
 "nbformat": 4,
 "nbformat_minor": 5
}

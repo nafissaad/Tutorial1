{
 "cells": [
  {
   "cell_type": "code",
   "execution_count": 1,
   "id": "97743970",
   "metadata": {},
   "outputs": [
    {
     "data": {
      "text/html": [
       "<div>\n",
       "<style scoped>\n",
       "    .dataframe tbody tr th:only-of-type {\n",
       "        vertical-align: middle;\n",
       "    }\n",
       "\n",
       "    .dataframe tbody tr th {\n",
       "        vertical-align: top;\n",
       "    }\n",
       "\n",
       "    .dataframe thead th {\n",
       "        text-align: right;\n",
       "    }\n",
       "</style>\n",
       "<table border=\"1\" class=\"dataframe\">\n",
       "  <thead>\n",
       "    <tr style=\"text-align: right;\">\n",
       "      <th></th>\n",
       "      <th>Text</th>\n",
       "      <th>label</th>\n",
       "    </tr>\n",
       "  </thead>\n",
       "  <tbody>\n",
       "    <tr>\n",
       "      <th>0</th>\n",
       "      <td>Top Trump Surrogate BRUTALLY Stabs Him In The...</td>\n",
       "      <td>Fake</td>\n",
       "    </tr>\n",
       "    <tr>\n",
       "      <th>1</th>\n",
       "      <td>U.S. conservative leader optimistic of common ...</td>\n",
       "      <td>Real</td>\n",
       "    </tr>\n",
       "    <tr>\n",
       "      <th>2</th>\n",
       "      <td>Trump proposes U.S. tax overhaul, stirs concer...</td>\n",
       "      <td>Real</td>\n",
       "    </tr>\n",
       "    <tr>\n",
       "      <th>3</th>\n",
       "      <td>Court Forces Ohio To Allow Millions Of Illega...</td>\n",
       "      <td>Fake</td>\n",
       "    </tr>\n",
       "    <tr>\n",
       "      <th>4</th>\n",
       "      <td>Democrats say Trump agrees to work on immigrat...</td>\n",
       "      <td>Real</td>\n",
       "    </tr>\n",
       "  </tbody>\n",
       "</table>\n",
       "</div>"
      ],
      "text/plain": [
       "                                                Text label\n",
       "0   Top Trump Surrogate BRUTALLY Stabs Him In The...  Fake\n",
       "1  U.S. conservative leader optimistic of common ...  Real\n",
       "2  Trump proposes U.S. tax overhaul, stirs concer...  Real\n",
       "3   Court Forces Ohio To Allow Millions Of Illega...  Fake\n",
       "4  Democrats say Trump agrees to work on immigrat...  Real"
      ]
     },
     "execution_count": 1,
     "metadata": {},
     "output_type": "execute_result"
    }
   ],
   "source": [
    "import pandas as pd\n",
    "#read the dataset with name 'Fake_real_Data.csv' and store ot in a variable df\n",
    "df=pd.read_csv('Fake_Real_Data.csv')\n",
    "df.head()"
   ]
  },
  {
   "cell_type": "code",
   "execution_count": 2,
   "id": "c4c38883",
   "metadata": {},
   "outputs": [
    {
     "data": {
      "text/plain": [
       "(9900, 2)"
      ]
     },
     "execution_count": 2,
     "metadata": {},
     "output_type": "execute_result"
    }
   ],
   "source": [
    "df.shape"
   ]
  },
  {
   "cell_type": "code",
   "execution_count": 3,
   "id": "f23e5356",
   "metadata": {},
   "outputs": [
    {
     "data": {
      "text/plain": [
       "Fake    5000\n",
       "Real    4900\n",
       "Name: label, dtype: int64"
      ]
     },
     "execution_count": 3,
     "metadata": {},
     "output_type": "execute_result"
    }
   ],
   "source": [
    "df.label.value_counts()"
   ]
  },
  {
   "cell_type": "code",
   "execution_count": 4,
   "id": "9e7ce9af",
   "metadata": {},
   "outputs": [
    {
     "data": {
      "text/html": [
       "<div>\n",
       "<style scoped>\n",
       "    .dataframe tbody tr th:only-of-type {\n",
       "        vertical-align: middle;\n",
       "    }\n",
       "\n",
       "    .dataframe tbody tr th {\n",
       "        vertical-align: top;\n",
       "    }\n",
       "\n",
       "    .dataframe thead th {\n",
       "        text-align: right;\n",
       "    }\n",
       "</style>\n",
       "<table border=\"1\" class=\"dataframe\">\n",
       "  <thead>\n",
       "    <tr style=\"text-align: right;\">\n",
       "      <th></th>\n",
       "      <th>Text</th>\n",
       "      <th>label</th>\n",
       "      <th>label_num</th>\n",
       "    </tr>\n",
       "  </thead>\n",
       "  <tbody>\n",
       "    <tr>\n",
       "      <th>0</th>\n",
       "      <td>Top Trump Surrogate BRUTALLY Stabs Him In The...</td>\n",
       "      <td>Fake</td>\n",
       "      <td>0</td>\n",
       "    </tr>\n",
       "    <tr>\n",
       "      <th>1</th>\n",
       "      <td>U.S. conservative leader optimistic of common ...</td>\n",
       "      <td>Real</td>\n",
       "      <td>1</td>\n",
       "    </tr>\n",
       "    <tr>\n",
       "      <th>2</th>\n",
       "      <td>Trump proposes U.S. tax overhaul, stirs concer...</td>\n",
       "      <td>Real</td>\n",
       "      <td>1</td>\n",
       "    </tr>\n",
       "    <tr>\n",
       "      <th>3</th>\n",
       "      <td>Court Forces Ohio To Allow Millions Of Illega...</td>\n",
       "      <td>Fake</td>\n",
       "      <td>0</td>\n",
       "    </tr>\n",
       "    <tr>\n",
       "      <th>4</th>\n",
       "      <td>Democrats say Trump agrees to work on immigrat...</td>\n",
       "      <td>Real</td>\n",
       "      <td>1</td>\n",
       "    </tr>\n",
       "  </tbody>\n",
       "</table>\n",
       "</div>"
      ],
      "text/plain": [
       "                                                Text label  label_num\n",
       "0   Top Trump Surrogate BRUTALLY Stabs Him In The...  Fake          0\n",
       "1  U.S. conservative leader optimistic of common ...  Real          1\n",
       "2  Trump proposes U.S. tax overhaul, stirs concer...  Real          1\n",
       "3   Court Forces Ohio To Allow Millions Of Illega...  Fake          0\n",
       "4  Democrats say Trump agrees to work on immigrat...  Real          1"
      ]
     },
     "execution_count": 4,
     "metadata": {},
     "output_type": "execute_result"
    }
   ],
   "source": [
    "df['label_num']=df['label'].map({'Fake':0,'Real':1})\n",
    "df.head()"
   ]
  },
  {
   "cell_type": "code",
   "execution_count": 5,
   "id": "04e003da",
   "metadata": {},
   "outputs": [],
   "source": [
    "import spacy\n",
    "nlp=spacy.load('en_core_web_lg')"
   ]
  },
  {
   "cell_type": "code",
   "execution_count": 6,
   "id": "0f8ebe88",
   "metadata": {},
   "outputs": [
    {
     "data": {
      "text/plain": [
       "array([-2.28704169e-01,  1.77576348e-01, -7.38544986e-02,  1.36382371e-01,\n",
       "        1.36595920e-01,  2.55381707e-02,  1.68541148e-01, -7.23456666e-02,\n",
       "        2.20115170e-01,  1.24573994e+00,  6.77643344e-02, -1.24041498e-01,\n",
       "       -1.51806340e-01, -1.07748387e-02, -5.83779998e-02,  6.22721650e-02,\n",
       "       -1.27998933e-01,  1.72201172e-01,  9.26666632e-02, -1.39433341e-02,\n",
       "       -9.28473249e-02, -1.17619336e-01, -4.25650086e-03, -6.18748255e-02,\n",
       "       -7.56789744e-03,  1.38267502e-01, -1.66299984e-01,  1.41539782e-01,\n",
       "        8.03483278e-02, -7.27324784e-02,  2.65433323e-02,  1.44506320e-01,\n",
       "       -7.42833391e-02,  6.63366690e-02,  3.00466657e-01, -2.13991001e-01,\n",
       "       -1.53350011e-01,  4.59475033e-02, -8.72981772e-02, -1.54793993e-01,\n",
       "        1.24000257e-03, -2.31135488e-01, -4.04273272e-02, -1.22215830e-01,\n",
       "        4.63283807e-02, -1.08305186e-01, -5.71389943e-02, -8.23443308e-02,\n",
       "        1.35961697e-02,  3.68504971e-02, -4.66177464e-02,  1.88521668e-01,\n",
       "       -1.37097389e-01, -4.43462729e-02, -3.81989986e-01,  7.92288333e-02,\n",
       "        1.07540004e-01,  1.14210494e-01, -7.72401616e-02, -1.02189660e-01,\n",
       "       -2.43168339e-01,  9.73381624e-02, -1.05743343e-02, -2.98843354e-01,\n",
       "        1.95065007e-01,  1.78027332e-01,  2.34705005e-02,  1.52268991e-01,\n",
       "        4.03729975e-02, -1.09179996e-01, -1.81248650e-01,  9.42145940e-03,\n",
       "        5.96766658e-02,  1.72030017e-01, -8.34481642e-02, -1.67102411e-01,\n",
       "        8.04002807e-02, -1.00847997e-01,  1.22788297e-02, -2.84949988e-02,\n",
       "       -5.09346724e-02,  8.00766516e-03, -1.81467339e-01,  1.43681169e-01,\n",
       "       -2.39518285e-02,  2.56631643e-01,  4.74497467e-01, -1.38460010e-01,\n",
       "       -2.05438305e-02, -1.51444944e-02, -1.55843347e-01,  1.24174990e-01,\n",
       "        1.78246647e-02, -6.98202252e-02, -4.27799970e-02, -2.48601317e-01,\n",
       "        1.97779179e-01,  1.61376640e-01, -2.06850007e-01, -3.51864588e-03,\n",
       "        3.77902649e-02,  1.31583974e-01,  3.32844347e-01,  6.26555011e-02,\n",
       "       -7.05576986e-02, -1.10808492e+00, -1.08665846e-01, -1.03521504e-01,\n",
       "        1.74571667e-02, -5.16957045e-02,  4.18790020e-02, -1.48081660e-01,\n",
       "       -7.66239837e-02, -6.29627630e-02,  1.20974839e-01,  1.38855055e-01,\n",
       "        1.72378346e-01, -2.06026316e-01,  2.13438328e-02,  6.82018176e-02,\n",
       "       -1.17894500e-01,  9.06783566e-02,  1.08690001e-01,  1.18565656e-01,\n",
       "       -9.55091789e-02,  1.78106442e-01,  1.31429983e-02, -1.85743328e-02,\n",
       "       -3.99923354e-01, -1.32853342e-02, -1.82549000e-01,  9.11481604e-02,\n",
       "       -8.02131668e-02, -2.84270018e-01, -3.87083292e-02, -1.60786603e-02,\n",
       "       -6.99276626e-02,  1.57213822e-01,  2.88860109e-02, -3.68466750e-02,\n",
       "       -1.44973505e+00, -6.41916180e-03, -1.19790666e-01, -1.66928336e-01,\n",
       "       -1.72624171e-01,  8.70836601e-02, -2.92716697e-02, -1.76953319e-02,\n",
       "        2.11732164e-01, -1.10939957e-01, -9.30733383e-02,  4.61766720e-02,\n",
       "        1.42481728e-02,  1.21084988e-01,  6.18032366e-02, -4.92773242e-02,\n",
       "       -1.29457921e-01,  8.17939863e-02,  1.07891671e-01,  1.51284141e-02,\n",
       "        9.33678374e-02, -1.10226840e-01,  1.06318332e-01,  2.47112155e-01,\n",
       "       -1.20213158e-01, -2.52546698e-01, -6.69500008e-02, -3.97532806e-03,\n",
       "        1.09509341e-01,  1.66031703e-01, -2.56364495e-01, -4.58437987e-02,\n",
       "        1.96696177e-01,  9.31516290e-03,  8.26310143e-02,  4.11950648e-02,\n",
       "       -5.26264906e-02, -1.22913487e-01,  6.63433373e-02,  5.63936643e-02,\n",
       "        1.33141339e-01, -1.70062497e-01, -8.84050056e-02,  3.31774950e-02,\n",
       "        2.60913998e-01,  2.43961677e-01,  2.46978343e-01, -1.00760818e-01,\n",
       "       -1.35186374e-01, -1.33561835e-01,  4.39096689e-02, -5.26449978e-02,\n",
       "       -5.94615079e-02, -2.76549999e-02,  2.72515025e-02, -1.22416995e-01,\n",
       "       -1.68173328e-01, -2.49664988e-02,  1.43461660e-01, -9.72566828e-02,\n",
       "       -1.22498333e-01, -2.06094682e-01, -2.11619496e-01, -1.66103199e-01,\n",
       "       -1.42216682e-03, -7.51820505e-02,  8.42683315e-02,  7.82763287e-02,\n",
       "       -8.26263353e-02, -1.56387925e-01, -2.93585688e-01, -1.10654831e-01,\n",
       "       -1.81353331e-01, -7.01315030e-02, -3.38299982e-02, -1.73336491e-02,\n",
       "        6.01948313e-02,  4.55104150e-02, -1.95798427e-02, -1.96470499e-01,\n",
       "       -1.72077835e-01,  2.32906505e-01, -2.94543263e-02,  4.85446639e-02,\n",
       "        1.92903459e-01,  2.43538007e-01,  7.62449875e-02,  7.86213279e-02,\n",
       "        5.49231656e-02, -1.87434986e-01, -7.94795379e-02, -1.63063332e-01,\n",
       "       -6.79093301e-02,  2.65548322e-02, -1.37539327e-01, -1.58244506e-01,\n",
       "       -2.11658314e-01,  8.70969426e-03,  1.08180828e-01, -4.43976559e-02,\n",
       "        7.70493224e-02, -8.54486749e-02, -7.12720081e-02,  2.03633364e-02,\n",
       "        1.64181337e-01, -7.39448294e-02,  1.13439679e-01, -1.65781900e-01,\n",
       "        2.97481507e-01,  7.73215070e-02, -2.16350496e-01,  6.50509968e-02,\n",
       "       -7.80613348e-02, -1.81011662e-01, -1.41844004e-01, -1.03402495e-01,\n",
       "       -8.99953246e-02, -5.73633313e-02, -6.32280037e-02, -1.75644994e-01,\n",
       "       -2.13563010e-01, -1.42022669e-02, -1.52177498e-01,  1.63378343e-02,\n",
       "       -1.75883174e-01,  1.14993162e-01, -1.47346988e-01,  3.52053232e-02,\n",
       "       -2.07339957e-01, -2.86528487e-02, -2.63806164e-01, -1.24656655e-01,\n",
       "       -1.70799941e-02,  1.73829988e-01,  7.89243281e-02, -2.57295053e-02,\n",
       "        1.39514551e-01, -7.21559972e-02,  7.48349950e-02,  4.67862003e-02,\n",
       "        1.67729005e-01,  1.11985661e-01, -3.55266524e-03, -4.91933757e-03,\n",
       "       -1.21422499e-01,  3.39234956e-02, -2.27955341e-01, -1.03738166e-01,\n",
       "       -5.81639893e-02,  2.25066692e-02,  1.97123662e-01, -1.30660340e-01,\n",
       "       -2.36169994e-01, -1.02560841e-01, -2.72630062e-02,  5.44870012e-02,\n",
       "       -2.45271344e-02, -1.05030663e-01,  6.10001720e-02,  2.46441662e-02],\n",
       "      dtype=float32)"
      ]
     },
     "execution_count": 6,
     "metadata": {},
     "output_type": "execute_result"
    }
   ],
   "source": [
    "doc=nlp('Top trump Surrogate BRUTALLY Stabs Hi')\n",
    "doc.vector"
   ]
  },
  {
   "cell_type": "code",
   "execution_count": 7,
   "id": "f8c8e59b",
   "metadata": {},
   "outputs": [
    {
     "data": {
      "text/plain": [
       "(300,)"
      ]
     },
     "execution_count": 7,
     "metadata": {},
     "output_type": "execute_result"
    }
   ],
   "source": [
    "doc.vector.shape"
   ]
  },
  {
   "cell_type": "code",
   "execution_count": 8,
   "id": "21932a71",
   "metadata": {},
   "outputs": [
    {
     "data": {
      "text/html": [
       "<div>\n",
       "<style scoped>\n",
       "    .dataframe tbody tr th:only-of-type {\n",
       "        vertical-align: middle;\n",
       "    }\n",
       "\n",
       "    .dataframe tbody tr th {\n",
       "        vertical-align: top;\n",
       "    }\n",
       "\n",
       "    .dataframe thead th {\n",
       "        text-align: right;\n",
       "    }\n",
       "</style>\n",
       "<table border=\"1\" class=\"dataframe\">\n",
       "  <thead>\n",
       "    <tr style=\"text-align: right;\">\n",
       "      <th></th>\n",
       "      <th>Text</th>\n",
       "      <th>label</th>\n",
       "      <th>label_num</th>\n",
       "    </tr>\n",
       "  </thead>\n",
       "  <tbody>\n",
       "    <tr>\n",
       "      <th>0</th>\n",
       "      <td>Top Trump Surrogate BRUTALLY Stabs Him In The...</td>\n",
       "      <td>Fake</td>\n",
       "      <td>0</td>\n",
       "    </tr>\n",
       "    <tr>\n",
       "      <th>1</th>\n",
       "      <td>U.S. conservative leader optimistic of common ...</td>\n",
       "      <td>Real</td>\n",
       "      <td>1</td>\n",
       "    </tr>\n",
       "    <tr>\n",
       "      <th>2</th>\n",
       "      <td>Trump proposes U.S. tax overhaul, stirs concer...</td>\n",
       "      <td>Real</td>\n",
       "      <td>1</td>\n",
       "    </tr>\n",
       "    <tr>\n",
       "      <th>3</th>\n",
       "      <td>Court Forces Ohio To Allow Millions Of Illega...</td>\n",
       "      <td>Fake</td>\n",
       "      <td>0</td>\n",
       "    </tr>\n",
       "    <tr>\n",
       "      <th>4</th>\n",
       "      <td>Democrats say Trump agrees to work on immigrat...</td>\n",
       "      <td>Real</td>\n",
       "      <td>1</td>\n",
       "    </tr>\n",
       "    <tr>\n",
       "      <th>...</th>\n",
       "      <td>...</td>\n",
       "      <td>...</td>\n",
       "      <td>...</td>\n",
       "    </tr>\n",
       "    <tr>\n",
       "      <th>495</th>\n",
       "      <td>Trump Now Says Wall May Not Need A Wall To Co...</td>\n",
       "      <td>Fake</td>\n",
       "      <td>0</td>\n",
       "    </tr>\n",
       "    <tr>\n",
       "      <th>496</th>\n",
       "      <td>White House, Republicans aim for tax bill in f...</td>\n",
       "      <td>Real</td>\n",
       "      <td>1</td>\n",
       "    </tr>\n",
       "    <tr>\n",
       "      <th>497</th>\n",
       "      <td>China Fires Warning At Trump For Contacting T...</td>\n",
       "      <td>Fake</td>\n",
       "      <td>0</td>\n",
       "    </tr>\n",
       "    <tr>\n",
       "      <th>498</th>\n",
       "      <td>Russia probe special counsel interviews ex-Tru...</td>\n",
       "      <td>Real</td>\n",
       "      <td>1</td>\n",
       "    </tr>\n",
       "    <tr>\n",
       "      <th>499</th>\n",
       "      <td>Trump's personal lawyer says been asked to tes...</td>\n",
       "      <td>Real</td>\n",
       "      <td>1</td>\n",
       "    </tr>\n",
       "  </tbody>\n",
       "</table>\n",
       "<p>500 rows × 3 columns</p>\n",
       "</div>"
      ],
      "text/plain": [
       "                                                  Text label  label_num\n",
       "0     Top Trump Surrogate BRUTALLY Stabs Him In The...  Fake          0\n",
       "1    U.S. conservative leader optimistic of common ...  Real          1\n",
       "2    Trump proposes U.S. tax overhaul, stirs concer...  Real          1\n",
       "3     Court Forces Ohio To Allow Millions Of Illega...  Fake          0\n",
       "4    Democrats say Trump agrees to work on immigrat...  Real          1\n",
       "..                                                 ...   ...        ...\n",
       "495   Trump Now Says Wall May Not Need A Wall To Co...  Fake          0\n",
       "496  White House, Republicans aim for tax bill in f...  Real          1\n",
       "497   China Fires Warning At Trump For Contacting T...  Fake          0\n",
       "498  Russia probe special counsel interviews ex-Tru...  Real          1\n",
       "499  Trump's personal lawyer says been asked to tes...  Real          1\n",
       "\n",
       "[500 rows x 3 columns]"
      ]
     },
     "execution_count": 8,
     "metadata": {},
     "output_type": "execute_result"
    }
   ],
   "source": [
    "df=df.head(500)\n",
    "df"
   ]
  },
  {
   "cell_type": "code",
   "execution_count": 9,
   "id": "9150018b",
   "metadata": {},
   "outputs": [
    {
     "data": {
      "text/html": [
       "<div>\n",
       "<style scoped>\n",
       "    .dataframe tbody tr th:only-of-type {\n",
       "        vertical-align: middle;\n",
       "    }\n",
       "\n",
       "    .dataframe tbody tr th {\n",
       "        vertical-align: top;\n",
       "    }\n",
       "\n",
       "    .dataframe thead th {\n",
       "        text-align: right;\n",
       "    }\n",
       "</style>\n",
       "<table border=\"1\" class=\"dataframe\">\n",
       "  <thead>\n",
       "    <tr style=\"text-align: right;\">\n",
       "      <th></th>\n",
       "      <th>Text</th>\n",
       "      <th>label</th>\n",
       "      <th>label_num</th>\n",
       "      <th>vector</th>\n",
       "    </tr>\n",
       "  </thead>\n",
       "  <tbody>\n",
       "    <tr>\n",
       "      <th>0</th>\n",
       "      <td>Top Trump Surrogate BRUTALLY Stabs Him In The...</td>\n",
       "      <td>Fake</td>\n",
       "      <td>0</td>\n",
       "      <td>[-0.103623025, 0.17802684, -0.11873861, -0.034...</td>\n",
       "    </tr>\n",
       "    <tr>\n",
       "      <th>1</th>\n",
       "      <td>U.S. conservative leader optimistic of common ...</td>\n",
       "      <td>Real</td>\n",
       "      <td>1</td>\n",
       "      <td>[-0.0063406364, 0.16712041, -0.06661373, 0.017...</td>\n",
       "    </tr>\n",
       "    <tr>\n",
       "      <th>2</th>\n",
       "      <td>Trump proposes U.S. tax overhaul, stirs concer...</td>\n",
       "      <td>Real</td>\n",
       "      <td>1</td>\n",
       "      <td>[-0.122753024, 0.17192385, -0.024732638, -0.06...</td>\n",
       "    </tr>\n",
       "    <tr>\n",
       "      <th>3</th>\n",
       "      <td>Court Forces Ohio To Allow Millions Of Illega...</td>\n",
       "      <td>Fake</td>\n",
       "      <td>0</td>\n",
       "      <td>[-0.027337318, 0.12501417, -0.0073965387, -0.0...</td>\n",
       "    </tr>\n",
       "    <tr>\n",
       "      <th>4</th>\n",
       "      <td>Democrats say Trump agrees to work on immigrat...</td>\n",
       "      <td>Real</td>\n",
       "      <td>1</td>\n",
       "      <td>[-0.032708026, 0.093958504, -0.03287002, -0.00...</td>\n",
       "    </tr>\n",
       "  </tbody>\n",
       "</table>\n",
       "</div>"
      ],
      "text/plain": [
       "                                                Text label  label_num  \\\n",
       "0   Top Trump Surrogate BRUTALLY Stabs Him In The...  Fake          0   \n",
       "1  U.S. conservative leader optimistic of common ...  Real          1   \n",
       "2  Trump proposes U.S. tax overhaul, stirs concer...  Real          1   \n",
       "3   Court Forces Ohio To Allow Millions Of Illega...  Fake          0   \n",
       "4  Democrats say Trump agrees to work on immigrat...  Real          1   \n",
       "\n",
       "                                              vector  \n",
       "0  [-0.103623025, 0.17802684, -0.11873861, -0.034...  \n",
       "1  [-0.0063406364, 0.16712041, -0.06661373, 0.017...  \n",
       "2  [-0.122753024, 0.17192385, -0.024732638, -0.06...  \n",
       "3  [-0.027337318, 0.12501417, -0.0073965387, -0.0...  \n",
       "4  [-0.032708026, 0.093958504, -0.03287002, -0.00...  "
      ]
     },
     "execution_count": 9,
     "metadata": {},
     "output_type": "execute_result"
    }
   ],
   "source": [
    "df['vector']=df['Text'].apply(lambda x: nlp(x).vector)\n",
    "df.head()"
   ]
  },
  {
   "cell_type": "code",
   "execution_count": 10,
   "id": "3c9dbef7",
   "metadata": {},
   "outputs": [],
   "source": [
    "from sklearn.model_selection import train_test_split\n",
    "x_train,x_test,y_train,y_test=train_test_split(\n",
    "    df.vector,\n",
    "    df.label_num,\n",
    "    test_size=0.2,\n",
    "    random_state=2022\n",
    ")"
   ]
  },
  {
   "cell_type": "code",
   "execution_count": 11,
   "id": "60c81b47",
   "metadata": {},
   "outputs": [
    {
     "data": {
      "text/plain": [
       "128    [-0.09143723, 0.16357894, -0.0974514, -0.02429...\n",
       "135    [-0.054977976, 0.14932494, -0.014421304, 0.006...\n",
       "402    [-0.13676913, 0.22189589, 0.0012131738, -0.060...\n",
       "400    [-0.06025267, 0.12494812, -0.04077062, -0.0427...\n",
       "484    [-0.013664992, 0.07091858, -0.023948757, -0.00...\n",
       "                             ...                        \n",
       "177    [-0.12105307, 0.15095448, -0.070037, -0.028620...\n",
       "112    [-0.052382313, 0.14593473, -0.09134228, -0.027...\n",
       "173    [0.021678828, 0.12635042, -0.010032164, -0.060...\n",
       "220    [-0.12362533, 0.101190194, 0.19699956, -0.0291...\n",
       "381    [-0.030769544, 0.115325056, -0.026256232, -0.0...\n",
       "Name: vector, Length: 400, dtype: object"
      ]
     },
     "execution_count": 11,
     "metadata": {},
     "output_type": "execute_result"
    }
   ],
   "source": [
    "x_train"
   ]
  },
  {
   "cell_type": "code",
   "execution_count": 12,
   "id": "b172a5e8",
   "metadata": {},
   "outputs": [],
   "source": [
    "import numpy as np\n",
    "X_train_2d=np.stack(x_train)\n",
    "X_test_2d=np.stack(x_test)"
   ]
  },
  {
   "cell_type": "code",
   "execution_count": 13,
   "id": "83d8342e",
   "metadata": {},
   "outputs": [
    {
     "data": {
      "text/plain": [
       "array([[-0.09143723,  0.16357894, -0.0974514 , ..., -0.03504363,\n",
       "         0.00957718,  0.0777863 ],\n",
       "       [-0.05497798,  0.14932494, -0.0144213 , ..., -0.05669844,\n",
       "        -0.00575765,  0.05591649],\n",
       "       [-0.13676913,  0.22189589,  0.00121317, ..., -0.10212778,\n",
       "        -0.01204098,  0.0322522 ],\n",
       "       ...,\n",
       "       [ 0.02167883,  0.12635042, -0.01003216, ..., -0.08063941,\n",
       "        -0.06881595,  0.04882506],\n",
       "       [-0.12362533,  0.10119019,  0.19699956, ..., -0.16715461,\n",
       "        -0.06242067, -0.01550127],\n",
       "       [-0.03076954,  0.11532506, -0.02625623, ..., -0.05673891,\n",
       "        -0.04075184,  0.08093458]], dtype=float32)"
      ]
     },
     "execution_count": 13,
     "metadata": {},
     "output_type": "execute_result"
    }
   ],
   "source": [
    "X_train_2d"
   ]
  },
  {
   "cell_type": "code",
   "execution_count": 14,
   "id": "0d3d48f2",
   "metadata": {},
   "outputs": [
    {
     "data": {
      "text/plain": [
       "MultinomialNB()"
      ]
     },
     "execution_count": 14,
     "metadata": {},
     "output_type": "execute_result"
    }
   ],
   "source": [
    "from sklearn.naive_bayes import MultinomialNB\n",
    "from sklearn.preprocessing import MinMaxScaler\n",
    "\n",
    "scaler=MinMaxScaler()\n",
    "scaled_train_embed=scaler.fit_transform(X_train_2d)\n",
    "scaled_test_embed=scaler.transform(X_test_2d)\n",
    "\n",
    "clf=MultinomialNB()\n",
    "clf.fit(scaled_train_embed,y_train)"
   ]
  },
  {
   "cell_type": "code",
   "execution_count": 15,
   "id": "f99ce0e2",
   "metadata": {},
   "outputs": [
    {
     "name": "stdout",
     "output_type": "stream",
     "text": [
      "              precision    recall  f1-score   support\n",
      "\n",
      "           0       0.89      0.93      0.91        54\n",
      "           1       0.91      0.87      0.89        46\n",
      "\n",
      "    accuracy                           0.90       100\n",
      "   macro avg       0.90      0.90      0.90       100\n",
      "weighted avg       0.90      0.90      0.90       100\n",
      "\n"
     ]
    }
   ],
   "source": [
    "from sklearn.metrics import classification_report\n",
    "y_pred=clf.predict(scaled_test_embed)\n",
    "print(classification_report(y_test,y_pred))"
   ]
  },
  {
   "cell_type": "code",
   "execution_count": 16,
   "id": "3c8de19d",
   "metadata": {},
   "outputs": [
    {
     "name": "stdout",
     "output_type": "stream",
     "text": [
      "              precision    recall  f1-score   support\n",
      "\n",
      "           0       0.94      0.94      0.94        54\n",
      "           1       0.93      0.93      0.93        46\n",
      "\n",
      "    accuracy                           0.94       100\n",
      "   macro avg       0.94      0.94      0.94       100\n",
      "weighted avg       0.94      0.94      0.94       100\n",
      "\n"
     ]
    }
   ],
   "source": [
    "from  sklearn.neighbors import KNeighborsClassifier\n",
    "\n",
    "#1. creating a KNN model object\n",
    "clf = KNeighborsClassifier(n_neighbors = 5, metric = 'euclidean')\n",
    "\n",
    "#2. fit with all_train_embeddings and y_train\n",
    "clf.fit(X_train_2d, y_train)\n",
    "\n",
    "#3. get the predictions for all_test_embeddings and store it in y_pred\n",
    "y_pred = clf.predict(X_test_2d)\n",
    "\n",
    "#4. print the classfication report\n",
    "print(classification_report(y_test, y_pred))"
   ]
  },
  {
   "cell_type": "code",
   "execution_count": null,
   "id": "0953f4e3",
   "metadata": {},
   "outputs": [],
   "source": []
  }
 ],
 "metadata": {
  "kernelspec": {
   "display_name": "Python 3 (ipykernel)",
   "language": "python",
   "name": "python3"
  },
  "language_info": {
   "codemirror_mode": {
    "name": "ipython",
    "version": 3
   },
   "file_extension": ".py",
   "mimetype": "text/x-python",
   "name": "python",
   "nbconvert_exporter": "python",
   "pygments_lexer": "ipython3",
   "version": "3.7.3"
  }
 },
 "nbformat": 4,
 "nbformat_minor": 5
}

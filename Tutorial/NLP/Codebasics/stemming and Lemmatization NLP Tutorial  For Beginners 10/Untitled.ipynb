{
 "cells": [
  {
   "cell_type": "code",
   "execution_count": 1,
   "id": "1eb2afec",
   "metadata": {},
   "outputs": [],
   "source": [
    "#in more often we use lemmatizatin and stemming in NLP text classification,lemma=base word,for example lemma of ate is eat\n",
    "#Use fixed rules such as remove able,ing etc. to derive a base word is stemming for an example talking to base word talk,\n",
    "#adjustable to adjust.\n",
    "#Spacy has only Lemmatization support\n",
    "#nltk has both stemming and lemmatization"
   ]
  },
  {
   "cell_type": "code",
   "execution_count": 2,
   "id": "bc0c50bd",
   "metadata": {},
   "outputs": [],
   "source": [
    "import nltk\n",
    "import spacy"
   ]
  },
  {
   "cell_type": "code",
   "execution_count": 3,
   "id": "44a1f670",
   "metadata": {},
   "outputs": [],
   "source": [
    "from nltk.stem import PorterStemmer# there are other stemmer as well, called SnoballStemmer\n",
    "stemmer=PorterStemmer()"
   ]
  },
  {
   "cell_type": "code",
   "execution_count": 4,
   "id": "33bc05ce",
   "metadata": {},
   "outputs": [
    {
     "name": "stdout",
     "output_type": "stream",
     "text": [
      "eating | eat\n",
      "eats | eat\n",
      "eat | eat\n",
      "ate | ate\n",
      "adjustable | adjust\n",
      "rafting | raft\n",
      "ability | abil\n",
      "meeting | meet\n"
     ]
    }
   ],
   "source": [
    "words = ['eating','eats','eat','ate','adjustable','rafting','ability','meeting']\n",
    "for word in words:\n",
    "    print(word,'|',stemmer.stem(word))"
   ]
  },
  {
   "cell_type": "code",
   "execution_count": 5,
   "id": "c7d94a42",
   "metadata": {},
   "outputs": [],
   "source": [
    "nlp=spacy.load('en_core_web_sm')"
   ]
  },
  {
   "cell_type": "code",
   "execution_count": 6,
   "id": "f2a9c0ec",
   "metadata": {},
   "outputs": [
    {
     "name": "stdout",
     "output_type": "stream",
     "text": [
      "eating | eating | 12092082220177030354\n",
      "eats | eat | 9837207709914848172\n",
      "eat | eat | 9837207709914848172\n",
      "ate | eat | 9837207709914848172\n",
      "adjustable | adjustable | 6033511944150694480\n",
      "rafting | raft | 7154368781129989833\n",
      "ability | ability | 11565809527369121409\n",
      "meeting | meet | 6880656908171229526\n",
      "better | well | 4525988469032889948\n"
     ]
    }
   ],
   "source": [
    "doc=nlp('eating eats eat ate adjustable rafting ability meeting better')\n",
    "for token in doc:\n",
    "    print(token,\"|\",token.lemma_,'|',token.lemma)"
   ]
  },
  {
   "cell_type": "code",
   "execution_count": 7,
   "id": "27bddce5",
   "metadata": {},
   "outputs": [
    {
     "data": {
      "text/plain": [
       "['tok2vec', 'tagger', 'parser', 'attribute_ruler', 'lemmatizer', 'ner']"
      ]
     },
     "execution_count": 7,
     "metadata": {},
     "output_type": "execute_result"
    }
   ],
   "source": [
    "nlp.pipe_names#attribute_ruler can customize your word,for an example Bro is slang, which one means brother lemma cant recognize\n",
    "#it. attribute_ruler knows bro means brother"
   ]
  },
  {
   "cell_type": "code",
   "execution_count": 8,
   "id": "6b0eb8ed",
   "metadata": {},
   "outputs": [
    {
     "name": "stdout",
     "output_type": "stream",
     "text": [
      "Bro | Bro\n",
      ", | ,\n",
      "you | you\n",
      "wanna | wanna\n",
      "go | go\n",
      "? | ?\n",
      "Bra | Bra\n",
      ", | ,\n",
      "do | do\n",
      "n't | not\n",
      "say | say\n",
      "no | no\n",
      "! | !\n",
      "I | I\n",
      "am | be\n",
      "exhausted | exhaust\n"
     ]
    }
   ],
   "source": [
    "doc = nlp(\"Bro, you wanna go? Bra, don't say no! I am exhausted\")\n",
    "for token in doc:\n",
    "    print(token.text,'|',token.lemma_)"
   ]
  },
  {
   "cell_type": "code",
   "execution_count": 9,
   "id": "b8525dcd",
   "metadata": {},
   "outputs": [
    {
     "name": "stdout",
     "output_type": "stream",
     "text": [
      "Bro | Brother\n",
      ", | ,\n",
      "you | you\n",
      "wanna | wanna\n",
      "go | go\n",
      "? | ?\n",
      "Bra | Bra\n",
      ", | ,\n",
      "do | do\n",
      "n't | not\n",
      "say | say\n",
      "no | no\n",
      "! | !\n",
      "I | I\n",
      "am | be\n",
      "exhausted | exhaust\n"
     ]
    }
   ],
   "source": [
    "ar=nlp.get_pipe('attribute_ruler')\n",
    "ar.add([[{'TEXT':'Bro'}],[{'TEXT':'Brah'}]],{'LEMMA':'Brother'})\n",
    "doc = nlp(\"Bro, you wanna go? Bra, don't say no! I am exhausted\")\n",
    "for token in doc:\n",
    "    print(token.text,'|',token.lemma_)"
   ]
  },
  {
   "cell_type": "code",
   "execution_count": null,
   "id": "7887238f",
   "metadata": {},
   "outputs": [],
   "source": []
  }
 ],
 "metadata": {
  "kernelspec": {
   "display_name": "Python 3 (ipykernel)",
   "language": "python",
   "name": "python3"
  },
  "language_info": {
   "codemirror_mode": {
    "name": "ipython",
    "version": 3
   },
   "file_extension": ".py",
   "mimetype": "text/x-python",
   "name": "python",
   "nbconvert_exporter": "python",
   "pygments_lexer": "ipython3",
   "version": "3.7.3"
  }
 },
 "nbformat": 4,
 "nbformat_minor": 5
}

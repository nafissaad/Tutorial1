{
 "cells": [
  {
   "cell_type": "code",
   "execution_count": 1,
   "id": "3f5d629b",
   "metadata": {},
   "outputs": [],
   "source": [
    "import spacy"
   ]
  },
  {
   "cell_type": "code",
   "execution_count": 2,
   "id": "253b61f2",
   "metadata": {},
   "outputs": [
    {
     "name": "stdout",
     "output_type": "stream",
     "text": [
      "Captain\n",
      "America\n",
      "ate\n",
      "100\n",
      "$\n",
      "of\n",
      "samosa\n",
      ".\n",
      "then\n",
      "he\n",
      "said\n",
      "i\n",
      "can\n",
      "do\n",
      "this\n",
      "all\n",
      "day\n"
     ]
    }
   ],
   "source": [
    "nlp = spacy.blank('en')\n",
    "doc = nlp('Captain America ate 100$ of samosa. then he said i can do this all day')\n",
    "for token in doc:\n",
    "    print(token)"
   ]
  },
  {
   "cell_type": "code",
   "execution_count": 3,
   "id": "2a8e8209",
   "metadata": {},
   "outputs": [
    {
     "data": {
      "text/plain": [
       "[]"
      ]
     },
     "execution_count": 3,
     "metadata": {},
     "output_type": "execute_result"
    }
   ],
   "source": [
    "nlp.pipe_names"
   ]
  },
  {
   "cell_type": "code",
   "execution_count": 4,
   "id": "0e0c6794",
   "metadata": {},
   "outputs": [],
   "source": [
    "#!python -m spacy download en_core_web_sm (to download pre-trained python spacy package, which one understan human language )"
   ]
  },
  {
   "cell_type": "code",
   "execution_count": 5,
   "id": "50b8ca1e",
   "metadata": {},
   "outputs": [],
   "source": [
    "nlp=spacy.load('en_core_web_sm')"
   ]
  },
  {
   "cell_type": "code",
   "execution_count": 6,
   "id": "d61672c6",
   "metadata": {},
   "outputs": [
    {
     "data": {
      "text/plain": [
       "[('tok2vec', <spacy.pipeline.tok2vec.Tok2Vec at 0x220b7757e88>),\n",
       " ('tagger', <spacy.pipeline.tagger.Tagger at 0x220b6f5cfa8>),\n",
       " ('parser', <spacy.pipeline.dep_parser.DependencyParser at 0x220b7796748>),\n",
       " ('attribute_ruler',\n",
       "  <spacy.pipeline.attributeruler.AttributeRuler at 0x220b78f3a08>),\n",
       " ('lemmatizer', <spacy.lang.en.lemmatizer.EnglishLemmatizer at 0x220b78f3c88>),\n",
       " ('ner', <spacy.pipeline.ner.EntityRecognizer at 0x220b77966d8>)]"
      ]
     },
     "execution_count": 6,
     "metadata": {},
     "output_type": "execute_result"
    }
   ],
   "source": [
    "nlp.pipeline"
   ]
  },
  {
   "cell_type": "code",
   "execution_count": 7,
   "id": "49b78ae2",
   "metadata": {},
   "outputs": [
    {
     "data": {
      "text/plain": [
       "['tok2vec', 'tagger', 'parser', 'attribute_ruler', 'lemmatizer', 'ner']"
      ]
     },
     "execution_count": 7,
     "metadata": {},
     "output_type": "execute_result"
    }
   ],
   "source": [
    "nlp.pipe_names#Tager component gives you part of speach(pos_),it give us proper noun\n",
    "#lemmatizer gives you lemma_, represent base word,ate is a past tense,base word is eat.\n",
    "#ner is entiti recognizer, for an example Bloomberg(person name)founded data company Bloomberg(Org)"
   ]
  },
  {
   "cell_type": "code",
   "execution_count": 8,
   "id": "2bf78939",
   "metadata": {},
   "outputs": [
    {
     "name": "stdout",
     "output_type": "stream",
     "text": [
      "Captain | PROPN | Captain\n",
      "America | PROPN | America\n",
      "ate | VERB | eat\n",
      "100 | NUM | 100\n",
      "$ | NUM | $\n",
      "of | ADP | of\n",
      "samosa | NOUN | samosa\n",
      ". | PUNCT | .\n",
      "then | ADV | then\n",
      "he | PRON | he\n",
      "said | VERB | say\n",
      "i | PRON | I\n",
      "can | AUX | can\n",
      "do | VERB | do\n",
      "this | PRON | this\n",
      "all | DET | all\n",
      "day | NOUN | day\n",
      ". | PUNCT | .\n"
     ]
    }
   ],
   "source": [
    "doc = nlp('Captain America ate 100$ of samosa. then he said i can do this all day.')\n",
    "for token in doc:\n",
    "    print(token,'|',token.pos_,'|',token.lemma_)#token.pos_ shows noun(PROPN is proper noun like nafis,Bangladesh and he,she is a nuon, common noun)"
   ]
  },
  {
   "cell_type": "code",
   "execution_count": 9,
   "id": "ac839bfc",
   "metadata": {},
   "outputs": [
    {
     "name": "stdout",
     "output_type": "stream",
     "text": [
      "Tesla Inc | ORG | Companies, agencies, institutions, etc.\n",
      "$45 billion | MONEY | Monetary values, including unit\n"
     ]
    }
   ],
   "source": [
    "doc = nlp('Tesla Inc is going to acquire twitter for $45 billion')\n",
    "for ent in doc.ents:#ents means entities\n",
    "    print(ent.text,'|',ent.label_,'|',spacy.explain(ent.label_))\n",
    "    "
   ]
  },
  {
   "cell_type": "code",
   "execution_count": 10,
   "id": "2385a89c",
   "metadata": {},
   "outputs": [
    {
     "data": {
      "text/html": [
       "<span class=\"tex2jax_ignore\"><div class=\"entities\" style=\"line-height: 2.5; direction: ltr\">\n",
       "<mark class=\"entity\" style=\"background: #7aecec; padding: 0.45em 0.6em; margin: 0 0.25em; line-height: 1; border-radius: 0.35em;\">\n",
       "    Tesla Inc\n",
       "    <span style=\"font-size: 0.8em; font-weight: bold; line-height: 1; border-radius: 0.35em; vertical-align: middle; margin-left: 0.5rem\">ORG</span>\n",
       "</mark>\n",
       " is going to acquire twitter for \n",
       "<mark class=\"entity\" style=\"background: #e4e7d2; padding: 0.45em 0.6em; margin: 0 0.25em; line-height: 1; border-radius: 0.35em;\">\n",
       "    $45 billion\n",
       "    <span style=\"font-size: 0.8em; font-weight: bold; line-height: 1; border-radius: 0.35em; vertical-align: middle; margin-left: 0.5rem\">MONEY</span>\n",
       "</mark>\n",
       "</div></span>"
      ],
      "text/plain": [
       "<IPython.core.display.HTML object>"
      ]
     },
     "metadata": {},
     "output_type": "display_data"
    }
   ],
   "source": [
    "from spacy import displacy\n",
    "displacy.render(doc,style=\"ent\")"
   ]
  },
  {
   "cell_type": "code",
   "execution_count": 11,
   "id": "0e8fba63",
   "metadata": {},
   "outputs": [
    {
     "name": "stdout",
     "output_type": "stream",
     "text": [
      "Captain |  | \n",
      "America |  | \n",
      "ate |  | \n",
      "100 |  | \n",
      "$ |  | \n",
      "of |  | \n",
      "samosa |  | \n",
      ". |  | \n",
      "then |  | \n",
      "he |  | \n",
      "said |  | \n",
      "i |  | \n",
      "can |  | \n",
      "do |  | \n",
      "this |  | \n",
      "all |  | \n",
      "day |  | \n",
      ". |  | \n"
     ]
    }
   ],
   "source": [
    "nlp = spacy.blank('en')#blank pipe line gives you nothing\n",
    "doc = nlp('Captain America ate 100$ of samosa. then he said i can do this all day.')\n",
    "for token in doc:\n",
    "    print(token,'|',token.pos_,'|',token.lemma_)"
   ]
  },
  {
   "cell_type": "code",
   "execution_count": 12,
   "id": "2bce99bb",
   "metadata": {},
   "outputs": [
    {
     "data": {
      "text/plain": [
       "['ner']"
      ]
     },
     "execution_count": 12,
     "metadata": {},
     "output_type": "execute_result"
    }
   ],
   "source": [
    "source_nlp=spacy.load(\"en_core_web_sm\")\n",
    "nlp=spacy.blank('en')\n",
    "nlp.add_pipe('ner',source=source_nlp)# including entity recognizer into out blank pipeline\n",
    "nlp.pipe_names"
   ]
  },
  {
   "cell_type": "code",
   "execution_count": 13,
   "id": "cbee4100",
   "metadata": {},
   "outputs": [
    {
     "name": "stdout",
     "output_type": "stream",
     "text": [
      "Tesla Inc | ORG | Companies, agencies, institutions, etc.\n",
      "$45 billion | MONEY | Monetary values, including unit\n"
     ]
    }
   ],
   "source": [
    "doc=nlp('Tesla Inc is going to acuire twitter for $45 billion')\n",
    "for ent in doc.ents:\n",
    "    print(ent.text,'|',ent.label_,'|',spacy.explain(ent.label_))"
   ]
  },
  {
   "cell_type": "code",
   "execution_count": null,
   "id": "8f0f0b0f",
   "metadata": {},
   "outputs": [],
   "source": []
  }
 ],
 "metadata": {
  "kernelspec": {
   "display_name": "Python 3 (ipykernel)",
   "language": "python",
   "name": "python3"
  },
  "language_info": {
   "codemirror_mode": {
    "name": "ipython",
    "version": 3
   },
   "file_extension": ".py",
   "mimetype": "text/x-python",
   "name": "python",
   "nbconvert_exporter": "python",
   "pygments_lexer": "ipython3",
   "version": "3.7.3"
  }
 },
 "nbformat": 4,
 "nbformat_minor": 5
}

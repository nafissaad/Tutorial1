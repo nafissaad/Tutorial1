{
 "cells": [
  {
   "cell_type": "code",
   "execution_count": 1,
   "id": "3970c857",
   "metadata": {},
   "outputs": [],
   "source": [
    "#! python -m pip install gekko"
   ]
  },
  {
   "cell_type": "code",
   "execution_count": 2,
   "id": "ec558fef",
   "metadata": {},
   "outputs": [],
   "source": [
    "import numpy as np\n",
    "from scipy.optimize import minimize\n",
    "from gekko import GEKKO"
   ]
  },
  {
   "cell_type": "code",
   "execution_count": 3,
   "id": "dcc33bae",
   "metadata": {},
   "outputs": [],
   "source": [
    "m=GEKKO()"
   ]
  },
  {
   "cell_type": "code",
   "execution_count": 4,
   "id": "e2621c7f",
   "metadata": {},
   "outputs": [],
   "source": [
    "x1=m.Var(lb=0,ub=2)#lb=Lower Bound, Up=Upper Bound\n",
    "x2=m.Var(lb=0,ub=2)\n",
    "x3=m.Var(lb=0,ub=2)"
   ]
  },
  {
   "cell_type": "code",
   "execution_count": 5,
   "id": "9a927882",
   "metadata": {},
   "outputs": [
    {
     "data": {
      "text/plain": [
       "<gekko.gekko.EquationObj at 0x2489a8195c0>"
      ]
     },
     "execution_count": 5,
     "metadata": {},
     "output_type": "execute_result"
    }
   ],
   "source": [
    "m.Equation(x1+x2+x3==5)#Objective Function\n",
    "m.Equation(x2+x3<=4)"
   ]
  },
  {
   "cell_type": "code",
   "execution_count": 6,
   "id": "31032d86",
   "metadata": {},
   "outputs": [],
   "source": [
    "m.Minimize(0.5*x1+0.8*x2+0.7*x3)#subject function"
   ]
  },
  {
   "cell_type": "code",
   "execution_count": 7,
   "id": "ad4842a8",
   "metadata": {
    "scrolled": false
   },
   "outputs": [],
   "source": [
    "m.solve(disp=False)"
   ]
  },
  {
   "cell_type": "code",
   "execution_count": 8,
   "id": "470b93dd",
   "metadata": {},
   "outputs": [
    {
     "name": "stdout",
     "output_type": "stream",
     "text": [
      "2.0 0.99999996012 2.0\n",
      "3.1999999681\n"
     ]
    }
   ],
   "source": [
    "print(x1.value[0],x2.value[0],x3.value[0])\n",
    "print(m.options.objfcnval)"
   ]
  },
  {
   "cell_type": "code",
   "execution_count": 11,
   "id": "50ac3270",
   "metadata": {},
   "outputs": [],
   "source": [
    "m=GEKKO()"
   ]
  },
  {
   "cell_type": "code",
   "execution_count": 12,
   "id": "df13b504",
   "metadata": {},
   "outputs": [],
   "source": [
    "x1=m.Var(lb=0,ub=100)\n",
    "x2=m.Var(lb=0,ub=100)\n",
    "x3=m.Var(lb=0,ub=100)"
   ]
  },
  {
   "cell_type": "code",
   "execution_count": 13,
   "id": "b7aaa41b",
   "metadata": {},
   "outputs": [
    {
     "data": {
      "text/plain": [
       "<gekko.gekko.EquationObj at 0x2489a830358>"
      ]
     },
     "execution_count": 13,
     "metadata": {},
     "output_type": "execute_result"
    }
   ],
   "source": [
    "m.Equation(3*x2-x3>=81)\n",
    "m.Equation(x1+x2<=89)\n",
    "m.Equation(3*x1+2*x2+3*x3<=400)"
   ]
  },
  {
   "cell_type": "code",
   "execution_count": 14,
   "id": "63838b74",
   "metadata": {},
   "outputs": [],
   "source": [
    "m.Maximize(2.9*x1+1.9*x2+2.5*x3)#subject function"
   ]
  },
  {
   "cell_type": "code",
   "execution_count": 15,
   "id": "3eaab8eb",
   "metadata": {},
   "outputs": [],
   "source": [
    "m.solve(disp=False)"
   ]
  },
  {
   "cell_type": "code",
   "execution_count": 16,
   "id": "a53b7608",
   "metadata": {},
   "outputs": [
    {
     "name": "stdout",
     "output_type": "stream",
     "text": [
      "41.999999968 47.000000032 60.000000013\n",
      "-361.1\n"
     ]
    }
   ],
   "source": [
    "print(x1.value[0],x2.value[0],x3.value[0])\n",
    "print(m.options.objfcnval)"
   ]
  },
  {
   "cell_type": "code",
   "execution_count": null,
   "id": "4ba18eb7",
   "metadata": {},
   "outputs": [],
   "source": []
  }
 ],
 "metadata": {
  "kernelspec": {
   "display_name": "Python 3 (ipykernel)",
   "language": "python",
   "name": "python3"
  },
  "language_info": {
   "codemirror_mode": {
    "name": "ipython",
    "version": 3
   },
   "file_extension": ".py",
   "mimetype": "text/x-python",
   "name": "python",
   "nbconvert_exporter": "python",
   "pygments_lexer": "ipython3",
   "version": "3.7.3"
  }
 },
 "nbformat": 4,
 "nbformat_minor": 5
}

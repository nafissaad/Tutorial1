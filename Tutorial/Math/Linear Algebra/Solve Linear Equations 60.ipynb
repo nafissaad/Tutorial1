{
 "cells": [
  {
   "cell_type": "code",
   "execution_count": 1,
   "id": "3fb6ee9c",
   "metadata": {},
   "outputs": [],
   "source": [
    "import numpy as np\n",
    "import numpy.linalg as la"
   ]
  },
  {
   "cell_type": "code",
   "execution_count": 2,
   "id": "cb22086d",
   "metadata": {},
   "outputs": [],
   "source": [
    "#x+2y=5\n",
    "#3x+4y=6\n",
    "\n",
    "A=np.array([[1,2],\n",
    "           [3,4]])"
   ]
  },
  {
   "cell_type": "code",
   "execution_count": 3,
   "id": "d48006e9",
   "metadata": {},
   "outputs": [],
   "source": [
    "b=np.array([[5],\n",
    "           [6]])"
   ]
  },
  {
   "cell_type": "code",
   "execution_count": 4,
   "id": "a6eb5186",
   "metadata": {},
   "outputs": [
    {
     "name": "stdout",
     "output_type": "stream",
     "text": [
      "[[-4. ]\n",
      " [ 4.5]]\n"
     ]
    }
   ],
   "source": [
    "Ainv=la.inv(A)\n",
    "x=Ainv.dot(b)\n",
    "print(x)"
   ]
  },
  {
   "cell_type": "code",
   "execution_count": 5,
   "id": "d351c50f",
   "metadata": {},
   "outputs": [
    {
     "name": "stdout",
     "output_type": "stream",
     "text": [
      "[[-4. ]\n",
      " [ 4.5]]\n"
     ]
    }
   ],
   "source": [
    "x=la.solve(A,b)\n",
    "print(x)"
   ]
  },
  {
   "cell_type": "code",
   "execution_count": 6,
   "id": "86a84247",
   "metadata": {},
   "outputs": [
    {
     "name": "stdout",
     "output_type": "stream",
     "text": [
      "[[-3.5       ]\n",
      " [ 4.17857143]]\n"
     ]
    }
   ],
   "source": [
    "#+2y=5\n",
    "#x+4y=6\n",
    "#7x+8y=9\n",
    "\n",
    "A=np.array([[1,2],\n",
    "            [3,4],\n",
    "            [7,8]])\n",
    "b=np.array([[5],[6],[9]])\n",
    "\n",
    "\n",
    "x=la.lstsq(A,b,rcond=None)[0]\n",
    "print(x)"
   ]
  },
  {
   "cell_type": "code",
   "execution_count": 7,
   "id": "ad717ed6",
   "metadata": {},
   "outputs": [
    {
     "name": "stdout",
     "output_type": "stream",
     "text": [
      "[[0.49294612]\n",
      " [0.58899895]\n",
      " [0.40844965]\n",
      " [0.02048627]]\n"
     ]
    }
   ],
   "source": [
    "A=np.array([[1,2,8,3],\n",
    "            [3,4,5,6],\n",
    "            [7,8,2,1]])\n",
    "b=np.array([[5],[6],[9]])\n",
    "\n",
    "\n",
    "x=la.lstsq(A,b,rcond=None)[0]\n",
    "print(x)"
   ]
  },
  {
   "cell_type": "code",
   "execution_count": 8,
   "id": "625c5015",
   "metadata": {},
   "outputs": [
    {
     "data": {
      "text/plain": [
       "array([5.])"
      ]
     },
     "execution_count": 8,
     "metadata": {},
     "output_type": "execute_result"
    }
   ],
   "source": [
    "np.matmul(A[0],x)"
   ]
  },
  {
   "cell_type": "code",
   "execution_count": 9,
   "id": "833ba0e1",
   "metadata": {},
   "outputs": [
    {
     "data": {
      "text/plain": [
       "array([6.])"
      ]
     },
     "execution_count": 9,
     "metadata": {},
     "output_type": "execute_result"
    }
   ],
   "source": [
    "np.matmul(A[1],x)"
   ]
  },
  {
   "cell_type": "code",
   "execution_count": 10,
   "id": "9bd4641d",
   "metadata": {},
   "outputs": [
    {
     "data": {
      "text/plain": [
       "array([9.])"
      ]
     },
     "execution_count": 10,
     "metadata": {},
     "output_type": "execute_result"
    }
   ],
   "source": [
    "np.matmul(A[2],x)"
   ]
  },
  {
   "cell_type": "code",
   "execution_count": null,
   "id": "d5271023",
   "metadata": {},
   "outputs": [],
   "source": []
  }
 ],
 "metadata": {
  "kernelspec": {
   "display_name": "Python 3 (ipykernel)",
   "language": "python",
   "name": "python3"
  },
  "language_info": {
   "codemirror_mode": {
    "name": "ipython",
    "version": 3
   },
   "file_extension": ".py",
   "mimetype": "text/x-python",
   "name": "python",
   "nbconvert_exporter": "python",
   "pygments_lexer": "ipython3",
   "version": "3.7.3"
  }
 },
 "nbformat": 4,
 "nbformat_minor": 5
}

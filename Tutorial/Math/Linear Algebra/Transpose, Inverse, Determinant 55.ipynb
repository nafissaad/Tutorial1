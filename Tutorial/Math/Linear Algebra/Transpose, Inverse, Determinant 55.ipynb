{
 "cells": [
  {
   "cell_type": "code",
   "execution_count": 1,
   "id": "d464fb84",
   "metadata": {},
   "outputs": [],
   "source": [
    "import numpy as np"
   ]
  },
  {
   "cell_type": "code",
   "execution_count": 2,
   "id": "7b969153",
   "metadata": {},
   "outputs": [],
   "source": [
    "A=np.array([[1,3,7,2],\n",
    "           [5,8,-9,0],\n",
    "           [6,-7,11,12]])"
   ]
  },
  {
   "cell_type": "code",
   "execution_count": 3,
   "id": "28d30246",
   "metadata": {},
   "outputs": [],
   "source": [
    "B=np.array([[1,5],\n",
    "           [4,5],\n",
    "           [3,2],\n",
    "           [7,8]])"
   ]
  },
  {
   "cell_type": "code",
   "execution_count": 4,
   "id": "63a2b3ae",
   "metadata": {},
   "outputs": [
    {
     "name": "stdout",
     "output_type": "stream",
     "text": [
      "[[ 1  3  7  2]\n",
      " [ 5  8 -9  0]\n",
      " [ 6 -7 11 12]]\n"
     ]
    }
   ],
   "source": [
    "print(A)"
   ]
  },
  {
   "cell_type": "code",
   "execution_count": 5,
   "id": "90a38955",
   "metadata": {},
   "outputs": [
    {
     "name": "stdout",
     "output_type": "stream",
     "text": [
      "[[ 1  5  6]\n",
      " [ 3  8 -7]\n",
      " [ 7 -9 11]\n",
      " [ 2  0 12]]\n"
     ]
    }
   ],
   "source": [
    "Atr=np.transpose(A)\n",
    "print(Atr)"
   ]
  },
  {
   "cell_type": "code",
   "execution_count": 6,
   "id": "d2f827b6",
   "metadata": {},
   "outputs": [
    {
     "name": "stdout",
     "output_type": "stream",
     "text": [
      "[[1 4 3 7]\n",
      " [5 5 2 8]]\n"
     ]
    }
   ],
   "source": [
    "Btr=np.transpose(B)\n",
    "print(Btr)"
   ]
  },
  {
   "cell_type": "code",
   "execution_count": 7,
   "id": "5a69bf1c",
   "metadata": {},
   "outputs": [],
   "source": [
    "import numpy.linalg as la"
   ]
  },
  {
   "cell_type": "code",
   "execution_count": 8,
   "id": "e2d6a757",
   "metadata": {},
   "outputs": [],
   "source": [
    "A=np.array([[1,2],\n",
    "           [3,4]])"
   ]
  },
  {
   "cell_type": "code",
   "execution_count": 9,
   "id": "c16f5c86",
   "metadata": {},
   "outputs": [
    {
     "name": "stdout",
     "output_type": "stream",
     "text": [
      "-2.0000000000000004\n"
     ]
    }
   ],
   "source": [
    "Adet=la.det(A)\n",
    "print(Adet)"
   ]
  },
  {
   "cell_type": "code",
   "execution_count": 10,
   "id": "14152a0a",
   "metadata": {},
   "outputs": [],
   "source": [
    "B=np.array([[-1,3,0],\n",
    "           [2,1,-5],\n",
    "           [1,4,-2]])"
   ]
  },
  {
   "cell_type": "code",
   "execution_count": 11,
   "id": "c18049dd",
   "metadata": {},
   "outputs": [
    {
     "name": "stdout",
     "output_type": "stream",
     "text": [
      "-21.00000000000001\n"
     ]
    }
   ],
   "source": [
    "Bdet=la.det(B)\n",
    "print(Bdet)"
   ]
  },
  {
   "cell_type": "code",
   "execution_count": 12,
   "id": "b8f0af87",
   "metadata": {},
   "outputs": [],
   "source": [
    "Binv=la.inv(B)"
   ]
  },
  {
   "cell_type": "code",
   "execution_count": 13,
   "id": "ef6287a6",
   "metadata": {},
   "outputs": [
    {
     "name": "stdout",
     "output_type": "stream",
     "text": [
      "[[-0.85714286 -0.28571429  0.71428571]\n",
      " [ 0.04761905 -0.0952381   0.23809524]\n",
      " [-0.33333333 -0.33333333  0.33333333]]\n"
     ]
    }
   ],
   "source": [
    "print(Binv)"
   ]
  },
  {
   "cell_type": "code",
   "execution_count": 14,
   "id": "ef9c2399",
   "metadata": {},
   "outputs": [
    {
     "name": "stdout",
     "output_type": "stream",
     "text": [
      "(array([-0.37228132,  5.37228132]), array([[-0.82456484, -0.41597356],\n",
      "       [ 0.56576746, -0.90937671]]))\n"
     ]
    }
   ],
   "source": [
    "Aeig=la.eig(A)\n",
    "print(Aeig)"
   ]
  },
  {
   "cell_type": "code",
   "execution_count": null,
   "id": "3546c818",
   "metadata": {},
   "outputs": [],
   "source": []
  }
 ],
 "metadata": {
  "kernelspec": {
   "display_name": "Python 3 (ipykernel)",
   "language": "python",
   "name": "python3"
  },
  "language_info": {
   "codemirror_mode": {
    "name": "ipython",
    "version": 3
   },
   "file_extension": ".py",
   "mimetype": "text/x-python",
   "name": "python",
   "nbconvert_exporter": "python",
   "pygments_lexer": "ipython3",
   "version": "3.7.3"
  }
 },
 "nbformat": 4,
 "nbformat_minor": 5
}

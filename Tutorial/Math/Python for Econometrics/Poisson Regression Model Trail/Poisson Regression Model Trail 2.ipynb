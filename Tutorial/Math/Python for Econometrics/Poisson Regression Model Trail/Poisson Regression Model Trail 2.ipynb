{
 "cells": [
  {
   "cell_type": "code",
   "execution_count": 1,
   "id": "6b59bdcc",
   "metadata": {},
   "outputs": [],
   "source": [
    "import pandas as pd \n",
    "import matplotlib.pyplot as plt\n",
    "import numpy as np\n",
    "from sklearn import linear_model\n",
    "clf = linear_model.LinearRegression()\n",
    "import statsmodels.api as sm\n",
    "import re"
   ]
  },
  {
   "cell_type": "code",
   "execution_count": 2,
   "id": "015a58ad",
   "metadata": {},
   "outputs": [
    {
     "data": {
      "text/html": [
       "<div>\n",
       "<style scoped>\n",
       "    .dataframe tbody tr th:only-of-type {\n",
       "        vertical-align: middle;\n",
       "    }\n",
       "\n",
       "    .dataframe tbody tr th {\n",
       "        vertical-align: top;\n",
       "    }\n",
       "\n",
       "    .dataframe thead th {\n",
       "        text-align: right;\n",
       "    }\n",
       "</style>\n",
       "<table border=\"1\" class=\"dataframe\">\n",
       "  <thead>\n",
       "    <tr style=\"text-align: right;\">\n",
       "      <th></th>\n",
       "      <th>Period</th>\n",
       "      <th>Number of airline passengers</th>\n",
       "    </tr>\n",
       "  </thead>\n",
       "  <tbody>\n",
       "    <tr>\n",
       "      <th>0</th>\n",
       "      <td>1949</td>\n",
       "      <td>112.0</td>\n",
       "    </tr>\n",
       "    <tr>\n",
       "      <th>1</th>\n",
       "      <td>1949</td>\n",
       "      <td>118.0</td>\n",
       "    </tr>\n",
       "    <tr>\n",
       "      <th>2</th>\n",
       "      <td>1949</td>\n",
       "      <td>132.0</td>\n",
       "    </tr>\n",
       "    <tr>\n",
       "      <th>3</th>\n",
       "      <td>1949</td>\n",
       "      <td>129.0</td>\n",
       "    </tr>\n",
       "    <tr>\n",
       "      <th>4</th>\n",
       "      <td>1949</td>\n",
       "      <td>121.0</td>\n",
       "    </tr>\n",
       "    <tr>\n",
       "      <th>5</th>\n",
       "      <td>1949</td>\n",
       "      <td>135.0</td>\n",
       "    </tr>\n",
       "    <tr>\n",
       "      <th>6</th>\n",
       "      <td>1949</td>\n",
       "      <td>148.0</td>\n",
       "    </tr>\n",
       "    <tr>\n",
       "      <th>7</th>\n",
       "      <td>1949</td>\n",
       "      <td>148.0</td>\n",
       "    </tr>\n",
       "    <tr>\n",
       "      <th>8</th>\n",
       "      <td>1949</td>\n",
       "      <td>136.0</td>\n",
       "    </tr>\n",
       "    <tr>\n",
       "      <th>9</th>\n",
       "      <td>1949</td>\n",
       "      <td>119.0</td>\n",
       "    </tr>\n",
       "    <tr>\n",
       "      <th>10</th>\n",
       "      <td>1949</td>\n",
       "      <td>104.0</td>\n",
       "    </tr>\n",
       "    <tr>\n",
       "      <th>11</th>\n",
       "      <td>1949</td>\n",
       "      <td>118.0</td>\n",
       "    </tr>\n",
       "    <tr>\n",
       "      <th>12</th>\n",
       "      <td>1950</td>\n",
       "      <td>115.0</td>\n",
       "    </tr>\n",
       "    <tr>\n",
       "      <th>13</th>\n",
       "      <td>1950</td>\n",
       "      <td>126.0</td>\n",
       "    </tr>\n",
       "    <tr>\n",
       "      <th>14</th>\n",
       "      <td>1950</td>\n",
       "      <td>141.0</td>\n",
       "    </tr>\n",
       "    <tr>\n",
       "      <th>15</th>\n",
       "      <td>1950</td>\n",
       "      <td>135.0</td>\n",
       "    </tr>\n",
       "    <tr>\n",
       "      <th>16</th>\n",
       "      <td>1950</td>\n",
       "      <td>125.0</td>\n",
       "    </tr>\n",
       "    <tr>\n",
       "      <th>17</th>\n",
       "      <td>1950</td>\n",
       "      <td>149.0</td>\n",
       "    </tr>\n",
       "    <tr>\n",
       "      <th>18</th>\n",
       "      <td>1950</td>\n",
       "      <td>170.0</td>\n",
       "    </tr>\n",
       "    <tr>\n",
       "      <th>19</th>\n",
       "      <td>1950</td>\n",
       "      <td>170.0</td>\n",
       "    </tr>\n",
       "    <tr>\n",
       "      <th>20</th>\n",
       "      <td>1950</td>\n",
       "      <td>158.0</td>\n",
       "    </tr>\n",
       "    <tr>\n",
       "      <th>21</th>\n",
       "      <td>1950</td>\n",
       "      <td>133.0</td>\n",
       "    </tr>\n",
       "    <tr>\n",
       "      <th>22</th>\n",
       "      <td>1950</td>\n",
       "      <td>114.0</td>\n",
       "    </tr>\n",
       "    <tr>\n",
       "      <th>23</th>\n",
       "      <td>1950</td>\n",
       "      <td>140.0</td>\n",
       "    </tr>\n",
       "    <tr>\n",
       "      <th>24</th>\n",
       "      <td>1951</td>\n",
       "      <td>145.0</td>\n",
       "    </tr>\n",
       "    <tr>\n",
       "      <th>25</th>\n",
       "      <td>1951</td>\n",
       "      <td>150.0</td>\n",
       "    </tr>\n",
       "    <tr>\n",
       "      <th>26</th>\n",
       "      <td>1951</td>\n",
       "      <td>178.0</td>\n",
       "    </tr>\n",
       "    <tr>\n",
       "      <th>27</th>\n",
       "      <td>1951</td>\n",
       "      <td>163.0</td>\n",
       "    </tr>\n",
       "    <tr>\n",
       "      <th>28</th>\n",
       "      <td>1951</td>\n",
       "      <td>172.0</td>\n",
       "    </tr>\n",
       "    <tr>\n",
       "      <th>29</th>\n",
       "      <td>1951</td>\n",
       "      <td>178.0</td>\n",
       "    </tr>\n",
       "  </tbody>\n",
       "</table>\n",
       "</div>"
      ],
      "text/plain": [
       "    Period  Number of airline passengers\n",
       "0     1949                         112.0\n",
       "1     1949                         118.0\n",
       "2     1949                         132.0\n",
       "3     1949                         129.0\n",
       "4     1949                         121.0\n",
       "5     1949                         135.0\n",
       "6     1949                         148.0\n",
       "7     1949                         148.0\n",
       "8     1949                         136.0\n",
       "9     1949                         119.0\n",
       "10    1949                         104.0\n",
       "11    1949                         118.0\n",
       "12    1950                         115.0\n",
       "13    1950                         126.0\n",
       "14    1950                         141.0\n",
       "15    1950                         135.0\n",
       "16    1950                         125.0\n",
       "17    1950                         149.0\n",
       "18    1950                         170.0\n",
       "19    1950                         170.0\n",
       "20    1950                         158.0\n",
       "21    1950                         133.0\n",
       "22    1950                         114.0\n",
       "23    1950                         140.0\n",
       "24    1951                         145.0\n",
       "25    1951                         150.0\n",
       "26    1951                         178.0\n",
       "27    1951                         163.0\n",
       "28    1951                         172.0\n",
       "29    1951                         178.0"
      ]
     },
     "execution_count": 2,
     "metadata": {},
     "output_type": "execute_result"
    }
   ],
   "source": [
    "from sktime.datasets import load_airline\n",
    "airline = load_airline()\n",
    "airline=pd.DataFrame(airline)\n",
    "airline.reset_index(inplace=True)\n",
    "airline['Period']=[int(i.year)for i in airline['Period']]\n",
    "airline.head(30)"
   ]
  },
  {
   "cell_type": "code",
   "execution_count": 3,
   "id": "1d9a8a2e",
   "metadata": {
    "scrolled": true
   },
   "outputs": [
    {
     "data": {
      "text/plain": [
       "0      4.718499\n",
       "1      4.770685\n",
       "2      4.882802\n",
       "3      4.859812\n",
       "4      4.795791\n",
       "         ...   \n",
       "139    6.406880\n",
       "140    6.230481\n",
       "141    6.133398\n",
       "142    5.966147\n",
       "143    6.068426\n",
       "Name: Number of airline passengers, Length: 144, dtype: float64"
      ]
     },
     "execution_count": 3,
     "metadata": {},
     "output_type": "execute_result"
    }
   ],
   "source": [
    "X =airline[['Period']]\n",
    "y =np.log(airline['Number of airline passengers'])\n",
    "y"
   ]
  },
  {
   "cell_type": "code",
   "execution_count": 4,
   "id": "ac067685",
   "metadata": {
    "scrolled": true
   },
   "outputs": [
    {
     "data": {
      "text/plain": [
       "LinearRegression()"
      ]
     },
     "execution_count": 4,
     "metadata": {},
     "output_type": "execute_result"
    }
   ],
   "source": [
    "clf.fit(X,y)"
   ]
  },
  {
   "cell_type": "code",
   "execution_count": 5,
   "id": "5c7699f1",
   "metadata": {},
   "outputs": [
    {
     "data": {
      "text/plain": [
       "array([4.87763485, 4.87763485, 4.87763485, 4.87763485, 4.87763485,\n",
       "       4.87763485, 4.87763485, 4.87763485, 4.87763485, 4.87763485,\n",
       "       4.87763485, 4.87763485, 4.9984605 , 4.9984605 , 4.9984605 ,\n",
       "       4.9984605 , 4.9984605 , 4.9984605 , 4.9984605 , 4.9984605 ,\n",
       "       4.9984605 , 4.9984605 , 4.9984605 , 4.9984605 , 5.11928616,\n",
       "       5.11928616, 5.11928616, 5.11928616, 5.11928616, 5.11928616,\n",
       "       5.11928616, 5.11928616, 5.11928616, 5.11928616, 5.11928616,\n",
       "       5.11928616, 5.24011182, 5.24011182, 5.24011182, 5.24011182,\n",
       "       5.24011182, 5.24011182, 5.24011182, 5.24011182, 5.24011182,\n",
       "       5.24011182, 5.24011182, 5.24011182, 5.36093747, 5.36093747,\n",
       "       5.36093747, 5.36093747, 5.36093747, 5.36093747, 5.36093747,\n",
       "       5.36093747, 5.36093747, 5.36093747, 5.36093747, 5.36093747,\n",
       "       5.48176313, 5.48176313, 5.48176313, 5.48176313, 5.48176313,\n",
       "       5.48176313, 5.48176313, 5.48176313, 5.48176313, 5.48176313,\n",
       "       5.48176313, 5.48176313, 5.60258879, 5.60258879, 5.60258879,\n",
       "       5.60258879, 5.60258879, 5.60258879, 5.60258879, 5.60258879,\n",
       "       5.60258879, 5.60258879, 5.60258879, 5.60258879, 5.72341444,\n",
       "       5.72341444, 5.72341444, 5.72341444, 5.72341444, 5.72341444,\n",
       "       5.72341444, 5.72341444, 5.72341444, 5.72341444, 5.72341444,\n",
       "       5.72341444, 5.8442401 , 5.8442401 , 5.8442401 , 5.8442401 ,\n",
       "       5.8442401 , 5.8442401 , 5.8442401 , 5.8442401 , 5.8442401 ,\n",
       "       5.8442401 , 5.8442401 , 5.8442401 , 5.96506576, 5.96506576,\n",
       "       5.96506576, 5.96506576, 5.96506576, 5.96506576, 5.96506576,\n",
       "       5.96506576, 5.96506576, 5.96506576, 5.96506576, 5.96506576,\n",
       "       6.08589141, 6.08589141, 6.08589141, 6.08589141, 6.08589141,\n",
       "       6.08589141, 6.08589141, 6.08589141, 6.08589141, 6.08589141,\n",
       "       6.08589141, 6.08589141, 6.20671707, 6.20671707, 6.20671707,\n",
       "       6.20671707, 6.20671707, 6.20671707, 6.20671707, 6.20671707,\n",
       "       6.20671707, 6.20671707, 6.20671707, 6.20671707])"
      ]
     },
     "execution_count": 5,
     "metadata": {},
     "output_type": "execute_result"
    }
   ],
   "source": [
    "y_pred=clf.predict(X)\n",
    "y_pred"
   ]
  },
  {
   "cell_type": "code",
   "execution_count": 6,
   "id": "4c4cbfce",
   "metadata": {},
   "outputs": [
    {
     "data": {
      "text/plain": [
       "[<matplotlib.lines.Line2D at 0x2c916aed2e8>]"
      ]
     },
     "execution_count": 6,
     "metadata": {},
     "output_type": "execute_result"
    },
    {
     "data": {
      "image/png": "[encoded data removed]",
      "text/plain": [
       "<Figure size 432x288 with 1 Axes>"
      ]
     },
     "metadata": {
      "needs_background": "light"
     },
     "output_type": "display_data"
    }
   ],
   "source": [
    "plt.scatter(x=X,y=y)\n",
    "plt.plot(X,y_pred,color='r')"
   ]
  },
  {
   "cell_type": "code",
   "execution_count": 7,
   "id": "10b653dc",
   "metadata": {},
   "outputs": [
    {
     "data": {
      "text/plain": [
       "[<matplotlib.lines.Line2D at 0x2c918bbd1d0>]"
      ]
     },
     "execution_count": 7,
     "metadata": {},
     "output_type": "execute_result"
    },
    {
     "data": {
      "image/png": "[encoded data removed]",
      "text/plain": [
       "<Figure size 432x288 with 1 Axes>"
      ]
     },
     "metadata": {
      "needs_background": "light"
     },
     "output_type": "display_data"
    }
   ],
   "source": [
    "plt.scatter(x=X,y=np.exp(y))\n",
    "plt.plot(X,np.exp(y_pred),color='r')"
   ]
  },
  {
   "cell_type": "code",
   "execution_count": null,
   "id": "8dd88429",
   "metadata": {},
   "outputs": [],
   "source": []
  }
 ],
 "metadata": {
  "kernelspec": {
   "display_name": "Python 3 (ipykernel)",
   "language": "python",
   "name": "python3"
  },
  "language_info": {
   "codemirror_mode": {
    "name": "ipython",
    "version": 3
   },
   "file_extension": ".py",
   "mimetype": "text/x-python",
   "name": "python",
   "nbconvert_exporter": "python",
   "pygments_lexer": "ipython3",
   "version": "3.7.3"
  }
 },
 "nbformat": 4,
 "nbformat_minor": 5
}

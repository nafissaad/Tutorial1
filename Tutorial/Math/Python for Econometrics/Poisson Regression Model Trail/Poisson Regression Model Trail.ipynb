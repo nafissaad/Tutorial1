{
 "cells": [
  {
   "cell_type": "code",
   "execution_count": 1,
   "id": "2d9146c4",
   "metadata": {},
   "outputs": [],
   "source": [
    "import pandas as pd \n",
    "import matplotlib.pyplot as plt\n",
    "import numpy as np\n",
    "from sklearn import linear_model\n",
    "clf = linear_model.LinearRegression()\n",
    "import statsmodels.api as sm\n",
    "import re"
   ]
  },
  {
   "cell_type": "code",
   "execution_count": 2,
   "id": "0ea54a06",
   "metadata": {},
   "outputs": [
    {
     "data": {
      "text/html": [
       "<div>\n",
       "<style scoped>\n",
       "    .dataframe tbody tr th:only-of-type {\n",
       "        vertical-align: middle;\n",
       "    }\n",
       "\n",
       "    .dataframe tbody tr th {\n",
       "        vertical-align: top;\n",
       "    }\n",
       "\n",
       "    .dataframe thead th {\n",
       "        text-align: right;\n",
       "    }\n",
       "</style>\n",
       "<table border=\"1\" class=\"dataframe\">\n",
       "  <thead>\n",
       "    <tr style=\"text-align: right;\">\n",
       "      <th></th>\n",
       "      <th>Period</th>\n",
       "      <th>Number of airline passengers</th>\n",
       "    </tr>\n",
       "  </thead>\n",
       "  <tbody>\n",
       "    <tr>\n",
       "      <th>0</th>\n",
       "      <td>1949</td>\n",
       "      <td>112.0</td>\n",
       "    </tr>\n",
       "    <tr>\n",
       "      <th>1</th>\n",
       "      <td>1949</td>\n",
       "      <td>118.0</td>\n",
       "    </tr>\n",
       "    <tr>\n",
       "      <th>2</th>\n",
       "      <td>1949</td>\n",
       "      <td>132.0</td>\n",
       "    </tr>\n",
       "    <tr>\n",
       "      <th>3</th>\n",
       "      <td>1949</td>\n",
       "      <td>129.0</td>\n",
       "    </tr>\n",
       "    <tr>\n",
       "      <th>4</th>\n",
       "      <td>1949</td>\n",
       "      <td>121.0</td>\n",
       "    </tr>\n",
       "    <tr>\n",
       "      <th>5</th>\n",
       "      <td>1949</td>\n",
       "      <td>135.0</td>\n",
       "    </tr>\n",
       "    <tr>\n",
       "      <th>6</th>\n",
       "      <td>1949</td>\n",
       "      <td>148.0</td>\n",
       "    </tr>\n",
       "    <tr>\n",
       "      <th>7</th>\n",
       "      <td>1949</td>\n",
       "      <td>148.0</td>\n",
       "    </tr>\n",
       "    <tr>\n",
       "      <th>8</th>\n",
       "      <td>1949</td>\n",
       "      <td>136.0</td>\n",
       "    </tr>\n",
       "    <tr>\n",
       "      <th>9</th>\n",
       "      <td>1949</td>\n",
       "      <td>119.0</td>\n",
       "    </tr>\n",
       "    <tr>\n",
       "      <th>10</th>\n",
       "      <td>1949</td>\n",
       "      <td>104.0</td>\n",
       "    </tr>\n",
       "    <tr>\n",
       "      <th>11</th>\n",
       "      <td>1949</td>\n",
       "      <td>118.0</td>\n",
       "    </tr>\n",
       "    <tr>\n",
       "      <th>12</th>\n",
       "      <td>1950</td>\n",
       "      <td>115.0</td>\n",
       "    </tr>\n",
       "    <tr>\n",
       "      <th>13</th>\n",
       "      <td>1950</td>\n",
       "      <td>126.0</td>\n",
       "    </tr>\n",
       "    <tr>\n",
       "      <th>14</th>\n",
       "      <td>1950</td>\n",
       "      <td>141.0</td>\n",
       "    </tr>\n",
       "    <tr>\n",
       "      <th>15</th>\n",
       "      <td>1950</td>\n",
       "      <td>135.0</td>\n",
       "    </tr>\n",
       "    <tr>\n",
       "      <th>16</th>\n",
       "      <td>1950</td>\n",
       "      <td>125.0</td>\n",
       "    </tr>\n",
       "    <tr>\n",
       "      <th>17</th>\n",
       "      <td>1950</td>\n",
       "      <td>149.0</td>\n",
       "    </tr>\n",
       "    <tr>\n",
       "      <th>18</th>\n",
       "      <td>1950</td>\n",
       "      <td>170.0</td>\n",
       "    </tr>\n",
       "    <tr>\n",
       "      <th>19</th>\n",
       "      <td>1950</td>\n",
       "      <td>170.0</td>\n",
       "    </tr>\n",
       "    <tr>\n",
       "      <th>20</th>\n",
       "      <td>1950</td>\n",
       "      <td>158.0</td>\n",
       "    </tr>\n",
       "    <tr>\n",
       "      <th>21</th>\n",
       "      <td>1950</td>\n",
       "      <td>133.0</td>\n",
       "    </tr>\n",
       "    <tr>\n",
       "      <th>22</th>\n",
       "      <td>1950</td>\n",
       "      <td>114.0</td>\n",
       "    </tr>\n",
       "    <tr>\n",
       "      <th>23</th>\n",
       "      <td>1950</td>\n",
       "      <td>140.0</td>\n",
       "    </tr>\n",
       "    <tr>\n",
       "      <th>24</th>\n",
       "      <td>1951</td>\n",
       "      <td>145.0</td>\n",
       "    </tr>\n",
       "    <tr>\n",
       "      <th>25</th>\n",
       "      <td>1951</td>\n",
       "      <td>150.0</td>\n",
       "    </tr>\n",
       "    <tr>\n",
       "      <th>26</th>\n",
       "      <td>1951</td>\n",
       "      <td>178.0</td>\n",
       "    </tr>\n",
       "    <tr>\n",
       "      <th>27</th>\n",
       "      <td>1951</td>\n",
       "      <td>163.0</td>\n",
       "    </tr>\n",
       "    <tr>\n",
       "      <th>28</th>\n",
       "      <td>1951</td>\n",
       "      <td>172.0</td>\n",
       "    </tr>\n",
       "    <tr>\n",
       "      <th>29</th>\n",
       "      <td>1951</td>\n",
       "      <td>178.0</td>\n",
       "    </tr>\n",
       "  </tbody>\n",
       "</table>\n",
       "</div>"
      ],
      "text/plain": [
       "    Period  Number of airline passengers\n",
       "0     1949                         112.0\n",
       "1     1949                         118.0\n",
       "2     1949                         132.0\n",
       "3     1949                         129.0\n",
       "4     1949                         121.0\n",
       "5     1949                         135.0\n",
       "6     1949                         148.0\n",
       "7     1949                         148.0\n",
       "8     1949                         136.0\n",
       "9     1949                         119.0\n",
       "10    1949                         104.0\n",
       "11    1949                         118.0\n",
       "12    1950                         115.0\n",
       "13    1950                         126.0\n",
       "14    1950                         141.0\n",
       "15    1950                         135.0\n",
       "16    1950                         125.0\n",
       "17    1950                         149.0\n",
       "18    1950                         170.0\n",
       "19    1950                         170.0\n",
       "20    1950                         158.0\n",
       "21    1950                         133.0\n",
       "22    1950                         114.0\n",
       "23    1950                         140.0\n",
       "24    1951                         145.0\n",
       "25    1951                         150.0\n",
       "26    1951                         178.0\n",
       "27    1951                         163.0\n",
       "28    1951                         172.0\n",
       "29    1951                         178.0"
      ]
     },
     "execution_count": 2,
     "metadata": {},
     "output_type": "execute_result"
    }
   ],
   "source": [
    "from sktime.datasets import load_airline\n",
    "airline = load_airline()\n",
    "airline=pd.DataFrame(airline)\n",
    "airline.reset_index(inplace=True)\n",
    "airline['Period']=[int(i.year)for i in airline['Period']]\n",
    "airline.head(30)"
   ]
  },
  {
   "cell_type": "code",
   "execution_count": 3,
   "id": "747e4135",
   "metadata": {},
   "outputs": [
    {
     "data": {
      "text/plain": [
       "<matplotlib.collections.PathCollection at 0x24acdc996d8>"
      ]
     },
     "execution_count": 3,
     "metadata": {},
     "output_type": "execute_result"
    },
    {
     "data": {
      "image/png": "[encoded data removed]",
      "text/plain": [
       "<Figure size 432x288 with 1 Axes>"
      ]
     },
     "metadata": {
      "needs_background": "light"
     },
     "output_type": "display_data"
    }
   ],
   "source": [
    "plt.scatter(x=airline['Period'],y=airline['Number of airline passengers'])"
   ]
  },
  {
   "cell_type": "code",
   "execution_count": 4,
   "id": "81118f98",
   "metadata": {},
   "outputs": [
    {
     "data": {
      "text/plain": [
       "<matplotlib.legend.Legend at 0x24acdd080f0>"
      ]
     },
     "execution_count": 4,
     "metadata": {},
     "output_type": "execute_result"
    },
    {
     "data": {
      "image/png": "[encoded data removed]",
      "text/plain": [
       "<Figure size 432x288 with 1 Axes>"
      ]
     },
     "metadata": {
      "needs_background": "light"
     },
     "output_type": "display_data"
    }
   ],
   "source": [
    "airline.groupby('Period')['Number of airline passengers'].plot(kind='kde')#given years Class\n",
    "plt.legend([int(i) for i in airline.groupby('Period')['Number of airline passengers'].count().index.values], title='Passengers Count')"
   ]
  },
  {
   "cell_type": "code",
   "execution_count": 5,
   "id": "c8b63f24",
   "metadata": {
    "scrolled": true
   },
   "outputs": [
    {
     "data": {
      "text/plain": [
       "1945    AxesSubplot(0.125,0.125;0.775x0.755)\n",
       "1950    AxesSubplot(0.125,0.125;0.775x0.755)\n",
       "1955    AxesSubplot(0.125,0.125;0.775x0.755)\n",
       "1960    AxesSubplot(0.125,0.125;0.775x0.755)\n",
       "Name: Number of airline passengers, dtype: object"
      ]
     },
     "execution_count": 5,
     "metadata": {},
     "output_type": "execute_result"
    },
    {
     "data": {
      "image/png": "[encoded data removed]",
      "text/plain": [
       "<Figure size 432x288 with 1 Axes>"
      ]
     },
     "metadata": {
      "needs_background": "light"
     },
     "output_type": "display_data"
    }
   ],
   "source": [
    "airline['Number of airline passengers'].groupby((airline['Period'].values//5)*5).plot(kind='kde')#5 years Class"
   ]
  },
  {
   "cell_type": "code",
   "execution_count": 6,
   "id": "3922e59d",
   "metadata": {},
   "outputs": [
    {
     "data": {
      "text/plain": [
       "1945     1520.0\n",
       "1950    11649.0\n",
       "1955    21480.0\n",
       "1960     5714.0\n",
       "Name: Number of airline passengers, dtype: float64"
      ]
     },
     "execution_count": 6,
     "metadata": {},
     "output_type": "execute_result"
    }
   ],
   "source": [
    "airline['Number of airline passengers'].groupby((airline['Period'].values//5)*5).sum()"
   ]
  },
  {
   "cell_type": "code",
   "execution_count": 7,
   "id": "a5c095b6",
   "metadata": {},
   "outputs": [
    {
     "data": {
      "text/plain": [
       "100.0    1949\n",
       "110.0    3899\n",
       "115.0    7797\n",
       "120.0    1949\n",
       "125.0    5849\n",
       "         ... \n",
       "535.0    1960\n",
       "545.0    1959\n",
       "555.0    1959\n",
       "605.0    1960\n",
       "620.0    1960\n",
       "Name: Period, Length: 63, dtype: int64"
      ]
     },
     "execution_count": 7,
     "metadata": {},
     "output_type": "execute_result"
    }
   ],
   "source": [
    "airline['Period'].groupby((airline['Number of airline passengers'].values//5)*5).sum()"
   ]
  },
  {
   "cell_type": "code",
   "execution_count": 8,
   "id": "318c5853",
   "metadata": {},
   "outputs": [
    {
     "data": {
      "text/html": [
       "<div>\n",
       "<style scoped>\n",
       "    .dataframe tbody tr th:only-of-type {\n",
       "        vertical-align: middle;\n",
       "    }\n",
       "\n",
       "    .dataframe tbody tr th {\n",
       "        vertical-align: top;\n",
       "    }\n",
       "\n",
       "    .dataframe thead th {\n",
       "        text-align: right;\n",
       "    }\n",
       "</style>\n",
       "<table border=\"1\" class=\"dataframe\">\n",
       "  <thead>\n",
       "    <tr style=\"text-align: right;\">\n",
       "      <th></th>\n",
       "      <th>0</th>\n",
       "      <th>1</th>\n",
       "    </tr>\n",
       "  </thead>\n",
       "  <tbody>\n",
       "    <tr>\n",
       "      <th>0</th>\n",
       "      <td>1945</td>\n",
       "      <td>0     112.0\n",
       "1     118.0\n",
       "2     132.0\n",
       "3     129....</td>\n",
       "    </tr>\n",
       "    <tr>\n",
       "      <th>1</th>\n",
       "      <td>1950</td>\n",
       "      <td>12    115.0\n",
       "13    126.0\n",
       "14    141.0\n",
       "15    135....</td>\n",
       "    </tr>\n",
       "    <tr>\n",
       "      <th>2</th>\n",
       "      <td>1955</td>\n",
       "      <td>72     242.0\n",
       "73     233.0\n",
       "74     267.0\n",
       "75     ...</td>\n",
       "    </tr>\n",
       "    <tr>\n",
       "      <th>3</th>\n",
       "      <td>1960</td>\n",
       "      <td>132    417.0\n",
       "133    391.0\n",
       "134    419.0\n",
       "135    ...</td>\n",
       "    </tr>\n",
       "  </tbody>\n",
       "</table>\n",
       "</div>"
      ],
      "text/plain": [
       "      0                                                  1\n",
       "0  1945  0     112.0\n",
       "1     118.0\n",
       "2     132.0\n",
       "3     129....\n",
       "1  1950  12    115.0\n",
       "13    126.0\n",
       "14    141.0\n",
       "15    135....\n",
       "2  1955  72     242.0\n",
       "73     233.0\n",
       "74     267.0\n",
       "75     ...\n",
       "3  1960  132    417.0\n",
       "133    391.0\n",
       "134    419.0\n",
       "135    ..."
      ]
     },
     "execution_count": 8,
     "metadata": {},
     "output_type": "execute_result"
    }
   ],
   "source": [
    "pd.DataFrame(airline['Number of airline passengers'].groupby((airline['Period'].values//5)*5))"
   ]
  },
  {
   "cell_type": "code",
   "execution_count": 9,
   "id": "7d60a8b5",
   "metadata": {},
   "outputs": [
    {
     "data": {
      "text/plain": [
       "<matplotlib.axes._subplots.AxesSubplot at 0x24aceeae748>"
      ]
     },
     "execution_count": 9,
     "metadata": {},
     "output_type": "execute_result"
    },
    {
     "data": {
      "image/png": "[encoded data removed]",
      "text/plain": [
       "<Figure size 432x288 with 1 Axes>"
      ]
     },
     "metadata": {
      "needs_background": "light"
     },
     "output_type": "display_data"
    }
   ],
   "source": [
    "pd.DataFrame(airline.groupby('Period')['Number of airline passengers']).values[0][1].plot(kind='kde')\n",
    "pd.DataFrame(airline.groupby('Period')['Number of airline passengers']).values[1][1].plot(kind='kde')"
   ]
  },
  {
   "cell_type": "code",
   "execution_count": 10,
   "id": "be5c8dfa",
   "metadata": {},
   "outputs": [
    {
     "data": {
      "text/html": [
       "<div>\n",
       "<style scoped>\n",
       "    .dataframe tbody tr th:only-of-type {\n",
       "        vertical-align: middle;\n",
       "    }\n",
       "\n",
       "    .dataframe tbody tr th {\n",
       "        vertical-align: top;\n",
       "    }\n",
       "\n",
       "    .dataframe thead th {\n",
       "        text-align: right;\n",
       "    }\n",
       "</style>\n",
       "<table border=\"1\" class=\"dataframe\">\n",
       "  <thead>\n",
       "    <tr style=\"text-align: right;\">\n",
       "      <th></th>\n",
       "      <th>Period</th>\n",
       "    </tr>\n",
       "  </thead>\n",
       "  <tbody>\n",
       "    <tr>\n",
       "      <th>0</th>\n",
       "      <td>1949</td>\n",
       "    </tr>\n",
       "    <tr>\n",
       "      <th>1</th>\n",
       "      <td>1949</td>\n",
       "    </tr>\n",
       "    <tr>\n",
       "      <th>2</th>\n",
       "      <td>1949</td>\n",
       "    </tr>\n",
       "    <tr>\n",
       "      <th>3</th>\n",
       "      <td>1949</td>\n",
       "    </tr>\n",
       "    <tr>\n",
       "      <th>4</th>\n",
       "      <td>1949</td>\n",
       "    </tr>\n",
       "    <tr>\n",
       "      <th>...</th>\n",
       "      <td>...</td>\n",
       "    </tr>\n",
       "    <tr>\n",
       "      <th>139</th>\n",
       "      <td>1960</td>\n",
       "    </tr>\n",
       "    <tr>\n",
       "      <th>140</th>\n",
       "      <td>1960</td>\n",
       "    </tr>\n",
       "    <tr>\n",
       "      <th>141</th>\n",
       "      <td>1960</td>\n",
       "    </tr>\n",
       "    <tr>\n",
       "      <th>142</th>\n",
       "      <td>1960</td>\n",
       "    </tr>\n",
       "    <tr>\n",
       "      <th>143</th>\n",
       "      <td>1960</td>\n",
       "    </tr>\n",
       "  </tbody>\n",
       "</table>\n",
       "<p>144 rows × 1 columns</p>\n",
       "</div>"
      ],
      "text/plain": [
       "     Period\n",
       "0      1949\n",
       "1      1949\n",
       "2      1949\n",
       "3      1949\n",
       "4      1949\n",
       "..      ...\n",
       "139    1960\n",
       "140    1960\n",
       "141    1960\n",
       "142    1960\n",
       "143    1960\n",
       "\n",
       "[144 rows x 1 columns]"
      ]
     },
     "execution_count": 10,
     "metadata": {},
     "output_type": "execute_result"
    }
   ],
   "source": [
    "#We can see the data is poissonally Distributed data\n",
    "X =airline[['Period']]\n",
    "y =airline['Number of airline passengers']\n",
    "X"
   ]
  },
  {
   "cell_type": "code",
   "execution_count": 11,
   "id": "cb1a3e09",
   "metadata": {},
   "outputs": [
    {
     "data": {
      "text/plain": [
       "LinearRegression()"
      ]
     },
     "execution_count": 11,
     "metadata": {},
     "output_type": "execute_result"
    }
   ],
   "source": [
    "clf.fit(X, y)"
   ]
  },
  {
   "cell_type": "code",
   "execution_count": 12,
   "id": "ef757eb0",
   "metadata": {},
   "outputs": [
    {
     "data": {
      "text/plain": [
       "array([31.92395105])"
      ]
     },
     "execution_count": 12,
     "metadata": {},
     "output_type": "execute_result"
    }
   ],
   "source": [
    "clf.coef_"
   ]
  },
  {
   "cell_type": "code",
   "execution_count": 13,
   "id": "54c72870",
   "metadata": {
    "scrolled": true
   },
   "outputs": [
    {
     "data": {
      "text/plain": [
       "-62115.063714063734"
      ]
     },
     "execution_count": 13,
     "metadata": {},
     "output_type": "execute_result"
    }
   ],
   "source": [
    "clf.intercept_"
   ]
  },
  {
   "cell_type": "code",
   "execution_count": 14,
   "id": "e374436a",
   "metadata": {},
   "outputs": [
    {
     "data": {
      "text/html": [
       "<div>\n",
       "<style scoped>\n",
       "    .dataframe tbody tr th:only-of-type {\n",
       "        vertical-align: middle;\n",
       "    }\n",
       "\n",
       "    .dataframe tbody tr th {\n",
       "        vertical-align: top;\n",
       "    }\n",
       "\n",
       "    .dataframe thead th {\n",
       "        text-align: right;\n",
       "    }\n",
       "</style>\n",
       "<table border=\"1\" class=\"dataframe\">\n",
       "  <thead>\n",
       "    <tr style=\"text-align: right;\">\n",
       "      <th></th>\n",
       "      <th>Period</th>\n",
       "    </tr>\n",
       "  </thead>\n",
       "  <tbody>\n",
       "    <tr>\n",
       "      <th>0</th>\n",
       "      <td>1949</td>\n",
       "    </tr>\n",
       "    <tr>\n",
       "      <th>1</th>\n",
       "      <td>1949</td>\n",
       "    </tr>\n",
       "    <tr>\n",
       "      <th>2</th>\n",
       "      <td>1949</td>\n",
       "    </tr>\n",
       "    <tr>\n",
       "      <th>3</th>\n",
       "      <td>1949</td>\n",
       "    </tr>\n",
       "    <tr>\n",
       "      <th>4</th>\n",
       "      <td>1949</td>\n",
       "    </tr>\n",
       "    <tr>\n",
       "      <th>...</th>\n",
       "      <td>...</td>\n",
       "    </tr>\n",
       "    <tr>\n",
       "      <th>139</th>\n",
       "      <td>1960</td>\n",
       "    </tr>\n",
       "    <tr>\n",
       "      <th>140</th>\n",
       "      <td>1960</td>\n",
       "    </tr>\n",
       "    <tr>\n",
       "      <th>141</th>\n",
       "      <td>1960</td>\n",
       "    </tr>\n",
       "    <tr>\n",
       "      <th>142</th>\n",
       "      <td>1960</td>\n",
       "    </tr>\n",
       "    <tr>\n",
       "      <th>143</th>\n",
       "      <td>1960</td>\n",
       "    </tr>\n",
       "  </tbody>\n",
       "</table>\n",
       "<p>144 rows × 1 columns</p>\n",
       "</div>"
      ],
      "text/plain": [
       "     Period\n",
       "0      1949\n",
       "1      1949\n",
       "2      1949\n",
       "3      1949\n",
       "4      1949\n",
       "..      ...\n",
       "139    1960\n",
       "140    1960\n",
       "141    1960\n",
       "142    1960\n",
       "143    1960\n",
       "\n",
       "[144 rows x 1 columns]"
      ]
     },
     "execution_count": 14,
     "metadata": {},
     "output_type": "execute_result"
    }
   ],
   "source": [
    "X"
   ]
  },
  {
   "cell_type": "code",
   "execution_count": 15,
   "id": "879a39a6",
   "metadata": {},
   "outputs": [
    {
     "data": {
      "text/plain": [
       "array([104.71688034, 104.71688034, 104.71688034, 104.71688034,\n",
       "       104.71688034, 104.71688034, 104.71688034, 104.71688034,\n",
       "       104.71688034, 104.71688034, 104.71688034, 104.71688034,\n",
       "       136.64083139, 136.64083139, 136.64083139, 136.64083139,\n",
       "       136.64083139, 136.64083139, 136.64083139, 136.64083139,\n",
       "       136.64083139, 136.64083139, 136.64083139, 136.64083139,\n",
       "       168.56478244, 168.56478244, 168.56478244, 168.56478244,\n",
       "       168.56478244, 168.56478244, 168.56478244, 168.56478244,\n",
       "       168.56478244, 168.56478244, 168.56478244, 168.56478244,\n",
       "       200.48873349, 200.48873349, 200.48873349, 200.48873349,\n",
       "       200.48873349, 200.48873349, 200.48873349, 200.48873349,\n",
       "       200.48873349, 200.48873349, 200.48873349, 200.48873349,\n",
       "       232.41268454, 232.41268454, 232.41268454, 232.41268454,\n",
       "       232.41268454, 232.41268454, 232.41268454, 232.41268454,\n",
       "       232.41268454, 232.41268454, 232.41268454, 232.41268454,\n",
       "       264.33663559, 264.33663559, 264.33663559, 264.33663559,\n",
       "       264.33663559, 264.33663559, 264.33663559, 264.33663559,\n",
       "       264.33663559, 264.33663559, 264.33663559, 264.33663559,\n",
       "       296.26058664, 296.26058664, 296.26058664, 296.26058664,\n",
       "       296.26058664, 296.26058664, 296.26058664, 296.26058664,\n",
       "       296.26058664, 296.26058664, 296.26058664, 296.26058664,\n",
       "       328.18453768, 328.18453768, 328.18453768, 328.18453768,\n",
       "       328.18453768, 328.18453768, 328.18453768, 328.18453768,\n",
       "       328.18453768, 328.18453768, 328.18453768, 328.18453768,\n",
       "       360.10848873, 360.10848873, 360.10848873, 360.10848873,\n",
       "       360.10848873, 360.10848873, 360.10848873, 360.10848873,\n",
       "       360.10848873, 360.10848873, 360.10848873, 360.10848873,\n",
       "       392.03243978, 392.03243978, 392.03243978, 392.03243978,\n",
       "       392.03243978, 392.03243978, 392.03243978, 392.03243978,\n",
       "       392.03243978, 392.03243978, 392.03243978, 392.03243978,\n",
       "       423.95639083, 423.95639083, 423.95639083, 423.95639083,\n",
       "       423.95639083, 423.95639083, 423.95639083, 423.95639083,\n",
       "       423.95639083, 423.95639083, 423.95639083, 423.95639083,\n",
       "       455.88034188, 455.88034188, 455.88034188, 455.88034188,\n",
       "       455.88034188, 455.88034188, 455.88034188, 455.88034188,\n",
       "       455.88034188, 455.88034188, 455.88034188, 455.88034188])"
      ]
     },
     "execution_count": 15,
     "metadata": {},
     "output_type": "execute_result"
    }
   ],
   "source": [
    "y_pred=clf.predict(X)\n",
    "y_pred"
   ]
  },
  {
   "cell_type": "code",
   "execution_count": 16,
   "id": "6fa81f6b",
   "metadata": {
    "scrolled": true
   },
   "outputs": [
    {
     "data": {
      "text/plain": [
       "[<matplotlib.lines.Line2D at 0x24acef27e10>]"
      ]
     },
     "execution_count": 16,
     "metadata": {},
     "output_type": "execute_result"
    },
    {
     "data": {
      "image/png": "[encoded data removed]",
      "text/plain": [
       "<Figure size 432x288 with 1 Axes>"
      ]
     },
     "metadata": {
      "needs_background": "light"
     },
     "output_type": "display_data"
    }
   ],
   "source": [
    "plt.scatter(x=airline['Period'],y=airline['Number of airline passengers'])\n",
    "plt.plot(X,y_pred,color='r')"
   ]
  },
  {
   "cell_type": "code",
   "execution_count": 17,
   "id": "153bb0d5",
   "metadata": {},
   "outputs": [],
   "source": [
    "exog = sm.add_constant(X)"
   ]
  },
  {
   "cell_type": "code",
   "execution_count": 18,
   "id": "97c640e7",
   "metadata": {},
   "outputs": [],
   "source": [
    "poission_model = sm.GLM(y, exog, family=sm.families.Poisson())\n",
    "result = poission_model.fit()"
   ]
  },
  {
   "cell_type": "code",
   "execution_count": 19,
   "id": "a504c96c",
   "metadata": {},
   "outputs": [
    {
     "data": {
      "text/html": [
       "<table class=\"simpletable\">\n",
       "<caption>Generalized Linear Model Regression Results</caption>\n",
       "<tr>\n",
       "  <th>Dep. Variable:</th>   <td>Number of airline passengers</td> <th>  No. Observations:  </th>  <td>   144</td> \n",
       "</tr>\n",
       "<tr>\n",
       "  <th>Model:</th>                        <td>GLM</td>             <th>  Df Residuals:      </th>  <td>   142</td> \n",
       "</tr>\n",
       "<tr>\n",
       "  <th>Model Family:</th>               <td>Poisson</td>           <th>  Df Model:          </th>  <td>     1</td> \n",
       "</tr>\n",
       "<tr>\n",
       "  <th>Link Function:</th>                <td>log</td>             <th>  Scale:             </th> <td>  1.0000</td>\n",
       "</tr>\n",
       "<tr>\n",
       "  <th>Method:</th>                      <td>IRLS</td>             <th>  Log-Likelihood:    </th> <td> -969.63</td>\n",
       "</tr>\n",
       "<tr>\n",
       "  <th>Date:</th>                  <td>Sun, 28 May 2023</td>       <th>  Deviance:          </th> <td>  876.43</td>\n",
       "</tr>\n",
       "<tr>\n",
       "  <th>Time:</th>                      <td>20:18:41</td>           <th>  Pearson chi2:      </th>  <td>  897.</td> \n",
       "</tr>\n",
       "<tr>\n",
       "  <th>No. Iterations:</th>                <td>4</td>              <th>  Pseudo R-squ. (CS):</th>  <td> 1.000</td> \n",
       "</tr>\n",
       "<tr>\n",
       "  <th>Covariance Type:</th>           <td>nonrobust</td>          <th>                     </th>     <td> </td>   \n",
       "</tr>\n",
       "</table>\n",
       "<table class=\"simpletable\">\n",
       "<tr>\n",
       "     <td></td>       <th>coef</th>     <th>std err</th>      <th>z</th>      <th>P>|z|</th>  <th>[0.025</th>    <th>0.975]</th>  \n",
       "</tr>\n",
       "<tr>\n",
       "  <th>const</th>  <td> -224.3926</td> <td>    2.961</td> <td>  -75.781</td> <td> 0.000</td> <td> -230.196</td> <td> -218.589</td>\n",
       "</tr>\n",
       "<tr>\n",
       "  <th>Period</th> <td>    0.1177</td> <td>    0.002</td> <td>   77.711</td> <td> 0.000</td> <td>    0.115</td> <td>    0.121</td>\n",
       "</tr>\n",
       "</table>"
      ],
      "text/plain": [
       "<class 'statsmodels.iolib.summary.Summary'>\n",
       "\"\"\"\n",
       "                      Generalized Linear Model Regression Results                       \n",
       "========================================================================================\n",
       "Dep. Variable:     Number of airline passengers   No. Observations:                  144\n",
       "Model:                                      GLM   Df Residuals:                      142\n",
       "Model Family:                           Poisson   Df Model:                            1\n",
       "Link Function:                              log   Scale:                          1.0000\n",
       "Method:                                    IRLS   Log-Likelihood:                -969.63\n",
       "Date:                          Sun, 28 May 2023   Deviance:                       876.43\n",
       "Time:                                  20:18:41   Pearson chi2:                     897.\n",
       "No. Iterations:                               4   Pseudo R-squ. (CS):              1.000\n",
       "Covariance Type:                      nonrobust                                         \n",
       "==============================================================================\n",
       "                 coef    std err          z      P>|z|      [0.025      0.975]\n",
       "------------------------------------------------------------------------------\n",
       "const       -224.3926      2.961    -75.781      0.000    -230.196    -218.589\n",
       "Period         0.1177      0.002     77.711      0.000       0.115       0.121\n",
       "==============================================================================\n",
       "\"\"\""
      ]
     },
     "execution_count": 19,
     "metadata": {},
     "output_type": "execute_result"
    }
   ],
   "source": [
    "result.summary()"
   ]
  },
  {
   "cell_type": "code",
   "execution_count": 20,
   "id": "c24f1536",
   "metadata": {},
   "outputs": [],
   "source": [
    "poisson_training_results = sm.GLM(y, X, family=sm.families.Poisson()).fit()"
   ]
  },
  {
   "cell_type": "code",
   "execution_count": 21,
   "id": "75a60af3",
   "metadata": {},
   "outputs": [
    {
     "data": {
      "text/html": [
       "<table class=\"simpletable\">\n",
       "<caption>Generalized Linear Model Regression Results</caption>\n",
       "<tr>\n",
       "  <th>Dep. Variable:</th>   <td>Number of airline passengers</td> <th>  No. Observations:  </th>  <td>   144</td> \n",
       "</tr>\n",
       "<tr>\n",
       "  <th>Model:</th>                        <td>GLM</td>             <th>  Df Residuals:      </th>  <td>   143</td> \n",
       "</tr>\n",
       "<tr>\n",
       "  <th>Model Family:</th>               <td>Poisson</td>           <th>  Df Model:          </th>  <td>     0</td> \n",
       "</tr>\n",
       "<tr>\n",
       "  <th>Link Function:</th>                <td>log</td>             <th>  Scale:             </th> <td>  1.0000</td>\n",
       "</tr>\n",
       "<tr>\n",
       "  <th>Method:</th>                      <td>IRLS</td>             <th>  Log-Likelihood:    </th> <td> -3983.8</td>\n",
       "</tr>\n",
       "<tr>\n",
       "  <th>Date:</th>                  <td>Sun, 28 May 2023</td>       <th>  Deviance:          </th> <td>  6904.9</td>\n",
       "</tr>\n",
       "<tr>\n",
       "  <th>Time:</th>                      <td>20:18:41</td>           <th>  Pearson chi2:      </th> <td>7.01e+03</td>\n",
       "</tr>\n",
       "<tr>\n",
       "  <th>No. Iterations:</th>                <td>4</td>              <th>  Pseudo R-squ. (CS):</th>  <td>0.8854</td> \n",
       "</tr>\n",
       "<tr>\n",
       "  <th>Covariance Type:</th>           <td>nonrobust</td>          <th>                     </th>     <td> </td>   \n",
       "</tr>\n",
       "</table>\n",
       "<table class=\"simpletable\">\n",
       "<tr>\n",
       "     <td></td>       <th>coef</th>     <th>std err</th>      <th>z</th>      <th>P>|z|</th>  <th>[0.025</th>    <th>0.975]</th>  \n",
       "</tr>\n",
       "<tr>\n",
       "  <th>Period</th> <td>    0.0029</td> <td> 2.55e-06</td> <td> 1132.805</td> <td> 0.000</td> <td>    0.003</td> <td>    0.003</td>\n",
       "</tr>\n",
       "</table>"
      ],
      "text/plain": [
       "<class 'statsmodels.iolib.summary.Summary'>\n",
       "\"\"\"\n",
       "                      Generalized Linear Model Regression Results                       \n",
       "========================================================================================\n",
       "Dep. Variable:     Number of airline passengers   No. Observations:                  144\n",
       "Model:                                      GLM   Df Residuals:                      143\n",
       "Model Family:                           Poisson   Df Model:                            0\n",
       "Link Function:                              log   Scale:                          1.0000\n",
       "Method:                                    IRLS   Log-Likelihood:                -3983.8\n",
       "Date:                          Sun, 28 May 2023   Deviance:                       6904.9\n",
       "Time:                                  20:18:41   Pearson chi2:                 7.01e+03\n",
       "No. Iterations:                               4   Pseudo R-squ. (CS):             0.8854\n",
       "Covariance Type:                      nonrobust                                         \n",
       "==============================================================================\n",
       "                 coef    std err          z      P>|z|      [0.025      0.975]\n",
       "------------------------------------------------------------------------------\n",
       "Period         0.0029   2.55e-06   1132.805      0.000       0.003       0.003\n",
       "==============================================================================\n",
       "\"\"\""
      ]
     },
     "execution_count": 21,
     "metadata": {},
     "output_type": "execute_result"
    }
   ],
   "source": [
    "poisson_training_results.summary()"
   ]
  },
  {
   "cell_type": "code",
   "execution_count": 22,
   "id": "6231eb21",
   "metadata": {},
   "outputs": [],
   "source": [
    "y_pred=poisson_training_results.get_prediction(X)"
   ]
  },
  {
   "cell_type": "code",
   "execution_count": 23,
   "id": "ef03307e",
   "metadata": {},
   "outputs": [
    {
     "name": "stdout",
     "output_type": "stream",
     "text": [
      "<statsmodels.genmod._prediction.PredictionResults object at 0x0000024ACEFB9128>\n"
     ]
    }
   ],
   "source": [
    "print(y_pred)"
   ]
  },
  {
   "cell_type": "code",
   "execution_count": 24,
   "id": "63495002",
   "metadata": {},
   "outputs": [
    {
     "data": {
      "text/html": [
       "<div>\n",
       "<style scoped>\n",
       "    .dataframe tbody tr th:only-of-type {\n",
       "        vertical-align: middle;\n",
       "    }\n",
       "\n",
       "    .dataframe tbody tr th {\n",
       "        vertical-align: top;\n",
       "    }\n",
       "\n",
       "    .dataframe thead th {\n",
       "        text-align: right;\n",
       "    }\n",
       "</style>\n",
       "<table border=\"1\" class=\"dataframe\">\n",
       "  <thead>\n",
       "    <tr style=\"text-align: right;\">\n",
       "      <th></th>\n",
       "      <th>mean</th>\n",
       "      <th>mean_se</th>\n",
       "      <th>mean_ci_lower</th>\n",
       "      <th>mean_ci_upper</th>\n",
       "    </tr>\n",
       "  </thead>\n",
       "  <tbody>\n",
       "    <tr>\n",
       "      <th>0</th>\n",
       "      <td>276.060865</td>\n",
       "      <td>1.369727</td>\n",
       "      <td>273.389261</td>\n",
       "      <td>278.758577</td>\n",
       "    </tr>\n",
       "    <tr>\n",
       "      <th>1</th>\n",
       "      <td>276.060865</td>\n",
       "      <td>1.369727</td>\n",
       "      <td>273.389261</td>\n",
       "      <td>278.758577</td>\n",
       "    </tr>\n",
       "    <tr>\n",
       "      <th>2</th>\n",
       "      <td>276.060865</td>\n",
       "      <td>1.369727</td>\n",
       "      <td>273.389261</td>\n",
       "      <td>278.758577</td>\n",
       "    </tr>\n",
       "    <tr>\n",
       "      <th>3</th>\n",
       "      <td>276.060865</td>\n",
       "      <td>1.369727</td>\n",
       "      <td>273.389261</td>\n",
       "      <td>278.758577</td>\n",
       "    </tr>\n",
       "    <tr>\n",
       "      <th>4</th>\n",
       "      <td>276.060865</td>\n",
       "      <td>1.369727</td>\n",
       "      <td>273.389261</td>\n",
       "      <td>278.758577</td>\n",
       "    </tr>\n",
       "    <tr>\n",
       "      <th>...</th>\n",
       "      <td>...</td>\n",
       "      <td>...</td>\n",
       "      <td>...</td>\n",
       "      <td>...</td>\n",
       "    </tr>\n",
       "    <tr>\n",
       "      <th>139</th>\n",
       "      <td>284.958542</td>\n",
       "      <td>1.421854</td>\n",
       "      <td>282.185341</td>\n",
       "      <td>287.758997</td>\n",
       "    </tr>\n",
       "    <tr>\n",
       "      <th>140</th>\n",
       "      <td>284.958542</td>\n",
       "      <td>1.421854</td>\n",
       "      <td>282.185341</td>\n",
       "      <td>287.758997</td>\n",
       "    </tr>\n",
       "    <tr>\n",
       "      <th>141</th>\n",
       "      <td>284.958542</td>\n",
       "      <td>1.421854</td>\n",
       "      <td>282.185341</td>\n",
       "      <td>287.758997</td>\n",
       "    </tr>\n",
       "    <tr>\n",
       "      <th>142</th>\n",
       "      <td>284.958542</td>\n",
       "      <td>1.421854</td>\n",
       "      <td>282.185341</td>\n",
       "      <td>287.758997</td>\n",
       "    </tr>\n",
       "    <tr>\n",
       "      <th>143</th>\n",
       "      <td>284.958542</td>\n",
       "      <td>1.421854</td>\n",
       "      <td>282.185341</td>\n",
       "      <td>287.758997</td>\n",
       "    </tr>\n",
       "  </tbody>\n",
       "</table>\n",
       "<p>144 rows × 4 columns</p>\n",
       "</div>"
      ],
      "text/plain": [
       "           mean   mean_se  mean_ci_lower  mean_ci_upper\n",
       "0    276.060865  1.369727     273.389261     278.758577\n",
       "1    276.060865  1.369727     273.389261     278.758577\n",
       "2    276.060865  1.369727     273.389261     278.758577\n",
       "3    276.060865  1.369727     273.389261     278.758577\n",
       "4    276.060865  1.369727     273.389261     278.758577\n",
       "..          ...       ...            ...            ...\n",
       "139  284.958542  1.421854     282.185341     287.758997\n",
       "140  284.958542  1.421854     282.185341     287.758997\n",
       "141  284.958542  1.421854     282.185341     287.758997\n",
       "142  284.958542  1.421854     282.185341     287.758997\n",
       "143  284.958542  1.421854     282.185341     287.758997\n",
       "\n",
       "[144 rows x 4 columns]"
      ]
     },
     "execution_count": 24,
     "metadata": {},
     "output_type": "execute_result"
    }
   ],
   "source": [
    "predictions_summary_frme = y_pred.summary_frame()\n",
    "predictions_summary_frme"
   ]
  },
  {
   "cell_type": "code",
   "execution_count": 25,
   "id": "2a3da4d6",
   "metadata": {},
   "outputs": [
    {
     "data": {
      "text/plain": [
       "[<matplotlib.lines.Line2D at 0x24acefe6550>]"
      ]
     },
     "execution_count": 25,
     "metadata": {},
     "output_type": "execute_result"
    },
    {
     "data": {
      "image/png": "[encoded data removed]",
      "text/plain": [
       "<Figure size 432x288 with 1 Axes>"
      ]
     },
     "metadata": {
      "needs_background": "light"
     },
     "output_type": "display_data"
    }
   ],
   "source": [
    "plt.scatter(np.array(airline['Period']),np.array(airline['Number of airline passengers']))\n",
    "plt.plot(np.array(X),np.array(predictions_summary_frme['mean']),color='r')"
   ]
  },
  {
   "cell_type": "code",
   "execution_count": 26,
   "id": "9fc6b6c3",
   "metadata": {},
   "outputs": [],
   "source": [
    "df=pd.read_csv('bangladesh-gdp-gross-domestic-product.csv')\n",
    "df['date']=pd.to_datetime(df['date'])\n",
    "df['date']=[int(i.year)for i in df['date']]"
   ]
  },
  {
   "cell_type": "code",
   "execution_count": 27,
   "id": "fc5620b8",
   "metadata": {},
   "outputs": [
    {
     "data": {
      "text/plain": [
       "Index(['date', ' GDP ( Billions of US $)', ' Per Capita (US $)',\n",
       "       ' Annual % Change'],\n",
       "      dtype='object')"
      ]
     },
     "execution_count": 27,
     "metadata": {},
     "output_type": "execute_result"
    }
   ],
   "source": [
    "df.columns"
   ]
  },
  {
   "cell_type": "code",
   "execution_count": 28,
   "id": "7e31d323",
   "metadata": {},
   "outputs": [
    {
     "data": {
      "text/plain": [
       "<matplotlib.collections.PathCollection at 0x24acf03dfd0>"
      ]
     },
     "execution_count": 28,
     "metadata": {},
     "output_type": "execute_result"
    },
    {
     "data": {
      "image/png": "[encoded data removed]",
      "text/plain": [
       "<Figure size 432x288 with 1 Axes>"
      ]
     },
     "metadata": {
      "needs_background": "light"
     },
     "output_type": "display_data"
    }
   ],
   "source": [
    "plt.scatter(x=df['date'],y=df[' GDP ( Billions of US $)'])"
   ]
  },
  {
   "cell_type": "code",
   "execution_count": 29,
   "id": "5d497c41",
   "metadata": {},
   "outputs": [
    {
     "data": {
      "text/plain": [
       "1960    AxesSubplot(0.125,0.125;0.775x0.755)\n",
       "1980    AxesSubplot(0.125,0.125;0.775x0.755)\n",
       "2000    AxesSubplot(0.125,0.125;0.775x0.755)\n",
       "2020    AxesSubplot(0.125,0.125;0.775x0.755)\n",
       "Name:  GDP ( Billions of US $), dtype: object"
      ]
     },
     "execution_count": 29,
     "metadata": {},
     "output_type": "execute_result"
    },
    {
     "data": {
      "image/png": "[encoded data removed]",
      "text/plain": [
       "<Figure size 432x288 with 1 Axes>"
      ]
     },
     "metadata": {
      "needs_background": "light"
     },
     "output_type": "display_data"
    }
   ],
   "source": [
    "df[' GDP ( Billions of US $)'].groupby((df['date'].values//20)*20).plot(kind='kde')#5 years Class"
   ]
  },
  {
   "cell_type": "code",
   "execution_count": 30,
   "id": "67df149e",
   "metadata": {},
   "outputs": [
    {
     "data": {
      "text/html": [
       "<div>\n",
       "<style scoped>\n",
       "    .dataframe tbody tr th:only-of-type {\n",
       "        vertical-align: middle;\n",
       "    }\n",
       "\n",
       "    .dataframe tbody tr th {\n",
       "        vertical-align: top;\n",
       "    }\n",
       "\n",
       "    .dataframe thead th {\n",
       "        text-align: right;\n",
       "    }\n",
       "</style>\n",
       "<table border=\"1\" class=\"dataframe\">\n",
       "  <thead>\n",
       "    <tr style=\"text-align: right;\">\n",
       "      <th></th>\n",
       "      <th>date</th>\n",
       "    </tr>\n",
       "  </thead>\n",
       "  <tbody>\n",
       "    <tr>\n",
       "      <th>0</th>\n",
       "      <td>1960</td>\n",
       "    </tr>\n",
       "    <tr>\n",
       "      <th>1</th>\n",
       "      <td>1961</td>\n",
       "    </tr>\n",
       "    <tr>\n",
       "      <th>2</th>\n",
       "      <td>1962</td>\n",
       "    </tr>\n",
       "    <tr>\n",
       "      <th>3</th>\n",
       "      <td>1963</td>\n",
       "    </tr>\n",
       "    <tr>\n",
       "      <th>4</th>\n",
       "      <td>1964</td>\n",
       "    </tr>\n",
       "    <tr>\n",
       "      <th>...</th>\n",
       "      <td>...</td>\n",
       "    </tr>\n",
       "    <tr>\n",
       "      <th>57</th>\n",
       "      <td>2017</td>\n",
       "    </tr>\n",
       "    <tr>\n",
       "      <th>58</th>\n",
       "      <td>2018</td>\n",
       "    </tr>\n",
       "    <tr>\n",
       "      <th>59</th>\n",
       "      <td>2019</td>\n",
       "    </tr>\n",
       "    <tr>\n",
       "      <th>60</th>\n",
       "      <td>2020</td>\n",
       "    </tr>\n",
       "    <tr>\n",
       "      <th>61</th>\n",
       "      <td>2021</td>\n",
       "    </tr>\n",
       "  </tbody>\n",
       "</table>\n",
       "<p>62 rows × 1 columns</p>\n",
       "</div>"
      ],
      "text/plain": [
       "    date\n",
       "0   1960\n",
       "1   1961\n",
       "2   1962\n",
       "3   1963\n",
       "4   1964\n",
       "..   ...\n",
       "57  2017\n",
       "58  2018\n",
       "59  2019\n",
       "60  2020\n",
       "61  2021\n",
       "\n",
       "[62 rows x 1 columns]"
      ]
     },
     "execution_count": 30,
     "metadata": {},
     "output_type": "execute_result"
    }
   ],
   "source": [
    "#We can see the data is poissonally Distributed data\n",
    "X =df[['date']]\n",
    "y =df[' GDP ( Billions of US $)']\n",
    "X"
   ]
  },
  {
   "cell_type": "code",
   "execution_count": 31,
   "id": "78b7f16a",
   "metadata": {},
   "outputs": [
    {
     "data": {
      "text/plain": [
       "LinearRegression()"
      ]
     },
     "execution_count": 31,
     "metadata": {},
     "output_type": "execute_result"
    }
   ],
   "source": [
    "clf.fit(X, y)"
   ]
  },
  {
   "cell_type": "code",
   "execution_count": 32,
   "id": "9ad1ed1e",
   "metadata": {},
   "outputs": [
    {
     "data": {
      "text/plain": [
       "array([-59.01588312, -54.75163943, -50.48739573, -46.22315203,\n",
       "       -41.95890834, -37.69466464, -33.43042095, -29.16617725,\n",
       "       -24.90193356, -20.63768986, -16.37344617, -12.10920247,\n",
       "        -7.84495877,  -3.58071508,   0.68352862,   4.94777231,\n",
       "         9.21201601,  13.4762597 ,  17.7405034 ,  22.0047471 ,\n",
       "        26.26899079,  30.53323449,  34.79747818,  39.06172188,\n",
       "        43.32596557,  47.59020927,  51.85445296,  56.11869666,\n",
       "        60.38294036,  64.64718405,  68.91142775,  73.17567144,\n",
       "        77.43991514,  81.70415883,  85.96840253,  90.23264623,\n",
       "        94.49688992,  98.76113362, 103.02537731, 107.28962101,\n",
       "       111.5538647 , 115.8181084 , 120.0823521 , 124.34659579,\n",
       "       128.61083949, 132.87508318, 137.13932688, 141.40357057,\n",
       "       145.66781427, 149.93205796, 154.19630166, 158.46054536,\n",
       "       162.72478905, 166.98903275, 171.25327644, 175.51752014,\n",
       "       179.78176383, 184.04600753, 188.31025123, 192.57449492,\n",
       "       196.83873862, 201.10298231])"
      ]
     },
     "execution_count": 32,
     "metadata": {},
     "output_type": "execute_result"
    }
   ],
   "source": [
    "y_pred=clf.predict(X)\n",
    "y_pred"
   ]
  },
  {
   "cell_type": "code",
   "execution_count": 33,
   "id": "297af497",
   "metadata": {},
   "outputs": [],
   "source": [
    "exog = sm.add_constant(X)\n",
    "poission_model = sm.GLM(y, exog, family=sm.families.Poisson())\n",
    "result = poission_model.fit()"
   ]
  },
  {
   "cell_type": "code",
   "execution_count": 34,
   "id": "0c69331d",
   "metadata": {},
   "outputs": [
    {
     "data": {
      "text/html": [
       "<table class=\"simpletable\">\n",
       "<caption>Generalized Linear Model Regression Results</caption>\n",
       "<tr>\n",
       "  <th>Dep. Variable:</th>   <td> GDP ( Billions of US $)</td> <th>  No. Observations:  </th>  <td>    62</td> \n",
       "</tr>\n",
       "<tr>\n",
       "  <th>Model:</th>                      <td>GLM</td>           <th>  Df Residuals:      </th>  <td>    60</td> \n",
       "</tr>\n",
       "<tr>\n",
       "  <th>Model Family:</th>             <td>Poisson</td>         <th>  Df Model:          </th>  <td>     1</td> \n",
       "</tr>\n",
       "<tr>\n",
       "  <th>Link Function:</th>              <td>log</td>           <th>  Scale:             </th> <td>  1.0000</td>\n",
       "</tr>\n",
       "<tr>\n",
       "  <th>Method:</th>                    <td>IRLS</td>           <th>  Log-Likelihood:    </th> <td> -258.34</td>\n",
       "</tr>\n",
       "<tr>\n",
       "  <th>Date:</th>                <td>Sun, 28 May 2023</td>     <th>  Deviance:          </th> <td>  186.37</td>\n",
       "</tr>\n",
       "<tr>\n",
       "  <th>Time:</th>                    <td>20:18:42</td>         <th>  Pearson chi2:      </th>  <td>  194.</td> \n",
       "</tr>\n",
       "<tr>\n",
       "  <th>No. Iterations:</th>              <td>6</td>            <th>  Pseudo R-squ. (CS):</th>  <td> 1.000</td> \n",
       "</tr>\n",
       "<tr>\n",
       "  <th>Covariance Type:</th>         <td>nonrobust</td>        <th>                     </th>     <td> </td>   \n",
       "</tr>\n",
       "</table>\n",
       "<table class=\"simpletable\">\n",
       "<tr>\n",
       "    <td></td>       <th>coef</th>     <th>std err</th>      <th>z</th>      <th>P>|z|</th>  <th>[0.025</th>    <th>0.975]</th>  \n",
       "</tr>\n",
       "<tr>\n",
       "  <th>const</th> <td> -160.4790</td> <td>    2.721</td> <td>  -58.985</td> <td> 0.000</td> <td> -165.811</td> <td> -155.147</td>\n",
       "</tr>\n",
       "<tr>\n",
       "  <th>date</th>  <td>    0.0823</td> <td>    0.001</td> <td>   60.798</td> <td> 0.000</td> <td>    0.080</td> <td>    0.085</td>\n",
       "</tr>\n",
       "</table>"
      ],
      "text/plain": [
       "<class 'statsmodels.iolib.summary.Summary'>\n",
       "\"\"\"\n",
       "                    Generalized Linear Model Regression Results                     \n",
       "====================================================================================\n",
       "Dep. Variable:      GDP ( Billions of US $)   No. Observations:                   62\n",
       "Model:                                  GLM   Df Residuals:                       60\n",
       "Model Family:                       Poisson   Df Model:                            1\n",
       "Link Function:                          log   Scale:                          1.0000\n",
       "Method:                                IRLS   Log-Likelihood:                -258.34\n",
       "Date:                      Sun, 28 May 2023   Deviance:                       186.37\n",
       "Time:                              20:18:42   Pearson chi2:                     194.\n",
       "No. Iterations:                           6   Pseudo R-squ. (CS):              1.000\n",
       "Covariance Type:                  nonrobust                                         \n",
       "==============================================================================\n",
       "                 coef    std err          z      P>|z|      [0.025      0.975]\n",
       "------------------------------------------------------------------------------\n",
       "const       -160.4790      2.721    -58.985      0.000    -165.811    -155.147\n",
       "date           0.0823      0.001     60.798      0.000       0.080       0.085\n",
       "==============================================================================\n",
       "\"\"\""
      ]
     },
     "execution_count": 34,
     "metadata": {},
     "output_type": "execute_result"
    }
   ],
   "source": [
    "result.summary()"
   ]
  },
  {
   "cell_type": "code",
   "execution_count": 35,
   "id": "11e0e8f3",
   "metadata": {},
   "outputs": [],
   "source": [
    "y_pred=poisson_training_results.get_prediction(X)"
   ]
  },
  {
   "cell_type": "code",
   "execution_count": 36,
   "id": "fcbc745c",
   "metadata": {},
   "outputs": [
    {
     "data": {
      "text/html": [
       "<div>\n",
       "<style scoped>\n",
       "    .dataframe tbody tr th:only-of-type {\n",
       "        vertical-align: middle;\n",
       "    }\n",
       "\n",
       "    .dataframe tbody tr th {\n",
       "        vertical-align: top;\n",
       "    }\n",
       "\n",
       "    .dataframe thead th {\n",
       "        text-align: right;\n",
       "    }\n",
       "</style>\n",
       "<table border=\"1\" class=\"dataframe\">\n",
       "  <thead>\n",
       "    <tr style=\"text-align: right;\">\n",
       "      <th></th>\n",
       "      <th>mean</th>\n",
       "      <th>mean_se</th>\n",
       "      <th>mean_ci_lower</th>\n",
       "      <th>mean_ci_upper</th>\n",
       "    </tr>\n",
       "  </thead>\n",
       "  <tbody>\n",
       "    <tr>\n",
       "      <th>0</th>\n",
       "      <td>284.958542</td>\n",
       "      <td>1.421854</td>\n",
       "      <td>282.185341</td>\n",
       "      <td>287.758997</td>\n",
       "    </tr>\n",
       "    <tr>\n",
       "      <th>1</th>\n",
       "      <td>285.781506</td>\n",
       "      <td>1.426688</td>\n",
       "      <td>282.998884</td>\n",
       "      <td>288.591488</td>\n",
       "    </tr>\n",
       "    <tr>\n",
       "      <th>2</th>\n",
       "      <td>286.606846</td>\n",
       "      <td>1.431538</td>\n",
       "      <td>283.814772</td>\n",
       "      <td>289.426388</td>\n",
       "    </tr>\n",
       "    <tr>\n",
       "      <th>3</th>\n",
       "      <td>287.434570</td>\n",
       "      <td>1.436404</td>\n",
       "      <td>284.633012</td>\n",
       "      <td>290.263703</td>\n",
       "    </tr>\n",
       "    <tr>\n",
       "      <th>4</th>\n",
       "      <td>288.264684</td>\n",
       "      <td>1.441286</td>\n",
       "      <td>285.453611</td>\n",
       "      <td>291.103440</td>\n",
       "    </tr>\n",
       "    <tr>\n",
       "      <th>...</th>\n",
       "      <td>...</td>\n",
       "      <td>...</td>\n",
       "      <td>...</td>\n",
       "      <td>...</td>\n",
       "    </tr>\n",
       "    <tr>\n",
       "      <th>57</th>\n",
       "      <td>335.869633</td>\n",
       "      <td>1.724622</td>\n",
       "      <td>332.506387</td>\n",
       "      <td>339.266897</td>\n",
       "    </tr>\n",
       "    <tr>\n",
       "      <th>58</th>\n",
       "      <td>336.839628</td>\n",
       "      <td>1.730461</td>\n",
       "      <td>333.465006</td>\n",
       "      <td>340.248401</td>\n",
       "    </tr>\n",
       "    <tr>\n",
       "      <th>59</th>\n",
       "      <td>337.812425</td>\n",
       "      <td>1.736318</td>\n",
       "      <td>334.426388</td>\n",
       "      <td>341.232745</td>\n",
       "    </tr>\n",
       "    <tr>\n",
       "      <th>60</th>\n",
       "      <td>338.788031</td>\n",
       "      <td>1.742195</td>\n",
       "      <td>335.390541</td>\n",
       "      <td>342.219936</td>\n",
       "    </tr>\n",
       "    <tr>\n",
       "      <th>61</th>\n",
       "      <td>339.766454</td>\n",
       "      <td>1.748092</td>\n",
       "      <td>336.357475</td>\n",
       "      <td>343.209984</td>\n",
       "    </tr>\n",
       "  </tbody>\n",
       "</table>\n",
       "<p>62 rows × 4 columns</p>\n",
       "</div>"
      ],
      "text/plain": [
       "          mean   mean_se  mean_ci_lower  mean_ci_upper\n",
       "0   284.958542  1.421854     282.185341     287.758997\n",
       "1   285.781506  1.426688     282.998884     288.591488\n",
       "2   286.606846  1.431538     283.814772     289.426388\n",
       "3   287.434570  1.436404     284.633012     290.263703\n",
       "4   288.264684  1.441286     285.453611     291.103440\n",
       "..         ...       ...            ...            ...\n",
       "57  335.869633  1.724622     332.506387     339.266897\n",
       "58  336.839628  1.730461     333.465006     340.248401\n",
       "59  337.812425  1.736318     334.426388     341.232745\n",
       "60  338.788031  1.742195     335.390541     342.219936\n",
       "61  339.766454  1.748092     336.357475     343.209984\n",
       "\n",
       "[62 rows x 4 columns]"
      ]
     },
     "execution_count": 36,
     "metadata": {},
     "output_type": "execute_result"
    }
   ],
   "source": [
    "predictions_summary_frme = y_pred.summary_frame()\n",
    "predictions_summary_frme"
   ]
  },
  {
   "cell_type": "code",
   "execution_count": 37,
   "id": "594e34c5",
   "metadata": {},
   "outputs": [
    {
     "data": {
      "image/png": "[encoded data removed]",
      "text/plain": [
       "<Figure size 432x288 with 1 Axes>"
      ]
     },
     "metadata": {
      "needs_background": "light"
     },
     "output_type": "display_data"
    }
   ],
   "source": [
    "plt.scatter(np.array(df['date']),np.array(df[' GDP ( Billions of US $)']))\n",
    "plt.plot(np.array(X),np.array(predictions_summary_frme['mean']),color='r')\n",
    "plt.show()"
   ]
  }
 ],
 "metadata": {
  "kernelspec": {
   "display_name": "Python 3 (ipykernel)",
   "language": "python",
   "name": "python3"
  },
  "language_info": {
   "codemirror_mode": {
    "name": "ipython",
    "version": 3
   },
   "file_extension": ".py",
   "mimetype": "text/x-python",
   "name": "python",
   "nbconvert_exporter": "python",
   "pygments_lexer": "ipython3",
   "version": "3.7.3"
  }
 },
 "nbformat": 4,
 "nbformat_minor": 5
}

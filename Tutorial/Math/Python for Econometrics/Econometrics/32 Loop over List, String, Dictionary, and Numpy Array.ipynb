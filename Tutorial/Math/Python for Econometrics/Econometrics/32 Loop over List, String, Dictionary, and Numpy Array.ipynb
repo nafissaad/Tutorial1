{
 "cells": [
  {
   "cell_type": "code",
   "execution_count": 1,
   "id": "978148c7",
   "metadata": {},
   "outputs": [],
   "source": [
    "List=[7,'5',9.1,'String']"
   ]
  },
  {
   "cell_type": "code",
   "execution_count": 2,
   "id": "8dbe4a72",
   "metadata": {},
   "outputs": [
    {
     "name": "stdout",
     "output_type": "stream",
     "text": [
      "7\n",
      "5\n",
      "9.1\n",
      "String\n"
     ]
    }
   ],
   "source": [
    "for item in List:\n",
    "    print(item)"
   ]
  },
  {
   "cell_type": "code",
   "execution_count": 3,
   "id": "1364c878",
   "metadata": {},
   "outputs": [
    {
     "name": "stdout",
     "output_type": "stream",
     "text": [
      "0 :  7\n",
      "1 :  5\n",
      "2 :  9.1\n",
      "3 :  String\n"
     ]
    }
   ],
   "source": [
    "for index, item in enumerate(List):\n",
    "    print(index, \": \",item)"
   ]
  },
  {
   "cell_type": "code",
   "execution_count": 4,
   "id": "5dbfaee2",
   "metadata": {},
   "outputs": [
    {
     "name": "stdout",
     "output_type": "stream",
     "text": [
      "s\n",
      "t\n",
      "r\n",
      "i\n",
      "n\n",
      "g\n"
     ]
    }
   ],
   "source": [
    "for letter in \"string\":\n",
    "    print(letter)"
   ]
  },
  {
   "cell_type": "code",
   "execution_count": 5,
   "id": "6413a205",
   "metadata": {},
   "outputs": [],
   "source": [
    "Dictionary={1: 'List has order',\n",
    "           3: 9,\n",
    "           '4': 'Key can be string',\n",
    "           4: 'Key has to be Unique'}"
   ]
  },
  {
   "cell_type": "code",
   "execution_count": 6,
   "id": "9351dffd",
   "metadata": {},
   "outputs": [
    {
     "name": "stdout",
     "output_type": "stream",
     "text": [
      "1 :  List has order\n",
      "3 :  9\n",
      "4 :  Key can be string\n",
      "4 :  Key has to be Unique\n"
     ]
    }
   ],
   "source": [
    "for key, value in Dictionary.items():\n",
    "    print(key,': ',value)"
   ]
  },
  {
   "cell_type": "code",
   "execution_count": 7,
   "id": "e9e65313",
   "metadata": {},
   "outputs": [
    {
     "name": "stdout",
     "output_type": "stream",
     "text": [
      "0 :  1.1\n",
      "1 :  2.0\n",
      "2 :  3.0\n",
      "3 :  4.0\n"
     ]
    }
   ],
   "source": [
    "import numpy as np\n",
    "ARRAY=np.array([1.1,2,3,4])\n",
    "for index,item in enumerate(ARRAY):\n",
    "    print(index,': ',item)"
   ]
  },
  {
   "cell_type": "code",
   "execution_count": null,
   "id": "a162e187",
   "metadata": {},
   "outputs": [],
   "source": []
  }
 ],
 "metadata": {
  "kernelspec": {
   "display_name": "Python 3 (ipykernel)",
   "language": "python",
   "name": "python3"
  },
  "language_info": {
   "codemirror_mode": {
    "name": "ipython",
    "version": 3
   },
   "file_extension": ".py",
   "mimetype": "text/x-python",
   "name": "python",
   "nbconvert_exporter": "python",
   "pygments_lexer": "ipython3",
   "version": "3.7.3"
  }
 },
 "nbformat": 4,
 "nbformat_minor": 5
}

{
 "cells": [
  {
   "cell_type": "code",
   "execution_count": 1,
   "id": "5f40a7b1",
   "metadata": {},
   "outputs": [
    {
     "name": "stdout",
     "output_type": "stream",
     "text": [
      "[-10   0  10]\n",
      "[-10   0  10]\n"
     ]
    }
   ],
   "source": [
    "import numpy as np\n",
    "x=np.array([-10,0,10])\n",
    "p=np.array([0.1,0.4,0.5])\n",
    "print(x)\n",
    "print(x)"
   ]
  },
  {
   "cell_type": "code",
   "execution_count": 2,
   "id": "4d056f07",
   "metadata": {},
   "outputs": [
    {
     "data": {
      "text/plain": [
       "4.0"
      ]
     },
     "execution_count": 2,
     "metadata": {},
     "output_type": "execute_result"
    }
   ],
   "source": [
    "np.inner(x,p)"
   ]
  },
  {
   "cell_type": "code",
   "execution_count": 3,
   "id": "826ac001",
   "metadata": {},
   "outputs": [
    {
     "data": {
      "text/plain": [
       "4.0"
      ]
     },
     "execution_count": 3,
     "metadata": {},
     "output_type": "execute_result"
    }
   ],
   "source": [
    "#XT=[x1,x2.....xn](1*eliments or n)\n",
    "#p=[p1,p2...pn]\n",
    "#X Transpose*p=(x1p1+x2p2.....xnpn)\n",
    "(-10*0.1)+(0*0.4)+(10*0.5)"
   ]
  },
  {
   "cell_type": "code",
   "execution_count": 4,
   "id": "a9b63224",
   "metadata": {},
   "outputs": [
    {
     "data": {
      "text/plain": [
       "1.0"
      ]
     },
     "execution_count": 4,
     "metadata": {},
     "output_type": "execute_result"
    }
   ],
   "source": [
    "#1T=[1,1....1]\n",
    "ones=np.array([1,1,1])\n",
    "np.inner(ones,p)"
   ]
  },
  {
   "cell_type": "code",
   "execution_count": 5,
   "id": "85e0da28",
   "metadata": {},
   "outputs": [
    {
     "data": {
      "text/plain": [
       "1.0"
      ]
     },
     "execution_count": 5,
     "metadata": {},
     "output_type": "execute_result"
    }
   ],
   "source": [
    "#1 transposeT*p=[p1+p2...+93]\n",
    "0.1+0.4+0.5"
   ]
  },
  {
   "cell_type": "code",
   "execution_count": 6,
   "id": "55a7c156",
   "metadata": {},
   "outputs": [
    {
     "data": {
      "text/plain": [
       "0.3333333333333333"
      ]
     },
     "execution_count": 6,
     "metadata": {},
     "output_type": "execute_result"
    }
   ],
   "source": [
    "#1 Transpose/n=p1+p2....p3/n\n",
    "np.inner(ones,p)/p.shape[0]"
   ]
  },
  {
   "cell_type": "code",
   "execution_count": 7,
   "id": "da9dd6b2",
   "metadata": {},
   "outputs": [
    {
     "data": {
      "text/plain": [
       "200"
      ]
     },
     "execution_count": 7,
     "metadata": {},
     "output_type": "execute_result"
    }
   ],
   "source": [
    "#X Transpose*x=X1^2+X^2+...+xn^3\n",
    "x@x"
   ]
  },
  {
   "cell_type": "code",
   "execution_count": 8,
   "id": "dd1737fa",
   "metadata": {},
   "outputs": [
    {
     "data": {
      "text/plain": [
       "201"
      ]
     },
     "execution_count": 8,
     "metadata": {},
     "output_type": "execute_result"
    }
   ],
   "source": [
    "(-10*-10)+(0**0)+(10*10)"
   ]
  },
  {
   "cell_type": "code",
   "execution_count": null,
   "id": "361a14e9",
   "metadata": {},
   "outputs": [],
   "source": []
  }
 ],
 "metadata": {
  "kernelspec": {
   "display_name": "Python 3 (ipykernel)",
   "language": "python",
   "name": "python3"
  },
  "language_info": {
   "codemirror_mode": {
    "name": "ipython",
    "version": 3
   },
   "file_extension": ".py",
   "mimetype": "text/x-python",
   "name": "python",
   "nbconvert_exporter": "python",
   "pygments_lexer": "ipython3",
   "version": "3.7.3"
  }
 },
 "nbformat": 4,
 "nbformat_minor": 5
}

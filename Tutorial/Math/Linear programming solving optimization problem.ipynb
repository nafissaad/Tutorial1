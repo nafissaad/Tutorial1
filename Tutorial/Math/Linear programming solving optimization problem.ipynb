{
 "cells": [
  {
   "cell_type": "code",
   "execution_count": 1,
   "id": "ec558fef",
   "metadata": {},
   "outputs": [],
   "source": [
    "import numpy as np\n",
    "from scipy.optimize import minimize"
   ]
  },
  {
   "cell_type": "code",
   "execution_count": 2,
   "id": "dcc33bae",
   "metadata": {},
   "outputs": [],
   "source": [
    "def objective(x):\n",
    "    x1=x[0]\n",
    "    x2=x[1]\n",
    "    x3=x[2]\n",
    "    x4=x[3]\n",
    "    return -1*(x1*x4*(x1+x2+x3)+x3)#multily -1 to reverse the function "
   ]
  },
  {
   "cell_type": "code",
   "execution_count": 3,
   "id": "e2621c7f",
   "metadata": {},
   "outputs": [],
   "source": [
    "def constaint1(x):\n",
    "    return x[0]*x[1]*x[2]*x[3]-25.0"
   ]
  },
  {
   "cell_type": "code",
   "execution_count": 4,
   "id": "9a927882",
   "metadata": {},
   "outputs": [],
   "source": [
    "def constaint2(x):\n",
    "    sum_sq=40\n",
    "    for i in range(4):\n",
    "        sum_sq=sum_sq-x[i]**2\n",
    "    return sum_sq"
   ]
  },
  {
   "cell_type": "code",
   "execution_count": 5,
   "id": "31032d86",
   "metadata": {},
   "outputs": [
    {
     "data": {
      "text/plain": [
       "[1, 5, 5, 1]"
      ]
     },
     "execution_count": 5,
     "metadata": {},
     "output_type": "execute_result"
    }
   ],
   "source": [
    "x0=[1,5,5,1]\n",
    "x0"
   ]
  },
  {
   "cell_type": "code",
   "execution_count": 6,
   "id": "ad4842a8",
   "metadata": {},
   "outputs": [
    {
     "name": "stdout",
     "output_type": "stream",
     "text": [
      "16\n"
     ]
    }
   ],
   "source": [
    "print(objective(x0))"
   ]
  },
  {
   "cell_type": "code",
   "execution_count": 7,
   "id": "267e9053",
   "metadata": {},
   "outputs": [],
   "source": [
    "b=(1.0,10.0)\n",
    "bnds=(b,b,b,b)\n",
    "con1={'type':'ineq','fun':constaint1}\n",
    "con2={'type':'eq','fun':constaint2}\n",
    "cons=[con1,con2]"
   ]
  },
  {
   "cell_type": "code",
   "execution_count": 8,
   "id": "65e601ba",
   "metadata": {},
   "outputs": [
    {
     "data": {
      "text/plain": [
       "     fun: 17.01401724563517\n",
       "     jac: array([14.57227015,  1.37940764,  2.37940764,  9.56415057])\n",
       " message: 'Optimization terminated successfully'\n",
       "    nfev: 25\n",
       "     nit: 5\n",
       "    njev: 5\n",
       "  status: 0\n",
       " success: True\n",
       "       x: array([1.        , 4.7429961 , 3.82115462, 1.37940765])"
      ]
     },
     "execution_count": 8,
     "metadata": {},
     "output_type": "execute_result"
    }
   ],
   "source": [
    "sol=minimize(objective,x0,method='SLSQP',bounds=bnds, constraints=cons)\n",
    "sol"
   ]
  },
  {
   "cell_type": "code",
   "execution_count": 9,
   "id": "3ec67ddd",
   "metadata": {},
   "outputs": [
    {
     "data": {
      "text/plain": [
       "15.095628073517851"
      ]
     },
     "execution_count": 9,
     "metadata": {},
     "output_type": "execute_result"
    }
   ],
   "source": [
    "sol['x'][0]*sol['x'][3]*(sol['x'][1]+sol['x'][2]+sol['x'][3])+sol['x'][3]"
   ]
  },
  {
   "cell_type": "code",
   "execution_count": 10,
   "id": "d5f3cd3a",
   "metadata": {},
   "outputs": [
    {
     "data": {
      "text/plain": [
       "24.99999994523914"
      ]
     },
     "execution_count": 10,
     "metadata": {},
     "output_type": "execute_result"
    }
   ],
   "source": [
    "sol['x'][0]*sol['x'][1]*sol['x'][2]*sol['x'][3]"
   ]
  },
  {
   "cell_type": "code",
   "execution_count": 11,
   "id": "8689f05b",
   "metadata": {},
   "outputs": [
    {
     "data": {
      "text/plain": [
       "40.00000008235324"
      ]
     },
     "execution_count": 11,
     "metadata": {},
     "output_type": "execute_result"
    }
   ],
   "source": [
    "sol['x'][0]**2+sol['x'][1]**2+sol['x'][2]**2+sol['x'][3]**2"
   ]
  },
  {
   "cell_type": "code",
   "execution_count": 12,
   "id": "41eb7d16",
   "metadata": {},
   "outputs": [],
   "source": [
    "def objective(x):\n",
    "    x1 = x[0]\n",
    "    x2 = x[1]\n",
    "    return (x1**2+x1*x2)"
   ]
  },
  {
   "cell_type": "code",
   "execution_count": 13,
   "id": "df68a266",
   "metadata": {},
   "outputs": [],
   "source": [
    "def constaint1(x):\n",
    "        return x[0]**3+x[0]*x[1]-100"
   ]
  },
  {
   "cell_type": "code",
   "execution_count": 14,
   "id": "29352c41",
   "metadata": {},
   "outputs": [],
   "source": [
    "def constaint2(x):\n",
    "        return x[0]**3+x[0]*x[1]-50"
   ]
  },
  {
   "cell_type": "code",
   "execution_count": 15,
   "id": "b7d35a7d",
   "metadata": {},
   "outputs": [],
   "source": [
    "bounds_x1=(-100,100)\n",
    "bounds_x2=(-100,100)\n",
    "\n",
    "bnds=(bounds_x1,bounds_x2)\n",
    "con1={'type':'eq','fun':constaint1}\n",
    "con2={'type':'ineq','fun':constaint1}\n",
    "cons=[con1,con2]"
   ]
  },
  {
   "cell_type": "code",
   "execution_count": 16,
   "id": "da7bc929",
   "metadata": {},
   "outputs": [
    {
     "data": {
      "text/plain": [
       "[1, 1]"
      ]
     },
     "execution_count": 16,
     "metadata": {},
     "output_type": "execute_result"
    }
   ],
   "source": [
    "x0=[1,1]\n",
    "x0"
   ]
  },
  {
   "cell_type": "code",
   "execution_count": 17,
   "id": "759c7904",
   "metadata": {},
   "outputs": [
    {
     "name": "stdout",
     "output_type": "stream",
     "text": [
      "2\n"
     ]
    }
   ],
   "source": [
    "print(objective(x0))"
   ]
  },
  {
   "cell_type": "code",
   "execution_count": 18,
   "id": "ed5facdc",
   "metadata": {},
   "outputs": [
    {
     "data": {
      "text/plain": [
       "     fun: 99.32579084820482\n",
       "     jac: array([74.23889065,  1.36294365])\n",
       " message: 'Optimization terminated successfully'\n",
       "    nfev: 31\n",
       "     nit: 8\n",
       "    njev: 8\n",
       "  status: 0\n",
       " success: True\n",
       "       x: array([ 1.36294345, 71.51300058])"
      ]
     },
     "execution_count": 18,
     "metadata": {},
     "output_type": "execute_result"
    }
   ],
   "source": [
    "sol=minimize(objective,x0,method='SLSQP',bounds=bnds, constraints=cons)\n",
    "sol"
   ]
  },
  {
   "cell_type": "code",
   "execution_count": 19,
   "id": "b5c43cb6",
   "metadata": {},
   "outputs": [
    {
     "data": {
      "text/plain": [
       "99.99999999999906"
      ]
     },
     "execution_count": 19,
     "metadata": {},
     "output_type": "execute_result"
    }
   ],
   "source": [
    "sol['x'][0]**3+sol['x'][0]*sol['x'][1]"
   ]
  },
  {
   "cell_type": "code",
   "execution_count": 20,
   "id": "57202c95",
   "metadata": {},
   "outputs": [
    {
     "data": {
      "text/plain": [
       "99.32579084820482"
      ]
     },
     "execution_count": 20,
     "metadata": {},
     "output_type": "execute_result"
    }
   ],
   "source": [
    "sol['x'][0]**2+sol['x'][0]*sol['x'][1]"
   ]
  },
  {
   "cell_type": "code",
   "execution_count": 21,
   "id": "2589ed57",
   "metadata": {},
   "outputs": [
    {
     "data": {
      "text/plain": [
       "361.1"
      ]
     },
     "execution_count": 21,
     "metadata": {},
     "output_type": "execute_result"
    }
   ],
   "source": [
    "2.9*42+1.9*47+2.5*60"
   ]
  }
 ],
 "metadata": {
  "kernelspec": {
   "display_name": "Python 3 (ipykernel)",
   "language": "python",
   "name": "python3"
  },
  "language_info": {
   "codemirror_mode": {
    "name": "ipython",
    "version": 3
   },
   "file_extension": ".py",
   "mimetype": "text/x-python",
   "name": "python",
   "nbconvert_exporter": "python",
   "pygments_lexer": "ipython3",
   "version": "3.7.3"
  }
 },
 "nbformat": 4,
 "nbformat_minor": 5
}

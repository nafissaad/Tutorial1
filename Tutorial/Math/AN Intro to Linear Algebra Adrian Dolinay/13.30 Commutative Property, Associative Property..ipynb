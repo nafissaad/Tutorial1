{
 "cells": [
  {
   "cell_type": "code",
   "execution_count": 1,
   "id": "a687a46a",
   "metadata": {},
   "outputs": [],
   "source": [
    "import numpy as np\n",
    "import matplotlib.pyplot as plt\n",
    "from scipy import stats"
   ]
  },
  {
   "cell_type": "code",
   "execution_count": 2,
   "id": "50466ad5",
   "metadata": {},
   "outputs": [],
   "source": [
    "plt.rcParams['figure.figsize']=(10,10)\n",
    "plt.rcParams.update({'font.size' : 14})"
   ]
  },
  {
   "cell_type": "code",
   "execution_count": 3,
   "id": "dbcffdd2",
   "metadata": {},
   "outputs": [],
   "source": [
    "x=np.array([[1,3,1],\n",
    "           [1,0,0]])\n",
    "y=np.array([[0,0],\n",
    "           [7,5],\n",
    "           [1,1]])"
   ]
  },
  {
   "cell_type": "code",
   "execution_count": 4,
   "id": "e8af566e",
   "metadata": {},
   "outputs": [
    {
     "name": "stdout",
     "output_type": "stream",
     "text": [
      "[[1 3 1]\n",
      " [1 0 0]]\n"
     ]
    }
   ],
   "source": [
    "print(x)"
   ]
  },
  {
   "cell_type": "code",
   "execution_count": 5,
   "id": "4f9891bc",
   "metadata": {},
   "outputs": [
    {
     "name": "stdout",
     "output_type": "stream",
     "text": [
      "(2, 3)\n"
     ]
    }
   ],
   "source": [
    "print(x.shape)"
   ]
  },
  {
   "cell_type": "code",
   "execution_count": 6,
   "id": "309d033a",
   "metadata": {},
   "outputs": [
    {
     "name": "stdout",
     "output_type": "stream",
     "text": [
      "(2, 3)\n"
     ]
    }
   ],
   "source": [
    "print(x.shape)"
   ]
  },
  {
   "cell_type": "code",
   "execution_count": 7,
   "id": "001fc5e1",
   "metadata": {},
   "outputs": [
    {
     "name": "stdout",
     "output_type": "stream",
     "text": [
      "(3, 2)\n"
     ]
    }
   ],
   "source": [
    "print(y.shape)"
   ]
  },
  {
   "cell_type": "code",
   "execution_count": 8,
   "id": "bc62d6bc",
   "metadata": {},
   "outputs": [
    {
     "ename": "ValueError",
     "evalue": "operands could not be broadcast together with shapes (2,3) (3,2) ",
     "output_type": "error",
     "traceback": [
      "\u001b[1;31m---------------------------------------------------------------------------\u001b[0m",
      "\u001b[1;31mValueError\u001b[0m                                Traceback (most recent call last)",
      "\u001b[1;32mC:\\Users\\NAFISS~1\\AppData\\Local\\Temp/ipykernel_3400/1525011898.py\u001b[0m in \u001b[0;36m<module>\u001b[1;34m\u001b[0m\n\u001b[1;32m----> 1\u001b[1;33m \u001b[0mx\u001b[0m\u001b[1;33m+\u001b[0m\u001b[0my\u001b[0m\u001b[1;33m\u001b[0m\u001b[1;33m\u001b[0m\u001b[0m\n\u001b[0m",
      "\u001b[1;31mValueError\u001b[0m: operands could not be broadcast together with shapes (2,3) (3,2) "
     ]
    }
   ],
   "source": [
    "x+y"
   ]
  },
  {
   "cell_type": "code",
   "execution_count": 9,
   "id": "d825d19a",
   "metadata": {},
   "outputs": [],
   "source": [
    "arr_1=np.array([[2,1,1],\n",
    "                [1,2,3]])\n",
    "arr_2=np.array([[0,2,3],\n",
    "               [4,0,0]])\n",
    "arr_3=np.array([[5,1,5],\n",
    "               [4,3,2]])"
   ]
  },
  {
   "cell_type": "code",
   "execution_count": 10,
   "id": "093932fd",
   "metadata": {},
   "outputs": [
    {
     "data": {
      "text/plain": [
       "array([[2, 3, 4],\n",
       "       [5, 2, 3]])"
      ]
     },
     "execution_count": 10,
     "metadata": {},
     "output_type": "execute_result"
    }
   ],
   "source": [
    "arr_1+arr_2"
   ]
  },
  {
   "cell_type": "code",
   "execution_count": 11,
   "id": "bc4d0ff1",
   "metadata": {},
   "outputs": [
    {
     "data": {
      "text/plain": [
       "array([[5, 3, 8],\n",
       "       [8, 3, 2]])"
      ]
     },
     "execution_count": 11,
     "metadata": {},
     "output_type": "execute_result"
    }
   ],
   "source": [
    "arr_2+arr_3"
   ]
  },
  {
   "cell_type": "code",
   "execution_count": 12,
   "id": "dc289624",
   "metadata": {},
   "outputs": [
    {
     "name": "stdout",
     "output_type": "stream",
     "text": [
      "Can only add matrices if their dimensions are same\n"
     ]
    }
   ],
   "source": [
    "try:\n",
    "    x+y\n",
    "except:\n",
    "    print('Can only add matrices if their dimensions are same')"
   ]
  },
  {
   "cell_type": "code",
   "execution_count": 13,
   "id": "df50707e",
   "metadata": {},
   "outputs": [
    {
     "data": {
      "text/plain": [
       "array([[ True,  True,  True],\n",
       "       [ True,  True,  True]])"
      ]
     },
     "execution_count": 13,
     "metadata": {},
     "output_type": "execute_result"
    }
   ],
   "source": [
    "#Cmmutative Property\n",
    "#x+y=y+x\n",
    "arr_1+arr_2==arr_2+arr_1"
   ]
  },
  {
   "cell_type": "code",
   "execution_count": 14,
   "id": "b2dd8e15",
   "metadata": {},
   "outputs": [
    {
     "data": {
      "text/plain": [
       "array([[ True,  True,  True],\n",
       "       [ True,  True,  True]])"
      ]
     },
     "execution_count": 14,
     "metadata": {},
     "output_type": "execute_result"
    }
   ],
   "source": [
    "#Associative Propertyt\n",
    "#(x+y)+z=x+(y+z)\n",
    "arr_1+arr_2+arr_3==arr_1+(arr_2+arr_3)"
   ]
  },
  {
   "cell_type": "code",
   "execution_count": 15,
   "id": "b271efb1",
   "metadata": {},
   "outputs": [],
   "source": [
    "v1=np.array([4,4])\n",
    "v2=np.array([-1,-2])"
   ]
  },
  {
   "cell_type": "code",
   "execution_count": 16,
   "id": "d8786933",
   "metadata": {},
   "outputs": [
    {
     "data": {
      "text/plain": [
       "Text(0.5, 1.0, 'Matrix Addition')"
      ]
     },
     "execution_count": 16,
     "metadata": {},
     "output_type": "execute_result"
    },
    {
     "data": {
      "image/png": "[encoded data removed]",
      "text/plain": [
       "<Figure size 720x720 with 1 Axes>"
      ]
     },
     "metadata": {
      "needs_background": "light"
     },
     "output_type": "display_data"
    }
   ],
   "source": [
    "#plot points\n",
    "plt.scatter([0,v1[0],v1[0]+v2[0]],[0,v1[1],v1[1]+v2[1]],color='red')\n",
    "plt.plot([0,v1[0],v1[0]+v2[0]],[0,v1[1],v1[1]+v2[1]],color='red')\n",
    "plt.grid()\n",
    "plt.xticks(np.arange(-2,7,1))\n",
    "plt.yticks(np.arange(-2,7,1))\n",
    "plt.axvline(x=0,color='black')\n",
    "plt.axhline(y=0,color='black')\n",
    "plt.title('Matrix Addition')"
   ]
  },
  {
   "cell_type": "code",
   "execution_count": 17,
   "id": "b2be2b7c",
   "metadata": {},
   "outputs": [
    {
     "data": {
      "text/plain": [
       "[0, 4, 3]"
      ]
     },
     "execution_count": 17,
     "metadata": {},
     "output_type": "execute_result"
    }
   ],
   "source": [
    "[0,v1[0],v1[0]+v2[0]]"
   ]
  },
  {
   "cell_type": "code",
   "execution_count": 18,
   "id": "0df470bf",
   "metadata": {},
   "outputs": [
    {
     "data": {
      "text/plain": [
       "[0, 4, 2]"
      ]
     },
     "execution_count": 18,
     "metadata": {},
     "output_type": "execute_result"
    }
   ],
   "source": [
    "[0,v1[1],v1[1]+v2[1]]"
   ]
  }
 ],
 "metadata": {
  "kernelspec": {
   "display_name": "Python 3 (ipykernel)",
   "language": "python",
   "name": "python3"
  },
  "language_info": {
   "codemirror_mode": {
    "name": "ipython",
    "version": 3
   },
   "file_extension": ".py",
   "mimetype": "text/x-python",
   "name": "python",
   "nbconvert_exporter": "python",
   "pygments_lexer": "ipython3",
   "version": "3.7.3"
  }
 },
 "nbformat": 4,
 "nbformat_minor": 5
}
